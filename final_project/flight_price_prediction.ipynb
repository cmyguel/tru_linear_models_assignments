{
 "cells": [
  {
   "cell_type": "markdown",
   "id": "20162243",
   "metadata": {},
   "source": [
    "# Flight Price Prediction\n",
    "\n",
    "References:\n",
    "- model selection: https://scikit-learn.org/stable/auto_examples/linear_model/plot_lasso_model_selection.html\n",
    "- learning paths: https://scikit-learn.org/stable/auto_examples/linear_model/plot_lasso_lasso_lars_elasticnet_path.html"
   ]
  },
  {
   "cell_type": "code",
   "execution_count": 1,
   "id": "d5d26eb9",
   "metadata": {},
   "outputs": [
    {
     "name": "stderr",
     "output_type": "stream",
     "text": [
      "c:\\Users\\AsusTUF\\anaconda3\\envs\\tru_linear_models_assignments\\Lib\\site-packages\\tqdm\\auto.py:21: TqdmWarning: IProgress not found. Please update jupyter and ipywidgets. See https://ipywidgets.readthedocs.io/en/stable/user_install.html\n",
      "  from .autonotebook import tqdm as notebook_tqdm\n"
     ]
    },
    {
     "data": {
      "text/html": [
       "\n",
       "            <div>\n",
       "                <ins><a href=\"https://ydata.ai/register\">Upgrade to ydata-sdk</a></ins>\n",
       "                <p>\n",
       "                    Improve your data and profiling with ydata-sdk, featuring data quality scoring, redundancy detection, outlier identification, text validation, and synthetic data generation.\n",
       "                </p>\n",
       "            </div>\n",
       "            "
      ],
      "text/plain": [
       "<IPython.core.display.HTML object>"
      ]
     },
     "metadata": {},
     "output_type": "display_data"
    }
   ],
   "source": [
    "from pathlib import Path\n",
    "import numpy as np\n",
    "import pandas as pd\n",
    "from ydata_profiling import ProfileReport\n",
    "\n",
    "import seaborn as sns\n",
    "import matplotlib.pyplot as plt\n",
    "import plotly.express as px\n",
    "\n",
    "import statsmodels.api as sm\n",
    "import statsmodels.formula.api as smf\n",
    "from statsmodels.stats.stattools import durbin_watson\n",
    "\n",
    "from sklearn.model_selection import train_test_split\n",
    "from sklearn.pipeline import make_pipeline, Pipeline\n",
    "from sklearn.compose import ColumnTransformer\n",
    "from sklearn.preprocessing import StandardScaler\n",
    "from sklearn.linear_model import Lasso, LassoCV\n",
    "from sklearn.metrics import r2_score, mean_squared_error, mean_absolute_error, root_mean_squared_error"
   ]
  },
  {
   "cell_type": "code",
   "execution_count": 2,
   "id": "14239277",
   "metadata": {},
   "outputs": [],
   "source": [
    "pd.set_option('display.max_columns', 50)\n",
    "\n",
    "SIMPLIFIED_PLOTS = True\n",
    "PLOT_SUMSAMPLE = 2000 # Used for heavy plots like scatter"
   ]
  },
  {
   "cell_type": "code",
   "execution_count": 3,
   "id": "74402378-599c-4bc0-85a4-f99a371b7367",
   "metadata": {},
   "outputs": [
    {
     "data": {
      "text/html": [
       "<div>\n",
       "<style scoped>\n",
       "    .dataframe tbody tr th:only-of-type {\n",
       "        vertical-align: middle;\n",
       "    }\n",
       "\n",
       "    .dataframe tbody tr th {\n",
       "        vertical-align: top;\n",
       "    }\n",
       "\n",
       "    .dataframe thead th {\n",
       "        text-align: right;\n",
       "    }\n",
       "</style>\n",
       "<table border=\"1\" class=\"dataframe\">\n",
       "  <thead>\n",
       "    <tr style=\"text-align: right;\">\n",
       "      <th></th>\n",
       "      <th>airline</th>\n",
       "      <th>flight</th>\n",
       "      <th>source_city</th>\n",
       "      <th>departure_time</th>\n",
       "      <th>stops</th>\n",
       "      <th>arrival_time</th>\n",
       "      <th>destination_city</th>\n",
       "      <th>class</th>\n",
       "      <th>duration</th>\n",
       "      <th>days_left</th>\n",
       "      <th>price</th>\n",
       "    </tr>\n",
       "  </thead>\n",
       "  <tbody>\n",
       "    <tr>\n",
       "      <th>0</th>\n",
       "      <td>SpiceJet</td>\n",
       "      <td>SG-8709</td>\n",
       "      <td>Delhi</td>\n",
       "      <td>Evening</td>\n",
       "      <td>zero</td>\n",
       "      <td>Night</td>\n",
       "      <td>Mumbai</td>\n",
       "      <td>Economy</td>\n",
       "      <td>2.17</td>\n",
       "      <td>1</td>\n",
       "      <td>5953</td>\n",
       "    </tr>\n",
       "    <tr>\n",
       "      <th>1</th>\n",
       "      <td>SpiceJet</td>\n",
       "      <td>SG-8157</td>\n",
       "      <td>Delhi</td>\n",
       "      <td>Early_Morning</td>\n",
       "      <td>zero</td>\n",
       "      <td>Morning</td>\n",
       "      <td>Mumbai</td>\n",
       "      <td>Economy</td>\n",
       "      <td>2.33</td>\n",
       "      <td>1</td>\n",
       "      <td>5953</td>\n",
       "    </tr>\n",
       "    <tr>\n",
       "      <th>2</th>\n",
       "      <td>AirAsia</td>\n",
       "      <td>I5-764</td>\n",
       "      <td>Delhi</td>\n",
       "      <td>Early_Morning</td>\n",
       "      <td>zero</td>\n",
       "      <td>Early_Morning</td>\n",
       "      <td>Mumbai</td>\n",
       "      <td>Economy</td>\n",
       "      <td>2.17</td>\n",
       "      <td>1</td>\n",
       "      <td>5956</td>\n",
       "    </tr>\n",
       "    <tr>\n",
       "      <th>3</th>\n",
       "      <td>Vistara</td>\n",
       "      <td>UK-995</td>\n",
       "      <td>Delhi</td>\n",
       "      <td>Morning</td>\n",
       "      <td>zero</td>\n",
       "      <td>Afternoon</td>\n",
       "      <td>Mumbai</td>\n",
       "      <td>Economy</td>\n",
       "      <td>2.25</td>\n",
       "      <td>1</td>\n",
       "      <td>5955</td>\n",
       "    </tr>\n",
       "    <tr>\n",
       "      <th>4</th>\n",
       "      <td>Vistara</td>\n",
       "      <td>UK-963</td>\n",
       "      <td>Delhi</td>\n",
       "      <td>Morning</td>\n",
       "      <td>zero</td>\n",
       "      <td>Morning</td>\n",
       "      <td>Mumbai</td>\n",
       "      <td>Economy</td>\n",
       "      <td>2.33</td>\n",
       "      <td>1</td>\n",
       "      <td>5955</td>\n",
       "    </tr>\n",
       "    <tr>\n",
       "      <th>...</th>\n",
       "      <td>...</td>\n",
       "      <td>...</td>\n",
       "      <td>...</td>\n",
       "      <td>...</td>\n",
       "      <td>...</td>\n",
       "      <td>...</td>\n",
       "      <td>...</td>\n",
       "      <td>...</td>\n",
       "      <td>...</td>\n",
       "      <td>...</td>\n",
       "      <td>...</td>\n",
       "    </tr>\n",
       "    <tr>\n",
       "      <th>300148</th>\n",
       "      <td>Vistara</td>\n",
       "      <td>UK-822</td>\n",
       "      <td>Chennai</td>\n",
       "      <td>Morning</td>\n",
       "      <td>one</td>\n",
       "      <td>Evening</td>\n",
       "      <td>Hyderabad</td>\n",
       "      <td>Business</td>\n",
       "      <td>10.08</td>\n",
       "      <td>49</td>\n",
       "      <td>69265</td>\n",
       "    </tr>\n",
       "    <tr>\n",
       "      <th>300149</th>\n",
       "      <td>Vistara</td>\n",
       "      <td>UK-826</td>\n",
       "      <td>Chennai</td>\n",
       "      <td>Afternoon</td>\n",
       "      <td>one</td>\n",
       "      <td>Night</td>\n",
       "      <td>Hyderabad</td>\n",
       "      <td>Business</td>\n",
       "      <td>10.42</td>\n",
       "      <td>49</td>\n",
       "      <td>77105</td>\n",
       "    </tr>\n",
       "    <tr>\n",
       "      <th>300150</th>\n",
       "      <td>Vistara</td>\n",
       "      <td>UK-832</td>\n",
       "      <td>Chennai</td>\n",
       "      <td>Early_Morning</td>\n",
       "      <td>one</td>\n",
       "      <td>Night</td>\n",
       "      <td>Hyderabad</td>\n",
       "      <td>Business</td>\n",
       "      <td>13.83</td>\n",
       "      <td>49</td>\n",
       "      <td>79099</td>\n",
       "    </tr>\n",
       "    <tr>\n",
       "      <th>300151</th>\n",
       "      <td>Vistara</td>\n",
       "      <td>UK-828</td>\n",
       "      <td>Chennai</td>\n",
       "      <td>Early_Morning</td>\n",
       "      <td>one</td>\n",
       "      <td>Evening</td>\n",
       "      <td>Hyderabad</td>\n",
       "      <td>Business</td>\n",
       "      <td>10.00</td>\n",
       "      <td>49</td>\n",
       "      <td>81585</td>\n",
       "    </tr>\n",
       "    <tr>\n",
       "      <th>300152</th>\n",
       "      <td>Vistara</td>\n",
       "      <td>UK-822</td>\n",
       "      <td>Chennai</td>\n",
       "      <td>Morning</td>\n",
       "      <td>one</td>\n",
       "      <td>Evening</td>\n",
       "      <td>Hyderabad</td>\n",
       "      <td>Business</td>\n",
       "      <td>10.08</td>\n",
       "      <td>49</td>\n",
       "      <td>81585</td>\n",
       "    </tr>\n",
       "  </tbody>\n",
       "</table>\n",
       "<p>300153 rows × 11 columns</p>\n",
       "</div>"
      ],
      "text/plain": [
       "         airline   flight source_city departure_time stops   arrival_time  \\\n",
       "0       SpiceJet  SG-8709       Delhi        Evening  zero          Night   \n",
       "1       SpiceJet  SG-8157       Delhi  Early_Morning  zero        Morning   \n",
       "2        AirAsia   I5-764       Delhi  Early_Morning  zero  Early_Morning   \n",
       "3        Vistara   UK-995       Delhi        Morning  zero      Afternoon   \n",
       "4        Vistara   UK-963       Delhi        Morning  zero        Morning   \n",
       "...          ...      ...         ...            ...   ...            ...   \n",
       "300148   Vistara   UK-822     Chennai        Morning   one        Evening   \n",
       "300149   Vistara   UK-826     Chennai      Afternoon   one          Night   \n",
       "300150   Vistara   UK-832     Chennai  Early_Morning   one          Night   \n",
       "300151   Vistara   UK-828     Chennai  Early_Morning   one        Evening   \n",
       "300152   Vistara   UK-822     Chennai        Morning   one        Evening   \n",
       "\n",
       "       destination_city     class  duration  days_left  price  \n",
       "0                Mumbai   Economy      2.17          1   5953  \n",
       "1                Mumbai   Economy      2.33          1   5953  \n",
       "2                Mumbai   Economy      2.17          1   5956  \n",
       "3                Mumbai   Economy      2.25          1   5955  \n",
       "4                Mumbai   Economy      2.33          1   5955  \n",
       "...                 ...       ...       ...        ...    ...  \n",
       "300148        Hyderabad  Business     10.08         49  69265  \n",
       "300149        Hyderabad  Business     10.42         49  77105  \n",
       "300150        Hyderabad  Business     13.83         49  79099  \n",
       "300151        Hyderabad  Business     10.00         49  81585  \n",
       "300152        Hyderabad  Business     10.08         49  81585  \n",
       "\n",
       "[300153 rows x 11 columns]"
      ]
     },
     "execution_count": 3,
     "metadata": {},
     "output_type": "execute_result"
    }
   ],
   "source": [
    "df_raw = pd.read_csv(\"./data/Clean_Dataset.csv\", index_col=0)\n",
    "df_raw_sample = df_raw.sample(n=PLOT_SUMSAMPLE)\n",
    "df_raw "
   ]
  },
  {
   "cell_type": "markdown",
   "id": "6cc5d673",
   "metadata": {},
   "source": [
    "## A: Exploratory Data Analysis\n",
    "- Top 5 Highest correlation predictors: class, duration, days_left, stops, airline\n",
    "- Target: Bimodal due to classes. \n",
    "- duration class:Business: Log, heteroskedasticity \n",
    "- duration class:Economy: Linear, heteroskedasticity\n",
    "- days_left class:economy: 1/x"
   ]
  },
  {
   "cell_type": "code",
   "execution_count": 4,
   "id": "1ec3f453",
   "metadata": {},
   "outputs": [],
   "source": [
    "# Create EDA report IF it doesn't exist\n",
    "path_eda_report = Path(\"EDA/profiling_report.html\")\n",
    "path_eda_report.parent.mkdir(exist_ok=True)\n",
    "if not path_eda_report.exists():\n",
    "    profile = ProfileReport(df_raw, title=\"Profiling Report\")\n",
    "    profile.to_file(path_eda_report)"
   ]
  },
  {
   "cell_type": "code",
   "execution_count": 5,
   "id": "a584b792",
   "metadata": {},
   "outputs": [
    {
     "data": {
      "text/html": [
       "<div>\n",
       "<style scoped>\n",
       "    .dataframe tbody tr th:only-of-type {\n",
       "        vertical-align: middle;\n",
       "    }\n",
       "\n",
       "    .dataframe tbody tr th {\n",
       "        vertical-align: top;\n",
       "    }\n",
       "\n",
       "    .dataframe thead th {\n",
       "        text-align: right;\n",
       "    }\n",
       "</style>\n",
       "<table border=\"1\" class=\"dataframe\">\n",
       "  <thead>\n",
       "    <tr style=\"text-align: right;\">\n",
       "      <th></th>\n",
       "      <th>duration</th>\n",
       "      <th>days_left</th>\n",
       "      <th>price</th>\n",
       "    </tr>\n",
       "  </thead>\n",
       "  <tbody>\n",
       "    <tr>\n",
       "      <th>count</th>\n",
       "      <td>300153.000000</td>\n",
       "      <td>300153.000000</td>\n",
       "      <td>300153.000000</td>\n",
       "    </tr>\n",
       "    <tr>\n",
       "      <th>mean</th>\n",
       "      <td>12.221021</td>\n",
       "      <td>26.004751</td>\n",
       "      <td>20889.660523</td>\n",
       "    </tr>\n",
       "    <tr>\n",
       "      <th>std</th>\n",
       "      <td>7.191997</td>\n",
       "      <td>13.561004</td>\n",
       "      <td>22697.767366</td>\n",
       "    </tr>\n",
       "    <tr>\n",
       "      <th>min</th>\n",
       "      <td>0.830000</td>\n",
       "      <td>1.000000</td>\n",
       "      <td>1105.000000</td>\n",
       "    </tr>\n",
       "    <tr>\n",
       "      <th>25%</th>\n",
       "      <td>6.830000</td>\n",
       "      <td>15.000000</td>\n",
       "      <td>4783.000000</td>\n",
       "    </tr>\n",
       "    <tr>\n",
       "      <th>50%</th>\n",
       "      <td>11.250000</td>\n",
       "      <td>26.000000</td>\n",
       "      <td>7425.000000</td>\n",
       "    </tr>\n",
       "    <tr>\n",
       "      <th>75%</th>\n",
       "      <td>16.170000</td>\n",
       "      <td>38.000000</td>\n",
       "      <td>42521.000000</td>\n",
       "    </tr>\n",
       "    <tr>\n",
       "      <th>max</th>\n",
       "      <td>49.830000</td>\n",
       "      <td>49.000000</td>\n",
       "      <td>123071.000000</td>\n",
       "    </tr>\n",
       "  </tbody>\n",
       "</table>\n",
       "</div>"
      ],
      "text/plain": [
       "            duration      days_left          price\n",
       "count  300153.000000  300153.000000  300153.000000\n",
       "mean       12.221021      26.004751   20889.660523\n",
       "std         7.191997      13.561004   22697.767366\n",
       "min         0.830000       1.000000    1105.000000\n",
       "25%         6.830000      15.000000    4783.000000\n",
       "50%        11.250000      26.000000    7425.000000\n",
       "75%        16.170000      38.000000   42521.000000\n",
       "max        49.830000      49.000000  123071.000000"
      ]
     },
     "execution_count": 5,
     "metadata": {},
     "output_type": "execute_result"
    }
   ],
   "source": [
    "df_raw.describe()"
   ]
  },
  {
   "cell_type": "code",
   "execution_count": null,
   "id": "6985d759",
   "metadata": {},
   "outputs": [],
   "source": [
    "px.histogram(df_raw, x=\"price\", color=\"class\", width=1200, height=600, barmode=\"overlay\", opacity=0.8)\n",
    "# px.update_layout( width=1200, height=500)\n",
    "# df_raw.price.hist(bins=20)"
   ]
  },
  {
   "cell_type": "code",
   "execution_count": null,
   "id": "335a10da",
   "metadata": {},
   "outputs": [],
   "source": [
    "px.histogram(df_raw, x=\"duration\", color=\"class\", width=1200, height=600, barmode=\"overlay\", opacity=0.8)\n",
    "# px.update_layout( width=1200, height=500)\n",
    "# df_raw.price.hist(bins=20)"
   ]
  },
  {
   "cell_type": "code",
   "execution_count": 7,
   "id": "0764bb25",
   "metadata": {},
   "outputs": [
    {
     "data": {
      "application/vnd.plotly.v1+json": {
       "config": {
        "plotlyServerURL": "https://plot.ly"
       },
       "data": [
        {
         "hovertemplate": "class=Economy<br>days_left=%{x}<br>price=%{y}<extra></extra>",
         "legendgroup": "Economy",
         "marker": {
          "color": "#636efa",
          "symbol": "circle"
         },
         "mode": "markers",
         "name": "Economy",
         "showlegend": true,
         "type": "scattergl",
         "x": {
          "bdata": "HzAeJCwQGgogGQcZCCEQCSonHRAXHQMKHywXChcELiQNDysgKhIdBxwTIx4eGQMSFAMrLhwSCigqEQ4UGCwrGAwKHTAhCRIkHhAnIxUoHx4fFh0qGQUGDQgeEAIYIQoaIxoZByoxHRQpCg0xDgcZHB8hDhQQDCYCLzAgHhgLGhQHKhYaFSoiAxoPDRkLGh0IBRgmHBYQIB0sERsYLSAoAR8gJgkrJg0gEB4xKwInDQ0PKRYYJRkqJSUHChITEBQtBSARBhEgMR8LEC0gHw4eEQ0PDSsYLCQbBQkNCQMkFRYZDwEDFysWJRolKhkOFxkaJQciARMTCjEsCScFHB8PFCgKHygWCg0TEiItEhsaJScLCyoeIAkxGCgkJBotJx8uLhsHKAQaCB0FEjAiFyMSFS4YBCEKKwoQJwsmHAYeJyMYBjEuDCccHxUXCi4HBwcSHQgqAg8jIh0wJCYWFBAkFykHJCMQIgwwDhkZKB8cFxgIEhgTKywqIA0mICsMFykGLAMkFxkEKhkPJhkuMCkNHx4CJBQNMTEaLS4DGhgvHB4dESkGEygIJhwCKCkJIRIeAxcVLycgIi4aLxYOAS8QCCoVJwYtChETEycwLyMxMQgWJS0MGAsoIh4SFw4UERApIx4OGiccLSwFHx8WLiYrCyYBKx4jBQ0GER4oGwMSBwoXFBYIIR0wCAsPBhMjFh8HDiMgCyEXGAcIHzEaGAYjIiYcKgsaBxYvJhYoLy4gEg4fIhgRDigXARsfFyIIIxEjEwwhEScYDAoZERUfKhgeLRgfGR4wGREoGigYGxMmGSQgBy8HEDAtECAeLTEtLicSMDErKAwkKS8OMQsdCy4tIg0nDRAqFSsQKCgKBRsRCBIMIigOGwknIQwMBC8LKhUgJhETEysMJyEWLyIhCxEVHC0kFycOCSwQHCcjChYFKg4rAxUQGB8gLgIEDAUOFSYcEw4mEQQWJRsTLgkSFikWCiICFh0uICkuKyYeLQMBFC8ZFycSGQsdGQ4WEh8HGiANHBwGHxouCxALGxoZMBMIGRYMCBEDKQECKhsjLiEtEB0mKgwkFSgGMQQRJwsNHCcIFxcWDTEMBC8ZFBgoFxkVByAvASglJyMOBi8HFB4VIBUSGiAiFB8GKxQkGxYfMCMILAsrBgUqDSgTCBMrGBUpGhMwGwQLKBgMGQYUEi0GGysuBTEsKS8wKhccEAglDQgkICgcKBcxJiwKLxoKIgEnEgIIMRsYAyEmMCULIRwjLgcNBBYcKC0TGCQCCiYwGgUGIR8fICgjCgYgDgInICwnFyIDICYBBzEWEiIcHAYDFC0WBCUKJSsEHhcJCzEdBSkLGyoPHigvAxwIFB0GKCAJCQoGMCUEIQYQIywrChAPHRgcDR0TGhgjKS0lLhQjLDERGwsSGSAbGQ4REQkNJSAUCw8tLwwPLyYgJhUeFjAoMSkwFhMkMR4sKRQdBwgnFgcXCRAiLBsNHBEYHygkETACIyUJKicOHwwbAyAVGggHCQMxKgsSGyMwFiguGycJIAocAQYvFw4gCCAuBRcCHwglAw8aLQgvHA0ZMQosEhETKywqCgwuCg8hLRsPFzAYLyUlCQ4QCxgZJQcgBikcDSoJCSMhKS8bESsEKRghKxMsCBMuHSovLBovMRQdJyoYGS4lEwYrIwcSDCYUHhYDJxEOKgwUGgYfKBcXJgsfJQUjJAYsHwoKKAEXKyIMFgcILRcHIR4KDh4XExYGFgccAxUYDQ0FGg4NIycEGR8wIxYSBBkHGhciGS8XLRgtCzERJA0gKAwMKRUuFiAMDAgkHSIdKRYiCRw=",
          "dtype": "i1"
         },
         "xaxis": "x",
         "y": {
          "bdata": "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",
          "dtype": "i4"
         },
         "yaxis": "y"
        },
        {
         "hovertemplate": "class=Business<br>days_left=%{x}<br>price=%{y}<extra></extra>",
         "legendgroup": "Business",
         "marker": {
          "color": "#EF553B",
          "symbol": "circle"
         },
         "mode": "markers",
         "name": "Business",
         "showlegend": true,
         "type": "scattergl",
         "x": {
          "bdata": "ESsaIwQTIigsChkPBCkOCxgbDhgGIyYmAiINFRApHiogFR8XCBYIIxgWJhUREiMlLg4ECQokBCAEBhAZGB0YCAUCBBQqEQYQHRskBwgHHBsFAzEUHhQGJCArGCkrBw0kIRwZECAcFhkmHCcYECoNJSoILh0RCgYJLB0cBhQJJiwbIRQLGxQKFAYRCQUGMAcvKiUdBAwNMBQDKhYvHC8IIyAgFBYgHQgSBh4hFRYcJicLHy0LFRomFx8gBxIJLh8QFSYaFB0jLhMJIyQKAyUJHColDRgrKCoPBRwtKxsVLwgXHhAaBRQsAgQqKQcZHigEGCoJGBMZDxkHFRgHGh8TKywOHh4XLCUkHhQaGgIgAioFAyoQFh4oMBUKDx4vHAQNLS0iEQYjFi0SFAMNARkCChsXIQouGC4PDwYGDDAEHikLFigCIS0dJRAULRshFSIaIwYMEQ8XISsvExEIEC0EIwUxBggWJSQXKhEWLS4tLgkTFS0MGwkVAxAbJRMLDyciKiEZHggYJwcqGxIIGhYUExMCAzAGGAMjMQYbFAgoLiUFEhcHHAsZJy4qICcmHCgnGQ4rGg8vEhYZLgojDiAfFykiDBESCigKBxAeGzEdKyYWFhQnMQoVCh4HISoEJBAiDRQZAQIvKh8nDSMdCCQEJhwdFAUgLiUsIiMqFiEYGi0eJBYcFBMWEhwmHR4tFAcqGgkeDxQTLRQvBjEXEgYdGg8oCw8eMB4hLyIiByQUJxIiFCgxCyoXFwQQLgwVEgcQEAwKDg0fDBQaCBwNJggkMC8qFRktMAoMHQwcIxAUIy0tAgsjCCUHJRMiFxsUBRQoMA0hMRIXBjAUFQ0m",
          "dtype": "i1"
         },
         "xaxis": "x",
         "y": {
          "bdata": "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",
          "dtype": "i4"
         },
         "yaxis": "y"
        }
       ],
       "layout": {
        "height": 600,
        "legend": {
         "title": {
          "text": "class"
         },
         "tracegroupgap": 0
        },
        "margin": {
         "t": 60
        },
        "template": {
         "data": {
          "bar": [
           {
            "error_x": {
             "color": "#2a3f5f"
            },
            "error_y": {
             "color": "#2a3f5f"
            },
            "marker": {
             "line": {
              "color": "#E5ECF6",
              "width": 0.5
             },
             "pattern": {
              "fillmode": "overlay",
              "size": 10,
              "solidity": 0.2
             }
            },
            "type": "bar"
           }
          ],
          "barpolar": [
           {
            "marker": {
             "line": {
              "color": "#E5ECF6",
              "width": 0.5
             },
             "pattern": {
              "fillmode": "overlay",
              "size": 10,
              "solidity": 0.2
             }
            },
            "type": "barpolar"
           }
          ],
          "carpet": [
           {
            "aaxis": {
             "endlinecolor": "#2a3f5f",
             "gridcolor": "white",
             "linecolor": "white",
             "minorgridcolor": "white",
             "startlinecolor": "#2a3f5f"
            },
            "baxis": {
             "endlinecolor": "#2a3f5f",
             "gridcolor": "white",
             "linecolor": "white",
             "minorgridcolor": "white",
             "startlinecolor": "#2a3f5f"
            },
            "type": "carpet"
           }
          ],
          "choropleth": [
           {
            "colorbar": {
             "outlinewidth": 0,
             "ticks": ""
            },
            "type": "choropleth"
           }
          ],
          "contour": [
           {
            "colorbar": {
             "outlinewidth": 0,
             "ticks": ""
            },
            "colorscale": [
             [
              0,
              "#0d0887"
             ],
             [
              0.1111111111111111,
              "#46039f"
             ],
             [
              0.2222222222222222,
              "#7201a8"
             ],
             [
              0.3333333333333333,
              "#9c179e"
             ],
             [
              0.4444444444444444,
              "#bd3786"
             ],
             [
              0.5555555555555556,
              "#d8576b"
             ],
             [
              0.6666666666666666,
              "#ed7953"
             ],
             [
              0.7777777777777778,
              "#fb9f3a"
             ],
             [
              0.8888888888888888,
              "#fdca26"
             ],
             [
              1,
              "#f0f921"
             ]
            ],
            "type": "contour"
           }
          ],
          "contourcarpet": [
           {
            "colorbar": {
             "outlinewidth": 0,
             "ticks": ""
            },
            "type": "contourcarpet"
           }
          ],
          "heatmap": [
           {
            "colorbar": {
             "outlinewidth": 0,
             "ticks": ""
            },
            "colorscale": [
             [
              0,
              "#0d0887"
             ],
             [
              0.1111111111111111,
              "#46039f"
             ],
             [
              0.2222222222222222,
              "#7201a8"
             ],
             [
              0.3333333333333333,
              "#9c179e"
             ],
             [
              0.4444444444444444,
              "#bd3786"
             ],
             [
              0.5555555555555556,
              "#d8576b"
             ],
             [
              0.6666666666666666,
              "#ed7953"
             ],
             [
              0.7777777777777778,
              "#fb9f3a"
             ],
             [
              0.8888888888888888,
              "#fdca26"
             ],
             [
              1,
              "#f0f921"
             ]
            ],
            "type": "heatmap"
           }
          ],
          "histogram": [
           {
            "marker": {
             "pattern": {
              "fillmode": "overlay",
              "size": 10,
              "solidity": 0.2
             }
            },
            "type": "histogram"
           }
          ],
          "histogram2d": [
           {
            "colorbar": {
             "outlinewidth": 0,
             "ticks": ""
            },
            "colorscale": [
             [
              0,
              "#0d0887"
             ],
             [
              0.1111111111111111,
              "#46039f"
             ],
             [
              0.2222222222222222,
              "#7201a8"
             ],
             [
              0.3333333333333333,
              "#9c179e"
             ],
             [
              0.4444444444444444,
              "#bd3786"
             ],
             [
              0.5555555555555556,
              "#d8576b"
             ],
             [
              0.6666666666666666,
              "#ed7953"
             ],
             [
              0.7777777777777778,
              "#fb9f3a"
             ],
             [
              0.8888888888888888,
              "#fdca26"
             ],
             [
              1,
              "#f0f921"
             ]
            ],
            "type": "histogram2d"
           }
          ],
          "histogram2dcontour": [
           {
            "colorbar": {
             "outlinewidth": 0,
             "ticks": ""
            },
            "colorscale": [
             [
              0,
              "#0d0887"
             ],
             [
              0.1111111111111111,
              "#46039f"
             ],
             [
              0.2222222222222222,
              "#7201a8"
             ],
             [
              0.3333333333333333,
              "#9c179e"
             ],
             [
              0.4444444444444444,
              "#bd3786"
             ],
             [
              0.5555555555555556,
              "#d8576b"
             ],
             [
              0.6666666666666666,
              "#ed7953"
             ],
             [
              0.7777777777777778,
              "#fb9f3a"
             ],
             [
              0.8888888888888888,
              "#fdca26"
             ],
             [
              1,
              "#f0f921"
             ]
            ],
            "type": "histogram2dcontour"
           }
          ],
          "mesh3d": [
           {
            "colorbar": {
             "outlinewidth": 0,
             "ticks": ""
            },
            "type": "mesh3d"
           }
          ],
          "parcoords": [
           {
            "line": {
             "colorbar": {
              "outlinewidth": 0,
              "ticks": ""
             }
            },
            "type": "parcoords"
           }
          ],
          "pie": [
           {
            "automargin": true,
            "type": "pie"
           }
          ],
          "scatter": [
           {
            "fillpattern": {
             "fillmode": "overlay",
             "size": 10,
             "solidity": 0.2
            },
            "type": "scatter"
           }
          ],
          "scatter3d": [
           {
            "line": {
             "colorbar": {
              "outlinewidth": 0,
              "ticks": ""
             }
            },
            "marker": {
             "colorbar": {
              "outlinewidth": 0,
              "ticks": ""
             }
            },
            "type": "scatter3d"
           }
          ],
          "scattercarpet": [
           {
            "marker": {
             "colorbar": {
              "outlinewidth": 0,
              "ticks": ""
             }
            },
            "type": "scattercarpet"
           }
          ],
          "scattergeo": [
           {
            "marker": {
             "colorbar": {
              "outlinewidth": 0,
              "ticks": ""
             }
            },
            "type": "scattergeo"
           }
          ],
          "scattergl": [
           {
            "marker": {
             "colorbar": {
              "outlinewidth": 0,
              "ticks": ""
             }
            },
            "type": "scattergl"
           }
          ],
          "scattermap": [
           {
            "marker": {
             "colorbar": {
              "outlinewidth": 0,
              "ticks": ""
             }
            },
            "type": "scattermap"
           }
          ],
          "scattermapbox": [
           {
            "marker": {
             "colorbar": {
              "outlinewidth": 0,
              "ticks": ""
             }
            },
            "type": "scattermapbox"
           }
          ],
          "scatterpolar": [
           {
            "marker": {
             "colorbar": {
              "outlinewidth": 0,
              "ticks": ""
             }
            },
            "type": "scatterpolar"
           }
          ],
          "scatterpolargl": [
           {
            "marker": {
             "colorbar": {
              "outlinewidth": 0,
              "ticks": ""
             }
            },
            "type": "scatterpolargl"
           }
          ],
          "scatterternary": [
           {
            "marker": {
             "colorbar": {
              "outlinewidth": 0,
              "ticks": ""
             }
            },
            "type": "scatterternary"
           }
          ],
          "surface": [
           {
            "colorbar": {
             "outlinewidth": 0,
             "ticks": ""
            },
            "colorscale": [
             [
              0,
              "#0d0887"
             ],
             [
              0.1111111111111111,
              "#46039f"
             ],
             [
              0.2222222222222222,
              "#7201a8"
             ],
             [
              0.3333333333333333,
              "#9c179e"
             ],
             [
              0.4444444444444444,
              "#bd3786"
             ],
             [
              0.5555555555555556,
              "#d8576b"
             ],
             [
              0.6666666666666666,
              "#ed7953"
             ],
             [
              0.7777777777777778,
              "#fb9f3a"
             ],
             [
              0.8888888888888888,
              "#fdca26"
             ],
             [
              1,
              "#f0f921"
             ]
            ],
            "type": "surface"
           }
          ],
          "table": [
           {
            "cells": {
             "fill": {
              "color": "#EBF0F8"
             },
             "line": {
              "color": "white"
             }
            },
            "header": {
             "fill": {
              "color": "#C8D4E3"
             },
             "line": {
              "color": "white"
             }
            },
            "type": "table"
           }
          ]
         },
         "layout": {
          "annotationdefaults": {
           "arrowcolor": "#2a3f5f",
           "arrowhead": 0,
           "arrowwidth": 1
          },
          "autotypenumbers": "strict",
          "coloraxis": {
           "colorbar": {
            "outlinewidth": 0,
            "ticks": ""
           }
          },
          "colorscale": {
           "diverging": [
            [
             0,
             "#8e0152"
            ],
            [
             0.1,
             "#c51b7d"
            ],
            [
             0.2,
             "#de77ae"
            ],
            [
             0.3,
             "#f1b6da"
            ],
            [
             0.4,
             "#fde0ef"
            ],
            [
             0.5,
             "#f7f7f7"
            ],
            [
             0.6,
             "#e6f5d0"
            ],
            [
             0.7,
             "#b8e186"
            ],
            [
             0.8,
             "#7fbc41"
            ],
            [
             0.9,
             "#4d9221"
            ],
            [
             1,
             "#276419"
            ]
           ],
           "sequential": [
            [
             0,
             "#0d0887"
            ],
            [
             0.1111111111111111,
             "#46039f"
            ],
            [
             0.2222222222222222,
             "#7201a8"
            ],
            [
             0.3333333333333333,
             "#9c179e"
            ],
            [
             0.4444444444444444,
             "#bd3786"
            ],
            [
             0.5555555555555556,
             "#d8576b"
            ],
            [
             0.6666666666666666,
             "#ed7953"
            ],
            [
             0.7777777777777778,
             "#fb9f3a"
            ],
            [
             0.8888888888888888,
             "#fdca26"
            ],
            [
             1,
             "#f0f921"
            ]
           ],
           "sequentialminus": [
            [
             0,
             "#0d0887"
            ],
            [
             0.1111111111111111,
             "#46039f"
            ],
            [
             0.2222222222222222,
             "#7201a8"
            ],
            [
             0.3333333333333333,
             "#9c179e"
            ],
            [
             0.4444444444444444,
             "#bd3786"
            ],
            [
             0.5555555555555556,
             "#d8576b"
            ],
            [
             0.6666666666666666,
             "#ed7953"
            ],
            [
             0.7777777777777778,
             "#fb9f3a"
            ],
            [
             0.8888888888888888,
             "#fdca26"
            ],
            [
             1,
             "#f0f921"
            ]
           ]
          },
          "colorway": [
           "#636efa",
           "#EF553B",
           "#00cc96",
           "#ab63fa",
           "#FFA15A",
           "#19d3f3",
           "#FF6692",
           "#B6E880",
           "#FF97FF",
           "#FECB52"
          ],
          "font": {
           "color": "#2a3f5f"
          },
          "geo": {
           "bgcolor": "white",
           "lakecolor": "white",
           "landcolor": "#E5ECF6",
           "showlakes": true,
           "showland": true,
           "subunitcolor": "white"
          },
          "hoverlabel": {
           "align": "left"
          },
          "hovermode": "closest",
          "mapbox": {
           "style": "light"
          },
          "paper_bgcolor": "white",
          "plot_bgcolor": "#E5ECF6",
          "polar": {
           "angularaxis": {
            "gridcolor": "white",
            "linecolor": "white",
            "ticks": ""
           },
           "bgcolor": "#E5ECF6",
           "radialaxis": {
            "gridcolor": "white",
            "linecolor": "white",
            "ticks": ""
           }
          },
          "scene": {
           "xaxis": {
            "backgroundcolor": "#E5ECF6",
            "gridcolor": "white",
            "gridwidth": 2,
            "linecolor": "white",
            "showbackground": true,
            "ticks": "",
            "zerolinecolor": "white"
           },
           "yaxis": {
            "backgroundcolor": "#E5ECF6",
            "gridcolor": "white",
            "gridwidth": 2,
            "linecolor": "white",
            "showbackground": true,
            "ticks": "",
            "zerolinecolor": "white"
           },
           "zaxis": {
            "backgroundcolor": "#E5ECF6",
            "gridcolor": "white",
            "gridwidth": 2,
            "linecolor": "white",
            "showbackground": true,
            "ticks": "",
            "zerolinecolor": "white"
           }
          },
          "shapedefaults": {
           "line": {
            "color": "#2a3f5f"
           }
          },
          "ternary": {
           "aaxis": {
            "gridcolor": "white",
            "linecolor": "white",
            "ticks": ""
           },
           "baxis": {
            "gridcolor": "white",
            "linecolor": "white",
            "ticks": ""
           },
           "bgcolor": "#E5ECF6",
           "caxis": {
            "gridcolor": "white",
            "linecolor": "white",
            "ticks": ""
           }
          },
          "title": {
           "x": 0.05
          },
          "xaxis": {
           "automargin": true,
           "gridcolor": "white",
           "linecolor": "white",
           "ticks": "",
           "title": {
            "standoff": 15
           },
           "zerolinecolor": "white",
           "zerolinewidth": 2
          },
          "yaxis": {
           "automargin": true,
           "gridcolor": "white",
           "linecolor": "white",
           "ticks": "",
           "title": {
            "standoff": 15
           },
           "zerolinecolor": "white",
           "zerolinewidth": 2
          }
         }
        },
        "width": 1200,
        "xaxis": {
         "anchor": "y",
         "domain": [
          0,
          1
         ],
         "title": {
          "text": "days_left"
         }
        },
        "yaxis": {
         "anchor": "x",
         "domain": [
          0,
          1
         ],
         "title": {
          "text": "price"
         }
        }
       }
      }
     },
     "metadata": {},
     "output_type": "display_data"
    }
   ],
   "source": [
    "if SIMPLIFIED_PLOTS:\n",
    "    fig = px.scatter(df_raw_sample, x=\"days_left\", y=\"price\", color=\"class\")\n",
    "else: \n",
    "    fig = px.scatter(df_raw, x=\"days_left\", y=\"price\", color=\"class\", marginal_y=\"violin\", marginal_x=\"box\", trendline=\"ols\", template=\"simple_white\")\n",
    "\n",
    "fig.update_layout( width=1200, height=600)\n",
    "fig.show()"
   ]
  },
  {
   "cell_type": "code",
   "execution_count": 8,
   "id": "a22b2472",
   "metadata": {},
   "outputs": [
    {
     "data": {
      "application/vnd.plotly.v1+json": {
       "config": {
        "plotlyServerURL": "https://plot.ly"
       },
       "data": [
        {
         "hovertemplate": "class=Economy<br>duration=%{x}<br>price=%{y}<extra></extra>",
         "legendgroup": "Economy",
         "marker": {
          "color": "#636efa",
          "symbol": "circle"
         },
         "mode": "markers",
         "name": "Economy",
         "showlegend": true,
         "type": "scattergl",
         "x": {
          "bdata": "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",
          "dtype": "f8"
         },
         "xaxis": "x",
         "y": {
          "bdata": "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",
          "dtype": "i4"
         },
         "yaxis": "y"
        },
        {
         "hovertemplate": "class=Business<br>duration=%{x}<br>price=%{y}<extra></extra>",
         "legendgroup": "Business",
         "marker": {
          "color": "#EF553B",
          "symbol": "circle"
         },
         "mode": "markers",
         "name": "Business",
         "showlegend": true,
         "type": "scattergl",
         "x": {
          "bdata": "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",
          "dtype": "f8"
         },
         "xaxis": "x",
         "y": {
          "bdata": "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",
          "dtype": "i4"
         },
         "yaxis": "y"
        }
       ],
       "layout": {
        "height": 500,
        "legend": {
         "title": {
          "text": "class"
         },
         "tracegroupgap": 0
        },
        "margin": {
         "t": 60
        },
        "template": {
         "data": {
          "bar": [
           {
            "error_x": {
             "color": "#2a3f5f"
            },
            "error_y": {
             "color": "#2a3f5f"
            },
            "marker": {
             "line": {
              "color": "#E5ECF6",
              "width": 0.5
             },
             "pattern": {
              "fillmode": "overlay",
              "size": 10,
              "solidity": 0.2
             }
            },
            "type": "bar"
           }
          ],
          "barpolar": [
           {
            "marker": {
             "line": {
              "color": "#E5ECF6",
              "width": 0.5
             },
             "pattern": {
              "fillmode": "overlay",
              "size": 10,
              "solidity": 0.2
             }
            },
            "type": "barpolar"
           }
          ],
          "carpet": [
           {
            "aaxis": {
             "endlinecolor": "#2a3f5f",
             "gridcolor": "white",
             "linecolor": "white",
             "minorgridcolor": "white",
             "startlinecolor": "#2a3f5f"
            },
            "baxis": {
             "endlinecolor": "#2a3f5f",
             "gridcolor": "white",
             "linecolor": "white",
             "minorgridcolor": "white",
             "startlinecolor": "#2a3f5f"
            },
            "type": "carpet"
           }
          ],
          "choropleth": [
           {
            "colorbar": {
             "outlinewidth": 0,
             "ticks": ""
            },
            "type": "choropleth"
           }
          ],
          "contour": [
           {
            "colorbar": {
             "outlinewidth": 0,
             "ticks": ""
            },
            "colorscale": [
             [
              0,
              "#0d0887"
             ],
             [
              0.1111111111111111,
              "#46039f"
             ],
             [
              0.2222222222222222,
              "#7201a8"
             ],
             [
              0.3333333333333333,
              "#9c179e"
             ],
             [
              0.4444444444444444,
              "#bd3786"
             ],
             [
              0.5555555555555556,
              "#d8576b"
             ],
             [
              0.6666666666666666,
              "#ed7953"
             ],
             [
              0.7777777777777778,
              "#fb9f3a"
             ],
             [
              0.8888888888888888,
              "#fdca26"
             ],
             [
              1,
              "#f0f921"
             ]
            ],
            "type": "contour"
           }
          ],
          "contourcarpet": [
           {
            "colorbar": {
             "outlinewidth": 0,
             "ticks": ""
            },
            "type": "contourcarpet"
           }
          ],
          "heatmap": [
           {
            "colorbar": {
             "outlinewidth": 0,
             "ticks": ""
            },
            "colorscale": [
             [
              0,
              "#0d0887"
             ],
             [
              0.1111111111111111,
              "#46039f"
             ],
             [
              0.2222222222222222,
              "#7201a8"
             ],
             [
              0.3333333333333333,
              "#9c179e"
             ],
             [
              0.4444444444444444,
              "#bd3786"
             ],
             [
              0.5555555555555556,
              "#d8576b"
             ],
             [
              0.6666666666666666,
              "#ed7953"
             ],
             [
              0.7777777777777778,
              "#fb9f3a"
             ],
             [
              0.8888888888888888,
              "#fdca26"
             ],
             [
              1,
              "#f0f921"
             ]
            ],
            "type": "heatmap"
           }
          ],
          "histogram": [
           {
            "marker": {
             "pattern": {
              "fillmode": "overlay",
              "size": 10,
              "solidity": 0.2
             }
            },
            "type": "histogram"
           }
          ],
          "histogram2d": [
           {
            "colorbar": {
             "outlinewidth": 0,
             "ticks": ""
            },
            "colorscale": [
             [
              0,
              "#0d0887"
             ],
             [
              0.1111111111111111,
              "#46039f"
             ],
             [
              0.2222222222222222,
              "#7201a8"
             ],
             [
              0.3333333333333333,
              "#9c179e"
             ],
             [
              0.4444444444444444,
              "#bd3786"
             ],
             [
              0.5555555555555556,
              "#d8576b"
             ],
             [
              0.6666666666666666,
              "#ed7953"
             ],
             [
              0.7777777777777778,
              "#fb9f3a"
             ],
             [
              0.8888888888888888,
              "#fdca26"
             ],
             [
              1,
              "#f0f921"
             ]
            ],
            "type": "histogram2d"
           }
          ],
          "histogram2dcontour": [
           {
            "colorbar": {
             "outlinewidth": 0,
             "ticks": ""
            },
            "colorscale": [
             [
              0,
              "#0d0887"
             ],
             [
              0.1111111111111111,
              "#46039f"
             ],
             [
              0.2222222222222222,
              "#7201a8"
             ],
             [
              0.3333333333333333,
              "#9c179e"
             ],
             [
              0.4444444444444444,
              "#bd3786"
             ],
             [
              0.5555555555555556,
              "#d8576b"
             ],
             [
              0.6666666666666666,
              "#ed7953"
             ],
             [
              0.7777777777777778,
              "#fb9f3a"
             ],
             [
              0.8888888888888888,
              "#fdca26"
             ],
             [
              1,
              "#f0f921"
             ]
            ],
            "type": "histogram2dcontour"
           }
          ],
          "mesh3d": [
           {
            "colorbar": {
             "outlinewidth": 0,
             "ticks": ""
            },
            "type": "mesh3d"
           }
          ],
          "parcoords": [
           {
            "line": {
             "colorbar": {
              "outlinewidth": 0,
              "ticks": ""
             }
            },
            "type": "parcoords"
           }
          ],
          "pie": [
           {
            "automargin": true,
            "type": "pie"
           }
          ],
          "scatter": [
           {
            "fillpattern": {
             "fillmode": "overlay",
             "size": 10,
             "solidity": 0.2
            },
            "type": "scatter"
           }
          ],
          "scatter3d": [
           {
            "line": {
             "colorbar": {
              "outlinewidth": 0,
              "ticks": ""
             }
            },
            "marker": {
             "colorbar": {
              "outlinewidth": 0,
              "ticks": ""
             }
            },
            "type": "scatter3d"
           }
          ],
          "scattercarpet": [
           {
            "marker": {
             "colorbar": {
              "outlinewidth": 0,
              "ticks": ""
             }
            },
            "type": "scattercarpet"
           }
          ],
          "scattergeo": [
           {
            "marker": {
             "colorbar": {
              "outlinewidth": 0,
              "ticks": ""
             }
            },
            "type": "scattergeo"
           }
          ],
          "scattergl": [
           {
            "marker": {
             "colorbar": {
              "outlinewidth": 0,
              "ticks": ""
             }
            },
            "type": "scattergl"
           }
          ],
          "scattermap": [
           {
            "marker": {
             "colorbar": {
              "outlinewidth": 0,
              "ticks": ""
             }
            },
            "type": "scattermap"
           }
          ],
          "scattermapbox": [
           {
            "marker": {
             "colorbar": {
              "outlinewidth": 0,
              "ticks": ""
             }
            },
            "type": "scattermapbox"
           }
          ],
          "scatterpolar": [
           {
            "marker": {
             "colorbar": {
              "outlinewidth": 0,
              "ticks": ""
             }
            },
            "type": "scatterpolar"
           }
          ],
          "scatterpolargl": [
           {
            "marker": {
             "colorbar": {
              "outlinewidth": 0,
              "ticks": ""
             }
            },
            "type": "scatterpolargl"
           }
          ],
          "scatterternary": [
           {
            "marker": {
             "colorbar": {
              "outlinewidth": 0,
              "ticks": ""
             }
            },
            "type": "scatterternary"
           }
          ],
          "surface": [
           {
            "colorbar": {
             "outlinewidth": 0,
             "ticks": ""
            },
            "colorscale": [
             [
              0,
              "#0d0887"
             ],
             [
              0.1111111111111111,
              "#46039f"
             ],
             [
              0.2222222222222222,
              "#7201a8"
             ],
             [
              0.3333333333333333,
              "#9c179e"
             ],
             [
              0.4444444444444444,
              "#bd3786"
             ],
             [
              0.5555555555555556,
              "#d8576b"
             ],
             [
              0.6666666666666666,
              "#ed7953"
             ],
             [
              0.7777777777777778,
              "#fb9f3a"
             ],
             [
              0.8888888888888888,
              "#fdca26"
             ],
             [
              1,
              "#f0f921"
             ]
            ],
            "type": "surface"
           }
          ],
          "table": [
           {
            "cells": {
             "fill": {
              "color": "#EBF0F8"
             },
             "line": {
              "color": "white"
             }
            },
            "header": {
             "fill": {
              "color": "#C8D4E3"
             },
             "line": {
              "color": "white"
             }
            },
            "type": "table"
           }
          ]
         },
         "layout": {
          "annotationdefaults": {
           "arrowcolor": "#2a3f5f",
           "arrowhead": 0,
           "arrowwidth": 1
          },
          "autotypenumbers": "strict",
          "coloraxis": {
           "colorbar": {
            "outlinewidth": 0,
            "ticks": ""
           }
          },
          "colorscale": {
           "diverging": [
            [
             0,
             "#8e0152"
            ],
            [
             0.1,
             "#c51b7d"
            ],
            [
             0.2,
             "#de77ae"
            ],
            [
             0.3,
             "#f1b6da"
            ],
            [
             0.4,
             "#fde0ef"
            ],
            [
             0.5,
             "#f7f7f7"
            ],
            [
             0.6,
             "#e6f5d0"
            ],
            [
             0.7,
             "#b8e186"
            ],
            [
             0.8,
             "#7fbc41"
            ],
            [
             0.9,
             "#4d9221"
            ],
            [
             1,
             "#276419"
            ]
           ],
           "sequential": [
            [
             0,
             "#0d0887"
            ],
            [
             0.1111111111111111,
             "#46039f"
            ],
            [
             0.2222222222222222,
             "#7201a8"
            ],
            [
             0.3333333333333333,
             "#9c179e"
            ],
            [
             0.4444444444444444,
             "#bd3786"
            ],
            [
             0.5555555555555556,
             "#d8576b"
            ],
            [
             0.6666666666666666,
             "#ed7953"
            ],
            [
             0.7777777777777778,
             "#fb9f3a"
            ],
            [
             0.8888888888888888,
             "#fdca26"
            ],
            [
             1,
             "#f0f921"
            ]
           ],
           "sequentialminus": [
            [
             0,
             "#0d0887"
            ],
            [
             0.1111111111111111,
             "#46039f"
            ],
            [
             0.2222222222222222,
             "#7201a8"
            ],
            [
             0.3333333333333333,
             "#9c179e"
            ],
            [
             0.4444444444444444,
             "#bd3786"
            ],
            [
             0.5555555555555556,
             "#d8576b"
            ],
            [
             0.6666666666666666,
             "#ed7953"
            ],
            [
             0.7777777777777778,
             "#fb9f3a"
            ],
            [
             0.8888888888888888,
             "#fdca26"
            ],
            [
             1,
             "#f0f921"
            ]
           ]
          },
          "colorway": [
           "#636efa",
           "#EF553B",
           "#00cc96",
           "#ab63fa",
           "#FFA15A",
           "#19d3f3",
           "#FF6692",
           "#B6E880",
           "#FF97FF",
           "#FECB52"
          ],
          "font": {
           "color": "#2a3f5f"
          },
          "geo": {
           "bgcolor": "white",
           "lakecolor": "white",
           "landcolor": "#E5ECF6",
           "showlakes": true,
           "showland": true,
           "subunitcolor": "white"
          },
          "hoverlabel": {
           "align": "left"
          },
          "hovermode": "closest",
          "mapbox": {
           "style": "light"
          },
          "paper_bgcolor": "white",
          "plot_bgcolor": "#E5ECF6",
          "polar": {
           "angularaxis": {
            "gridcolor": "white",
            "linecolor": "white",
            "ticks": ""
           },
           "bgcolor": "#E5ECF6",
           "radialaxis": {
            "gridcolor": "white",
            "linecolor": "white",
            "ticks": ""
           }
          },
          "scene": {
           "xaxis": {
            "backgroundcolor": "#E5ECF6",
            "gridcolor": "white",
            "gridwidth": 2,
            "linecolor": "white",
            "showbackground": true,
            "ticks": "",
            "zerolinecolor": "white"
           },
           "yaxis": {
            "backgroundcolor": "#E5ECF6",
            "gridcolor": "white",
            "gridwidth": 2,
            "linecolor": "white",
            "showbackground": true,
            "ticks": "",
            "zerolinecolor": "white"
           },
           "zaxis": {
            "backgroundcolor": "#E5ECF6",
            "gridcolor": "white",
            "gridwidth": 2,
            "linecolor": "white",
            "showbackground": true,
            "ticks": "",
            "zerolinecolor": "white"
           }
          },
          "shapedefaults": {
           "line": {
            "color": "#2a3f5f"
           }
          },
          "ternary": {
           "aaxis": {
            "gridcolor": "white",
            "linecolor": "white",
            "ticks": ""
           },
           "baxis": {
            "gridcolor": "white",
            "linecolor": "white",
            "ticks": ""
           },
           "bgcolor": "#E5ECF6",
           "caxis": {
            "gridcolor": "white",
            "linecolor": "white",
            "ticks": ""
           }
          },
          "title": {
           "x": 0.05
          },
          "xaxis": {
           "automargin": true,
           "gridcolor": "white",
           "linecolor": "white",
           "ticks": "",
           "title": {
            "standoff": 15
           },
           "zerolinecolor": "white",
           "zerolinewidth": 2
          },
          "yaxis": {
           "automargin": true,
           "gridcolor": "white",
           "linecolor": "white",
           "ticks": "",
           "title": {
            "standoff": 15
           },
           "zerolinecolor": "white",
           "zerolinewidth": 2
          }
         }
        },
        "width": 1200,
        "xaxis": {
         "anchor": "y",
         "domain": [
          0,
          1
         ],
         "title": {
          "text": "duration"
         }
        },
        "yaxis": {
         "anchor": "x",
         "domain": [
          0,
          1
         ],
         "title": {
          "text": "price"
         }
        }
       }
      }
     },
     "metadata": {},
     "output_type": "display_data"
    }
   ],
   "source": [
    "if SIMPLIFIED_PLOTS:\n",
    "    fig = px.scatter(df_raw_sample, x=\"duration\", y=\"price\", color=\"class\")\n",
    "else:\n",
    "    fig = px.scatter(df_raw, x=\"duration\", y=\"price\", color=\"class\", marginal_y=\"violin\", marginal_x=\"box\", trendline=\"ols\", template=\"simple_white\")\n",
    "fig.update_layout( width=1200, height=500)\n",
    "fig.show()"
   ]
  },
  {
   "cell_type": "code",
   "execution_count": 9,
   "id": "ad909977",
   "metadata": {},
   "outputs": [
    {
     "data": {
      "application/vnd.plotly.v1+json": {
       "config": {
        "plotlyServerURL": "https://plot.ly"
       },
       "data": [
        {
         "alignmentgroup": "True",
         "hovertemplate": "class=Economy<br>Airline=%{x}<br>Average Price=%{y}<extra></extra>",
         "legendgroup": "Economy",
         "marker": {
          "color": "red",
          "pattern": {
           "shape": ""
          }
         },
         "name": "Economy",
         "offsetgroup": "Economy",
         "orientation": "v",
         "showlegend": true,
         "textposition": "auto",
         "type": "bar",
         "x": [
          "AirAsia",
          "Air_India",
          "GO_FIRST",
          "Indigo",
          "SpiceJet",
          "Vistara"
         ],
         "xaxis": "x",
         "y": {
          "bdata": "CABvPiX2r0BLBpqirpG8QAG6v/EBFLZAPtmnXzfMtECq78RkRyO4QE40uJLxfr5A",
          "dtype": "f8"
         },
         "yaxis": "y"
        },
        {
         "alignmentgroup": "True",
         "hovertemplate": "class=Business<br>Airline=%{x}<br>Average Price=%{y}<extra></extra>",
         "legendgroup": "Business",
         "marker": {
          "color": "blue",
          "pattern": {
           "shape": ""
          }
         },
         "name": "Business",
         "offsetgroup": "Business",
         "orientation": "v",
         "showlegend": true,
         "textposition": "auto",
         "type": "bar",
         "x": [
          "Air_India",
          "Vistara"
         ],
         "xaxis": "x",
         "y": {
          "bdata": "WME5QWED50DBQo3joBbrQA==",
          "dtype": "f8"
         },
         "yaxis": "y"
        }
       ],
       "layout": {
        "barmode": "group",
        "height": 600,
        "legend": {
         "title": {
          "text": "class"
         },
         "tracegroupgap": 0
        },
        "template": {
         "data": {
          "bar": [
           {
            "error_x": {
             "color": "#2a3f5f"
            },
            "error_y": {
             "color": "#2a3f5f"
            },
            "marker": {
             "line": {
              "color": "#E5ECF6",
              "width": 0.5
             },
             "pattern": {
              "fillmode": "overlay",
              "size": 10,
              "solidity": 0.2
             }
            },
            "type": "bar"
           }
          ],
          "barpolar": [
           {
            "marker": {
             "line": {
              "color": "#E5ECF6",
              "width": 0.5
             },
             "pattern": {
              "fillmode": "overlay",
              "size": 10,
              "solidity": 0.2
             }
            },
            "type": "barpolar"
           }
          ],
          "carpet": [
           {
            "aaxis": {
             "endlinecolor": "#2a3f5f",
             "gridcolor": "white",
             "linecolor": "white",
             "minorgridcolor": "white",
             "startlinecolor": "#2a3f5f"
            },
            "baxis": {
             "endlinecolor": "#2a3f5f",
             "gridcolor": "white",
             "linecolor": "white",
             "minorgridcolor": "white",
             "startlinecolor": "#2a3f5f"
            },
            "type": "carpet"
           }
          ],
          "choropleth": [
           {
            "colorbar": {
             "outlinewidth": 0,
             "ticks": ""
            },
            "type": "choropleth"
           }
          ],
          "contour": [
           {
            "colorbar": {
             "outlinewidth": 0,
             "ticks": ""
            },
            "colorscale": [
             [
              0,
              "#0d0887"
             ],
             [
              0.1111111111111111,
              "#46039f"
             ],
             [
              0.2222222222222222,
              "#7201a8"
             ],
             [
              0.3333333333333333,
              "#9c179e"
             ],
             [
              0.4444444444444444,
              "#bd3786"
             ],
             [
              0.5555555555555556,
              "#d8576b"
             ],
             [
              0.6666666666666666,
              "#ed7953"
             ],
             [
              0.7777777777777778,
              "#fb9f3a"
             ],
             [
              0.8888888888888888,
              "#fdca26"
             ],
             [
              1,
              "#f0f921"
             ]
            ],
            "type": "contour"
           }
          ],
          "contourcarpet": [
           {
            "colorbar": {
             "outlinewidth": 0,
             "ticks": ""
            },
            "type": "contourcarpet"
           }
          ],
          "heatmap": [
           {
            "colorbar": {
             "outlinewidth": 0,
             "ticks": ""
            },
            "colorscale": [
             [
              0,
              "#0d0887"
             ],
             [
              0.1111111111111111,
              "#46039f"
             ],
             [
              0.2222222222222222,
              "#7201a8"
             ],
             [
              0.3333333333333333,
              "#9c179e"
             ],
             [
              0.4444444444444444,
              "#bd3786"
             ],
             [
              0.5555555555555556,
              "#d8576b"
             ],
             [
              0.6666666666666666,
              "#ed7953"
             ],
             [
              0.7777777777777778,
              "#fb9f3a"
             ],
             [
              0.8888888888888888,
              "#fdca26"
             ],
             [
              1,
              "#f0f921"
             ]
            ],
            "type": "heatmap"
           }
          ],
          "histogram": [
           {
            "marker": {
             "pattern": {
              "fillmode": "overlay",
              "size": 10,
              "solidity": 0.2
             }
            },
            "type": "histogram"
           }
          ],
          "histogram2d": [
           {
            "colorbar": {
             "outlinewidth": 0,
             "ticks": ""
            },
            "colorscale": [
             [
              0,
              "#0d0887"
             ],
             [
              0.1111111111111111,
              "#46039f"
             ],
             [
              0.2222222222222222,
              "#7201a8"
             ],
             [
              0.3333333333333333,
              "#9c179e"
             ],
             [
              0.4444444444444444,
              "#bd3786"
             ],
             [
              0.5555555555555556,
              "#d8576b"
             ],
             [
              0.6666666666666666,
              "#ed7953"
             ],
             [
              0.7777777777777778,
              "#fb9f3a"
             ],
             [
              0.8888888888888888,
              "#fdca26"
             ],
             [
              1,
              "#f0f921"
             ]
            ],
            "type": "histogram2d"
           }
          ],
          "histogram2dcontour": [
           {
            "colorbar": {
             "outlinewidth": 0,
             "ticks": ""
            },
            "colorscale": [
             [
              0,
              "#0d0887"
             ],
             [
              0.1111111111111111,
              "#46039f"
             ],
             [
              0.2222222222222222,
              "#7201a8"
             ],
             [
              0.3333333333333333,
              "#9c179e"
             ],
             [
              0.4444444444444444,
              "#bd3786"
             ],
             [
              0.5555555555555556,
              "#d8576b"
             ],
             [
              0.6666666666666666,
              "#ed7953"
             ],
             [
              0.7777777777777778,
              "#fb9f3a"
             ],
             [
              0.8888888888888888,
              "#fdca26"
             ],
             [
              1,
              "#f0f921"
             ]
            ],
            "type": "histogram2dcontour"
           }
          ],
          "mesh3d": [
           {
            "colorbar": {
             "outlinewidth": 0,
             "ticks": ""
            },
            "type": "mesh3d"
           }
          ],
          "parcoords": [
           {
            "line": {
             "colorbar": {
              "outlinewidth": 0,
              "ticks": ""
             }
            },
            "type": "parcoords"
           }
          ],
          "pie": [
           {
            "automargin": true,
            "type": "pie"
           }
          ],
          "scatter": [
           {
            "fillpattern": {
             "fillmode": "overlay",
             "size": 10,
             "solidity": 0.2
            },
            "type": "scatter"
           }
          ],
          "scatter3d": [
           {
            "line": {
             "colorbar": {
              "outlinewidth": 0,
              "ticks": ""
             }
            },
            "marker": {
             "colorbar": {
              "outlinewidth": 0,
              "ticks": ""
             }
            },
            "type": "scatter3d"
           }
          ],
          "scattercarpet": [
           {
            "marker": {
             "colorbar": {
              "outlinewidth": 0,
              "ticks": ""
             }
            },
            "type": "scattercarpet"
           }
          ],
          "scattergeo": [
           {
            "marker": {
             "colorbar": {
              "outlinewidth": 0,
              "ticks": ""
             }
            },
            "type": "scattergeo"
           }
          ],
          "scattergl": [
           {
            "marker": {
             "colorbar": {
              "outlinewidth": 0,
              "ticks": ""
             }
            },
            "type": "scattergl"
           }
          ],
          "scattermap": [
           {
            "marker": {
             "colorbar": {
              "outlinewidth": 0,
              "ticks": ""
             }
            },
            "type": "scattermap"
           }
          ],
          "scattermapbox": [
           {
            "marker": {
             "colorbar": {
              "outlinewidth": 0,
              "ticks": ""
             }
            },
            "type": "scattermapbox"
           }
          ],
          "scatterpolar": [
           {
            "marker": {
             "colorbar": {
              "outlinewidth": 0,
              "ticks": ""
             }
            },
            "type": "scatterpolar"
           }
          ],
          "scatterpolargl": [
           {
            "marker": {
             "colorbar": {
              "outlinewidth": 0,
              "ticks": ""
             }
            },
            "type": "scatterpolargl"
           }
          ],
          "scatterternary": [
           {
            "marker": {
             "colorbar": {
              "outlinewidth": 0,
              "ticks": ""
             }
            },
            "type": "scatterternary"
           }
          ],
          "surface": [
           {
            "colorbar": {
             "outlinewidth": 0,
             "ticks": ""
            },
            "colorscale": [
             [
              0,
              "#0d0887"
             ],
             [
              0.1111111111111111,
              "#46039f"
             ],
             [
              0.2222222222222222,
              "#7201a8"
             ],
             [
              0.3333333333333333,
              "#9c179e"
             ],
             [
              0.4444444444444444,
              "#bd3786"
             ],
             [
              0.5555555555555556,
              "#d8576b"
             ],
             [
              0.6666666666666666,
              "#ed7953"
             ],
             [
              0.7777777777777778,
              "#fb9f3a"
             ],
             [
              0.8888888888888888,
              "#fdca26"
             ],
             [
              1,
              "#f0f921"
             ]
            ],
            "type": "surface"
           }
          ],
          "table": [
           {
            "cells": {
             "fill": {
              "color": "#EBF0F8"
             },
             "line": {
              "color": "white"
             }
            },
            "header": {
             "fill": {
              "color": "#C8D4E3"
             },
             "line": {
              "color": "white"
             }
            },
            "type": "table"
           }
          ]
         },
         "layout": {
          "annotationdefaults": {
           "arrowcolor": "#2a3f5f",
           "arrowhead": 0,
           "arrowwidth": 1
          },
          "autotypenumbers": "strict",
          "coloraxis": {
           "colorbar": {
            "outlinewidth": 0,
            "ticks": ""
           }
          },
          "colorscale": {
           "diverging": [
            [
             0,
             "#8e0152"
            ],
            [
             0.1,
             "#c51b7d"
            ],
            [
             0.2,
             "#de77ae"
            ],
            [
             0.3,
             "#f1b6da"
            ],
            [
             0.4,
             "#fde0ef"
            ],
            [
             0.5,
             "#f7f7f7"
            ],
            [
             0.6,
             "#e6f5d0"
            ],
            [
             0.7,
             "#b8e186"
            ],
            [
             0.8,
             "#7fbc41"
            ],
            [
             0.9,
             "#4d9221"
            ],
            [
             1,
             "#276419"
            ]
           ],
           "sequential": [
            [
             0,
             "#0d0887"
            ],
            [
             0.1111111111111111,
             "#46039f"
            ],
            [
             0.2222222222222222,
             "#7201a8"
            ],
            [
             0.3333333333333333,
             "#9c179e"
            ],
            [
             0.4444444444444444,
             "#bd3786"
            ],
            [
             0.5555555555555556,
             "#d8576b"
            ],
            [
             0.6666666666666666,
             "#ed7953"
            ],
            [
             0.7777777777777778,
             "#fb9f3a"
            ],
            [
             0.8888888888888888,
             "#fdca26"
            ],
            [
             1,
             "#f0f921"
            ]
           ],
           "sequentialminus": [
            [
             0,
             "#0d0887"
            ],
            [
             0.1111111111111111,
             "#46039f"
            ],
            [
             0.2222222222222222,
             "#7201a8"
            ],
            [
             0.3333333333333333,
             "#9c179e"
            ],
            [
             0.4444444444444444,
             "#bd3786"
            ],
            [
             0.5555555555555556,
             "#d8576b"
            ],
            [
             0.6666666666666666,
             "#ed7953"
            ],
            [
             0.7777777777777778,
             "#fb9f3a"
            ],
            [
             0.8888888888888888,
             "#fdca26"
            ],
            [
             1,
             "#f0f921"
            ]
           ]
          },
          "colorway": [
           "#636efa",
           "#EF553B",
           "#00cc96",
           "#ab63fa",
           "#FFA15A",
           "#19d3f3",
           "#FF6692",
           "#B6E880",
           "#FF97FF",
           "#FECB52"
          ],
          "font": {
           "color": "#2a3f5f"
          },
          "geo": {
           "bgcolor": "white",
           "lakecolor": "white",
           "landcolor": "#E5ECF6",
           "showlakes": true,
           "showland": true,
           "subunitcolor": "white"
          },
          "hoverlabel": {
           "align": "left"
          },
          "hovermode": "closest",
          "mapbox": {
           "style": "light"
          },
          "paper_bgcolor": "white",
          "plot_bgcolor": "#E5ECF6",
          "polar": {
           "angularaxis": {
            "gridcolor": "white",
            "linecolor": "white",
            "ticks": ""
           },
           "bgcolor": "#E5ECF6",
           "radialaxis": {
            "gridcolor": "white",
            "linecolor": "white",
            "ticks": ""
           }
          },
          "scene": {
           "xaxis": {
            "backgroundcolor": "#E5ECF6",
            "gridcolor": "white",
            "gridwidth": 2,
            "linecolor": "white",
            "showbackground": true,
            "ticks": "",
            "zerolinecolor": "white"
           },
           "yaxis": {
            "backgroundcolor": "#E5ECF6",
            "gridcolor": "white",
            "gridwidth": 2,
            "linecolor": "white",
            "showbackground": true,
            "ticks": "",
            "zerolinecolor": "white"
           },
           "zaxis": {
            "backgroundcolor": "#E5ECF6",
            "gridcolor": "white",
            "gridwidth": 2,
            "linecolor": "white",
            "showbackground": true,
            "ticks": "",
            "zerolinecolor": "white"
           }
          },
          "shapedefaults": {
           "line": {
            "color": "#2a3f5f"
           }
          },
          "ternary": {
           "aaxis": {
            "gridcolor": "white",
            "linecolor": "white",
            "ticks": ""
           },
           "baxis": {
            "gridcolor": "white",
            "linecolor": "white",
            "ticks": ""
           },
           "bgcolor": "#E5ECF6",
           "caxis": {
            "gridcolor": "white",
            "linecolor": "white",
            "ticks": ""
           }
          },
          "title": {
           "x": 0.05
          },
          "xaxis": {
           "automargin": true,
           "gridcolor": "white",
           "linecolor": "white",
           "ticks": "",
           "title": {
            "standoff": 15
           },
           "zerolinecolor": "white",
           "zerolinewidth": 2
          },
          "yaxis": {
           "automargin": true,
           "gridcolor": "white",
           "linecolor": "white",
           "ticks": "",
           "title": {
            "standoff": 15
           },
           "zerolinecolor": "white",
           "zerolinewidth": 2
          }
         }
        },
        "title": {
         "text": "Average Flight Prices by Airline and Class"
        },
        "width": 1200,
        "xaxis": {
         "anchor": "y",
         "domain": [
          0,
          1
         ],
         "title": {
          "text": "Airline"
         }
        },
        "yaxis": {
         "anchor": "x",
         "domain": [
          0,
          1
         ],
         "title": {
          "text": "Average Price"
         }
        }
       }
      }
     },
     "metadata": {},
     "output_type": "display_data"
    }
   ],
   "source": [
    "avg_prices = df_raw.groupby(['airline', 'class'])['price'].mean().reset_index()\n",
    "\n",
    "# Plot\n",
    "fig = px.bar(\n",
    "    avg_prices,\n",
    "    x='airline',\n",
    "    y='price',\n",
    "    color='class',\n",
    "    barmode='group',\n",
    "    color_discrete_map={\n",
    "        'Economy': 'red',\n",
    "        'Business': 'blue'  # you can pick any color you like for Business\n",
    "    },\n",
    "    title='Average Flight Prices by Airline and Class',\n",
    "    labels={'price': 'Average Price', 'airline': 'Airline'}\n",
    ")\n",
    "\n",
    "fig.update_layout(width=1200, height=600)\n",
    "fig.show()"
   ]
  },
  {
   "cell_type": "markdown",
   "id": "1fba4117",
   "metadata": {},
   "source": [
    "## B: Data Cleaning and Preprocessing"
   ]
  },
  {
   "cell_type": "code",
   "execution_count": 10,
   "id": "988b5d72",
   "metadata": {},
   "outputs": [
    {
     "name": "stdout",
     "output_type": "stream",
     "text": [
      "Shape before feature engineering: (300153, 31)\n"
     ]
    },
    {
     "data": {
      "text/html": [
       "<div>\n",
       "<style scoped>\n",
       "    .dataframe tbody tr th:only-of-type {\n",
       "        vertical-align: middle;\n",
       "    }\n",
       "\n",
       "    .dataframe tbody tr th {\n",
       "        vertical-align: top;\n",
       "    }\n",
       "\n",
       "    .dataframe thead th {\n",
       "        text-align: right;\n",
       "    }\n",
       "</style>\n",
       "<table border=\"1\" class=\"dataframe\">\n",
       "  <thead>\n",
       "    <tr style=\"text-align: right;\">\n",
       "      <th></th>\n",
       "      <th>const</th>\n",
       "      <th>duration</th>\n",
       "      <th>days_left</th>\n",
       "      <th>airline_Air_India</th>\n",
       "      <th>airline_GO_FIRST</th>\n",
       "      <th>airline_Indigo</th>\n",
       "      <th>airline_SpiceJet</th>\n",
       "      <th>airline_Vistara</th>\n",
       "      <th>source_city_Chennai</th>\n",
       "      <th>source_city_Delhi</th>\n",
       "      <th>source_city_Hyderabad</th>\n",
       "      <th>source_city_Kolkata</th>\n",
       "      <th>source_city_Mumbai</th>\n",
       "      <th>departure_time_Early_Morning</th>\n",
       "      <th>departure_time_Evening</th>\n",
       "      <th>departure_time_Late_Night</th>\n",
       "      <th>departure_time_Morning</th>\n",
       "      <th>departure_time_Night</th>\n",
       "      <th>stops_two_or_more</th>\n",
       "      <th>stops_zero</th>\n",
       "      <th>arrival_time_Early_Morning</th>\n",
       "      <th>arrival_time_Evening</th>\n",
       "      <th>arrival_time_Late_Night</th>\n",
       "      <th>arrival_time_Morning</th>\n",
       "      <th>arrival_time_Night</th>\n",
       "      <th>...</th>\n",
       "      <th>airline_Vistara_Economy</th>\n",
       "      <th>source_city_Chennai_Economy</th>\n",
       "      <th>source_city_Delhi_Economy</th>\n",
       "      <th>source_city_Hyderabad_Economy</th>\n",
       "      <th>source_city_Kolkata_Economy</th>\n",
       "      <th>source_city_Mumbai_Economy</th>\n",
       "      <th>departure_time_Early_Morning_Economy</th>\n",
       "      <th>departure_time_Evening_Economy</th>\n",
       "      <th>departure_time_Late_Night_Economy</th>\n",
       "      <th>departure_time_Morning_Economy</th>\n",
       "      <th>departure_time_Night_Economy</th>\n",
       "      <th>stops_two_or_more_Economy</th>\n",
       "      <th>stops_zero_Economy</th>\n",
       "      <th>arrival_time_Early_Morning_Economy</th>\n",
       "      <th>arrival_time_Evening_Economy</th>\n",
       "      <th>arrival_time_Late_Night_Economy</th>\n",
       "      <th>arrival_time_Morning_Economy</th>\n",
       "      <th>arrival_time_Night_Economy</th>\n",
       "      <th>destination_city_Chennai_Economy</th>\n",
       "      <th>destination_city_Delhi_Economy</th>\n",
       "      <th>destination_city_Hyderabad_Economy</th>\n",
       "      <th>destination_city_Kolkata_Economy</th>\n",
       "      <th>destination_city_Mumbai_Economy</th>\n",
       "      <th>days_left_inv_Economy</th>\n",
       "      <th>duration_log_Economy</th>\n",
       "    </tr>\n",
       "  </thead>\n",
       "  <tbody>\n",
       "    <tr>\n",
       "      <th>148417</th>\n",
       "      <td>1.0</td>\n",
       "      <td>19.42</td>\n",
       "      <td>6.0</td>\n",
       "      <td>1.0</td>\n",
       "      <td>0.0</td>\n",
       "      <td>0.0</td>\n",
       "      <td>0.0</td>\n",
       "      <td>0.0</td>\n",
       "      <td>0.0</td>\n",
       "      <td>0.0</td>\n",
       "      <td>0.0</td>\n",
       "      <td>1.0</td>\n",
       "      <td>0.0</td>\n",
       "      <td>0.0</td>\n",
       "      <td>0.0</td>\n",
       "      <td>0.0</td>\n",
       "      <td>0.0</td>\n",
       "      <td>0.0</td>\n",
       "      <td>0.0</td>\n",
       "      <td>0.0</td>\n",
       "      <td>0.0</td>\n",
       "      <td>0.0</td>\n",
       "      <td>0.0</td>\n",
       "      <td>1.0</td>\n",
       "      <td>0.0</td>\n",
       "      <td>...</td>\n",
       "      <td>0.0</td>\n",
       "      <td>0.0</td>\n",
       "      <td>0.0</td>\n",
       "      <td>0.0</td>\n",
       "      <td>1.0</td>\n",
       "      <td>0.0</td>\n",
       "      <td>0.0</td>\n",
       "      <td>0.0</td>\n",
       "      <td>0.0</td>\n",
       "      <td>0.0</td>\n",
       "      <td>0.0</td>\n",
       "      <td>0.0</td>\n",
       "      <td>0.0</td>\n",
       "      <td>0.0</td>\n",
       "      <td>0.0</td>\n",
       "      <td>0.0</td>\n",
       "      <td>1.0</td>\n",
       "      <td>0.0</td>\n",
       "      <td>1.0</td>\n",
       "      <td>0.0</td>\n",
       "      <td>0.0</td>\n",
       "      <td>0.0</td>\n",
       "      <td>0.0</td>\n",
       "      <td>0.166667</td>\n",
       "      <td>2.966303</td>\n",
       "    </tr>\n",
       "    <tr>\n",
       "      <th>36879</th>\n",
       "      <td>1.0</td>\n",
       "      <td>7.00</td>\n",
       "      <td>13.0</td>\n",
       "      <td>0.0</td>\n",
       "      <td>0.0</td>\n",
       "      <td>1.0</td>\n",
       "      <td>0.0</td>\n",
       "      <td>0.0</td>\n",
       "      <td>0.0</td>\n",
       "      <td>1.0</td>\n",
       "      <td>0.0</td>\n",
       "      <td>0.0</td>\n",
       "      <td>0.0</td>\n",
       "      <td>0.0</td>\n",
       "      <td>0.0</td>\n",
       "      <td>0.0</td>\n",
       "      <td>0.0</td>\n",
       "      <td>0.0</td>\n",
       "      <td>1.0</td>\n",
       "      <td>0.0</td>\n",
       "      <td>0.0</td>\n",
       "      <td>0.0</td>\n",
       "      <td>0.0</td>\n",
       "      <td>0.0</td>\n",
       "      <td>1.0</td>\n",
       "      <td>...</td>\n",
       "      <td>0.0</td>\n",
       "      <td>0.0</td>\n",
       "      <td>1.0</td>\n",
       "      <td>0.0</td>\n",
       "      <td>0.0</td>\n",
       "      <td>0.0</td>\n",
       "      <td>0.0</td>\n",
       "      <td>0.0</td>\n",
       "      <td>0.0</td>\n",
       "      <td>0.0</td>\n",
       "      <td>0.0</td>\n",
       "      <td>1.0</td>\n",
       "      <td>0.0</td>\n",
       "      <td>0.0</td>\n",
       "      <td>0.0</td>\n",
       "      <td>0.0</td>\n",
       "      <td>0.0</td>\n",
       "      <td>1.0</td>\n",
       "      <td>1.0</td>\n",
       "      <td>0.0</td>\n",
       "      <td>0.0</td>\n",
       "      <td>0.0</td>\n",
       "      <td>0.0</td>\n",
       "      <td>0.076923</td>\n",
       "      <td>1.945910</td>\n",
       "    </tr>\n",
       "    <tr>\n",
       "      <th>274531</th>\n",
       "      <td>1.0</td>\n",
       "      <td>21.17</td>\n",
       "      <td>44.0</td>\n",
       "      <td>1.0</td>\n",
       "      <td>0.0</td>\n",
       "      <td>0.0</td>\n",
       "      <td>0.0</td>\n",
       "      <td>0.0</td>\n",
       "      <td>0.0</td>\n",
       "      <td>0.0</td>\n",
       "      <td>0.0</td>\n",
       "      <td>1.0</td>\n",
       "      <td>0.0</td>\n",
       "      <td>0.0</td>\n",
       "      <td>0.0</td>\n",
       "      <td>0.0</td>\n",
       "      <td>0.0</td>\n",
       "      <td>0.0</td>\n",
       "      <td>0.0</td>\n",
       "      <td>0.0</td>\n",
       "      <td>0.0</td>\n",
       "      <td>0.0</td>\n",
       "      <td>0.0</td>\n",
       "      <td>0.0</td>\n",
       "      <td>0.0</td>\n",
       "      <td>...</td>\n",
       "      <td>0.0</td>\n",
       "      <td>0.0</td>\n",
       "      <td>0.0</td>\n",
       "      <td>0.0</td>\n",
       "      <td>0.0</td>\n",
       "      <td>0.0</td>\n",
       "      <td>0.0</td>\n",
       "      <td>0.0</td>\n",
       "      <td>0.0</td>\n",
       "      <td>0.0</td>\n",
       "      <td>0.0</td>\n",
       "      <td>0.0</td>\n",
       "      <td>0.0</td>\n",
       "      <td>0.0</td>\n",
       "      <td>0.0</td>\n",
       "      <td>0.0</td>\n",
       "      <td>0.0</td>\n",
       "      <td>0.0</td>\n",
       "      <td>0.0</td>\n",
       "      <td>0.0</td>\n",
       "      <td>0.0</td>\n",
       "      <td>0.0</td>\n",
       "      <td>0.0</td>\n",
       "      <td>0.000000</td>\n",
       "      <td>0.000000</td>\n",
       "    </tr>\n",
       "    <tr>\n",
       "      <th>166397</th>\n",
       "      <td>1.0</td>\n",
       "      <td>10.25</td>\n",
       "      <td>11.0</td>\n",
       "      <td>0.0</td>\n",
       "      <td>0.0</td>\n",
       "      <td>0.0</td>\n",
       "      <td>0.0</td>\n",
       "      <td>1.0</td>\n",
       "      <td>0.0</td>\n",
       "      <td>0.0</td>\n",
       "      <td>1.0</td>\n",
       "      <td>0.0</td>\n",
       "      <td>0.0</td>\n",
       "      <td>0.0</td>\n",
       "      <td>0.0</td>\n",
       "      <td>0.0</td>\n",
       "      <td>0.0</td>\n",
       "      <td>1.0</td>\n",
       "      <td>0.0</td>\n",
       "      <td>0.0</td>\n",
       "      <td>1.0</td>\n",
       "      <td>0.0</td>\n",
       "      <td>0.0</td>\n",
       "      <td>0.0</td>\n",
       "      <td>0.0</td>\n",
       "      <td>...</td>\n",
       "      <td>1.0</td>\n",
       "      <td>0.0</td>\n",
       "      <td>0.0</td>\n",
       "      <td>1.0</td>\n",
       "      <td>0.0</td>\n",
       "      <td>0.0</td>\n",
       "      <td>0.0</td>\n",
       "      <td>0.0</td>\n",
       "      <td>0.0</td>\n",
       "      <td>0.0</td>\n",
       "      <td>1.0</td>\n",
       "      <td>0.0</td>\n",
       "      <td>0.0</td>\n",
       "      <td>1.0</td>\n",
       "      <td>0.0</td>\n",
       "      <td>0.0</td>\n",
       "      <td>0.0</td>\n",
       "      <td>0.0</td>\n",
       "      <td>0.0</td>\n",
       "      <td>0.0</td>\n",
       "      <td>0.0</td>\n",
       "      <td>0.0</td>\n",
       "      <td>0.0</td>\n",
       "      <td>0.090909</td>\n",
       "      <td>2.327278</td>\n",
       "    </tr>\n",
       "    <tr>\n",
       "      <th>272722</th>\n",
       "      <td>1.0</td>\n",
       "      <td>26.50</td>\n",
       "      <td>5.0</td>\n",
       "      <td>0.0</td>\n",
       "      <td>0.0</td>\n",
       "      <td>0.0</td>\n",
       "      <td>0.0</td>\n",
       "      <td>1.0</td>\n",
       "      <td>0.0</td>\n",
       "      <td>0.0</td>\n",
       "      <td>0.0</td>\n",
       "      <td>1.0</td>\n",
       "      <td>0.0</td>\n",
       "      <td>0.0</td>\n",
       "      <td>0.0</td>\n",
       "      <td>0.0</td>\n",
       "      <td>0.0</td>\n",
       "      <td>1.0</td>\n",
       "      <td>0.0</td>\n",
       "      <td>0.0</td>\n",
       "      <td>0.0</td>\n",
       "      <td>0.0</td>\n",
       "      <td>0.0</td>\n",
       "      <td>0.0</td>\n",
       "      <td>1.0</td>\n",
       "      <td>...</td>\n",
       "      <td>0.0</td>\n",
       "      <td>0.0</td>\n",
       "      <td>0.0</td>\n",
       "      <td>0.0</td>\n",
       "      <td>0.0</td>\n",
       "      <td>0.0</td>\n",
       "      <td>0.0</td>\n",
       "      <td>0.0</td>\n",
       "      <td>0.0</td>\n",
       "      <td>0.0</td>\n",
       "      <td>0.0</td>\n",
       "      <td>0.0</td>\n",
       "      <td>0.0</td>\n",
       "      <td>0.0</td>\n",
       "      <td>0.0</td>\n",
       "      <td>0.0</td>\n",
       "      <td>0.0</td>\n",
       "      <td>0.0</td>\n",
       "      <td>0.0</td>\n",
       "      <td>0.0</td>\n",
       "      <td>0.0</td>\n",
       "      <td>0.0</td>\n",
       "      <td>0.0</td>\n",
       "      <td>0.000000</td>\n",
       "      <td>0.000000</td>\n",
       "    </tr>\n",
       "    <tr>\n",
       "      <th>...</th>\n",
       "      <td>...</td>\n",
       "      <td>...</td>\n",
       "      <td>...</td>\n",
       "      <td>...</td>\n",
       "      <td>...</td>\n",
       "      <td>...</td>\n",
       "      <td>...</td>\n",
       "      <td>...</td>\n",
       "      <td>...</td>\n",
       "      <td>...</td>\n",
       "      <td>...</td>\n",
       "      <td>...</td>\n",
       "      <td>...</td>\n",
       "      <td>...</td>\n",
       "      <td>...</td>\n",
       "      <td>...</td>\n",
       "      <td>...</td>\n",
       "      <td>...</td>\n",
       "      <td>...</td>\n",
       "      <td>...</td>\n",
       "      <td>...</td>\n",
       "      <td>...</td>\n",
       "      <td>...</td>\n",
       "      <td>...</td>\n",
       "      <td>...</td>\n",
       "      <td>...</td>\n",
       "      <td>...</td>\n",
       "      <td>...</td>\n",
       "      <td>...</td>\n",
       "      <td>...</td>\n",
       "      <td>...</td>\n",
       "      <td>...</td>\n",
       "      <td>...</td>\n",
       "      <td>...</td>\n",
       "      <td>...</td>\n",
       "      <td>...</td>\n",
       "      <td>...</td>\n",
       "      <td>...</td>\n",
       "      <td>...</td>\n",
       "      <td>...</td>\n",
       "      <td>...</td>\n",
       "      <td>...</td>\n",
       "      <td>...</td>\n",
       "      <td>...</td>\n",
       "      <td>...</td>\n",
       "      <td>...</td>\n",
       "      <td>...</td>\n",
       "      <td>...</td>\n",
       "      <td>...</td>\n",
       "      <td>...</td>\n",
       "      <td>...</td>\n",
       "    </tr>\n",
       "    <tr>\n",
       "      <th>119879</th>\n",
       "      <td>1.0</td>\n",
       "      <td>20.50</td>\n",
       "      <td>2.0</td>\n",
       "      <td>0.0</td>\n",
       "      <td>0.0</td>\n",
       "      <td>0.0</td>\n",
       "      <td>0.0</td>\n",
       "      <td>1.0</td>\n",
       "      <td>0.0</td>\n",
       "      <td>0.0</td>\n",
       "      <td>0.0</td>\n",
       "      <td>1.0</td>\n",
       "      <td>0.0</td>\n",
       "      <td>0.0</td>\n",
       "      <td>1.0</td>\n",
       "      <td>0.0</td>\n",
       "      <td>0.0</td>\n",
       "      <td>0.0</td>\n",
       "      <td>0.0</td>\n",
       "      <td>0.0</td>\n",
       "      <td>0.0</td>\n",
       "      <td>0.0</td>\n",
       "      <td>0.0</td>\n",
       "      <td>0.0</td>\n",
       "      <td>0.0</td>\n",
       "      <td>...</td>\n",
       "      <td>1.0</td>\n",
       "      <td>0.0</td>\n",
       "      <td>0.0</td>\n",
       "      <td>0.0</td>\n",
       "      <td>1.0</td>\n",
       "      <td>0.0</td>\n",
       "      <td>0.0</td>\n",
       "      <td>1.0</td>\n",
       "      <td>0.0</td>\n",
       "      <td>0.0</td>\n",
       "      <td>0.0</td>\n",
       "      <td>0.0</td>\n",
       "      <td>0.0</td>\n",
       "      <td>0.0</td>\n",
       "      <td>0.0</td>\n",
       "      <td>0.0</td>\n",
       "      <td>0.0</td>\n",
       "      <td>0.0</td>\n",
       "      <td>0.0</td>\n",
       "      <td>1.0</td>\n",
       "      <td>0.0</td>\n",
       "      <td>0.0</td>\n",
       "      <td>0.0</td>\n",
       "      <td>0.500000</td>\n",
       "      <td>3.020425</td>\n",
       "    </tr>\n",
       "    <tr>\n",
       "      <th>259178</th>\n",
       "      <td>1.0</td>\n",
       "      <td>25.42</td>\n",
       "      <td>7.0</td>\n",
       "      <td>0.0</td>\n",
       "      <td>0.0</td>\n",
       "      <td>0.0</td>\n",
       "      <td>0.0</td>\n",
       "      <td>1.0</td>\n",
       "      <td>0.0</td>\n",
       "      <td>0.0</td>\n",
       "      <td>0.0</td>\n",
       "      <td>0.0</td>\n",
       "      <td>0.0</td>\n",
       "      <td>0.0</td>\n",
       "      <td>0.0</td>\n",
       "      <td>0.0</td>\n",
       "      <td>0.0</td>\n",
       "      <td>1.0</td>\n",
       "      <td>0.0</td>\n",
       "      <td>0.0</td>\n",
       "      <td>0.0</td>\n",
       "      <td>0.0</td>\n",
       "      <td>0.0</td>\n",
       "      <td>0.0</td>\n",
       "      <td>1.0</td>\n",
       "      <td>...</td>\n",
       "      <td>0.0</td>\n",
       "      <td>0.0</td>\n",
       "      <td>0.0</td>\n",
       "      <td>0.0</td>\n",
       "      <td>0.0</td>\n",
       "      <td>0.0</td>\n",
       "      <td>0.0</td>\n",
       "      <td>0.0</td>\n",
       "      <td>0.0</td>\n",
       "      <td>0.0</td>\n",
       "      <td>0.0</td>\n",
       "      <td>0.0</td>\n",
       "      <td>0.0</td>\n",
       "      <td>0.0</td>\n",
       "      <td>0.0</td>\n",
       "      <td>0.0</td>\n",
       "      <td>0.0</td>\n",
       "      <td>0.0</td>\n",
       "      <td>0.0</td>\n",
       "      <td>0.0</td>\n",
       "      <td>0.0</td>\n",
       "      <td>0.0</td>\n",
       "      <td>0.0</td>\n",
       "      <td>0.000000</td>\n",
       "      <td>0.000000</td>\n",
       "    </tr>\n",
       "    <tr>\n",
       "      <th>131932</th>\n",
       "      <td>1.0</td>\n",
       "      <td>13.67</td>\n",
       "      <td>29.0</td>\n",
       "      <td>1.0</td>\n",
       "      <td>0.0</td>\n",
       "      <td>0.0</td>\n",
       "      <td>0.0</td>\n",
       "      <td>0.0</td>\n",
       "      <td>0.0</td>\n",
       "      <td>0.0</td>\n",
       "      <td>0.0</td>\n",
       "      <td>1.0</td>\n",
       "      <td>0.0</td>\n",
       "      <td>0.0</td>\n",
       "      <td>0.0</td>\n",
       "      <td>0.0</td>\n",
       "      <td>0.0</td>\n",
       "      <td>1.0</td>\n",
       "      <td>0.0</td>\n",
       "      <td>0.0</td>\n",
       "      <td>0.0</td>\n",
       "      <td>0.0</td>\n",
       "      <td>0.0</td>\n",
       "      <td>1.0</td>\n",
       "      <td>0.0</td>\n",
       "      <td>...</td>\n",
       "      <td>0.0</td>\n",
       "      <td>0.0</td>\n",
       "      <td>0.0</td>\n",
       "      <td>0.0</td>\n",
       "      <td>1.0</td>\n",
       "      <td>0.0</td>\n",
       "      <td>0.0</td>\n",
       "      <td>0.0</td>\n",
       "      <td>0.0</td>\n",
       "      <td>0.0</td>\n",
       "      <td>1.0</td>\n",
       "      <td>0.0</td>\n",
       "      <td>0.0</td>\n",
       "      <td>0.0</td>\n",
       "      <td>0.0</td>\n",
       "      <td>0.0</td>\n",
       "      <td>1.0</td>\n",
       "      <td>0.0</td>\n",
       "      <td>0.0</td>\n",
       "      <td>0.0</td>\n",
       "      <td>0.0</td>\n",
       "      <td>0.0</td>\n",
       "      <td>1.0</td>\n",
       "      <td>0.034483</td>\n",
       "      <td>2.615204</td>\n",
       "    </tr>\n",
       "    <tr>\n",
       "      <th>146867</th>\n",
       "      <td>1.0</td>\n",
       "      <td>8.33</td>\n",
       "      <td>39.0</td>\n",
       "      <td>0.0</td>\n",
       "      <td>1.0</td>\n",
       "      <td>0.0</td>\n",
       "      <td>0.0</td>\n",
       "      <td>0.0</td>\n",
       "      <td>0.0</td>\n",
       "      <td>0.0</td>\n",
       "      <td>0.0</td>\n",
       "      <td>1.0</td>\n",
       "      <td>0.0</td>\n",
       "      <td>0.0</td>\n",
       "      <td>0.0</td>\n",
       "      <td>0.0</td>\n",
       "      <td>0.0</td>\n",
       "      <td>0.0</td>\n",
       "      <td>0.0</td>\n",
       "      <td>0.0</td>\n",
       "      <td>0.0</td>\n",
       "      <td>0.0</td>\n",
       "      <td>0.0</td>\n",
       "      <td>0.0</td>\n",
       "      <td>1.0</td>\n",
       "      <td>...</td>\n",
       "      <td>0.0</td>\n",
       "      <td>0.0</td>\n",
       "      <td>0.0</td>\n",
       "      <td>0.0</td>\n",
       "      <td>1.0</td>\n",
       "      <td>0.0</td>\n",
       "      <td>0.0</td>\n",
       "      <td>0.0</td>\n",
       "      <td>0.0</td>\n",
       "      <td>0.0</td>\n",
       "      <td>0.0</td>\n",
       "      <td>0.0</td>\n",
       "      <td>0.0</td>\n",
       "      <td>0.0</td>\n",
       "      <td>0.0</td>\n",
       "      <td>0.0</td>\n",
       "      <td>0.0</td>\n",
       "      <td>1.0</td>\n",
       "      <td>0.0</td>\n",
       "      <td>0.0</td>\n",
       "      <td>1.0</td>\n",
       "      <td>0.0</td>\n",
       "      <td>0.0</td>\n",
       "      <td>0.025641</td>\n",
       "      <td>2.119863</td>\n",
       "    </tr>\n",
       "    <tr>\n",
       "      <th>121958</th>\n",
       "      <td>1.0</td>\n",
       "      <td>20.17</td>\n",
       "      <td>17.0</td>\n",
       "      <td>1.0</td>\n",
       "      <td>0.0</td>\n",
       "      <td>0.0</td>\n",
       "      <td>0.0</td>\n",
       "      <td>0.0</td>\n",
       "      <td>0.0</td>\n",
       "      <td>0.0</td>\n",
       "      <td>0.0</td>\n",
       "      <td>1.0</td>\n",
       "      <td>0.0</td>\n",
       "      <td>0.0</td>\n",
       "      <td>0.0</td>\n",
       "      <td>0.0</td>\n",
       "      <td>0.0</td>\n",
       "      <td>0.0</td>\n",
       "      <td>0.0</td>\n",
       "      <td>0.0</td>\n",
       "      <td>0.0</td>\n",
       "      <td>0.0</td>\n",
       "      <td>0.0</td>\n",
       "      <td>1.0</td>\n",
       "      <td>0.0</td>\n",
       "      <td>...</td>\n",
       "      <td>0.0</td>\n",
       "      <td>0.0</td>\n",
       "      <td>0.0</td>\n",
       "      <td>0.0</td>\n",
       "      <td>1.0</td>\n",
       "      <td>0.0</td>\n",
       "      <td>0.0</td>\n",
       "      <td>0.0</td>\n",
       "      <td>0.0</td>\n",
       "      <td>0.0</td>\n",
       "      <td>0.0</td>\n",
       "      <td>0.0</td>\n",
       "      <td>0.0</td>\n",
       "      <td>0.0</td>\n",
       "      <td>0.0</td>\n",
       "      <td>0.0</td>\n",
       "      <td>1.0</td>\n",
       "      <td>0.0</td>\n",
       "      <td>0.0</td>\n",
       "      <td>1.0</td>\n",
       "      <td>0.0</td>\n",
       "      <td>0.0</td>\n",
       "      <td>0.0</td>\n",
       "      <td>0.058824</td>\n",
       "      <td>3.004196</td>\n",
       "    </tr>\n",
       "  </tbody>\n",
       "</table>\n",
       "<p>240122 rows × 65 columns</p>\n",
       "</div>"
      ],
      "text/plain": [
       "        const  duration  days_left  airline_Air_India  airline_GO_FIRST  \\\n",
       "148417    1.0     19.42        6.0                1.0               0.0   \n",
       "36879     1.0      7.00       13.0                0.0               0.0   \n",
       "274531    1.0     21.17       44.0                1.0               0.0   \n",
       "166397    1.0     10.25       11.0                0.0               0.0   \n",
       "272722    1.0     26.50        5.0                0.0               0.0   \n",
       "...       ...       ...        ...                ...               ...   \n",
       "119879    1.0     20.50        2.0                0.0               0.0   \n",
       "259178    1.0     25.42        7.0                0.0               0.0   \n",
       "131932    1.0     13.67       29.0                1.0               0.0   \n",
       "146867    1.0      8.33       39.0                0.0               1.0   \n",
       "121958    1.0     20.17       17.0                1.0               0.0   \n",
       "\n",
       "        airline_Indigo  airline_SpiceJet  airline_Vistara  \\\n",
       "148417             0.0               0.0              0.0   \n",
       "36879              1.0               0.0              0.0   \n",
       "274531             0.0               0.0              0.0   \n",
       "166397             0.0               0.0              1.0   \n",
       "272722             0.0               0.0              1.0   \n",
       "...                ...               ...              ...   \n",
       "119879             0.0               0.0              1.0   \n",
       "259178             0.0               0.0              1.0   \n",
       "131932             0.0               0.0              0.0   \n",
       "146867             0.0               0.0              0.0   \n",
       "121958             0.0               0.0              0.0   \n",
       "\n",
       "        source_city_Chennai  source_city_Delhi  source_city_Hyderabad  \\\n",
       "148417                  0.0                0.0                    0.0   \n",
       "36879                   0.0                1.0                    0.0   \n",
       "274531                  0.0                0.0                    0.0   \n",
       "166397                  0.0                0.0                    1.0   \n",
       "272722                  0.0                0.0                    0.0   \n",
       "...                     ...                ...                    ...   \n",
       "119879                  0.0                0.0                    0.0   \n",
       "259178                  0.0                0.0                    0.0   \n",
       "131932                  0.0                0.0                    0.0   \n",
       "146867                  0.0                0.0                    0.0   \n",
       "121958                  0.0                0.0                    0.0   \n",
       "\n",
       "        source_city_Kolkata  source_city_Mumbai  departure_time_Early_Morning  \\\n",
       "148417                  1.0                 0.0                           0.0   \n",
       "36879                   0.0                 0.0                           0.0   \n",
       "274531                  1.0                 0.0                           0.0   \n",
       "166397                  0.0                 0.0                           0.0   \n",
       "272722                  1.0                 0.0                           0.0   \n",
       "...                     ...                 ...                           ...   \n",
       "119879                  1.0                 0.0                           0.0   \n",
       "259178                  0.0                 0.0                           0.0   \n",
       "131932                  1.0                 0.0                           0.0   \n",
       "146867                  1.0                 0.0                           0.0   \n",
       "121958                  1.0                 0.0                           0.0   \n",
       "\n",
       "        departure_time_Evening  departure_time_Late_Night  \\\n",
       "148417                     0.0                        0.0   \n",
       "36879                      0.0                        0.0   \n",
       "274531                     0.0                        0.0   \n",
       "166397                     0.0                        0.0   \n",
       "272722                     0.0                        0.0   \n",
       "...                        ...                        ...   \n",
       "119879                     1.0                        0.0   \n",
       "259178                     0.0                        0.0   \n",
       "131932                     0.0                        0.0   \n",
       "146867                     0.0                        0.0   \n",
       "121958                     0.0                        0.0   \n",
       "\n",
       "        departure_time_Morning  departure_time_Night  stops_two_or_more  \\\n",
       "148417                     0.0                   0.0                0.0   \n",
       "36879                      0.0                   0.0                1.0   \n",
       "274531                     0.0                   0.0                0.0   \n",
       "166397                     0.0                   1.0                0.0   \n",
       "272722                     0.0                   1.0                0.0   \n",
       "...                        ...                   ...                ...   \n",
       "119879                     0.0                   0.0                0.0   \n",
       "259178                     0.0                   1.0                0.0   \n",
       "131932                     0.0                   1.0                0.0   \n",
       "146867                     0.0                   0.0                0.0   \n",
       "121958                     0.0                   0.0                0.0   \n",
       "\n",
       "        stops_zero  arrival_time_Early_Morning  arrival_time_Evening  \\\n",
       "148417         0.0                         0.0                   0.0   \n",
       "36879          0.0                         0.0                   0.0   \n",
       "274531         0.0                         0.0                   0.0   \n",
       "166397         0.0                         1.0                   0.0   \n",
       "272722         0.0                         0.0                   0.0   \n",
       "...            ...                         ...                   ...   \n",
       "119879         0.0                         0.0                   0.0   \n",
       "259178         0.0                         0.0                   0.0   \n",
       "131932         0.0                         0.0                   0.0   \n",
       "146867         0.0                         0.0                   0.0   \n",
       "121958         0.0                         0.0                   0.0   \n",
       "\n",
       "        arrival_time_Late_Night  arrival_time_Morning  arrival_time_Night  \\\n",
       "148417                      0.0                   1.0                 0.0   \n",
       "36879                       0.0                   0.0                 1.0   \n",
       "274531                      0.0                   0.0                 0.0   \n",
       "166397                      0.0                   0.0                 0.0   \n",
       "272722                      0.0                   0.0                 1.0   \n",
       "...                         ...                   ...                 ...   \n",
       "119879                      0.0                   0.0                 0.0   \n",
       "259178                      0.0                   0.0                 1.0   \n",
       "131932                      0.0                   1.0                 0.0   \n",
       "146867                      0.0                   0.0                 1.0   \n",
       "121958                      0.0                   1.0                 0.0   \n",
       "\n",
       "        ...  airline_Vistara_Economy  source_city_Chennai_Economy  \\\n",
       "148417  ...                      0.0                          0.0   \n",
       "36879   ...                      0.0                          0.0   \n",
       "274531  ...                      0.0                          0.0   \n",
       "166397  ...                      1.0                          0.0   \n",
       "272722  ...                      0.0                          0.0   \n",
       "...     ...                      ...                          ...   \n",
       "119879  ...                      1.0                          0.0   \n",
       "259178  ...                      0.0                          0.0   \n",
       "131932  ...                      0.0                          0.0   \n",
       "146867  ...                      0.0                          0.0   \n",
       "121958  ...                      0.0                          0.0   \n",
       "\n",
       "        source_city_Delhi_Economy  source_city_Hyderabad_Economy  \\\n",
       "148417                        0.0                            0.0   \n",
       "36879                         1.0                            0.0   \n",
       "274531                        0.0                            0.0   \n",
       "166397                        0.0                            1.0   \n",
       "272722                        0.0                            0.0   \n",
       "...                           ...                            ...   \n",
       "119879                        0.0                            0.0   \n",
       "259178                        0.0                            0.0   \n",
       "131932                        0.0                            0.0   \n",
       "146867                        0.0                            0.0   \n",
       "121958                        0.0                            0.0   \n",
       "\n",
       "        source_city_Kolkata_Economy  source_city_Mumbai_Economy  \\\n",
       "148417                          1.0                         0.0   \n",
       "36879                           0.0                         0.0   \n",
       "274531                          0.0                         0.0   \n",
       "166397                          0.0                         0.0   \n",
       "272722                          0.0                         0.0   \n",
       "...                             ...                         ...   \n",
       "119879                          1.0                         0.0   \n",
       "259178                          0.0                         0.0   \n",
       "131932                          1.0                         0.0   \n",
       "146867                          1.0                         0.0   \n",
       "121958                          1.0                         0.0   \n",
       "\n",
       "        departure_time_Early_Morning_Economy  departure_time_Evening_Economy  \\\n",
       "148417                                   0.0                             0.0   \n",
       "36879                                    0.0                             0.0   \n",
       "274531                                   0.0                             0.0   \n",
       "166397                                   0.0                             0.0   \n",
       "272722                                   0.0                             0.0   \n",
       "...                                      ...                             ...   \n",
       "119879                                   0.0                             1.0   \n",
       "259178                                   0.0                             0.0   \n",
       "131932                                   0.0                             0.0   \n",
       "146867                                   0.0                             0.0   \n",
       "121958                                   0.0                             0.0   \n",
       "\n",
       "        departure_time_Late_Night_Economy  departure_time_Morning_Economy  \\\n",
       "148417                                0.0                             0.0   \n",
       "36879                                 0.0                             0.0   \n",
       "274531                                0.0                             0.0   \n",
       "166397                                0.0                             0.0   \n",
       "272722                                0.0                             0.0   \n",
       "...                                   ...                             ...   \n",
       "119879                                0.0                             0.0   \n",
       "259178                                0.0                             0.0   \n",
       "131932                                0.0                             0.0   \n",
       "146867                                0.0                             0.0   \n",
       "121958                                0.0                             0.0   \n",
       "\n",
       "        departure_time_Night_Economy  stops_two_or_more_Economy  \\\n",
       "148417                           0.0                        0.0   \n",
       "36879                            0.0                        1.0   \n",
       "274531                           0.0                        0.0   \n",
       "166397                           1.0                        0.0   \n",
       "272722                           0.0                        0.0   \n",
       "...                              ...                        ...   \n",
       "119879                           0.0                        0.0   \n",
       "259178                           0.0                        0.0   \n",
       "131932                           1.0                        0.0   \n",
       "146867                           0.0                        0.0   \n",
       "121958                           0.0                        0.0   \n",
       "\n",
       "        stops_zero_Economy  arrival_time_Early_Morning_Economy  \\\n",
       "148417                 0.0                                 0.0   \n",
       "36879                  0.0                                 0.0   \n",
       "274531                 0.0                                 0.0   \n",
       "166397                 0.0                                 1.0   \n",
       "272722                 0.0                                 0.0   \n",
       "...                    ...                                 ...   \n",
       "119879                 0.0                                 0.0   \n",
       "259178                 0.0                                 0.0   \n",
       "131932                 0.0                                 0.0   \n",
       "146867                 0.0                                 0.0   \n",
       "121958                 0.0                                 0.0   \n",
       "\n",
       "        arrival_time_Evening_Economy  arrival_time_Late_Night_Economy  \\\n",
       "148417                           0.0                              0.0   \n",
       "36879                            0.0                              0.0   \n",
       "274531                           0.0                              0.0   \n",
       "166397                           0.0                              0.0   \n",
       "272722                           0.0                              0.0   \n",
       "...                              ...                              ...   \n",
       "119879                           0.0                              0.0   \n",
       "259178                           0.0                              0.0   \n",
       "131932                           0.0                              0.0   \n",
       "146867                           0.0                              0.0   \n",
       "121958                           0.0                              0.0   \n",
       "\n",
       "        arrival_time_Morning_Economy  arrival_time_Night_Economy  \\\n",
       "148417                           1.0                         0.0   \n",
       "36879                            0.0                         1.0   \n",
       "274531                           0.0                         0.0   \n",
       "166397                           0.0                         0.0   \n",
       "272722                           0.0                         0.0   \n",
       "...                              ...                         ...   \n",
       "119879                           0.0                         0.0   \n",
       "259178                           0.0                         0.0   \n",
       "131932                           1.0                         0.0   \n",
       "146867                           0.0                         1.0   \n",
       "121958                           1.0                         0.0   \n",
       "\n",
       "        destination_city_Chennai_Economy  destination_city_Delhi_Economy  \\\n",
       "148417                               1.0                             0.0   \n",
       "36879                                1.0                             0.0   \n",
       "274531                               0.0                             0.0   \n",
       "166397                               0.0                             0.0   \n",
       "272722                               0.0                             0.0   \n",
       "...                                  ...                             ...   \n",
       "119879                               0.0                             1.0   \n",
       "259178                               0.0                             0.0   \n",
       "131932                               0.0                             0.0   \n",
       "146867                               0.0                             0.0   \n",
       "121958                               0.0                             1.0   \n",
       "\n",
       "        destination_city_Hyderabad_Economy  destination_city_Kolkata_Economy  \\\n",
       "148417                                 0.0                               0.0   \n",
       "36879                                  0.0                               0.0   \n",
       "274531                                 0.0                               0.0   \n",
       "166397                                 0.0                               0.0   \n",
       "272722                                 0.0                               0.0   \n",
       "...                                    ...                               ...   \n",
       "119879                                 0.0                               0.0   \n",
       "259178                                 0.0                               0.0   \n",
       "131932                                 0.0                               0.0   \n",
       "146867                                 1.0                               0.0   \n",
       "121958                                 0.0                               0.0   \n",
       "\n",
       "        destination_city_Mumbai_Economy  days_left_inv_Economy  \\\n",
       "148417                              0.0               0.166667   \n",
       "36879                               0.0               0.076923   \n",
       "274531                              0.0               0.000000   \n",
       "166397                              0.0               0.090909   \n",
       "272722                              0.0               0.000000   \n",
       "...                                 ...                    ...   \n",
       "119879                              0.0               0.500000   \n",
       "259178                              0.0               0.000000   \n",
       "131932                              1.0               0.034483   \n",
       "146867                              0.0               0.025641   \n",
       "121958                              0.0               0.058824   \n",
       "\n",
       "        duration_log_Economy  \n",
       "148417              2.966303  \n",
       "36879               1.945910  \n",
       "274531              0.000000  \n",
       "166397              2.327278  \n",
       "272722              0.000000  \n",
       "...                      ...  \n",
       "119879              3.020425  \n",
       "259178              0.000000  \n",
       "131932              2.615204  \n",
       "146867              2.119863  \n",
       "121958              3.004196  \n",
       "\n",
       "[240122 rows x 65 columns]"
      ]
     },
     "execution_count": 10,
     "metadata": {},
     "output_type": "execute_result"
    }
   ],
   "source": [
    "df = df_raw.copy()\n",
    "\n",
    "# Drop uninformative variable\n",
    "df.drop(columns=[\"flight\"], inplace=True)\n",
    "\n",
    "# Set Target variable\n",
    "y = df['price']\n",
    "X = df.drop(columns=['price'])\n",
    "\n",
    "# Onehot Encoding\n",
    "X_encoded = pd.get_dummies(X, drop_first=True)\n",
    "\n",
    "# Add intercept\n",
    "X_encoded = sm.add_constant(X_encoded)\n",
    "\n",
    "print(\"Shape before feature engineering:\", X_encoded.shape)\n",
    "\n",
    "# Add feature transformations\n",
    "X_encoded[\"days_left_inv\"] = 1 / X_encoded[\"days_left\"]\n",
    "X_encoded[\"duration_log\"] = np.log(X_encoded[\"duration\"])\n",
    "\n",
    "# Add interaction features. All Interactions LOLOL\n",
    "for col in X_encoded.columns:\n",
    "    if not col.endswith(\"_Economy\"):\n",
    "        X_encoded[col+\"_Economy\"] = X_encoded[col]*X_encoded[\"class_Economy\"]\n",
    "\n",
    "NUMERICAL_COLS = ['duration', 'days_left', 'days_left_inv', 'duration_log']\n",
    "\n",
    "# Make sure all data is numeric\n",
    "X_encoded = X_encoded.astype(float)\n",
    "y = y.astype(float)\n",
    "\n",
    "X_train, X_test, y_train, y_test = train_test_split(X_encoded, y, test_size=0.2, random_state=42)\n",
    "X_train"
   ]
  },
  {
   "cell_type": "markdown",
   "id": "a25afdc4",
   "metadata": {},
   "source": [
    "## C: Evaluation and Crossvalidation"
   ]
  },
  {
   "cell_type": "code",
   "execution_count": 11,
   "id": "bed73371",
   "metadata": {},
   "outputs": [],
   "source": [
    "def evaluate_predictions(y_true, y_pred):\n",
    "    # Metrics\n",
    "    r2 = r2_score(y_true, y_pred)\n",
    "    mse = mean_squared_error(y_true, y_pred)\n",
    "    rmse = root_mean_squared_error(y_true, y_pred)\n",
    "    mae = mean_absolute_error(y_true, y_pred)\n",
    "\n",
    "    print(f\"R²: {r2:.3f}\")\n",
    "    print(f\"MSE: {mse:.2f}\")\n",
    "    print(f\"RMSE: {rmse:.2f}\")\n",
    "    print(f\"MAE: {mae:.2f}\")\n",
    "\n",
    "def show_nonzero_coefficients(coef:pd.Series):\n",
    "    # Filter non-zero coefficients\n",
    "    nonzero_coef = coef[coef != 0]\n",
    "    print(f\"\\nSelected Coefficients (non-zero): {len(nonzero_coef)}\")\n",
    "    # Build DataFrame with sign and absolute importance\n",
    "    coef_df = pd.DataFrame({\n",
    "        \"Selected Feature\": nonzero_coef.index,\n",
    "        \"Coefficient\": nonzero_coef.values,\n",
    "        \"Importance\": nonzero_coef.abs().values\n",
    "    })\n",
    "\n",
    "    # Sort by absolute importance (descending)\n",
    "    coef_df = coef_df.sort_values(by=\"Importance\", ascending=False).reset_index(drop=True)\n",
    "    coef_df.drop(columns=\"Importance\", inplace=True)\n",
    "    return coef_df"
   ]
  },
  {
   "cell_type": "code",
   "execution_count": 12,
   "id": "3f9ee301",
   "metadata": {},
   "outputs": [
    {
     "name": "stderr",
     "output_type": "stream",
     "text": [
      "c:\\Users\\AsusTUF\\anaconda3\\envs\\tru_linear_models_assignments\\Lib\\site-packages\\sklearn\\linear_model\\_coordinate_descent.py:695: ConvergenceWarning:\n",
      "\n",
      "Objective did not converge. You might want to increase the number of iterations, check the scale of the features or consider increasing regularisation. Duality gap: 3.017e+12, tolerance: 1.237e+10\n",
      "\n",
      "c:\\Users\\AsusTUF\\anaconda3\\envs\\tru_linear_models_assignments\\Lib\\site-packages\\sklearn\\compose\\_column_transformer.py:1667: FutureWarning:\n",
      "\n",
      "\n",
      "The format of the columns of the 'remainder' transformer in ColumnTransformer.transformers_ will change in version 1.7 to match the format of the other transformers.\n",
      "At the moment the remainder columns are stored as indices (of type int). With the same ColumnTransformer configuration, in the future they will be stored as column names (of type str).\n",
      "To use the new behavior now and suppress this warning, use ColumnTransformer(force_int_remainder_cols=False).\n",
      "\n",
      "\n"
     ]
    },
    {
     "data": {
      "text/html": [
       "<style>#sk-container-id-1 {\n",
       "  /* Definition of color scheme common for light and dark mode */\n",
       "  --sklearn-color-text: #000;\n",
       "  --sklearn-color-text-muted: #666;\n",
       "  --sklearn-color-line: gray;\n",
       "  /* Definition of color scheme for unfitted estimators */\n",
       "  --sklearn-color-unfitted-level-0: #fff5e6;\n",
       "  --sklearn-color-unfitted-level-1: #f6e4d2;\n",
       "  --sklearn-color-unfitted-level-2: #ffe0b3;\n",
       "  --sklearn-color-unfitted-level-3: chocolate;\n",
       "  /* Definition of color scheme for fitted estimators */\n",
       "  --sklearn-color-fitted-level-0: #f0f8ff;\n",
       "  --sklearn-color-fitted-level-1: #d4ebff;\n",
       "  --sklearn-color-fitted-level-2: #b3dbfd;\n",
       "  --sklearn-color-fitted-level-3: cornflowerblue;\n",
       "\n",
       "  /* Specific color for light theme */\n",
       "  --sklearn-color-text-on-default-background: var(--sg-text-color, var(--theme-code-foreground, var(--jp-content-font-color1, black)));\n",
       "  --sklearn-color-background: var(--sg-background-color, var(--theme-background, var(--jp-layout-color0, white)));\n",
       "  --sklearn-color-border-box: var(--sg-text-color, var(--theme-code-foreground, var(--jp-content-font-color1, black)));\n",
       "  --sklearn-color-icon: #696969;\n",
       "\n",
       "  @media (prefers-color-scheme: dark) {\n",
       "    /* Redefinition of color scheme for dark theme */\n",
       "    --sklearn-color-text-on-default-background: var(--sg-text-color, var(--theme-code-foreground, var(--jp-content-font-color1, white)));\n",
       "    --sklearn-color-background: var(--sg-background-color, var(--theme-background, var(--jp-layout-color0, #111)));\n",
       "    --sklearn-color-border-box: var(--sg-text-color, var(--theme-code-foreground, var(--jp-content-font-color1, white)));\n",
       "    --sklearn-color-icon: #878787;\n",
       "  }\n",
       "}\n",
       "\n",
       "#sk-container-id-1 {\n",
       "  color: var(--sklearn-color-text);\n",
       "}\n",
       "\n",
       "#sk-container-id-1 pre {\n",
       "  padding: 0;\n",
       "}\n",
       "\n",
       "#sk-container-id-1 input.sk-hidden--visually {\n",
       "  border: 0;\n",
       "  clip: rect(1px 1px 1px 1px);\n",
       "  clip: rect(1px, 1px, 1px, 1px);\n",
       "  height: 1px;\n",
       "  margin: -1px;\n",
       "  overflow: hidden;\n",
       "  padding: 0;\n",
       "  position: absolute;\n",
       "  width: 1px;\n",
       "}\n",
       "\n",
       "#sk-container-id-1 div.sk-dashed-wrapped {\n",
       "  border: 1px dashed var(--sklearn-color-line);\n",
       "  margin: 0 0.4em 0.5em 0.4em;\n",
       "  box-sizing: border-box;\n",
       "  padding-bottom: 0.4em;\n",
       "  background-color: var(--sklearn-color-background);\n",
       "}\n",
       "\n",
       "#sk-container-id-1 div.sk-container {\n",
       "  /* jupyter's `normalize.less` sets `[hidden] { display: none; }`\n",
       "     but bootstrap.min.css set `[hidden] { display: none !important; }`\n",
       "     so we also need the `!important` here to be able to override the\n",
       "     default hidden behavior on the sphinx rendered scikit-learn.org.\n",
       "     See: https://github.com/scikit-learn/scikit-learn/issues/21755 */\n",
       "  display: inline-block !important;\n",
       "  position: relative;\n",
       "}\n",
       "\n",
       "#sk-container-id-1 div.sk-text-repr-fallback {\n",
       "  display: none;\n",
       "}\n",
       "\n",
       "div.sk-parallel-item,\n",
       "div.sk-serial,\n",
       "div.sk-item {\n",
       "  /* draw centered vertical line to link estimators */\n",
       "  background-image: linear-gradient(var(--sklearn-color-text-on-default-background), var(--sklearn-color-text-on-default-background));\n",
       "  background-size: 2px 100%;\n",
       "  background-repeat: no-repeat;\n",
       "  background-position: center center;\n",
       "}\n",
       "\n",
       "/* Parallel-specific style estimator block */\n",
       "\n",
       "#sk-container-id-1 div.sk-parallel-item::after {\n",
       "  content: \"\";\n",
       "  width: 100%;\n",
       "  border-bottom: 2px solid var(--sklearn-color-text-on-default-background);\n",
       "  flex-grow: 1;\n",
       "}\n",
       "\n",
       "#sk-container-id-1 div.sk-parallel {\n",
       "  display: flex;\n",
       "  align-items: stretch;\n",
       "  justify-content: center;\n",
       "  background-color: var(--sklearn-color-background);\n",
       "  position: relative;\n",
       "}\n",
       "\n",
       "#sk-container-id-1 div.sk-parallel-item {\n",
       "  display: flex;\n",
       "  flex-direction: column;\n",
       "}\n",
       "\n",
       "#sk-container-id-1 div.sk-parallel-item:first-child::after {\n",
       "  align-self: flex-end;\n",
       "  width: 50%;\n",
       "}\n",
       "\n",
       "#sk-container-id-1 div.sk-parallel-item:last-child::after {\n",
       "  align-self: flex-start;\n",
       "  width: 50%;\n",
       "}\n",
       "\n",
       "#sk-container-id-1 div.sk-parallel-item:only-child::after {\n",
       "  width: 0;\n",
       "}\n",
       "\n",
       "/* Serial-specific style estimator block */\n",
       "\n",
       "#sk-container-id-1 div.sk-serial {\n",
       "  display: flex;\n",
       "  flex-direction: column;\n",
       "  align-items: center;\n",
       "  background-color: var(--sklearn-color-background);\n",
       "  padding-right: 1em;\n",
       "  padding-left: 1em;\n",
       "}\n",
       "\n",
       "\n",
       "/* Toggleable style: style used for estimator/Pipeline/ColumnTransformer box that is\n",
       "clickable and can be expanded/collapsed.\n",
       "- Pipeline and ColumnTransformer use this feature and define the default style\n",
       "- Estimators will overwrite some part of the style using the `sk-estimator` class\n",
       "*/\n",
       "\n",
       "/* Pipeline and ColumnTransformer style (default) */\n",
       "\n",
       "#sk-container-id-1 div.sk-toggleable {\n",
       "  /* Default theme specific background. It is overwritten whether we have a\n",
       "  specific estimator or a Pipeline/ColumnTransformer */\n",
       "  background-color: var(--sklearn-color-background);\n",
       "}\n",
       "\n",
       "/* Toggleable label */\n",
       "#sk-container-id-1 label.sk-toggleable__label {\n",
       "  cursor: pointer;\n",
       "  display: flex;\n",
       "  width: 100%;\n",
       "  margin-bottom: 0;\n",
       "  padding: 0.5em;\n",
       "  box-sizing: border-box;\n",
       "  text-align: center;\n",
       "  align-items: start;\n",
       "  justify-content: space-between;\n",
       "  gap: 0.5em;\n",
       "}\n",
       "\n",
       "#sk-container-id-1 label.sk-toggleable__label .caption {\n",
       "  font-size: 0.6rem;\n",
       "  font-weight: lighter;\n",
       "  color: var(--sklearn-color-text-muted);\n",
       "}\n",
       "\n",
       "#sk-container-id-1 label.sk-toggleable__label-arrow:before {\n",
       "  /* Arrow on the left of the label */\n",
       "  content: \"▸\";\n",
       "  float: left;\n",
       "  margin-right: 0.25em;\n",
       "  color: var(--sklearn-color-icon);\n",
       "}\n",
       "\n",
       "#sk-container-id-1 label.sk-toggleable__label-arrow:hover:before {\n",
       "  color: var(--sklearn-color-text);\n",
       "}\n",
       "\n",
       "/* Toggleable content - dropdown */\n",
       "\n",
       "#sk-container-id-1 div.sk-toggleable__content {\n",
       "  max-height: 0;\n",
       "  max-width: 0;\n",
       "  overflow: hidden;\n",
       "  text-align: left;\n",
       "  /* unfitted */\n",
       "  background-color: var(--sklearn-color-unfitted-level-0);\n",
       "}\n",
       "\n",
       "#sk-container-id-1 div.sk-toggleable__content.fitted {\n",
       "  /* fitted */\n",
       "  background-color: var(--sklearn-color-fitted-level-0);\n",
       "}\n",
       "\n",
       "#sk-container-id-1 div.sk-toggleable__content pre {\n",
       "  margin: 0.2em;\n",
       "  border-radius: 0.25em;\n",
       "  color: var(--sklearn-color-text);\n",
       "  /* unfitted */\n",
       "  background-color: var(--sklearn-color-unfitted-level-0);\n",
       "}\n",
       "\n",
       "#sk-container-id-1 div.sk-toggleable__content.fitted pre {\n",
       "  /* unfitted */\n",
       "  background-color: var(--sklearn-color-fitted-level-0);\n",
       "}\n",
       "\n",
       "#sk-container-id-1 input.sk-toggleable__control:checked~div.sk-toggleable__content {\n",
       "  /* Expand drop-down */\n",
       "  max-height: 200px;\n",
       "  max-width: 100%;\n",
       "  overflow: auto;\n",
       "}\n",
       "\n",
       "#sk-container-id-1 input.sk-toggleable__control:checked~label.sk-toggleable__label-arrow:before {\n",
       "  content: \"▾\";\n",
       "}\n",
       "\n",
       "/* Pipeline/ColumnTransformer-specific style */\n",
       "\n",
       "#sk-container-id-1 div.sk-label input.sk-toggleable__control:checked~label.sk-toggleable__label {\n",
       "  color: var(--sklearn-color-text);\n",
       "  background-color: var(--sklearn-color-unfitted-level-2);\n",
       "}\n",
       "\n",
       "#sk-container-id-1 div.sk-label.fitted input.sk-toggleable__control:checked~label.sk-toggleable__label {\n",
       "  background-color: var(--sklearn-color-fitted-level-2);\n",
       "}\n",
       "\n",
       "/* Estimator-specific style */\n",
       "\n",
       "/* Colorize estimator box */\n",
       "#sk-container-id-1 div.sk-estimator input.sk-toggleable__control:checked~label.sk-toggleable__label {\n",
       "  /* unfitted */\n",
       "  background-color: var(--sklearn-color-unfitted-level-2);\n",
       "}\n",
       "\n",
       "#sk-container-id-1 div.sk-estimator.fitted input.sk-toggleable__control:checked~label.sk-toggleable__label {\n",
       "  /* fitted */\n",
       "  background-color: var(--sklearn-color-fitted-level-2);\n",
       "}\n",
       "\n",
       "#sk-container-id-1 div.sk-label label.sk-toggleable__label,\n",
       "#sk-container-id-1 div.sk-label label {\n",
       "  /* The background is the default theme color */\n",
       "  color: var(--sklearn-color-text-on-default-background);\n",
       "}\n",
       "\n",
       "/* On hover, darken the color of the background */\n",
       "#sk-container-id-1 div.sk-label:hover label.sk-toggleable__label {\n",
       "  color: var(--sklearn-color-text);\n",
       "  background-color: var(--sklearn-color-unfitted-level-2);\n",
       "}\n",
       "\n",
       "/* Label box, darken color on hover, fitted */\n",
       "#sk-container-id-1 div.sk-label.fitted:hover label.sk-toggleable__label.fitted {\n",
       "  color: var(--sklearn-color-text);\n",
       "  background-color: var(--sklearn-color-fitted-level-2);\n",
       "}\n",
       "\n",
       "/* Estimator label */\n",
       "\n",
       "#sk-container-id-1 div.sk-label label {\n",
       "  font-family: monospace;\n",
       "  font-weight: bold;\n",
       "  display: inline-block;\n",
       "  line-height: 1.2em;\n",
       "}\n",
       "\n",
       "#sk-container-id-1 div.sk-label-container {\n",
       "  text-align: center;\n",
       "}\n",
       "\n",
       "/* Estimator-specific */\n",
       "#sk-container-id-1 div.sk-estimator {\n",
       "  font-family: monospace;\n",
       "  border: 1px dotted var(--sklearn-color-border-box);\n",
       "  border-radius: 0.25em;\n",
       "  box-sizing: border-box;\n",
       "  margin-bottom: 0.5em;\n",
       "  /* unfitted */\n",
       "  background-color: var(--sklearn-color-unfitted-level-0);\n",
       "}\n",
       "\n",
       "#sk-container-id-1 div.sk-estimator.fitted {\n",
       "  /* fitted */\n",
       "  background-color: var(--sklearn-color-fitted-level-0);\n",
       "}\n",
       "\n",
       "/* on hover */\n",
       "#sk-container-id-1 div.sk-estimator:hover {\n",
       "  /* unfitted */\n",
       "  background-color: var(--sklearn-color-unfitted-level-2);\n",
       "}\n",
       "\n",
       "#sk-container-id-1 div.sk-estimator.fitted:hover {\n",
       "  /* fitted */\n",
       "  background-color: var(--sklearn-color-fitted-level-2);\n",
       "}\n",
       "\n",
       "/* Specification for estimator info (e.g. \"i\" and \"?\") */\n",
       "\n",
       "/* Common style for \"i\" and \"?\" */\n",
       "\n",
       ".sk-estimator-doc-link,\n",
       "a:link.sk-estimator-doc-link,\n",
       "a:visited.sk-estimator-doc-link {\n",
       "  float: right;\n",
       "  font-size: smaller;\n",
       "  line-height: 1em;\n",
       "  font-family: monospace;\n",
       "  background-color: var(--sklearn-color-background);\n",
       "  border-radius: 1em;\n",
       "  height: 1em;\n",
       "  width: 1em;\n",
       "  text-decoration: none !important;\n",
       "  margin-left: 0.5em;\n",
       "  text-align: center;\n",
       "  /* unfitted */\n",
       "  border: var(--sklearn-color-unfitted-level-1) 1pt solid;\n",
       "  color: var(--sklearn-color-unfitted-level-1);\n",
       "}\n",
       "\n",
       ".sk-estimator-doc-link.fitted,\n",
       "a:link.sk-estimator-doc-link.fitted,\n",
       "a:visited.sk-estimator-doc-link.fitted {\n",
       "  /* fitted */\n",
       "  border: var(--sklearn-color-fitted-level-1) 1pt solid;\n",
       "  color: var(--sklearn-color-fitted-level-1);\n",
       "}\n",
       "\n",
       "/* On hover */\n",
       "div.sk-estimator:hover .sk-estimator-doc-link:hover,\n",
       ".sk-estimator-doc-link:hover,\n",
       "div.sk-label-container:hover .sk-estimator-doc-link:hover,\n",
       ".sk-estimator-doc-link:hover {\n",
       "  /* unfitted */\n",
       "  background-color: var(--sklearn-color-unfitted-level-3);\n",
       "  color: var(--sklearn-color-background);\n",
       "  text-decoration: none;\n",
       "}\n",
       "\n",
       "div.sk-estimator.fitted:hover .sk-estimator-doc-link.fitted:hover,\n",
       ".sk-estimator-doc-link.fitted:hover,\n",
       "div.sk-label-container:hover .sk-estimator-doc-link.fitted:hover,\n",
       ".sk-estimator-doc-link.fitted:hover {\n",
       "  /* fitted */\n",
       "  background-color: var(--sklearn-color-fitted-level-3);\n",
       "  color: var(--sklearn-color-background);\n",
       "  text-decoration: none;\n",
       "}\n",
       "\n",
       "/* Span, style for the box shown on hovering the info icon */\n",
       ".sk-estimator-doc-link span {\n",
       "  display: none;\n",
       "  z-index: 9999;\n",
       "  position: relative;\n",
       "  font-weight: normal;\n",
       "  right: .2ex;\n",
       "  padding: .5ex;\n",
       "  margin: .5ex;\n",
       "  width: min-content;\n",
       "  min-width: 20ex;\n",
       "  max-width: 50ex;\n",
       "  color: var(--sklearn-color-text);\n",
       "  box-shadow: 2pt 2pt 4pt #999;\n",
       "  /* unfitted */\n",
       "  background: var(--sklearn-color-unfitted-level-0);\n",
       "  border: .5pt solid var(--sklearn-color-unfitted-level-3);\n",
       "}\n",
       "\n",
       ".sk-estimator-doc-link.fitted span {\n",
       "  /* fitted */\n",
       "  background: var(--sklearn-color-fitted-level-0);\n",
       "  border: var(--sklearn-color-fitted-level-3);\n",
       "}\n",
       "\n",
       ".sk-estimator-doc-link:hover span {\n",
       "  display: block;\n",
       "}\n",
       "\n",
       "/* \"?\"-specific style due to the `<a>` HTML tag */\n",
       "\n",
       "#sk-container-id-1 a.estimator_doc_link {\n",
       "  float: right;\n",
       "  font-size: 1rem;\n",
       "  line-height: 1em;\n",
       "  font-family: monospace;\n",
       "  background-color: var(--sklearn-color-background);\n",
       "  border-radius: 1rem;\n",
       "  height: 1rem;\n",
       "  width: 1rem;\n",
       "  text-decoration: none;\n",
       "  /* unfitted */\n",
       "  color: var(--sklearn-color-unfitted-level-1);\n",
       "  border: var(--sklearn-color-unfitted-level-1) 1pt solid;\n",
       "}\n",
       "\n",
       "#sk-container-id-1 a.estimator_doc_link.fitted {\n",
       "  /* fitted */\n",
       "  border: var(--sklearn-color-fitted-level-1) 1pt solid;\n",
       "  color: var(--sklearn-color-fitted-level-1);\n",
       "}\n",
       "\n",
       "/* On hover */\n",
       "#sk-container-id-1 a.estimator_doc_link:hover {\n",
       "  /* unfitted */\n",
       "  background-color: var(--sklearn-color-unfitted-level-3);\n",
       "  color: var(--sklearn-color-background);\n",
       "  text-decoration: none;\n",
       "}\n",
       "\n",
       "#sk-container-id-1 a.estimator_doc_link.fitted:hover {\n",
       "  /* fitted */\n",
       "  background-color: var(--sklearn-color-fitted-level-3);\n",
       "}\n",
       "</style><div id=\"sk-container-id-1\" class=\"sk-top-container\"><div class=\"sk-text-repr-fallback\"><pre>Pipeline(steps=[(&#x27;preprocessor&#x27;,\n",
       "                 ColumnTransformer(remainder=&#x27;passthrough&#x27;,\n",
       "                                   transformers=[(&#x27;num&#x27;, StandardScaler(),\n",
       "                                                  [&#x27;duration&#x27;, &#x27;days_left&#x27;,\n",
       "                                                   &#x27;days_left_inv&#x27;,\n",
       "                                                   &#x27;duration_log&#x27;])])),\n",
       "                (&#x27;lasso_cv&#x27;,\n",
       "                 LassoCV(alphas=[0.0001, 0.0003, 0.001, 0.003, 0.01, 0.03, 0.1,\n",
       "                                 0.3, 1.0, 3.0, 10.0, 30, 100, 300, 1000],\n",
       "                         cv=10, max_iter=10000, n_jobs=-1))])</pre><b>In a Jupyter environment, please rerun this cell to show the HTML representation or trust the notebook. <br />On GitHub, the HTML representation is unable to render, please try loading this page with nbviewer.org.</b></div><div class=\"sk-container\" hidden><div class=\"sk-item sk-dashed-wrapped\"><div class=\"sk-label-container\"><div class=\"sk-label fitted sk-toggleable\"><input class=\"sk-toggleable__control sk-hidden--visually\" id=\"sk-estimator-id-1\" type=\"checkbox\" ><label for=\"sk-estimator-id-1\" class=\"sk-toggleable__label fitted sk-toggleable__label-arrow\"><div><div>Pipeline</div></div><div><a class=\"sk-estimator-doc-link fitted\" rel=\"noreferrer\" target=\"_blank\" href=\"https://scikit-learn.org/1.6/modules/generated/sklearn.pipeline.Pipeline.html\">?<span>Documentation for Pipeline</span></a><span class=\"sk-estimator-doc-link fitted\">i<span>Fitted</span></span></div></label><div class=\"sk-toggleable__content fitted\"><pre>Pipeline(steps=[(&#x27;preprocessor&#x27;,\n",
       "                 ColumnTransformer(remainder=&#x27;passthrough&#x27;,\n",
       "                                   transformers=[(&#x27;num&#x27;, StandardScaler(),\n",
       "                                                  [&#x27;duration&#x27;, &#x27;days_left&#x27;,\n",
       "                                                   &#x27;days_left_inv&#x27;,\n",
       "                                                   &#x27;duration_log&#x27;])])),\n",
       "                (&#x27;lasso_cv&#x27;,\n",
       "                 LassoCV(alphas=[0.0001, 0.0003, 0.001, 0.003, 0.01, 0.03, 0.1,\n",
       "                                 0.3, 1.0, 3.0, 10.0, 30, 100, 300, 1000],\n",
       "                         cv=10, max_iter=10000, n_jobs=-1))])</pre></div> </div></div><div class=\"sk-serial\"><div class=\"sk-item sk-dashed-wrapped\"><div class=\"sk-label-container\"><div class=\"sk-label fitted sk-toggleable\"><input class=\"sk-toggleable__control sk-hidden--visually\" id=\"sk-estimator-id-2\" type=\"checkbox\" ><label for=\"sk-estimator-id-2\" class=\"sk-toggleable__label fitted sk-toggleable__label-arrow\"><div><div>preprocessor: ColumnTransformer</div></div><div><a class=\"sk-estimator-doc-link fitted\" rel=\"noreferrer\" target=\"_blank\" href=\"https://scikit-learn.org/1.6/modules/generated/sklearn.compose.ColumnTransformer.html\">?<span>Documentation for preprocessor: ColumnTransformer</span></a></div></label><div class=\"sk-toggleable__content fitted\"><pre>ColumnTransformer(remainder=&#x27;passthrough&#x27;,\n",
       "                  transformers=[(&#x27;num&#x27;, StandardScaler(),\n",
       "                                 [&#x27;duration&#x27;, &#x27;days_left&#x27;, &#x27;days_left_inv&#x27;,\n",
       "                                  &#x27;duration_log&#x27;])])</pre></div> </div></div><div class=\"sk-parallel\"><div class=\"sk-parallel-item\"><div class=\"sk-item\"><div class=\"sk-label-container\"><div class=\"sk-label fitted sk-toggleable\"><input class=\"sk-toggleable__control sk-hidden--visually\" id=\"sk-estimator-id-3\" type=\"checkbox\" ><label for=\"sk-estimator-id-3\" class=\"sk-toggleable__label fitted sk-toggleable__label-arrow\"><div><div>num</div></div></label><div class=\"sk-toggleable__content fitted\"><pre>[&#x27;duration&#x27;, &#x27;days_left&#x27;, &#x27;days_left_inv&#x27;, &#x27;duration_log&#x27;]</pre></div> </div></div><div class=\"sk-serial\"><div class=\"sk-item\"><div class=\"sk-estimator fitted sk-toggleable\"><input class=\"sk-toggleable__control sk-hidden--visually\" id=\"sk-estimator-id-4\" type=\"checkbox\" ><label for=\"sk-estimator-id-4\" class=\"sk-toggleable__label fitted sk-toggleable__label-arrow\"><div><div>StandardScaler</div></div><div><a class=\"sk-estimator-doc-link fitted\" rel=\"noreferrer\" target=\"_blank\" href=\"https://scikit-learn.org/1.6/modules/generated/sklearn.preprocessing.StandardScaler.html\">?<span>Documentation for StandardScaler</span></a></div></label><div class=\"sk-toggleable__content fitted\"><pre>StandardScaler()</pre></div> </div></div></div></div></div><div class=\"sk-parallel-item\"><div class=\"sk-item\"><div class=\"sk-label-container\"><div class=\"sk-label fitted sk-toggleable\"><input class=\"sk-toggleable__control sk-hidden--visually\" id=\"sk-estimator-id-5\" type=\"checkbox\" ><label for=\"sk-estimator-id-5\" class=\"sk-toggleable__label fitted sk-toggleable__label-arrow\"><div><div>remainder</div></div></label><div class=\"sk-toggleable__content fitted\"><pre>[&#x27;const&#x27;, &#x27;airline_Air_India&#x27;, &#x27;airline_GO_FIRST&#x27;, &#x27;airline_Indigo&#x27;, &#x27;airline_SpiceJet&#x27;, &#x27;airline_Vistara&#x27;, &#x27;source_city_Chennai&#x27;, &#x27;source_city_Delhi&#x27;, &#x27;source_city_Hyderabad&#x27;, &#x27;source_city_Kolkata&#x27;, &#x27;source_city_Mumbai&#x27;, &#x27;departure_time_Early_Morning&#x27;, &#x27;departure_time_Evening&#x27;, &#x27;departure_time_Late_Night&#x27;, &#x27;departure_time_Morning&#x27;, &#x27;departure_time_Night&#x27;, &#x27;stops_two_or_more&#x27;, &#x27;stops_zero&#x27;, &#x27;arrival_time_Early_Morning&#x27;, &#x27;arrival_time_Evening&#x27;, &#x27;arrival_time_Late_Night&#x27;, &#x27;arrival_time_Morning&#x27;, &#x27;arrival_time_Night&#x27;, &#x27;destination_city_Chennai&#x27;, &#x27;destination_city_Delhi&#x27;, &#x27;destination_city_Hyderabad&#x27;, &#x27;destination_city_Kolkata&#x27;, &#x27;destination_city_Mumbai&#x27;, &#x27;class_Economy&#x27;, &#x27;const_Economy&#x27;, &#x27;duration_Economy&#x27;, &#x27;days_left_Economy&#x27;, &#x27;airline_Air_India_Economy&#x27;, &#x27;airline_GO_FIRST_Economy&#x27;, &#x27;airline_Indigo_Economy&#x27;, &#x27;airline_SpiceJet_Economy&#x27;, &#x27;airline_Vistara_Economy&#x27;, &#x27;source_city_Chennai_Economy&#x27;, &#x27;source_city_Delhi_Economy&#x27;, &#x27;source_city_Hyderabad_Economy&#x27;, &#x27;source_city_Kolkata_Economy&#x27;, &#x27;source_city_Mumbai_Economy&#x27;, &#x27;departure_time_Early_Morning_Economy&#x27;, &#x27;departure_time_Evening_Economy&#x27;, &#x27;departure_time_Late_Night_Economy&#x27;, &#x27;departure_time_Morning_Economy&#x27;, &#x27;departure_time_Night_Economy&#x27;, &#x27;stops_two_or_more_Economy&#x27;, &#x27;stops_zero_Economy&#x27;, &#x27;arrival_time_Early_Morning_Economy&#x27;, &#x27;arrival_time_Evening_Economy&#x27;, &#x27;arrival_time_Late_Night_Economy&#x27;, &#x27;arrival_time_Morning_Economy&#x27;, &#x27;arrival_time_Night_Economy&#x27;, &#x27;destination_city_Chennai_Economy&#x27;, &#x27;destination_city_Delhi_Economy&#x27;, &#x27;destination_city_Hyderabad_Economy&#x27;, &#x27;destination_city_Kolkata_Economy&#x27;, &#x27;destination_city_Mumbai_Economy&#x27;, &#x27;days_left_inv_Economy&#x27;, &#x27;duration_log_Economy&#x27;]</pre></div> </div></div><div class=\"sk-serial\"><div class=\"sk-item\"><div class=\"sk-estimator fitted sk-toggleable\"><input class=\"sk-toggleable__control sk-hidden--visually\" id=\"sk-estimator-id-6\" type=\"checkbox\" ><label for=\"sk-estimator-id-6\" class=\"sk-toggleable__label fitted sk-toggleable__label-arrow\"><div><div>passthrough</div></div></label><div class=\"sk-toggleable__content fitted\"><pre>passthrough</pre></div> </div></div></div></div></div></div></div><div class=\"sk-item\"><div class=\"sk-estimator fitted sk-toggleable\"><input class=\"sk-toggleable__control sk-hidden--visually\" id=\"sk-estimator-id-7\" type=\"checkbox\" ><label for=\"sk-estimator-id-7\" class=\"sk-toggleable__label fitted sk-toggleable__label-arrow\"><div><div>LassoCV</div></div><div><a class=\"sk-estimator-doc-link fitted\" rel=\"noreferrer\" target=\"_blank\" href=\"https://scikit-learn.org/1.6/modules/generated/sklearn.linear_model.LassoCV.html\">?<span>Documentation for LassoCV</span></a></div></label><div class=\"sk-toggleable__content fitted\"><pre>LassoCV(alphas=[0.0001, 0.0003, 0.001, 0.003, 0.01, 0.03, 0.1, 0.3, 1.0, 3.0,\n",
       "                10.0, 30, 100, 300, 1000],\n",
       "        cv=10, max_iter=10000, n_jobs=-1)</pre></div> </div></div></div></div></div></div>"
      ],
      "text/plain": [
       "Pipeline(steps=[('preprocessor',\n",
       "                 ColumnTransformer(remainder='passthrough',\n",
       "                                   transformers=[('num', StandardScaler(),\n",
       "                                                  ['duration', 'days_left',\n",
       "                                                   'days_left_inv',\n",
       "                                                   'duration_log'])])),\n",
       "                ('lasso_cv',\n",
       "                 LassoCV(alphas=[0.0001, 0.0003, 0.001, 0.003, 0.01, 0.03, 0.1,\n",
       "                                 0.3, 1.0, 3.0, 10.0, 30, 100, 300, 1000],\n",
       "                         cv=10, max_iter=10000, n_jobs=-1))])"
      ]
     },
     "execution_count": 12,
     "metadata": {},
     "output_type": "execute_result"
    }
   ],
   "source": [
    "# 3. Define alpha (lambda) values to search\n",
    "alphas = [0.0001, 0.0003, 0.001, 0.003, 0.01, 0.03, 0.1, 0.3, 1.0, 3.0, 10.0, 30 ,100, 300, 1000]\n",
    "\n",
    "# Preprocessing: scale numericals, pass-through the rest\n",
    "preprocessor = ColumnTransformer(\n",
    "    transformers=[\n",
    "        ('num', StandardScaler(), NUMERICAL_COLS)\n",
    "    ],\n",
    "    remainder='passthrough'  # leave one-hot encoded dummies unchanged\n",
    ")\n",
    "\n",
    "# 4. Create pipeline with LassoCV\n",
    "lassocv_pipeline = Pipeline([\n",
    "    ('preprocessor', preprocessor),\n",
    "    ('lasso_cv', LassoCV(alphas=alphas, cv=10, max_iter=10000, n_jobs=-1))\n",
    "])\n",
    "\n",
    "# 6. Fit pipeline\n",
    "lassocv_pipeline.fit(X_train, y_train)"
   ]
  },
  {
   "cell_type": "code",
   "execution_count": 13,
   "id": "baa22feb",
   "metadata": {},
   "outputs": [
    {
     "name": "stdout",
     "output_type": "stream",
     "text": [
      "Best lambda (alpha) from CV: 0.001\n",
      "Metrics Train:\n",
      "R²: 0.947\n",
      "MSE: 27071180.72\n",
      "RMSE: 5203.00\n",
      "MAE: 3271.94\n",
      "\n",
      "Metrics Test:\n",
      "R²: 0.947\n",
      "MSE: 27559829.99\n",
      "RMSE: 5249.75\n",
      "MAE: 3274.94\n",
      "\n",
      "Selected Coefficients (non-zero): 64\n"
     ]
    },
    {
     "data": {
      "text/html": [
       "<div>\n",
       "<style scoped>\n",
       "    .dataframe tbody tr th:only-of-type {\n",
       "        vertical-align: middle;\n",
       "    }\n",
       "\n",
       "    .dataframe tbody tr th {\n",
       "        vertical-align: top;\n",
       "    }\n",
       "\n",
       "    .dataframe thead th {\n",
       "        text-align: right;\n",
       "    }\n",
       "</style>\n",
       "<table border=\"1\" class=\"dataframe\">\n",
       "  <thead>\n",
       "    <tr style=\"text-align: right;\">\n",
       "      <th></th>\n",
       "      <th>Selected Feature</th>\n",
       "      <th>Coefficient</th>\n",
       "    </tr>\n",
       "  </thead>\n",
       "  <tbody>\n",
       "    <tr>\n",
       "      <th>0</th>\n",
       "      <td>duration_log_Economy</td>\n",
       "      <td>-1.864659e+04</td>\n",
       "    </tr>\n",
       "    <tr>\n",
       "      <th>1</th>\n",
       "      <td>airline_Indigo_Economy</td>\n",
       "      <td>1.539902e+04</td>\n",
       "    </tr>\n",
       "    <tr>\n",
       "      <th>2</th>\n",
       "      <td>source_city_Delhi</td>\n",
       "      <td>1.487386e+04</td>\n",
       "    </tr>\n",
       "    <tr>\n",
       "      <th>3</th>\n",
       "      <td>airline_Air_India</td>\n",
       "      <td>1.424113e+04</td>\n",
       "    </tr>\n",
       "    <tr>\n",
       "      <th>4</th>\n",
       "      <td>airline_Vistara</td>\n",
       "      <td>-1.391026e+04</td>\n",
       "    </tr>\n",
       "    <tr>\n",
       "      <th>...</th>\n",
       "      <td>...</td>\n",
       "      <td>...</td>\n",
       "    </tr>\n",
       "    <tr>\n",
       "      <th>59</th>\n",
       "      <td>destination_city_Chennai</td>\n",
       "      <td>2.339387e+02</td>\n",
       "    </tr>\n",
       "    <tr>\n",
       "      <th>60</th>\n",
       "      <td>departure_time_Early_Morning_Economy</td>\n",
       "      <td>-2.213836e+02</td>\n",
       "    </tr>\n",
       "    <tr>\n",
       "      <th>61</th>\n",
       "      <td>days_left_Economy</td>\n",
       "      <td>-1.053945e+02</td>\n",
       "    </tr>\n",
       "    <tr>\n",
       "      <th>62</th>\n",
       "      <td>duration</td>\n",
       "      <td>-3.606824e+01</td>\n",
       "    </tr>\n",
       "    <tr>\n",
       "      <th>63</th>\n",
       "      <td>const_Economy</td>\n",
       "      <td>-1.670843e-08</td>\n",
       "    </tr>\n",
       "  </tbody>\n",
       "</table>\n",
       "<p>64 rows × 2 columns</p>\n",
       "</div>"
      ],
      "text/plain": [
       "                        Selected Feature   Coefficient\n",
       "0                   duration_log_Economy -1.864659e+04\n",
       "1                 airline_Indigo_Economy  1.539902e+04\n",
       "2                      source_city_Delhi  1.487386e+04\n",
       "3                      airline_Air_India  1.424113e+04\n",
       "4                        airline_Vistara -1.391026e+04\n",
       "..                                   ...           ...\n",
       "59              destination_city_Chennai  2.339387e+02\n",
       "60  departure_time_Early_Morning_Economy -2.213836e+02\n",
       "61                     days_left_Economy -1.053945e+02\n",
       "62                              duration -3.606824e+01\n",
       "63                         const_Economy -1.670843e-08\n",
       "\n",
       "[64 rows x 2 columns]"
      ]
     },
     "execution_count": 13,
     "metadata": {},
     "output_type": "execute_result"
    }
   ],
   "source": [
    "# 7. Best lambda\n",
    "best_alpha = lassocv_pipeline.named_steps['lasso_cv'].alpha_\n",
    "print(f\"Best lambda (alpha) from CV: {best_alpha}\")\n",
    "\n",
    "print(\"Metrics Train:\")\n",
    "y_pred = lassocv_pipeline.predict(X_train)\n",
    "evaluate_predictions(y_train, y_pred)\n",
    "\n",
    "print(\"\\nMetrics Test:\")\n",
    "y_pred = lassocv_pipeline.predict(X_test)\n",
    "evaluate_predictions(y_test, y_pred)\n",
    "\n",
    "# 6. Extract coefficients\n",
    "lasso = lassocv_pipeline.named_steps['lasso_cv']\n",
    "coef = pd.Series(lasso.coef_, index=X_encoded.columns)\n",
    "show_nonzero_coefficients(coef)"
   ]
  },
  {
   "cell_type": "code",
   "execution_count": 14,
   "id": "4c81f15b",
   "metadata": {},
   "outputs": [
    {
     "name": "stdout",
     "output_type": "stream",
     "text": [
      "Best alpha (min MSE): 0.001\n",
      "MSE_min: 27092819.45\n",
      "1_SE: 27092819.45\n",
      "MSE_min + 1-SE threshold: 27620180.72\n",
      "Alpha from 1-SE rule: 10.0\n"
     ]
    },
    {
     "data": {
      "application/vnd.plotly.v1+json": {
       "config": {
        "plotlyServerURL": "https://plot.ly"
       },
       "data": [
        {
         "error_y": {
          "array": {
           "bdata": "ofvgpPOuKEFA0zPRUWolQUyUUixmMSJBM5yoVbWNIEEWDSmnKh0gQXuN9nCv9x9BsNgkiUEPIEHdD+xrsBogQVQGhUqGGCBBxxvxRR8YIEG6SGmUChggQUVV8UEEGCBB8f79iQIYIEEfKGDyARggQcONR8cBGCBB",
           "dtype": "f8"
          },
          "type": "data",
          "visible": true
         },
         "line": {
          "color": "royalblue"
         },
         "marker": {
          "size": 8
         },
         "mode": "lines+markers",
         "name": "Mean CV MSE",
         "type": "scatter",
         "x": {
          "bdata": "AAAAAABAj0AAAAAAAMByQAAAAAAAAFlAAAAAAAAAPkAAAAAAAAAkQAAAAAAAAAhAAAAAAAAA8D8zMzMzMzPTP5qZmZmZmbk/uB6F61G4nj97FK5H4XqEP/p+arx0k2g//Knx0k1iUD9hMlUwKqkzPy1DHOviNho/",
          "dtype": "f8"
         },
         "y": {
          "bdata": "ILJ2+fiMjEHdKqjIZzCFQQ57HbrrJ39Bg+BR/Yrre0Ebwj9VZkp6QQvUjk915HlB+KTc4ojYeUG++Apn4tZ5Qbuv7AiB1nlB4M7WLnbWeUHToWZLddZ5Qe2jQjd11nlB/kQrN3XWeUElVbs3ddZ5QaP88jd11nlB",
          "dtype": "f8"
         }
        },
        {
         "line": {
          "color": "red",
          "dash": "dash"
         },
         "mode": "lines",
         "name": "Best alpha = 0.0010",
         "type": "scatter",
         "x": [
          0.001,
          0.001
         ],
         "y": [
          25738178.47566065,
          62868858.342104785
         ]
        },
        {
         "line": {
          "color": "green",
          "dash": "dot"
         },
         "mode": "lines",
         "name": "1-SE alpha = 10.0000",
         "type": "scatter",
         "x": [
          10,
          10
         ],
         "y": [
          25738178.47566065,
          62868858.342104785
         ]
        }
       ],
       "layout": {
        "height": 500,
        "legend": {
         "x": 0.01,
         "y": 0.99
        },
        "template": {
         "data": {
          "bar": [
           {
            "error_x": {
             "color": "#2a3f5f"
            },
            "error_y": {
             "color": "#2a3f5f"
            },
            "marker": {
             "line": {
              "color": "white",
              "width": 0.5
             },
             "pattern": {
              "fillmode": "overlay",
              "size": 10,
              "solidity": 0.2
             }
            },
            "type": "bar"
           }
          ],
          "barpolar": [
           {
            "marker": {
             "line": {
              "color": "white",
              "width": 0.5
             },
             "pattern": {
              "fillmode": "overlay",
              "size": 10,
              "solidity": 0.2
             }
            },
            "type": "barpolar"
           }
          ],
          "carpet": [
           {
            "aaxis": {
             "endlinecolor": "#2a3f5f",
             "gridcolor": "#C8D4E3",
             "linecolor": "#C8D4E3",
             "minorgridcolor": "#C8D4E3",
             "startlinecolor": "#2a3f5f"
            },
            "baxis": {
             "endlinecolor": "#2a3f5f",
             "gridcolor": "#C8D4E3",
             "linecolor": "#C8D4E3",
             "minorgridcolor": "#C8D4E3",
             "startlinecolor": "#2a3f5f"
            },
            "type": "carpet"
           }
          ],
          "choropleth": [
           {
            "colorbar": {
             "outlinewidth": 0,
             "ticks": ""
            },
            "type": "choropleth"
           }
          ],
          "contour": [
           {
            "colorbar": {
             "outlinewidth": 0,
             "ticks": ""
            },
            "colorscale": [
             [
              0,
              "#0d0887"
             ],
             [
              0.1111111111111111,
              "#46039f"
             ],
             [
              0.2222222222222222,
              "#7201a8"
             ],
             [
              0.3333333333333333,
              "#9c179e"
             ],
             [
              0.4444444444444444,
              "#bd3786"
             ],
             [
              0.5555555555555556,
              "#d8576b"
             ],
             [
              0.6666666666666666,
              "#ed7953"
             ],
             [
              0.7777777777777778,
              "#fb9f3a"
             ],
             [
              0.8888888888888888,
              "#fdca26"
             ],
             [
              1,
              "#f0f921"
             ]
            ],
            "type": "contour"
           }
          ],
          "contourcarpet": [
           {
            "colorbar": {
             "outlinewidth": 0,
             "ticks": ""
            },
            "type": "contourcarpet"
           }
          ],
          "heatmap": [
           {
            "colorbar": {
             "outlinewidth": 0,
             "ticks": ""
            },
            "colorscale": [
             [
              0,
              "#0d0887"
             ],
             [
              0.1111111111111111,
              "#46039f"
             ],
             [
              0.2222222222222222,
              "#7201a8"
             ],
             [
              0.3333333333333333,
              "#9c179e"
             ],
             [
              0.4444444444444444,
              "#bd3786"
             ],
             [
              0.5555555555555556,
              "#d8576b"
             ],
             [
              0.6666666666666666,
              "#ed7953"
             ],
             [
              0.7777777777777778,
              "#fb9f3a"
             ],
             [
              0.8888888888888888,
              "#fdca26"
             ],
             [
              1,
              "#f0f921"
             ]
            ],
            "type": "heatmap"
           }
          ],
          "histogram": [
           {
            "marker": {
             "pattern": {
              "fillmode": "overlay",
              "size": 10,
              "solidity": 0.2
             }
            },
            "type": "histogram"
           }
          ],
          "histogram2d": [
           {
            "colorbar": {
             "outlinewidth": 0,
             "ticks": ""
            },
            "colorscale": [
             [
              0,
              "#0d0887"
             ],
             [
              0.1111111111111111,
              "#46039f"
             ],
             [
              0.2222222222222222,
              "#7201a8"
             ],
             [
              0.3333333333333333,
              "#9c179e"
             ],
             [
              0.4444444444444444,
              "#bd3786"
             ],
             [
              0.5555555555555556,
              "#d8576b"
             ],
             [
              0.6666666666666666,
              "#ed7953"
             ],
             [
              0.7777777777777778,
              "#fb9f3a"
             ],
             [
              0.8888888888888888,
              "#fdca26"
             ],
             [
              1,
              "#f0f921"
             ]
            ],
            "type": "histogram2d"
           }
          ],
          "histogram2dcontour": [
           {
            "colorbar": {
             "outlinewidth": 0,
             "ticks": ""
            },
            "colorscale": [
             [
              0,
              "#0d0887"
             ],
             [
              0.1111111111111111,
              "#46039f"
             ],
             [
              0.2222222222222222,
              "#7201a8"
             ],
             [
              0.3333333333333333,
              "#9c179e"
             ],
             [
              0.4444444444444444,
              "#bd3786"
             ],
             [
              0.5555555555555556,
              "#d8576b"
             ],
             [
              0.6666666666666666,
              "#ed7953"
             ],
             [
              0.7777777777777778,
              "#fb9f3a"
             ],
             [
              0.8888888888888888,
              "#fdca26"
             ],
             [
              1,
              "#f0f921"
             ]
            ],
            "type": "histogram2dcontour"
           }
          ],
          "mesh3d": [
           {
            "colorbar": {
             "outlinewidth": 0,
             "ticks": ""
            },
            "type": "mesh3d"
           }
          ],
          "parcoords": [
           {
            "line": {
             "colorbar": {
              "outlinewidth": 0,
              "ticks": ""
             }
            },
            "type": "parcoords"
           }
          ],
          "pie": [
           {
            "automargin": true,
            "type": "pie"
           }
          ],
          "scatter": [
           {
            "fillpattern": {
             "fillmode": "overlay",
             "size": 10,
             "solidity": 0.2
            },
            "type": "scatter"
           }
          ],
          "scatter3d": [
           {
            "line": {
             "colorbar": {
              "outlinewidth": 0,
              "ticks": ""
             }
            },
            "marker": {
             "colorbar": {
              "outlinewidth": 0,
              "ticks": ""
             }
            },
            "type": "scatter3d"
           }
          ],
          "scattercarpet": [
           {
            "marker": {
             "colorbar": {
              "outlinewidth": 0,
              "ticks": ""
             }
            },
            "type": "scattercarpet"
           }
          ],
          "scattergeo": [
           {
            "marker": {
             "colorbar": {
              "outlinewidth": 0,
              "ticks": ""
             }
            },
            "type": "scattergeo"
           }
          ],
          "scattergl": [
           {
            "marker": {
             "colorbar": {
              "outlinewidth": 0,
              "ticks": ""
             }
            },
            "type": "scattergl"
           }
          ],
          "scattermap": [
           {
            "marker": {
             "colorbar": {
              "outlinewidth": 0,
              "ticks": ""
             }
            },
            "type": "scattermap"
           }
          ],
          "scattermapbox": [
           {
            "marker": {
             "colorbar": {
              "outlinewidth": 0,
              "ticks": ""
             }
            },
            "type": "scattermapbox"
           }
          ],
          "scatterpolar": [
           {
            "marker": {
             "colorbar": {
              "outlinewidth": 0,
              "ticks": ""
             }
            },
            "type": "scatterpolar"
           }
          ],
          "scatterpolargl": [
           {
            "marker": {
             "colorbar": {
              "outlinewidth": 0,
              "ticks": ""
             }
            },
            "type": "scatterpolargl"
           }
          ],
          "scatterternary": [
           {
            "marker": {
             "colorbar": {
              "outlinewidth": 0,
              "ticks": ""
             }
            },
            "type": "scatterternary"
           }
          ],
          "surface": [
           {
            "colorbar": {
             "outlinewidth": 0,
             "ticks": ""
            },
            "colorscale": [
             [
              0,
              "#0d0887"
             ],
             [
              0.1111111111111111,
              "#46039f"
             ],
             [
              0.2222222222222222,
              "#7201a8"
             ],
             [
              0.3333333333333333,
              "#9c179e"
             ],
             [
              0.4444444444444444,
              "#bd3786"
             ],
             [
              0.5555555555555556,
              "#d8576b"
             ],
             [
              0.6666666666666666,
              "#ed7953"
             ],
             [
              0.7777777777777778,
              "#fb9f3a"
             ],
             [
              0.8888888888888888,
              "#fdca26"
             ],
             [
              1,
              "#f0f921"
             ]
            ],
            "type": "surface"
           }
          ],
          "table": [
           {
            "cells": {
             "fill": {
              "color": "#EBF0F8"
             },
             "line": {
              "color": "white"
             }
            },
            "header": {
             "fill": {
              "color": "#C8D4E3"
             },
             "line": {
              "color": "white"
             }
            },
            "type": "table"
           }
          ]
         },
         "layout": {
          "annotationdefaults": {
           "arrowcolor": "#2a3f5f",
           "arrowhead": 0,
           "arrowwidth": 1
          },
          "autotypenumbers": "strict",
          "coloraxis": {
           "colorbar": {
            "outlinewidth": 0,
            "ticks": ""
           }
          },
          "colorscale": {
           "diverging": [
            [
             0,
             "#8e0152"
            ],
            [
             0.1,
             "#c51b7d"
            ],
            [
             0.2,
             "#de77ae"
            ],
            [
             0.3,
             "#f1b6da"
            ],
            [
             0.4,
             "#fde0ef"
            ],
            [
             0.5,
             "#f7f7f7"
            ],
            [
             0.6,
             "#e6f5d0"
            ],
            [
             0.7,
             "#b8e186"
            ],
            [
             0.8,
             "#7fbc41"
            ],
            [
             0.9,
             "#4d9221"
            ],
            [
             1,
             "#276419"
            ]
           ],
           "sequential": [
            [
             0,
             "#0d0887"
            ],
            [
             0.1111111111111111,
             "#46039f"
            ],
            [
             0.2222222222222222,
             "#7201a8"
            ],
            [
             0.3333333333333333,
             "#9c179e"
            ],
            [
             0.4444444444444444,
             "#bd3786"
            ],
            [
             0.5555555555555556,
             "#d8576b"
            ],
            [
             0.6666666666666666,
             "#ed7953"
            ],
            [
             0.7777777777777778,
             "#fb9f3a"
            ],
            [
             0.8888888888888888,
             "#fdca26"
            ],
            [
             1,
             "#f0f921"
            ]
           ],
           "sequentialminus": [
            [
             0,
             "#0d0887"
            ],
            [
             0.1111111111111111,
             "#46039f"
            ],
            [
             0.2222222222222222,
             "#7201a8"
            ],
            [
             0.3333333333333333,
             "#9c179e"
            ],
            [
             0.4444444444444444,
             "#bd3786"
            ],
            [
             0.5555555555555556,
             "#d8576b"
            ],
            [
             0.6666666666666666,
             "#ed7953"
            ],
            [
             0.7777777777777778,
             "#fb9f3a"
            ],
            [
             0.8888888888888888,
             "#fdca26"
            ],
            [
             1,
             "#f0f921"
            ]
           ]
          },
          "colorway": [
           "#636efa",
           "#EF553B",
           "#00cc96",
           "#ab63fa",
           "#FFA15A",
           "#19d3f3",
           "#FF6692",
           "#B6E880",
           "#FF97FF",
           "#FECB52"
          ],
          "font": {
           "color": "#2a3f5f"
          },
          "geo": {
           "bgcolor": "white",
           "lakecolor": "white",
           "landcolor": "white",
           "showlakes": true,
           "showland": true,
           "subunitcolor": "#C8D4E3"
          },
          "hoverlabel": {
           "align": "left"
          },
          "hovermode": "closest",
          "mapbox": {
           "style": "light"
          },
          "paper_bgcolor": "white",
          "plot_bgcolor": "white",
          "polar": {
           "angularaxis": {
            "gridcolor": "#EBF0F8",
            "linecolor": "#EBF0F8",
            "ticks": ""
           },
           "bgcolor": "white",
           "radialaxis": {
            "gridcolor": "#EBF0F8",
            "linecolor": "#EBF0F8",
            "ticks": ""
           }
          },
          "scene": {
           "xaxis": {
            "backgroundcolor": "white",
            "gridcolor": "#DFE8F3",
            "gridwidth": 2,
            "linecolor": "#EBF0F8",
            "showbackground": true,
            "ticks": "",
            "zerolinecolor": "#EBF0F8"
           },
           "yaxis": {
            "backgroundcolor": "white",
            "gridcolor": "#DFE8F3",
            "gridwidth": 2,
            "linecolor": "#EBF0F8",
            "showbackground": true,
            "ticks": "",
            "zerolinecolor": "#EBF0F8"
           },
           "zaxis": {
            "backgroundcolor": "white",
            "gridcolor": "#DFE8F3",
            "gridwidth": 2,
            "linecolor": "#EBF0F8",
            "showbackground": true,
            "ticks": "",
            "zerolinecolor": "#EBF0F8"
           }
          },
          "shapedefaults": {
           "line": {
            "color": "#2a3f5f"
           }
          },
          "ternary": {
           "aaxis": {
            "gridcolor": "#DFE8F3",
            "linecolor": "#A2B1C6",
            "ticks": ""
           },
           "baxis": {
            "gridcolor": "#DFE8F3",
            "linecolor": "#A2B1C6",
            "ticks": ""
           },
           "bgcolor": "white",
           "caxis": {
            "gridcolor": "#DFE8F3",
            "linecolor": "#A2B1C6",
            "ticks": ""
           }
          },
          "title": {
           "x": 0.05
          },
          "xaxis": {
           "automargin": true,
           "gridcolor": "#EBF0F8",
           "linecolor": "#EBF0F8",
           "ticks": "",
           "title": {
            "standoff": 15
           },
           "zerolinecolor": "#EBF0F8",
           "zerolinewidth": 2
          },
          "yaxis": {
           "automargin": true,
           "gridcolor": "#EBF0F8",
           "linecolor": "#EBF0F8",
           "ticks": "",
           "title": {
            "standoff": 15
           },
           "zerolinecolor": "#EBF0F8",
           "zerolinewidth": 2
          }
         }
        },
        "title": {
         "text": "LassoCV: Mean Cross-Validation Error vs Alpha"
        },
        "width": 800,
        "xaxis": {
         "title": {
          "text": "Alpha (log scale)"
         },
         "type": "log"
        },
        "yaxis": {
         "title": {
          "text": "Mean CV MSE"
         }
        }
       }
      }
     },
     "metadata": {},
     "output_type": "display_data"
    }
   ],
   "source": [
    "import plotly.graph_objects as go\n",
    "\n",
    "# Extract model and aligned data\n",
    "lasso_cv = lassocv_pipeline.named_steps['lasso_cv']\n",
    "alphas_used = lasso_cv.alphas_  # Correct order (descending)\n",
    "mean_mse = lasso_cv.mse_path_.mean(axis=1)\n",
    "std_mse = lasso_cv.mse_path_.std(axis=1)\n",
    "best_alpha = lasso_cv.alpha_\n",
    "\n",
    "# Step 2: Find minimum mean MSE and threshold\n",
    "min_index = np.argmin(mean_mse)\n",
    "mse_min = mean_mse[min_index]\n",
    "mse_threshold = mse_min + std_mse[min_index]\n",
    "\n",
    "# Find largest alpha within 1-SE threshold (first from the top that satisfies condition)\n",
    "alpha_1se = alphas_used[mean_mse <= mse_threshold][0]\n",
    "\n",
    "print(f\"Best alpha (min MSE): {best_alpha}\")\n",
    "print(f\"MSE_min: {mse_min:.2f}\")\n",
    "print(f\"1_SE: {mse_min:.2f}\")\n",
    "print(f\"MSE_min + 1-SE threshold: {mse_threshold:.2f}\")\n",
    "print(f\"Alpha from 1-SE rule: {alpha_1se}\")\n",
    "\n",
    "# Plot\n",
    "fig = go.Figure()\n",
    "\n",
    "# Mean MSE with error bars\n",
    "fig.add_trace(go.Scatter(\n",
    "    x=alphas_used,\n",
    "    y=mean_mse,\n",
    "    error_y=dict(\n",
    "        type='data',\n",
    "        array=std_mse,\n",
    "        visible=True\n",
    "    ),\n",
    "    mode='lines+markers',\n",
    "    name='Mean CV MSE',\n",
    "    line=dict(color='royalblue'),\n",
    "    marker=dict(size=8)\n",
    "))\n",
    "\n",
    "# Vertical line for best alpha\n",
    "fig.add_trace(go.Scatter(\n",
    "    x=[best_alpha, best_alpha],\n",
    "    y=[min(mean_mse) * 0.95, max(mean_mse) * 1.05],\n",
    "    mode='lines',\n",
    "    name=f'Best alpha = {best_alpha:.4f}',\n",
    "    line=dict(color='red', dash='dash')\n",
    "))\n",
    "\n",
    "# Layout\n",
    "fig.update_layout(\n",
    "    title='LassoCV: Mean Cross-Validation Error vs Alpha',\n",
    "    xaxis=dict(title='Alpha (log scale)', type='log'),\n",
    "    yaxis=dict(title='Mean CV MSE'),\n",
    "    legend=dict(x=0.01, y=0.99),\n",
    "    template='plotly_white',\n",
    "    width=800,\n",
    "    height=500\n",
    ")\n",
    "\n",
    "# Add vertical line for 1-SE rule alpha\n",
    "fig.add_trace(go.Scatter(\n",
    "    x=[alpha_1se, alpha_1se],\n",
    "    y=[min(mean_mse) * 0.95, max(mean_mse) * 1.05],\n",
    "    mode='lines',\n",
    "    name=f'1-SE alpha = {alpha_1se:.4f}',\n",
    "    line=dict(color='green', dash='dot')\n",
    "))\n",
    "\n",
    "fig.show()"
   ]
  },
  {
   "cell_type": "code",
   "execution_count": 15,
   "id": "d9a83883",
   "metadata": {},
   "outputs": [
    {
     "name": "stderr",
     "output_type": "stream",
     "text": [
      "c:\\Users\\AsusTUF\\anaconda3\\envs\\tru_linear_models_assignments\\Lib\\site-packages\\sklearn\\linear_model\\_coordinate_descent.py:681: ConvergenceWarning:\n",
      "\n",
      "Objective did not converge. You might want to increase the number of iterations. Duality gap: 27757988422.89453, tolerance: 22846300630.128002\n",
      "\n",
      "c:\\Users\\AsusTUF\\anaconda3\\envs\\tru_linear_models_assignments\\Lib\\site-packages\\sklearn\\linear_model\\_coordinate_descent.py:681: ConvergenceWarning:\n",
      "\n",
      "Objective did not converge. You might want to increase the number of iterations. Duality gap: 25949824957.75, tolerance: 22846300630.128002\n",
      "\n",
      "c:\\Users\\AsusTUF\\anaconda3\\envs\\tru_linear_models_assignments\\Lib\\site-packages\\sklearn\\linear_model\\_coordinate_descent.py:681: ConvergenceWarning:\n",
      "\n",
      "Objective did not converge. You might want to increase the number of iterations. Duality gap: 23807139685.88965, tolerance: 22846300630.128002\n",
      "\n",
      "c:\\Users\\AsusTUF\\anaconda3\\envs\\tru_linear_models_assignments\\Lib\\site-packages\\sklearn\\linear_model\\_coordinate_descent.py:681: ConvergenceWarning:\n",
      "\n",
      "Objective did not converge. You might want to increase the number of iterations. Duality gap: 82805556079.83594, tolerance: 22846300630.128002\n",
      "\n",
      "c:\\Users\\AsusTUF\\anaconda3\\envs\\tru_linear_models_assignments\\Lib\\site-packages\\sklearn\\linear_model\\_coordinate_descent.py:681: ConvergenceWarning:\n",
      "\n",
      "Objective did not converge. You might want to increase the number of iterations. Duality gap: 797149608729.7178, tolerance: 22846300630.128002\n",
      "\n",
      "c:\\Users\\AsusTUF\\anaconda3\\envs\\tru_linear_models_assignments\\Lib\\site-packages\\sklearn\\linear_model\\_coordinate_descent.py:681: ConvergenceWarning:\n",
      "\n",
      "Objective did not converge. You might want to increase the number of iterations. Duality gap: 1165944978875.7812, tolerance: 22846300630.128002\n",
      "\n",
      "c:\\Users\\AsusTUF\\anaconda3\\envs\\tru_linear_models_assignments\\Lib\\site-packages\\sklearn\\linear_model\\_coordinate_descent.py:681: ConvergenceWarning:\n",
      "\n",
      "Objective did not converge. You might want to increase the number of iterations. Duality gap: 1294069638757.8457, tolerance: 22846300630.128002\n",
      "\n",
      "c:\\Users\\AsusTUF\\anaconda3\\envs\\tru_linear_models_assignments\\Lib\\site-packages\\sklearn\\linear_model\\_coordinate_descent.py:681: ConvergenceWarning:\n",
      "\n",
      "Objective did not converge. You might want to increase the number of iterations. Duality gap: 1316992250365.6245, tolerance: 22846300630.128002\n",
      "\n",
      "c:\\Users\\AsusTUF\\anaconda3\\envs\\tru_linear_models_assignments\\Lib\\site-packages\\sklearn\\linear_model\\_coordinate_descent.py:681: ConvergenceWarning:\n",
      "\n",
      "Objective did not converge. You might want to increase the number of iterations. Duality gap: 1313759540832.0576, tolerance: 22846300630.128002\n",
      "\n",
      "c:\\Users\\AsusTUF\\anaconda3\\envs\\tru_linear_models_assignments\\Lib\\site-packages\\sklearn\\linear_model\\_coordinate_descent.py:681: ConvergenceWarning:\n",
      "\n",
      "Objective did not converge. You might want to increase the number of iterations. Duality gap: 1300255511176.9805, tolerance: 22846300630.128002\n",
      "\n",
      "c:\\Users\\AsusTUF\\anaconda3\\envs\\tru_linear_models_assignments\\Lib\\site-packages\\sklearn\\linear_model\\_coordinate_descent.py:681: ConvergenceWarning:\n",
      "\n",
      "Objective did not converge. You might want to increase the number of iterations. Duality gap: 1283238751648.667, tolerance: 22846300630.128002\n",
      "\n",
      "c:\\Users\\AsusTUF\\anaconda3\\envs\\tru_linear_models_assignments\\Lib\\site-packages\\sklearn\\linear_model\\_coordinate_descent.py:681: ConvergenceWarning:\n",
      "\n",
      "Objective did not converge. You might want to increase the number of iterations. Duality gap: 1269166743899.2485, tolerance: 22846300630.128002\n",
      "\n",
      "c:\\Users\\AsusTUF\\anaconda3\\envs\\tru_linear_models_assignments\\Lib\\site-packages\\sklearn\\linear_model\\_coordinate_descent.py:681: ConvergenceWarning:\n",
      "\n",
      "Objective did not converge. You might want to increase the number of iterations. Duality gap: 1241990327828.3828, tolerance: 22846300630.128002\n",
      "\n",
      "c:\\Users\\AsusTUF\\anaconda3\\envs\\tru_linear_models_assignments\\Lib\\site-packages\\sklearn\\linear_model\\_coordinate_descent.py:681: ConvergenceWarning:\n",
      "\n",
      "Objective did not converge. You might want to increase the number of iterations. Duality gap: 1214102205565.0454, tolerance: 22846300630.128002\n",
      "\n",
      "c:\\Users\\AsusTUF\\anaconda3\\envs\\tru_linear_models_assignments\\Lib\\site-packages\\sklearn\\linear_model\\_coordinate_descent.py:681: ConvergenceWarning:\n",
      "\n",
      "Objective did not converge. You might want to increase the number of iterations. Duality gap: 1180157380504.9053, tolerance: 22846300630.128002\n",
      "\n",
      "c:\\Users\\AsusTUF\\anaconda3\\envs\\tru_linear_models_assignments\\Lib\\site-packages\\sklearn\\linear_model\\_coordinate_descent.py:681: ConvergenceWarning:\n",
      "\n",
      "Objective did not converge. You might want to increase the number of iterations. Duality gap: 1157337382742.0352, tolerance: 22846300630.128002\n",
      "\n",
      "c:\\Users\\AsusTUF\\anaconda3\\envs\\tru_linear_models_assignments\\Lib\\site-packages\\sklearn\\linear_model\\_coordinate_descent.py:681: ConvergenceWarning:\n",
      "\n",
      "Objective did not converge. You might want to increase the number of iterations. Duality gap: 1129414886394.1807, tolerance: 22846300630.128002\n",
      "\n",
      "c:\\Users\\AsusTUF\\anaconda3\\envs\\tru_linear_models_assignments\\Lib\\site-packages\\sklearn\\linear_model\\_coordinate_descent.py:681: ConvergenceWarning:\n",
      "\n",
      "Objective did not converge. You might want to increase the number of iterations. Duality gap: 1119898196402.4512, tolerance: 22846300630.128002\n",
      "\n",
      "c:\\Users\\AsusTUF\\anaconda3\\envs\\tru_linear_models_assignments\\Lib\\site-packages\\sklearn\\linear_model\\_coordinate_descent.py:681: ConvergenceWarning:\n",
      "\n",
      "Objective did not converge. You might want to increase the number of iterations. Duality gap: 1152053096817.04, tolerance: 22846300630.128002\n",
      "\n",
      "c:\\Users\\AsusTUF\\anaconda3\\envs\\tru_linear_models_assignments\\Lib\\site-packages\\sklearn\\linear_model\\_coordinate_descent.py:681: ConvergenceWarning:\n",
      "\n",
      "Objective did not converge. You might want to increase the number of iterations. Duality gap: 1161606873070.3594, tolerance: 22846300630.128002\n",
      "\n",
      "c:\\Users\\AsusTUF\\anaconda3\\envs\\tru_linear_models_assignments\\Lib\\site-packages\\sklearn\\linear_model\\_coordinate_descent.py:681: ConvergenceWarning:\n",
      "\n",
      "Objective did not converge. You might want to increase the number of iterations. Duality gap: 1162357926212.079, tolerance: 22846300630.128002\n",
      "\n",
      "c:\\Users\\AsusTUF\\anaconda3\\envs\\tru_linear_models_assignments\\Lib\\site-packages\\sklearn\\linear_model\\_coordinate_descent.py:681: ConvergenceWarning:\n",
      "\n",
      "Objective did not converge. You might want to increase the number of iterations. Duality gap: 1184007559271.9805, tolerance: 22846300630.128002\n",
      "\n",
      "c:\\Users\\AsusTUF\\anaconda3\\envs\\tru_linear_models_assignments\\Lib\\site-packages\\sklearn\\linear_model\\_coordinate_descent.py:681: ConvergenceWarning:\n",
      "\n",
      "Objective did not converge. You might want to increase the number of iterations. Duality gap: 1223609941173.9087, tolerance: 22846300630.128002\n",
      "\n",
      "c:\\Users\\AsusTUF\\anaconda3\\envs\\tru_linear_models_assignments\\Lib\\site-packages\\sklearn\\linear_model\\_coordinate_descent.py:681: ConvergenceWarning:\n",
      "\n",
      "Objective did not converge. You might want to increase the number of iterations. Duality gap: 1252171067183.3994, tolerance: 22846300630.128002\n",
      "\n",
      "c:\\Users\\AsusTUF\\anaconda3\\envs\\tru_linear_models_assignments\\Lib\\site-packages\\sklearn\\linear_model\\_coordinate_descent.py:681: ConvergenceWarning:\n",
      "\n",
      "Objective did not converge. You might want to increase the number of iterations. Duality gap: 1296041590101.2227, tolerance: 22846300630.128002\n",
      "\n",
      "c:\\Users\\AsusTUF\\anaconda3\\envs\\tru_linear_models_assignments\\Lib\\site-packages\\sklearn\\linear_model\\_coordinate_descent.py:681: ConvergenceWarning:\n",
      "\n",
      "Objective did not converge. You might want to increase the number of iterations. Duality gap: 1286174472353.3882, tolerance: 22846300630.128002\n",
      "\n",
      "c:\\Users\\AsusTUF\\anaconda3\\envs\\tru_linear_models_assignments\\Lib\\site-packages\\sklearn\\linear_model\\_coordinate_descent.py:681: ConvergenceWarning:\n",
      "\n",
      "Objective did not converge. You might want to increase the number of iterations. Duality gap: 1279825457784.77, tolerance: 22846300630.128002\n",
      "\n"
     ]
    },
    {
     "data": {
      "application/vnd.plotly.v1+json": {
       "config": {
        "plotlyServerURL": "https://plot.ly"
       },
       "data": [
        {
         "mode": "lines",
         "name": "const",
         "type": "scatter",
         "x": {
          "bdata": "rIboVEcd+ECVt6y3i3f1QIzkXL43HPNAUGE4RCAD8UBZyuhv/0nuQOeQB8+59upAVPxzIOkA6ECm9QnLSl7lQHyzBpK8BeNAu4Kr7Bzv4EB3bTqvXSbeQOV/pHwB19pAoWE1S6zk10ASu7KTJ0XVQBCxCdhb79JA7pkvIDHb0EBMVlHZ5QLOQMYP83put8pAOonqrZDIx0D2NbTuISzFQDdFSXEV2cJAYHMSw1zHwEDy6N28l9+9QIuGDZ4AmLpAlHR/IZast0BusUS5ORO1QH9xzT7pwrJASnDCuZ+zsEDqi8ooc7ytQATOQbq3eKpAyh0Of7yQp0BDZcPQbvqkQMalwiHXrKJAbWDO6PmfoEDKYzvsd5mdQEQ3EaSTWZpAlEHenwN1l0C0RbgSweGUQIaVefvelpJAC1zlNGuMkEA6D47WpXaNQD0+MDCUOopAYyllXWtZh0B909NcMMmEQC0NZ60AgYJAsp3WgvN4gECOY1m3/FN9QFNNhjO5G3pAtnVFkfM9d0BF7O6MvLB0QKHHIxk8a3JAkFyRt5JlcEA4KW1efDFtQKuBLYMC/WlA9ehOFZwiZ0APmwqBZZhkQOlDbCCRVWJA1aYkuEhSYEAI2dGbJA9dQHBvcvRv3llAHzJ+w2QHV0Dn6E8XK4BUQDqbIKX/P1JAOTy/aRU/UEA+Wcg/9exMQF3m01wBwElAJrj8dU3sRkABrg8uDWhEQPNWRImHKkJAoGivsfgrQEBdu8ka7so8QNm2ApK2oTlAOWUgB1bRNkCxYsKjC1A0QAxH/q4oFTJAI99idfIYMEAD+ob9DqksQOt24WmPgylAWnJrUX62JkD98AdXJjgkQINYmPji/yFA9JRmmgIGIEASt+i4V4ccQOBHhLqLZRlAZDOML8abFkAFhqcmXSAUQBdsf0i26hFAhTnNDFLmD0A++g4eyGUMQOubMFqrRwlABONcfC2BBkAXZI/xrwgEQBwtQ4Gi1QFA7ANcPsvA/z8b8FD+X0T8PxT8XB/uKfk/F2/jErRm9j9mtNSWHvHzP5LolYWnwPE/5EhNlXCb7z8=",
          "dtype": "f8"
         },
         "y": {
          "bdata": "AAAAAAAAAAAAAAAAAAAAAAAAAAAAAAAAAAAAAAAAAAAAAAAAAAAAAAAAAAAAAAAAAAAAAAAAAAAAAAAAAAAAAAAAAAAAAAAAAAAAAAAAAAAAAAAAAAAAAAAAAAAAAAAAAAAAAAAAAAAAAAAAAAAAAAAAAAAAAAAAAAAAAAAAAAAAAAAAAAAAAAAAAAAAAAAAAAAAAAAAAAAAAAAAAAAAAAAAAAAAAAAAAAAAAAAAAAAAAAAAAAAAAAAAAAAAAAAAAAAAAAAAAAAAAAAAAAAAAAAAAAAAAAAAAAAAAAAAAAAAAAAAAAAAAAAAAAAAAAAAAAAAAAAAAAA7hljXiIB2QAYEroG+kItAAAAAAAAAAAAAAAAAAAAAAAAAAAAAAAAAAAAAAAAAAAAAAAAAAAAAAAAAAAAAAAAAAAAAAAAAAAAAAAAAAAAAAAAAAAAAAAAAAAAAAAAAAAAAAAAAAAAAAAAAAAAAAACAAAAAAAAAAIAAAAAAAAAAgAAAAAAAAACAAAAAAAAAAIAAAAAAAAAAgMLp6VA7THfABjDJO71fhMCrW9SMkaOawEypq6aCCafA+kl4oiTNr8ATLv6MOMWzwEHZ6aoQJ7fAzNP7gQwiusBSQbsw0cW8wMhJDRlbGr/AtGC3KmmWwMCsRIBb94LBwKjSpsHZVsLABXA+IBAWw8CLgZlG0L3DwIo7WX1GWMTAsfsr9LbnxMASM9NnNmfFwDziZkHY18XAosrG/Aw9xsCn7EKxkp3GwH4bXbzY7cbAhFpHmEU1x8AQ+mcREHXHwD4fM8atqsfAHOwoxk3cx8AAEIQA2AvIwHKhbkJc+sfAKKIMCFe/x8DFGzTjSXzHwHUZtAhqOcfAANPB6Af8xsCHiRqvoMTGwOYWweH+ksbAFOeqxotmxsDOpfxN4zvGwOLBLW5AFMbAnpXAHLzwxcCDSkY3eNHFwMBeiYSftsXAECBTdrmfxcDsbkN3S4rFwLIDsb27dsXASkPIYCJlxcBaM34tvFXFwIezKStLRsXA8+YnDEE3xcBMliQ3iifFwFvJcACkGsXA8jbu9y8PxcA=",
          "dtype": "f8"
         }
        },
        {
         "mode": "lines",
         "name": "duration",
         "type": "scatter",
         "x": {
          "bdata": "rIboVEcd+ECVt6y3i3f1QIzkXL43HPNAUGE4RCAD8UBZyuhv/0nuQOeQB8+59upAVPxzIOkA6ECm9QnLSl7lQHyzBpK8BeNAu4Kr7Bzv4EB3bTqvXSbeQOV/pHwB19pAoWE1S6zk10ASu7KTJ0XVQBCxCdhb79JA7pkvIDHb0EBMVlHZ5QLOQMYP83put8pAOonqrZDIx0D2NbTuISzFQDdFSXEV2cJAYHMSw1zHwEDy6N28l9+9QIuGDZ4AmLpAlHR/IZast0BusUS5ORO1QH9xzT7pwrJASnDCuZ+zsEDqi8ooc7ytQATOQbq3eKpAyh0Of7yQp0BDZcPQbvqkQMalwiHXrKJAbWDO6PmfoEDKYzvsd5mdQEQ3EaSTWZpAlEHenwN1l0C0RbgSweGUQIaVefvelpJAC1zlNGuMkEA6D47WpXaNQD0+MDCUOopAYyllXWtZh0B909NcMMmEQC0NZ60AgYJAsp3WgvN4gECOY1m3/FN9QFNNhjO5G3pAtnVFkfM9d0BF7O6MvLB0QKHHIxk8a3JAkFyRt5JlcEA4KW1efDFtQKuBLYMC/WlA9ehOFZwiZ0APmwqBZZhkQOlDbCCRVWJA1aYkuEhSYEAI2dGbJA9dQHBvcvRv3llAHzJ+w2QHV0Dn6E8XK4BUQDqbIKX/P1JAOTy/aRU/UEA+Wcg/9exMQF3m01wBwElAJrj8dU3sRkABrg8uDWhEQPNWRImHKkJAoGivsfgrQEBdu8ka7so8QNm2ApK2oTlAOWUgB1bRNkCxYsKjC1A0QAxH/q4oFTJAI99idfIYMEAD+ob9DqksQOt24WmPgylAWnJrUX62JkD98AdXJjgkQINYmPji/yFA9JRmmgIGIEASt+i4V4ccQOBHhLqLZRlAZDOML8abFkAFhqcmXSAUQBdsf0i26hFAhTnNDFLmD0A++g4eyGUMQOubMFqrRwlABONcfC2BBkAXZI/xrwgEQBwtQ4Gi1QFA7ANcPsvA/z8b8FD+X0T8PxT8XB/uKfk/F2/jErRm9j9mtNSWHvHzP5LolYWnwPE/5EhNlXCb7z8=",
          "dtype": "f8"
         },
         "y": {
          "bdata": "AAAAAAAAAIAAAAAAAAAAgAAAAAAAAACAAAAAAAAAAIAAAAAAAAAAgAAAAAAAAACAAAAAAAAAAIAAAAAAAAAAgAAAAAAAAACAAAAAAAAAAIAAAAAAAAAAgAAAAAAAAACAAAAAAAAAAIAAAAAAAAAAgAAAAAAAAACAAAAAAAAAAIAAAAAAAAAAgAAAAAAAAACAAAAAAAAAAIAAAAAAAAAAAAAAAAAAAAAAAAAAAAAAAAAAAAAAAAAAAAAAAAAAAAAAAAAAAAAAAAAAAAAAAAAAAAAAAAAAAAAAAAAAAAAAAAAAAAAAAAAAAAAAAAAAAAAAAAAAAAAAAAAAAAAAAAAAAJ9EaPEtGWZAuNZ6D5QqZUBiA1xLO9FqQK01rSGt729AP/+k4rM+ckCV3EkF9kp0QE8u7bz1InZANpdf9ua1d0Bz8Mu9gjR5QDMilM5UkXpAiwj8wFvRe0BlAlQeacp8QGk+OYcLrXxApoGRIKVpcECyZjRopvJZQAAAAAAAAAAAAAAAAAAAAAAAAAAAAAAAAAAAAAAAAAAAAAAAAAAAAAAAAAAAAAAAAAAAAAAAAAAAAAAAAAAAAAAAAAAAAAAAAAAAAAAAAAAAAAAAAAAAAAAAAAAAAAAAgAAAAAAAAACAAAAAAAAAAIAAAAAAAAAAgAAAAAAAAACAu7YR2yM6S8A3u6VBLGRdwMPVG44EuGXACpXysPvoa8BRdi8PaKtwwCGYudASDXPAJeypvF0jdcAMKVY5WPZ2wN0klpkpmXjA+uouTVQOesDrgHp/7Vh7wKwxnJDObnzAntD5CCpnesAd/0Hal7x3wEhvi+M5h3XAPo3EzA99c8DcWF1mO6NxwGYJZbO682/Akq5EHtH8bMAO8dw0lFhqwCJ/7m9R/mfA57lwdbblZcADAQUQXQJkwADXes5BUGLAtmpFARfNYMBVlEbsHelewFqO4TWBglzAKzTDMERiWsCjKOs1ZIFYwPsfQrxv1FbAHWacD2ZWVcDGMJAxFwJUwGJxTR4F1FLA98njOZTGUcCr7+lde9ZQwBRVOxXx/U/AkvCHOH1+TsA=",
          "dtype": "f8"
         }
        },
        {
         "mode": "lines",
         "name": "days_left",
         "type": "scatter",
         "x": {
          "bdata": "rIboVEcd+ECVt6y3i3f1QIzkXL43HPNAUGE4RCAD8UBZyuhv/0nuQOeQB8+59upAVPxzIOkA6ECm9QnLSl7lQHyzBpK8BeNAu4Kr7Bzv4EB3bTqvXSbeQOV/pHwB19pAoWE1S6zk10ASu7KTJ0XVQBCxCdhb79JA7pkvIDHb0EBMVlHZ5QLOQMYP83put8pAOonqrZDIx0D2NbTuISzFQDdFSXEV2cJAYHMSw1zHwEDy6N28l9+9QIuGDZ4AmLpAlHR/IZast0BusUS5ORO1QH9xzT7pwrJASnDCuZ+zsEDqi8ooc7ytQATOQbq3eKpAyh0Of7yQp0BDZcPQbvqkQMalwiHXrKJAbWDO6PmfoEDKYzvsd5mdQEQ3EaSTWZpAlEHenwN1l0C0RbgSweGUQIaVefvelpJAC1zlNGuMkEA6D47WpXaNQD0+MDCUOopAYyllXWtZh0B909NcMMmEQC0NZ60AgYJAsp3WgvN4gECOY1m3/FN9QFNNhjO5G3pAtnVFkfM9d0BF7O6MvLB0QKHHIxk8a3JAkFyRt5JlcEA4KW1efDFtQKuBLYMC/WlA9ehOFZwiZ0APmwqBZZhkQOlDbCCRVWJA1aYkuEhSYEAI2dGbJA9dQHBvcvRv3llAHzJ+w2QHV0Dn6E8XK4BUQDqbIKX/P1JAOTy/aRU/UEA+Wcg/9exMQF3m01wBwElAJrj8dU3sRkABrg8uDWhEQPNWRImHKkJAoGivsfgrQEBdu8ka7so8QNm2ApK2oTlAOWUgB1bRNkCxYsKjC1A0QAxH/q4oFTJAI99idfIYMEAD+ob9DqksQOt24WmPgylAWnJrUX62JkD98AdXJjgkQINYmPji/yFA9JRmmgIGIEASt+i4V4ccQOBHhLqLZRlAZDOML8abFkAFhqcmXSAUQBdsf0i26hFAhTnNDFLmD0A++g4eyGUMQOubMFqrRwlABONcfC2BBkAXZI/xrwgEQBwtQ4Gi1QFA7ANcPsvA/z8b8FD+X0T8PxT8XB/uKfk/F2/jErRm9j9mtNSWHvHzP5LolYWnwPE/5EhNlXCb7z8=",
          "dtype": "f8"
         },
         "y": {
          "bdata": "AAAAAAAAAAAAAAAAAAAAAAAAAAAAAAAAAAAAAAAAAAAAAAAAAAAAAAAAAAAAAAAAAAAAAAAAAAAAAAAAAAAAAAAAAAAAAAAAAAAAAAAAAAAAAAAAAAAAAAAAAAAAAAAAAAAAAAAAAAAAAAAAAAAAAAAAAAAAAAAAAAAAAAAAAAAAAAAAAAAAAAAAAAAAAAAAAAAAAAAAAAAAAAAAAAAAAAAAAAAAAACAAAAAAAAAAIAAAAAAAAAAgAAAAAAAAACAAAAAAAAAAIAAAAAAAAAAgAAAAAAAAACAAAAAAAAAAIAAAAAAAAAAgAAAAAAAAACAAAAAAAAAAIAAAAAAAAAAgAAAAAAAAACAAAAAAAAAAIAAAAAAAAAAgAAAAAAAAACAAAAAAAAAAIAAAAAAAAAAgAAAAAAAAACAAAAAAAAAAAAAAAAAAAAAAAAAAAAAAAAAAAAAAAAAAAAAAAAAAAAAAAAAAAAAAAAAAAAAAAAAAAAAAAAAAAAAAHYwDREk3DhApCVLclspZEACreBsfq5xQNwlMxSsuXhAnws9YpmKf0CwyYdiysWCQEP7rW70eIVAgdH2yKPfh0DmQdqGSQKKQM7ZTBVz6ItAZSOow/GYjUBHl7VyGxWPQOpHFPd0MZBAXR2RqQ7GkEBXixR7/UqRQHJTZgYQw5FAXWFYn+r5kUA7XhW5TxySQHXbX4gFPJJAb7DrxkNZkkC6eGrKznOSQFa7uXiTjJJAG4+NdvGjkkBdUKFp0LiSQNNGziilypJAOWrxoYXakkCfDHqJUumSQH58Wq2U85JAjfCU+8pNlEDVpgfwReOVQHGLnHPJRJdA9hVWKlmCmEAfYIgAQ56ZQCb38F5Wm5pAjthJg7x8m0CPdA/5bkWcQFphl2wd+JxAlYDdSCyXnUARwxxuoyWeQN2OUfuXpZ5ALXNdpX4Xn0DdItJj43yfQKb94OEk159AoJlTd3kToECnFz72mzagQHbbmuPmVaBAcQ+Pdr5xoEDuJ6UXWYqgQAd0sPY9oKBA4NoXzMKzoEB7PNLaQMWgQBYxvI7Y1KBAiYwuK7nioEA=",
          "dtype": "f8"
         }
        },
        {
         "mode": "lines",
         "name": "airline_Air_India",
         "type": "scatter",
         "x": {
          "bdata": "rIboVEcd+ECVt6y3i3f1QIzkXL43HPNAUGE4RCAD8UBZyuhv/0nuQOeQB8+59upAVPxzIOkA6ECm9QnLSl7lQHyzBpK8BeNAu4Kr7Bzv4EB3bTqvXSbeQOV/pHwB19pAoWE1S6zk10ASu7KTJ0XVQBCxCdhb79JA7pkvIDHb0EBMVlHZ5QLOQMYP83put8pAOonqrZDIx0D2NbTuISzFQDdFSXEV2cJAYHMSw1zHwEDy6N28l9+9QIuGDZ4AmLpAlHR/IZast0BusUS5ORO1QH9xzT7pwrJASnDCuZ+zsEDqi8ooc7ytQATOQbq3eKpAyh0Of7yQp0BDZcPQbvqkQMalwiHXrKJAbWDO6PmfoEDKYzvsd5mdQEQ3EaSTWZpAlEHenwN1l0C0RbgSweGUQIaVefvelpJAC1zlNGuMkEA6D47WpXaNQD0+MDCUOopAYyllXWtZh0B909NcMMmEQC0NZ60AgYJAsp3WgvN4gECOY1m3/FN9QFNNhjO5G3pAtnVFkfM9d0BF7O6MvLB0QKHHIxk8a3JAkFyRt5JlcEA4KW1efDFtQKuBLYMC/WlA9ehOFZwiZ0APmwqBZZhkQOlDbCCRVWJA1aYkuEhSYEAI2dGbJA9dQHBvcvRv3llAHzJ+w2QHV0Dn6E8XK4BUQDqbIKX/P1JAOTy/aRU/UEA+Wcg/9exMQF3m01wBwElAJrj8dU3sRkABrg8uDWhEQPNWRImHKkJAoGivsfgrQEBdu8ka7so8QNm2ApK2oTlAOWUgB1bRNkCxYsKjC1A0QAxH/q4oFTJAI99idfIYMEAD+ob9DqksQOt24WmPgylAWnJrUX62JkD98AdXJjgkQINYmPji/yFA9JRmmgIGIEASt+i4V4ccQOBHhLqLZRlAZDOML8abFkAFhqcmXSAUQBdsf0i26hFAhTnNDFLmD0A++g4eyGUMQOubMFqrRwlABONcfC2BBkAXZI/xrwgEQBwtQ4Gi1QFA7ANcPsvA/z8b8FD+X0T8PxT8XB/uKfk/F2/jErRm9j9mtNSWHvHzP5LolYWnwPE/5EhNlXCb7z8=",
          "dtype": "f8"
         },
         "y": {
          "bdata": "AAAAAAAAAAAAAAAAAAAAAAAAAAAAAAAAAAAAAAAAAAAAAAAAAAAAAAAAAAAAAAAAAAAAAAAAAAAAAAAAAAAAAAAAAAAAAAAAAAAAAAAAAAAAAAAAAAAAAAAAAAAAAAAAAAAAAAAAAAAAAAAAAAAAAAAAAAAAAAAAAAAAAAAAAAAAAAAAAAAAAAAAAAAAAAAAAAAAAAAAAAAAAAAAAAAAAAAAAAAAAAAAAAAAAAAAAAAAAAAAAAAAAAAAAAAAAAAAAAAAAAAAAAB9HYiD7Y6QQPuu3VZ6zqFAwP/prsAYqkAeDEluopCwQKW19n6ss7NABt+JHfd/tkDPACSyEti3QG2neME9JLhABQjXGwMovEA0Ce2DPFu9QLXQvx+mbL5A9+GBow5gv0BMmKTPVxzAQA8qhW69fMBAgGW4RKnSwEC7xNanBB/BQLeChgD1YsFABJb17WafwUCcXgBMbNXBQF1GqJhH/sFAkW5J7PBtwUC7HNLCVuzAQNLJ+02vecBAPoTOYVUSwEAlzujV5WC/QDILCCxNk79A2hEjVlK9v0B6Pb/S337BQN7tAvsSh8NAKMppvzNixUBfsD02YwTHQBRw+8fwbMhAUcKsBLuqyUCJQvo4IcTKQHXPRvR0u8tABDwJt0GXzEDfkSE+MFvNQH3I0ARhCs5Amm+rHZepzkDSarIgezTPQNgmU8aOs89AczFKG10W0EA3Vnnisk3QQAIahosyf9BA3vJVzXyp0EAj775NdM/QQF/FG17w69BA6O1pQEMF0UAzfZXg4BvRQGZIrAISLtFAUUQ0PAg+0UCgnxaZ9k7RQEidSaV7KdFAkfwKZIDo0EALvemGPqTQQJX/iRkgYtBAubBaHO0l0EBV1gXbkt/PQFO6kVW7fs9A2jzbNd8nz0A0ELKwTdbOQE1lXXxXjM5ACNwqCL9KzkD4qgx/4xDOQIlyYSfx3s1Ah58czDSzzUBJUgsgxYjNQOM9PaFJYs1AxVzwOMc/zUB9nxnBtCHNQOBY7wlLBM1ANdaANS3ozEC5SgpHk8vMQN1OKK3Ks8xAbFx9h6mezEA=",
          "dtype": "f8"
         }
        },
        {
         "mode": "lines",
         "name": "airline_GO_FIRST",
         "type": "scatter",
         "x": {
          "bdata": "rIboVEcd+ECVt6y3i3f1QIzkXL43HPNAUGE4RCAD8UBZyuhv/0nuQOeQB8+59upAVPxzIOkA6ECm9QnLSl7lQHyzBpK8BeNAu4Kr7Bzv4EB3bTqvXSbeQOV/pHwB19pAoWE1S6zk10ASu7KTJ0XVQBCxCdhb79JA7pkvIDHb0EBMVlHZ5QLOQMYP83put8pAOonqrZDIx0D2NbTuISzFQDdFSXEV2cJAYHMSw1zHwEDy6N28l9+9QIuGDZ4AmLpAlHR/IZast0BusUS5ORO1QH9xzT7pwrJASnDCuZ+zsEDqi8ooc7ytQATOQbq3eKpAyh0Of7yQp0BDZcPQbvqkQMalwiHXrKJAbWDO6PmfoEDKYzvsd5mdQEQ3EaSTWZpAlEHenwN1l0C0RbgSweGUQIaVefvelpJAC1zlNGuMkEA6D47WpXaNQD0+MDCUOopAYyllXWtZh0B909NcMMmEQC0NZ60AgYJAsp3WgvN4gECOY1m3/FN9QFNNhjO5G3pAtnVFkfM9d0BF7O6MvLB0QKHHIxk8a3JAkFyRt5JlcEA4KW1efDFtQKuBLYMC/WlA9ehOFZwiZ0APmwqBZZhkQOlDbCCRVWJA1aYkuEhSYEAI2dGbJA9dQHBvcvRv3llAHzJ+w2QHV0Dn6E8XK4BUQDqbIKX/P1JAOTy/aRU/UEA+Wcg/9exMQF3m01wBwElAJrj8dU3sRkABrg8uDWhEQPNWRImHKkJAoGivsfgrQEBdu8ka7so8QNm2ApK2oTlAOWUgB1bRNkCxYsKjC1A0QAxH/q4oFTJAI99idfIYMEAD+ob9DqksQOt24WmPgylAWnJrUX62JkD98AdXJjgkQINYmPji/yFA9JRmmgIGIEASt+i4V4ccQOBHhLqLZRlAZDOML8abFkAFhqcmXSAUQBdsf0i26hFAhTnNDFLmD0A++g4eyGUMQOubMFqrRwlABONcfC2BBkAXZI/xrwgEQBwtQ4Gi1QFA7ANcPsvA/z8b8FD+X0T8PxT8XB/uKfk/F2/jErRm9j9mtNSWHvHzP5LolYWnwPE/5EhNlXCb7z8=",
          "dtype": "f8"
         },
         "y": {
          "bdata": "AAAAAAAAAAAAAAAAAAAAAAAAAAAAAAAAAAAAAAAAAAAAAAAAAAAAAAAAAAAAAAAAAAAAAAAAAAAAAAAAAAAAAAAAAAAAAAAAAAAAAAAAAAAAAAAAAAAAAAAAAAAAAAAAAAAAAAAAAAAAAAAAAAAAAAAAAAAAAAAAxiq0IjuInkCx7E7XxpK1QLRfuUILT8BAC79oXgvrxkBBzMjZlM3MQFmpcXzZFNFA2HiASOrH00DLfe/WCy/WQNTEuS2lUthAAbnvcgk72kBh3PQV8x/cQH/9yl8M3t1AkYhwBFZG30Ay6uY6niTgQNBhM0wZmOBAYHnCR/T+4EC4Ibw1nF3hQDxXy+OJvOFAVuxJC8xU4kDp+6/tvc7iQCOhczBPO+NAhpEszPSb40D+YKfq//HjQMiVxWuaPuRAXAfJXsWC5ECvGQuefL/kQAPBz6mL9eRAJ8dBna0l5UBGlrKyeVDlQMxphtmgd+VA/46S6Ey15UChzPEBH8LlQDTJUe+3yeVA+Fsz3JzQ5UCSGhMOxdflQNXeHkwc6OVAyAXwRBj45UBhMqlbd/7lQMnXktJOAeZAb9B4GwD/5UC/nmBsxPXlQMt/Kyft4OVAV8zB+h/P5UAWDVMQor/lQCOXvTpgs+VAG099gYGo5UDZcRNsBaHlQN3KcxJioOVAddLdvG+g5UDkUxlgAZnlQF1korg1j+VAJI6YEW5+5UDyfYdyrmflQFvTvzl+T+VAdZSfZ5Y95UAJwpwCajXlQDtBOBBmNuVA6iq6d1M35UAkXP7C3zblQODV4FHoNeVA3lfPIaY45UAzYa9XKz3lQJLFa2q6NOVAxvpEeuwy5UBhcqEifjPlQGdP8bKBM+VALGyFIqwz5UCUqJkK4jPlQC2zJKUYNOVAVHEuwBk05UDhuBQ5XzLlQA5XTGsWMOVAHKMTFPEt5UBNGCR8BSzlQPKhTgviKuVA1iTyGw8q5UACXijJOyjlQDKP3R+fJuVAVFazZD0l5UB+5Vy8oCTlQCg45bJYI+VAo8sCNcoh5UB2O9VqKh/lQK/uBcJlHeVANuSrw9Ib5UA=",
          "dtype": "f8"
         }
        },
        {
         "mode": "lines",
         "name": "airline_Indigo",
         "type": "scatter",
         "x": {
          "bdata": "rIboVEcd+ECVt6y3i3f1QIzkXL43HPNAUGE4RCAD8UBZyuhv/0nuQOeQB8+59upAVPxzIOkA6ECm9QnLSl7lQHyzBpK8BeNAu4Kr7Bzv4EB3bTqvXSbeQOV/pHwB19pAoWE1S6zk10ASu7KTJ0XVQBCxCdhb79JA7pkvIDHb0EBMVlHZ5QLOQMYP83put8pAOonqrZDIx0D2NbTuISzFQDdFSXEV2cJAYHMSw1zHwEDy6N28l9+9QIuGDZ4AmLpAlHR/IZast0BusUS5ORO1QH9xzT7pwrJASnDCuZ+zsEDqi8ooc7ytQATOQbq3eKpAyh0Of7yQp0BDZcPQbvqkQMalwiHXrKJAbWDO6PmfoEDKYzvsd5mdQEQ3EaSTWZpAlEHenwN1l0C0RbgSweGUQIaVefvelpJAC1zlNGuMkEA6D47WpXaNQD0+MDCUOopAYyllXWtZh0B909NcMMmEQC0NZ60AgYJAsp3WgvN4gECOY1m3/FN9QFNNhjO5G3pAtnVFkfM9d0BF7O6MvLB0QKHHIxk8a3JAkFyRt5JlcEA4KW1efDFtQKuBLYMC/WlA9ehOFZwiZ0APmwqBZZhkQOlDbCCRVWJA1aYkuEhSYEAI2dGbJA9dQHBvcvRv3llAHzJ+w2QHV0Dn6E8XK4BUQDqbIKX/P1JAOTy/aRU/UEA+Wcg/9exMQF3m01wBwElAJrj8dU3sRkABrg8uDWhEQPNWRImHKkJAoGivsfgrQEBdu8ka7so8QNm2ApK2oTlAOWUgB1bRNkCxYsKjC1A0QAxH/q4oFTJAI99idfIYMEAD+ob9DqksQOt24WmPgylAWnJrUX62JkD98AdXJjgkQINYmPji/yFA9JRmmgIGIEASt+i4V4ccQOBHhLqLZRlAZDOML8abFkAFhqcmXSAUQBdsf0i26hFAhTnNDFLmD0A++g4eyGUMQOubMFqrRwlABONcfC2BBkAXZI/xrwgEQBwtQ4Gi1QFA7ANcPsvA/z8b8FD+X0T8PxT8XB/uKfk/F2/jErRm9j9mtNSWHvHzP5LolYWnwPE/5EhNlXCb7z8=",
          "dtype": "f8"
         },
         "y": {
          "bdata": "AAAAAAAAAAAAAAAAAAAAAAAAAAAAAAAAAAAAAAAAAAAAAAAAAAAAAAAAAAAAAAAAAAAAAAAAAAAAAAAAAAAAAAAAAAAAAAAAAAAAAAAAAAAAAAAAAAAAAAAAAAAAAAAAAAAAAAAAAAAAAAAAAAAAAAAAAAAAAAAAAAAAAAAAAAAAAAAAAAAAAAAAAAAAAAAAAAAAAAAAAAAAAAAAAAAAAAAAAAAAAAAAAAAAAAAAAAAAAAAAAAAAAAAAAAAAAAAAAAAAAAAAAAAAAAAAAAAAAAAAAAAAAAAAAAAAAAAAAAAAAAAAAAAAAAAAAAAAAAAAAAAAAAAAAAAAAAAAAAAAAAAAAAAAAAAAAAAAAAAAAAAAAAAAAAAAAAAAAAAAAAAAAAAAAAAAAAAAAAAAAAAAAAAAAAAAAAAAAAAAAAAAAAAAAAAAAAAAAAAAAAAAAAAAAAAAAAAAAAAAAAAAAAAAAAAAAAAAAAAAAAAAAAAAAAAAAAAAAAAAAAAAAAAAAAAAAAAAAAAAAAAAAAAAAAAAAAAAAAAAAAAAAAAAAAAAAAAAAAAAAAAAAAAAAAAAAAAAAAAAAAAAAAAzyGsWSlhLQKnpXHLMVWtAhrFTVZ/OdkAXfxIC0PZ+QD6Ld0rzL4NAe4FZI358hkC96Jo0H2aJQOJuBZ6V7YtAuW1+5SYOjkABpQj668ePQFS9jWjBkZBAUdKK87khkUCljMvvELORQOBW9rp94JFAy2YGH87skkASrmQvL6qTQO6QLjYiUJRA/Z7P9Y3jlEBpJbNOEWiVQE+Zd5TB3JVAH1OjwVxBlkALgtQgpKWWQCBfPdhgqJlAWiXeZ5D3m0Av6m8VmrydQIaCYgEAOJ9A+5BAj51EoEAtwj4VndqgQAaSCM0ZYKFAZoECaaPVoUDjm74WUzKiQMYF6LPRcaJAfkS99nKiokBYZ/gCMs2iQPDPb9VT+KJA24BNjAElo0B07sZwFU2jQMs8BRIRcaNA5o+f+/KRo0Cet6rNXrijQCMlpquZ06NAAbobfJLno0D1J0vF4u2jQFOYcZ3w+6NAreLvhHMIpEA=",
          "dtype": "f8"
         }
        },
        {
         "mode": "lines",
         "name": "airline_SpiceJet",
         "type": "scatter",
         "x": {
          "bdata": "rIboVEcd+ECVt6y3i3f1QIzkXL43HPNAUGE4RCAD8UBZyuhv/0nuQOeQB8+59upAVPxzIOkA6ECm9QnLSl7lQHyzBpK8BeNAu4Kr7Bzv4EB3bTqvXSbeQOV/pHwB19pAoWE1S6zk10ASu7KTJ0XVQBCxCdhb79JA7pkvIDHb0EBMVlHZ5QLOQMYP83put8pAOonqrZDIx0D2NbTuISzFQDdFSXEV2cJAYHMSw1zHwEDy6N28l9+9QIuGDZ4AmLpAlHR/IZast0BusUS5ORO1QH9xzT7pwrJASnDCuZ+zsEDqi8ooc7ytQATOQbq3eKpAyh0Of7yQp0BDZcPQbvqkQMalwiHXrKJAbWDO6PmfoEDKYzvsd5mdQEQ3EaSTWZpAlEHenwN1l0C0RbgSweGUQIaVefvelpJAC1zlNGuMkEA6D47WpXaNQD0+MDCUOopAYyllXWtZh0B909NcMMmEQC0NZ60AgYJAsp3WgvN4gECOY1m3/FN9QFNNhjO5G3pAtnVFkfM9d0BF7O6MvLB0QKHHIxk8a3JAkFyRt5JlcEA4KW1efDFtQKuBLYMC/WlA9ehOFZwiZ0APmwqBZZhkQOlDbCCRVWJA1aYkuEhSYEAI2dGbJA9dQHBvcvRv3llAHzJ+w2QHV0Dn6E8XK4BUQDqbIKX/P1JAOTy/aRU/UEA+Wcg/9exMQF3m01wBwElAJrj8dU3sRkABrg8uDWhEQPNWRImHKkJAoGivsfgrQEBdu8ka7so8QNm2ApK2oTlAOWUgB1bRNkCxYsKjC1A0QAxH/q4oFTJAI99idfIYMEAD+ob9DqksQOt24WmPgylAWnJrUX62JkD98AdXJjgkQINYmPji/yFA9JRmmgIGIEASt+i4V4ccQOBHhLqLZRlAZDOML8abFkAFhqcmXSAUQBdsf0i26hFAhTnNDFLmD0A++g4eyGUMQOubMFqrRwlABONcfC2BBkAXZI/xrwgEQBwtQ4Gi1QFA7ANcPsvA/z8b8FD+X0T8PxT8XB/uKfk/F2/jErRm9j9mtNSWHvHzP5LolYWnwPE/5EhNlXCb7z8=",
          "dtype": "f8"
         },
         "y": {
          "bdata": "AAAAAAAAAAAAAAAAAAAAAAAAAAAAAAAAAAAAAAAAAAAAAAAAAAAAAAAAAAAAAAAAAAAAAAAAAAAAAAAAAAAAAAAAAAAAAAAAAAAAAAAAAAAAAAAAAAAAAAAAAAAAAAAAAAAAAAAAAAAAAAAAAAAAAAAAAAAAAAAAAAAAAAAAAAAAAAAAAAAAAAAAAAAAAACAAAAAAAAAAIAAAAAAAAAAgAAAAAAAAACAAAAAAAAAAIAAAAAAAAAAgAAAAAAAAACAAAAAAAAAAIAAAAAAAAAAgAAAAAAAAACAAAAAAAAAAIAAAAAAAAAAgAAAAAAAAACAAAAAAAAAAIAAAAAAAAAAgAAAAAAAAACAAAAAAAAAAIAAAAAAAAAAgAAAAAAAAACAAAAAAAAAAIAAAAAAAAAAgAAAAAAAAACAAAAAAAAAAIAAAAAAAAAAgAAAAAAAAACAAAAAAAAAAIAAAAAAAAAAgAAAAAAAAACAAAAAAAAAAIAAAAAAAAAAgAAAAAAAAACAAAAAAAAAAIAAAAAAAAAAgAAAAAAAAACAAAAAAAAAAIAAAAAAAAAAgAAAAAAAAACAAAAAAAAAAIAAAAAAAAAAgAAAAAAAAACAAAAAAAAAAAAAAAAAAAAAAAAAAAAAAAAAAAAAAAAAAAAAAAAAAAAAAAAAAAAAAAAAAAAAAAAAAAAAAAAAAAAAAAAAAAAAAAAAAAAAAAAAAAAAAAAAAAAAAAAAAAAAAAAACs3byJUDSUAna4rjcu9gQFoDGrJiJGpA1bFp7fMqcUC0+OO/AeR0QBUq9/sAHnhAbmR4vjJ2e0DWjFYlajuBQAAAAAAAAAAAAAAAAAAAAAAAAAAAAAAAAAAAAAAAAAAAAAAAAAAAAAAAAAAAAAAAAAAAAAAAAAAAAAAAAAAAAAAAAAAAAAAAAAAAAAAAAAAAAAAAAAAAAAAAAAAAAAAAAAAAAAAAAAAAAAAAAAAAAAAAAAAAAAAAAAAAAAAAAAAAAAAAAAAAAAAAAAAAAAAAAAAAAAAAAAAAAAAAAAAAAAAAAAAAAAAAAAAAAAAAAAAAAAAAAAAAAAA=",
          "dtype": "f8"
         }
        },
        {
         "mode": "lines",
         "name": "airline_Vistara",
         "type": "scatter",
         "x": {
          "bdata": "rIboVEcd+ECVt6y3i3f1QIzkXL43HPNAUGE4RCAD8UBZyuhv/0nuQOeQB8+59upAVPxzIOkA6ECm9QnLSl7lQHyzBpK8BeNAu4Kr7Bzv4EB3bTqvXSbeQOV/pHwB19pAoWE1S6zk10ASu7KTJ0XVQBCxCdhb79JA7pkvIDHb0EBMVlHZ5QLOQMYP83put8pAOonqrZDIx0D2NbTuISzFQDdFSXEV2cJAYHMSw1zHwEDy6N28l9+9QIuGDZ4AmLpAlHR/IZast0BusUS5ORO1QH9xzT7pwrJASnDCuZ+zsEDqi8ooc7ytQATOQbq3eKpAyh0Of7yQp0BDZcPQbvqkQMalwiHXrKJAbWDO6PmfoEDKYzvsd5mdQEQ3EaSTWZpAlEHenwN1l0C0RbgSweGUQIaVefvelpJAC1zlNGuMkEA6D47WpXaNQD0+MDCUOopAYyllXWtZh0B909NcMMmEQC0NZ60AgYJAsp3WgvN4gECOY1m3/FN9QFNNhjO5G3pAtnVFkfM9d0BF7O6MvLB0QKHHIxk8a3JAkFyRt5JlcEA4KW1efDFtQKuBLYMC/WlA9ehOFZwiZ0APmwqBZZhkQOlDbCCRVWJA1aYkuEhSYEAI2dGbJA9dQHBvcvRv3llAHzJ+w2QHV0Dn6E8XK4BUQDqbIKX/P1JAOTy/aRU/UEA+Wcg/9exMQF3m01wBwElAJrj8dU3sRkABrg8uDWhEQPNWRImHKkJAoGivsfgrQEBdu8ka7so8QNm2ApK2oTlAOWUgB1bRNkCxYsKjC1A0QAxH/q4oFTJAI99idfIYMEAD+ob9DqksQOt24WmPgylAWnJrUX62JkD98AdXJjgkQINYmPji/yFA9JRmmgIGIEASt+i4V4ccQOBHhLqLZRlAZDOML8abFkAFhqcmXSAUQBdsf0i26hFAhTnNDFLmD0A++g4eyGUMQOubMFqrRwlABONcfC2BBkAXZI/xrwgEQBwtQ4Gi1QFA7ANcPsvA/z8b8FD+X0T8PxT8XB/uKfk/F2/jErRm9j9mtNSWHvHzP5LolYWnwPE/5EhNlXCb7z8=",
          "dtype": "f8"
         },
         "y": {
          "bdata": "AAAAAAAAAAAAAAAAAAAAAAAAAAAAAAAAAAAAAAAAAAAAAAAAAAAAAAAAAAAAAAAAAAAAAAAAAAAAAAAAAAAAAAAAAAAAAAAAAAAAAAAAAAAAAAAAAAAAAAAAAAAAAAAAAAAAAAAAAAAAAAAAAAAAAAAAAAAAAAAAAAAAAAAAAAAAAAAAAAAAgAAAAAAAAACAAAAAAAAAAIAAAAAAAAAAgAAAAAAAAACAAAAAAAAAAIAAAAAAAAAAgAAAAAAAAACAAAAAAAAAAIAAAAAAAAAAgAAAAAAAAACAAAAAAAAAAIAAAAAAAAAAgAAAAAAAAACAAAAAAAAAAIAAAAAAAAAAgAAAAAAAAACAAAAAAAAAAIAAAAAAAAAAgAAAAAAAAACAAAAAAAAAAIAAAAAAAAAAgAAAAAAAAACAAAAAAAAAAIAAAAAAAAAAgAAAAAAAAACAAAAAAAAAAIAAAAAAAAAAgAAAAAAAAACAAAAAAAAAAIAAAAAAAAAAgAAAAAAAAACAAAAAAAAAAIAAAAAAAAAAgAAAAAAAAACAAAAAAAAAAIAAAAAAAAAAgAAAAAAAAACAAAAAAAAAAIAAAAAAAAAAgAAAAAAAAACAAAAAAAAAAIAAAAAAAAAAgAAAAAAAAACAAAAAAAAAAIAAAAAAAAAAgAAAAAAAAACAAAAAAAAAAIAAAAAAAAAAgAAAAAAAAACAAAAAAAAAAIAAAAAAAAAAgAAAAAAAAACAAAAAAAAAAIAAAAAAAAAAgAAAAAAAAACAAAAAAAAAAAAAAAAAAAAAAAAAAAAAAAAAAAAAAAAAAABgPYesNZFXQAAAAAAAAAAAAAAAAAAAAAAAAAAAAAAAAAAAAAAAAAAAAAAAAAAAAAAAAAAAAAAAAAAAAAAAAAAAAAAAAAAAAAAAAAAAAAAAAAAAAAAAAAAAAAAAAAAAAAAAAAAAAAAAAAAAAAAAAAAAAAAAAAAAAAAAAAAAAAAAAAAAAAAAAAAAAAAAAAAAAAAAAAAAAAAAAAAAAAAAAAAAAAAAAAAAAAAAAAAAAAAAAAAAAAAAAAAAAAAAAAAAAAA=",
          "dtype": "f8"
         }
        },
        {
         "mode": "lines",
         "name": "source_city_Chennai",
         "type": "scatter",
         "x": {
          "bdata": "rIboVEcd+ECVt6y3i3f1QIzkXL43HPNAUGE4RCAD8UBZyuhv/0nuQOeQB8+59upAVPxzIOkA6ECm9QnLSl7lQHyzBpK8BeNAu4Kr7Bzv4EB3bTqvXSbeQOV/pHwB19pAoWE1S6zk10ASu7KTJ0XVQBCxCdhb79JA7pkvIDHb0EBMVlHZ5QLOQMYP83put8pAOonqrZDIx0D2NbTuISzFQDdFSXEV2cJAYHMSw1zHwEDy6N28l9+9QIuGDZ4AmLpAlHR/IZast0BusUS5ORO1QH9xzT7pwrJASnDCuZ+zsEDqi8ooc7ytQATOQbq3eKpAyh0Of7yQp0BDZcPQbvqkQMalwiHXrKJAbWDO6PmfoEDKYzvsd5mdQEQ3EaSTWZpAlEHenwN1l0C0RbgSweGUQIaVefvelpJAC1zlNGuMkEA6D47WpXaNQD0+MDCUOopAYyllXWtZh0B909NcMMmEQC0NZ60AgYJAsp3WgvN4gECOY1m3/FN9QFNNhjO5G3pAtnVFkfM9d0BF7O6MvLB0QKHHIxk8a3JAkFyRt5JlcEA4KW1efDFtQKuBLYMC/WlA9ehOFZwiZ0APmwqBZZhkQOlDbCCRVWJA1aYkuEhSYEAI2dGbJA9dQHBvcvRv3llAHzJ+w2QHV0Dn6E8XK4BUQDqbIKX/P1JAOTy/aRU/UEA+Wcg/9exMQF3m01wBwElAJrj8dU3sRkABrg8uDWhEQPNWRImHKkJAoGivsfgrQEBdu8ka7so8QNm2ApK2oTlAOWUgB1bRNkCxYsKjC1A0QAxH/q4oFTJAI99idfIYMEAD+ob9DqksQOt24WmPgylAWnJrUX62JkD98AdXJjgkQINYmPji/yFA9JRmmgIGIEASt+i4V4ccQOBHhLqLZRlAZDOML8abFkAFhqcmXSAUQBdsf0i26hFAhTnNDFLmD0A++g4eyGUMQOubMFqrRwlABONcfC2BBkAXZI/xrwgEQBwtQ4Gi1QFA7ANcPsvA/z8b8FD+X0T8PxT8XB/uKfk/F2/jErRm9j9mtNSWHvHzP5LolYWnwPE/5EhNlXCb7z8=",
          "dtype": "f8"
         },
         "y": {
          "bdata": "AAAAAAAAAAAAAAAAAAAAAAAAAAAAAAAAAAAAAAAAAAAAAAAAAAAAAAAAAAAAAAAAAAAAAAAAAAAAAAAAAAAAAAAAAAAAAAAAAAAAAAAAAAAAAAAAAAAAAAAAAAAAAAAAAAAAAAAAAAAAAAAAAAAAAAAAAAAAAAAAAAAAAAAAAAAAAAAAAAAAAAAAAAAAAACAAAAAAAAAAIAAAAAAAAAAgAAAAAAAAACAAAAAAAAAAIAAAAAAAAAAgAAAAAAAAACAAAAAAAAAAIAAAAAAAAAAgAAAAAAAAACAAAAAAAAAAIAAAAAAAAAAgAAAAAAAAACAAAAAAAAAAIAAAAAAAAAAgAAAAAAAAACAAAAAAAAAAIAAAAAAAAAAgAAAAAAAAACAAAAAAAAAAIAAAAAAAAAAgAAAAAAAAACAAAAAAAAAAIAAAAAAAAAAgAAAAAAAAACAAAAAAAAAAIAAAAAAAAAAgAAAAAAAAACAAAAAAAAAAIAAAAAAAAAAgAAAAAAAAACAAAAAAAAAAIAAAAAAAAAAgAAAAAAAAACAAAAAAAAAAIAAAAAAAAAAAAAAAAAAAACAAAAAAAAAAIAAAAAAAAAAgAAAAAAAAAAAAAAAAAAAAAAAAAAAAAAAAAAAAAAAAAAAAAAAAAAAAAAAAAAAAAAAAAAAAAAAAAAAAAAAAAAAAAAAAAAAAAAAAAAAAAAAAAAAAAAAAAAAAAAAAAAAAAAAAAAAAAAAAAAAAAAAAAAAAAAAAAAAAAAAAAAAAAAAAAAAAAAAAAAAAAAAAAAAAAAAAKqvQ08Xcv4/NkkI9fqeWUACLbyMLEZwQAAAAAAAAAAAAAAAAAAAAAAAAAAAAAAAAAAAAAAAAAAAAAAAAAAAAAAAAAAAAAAAAAAAAAAAAAAAAAAAAAAAAAAAAAAAAAAAAAAAAAAAAAAAAAAAAAAAAAAAAAAAAAAAAAAAAAAAAAAAAAAAAAAAAAAAAAAAAAAAAAAAAAAAAAAAAAAAAAAAAAAAAAAAAAAAAAAAAAAAAAAAAAAAAAAAAAAAAAAAAAAAAAAAAAAAAAAAAAAAAAAAAAA=",
          "dtype": "f8"
         }
        },
        {
         "mode": "lines",
         "name": "source_city_Delhi",
         "type": "scatter",
         "x": {
          "bdata": "rIboVEcd+ECVt6y3i3f1QIzkXL43HPNAUGE4RCAD8UBZyuhv/0nuQOeQB8+59upAVPxzIOkA6ECm9QnLSl7lQHyzBpK8BeNAu4Kr7Bzv4EB3bTqvXSbeQOV/pHwB19pAoWE1S6zk10ASu7KTJ0XVQBCxCdhb79JA7pkvIDHb0EBMVlHZ5QLOQMYP83put8pAOonqrZDIx0D2NbTuISzFQDdFSXEV2cJAYHMSw1zHwEDy6N28l9+9QIuGDZ4AmLpAlHR/IZast0BusUS5ORO1QH9xzT7pwrJASnDCuZ+zsEDqi8ooc7ytQATOQbq3eKpAyh0Of7yQp0BDZcPQbvqkQMalwiHXrKJAbWDO6PmfoEDKYzvsd5mdQEQ3EaSTWZpAlEHenwN1l0C0RbgSweGUQIaVefvelpJAC1zlNGuMkEA6D47WpXaNQD0+MDCUOopAYyllXWtZh0B909NcMMmEQC0NZ60AgYJAsp3WgvN4gECOY1m3/FN9QFNNhjO5G3pAtnVFkfM9d0BF7O6MvLB0QKHHIxk8a3JAkFyRt5JlcEA4KW1efDFtQKuBLYMC/WlA9ehOFZwiZ0APmwqBZZhkQOlDbCCRVWJA1aYkuEhSYEAI2dGbJA9dQHBvcvRv3llAHzJ+w2QHV0Dn6E8XK4BUQDqbIKX/P1JAOTy/aRU/UEA+Wcg/9exMQF3m01wBwElAJrj8dU3sRkABrg8uDWhEQPNWRImHKkJAoGivsfgrQEBdu8ka7so8QNm2ApK2oTlAOWUgB1bRNkCxYsKjC1A0QAxH/q4oFTJAI99idfIYMEAD+ob9DqksQOt24WmPgylAWnJrUX62JkD98AdXJjgkQINYmPji/yFA9JRmmgIGIEASt+i4V4ccQOBHhLqLZRlAZDOML8abFkAFhqcmXSAUQBdsf0i26hFAhTnNDFLmD0A++g4eyGUMQOubMFqrRwlABONcfC2BBkAXZI/xrwgEQBwtQ4Gi1QFA7ANcPsvA/z8b8FD+X0T8PxT8XB/uKfk/F2/jErRm9j9mtNSWHvHzP5LolYWnwPE/5EhNlXCb7z8=",
          "dtype": "f8"
         },
         "y": {
          "bdata": "AAAAAAAAAAAAAAAAAAAAAAAAAAAAAAAAAAAAAAAAAAAAAAAAAAAAAAAAAAAAAAAAAAAAAAAAAAAAAAAAAAAAAAAAAAAAAAAAAAAAAAAAAAAAAAAAAAAAAAAAAAAAAAAAAAAAAAAAAAAAAAAAAAAAAAAAAAAAAAAAAAAAAAAAAAAAAAAAAAAAAAAAAAAAAAAAAAAAAAAAAAAAAAAAAAAAAAAAAAAAAAAAAAAAAAAAAAAAAAAAAAAAAAAAAAAAAAAAAAAAAAAAAAAAAAAAAAAAAAAAAAAAAAAArE2Zs84mcECHa3LsyfWMQGZ1bpMuxJdAAmjG11cEoEBeLvSsPbqjQOTr9e6T2KZAc5bprL3mp0ANzpWM6VOpQFZZp7vmmKpA49UuuTi6q0A08W3tuLusQHkUM4nmoK1A71hGdB9trkAWE0eXqiKvQBl4mW00xK9Anfu0K/cpsEBtS3rGJGqwQEphnWMgoLBAfJBQis99sEBUj2GEPHCyQKRkDC4KXLRAOmF8I6gVtkDgOtkawZy3QHGUUDk38LhAFeoFYZbXuUCsJE6ftY+6QEQyZ1ORGrtARv+k+LuPu0CkTT794i28QI1syTEzL71AWFeaqz8XvkB525NJG+i+QD4tPu8DpL9AU6L5GmQlwECSP0YfkG7AQGqS7ZvcrMBAXspqn+LjwEAHLk8/RRPBQA9MIGU0O8FAZAbmU1FhwUDnFXy2vobBQH45R8N4m8FAd1zBjMHIwUDBRBL4IejBQJ05qZinAMJACc3TaWkWwkCYfxvoEyrCQMz38ZVcOMJA4xxy/NJFwkB6uOP6WFTCQIWXxu1BtMJAsmRFPNr9wkAZwqNUGjbDQISu+v8zZcNAnGrO5BGPw0C6oASFULTDQA6RuK111cNAZkZjV6ryw0B/dpyNbQrEQM0JR6biGsRAjfFJck4nxEAGLstLNzLEQEocOItVPcRA8Y6JpqhIxEApHQa2H1LEQHnGkWCgWsRAgaNuDWVixEDcU/dddmvEQGOAh3f9ccRAvTcP29B2xECrrHdI+XfEQCZdZcYBe8RAFx/pA7V9xEA=",
          "dtype": "f8"
         }
        },
        {
         "mode": "lines",
         "name": "source_city_Hyderabad",
         "type": "scatter",
         "x": {
          "bdata": "rIboVEcd+ECVt6y3i3f1QIzkXL43HPNAUGE4RCAD8UBZyuhv/0nuQOeQB8+59upAVPxzIOkA6ECm9QnLSl7lQHyzBpK8BeNAu4Kr7Bzv4EB3bTqvXSbeQOV/pHwB19pAoWE1S6zk10ASu7KTJ0XVQBCxCdhb79JA7pkvIDHb0EBMVlHZ5QLOQMYP83put8pAOonqrZDIx0D2NbTuISzFQDdFSXEV2cJAYHMSw1zHwEDy6N28l9+9QIuGDZ4AmLpAlHR/IZast0BusUS5ORO1QH9xzT7pwrJASnDCuZ+zsEDqi8ooc7ytQATOQbq3eKpAyh0Of7yQp0BDZcPQbvqkQMalwiHXrKJAbWDO6PmfoEDKYzvsd5mdQEQ3EaSTWZpAlEHenwN1l0C0RbgSweGUQIaVefvelpJAC1zlNGuMkEA6D47WpXaNQD0+MDCUOopAYyllXWtZh0B909NcMMmEQC0NZ60AgYJAsp3WgvN4gECOY1m3/FN9QFNNhjO5G3pAtnVFkfM9d0BF7O6MvLB0QKHHIxk8a3JAkFyRt5JlcEA4KW1efDFtQKuBLYMC/WlA9ehOFZwiZ0APmwqBZZhkQOlDbCCRVWJA1aYkuEhSYEAI2dGbJA9dQHBvcvRv3llAHzJ+w2QHV0Dn6E8XK4BUQDqbIKX/P1JAOTy/aRU/UEA+Wcg/9exMQF3m01wBwElAJrj8dU3sRkABrg8uDWhEQPNWRImHKkJAoGivsfgrQEBdu8ka7so8QNm2ApK2oTlAOWUgB1bRNkCxYsKjC1A0QAxH/q4oFTJAI99idfIYMEAD+ob9DqksQOt24WmPgylAWnJrUX62JkD98AdXJjgkQINYmPji/yFA9JRmmgIGIEASt+i4V4ccQOBHhLqLZRlAZDOML8abFkAFhqcmXSAUQBdsf0i26hFAhTnNDFLmD0A++g4eyGUMQOubMFqrRwlABONcfC2BBkAXZI/xrwgEQBwtQ4Gi1QFA7ANcPsvA/z8b8FD+X0T8PxT8XB/uKfk/F2/jErRm9j9mtNSWHvHzP5LolYWnwPE/5EhNlXCb7z8=",
          "dtype": "f8"
         },
         "y": {
          "bdata": "AAAAAAAAAAAAAAAAAAAAAAAAAAAAAAAAAAAAAAAAAAAAAAAAAAAAAAAAAAAAAAAAAAAAAAAAAAAAAAAAAAAAAAAAAAAAAAAAAAAAAAAAAAAAAAAAAAAAAAAAAAAAAAAAAAAAAAAAAAAAAAAAAAAAAAAAAAAAAAAAAAAAAAAAAAAAAAAAAAAAAAAAAAAAAAAAAAAAAAAAAAAAAAAAAAAAAAAAAAAAAAAAAAAAAAAAAAAAAAAAAAAAAAAAAAAAAAAAAAAAAAAAAAAAAAAAAAAAAAAAAAAAAAAAAAAAAAAAAAAAAAAAAAAAAAAAAAAAAAAAAAAAAAAAAAAAAAAAAAAAAAAAAAAAAAAAAAAAAAAAAAAAAAAAAAAAAAAAAAAAAAAAAAAAAAAAAAAAAAAAAAAAAAAAAAAAAAAAAAAAAAAAAAAAAAAAAAAAAAAAAAAAAAAAAAAAAAAAAAAAAAAAAAAAAAAAAAAAAAAAAAAAAAAAAAAAAAAAAAAAAAAAAAAAAAAAAAAAAAAAAAAAAAAAAAAAAAAAAAAAAAAAAAAAAAAAAAAAAAAAAAAAAAAAAAAAAAAAAAAAAAAAAAAAAAAAAAAAAAAAAAAAAAAAAAAAAAAAAAAAAAAAAAAAAAAAAAAAAAAAAAAAAAAAAAAAAAAAAAAAAAAAAAAAAAAAAAAAAAAAAAAAAAAAAAAAAAAAAAAAAAAAAAAAAAAAAAAAAAAAAAAAAAAAAAAAAAAAAAAAAAAAAAAAAAAAAAAAAAAAAAAAAAAAAAAAAAAAAAB9XhLP1ws1QKCd/FSYEkZAXh2yN88ZUEBRVYdsiLRTQGLYcIbDdVZANKiALnvgWECFK5/3cDxdQGvwqQ9E+GVAxRci3nKGbECe7g3VwS5xQN6d1sZzyHNAE7TzvdcRdkDqk2RMiud3QKHU20P+nHlAdcP0MsUte0AWZpbBnZJ8QDCK4B7CzX1AtbkmJYDdfkAmND0PD8B/QJuilUsRRYBARit/i0edgEA4UEBa4dSAQKfj4DbwCoFAO+gW1MA8gUD7Gt9abWuBQDCMxcYWk4FAU5wAUl+2gUA=",
          "dtype": "f8"
         }
        },
        {
         "mode": "lines",
         "name": "source_city_Kolkata",
         "type": "scatter",
         "x": {
          "bdata": "rIboVEcd+ECVt6y3i3f1QIzkXL43HPNAUGE4RCAD8UBZyuhv/0nuQOeQB8+59upAVPxzIOkA6ECm9QnLSl7lQHyzBpK8BeNAu4Kr7Bzv4EB3bTqvXSbeQOV/pHwB19pAoWE1S6zk10ASu7KTJ0XVQBCxCdhb79JA7pkvIDHb0EBMVlHZ5QLOQMYP83put8pAOonqrZDIx0D2NbTuISzFQDdFSXEV2cJAYHMSw1zHwEDy6N28l9+9QIuGDZ4AmLpAlHR/IZast0BusUS5ORO1QH9xzT7pwrJASnDCuZ+zsEDqi8ooc7ytQATOQbq3eKpAyh0Of7yQp0BDZcPQbvqkQMalwiHXrKJAbWDO6PmfoEDKYzvsd5mdQEQ3EaSTWZpAlEHenwN1l0C0RbgSweGUQIaVefvelpJAC1zlNGuMkEA6D47WpXaNQD0+MDCUOopAYyllXWtZh0B909NcMMmEQC0NZ60AgYJAsp3WgvN4gECOY1m3/FN9QFNNhjO5G3pAtnVFkfM9d0BF7O6MvLB0QKHHIxk8a3JAkFyRt5JlcEA4KW1efDFtQKuBLYMC/WlA9ehOFZwiZ0APmwqBZZhkQOlDbCCRVWJA1aYkuEhSYEAI2dGbJA9dQHBvcvRv3llAHzJ+w2QHV0Dn6E8XK4BUQDqbIKX/P1JAOTy/aRU/UEA+Wcg/9exMQF3m01wBwElAJrj8dU3sRkABrg8uDWhEQPNWRImHKkJAoGivsfgrQEBdu8ka7so8QNm2ApK2oTlAOWUgB1bRNkCxYsKjC1A0QAxH/q4oFTJAI99idfIYMEAD+ob9DqksQOt24WmPgylAWnJrUX62JkD98AdXJjgkQINYmPji/yFA9JRmmgIGIEASt+i4V4ccQOBHhLqLZRlAZDOML8abFkAFhqcmXSAUQBdsf0i26hFAhTnNDFLmD0A++g4eyGUMQOubMFqrRwlABONcfC2BBkAXZI/xrwgEQBwtQ4Gi1QFA7ANcPsvA/z8b8FD+X0T8PxT8XB/uKfk/F2/jErRm9j9mtNSWHvHzP5LolYWnwPE/5EhNlXCb7z8=",
          "dtype": "f8"
         },
         "y": {
          "bdata": "AAAAAAAAAAAAAAAAAAAAAAAAAAAAAAAAAAAAAAAAAAAAAAAAAAAAAAAAAAAAAAAAAAAAAAAAAAAAAAAAAAAAAAAAAAAAAAAAAAAAAAAAAAAAAAAAAAAAAAAAAAAAAAAAAAAAAAAAAAAAAAAAAAAAAAAAAAAAAAAAAAAAAAAAAAAAAAAAAAAAAAAAAAAAAAAAAAAAAAAAAAAAAAAAAAAAAAAAAAAAAAAAAAAAAAAAAAAAAAAAAAAAAAAAAAAAAAAAAAAAAAAAAAAAAAAAAAAAAAAAAAAAAAAAAAAAAAAAAAAAAAAAAAAAAAAAAAAAAAAAAAAAAAAAAAAAAAAAAAAAAAAAAAAAAAAAAAAAAAAAAAAAAAAAAAAAAAAAAAAAAAAAAAAAAAAAAAAAAAAAAAAAAAAAAAAAAAAAAAAAAAAAAAAAAAAAAAAAAAAAAAAAAACAAAAAAAAAAIAAAAAAAAAAgAAAAAAAAACAAAAAAAAAAIAAAAAAAAAAgAAAAAAAAACAAAAAAAAAAIAAAAAAAAAAgAAAAAAAAACAAAAAAAAAAIAAAAAAAAAAgAAAAAAAAACAAAAAAAAAAIAAAAAAAAAAgAAAAAAAAACAAAAAAAAAAIAAAAAAAAAAgAAAAAAAAACAAAAAAAAAAID8zhiFZjw7wGUvDEzE2V7AxqShKuuHacD+rdadMxdxwGH8OPeSC3XAD1goH/3SeMDjxvbe/098wJWwwfm1dH/A5nootG8agcBLiBV4U7mEwMPoVMs8/4vAoqMcJvA8kcD+Xn/DBvuTwAqWCzVHn5bA6tepNP7zmMDBSW5iXA2bwOTcE/8B6ZzAstA1N3SWnsD4SJ0dqgKgwL9J2+dSgqDAnMd27BD0oMCmOG6tXFmhwL3bdc2Ns6HA13lsadIDosAu1Wzrd0uiwLL6HrPkiaLA5PhSRQjBosCb7YRLGPKiwHTWQzoOHqPAdXak14dFo8BvrUnqvWijwB9vpRwaiKPAMebyKUKko8DNKyLQCcCjwL6OVlp11aPAbjJa1Nbmo8BsNCZrnfWjwC+tfpRBBaTAujv71S4TpMA=",
          "dtype": "f8"
         }
        },
        {
         "mode": "lines",
         "name": "source_city_Mumbai",
         "type": "scatter",
         "x": {
          "bdata": "rIboVEcd+ECVt6y3i3f1QIzkXL43HPNAUGE4RCAD8UBZyuhv/0nuQOeQB8+59upAVPxzIOkA6ECm9QnLSl7lQHyzBpK8BeNAu4Kr7Bzv4EB3bTqvXSbeQOV/pHwB19pAoWE1S6zk10ASu7KTJ0XVQBCxCdhb79JA7pkvIDHb0EBMVlHZ5QLOQMYP83put8pAOonqrZDIx0D2NbTuISzFQDdFSXEV2cJAYHMSw1zHwEDy6N28l9+9QIuGDZ4AmLpAlHR/IZast0BusUS5ORO1QH9xzT7pwrJASnDCuZ+zsEDqi8ooc7ytQATOQbq3eKpAyh0Of7yQp0BDZcPQbvqkQMalwiHXrKJAbWDO6PmfoEDKYzvsd5mdQEQ3EaSTWZpAlEHenwN1l0C0RbgSweGUQIaVefvelpJAC1zlNGuMkEA6D47WpXaNQD0+MDCUOopAYyllXWtZh0B909NcMMmEQC0NZ60AgYJAsp3WgvN4gECOY1m3/FN9QFNNhjO5G3pAtnVFkfM9d0BF7O6MvLB0QKHHIxk8a3JAkFyRt5JlcEA4KW1efDFtQKuBLYMC/WlA9ehOFZwiZ0APmwqBZZhkQOlDbCCRVWJA1aYkuEhSYEAI2dGbJA9dQHBvcvRv3llAHzJ+w2QHV0Dn6E8XK4BUQDqbIKX/P1JAOTy/aRU/UEA+Wcg/9exMQF3m01wBwElAJrj8dU3sRkABrg8uDWhEQPNWRImHKkJAoGivsfgrQEBdu8ka7so8QNm2ApK2oTlAOWUgB1bRNkCxYsKjC1A0QAxH/q4oFTJAI99idfIYMEAD+ob9DqksQOt24WmPgylAWnJrUX62JkD98AdXJjgkQINYmPji/yFA9JRmmgIGIEASt+i4V4ccQOBHhLqLZRlAZDOML8abFkAFhqcmXSAUQBdsf0i26hFAhTnNDFLmD0A++g4eyGUMQOubMFqrRwlABONcfC2BBkAXZI/xrwgEQBwtQ4Gi1QFA7ANcPsvA/z8b8FD+X0T8PxT8XB/uKfk/F2/jErRm9j9mtNSWHvHzP5LolYWnwPE/5EhNlXCb7z8=",
          "dtype": "f8"
         },
         "y": {
          "bdata": "AAAAAAAAAAAAAAAAAAAAAAAAAAAAAAAAAAAAAAAAAAAAAAAAAAAAAAAAAAAAAAAAAAAAAAAAAAAAAAAAAAAAAAAAAAAAAAAAAAAAAAAAAAAAAAAAAAAAAAAAAAAAAAAAAAAAAAAAAAAAAAAAAAAAAAAAAAAAAAAAAAAAAAAAAAAAAAAAAAAAAAAAAAAAAAAAAAAAAAAAAAAAAAAAAAAAAAAAAAAAAAAAAAAAAAAAAAAAAAAAAAAAAAAAAAAAAAAAAAAAAAAAAAAAAAAAAAAAAAAAAAAAAAAAAAAAAAAAAAAAAAAAAAAAAAAAAAAAAAAAAAAAAAAAAAAAAAAAAAAAAAAAAAAAAAAAAAAAAAAAAAAAAAAAAAAAAAAAAAAAAAAAAAAAAAAAAAAAAAAAAAAAAAAAAAAAAAAAAAAAAAAAAIAAAAAAAAAAgAAAAAAAAACAAAAAAAAAAIAAAAAAAAAAgAAAAAAAAACAAAAAAAAAAIAAAAAAAAAAgAAAAAAAAACAAAAAAAAAAIAAAAAAAAAAgAAAAAAAAACAAAAAAAAAAIAAAAAAAAAAgAAAAAAAAACAAAAAAAAAAIAAAAAAAAAAgAAAAAAAAACAAAAAAAAAAIDx1XIk2vVSwDz8BhwCt2rAbWLavsL5dMD/tLWa4z58wMZ8/tXpAILA5ngdFZFghcCEhXl0HVOIwDyt/7OE44rA9LONAScVjcDXe3K+UwmPwBf96W9tY5DALWaHwGg/k8BfeP8wxrqWwNLK7VkglJrAUxfQ9cABnsALCFdfg3SgwKx5RK+UsaHAd6T+YKDEosD/9HBtprqjwPCZRe6spaTAhNctgAh6pcB2sVB8uS+mwJ+O0xrRq6bA9Njbjlcap8DmlcHLwXynwKgdH5Vg1KfA4/I8Mo8jqMARh9wGJW+owEP09QLhrqjA95YkDe/lqMBjRv5x4BapwPulUOVZQqnA6upuXxprqcBClXj1oZSpwLeLir2euanALZOSucHaqcD6CDPMlfqpwAhn6fjJE6rAbki906UoqsBAbk98QjuqwN+ksKAmTqrAWIClTfheqsA=",
          "dtype": "f8"
         }
        },
        {
         "mode": "lines",
         "name": "departure_time_Early_Morning",
         "type": "scatter",
         "x": {
          "bdata": "rIboVEcd+ECVt6y3i3f1QIzkXL43HPNAUGE4RCAD8UBZyuhv/0nuQOeQB8+59upAVPxzIOkA6ECm9QnLSl7lQHyzBpK8BeNAu4Kr7Bzv4EB3bTqvXSbeQOV/pHwB19pAoWE1S6zk10ASu7KTJ0XVQBCxCdhb79JA7pkvIDHb0EBMVlHZ5QLOQMYP83put8pAOonqrZDIx0D2NbTuISzFQDdFSXEV2cJAYHMSw1zHwEDy6N28l9+9QIuGDZ4AmLpAlHR/IZast0BusUS5ORO1QH9xzT7pwrJASnDCuZ+zsEDqi8ooc7ytQATOQbq3eKpAyh0Of7yQp0BDZcPQbvqkQMalwiHXrKJAbWDO6PmfoEDKYzvsd5mdQEQ3EaSTWZpAlEHenwN1l0C0RbgSweGUQIaVefvelpJAC1zlNGuMkEA6D47WpXaNQD0+MDCUOopAYyllXWtZh0B909NcMMmEQC0NZ60AgYJAsp3WgvN4gECOY1m3/FN9QFNNhjO5G3pAtnVFkfM9d0BF7O6MvLB0QKHHIxk8a3JAkFyRt5JlcEA4KW1efDFtQKuBLYMC/WlA9ehOFZwiZ0APmwqBZZhkQOlDbCCRVWJA1aYkuEhSYEAI2dGbJA9dQHBvcvRv3llAHzJ+w2QHV0Dn6E8XK4BUQDqbIKX/P1JAOTy/aRU/UEA+Wcg/9exMQF3m01wBwElAJrj8dU3sRkABrg8uDWhEQPNWRImHKkJAoGivsfgrQEBdu8ka7so8QNm2ApK2oTlAOWUgB1bRNkCxYsKjC1A0QAxH/q4oFTJAI99idfIYMEAD+ob9DqksQOt24WmPgylAWnJrUX62JkD98AdXJjgkQINYmPji/yFA9JRmmgIGIEASt+i4V4ccQOBHhLqLZRlAZDOML8abFkAFhqcmXSAUQBdsf0i26hFAhTnNDFLmD0A++g4eyGUMQOubMFqrRwlABONcfC2BBkAXZI/xrwgEQBwtQ4Gi1QFA7ANcPsvA/z8b8FD+X0T8PxT8XB/uKfk/F2/jErRm9j9mtNSWHvHzP5LolYWnwPE/5EhNlXCb7z8=",
          "dtype": "f8"
         },
         "y": {
          "bdata": "AAAAAAAAAAAAAAAAAAAAAAAAAAAAAAAAAAAAAAAAAAAAAAAAAAAAAAAAAAAAAAAAAAAAAAAAAAAAAAAAAAAAAAAAAAAAAAAAAAAAAAAAAAAAAAAAAAAAAAAAAAAAAAAAAAAAAAAAAAAAAAAAAAAAAAAAAAAAAAAAAAAAAAAAAAAAAAAAAAAAAAAAAAAAAAAAAAAAAAAAAAAAAAAAAAAAAAAAAAAAAAAAAAAAAAAAAAAAAAAAAAAAAAAAAAAAAAAAAAAAAAAAAAAAAAAAAAAAAAAAAAAAAAAAAAAAAAAAAAAAAAAAAAAAAAAAAAAAAAAAAAAAAAAAAAAAAAAAAAAAAAAAAAAAAAAAAAAAAAAAAAAAAAAAAAAAAAAAAAAAAAAAAAAAAAAAAAAAAAAAAAAAAAAAAAAAAAAAAAAAAAAAAAAAAAAAAAAAAAAAAAAAAAAAAAAAAAAAAAAAAAAAAAAAAAAAAAAAAAAAAAAAAAAAAAAAAAAAAAAAAAAAAAAAAAAAAAAAAAAAAAAAAAAAAAAAAAAAAAAAAAAAPhnJMpb/Q0CO1JqkqU1wQAcFgPfHT35ARVt7u7xXhUAodKA3YuiKQA1jEn8BBZBAHJN+UVFLkkAA/zV/7h6UQCAtetkihZVAGAYIo6O9lkAGwKWefrSXQOtrKdCkPZhAgzSvm8S/mEDmlTuaNzKZQO2GS7cWT5tAnEiYERzsn0Bsh7UDbT2iQJHReSFBa6RAw7BLlxsjpkDbTwFA3WOnQOzoHf1iIKhA/4VxGADIqECALpaS1m+pQHGCudqH8alAFTNTbbZbqkBM6wvJKLqqQCszW1aHB6tASvFZJNFLq0A643nOGI+rQF/pXt/W76tAiCC8UARGrEAwxtl0wZKsQH14jDMU16xAJJ/fMTITrUBwethIyEStQO5wCcKdcq1AIy17TmKbrUCgwP53p7+tQEt6W+494K1Aawoy3CP8rUDPvNUzbxGuQIJALD5oJK5AnsgMMwk1rkC1ClNqn0CuQOz0hmz3Ta5ARYsuY2FbrkBHXeNxxmauQCaawZq7bq5ALkkeMtB1rkA=",
          "dtype": "f8"
         }
        },
        {
         "mode": "lines",
         "name": "departure_time_Evening",
         "type": "scatter",
         "x": {
          "bdata": "rIboVEcd+ECVt6y3i3f1QIzkXL43HPNAUGE4RCAD8UBZyuhv/0nuQOeQB8+59upAVPxzIOkA6ECm9QnLSl7lQHyzBpK8BeNAu4Kr7Bzv4EB3bTqvXSbeQOV/pHwB19pAoWE1S6zk10ASu7KTJ0XVQBCxCdhb79JA7pkvIDHb0EBMVlHZ5QLOQMYP83put8pAOonqrZDIx0D2NbTuISzFQDdFSXEV2cJAYHMSw1zHwEDy6N28l9+9QIuGDZ4AmLpAlHR/IZast0BusUS5ORO1QH9xzT7pwrJASnDCuZ+zsEDqi8ooc7ytQATOQbq3eKpAyh0Of7yQp0BDZcPQbvqkQMalwiHXrKJAbWDO6PmfoEDKYzvsd5mdQEQ3EaSTWZpAlEHenwN1l0C0RbgSweGUQIaVefvelpJAC1zlNGuMkEA6D47WpXaNQD0+MDCUOopAYyllXWtZh0B909NcMMmEQC0NZ60AgYJAsp3WgvN4gECOY1m3/FN9QFNNhjO5G3pAtnVFkfM9d0BF7O6MvLB0QKHHIxk8a3JAkFyRt5JlcEA4KW1efDFtQKuBLYMC/WlA9ehOFZwiZ0APmwqBZZhkQOlDbCCRVWJA1aYkuEhSYEAI2dGbJA9dQHBvcvRv3llAHzJ+w2QHV0Dn6E8XK4BUQDqbIKX/P1JAOTy/aRU/UEA+Wcg/9exMQF3m01wBwElAJrj8dU3sRkABrg8uDWhEQPNWRImHKkJAoGivsfgrQEBdu8ka7so8QNm2ApK2oTlAOWUgB1bRNkCxYsKjC1A0QAxH/q4oFTJAI99idfIYMEAD+ob9DqksQOt24WmPgylAWnJrUX62JkD98AdXJjgkQINYmPji/yFA9JRmmgIGIEASt+i4V4ccQOBHhLqLZRlAZDOML8abFkAFhqcmXSAUQBdsf0i26hFAhTnNDFLmD0A++g4eyGUMQOubMFqrRwlABONcfC2BBkAXZI/xrwgEQBwtQ4Gi1QFA7ANcPsvA/z8b8FD+X0T8PxT8XB/uKfk/F2/jErRm9j9mtNSWHvHzP5LolYWnwPE/5EhNlXCb7z8=",
          "dtype": "f8"
         },
         "y": {
          "bdata": "AAAAAAAAAAAAAAAAAAAAAAAAAAAAAAAAAAAAAAAAAAAAAAAAAAAAAAAAAAAAAAAAAAAAAAAAAAAAAAAAAAAAAAAAAAAAAAAAAAAAAAAAAAAAAAAAAAAAAAAAAAAAAAAAAAAAAAAAAAAAAAAAAAAAAAAAAAAAAAAAAAAAAAAAAAAAAAAAAAAAAAAAAAAAAAAAAAAAAAAAAAAAAAAAAAAAAAAAAAAAAAAAAAAAAAAAAAAAAAAAAAAAAAAAAAAAAAAAAAAAAAAAAAAAAAAAAAAAAAAAAAAAAAAAAAAAAAAAAAAAAAAAAAAAAAAAAAAAAAAAAAAAAAAAAAAAAAAAAAAAAAAAAAAAAAAAAAAAAAAAAAAAAAAAAAAAAAAAAAAAAAAAAAAAAAAAAAAAAAAAAAAAAAAAAAAAAAAAAAAAAAAAAAAAAAAAAAAAAAAAAAAAAAAAAAAAAAAAAAAAAAAAAAAAAAAAAAAAAAAAAAAAAAAAAAAAAAAAAAAAAAAAAAAAAAAAAAAAAAAAAAAAAAAAAAAAAAAAAAAAAAAAAAAAAAAAAAAAAAAAAAAAAAAAAAAAAAAAAAAAAAAAAAAAAAAAAAAAAAAAAAAAAAAAAAAAAAAAAAAAAAAAAAAAAAAAAAAAAAAAAAAAAAAAAAAAAAAAAAAAAAAAAAAAAAAAXpFMnAqKGUDVjO2B0iUwQPWiR/FKJDlAAoAdLOxSQUD7vNs/QxVlQFMkoJxG+3ZAjyOSBj4+gEBCEbKhxVuDQPH4Hwy+nIRAiCyqkHq5hUApfRc3rACHQCn666x9C4hASWSEpp2kiEBKeHSp6xuJQN+JpI2BSolAfUDpfBpjiUAPjyCVcpqJQD3w25aPXIpA/XTJONgIi0BpZlmv/6GLQEJQvyVAKoxAHUcRflSijEA3U/zdNgeNQCS6eMlJZ41AXnN4MbjFjUAad1uMMRqOQOYDFIHjZI5AEpcPE9iljkBzzJleCd2OQKv9vyYTDo9A+9Ov/NE4j0CrrvBN4VSPQGznroofdI9ARwcTnXuSj0A+mMKIpq6PQIcX50IOxI9AFjJtlxrXj0A=",
          "dtype": "f8"
         }
        },
        {
         "mode": "lines",
         "name": "departure_time_Late_Night",
         "type": "scatter",
         "x": {
          "bdata": "rIboVEcd+ECVt6y3i3f1QIzkXL43HPNAUGE4RCAD8UBZyuhv/0nuQOeQB8+59upAVPxzIOkA6ECm9QnLSl7lQHyzBpK8BeNAu4Kr7Bzv4EB3bTqvXSbeQOV/pHwB19pAoWE1S6zk10ASu7KTJ0XVQBCxCdhb79JA7pkvIDHb0EBMVlHZ5QLOQMYP83put8pAOonqrZDIx0D2NbTuISzFQDdFSXEV2cJAYHMSw1zHwEDy6N28l9+9QIuGDZ4AmLpAlHR/IZast0BusUS5ORO1QH9xzT7pwrJASnDCuZ+zsEDqi8ooc7ytQATOQbq3eKpAyh0Of7yQp0BDZcPQbvqkQMalwiHXrKJAbWDO6PmfoEDKYzvsd5mdQEQ3EaSTWZpAlEHenwN1l0C0RbgSweGUQIaVefvelpJAC1zlNGuMkEA6D47WpXaNQD0+MDCUOopAYyllXWtZh0B909NcMMmEQC0NZ60AgYJAsp3WgvN4gECOY1m3/FN9QFNNhjO5G3pAtnVFkfM9d0BF7O6MvLB0QKHHIxk8a3JAkFyRt5JlcEA4KW1efDFtQKuBLYMC/WlA9ehOFZwiZ0APmwqBZZhkQOlDbCCRVWJA1aYkuEhSYEAI2dGbJA9dQHBvcvRv3llAHzJ+w2QHV0Dn6E8XK4BUQDqbIKX/P1JAOTy/aRU/UEA+Wcg/9exMQF3m01wBwElAJrj8dU3sRkABrg8uDWhEQPNWRImHKkJAoGivsfgrQEBdu8ka7so8QNm2ApK2oTlAOWUgB1bRNkCxYsKjC1A0QAxH/q4oFTJAI99idfIYMEAD+ob9DqksQOt24WmPgylAWnJrUX62JkD98AdXJjgkQINYmPji/yFA9JRmmgIGIEASt+i4V4ccQOBHhLqLZRlAZDOML8abFkAFhqcmXSAUQBdsf0i26hFAhTnNDFLmD0A++g4eyGUMQOubMFqrRwlABONcfC2BBkAXZI/xrwgEQBwtQ4Gi1QFA7ANcPsvA/z8b8FD+X0T8PxT8XB/uKfk/F2/jErRm9j9mtNSWHvHzP5LolYWnwPE/5EhNlXCb7z8=",
          "dtype": "f8"
         },
         "y": {
          "bdata": "AAAAAAAAAAAAAAAAAAAAAAAAAAAAAAAAAAAAAAAAAAAAAAAAAAAAAAAAAAAAAAAAAAAAAAAAAAAAAAAAAAAAAAAAAAAAAAAAAAAAAAAAAAAAAAAAAAAAAAAAAAAAAAAAAAAAAAAAAAAAAAAAAAAAAAAAAAAAAAAAAAAAAAAAAAAAAAAAAAAAAAAAAAAAAAAAAAAAAAAAAAAAAAAAAAAAAAAAAAAAAAAAAAAAAAAAAAAAAAAAAAAAAAAAAAAAAAAAAAAAAAAAAAAAAAAAAAAAAAAAAAAAAAAAAAAAAAAAAAAAAAAAAAAAAAAAAAAAAAAAAAAAAAAAAAAAAAAAAAAAAAAAAAAAAAAAAAAAAAAAAAAAAAAAAAAAAAAAAAAAAAAAAAAAAAAAAAAAAAAAAAAAAAAAAAAAAAAAAAAAAAAAAAAAAAAAAAAAAAAAAAAAAAAAAAAAAAAAAAAAAAAAAAAAAAAAAAAAAAAAAAAAAAAAAAAAAAAAAAAAAAAAAAAAAAAAAAAAAAAAAAAAAAAAAAAAAAAAAAAAAAAAAAAAAAAAAAAAAAAAAAAAAAAAAAAAAAAAAAAAAAAAAAAAAAAAAAAAAAAAAAAAAAAAAAAAAAAAAAAAAAAAAAAAAAAAAAAAAAAAAAAAAAAAAAAAAAAAAAAAAAAAAAAAAAAAAAAAAAAAAAAAAAAAAAAAAAAAAAAAAAAAAAAAAAAAAAAAAAAAAAAAAAAAAAAAAAAAAAAAAAAAAAAAAAAAAAAAAAAAAAAAAAAAAAAAAAAAAAAAAAAAAAAAAAAAAAAAAAAAAAAAAAAAAAAAAAAAAAAAAAAAAAAAAAAAAAAAAAAAAAAAAAAAAAAAAAAAAAAAAAAAAAAAAAAAAAAAAAAAAAAAAAAAAAAAAAAAAAAAAAAAAAAAAAAAAAAAAAAAAAAAAAAAAAAAAAAAAIAAAAAAAAAAgAAAAAAAAACAAAAAAAAAAIAAAAAAAAAAgAAAAAAAAAAAAAAAAAAAAAAAAAAAAAAAALqqiTJycS5AIAMRmbTsQkAHfQ+gWFBNQG5KnstYvU9AWSJS0f/yUEA=",
          "dtype": "f8"
         }
        },
        {
         "mode": "lines",
         "name": "departure_time_Morning",
         "type": "scatter",
         "x": {
          "bdata": "rIboVEcd+ECVt6y3i3f1QIzkXL43HPNAUGE4RCAD8UBZyuhv/0nuQOeQB8+59upAVPxzIOkA6ECm9QnLSl7lQHyzBpK8BeNAu4Kr7Bzv4EB3bTqvXSbeQOV/pHwB19pAoWE1S6zk10ASu7KTJ0XVQBCxCdhb79JA7pkvIDHb0EBMVlHZ5QLOQMYP83put8pAOonqrZDIx0D2NbTuISzFQDdFSXEV2cJAYHMSw1zHwEDy6N28l9+9QIuGDZ4AmLpAlHR/IZast0BusUS5ORO1QH9xzT7pwrJASnDCuZ+zsEDqi8ooc7ytQATOQbq3eKpAyh0Of7yQp0BDZcPQbvqkQMalwiHXrKJAbWDO6PmfoEDKYzvsd5mdQEQ3EaSTWZpAlEHenwN1l0C0RbgSweGUQIaVefvelpJAC1zlNGuMkEA6D47WpXaNQD0+MDCUOopAYyllXWtZh0B909NcMMmEQC0NZ60AgYJAsp3WgvN4gECOY1m3/FN9QFNNhjO5G3pAtnVFkfM9d0BF7O6MvLB0QKHHIxk8a3JAkFyRt5JlcEA4KW1efDFtQKuBLYMC/WlA9ehOFZwiZ0APmwqBZZhkQOlDbCCRVWJA1aYkuEhSYEAI2dGbJA9dQHBvcvRv3llAHzJ+w2QHV0Dn6E8XK4BUQDqbIKX/P1JAOTy/aRU/UEA+Wcg/9exMQF3m01wBwElAJrj8dU3sRkABrg8uDWhEQPNWRImHKkJAoGivsfgrQEBdu8ka7so8QNm2ApK2oTlAOWUgB1bRNkCxYsKjC1A0QAxH/q4oFTJAI99idfIYMEAD+ob9DqksQOt24WmPgylAWnJrUX62JkD98AdXJjgkQINYmPji/yFA9JRmmgIGIEASt+i4V4ccQOBHhLqLZRlAZDOML8abFkAFhqcmXSAUQBdsf0i26hFAhTnNDFLmD0A++g4eyGUMQOubMFqrRwlABONcfC2BBkAXZI/xrwgEQBwtQ4Gi1QFA7ANcPsvA/z8b8FD+X0T8PxT8XB/uKfk/F2/jErRm9j9mtNSWHvHzP5LolYWnwPE/5EhNlXCb7z8=",
          "dtype": "f8"
         },
         "y": {
          "bdata": "AAAAAAAAAAAAAAAAAAAAAAAAAAAAAAAAAAAAAAAAAAAAAAAAAAAAAAAAAAAAAAAAAAAAAAAAAAAAAAAAAAAAAAAAAAAAAAAAAAAAAAAAAAAAAAAAAAAAAAAAAAAAAAAAAAAAAAAAAAAAAAAAAAAAAAAAAAAAAAAAAAAAAAAAAAAAAAAAAAAAAAAAAAAAAAAAAAAAAAAAAAAAAAAAAAAAAAAAAAAAAAAAAAAAAAAAAAAAAAAAAAAAAAAAAAAAAAAAAAAAAAAAAAAAAAAAAAAAAAAAAAAAAAAAAAAAAAAAAAAAAAAAAAAAAAAAAAAAAAAAAAAAAAAAAAAAAAAAAAAAAAAAAAAAAAAAAAAAAAAAAAAAAAAAAAAAAAAAAAAAAAAAAAAAAAAAAAAAAAAAAAAAAAAAAAAAAAAAAAAAAAAAAAAAAAAAAAAAAAAAAAAAAAAAAAAAAAAAAAAAAAAAAAAAAAAAAAAAAAAAAAAAAAAAAAAAAAAAAAAAgAAAAAAAAACAAAAAAAAAAIAAAAAAAAAAgAAAAAAAAACAAAAAAAAAAIAAAAAAAAAAgAAAAAAAAACAAAAAAAAAAIAAAAAAAAAAgAAAAAAAAACAAAAAAAAAAAAAAAAAAAAAAAAAAAAAAAAAAAAAAAAAAAAAAAAAAAAAAAAAAAAAAAAAAAAAAAAAAAAAAAAAAAAAAAAAAAAAAAAAAAAAAAAAAAAAAAAAAAAAAAAAAAAAAAAAsDYuled0OkCiypNL3HRlQETb77XYr3NA5xGbncCoe0DgBs+1F26BQMWDYU40t4RAFhF9AcSUh0Au2dSN2iCKQBfp9nWFnIxAw31agCfHjkBBkzFlxm2QQEsCTHi5aJFAZ/Bx8tRHkkDyyDxTUw6TQJcWunf6vpNAN1qSBWRhlECZ5vpvKvWUQMLcBzhaWpVA4r4YC/vElUAZsFO5oySWQAZJEmoSfJZAYgCt4ADglkBYhxNcEGeXQIY883db35dAu5EJ12lKmED6xJl1P6mYQEM+1FK7I5lAVfe9U2GnmUDIo6nlPBiaQNxW4lwXW5pAckF80ZmWmkA=",
          "dtype": "f8"
         }
        },
        {
         "mode": "lines",
         "name": "departure_time_Night",
         "type": "scatter",
         "x": {
          "bdata": "rIboVEcd+ECVt6y3i3f1QIzkXL43HPNAUGE4RCAD8UBZyuhv/0nuQOeQB8+59upAVPxzIOkA6ECm9QnLSl7lQHyzBpK8BeNAu4Kr7Bzv4EB3bTqvXSbeQOV/pHwB19pAoWE1S6zk10ASu7KTJ0XVQBCxCdhb79JA7pkvIDHb0EBMVlHZ5QLOQMYP83put8pAOonqrZDIx0D2NbTuISzFQDdFSXEV2cJAYHMSw1zHwEDy6N28l9+9QIuGDZ4AmLpAlHR/IZast0BusUS5ORO1QH9xzT7pwrJASnDCuZ+zsEDqi8ooc7ytQATOQbq3eKpAyh0Of7yQp0BDZcPQbvqkQMalwiHXrKJAbWDO6PmfoEDKYzvsd5mdQEQ3EaSTWZpAlEHenwN1l0C0RbgSweGUQIaVefvelpJAC1zlNGuMkEA6D47WpXaNQD0+MDCUOopAYyllXWtZh0B909NcMMmEQC0NZ60AgYJAsp3WgvN4gECOY1m3/FN9QFNNhjO5G3pAtnVFkfM9d0BF7O6MvLB0QKHHIxk8a3JAkFyRt5JlcEA4KW1efDFtQKuBLYMC/WlA9ehOFZwiZ0APmwqBZZhkQOlDbCCRVWJA1aYkuEhSYEAI2dGbJA9dQHBvcvRv3llAHzJ+w2QHV0Dn6E8XK4BUQDqbIKX/P1JAOTy/aRU/UEA+Wcg/9exMQF3m01wBwElAJrj8dU3sRkABrg8uDWhEQPNWRImHKkJAoGivsfgrQEBdu8ka7so8QNm2ApK2oTlAOWUgB1bRNkCxYsKjC1A0QAxH/q4oFTJAI99idfIYMEAD+ob9DqksQOt24WmPgylAWnJrUX62JkD98AdXJjgkQINYmPji/yFA9JRmmgIGIEASt+i4V4ccQOBHhLqLZRlAZDOML8abFkAFhqcmXSAUQBdsf0i26hFAhTnNDFLmD0A++g4eyGUMQOubMFqrRwlABONcfC2BBkAXZI/xrwgEQBwtQ4Gi1QFA7ANcPsvA/z8b8FD+X0T8PxT8XB/uKfk/F2/jErRm9j9mtNSWHvHzP5LolYWnwPE/5EhNlXCb7z8=",
          "dtype": "f8"
         },
         "y": {
          "bdata": "AAAAAAAAAAAAAAAAAAAAAAAAAAAAAAAAAAAAAAAAAAAAAAAAAAAAAAAAAAAAAAAAAAAAAAAAAAAAAAAAAAAAAAAAAAAAAAAAAAAAAAAAAAAAAAAAAAAAAAAAAAAAAAAAAAAAAAAAAAAAAAAAAAAAAAAAAAAAAAAAAAAAAAAAAAAAAAAAAAAAAAAAAAAAAAAAAAAAAAAAAAAAAAAAAAAAAAAAAAAAAAAAAAAAAAAAAIAAAAAAAAAAgAAAAAAAAACAAAAAAAAAAIAAAAAAAAAAgAAAAAAAAACAAAAAAAAAAIAAAAAAAAAAgAAAAAAAAACAAAAAAAAAAIAAAAAAAAAAgAAAAAAAAACAAAAAAAAAAIAAAAAAAAAAgAAAAAAAAACAAAAAAAAAAIAAAAAAAAAAgAAAAAAAAACAAAAAAAAAAIAAAAAAAAAAgAAAAAAAAACAAAAAAAAAAIAAAAAAAAAAgAAAAAAAAACAAAAAAAAAAIAAAAAAAAAAgAAAAAAAAACAAAAAAAAAAIAAAAAAAAAAgAAAAAAAAACAAAAAAAAAAIAAAAAAAAAAgAAAAAAAAACAAAAAAAAAAIAAAAAAAAAAgAAAAAAAAACAAAAAAAAAAIAAAAAAAAAAAAAAAAAAAAAAAAAAAAAAAAAAAAAAAAAAAAAAAAAAAAAAAAAAAAAAAAAAAAAAAAAAAAAAAAAAAAAAAAAAAAAAAAAAAAAAAAAAAAAAAAAAAAAAAAAAAAAAAAAAAAAAAAAAAAAAAAAAAAAAAAAAAAAAAAAAAAAAAAAAAAAAAAAAAAAAAAAAAAAAAAAAAAAAAAAAAAAAAAAAAAAAAAAAAAAAAAAAAAAAAAAAAAAAAAAAAAAAAAAAAAAAAAAAAAAAAAAAAAAAAAAAAAAAAAAAAAAAAAAAAAAAAAAAAAAAAAAAAAAAAAAAAAAAAAAAAAAAAAAAAAAAAAAAAAAAAAAAAAAAAAAAAAAAAAAAAAAAAAAAAAAAAAAAAAAAAACCG5pLlaEwQO5UNN5Wx09ARwmxqpGBWkAyHED5WgZiQHhsGiQLfmZAhtH7aCR4akA=",
          "dtype": "f8"
         }
        },
        {
         "mode": "lines",
         "name": "stops_two_or_more",
         "type": "scatter",
         "x": {
          "bdata": "rIboVEcd+ECVt6y3i3f1QIzkXL43HPNAUGE4RCAD8UBZyuhv/0nuQOeQB8+59upAVPxzIOkA6ECm9QnLSl7lQHyzBpK8BeNAu4Kr7Bzv4EB3bTqvXSbeQOV/pHwB19pAoWE1S6zk10ASu7KTJ0XVQBCxCdhb79JA7pkvIDHb0EBMVlHZ5QLOQMYP83put8pAOonqrZDIx0D2NbTuISzFQDdFSXEV2cJAYHMSw1zHwEDy6N28l9+9QIuGDZ4AmLpAlHR/IZast0BusUS5ORO1QH9xzT7pwrJASnDCuZ+zsEDqi8ooc7ytQATOQbq3eKpAyh0Of7yQp0BDZcPQbvqkQMalwiHXrKJAbWDO6PmfoEDKYzvsd5mdQEQ3EaSTWZpAlEHenwN1l0C0RbgSweGUQIaVefvelpJAC1zlNGuMkEA6D47WpXaNQD0+MDCUOopAYyllXWtZh0B909NcMMmEQC0NZ60AgYJAsp3WgvN4gECOY1m3/FN9QFNNhjO5G3pAtnVFkfM9d0BF7O6MvLB0QKHHIxk8a3JAkFyRt5JlcEA4KW1efDFtQKuBLYMC/WlA9ehOFZwiZ0APmwqBZZhkQOlDbCCRVWJA1aYkuEhSYEAI2dGbJA9dQHBvcvRv3llAHzJ+w2QHV0Dn6E8XK4BUQDqbIKX/P1JAOTy/aRU/UEA+Wcg/9exMQF3m01wBwElAJrj8dU3sRkABrg8uDWhEQPNWRImHKkJAoGivsfgrQEBdu8ka7so8QNm2ApK2oTlAOWUgB1bRNkCxYsKjC1A0QAxH/q4oFTJAI99idfIYMEAD+ob9DqksQOt24WmPgylAWnJrUX62JkD98AdXJjgkQINYmPji/yFA9JRmmgIGIEASt+i4V4ccQOBHhLqLZRlAZDOML8abFkAFhqcmXSAUQBdsf0i26hFAhTnNDFLmD0A++g4eyGUMQOubMFqrRwlABONcfC2BBkAXZI/xrwgEQBwtQ4Gi1QFA7ANcPsvA/z8b8FD+X0T8PxT8XB/uKfk/F2/jErRm9j9mtNSWHvHzP5LolYWnwPE/5EhNlXCb7z8=",
          "dtype": "f8"
         },
         "y": {
          "bdata": "AAAAAAAAAAAAAAAAAAAAAAAAAAAAAAAAAAAAAAAAAAAAAAAAAAAAAAAAAAAAAAAAAAAAAAAAAAAAAAAAAAAAAAAAAAAAAAAAAAAAAAAAAAAAAAAAAAAAAAAAAAAAAAAAAAAAAAAAAAAAAAAAAAAAAAAAAAAAAAAAAAAAAAAAAAAAAAAAAAAAAAAAAAAAAAAAAAAAAAAAAAAAAAAAAAAAAAAAAAAAAAAAAAAAAAAAAAAAAAAAAAAAAAAAAAAAAAAAAAAAAAAAAAAAAAAAAAAAAAAAAAAAAAAAAAAAAAAAAAAAAAAAAAAAAAAAAAAAAAAAAAAAAAAAAAAAAAAAAAAAAAAAAAAAAAAAAAAAAAAAAAAAAAAAAAAAAAAAAAAAAAAAAAAAAAAAAAAAAAAAAAAAAAAAAAAAAAAAAAAAAAAAAAAAAAAAAAAAAAAAAAAAAAAAAAAAAAAAAAAAAAAAAAAAAAAAAAAAAAAAAAAAAAAAAAAAAAAAAAAAAAAAAAAAAAAAAAAAAAAAAAAAAAAAAAAAAAAAAAAAAAAAAAAAAAAAAAAAAAAAAAAAAAAAAAAAAAAAthG/RGsIEkBibJK840BBQPeLGVnn2kxA1pFzp961U0CQO6bqeKRYQNypmaW3j1xAtPZaJI7FX0CjNY0llVthQMWbUm9GymJAZE7hQDTyY0A0QkVV715kQJKi3vuFUmRAe62dKp3dY0A7uCX67IljQHorKZvjZmNAZ5UfIyKdZEAOvIPFc01mQD40Z9Uu42dAtUM0cD5MaUA+28lzx4lqQLS4bCrtGWxAXd7JTN3kbUAhA1ggATRvQGSuAicUGHBA8NoLve2WcEBRguzfPpdxQHtNfSG4fHJAEGTIj99Ic0Bztbnyj/5zQI7blIRIoHRAHB9V0IEpdUAKmwFbsFN1QK36Z47dTnVANcr1JqQ3dkCynoxQQBB3QNp9O5b0zXdAEgrtw4SzeEAS0lPUEBh6QGQ1jcbgVXtA2vnrSttwfEBOV0hDXWx9QL2tENqN4n5AuykM36hEgECoxsSizwWBQGvH4b3zboFAaCcJN4fMgUA=",
          "dtype": "f8"
         }
        },
        {
         "mode": "lines",
         "name": "stops_zero",
         "type": "scatter",
         "x": {
          "bdata": "rIboVEcd+ECVt6y3i3f1QIzkXL43HPNAUGE4RCAD8UBZyuhv/0nuQOeQB8+59upAVPxzIOkA6ECm9QnLSl7lQHyzBpK8BeNAu4Kr7Bzv4EB3bTqvXSbeQOV/pHwB19pAoWE1S6zk10ASu7KTJ0XVQBCxCdhb79JA7pkvIDHb0EBMVlHZ5QLOQMYP83put8pAOonqrZDIx0D2NbTuISzFQDdFSXEV2cJAYHMSw1zHwEDy6N28l9+9QIuGDZ4AmLpAlHR/IZast0BusUS5ORO1QH9xzT7pwrJASnDCuZ+zsEDqi8ooc7ytQATOQbq3eKpAyh0Of7yQp0BDZcPQbvqkQMalwiHXrKJAbWDO6PmfoEDKYzvsd5mdQEQ3EaSTWZpAlEHenwN1l0C0RbgSweGUQIaVefvelpJAC1zlNGuMkEA6D47WpXaNQD0+MDCUOopAYyllXWtZh0B909NcMMmEQC0NZ60AgYJAsp3WgvN4gECOY1m3/FN9QFNNhjO5G3pAtnVFkfM9d0BF7O6MvLB0QKHHIxk8a3JAkFyRt5JlcEA4KW1efDFtQKuBLYMC/WlA9ehOFZwiZ0APmwqBZZhkQOlDbCCRVWJA1aYkuEhSYEAI2dGbJA9dQHBvcvRv3llAHzJ+w2QHV0Dn6E8XK4BUQDqbIKX/P1JAOTy/aRU/UEA+Wcg/9exMQF3m01wBwElAJrj8dU3sRkABrg8uDWhEQPNWRImHKkJAoGivsfgrQEBdu8ka7so8QNm2ApK2oTlAOWUgB1bRNkCxYsKjC1A0QAxH/q4oFTJAI99idfIYMEAD+ob9DqksQOt24WmPgylAWnJrUX62JkD98AdXJjgkQINYmPji/yFA9JRmmgIGIEASt+i4V4ccQOBHhLqLZRlAZDOML8abFkAFhqcmXSAUQBdsf0i26hFAhTnNDFLmD0A++g4eyGUMQOubMFqrRwlABONcfC2BBkAXZI/xrwgEQBwtQ4Gi1QFA7ANcPsvA/z8b8FD+X0T8PxT8XB/uKfk/F2/jErRm9j9mtNSWHvHzP5LolYWnwPE/5EhNlXCb7z8=",
          "dtype": "f8"
         },
         "y": {
          "bdata": "AAAAAAAAAAAAAAAAAAAAAAAAAAAAAAAAAAAAAAAAAAAAAAAAAAAAAAAAAAAAAAAAAAAAAAAAAAAAAAAAAAAAAAAAAAAAAAAAAAAAAAAAAAAAAAAAAAAAAAAAAAAAAAAAAAAAAAAAAAAAAAAAAAAAAAAAAAAAAAAAAAAAAAAAAAAAAAAAAAAAAAAAAAAAAAAAAAAAAAAAAAAAAAAAAAAAAAAAAAAAAAAAAAAAAAAAAAAAAAAAAAAAAAAAAAAAAAAAAAAAAAAAAAAAAAAAAAAAAAAAAAAAAAAAAAAAAAAAAAAAAAAAAAAAAAAAAAAAAAAAAAAAAAAAAAAAAAAAAAAAAAAAAAAAAAAAAAAAAAAAAAAAAAAAAAAAAAAAAAAAAAAAAAAAAAAAAAAAAAAAAAAAAAAAAAAAAAAAAAAAAAAAAAAAAAAAAAAAAAAAAAAAAAAAAAAAAAAAAIAAAAAAAAAAgAAAAAAAAACAAAAAAAAAAIAAAAAAAAAAgAAAAAAAAACAAAAAAAAAAIAAAAAAAAAAgAAAAAAAAACAAAAAAAAAAIAAAAAAAAAAgAAAAAAAAACAAAAAAAAAAIAAAAAAAAAAgAAAAAAAAACAAAAAAAAAAIAAAAAAAAAAgAAAAAAAAACAAAAAAAAAAIAAAAAAAAAAgAAAAAAAAACAAAAAAAAAAIAAAAAAAAAAgAs2TvVKzzDAufHr5FcKSMC/0bCS8xFTwCdqrayPk1nAzSzlka7MW8Ab+kkDpnhbwIs0IGUb5VrAJ9b61C9iWsBsc9NfiBRawEnAQGznXFnAkNZ95olxWcDNxlqNOvVYwAk9CJNQfVfAl6lHszzjVcCl44919HpSwOA8lTi76E7AeFs6GQyBScDlEvAnZK9EwPyEQrBmZEDAruzrh45QNMAAAAAAAAAAgAAAAAAAAACAAAAAAAAAAIAAAAAAAAAAAAAAAAAAAAAAjG1GtHqtKUCv8MIZDWdLQAgI4aZUEFdAP22iWIpnX0BOFQWciWVjQC3CevYJ52dAUaAyEx2lbEBK46gbbmtwQKFICgEkwHFAcLHuwlnvckA=",
          "dtype": "f8"
         }
        },
        {
         "mode": "lines",
         "name": "arrival_time_Early_Morning",
         "type": "scatter",
         "x": {
          "bdata": "rIboVEcd+ECVt6y3i3f1QIzkXL43HPNAUGE4RCAD8UBZyuhv/0nuQOeQB8+59upAVPxzIOkA6ECm9QnLSl7lQHyzBpK8BeNAu4Kr7Bzv4EB3bTqvXSbeQOV/pHwB19pAoWE1S6zk10ASu7KTJ0XVQBCxCdhb79JA7pkvIDHb0EBMVlHZ5QLOQMYP83put8pAOonqrZDIx0D2NbTuISzFQDdFSXEV2cJAYHMSw1zHwEDy6N28l9+9QIuGDZ4AmLpAlHR/IZast0BusUS5ORO1QH9xzT7pwrJASnDCuZ+zsEDqi8ooc7ytQATOQbq3eKpAyh0Of7yQp0BDZcPQbvqkQMalwiHXrKJAbWDO6PmfoEDKYzvsd5mdQEQ3EaSTWZpAlEHenwN1l0C0RbgSweGUQIaVefvelpJAC1zlNGuMkEA6D47WpXaNQD0+MDCUOopAYyllXWtZh0B909NcMMmEQC0NZ60AgYJAsp3WgvN4gECOY1m3/FN9QFNNhjO5G3pAtnVFkfM9d0BF7O6MvLB0QKHHIxk8a3JAkFyRt5JlcEA4KW1efDFtQKuBLYMC/WlA9ehOFZwiZ0APmwqBZZhkQOlDbCCRVWJA1aYkuEhSYEAI2dGbJA9dQHBvcvRv3llAHzJ+w2QHV0Dn6E8XK4BUQDqbIKX/P1JAOTy/aRU/UEA+Wcg/9exMQF3m01wBwElAJrj8dU3sRkABrg8uDWhEQPNWRImHKkJAoGivsfgrQEBdu8ka7so8QNm2ApK2oTlAOWUgB1bRNkCxYsKjC1A0QAxH/q4oFTJAI99idfIYMEAD+ob9DqksQOt24WmPgylAWnJrUX62JkD98AdXJjgkQINYmPji/yFA9JRmmgIGIEASt+i4V4ccQOBHhLqLZRlAZDOML8abFkAFhqcmXSAUQBdsf0i26hFAhTnNDFLmD0A++g4eyGUMQOubMFqrRwlABONcfC2BBkAXZI/xrwgEQBwtQ4Gi1QFA7ANcPsvA/z8b8FD+X0T8PxT8XB/uKfk/F2/jErRm9j9mtNSWHvHzP5LolYWnwPE/5EhNlXCb7z8=",
          "dtype": "f8"
         },
         "y": {
          "bdata": "AAAAAAAAAAAAAAAAAAAAAAAAAAAAAAAAAAAAAAAAAAAAAAAAAAAAAAAAAAAAAAAAAAAAAAAAAAAAAAAAAAAAAAAAAAAAAAAAAAAAAAAAAAAAAAAAAAAAAAAAAAAAAAAAAAAAAAAAAAAAAAAAAAAAAAAAAAAAAAAAAAAAAAAAAAAAAAAAAAAAAAAAAAAAAAAAAAAAAAAAAAAAAAAAAAAAAAAAAAAAAAAAAAAAAAAAAAAAAAAAAAAAAAAAAAAAAAAAAAAAAAAAAAAAAAAAAAAAAAAAAAAAAAAAAAAAAAAAAAAAAAAAAAAAAAAAAAAAAAAAAAAAAAAAAAAAAAAAAAAAAAAAAAAAAAAAAAAAAAAAAAAAAAAAAAAAAAAAAAAAAAAAAAAAAAAAAAAAAAAAAAAAAAAAAAAAAAAAAAAAAAAAAAAAAAAAAAAAAAAAAAAAAAAAAAAAAAAAAAAAAAAAAAAAAAAAAAAAAAAAAAAAAAAAAAAAAAAAAAAAAAAAAAAAAAAAAAAAAAAAAAAAAAAAAAAAAAAAAAAAAAAAAAAAAAAAAAAAAAAAAAAAAAAAAAAAAAAAAAAAAAAAAAAAAAAAAAAAAAAAAAAAAAAAAAAAAAAAAAAAAAAAAAAAAH8F8/q7YWdAZJdR4Db1e0D8okj3OieFQGhk5Zw/WItAdVLyathqkEAXqH5rTfSSQF/svOPQOZVATnkKOLgrl0D3NAgwUdmYQJ9Mzc3bVZpAePPayUrOm0BroyTikSqdQPJ+yUDLb55AH1HuTVWRn0DLfPTys0mgQLqDm5AhqaZAmc87xujcrkAlw5OF/hOzQH/6/depQ7ZA4abHUjgguUDYyHBPXba7QNGfo2dECL5AHF5lmqEMwEDSRpu9JvjAQEyKw+3WycFArmPds92EwkBPEeLcCSzDQEi5HBIdv8NAPlo4wxJDxEB3wtz6kLjEQNgF8qYnIcVAbLGMGIp/xUDQwhiMh9bFQMSo+EMEJMZAe8jrxjJpxkCdaPVZLanGQE9JOf9L4sZAAb5p7UkVx0BcsQIDrULHQE/AfezuasdAm9kDysSOx0A=",
          "dtype": "f8"
         }
        },
        {
         "mode": "lines",
         "name": "arrival_time_Evening",
         "type": "scatter",
         "x": {
          "bdata": "rIboVEcd+ECVt6y3i3f1QIzkXL43HPNAUGE4RCAD8UBZyuhv/0nuQOeQB8+59upAVPxzIOkA6ECm9QnLSl7lQHyzBpK8BeNAu4Kr7Bzv4EB3bTqvXSbeQOV/pHwB19pAoWE1S6zk10ASu7KTJ0XVQBCxCdhb79JA7pkvIDHb0EBMVlHZ5QLOQMYP83put8pAOonqrZDIx0D2NbTuISzFQDdFSXEV2cJAYHMSw1zHwEDy6N28l9+9QIuGDZ4AmLpAlHR/IZast0BusUS5ORO1QH9xzT7pwrJASnDCuZ+zsEDqi8ooc7ytQATOQbq3eKpAyh0Of7yQp0BDZcPQbvqkQMalwiHXrKJAbWDO6PmfoEDKYzvsd5mdQEQ3EaSTWZpAlEHenwN1l0C0RbgSweGUQIaVefvelpJAC1zlNGuMkEA6D47WpXaNQD0+MDCUOopAYyllXWtZh0B909NcMMmEQC0NZ60AgYJAsp3WgvN4gECOY1m3/FN9QFNNhjO5G3pAtnVFkfM9d0BF7O6MvLB0QKHHIxk8a3JAkFyRt5JlcEA4KW1efDFtQKuBLYMC/WlA9ehOFZwiZ0APmwqBZZhkQOlDbCCRVWJA1aYkuEhSYEAI2dGbJA9dQHBvcvRv3llAHzJ+w2QHV0Dn6E8XK4BUQDqbIKX/P1JAOTy/aRU/UEA+Wcg/9exMQF3m01wBwElAJrj8dU3sRkABrg8uDWhEQPNWRImHKkJAoGivsfgrQEBdu8ka7so8QNm2ApK2oTlAOWUgB1bRNkCxYsKjC1A0QAxH/q4oFTJAI99idfIYMEAD+ob9DqksQOt24WmPgylAWnJrUX62JkD98AdXJjgkQINYmPji/yFA9JRmmgIGIEASt+i4V4ccQOBHhLqLZRlAZDOML8abFkAFhqcmXSAUQBdsf0i26hFAhTnNDFLmD0A++g4eyGUMQOubMFqrRwlABONcfC2BBkAXZI/xrwgEQBwtQ4Gi1QFA7ANcPsvA/z8b8FD+X0T8PxT8XB/uKfk/F2/jErRm9j9mtNSWHvHzP5LolYWnwPE/5EhNlXCb7z8=",
          "dtype": "f8"
         },
         "y": {
          "bdata": "AAAAAAAAAAAAAAAAAAAAAAAAAAAAAAAAAAAAAAAAAAAAAAAAAAAAAAAAAAAAAAAAAAAAAAAAAAAAAAAAAAAAAAAAAAAAAAAAAAAAAAAAAAAAAAAAAAAAAAAAAAAAAAAAAAAAAAAAAAAAAAAAAAAAAAAAAAAAAAAAAAAAAAAAAAAAAAAAAAAAAAAAAAAAAAAAAAAAAAAAAAAAAAAAAAAAgAAAAAAAAACAAAAAAAAAAIAAAAAAAAAAgAAAAAAAAACAAAAAAAAAAIAAAAAAAAAAgAAAAAAAAACAAAAAAAAAAIAAAAAAAAAAgAAAAAAAAACAAAAAAAAAAIAAAAAAAAAAgAAAAAAAAACAAAAAAAAAAIAAAAAAAAAAgAAAAAAAAACAAAAAAAAAAIAAAAAAAAAAgAAAAAAAAACAAAAAAAAAAIAAAAAAAAAAgAAAAAAAAACAAAAAAAAAAIAAAAAAAAAAgAAAAAAAAACAAAAAAAAAAIAAAAAAAAAAgAAAAAAAAACAAAAAAAAAAIAhKBAW5BpIwLt4nUNdOojAAUcA/MgekMCAqt5dZBWUwJHv3hGoa5fABYQMHfXNmcB/nmksMRmcwNYsJXqYuZ7AJpnYjSidoMC+kUp/uMyhwNTYJGQ68qLAKpGG5Mz3o8BLGNkPDNGkwKxEfbPQZ6XAxJDXFmnjpcAMtxBZLkSmwMa6kGp+fabAeILjaZx8psCYY9v3YXGmwEc12JtAYqbAV+OQHM9mpsBiwAx5koOmwBpNVOgKs6bAFbFkjk3dpsCJkxhVnAKnwNiAnx57IKfAFW9vQWRTp8BnFlWrylanwBjDUQrmdqrAQbAbAuh+rsBUsaUajz2xwOGTaAuxHrPAlo2PxJnRtMBI9RUPeFe2wK1UnTels7fAT9+vXaLruMDabd58NQm6wFM2u0aWCLvAceAy9sHpu8BYo9Vh0LC8wFOIzC/IXb3Aur6OX4T3vcBL47mZsI2+wI5FgRUfFb/Ae3ijlkiOv8CJu0THOvi/wFsxO1TRLsDAu6UGKXZewMB2kNTwoY3AwKdw0HBbtcDAJbXw66rYwMA=",
          "dtype": "f8"
         }
        },
        {
         "mode": "lines",
         "name": "arrival_time_Late_Night",
         "type": "scatter",
         "x": {
          "bdata": "rIboVEcd+ECVt6y3i3f1QIzkXL43HPNAUGE4RCAD8UBZyuhv/0nuQOeQB8+59upAVPxzIOkA6ECm9QnLSl7lQHyzBpK8BeNAu4Kr7Bzv4EB3bTqvXSbeQOV/pHwB19pAoWE1S6zk10ASu7KTJ0XVQBCxCdhb79JA7pkvIDHb0EBMVlHZ5QLOQMYP83put8pAOonqrZDIx0D2NbTuISzFQDdFSXEV2cJAYHMSw1zHwEDy6N28l9+9QIuGDZ4AmLpAlHR/IZast0BusUS5ORO1QH9xzT7pwrJASnDCuZ+zsEDqi8ooc7ytQATOQbq3eKpAyh0Of7yQp0BDZcPQbvqkQMalwiHXrKJAbWDO6PmfoEDKYzvsd5mdQEQ3EaSTWZpAlEHenwN1l0C0RbgSweGUQIaVefvelpJAC1zlNGuMkEA6D47WpXaNQD0+MDCUOopAYyllXWtZh0B909NcMMmEQC0NZ60AgYJAsp3WgvN4gECOY1m3/FN9QFNNhjO5G3pAtnVFkfM9d0BF7O6MvLB0QKHHIxk8a3JAkFyRt5JlcEA4KW1efDFtQKuBLYMC/WlA9ehOFZwiZ0APmwqBZZhkQOlDbCCRVWJA1aYkuEhSYEAI2dGbJA9dQHBvcvRv3llAHzJ+w2QHV0Dn6E8XK4BUQDqbIKX/P1JAOTy/aRU/UEA+Wcg/9exMQF3m01wBwElAJrj8dU3sRkABrg8uDWhEQPNWRImHKkJAoGivsfgrQEBdu8ka7so8QNm2ApK2oTlAOWUgB1bRNkCxYsKjC1A0QAxH/q4oFTJAI99idfIYMEAD+ob9DqksQOt24WmPgylAWnJrUX62JkD98AdXJjgkQINYmPji/yFA9JRmmgIGIEASt+i4V4ccQOBHhLqLZRlAZDOML8abFkAFhqcmXSAUQBdsf0i26hFAhTnNDFLmD0A++g4eyGUMQOubMFqrRwlABONcfC2BBkAXZI/xrwgEQBwtQ4Gi1QFA7ANcPsvA/z8b8FD+X0T8PxT8XB/uKfk/F2/jErRm9j9mtNSWHvHzP5LolYWnwPE/5EhNlXCb7z8=",
          "dtype": "f8"
         },
         "y": {
          "bdata": "AAAAAAAAAAAAAAAAAAAAAAAAAAAAAAAAAAAAAAAAAAAAAAAAAAAAAAAAAAAAAAAAAAAAAAAAAAAAAAAAAAAAAAAAAAAAAAAAAAAAAAAAAAAAAAAAAAAAAAAAAAAAAAAAAAAAAAAAAAAAAAAAAAAAAAAAAAAAAAAAAAAAAAAAAAAAAAAAAAAAAAAAAAAAAAAAAAAAAAAAAAAAAAAAAAAAAAAAAAAAAAAAAAAAAAAAAAAAAAAAAAAAAAAAAAAAAAAAAAAAAAAAAAAAAAAAAAAAAAAAAAAAAAAAAAAAAAAAAAAAAAAAAAAAAAAAAAAAAAAAAAAAAAAAAIAAAAAAAAAAgAAAAAAAAACAAAAAAAAAAIAAAAAAAAAAgAAAAAAAAACAAAAAAAAAAIAAAAAAAAAAgAAAAAAAAACAAAAAAAAAAIAAAAAAAAAAgAAAAAAAAACAAAAAAAAAAIAAAAAAAAAAgAAAAAAAAACAAAAAAAAAAIAAAAAAAAAAgAAAAAAAAACAAAAAAAAAAIAAAAAAAAAAgAAAAAAAAACAAAAAAAAAAIAAAAAAAAAAgAAAAAAAAACAAAAAAAAAAIAAAAAAAAAAgAAAAAAAAACAAAAAAAAAAIAAAAAAAAAAgAAAAAAAAACAAAAAAAAAAIAAAAAAAAAAgAAAAAAAAACAq6r/gwzaUsCjDn5CQ7hpwPphh8yA5nPAw7/1I1i4ecB9unalW9t+wDmc8DEH0IHAslm+B5v1g8BW/SBN5bmFwIIOUQgcLYfAGtDgZZJ3iMCfOh6GkZqJwNfGftm4qorAb3o0zrzZkcCHHlYAl2mWwAwElMHyfprAtFzD9lP+ncCD5VVEcXugwEK2QX0wzKHAjVCcpIz3osDI8nyY3wGkwLPdvZnj7qTATKCZAJu/pcD/NO9MZVmmwNAI1oXFvKbA2AK2H78Vp8Dh/F1dJ2WnwOZj4K/uuqfA9Fmm238XqMAqXY1hWWaowBTE1XtwrKjA2UoVC9TqqMDOjFk/FCOpwA5RyYUUVanAOkAshB6BqcB0ioaMTYepwNy4YOvyjanAMEpsz+OTqcA=",
          "dtype": "f8"
         }
        },
        {
         "mode": "lines",
         "name": "arrival_time_Morning",
         "type": "scatter",
         "x": {
          "bdata": "rIboVEcd+ECVt6y3i3f1QIzkXL43HPNAUGE4RCAD8UBZyuhv/0nuQOeQB8+59upAVPxzIOkA6ECm9QnLSl7lQHyzBpK8BeNAu4Kr7Bzv4EB3bTqvXSbeQOV/pHwB19pAoWE1S6zk10ASu7KTJ0XVQBCxCdhb79JA7pkvIDHb0EBMVlHZ5QLOQMYP83put8pAOonqrZDIx0D2NbTuISzFQDdFSXEV2cJAYHMSw1zHwEDy6N28l9+9QIuGDZ4AmLpAlHR/IZast0BusUS5ORO1QH9xzT7pwrJASnDCuZ+zsEDqi8ooc7ytQATOQbq3eKpAyh0Of7yQp0BDZcPQbvqkQMalwiHXrKJAbWDO6PmfoEDKYzvsd5mdQEQ3EaSTWZpAlEHenwN1l0C0RbgSweGUQIaVefvelpJAC1zlNGuMkEA6D47WpXaNQD0+MDCUOopAYyllXWtZh0B909NcMMmEQC0NZ60AgYJAsp3WgvN4gECOY1m3/FN9QFNNhjO5G3pAtnVFkfM9d0BF7O6MvLB0QKHHIxk8a3JAkFyRt5JlcEA4KW1efDFtQKuBLYMC/WlA9ehOFZwiZ0APmwqBZZhkQOlDbCCRVWJA1aYkuEhSYEAI2dGbJA9dQHBvcvRv3llAHzJ+w2QHV0Dn6E8XK4BUQDqbIKX/P1JAOTy/aRU/UEA+Wcg/9exMQF3m01wBwElAJrj8dU3sRkABrg8uDWhEQPNWRImHKkJAoGivsfgrQEBdu8ka7so8QNm2ApK2oTlAOWUgB1bRNkCxYsKjC1A0QAxH/q4oFTJAI99idfIYMEAD+ob9DqksQOt24WmPgylAWnJrUX62JkD98AdXJjgkQINYmPji/yFA9JRmmgIGIEASt+i4V4ccQOBHhLqLZRlAZDOML8abFkAFhqcmXSAUQBdsf0i26hFAhTnNDFLmD0A++g4eyGUMQOubMFqrRwlABONcfC2BBkAXZI/xrwgEQBwtQ4Gi1QFA7ANcPsvA/z8b8FD+X0T8PxT8XB/uKfk/F2/jErRm9j9mtNSWHvHzP5LolYWnwPE/5EhNlXCb7z8=",
          "dtype": "f8"
         },
         "y": {
          "bdata": "AAAAAAAAAAAAAAAAAAAAAAAAAAAAAAAAAAAAAAAAAAAAAAAAAAAAAAAAAAAAAAAAAAAAAAAAAAAAAAAAAAAAAAAAAAAAAAAAAAAAAAAAAAAAAAAAAAAAAAAAAAAAAAAAAAAAAAAAAAAAAAAAAAAAAAAAAAAAAAAAAAAAAAAAAAAAAAAAAAAAAAAAAAAAAAAAAAAAAAAAAAAAAAAAAAAAAAAAAAAAAAAAAAAAAAAAAAAAAAAAAAAAAAAAAAAAAAAAAAAAAAAAAAAAAAAAAAAAAAAAAAAAAAAAAAAAAAAAAAAAAAAAAAAAAAAAAAAAAAAAAAAAAAAAAAAAAAAAAAAAAAAAAAAAAAAAAAAAAAAAAAAAAAAAAAAAAAAAAAAAAAAAAAAAAAAAAAAAAAAAAAAAAAAAAAAAAAAAAAAAAAAAAAAAAAAAAAAAAAAAAAAAAAAAAAAAAAAAAAAAAAAAAAAAAAAAAAAAAAAAAAAAAAAAAAAAAAAAAAAAAAAAAAAAAAAAAAAAAAAAAAAAAAAAAAAAAAAAAAAAAAAAAAAAAAAAAAAAAAAAAAAAALdfWSiHPDlAQQBy0n7HYUCcEUPcSzxuQKomfiodgnRAPnDvuIpQeUA9w78P6ZN9QDd3Z+AamoBAKWqfqvsugkBBdVvkypCDQOPkMU/nuYRAFKI1HkN/hUDxGTBPrPCFQEK0WSiBTIZAJ0WnAJ6lhkBYeEiNQPSHQC4PJsop7YtARXemEuZkj0Cs9jb4kFyRQDrnWAoly5JAUwXNhDMRlEAaXOFyhTOVQGsVC9ciH5ZAGG7qrBuIlkBidH4DZpmWQNS4FA99XZZAc0D+iiIjlkB5PI7LXAeWQFHdGPmi6pVAQteZDi3QlUAkg6BcQbiVQL2Dw6DPopVAMB0kH1yVlUB4K7fJ0c6VQIWHRx6+SZZAfhaRg7u0lkClt2mE2hOXQETTyYgUS5dAOytY1vtdl0D+4KgjMniXQOj1V5VLj5dA3Y7dwKyjl0BdzZ/wsrSXQETYSz0UwZdA5Y7E76DKl0C0F09tNhOYQNRBzK9yVJhAg5St6X+OmEA=",
          "dtype": "f8"
         }
        },
        {
         "mode": "lines",
         "name": "arrival_time_Night",
         "type": "scatter",
         "x": {
          "bdata": "rIboVEcd+ECVt6y3i3f1QIzkXL43HPNAUGE4RCAD8UBZyuhv/0nuQOeQB8+59upAVPxzIOkA6ECm9QnLSl7lQHyzBpK8BeNAu4Kr7Bzv4EB3bTqvXSbeQOV/pHwB19pAoWE1S6zk10ASu7KTJ0XVQBCxCdhb79JA7pkvIDHb0EBMVlHZ5QLOQMYP83put8pAOonqrZDIx0D2NbTuISzFQDdFSXEV2cJAYHMSw1zHwEDy6N28l9+9QIuGDZ4AmLpAlHR/IZast0BusUS5ORO1QH9xzT7pwrJASnDCuZ+zsEDqi8ooc7ytQATOQbq3eKpAyh0Of7yQp0BDZcPQbvqkQMalwiHXrKJAbWDO6PmfoEDKYzvsd5mdQEQ3EaSTWZpAlEHenwN1l0C0RbgSweGUQIaVefvelpJAC1zlNGuMkEA6D47WpXaNQD0+MDCUOopAYyllXWtZh0B909NcMMmEQC0NZ60AgYJAsp3WgvN4gECOY1m3/FN9QFNNhjO5G3pAtnVFkfM9d0BF7O6MvLB0QKHHIxk8a3JAkFyRt5JlcEA4KW1efDFtQKuBLYMC/WlA9ehOFZwiZ0APmwqBZZhkQOlDbCCRVWJA1aYkuEhSYEAI2dGbJA9dQHBvcvRv3llAHzJ+w2QHV0Dn6E8XK4BUQDqbIKX/P1JAOTy/aRU/UEA+Wcg/9exMQF3m01wBwElAJrj8dU3sRkABrg8uDWhEQPNWRImHKkJAoGivsfgrQEBdu8ka7so8QNm2ApK2oTlAOWUgB1bRNkCxYsKjC1A0QAxH/q4oFTJAI99idfIYMEAD+ob9DqksQOt24WmPgylAWnJrUX62JkD98AdXJjgkQINYmPji/yFA9JRmmgIGIEASt+i4V4ccQOBHhLqLZRlAZDOML8abFkAFhqcmXSAUQBdsf0i26hFAhTnNDFLmD0A++g4eyGUMQOubMFqrRwlABONcfC2BBkAXZI/xrwgEQBwtQ4Gi1QFA7ANcPsvA/z8b8FD+X0T8PxT8XB/uKfk/F2/jErRm9j9mtNSWHvHzP5LolYWnwPE/5EhNlXCb7z8=",
          "dtype": "f8"
         },
         "y": {
          "bdata": "AAAAAAAAAAAAAAAAAAAAAAAAAAAAAAAAAAAAAAAAAAAAAAAAAAAAAAAAAAAAAAAAAAAAAAAAAAAAAAAAAAAAAAAAAAAAAAAAAAAAAAAAAAAAAAAAAAAAAAAAAAAAAAAAAAAAAAAAAAAAAAAAAAAAAAAAAAAAAAAAAAAAAAAAAAAAAAAAAAAAAAAAAAAAAAAAAAAAAAAAAAAAAAAAAAAAAAAAAAAAAAAAAAAAAAAAAAAAAAAAAAAAAAAAAAAAAAAAAAAAAAAAAIAAAAAAAAAAgAAAAAAAAACAAAAAAAAAAIAAAAAAAAAAgAAAAAAAAACAAAAAAAAAAIAAAAAAAAAAgAAAAAAAAACAAAAAAAAAAIAAAAAAAAAAgAAAAAAAAACAAAAAAAAAAIAAAAAAAAAAgAAAAAAAAACAAAAAAAAAAIAAAAAAAAAAgAAAAAAAAACAAAAAAAAAAIAAAAAAAAAAgAAAAAAAAACAAAAAAAAAAIAAAAAAAAAAgAAAAAAAAACAAAAAAAAAAIAAAAAAAAAAgAAAAAAAAACAAAAAAAAAAIAAAAAAAAAAgAAAAAAAAACAAAAAAAAAAIAAAAAAAAAAgAAAAAAAAAAAAAAAAAAAAAAAAAAAAAAAAAAAAAAAAAAAAAAAAAAAAAAAAAAAAAAAAAAAAAAAAAAAAAAAAAAAAAAAAAAAAAAAAAAAAAAAAAAAAAAAAAAAAAAAAAAAAAAAAAAAAAAAAAAAAAAAAAAAAAAAAAAAAAAAAAAAAAAAAAAAAAAAAAAAAAAAAAAAAAAAAAAAAAAAAAAAAAAAAAAAAAAAAAAAAAAAAAAAAAAAAAAARV5VfBEsM0CK/x1VpTdRQIb9q/qnHlxATtf63AbpYkAqTY1yKDpnQAN7q2DcEWtAy1WdbidecECbwItPc7l+QBfopYFGSYZA/hp+bvVujEAoGHcCmPOQQN+LnI7oRZNAdb6POOA6lUCYjKGrZweXQPENQ6mDoZhAgTBl444NmkDk76TKK0ObQJtbxVmvWZxAtbneTtJTnUD50giUvXGeQEjnItRcbJ9AnojgorUloEA=",
          "dtype": "f8"
         }
        },
        {
         "mode": "lines",
         "name": "destination_city_Chennai",
         "type": "scatter",
         "x": {
          "bdata": "rIboVEcd+ECVt6y3i3f1QIzkXL43HPNAUGE4RCAD8UBZyuhv/0nuQOeQB8+59upAVPxzIOkA6ECm9QnLSl7lQHyzBpK8BeNAu4Kr7Bzv4EB3bTqvXSbeQOV/pHwB19pAoWE1S6zk10ASu7KTJ0XVQBCxCdhb79JA7pkvIDHb0EBMVlHZ5QLOQMYP83put8pAOonqrZDIx0D2NbTuISzFQDdFSXEV2cJAYHMSw1zHwEDy6N28l9+9QIuGDZ4AmLpAlHR/IZast0BusUS5ORO1QH9xzT7pwrJASnDCuZ+zsEDqi8ooc7ytQATOQbq3eKpAyh0Of7yQp0BDZcPQbvqkQMalwiHXrKJAbWDO6PmfoEDKYzvsd5mdQEQ3EaSTWZpAlEHenwN1l0C0RbgSweGUQIaVefvelpJAC1zlNGuMkEA6D47WpXaNQD0+MDCUOopAYyllXWtZh0B909NcMMmEQC0NZ60AgYJAsp3WgvN4gECOY1m3/FN9QFNNhjO5G3pAtnVFkfM9d0BF7O6MvLB0QKHHIxk8a3JAkFyRt5JlcEA4KW1efDFtQKuBLYMC/WlA9ehOFZwiZ0APmwqBZZhkQOlDbCCRVWJA1aYkuEhSYEAI2dGbJA9dQHBvcvRv3llAHzJ+w2QHV0Dn6E8XK4BUQDqbIKX/P1JAOTy/aRU/UEA+Wcg/9exMQF3m01wBwElAJrj8dU3sRkABrg8uDWhEQPNWRImHKkJAoGivsfgrQEBdu8ka7so8QNm2ApK2oTlAOWUgB1bRNkCxYsKjC1A0QAxH/q4oFTJAI99idfIYMEAD+ob9DqksQOt24WmPgylAWnJrUX62JkD98AdXJjgkQINYmPji/yFA9JRmmgIGIEASt+i4V4ccQOBHhLqLZRlAZDOML8abFkAFhqcmXSAUQBdsf0i26hFAhTnNDFLmD0A++g4eyGUMQOubMFqrRwlABONcfC2BBkAXZI/xrwgEQBwtQ4Gi1QFA7ANcPsvA/z8b8FD+X0T8PxT8XB/uKfk/F2/jErRm9j9mtNSWHvHzP5LolYWnwPE/5EhNlXCb7z8=",
          "dtype": "f8"
         },
         "y": {
          "bdata": "AAAAAAAAAAAAAAAAAAAAAAAAAAAAAAAAAAAAAAAAAAAAAAAAAAAAAAAAAAAAAAAAAAAAAAAAAAAAAAAAAAAAAAAAAAAAAAAAAAAAAAAAAAAAAAAAAAAAAAAAAAAAAAAAAAAAAAAAAAAAAAAAAAAAAAAAAAAAAAAAAAAAAAAAAAAAAAAAAAAAAAAAAAAAAAAAAAAAAAAAAAAAAAAAAAAAAAAAAAAAAAAAAAAAAAAAAAAAAAAAAAAAAAAAAAAAAAAAAAAAAAAAAAAAAAAAAAAAAAAAAAAAAAAAAAAAAAAAAAAAAAAAAAAAAAAAAAAAAAAAAAAAAAAAAAAAAAAAAAAAAAAAAAAAAAAAAAAAAAAAAAAAAAAAAAAAAAAAAAAAAAAAAAAAAAAAAAAAAAAAAAAAAAAAAAAAAAAAAAAAAAAAAAAAAAAAAAAAAAAAAAAAAAAAAAAAAAAAAAAAAAAAAAAAAAAAAAAAAAAAAAAAAAAAAIAAAAAAAAAAgAAAAAAAAACAAAAAAAAAAIAAAAAAAAAAgAAAAAAAAACAAAAAAAAAAIAAAAAAAAAAgAAAAAAAAACAAAAAAAAAAIAAAAAAAAAAgAAAAAAAAACAAAAAAAAAAIAAAAAAAAAAgAAAAAAAAACAAAAAAAAAAIAAAAAAAAAAgAAAAAAAAACAAAAAAAAAAIAAAAAAAAAAgAAAAAAAAACAAAAAAAAAAIAAAAAAAAAAgAAAAAAAAACAAAAAAAAAAIAAAAAAAAAAgAAAAAAAAACAAAAAAAAAAIAAAAAAAAAAgAAAAAAAAACAcmGg/+P1A8Ar7FkJVdpBwNG5YmXeZVDAEp7vnmJsVcCPG4hLtoFXwGiTf+F8NFnAjISUDByzWsC5Sw1o6gVcwFv8kqHIMl3AYsEMOlE3XsC+hE4sfEhcwKbKAECwNFPAWbVP6zfyRcCgHCv87EwtwAAAAAAAAACAAAAAAAAAAIAAAAAAAAAAgAAAAAAAAACAAAAAAAAAAIAAAAAAAAAAAAAAAAAAAAAAAAAAAAAAAABLDGyLXrI4QBdL4+h0EkdAkryOcWNOUEA=",
          "dtype": "f8"
         }
        },
        {
         "mode": "lines",
         "name": "destination_city_Delhi",
         "type": "scatter",
         "x": {
          "bdata": "rIboVEcd+ECVt6y3i3f1QIzkXL43HPNAUGE4RCAD8UBZyuhv/0nuQOeQB8+59upAVPxzIOkA6ECm9QnLSl7lQHyzBpK8BeNAu4Kr7Bzv4EB3bTqvXSbeQOV/pHwB19pAoWE1S6zk10ASu7KTJ0XVQBCxCdhb79JA7pkvIDHb0EBMVlHZ5QLOQMYP83put8pAOonqrZDIx0D2NbTuISzFQDdFSXEV2cJAYHMSw1zHwEDy6N28l9+9QIuGDZ4AmLpAlHR/IZast0BusUS5ORO1QH9xzT7pwrJASnDCuZ+zsEDqi8ooc7ytQATOQbq3eKpAyh0Of7yQp0BDZcPQbvqkQMalwiHXrKJAbWDO6PmfoEDKYzvsd5mdQEQ3EaSTWZpAlEHenwN1l0C0RbgSweGUQIaVefvelpJAC1zlNGuMkEA6D47WpXaNQD0+MDCUOopAYyllXWtZh0B909NcMMmEQC0NZ60AgYJAsp3WgvN4gECOY1m3/FN9QFNNhjO5G3pAtnVFkfM9d0BF7O6MvLB0QKHHIxk8a3JAkFyRt5JlcEA4KW1efDFtQKuBLYMC/WlA9ehOFZwiZ0APmwqBZZhkQOlDbCCRVWJA1aYkuEhSYEAI2dGbJA9dQHBvcvRv3llAHzJ+w2QHV0Dn6E8XK4BUQDqbIKX/P1JAOTy/aRU/UEA+Wcg/9exMQF3m01wBwElAJrj8dU3sRkABrg8uDWhEQPNWRImHKkJAoGivsfgrQEBdu8ka7so8QNm2ApK2oTlAOWUgB1bRNkCxYsKjC1A0QAxH/q4oFTJAI99idfIYMEAD+ob9DqksQOt24WmPgylAWnJrUX62JkD98AdXJjgkQINYmPji/yFA9JRmmgIGIEASt+i4V4ccQOBHhLqLZRlAZDOML8abFkAFhqcmXSAUQBdsf0i26hFAhTnNDFLmD0A++g4eyGUMQOubMFqrRwlABONcfC2BBkAXZI/xrwgEQBwtQ4Gi1QFA7ANcPsvA/z8b8FD+X0T8PxT8XB/uKfk/F2/jErRm9j9mtNSWHvHzP5LolYWnwPE/5EhNlXCb7z8=",
          "dtype": "f8"
         },
         "y": {
          "bdata": "AAAAAAAAAAAAAAAAAAAAAAAAAAAAAAAAAAAAAAAAAAAAAAAAAAAAAAAAAAAAAAAAAAAAAAAAAAAAAAAAAAAAAAAAAAAAAAAAAAAAAAAAAAAAAAAAAAAAAAAAAAAAAAAAAAAAAAAAAAAAAAAAAAAAAAAAAAAAAAAAAAAAAAAAAAAAAAAAAAAAAAAAAAAAAAAAAAAAAAAAAAAAAAAAAAAAAAAAAAAAAAAAAAAAAAAAAAAAAAAAAAAAAAAAAAAAAAAAAAAAAAAAAAAAAAAAAAAAAAAAAAAAAAAAAAAAAAAAAAAAAAAAAAAAAAAAAAAAAAAAAAAAAAAAAAAAAAAAAAAAAAAAAAAAAAAAAAAAAAAAAAAAAAAAAAAAAAAAAAAAAAAAAAAAAAAAAAAAAAAAAAAAAAAAAAAAAAAAAAAAAAAAAAAAAAAAAAAAAAAAAAAAAAAAAAAAAAAAAAAAAAAAAAAAAAAAAAAAAAAAAAAAAAAAAAAAAAAAAAAAAAAAAAAAAAAAAAAAAAAAAAAAAAAAAAAAAAAAAAAAAAAApJIZqOnuN0BXP6UzskVVQPKbhll1ImNAfemO5NEbb0AhKzOfw690QJIf88SFGnlASZZfi/UFfUA/DUFq4jqAQNPS2WdxrYFAWsZtmufqgkBrDvysnPyDQFYli7GO14RA62jMMdBVhUD/DdrlhWmJQIR/O4bhPo1AmmMxGX0hkECCY25t+piRQLp6B0cHa5NAlZU08u8ElUCTjfJX15yWQHfFd7NHCJhAZyaM84NLmUBwtMc8y2qaQAEZ74lrX5tA/Td56Ni/m0AQu5Z8ccWbQAH+sxNypZtA+n3u25Gcm0BpGDyfy7abQNmMg2gwzptAPMvWsSrjm0Dx7/wv5/WbQMGTkZKbBpxA5Ro9xa0cnEDIPcLMonucQJnZAwd/E51AmvsqknmWnUDwzHYyrwqeQIwKqeGkVJ5AeRqII+x6nkDCsoduca2eQE1l2Th52p5ALMxzuZACn0BhgEl+9yWfQIByrmGNRp9AHKe9lJ9kn0A4gphTub+fQDe47ZIWB6BAEw74+/wpoEA=",
          "dtype": "f8"
         }
        },
        {
         "mode": "lines",
         "name": "destination_city_Hyderabad",
         "type": "scatter",
         "x": {
          "bdata": "rIboVEcd+ECVt6y3i3f1QIzkXL43HPNAUGE4RCAD8UBZyuhv/0nuQOeQB8+59upAVPxzIOkA6ECm9QnLSl7lQHyzBpK8BeNAu4Kr7Bzv4EB3bTqvXSbeQOV/pHwB19pAoWE1S6zk10ASu7KTJ0XVQBCxCdhb79JA7pkvIDHb0EBMVlHZ5QLOQMYP83put8pAOonqrZDIx0D2NbTuISzFQDdFSXEV2cJAYHMSw1zHwEDy6N28l9+9QIuGDZ4AmLpAlHR/IZast0BusUS5ORO1QH9xzT7pwrJASnDCuZ+zsEDqi8ooc7ytQATOQbq3eKpAyh0Of7yQp0BDZcPQbvqkQMalwiHXrKJAbWDO6PmfoEDKYzvsd5mdQEQ3EaSTWZpAlEHenwN1l0C0RbgSweGUQIaVefvelpJAC1zlNGuMkEA6D47WpXaNQD0+MDCUOopAYyllXWtZh0B909NcMMmEQC0NZ60AgYJAsp3WgvN4gECOY1m3/FN9QFNNhjO5G3pAtnVFkfM9d0BF7O6MvLB0QKHHIxk8a3JAkFyRt5JlcEA4KW1efDFtQKuBLYMC/WlA9ehOFZwiZ0APmwqBZZhkQOlDbCCRVWJA1aYkuEhSYEAI2dGbJA9dQHBvcvRv3llAHzJ+w2QHV0Dn6E8XK4BUQDqbIKX/P1JAOTy/aRU/UEA+Wcg/9exMQF3m01wBwElAJrj8dU3sRkABrg8uDWhEQPNWRImHKkJAoGivsfgrQEBdu8ka7so8QNm2ApK2oTlAOWUgB1bRNkCxYsKjC1A0QAxH/q4oFTJAI99idfIYMEAD+ob9DqksQOt24WmPgylAWnJrUX62JkD98AdXJjgkQINYmPji/yFA9JRmmgIGIEASt+i4V4ccQOBHhLqLZRlAZDOML8abFkAFhqcmXSAUQBdsf0i26hFAhTnNDFLmD0A++g4eyGUMQOubMFqrRwlABONcfC2BBkAXZI/xrwgEQBwtQ4Gi1QFA7ANcPsvA/z8b8FD+X0T8PxT8XB/uKfk/F2/jErRm9j9mtNSWHvHzP5LolYWnwPE/5EhNlXCb7z8=",
          "dtype": "f8"
         },
         "y": {
          "bdata": "AAAAAAAAAAAAAAAAAAAAAAAAAAAAAAAAAAAAAAAAAAAAAAAAAAAAAAAAAAAAAAAAAAAAAAAAAAAAAAAAAAAAAAAAAAAAAAAAAAAAAAAAAAAAAAAAAAAAAAAAAAAAAAAAAAAAAAAAAAAAAAAAAAAAAAAAAAAAAAAAAAAAAAAAAAAAAAAAAAAAAAAAAAAAAAAAAAAAAAAAAAAAAAAAAAAAAAAAAAAAAAAAAAAAAAAAAAAAAAAAAAAAAAAAAAAAAAAAAAAAAAAAAAAAAAAAAAAAAAAAAAAAAAAAAAAAAAAAAAAAAAAAAAAAAAAAAAAAAAAAAAAAAAAAAAAAAAAAAAAAAAAAAAAAAAAAAAAAAAAAAAAAAAAAAAAAAAAAAAAAAAAAAAAAAAAAAAAAAAAAAAAAAAAAAAAAAAAAAAAAAAAAAAAAAAAAAAAAAAAAAAAAAAAAAAAAAAAAAAAAAAAAAAAAAAAAAAAAAAAAAAAAAAAAAAAAAAAAAAAAAAAAAAAAAAAAAAAAAAAAAAAAAAAAAAAAAAAAAAAAAAAAAAAAAAAAAAAAAAAAAAAAAAAAAAAAAAAAAAAAAAAAAAAAAAAAAAAAAAAAAAAAAAAAAAAAAAAAAAAAAAAAAAAAAAAAAAAAAAAAAAAAAAAAAAAAAAAAAAAAAAAAAAAAAAAAAAAAAAAAAAAAAAAAAAAAAAAAAAAAAAAAAAAAAAAAAAAAAAAAAAAAAAAAAAAAAAAAAAAAAAAAAAAAAAAAAAAAgAAAAAAAAACAAAAAAAAAAIAAAAAAAAAAgAAAAAAAAACAAAAAAAAAAIAAAAAAAAAAgAAAAAAAAACAAAAAAAAAAIDdiNMv+uUywFSzr9g3rUfAeLBZYmkrUsA7pYj3Hs5XwF8lGSlh0lzArU0ja6KdYMCtBsq1ZEliwI2uJrjow2PAAgTtAF8QZcA8Cn/QNjhmwA5MvTEQPGfAraYU66sfaMDmHpUrS+ZowBCAi031lmnA7zk5CNxfasBlnwdrSVttwHb6ffeFAnDAGsRcEVgwccACuoeygUZywCao2I9nPXPAFwiKS0UZdMA=",
          "dtype": "f8"
         }
        },
        {
         "mode": "lines",
         "name": "destination_city_Kolkata",
         "type": "scatter",
         "x": {
          "bdata": "rIboVEcd+ECVt6y3i3f1QIzkXL43HPNAUGE4RCAD8UBZyuhv/0nuQOeQB8+59upAVPxzIOkA6ECm9QnLSl7lQHyzBpK8BeNAu4Kr7Bzv4EB3bTqvXSbeQOV/pHwB19pAoWE1S6zk10ASu7KTJ0XVQBCxCdhb79JA7pkvIDHb0EBMVlHZ5QLOQMYP83put8pAOonqrZDIx0D2NbTuISzFQDdFSXEV2cJAYHMSw1zHwEDy6N28l9+9QIuGDZ4AmLpAlHR/IZast0BusUS5ORO1QH9xzT7pwrJASnDCuZ+zsEDqi8ooc7ytQATOQbq3eKpAyh0Of7yQp0BDZcPQbvqkQMalwiHXrKJAbWDO6PmfoEDKYzvsd5mdQEQ3EaSTWZpAlEHenwN1l0C0RbgSweGUQIaVefvelpJAC1zlNGuMkEA6D47WpXaNQD0+MDCUOopAYyllXWtZh0B909NcMMmEQC0NZ60AgYJAsp3WgvN4gECOY1m3/FN9QFNNhjO5G3pAtnVFkfM9d0BF7O6MvLB0QKHHIxk8a3JAkFyRt5JlcEA4KW1efDFtQKuBLYMC/WlA9ehOFZwiZ0APmwqBZZhkQOlDbCCRVWJA1aYkuEhSYEAI2dGbJA9dQHBvcvRv3llAHzJ+w2QHV0Dn6E8XK4BUQDqbIKX/P1JAOTy/aRU/UEA+Wcg/9exMQF3m01wBwElAJrj8dU3sRkABrg8uDWhEQPNWRImHKkJAoGivsfgrQEBdu8ka7so8QNm2ApK2oTlAOWUgB1bRNkCxYsKjC1A0QAxH/q4oFTJAI99idfIYMEAD+ob9DqksQOt24WmPgylAWnJrUX62JkD98AdXJjgkQINYmPji/yFA9JRmmgIGIEASt+i4V4ccQOBHhLqLZRlAZDOML8abFkAFhqcmXSAUQBdsf0i26hFAhTnNDFLmD0A++g4eyGUMQOubMFqrRwlABONcfC2BBkAXZI/xrwgEQBwtQ4Gi1QFA7ANcPsvA/z8b8FD+X0T8PxT8XB/uKfk/F2/jErRm9j9mtNSWHvHzP5LolYWnwPE/5EhNlXCb7z8=",
          "dtype": "f8"
         },
         "y": {
          "bdata": "AAAAAAAAAAAAAAAAAAAAAAAAAAAAAAAAAAAAAAAAAAAAAAAAAAAAAAAAAAAAAAAAAAAAAAAAAAAAAAAAAAAAAAAAAAAAAAAAAAAAAAAAAAAAAAAAAAAAAAAAAAAAAAAAAAAAAAAAAAAAAAAAAAAAAAAAAAAAAAAAAAAAAAAAAAAAAAAAAAAAAAAAAAAAAAAAAAAAAAAAAAAAAAAAAAAAAAAAAAAAAAAAAAAAAAAAAAAAAAAAAAAAAAAAAAAAAAAAAAAAAAAAAAAAAAAAAAAAAAAAAAAAAAAAAAAAAAAAAAAAAAAAAAAAAAAAAAAAAAAAAAAAAAAAAAAAAAAAAAAAAAAAAAAAAAAAAAAAAAAAAAAAAAAAAAAAAAAAAAAAAAAAAAAAAAAAAAAAAAAAAAAAAAAAAAAAAAAAAAAAAAAAAAAAAAAAAAAAAAAAAAAAAAAAAAAAAAAAAIAAAAAAAAAAgAAAAAAAAACAAAAAAAAAAIAAAAAAAAAAgAAAAAAAAACAAAAAAAAAAIAAAAAAAAAAgAAAAAAAAACAAAAAAAAAAIAAAAAAAAAAgAAAAAAAAACAAAAAAAAAAIAAAAAAAAAAgAAAAAAAAACAAAAAAAAAAIAAAAAAAAAAgAAAAAAAAACAAAAAAAAAAIDKp+6VWLU4wAitfyZtOV3AKFCwqw1FacBqxLy0C5txwAYN006mE3bAsnKUHkotesCdeQF8vPN9wD5DhUbgG4HA+btOWRZ5h8DC5TYyPMOOwPr+c0EzJZPAPaE0arZ/lsC2nWYxUHqZwBDxIxwuApzAF/u2YrpensAeAnnuYEagwI5HbtciOaHA0/rWj88OosCNDx/ZRNuiwGrF07JhmqPAb/BwiXVEpMB6sZXb19ukwL6ZH0iZYqXAZsEd2lHbpcCJ0n2grEumwEief0thp6bAG8UUEin5psDa8HvZ+0GnwHXd9oJHhafAfhhhTsbEp8CGEM6r+f2nwBh/lurgMKjAvCJ9WWhfqMBGyACx7ZiowFMt8x92zKjAF2A0PTD6qMCAYt13dR2pwFWoXUXePKnADXBCTddYqcA=",
          "dtype": "f8"
         }
        },
        {
         "mode": "lines",
         "name": "destination_city_Mumbai",
         "type": "scatter",
         "x": {
          "bdata": "rIboVEcd+ECVt6y3i3f1QIzkXL43HPNAUGE4RCAD8UBZyuhv/0nuQOeQB8+59upAVPxzIOkA6ECm9QnLSl7lQHyzBpK8BeNAu4Kr7Bzv4EB3bTqvXSbeQOV/pHwB19pAoWE1S6zk10ASu7KTJ0XVQBCxCdhb79JA7pkvIDHb0EBMVlHZ5QLOQMYP83put8pAOonqrZDIx0D2NbTuISzFQDdFSXEV2cJAYHMSw1zHwEDy6N28l9+9QIuGDZ4AmLpAlHR/IZast0BusUS5ORO1QH9xzT7pwrJASnDCuZ+zsEDqi8ooc7ytQATOQbq3eKpAyh0Of7yQp0BDZcPQbvqkQMalwiHXrKJAbWDO6PmfoEDKYzvsd5mdQEQ3EaSTWZpAlEHenwN1l0C0RbgSweGUQIaVefvelpJAC1zlNGuMkEA6D47WpXaNQD0+MDCUOopAYyllXWtZh0B909NcMMmEQC0NZ60AgYJAsp3WgvN4gECOY1m3/FN9QFNNhjO5G3pAtnVFkfM9d0BF7O6MvLB0QKHHIxk8a3JAkFyRt5JlcEA4KW1efDFtQKuBLYMC/WlA9ehOFZwiZ0APmwqBZZhkQOlDbCCRVWJA1aYkuEhSYEAI2dGbJA9dQHBvcvRv3llAHzJ+w2QHV0Dn6E8XK4BUQDqbIKX/P1JAOTy/aRU/UEA+Wcg/9exMQF3m01wBwElAJrj8dU3sRkABrg8uDWhEQPNWRImHKkJAoGivsfgrQEBdu8ka7so8QNm2ApK2oTlAOWUgB1bRNkCxYsKjC1A0QAxH/q4oFTJAI99idfIYMEAD+ob9DqksQOt24WmPgylAWnJrUX62JkD98AdXJjgkQINYmPji/yFA9JRmmgIGIEASt+i4V4ccQOBHhLqLZRlAZDOML8abFkAFhqcmXSAUQBdsf0i26hFAhTnNDFLmD0A++g4eyGUMQOubMFqrRwlABONcfC2BBkAXZI/xrwgEQBwtQ4Gi1QFA7ANcPsvA/z8b8FD+X0T8PxT8XB/uKfk/F2/jErRm9j9mtNSWHvHzP5LolYWnwPE/5EhNlXCb7z8=",
          "dtype": "f8"
         },
         "y": {
          "bdata": "AAAAAAAAAAAAAAAAAAAAAAAAAAAAAAAAAAAAAAAAAAAAAAAAAAAAAAAAAAAAAAAAAAAAAAAAAAAAAAAAAAAAAAAAAAAAAAAAAAAAAAAAAAAAAAAAAAAAAAAAAAAAAAAAAAAAAAAAAAAAAAAAAAAAAAAAAAAAAAAAAAAAAAAAAAAAAAAAAAAAAAAAAAAAAAAAAAAAAAAAAAAAAAAAAAAAAAAAAAAAAAAAAAAAAAAAAAAAAAAAAAAAAAAAAAAAAAAAAAAAAAAAAAAAAAAAAAAAAAAAAAAAAAAAAAAAAAAAAAAAAAAAAAAAAAAAAAAAAAAAAAAAAAAAAAAAAAAAAAAAAAAAAAAAAAAAAAAAAAAAAAAAAAAAAAAAAAAAAAAAAAAAAAAAAAAAAAAAAAAAAAAAAAAAAAAAAAAAAAAAAAAAAIAAAAAAAAAAgAAAAAAAAACAAAAAAAAAAIAAAAAAAAAAgAAAAAAAAACAAAAAAAAAAIAAAAAAAAAAgAAAAAAAAACAAAAAAAAAAIAAAAAAAAAAgAAAAAAAAACAAAAAAAAAAIAAAAAAAAAAgAAAAAAAAACAAAAAAAAAAIAAAAAAAAAAgEnGgbYn7krAy+z1oVqKZsDoixJbeGtywJF2wYqOe3nA78GWTUrCf8B5pgXoSPKCwDlObVamdIbAS92nYYd6icDeGiNVpAWMwEhq73TBQI7APlCU7lcbkMBsbPjlYfuQwGf9bdNHwJHA1vk4FNILlMCGW69VZwmYwBMibZ1sz5vAAKj8C+8rn8ApsNEBCRShwAzSbCOuUKLAskJoyoo7o8BXLw8WTw+kwDdHCqrG1qTAIbtkObOIpcDIsbpyHDSmwM4VjDke1qbAEfJzuXFmp8DZ5dEc+OanwLWlz+RmWajAbJCUgGq+qMCHblvntgupwAp/fY+5SKnATVRo24N+qcBvnHtDXq6pwPbVoCc526nAOK+VpHoGqsA8UkLn1y2qwJdnFlLoUKrAjckKhmNxqsAW32cE2J6qwJX9kDOcx6rAtAQzd9zrqsDgEUeBPgerwHbe+W2JH6vAsXHfxis1q8A=",
          "dtype": "f8"
         }
        },
        {
         "mode": "lines",
         "name": "class_Economy",
         "type": "scatter",
         "x": {
          "bdata": "rIboVEcd+ECVt6y3i3f1QIzkXL43HPNAUGE4RCAD8UBZyuhv/0nuQOeQB8+59upAVPxzIOkA6ECm9QnLSl7lQHyzBpK8BeNAu4Kr7Bzv4EB3bTqvXSbeQOV/pHwB19pAoWE1S6zk10ASu7KTJ0XVQBCxCdhb79JA7pkvIDHb0EBMVlHZ5QLOQMYP83put8pAOonqrZDIx0D2NbTuISzFQDdFSXEV2cJAYHMSw1zHwEDy6N28l9+9QIuGDZ4AmLpAlHR/IZast0BusUS5ORO1QH9xzT7pwrJASnDCuZ+zsEDqi8ooc7ytQATOQbq3eKpAyh0Of7yQp0BDZcPQbvqkQMalwiHXrKJAbWDO6PmfoEDKYzvsd5mdQEQ3EaSTWZpAlEHenwN1l0C0RbgSweGUQIaVefvelpJAC1zlNGuMkEA6D47WpXaNQD0+MDCUOopAYyllXWtZh0B909NcMMmEQC0NZ60AgYJAsp3WgvN4gECOY1m3/FN9QFNNhjO5G3pAtnVFkfM9d0BF7O6MvLB0QKHHIxk8a3JAkFyRt5JlcEA4KW1efDFtQKuBLYMC/WlA9ehOFZwiZ0APmwqBZZhkQOlDbCCRVWJA1aYkuEhSYEAI2dGbJA9dQHBvcvRv3llAHzJ+w2QHV0Dn6E8XK4BUQDqbIKX/P1JAOTy/aRU/UEA+Wcg/9exMQF3m01wBwElAJrj8dU3sRkABrg8uDWhEQPNWRImHKkJAoGivsfgrQEBdu8ka7so8QNm2ApK2oTlAOWUgB1bRNkCxYsKjC1A0QAxH/q4oFTJAI99idfIYMEAD+ob9DqksQOt24WmPgylAWnJrUX62JkD98AdXJjgkQINYmPji/yFA9JRmmgIGIEASt+i4V4ccQOBHhLqLZRlAZDOML8abFkAFhqcmXSAUQBdsf0i26hFAhTnNDFLmD0A++g4eyGUMQOubMFqrRwlABONcfC2BBkAXZI/xrwgEQBwtQ4Gi1QFA7ANcPsvA/z8b8FD+X0T8PxT8XB/uKfk/F2/jErRm9j9mtNSWHvHzP5LolYWnwPE/5EhNlXCb7z8=",
          "dtype": "f8"
         },
         "y": {
          "bdata": "AAAAAAAAAAAAAAAAAAAAAAAAAAAAAAAAAAAAAAAAAAAAAAAAAAAAAAAAAAAAAAAAAAAAAAAAAAAAAAAAAAAAAAAAAAAAAAAAAAAAAAAAAAAAAAAAAAAAAAAAAAAAAAAAAAAAAAAAAAAAAAAAAAAAAAAAAAAAAAAAAAAAAAAAAAAAAAAAAAAAAAAAAAAAAAAAAAAAAAAAAAAAAAAAAAAAAAAAAAAAAAAAAAAAAAAAAAAAAAAAAAAAAAAAAAAAAAAAAAAAAAAAAAAAAAAAAAAAAAAAAAAAAAAAAAAAAAAAAAAAAAAAAAAAAAAAAAAAAAAAAAAAAAAAAAAAAAAAAAAAAAAAAAAAAAAAAAAAAAAAAAAAAAAAAAAAAAAAAAAAAAAAAAAAAAAAAAAAAAAAAAAAAAAAAAAAAAAAAAAAAAAAAAAAAAAAAAAAAAAAAAAAAAAAAAAAAAAAAAAAAAAAAAAAAAAAAAAAAAAAAAAAAAAAAAAAAAAAAAAAAAAAAAAAAAAAAAAAAAAAAAAAAAAAAAAAAAAAAAAAAAAAAAAAAAAAAADdL2SdLy9dQA0ZB24WP3VAP6i44vSTgECFtLJOG/mFQJlF3yvOpopAMMBTNFaUjkDxuvVTryqRQBrY4ddHwJJAUiuoQ0ghlEAVAh4q3ziVQNzDBqrTzpVAPKevwUpSlkDZ9fddZdmZQFrti+Snjp5AcQ3GlUfhoUCt/qNMDj6kQJ6h/y4oQKZAV4prSMqLp0CHnFdITFqoQKjHG7DP/KhApu5TNDiNqUCwZWSg2g6qQDEOIO2nfKpADeCef1rMqkDf4+8n/xKrQLmhKXfUTqtA07Afyr2Gq0B0DYjQN6urQGpK2DnNwqtAGXFSG9nXq0Cr2k3MmuqrQKVuwIRP+6tAwLky8VcLrECrclkVAyasQGIrnf73P6xAuueMgjdXrEC1JXzk6WusQOgYQ9T2faxAI9ZoblGNrEByLRseW5usQG9OGADhp6xAmej9/sCxrEDfheSSoKmsQCOQ/LNwoqxAKGi85FqcrEDaRuJoxJesQOGuPxuLk6xA3BruEcaPrEA=",
          "dtype": "f8"
         }
        },
        {
         "mode": "lines",
         "name": "days_left_inv",
         "type": "scatter",
         "x": {
          "bdata": "rIboVEcd+ECVt6y3i3f1QIzkXL43HPNAUGE4RCAD8UBZyuhv/0nuQOeQB8+59upAVPxzIOkA6ECm9QnLSl7lQHyzBpK8BeNAu4Kr7Bzv4EB3bTqvXSbeQOV/pHwB19pAoWE1S6zk10ASu7KTJ0XVQBCxCdhb79JA7pkvIDHb0EBMVlHZ5QLOQMYP83put8pAOonqrZDIx0D2NbTuISzFQDdFSXEV2cJAYHMSw1zHwEDy6N28l9+9QIuGDZ4AmLpAlHR/IZast0BusUS5ORO1QH9xzT7pwrJASnDCuZ+zsEDqi8ooc7ytQATOQbq3eKpAyh0Of7yQp0BDZcPQbvqkQMalwiHXrKJAbWDO6PmfoEDKYzvsd5mdQEQ3EaSTWZpAlEHenwN1l0C0RbgSweGUQIaVefvelpJAC1zlNGuMkEA6D47WpXaNQD0+MDCUOopAYyllXWtZh0B909NcMMmEQC0NZ60AgYJAsp3WgvN4gECOY1m3/FN9QFNNhjO5G3pAtnVFkfM9d0BF7O6MvLB0QKHHIxk8a3JAkFyRt5JlcEA4KW1efDFtQKuBLYMC/WlA9ehOFZwiZ0APmwqBZZhkQOlDbCCRVWJA1aYkuEhSYEAI2dGbJA9dQHBvcvRv3llAHzJ+w2QHV0Dn6E8XK4BUQDqbIKX/P1JAOTy/aRU/UEA+Wcg/9exMQF3m01wBwElAJrj8dU3sRkABrg8uDWhEQPNWRImHKkJAoGivsfgrQEBdu8ka7so8QNm2ApK2oTlAOWUgB1bRNkCxYsKjC1A0QAxH/q4oFTJAI99idfIYMEAD+ob9DqksQOt24WmPgylAWnJrUX62JkD98AdXJjgkQINYmPji/yFA9JRmmgIGIEASt+i4V4ccQOBHhLqLZRlAZDOML8abFkAFhqcmXSAUQBdsf0i26hFAhTnNDFLmD0A++g4eyGUMQOubMFqrRwlABONcfC2BBkAXZI/xrwgEQBwtQ4Gi1QFA7ANcPsvA/z8b8FD+X0T8PxT8XB/uKfk/F2/jErRm9j9mtNSWHvHzP5LolYWnwPE/5EhNlXCb7z8=",
          "dtype": "f8"
         },
         "y": {
          "bdata": "AAAAAAAAAAAAAAAAAAAAAAAAAAAAAAAAAAAAAAAAAAAAAAAAAAAAAAAAAAAAAAAAAAAAAAAAAAAAAAAAAAAAAAAAAAAAAAAAAAAAAAAAAAAAAAAAAAAAAAAAAAAAAAAAAAAAAAAAAAAAAAAAAAAAAAAAAAAAAAAAAAAAAAAAAAAAAAAAAAAAAAAAAAAAAAAAAAAAAAAAAAAAAAAAAAAAAAAAAAAAAAAAAAAAAAAAAAAAAAAAAAAAAAAAAAAAAAAAAAAAAAAAAAAAAAAAAAAAAAAAAAAAAAAAAAAAAAAAAAAAAAAAAAAAAAAAAAAAAAAAAAAAAAAAAAAAAAAAAAAAAAAAAAAAAAAAAAAAAAAAAAAAAAAAAAAAAAAAAAAAAAAAAAAAAAAAAAAAAAAAAAAAAAAAAAAAAAAAAAAAAAAAAAAAAAAAAAAAAAAAAAAAAAAAAAAAAAAAAAAAAAAAAAAAAAAAAAAAAAAAAAAAAAAAAAAAAAAAAAAAAAAAAAAAAAAAAAAAAAAAAAAAAAAAAAAAAAAAAAAAAAAAAAAAAAAAAAAAAAAAAAAAAAAAAAAAAAAAAAAAAAAAAAAAAAAAAAAAAAAAAAAAAAAAqiaTBTZ0OkBOvFlA4eFVQBLCeMYEZmJAqXVYX2xKaUBQU0zekZJuQKt5vGP8Y3BATVr5iIJ2cUDjtTJmQVpyQOYp1pnyJXNAm1gQEP1bfUAjhTVx4xmFQNMB2yJ0Y4tAQGJrnqXwjkAqs/9xyWyQQFQke2XtHpFA75aHDOG8kUDRzW13UUuSQK1XLHXd5ZJAQgX7MmBhk0CpPCiHvseTQI+KUUev/pNA8mLC2+golEAhG9FhEzOUQDKJeWC7J5RA6YoPAiwdlECViG6rlBOUQPvQ/OT2CpRA4QgQey0FlEABG93WbBmUQFrcsErZNpRAeNY6IGRTlECtbIa9+myUQNoMCkjngJRAl/bjnS+OlEACY0JyHpmUQPPFSUbAopRA7HyWoseolEBL1ihdTY2UQFmRdsHXcZRA6EJHZQlYlEAmJ8CyNEeUQPN8dBiROpRAkMBNcU0vlEA=",
          "dtype": "f8"
         }
        },
        {
         "mode": "lines",
         "name": "duration_log",
         "type": "scatter",
         "x": {
          "bdata": "rIboVEcd+ECVt6y3i3f1QIzkXL43HPNAUGE4RCAD8UBZyuhv/0nuQOeQB8+59upAVPxzIOkA6ECm9QnLSl7lQHyzBpK8BeNAu4Kr7Bzv4EB3bTqvXSbeQOV/pHwB19pAoWE1S6zk10ASu7KTJ0XVQBCxCdhb79JA7pkvIDHb0EBMVlHZ5QLOQMYP83put8pAOonqrZDIx0D2NbTuISzFQDdFSXEV2cJAYHMSw1zHwEDy6N28l9+9QIuGDZ4AmLpAlHR/IZast0BusUS5ORO1QH9xzT7pwrJASnDCuZ+zsEDqi8ooc7ytQATOQbq3eKpAyh0Of7yQp0BDZcPQbvqkQMalwiHXrKJAbWDO6PmfoEDKYzvsd5mdQEQ3EaSTWZpAlEHenwN1l0C0RbgSweGUQIaVefvelpJAC1zlNGuMkEA6D47WpXaNQD0+MDCUOopAYyllXWtZh0B909NcMMmEQC0NZ60AgYJAsp3WgvN4gECOY1m3/FN9QFNNhjO5G3pAtnVFkfM9d0BF7O6MvLB0QKHHIxk8a3JAkFyRt5JlcEA4KW1efDFtQKuBLYMC/WlA9ehOFZwiZ0APmwqBZZhkQOlDbCCRVWJA1aYkuEhSYEAI2dGbJA9dQHBvcvRv3llAHzJ+w2QHV0Dn6E8XK4BUQDqbIKX/P1JAOTy/aRU/UEA+Wcg/9exMQF3m01wBwElAJrj8dU3sRkABrg8uDWhEQPNWRImHKkJAoGivsfgrQEBdu8ka7so8QNm2ApK2oTlAOWUgB1bRNkCxYsKjC1A0QAxH/q4oFTJAI99idfIYMEAD+ob9DqksQOt24WmPgylAWnJrUX62JkD98AdXJjgkQINYmPji/yFA9JRmmgIGIEASt+i4V4ccQOBHhLqLZRlAZDOML8abFkAFhqcmXSAUQBdsf0i26hFAhTnNDFLmD0A++g4eyGUMQOubMFqrRwlABONcfC2BBkAXZI/xrwgEQBwtQ4Gi1QFA7ANcPsvA/z8b8FD+X0T8PxT8XB/uKfk/F2/jErRm9j9mtNSWHvHzP5LolYWnwPE/5EhNlXCb7z8=",
          "dtype": "f8"
         },
         "y": {
          "bdata": "AAAAAAAAAAAAAAAAAAAAAAAAAAAAAAAAAAAAAAAAAAAAAAAAAAAAAAAAAAAAAAAAAAAAAAAAAAAAAAAAAAAAAAAAAAAAAAAAAAAAAAAAAAAAAAAAAAAAAAAAAAAAAAAAAAAAAAAAAAAAAAAAAAAAAAAAAAAAAAAAAAAAAAAAAAAAAAAAAAAAAAAAAAAAAACAAAAAAAAAAIAAAAAAAAAAgAAAAAAAAACAAAAAAAAAAIAAAAAAAAAAgAAAAAAAAACAAAAAAAAAAIAAAAAAAAAAgAAAAAAAAACAAAAAAAAAAIAAAAAAAAAAgAAAAAAAAACAAAAAAAAAAIAAAAAAAAAAgAAAAAAAAACAAAAAAAAAAIAAAAAAAAAAgAAAAAAAAACAAAAAAAAAAIAAAAAAAAAAgAAAAAAAAACAAAAAAAAAAIAAAAAAAAAAgAAAAAAAAACAAAAAAAAAAIAAAAAAAAAAgJnCYSwTRV/AMQ39fbfqpMBSd0IH7i6ywFvr9RWbwbjAi0gmrkOBvsBr120T98XBwOBM4f5lhMLA2DekyCi6xMCo95p1zsTDwKo5k7oq8cHAizam8DZLwMBk+FLg6Xe9wLagkA2mSrrAu9tQYUZtt8AVZCNXANe0wOL2dbtgf7LAVFT1OX9osMDqnYyoOS2twE5i7yGgJ6rAEPc6zG0dqMDENrM8qu+lwNxlAowT1KPAtDVe86dIocDXi9GU93GcwJ/Z+QRXFpbAWtXnJ6MDksCN7MI3ObePwLyL+4sP6Y/ArwOBzEcOkMCJyWyWtyCQwMm2Pxb2WJDAVailWL9vjMB6HiULb5+JwHV9Xmi6QpTAbpJBZaQsoMDVxkj2O3emwOwaq+nBU6zA75hAvXrTsMBEMCqJ3zezwLcHzGNXW7XANMyCcLNDt8BcOKTb5vC4wI6ta2vnZrrAIhRIaNesu8DY8F6UM8y8wAeiI59Myr3AkU9Gk8GsvsBs6EA+Kn+/wPaKtMPrHsDAqDgqe7h0wMDUlWXOtsPAwNM6FcdsDMHANpZerVNPwcAIUHVpA43BwAxx1G0oxMHAvmzZeyf1wcA=",
          "dtype": "f8"
         }
        },
        {
         "mode": "lines",
         "name": "const_Economy",
         "type": "scatter",
         "x": {
          "bdata": "rIboVEcd+ECVt6y3i3f1QIzkXL43HPNAUGE4RCAD8UBZyuhv/0nuQOeQB8+59upAVPxzIOkA6ECm9QnLSl7lQHyzBpK8BeNAu4Kr7Bzv4EB3bTqvXSbeQOV/pHwB19pAoWE1S6zk10ASu7KTJ0XVQBCxCdhb79JA7pkvIDHb0EBMVlHZ5QLOQMYP83put8pAOonqrZDIx0D2NbTuISzFQDdFSXEV2cJAYHMSw1zHwEDy6N28l9+9QIuGDZ4AmLpAlHR/IZast0BusUS5ORO1QH9xzT7pwrJASnDCuZ+zsEDqi8ooc7ytQATOQbq3eKpAyh0Of7yQp0BDZcPQbvqkQMalwiHXrKJAbWDO6PmfoEDKYzvsd5mdQEQ3EaSTWZpAlEHenwN1l0C0RbgSweGUQIaVefvelpJAC1zlNGuMkEA6D47WpXaNQD0+MDCUOopAYyllXWtZh0B909NcMMmEQC0NZ60AgYJAsp3WgvN4gECOY1m3/FN9QFNNhjO5G3pAtnVFkfM9d0BF7O6MvLB0QKHHIxk8a3JAkFyRt5JlcEA4KW1efDFtQKuBLYMC/WlA9ehOFZwiZ0APmwqBZZhkQOlDbCCRVWJA1aYkuEhSYEAI2dGbJA9dQHBvcvRv3llAHzJ+w2QHV0Dn6E8XK4BUQDqbIKX/P1JAOTy/aRU/UEA+Wcg/9exMQF3m01wBwElAJrj8dU3sRkABrg8uDWhEQPNWRImHKkJAoGivsfgrQEBdu8ka7so8QNm2ApK2oTlAOWUgB1bRNkCxYsKjC1A0QAxH/q4oFTJAI99idfIYMEAD+ob9DqksQOt24WmPgylAWnJrUX62JkD98AdXJjgkQINYmPji/yFA9JRmmgIGIEASt+i4V4ccQOBHhLqLZRlAZDOML8abFkAFhqcmXSAUQBdsf0i26hFAhTnNDFLmD0A++g4eyGUMQOubMFqrRwlABONcfC2BBkAXZI/xrwgEQBwtQ4Gi1QFA7ANcPsvA/z8b8FD+X0T8PxT8XB/uKfk/F2/jErRm9j9mtNSWHvHzP5LolYWnwPE/5EhNlXCb7z8=",
          "dtype": "f8"
         },
         "y": {
          "bdata": "AAAAAAAAAAAAAAAAAAAAAAAAAAAAAAAAAAAAAAAAAAAAAAAAAAAAAAAAAAAAAAAAAAAAAAAAAAAAAAAAAAAAAAAAAAAAAAAAAAAAAAAAAAAAAAAAAAAAAAAAAAAAAAAAAAAAAAAAAAAAAAAAAAAAAAAAAAAAAAAAAAAAAAAAAAAAAAAAAAAAAAAAAAAAAACAAAAAAAAAAIAAAAAAAAAAgAAAAAAAAACAAAAAAAAAAIAAAAAAAAAAgAAAAAAAAACAAAAAAAAAAIAAAAAAAAAAgAAAAAAAAACAAAAAAAAAAIAAAAAAAAAAgAAAAAAAAACAAAAAAAAAAIAAAAAAAAAAgAAAAAAAAACAAAAAAAAAAIAAAAAAAAAAgAAAAAAAAACAAAAAAAAAAIAAAAAAAAAAgAAAAAAAAACAAAAAAAAAAIAAAAAAAAAAgAAAAAAAAACAAAAAAAAAAIAAAAAAAAAAgCcQpWfAXUm9AAAAAAAAAIAxVI6BMLVfvTFUjoEwtV+9MVSOgTC1X722jM8kMKy4va+ZYBGc6rO9I26wWggytr1DuH/bw2SmvWD2SyRydsy9ZQpRLIitwr2H6hGC7urLvSBirSL7EMy9/xfeoT/ey70hLFyjKeMKvqei8JUDHuG9MVSOgTC1X70AAAAAAAAAgAAAAAAAAACAAAAAAAAAAIAAAAAAAAAAgKSW7V32/Ga94E22Jz0+BL4AAAAAAAAAgEoCryMUCAW+rib8eCATBb5sWUvGAw8FvgvGrqdtaRC+60+al0BsEL7iMWHR720QvuK/FTANbxC+ct/qfG5qEL4PtyZzVG0QviM6866EahC+i5qJMxRsEL7W975NZG0Qvky+UEzeaxC+6Su5vfNsEL6RkaqhOhPyvei6rVJBCPK9X9qnwLKAEb6cIg1agvXzvVuspo8Y7PO9PeQmUFHk871X9g/vqeDzvXKSNjgS7PO9Z3h0Js/f872KlC+eRu7zvXmEFggE7vO9g7wQUVRW9L2KiQq3TbLxvWat+7t5WvG919GYrTst8r3pRgmElZbzvWLeMtytpPW9yOEk47wt9L0=",
          "dtype": "f8"
         }
        },
        {
         "mode": "lines",
         "name": "duration_Economy",
         "type": "scatter",
         "x": {
          "bdata": "rIboVEcd+ECVt6y3i3f1QIzkXL43HPNAUGE4RCAD8UBZyuhv/0nuQOeQB8+59upAVPxzIOkA6ECm9QnLSl7lQHyzBpK8BeNAu4Kr7Bzv4EB3bTqvXSbeQOV/pHwB19pAoWE1S6zk10ASu7KTJ0XVQBCxCdhb79JA7pkvIDHb0EBMVlHZ5QLOQMYP83put8pAOonqrZDIx0D2NbTuISzFQDdFSXEV2cJAYHMSw1zHwEDy6N28l9+9QIuGDZ4AmLpAlHR/IZast0BusUS5ORO1QH9xzT7pwrJASnDCuZ+zsEDqi8ooc7ytQATOQbq3eKpAyh0Of7yQp0BDZcPQbvqkQMalwiHXrKJAbWDO6PmfoEDKYzvsd5mdQEQ3EaSTWZpAlEHenwN1l0C0RbgSweGUQIaVefvelpJAC1zlNGuMkEA6D47WpXaNQD0+MDCUOopAYyllXWtZh0B909NcMMmEQC0NZ60AgYJAsp3WgvN4gECOY1m3/FN9QFNNhjO5G3pAtnVFkfM9d0BF7O6MvLB0QKHHIxk8a3JAkFyRt5JlcEA4KW1efDFtQKuBLYMC/WlA9ehOFZwiZ0APmwqBZZhkQOlDbCCRVWJA1aYkuEhSYEAI2dGbJA9dQHBvcvRv3llAHzJ+w2QHV0Dn6E8XK4BUQDqbIKX/P1JAOTy/aRU/UEA+Wcg/9exMQF3m01wBwElAJrj8dU3sRkABrg8uDWhEQPNWRImHKkJAoGivsfgrQEBdu8ka7so8QNm2ApK2oTlAOWUgB1bRNkCxYsKjC1A0QAxH/q4oFTJAI99idfIYMEAD+ob9DqksQOt24WmPgylAWnJrUX62JkD98AdXJjgkQINYmPji/yFA9JRmmgIGIEASt+i4V4ccQOBHhLqLZRlAZDOML8abFkAFhqcmXSAUQBdsf0i26hFAhTnNDFLmD0A++g4eyGUMQOubMFqrRwlABONcfC2BBkAXZI/xrwgEQBwtQ4Gi1QFA7ANcPsvA/z8b8FD+X0T8PxT8XB/uKfk/F2/jErRm9j9mtNSWHvHzP5LolYWnwPE/5EhNlXCb7z8=",
          "dtype": "f8"
         },
         "y": {
          "bdata": "AAAAAAAAAAAAAAAAAAAAAAAAAAAAAAAAAAAAAAAAAAAAAAAAAAAAAAAAAAAAAAAAAAAAAAAAAAAAAAAAAAAAAAAAAAAAAAAAD1XmdLUOMUAUuK9KzTdOQOfXZKiOxFhAaSqg7KiuYEDhBYjhc4JkQFmQ3Mld6mdAdrHBw/NwY0AAAAAAAAAAAAAAAAAAAAAAAAAAAAAAAIAAAAAAAAAAgJ/UU2VBPS/AqRj36z0vXMAL1sDUyuVowAz5F80jQnHAt+bdz72MdcBOtoDtTRZ/wOaZ/TcNg4TA2fZAzJDhiMBdHDBYNaqMwE/3q7VRBZDAanNECQ6HkcAf23dvDgCTwHrsDEWWLJTAc1tK8G8MkMDBD3KORJ2LwNCmBxY+oYfAkXetEzAVhMAG2QpLfu2AwMusBw9MPnzApSySh2A7d8CCkTR4JMtywEmfS7a3s23Aw37ZaBm0ZsAoHw94RGhgwFD/Uoi1I1bAQ9sNfnGXUsAUu7NfZS1SwMNdWg8h6FHAs031E7AcUsD6f1cy9KBRwAAAAAAAAACAAAAAAAAAAACMZ/j3VFtjQB4PWruN1XVAVMitC71YgEBY1JDaZiCFQDhH7gidSYlAncwwbeL+jEBAUj6bXyaQQEyaRxrAnZFA12OPUxTrkkCawX8PnhGUQBudloPgEZVAFdV9DZn4lUB3PV3pQL+WQN1jHO6acpdA/ktcFXcSmEARCOt6456YQIkg8WyVGZlAVjZ2rKCKmUDgKYU0B/2ZQBIgfXteYJpA2oHg28G4mkCtvmIVZgebQD5HfvS+SZtA2+PuWviGm0CqkyXMBLybQAiMlC8rlJtAIs0phZM1m0CnfwWCB9CaQNaru0n2a5pAN5MD6FUQmkB5+8aBub2ZQJnlRk3Bc5lANWCyl3AxmUDZsH7mCfGYQA7N+SQutZhAchLVXPB+mEDfXHgkHU+YQIC6nlCbJZhAbUbaN+EBmEA84G6PH+GXQJynM5lKw5dAvz/xvHiol0CmgrMI+pCXQGTapm9RepdARrBlgqpkl0CDUqTq4U6XQLMV7N/iPJdATuvY9ucsl0A=",
          "dtype": "f8"
         }
        },
        {
         "mode": "lines",
         "name": "days_left_Economy",
         "type": "scatter",
         "x": {
          "bdata": "rIboVEcd+ECVt6y3i3f1QIzkXL43HPNAUGE4RCAD8UBZyuhv/0nuQOeQB8+59upAVPxzIOkA6ECm9QnLSl7lQHyzBpK8BeNAu4Kr7Bzv4EB3bTqvXSbeQOV/pHwB19pAoWE1S6zk10ASu7KTJ0XVQBCxCdhb79JA7pkvIDHb0EBMVlHZ5QLOQMYP83put8pAOonqrZDIx0D2NbTuISzFQDdFSXEV2cJAYHMSw1zHwEDy6N28l9+9QIuGDZ4AmLpAlHR/IZast0BusUS5ORO1QH9xzT7pwrJASnDCuZ+zsEDqi8ooc7ytQATOQbq3eKpAyh0Of7yQp0BDZcPQbvqkQMalwiHXrKJAbWDO6PmfoEDKYzvsd5mdQEQ3EaSTWZpAlEHenwN1l0C0RbgSweGUQIaVefvelpJAC1zlNGuMkEA6D47WpXaNQD0+MDCUOopAYyllXWtZh0B909NcMMmEQC0NZ60AgYJAsp3WgvN4gECOY1m3/FN9QFNNhjO5G3pAtnVFkfM9d0BF7O6MvLB0QKHHIxk8a3JAkFyRt5JlcEA4KW1efDFtQKuBLYMC/WlA9ehOFZwiZ0APmwqBZZhkQOlDbCCRVWJA1aYkuEhSYEAI2dGbJA9dQHBvcvRv3llAHzJ+w2QHV0Dn6E8XK4BUQDqbIKX/P1JAOTy/aRU/UEA+Wcg/9exMQF3m01wBwElAJrj8dU3sRkABrg8uDWhEQPNWRImHKkJAoGivsfgrQEBdu8ka7so8QNm2ApK2oTlAOWUgB1bRNkCxYsKjC1A0QAxH/q4oFTJAI99idfIYMEAD+ob9DqksQOt24WmPgylAWnJrUX62JkD98AdXJjgkQINYmPji/yFA9JRmmgIGIEASt+i4V4ccQOBHhLqLZRlAZDOML8abFkAFhqcmXSAUQBdsf0i26hFAhTnNDFLmD0A++g4eyGUMQOubMFqrRwlABONcfC2BBkAXZI/xrwgEQBwtQ4Gi1QFA7ANcPsvA/z8b8FD+X0T8PxT8XB/uKfk/F2/jErRm9j9mtNSWHvHzP5LolYWnwPE/5EhNlXCb7z8=",
          "dtype": "f8"
         },
         "y": {
          "bdata": "AAAAAAAAAABQxn2s+S0yQNo5fdSBLkFAn/VK5ZpiSEBO3h20P8xOQA4BeBvVQFJAcgje21HLVECHSW20ZA5XQNhM+bjkEVlA/jIFb8plWUBK/1Nro0RXQBifBZfqXlVArvAPEauuU0DE4wi3uS1SQPmaQiRC11BAF3z2f5BGOEAAAAAAAAAAgM39BIzssU/APx19rAIAZcBXpY5mTFJwwNBn0uUISXXA/l2usP6FeMBdUysF5Wd7wKWuLLzI+H3A/+cgKzkhgMDWfZ0OdD2AwI3oemE6HYDAMYayKfLsf8Bs1ZTGw4l/wNwkr6/CMH/AhCriaFPgfsBo+C+AcHN+wPb4lKa2ln7AK4AC4jebfMDHdJ1NNy57wOfctzR+6nnAlTzfi0TKeMBZS+kUQcp3wIDHfHbo5nbAqwJ08LUadsCxlw8bdGd1wGAqYwbAyHTAjX8QCnw8dMCKRIml2LtzwHvodaMgMHPAnGbU9vhlccBNiUupht5vwORICLrheG3ANYWDyUaNa8Dqc08zd9dpwPiwCy/QXmjAgnbhILL0ZsANprcMobJlwIfkpNgujWTAypFAlsSFY8DM0kl725piwGgzYKw+yWHA1eTCk6EOYcCl34ZzjmhgwIDClahwpl/AtAw5RdWaXsDRyQJeGKxdwPDiPUg11lzA48I+Cw47W8BiUZc1g5NZwEWHXvTfGVjA1pgLDanLVsDL42yZnqZVwMTnGcjzpVTAGi2oRzLFU8DKag27WAFTwE+lLfaNUlLA18s2lM62UcCmbSdLYSxRwM5UTpREuVDAvwtR1R53UcDT1bDbo3NSwAoMwSgDQlPAhqoc5tgBVMB6xfomSbBUwPLwF2BHTVXACZXde1/ZVcDmvkppOVZWwIVWf9JsxVbAda/UGXkoV8ChyDdkKYFXwG844tHL0FfAsS7XmuIXWMAYntZtJFdYwFE5AKOUj1jAo/kWvo3BWMBwfIwEuu1YwLjEiqUkFVnAImCv4T84WcDtwRxbgFdZwGfU+5xHc1nALqJZNxSMWcCwAERmKaJZwI/06OrjtVnAqTuOsXDHWcA=",
          "dtype": "f8"
         }
        },
        {
         "mode": "lines",
         "name": "airline_Air_India_Economy",
         "type": "scatter",
         "x": {
          "bdata": "rIboVEcd+ECVt6y3i3f1QIzkXL43HPNAUGE4RCAD8UBZyuhv/0nuQOeQB8+59upAVPxzIOkA6ECm9QnLSl7lQHyzBpK8BeNAu4Kr7Bzv4EB3bTqvXSbeQOV/pHwB19pAoWE1S6zk10ASu7KTJ0XVQBCxCdhb79JA7pkvIDHb0EBMVlHZ5QLOQMYP83put8pAOonqrZDIx0D2NbTuISzFQDdFSXEV2cJAYHMSw1zHwEDy6N28l9+9QIuGDZ4AmLpAlHR/IZast0BusUS5ORO1QH9xzT7pwrJASnDCuZ+zsEDqi8ooc7ytQATOQbq3eKpAyh0Of7yQp0BDZcPQbvqkQMalwiHXrKJAbWDO6PmfoEDKYzvsd5mdQEQ3EaSTWZpAlEHenwN1l0C0RbgSweGUQIaVefvelpJAC1zlNGuMkEA6D47WpXaNQD0+MDCUOopAYyllXWtZh0B909NcMMmEQC0NZ60AgYJAsp3WgvN4gECOY1m3/FN9QFNNhjO5G3pAtnVFkfM9d0BF7O6MvLB0QKHHIxk8a3JAkFyRt5JlcEA4KW1efDFtQKuBLYMC/WlA9ehOFZwiZ0APmwqBZZhkQOlDbCCRVWJA1aYkuEhSYEAI2dGbJA9dQHBvcvRv3llAHzJ+w2QHV0Dn6E8XK4BUQDqbIKX/P1JAOTy/aRU/UEA+Wcg/9exMQF3m01wBwElAJrj8dU3sRkABrg8uDWhEQPNWRImHKkJAoGivsfgrQEBdu8ka7so8QNm2ApK2oTlAOWUgB1bRNkCxYsKjC1A0QAxH/q4oFTJAI99idfIYMEAD+ob9DqksQOt24WmPgylAWnJrUX62JkD98AdXJjgkQINYmPji/yFA9JRmmgIGIEASt+i4V4ccQOBHhLqLZRlAZDOML8abFkAFhqcmXSAUQBdsf0i26hFAhTnNDFLmD0A++g4eyGUMQOubMFqrRwlABONcfC2BBkAXZI/xrwgEQBwtQ4Gi1QFA7ANcPsvA/z8b8FD+X0T8PxT8XB/uKfk/F2/jErRm9j9mtNSWHvHzP5LolYWnwPE/5EhNlXCb7z8=",
          "dtype": "f8"
         },
         "y": {
          "bdata": "AAAAAAAAAAAAAAAAAAAAAAAAAAAAAAAAAAAAAAAAAAAAAAAAAAAAAAAAAAAAAAAAAAAAAAAAAAAAAAAAAAAAAAAAAAAAAAAAAAAAAAAAAAAAAAAAAAAAAAAAAAAAAAAAAAAAAAAAAAAAAAAAAAAAAAAAAAAAAAAAAAAAAAAAAAAAAAAAAAAAAAAAAAAAAAAAAAAAAAAAAIAAAAAAAAAAgAAAAAAAAACAAAAAAAAAAIAAAAAAAAAAgAAAAAAAAACAAAAAAAAAAIAAAAAAAAAAgAAAAAAAAACAAAAAAAAAAIAAAAAAAAAAAAAAAAAAAAAAAAAAAAAAAAAAAAAAAAAAAAAAAAAAAAAAAAAAAAAAAAAAAAAAAAAAAAAAAAAAAAAAAAAAAAAAAAAAAAAAAAAAAAAAAAAAAAAAAAAAAAAAAAAAAAAAAAAAAAAAAAAAAAAAAAAAAAAAAAAAAAAAAAAAAAAAAAAAAAAAAAAAAAAAAAAAAAAAAAAAAAAAAAAAAAAAAAAAAAAAAAAAAAAAAAAAAAAAAAAAAAAAAAAAAAAAAAAAAAAAAAAAAAAAAAAAAAAAAAAAAAAAAAAAAAAAAAAAAAAAAAAAAAAAAAAAAAAAAAAAAAAAAAAAAAAAAAAAAAAAAAAAAAAAAAAAAAAAAAAAAAAAAAAAAAAAAAAAAAAAAAAAAAAAAAAAAAAAAAAAAAAAAAAAAAAAAAAAAAAAAAAAAJ/7fqnm6zdAAAAAAAAAAAAAAAAAAAAAAAAAAAAAAAAAAAAAAAAAAAAAAAAAAAAAAAAAAAAAAAAAIs0AG6oRNUDAx8t1/bhZQIkziO8aj0NAH7J5lGMEGkAAAAAAAAAAAAAAAAAAAAAAAAAAAAAAAAAAAAAAAAAAAAAAAAAAAAAAAAAAAAAAAAAAAAAAAAAAAKsDwrqgjSNAEAnsxm9PN0CPZBfL/tZBQMeoVjICEkZANLmLuChGSEBrht/z1C5KQN65sfhmyktAjbX08CL9TEAkoAnUFZdLQEw0Q0YpHExAJari3suiTUC+PCaNIu5QQB75tAwruVFAR6dayhFuUkA=",
          "dtype": "f8"
         }
        },
        {
         "mode": "lines",
         "name": "airline_GO_FIRST_Economy",
         "type": "scatter",
         "x": {
          "bdata": "rIboVEcd+ECVt6y3i3f1QIzkXL43HPNAUGE4RCAD8UBZyuhv/0nuQOeQB8+59upAVPxzIOkA6ECm9QnLSl7lQHyzBpK8BeNAu4Kr7Bzv4EB3bTqvXSbeQOV/pHwB19pAoWE1S6zk10ASu7KTJ0XVQBCxCdhb79JA7pkvIDHb0EBMVlHZ5QLOQMYP83put8pAOonqrZDIx0D2NbTuISzFQDdFSXEV2cJAYHMSw1zHwEDy6N28l9+9QIuGDZ4AmLpAlHR/IZast0BusUS5ORO1QH9xzT7pwrJASnDCuZ+zsEDqi8ooc7ytQATOQbq3eKpAyh0Of7yQp0BDZcPQbvqkQMalwiHXrKJAbWDO6PmfoEDKYzvsd5mdQEQ3EaSTWZpAlEHenwN1l0C0RbgSweGUQIaVefvelpJAC1zlNGuMkEA6D47WpXaNQD0+MDCUOopAYyllXWtZh0B909NcMMmEQC0NZ60AgYJAsp3WgvN4gECOY1m3/FN9QFNNhjO5G3pAtnVFkfM9d0BF7O6MvLB0QKHHIxk8a3JAkFyRt5JlcEA4KW1efDFtQKuBLYMC/WlA9ehOFZwiZ0APmwqBZZhkQOlDbCCRVWJA1aYkuEhSYEAI2dGbJA9dQHBvcvRv3llAHzJ+w2QHV0Dn6E8XK4BUQDqbIKX/P1JAOTy/aRU/UEA+Wcg/9exMQF3m01wBwElAJrj8dU3sRkABrg8uDWhEQPNWRImHKkJAoGivsfgrQEBdu8ka7so8QNm2ApK2oTlAOWUgB1bRNkCxYsKjC1A0QAxH/q4oFTJAI99idfIYMEAD+ob9DqksQOt24WmPgylAWnJrUX62JkD98AdXJjgkQINYmPji/yFA9JRmmgIGIEASt+i4V4ccQOBHhLqLZRlAZDOML8abFkAFhqcmXSAUQBdsf0i26hFAhTnNDFLmD0A++g4eyGUMQOubMFqrRwlABONcfC2BBkAXZI/xrwgEQBwtQ4Gi1QFA7ANcPsvA/z8b8FD+X0T8PxT8XB/uKfk/F2/jErRm9j9mtNSWHvHzP5LolYWnwPE/5EhNlXCb7z8=",
          "dtype": "f8"
         },
         "y": {
          "bdata": "AAAAAAAAAAAAAAAAAAAAAAAAAAAAAAAAAAAAAAAAAAAAAAAAAAAAAAAAAAAAAAAAAAAAAAAAAAAAAAAAAAAAAAAAAAAAAAAAAAAAAAAAAAAAAAAAAAAAAAAAAAAAAAAAAAAAAAAAAAAAAAAAAAAAAAAAAAAAAAAAAAAAAAAAAAAAAAAAAAAAAAAAAAAAAACAAAAAAAAAAIAAAAAAAAAAgAAAAAAAAACAAAAAAAAAAIAAAAAAAAAAgAAAAAAAAACAAAAAAAAAAIAAAAAAAAAAgAAAAAAAAACAAAAAAAAAAIAAAAAAAAAAgAAAAAAAAACAAAAAAAAAAIAAAAAAAAAAgAAAAAAAAACAAAAAAAAAAIAAAAAAAAAAgAAAAAAAAACAAAAAAAAAAIAAAAAAAAAAgAAAAAAAAACAAAAAAAAAAIAAAAAAAAAAgAAAAAAAAACAAAAAAAAAAIAAAAAAAAAAgAAAAAAAAACAAAAAAAAAAIAAAAAAAAAAgAAAAAAAAACAAAAAAAAAAIAAAAAAAAAAgAAAAAAAAACAAAAAAAAAAIAAAAAAAAAAgAAAAAAAAACAAAAAAAAAAIAAAAAAAAAAgAAAAAAAAACAAAAAAAAAAAAAAAAAAAAAAAAAAAAAAAAAAAAAAAAAAAAAAAAAAAAAAAAAAAAAAAAAAAAAAAAAAAAAAAAAAAAAAAAAAAAAAAAAAAAAAAAAAAAAAAAAAAAAAAAAAAAAAAAAAAAAAAAAAAAAAAAAAAAAAAAAAAAAAAAAAAAAAAAAAAAAAAAAAAAAAAAAAAAAAAAAAAAAAAAAAAAAAAAAAAAAAMWBSn/BpYVAeSleu5qSiUBu6zIBCRqNQDDfidzrGZBAYQpMg896kUBUxuzxxrSSQPn07mEzzJNAeco/GGvDlEDA/2ucUpKVQNAdJjRwSZZAbEHFlfnslkAdntC/o36XQJxMTh9HAJhAmJttHcpzmEDL98ZW1dqYQKgM+WZxNplALZGcDPqHmUCVKobmN9GZQF2tAZPtEppAZ2UfmGBNmkA3bHeIcYGaQMSqkQy5r5pAYywDt+7YmkA=",
          "dtype": "f8"
         }
        },
        {
         "mode": "lines",
         "name": "airline_Indigo_Economy",
         "type": "scatter",
         "x": {
          "bdata": "rIboVEcd+ECVt6y3i3f1QIzkXL43HPNAUGE4RCAD8UBZyuhv/0nuQOeQB8+59upAVPxzIOkA6ECm9QnLSl7lQHyzBpK8BeNAu4Kr7Bzv4EB3bTqvXSbeQOV/pHwB19pAoWE1S6zk10ASu7KTJ0XVQBCxCdhb79JA7pkvIDHb0EBMVlHZ5QLOQMYP83put8pAOonqrZDIx0D2NbTuISzFQDdFSXEV2cJAYHMSw1zHwEDy6N28l9+9QIuGDZ4AmLpAlHR/IZast0BusUS5ORO1QH9xzT7pwrJASnDCuZ+zsEDqi8ooc7ytQATOQbq3eKpAyh0Of7yQp0BDZcPQbvqkQMalwiHXrKJAbWDO6PmfoEDKYzvsd5mdQEQ3EaSTWZpAlEHenwN1l0C0RbgSweGUQIaVefvelpJAC1zlNGuMkEA6D47WpXaNQD0+MDCUOopAYyllXWtZh0B909NcMMmEQC0NZ60AgYJAsp3WgvN4gECOY1m3/FN9QFNNhjO5G3pAtnVFkfM9d0BF7O6MvLB0QKHHIxk8a3JAkFyRt5JlcEA4KW1efDFtQKuBLYMC/WlA9ehOFZwiZ0APmwqBZZhkQOlDbCCRVWJA1aYkuEhSYEAI2dGbJA9dQHBvcvRv3llAHzJ+w2QHV0Dn6E8XK4BUQDqbIKX/P1JAOTy/aRU/UEA+Wcg/9exMQF3m01wBwElAJrj8dU3sRkABrg8uDWhEQPNWRImHKkJAoGivsfgrQEBdu8ka7so8QNm2ApK2oTlAOWUgB1bRNkCxYsKjC1A0QAxH/q4oFTJAI99idfIYMEAD+ob9DqksQOt24WmPgylAWnJrUX62JkD98AdXJjgkQINYmPji/yFA9JRmmgIGIEASt+i4V4ccQOBHhLqLZRlAZDOML8abFkAFhqcmXSAUQBdsf0i26hFAhTnNDFLmD0A++g4eyGUMQOubMFqrRwlABONcfC2BBkAXZI/xrwgEQBwtQ4Gi1QFA7ANcPsvA/z8b8FD+X0T8PxT8XB/uKfk/F2/jErRm9j9mtNSWHvHzP5LolYWnwPE/5EhNlXCb7z8=",
          "dtype": "f8"
         },
         "y": {
          "bdata": "AAAAAAAAAAAAAAAAAAAAAAAAAAAAAAAAAAAAAAAAAAAAAAAAAAAAAAAAAAAAAAAAAAAAAAAAAAAAAAAAAAAAAAAAAAAAAAAAAAAAAAAAAAAAAAAAAAAAAAAAAAAAAAAAAAAAAAAAAAAAAAAAAAAAAAAAAAAAAAAAAAAAAAAAAAAAAAAAAAAAgAAAAAAAAACAAAAAAAAAAIAAAAAAAAAAgAAAAAAAAACAAAAAAAAAAIAAAAAAAAAAgAAAAAAAAACAAAAAAAAAAIAAAAAAAAAAgAAAAAAAAACAAAAAAAAAAIAAAAAAAAAAgAAAAAAAAACAAAAAAAAAAIAAAAAAAAAAgAAAAAAAAACAAAAAAAAAAIAAAAAAAAAAgAAAAAAAAACAAAAAAAAAAIAAAAAAAAAAgAAAAAAAAACAAAAAAAAAAIAAAAAAAAAAgAAAAAAAAACAAAAAAAAAAIAAAAAAAAAAgAAAAAAAAACAAAAAAAAAAIAAAAAAAAAAgAAAAAAAAACAAAAAAAAAAIAAAAAAAAAAgAAAAAAAAACAAAAAAAAAAIAAAAAAAAAAgAAAAAAAAACAAAAAAAAAAIAAAAAAAAAAgAAAAAAAAACAAAAAAAAAAIAAAAAAAAAAgAAAAAAAAACAAAAAAAAAAIAAAAAAAAAAgAAAAAAAAACAAAAAAAAAAIAAAAAAAAAAgAAAAAAAAACAAAAAAAAAAIAAAAAAAAAAgAAAAAAAAACAAAAAAAAAAIAAAAAAAAAAgAAAAAAAAACAAAAAAAAAAAAAAAAAAAAAAAAAAAAAAAAAAAAAAAAAAAAAAAAAAAAAALPysfLhO25AOGidk66Pd0Abq1vP9HN/QMiZVyZ2TINAEc1Wvsx6hkA02xbA1k+JQH4xvmFS1YtAk4c61GsPjkBYbegDieSPQGVRfu5swpBA7t8Wpip9kUAgYqXLaSOSQI0z6xtZt5JALtw2ywA7k0BtYxyII7CTQEC8bV5wGJRAZZpT/Bp1lEB6U7mpRsSUQLr6Ug+DCZVAXRAVohtHlUDdmqqp/H2VQNxmI1O2r5VAvUYWCvvblUA=",
          "dtype": "f8"
         }
        },
        {
         "mode": "lines",
         "name": "airline_SpiceJet_Economy",
         "type": "scatter",
         "x": {
          "bdata": "rIboVEcd+ECVt6y3i3f1QIzkXL43HPNAUGE4RCAD8UBZyuhv/0nuQOeQB8+59upAVPxzIOkA6ECm9QnLSl7lQHyzBpK8BeNAu4Kr7Bzv4EB3bTqvXSbeQOV/pHwB19pAoWE1S6zk10ASu7KTJ0XVQBCxCdhb79JA7pkvIDHb0EBMVlHZ5QLOQMYP83put8pAOonqrZDIx0D2NbTuISzFQDdFSXEV2cJAYHMSw1zHwEDy6N28l9+9QIuGDZ4AmLpAlHR/IZast0BusUS5ORO1QH9xzT7pwrJASnDCuZ+zsEDqi8ooc7ytQATOQbq3eKpAyh0Of7yQp0BDZcPQbvqkQMalwiHXrKJAbWDO6PmfoEDKYzvsd5mdQEQ3EaSTWZpAlEHenwN1l0C0RbgSweGUQIaVefvelpJAC1zlNGuMkEA6D47WpXaNQD0+MDCUOopAYyllXWtZh0B909NcMMmEQC0NZ60AgYJAsp3WgvN4gECOY1m3/FN9QFNNhjO5G3pAtnVFkfM9d0BF7O6MvLB0QKHHIxk8a3JAkFyRt5JlcEA4KW1efDFtQKuBLYMC/WlA9ehOFZwiZ0APmwqBZZhkQOlDbCCRVWJA1aYkuEhSYEAI2dGbJA9dQHBvcvRv3llAHzJ+w2QHV0Dn6E8XK4BUQDqbIKX/P1JAOTy/aRU/UEA+Wcg/9exMQF3m01wBwElAJrj8dU3sRkABrg8uDWhEQPNWRImHKkJAoGivsfgrQEBdu8ka7so8QNm2ApK2oTlAOWUgB1bRNkCxYsKjC1A0QAxH/q4oFTJAI99idfIYMEAD+ob9DqksQOt24WmPgylAWnJrUX62JkD98AdXJjgkQINYmPji/yFA9JRmmgIGIEASt+i4V4ccQOBHhLqLZRlAZDOML8abFkAFhqcmXSAUQBdsf0i26hFAhTnNDFLmD0A++g4eyGUMQOubMFqrRwlABONcfC2BBkAXZI/xrwgEQBwtQ4Gi1QFA7ANcPsvA/z8b8FD+X0T8PxT8XB/uKfk/F2/jErRm9j9mtNSWHvHzP5LolYWnwPE/5EhNlXCb7z8=",
          "dtype": "f8"
         },
         "y": {
          "bdata": "AAAAAAAAAAAAAAAAAAAAAAAAAAAAAAAAAAAAAAAAAAAAAAAAAAAAAAAAAAAAAAAAAAAAAAAAAAAAAAAAAAAAAAAAAAAAAAAAAAAAAAAAAAAAAAAAAAAAAAAAAAAAAAAAAAAAAAAAAAAAAAAAAAAAAAAAAAAAAAAAAAAAAAAAAAAAAAAAAAAAAAAAAAAAAACAAAAAAAAAAIAAAAAAAAAAgAAAAAAAAACAAAAAAAAAAIAAAAAAAAAAgAAAAAAAAACAAAAAAAAAAIAAAAAAAAAAgAAAAAAAAACAAAAAAAAAAIAAAAAAAAAAgAAAAAAAAACAAAAAAAAAAIAAAAAAAAAAgAAAAAAAAACAAAAAAAAAAIAAAAAAAAAAgAAAAAAAAACAAAAAAAAAAIAAAAAAAAAAgAAAAAAAAACAAAAAAAAAAIAAAAAAAAAAgAAAAAAAAACAAAAAAAAAAIAAAAAAAAAAgAAAAAAAAACAAAAAAAAAAIAAAAAAAAAAgAAAAAAAAACAAAAAAAAAAIAAAAAAAAAAgAAAAAAAAACAAAAAAAAAAIAAAAAAAAAAAAAAAAAAAACAAAAAAAAAAIAAAAAAAAAAgAAAAAAAAAAAAAAAAAAAAAAAAAAAAAAAAAAAAAAAAAAAAAAAAAAAAAAAAAAAAAAAAAAAAAAAAAAAAAAAAAAAAAAAAAAAAAAAAAAAAAAAAAAAAAAAAAAAAAAAAAAAAAAAAAAAAAAAAAAAAAAAAAAAAAAAAAAAAAAAAAAAAAAAAAAAAAAAAAAAAAAAAAAAAAAAAAAAAAAAAAAAAAAAAAAAAAAAAAAAAAAAAM+UGYR1HHtAUWSFygJngkAy7ybNLcyGQFzDkFI0vIpABtxfE/M8jkC4hWIcf62QQChhO/KoEJJAGZ9RQs1Kk0ASs85/blCUQHJMvFSVPJVAQWOKxrMRlkBSL+A+j8+WQNlVI2uKeJdAOT3YSfgOmEAdyLUl95SYQAX6bH4wDJlAK+BD6SV2mUCdTL3x99KZQMtg7vabJppA9v9E0BRxmkC1+cUTR7OaQCRdd6Hh7JpA1UuXFysgm0A=",
          "dtype": "f8"
         }
        },
        {
         "mode": "lines",
         "name": "airline_Vistara_Economy",
         "type": "scatter",
         "x": {
          "bdata": "rIboVEcd+ECVt6y3i3f1QIzkXL43HPNAUGE4RCAD8UBZyuhv/0nuQOeQB8+59upAVPxzIOkA6ECm9QnLSl7lQHyzBpK8BeNAu4Kr7Bzv4EB3bTqvXSbeQOV/pHwB19pAoWE1S6zk10ASu7KTJ0XVQBCxCdhb79JA7pkvIDHb0EBMVlHZ5QLOQMYP83put8pAOonqrZDIx0D2NbTuISzFQDdFSXEV2cJAYHMSw1zHwEDy6N28l9+9QIuGDZ4AmLpAlHR/IZast0BusUS5ORO1QH9xzT7pwrJASnDCuZ+zsEDqi8ooc7ytQATOQbq3eKpAyh0Of7yQp0BDZcPQbvqkQMalwiHXrKJAbWDO6PmfoEDKYzvsd5mdQEQ3EaSTWZpAlEHenwN1l0C0RbgSweGUQIaVefvelpJAC1zlNGuMkEA6D47WpXaNQD0+MDCUOopAYyllXWtZh0B909NcMMmEQC0NZ60AgYJAsp3WgvN4gECOY1m3/FN9QFNNhjO5G3pAtnVFkfM9d0BF7O6MvLB0QKHHIxk8a3JAkFyRt5JlcEA4KW1efDFtQKuBLYMC/WlA9ehOFZwiZ0APmwqBZZhkQOlDbCCRVWJA1aYkuEhSYEAI2dGbJA9dQHBvcvRv3llAHzJ+w2QHV0Dn6E8XK4BUQDqbIKX/P1JAOTy/aRU/UEA+Wcg/9exMQF3m01wBwElAJrj8dU3sRkABrg8uDWhEQPNWRImHKkJAoGivsfgrQEBdu8ka7so8QNm2ApK2oTlAOWUgB1bRNkCxYsKjC1A0QAxH/q4oFTJAI99idfIYMEAD+ob9DqksQOt24WmPgylAWnJrUX62JkD98AdXJjgkQINYmPji/yFA9JRmmgIGIEASt+i4V4ccQOBHhLqLZRlAZDOML8abFkAFhqcmXSAUQBdsf0i26hFAhTnNDFLmD0A++g4eyGUMQOubMFqrRwlABONcfC2BBkAXZI/xrwgEQBwtQ4Gi1QFA7ANcPsvA/z8b8FD+X0T8PxT8XB/uKfk/F2/jErRm9j9mtNSWHvHzP5LolYWnwPE/5EhNlXCb7z8=",
          "dtype": "f8"
         },
         "y": {
          "bdata": "AAAAAAAAAAAAAAAAAAAAAAAAAAAAAAAAAAAAAAAAAAAAAAAAAAAAAAAAAAAAAAAAAAAAAAAAAAAAAAAAAAAAAAAAAAAAAAAAAAAAAAAAAAAAAAAAAAAAAAAAAAAAAAAAAAAAAAAAAAAAAAAAAAAAAAAAAAAAAAAAAAAAAAAAAAAAAAAAAAAAAAAAAAAAAAAAAAAAAAAAAAAAAAAAAAAAgAAAAAAAAACAAAAAAAAAAIAAAAAAAAAAgAAAAAAAAACAAAAAAAAAAIAAAAAAAAAAgAAAAAAAAACAAAAAAAAAAIAAAAAAAAAAgAAAAAAAAACAAAAAAAAAAIAAAAAAAAAAgAAAAAAAAACAAAAAAAAAAIAAAAAAAAAAgAAAAAAAAACAAAAAAAAAAIAAAAAAAAAAgAAAAAAAAACAAAAAAAAAAIAAAAAAAAAAgAAAAAAAAACAAAAAAAAAAIAAAAAAAAAAgAAAAAAAAACAAAAAAAAAAIDOzaRl7dqIwBOoCNWHm5jAljseVnzAocB5K7KEB5OmwIzqAve1qqrAgIpRLSfOrcBfhI//py6wwLpccsbQNbHA4O0ZZ0IkssBsrY58PBizwNGmZo2OM7TAc1Ga3pswtcB6mVgvVBG2wCbYU2rI27bA0ouWfV+Rt8BLTYXsAjO4wM1Za7zpwrjAoYmi9KhFucCSxpJON7y5wOtjN26ZJrrARdKHo+yPusAFwYorg/K6wGP1kf8tLLvATkhoOACJu8ALcaqMr767wBB4egJx5bvAgWCY4NMHvMDQ3tMzwSa8wJonoP8ZO7zAfI778DE8vMCnNbcYUv+7wDrS8RToS7zADjBuEuV4vMB/zahPHIq8wG4f7lqLk7zAj/WosPubvMAhuwsUg6O8wB9NE5o4qrzAjdxpFTKwvMDdm4KJ47a8wLvumZsSs7zALlSOw1aqvMDTY2f0NaK8wNiiKUXNnbzAtvUysbScvMDLv7Rxb5q8wPgllY+bmLzAOUrbKGyXvMCDv2iE+5q8wNacu2L1mrzAwKQUR/qYvMB1K1Nj7ZC8wJ3NHeTSjbzAHQoozg6LvMA=",
          "dtype": "f8"
         }
        },
        {
         "mode": "lines",
         "name": "source_city_Chennai_Economy",
         "type": "scatter",
         "x": {
          "bdata": "rIboVEcd+ECVt6y3i3f1QIzkXL43HPNAUGE4RCAD8UBZyuhv/0nuQOeQB8+59upAVPxzIOkA6ECm9QnLSl7lQHyzBpK8BeNAu4Kr7Bzv4EB3bTqvXSbeQOV/pHwB19pAoWE1S6zk10ASu7KTJ0XVQBCxCdhb79JA7pkvIDHb0EBMVlHZ5QLOQMYP83put8pAOonqrZDIx0D2NbTuISzFQDdFSXEV2cJAYHMSw1zHwEDy6N28l9+9QIuGDZ4AmLpAlHR/IZast0BusUS5ORO1QH9xzT7pwrJASnDCuZ+zsEDqi8ooc7ytQATOQbq3eKpAyh0Of7yQp0BDZcPQbvqkQMalwiHXrKJAbWDO6PmfoEDKYzvsd5mdQEQ3EaSTWZpAlEHenwN1l0C0RbgSweGUQIaVefvelpJAC1zlNGuMkEA6D47WpXaNQD0+MDCUOopAYyllXWtZh0B909NcMMmEQC0NZ60AgYJAsp3WgvN4gECOY1m3/FN9QFNNhjO5G3pAtnVFkfM9d0BF7O6MvLB0QKHHIxk8a3JAkFyRt5JlcEA4KW1efDFtQKuBLYMC/WlA9ehOFZwiZ0APmwqBZZhkQOlDbCCRVWJA1aYkuEhSYEAI2dGbJA9dQHBvcvRv3llAHzJ+w2QHV0Dn6E8XK4BUQDqbIKX/P1JAOTy/aRU/UEA+Wcg/9exMQF3m01wBwElAJrj8dU3sRkABrg8uDWhEQPNWRImHKkJAoGivsfgrQEBdu8ka7so8QNm2ApK2oTlAOWUgB1bRNkCxYsKjC1A0QAxH/q4oFTJAI99idfIYMEAD+ob9DqksQOt24WmPgylAWnJrUX62JkD98AdXJjgkQINYmPji/yFA9JRmmgIGIEASt+i4V4ccQOBHhLqLZRlAZDOML8abFkAFhqcmXSAUQBdsf0i26hFAhTnNDFLmD0A++g4eyGUMQOubMFqrRwlABONcfC2BBkAXZI/xrwgEQBwtQ4Gi1QFA7ANcPsvA/z8b8FD+X0T8PxT8XB/uKfk/F2/jErRm9j9mtNSWHvHzP5LolYWnwPE/5EhNlXCb7z8=",
          "dtype": "f8"
         },
         "y": {
          "bdata": "AAAAAAAAAAAAAAAAAAAAAAAAAAAAAAAAAAAAAAAAAAAAAAAAAAAAAAAAAAAAAAAAAAAAAAAAAAAAAAAAAAAAAAAAAAAAAAAAAAAAAAAAAAAAAAAAAAAAAAAAAAAAAAAAAAAAAAAAAAAAAAAAAAAAAAAAAAAAAAAAAAAAAAAAAAAAAAAAAAAAAAAAAAAAAACAAAAAAAAAAIAAAAAAAAAAgAAAAAAAAACAAAAAAAAAAIAAAAAAAAAAgAAAAAAAAACAAAAAAAAAAIAAAAAAAAAAgAAAAAAAAACAAAAAAAAAAIAAAAAAAAAAgAAAAAAAAACAAAAAAAAAAIAAAAAAAAAAgAAAAAAAAACAAAAAAAAAAIAAAAAAAAAAgAAAAAAAAACAAAAAAAAAAIAAAAAAAAAAgAAAAAAAAACAAAAAAAAAAIAAAAAAAAAAgAAAAAAAAACAAAAAAAAAAIAAAAAAAAAAgAAAAAAAAACAAAAAAAAAAIAAAAAAAAAAgAAAAAAAAACAAAAAAAAAAIAAAAAAAAAAgAAAAAAAAACAAAAAAAAAAIAAAAAAAAAAgAAAAAAAAACAAAAAAAAAAIAAAAAAAAAAgAAAAAAAAACAAAAAAAAAAIAAAAAAAAAAgAAAAAAAAACAAAAAAAAAAIAAAAAAAAAAgAAAAAAAAACAAAAAAAAAAIAAAAAAAAAAgAAAAAAAAACAAAAAAAAAAIAAAAAAAAAAgAAAAAAAAACAAAAAAAAAAIAAAAAAAAAAgAAAAAAAAACAAAAAAAAAAIAAAAAAAAAAgAAAAAAAAACAAAAAAAAAAIAAAAAAAAAAgAAAAAAAAACAAAAAAAAAAICcv6R0+3gwwH+7DcZEYljA2Mg5iWI6ZcCBaiA/UEdtwLDTHtlTOXLAisD0cc5gdcAb+J103Op3wIVGvnyUQnrAoEPs6q9kfMAgA1Ed1kp+wC95fZHp+H/Aszyya0m3gMBypYFho1WBwPbrScPh4oHA1tH4ajVegsAoPz4FrqqCwGcMyU1x8YLAnqDPvisyg8BYywVo+G2DwJL9/Dr8n4PAuLDXmHnMg8A=",
          "dtype": "f8"
         }
        },
        {
         "mode": "lines",
         "name": "source_city_Delhi_Economy",
         "type": "scatter",
         "x": {
          "bdata": "rIboVEcd+ECVt6y3i3f1QIzkXL43HPNAUGE4RCAD8UBZyuhv/0nuQOeQB8+59upAVPxzIOkA6ECm9QnLSl7lQHyzBpK8BeNAu4Kr7Bzv4EB3bTqvXSbeQOV/pHwB19pAoWE1S6zk10ASu7KTJ0XVQBCxCdhb79JA7pkvIDHb0EBMVlHZ5QLOQMYP83put8pAOonqrZDIx0D2NbTuISzFQDdFSXEV2cJAYHMSw1zHwEDy6N28l9+9QIuGDZ4AmLpAlHR/IZast0BusUS5ORO1QH9xzT7pwrJASnDCuZ+zsEDqi8ooc7ytQATOQbq3eKpAyh0Of7yQp0BDZcPQbvqkQMalwiHXrKJAbWDO6PmfoEDKYzvsd5mdQEQ3EaSTWZpAlEHenwN1l0C0RbgSweGUQIaVefvelpJAC1zlNGuMkEA6D47WpXaNQD0+MDCUOopAYyllXWtZh0B909NcMMmEQC0NZ60AgYJAsp3WgvN4gECOY1m3/FN9QFNNhjO5G3pAtnVFkfM9d0BF7O6MvLB0QKHHIxk8a3JAkFyRt5JlcEA4KW1efDFtQKuBLYMC/WlA9ehOFZwiZ0APmwqBZZhkQOlDbCCRVWJA1aYkuEhSYEAI2dGbJA9dQHBvcvRv3llAHzJ+w2QHV0Dn6E8XK4BUQDqbIKX/P1JAOTy/aRU/UEA+Wcg/9exMQF3m01wBwElAJrj8dU3sRkABrg8uDWhEQPNWRImHKkJAoGivsfgrQEBdu8ka7so8QNm2ApK2oTlAOWUgB1bRNkCxYsKjC1A0QAxH/q4oFTJAI99idfIYMEAD+ob9DqksQOt24WmPgylAWnJrUX62JkD98AdXJjgkQINYmPji/yFA9JRmmgIGIEASt+i4V4ccQOBHhLqLZRlAZDOML8abFkAFhqcmXSAUQBdsf0i26hFAhTnNDFLmD0A++g4eyGUMQOubMFqrRwlABONcfC2BBkAXZI/xrwgEQBwtQ4Gi1QFA7ANcPsvA/z8b8FD+X0T8PxT8XB/uKfk/F2/jErRm9j9mtNSWHvHzP5LolYWnwPE/5EhNlXCb7z8=",
          "dtype": "f8"
         },
         "y": {
          "bdata": "AAAAAAAAAAAAAAAAAAAAAAAAAAAAAAAAAAAAAAAAAAAAAAAAAAAAAAAAAAAAAAAAAAAAAAAAAAAAAAAAAAAAAAAAAAAAAAAAAAAAAAAAAAAAAAAAAAAAAAAAAAAAAAAAAAAAAAAAAAAAAAAAAAAAAAAAAAAAAAAAAAAAAAAAAAAAAAAAAAAAAAAAAAAAAACAAAAAAAAAAIAAAAAAAAAAgAAAAAAAAACAAAAAAAAAAIAAAAAAAAAAgAAAAAAAAACAAAAAAAAAAIAAAAAAAAAAgAAAAAAAAACAAAAAAAAAAIAAAAAAAAAAgAAAAAAAAACAAAAAAAAAAIAAAAAAAAAAgAAAAAAAAACAAAAAAAAAAIAAAAAAAAAAgAAAAAAAAACAAAAAAAAAAIAAAAAAAAAAgAAAAAAAAACAAAAAAAAAAIAAAAAAAAAAgAAAAAAAAACAAAAAAAAAAIAAAAAAAAAAgAAAAAAAAACAAAAAAAAAAIAAAAAAAAAAgAAAAAAAAACAAAAAAAAAAIAAAAAAAAAAgAAAAAAAAACAAAAAAAAAAIAAAAAAAAAAgAAAAAAAAACAAAAAAAAAAIAAAAAAAAAAgAAAAAAAAACAAAAAAAAAAIAAAAAAAAAAgAAAAAAAAACAAAAAAAAAAIAAAAAAAAAAgAAAAAAAAACAAAAAAAAAAAAAAAAAAAAAAAAAAAAAAAAAAAAAAAAAAAAAAAAAAAAAAAAAAAAAAAAAAAAAAAAAAAAf7hSZjoVbQLrnHNr7u3hAMAVPDddRhEBxvOeoT2SLQNDexsozDpFAcUVrqYD9k0AfkbWWJKeWQM3AIo1JAZlAtbhBRGIYm0DSDs3bqtucQAypM+rw/Z1A1i2bPx0An0BJDsej2eWfQPYJMLwpWaBAauGknuSzoECLfGZV4wKhQGqlA5cKR6FAZZb8yS6CoUCP7UPAzrahQBD51Qrs5aFAZ6k5WUoQokDnZL+RMzaiQD6mWDrmV6JAC82DkzJ2okD64zeiG5WiQF2r8HmCraJABEFfdYHBokCSQ6Qds9KiQK+gxKQ45aJAoRtKnrf1okA=",
          "dtype": "f8"
         }
        },
        {
         "mode": "lines",
         "name": "source_city_Hyderabad_Economy",
         "type": "scatter",
         "x": {
          "bdata": "rIboVEcd+ECVt6y3i3f1QIzkXL43HPNAUGE4RCAD8UBZyuhv/0nuQOeQB8+59upAVPxzIOkA6ECm9QnLSl7lQHyzBpK8BeNAu4Kr7Bzv4EB3bTqvXSbeQOV/pHwB19pAoWE1S6zk10ASu7KTJ0XVQBCxCdhb79JA7pkvIDHb0EBMVlHZ5QLOQMYP83put8pAOonqrZDIx0D2NbTuISzFQDdFSXEV2cJAYHMSw1zHwEDy6N28l9+9QIuGDZ4AmLpAlHR/IZast0BusUS5ORO1QH9xzT7pwrJASnDCuZ+zsEDqi8ooc7ytQATOQbq3eKpAyh0Of7yQp0BDZcPQbvqkQMalwiHXrKJAbWDO6PmfoEDKYzvsd5mdQEQ3EaSTWZpAlEHenwN1l0C0RbgSweGUQIaVefvelpJAC1zlNGuMkEA6D47WpXaNQD0+MDCUOopAYyllXWtZh0B909NcMMmEQC0NZ60AgYJAsp3WgvN4gECOY1m3/FN9QFNNhjO5G3pAtnVFkfM9d0BF7O6MvLB0QKHHIxk8a3JAkFyRt5JlcEA4KW1efDFtQKuBLYMC/WlA9ehOFZwiZ0APmwqBZZhkQOlDbCCRVWJA1aYkuEhSYEAI2dGbJA9dQHBvcvRv3llAHzJ+w2QHV0Dn6E8XK4BUQDqbIKX/P1JAOTy/aRU/UEA+Wcg/9exMQF3m01wBwElAJrj8dU3sRkABrg8uDWhEQPNWRImHKkJAoGivsfgrQEBdu8ka7so8QNm2ApK2oTlAOWUgB1bRNkCxYsKjC1A0QAxH/q4oFTJAI99idfIYMEAD+ob9DqksQOt24WmPgylAWnJrUX62JkD98AdXJjgkQINYmPji/yFA9JRmmgIGIEASt+i4V4ccQOBHhLqLZRlAZDOML8abFkAFhqcmXSAUQBdsf0i26hFAhTnNDFLmD0A++g4eyGUMQOubMFqrRwlABONcfC2BBkAXZI/xrwgEQBwtQ4Gi1QFA7ANcPsvA/z8b8FD+X0T8PxT8XB/uKfk/F2/jErRm9j9mtNSWHvHzP5LolYWnwPE/5EhNlXCb7z8=",
          "dtype": "f8"
         },
         "y": {
          "bdata": "AAAAAAAAAAAAAAAAAAAAAAAAAAAAAAAAAAAAAAAAAAAAAAAAAAAAAAAAAAAAAAAAAAAAAAAAAAAAAAAAAAAAAAAAAAAAAAAAAAAAAAAAAAAAAAAAAAAAAAAAAAAAAAAAAAAAAAAAAAAAAAAAAAAAAAAAAAAAAAAAAAAAAAAAAAAAAAAAAAAAAAAAAAAAAACAAAAAAAAAAIAAAAAAAAAAgAAAAAAAAACAAAAAAAAAAIAAAAAAAAAAgAAAAAAAAACAAAAAAAAAAIAAAAAAAAAAgAAAAAAAAACAAAAAAAAAAIAAAAAAAAAAgAAAAAAAAACAAAAAAAAAAIAAAAAAAAAAgAAAAAAAAACAAAAAAAAAAIAAAAAAAAAAgAAAAAAAAACAAAAAAAAAAIAAAAAAAAAAgAAAAAAAAACAAAAAAAAAAIAAAAAAAAAAgAAAAAAAAACAAAAAAAAAAIAAAAAAAAAAgAAAAAAAAACAAAAAAAAAAIAAAAAAAAAAgAAAAAAAAACAAAAAAAAAAIAAAAAAAAAAgAAAAAAAAACAAAAAAAAAAIAAAAAAAAAAgAAAAAAAAACAAAAAAAAAAIAAAAAAAAAAgAAAAAAAAACAAAAAAAAAAIAAAAAAAAAAgAAAAAAAAACAAAAAAAAAAIAAAAAAAAAAgAAAAAAAAAAAAAAAAAAAAAAAAAAAAAAAAAAAAAAAAAAAAAAAAAAAAAAAAAAAAAAAAAAAAAAAAAAAlue7GYpzaEBlHhpN3Mp8QFavGgbe/YdAxfqfWOhEkEDtGvw5ARGUQFqVKZEFWZdALdQPuTs+mkAN2qK/PM2cQKIW3FBIPJ9AnzHpwnK2oEDfdWZmoKKhQEbop9ttO6JArUpI3HnDokBM0tuQmDyjQJ7jHyRsqKNAXdbnJucJpEDHz5tkr2ekQCcGWCyjt6RAwAjAw4z8pEC/6xnlzjmlQPqvpPo+cKVAKXHXvMmipUBKSUfdENWlQAJUWVXVAaZAfgfEKfoppkAS+1MTalGmQIfJizzzcaZAqP2iRVSNpkA7xePqyKWmQGCmzV9OvqZAw5iqmiPUpkA=",
          "dtype": "f8"
         }
        },
        {
         "mode": "lines",
         "name": "source_city_Kolkata_Economy",
         "type": "scatter",
         "x": {
          "bdata": "rIboVEcd+ECVt6y3i3f1QIzkXL43HPNAUGE4RCAD8UBZyuhv/0nuQOeQB8+59upAVPxzIOkA6ECm9QnLSl7lQHyzBpK8BeNAu4Kr7Bzv4EB3bTqvXSbeQOV/pHwB19pAoWE1S6zk10ASu7KTJ0XVQBCxCdhb79JA7pkvIDHb0EBMVlHZ5QLOQMYP83put8pAOonqrZDIx0D2NbTuISzFQDdFSXEV2cJAYHMSw1zHwEDy6N28l9+9QIuGDZ4AmLpAlHR/IZast0BusUS5ORO1QH9xzT7pwrJASnDCuZ+zsEDqi8ooc7ytQATOQbq3eKpAyh0Of7yQp0BDZcPQbvqkQMalwiHXrKJAbWDO6PmfoEDKYzvsd5mdQEQ3EaSTWZpAlEHenwN1l0C0RbgSweGUQIaVefvelpJAC1zlNGuMkEA6D47WpXaNQD0+MDCUOopAYyllXWtZh0B909NcMMmEQC0NZ60AgYJAsp3WgvN4gECOY1m3/FN9QFNNhjO5G3pAtnVFkfM9d0BF7O6MvLB0QKHHIxk8a3JAkFyRt5JlcEA4KW1efDFtQKuBLYMC/WlA9ehOFZwiZ0APmwqBZZhkQOlDbCCRVWJA1aYkuEhSYEAI2dGbJA9dQHBvcvRv3llAHzJ+w2QHV0Dn6E8XK4BUQDqbIKX/P1JAOTy/aRU/UEA+Wcg/9exMQF3m01wBwElAJrj8dU3sRkABrg8uDWhEQPNWRImHKkJAoGivsfgrQEBdu8ka7so8QNm2ApK2oTlAOWUgB1bRNkCxYsKjC1A0QAxH/q4oFTJAI99idfIYMEAD+ob9DqksQOt24WmPgylAWnJrUX62JkD98AdXJjgkQINYmPji/yFA9JRmmgIGIEASt+i4V4ccQOBHhLqLZRlAZDOML8abFkAFhqcmXSAUQBdsf0i26hFAhTnNDFLmD0A++g4eyGUMQOubMFqrRwlABONcfC2BBkAXZI/xrwgEQBwtQ4Gi1QFA7ANcPsvA/z8b8FD+X0T8PxT8XB/uKfk/F2/jErRm9j9mtNSWHvHzP5LolYWnwPE/5EhNlXCb7z8=",
          "dtype": "f8"
         },
         "y": {
          "bdata": "AAAAAAAAAAAAAAAAAAAAAAAAAAAAAAAAAAAAAAAAAAAAAAAAAAAAAAAAAAAAAAAAAAAAAAAAAAAAAAAAAAAAAAAAAAAAAAAAAAAAAAAAAAAAAAAAAAAAAAAAAAAAAAAAAAAAAAAAAAAAAAAAAAAAAAAAAAAAAAAAAAAAAAAAAAAAAAAAAAAAAAAAAAAAAAAAAAAAAAAAAAAAAAAAAAAAgAAAAAAAAACAAAAAAAAAAIAAAAAAAAAAgAAAAAAAAACAAAAAAAAAAIAAAAAAAAAAgAAAAAAAAACAAAAAAAAAAIAAAAAAAAAAgAAAAAAAAACAAAAAAAAAAIAAAAAAAAAAgAAAAAAAAACAAAAAAAAAAIAAAAAAAAAAgAAAAAAAAACAAAAAAAAAAIAAAAAAAAAAgAAAAAAAAACAAAAAAAAAAIAAAAAAAAAAgAAAAAAAAAAAAAAAAAAAAAAAAAAAAAAAAAAAAAAAAAAAAAAAAAAAAAAAAAAAAAAAAAAAAAAAAAAAAAAAAAAAAAAAAAAAAAAAAAAAAAAAAAAAAAAAAAAAAAAAAAAAAAAAAAAAAAAAAAAAAAAAAAAAAAAAAAAAAAAAAAAAAAAAAACAAAAAAAAAAIAAAAAAAAAAgAAAAAAAAACAAAAAAAAAAIAAAAAAAAAAgAAAAAAAAACAAAAAAAAAAIAAAAAAAAAAgHi7VoKOk2PAxfdFrKYGgcChPCHS2yaNwIPAAfeWaJTAJK3YSajzmMAFYZ96bS2cwCcMXsMh7J3AppCRB0R5n8BdqlztAW6gwOSqJYRa86DAaSIrg+RfocAN7yW6t8WhwJAl6hdQIaLA3R8ALep2osDUqKCrZ8+iwBsysnc7WKPAAQRD+VnSo8DIRZwGMT+kwO9aMIwioKTAtHCdubP1pMCC9cYVOj6lwEPfzJ8ugaXAir7MVHS9pcCoRKUZEfOlwIMln+sZI6bAn7wofalMpsB4vavD+m2mwMabUj66i6bAiPMYO96lpsDhtp0jRbimwEycjM5Dy6bAdvhM/b3dpsCJQ++jjO2mwFdV84m4+KbAlP1BNagCp8A=",
          "dtype": "f8"
         }
        },
        {
         "mode": "lines",
         "name": "source_city_Mumbai_Economy",
         "type": "scatter",
         "x": {
          "bdata": "rIboVEcd+ECVt6y3i3f1QIzkXL43HPNAUGE4RCAD8UBZyuhv/0nuQOeQB8+59upAVPxzIOkA6ECm9QnLSl7lQHyzBpK8BeNAu4Kr7Bzv4EB3bTqvXSbeQOV/pHwB19pAoWE1S6zk10ASu7KTJ0XVQBCxCdhb79JA7pkvIDHb0EBMVlHZ5QLOQMYP83put8pAOonqrZDIx0D2NbTuISzFQDdFSXEV2cJAYHMSw1zHwEDy6N28l9+9QIuGDZ4AmLpAlHR/IZast0BusUS5ORO1QH9xzT7pwrJASnDCuZ+zsEDqi8ooc7ytQATOQbq3eKpAyh0Of7yQp0BDZcPQbvqkQMalwiHXrKJAbWDO6PmfoEDKYzvsd5mdQEQ3EaSTWZpAlEHenwN1l0C0RbgSweGUQIaVefvelpJAC1zlNGuMkEA6D47WpXaNQD0+MDCUOopAYyllXWtZh0B909NcMMmEQC0NZ60AgYJAsp3WgvN4gECOY1m3/FN9QFNNhjO5G3pAtnVFkfM9d0BF7O6MvLB0QKHHIxk8a3JAkFyRt5JlcEA4KW1efDFtQKuBLYMC/WlA9ehOFZwiZ0APmwqBZZhkQOlDbCCRVWJA1aYkuEhSYEAI2dGbJA9dQHBvcvRv3llAHzJ+w2QHV0Dn6E8XK4BUQDqbIKX/P1JAOTy/aRU/UEA+Wcg/9exMQF3m01wBwElAJrj8dU3sRkABrg8uDWhEQPNWRImHKkJAoGivsfgrQEBdu8ka7so8QNm2ApK2oTlAOWUgB1bRNkCxYsKjC1A0QAxH/q4oFTJAI99idfIYMEAD+ob9DqksQOt24WmPgylAWnJrUX62JkD98AdXJjgkQINYmPji/yFA9JRmmgIGIEASt+i4V4ccQOBHhLqLZRlAZDOML8abFkAFhqcmXSAUQBdsf0i26hFAhTnNDFLmD0A++g4eyGUMQOubMFqrRwlABONcfC2BBkAXZI/xrwgEQBwtQ4Gi1QFA7ANcPsvA/z8b8FD+X0T8PxT8XB/uKfk/F2/jErRm9j9mtNSWHvHzP5LolYWnwPE/5EhNlXCb7z8=",
          "dtype": "f8"
         },
         "y": {
          "bdata": "AAAAAAAAAAAAAAAAAAAAAAAAAAAAAAAAAAAAAAAAAAAAAAAAAAAAAAAAAAAAAAAAAAAAAAAAAAAAAAAAAAAAAAAAAAAAAAAAAAAAAAAAAAAAAAAAAAAAAAAAAAAAAAAAAAAAAAAAAAAAAAAAAAAAAAAAAAAAAAAAAAAAAAAAAAAAAAAAAAAAAAAAAAAAAACAAAAAAAAAAIAAAAAAAAAAgAAAAAAAAACAAAAAAAAAAIAAAAAAAAAAgAAAAAAAAACAAAAAAAAAAIAAAAAAAAAAgAAAAAAAAACAAAAAAAAAAIAAAAAAAAAAgAAAAAAAAACAAAAAAAAAAIAAAAAAAAAAgAAAAAAAAACAAAAAAAAAAIAAAAAAAAAAgAAAAAAAAACAAAAAAAAAAIAAAAAAAAAAgAAAAAAAAACAAAAAAAAAAIAAAAAAAAAAgAAAAAAAAACAAAAAAAAAAIAAAAAAAAAAgAAAAAAAAACAAAAAAAAAAIAAAAAAAAAAgAAAAAAAAACAAAAAAAAAAIAAAAAAAAAAgAAAAAAAAACAAAAAAAAAAIAAAAAAAAAAgAAAAAAAAACAAAAAAAAAAIAAAAAAAAAAgAAAAAAAAACAAAAAAAAAAIAAAAAAAAAAgAAAAAAAAACAAAAAAAAAAIAAAAAAAAAAgAAAAAAAAACAAAAAAAAAAIAAAAAAAAAAgAAAAAAAAACAAAAAAAAAAIB8uEb+4jRnwO6Fu9o+ZX3AP9BEOrV4hcCGKthFIuWJwCl9QYeGjovAZzW9/OQHjcA1p9+meVqOwJX4XOHYbY/AilbKsEoEkMCk0v+Ca0KQwOXqTSM/W5DAerjYUX5rkMDW8jGo9JaQwMDzFmZRLZHAadeAIRqzkcBLwOwAKyqSwGyyYlAmlJLA8rTLEMLxksDUC/+avUGTwN3BFxsSjJPAbfWc9OnUk8BQzvB8BRaUwHUm8Vi9T5TALllLnEGClMDiYt/Wya2UwL9PmemL1JTAlIfbJnP2lMDlBaEFTg2VwKILWddmJJXAuRis30c6lcCjCsDnPk6VwKv7Am9lXZXAUAFOwN9qlcA=",
          "dtype": "f8"
         }
        },
        {
         "mode": "lines",
         "name": "departure_time_Early_Morning_Economy",
         "type": "scatter",
         "x": {
          "bdata": "rIboVEcd+ECVt6y3i3f1QIzkXL43HPNAUGE4RCAD8UBZyuhv/0nuQOeQB8+59upAVPxzIOkA6ECm9QnLSl7lQHyzBpK8BeNAu4Kr7Bzv4EB3bTqvXSbeQOV/pHwB19pAoWE1S6zk10ASu7KTJ0XVQBCxCdhb79JA7pkvIDHb0EBMVlHZ5QLOQMYP83put8pAOonqrZDIx0D2NbTuISzFQDdFSXEV2cJAYHMSw1zHwEDy6N28l9+9QIuGDZ4AmLpAlHR/IZast0BusUS5ORO1QH9xzT7pwrJASnDCuZ+zsEDqi8ooc7ytQATOQbq3eKpAyh0Of7yQp0BDZcPQbvqkQMalwiHXrKJAbWDO6PmfoEDKYzvsd5mdQEQ3EaSTWZpAlEHenwN1l0C0RbgSweGUQIaVefvelpJAC1zlNGuMkEA6D47WpXaNQD0+MDCUOopAYyllXWtZh0B909NcMMmEQC0NZ60AgYJAsp3WgvN4gECOY1m3/FN9QFNNhjO5G3pAtnVFkfM9d0BF7O6MvLB0QKHHIxk8a3JAkFyRt5JlcEA4KW1efDFtQKuBLYMC/WlA9ehOFZwiZ0APmwqBZZhkQOlDbCCRVWJA1aYkuEhSYEAI2dGbJA9dQHBvcvRv3llAHzJ+w2QHV0Dn6E8XK4BUQDqbIKX/P1JAOTy/aRU/UEA+Wcg/9exMQF3m01wBwElAJrj8dU3sRkABrg8uDWhEQPNWRImHKkJAoGivsfgrQEBdu8ka7so8QNm2ApK2oTlAOWUgB1bRNkCxYsKjC1A0QAxH/q4oFTJAI99idfIYMEAD+ob9DqksQOt24WmPgylAWnJrUX62JkD98AdXJjgkQINYmPji/yFA9JRmmgIGIEASt+i4V4ccQOBHhLqLZRlAZDOML8abFkAFhqcmXSAUQBdsf0i26hFAhTnNDFLmD0A++g4eyGUMQOubMFqrRwlABONcfC2BBkAXZI/xrwgEQBwtQ4Gi1QFA7ANcPsvA/z8b8FD+X0T8PxT8XB/uKfk/F2/jErRm9j9mtNSWHvHzP5LolYWnwPE/5EhNlXCb7z8=",
          "dtype": "f8"
         },
         "y": {
          "bdata": "AAAAAAAAAAAAAAAAAAAAAAAAAAAAAAAAAAAAAAAAAAAAAAAAAAAAAAAAAAAAAAAAAAAAAAAAAAAAAAAAAAAAAAAAAAAAAAAAAAAAAAAAAAAAAAAAAAAAAAAAAAAAAAAAAAAAAAAAAAAAAAAAAAAAAAAAAAAAAAAAAAAAAAAAAAAAAAAAAAAAAAAAAAAAAACAAAAAAAAAAIAAAAAAAAAAgAAAAAAAAACAAAAAAAAAAIAAAAAAAAAAgAAAAAAAAACAAAAAAAAAAIAAAAAAAAAAgAAAAAAAAACAAAAAAAAAAIAAAAAAAAAAgAAAAAAAAACAAAAAAAAAAIAAAAAAAAAAgAAAAAAAAACAAAAAAAAAAIAAAAAAAAAAgAAAAAAAAACAAAAAAAAAAIAAAAAAAAAAgAAAAAAAAACAAAAAAAAAAIAAAAAAAAAAgAAAAAAAAACAAAAAAAAAAIAAAAAAAAAAgAAAAAAAAACAAAAAAAAAAIAAAAAAAAAAgAAAAAAAAACAAAAAAAAAAIAAAAAAAAAAgAAAAAAAAACAAAAAAAAAAIAAAAAAAAAAgAAAAAAAAACAAAAAAAAAAIAAAAAAAAAAgAAAAAAAAACAAAAAAAAAAIAAAAAAAAAAgAAAAAAAAAAAAAAAAAAAAAAAAAAAAAAAAAAAAAAAAAAAAAAAAAAAAAAAAAAAAAAAAAAAAAAAAAAAAAAAAAAAAAAAAAAAAAAAAAAAAAAAAAAAAAAAAAAAAAAAAAAAAAAAAAAAAAAAAAAAAAAAAAAAAAAAAAAAAAAAAAAAAAAAAAAAAAAAAAAAAAAAAAAAAAAAAAAAAAAAAAAAeYyQK26p+T+fVKmy/Ts4QIaCUs4G1UVABgJtatd2TkDdotn1KxJTQMsgvFqufFZAAVWHsoo9WUBhiiCd0ZZZQHyZSkjkcFlA46P8VSqmV0CBCKp8lv5VQNL8aL16hFRA0Gn3tac2U0BH6emdEBFSQNpYBsM2CVFAHw1WMRUdUEDQocFs7NdOQM5jT4RxkUZA9b0bFU1QNUAAAAAAAAAAAAAAAAAAAAAAAAAAAAAAAAA=",
          "dtype": "f8"
         }
        },
        {
         "mode": "lines",
         "name": "departure_time_Evening_Economy",
         "type": "scatter",
         "x": {
          "bdata": "rIboVEcd+ECVt6y3i3f1QIzkXL43HPNAUGE4RCAD8UBZyuhv/0nuQOeQB8+59upAVPxzIOkA6ECm9QnLSl7lQHyzBpK8BeNAu4Kr7Bzv4EB3bTqvXSbeQOV/pHwB19pAoWE1S6zk10ASu7KTJ0XVQBCxCdhb79JA7pkvIDHb0EBMVlHZ5QLOQMYP83put8pAOonqrZDIx0D2NbTuISzFQDdFSXEV2cJAYHMSw1zHwEDy6N28l9+9QIuGDZ4AmLpAlHR/IZast0BusUS5ORO1QH9xzT7pwrJASnDCuZ+zsEDqi8ooc7ytQATOQbq3eKpAyh0Of7yQp0BDZcPQbvqkQMalwiHXrKJAbWDO6PmfoEDKYzvsd5mdQEQ3EaSTWZpAlEHenwN1l0C0RbgSweGUQIaVefvelpJAC1zlNGuMkEA6D47WpXaNQD0+MDCUOopAYyllXWtZh0B909NcMMmEQC0NZ60AgYJAsp3WgvN4gECOY1m3/FN9QFNNhjO5G3pAtnVFkfM9d0BF7O6MvLB0QKHHIxk8a3JAkFyRt5JlcEA4KW1efDFtQKuBLYMC/WlA9ehOFZwiZ0APmwqBZZhkQOlDbCCRVWJA1aYkuEhSYEAI2dGbJA9dQHBvcvRv3llAHzJ+w2QHV0Dn6E8XK4BUQDqbIKX/P1JAOTy/aRU/UEA+Wcg/9exMQF3m01wBwElAJrj8dU3sRkABrg8uDWhEQPNWRImHKkJAoGivsfgrQEBdu8ka7so8QNm2ApK2oTlAOWUgB1bRNkCxYsKjC1A0QAxH/q4oFTJAI99idfIYMEAD+ob9DqksQOt24WmPgylAWnJrUX62JkD98AdXJjgkQINYmPji/yFA9JRmmgIGIEASt+i4V4ccQOBHhLqLZRlAZDOML8abFkAFhqcmXSAUQBdsf0i26hFAhTnNDFLmD0A++g4eyGUMQOubMFqrRwlABONcfC2BBkAXZI/xrwgEQBwtQ4Gi1QFA7ANcPsvA/z8b8FD+X0T8PxT8XB/uKfk/F2/jErRm9j9mtNSWHvHzP5LolYWnwPE/5EhNlXCb7z8=",
          "dtype": "f8"
         },
         "y": {
          "bdata": "AAAAAAAAAAAAAAAAAAAAAAAAAAAAAAAAAAAAAAAAAAAAAAAAAAAAAAAAAAAAAAAAAAAAAAAAAAAAAAAAAAAAAAAAAAAAAAAAAAAAAAAAAAAAAAAAAAAAAAAAAAAAAAAAAAAAAAAAAAAAAAAAAAAAAAAAAAAAAAAAAAAAAAAAAAAAAAAAAAAAAAAAAAAAAACAAAAAAAAAAIAAAAAAAAAAgAAAAAAAAACAAAAAAAAAAIAAAAAAAAAAgAAAAAAAAACAAAAAAAAAAIAAAAAAAAAAgAAAAAAAAACAAAAAAAAAAIAAAAAAAAAAgAAAAAAAAACAAAAAAAAAAIAAAAAAAAAAgAAAAAAAAACAAAAAAAAAAIAAAAAAAAAAgAAAAAAAAACAAAAAAAAAAIAAAAAAAAAAgAAAAAAAAACAAAAAAAAAAIAAAAAAAAAAgAAAAAAAAACAAAAAAAAAAIAAAAAAAAAAgAAAAAAAAACAAAAAAAAAAIAAAAAAAAAAgAAAAAAAAACAAAAAAAAAAIAAAAAAAAAAgAAAAAAAAACAAAAAAAAAAIAAAAAAAAAAgAAAAAAAAACAAAAAAAAAAIAAAAAAAAAAgAAAAAAAAACAAAAAAAAAAIAAAAAAAAAAgAAAAAAAAACAAAAAAAAAAIAAAAAAAAAAgAAAAAAAAACAAAAAAAAAAIAAAAAAAAAAgAAAAAAAAACAAAAAAAAAAIAAAAAAAAAAgAAAAAAAAACAAAAAAAAAAIBnT2W9IyBkwE5dyM2XPnTAbteZcRZOfcBL0QcBqLWCwLehgTr8YobA3v0CJYSXicBrB10RCGmMwAjoSBl6Ho/A0APqpdK9kMAafx805b+RwGV1FdNlt5LA04rMHFGTk8AMSnlR7FaUwJLajUb8BJXAU4etb1WolcCnulL3Uk2WwECQQ72CxJbA3b19dxRYl8COQKJxId2XwH2BolzeVZjAvgeBBWPXmMC1Yl5ztHiZwDO4fExwCJrAiquggGuImsD6Q3MV9feawOijR7GifJvAODJPEVoJnMCrRA2aIIGcwBSZ9T8yvpzAvo9rcY/0nMA=",
          "dtype": "f8"
         }
        },
        {
         "mode": "lines",
         "name": "departure_time_Late_Night_Economy",
         "type": "scatter",
         "x": {
          "bdata": "rIboVEcd+ECVt6y3i3f1QIzkXL43HPNAUGE4RCAD8UBZyuhv/0nuQOeQB8+59upAVPxzIOkA6ECm9QnLSl7lQHyzBpK8BeNAu4Kr7Bzv4EB3bTqvXSbeQOV/pHwB19pAoWE1S6zk10ASu7KTJ0XVQBCxCdhb79JA7pkvIDHb0EBMVlHZ5QLOQMYP83put8pAOonqrZDIx0D2NbTuISzFQDdFSXEV2cJAYHMSw1zHwEDy6N28l9+9QIuGDZ4AmLpAlHR/IZast0BusUS5ORO1QH9xzT7pwrJASnDCuZ+zsEDqi8ooc7ytQATOQbq3eKpAyh0Of7yQp0BDZcPQbvqkQMalwiHXrKJAbWDO6PmfoEDKYzvsd5mdQEQ3EaSTWZpAlEHenwN1l0C0RbgSweGUQIaVefvelpJAC1zlNGuMkEA6D47WpXaNQD0+MDCUOopAYyllXWtZh0B909NcMMmEQC0NZ60AgYJAsp3WgvN4gECOY1m3/FN9QFNNhjO5G3pAtnVFkfM9d0BF7O6MvLB0QKHHIxk8a3JAkFyRt5JlcEA4KW1efDFtQKuBLYMC/WlA9ehOFZwiZ0APmwqBZZhkQOlDbCCRVWJA1aYkuEhSYEAI2dGbJA9dQHBvcvRv3llAHzJ+w2QHV0Dn6E8XK4BUQDqbIKX/P1JAOTy/aRU/UEA+Wcg/9exMQF3m01wBwElAJrj8dU3sRkABrg8uDWhEQPNWRImHKkJAoGivsfgrQEBdu8ka7so8QNm2ApK2oTlAOWUgB1bRNkCxYsKjC1A0QAxH/q4oFTJAI99idfIYMEAD+ob9DqksQOt24WmPgylAWnJrUX62JkD98AdXJjgkQINYmPji/yFA9JRmmgIGIEASt+i4V4ccQOBHhLqLZRlAZDOML8abFkAFhqcmXSAUQBdsf0i26hFAhTnNDFLmD0A++g4eyGUMQOubMFqrRwlABONcfC2BBkAXZI/xrwgEQBwtQ4Gi1QFA7ANcPsvA/z8b8FD+X0T8PxT8XB/uKfk/F2/jErRm9j9mtNSWHvHzP5LolYWnwPE/5EhNlXCb7z8=",
          "dtype": "f8"
         },
         "y": {
          "bdata": "AAAAAAAAAAAAAAAAAAAAAAAAAAAAAAAAAAAAAAAAAAAAAAAAAAAAAAAAAAAAAAAAAAAAAAAAAAAAAAAAAAAAAAAAAAAAAAAAAAAAAAAAAAAAAAAAAAAAAAAAAAAAAAAAAAAAAAAAAAAAAAAAAAAAAAAAAAAAAAAAAAAAAAAAAAAAAAAAAAAAgAAAAAAAAACAAAAAAAAAAIAAAAAAAAAAgAAAAAAAAACAAAAAAAAAAIAAAAAAAAAAgAAAAAAAAACAAAAAAAAAAIAAAAAAAAAAgAAAAAAAAACAAAAAAAAAAIAAAAAAAAAAgAAAAAAAAACAAAAAAAAAAIAAAAAAAAAAgAAAAAAAAACAAAAAAAAAAIAAAAAAAAAAgAAAAAAAAACAAAAAAAAAAIAAAAAAAAAAgAAAAAAAAACAAAAAAAAAAIAAAAAAAAAAgAAAAAAAAACAAAAAAAAAAIAAAAAAAAAAgAAAAAAAAACAAAAAAAAAAIAAAAAAAAAAgAAAAAAAAACAAAAAAAAAAIAAAAAAAAAAgAAAAAAAAACAAAAAAAAAAIAAAAAAAAAAgAAAAAAAAACAAAAAAAAAAIAAAAAAAAAAgAAAAAAAAACAAAAAAAAAAIAAAAAAAAAAgAAAAAAAAACAAAAAAAAAAAAAAAAAAAAAAAAAAAAAAAAAAAAAAAAAAAAAAAAAAAAAAAAAAAAAAAAAAAAAAAAAAAAAAAAAAAAAAAAAAAAAAAAAAAAAAAAAAAAAAAAAAAAAAAAAAAAAAAAAAAAAAAAAAAAAAAAAAAAAAAAAAAAAAAAAAAAAAAAAAAAAAAAAAAAAAAAAAAAAAAAAAAAAAAAAAAAAAAAAAAAAAAAAAAAAAAAAAAAAAAAAAAAAAAAAAAAAAAAAAAAAAAAAAAAAAAAAAAAAAAAAAAAAAAAAAAAAAAAAAAAAAAAAAAAAAAAAAAAAAAAAAAAAAAAAAAAAAAAAAAAAAAAAAAAAAAAAAAAAAAAAAAAAAAAAAAAAAAAAAAAAAAAAAAAAAAAAAAAAAAAAAAAAAAAAAAAAAAAAAAAAAAAAAAAAAAAAAAA=",
          "dtype": "f8"
         }
        },
        {
         "mode": "lines",
         "name": "departure_time_Morning_Economy",
         "type": "scatter",
         "x": {
          "bdata": "rIboVEcd+ECVt6y3i3f1QIzkXL43HPNAUGE4RCAD8UBZyuhv/0nuQOeQB8+59upAVPxzIOkA6ECm9QnLSl7lQHyzBpK8BeNAu4Kr7Bzv4EB3bTqvXSbeQOV/pHwB19pAoWE1S6zk10ASu7KTJ0XVQBCxCdhb79JA7pkvIDHb0EBMVlHZ5QLOQMYP83put8pAOonqrZDIx0D2NbTuISzFQDdFSXEV2cJAYHMSw1zHwEDy6N28l9+9QIuGDZ4AmLpAlHR/IZast0BusUS5ORO1QH9xzT7pwrJASnDCuZ+zsEDqi8ooc7ytQATOQbq3eKpAyh0Of7yQp0BDZcPQbvqkQMalwiHXrKJAbWDO6PmfoEDKYzvsd5mdQEQ3EaSTWZpAlEHenwN1l0C0RbgSweGUQIaVefvelpJAC1zlNGuMkEA6D47WpXaNQD0+MDCUOopAYyllXWtZh0B909NcMMmEQC0NZ60AgYJAsp3WgvN4gECOY1m3/FN9QFNNhjO5G3pAtnVFkfM9d0BF7O6MvLB0QKHHIxk8a3JAkFyRt5JlcEA4KW1efDFtQKuBLYMC/WlA9ehOFZwiZ0APmwqBZZhkQOlDbCCRVWJA1aYkuEhSYEAI2dGbJA9dQHBvcvRv3llAHzJ+w2QHV0Dn6E8XK4BUQDqbIKX/P1JAOTy/aRU/UEA+Wcg/9exMQF3m01wBwElAJrj8dU3sRkABrg8uDWhEQPNWRImHKkJAoGivsfgrQEBdu8ka7so8QNm2ApK2oTlAOWUgB1bRNkCxYsKjC1A0QAxH/q4oFTJAI99idfIYMEAD+ob9DqksQOt24WmPgylAWnJrUX62JkD98AdXJjgkQINYmPji/yFA9JRmmgIGIEASt+i4V4ccQOBHhLqLZRlAZDOML8abFkAFhqcmXSAUQBdsf0i26hFAhTnNDFLmD0A++g4eyGUMQOubMFqrRwlABONcfC2BBkAXZI/xrwgEQBwtQ4Gi1QFA7ANcPsvA/z8b8FD+X0T8PxT8XB/uKfk/F2/jErRm9j9mtNSWHvHzP5LolYWnwPE/5EhNlXCb7z8=",
          "dtype": "f8"
         },
         "y": {
          "bdata": "AAAAAAAAAAAAAAAAAAAAAAAAAAAAAAAAAAAAAAAAAAAAAAAAAAAAAAAAAAAAAAAAAAAAAAAAAAAAAAAAAAAAAAAAAAAAAAAAAAAAAAAAAAAAAAAAAAAAAAAAAAAAAAAAAAAAAAAAAAAAAAAAAAAAAAAAAAAAAAAAAAAAAAAAAAAAAAAAAAAAAAAAAAAAAAAAAAAAAAAAAIAAAAAAAAAAgAAAAAAAAACAAAAAAAAAAIAAAAAAAAAAgAAAAAAAAACAAAAAAAAAAIAAAAAAAAAAgAAAAAAAAACAAAAAAAAAAIAAAAAAAAAAgAAAAAAAAACAAAAAAAAAAIAAAAAAAAAAgAAAAAAAAACAAAAAAAAAAIAAAAAAAAAAgAAAAAAAAACAAAAAAAAAAIAAAAAAAAAAgAAAAAAAAACAAAAAAAAAAIAAAAAAAAAAgAAAAAAAAACAAAAAAAAAAIAAAAAAAAAAgAAAAAAAAACAAAAAAAAAAIAAAAAAAAAAgAAAAAAAAACAAAAAAAAAAIAAAAAAAAAAgAAAAAAAAACAAAAAAAAAAIAAAAAAAAAAgAAAAAAAAAAAAAAAAAAAAAAAAAAAAAAAAAAAAAAAAAAAAAAAAAAAAAAAAAAAAAAAAAAAAAAAAAAAAAAAAAAAAAAAAAAAAAAAAAAAAAAAAAAAAAAAAAAAAAAAAAAAAAAAAAAAAAAAAAAAAAAAAAAAAAAAAAAAAAAAAAAAAAAAAAAAAAAAAAAAAAAAAAAAAAAAAAAAAAAAAAAAAAAAAAAAAAAAAAAAAAAAAAAAAAAAAAAAAAAAAAAAAIAAAAAAAAAAgAAAAAAAAACAAAAAAAAAAIAAAAAAAAAAgAAAAAAAAACAAAAAAAAAAIAAAAAAAAAAgAAAAAAAAACAAAAAAAAAAIAAAAAAAAAAgAAAAAAAAACASu/1/UzyOcCpqw+sRAZJwB6+k76x1FHAbJO+rUqBV8AUNpj2V+xewIUcwMtHxWLAJfIt5Ru4ZcAiFb2QZ0lowC8jUekJnmvAAMQ6xbBIb8Aru765UEtxwBvuavydDXLAgZyrLYu6csA=",
          "dtype": "f8"
         }
        },
        {
         "mode": "lines",
         "name": "departure_time_Night_Economy",
         "type": "scatter",
         "x": {
          "bdata": "rIboVEcd+ECVt6y3i3f1QIzkXL43HPNAUGE4RCAD8UBZyuhv/0nuQOeQB8+59upAVPxzIOkA6ECm9QnLSl7lQHyzBpK8BeNAu4Kr7Bzv4EB3bTqvXSbeQOV/pHwB19pAoWE1S6zk10ASu7KTJ0XVQBCxCdhb79JA7pkvIDHb0EBMVlHZ5QLOQMYP83put8pAOonqrZDIx0D2NbTuISzFQDdFSXEV2cJAYHMSw1zHwEDy6N28l9+9QIuGDZ4AmLpAlHR/IZast0BusUS5ORO1QH9xzT7pwrJASnDCuZ+zsEDqi8ooc7ytQATOQbq3eKpAyh0Of7yQp0BDZcPQbvqkQMalwiHXrKJAbWDO6PmfoEDKYzvsd5mdQEQ3EaSTWZpAlEHenwN1l0C0RbgSweGUQIaVefvelpJAC1zlNGuMkEA6D47WpXaNQD0+MDCUOopAYyllXWtZh0B909NcMMmEQC0NZ60AgYJAsp3WgvN4gECOY1m3/FN9QFNNhjO5G3pAtnVFkfM9d0BF7O6MvLB0QKHHIxk8a3JAkFyRt5JlcEA4KW1efDFtQKuBLYMC/WlA9ehOFZwiZ0APmwqBZZhkQOlDbCCRVWJA1aYkuEhSYEAI2dGbJA9dQHBvcvRv3llAHzJ+w2QHV0Dn6E8XK4BUQDqbIKX/P1JAOTy/aRU/UEA+Wcg/9exMQF3m01wBwElAJrj8dU3sRkABrg8uDWhEQPNWRImHKkJAoGivsfgrQEBdu8ka7so8QNm2ApK2oTlAOWUgB1bRNkCxYsKjC1A0QAxH/q4oFTJAI99idfIYMEAD+ob9DqksQOt24WmPgylAWnJrUX62JkD98AdXJjgkQINYmPji/yFA9JRmmgIGIEASt+i4V4ccQOBHhLqLZRlAZDOML8abFkAFhqcmXSAUQBdsf0i26hFAhTnNDFLmD0A++g4eyGUMQOubMFqrRwlABONcfC2BBkAXZI/xrwgEQBwtQ4Gi1QFA7ANcPsvA/z8b8FD+X0T8PxT8XB/uKfk/F2/jErRm9j9mtNSWHvHzP5LolYWnwPE/5EhNlXCb7z8=",
          "dtype": "f8"
         },
         "y": {
          "bdata": "AAAAAAAAAAAAAAAAAAAAAAAAAAAAAAAAAAAAAAAAAAAAAAAAAAAAAAAAAAAAAAAAAAAAAAAAAAAAAAAAAAAAAAAAAAAAAAAAAAAAAAAAAAAAAAAAAAAAAAAAAAAAAAAAAAAAAAAAAAAAAAAAAAAAAAAAAAAAAAAAAAAAAAAAAAAAAAAAAAAAAAAAAAAAAACAAAAAAAAAAIAAAAAAAAAAgAAAAAAAAACAAAAAAAAAAIAAAAAAAAAAgAAAAAAAAACAAAAAAAAAAIAAAAAAAAAAgAAAAAAAAACAAAAAAAAAAIAAAAAAAAAAgAAAAAAAAACAAAAAAAAAAIAAAAAAAAAAgAAAAAAAAACAAAAAAAAAAIAAAAAAAAAAgAAAAAAAAACAAAAAAAAAAIAAAAAAAAAAgAAAAAAAAACAAAAAAAAAAIAAAAAAAAAAgAAAAAAAAACAAAAAAAAAAIAAAAAAAAAAgAAAAAAAAACAAAAAAAAAAIAAAAAAAAAAgAAAAAAAAACAAAAAAAAAAIAAAAAAAAAAgAAAAAAAAACAAAAAAAAAAIAAAAAAAAAAgAAAAAAAAACAAAAAAAAAAIAAAAAAAAAAgAAAAAAAAACAAAAAAAAAAIAAAAAAAAAAgAAAAAAAAACAAAAAAAAAAIAAAAAAAAAAgAAAAAAAAACAAAAAAAAAAIAAAAAAAAAAgAAAAAAAAACAAAAAAAAAAIAAAAAAAAAAgAAAAAAAAACAAAAAAAAAAIAAAAAAAAAAAAAAAAAAAAAAAAAAAAAAAAAAAAAAAAAAAAAAAAAAAAAAAAAAAAAAAAAAAAAAAAAAAAAAAAAAAACAAAAAAAAAAIAAAAAAAAAAgAAAAAAAAACAAAAAAAAAAIAAAAAAAAAAgAAAAAAAAACA8RbrG2DdHsC8/uVPfXxDwDD+giiDtkjA4k4QeGJOUMBR0DJNEOFTwC4tMdP3D1fAGbBVsWEYXcASdlPQuQplwJAi4M0M12rAj7Gsz9UAcMAizE4FakBywCxSlAhiyHTARrEcdvBmd8AnpbUrTLN5wMu137Z2A3vAGOf80J4ufMA=",
          "dtype": "f8"
         }
        },
        {
         "mode": "lines",
         "name": "stops_two_or_more_Economy",
         "type": "scatter",
         "x": {
          "bdata": "rIboVEcd+ECVt6y3i3f1QIzkXL43HPNAUGE4RCAD8UBZyuhv/0nuQOeQB8+59upAVPxzIOkA6ECm9QnLSl7lQHyzBpK8BeNAu4Kr7Bzv4EB3bTqvXSbeQOV/pHwB19pAoWE1S6zk10ASu7KTJ0XVQBCxCdhb79JA7pkvIDHb0EBMVlHZ5QLOQMYP83put8pAOonqrZDIx0D2NbTuISzFQDdFSXEV2cJAYHMSw1zHwEDy6N28l9+9QIuGDZ4AmLpAlHR/IZast0BusUS5ORO1QH9xzT7pwrJASnDCuZ+zsEDqi8ooc7ytQATOQbq3eKpAyh0Of7yQp0BDZcPQbvqkQMalwiHXrKJAbWDO6PmfoEDKYzvsd5mdQEQ3EaSTWZpAlEHenwN1l0C0RbgSweGUQIaVefvelpJAC1zlNGuMkEA6D47WpXaNQD0+MDCUOopAYyllXWtZh0B909NcMMmEQC0NZ60AgYJAsp3WgvN4gECOY1m3/FN9QFNNhjO5G3pAtnVFkfM9d0BF7O6MvLB0QKHHIxk8a3JAkFyRt5JlcEA4KW1efDFtQKuBLYMC/WlA9ehOFZwiZ0APmwqBZZhkQOlDbCCRVWJA1aYkuEhSYEAI2dGbJA9dQHBvcvRv3llAHzJ+w2QHV0Dn6E8XK4BUQDqbIKX/P1JAOTy/aRU/UEA+Wcg/9exMQF3m01wBwElAJrj8dU3sRkABrg8uDWhEQPNWRImHKkJAoGivsfgrQEBdu8ka7so8QNm2ApK2oTlAOWUgB1bRNkCxYsKjC1A0QAxH/q4oFTJAI99idfIYMEAD+ob9DqksQOt24WmPgylAWnJrUX62JkD98AdXJjgkQINYmPji/yFA9JRmmgIGIEASt+i4V4ccQOBHhLqLZRlAZDOML8abFkAFhqcmXSAUQBdsf0i26hFAhTnNDFLmD0A++g4eyGUMQOubMFqrRwlABONcfC2BBkAXZI/xrwgEQBwtQ4Gi1QFA7ANcPsvA/z8b8FD+X0T8PxT8XB/uKfk/F2/jErRm9j9mtNSWHvHzP5LolYWnwPE/5EhNlXCb7z8=",
          "dtype": "f8"
         },
         "y": {
          "bdata": "AAAAAAAAAAAAAAAAAAAAAAAAAAAAAAAAAAAAAAAAAAAAAAAAAAAAAAAAAAAAAAAAAAAAAAAAAAAAAAAAAAAAAAAAAAAAAAAAAAAAAAAAAAAAAAAAAAAAAAAAAAAAAAAAAAAAAAAAAAAAAAAAAAAAAAAAAAAAAAAAAAAAAAAAAAAAAAAAAAAAAAAAAAAAAAAAAAAAAAAAAAAAAAAAAAAAAAAAAAAAAAAAAAAAAAAAAAAAAAAAAAAAAAAAAAAAAAAAAAAAAAAAAAAAAAAAAAAAAAAAAAAAAAAAAAAAAAAAAAAAAAAAAAAAAAAAAAAAAAAAAAAAAAAAAAAAAAAAAAAAAAAAAAAAAAAAAAAAAAAAAAAAAAAAAAAAAAAAAAAAAAAAAAAAAAAAAAAAAAAAAAAAAAAAAAAAAAAAAAAAAAAAAAAAAAAAAAAAAAAAAAAAAAAAAAAAAAAAAAAAAAAAAAAAAAAAAAAAAAAAAAAAAAAAAAAAAAAAAAAAAAAAAAAAAAAAAAAAAAAAAAAAAAAAAAAAAAAAAAAAAAAAAAAAAAAAAAAAAAAAAAAAAAAAAAAAAAAAAAAAAAAAAAAAAAAAAAAAAAAAAAAAAAAAAAAAAAAAAAAAAAAAAAAAAAAAAAAAAAAAAAAAAAAAAAAAAAAAAAAAAAAAAAAAAAAAAAAAAAAAAAAAAAAAAAAAAAAAAAAAAAAAAAAAAAAAAAAAAAAAAAAAgAAAAAAAAACAAAAAAAAAAIAAAAAAAAAAgAAAAAAAAACAAAAAAAAAAIAAAAAAAAAAgALI0NgG94nAhfEqYhcJnsD7km1VMoSmwMsmHgB4Aq3AAD4c94VsscBnxL5ihhC0wDhxuwaLbrbAkM58gFqKuMC4U0CeCGu6wGo4ky//FrzAdB1gu/iUvcAsJvpdR+u+wAeIRRkxDMDAfcQnsimTwMBuvziBVAvBwFs21mpNdsHADeL8JM7WwcBvqZt/rC/CwB3lvNvWfsLACN272YbFwsB+b5zv9wbDwH6lCQFhQcPAZ0ghDYZ1w8AC4nGL8KPDwNnqVfAjzcPAtlOrp9Dxw8A=",
          "dtype": "f8"
         }
        },
        {
         "mode": "lines",
         "name": "stops_zero_Economy",
         "type": "scatter",
         "x": {
          "bdata": "rIboVEcd+ECVt6y3i3f1QIzkXL43HPNAUGE4RCAD8UBZyuhv/0nuQOeQB8+59upAVPxzIOkA6ECm9QnLSl7lQHyzBpK8BeNAu4Kr7Bzv4EB3bTqvXSbeQOV/pHwB19pAoWE1S6zk10ASu7KTJ0XVQBCxCdhb79JA7pkvIDHb0EBMVlHZ5QLOQMYP83put8pAOonqrZDIx0D2NbTuISzFQDdFSXEV2cJAYHMSw1zHwEDy6N28l9+9QIuGDZ4AmLpAlHR/IZast0BusUS5ORO1QH9xzT7pwrJASnDCuZ+zsEDqi8ooc7ytQATOQbq3eKpAyh0Of7yQp0BDZcPQbvqkQMalwiHXrKJAbWDO6PmfoEDKYzvsd5mdQEQ3EaSTWZpAlEHenwN1l0C0RbgSweGUQIaVefvelpJAC1zlNGuMkEA6D47WpXaNQD0+MDCUOopAYyllXWtZh0B909NcMMmEQC0NZ60AgYJAsp3WgvN4gECOY1m3/FN9QFNNhjO5G3pAtnVFkfM9d0BF7O6MvLB0QKHHIxk8a3JAkFyRt5JlcEA4KW1efDFtQKuBLYMC/WlA9ehOFZwiZ0APmwqBZZhkQOlDbCCRVWJA1aYkuEhSYEAI2dGbJA9dQHBvcvRv3llAHzJ+w2QHV0Dn6E8XK4BUQDqbIKX/P1JAOTy/aRU/UEA+Wcg/9exMQF3m01wBwElAJrj8dU3sRkABrg8uDWhEQPNWRImHKkJAoGivsfgrQEBdu8ka7so8QNm2ApK2oTlAOWUgB1bRNkCxYsKjC1A0QAxH/q4oFTJAI99idfIYMEAD+ob9DqksQOt24WmPgylAWnJrUX62JkD98AdXJjgkQINYmPji/yFA9JRmmgIGIEASt+i4V4ccQOBHhLqLZRlAZDOML8abFkAFhqcmXSAUQBdsf0i26hFAhTnNDFLmD0A++g4eyGUMQOubMFqrRwlABONcfC2BBkAXZI/xrwgEQBwtQ4Gi1QFA7ANcPsvA/z8b8FD+X0T8PxT8XB/uKfk/F2/jErRm9j9mtNSWHvHzP5LolYWnwPE/5EhNlXCb7z8=",
          "dtype": "f8"
         },
         "y": {
          "bdata": "AAAAAAAAAAAAAAAAAAAAAAAAAAAAAAAAAAAAAAAAAAAAAAAAAAAAAAAAAAAAAAAAAAAAAAAAAAAAAAAAAAAAAAAAAAAAAAAAAAAAAAAAAAAAAAAAAAAAAAAAAAAAAAAAAAAAAAAAAAAAAAAAAAAAAAAAAAAAAAAAAAAAAAAAAAAAAAAAAAAAgAAAAAAAAACAAAAAAAAAAIAAAAAAAAAAgAAAAAAAAACAAAAAAAAAAIAAAAAAAAAAgAAAAAAAAACAAAAAAAAAAIAAAAAAAAAAgAAAAAAAAACAAAAAAAAAAIAAAAAAAAAAgAAAAAAAAACAAAAAAAAAAIAAAAAAAAAAgAAAAAAAAACAAAAAAAAAAIAAAAAAAAAAgAAAAAAAAACAAAAAAAAAAIAAAAAAAAAAgAAAAAAAAACAAAAAAAAAAIAAAAAAAAAAgAAAAAAAAACAAAAAAAAAAIAAAAAAAAAAgAAAAAAAAACAAAAAAAAAAIAAAAAAAAAAgAAAAAAAAACAAAAAAAAAAIAAAAAAAAAAgAAAAAAAAACAAAAAAAAAAIAAAAAAAAAAgAAAAAAAAACAAAAAAAAAAIAAAAAAAAAAgAAAAAAAAACAAAAAAAAAAIAAAAAAAAAAgAAAAAAAAACAAAAAAAAAAIAAAAAAAAAAgAAAAAAAAACAAAAAAAAAAIAAAAAAAAAAgAAAAAAAAACAAAAAAAAAAIAAAAAAAAAAAAAAAAAAAAAAAAAAAAAAAAAAAAAAAAAAAAAAAAAAAAAAAAAAAAAAAAAAAAAAAAAAAAAAAAAAAAAAAAAAAAAAAAAAAAAAAAAAACYIfSpKSYBAK+rY/cpwkkB61pJvnXecQLyiDOsI9aJAZTBbCaY5p0Cxlsj97QyrQN4h0GBqd65AmIVdbOXDsECU6xWesy+yQNSHxLAmeLNAOcCGz4GctEA1cPNCJp+1QGarJKQ9gbZAnd0ZVu1Jt0DfNzjjPAm4QBfLNSy1tbhAZNMrNwNQuUAMl+LL6ta5QPj2N5U+VbpAXZpZv9XKukATb7zRvzy7QGCYQVC+nLtAYH4aNhLyu0A=",
          "dtype": "f8"
         }
        },
        {
         "mode": "lines",
         "name": "arrival_time_Early_Morning_Economy",
         "type": "scatter",
         "x": {
          "bdata": "rIboVEcd+ECVt6y3i3f1QIzkXL43HPNAUGE4RCAD8UBZyuhv/0nuQOeQB8+59upAVPxzIOkA6ECm9QnLSl7lQHyzBpK8BeNAu4Kr7Bzv4EB3bTqvXSbeQOV/pHwB19pAoWE1S6zk10ASu7KTJ0XVQBCxCdhb79JA7pkvIDHb0EBMVlHZ5QLOQMYP83put8pAOonqrZDIx0D2NbTuISzFQDdFSXEV2cJAYHMSw1zHwEDy6N28l9+9QIuGDZ4AmLpAlHR/IZast0BusUS5ORO1QH9xzT7pwrJASnDCuZ+zsEDqi8ooc7ytQATOQbq3eKpAyh0Of7yQp0BDZcPQbvqkQMalwiHXrKJAbWDO6PmfoEDKYzvsd5mdQEQ3EaSTWZpAlEHenwN1l0C0RbgSweGUQIaVefvelpJAC1zlNGuMkEA6D47WpXaNQD0+MDCUOopAYyllXWtZh0B909NcMMmEQC0NZ60AgYJAsp3WgvN4gECOY1m3/FN9QFNNhjO5G3pAtnVFkfM9d0BF7O6MvLB0QKHHIxk8a3JAkFyRt5JlcEA4KW1efDFtQKuBLYMC/WlA9ehOFZwiZ0APmwqBZZhkQOlDbCCRVWJA1aYkuEhSYEAI2dGbJA9dQHBvcvRv3llAHzJ+w2QHV0Dn6E8XK4BUQDqbIKX/P1JAOTy/aRU/UEA+Wcg/9exMQF3m01wBwElAJrj8dU3sRkABrg8uDWhEQPNWRImHKkJAoGivsfgrQEBdu8ka7so8QNm2ApK2oTlAOWUgB1bRNkCxYsKjC1A0QAxH/q4oFTJAI99idfIYMEAD+ob9DqksQOt24WmPgylAWnJrUX62JkD98AdXJjgkQINYmPji/yFA9JRmmgIGIEASt+i4V4ccQOBHhLqLZRlAZDOML8abFkAFhqcmXSAUQBdsf0i26hFAhTnNDFLmD0A++g4eyGUMQOubMFqrRwlABONcfC2BBkAXZI/xrwgEQBwtQ4Gi1QFA7ANcPsvA/z8b8FD+X0T8PxT8XB/uKfk/F2/jErRm9j9mtNSWHvHzP5LolYWnwPE/5EhNlXCb7z8=",
          "dtype": "f8"
         },
         "y": {
          "bdata": "AAAAAAAAAAAAAAAAAAAAAAAAAAAAAAAAAAAAAAAAAAAAAAAAAAAAAAAAAAAAAAAAAAAAAAAAAAAAAAAAAAAAAAAAAAAAAAAAAAAAAAAAAAAAAAAAAAAAAAAAAAAAAAAAAAAAAAAAAAAAAAAAAAAAAAAAAAAAAAAAAAAAAAAAAAAAAAAAAAAAgAAAAAAAAACAAAAAAAAAAIAAAAAAAAAAgAAAAAAAAACAAAAAAAAAAIAAAAAAAAAAgAAAAAAAAACAAAAAAAAAAIAAAAAAAAAAgAAAAAAAAACAAAAAAAAAAIAAAAAAAAAAgAAAAAAAAACAAAAAAAAAAIAAAAAAAAAAgAAAAAAAAACAAAAAAAAAAIAAAAAAAAAAgAAAAAAAAACAAAAAAAAAAIAAAAAAAAAAgAAAAAAAAACAAAAAAAAAAIAAAAAAAAAAgAAAAAAAAACAAAAAAAAAAIAAAAAAAAAAgAAAAAAAAACAAAAAAAAAAIAAAAAAAAAAgAAAAAAAAACAAAAAAAAAAIAAAAAAAAAAgAAAAAAAAACAAAAAAAAAAIAAAAAAAAAAgAAAAAAAAACAAAAAAAAAAIAAAAAAAAAAgAAAAAAAAACAAAAAAAAAAIAAAAAAAAAAgAAAAAAAAACAAAAAAAAAAIAAAAAAAAAAgAAAAAAAAACAAAAAAAAAAIAAAAAAAAAAgAAAAAAAAAAAAAAAAAAAAAAAAAAAAAAAAAAAAAAAAAAAAAAAAAAAAAAAAAAAAAAAAAAAAAAAAAAAAAAAAAAAAAAAAAAAAAAAAAAAAAAAAAAAyhiE0uzfdEBFqg1Kj3SEQHzLHNEMUo1A2kQ0O2SKkkBfCv6r8AmWQHpCzqqcJplAtG7mzMzqm0BzqxtV0mCeQFGXDaDASKBAktRRdro/oUA548WJme6hQAQdyQi3VKJAqYyoksGtokDuOTSDLv2iQOl4PATaUqNAPLAr7navo0CM5CWOdv6jQMPU2smWRKRANGAw+NCCpEAFeK3LerekQLqVS4i446RAVUXvYH8KpUCu9SaQEAylQJhtzDI6D6VA8ngj/RISpUA=",
          "dtype": "f8"
         }
        },
        {
         "mode": "lines",
         "name": "arrival_time_Evening_Economy",
         "type": "scatter",
         "x": {
          "bdata": "rIboVEcd+ECVt6y3i3f1QIzkXL43HPNAUGE4RCAD8UBZyuhv/0nuQOeQB8+59upAVPxzIOkA6ECm9QnLSl7lQHyzBpK8BeNAu4Kr7Bzv4EB3bTqvXSbeQOV/pHwB19pAoWE1S6zk10ASu7KTJ0XVQBCxCdhb79JA7pkvIDHb0EBMVlHZ5QLOQMYP83put8pAOonqrZDIx0D2NbTuISzFQDdFSXEV2cJAYHMSw1zHwEDy6N28l9+9QIuGDZ4AmLpAlHR/IZast0BusUS5ORO1QH9xzT7pwrJASnDCuZ+zsEDqi8ooc7ytQATOQbq3eKpAyh0Of7yQp0BDZcPQbvqkQMalwiHXrKJAbWDO6PmfoEDKYzvsd5mdQEQ3EaSTWZpAlEHenwN1l0C0RbgSweGUQIaVefvelpJAC1zlNGuMkEA6D47WpXaNQD0+MDCUOopAYyllXWtZh0B909NcMMmEQC0NZ60AgYJAsp3WgvN4gECOY1m3/FN9QFNNhjO5G3pAtnVFkfM9d0BF7O6MvLB0QKHHIxk8a3JAkFyRt5JlcEA4KW1efDFtQKuBLYMC/WlA9ehOFZwiZ0APmwqBZZhkQOlDbCCRVWJA1aYkuEhSYEAI2dGbJA9dQHBvcvRv3llAHzJ+w2QHV0Dn6E8XK4BUQDqbIKX/P1JAOTy/aRU/UEA+Wcg/9exMQF3m01wBwElAJrj8dU3sRkABrg8uDWhEQPNWRImHKkJAoGivsfgrQEBdu8ka7so8QNm2ApK2oTlAOWUgB1bRNkCxYsKjC1A0QAxH/q4oFTJAI99idfIYMEAD+ob9DqksQOt24WmPgylAWnJrUX62JkD98AdXJjgkQINYmPji/yFA9JRmmgIGIEASt+i4V4ccQOBHhLqLZRlAZDOML8abFkAFhqcmXSAUQBdsf0i26hFAhTnNDFLmD0A++g4eyGUMQOubMFqrRwlABONcfC2BBkAXZI/xrwgEQBwtQ4Gi1QFA7ANcPsvA/z8b8FD+X0T8PxT8XB/uKfk/F2/jErRm9j9mtNSWHvHzP5LolYWnwPE/5EhNlXCb7z8=",
          "dtype": "f8"
         },
         "y": {
          "bdata": "AAAAAAAAAAAAAAAAAAAAAAAAAAAAAAAAAAAAAAAAAAAAAAAAAAAAAAAAAAAAAAAAAAAAAAAAAAAAAAAAAAAAAAAAAAAAAAAAAAAAAAAAAAAAAAAAAAAAAAAAAAAAAAAAAAAAAAAAAAAAAAAAAAAAAAAAAAAAAAAAAAAAAAAAAAAAAAAAAAAAAAAAAAAAAAAAAAAAAAAAAIAAAAAAAAAAgAAAAAAAAACAAAAAAAAAAIAAAAAAAAAAgAAAAAAAAACAAAAAAAAAAIAAAAAAAAAAgAAAAAAAAACAAAAAAAAAAIAAAAAAAAAAgAAAAAAAAACAAAAAAAAAAIAAAAAAAAAAgAAAAAAAAACAAAAAAAAAAIAAAAAAAAAAgAAAAAAAAACAAAAAAAAAAIAAAAAAAAAAgAAAAAAAAACAAAAAAAAAAIAAAAAAAAAAgAAAAAAAAACAAAAAAAAAAIAAAAAAAAAAgAAAAAAAAACAAAAAAAAAAIAAAAAAAAAAgAAAAAAAAACAAAAAAAAAAIAAAAAAAAAAgAAAAAAAAACAAAAAAAAAAIAAAAAAAAAAgAAAAAAAAAAAAAAAAAAAAIAAAAAAAAAAgAAAAAAAAACAAAAAAAAAAIAAAAAAAAAAgAAAAAAAAACAAAAAAAAAAIAAAAAAAAAAgAAAAAAAAACAAAAAAAAAAIAAAAAAAAAAgAAAAAAAAACAAAAAAAAAAIC8ZB5/SrdIwBvG12EZgWzAaWz4Smbed8DgagMuJICAwKSEK5Ejb4TAj3bfW+Puh8C7GJFu0gyLwK5pQCGpoI3APLDDVgDTjsDzUJ7Dtt2PwG5XUUbYC5DAXX5IQuwFkMBegvD2HuOPwN3/Uk50tY/AkVN0VIGKj8DdOeMAVGOPwIgt2LkQQI/AAxRhsQ4xj8BXjxfFFO2PwJgWld6wr5DAvlT+ikVUkcCRl2MHtuaRwI9g8YvKS5LAukjSkUGHksB15wojc8WSwBtYFo+t/JLAOFtjAbItk8D3I6etC1iTwFAMq7+HepPA5ixOYOOXk8BdRc714/GTwM1amgBsQJTA9mkkOE2GlMA=",
          "dtype": "f8"
         }
        },
        {
         "mode": "lines",
         "name": "arrival_time_Late_Night_Economy",
         "type": "scatter",
         "x": {
          "bdata": "rIboVEcd+ECVt6y3i3f1QIzkXL43HPNAUGE4RCAD8UBZyuhv/0nuQOeQB8+59upAVPxzIOkA6ECm9QnLSl7lQHyzBpK8BeNAu4Kr7Bzv4EB3bTqvXSbeQOV/pHwB19pAoWE1S6zk10ASu7KTJ0XVQBCxCdhb79JA7pkvIDHb0EBMVlHZ5QLOQMYP83put8pAOonqrZDIx0D2NbTuISzFQDdFSXEV2cJAYHMSw1zHwEDy6N28l9+9QIuGDZ4AmLpAlHR/IZast0BusUS5ORO1QH9xzT7pwrJASnDCuZ+zsEDqi8ooc7ytQATOQbq3eKpAyh0Of7yQp0BDZcPQbvqkQMalwiHXrKJAbWDO6PmfoEDKYzvsd5mdQEQ3EaSTWZpAlEHenwN1l0C0RbgSweGUQIaVefvelpJAC1zlNGuMkEA6D47WpXaNQD0+MDCUOopAYyllXWtZh0B909NcMMmEQC0NZ60AgYJAsp3WgvN4gECOY1m3/FN9QFNNhjO5G3pAtnVFkfM9d0BF7O6MvLB0QKHHIxk8a3JAkFyRt5JlcEA4KW1efDFtQKuBLYMC/WlA9ehOFZwiZ0APmwqBZZhkQOlDbCCRVWJA1aYkuEhSYEAI2dGbJA9dQHBvcvRv3llAHzJ+w2QHV0Dn6E8XK4BUQDqbIKX/P1JAOTy/aRU/UEA+Wcg/9exMQF3m01wBwElAJrj8dU3sRkABrg8uDWhEQPNWRImHKkJAoGivsfgrQEBdu8ka7so8QNm2ApK2oTlAOWUgB1bRNkCxYsKjC1A0QAxH/q4oFTJAI99idfIYMEAD+ob9DqksQOt24WmPgylAWnJrUX62JkD98AdXJjgkQINYmPji/yFA9JRmmgIGIEASt+i4V4ccQOBHhLqLZRlAZDOML8abFkAFhqcmXSAUQBdsf0i26hFAhTnNDFLmD0A++g4eyGUMQOubMFqrRwlABONcfC2BBkAXZI/xrwgEQBwtQ4Gi1QFA7ANcPsvA/z8b8FD+X0T8PxT8XB/uKfk/F2/jErRm9j9mtNSWHvHzP5LolYWnwPE/5EhNlXCb7z8=",
          "dtype": "f8"
         },
         "y": {
          "bdata": "AAAAAAAAAAAAAAAAAAAAAAAAAAAAAAAAAAAAAAAAAAAAAAAAAAAAAAAAAAAAAAAAAAAAAAAAAAAAAAAAAAAAAAAAAAAAAAAAAAAAAAAAAAAAAAAAAAAAAAAAAAAAAAAAAAAAAAAAAAAAAAAAAAAAAAAAAAAAAAAAAAAAAAAAAAAAAAAAAAAAgAAAAAAAAACAAAAAAAAAAIAAAAAAAAAAgAAAAAAAAACAAAAAAAAAAIAAAAAAAAAAgAAAAAAAAACAAAAAAAAAAIAAAAAAAAAAgAAAAAAAAACAAAAAAAAAAIAAAAAAAAAAgAAAAAAAAACAAAAAAAAAAIAAAAAAAAAAgAAAAAAAAACAAAAAAAAAAIAAAAAAAAAAgAAAAAAAAACAAAAAAAAAAIAAAAAAAAAAgAAAAAAAAACAAAAAAAAAAIAAAAAAAAAAgAAAAAAAAACAAAAAAAAAAIAAAAAAAAAAgAAAAAAAAACAAAAAAAAAAIAAAAAAAAAAgAAAAAAAAACAAAAAAAAAAIAAAAAAAAAAgAAAAAAAAACAAAAAAAAAAIAAAAAAAAAAgAAAAAAAAACAAAAAAAAAAIAAAAAAAAAAgAAAAAAAAACAAAAAAAAAAIAAAAAAAAAAgAAAAAAAAACAAAAAAAAAAIAAAAAAAAAAAAAAAAAAAAAAAAAAAAAAAAAAAAAAAAAAAAAAAAAAAAAAAAAAAAAAAAAAAAAAAAAAAAAAAAAAAAAAAAAAAAAAAAAAAAAAAAAAAAAAAAAAAACAAAAAAAAAAIAAAAAAAAAAgAAAAAAAAACAAAAAAAAAAIAAAAAAAAAAgAAAAAAAAACAAAAAAAAAAIAAAAAAAAAAgAAAAAAAAACAAAAAAAAAAIAAAAAAAAAAgAAAAAAAAACAp6la9CblNMB7IwQsm3lwwGBXqylZiX/Ar+NsfN+DhsA4MKYjKoWMwFRNxg0a0pDAAdeKGTX9ksAzuiZcpfmUwIOL/yKZvpbAoNzpQ9dQmMBFSOxCfqiZwO0oG7ep3ZrAbkISYEfzm8C2rhtRMimdwJOK7sjKNJ7ArGI2FvIin8A=",
          "dtype": "f8"
         }
        },
        {
         "mode": "lines",
         "name": "arrival_time_Morning_Economy",
         "type": "scatter",
         "x": {
          "bdata": "rIboVEcd+ECVt6y3i3f1QIzkXL43HPNAUGE4RCAD8UBZyuhv/0nuQOeQB8+59upAVPxzIOkA6ECm9QnLSl7lQHyzBpK8BeNAu4Kr7Bzv4EB3bTqvXSbeQOV/pHwB19pAoWE1S6zk10ASu7KTJ0XVQBCxCdhb79JA7pkvIDHb0EBMVlHZ5QLOQMYP83put8pAOonqrZDIx0D2NbTuISzFQDdFSXEV2cJAYHMSw1zHwEDy6N28l9+9QIuGDZ4AmLpAlHR/IZast0BusUS5ORO1QH9xzT7pwrJASnDCuZ+zsEDqi8ooc7ytQATOQbq3eKpAyh0Of7yQp0BDZcPQbvqkQMalwiHXrKJAbWDO6PmfoEDKYzvsd5mdQEQ3EaSTWZpAlEHenwN1l0C0RbgSweGUQIaVefvelpJAC1zlNGuMkEA6D47WpXaNQD0+MDCUOopAYyllXWtZh0B909NcMMmEQC0NZ60AgYJAsp3WgvN4gECOY1m3/FN9QFNNhjO5G3pAtnVFkfM9d0BF7O6MvLB0QKHHIxk8a3JAkFyRt5JlcEA4KW1efDFtQKuBLYMC/WlA9ehOFZwiZ0APmwqBZZhkQOlDbCCRVWJA1aYkuEhSYEAI2dGbJA9dQHBvcvRv3llAHzJ+w2QHV0Dn6E8XK4BUQDqbIKX/P1JAOTy/aRU/UEA+Wcg/9exMQF3m01wBwElAJrj8dU3sRkABrg8uDWhEQPNWRImHKkJAoGivsfgrQEBdu8ka7so8QNm2ApK2oTlAOWUgB1bRNkCxYsKjC1A0QAxH/q4oFTJAI99idfIYMEAD+ob9DqksQOt24WmPgylAWnJrUX62JkD98AdXJjgkQINYmPji/yFA9JRmmgIGIEASt+i4V4ccQOBHhLqLZRlAZDOML8abFkAFhqcmXSAUQBdsf0i26hFAhTnNDFLmD0A++g4eyGUMQOubMFqrRwlABONcfC2BBkAXZI/xrwgEQBwtQ4Gi1QFA7ANcPsvA/z8b8FD+X0T8PxT8XB/uKfk/F2/jErRm9j9mtNSWHvHzP5LolYWnwPE/5EhNlXCb7z8=",
          "dtype": "f8"
         },
         "y": {
          "bdata": "AAAAAAAAAAAAAAAAAAAAAAAAAAAAAAAAAAAAAAAAAAAAAAAAAAAAAAAAAAAAAAAAAAAAAAAAAAAAAAAAAAAAAAAAAAAAAAAAAAAAAAAAAAAAAAAAAAAAAAAAAAAAAAAAAAAAAAAAAAAAAAAAAAAAAAAAAAAAAAAAAAAAAAAAAAAAAAAAAAAAAAAAAAAAAACAAAAAAAAAAIAAAAAAAAAAgAAAAAAAAACAAAAAAAAAAIAAAAAAAAAAgAAAAAAAAACAAAAAAAAAAIAAAAAAAAAAgAAAAAAAAACAAAAAAAAAAIAAAAAAAAAAgAAAAAAAAACAAAAAAAAAAIAAAAAAAAAAgAAAAAAAAACAAAAAAAAAAIAAAAAAAAAAgAAAAAAAAACAAAAAAAAAAIAAAAAAAAAAgAAAAAAAAACAAAAAAAAAAIAAAAAAAAAAgAAAAAAAAACAAAAAAAAAAIAAAAAAAAAAgAAAAAAAAACAAAAAAAAAAIAAAAAAAAAAgAAAAAAAAACAAAAAAAAAAIAAAAAAAAAAgAAAAAAAAACAAAAAAAAAAIAAAAAAAAAAgAAAAAAAAACAAAAAAAAAAIAAAAAAAAAAgAAAAAAAAACAAAAAAAAAAIAAAAAAAAAAgAAAAAAAAACAAAAAAAAAAIAAAAAAAAAAAAAAAAAAAAAAAAAAAAAAAAAAAAAAAAAAAAAAAAAAAAAAAAAAAAAAAAAAAAAAAAAAAAAAAAAAAACAAAAAAAAAAIAAAAAAAAAAgAAAAAAAAACAAAAAAAAAAIAAAAAAAAAAgAAAAAAAAACAAAAAAAAAAIAAAAAAAAAAgAAAAAAAAACAAAAAAAAAAIAAAAAAAAAAgAAAAAAAAACAAAAAAAAAAIAAAAAAAAAAgAAAAAAAAACAAAAAAAAAAIB7aNiHEugtwFKouxM7lFHAm8W0y29GXsB+weUW8sdkwJ+C2XNxY2jAeZ9KnMH1acB+/YgXFlprwIEaosynmGzAN/d1qVa1bcBCXs00Mr9uwDsBHC25tG/AsinUB15IcMA6qG5Q3DRywCGGberl3XPAr8kc/gZYdcA=",
          "dtype": "f8"
         }
        },
        {
         "mode": "lines",
         "name": "arrival_time_Night_Economy",
         "type": "scatter",
         "x": {
          "bdata": "rIboVEcd+ECVt6y3i3f1QIzkXL43HPNAUGE4RCAD8UBZyuhv/0nuQOeQB8+59upAVPxzIOkA6ECm9QnLSl7lQHyzBpK8BeNAu4Kr7Bzv4EB3bTqvXSbeQOV/pHwB19pAoWE1S6zk10ASu7KTJ0XVQBCxCdhb79JA7pkvIDHb0EBMVlHZ5QLOQMYP83put8pAOonqrZDIx0D2NbTuISzFQDdFSXEV2cJAYHMSw1zHwEDy6N28l9+9QIuGDZ4AmLpAlHR/IZast0BusUS5ORO1QH9xzT7pwrJASnDCuZ+zsEDqi8ooc7ytQATOQbq3eKpAyh0Of7yQp0BDZcPQbvqkQMalwiHXrKJAbWDO6PmfoEDKYzvsd5mdQEQ3EaSTWZpAlEHenwN1l0C0RbgSweGUQIaVefvelpJAC1zlNGuMkEA6D47WpXaNQD0+MDCUOopAYyllXWtZh0B909NcMMmEQC0NZ60AgYJAsp3WgvN4gECOY1m3/FN9QFNNhjO5G3pAtnVFkfM9d0BF7O6MvLB0QKHHIxk8a3JAkFyRt5JlcEA4KW1efDFtQKuBLYMC/WlA9ehOFZwiZ0APmwqBZZhkQOlDbCCRVWJA1aYkuEhSYEAI2dGbJA9dQHBvcvRv3llAHzJ+w2QHV0Dn6E8XK4BUQDqbIKX/P1JAOTy/aRU/UEA+Wcg/9exMQF3m01wBwElAJrj8dU3sRkABrg8uDWhEQPNWRImHKkJAoGivsfgrQEBdu8ka7so8QNm2ApK2oTlAOWUgB1bRNkCxYsKjC1A0QAxH/q4oFTJAI99idfIYMEAD+ob9DqksQOt24WmPgylAWnJrUX62JkD98AdXJjgkQINYmPji/yFA9JRmmgIGIEASt+i4V4ccQOBHhLqLZRlAZDOML8abFkAFhqcmXSAUQBdsf0i26hFAhTnNDFLmD0A++g4eyGUMQOubMFqrRwlABONcfC2BBkAXZI/xrwgEQBwtQ4Gi1QFA7ANcPsvA/z8b8FD+X0T8PxT8XB/uKfk/F2/jErRm9j9mtNSWHvHzP5LolYWnwPE/5EhNlXCb7z8=",
          "dtype": "f8"
         },
         "y": {
          "bdata": "AAAAAAAAAAAAAAAAAAAAAAAAAAAAAAAAAAAAAAAAAAAAAAAAAAAAAAAAAAAAAAAAAAAAAAAAAAAAAAAAAAAAAAAAAAAAAAAAAAAAAAAAAAAAAAAAAAAAAAAAAAAAAAAAAAAAAAAAAAAAAAAAAAAAAAAAAAAAAAAAAAAAAAAAAAAAAAAAAAAAAAAAAAAAAAAAAAAAAAAAAIAAAAAAAAAAgAAAAAAAAACAAAAAAAAAAIAAAAAAAAAAgAAAAAAAAACAAAAAAAAAAIAAAAAAAAAAgAAAAAAAAACAAAAAAAAAAIAAAAAAAAAAgAAAAAAAAACAAAAAAAAAAIAAAAAAAAAAgAAAAAAAAACAAAAAAAAAAIAAAAAAAAAAgAAAAAAAAACAAAAAAAAAAIAAAAAAAAAAgAAAAAAAAACAAAAAAAAAAIAAAAAAAAAAgAAAAAAAAACAAAAAAAAAAIAAAAAAAAAAgAAAAAAAAACAAAAAAAAAAIAAAAAAAAAAgAAAAAAAAACAAAAAAAAAAIAAAAAAAAAAgAAAAAAAAACAAAAAAAAAAIAAAAAAAAAAgAAAAAAAAACAAAAAAAAAAIAAAAAAAAAAgAAAAAAAAACAAAAAAAAAAIAAAAAAAAAAgAAAAAAAAACAAAAAAAAAAIAAAAAAAAAAgAAAAAAAAACAAAAAAAAAAICSWPYPzNZlwGeiCPHCPnXAIb+vHL2IfcDpl81Ku9qCwOIMiRHCAYjAC24E4MiEjMCEH8qJ8WyQwFneVTdFVpLA/nce6IAJlMCUj2TMIo6VwATxG/fc15bAJ2jUPKhll8CrOXOrC9yXwI8xETeTHJjAWb6k+o1SmMCw2wTjEnaYwEWjjP1qk5jAALWAUKWtmMD9fR9XCcWYwD5TjWrg2ZjA9lp4ZFD2mMDZd+xwNX2ZwGIeSa+8V5rALFOSUQscm8A4Iqjaj8qbwEz21TigSJzAffnR4fqcnMChYoDfTPicwHOLIYDQSZ3Avt6QGoGSncAxFQ8CXtOdwA6lkw50DZ7AYeaKpWBCnsCpCN7OcLGewGzQLTIHDp/Avt5DkGZgn8A=",
          "dtype": "f8"
         }
        },
        {
         "mode": "lines",
         "name": "destination_city_Chennai_Economy",
         "type": "scatter",
         "x": {
          "bdata": "rIboVEcd+ECVt6y3i3f1QIzkXL43HPNAUGE4RCAD8UBZyuhv/0nuQOeQB8+59upAVPxzIOkA6ECm9QnLSl7lQHyzBpK8BeNAu4Kr7Bzv4EB3bTqvXSbeQOV/pHwB19pAoWE1S6zk10ASu7KTJ0XVQBCxCdhb79JA7pkvIDHb0EBMVlHZ5QLOQMYP83put8pAOonqrZDIx0D2NbTuISzFQDdFSXEV2cJAYHMSw1zHwEDy6N28l9+9QIuGDZ4AmLpAlHR/IZast0BusUS5ORO1QH9xzT7pwrJASnDCuZ+zsEDqi8ooc7ytQATOQbq3eKpAyh0Of7yQp0BDZcPQbvqkQMalwiHXrKJAbWDO6PmfoEDKYzvsd5mdQEQ3EaSTWZpAlEHenwN1l0C0RbgSweGUQIaVefvelpJAC1zlNGuMkEA6D47WpXaNQD0+MDCUOopAYyllXWtZh0B909NcMMmEQC0NZ60AgYJAsp3WgvN4gECOY1m3/FN9QFNNhjO5G3pAtnVFkfM9d0BF7O6MvLB0QKHHIxk8a3JAkFyRt5JlcEA4KW1efDFtQKuBLYMC/WlA9ehOFZwiZ0APmwqBZZhkQOlDbCCRVWJA1aYkuEhSYEAI2dGbJA9dQHBvcvRv3llAHzJ+w2QHV0Dn6E8XK4BUQDqbIKX/P1JAOTy/aRU/UEA+Wcg/9exMQF3m01wBwElAJrj8dU3sRkABrg8uDWhEQPNWRImHKkJAoGivsfgrQEBdu8ka7so8QNm2ApK2oTlAOWUgB1bRNkCxYsKjC1A0QAxH/q4oFTJAI99idfIYMEAD+ob9DqksQOt24WmPgylAWnJrUX62JkD98AdXJjgkQINYmPji/yFA9JRmmgIGIEASt+i4V4ccQOBHhLqLZRlAZDOML8abFkAFhqcmXSAUQBdsf0i26hFAhTnNDFLmD0A++g4eyGUMQOubMFqrRwlABONcfC2BBkAXZI/xrwgEQBwtQ4Gi1QFA7ANcPsvA/z8b8FD+X0T8PxT8XB/uKfk/F2/jErRm9j9mtNSWHvHzP5LolYWnwPE/5EhNlXCb7z8=",
          "dtype": "f8"
         },
         "y": {
          "bdata": "AAAAAAAAAAAAAAAAAAAAAAAAAAAAAAAAAAAAAAAAAAAAAAAAAAAAAAAAAAAAAAAAAAAAAAAAAAAAAAAAAAAAAAAAAAAAAAAAAAAAAAAAAAAAAAAAAAAAAAAAAAAAAAAAAAAAAAAAAAAAAAAAAAAAAAAAAAAAAAAAAAAAAAAAAAAAAAAAAAAAAAAAAAAAAACAAAAAAAAAAIAAAAAAAAAAgAAAAAAAAACAAAAAAAAAAIAAAAAAAAAAgAAAAAAAAACAAAAAAAAAAIAAAAAAAAAAgAAAAAAAAACAAAAAAAAAAIAAAAAAAAAAgAAAAAAAAACAAAAAAAAAAIAAAAAAAAAAgAAAAAAAAACAAAAAAAAAAIAAAAAAAAAAgAAAAAAAAACAAAAAAAAAAIAAAAAAAAAAgAAAAAAAAACAAAAAAAAAAIAAAAAAAAAAgAAAAAAAAACAAAAAAAAAAIAAAAAAAAAAgAAAAAAAAACAAAAAAAAAAIAAAAAAAAAAgAAAAAAAAACAAAAAAAAAAIAAAAAAAAAAgAAAAAAAAACAAAAAAAAAAIAAAAAAAAAAgAAAAAAAAACAAAAAAAAAAIAAAAAAAAAAgAAAAAAAAACAAAAAAAAAAIAAAAAAAAAAgAAAAAAAAACAAAAAAAAAAIAAAAAAAAAAgAAAAAAAAACAAAAAAAAAAIAAAAAAAAAAgAAAAAAAAACAAAAAAAAAAIAAAAAAAAAAgAAAAAAAAACAAAAAAAAAAIAAAAAAAAAAgAAAAAAAAACAAAAAAAAAAIAAAAAAAAAAgAAAAAAAAACAAAAAAAAAAIAAAAAAAAAAgAAAAAAAAACAAAAAAAAAAIAAAAAAAAAAgAAAAAAAAACAAAAAAAAAAIAAAAAAAAAAgAAAAAAAAACAAAAAAAAAAIAAAAAAAAAAgAAAAAAAAACAAAAAAAAAAIAAAAAAAAAAAAAAAAAAAAAAAAAAAAAAAAAAAAAAAAAAAAAAAAAAAAAAVQviRekCAEAZK8kY+a4+QLmD2HdeNUxAT78WEhjNU0BXkhPH3wRZQHODBP0no11ASdmxbQXgYEA=",
          "dtype": "f8"
         }
        },
        {
         "mode": "lines",
         "name": "destination_city_Delhi_Economy",
         "type": "scatter",
         "x": {
          "bdata": "rIboVEcd+ECVt6y3i3f1QIzkXL43HPNAUGE4RCAD8UBZyuhv/0nuQOeQB8+59upAVPxzIOkA6ECm9QnLSl7lQHyzBpK8BeNAu4Kr7Bzv4EB3bTqvXSbeQOV/pHwB19pAoWE1S6zk10ASu7KTJ0XVQBCxCdhb79JA7pkvIDHb0EBMVlHZ5QLOQMYP83put8pAOonqrZDIx0D2NbTuISzFQDdFSXEV2cJAYHMSw1zHwEDy6N28l9+9QIuGDZ4AmLpAlHR/IZast0BusUS5ORO1QH9xzT7pwrJASnDCuZ+zsEDqi8ooc7ytQATOQbq3eKpAyh0Of7yQp0BDZcPQbvqkQMalwiHXrKJAbWDO6PmfoEDKYzvsd5mdQEQ3EaSTWZpAlEHenwN1l0C0RbgSweGUQIaVefvelpJAC1zlNGuMkEA6D47WpXaNQD0+MDCUOopAYyllXWtZh0B909NcMMmEQC0NZ60AgYJAsp3WgvN4gECOY1m3/FN9QFNNhjO5G3pAtnVFkfM9d0BF7O6MvLB0QKHHIxk8a3JAkFyRt5JlcEA4KW1efDFtQKuBLYMC/WlA9ehOFZwiZ0APmwqBZZhkQOlDbCCRVWJA1aYkuEhSYEAI2dGbJA9dQHBvcvRv3llAHzJ+w2QHV0Dn6E8XK4BUQDqbIKX/P1JAOTy/aRU/UEA+Wcg/9exMQF3m01wBwElAJrj8dU3sRkABrg8uDWhEQPNWRImHKkJAoGivsfgrQEBdu8ka7so8QNm2ApK2oTlAOWUgB1bRNkCxYsKjC1A0QAxH/q4oFTJAI99idfIYMEAD+ob9DqksQOt24WmPgylAWnJrUX62JkD98AdXJjgkQINYmPji/yFA9JRmmgIGIEASt+i4V4ccQOBHhLqLZRlAZDOML8abFkAFhqcmXSAUQBdsf0i26hFAhTnNDFLmD0A++g4eyGUMQOubMFqrRwlABONcfC2BBkAXZI/xrwgEQBwtQ4Gi1QFA7ANcPsvA/z8b8FD+X0T8PxT8XB/uKfk/F2/jErRm9j9mtNSWHvHzP5LolYWnwPE/5EhNlXCb7z8=",
          "dtype": "f8"
         },
         "y": {
          "bdata": "AAAAAAAAAAAAAAAAAAAAAAAAAAAAAAAAAAAAAAAAAAAAAAAAAAAAAAAAAAAAAAAAAAAAAAAAAAAAAAAAAAAAAAAAAAAAAAAAAAAAAAAAAAAAAAAAAAAAAAAAAAAAAAAAAAAAAAAAAAAAAAAAAAAAAAAAAAAAAAAAAAAAAAAAAAAAAAAAAAAAAAAAAAAAAACAAAAAAAAAAIAAAAAAAAAAgAAAAAAAAACAAAAAAAAAAIAAAAAAAAAAgAAAAAAAAACAAAAAAAAAAIAAAAAAAAAAgAAAAAAAAACAAAAAAAAAAIAAAAAAAAAAgAAAAAAAAACAAAAAAAAAAIAAAAAAAAAAgAAAAAAAAACAAAAAAAAAAIAAAAAAAAAAgAAAAAAAAACAAAAAAAAAAIAAAAAAAAAAgAAAAAAAAACAAAAAAAAAAIAAAAAAAAAAgAAAAAAAAACAAAAAAAAAAIAAAAAAAAAAgAAAAAAAAACAAAAAAAAAAIAAAAAAAAAAgAAAAAAAAACAAAAAAAAAAIAAAAAAAAAAgAAAAAAAAACAAAAAAAAAAIAAAAAAAAAAgAAAAAAAAACAAAAAAAAAAIAAAAAAAAAAgAAAAAAAAACAAAAAAAAAAIAAAAAAAAAAgAAAAAAAAACAAAAAAAAAAIAAAAAAAAAAAAAAAAAAAAAAAAAAAAAAAAAAAAAAAAAAAAAAAAAAAAAAAAAAAAAAAAAAAAAAAAAAAC6cFk5RFzRAXivirLNAbkCNwsNsFSqAQIA98LDaa4lAqvmobqDVkECMsUn3b4CUQE6/o23lkZdAVskeUTpomkDjy3a6OgedQLSOoXQXVJ9AFjI0sWuooEB6AEhkBYehQFoiJFemS6JAzc2x/HP6okDd8ory95WjQBVPG/ZeIKRADB0JcricpEDl1Xn+ORSlQGZV5/FsdKVAzaUTiDvKpUCtYY6hrBamQCjUl+45XaZA2kUS/9GfpkBDEPIO+tumQNj1JUN0EadAZ8hnk8tCp0BB+phl8oWnQJXhrvDZwadAn3U+QvX2p0BIOesg0SCoQBpf+K8lRqhAPjEVumVnqEA=",
          "dtype": "f8"
         }
        },
        {
         "mode": "lines",
         "name": "destination_city_Hyderabad_Economy",
         "type": "scatter",
         "x": {
          "bdata": "rIboVEcd+ECVt6y3i3f1QIzkXL43HPNAUGE4RCAD8UBZyuhv/0nuQOeQB8+59upAVPxzIOkA6ECm9QnLSl7lQHyzBpK8BeNAu4Kr7Bzv4EB3bTqvXSbeQOV/pHwB19pAoWE1S6zk10ASu7KTJ0XVQBCxCdhb79JA7pkvIDHb0EBMVlHZ5QLOQMYP83put8pAOonqrZDIx0D2NbTuISzFQDdFSXEV2cJAYHMSw1zHwEDy6N28l9+9QIuGDZ4AmLpAlHR/IZast0BusUS5ORO1QH9xzT7pwrJASnDCuZ+zsEDqi8ooc7ytQATOQbq3eKpAyh0Of7yQp0BDZcPQbvqkQMalwiHXrKJAbWDO6PmfoEDKYzvsd5mdQEQ3EaSTWZpAlEHenwN1l0C0RbgSweGUQIaVefvelpJAC1zlNGuMkEA6D47WpXaNQD0+MDCUOopAYyllXWtZh0B909NcMMmEQC0NZ60AgYJAsp3WgvN4gECOY1m3/FN9QFNNhjO5G3pAtnVFkfM9d0BF7O6MvLB0QKHHIxk8a3JAkFyRt5JlcEA4KW1efDFtQKuBLYMC/WlA9ehOFZwiZ0APmwqBZZhkQOlDbCCRVWJA1aYkuEhSYEAI2dGbJA9dQHBvcvRv3llAHzJ+w2QHV0Dn6E8XK4BUQDqbIKX/P1JAOTy/aRU/UEA+Wcg/9exMQF3m01wBwElAJrj8dU3sRkABrg8uDWhEQPNWRImHKkJAoGivsfgrQEBdu8ka7so8QNm2ApK2oTlAOWUgB1bRNkCxYsKjC1A0QAxH/q4oFTJAI99idfIYMEAD+ob9DqksQOt24WmPgylAWnJrUX62JkD98AdXJjgkQINYmPji/yFA9JRmmgIGIEASt+i4V4ccQOBHhLqLZRlAZDOML8abFkAFhqcmXSAUQBdsf0i26hFAhTnNDFLmD0A++g4eyGUMQOubMFqrRwlABONcfC2BBkAXZI/xrwgEQBwtQ4Gi1QFA7ANcPsvA/z8b8FD+X0T8PxT8XB/uKfk/F2/jErRm9j9mtNSWHvHzP5LolYWnwPE/5EhNlXCb7z8=",
          "dtype": "f8"
         },
         "y": {
          "bdata": "AAAAAAAAAAAAAAAAAAAAAAAAAAAAAAAAAAAAAAAAAAAAAAAAAAAAAAAAAAAAAAAAAAAAAAAAAAAAAAAAAAAAAAAAAAAAAAAAAAAAAAAAAAAAAAAAAAAAAAAAAAAAAAAAAAAAAAAAAAAAAAAAAAAAAAAAAAAAAAAAAAAAAAAAAAAAAAAAAAAAAAAAAAAAAACAAAAAAAAAAIAAAAAAAAAAgAAAAAAAAACAAAAAAAAAAIAAAAAAAAAAgAAAAAAAAACAAAAAAAAAAIAAAAAAAAAAgAAAAAAAAACAAAAAAAAAAIAAAAAAAAAAgAAAAAAAAACAAAAAAAAAAIAAAAAAAAAAgAAAAAAAAACAAAAAAAAAAIAAAAAAAAAAgAAAAAAAAACAAAAAAAAAAIAAAAAAAAAAgAAAAAAAAACAAAAAAAAAAIAAAAAAAAAAgAAAAAAAAACAAAAAAAAAAIAAAAAAAAAAgAAAAAAAAACAAAAAAAAAAIAAAAAAAAAAgAAAAAAAAACAAAAAAAAAAIAAAAAAAAAAgAAAAAAAAACAAAAAAAAAAIAAAAAAAAAAgAAAAAAAAACAAAAAAAAAAIAAAAAAAAAAgAAAAAAAAACAAAAAAAAAAIAAAAAAAAAAgAAAAAAAAACAAAAAAAAAAIAAAAAAAAAAAAAAAAAAAAAAAAAAAAAAAAAAAAAAAAAAAAAAAAAAAAAAAAAAAAAAAAAAAAAAAAAAAAAAAAAAAAAAos/UTay9YkDJxtPa1BZ9QDLpfmb8+IdAaNAvPIAvkECqEDtGK+yTQOFsKiXWCpdAi/wQXb91mUDHpg51hJqbQCqWsVvfoZ1ArnTfNxR1n0Dwz1r+k4igQGhqiwCbPqFAst5WzszgoUDJcecmQHGiQJdF6Une8aJApnITGaJjo0BZ15FM9LyjQNXktpqeA6RA1MT4pRVCpEDurE5zpnmkQM9drS1uraRAAsSzxf7epEAXRNQBEwylQH/Dmf07NKVA26MlS9NZpUBEN4KAjpOlQAfDmKKKx6VA9GYKUr71pUCEu1Av+hmmQFmDlTQuOqZAxnMz/ttWpkA=",
          "dtype": "f8"
         }
        },
        {
         "mode": "lines",
         "name": "destination_city_Kolkata_Economy",
         "type": "scatter",
         "x": {
          "bdata": "rIboVEcd+ECVt6y3i3f1QIzkXL43HPNAUGE4RCAD8UBZyuhv/0nuQOeQB8+59upAVPxzIOkA6ECm9QnLSl7lQHyzBpK8BeNAu4Kr7Bzv4EB3bTqvXSbeQOV/pHwB19pAoWE1S6zk10ASu7KTJ0XVQBCxCdhb79JA7pkvIDHb0EBMVlHZ5QLOQMYP83put8pAOonqrZDIx0D2NbTuISzFQDdFSXEV2cJAYHMSw1zHwEDy6N28l9+9QIuGDZ4AmLpAlHR/IZast0BusUS5ORO1QH9xzT7pwrJASnDCuZ+zsEDqi8ooc7ytQATOQbq3eKpAyh0Of7yQp0BDZcPQbvqkQMalwiHXrKJAbWDO6PmfoEDKYzvsd5mdQEQ3EaSTWZpAlEHenwN1l0C0RbgSweGUQIaVefvelpJAC1zlNGuMkEA6D47WpXaNQD0+MDCUOopAYyllXWtZh0B909NcMMmEQC0NZ60AgYJAsp3WgvN4gECOY1m3/FN9QFNNhjO5G3pAtnVFkfM9d0BF7O6MvLB0QKHHIxk8a3JAkFyRt5JlcEA4KW1efDFtQKuBLYMC/WlA9ehOFZwiZ0APmwqBZZhkQOlDbCCRVWJA1aYkuEhSYEAI2dGbJA9dQHBvcvRv3llAHzJ+w2QHV0Dn6E8XK4BUQDqbIKX/P1JAOTy/aRU/UEA+Wcg/9exMQF3m01wBwElAJrj8dU3sRkABrg8uDWhEQPNWRImHKkJAoGivsfgrQEBdu8ka7so8QNm2ApK2oTlAOWUgB1bRNkCxYsKjC1A0QAxH/q4oFTJAI99idfIYMEAD+ob9DqksQOt24WmPgylAWnJrUX62JkD98AdXJjgkQINYmPji/yFA9JRmmgIGIEASt+i4V4ccQOBHhLqLZRlAZDOML8abFkAFhqcmXSAUQBdsf0i26hFAhTnNDFLmD0A++g4eyGUMQOubMFqrRwlABONcfC2BBkAXZI/xrwgEQBwtQ4Gi1QFA7ANcPsvA/z8b8FD+X0T8PxT8XB/uKfk/F2/jErRm9j9mtNSWHvHzP5LolYWnwPE/5EhNlXCb7z8=",
          "dtype": "f8"
         },
         "y": {
          "bdata": "AAAAAAAAAAAAAAAAAAAAAAAAAAAAAAAAAAAAAAAAAAAAAAAAAAAAAAAAAAAAAAAAAAAAAAAAAAAAAAAAAAAAAAAAAAAAAAAAAAAAAAAAAAAAAAAAAAAAAAAAAAAAAAAAAAAAAAAAAAAAAAAAAAAAAAAAAAAAAAAAAAAAAAAAAAAAAAAAAAAAAAAAAAAAAAAAAAAAAAAAAIAAAAAAAAAAgAAAAAAAAACAAAAAAAAAAIAAAAAAAAAAgAAAAAAAAACAAAAAAAAAAIAAAAAAAAAAgAAAAAAAAACAAAAAAAAAAIAAAAAAAAAAgAAAAAAAAACAAAAAAAAAAIAAAAAAAAAAgAAAAAAAAACAAAAAAAAAAIAAAAAAAAAAgAAAAAAAAACAAAAAAAAAAIAAAAAAAAAAgAAAAAAAAACAAAAAAAAAAIAAAAAAAAAAgAAAAAAAAACAAAAAAAAAAIAAAAAAAAAAgAAAAAAAAACAAAAAAAAAAAAAAAAAAAAAAAAAAAAAAAAAAAAAAAAAAAAAAAAAAAAAAAAAAAAAAAAAAAAAAAAAAAAAAAAAAAAAAAAAAAAAAAAAAAAAAAAAAAAAAAAAAAAAgAAAAAAAAACAAAAAAAAAAIAAAAAAAAAAgAAAAAAAAACAAAAAAAAAAIAAAAAAAAAAgAAAAAAAAACAAAAAAAAAAIDykh+nHFVxwB6vZEoP4YTA99PYTARhkcC0qg27YLaXwG8PuuD3Gp3AagAgeW08oMCjKhTj5TehwNoWY3o+9aHAtEAcXXmdosAfyewz2TOjwNDZjRXqs6PAmQ8snm0VpMBPUC2n8G6kwFwgkNjkvaTAWMk1D1AJpcDz6Cm/806lwLv94+tij6XAwwwDtfLIpcDvxJS0RfylwJdPitj+KabARpU8tctTpsDx7OA1Q4WmwERE7C0ntKbAGw1zMV3epsC3eWOA7gOnwIxnUSbzJKfA0OVf+HFBp8BT/hoXAVunwIPBIxrTcafAVlyWOlCEp8DKSYcAX3ynwD/9zcyNdafAVdusVNxvp8AVC8zRmmunwPPikWGXZ6fAsMHg8QBkp8A=",
          "dtype": "f8"
         }
        },
        {
         "mode": "lines",
         "name": "destination_city_Mumbai_Economy",
         "type": "scatter",
         "x": {
          "bdata": "rIboVEcd+ECVt6y3i3f1QIzkXL43HPNAUGE4RCAD8UBZyuhv/0nuQOeQB8+59upAVPxzIOkA6ECm9QnLSl7lQHyzBpK8BeNAu4Kr7Bzv4EB3bTqvXSbeQOV/pHwB19pAoWE1S6zk10ASu7KTJ0XVQBCxCdhb79JA7pkvIDHb0EBMVlHZ5QLOQMYP83put8pAOonqrZDIx0D2NbTuISzFQDdFSXEV2cJAYHMSw1zHwEDy6N28l9+9QIuGDZ4AmLpAlHR/IZast0BusUS5ORO1QH9xzT7pwrJASnDCuZ+zsEDqi8ooc7ytQATOQbq3eKpAyh0Of7yQp0BDZcPQbvqkQMalwiHXrKJAbWDO6PmfoEDKYzvsd5mdQEQ3EaSTWZpAlEHenwN1l0C0RbgSweGUQIaVefvelpJAC1zlNGuMkEA6D47WpXaNQD0+MDCUOopAYyllXWtZh0B909NcMMmEQC0NZ60AgYJAsp3WgvN4gECOY1m3/FN9QFNNhjO5G3pAtnVFkfM9d0BF7O6MvLB0QKHHIxk8a3JAkFyRt5JlcEA4KW1efDFtQKuBLYMC/WlA9ehOFZwiZ0APmwqBZZhkQOlDbCCRVWJA1aYkuEhSYEAI2dGbJA9dQHBvcvRv3llAHzJ+w2QHV0Dn6E8XK4BUQDqbIKX/P1JAOTy/aRU/UEA+Wcg/9exMQF3m01wBwElAJrj8dU3sRkABrg8uDWhEQPNWRImHKkJAoGivsfgrQEBdu8ka7so8QNm2ApK2oTlAOWUgB1bRNkCxYsKjC1A0QAxH/q4oFTJAI99idfIYMEAD+ob9DqksQOt24WmPgylAWnJrUX62JkD98AdXJjgkQINYmPji/yFA9JRmmgIGIEASt+i4V4ccQOBHhLqLZRlAZDOML8abFkAFhqcmXSAUQBdsf0i26hFAhTnNDFLmD0A++g4eyGUMQOubMFqrRwlABONcfC2BBkAXZI/xrwgEQBwtQ4Gi1QFA7ANcPsvA/z8b8FD+X0T8PxT8XB/uKfk/F2/jErRm9j9mtNSWHvHzP5LolYWnwPE/5EhNlXCb7z8=",
          "dtype": "f8"
         },
         "y": {
          "bdata": "AAAAAAAAAAAAAAAAAAAAAAAAAAAAAAAAAAAAAAAAAAAAAAAAAAAAAAAAAAAAAAAAAAAAAAAAAAAAAAAAAAAAAAAAAAAAAAAAAAAAAAAAAAAAAAAAAAAAAAAAAAAAAAAAAAAAAAAAAAAAAAAAAAAAAAAAAAAAAAAAAAAAAAAAAAAAAAAAAAAAAAAAAAAAAACAAAAAAAAAAIAAAAAAAAAAgAAAAAAAAACAAAAAAAAAAIAAAAAAAAAAgAAAAAAAAACAAAAAAAAAAIAAAAAAAAAAgAAAAAAAAACAAAAAAAAAAIAAAAAAAAAAgAAAAAAAAACAAAAAAAAAAIAAAAAAAAAAgAAAAAAAAACAAAAAAAAAAIAAAAAAAAAAgAAAAAAAAACAAAAAAAAAAIAAAAAAAAAAgAAAAAAAAACAAAAAAAAAAIAAAAAAAAAAgAAAAAAAAACAAAAAAAAAAIAAAAAAAAAAgAAAAAAAAACAAAAAAAAAAIAAAAAAAAAAgAAAAAAAAACAAAAAAAAAAIAAAAAAAAAAgAAAAAAAAACAAAAAAAAAAIAAAAAAAAAAgAAAAAAAAACAAAAAAAAAAIAAAAAAAAAAgAAAAAAAAACAAAAAAAAAAIAAAAAAAAAAgAAAAAAAAACAAAAAAAAAAIAAAAAAAAAAgAAAAAAAAACAAAAAAAAAAIAAAAAAAAAAgAAAAAAAAACAuzpnCsa7a8ARcBqN6q5/wNFfi+C5mojAenRgLXqEjcD9g5GYWAWQwKDSPWAV3pDAW34STzWekcAa2oiohEqSwBu9MX4/EJPAyHIgw13Ak8Bs2jcgWViUwG+tfVHttpTA/oqBBGAGlcB4uxp0y1OVwLcWgXwJmZXAg/3q4lXWlcAc/og5wwyWwBFMsgQoPZbA1Ens/6pplsAUCJN0kKeWwNSg4jBm7JbApzTtWPMrl8DIqi3xr2SXwIkHgKQ9lJfAkYcDCcm5l8BQsVcECdqXwKdGTtOu9pfA/8OApokMmMDhcegwU/CXwEvxTfVJ1JfAJwzedBO6l8CFwcjs8KiXwISLzo+dnJfA2UDFDZ+Rl8A=",
          "dtype": "f8"
         }
        },
        {
         "mode": "lines",
         "name": "days_left_inv_Economy",
         "type": "scatter",
         "x": {
          "bdata": "rIboVEcd+ECVt6y3i3f1QIzkXL43HPNAUGE4RCAD8UBZyuhv/0nuQOeQB8+59upAVPxzIOkA6ECm9QnLSl7lQHyzBpK8BeNAu4Kr7Bzv4EB3bTqvXSbeQOV/pHwB19pAoWE1S6zk10ASu7KTJ0XVQBCxCdhb79JA7pkvIDHb0EBMVlHZ5QLOQMYP83put8pAOonqrZDIx0D2NbTuISzFQDdFSXEV2cJAYHMSw1zHwEDy6N28l9+9QIuGDZ4AmLpAlHR/IZast0BusUS5ORO1QH9xzT7pwrJASnDCuZ+zsEDqi8ooc7ytQATOQbq3eKpAyh0Of7yQp0BDZcPQbvqkQMalwiHXrKJAbWDO6PmfoEDKYzvsd5mdQEQ3EaSTWZpAlEHenwN1l0C0RbgSweGUQIaVefvelpJAC1zlNGuMkEA6D47WpXaNQD0+MDCUOopAYyllXWtZh0B909NcMMmEQC0NZ60AgYJAsp3WgvN4gECOY1m3/FN9QFNNhjO5G3pAtnVFkfM9d0BF7O6MvLB0QKHHIxk8a3JAkFyRt5JlcEA4KW1efDFtQKuBLYMC/WlA9ehOFZwiZ0APmwqBZZhkQOlDbCCRVWJA1aYkuEhSYEAI2dGbJA9dQHBvcvRv3llAHzJ+w2QHV0Dn6E8XK4BUQDqbIKX/P1JAOTy/aRU/UEA+Wcg/9exMQF3m01wBwElAJrj8dU3sRkABrg8uDWhEQPNWRImHKkJAoGivsfgrQEBdu8ka7so8QNm2ApK2oTlAOWUgB1bRNkCxYsKjC1A0QAxH/q4oFTJAI99idfIYMEAD+ob9DqksQOt24WmPgylAWnJrUX62JkD98AdXJjgkQINYmPji/yFA9JRmmgIGIEASt+i4V4ccQOBHhLqLZRlAZDOML8abFkAFhqcmXSAUQBdsf0i26hFAhTnNDFLmD0A++g4eyGUMQOubMFqrRwlABONcfC2BBkAXZI/xrwgEQBwtQ4Gi1QFA7ANcPsvA/z8b8FD+X0T8PxT8XB/uKfk/F2/jErRm9j9mtNSWHvHzP5LolYWnwPE/5EhNlXCb7z8=",
          "dtype": "f8"
         },
         "y": {
          "bdata": "AAAAAAAAAAAAAAAAAAAAAAAAAAAAAAAAAAAAAAAAAAAAAAAAAAAAAAAAAAAAAAAAAAAAAAAAAAAAAAAAAAAAAAAAAAAAAAAAAAAAAAAAAAAAAAAAAAAAAAAAAAAAAAAAAAAAAAAAAAAAAAAAAAAAAAAAAAAAAAAAAAAAAAAAAAAAAAAAAAAAAAAAAAAAAAAAAAAAAAAAAAAAAAAAAAAAgAAAAAAAAACAAAAAAAAAAIAAAAAAAAAAgAAAAAAAAACAAAAAAAAAAIAAAAAAAAAAgAAAAAAAAACAAAAAAAAAAIAAAAAAAAAAgAAAAAAAAACAAAAAAAAAAIAAAAAAAAAAgAAAAAAAAACAAAAAAAAAAIAAAAAAAAAAgAAAAAAAAACAAAAAAAAAAIAAAAAAAAAAgAAAAAAAAACAAAAAAAAAAIAAAAAAAAAAgAAAAAAAAACAAAAAAAAAAIAAAAAAAAAAgAAAAAAAAACAAAAAAAAAAIAAAAAAAAAAgAAAAAAAAACAAAAAAAAAAIAAAAAAAAAAgAAAAAAAAACAAAAAAAAAAIAAAAAAAAAAgAAAAAAAAACAAAAAAAAAAIAAAAAAAAAAgAAAAAAAAACAAAAAAAAAAIAAAAAAAAAAgAAAAAAAAACAAAAAAAAAAIAAAAAAAAAAgAAAAAAAAACAAAAAAAAAAIAAAAAAAAAAgAAAAAAAAACAAAAAAAAAAIAAAAAAAAAAgAAAAAAAAACAAAAAAAAAAIAAAAAAAAAAgAAAAAAAAACAAAAAAAAAAIAAAAAAAAAAgAAAAAAAAACA6QqHgo+Zj8D10iFaRD+hwF6Mx506bKnAyerUUWhisMAO88PTfKqzwHhEb4OEmbbAhUUTv3M2ucAmqaWsF4q7wHQCjF5mnL3AohWzhqR0v8BqbSWQI47AwOvmV8BBTMHAO+7I/on1wcAqqfcNO4zCwFXMYK1nEsPAhTzsYyqJw8Ct19ii9PHDwGxF/BpLT8TATt2QKViixMAQHWEDsuvEwMITCyLQLMXAwcDM4N5mxcDHdHPzz5rFwFfBoKj3yMXAvMSWigvyxcA=",
          "dtype": "f8"
         }
        },
        {
         "mode": "lines",
         "name": "duration_log_Economy",
         "type": "scatter",
         "x": {
          "bdata": "rIboVEcd+ECVt6y3i3f1QIzkXL43HPNAUGE4RCAD8UBZyuhv/0nuQOeQB8+59upAVPxzIOkA6ECm9QnLSl7lQHyzBpK8BeNAu4Kr7Bzv4EB3bTqvXSbeQOV/pHwB19pAoWE1S6zk10ASu7KTJ0XVQBCxCdhb79JA7pkvIDHb0EBMVlHZ5QLOQMYP83put8pAOonqrZDIx0D2NbTuISzFQDdFSXEV2cJAYHMSw1zHwEDy6N28l9+9QIuGDZ4AmLpAlHR/IZast0BusUS5ORO1QH9xzT7pwrJASnDCuZ+zsEDqi8ooc7ytQATOQbq3eKpAyh0Of7yQp0BDZcPQbvqkQMalwiHXrKJAbWDO6PmfoEDKYzvsd5mdQEQ3EaSTWZpAlEHenwN1l0C0RbgSweGUQIaVefvelpJAC1zlNGuMkEA6D47WpXaNQD0+MDCUOopAYyllXWtZh0B909NcMMmEQC0NZ60AgYJAsp3WgvN4gECOY1m3/FN9QFNNhjO5G3pAtnVFkfM9d0BF7O6MvLB0QKHHIxk8a3JAkFyRt5JlcEA4KW1efDFtQKuBLYMC/WlA9ehOFZwiZ0APmwqBZZhkQOlDbCCRVWJA1aYkuEhSYEAI2dGbJA9dQHBvcvRv3llAHzJ+w2QHV0Dn6E8XK4BUQDqbIKX/P1JAOTy/aRU/UEA+Wcg/9exMQF3m01wBwElAJrj8dU3sRkABrg8uDWhEQPNWRImHKkJAoGivsfgrQEBdu8ka7so8QNm2ApK2oTlAOWUgB1bRNkCxYsKjC1A0QAxH/q4oFTJAI99idfIYMEAD+ob9DqksQOt24WmPgylAWnJrUX62JkD98AdXJjgkQINYmPji/yFA9JRmmgIGIEASt+i4V4ccQOBHhLqLZRlAZDOML8abFkAFhqcmXSAUQBdsf0i26hFAhTnNDFLmD0A++g4eyGUMQOubMFqrRwlABONcfC2BBkAXZI/xrwgEQBwtQ4Gi1QFA7ANcPsvA/z8b8FD+X0T8PxT8XB/uKfk/F2/jErRm9j9mtNSWHvHzP5LolYWnwPE/5EhNlXCb7z8=",
          "dtype": "f8"
         },
         "y": {
          "bdata": "AAAAAAAAAAAAAAAAAAAAAAAAAAAAAAAAAAAAAAAAAAAAAAAAAAAAAAAAAAAAAAAAAAAAAAAAAAAAAAAAAAAAAAAAAAAAAAAAAAAAAAAAAAAAAAAAAAAAAAAAAAAAAAAAAAAAAAAAAAAAAAAAAAAAAAAAAAAAAAAAAAAAAAAAAAAAAAAAAAAAAAAAAAAAAAAAAAAAAAAAAIAAAAAAAAAAgAAAAAAAAACAAAAAAAAAAIAAAAAAAAAAgAAAAAAAAACAAAAAAAAAAIAAAAAAAAAAgAAAAAAAAACAAAAAAAAAAIAAAAAAAAAAgAAAAAAAAACAAAAAAAAAAIAAAAAAAAAAgAAAAAAAAACAoWBoUY3posAt1PQX6xevwDDMQoET9rTAirOObw3IucC1X/HOuRG+wC81Y5QH8cDAyXveRN6kwsCVAW7LCCfEwPsB23AjfsXAArVf88euxsDGf+tQp8DHwB7WLmMqnsjAhH7LWAGzx8A9IcQEAZzGwDYHHtPAocXAe3vRI8e6xMDcwMRbTvnDwHF3OMj4rMTAVeLSmoULxMB7CA/jp2HGwL53TetXf8nAlZvnUAlJzMDZ+d3L/MLOwIlhYvxEe9DASrLhHiB30cDiPlDCXljSwODpW6iaItPApsnwBAvX08CGKZ1Y2nXUwJolMTRI/tTAiT/DO/h41cDGeIn4xuDVwF0uu7pVO9bAXoNfe5iK1sA2hOVK9NHWwAKnTVP0ENfApdgc9E9J18Bfli8G34DXwAFsDcXordfACmn3zPHV18AtHp9Jl/nXwOpCbMfKFdjAX119CXMw2MDErVEorEXYwCuFbFhJ+tfAxHdzStCC18CCB/QHDwnXwA3CwlSsk9bAb6ddovAo1sCODXgMAsnVwDyau2U7c9XADRQfWD4m1cAHZ+3EFN3UwMJFN19MmtTAFDReH3Be1MAiYhlQkynUwB5OcZSN+9PAikNL/CvT08AKSNAMB63TwJqATSJ6itPAoiXyxIBr08BASTM8gFDTwMVvgVXWNtPAx88Nn6Qe08DDMr2qvwbTwN6N4fTK8tLAN3ciKBDh0sA=",
          "dtype": "f8"
         }
        },
        {
         "hovertemplate": "Alpha: 87928.7323<br>Non-zero features: 1<extra></extra>",
         "line": {
          "color": "gray",
          "dash": "dot"
         },
         "mode": "lines",
         "showlegend": false,
         "type": "scatter",
         "x": [
          87928.73234245025,
          87928.73234245025
         ],
         "y": [
          -24854.689960879987,
          45066.46320478578
         ]
        },
        {
         "hovertemplate": "Alpha: 34680.9039<br>Non-zero features: 2<extra></extra>",
         "line": {
          "color": "gray",
          "dash": "dot"
         },
         "mode": "lines",
         "showlegend": false,
         "type": "scatter",
         "x": [
          34680.90389037641,
          34680.90389037641
         ],
         "y": [
          -24854.689960879987,
          45066.46320478578
         ]
        },
        {
         "hovertemplate": "Alpha: 17260.7676<br>Non-zero features: 3<extra></extra>",
         "line": {
          "color": "gray",
          "dash": "dot"
         },
         "mode": "lines",
         "showlegend": false,
         "type": "scatter",
         "x": [
          17260.76758947403,
          17260.76758947403
         ],
         "y": [
          -24854.689960879987,
          45066.46320478578
         ]
        },
        {
         "hovertemplate": "Alpha: 15365.7957<br>Non-zero features: 1<extra></extra>",
         "line": {
          "color": "gray",
          "dash": "dot"
         },
         "mode": "lines",
         "showlegend": false,
         "type": "scatter",
         "x": [
          15365.79569451059,
          15365.79569451059
         ],
         "y": [
          -24854.689960879987,
          45066.46320478578
         ]
        },
        {
         "hovertemplate": "Alpha: 13678.8631<br>Non-zero features: 2<extra></extra>",
         "line": {
          "color": "gray",
          "dash": "dot"
         },
         "mode": "lines",
         "showlegend": false,
         "type": "scatter",
         "x": [
          13678.863127119734,
          13678.863127119734
         ],
         "y": [
          -24854.689960879987,
          45066.46320478578
         ]
        },
        {
         "hovertemplate": "Alpha: 9650.1675<br>Non-zero features: 3<extra></extra>",
         "line": {
          "color": "gray",
          "dash": "dot"
         },
         "mode": "lines",
         "showlegend": false,
         "type": "scatter",
         "x": [
          9650.167519720837,
          9650.167519720837
         ],
         "y": [
          -24854.689960879987,
          45066.46320478578
         ]
        },
        {
         "hovertemplate": "Alpha: 5395.2255<br>Non-zero features: 4<extra></extra>",
         "line": {
          "color": "gray",
          "dash": "dot"
         },
         "mode": "lines",
         "showlegend": false,
         "type": "scatter",
         "x": [
          5395.2254832204035,
          5395.2254832204035
         ],
         "y": [
          -24854.689960879987,
          45066.46320478578
         ]
        },
        {
         "hovertemplate": "Alpha: 4275.6239<br>Non-zero features: 5<extra></extra>",
         "line": {
          "color": "gray",
          "dash": "dot"
         },
         "mode": "lines",
         "showlegend": false,
         "type": "scatter",
         "x": [
          4275.623928215422,
          4275.623928215422
         ],
         "y": [
          -24854.689960879987,
          45066.46320478578
         ]
        },
        {
         "hovertemplate": "Alpha: 2685.2164<br>Non-zero features: 6<extra></extra>",
         "line": {
          "color": "gray",
          "dash": "dot"
         },
         "mode": "lines",
         "showlegend": false,
         "type": "scatter",
         "x": [
          2685.216436487304,
          2685.216436487304
         ],
         "y": [
          -24854.689960879987,
          45066.46320478578
         ]
        },
        {
         "hovertemplate": "Alpha: 2390.4202<br>Non-zero features: 7<extra></extra>",
         "line": {
          "color": "gray",
          "dash": "dot"
         },
         "mode": "lines",
         "showlegend": false,
         "type": "scatter",
         "x": [
          2390.4201794459686,
          2390.4201794459686
         ],
         "y": [
          -24854.689960879987,
          45066.46320478578
         ]
        },
        {
         "hovertemplate": "Alpha: 592.1253<br>Non-zero features: 9<extra></extra>",
         "line": {
          "color": "gray",
          "dash": "dot"
         },
         "mode": "lines",
         "showlegend": false,
         "type": "scatter",
         "x": [
          592.1253307391067,
          592.1253307391067
         ],
         "y": [
          -24854.689960879987,
          45066.46320478578
         ]
        },
        {
         "hovertemplate": "Alpha: 527.1189<br>Non-zero features: 8<extra></extra>",
         "line": {
          "color": "gray",
          "dash": "dot"
         },
         "mode": "lines",
         "showlegend": false,
         "type": "scatter",
         "x": [
          527.118901898086,
          527.118901898086
         ],
         "y": [
          -24854.689960879987,
          45066.46320478578
         ]
        },
        {
         "hovertemplate": "Alpha: 469.2492<br>Non-zero features: 10<extra></extra>",
         "line": {
          "color": "gray",
          "dash": "dot"
         },
         "mode": "lines",
         "showlegend": false,
         "type": "scatter",
         "x": [
          469.24919829289945,
          469.24919829289945
         ],
         "y": [
          -24854.689960879987,
          45066.46320478578
         ]
        },
        {
         "hovertemplate": "Alpha: 331.0460<br>Non-zero features: 11<extra></extra>",
         "line": {
          "color": "gray",
          "dash": "dot"
         },
         "mode": "lines",
         "showlegend": false,
         "type": "scatter",
         "x": [
          331.04603284196156,
          331.04603284196156
         ],
         "y": [
          -24854.689960879987,
          45066.46320478578
         ]
        },
        {
         "hovertemplate": "Alpha: 262.3483<br>Non-zero features: 13<extra></extra>",
         "line": {
          "color": "gray",
          "dash": "dot"
         },
         "mode": "lines",
         "showlegend": false,
         "type": "scatter",
         "x": [
          262.34831959516396,
          262.34831959516396
         ],
         "y": [
          -24854.689960879987,
          45066.46320478578
         ]
        },
        {
         "hovertemplate": "Alpha: 233.5464<br>Non-zero features: 15<extra></extra>",
         "line": {
          "color": "gray",
          "dash": "dot"
         },
         "mode": "lines",
         "showlegend": false,
         "type": "scatter",
         "x": [
          233.5464317447711,
          233.5464317447711
         ],
         "y": [
          -24854.689960879987,
          45066.46320478578
         ]
        },
        {
         "hovertemplate": "Alpha: 207.9066<br>Non-zero features: 16<extra></extra>",
         "line": {
          "color": "gray",
          "dash": "dot"
         },
         "mode": "lines",
         "showlegend": false,
         "type": "scatter",
         "x": [
          207.90655669105521,
          207.90655669105521
         ],
         "y": [
          -24854.689960879987,
          45066.46320478578
         ]
        },
        {
         "hovertemplate": "Alpha: 185.0816<br>Non-zero features: 17<extra></extra>",
         "line": {
          "color": "gray",
          "dash": "dot"
         },
         "mode": "lines",
         "showlegend": false,
         "type": "scatter",
         "x": [
          185.08155312931163,
          185.08155312931163
         ],
         "y": [
          -24854.689960879987,
          45066.46320478578
         ]
        },
        {
         "hovertemplate": "Alpha: 164.7624<br>Non-zero features: 18<extra></extra>",
         "line": {
          "color": "gray",
          "dash": "dot"
         },
         "mode": "lines",
         "showlegend": false,
         "type": "scatter",
         "x": [
          164.76239063331056,
          164.76239063331056
         ],
         "y": [
          -24854.689960879987,
          45066.46320478578
         ]
        },
        {
         "hovertemplate": "Alpha: 146.6740<br>Non-zero features: 19<extra></extra>",
         "line": {
          "color": "gray",
          "dash": "dot"
         },
         "mode": "lines",
         "showlegend": false,
         "type": "scatter",
         "x": [
          146.67396565576135,
          146.67396565576135
         ],
         "y": [
          -24854.689960879987,
          45066.46320478578
         ]
        },
        {
         "hovertemplate": "Alpha: 130.5714<br>Non-zero features: 20<extra></extra>",
         "line": {
          "color": "gray",
          "dash": "dot"
         },
         "mode": "lines",
         "showlegend": false,
         "type": "scatter",
         "x": [
          130.5713768688062,
          130.5713768688062
         ],
         "y": [
          -24854.689960879987,
          45066.46320478578
         ]
        },
        {
         "hovertemplate": "Alpha: 116.2366<br>Non-zero features: 21<extra></extra>",
         "line": {
          "color": "gray",
          "dash": "dot"
         },
         "mode": "lines",
         "showlegend": false,
         "type": "scatter",
         "x": [
          116.23660941594073,
          116.23660941594073
         ],
         "y": [
          -24854.689960879987,
          45066.46320478578
         ]
        },
        {
         "hovertemplate": "Alpha: 103.4756<br>Non-zero features: 22<extra></extra>",
         "line": {
          "color": "gray",
          "dash": "dot"
         },
         "mode": "lines",
         "showlegend": false,
         "type": "scatter",
         "x": [
          103.47558318305323,
          103.47558318305323
         ],
         "y": [
          -24854.689960879987,
          45066.46320478578
         ]
        },
        {
         "hovertemplate": "Alpha: 82.0026<br>Non-zero features: 23<extra></extra>",
         "line": {
          "color": "gray",
          "dash": "dot"
         },
         "mode": "lines",
         "showlegend": false,
         "type": "scatter",
         "x": [
          82.00263006976785,
          82.00263006976785
         ],
         "y": [
          -24854.689960879987,
          45066.46320478578
         ]
        },
        {
         "hovertemplate": "Alpha: 64.9857<br>Non-zero features: 26<extra></extra>",
         "line": {
          "color": "gray",
          "dash": "dot"
         },
         "mode": "lines",
         "showlegend": false,
         "type": "scatter",
         "x": [
          64.98568195033376,
          64.98568195033376
         ],
         "y": [
          -24854.689960879987,
          45066.46320478578
         ]
        },
        {
         "hovertemplate": "Alpha: 57.8512<br>Non-zero features: 28<extra></extra>",
         "line": {
          "color": "gray",
          "dash": "dot"
         },
         "mode": "lines",
         "showlegend": false,
         "type": "scatter",
         "x": [
          57.851234410120455,
          57.851234410120455
         ],
         "y": [
          -24854.689960879987,
          45066.46320478578
         ]
        },
        {
         "hovertemplate": "Alpha: 51.5000<br>Non-zero features: 31<extra></extra>",
         "line": {
          "color": "gray",
          "dash": "dot"
         },
         "mode": "lines",
         "showlegend": false,
         "type": "scatter",
         "x": [
          51.500041583506324,
          51.500041583506324
         ],
         "y": [
          -24854.689960879987,
          45066.46320478578
         ]
        },
        {
         "hovertemplate": "Alpha: 45.8461<br>Non-zero features: 32<extra></extra>",
         "line": {
          "color": "gray",
          "dash": "dot"
         },
         "mode": "lines",
         "showlegend": false,
         "type": "scatter",
         "x": [
          45.84611391868411,
          45.84611391868411
         ],
         "y": [
          -24854.689960879987,
          45066.46320478578
         ]
        },
        {
         "hovertemplate": "Alpha: 40.8129<br>Non-zero features: 33<extra></extra>",
         "line": {
          "color": "gray",
          "dash": "dot"
         },
         "mode": "lines",
         "showlegend": false,
         "type": "scatter",
         "x": [
          40.812902219444375,
          40.812902219444375
         ],
         "y": [
          -24854.689960879987,
          45066.46320478578
         ]
        },
        {
         "hovertemplate": "Alpha: 36.3323<br>Non-zero features: 36<extra></extra>",
         "line": {
          "color": "gray",
          "dash": "dot"
         },
         "mode": "lines",
         "showlegend": false,
         "type": "scatter",
         "x": [
          36.33226123654267,
          36.33226123654267
         ],
         "y": [
          -24854.689960879987,
          45066.46320478578
         ]
        },
        {
         "hovertemplate": "Alpha: 32.3435<br>Non-zero features: 39<extra></extra>",
         "line": {
          "color": "gray",
          "dash": "dot"
         },
         "mode": "lines",
         "showlegend": false,
         "type": "scatter",
         "x": [
          32.34352704110029,
          32.34352704110029
         ],
         "y": [
          -24854.689960879987,
          45066.46320478578
         ]
        },
        {
         "hovertemplate": "Alpha: 28.7927<br>Non-zero features: 41<extra></extra>",
         "line": {
          "color": "gray",
          "dash": "dot"
         },
         "mode": "lines",
         "showlegend": false,
         "type": "scatter",
         "x": [
          28.792695688487004,
          28.792695688487004
         ],
         "y": [
          -24854.689960879987,
          45066.46320478578
         ]
        },
        {
         "hovertemplate": "Alpha: 20.3127<br>Non-zero features: 42<extra></extra>",
         "line": {
          "color": "gray",
          "dash": "dot"
         },
         "mode": "lines",
         "showlegend": false,
         "type": "scatter",
         "x": [
          20.31267760749569,
          20.31267760749569
         ],
         "y": [
          -24854.689960879987,
          45066.46320478578
         ]
        },
        {
         "hovertemplate": "Alpha: 18.0827<br>Non-zero features: 44<extra></extra>",
         "line": {
          "color": "gray",
          "dash": "dot"
         },
         "mode": "lines",
         "showlegend": false,
         "type": "scatter",
         "x": [
          18.08265203197429,
          18.08265203197429
         ],
         "y": [
          -24854.689960879987,
          45066.46320478578
         ]
        },
        {
         "hovertemplate": "Alpha: 16.0974<br>Non-zero features: 48<extra></extra>",
         "line": {
          "color": "gray",
          "dash": "dot"
         },
         "mode": "lines",
         "showlegend": false,
         "type": "scatter",
         "x": [
          16.09744962371691,
          16.09744962371691
         ],
         "y": [
          -24854.689960879987,
          45066.46320478578
         ]
        },
        {
         "hovertemplate": "Alpha: 14.3302<br>Non-zero features: 49<extra></extra>",
         "line": {
          "color": "gray",
          "dash": "dot"
         },
         "mode": "lines",
         "showlegend": false,
         "type": "scatter",
         "x": [
          14.330192492224347,
          14.330192492224347
         ],
         "y": [
          -24854.689960879987,
          45066.46320478578
         ]
        },
        {
         "hovertemplate": "Alpha: 12.7570<br>Non-zero features: 50<extra></extra>",
         "line": {
          "color": "gray",
          "dash": "dot"
         },
         "mode": "lines",
         "showlegend": false,
         "type": "scatter",
         "x": [
          12.756953533909345,
          12.756953533909345
         ],
         "y": [
          -24854.689960879987,
          45066.46320478578
         ]
        },
        {
         "hovertemplate": "Alpha: 11.3564<br>Non-zero features: 52<extra></extra>",
         "line": {
          "color": "gray",
          "dash": "dot"
         },
         "mode": "lines",
         "showlegend": false,
         "type": "scatter",
         "x": [
          11.356432480207491,
          11.356432480207491
         ],
         "y": [
          -24854.689960879987,
          45066.46320478578
         ]
        },
        {
         "hovertemplate": "Alpha: 10.1097<br>Non-zero features: 53<extra></extra>",
         "line": {
          "color": "gray",
          "dash": "dot"
         },
         "mode": "lines",
         "showlegend": false,
         "type": "scatter",
         "x": [
          10.109667510718731,
          10.109667510718731
         ],
         "y": [
          -24854.689960879987,
          45066.46320478578
         ]
        },
        {
         "hovertemplate": "Alpha: 5.6521<br>Non-zero features: 55<extra></extra>",
         "line": {
          "color": "gray",
          "dash": "dot"
         },
         "mode": "lines",
         "showlegend": false,
         "type": "scatter",
         "x": [
          5.652123206073927,
          5.652123206073927
         ],
         "y": [
          -24854.689960879987,
          45066.46320478578
         ]
        },
        {
         "hovertemplate": "Alpha: 4.4792<br>Non-zero features: 56<extra></extra>",
         "line": {
          "color": "gray",
          "dash": "dot"
         },
         "mode": "lines",
         "showlegend": false,
         "type": "scatter",
         "x": [
          4.479210980202899,
          4.479210980202899
         ],
         "y": [
          -24854.689960879987,
          45066.46320478578
         ]
        },
        {
         "hovertemplate": "Alpha: 3.9875<br>Non-zero features: 57<extra></extra>",
         "line": {
          "color": "gray",
          "dash": "dot"
         },
         "mode": "lines",
         "showlegend": false,
         "type": "scatter",
         "x": [
          3.9874611854676822,
          3.9874611854676822
         ],
         "y": [
          -24854.689960879987,
          45066.46320478578
         ]
        },
        {
         "hovertemplate": "Alpha: 3.1600<br>Non-zero features: 56<extra></extra>",
         "line": {
          "color": "gray",
          "dash": "dot"
         },
         "mode": "lines",
         "showlegend": false,
         "type": "scatter",
         "x": [
          3.1599947973331743,
          3.1599947973331743
         ],
         "y": [
          -24854.689960879987,
          45066.46320478578
         ]
        },
        {
         "hovertemplate": "Alpha: 2.8131<br>Non-zero features: 57<extra></extra>",
         "line": {
          "color": "gray",
          "dash": "dot"
         },
         "mode": "lines",
         "showlegend": false,
         "type": "scatter",
         "x": [
          2.8130750385138317,
          2.8130750385138317
         ],
         "y": [
          -24854.689960879987,
          45066.46320478578
         ]
        },
        {
         "hovertemplate": "Alpha: 1.9846<br>Non-zero features: 58<extra></extra>",
         "line": {
          "color": "gray",
          "dash": "dot"
         },
         "mode": "lines",
         "showlegend": false,
         "type": "scatter",
         "x": [
          1.984568828193228,
          1.984568828193228
         ],
         "y": [
          -24854.689960879987,
          45066.46320478578
         ]
        },
        {
         "hovertemplate": "Alpha: 1.7667<br>Non-zero features: 59<extra></extra>",
         "line": {
          "color": "gray",
          "dash": "dot"
         },
         "mode": "lines",
         "showlegend": false,
         "type": "scatter",
         "x": [
          1.766693108961596,
          1.766693108961596
         ],
         "y": [
          -24854.689960879987,
          45066.46320478578
         ]
        },
        {
         "hovertemplate": "Alpha: 1.5727<br>Non-zero features: 60<extra></extra>",
         "line": {
          "color": "gray",
          "dash": "dot"
         },
         "mode": "lines",
         "showlegend": false,
         "type": "scatter",
         "x": [
          1.5727368569494091,
          1.5727368569494091
         ],
         "y": [
          -24854.689960879987,
          45066.46320478578
         ]
        }
       ],
       "layout": {
        "height": 600,
        "legend": {
         "title": {
          "text": "Features"
         }
        },
        "template": {
         "data": {
          "bar": [
           {
            "error_x": {
             "color": "#2a3f5f"
            },
            "error_y": {
             "color": "#2a3f5f"
            },
            "marker": {
             "line": {
              "color": "white",
              "width": 0.5
             },
             "pattern": {
              "fillmode": "overlay",
              "size": 10,
              "solidity": 0.2
             }
            },
            "type": "bar"
           }
          ],
          "barpolar": [
           {
            "marker": {
             "line": {
              "color": "white",
              "width": 0.5
             },
             "pattern": {
              "fillmode": "overlay",
              "size": 10,
              "solidity": 0.2
             }
            },
            "type": "barpolar"
           }
          ],
          "carpet": [
           {
            "aaxis": {
             "endlinecolor": "#2a3f5f",
             "gridcolor": "#C8D4E3",
             "linecolor": "#C8D4E3",
             "minorgridcolor": "#C8D4E3",
             "startlinecolor": "#2a3f5f"
            },
            "baxis": {
             "endlinecolor": "#2a3f5f",
             "gridcolor": "#C8D4E3",
             "linecolor": "#C8D4E3",
             "minorgridcolor": "#C8D4E3",
             "startlinecolor": "#2a3f5f"
            },
            "type": "carpet"
           }
          ],
          "choropleth": [
           {
            "colorbar": {
             "outlinewidth": 0,
             "ticks": ""
            },
            "type": "choropleth"
           }
          ],
          "contour": [
           {
            "colorbar": {
             "outlinewidth": 0,
             "ticks": ""
            },
            "colorscale": [
             [
              0,
              "#0d0887"
             ],
             [
              0.1111111111111111,
              "#46039f"
             ],
             [
              0.2222222222222222,
              "#7201a8"
             ],
             [
              0.3333333333333333,
              "#9c179e"
             ],
             [
              0.4444444444444444,
              "#bd3786"
             ],
             [
              0.5555555555555556,
              "#d8576b"
             ],
             [
              0.6666666666666666,
              "#ed7953"
             ],
             [
              0.7777777777777778,
              "#fb9f3a"
             ],
             [
              0.8888888888888888,
              "#fdca26"
             ],
             [
              1,
              "#f0f921"
             ]
            ],
            "type": "contour"
           }
          ],
          "contourcarpet": [
           {
            "colorbar": {
             "outlinewidth": 0,
             "ticks": ""
            },
            "type": "contourcarpet"
           }
          ],
          "heatmap": [
           {
            "colorbar": {
             "outlinewidth": 0,
             "ticks": ""
            },
            "colorscale": [
             [
              0,
              "#0d0887"
             ],
             [
              0.1111111111111111,
              "#46039f"
             ],
             [
              0.2222222222222222,
              "#7201a8"
             ],
             [
              0.3333333333333333,
              "#9c179e"
             ],
             [
              0.4444444444444444,
              "#bd3786"
             ],
             [
              0.5555555555555556,
              "#d8576b"
             ],
             [
              0.6666666666666666,
              "#ed7953"
             ],
             [
              0.7777777777777778,
              "#fb9f3a"
             ],
             [
              0.8888888888888888,
              "#fdca26"
             ],
             [
              1,
              "#f0f921"
             ]
            ],
            "type": "heatmap"
           }
          ],
          "histogram": [
           {
            "marker": {
             "pattern": {
              "fillmode": "overlay",
              "size": 10,
              "solidity": 0.2
             }
            },
            "type": "histogram"
           }
          ],
          "histogram2d": [
           {
            "colorbar": {
             "outlinewidth": 0,
             "ticks": ""
            },
            "colorscale": [
             [
              0,
              "#0d0887"
             ],
             [
              0.1111111111111111,
              "#46039f"
             ],
             [
              0.2222222222222222,
              "#7201a8"
             ],
             [
              0.3333333333333333,
              "#9c179e"
             ],
             [
              0.4444444444444444,
              "#bd3786"
             ],
             [
              0.5555555555555556,
              "#d8576b"
             ],
             [
              0.6666666666666666,
              "#ed7953"
             ],
             [
              0.7777777777777778,
              "#fb9f3a"
             ],
             [
              0.8888888888888888,
              "#fdca26"
             ],
             [
              1,
              "#f0f921"
             ]
            ],
            "type": "histogram2d"
           }
          ],
          "histogram2dcontour": [
           {
            "colorbar": {
             "outlinewidth": 0,
             "ticks": ""
            },
            "colorscale": [
             [
              0,
              "#0d0887"
             ],
             [
              0.1111111111111111,
              "#46039f"
             ],
             [
              0.2222222222222222,
              "#7201a8"
             ],
             [
              0.3333333333333333,
              "#9c179e"
             ],
             [
              0.4444444444444444,
              "#bd3786"
             ],
             [
              0.5555555555555556,
              "#d8576b"
             ],
             [
              0.6666666666666666,
              "#ed7953"
             ],
             [
              0.7777777777777778,
              "#fb9f3a"
             ],
             [
              0.8888888888888888,
              "#fdca26"
             ],
             [
              1,
              "#f0f921"
             ]
            ],
            "type": "histogram2dcontour"
           }
          ],
          "mesh3d": [
           {
            "colorbar": {
             "outlinewidth": 0,
             "ticks": ""
            },
            "type": "mesh3d"
           }
          ],
          "parcoords": [
           {
            "line": {
             "colorbar": {
              "outlinewidth": 0,
              "ticks": ""
             }
            },
            "type": "parcoords"
           }
          ],
          "pie": [
           {
            "automargin": true,
            "type": "pie"
           }
          ],
          "scatter": [
           {
            "fillpattern": {
             "fillmode": "overlay",
             "size": 10,
             "solidity": 0.2
            },
            "type": "scatter"
           }
          ],
          "scatter3d": [
           {
            "line": {
             "colorbar": {
              "outlinewidth": 0,
              "ticks": ""
             }
            },
            "marker": {
             "colorbar": {
              "outlinewidth": 0,
              "ticks": ""
             }
            },
            "type": "scatter3d"
           }
          ],
          "scattercarpet": [
           {
            "marker": {
             "colorbar": {
              "outlinewidth": 0,
              "ticks": ""
             }
            },
            "type": "scattercarpet"
           }
          ],
          "scattergeo": [
           {
            "marker": {
             "colorbar": {
              "outlinewidth": 0,
              "ticks": ""
             }
            },
            "type": "scattergeo"
           }
          ],
          "scattergl": [
           {
            "marker": {
             "colorbar": {
              "outlinewidth": 0,
              "ticks": ""
             }
            },
            "type": "scattergl"
           }
          ],
          "scattermap": [
           {
            "marker": {
             "colorbar": {
              "outlinewidth": 0,
              "ticks": ""
             }
            },
            "type": "scattermap"
           }
          ],
          "scattermapbox": [
           {
            "marker": {
             "colorbar": {
              "outlinewidth": 0,
              "ticks": ""
             }
            },
            "type": "scattermapbox"
           }
          ],
          "scatterpolar": [
           {
            "marker": {
             "colorbar": {
              "outlinewidth": 0,
              "ticks": ""
             }
            },
            "type": "scatterpolar"
           }
          ],
          "scatterpolargl": [
           {
            "marker": {
             "colorbar": {
              "outlinewidth": 0,
              "ticks": ""
             }
            },
            "type": "scatterpolargl"
           }
          ],
          "scatterternary": [
           {
            "marker": {
             "colorbar": {
              "outlinewidth": 0,
              "ticks": ""
             }
            },
            "type": "scatterternary"
           }
          ],
          "surface": [
           {
            "colorbar": {
             "outlinewidth": 0,
             "ticks": ""
            },
            "colorscale": [
             [
              0,
              "#0d0887"
             ],
             [
              0.1111111111111111,
              "#46039f"
             ],
             [
              0.2222222222222222,
              "#7201a8"
             ],
             [
              0.3333333333333333,
              "#9c179e"
             ],
             [
              0.4444444444444444,
              "#bd3786"
             ],
             [
              0.5555555555555556,
              "#d8576b"
             ],
             [
              0.6666666666666666,
              "#ed7953"
             ],
             [
              0.7777777777777778,
              "#fb9f3a"
             ],
             [
              0.8888888888888888,
              "#fdca26"
             ],
             [
              1,
              "#f0f921"
             ]
            ],
            "type": "surface"
           }
          ],
          "table": [
           {
            "cells": {
             "fill": {
              "color": "#EBF0F8"
             },
             "line": {
              "color": "white"
             }
            },
            "header": {
             "fill": {
              "color": "#C8D4E3"
             },
             "line": {
              "color": "white"
             }
            },
            "type": "table"
           }
          ]
         },
         "layout": {
          "annotationdefaults": {
           "arrowcolor": "#2a3f5f",
           "arrowhead": 0,
           "arrowwidth": 1
          },
          "autotypenumbers": "strict",
          "coloraxis": {
           "colorbar": {
            "outlinewidth": 0,
            "ticks": ""
           }
          },
          "colorscale": {
           "diverging": [
            [
             0,
             "#8e0152"
            ],
            [
             0.1,
             "#c51b7d"
            ],
            [
             0.2,
             "#de77ae"
            ],
            [
             0.3,
             "#f1b6da"
            ],
            [
             0.4,
             "#fde0ef"
            ],
            [
             0.5,
             "#f7f7f7"
            ],
            [
             0.6,
             "#e6f5d0"
            ],
            [
             0.7,
             "#b8e186"
            ],
            [
             0.8,
             "#7fbc41"
            ],
            [
             0.9,
             "#4d9221"
            ],
            [
             1,
             "#276419"
            ]
           ],
           "sequential": [
            [
             0,
             "#0d0887"
            ],
            [
             0.1111111111111111,
             "#46039f"
            ],
            [
             0.2222222222222222,
             "#7201a8"
            ],
            [
             0.3333333333333333,
             "#9c179e"
            ],
            [
             0.4444444444444444,
             "#bd3786"
            ],
            [
             0.5555555555555556,
             "#d8576b"
            ],
            [
             0.6666666666666666,
             "#ed7953"
            ],
            [
             0.7777777777777778,
             "#fb9f3a"
            ],
            [
             0.8888888888888888,
             "#fdca26"
            ],
            [
             1,
             "#f0f921"
            ]
           ],
           "sequentialminus": [
            [
             0,
             "#0d0887"
            ],
            [
             0.1111111111111111,
             "#46039f"
            ],
            [
             0.2222222222222222,
             "#7201a8"
            ],
            [
             0.3333333333333333,
             "#9c179e"
            ],
            [
             0.4444444444444444,
             "#bd3786"
            ],
            [
             0.5555555555555556,
             "#d8576b"
            ],
            [
             0.6666666666666666,
             "#ed7953"
            ],
            [
             0.7777777777777778,
             "#fb9f3a"
            ],
            [
             0.8888888888888888,
             "#fdca26"
            ],
            [
             1,
             "#f0f921"
            ]
           ]
          },
          "colorway": [
           "#636efa",
           "#EF553B",
           "#00cc96",
           "#ab63fa",
           "#FFA15A",
           "#19d3f3",
           "#FF6692",
           "#B6E880",
           "#FF97FF",
           "#FECB52"
          ],
          "font": {
           "color": "#2a3f5f"
          },
          "geo": {
           "bgcolor": "white",
           "lakecolor": "white",
           "landcolor": "white",
           "showlakes": true,
           "showland": true,
           "subunitcolor": "#C8D4E3"
          },
          "hoverlabel": {
           "align": "left"
          },
          "hovermode": "closest",
          "mapbox": {
           "style": "light"
          },
          "paper_bgcolor": "white",
          "plot_bgcolor": "white",
          "polar": {
           "angularaxis": {
            "gridcolor": "#EBF0F8",
            "linecolor": "#EBF0F8",
            "ticks": ""
           },
           "bgcolor": "white",
           "radialaxis": {
            "gridcolor": "#EBF0F8",
            "linecolor": "#EBF0F8",
            "ticks": ""
           }
          },
          "scene": {
           "xaxis": {
            "backgroundcolor": "white",
            "gridcolor": "#DFE8F3",
            "gridwidth": 2,
            "linecolor": "#EBF0F8",
            "showbackground": true,
            "ticks": "",
            "zerolinecolor": "#EBF0F8"
           },
           "yaxis": {
            "backgroundcolor": "white",
            "gridcolor": "#DFE8F3",
            "gridwidth": 2,
            "linecolor": "#EBF0F8",
            "showbackground": true,
            "ticks": "",
            "zerolinecolor": "#EBF0F8"
           },
           "zaxis": {
            "backgroundcolor": "white",
            "gridcolor": "#DFE8F3",
            "gridwidth": 2,
            "linecolor": "#EBF0F8",
            "showbackground": true,
            "ticks": "",
            "zerolinecolor": "#EBF0F8"
           }
          },
          "shapedefaults": {
           "line": {
            "color": "#2a3f5f"
           }
          },
          "ternary": {
           "aaxis": {
            "gridcolor": "#DFE8F3",
            "linecolor": "#A2B1C6",
            "ticks": ""
           },
           "baxis": {
            "gridcolor": "#DFE8F3",
            "linecolor": "#A2B1C6",
            "ticks": ""
           },
           "bgcolor": "white",
           "caxis": {
            "gridcolor": "#DFE8F3",
            "linecolor": "#A2B1C6",
            "ticks": ""
           }
          },
          "title": {
           "x": 0.05
          },
          "xaxis": {
           "automargin": true,
           "gridcolor": "#EBF0F8",
           "linecolor": "#EBF0F8",
           "ticks": "",
           "title": {
            "standoff": 15
           },
           "zerolinecolor": "#EBF0F8",
           "zerolinewidth": 2
          },
          "yaxis": {
           "automargin": true,
           "gridcolor": "#EBF0F8",
           "linecolor": "#EBF0F8",
           "ticks": "",
           "title": {
            "standoff": 15
           },
           "zerolinecolor": "#EBF0F8",
           "zerolinewidth": 2
          }
         }
        },
        "title": {
         "text": "Lasso Regularization Path (with Feature Selection Steps)"
        },
        "width": 900,
        "xaxis": {
         "title": {
          "text": "Alpha (log scale)"
         },
         "type": "log"
        },
        "yaxis": {
         "title": {
          "text": "Coefficient Value"
         }
        }
       }
      }
     },
     "metadata": {},
     "output_type": "display_data"
    }
   ],
   "source": [
    "import numpy as np\n",
    "import plotly.graph_objects as go\n",
    "from sklearn.linear_model import lasso_path\n",
    "\n",
    "# Compute Lasso path\n",
    "X_pipeline = preprocessor.fit_transform(X_train)\n",
    "alphas_lasso, coefs_lasso, _ = lasso_path(X_pipeline, y_train, eps=1e-5)\n",
    "feature_names = X_train.columns.to_list()\n",
    "\n",
    "# Count non-zero coefficients per alpha\n",
    "nonzero_counts = (coefs_lasso != 0).sum(axis=0)\n",
    "\n",
    "# Find where non-zero count changes\n",
    "change_indices = np.where(np.diff(nonzero_counts) != 0)[0] + 1\n",
    "change_alphas = alphas_lasso[change_indices]\n",
    "change_counts = nonzero_counts[change_indices]\n",
    "\n",
    "# Create base plot: coefficient paths\n",
    "fig = go.Figure()\n",
    "\n",
    "for coef, name in zip(coefs_lasso, feature_names):\n",
    "    fig.add_trace(go.Scatter(\n",
    "        x=alphas_lasso,\n",
    "        y=coef,\n",
    "        mode='lines',\n",
    "        name=name\n",
    "    ))\n",
    "\n",
    "# Add vertical dotted lines where non-zero feature count changes\n",
    "for alpha, count in zip(change_alphas, change_counts):\n",
    "    fig.add_trace(go.Scatter(\n",
    "        x=[alpha, alpha],\n",
    "        y=[coefs_lasso.min(), coefs_lasso.max()],\n",
    "        mode='lines',\n",
    "        line=dict(dash='dot', color='gray'),\n",
    "        showlegend=False,\n",
    "        hovertemplate=f\"Alpha: {alpha:.4f}<br>Non-zero features: {count}<extra></extra>\"\n",
    "    ))\n",
    "\n",
    "# Final layout\n",
    "fig.update_layout(\n",
    "    title='Lasso Regularization Path (with Feature Selection Steps)',\n",
    "    xaxis=dict(title='Alpha (log scale)', type='log'),\n",
    "    yaxis=dict(title='Coefficient Value'),\n",
    "    template='plotly_white',\n",
    "    legend_title_text='Features',\n",
    "    width=900,\n",
    "    height=600\n",
    ")\n",
    "\n",
    "fig.show()\n"
   ]
  },
  {
   "cell_type": "markdown",
   "id": "e662924f",
   "metadata": {},
   "source": [
    "## D: Final Selected Model"
   ]
  },
  {
   "cell_type": "code",
   "execution_count": 16,
   "id": "c419aaf2",
   "metadata": {},
   "outputs": [
    {
     "name": "stdout",
     "output_type": "stream",
     "text": [
      "Selected Alpha from 1-SE rule: 10.0\n",
      "\n",
      "Metrics Training:\n",
      "R²: 0.947\n",
      "MSE: 27513235.94\n",
      "RMSE: 5245.31\n",
      "MAE: 3290.43\n",
      "\n",
      "Metrics Test:\n",
      "R²: 0.946\n",
      "MSE: 27954689.74\n",
      "RMSE: 5287.22\n",
      "MAE: 3292.11\n",
      "\n",
      "Selected Coefficients (non-zero): 50\n"
     ]
    },
    {
     "name": "stderr",
     "output_type": "stream",
     "text": [
      "c:\\Users\\AsusTUF\\anaconda3\\envs\\tru_linear_models_assignments\\Lib\\site-packages\\sklearn\\linear_model\\_coordinate_descent.py:695: ConvergenceWarning:\n",
      "\n",
      "Objective did not converge. You might want to increase the number of iterations, check the scale of the features or consider increasing regularisation. Duality gap: 2.739e+12, tolerance: 1.237e+10\n",
      "\n"
     ]
    },
    {
     "data": {
      "text/html": [
       "<div>\n",
       "<style scoped>\n",
       "    .dataframe tbody tr th:only-of-type {\n",
       "        vertical-align: middle;\n",
       "    }\n",
       "\n",
       "    .dataframe tbody tr th {\n",
       "        vertical-align: top;\n",
       "    }\n",
       "\n",
       "    .dataframe thead th {\n",
       "        text-align: right;\n",
       "    }\n",
       "</style>\n",
       "<table border=\"1\" class=\"dataframe\">\n",
       "  <thead>\n",
       "    <tr style=\"text-align: right;\">\n",
       "      <th></th>\n",
       "      <th>Selected Feature</th>\n",
       "      <th>Coefficient</th>\n",
       "    </tr>\n",
       "  </thead>\n",
       "  <tbody>\n",
       "    <tr>\n",
       "      <th>0</th>\n",
       "      <td>duration_log_Economy</td>\n",
       "      <td>-1.968926e+04</td>\n",
       "    </tr>\n",
       "    <tr>\n",
       "      <th>1</th>\n",
       "      <td>airline_Air_India</td>\n",
       "      <td>1.461234e+04</td>\n",
       "    </tr>\n",
       "    <tr>\n",
       "      <th>2</th>\n",
       "      <td>duration_log</td>\n",
       "      <td>-1.126010e+04</td>\n",
       "    </tr>\n",
       "    <tr>\n",
       "      <th>3</th>\n",
       "      <td>const</td>\n",
       "      <td>-1.037232e+04</td>\n",
       "    </tr>\n",
       "    <tr>\n",
       "      <th>4</th>\n",
       "      <td>source_city_Delhi</td>\n",
       "      <td>7.836827e+03</td>\n",
       "    </tr>\n",
       "    <tr>\n",
       "      <th>5</th>\n",
       "      <td>arrival_time_Evening</td>\n",
       "      <td>-7.492248e+03</td>\n",
       "    </tr>\n",
       "    <tr>\n",
       "      <th>6</th>\n",
       "      <td>arrival_time_Early_Morning</td>\n",
       "      <td>7.255199e+03</td>\n",
       "    </tr>\n",
       "    <tr>\n",
       "      <th>7</th>\n",
       "      <td>stops_zero_Economy</td>\n",
       "      <td>5.445262e+03</td>\n",
       "    </tr>\n",
       "    <tr>\n",
       "      <th>8</th>\n",
       "      <td>airline_Vistara_Economy</td>\n",
       "      <td>-5.323788e+03</td>\n",
       "    </tr>\n",
       "    <tr>\n",
       "      <th>9</th>\n",
       "      <td>stops_two_or_more_Economy</td>\n",
       "      <td>-5.301445e+03</td>\n",
       "    </tr>\n",
       "    <tr>\n",
       "      <th>10</th>\n",
       "      <td>days_left_inv_Economy</td>\n",
       "      <td>-5.187464e+03</td>\n",
       "    </tr>\n",
       "    <tr>\n",
       "      <th>11</th>\n",
       "      <td>class_Economy</td>\n",
       "      <td>3.377387e+03</td>\n",
       "    </tr>\n",
       "    <tr>\n",
       "      <th>12</th>\n",
       "      <td>departure_time_Early_Morning</td>\n",
       "      <td>3.342470e+03</td>\n",
       "    </tr>\n",
       "    <tr>\n",
       "      <th>13</th>\n",
       "      <td>source_city_Mumbai</td>\n",
       "      <td>-3.067725e+03</td>\n",
       "    </tr>\n",
       "    <tr>\n",
       "      <th>14</th>\n",
       "      <td>destination_city_Mumbai</td>\n",
       "      <td>-3.049154e+03</td>\n",
       "    </tr>\n",
       "    <tr>\n",
       "      <th>15</th>\n",
       "      <td>destination_city_Kolkata_Economy</td>\n",
       "      <td>-2.622799e+03</td>\n",
       "    </tr>\n",
       "    <tr>\n",
       "      <th>16</th>\n",
       "      <td>destination_city_Kolkata</td>\n",
       "      <td>-2.613569e+03</td>\n",
       "    </tr>\n",
       "    <tr>\n",
       "      <th>17</th>\n",
       "      <td>source_city_Hyderabad_Economy</td>\n",
       "      <td>2.459020e+03</td>\n",
       "    </tr>\n",
       "    <tr>\n",
       "      <th>18</th>\n",
       "      <td>destination_city_Delhi_Economy</td>\n",
       "      <td>2.381463e+03</td>\n",
       "    </tr>\n",
       "    <tr>\n",
       "      <th>19</th>\n",
       "      <td>destination_city_Hyderabad_Economy</td>\n",
       "      <td>2.298747e+03</td>\n",
       "    </tr>\n",
       "    <tr>\n",
       "      <th>20</th>\n",
       "      <td>source_city_Kolkata_Economy</td>\n",
       "      <td>-2.293800e+03</td>\n",
       "    </tr>\n",
       "    <tr>\n",
       "      <th>21</th>\n",
       "      <td>source_city_Kolkata</td>\n",
       "      <td>-2.283177e+03</td>\n",
       "    </tr>\n",
       "    <tr>\n",
       "      <th>22</th>\n",
       "      <td>arrival_time_Late_Night</td>\n",
       "      <td>-2.184690e+03</td>\n",
       "    </tr>\n",
       "    <tr>\n",
       "      <th>23</th>\n",
       "      <td>source_city_Delhi_Economy</td>\n",
       "      <td>2.021261e+03</td>\n",
       "    </tr>\n",
       "    <tr>\n",
       "      <th>24</th>\n",
       "      <td>airline_Air_India_Economy</td>\n",
       "      <td>1.899660e+03</td>\n",
       "    </tr>\n",
       "    <tr>\n",
       "      <th>25</th>\n",
       "      <td>days_left</td>\n",
       "      <td>1.650527e+03</td>\n",
       "    </tr>\n",
       "    <tr>\n",
       "      <th>26</th>\n",
       "      <td>destination_city_Delhi</td>\n",
       "      <td>1.636762e+03</td>\n",
       "    </tr>\n",
       "    <tr>\n",
       "      <th>27</th>\n",
       "      <td>arrival_time_Night_Economy</td>\n",
       "      <td>-1.472462e+03</td>\n",
       "    </tr>\n",
       "    <tr>\n",
       "      <th>28</th>\n",
       "      <td>duration_Economy</td>\n",
       "      <td>1.443031e+03</td>\n",
       "    </tr>\n",
       "    <tr>\n",
       "      <th>29</th>\n",
       "      <td>arrival_time_Early_Morning_Economy</td>\n",
       "      <td>1.431268e+03</td>\n",
       "    </tr>\n",
       "    <tr>\n",
       "      <th>30</th>\n",
       "      <td>destination_city_Mumbai_Economy</td>\n",
       "      <td>-1.166529e+03</td>\n",
       "    </tr>\n",
       "    <tr>\n",
       "      <th>31</th>\n",
       "      <td>arrival_time_Morning</td>\n",
       "      <td>1.160549e+03</td>\n",
       "    </tr>\n",
       "    <tr>\n",
       "      <th>32</th>\n",
       "      <td>days_left_inv</td>\n",
       "      <td>1.049641e+03</td>\n",
       "    </tr>\n",
       "    <tr>\n",
       "      <th>33</th>\n",
       "      <td>departure_time_Evening_Economy</td>\n",
       "      <td>-1.039396e+03</td>\n",
       "    </tr>\n",
       "    <tr>\n",
       "      <th>34</th>\n",
       "      <td>departure_time_Morning</td>\n",
       "      <td>9.524968e+02</td>\n",
       "    </tr>\n",
       "    <tr>\n",
       "      <th>35</th>\n",
       "      <td>airline_SpiceJet</td>\n",
       "      <td>9.287588e+02</td>\n",
       "    </tr>\n",
       "    <tr>\n",
       "      <th>36</th>\n",
       "      <td>source_city_Mumbai_Economy</td>\n",
       "      <td>-8.675596e+02</td>\n",
       "    </tr>\n",
       "    <tr>\n",
       "      <th>37</th>\n",
       "      <td>arrival_time_Evening_Economy</td>\n",
       "      <td>-7.958310e+02</td>\n",
       "    </tr>\n",
       "    <tr>\n",
       "      <th>38</th>\n",
       "      <td>source_city_Chennai</td>\n",
       "      <td>7.555597e+02</td>\n",
       "    </tr>\n",
       "    <tr>\n",
       "      <th>39</th>\n",
       "      <td>departure_time_Evening</td>\n",
       "      <td>5.850110e+02</td>\n",
       "    </tr>\n",
       "    <tr>\n",
       "      <th>40</th>\n",
       "      <td>airline_Vistara</td>\n",
       "      <td>5.608443e+02</td>\n",
       "    </tr>\n",
       "    <tr>\n",
       "      <th>41</th>\n",
       "      <td>duration</td>\n",
       "      <td>-2.657720e+02</td>\n",
       "    </tr>\n",
       "    <tr>\n",
       "      <th>42</th>\n",
       "      <td>stops_two_or_more</td>\n",
       "      <td>2.489467e+02</td>\n",
       "    </tr>\n",
       "    <tr>\n",
       "      <th>43</th>\n",
       "      <td>destination_city_Chennai</td>\n",
       "      <td>-1.448052e+02</td>\n",
       "    </tr>\n",
       "    <tr>\n",
       "      <th>44</th>\n",
       "      <td>destination_city_Hyderabad</td>\n",
       "      <td>-8.893255e+01</td>\n",
       "    </tr>\n",
       "    <tr>\n",
       "      <th>45</th>\n",
       "      <td>days_left_Economy</td>\n",
       "      <td>-8.445724e+01</td>\n",
       "    </tr>\n",
       "    <tr>\n",
       "      <th>46</th>\n",
       "      <td>stops_zero</td>\n",
       "      <td>-8.113383e+01</td>\n",
       "    </tr>\n",
       "    <tr>\n",
       "      <th>47</th>\n",
       "      <td>source_city_Hyderabad</td>\n",
       "      <td>2.962607e+01</td>\n",
       "    </tr>\n",
       "    <tr>\n",
       "      <th>48</th>\n",
       "      <td>arrival_time_Night</td>\n",
       "      <td>2.016010e+00</td>\n",
       "    </tr>\n",
       "    <tr>\n",
       "      <th>49</th>\n",
       "      <td>const_Economy</td>\n",
       "      <td>-6.091310e-09</td>\n",
       "    </tr>\n",
       "  </tbody>\n",
       "</table>\n",
       "</div>"
      ],
      "text/plain": [
       "                      Selected Feature   Coefficient\n",
       "0                 duration_log_Economy -1.968926e+04\n",
       "1                    airline_Air_India  1.461234e+04\n",
       "2                         duration_log -1.126010e+04\n",
       "3                                const -1.037232e+04\n",
       "4                    source_city_Delhi  7.836827e+03\n",
       "5                 arrival_time_Evening -7.492248e+03\n",
       "6           arrival_time_Early_Morning  7.255199e+03\n",
       "7                   stops_zero_Economy  5.445262e+03\n",
       "8              airline_Vistara_Economy -5.323788e+03\n",
       "9            stops_two_or_more_Economy -5.301445e+03\n",
       "10               days_left_inv_Economy -5.187464e+03\n",
       "11                       class_Economy  3.377387e+03\n",
       "12        departure_time_Early_Morning  3.342470e+03\n",
       "13                  source_city_Mumbai -3.067725e+03\n",
       "14             destination_city_Mumbai -3.049154e+03\n",
       "15    destination_city_Kolkata_Economy -2.622799e+03\n",
       "16            destination_city_Kolkata -2.613569e+03\n",
       "17       source_city_Hyderabad_Economy  2.459020e+03\n",
       "18      destination_city_Delhi_Economy  2.381463e+03\n",
       "19  destination_city_Hyderabad_Economy  2.298747e+03\n",
       "20         source_city_Kolkata_Economy -2.293800e+03\n",
       "21                 source_city_Kolkata -2.283177e+03\n",
       "22             arrival_time_Late_Night -2.184690e+03\n",
       "23           source_city_Delhi_Economy  2.021261e+03\n",
       "24           airline_Air_India_Economy  1.899660e+03\n",
       "25                           days_left  1.650527e+03\n",
       "26              destination_city_Delhi  1.636762e+03\n",
       "27          arrival_time_Night_Economy -1.472462e+03\n",
       "28                    duration_Economy  1.443031e+03\n",
       "29  arrival_time_Early_Morning_Economy  1.431268e+03\n",
       "30     destination_city_Mumbai_Economy -1.166529e+03\n",
       "31                arrival_time_Morning  1.160549e+03\n",
       "32                       days_left_inv  1.049641e+03\n",
       "33      departure_time_Evening_Economy -1.039396e+03\n",
       "34              departure_time_Morning  9.524968e+02\n",
       "35                    airline_SpiceJet  9.287588e+02\n",
       "36          source_city_Mumbai_Economy -8.675596e+02\n",
       "37        arrival_time_Evening_Economy -7.958310e+02\n",
       "38                 source_city_Chennai  7.555597e+02\n",
       "39              departure_time_Evening  5.850110e+02\n",
       "40                     airline_Vistara  5.608443e+02\n",
       "41                            duration -2.657720e+02\n",
       "42                   stops_two_or_more  2.489467e+02\n",
       "43            destination_city_Chennai -1.448052e+02\n",
       "44          destination_city_Hyderabad -8.893255e+01\n",
       "45                   days_left_Economy -8.445724e+01\n",
       "46                          stops_zero -8.113383e+01\n",
       "47               source_city_Hyderabad  2.962607e+01\n",
       "48                  arrival_time_Night  2.016010e+00\n",
       "49                       const_Economy -6.091310e-09"
      ]
     },
     "execution_count": 16,
     "metadata": {},
     "output_type": "execute_result"
    }
   ],
   "source": [
    "lasso_pipeline = Pipeline([\n",
    "    ('preprocessor', preprocessor),\n",
    "    ('model', Lasso(alpha=alpha_1se))\n",
    "])\n",
    "\n",
    "lasso_pipeline.fit(X_train, y_train)\n",
    "\n",
    "print(f\"Selected Alpha from 1-SE rule: {alpha_1se}\")\n",
    "\n",
    "# 5. Predictions and metrics\n",
    "print(\"\\nMetrics Training:\")\n",
    "y_pred = lasso_pipeline.predict(X_train)\n",
    "evaluate_predictions(y_train, y_pred )\n",
    "\n",
    "print(\"\\nMetrics Test:\")\n",
    "y_pred = lasso_pipeline.predict(X_test)\n",
    "evaluate_predictions(y_test, y_pred )\n",
    "\n",
    "# 6. Extract coefficients\n",
    "lasso = lasso_pipeline.named_steps['model']\n",
    "coef = pd.Series(lasso.coef_, index=X_encoded.columns)\n",
    "show_nonzero_coefficients(coef)"
   ]
  },
  {
   "cell_type": "code",
   "execution_count": null,
   "id": "21ff541c",
   "metadata": {},
   "outputs": [],
   "source": []
  }
 ],
 "metadata": {
  "kernelspec": {
   "display_name": "tru_linear_models_assignments",
   "language": "python",
   "name": "python3"
  },
  "language_info": {
   "codemirror_mode": {
    "name": "ipython",
    "version": 3
   },
   "file_extension": ".py",
   "mimetype": "text/x-python",
   "name": "python",
   "nbconvert_exporter": "python",
   "pygments_lexer": "ipython3",
   "version": "3.12.9"
  }
 },
 "nbformat": 4,
 "nbformat_minor": 5
}
