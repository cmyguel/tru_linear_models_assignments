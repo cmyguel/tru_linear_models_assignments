{
 "cells": [
  {
   "cell_type": "markdown",
   "id": "20162243",
   "metadata": {},
   "source": [
    "# Flight Price Prediction\n",
    "\n",
    "References:\n",
    "- model selection: https://scikit-learn.org/stable/auto_examples/linear_model/plot_lasso_model_selection.html\n",
    "- learning paths: https://scikit-learn.org/stable/auto_examples/linear_model/plot_lasso_lasso_lars_elasticnet_path.html"
   ]
  },
  {
   "cell_type": "code",
   "execution_count": 1,
   "id": "d5d26eb9",
   "metadata": {},
   "outputs": [
    {
     "name": "stderr",
     "output_type": "stream",
     "text": [
      "c:\\Users\\AsusTUF\\anaconda3\\envs\\tru_linear_models_assignments\\Lib\\site-packages\\tqdm\\auto.py:21: TqdmWarning: IProgress not found. Please update jupyter and ipywidgets. See https://ipywidgets.readthedocs.io/en/stable/user_install.html\n",
      "  from .autonotebook import tqdm as notebook_tqdm\n"
     ]
    },
    {
     "data": {
      "text/html": [
       "\n",
       "            <div>\n",
       "                <ins><a href=\"https://ydata.ai/register\">Upgrade to ydata-sdk</a></ins>\n",
       "                <p>\n",
       "                    Improve your data and profiling with ydata-sdk, featuring data quality scoring, redundancy detection, outlier identification, text validation, and synthetic data generation.\n",
       "                </p>\n",
       "            </div>\n",
       "            "
      ],
      "text/plain": [
       "<IPython.core.display.HTML object>"
      ]
     },
     "metadata": {},
     "output_type": "display_data"
    }
   ],
   "source": [
    "from pathlib import Path\n",
    "import numpy as np\n",
    "import pandas as pd\n",
    "from ydata_profiling import ProfileReport\n",
    "\n",
    "import seaborn as sns\n",
    "import matplotlib.pyplot as plt\n",
    "import plotly.express as px\n",
    "\n",
    "import statsmodels.api as sm\n",
    "import statsmodels.formula.api as smf\n",
    "from statsmodels.stats.stattools import durbin_watson\n",
    "\n",
    "from sklearn.model_selection import train_test_split\n",
    "from sklearn.pipeline import make_pipeline, Pipeline\n",
    "from sklearn.compose import ColumnTransformer\n",
    "from sklearn.preprocessing import StandardScaler\n",
    "from sklearn.linear_model import Lasso, LassoCV\n",
    "from sklearn.metrics import r2_score, mean_squared_error, mean_absolute_error, root_mean_squared_error"
   ]
  },
  {
   "cell_type": "code",
   "execution_count": 2,
   "id": "14239277",
   "metadata": {},
   "outputs": [],
   "source": [
    "pd.set_option('display.max_columns', 50)\n",
    "\n",
    "SIMPLIFIED_PLOTS = True\n",
    "PLOT_SUMSAMPLE = 2000 # Used for heavy plots like scatter"
   ]
  },
  {
   "cell_type": "code",
   "execution_count": 3,
   "id": "74402378-599c-4bc0-85a4-f99a371b7367",
   "metadata": {},
   "outputs": [
    {
     "data": {
      "text/html": [
       "<div>\n",
       "<style scoped>\n",
       "    .dataframe tbody tr th:only-of-type {\n",
       "        vertical-align: middle;\n",
       "    }\n",
       "\n",
       "    .dataframe tbody tr th {\n",
       "        vertical-align: top;\n",
       "    }\n",
       "\n",
       "    .dataframe thead th {\n",
       "        text-align: right;\n",
       "    }\n",
       "</style>\n",
       "<table border=\"1\" class=\"dataframe\">\n",
       "  <thead>\n",
       "    <tr style=\"text-align: right;\">\n",
       "      <th></th>\n",
       "      <th>airline</th>\n",
       "      <th>flight</th>\n",
       "      <th>source_city</th>\n",
       "      <th>departure_time</th>\n",
       "      <th>stops</th>\n",
       "      <th>arrival_time</th>\n",
       "      <th>destination_city</th>\n",
       "      <th>class</th>\n",
       "      <th>duration</th>\n",
       "      <th>days_left</th>\n",
       "      <th>price</th>\n",
       "    </tr>\n",
       "  </thead>\n",
       "  <tbody>\n",
       "    <tr>\n",
       "      <th>0</th>\n",
       "      <td>SpiceJet</td>\n",
       "      <td>SG-8709</td>\n",
       "      <td>Delhi</td>\n",
       "      <td>Evening</td>\n",
       "      <td>zero</td>\n",
       "      <td>Night</td>\n",
       "      <td>Mumbai</td>\n",
       "      <td>Economy</td>\n",
       "      <td>2.17</td>\n",
       "      <td>1</td>\n",
       "      <td>5953</td>\n",
       "    </tr>\n",
       "    <tr>\n",
       "      <th>1</th>\n",
       "      <td>SpiceJet</td>\n",
       "      <td>SG-8157</td>\n",
       "      <td>Delhi</td>\n",
       "      <td>Early_Morning</td>\n",
       "      <td>zero</td>\n",
       "      <td>Morning</td>\n",
       "      <td>Mumbai</td>\n",
       "      <td>Economy</td>\n",
       "      <td>2.33</td>\n",
       "      <td>1</td>\n",
       "      <td>5953</td>\n",
       "    </tr>\n",
       "    <tr>\n",
       "      <th>2</th>\n",
       "      <td>AirAsia</td>\n",
       "      <td>I5-764</td>\n",
       "      <td>Delhi</td>\n",
       "      <td>Early_Morning</td>\n",
       "      <td>zero</td>\n",
       "      <td>Early_Morning</td>\n",
       "      <td>Mumbai</td>\n",
       "      <td>Economy</td>\n",
       "      <td>2.17</td>\n",
       "      <td>1</td>\n",
       "      <td>5956</td>\n",
       "    </tr>\n",
       "    <tr>\n",
       "      <th>3</th>\n",
       "      <td>Vistara</td>\n",
       "      <td>UK-995</td>\n",
       "      <td>Delhi</td>\n",
       "      <td>Morning</td>\n",
       "      <td>zero</td>\n",
       "      <td>Afternoon</td>\n",
       "      <td>Mumbai</td>\n",
       "      <td>Economy</td>\n",
       "      <td>2.25</td>\n",
       "      <td>1</td>\n",
       "      <td>5955</td>\n",
       "    </tr>\n",
       "    <tr>\n",
       "      <th>4</th>\n",
       "      <td>Vistara</td>\n",
       "      <td>UK-963</td>\n",
       "      <td>Delhi</td>\n",
       "      <td>Morning</td>\n",
       "      <td>zero</td>\n",
       "      <td>Morning</td>\n",
       "      <td>Mumbai</td>\n",
       "      <td>Economy</td>\n",
       "      <td>2.33</td>\n",
       "      <td>1</td>\n",
       "      <td>5955</td>\n",
       "    </tr>\n",
       "    <tr>\n",
       "      <th>...</th>\n",
       "      <td>...</td>\n",
       "      <td>...</td>\n",
       "      <td>...</td>\n",
       "      <td>...</td>\n",
       "      <td>...</td>\n",
       "      <td>...</td>\n",
       "      <td>...</td>\n",
       "      <td>...</td>\n",
       "      <td>...</td>\n",
       "      <td>...</td>\n",
       "      <td>...</td>\n",
       "    </tr>\n",
       "    <tr>\n",
       "      <th>300148</th>\n",
       "      <td>Vistara</td>\n",
       "      <td>UK-822</td>\n",
       "      <td>Chennai</td>\n",
       "      <td>Morning</td>\n",
       "      <td>one</td>\n",
       "      <td>Evening</td>\n",
       "      <td>Hyderabad</td>\n",
       "      <td>Business</td>\n",
       "      <td>10.08</td>\n",
       "      <td>49</td>\n",
       "      <td>69265</td>\n",
       "    </tr>\n",
       "    <tr>\n",
       "      <th>300149</th>\n",
       "      <td>Vistara</td>\n",
       "      <td>UK-826</td>\n",
       "      <td>Chennai</td>\n",
       "      <td>Afternoon</td>\n",
       "      <td>one</td>\n",
       "      <td>Night</td>\n",
       "      <td>Hyderabad</td>\n",
       "      <td>Business</td>\n",
       "      <td>10.42</td>\n",
       "      <td>49</td>\n",
       "      <td>77105</td>\n",
       "    </tr>\n",
       "    <tr>\n",
       "      <th>300150</th>\n",
       "      <td>Vistara</td>\n",
       "      <td>UK-832</td>\n",
       "      <td>Chennai</td>\n",
       "      <td>Early_Morning</td>\n",
       "      <td>one</td>\n",
       "      <td>Night</td>\n",
       "      <td>Hyderabad</td>\n",
       "      <td>Business</td>\n",
       "      <td>13.83</td>\n",
       "      <td>49</td>\n",
       "      <td>79099</td>\n",
       "    </tr>\n",
       "    <tr>\n",
       "      <th>300151</th>\n",
       "      <td>Vistara</td>\n",
       "      <td>UK-828</td>\n",
       "      <td>Chennai</td>\n",
       "      <td>Early_Morning</td>\n",
       "      <td>one</td>\n",
       "      <td>Evening</td>\n",
       "      <td>Hyderabad</td>\n",
       "      <td>Business</td>\n",
       "      <td>10.00</td>\n",
       "      <td>49</td>\n",
       "      <td>81585</td>\n",
       "    </tr>\n",
       "    <tr>\n",
       "      <th>300152</th>\n",
       "      <td>Vistara</td>\n",
       "      <td>UK-822</td>\n",
       "      <td>Chennai</td>\n",
       "      <td>Morning</td>\n",
       "      <td>one</td>\n",
       "      <td>Evening</td>\n",
       "      <td>Hyderabad</td>\n",
       "      <td>Business</td>\n",
       "      <td>10.08</td>\n",
       "      <td>49</td>\n",
       "      <td>81585</td>\n",
       "    </tr>\n",
       "  </tbody>\n",
       "</table>\n",
       "<p>300153 rows × 11 columns</p>\n",
       "</div>"
      ],
      "text/plain": [
       "         airline   flight source_city departure_time stops   arrival_time  \\\n",
       "0       SpiceJet  SG-8709       Delhi        Evening  zero          Night   \n",
       "1       SpiceJet  SG-8157       Delhi  Early_Morning  zero        Morning   \n",
       "2        AirAsia   I5-764       Delhi  Early_Morning  zero  Early_Morning   \n",
       "3        Vistara   UK-995       Delhi        Morning  zero      Afternoon   \n",
       "4        Vistara   UK-963       Delhi        Morning  zero        Morning   \n",
       "...          ...      ...         ...            ...   ...            ...   \n",
       "300148   Vistara   UK-822     Chennai        Morning   one        Evening   \n",
       "300149   Vistara   UK-826     Chennai      Afternoon   one          Night   \n",
       "300150   Vistara   UK-832     Chennai  Early_Morning   one          Night   \n",
       "300151   Vistara   UK-828     Chennai  Early_Morning   one        Evening   \n",
       "300152   Vistara   UK-822     Chennai        Morning   one        Evening   \n",
       "\n",
       "       destination_city     class  duration  days_left  price  \n",
       "0                Mumbai   Economy      2.17          1   5953  \n",
       "1                Mumbai   Economy      2.33          1   5953  \n",
       "2                Mumbai   Economy      2.17          1   5956  \n",
       "3                Mumbai   Economy      2.25          1   5955  \n",
       "4                Mumbai   Economy      2.33          1   5955  \n",
       "...                 ...       ...       ...        ...    ...  \n",
       "300148        Hyderabad  Business     10.08         49  69265  \n",
       "300149        Hyderabad  Business     10.42         49  77105  \n",
       "300150        Hyderabad  Business     13.83         49  79099  \n",
       "300151        Hyderabad  Business     10.00         49  81585  \n",
       "300152        Hyderabad  Business     10.08         49  81585  \n",
       "\n",
       "[300153 rows x 11 columns]"
      ]
     },
     "execution_count": 3,
     "metadata": {},
     "output_type": "execute_result"
    }
   ],
   "source": [
    "df_raw = pd.read_csv(\"./data/Clean_Dataset.csv\", index_col=0)\n",
    "df_raw_sample = df_raw.sample(n=PLOT_SUMSAMPLE)\n",
    "df_raw "
   ]
  },
  {
   "cell_type": "markdown",
   "id": "6cc5d673",
   "metadata": {},
   "source": [
    "## Exploratory Data Analysis\n",
    "- Top 5 Highest correlation predictors: class, duration, days_left, stops, airline\n",
    "- Target: Bimodal due to classes. \n",
    "- duration class:Business: Log, heteroskedasticity \n",
    "- duration class:Economy: Linear, heteroskedasticity\n",
    "- days_left class:economy: 1/x"
   ]
  },
  {
   "cell_type": "code",
   "execution_count": 4,
   "id": "1ec3f453",
   "metadata": {},
   "outputs": [],
   "source": [
    "# Create EDA report IF it doesn't exist\n",
    "path_eda_report = Path(\"EDA/profiling_report.html\")\n",
    "path_eda_report.parent.mkdir(exist_ok=True)\n",
    "if not path_eda_report.exists():\n",
    "    profile = ProfileReport(df_raw, title=\"Profiling Report\")\n",
    "    profile.to_file(path_eda_report)"
   ]
  },
  {
   "cell_type": "code",
   "execution_count": 5,
   "id": "a584b792",
   "metadata": {},
   "outputs": [
    {
     "data": {
      "text/html": [
       "<div>\n",
       "<style scoped>\n",
       "    .dataframe tbody tr th:only-of-type {\n",
       "        vertical-align: middle;\n",
       "    }\n",
       "\n",
       "    .dataframe tbody tr th {\n",
       "        vertical-align: top;\n",
       "    }\n",
       "\n",
       "    .dataframe thead th {\n",
       "        text-align: right;\n",
       "    }\n",
       "</style>\n",
       "<table border=\"1\" class=\"dataframe\">\n",
       "  <thead>\n",
       "    <tr style=\"text-align: right;\">\n",
       "      <th></th>\n",
       "      <th>duration</th>\n",
       "      <th>days_left</th>\n",
       "      <th>price</th>\n",
       "    </tr>\n",
       "  </thead>\n",
       "  <tbody>\n",
       "    <tr>\n",
       "      <th>count</th>\n",
       "      <td>300153.000000</td>\n",
       "      <td>300153.000000</td>\n",
       "      <td>300153.000000</td>\n",
       "    </tr>\n",
       "    <tr>\n",
       "      <th>mean</th>\n",
       "      <td>12.221021</td>\n",
       "      <td>26.004751</td>\n",
       "      <td>20889.660523</td>\n",
       "    </tr>\n",
       "    <tr>\n",
       "      <th>std</th>\n",
       "      <td>7.191997</td>\n",
       "      <td>13.561004</td>\n",
       "      <td>22697.767366</td>\n",
       "    </tr>\n",
       "    <tr>\n",
       "      <th>min</th>\n",
       "      <td>0.830000</td>\n",
       "      <td>1.000000</td>\n",
       "      <td>1105.000000</td>\n",
       "    </tr>\n",
       "    <tr>\n",
       "      <th>25%</th>\n",
       "      <td>6.830000</td>\n",
       "      <td>15.000000</td>\n",
       "      <td>4783.000000</td>\n",
       "    </tr>\n",
       "    <tr>\n",
       "      <th>50%</th>\n",
       "      <td>11.250000</td>\n",
       "      <td>26.000000</td>\n",
       "      <td>7425.000000</td>\n",
       "    </tr>\n",
       "    <tr>\n",
       "      <th>75%</th>\n",
       "      <td>16.170000</td>\n",
       "      <td>38.000000</td>\n",
       "      <td>42521.000000</td>\n",
       "    </tr>\n",
       "    <tr>\n",
       "      <th>max</th>\n",
       "      <td>49.830000</td>\n",
       "      <td>49.000000</td>\n",
       "      <td>123071.000000</td>\n",
       "    </tr>\n",
       "  </tbody>\n",
       "</table>\n",
       "</div>"
      ],
      "text/plain": [
       "            duration      days_left          price\n",
       "count  300153.000000  300153.000000  300153.000000\n",
       "mean       12.221021      26.004751   20889.660523\n",
       "std         7.191997      13.561004   22697.767366\n",
       "min         0.830000       1.000000    1105.000000\n",
       "25%         6.830000      15.000000    4783.000000\n",
       "50%        11.250000      26.000000    7425.000000\n",
       "75%        16.170000      38.000000   42521.000000\n",
       "max        49.830000      49.000000  123071.000000"
      ]
     },
     "execution_count": 5,
     "metadata": {},
     "output_type": "execute_result"
    }
   ],
   "source": [
    "df_raw.describe()"
   ]
  },
  {
   "cell_type": "code",
   "execution_count": null,
   "id": "6985d759",
   "metadata": {},
   "outputs": [],
   "source": [
    "px.histogram(df_raw, x=\"price\", color=\"class\")\n",
    "# df_raw.price.hist(bins=20)"
   ]
  },
  {
   "cell_type": "code",
   "execution_count": 7,
   "id": "0764bb25",
   "metadata": {},
   "outputs": [
    {
     "data": {
      "application/vnd.plotly.v1+json": {
       "config": {
        "plotlyServerURL": "https://plot.ly"
       },
       "data": [
        {
         "hovertemplate": "class=Economy<br>days_left=%{x}<br>price=%{y}<extra></extra>",
         "legendgroup": "Economy",
         "marker": {
          "color": "#636efa",
          "symbol": "circle"
         },
         "mode": "markers",
         "name": "Economy",
         "showlegend": true,
         "type": "scattergl",
         "x": {
          "bdata": "MCAQGBckBQsmCw0jBAgtExwsJy4gBikmIDEmBi8bKi4qFBIoHxstDC4SCy0MJikcCC8EHQUnEy4MFSkdBgcqLCAXEiokCC8PDxQMHSkcMQcEKQIuJgwwBCQMFBwuBAwZBCsFLSkOIicvEBYpDh4kKSomGR8hCy8VEhwFIiUPKhoJLx0ZGBwOCCIRKx0OIQwYIy8gFxIrKSsdKB8vCgYeKREcMCUTHjAtCiQYHQoUGAUiLzEXFRIbMREPEA0oKAUsCicxGBYkMQoqGgwmEygaFycLKiUmHg4jIyEkLh8ZHCgtBisTLgcwLi4uEScuIQcZBRcQGSAiIRESFC4BDQUcKRAkKQwtEC8eHgcoJyQHLTAbKQcxKx8pEioUIAkIDSUbGioSJAUKDw0iAS8eLAMdGyEBMQcZCQUPJyosJCQMHR8LGgcYIi8jHCwdByUgGxsICRsTKwUuFjAkHxgNKhIQGxQrGggbKS4tFhgtHyIdGAoFIgUGBhsSKBEaLSIPDyYbFgsBIQYnBjAlKwQuLR8NKR8pECQPEwQWAwYJEiMFHhYoCSEsKg8bGQ0RERggCRUvFTEfKB4wFxQaETErGwMkCh8YAhArICAiCRAcIiwICyUYHiIODycrIgMOLygeLC4DBQ0QKScNJiQnEAkQFi8eKiUSGioVEAcFBBMuAyEMGDAgKRkIGwkaGg0RKhMHFxMMAhQxCw8WDysUJxIBFhwNJyMCAw8oJiUCDhAhEQQYBjAYDyEeIxgJJBkeIBssBxoVIhkcGCYaICIwIgYUIxYVFy4mJishJiooGyUIIQgbDRkgHhYrMQsrBAssEiERAwILExQrES8bHDEJIAcEMR4eDB4eDyIxGgoPHAsgMC8OAh8PKyYqIQUJIQokByYqFh0rDBcvGxgbDRUmDSgrKQwPKBAsBQwPIQEOIDAFJyURCxkoLDEIJSImGhYFCSodCw8YGicdJCYrIiYqKyoZHB8TKyEhCSgRDCMuJCUqDQMtHCYJMCkQCBIHBAgsLCcZLSsfDickCRYBDgEHCAYaHxoqLCcYEAoFDS4lIBgXExwfCSosGw4lLyElEgoTFAcRJBoYCQgnJSokLiEEJiUbLC8lFTAJMAMpDQoMIwYUHBAGLggfJxMcKQ4RCxYkBycbAwseHTAWAikMHCIDGCUSHQ4vBgYbCC0iJi8DCDArES0pMB0rKiIHKS0cIyoHFgsPMTAaGxcWIxEvExoKDC8OMR0jLwYEJBUYBBErIysSIgYXDBkbLQkXHhEiCRYQKRQOEhAkEBYCCSACFRoTFS0EASoIGgwBHRsSFBsDFSQXGQ8OIxcsFgMZDCoOCxsqGikdMRMPJg8OEw4oFygFJygMHwMbLRYRKi8qKS8YKi0DFysODxomBSMmHSwNGhwsHDEiKxwFLDAEJxENEgscDCMvCDAnIy4wDwMwKysgERwiHyQNLhwGKAoIFzEoBQ0ZFx4cMB8hGhkfJBgkDQwBMBUHJhASJykhCx0kBwIuHSYHBBMbJRQwBRITMRMuIhwOLwQvKjAkIiYVCggRFgkbJBwSBhMdDRMhKBITKSAQKCoNIhAmKQgxDjAkHRkwDCksJxwkJi0bIioIBRsxLiYvKSwRCRcNLhEVIycGBCkTLhUXEiAEGAciIS0JLy0JKh8SCx8KJCoTBhYoIAYWEQYpMB8xLyAUEhoWAwcSBwgcGwsaExsVHBAOCSImCyEWHx8CEA8GCBEUFwsHAwIZISIWHgssJy4GAykrJScRIikXDiIQISQYCQMTDxMDJiMlMBQJEQgCJygKGQgrAgkXGzEYLxsnFBEnMAoaDg4KIRwaCRYaJzEbAwcoGCECJi8fAyYvCSsnDwwTFxYKFhw=",
          "dtype": "i1"
         },
         "xaxis": "x",
         "y": {
          "bdata": "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",
          "dtype": "i2"
         },
         "yaxis": "y"
        },
        {
         "hovertemplate": "class=Business<br>days_left=%{x}<br>price=%{y}<extra></extra>",
         "legendgroup": "Business",
         "marker": {
          "color": "#EF553B",
          "symbol": "circle"
         },
         "mode": "markers",
         "name": "Business",
         "showlegend": true,
         "type": "scattergl",
         "x": {
          "bdata": "Kx8fHRcSIw0KBy8dJw4dGBsjHwkdBQwNDBobIRIGGiwWHBgZMRcRHgUsBw0mLA0gHxcTIA0tHhMSLCklIRofFhYKGhQjJh8cKRcPDg8qIyMgLB4hByIQJjAmLCoVBi4YCistISkjLQouAhoHDQ4DEggIFycsEycbJR8VCx4XBRwNBQcxIh0cAiwKCAwZMAIaHx0tGS0WKCUNLTEdGyEbFxUQIDErCyMoLggRJQgdFTEjHA4eJxMOLygQIgcxBhIQBx0HFi8aGhsJAgkCGQkgLgQfIysBGgcfJSYWMC4LMAwFDB0kEikjFxgZFi0PAwkYHTEsBg8fCg8WCA4YLyIMGSseLiofMBkPFhsaFxIIDysYHgMfEgsRKgkHLAonDQQcIS4sLBwVIxEuJyEOAxYPHwcpJAQXIyYmIi0lBSwTIBMnKyQmCxUMJRUZBBkZGwYtKR0WBQkcBS0QERkcGCsaHgclLiklJwUvBQ0KHQsbLw4uBREhKycrBigcDhItDCoxMC8hJhQmLhAqHi0YGTAGEwwiHhcICiwQCg4mKikYFCMdEQ4iJBMlFAsDBywgBxwFJygVGxwPJgotJQwfGywEFQoaBg8LAx4EFwQcGwklHhwkJBkeAyEILBsVJTAXBS8SGggEKxwNJwkBDQwTJyYiCiUODgMeBBIqJiATLysxLiAFLCINEAsOHSUZHisnMB0hJwUkEBcuICkXDislIDATFS0wBTAdESoxFwYTICwKCggHKSoNEAoDGSMMHScdKyMQIhUWIS0qIhgeJxEDJBEQGSQHLCYgDh4LIAUv",
          "dtype": "i1"
         },
         "xaxis": "x",
         "y": {
          "bdata": "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",
          "dtype": "i4"
         },
         "yaxis": "y"
        }
       ],
       "layout": {
        "legend": {
         "title": {
          "text": "class"
         },
         "tracegroupgap": 0
        },
        "margin": {
         "t": 60
        },
        "template": {
         "data": {
          "bar": [
           {
            "error_x": {
             "color": "#2a3f5f"
            },
            "error_y": {
             "color": "#2a3f5f"
            },
            "marker": {
             "line": {
              "color": "#E5ECF6",
              "width": 0.5
             },
             "pattern": {
              "fillmode": "overlay",
              "size": 10,
              "solidity": 0.2
             }
            },
            "type": "bar"
           }
          ],
          "barpolar": [
           {
            "marker": {
             "line": {
              "color": "#E5ECF6",
              "width": 0.5
             },
             "pattern": {
              "fillmode": "overlay",
              "size": 10,
              "solidity": 0.2
             }
            },
            "type": "barpolar"
           }
          ],
          "carpet": [
           {
            "aaxis": {
             "endlinecolor": "#2a3f5f",
             "gridcolor": "white",
             "linecolor": "white",
             "minorgridcolor": "white",
             "startlinecolor": "#2a3f5f"
            },
            "baxis": {
             "endlinecolor": "#2a3f5f",
             "gridcolor": "white",
             "linecolor": "white",
             "minorgridcolor": "white",
             "startlinecolor": "#2a3f5f"
            },
            "type": "carpet"
           }
          ],
          "choropleth": [
           {
            "colorbar": {
             "outlinewidth": 0,
             "ticks": ""
            },
            "type": "choropleth"
           }
          ],
          "contour": [
           {
            "colorbar": {
             "outlinewidth": 0,
             "ticks": ""
            },
            "colorscale": [
             [
              0,
              "#0d0887"
             ],
             [
              0.1111111111111111,
              "#46039f"
             ],
             [
              0.2222222222222222,
              "#7201a8"
             ],
             [
              0.3333333333333333,
              "#9c179e"
             ],
             [
              0.4444444444444444,
              "#bd3786"
             ],
             [
              0.5555555555555556,
              "#d8576b"
             ],
             [
              0.6666666666666666,
              "#ed7953"
             ],
             [
              0.7777777777777778,
              "#fb9f3a"
             ],
             [
              0.8888888888888888,
              "#fdca26"
             ],
             [
              1,
              "#f0f921"
             ]
            ],
            "type": "contour"
           }
          ],
          "contourcarpet": [
           {
            "colorbar": {
             "outlinewidth": 0,
             "ticks": ""
            },
            "type": "contourcarpet"
           }
          ],
          "heatmap": [
           {
            "colorbar": {
             "outlinewidth": 0,
             "ticks": ""
            },
            "colorscale": [
             [
              0,
              "#0d0887"
             ],
             [
              0.1111111111111111,
              "#46039f"
             ],
             [
              0.2222222222222222,
              "#7201a8"
             ],
             [
              0.3333333333333333,
              "#9c179e"
             ],
             [
              0.4444444444444444,
              "#bd3786"
             ],
             [
              0.5555555555555556,
              "#d8576b"
             ],
             [
              0.6666666666666666,
              "#ed7953"
             ],
             [
              0.7777777777777778,
              "#fb9f3a"
             ],
             [
              0.8888888888888888,
              "#fdca26"
             ],
             [
              1,
              "#f0f921"
             ]
            ],
            "type": "heatmap"
           }
          ],
          "histogram": [
           {
            "marker": {
             "pattern": {
              "fillmode": "overlay",
              "size": 10,
              "solidity": 0.2
             }
            },
            "type": "histogram"
           }
          ],
          "histogram2d": [
           {
            "colorbar": {
             "outlinewidth": 0,
             "ticks": ""
            },
            "colorscale": [
             [
              0,
              "#0d0887"
             ],
             [
              0.1111111111111111,
              "#46039f"
             ],
             [
              0.2222222222222222,
              "#7201a8"
             ],
             [
              0.3333333333333333,
              "#9c179e"
             ],
             [
              0.4444444444444444,
              "#bd3786"
             ],
             [
              0.5555555555555556,
              "#d8576b"
             ],
             [
              0.6666666666666666,
              "#ed7953"
             ],
             [
              0.7777777777777778,
              "#fb9f3a"
             ],
             [
              0.8888888888888888,
              "#fdca26"
             ],
             [
              1,
              "#f0f921"
             ]
            ],
            "type": "histogram2d"
           }
          ],
          "histogram2dcontour": [
           {
            "colorbar": {
             "outlinewidth": 0,
             "ticks": ""
            },
            "colorscale": [
             [
              0,
              "#0d0887"
             ],
             [
              0.1111111111111111,
              "#46039f"
             ],
             [
              0.2222222222222222,
              "#7201a8"
             ],
             [
              0.3333333333333333,
              "#9c179e"
             ],
             [
              0.4444444444444444,
              "#bd3786"
             ],
             [
              0.5555555555555556,
              "#d8576b"
             ],
             [
              0.6666666666666666,
              "#ed7953"
             ],
             [
              0.7777777777777778,
              "#fb9f3a"
             ],
             [
              0.8888888888888888,
              "#fdca26"
             ],
             [
              1,
              "#f0f921"
             ]
            ],
            "type": "histogram2dcontour"
           }
          ],
          "mesh3d": [
           {
            "colorbar": {
             "outlinewidth": 0,
             "ticks": ""
            },
            "type": "mesh3d"
           }
          ],
          "parcoords": [
           {
            "line": {
             "colorbar": {
              "outlinewidth": 0,
              "ticks": ""
             }
            },
            "type": "parcoords"
           }
          ],
          "pie": [
           {
            "automargin": true,
            "type": "pie"
           }
          ],
          "scatter": [
           {
            "fillpattern": {
             "fillmode": "overlay",
             "size": 10,
             "solidity": 0.2
            },
            "type": "scatter"
           }
          ],
          "scatter3d": [
           {
            "line": {
             "colorbar": {
              "outlinewidth": 0,
              "ticks": ""
             }
            },
            "marker": {
             "colorbar": {
              "outlinewidth": 0,
              "ticks": ""
             }
            },
            "type": "scatter3d"
           }
          ],
          "scattercarpet": [
           {
            "marker": {
             "colorbar": {
              "outlinewidth": 0,
              "ticks": ""
             }
            },
            "type": "scattercarpet"
           }
          ],
          "scattergeo": [
           {
            "marker": {
             "colorbar": {
              "outlinewidth": 0,
              "ticks": ""
             }
            },
            "type": "scattergeo"
           }
          ],
          "scattergl": [
           {
            "marker": {
             "colorbar": {
              "outlinewidth": 0,
              "ticks": ""
             }
            },
            "type": "scattergl"
           }
          ],
          "scattermap": [
           {
            "marker": {
             "colorbar": {
              "outlinewidth": 0,
              "ticks": ""
             }
            },
            "type": "scattermap"
           }
          ],
          "scattermapbox": [
           {
            "marker": {
             "colorbar": {
              "outlinewidth": 0,
              "ticks": ""
             }
            },
            "type": "scattermapbox"
           }
          ],
          "scatterpolar": [
           {
            "marker": {
             "colorbar": {
              "outlinewidth": 0,
              "ticks": ""
             }
            },
            "type": "scatterpolar"
           }
          ],
          "scatterpolargl": [
           {
            "marker": {
             "colorbar": {
              "outlinewidth": 0,
              "ticks": ""
             }
            },
            "type": "scatterpolargl"
           }
          ],
          "scatterternary": [
           {
            "marker": {
             "colorbar": {
              "outlinewidth": 0,
              "ticks": ""
             }
            },
            "type": "scatterternary"
           }
          ],
          "surface": [
           {
            "colorbar": {
             "outlinewidth": 0,
             "ticks": ""
            },
            "colorscale": [
             [
              0,
              "#0d0887"
             ],
             [
              0.1111111111111111,
              "#46039f"
             ],
             [
              0.2222222222222222,
              "#7201a8"
             ],
             [
              0.3333333333333333,
              "#9c179e"
             ],
             [
              0.4444444444444444,
              "#bd3786"
             ],
             [
              0.5555555555555556,
              "#d8576b"
             ],
             [
              0.6666666666666666,
              "#ed7953"
             ],
             [
              0.7777777777777778,
              "#fb9f3a"
             ],
             [
              0.8888888888888888,
              "#fdca26"
             ],
             [
              1,
              "#f0f921"
             ]
            ],
            "type": "surface"
           }
          ],
          "table": [
           {
            "cells": {
             "fill": {
              "color": "#EBF0F8"
             },
             "line": {
              "color": "white"
             }
            },
            "header": {
             "fill": {
              "color": "#C8D4E3"
             },
             "line": {
              "color": "white"
             }
            },
            "type": "table"
           }
          ]
         },
         "layout": {
          "annotationdefaults": {
           "arrowcolor": "#2a3f5f",
           "arrowhead": 0,
           "arrowwidth": 1
          },
          "autotypenumbers": "strict",
          "coloraxis": {
           "colorbar": {
            "outlinewidth": 0,
            "ticks": ""
           }
          },
          "colorscale": {
           "diverging": [
            [
             0,
             "#8e0152"
            ],
            [
             0.1,
             "#c51b7d"
            ],
            [
             0.2,
             "#de77ae"
            ],
            [
             0.3,
             "#f1b6da"
            ],
            [
             0.4,
             "#fde0ef"
            ],
            [
             0.5,
             "#f7f7f7"
            ],
            [
             0.6,
             "#e6f5d0"
            ],
            [
             0.7,
             "#b8e186"
            ],
            [
             0.8,
             "#7fbc41"
            ],
            [
             0.9,
             "#4d9221"
            ],
            [
             1,
             "#276419"
            ]
           ],
           "sequential": [
            [
             0,
             "#0d0887"
            ],
            [
             0.1111111111111111,
             "#46039f"
            ],
            [
             0.2222222222222222,
             "#7201a8"
            ],
            [
             0.3333333333333333,
             "#9c179e"
            ],
            [
             0.4444444444444444,
             "#bd3786"
            ],
            [
             0.5555555555555556,
             "#d8576b"
            ],
            [
             0.6666666666666666,
             "#ed7953"
            ],
            [
             0.7777777777777778,
             "#fb9f3a"
            ],
            [
             0.8888888888888888,
             "#fdca26"
            ],
            [
             1,
             "#f0f921"
            ]
           ],
           "sequentialminus": [
            [
             0,
             "#0d0887"
            ],
            [
             0.1111111111111111,
             "#46039f"
            ],
            [
             0.2222222222222222,
             "#7201a8"
            ],
            [
             0.3333333333333333,
             "#9c179e"
            ],
            [
             0.4444444444444444,
             "#bd3786"
            ],
            [
             0.5555555555555556,
             "#d8576b"
            ],
            [
             0.6666666666666666,
             "#ed7953"
            ],
            [
             0.7777777777777778,
             "#fb9f3a"
            ],
            [
             0.8888888888888888,
             "#fdca26"
            ],
            [
             1,
             "#f0f921"
            ]
           ]
          },
          "colorway": [
           "#636efa",
           "#EF553B",
           "#00cc96",
           "#ab63fa",
           "#FFA15A",
           "#19d3f3",
           "#FF6692",
           "#B6E880",
           "#FF97FF",
           "#FECB52"
          ],
          "font": {
           "color": "#2a3f5f"
          },
          "geo": {
           "bgcolor": "white",
           "lakecolor": "white",
           "landcolor": "#E5ECF6",
           "showlakes": true,
           "showland": true,
           "subunitcolor": "white"
          },
          "hoverlabel": {
           "align": "left"
          },
          "hovermode": "closest",
          "mapbox": {
           "style": "light"
          },
          "paper_bgcolor": "white",
          "plot_bgcolor": "#E5ECF6",
          "polar": {
           "angularaxis": {
            "gridcolor": "white",
            "linecolor": "white",
            "ticks": ""
           },
           "bgcolor": "#E5ECF6",
           "radialaxis": {
            "gridcolor": "white",
            "linecolor": "white",
            "ticks": ""
           }
          },
          "scene": {
           "xaxis": {
            "backgroundcolor": "#E5ECF6",
            "gridcolor": "white",
            "gridwidth": 2,
            "linecolor": "white",
            "showbackground": true,
            "ticks": "",
            "zerolinecolor": "white"
           },
           "yaxis": {
            "backgroundcolor": "#E5ECF6",
            "gridcolor": "white",
            "gridwidth": 2,
            "linecolor": "white",
            "showbackground": true,
            "ticks": "",
            "zerolinecolor": "white"
           },
           "zaxis": {
            "backgroundcolor": "#E5ECF6",
            "gridcolor": "white",
            "gridwidth": 2,
            "linecolor": "white",
            "showbackground": true,
            "ticks": "",
            "zerolinecolor": "white"
           }
          },
          "shapedefaults": {
           "line": {
            "color": "#2a3f5f"
           }
          },
          "ternary": {
           "aaxis": {
            "gridcolor": "white",
            "linecolor": "white",
            "ticks": ""
           },
           "baxis": {
            "gridcolor": "white",
            "linecolor": "white",
            "ticks": ""
           },
           "bgcolor": "#E5ECF6",
           "caxis": {
            "gridcolor": "white",
            "linecolor": "white",
            "ticks": ""
           }
          },
          "title": {
           "x": 0.05
          },
          "xaxis": {
           "automargin": true,
           "gridcolor": "white",
           "linecolor": "white",
           "ticks": "",
           "title": {
            "standoff": 15
           },
           "zerolinecolor": "white",
           "zerolinewidth": 2
          },
          "yaxis": {
           "automargin": true,
           "gridcolor": "white",
           "linecolor": "white",
           "ticks": "",
           "title": {
            "standoff": 15
           },
           "zerolinecolor": "white",
           "zerolinewidth": 2
          }
         }
        },
        "xaxis": {
         "anchor": "y",
         "domain": [
          0,
          1
         ],
         "title": {
          "text": "days_left"
         }
        },
        "yaxis": {
         "anchor": "x",
         "domain": [
          0,
          1
         ],
         "title": {
          "text": "price"
         }
        }
       }
      }
     },
     "metadata": {},
     "output_type": "display_data"
    }
   ],
   "source": [
    "if SIMPLIFIED_PLOTS:\n",
    "    fig = px.scatter(df_raw_sample, x=\"days_left\", y=\"price\", color=\"class\")\n",
    "else: \n",
    "    fig = px.scatter(df_raw, x=\"days_left\", y=\"price\", color=\"class\", marginal_y=\"violin\", marginal_x=\"box\", trendline=\"ols\", template=\"simple_white\")\n",
    "fig.show()"
   ]
  },
  {
   "cell_type": "code",
   "execution_count": 8,
   "id": "a22b2472",
   "metadata": {},
   "outputs": [
    {
     "data": {
      "application/vnd.plotly.v1+json": {
       "config": {
        "plotlyServerURL": "https://plot.ly"
       },
       "data": [
        {
         "hovertemplate": "class=Economy<br>duration=%{x}<br>price=%{y}<extra></extra>",
         "legendgroup": "Economy",
         "marker": {
          "color": "#636efa",
          "symbol": "circle"
         },
         "mode": "markers",
         "name": "Economy",
         "showlegend": true,
         "type": "scattergl",
         "x": {
          "bdata": "16NwPQrXI0AAAAAAAAAeQNejcD0KVyBAAAAAAAAALEBSuB6F61EVQClcj8L1qClAKVyPwvWoIEAAAAAAAAAxQLgehetRuPo/AAAAAAAAJkApXI/C9SgrQK5H4XoUrh1ArkfhehSuHUAAAAAAAIA0QAAAAAAAACJAKVyPwvWoK0CuR+F6FK4SQNejcD0K1yxAKVyPwvWoJUAAAAAAAAAYQAAAAAAAACtAAAAAAACAO0DXo3A9CtcsQNejcD0KVy9AAAAAAACALUApXI/C9SggQOxRuB6F6zVA16NwPQpXIkAAAAAAAAAxQNejcD0K1y5ArkfhehSuF0AAAAAAAAAgQAAAAAAAACBApHA9CtejAkAAAAAAAEA5QNejcD0K1yxA7FG4HoVrNUAAAAAAAAD4PwAAAAAAAChAuB6F61G4/j8AAAAAAIAjQAAAAAAAACZAAAAAAACAJUDsUbgehaswQK5H4XoUrhlAAAAAAACAIUDsUbgehes4QK5H4XoUrhlAXI/C9ShcA0AAAAAAAEA8QOxRuB6FqzRAAAAAAAAAG0DXo3A9CtctQBSuR+F6FDlAAAAAAADAN0AAAAAAAAAmQAAAAAAAwDhAAAAAAAAAN0DXo3A9ClcsQOxRuB6FKzlAAAAAAAAAG0DXo3A9CtcmQBSuR+F6lDpAuB6F61G4/j+4HoXrUbj+PwAAAAAAAPQ/AAAAAAAABkAAAAAAAAA+QAAAAAAAAABArkfhehSuGECuR+F6FK4ZQAAAAAAAACFAAAAAAACAIUAAAAAAAAAZQAAAAAAAgDtA7FG4HoVrMUCuR+F6FK4WQAAAAAAAAAhAFK5H4XoUNkCuR+F6FK4dQFK4HoXrURpAAAAAAAAAIEDXo3A9ClcqQKRwPQrXowBArkfhehSuEkAAAAAAAIAtQNejcD0K1yFApHA9CtejBEAAAAAAAAAUQKRwPQrXowBA16NwPQpXLUAAAAAAAAATQNejcD0KVydAFK5H4XpUOkApXI/C9SgkQAAAAAAAgCZAUrgehetRGUDXo3A9ClciQFyPwvUoXAFAAAAAAAAAOUAAAAAAAAApQKRwPQrXowZAUrgehetRHkDsUbgeheszQNejcD0KVyJA16NwPQrXKUAUrkfhehQ1QClcj8L1qCtAAAAAAAAAAkDXo3A9ClciQBSuR+F6lDpAAAAAAAAAHEAAAAAAAAAvQBSuR+F6VDxAUrgehetRH0DXo3A9CtcnQAAAAAAAQDNAAAAAAABANECuR+F6FK4VQClcj8L1KC9AUrgehetRHEDXo3A9CtctQAAAAAAAAAJAUrgehetRGEDXo3A9ClcjQNejcD0KVyhAUrgehetRFkAAAAAAAAACQAAAAAAAgCVA7FG4HoXrPEAAAAAAAAAwQAAAAAAAgCFAAAAAAACAMUCuR+F6FK4SQFK4HoXrURxACtejcD1KQ0AAAAAAAAAdQAAAAAAAABNAXI/C9ShcBUBSuB6F61EXQFK4HoXrURtAUrgehetRHUAAAAAAAIA2QK5H4XoUrhRAFK5H4XrUN0ApXI/C9SgjQAAAAAAAAAJA7FG4HoXrN0ApXI/C9SgtQFyPwvUoXANAAAAAAACAKUAAAAAAAAAnQNejcD0KVyVAFK5H4XoUMEDXo3A9ClcmQClcj8L1KCZA7FG4HoXrOkCkcD0K16MCQClcj8L1qCFArkfhehSuFEAAAAAAAAAYQClcj8L1qCpAAAAAAAAAAkAAAAAAAIAxQOxRuB6F6zZAFK5H4XpUOkDXo3A9CtcpQClcj8L1qCFAUrgehetRGUDXo3A9CtcjQClcj8L1KCFAAAAAAACAKkAUrkfhehQ1QAAAAAAAgDpAAAAAAAAAMEAUrkfhelQ1QLgehetRuPI/AAAAAAAA/D+uR+F6FK4eQNejcD0K1ytA16NwPQrXIkApXI/C9SgsQAAAAAAAABlApHA9CtejBkAAAAAAAAAeQFyPwvUoXAFArkfhehSuFEDsUbgehes2QAAAAAAAAClAAAAAAAAACEApXI/C9SgsQAAAAAAAACBA16NwPQrXIkDXo3A9CtcvQClcj8L1KC9AAAAAAACALkBI4XoUrkf5PwAAAAAAwDpAAAAAAAAAG0ApXI/C9SgpQAAAAAAAADNAAAAAAAAAGUAAAAAAAMA7QKRwPQrXowBAAAAAAACAIUAAAAAAAIAwQFK4HoXrURtAAAAAAAAAL0BSuB6F61EWQClcj8L1KCBA16NwPQpXIkCkcD0K16MEQAAAAAAAgClArkfhehSuGEApXI/C9agqQNejcD0KVyJApHA9CtejBkBSuB6F61EXQClcj8L1qChAKVyPwvUoKUAAAAAAAAAhQClcj8L1qCZAUrgehetRHEAAAAAAAAAcQAAAAAAAAB5AXI/C9ShcB0AAAAAAAAAvQAAAAAAAABRA7FG4HoUrN0DXo3A9ClckQNejcD0K1yVAKVyPwvWoJUC4HoXrUbj6PwAAAAAAAChA7FG4HoWrMEAAAAAAAAAmQKRwPQrXowhA16NwPQrXJEBSuB6F61EfQClcj8L1qCdAKVyPwvUoL0BSuB6F61EYQKRwPQrXowJAAAAAAAAABkDsUbgehasyQAAAAAAAgCpAUrgehetRFUCuR+F6FK4WQNejcD0K1yNAUrgehetRFUAUrkfhetQ1QBSuR+F6VDpAUrgehetRG0AUrkfhetQzQBSuR+F6VDBArkfhehSuGEAAAAAAAIAmQAAAAAAAABhAXI/C9ShcBUAAAAAAAAAjQClcj8L1qCJAFK5H4XqUPEAAAAAAAIAkQNejcD0K1yxAAAAAAAAAKECuR+F6FK4QQNejcD0KVyxAAAAAAACALEDXo3A9CtcpQClcj8L1KCRAAAAAAAAAEkAAAAAAAEA6QK5H4XoUrhtAUrgehetREEAAAAAAAAAXQAAAAAAAgCtApHA9CtejAEDXo3A9ClcqQLgehetRuPI/AAAAAACAJEDXo3A9ClcjQAAAAAAAwDNA16NwPQrXJ0D2KFyPwrVDQAAAAAAAAB9AKVyPwvUoLEApXI/C9agvQBSuR+F6VDtAKVyPwvWoK0BSuB6F61EYQFK4HoXrURdA7FG4HoUrN0CuR+F6FK4cQAAAAAAAADNAAAAAAAAAHkAAAAAAAAAoQK5H4XoUrh1AuB6F61G48j8UrkfhetQ3QAAAAAAAgDtA16NwPQpXLEAAAAAAAAAwQAAAAAAAAB5AAAAAAAAAE0CuR+F6FK4fQBSuR+F6lDhA16NwPQpXJ0CuR+F6FK4fQKRwPQrXow5AKVyPwvWoIUAAAAAAAIAwQBSuR+F6lDBASOF6FK5H9T8pXI/C9aggQK5H4XoUrhFA16NwPQrXL0AAAAAAAAAuQK5H4XoUrhBArkfhehSuGkAAAAAAAEAwQAAAAAAAQDVAAAAAAAAAH0CuR+F6FK4VQOxRuB6F6zNApHA9CtejDkApXI/C9SghQAAAAAAAgCZAXI/C9ShcAUAAAAAAAAAcQFK4HoXrURZAAAAAAAAALEAAAAAAAAAxQAAAAAAAgCJArkfhehSuFEAAAAAAAIA1QK5H4XoUrh9AAAAAAAAAOUAAAAAAAIAgQLgehetRuPI/SOF6FK5H/T8AAAAAAIA7QAAAAAAAgCpAAAAAAACAKEAAAAAAAIAnQNejcD0K1ytAKVyPwvWoL0BSuB6F61EVQKRwPQrXowBAFK5H4XrUNUDXo3A9ClcoQAAAAAAAABZApHA9CtejBkCuR+F6FK4YQAAAAAAAAChAKVyPwvWoJUDXo3A9CtcnQK5H4XoUrhpAAAAAAABAN0AAAAAAAAARQAAAAAAAACNAAAAAAAAAJUAAAAAAAEA1QOxRuB6FKzBAKVyPwvWoJEAUrkfhehQwQFK4HoXrURNA7FG4HoXrN0AAAAAAAEAyQAAAAAAAQDlAAAAAAACAJEBSuB6F61EdQFK4HoXrURZAFK5H4XqUOkDsUbgehWs2QAAAAAAAAAZAUrgehetRHEAAAAAAAAAfQNejcD0KVyNAAAAAAAAAJUAUrkfhehQwQLgehetRuP4/AAAAAAAAIEAAAAAAAAApQAAAAAAAACNAAAAAAAAAKkCuR+F6FK4VQBSuR+F6lDRAAAAAAAAAAEDXo3A9ClcpQNejcD0K1yBAAAAAAACAKkApXI/C9SgmQFK4HoXrUR5AAAAAAAAAKUCkcD0K16MCQBSuR+F6lDRAuB6F61G48j8pXI/C9SgqQNejcD0K1yZAAAAAAAAAF0ApXI/C9agiQK5H4XoUrhVAUrgehetRGUApXI/C9agqQBSuR+F6VDVA16NwPQpXJUAAAAAAAIAjQOxRuB6FKz9AAAAAAAAAMUAAAAAAAAATQOxRuB6FKzBArkfhehSuHUBcj8L1KFwHQFK4HoXrUR5AAAAAAAAAK0CkcD0K16MGQAAAAAAAAAZA16NwPQpXLkAUrkfhelQ4QAAAAAAAgCNA7FG4HoWrM0AAAAAAAIAjQAAAAAAAACVAKVyPwvUoKEAAAAAAAAAgQBSuR+F6VDVAKVyPwvWoJ0AAAAAAAAAGQK5H4XoUrhlA7FG4HoXrMUAAAAAAAIAkQClcj8L1KCRAAAAAAAAAIEBSuB6F61EcQK5H4XoUrh5A16NwPQpXIUAUrkfhelQ2QAAAAAAAABJAAAAAAAAAKECkcD0K16MCQK5H4XoUrhxAFK5H4XoUOUAAAAAAAAAiQBSuR+F6FDJA16NwPQpXJ0ApXI/C9agrQFK4HoXrUR5ASOF6FK5H+T8pXI/C9agoQAAAAAAAABpA16NwPQrXIUAAAAAAAIAwQNejcD0KVyBAFK5H4XoUP0DXo3A9ClcsQFK4HoXrUR1AAAAAAAAAH0AAAAAAAAAqQClcj8L1KCtAKVyPwvUoJ0DsUbgehSswQK5H4XoUrhVApHA9CtejAkAAAAAAAAAbQAAAAAAAACBAKVyPwvUoLUCuR+F6FK4TQNejcD0KVy5ArkfhehSuHEDXo3A9ClciQBSuR+F6lDVAAAAAAAAAI0CuR+F6FK4RQBSuR+F6VDZAXI/C9ShcAUAAAAAAAIAtQBSuR+F61DdA7FG4HoXrN0ApXI/C9SgoQOxRuB6FqzxAKVyPwvWoI0ApXI/C9SgnQClcj8L1KCpArkfhehSuGECuR+F6FK4VQFK4HoXrURpAAAAAAAAABkBcj8L1KFwBQK5H4XoUrh1AKVyPwvUoLkApXI/C9agrQAAAAAAAABtAAAAAAAAAJEDXo3A9CtcqQNejcD0K1ydAFK5H4XrUOkAAAAAAAAAcQClcj8L1KC1AcT0K16Nw7T8AAAAAAAAWQAAAAAAAAB5ApHA9CtejBkDXo3A9ClcnQBSuR+F6lDFAUrgehetRGkCuR+F6FK4eQAAAAAAAgDZAAAAAAAAAMUApXI/C9SghQOxRuB6FKzdAFK5H4XpUMUBSuB6F61EfQNejcD0KVyNAAAAAAABAOUAAAAAAAIArQAAAAAAAgChAFK5H4XqUNkDsUbgehWsxQClcj8L1qCtAFK5H4XrUMUAAAAAAAAAgQAAAAAAAQD5AAAAAAAAAIkApXI/C9agjQEjhehSuR/0/AAAAAACAKUDsUbgehas3QAAAAAAAACBAFK5H4XoUNECuR+F6FK4cQEjhehSuR/0/AAAAAAAAGEApXI/C9agsQAAAAAAAABtAAAAAAAAAL0AAAAAAAAAxQNejcD0KVyFA7FG4HoUrNEDXo3A9ClckQK5H4XoUrhdA16NwPQpXJUDXo3A9ClcqQNejcD0K1ydAUrgehetRFkC4HoXrUbj+PwAAAAAAACRAFK5H4XqUM0AAAAAAAAATQAAAAAAAAAJAFK5H4XoUN0ApXI/C9SglQOxRuB6FazBAAAAAAAAABEBcj8L1KFwHQClcj8L1qCdArkfhehSuGEBSuB6F61EWQK5H4XoUrhhAAAAAAAAAL0BSuB6F61EVQAAAAAAAAAJAAAAAAACAOUAAAAAAAIAhQFyPwvUoXAFAAAAAAAAAHkBI4XoUrkf1P9ejcD0K1ylArkfhehSuG0AAAAAAAIA4QNejcD0K1yxAFK5H4XqUOUAAAAAAAAAYQNejcD0KVylApHA9CtejBkAUrkfhetQ3QAAAAAAAAAxA7FG4HoVrOEDXo3A9ClchQAAAAAAAgCFApHA9CtejBEDXo3A9CtcuQFK4HoXrUR1ArkfhehSuHEAAAAAAAIAkQNejcD0K1yJAKVyPwvUoI0DsUbgehes3QAAAAAAAgCZAKVyPwvUoLEAAAAAAAIAnQAAAAAAAAA5A16NwPQrXLUAUrkfhepQwQBSuR+F61DBAAAAAAAAAGUBcj8L1KFwDQAAAAAAAABxAAAAAAAAAI0CkcD0K16MCQClcj8L1qCZAAAAAAAAAL0BSuB6F61EYQNejcD0K1y9AAAAAAACAKkApXI/C9aghQOxRuB6FqzVArkfhehSuGUAUrkfhepQ3QBSuR+F6VDtAUrgehetRFkDXo3A9CtchQAAAAAAAAB5AAAAAAAAAI0BI4XoUrkf9Pylcj8L1qCNAFK5H4XoUOkApXI/C9agiQAAAAAAAAChAFK5H4XoUNkAAAAAAAAAvQK5H4XoUrhxAAAAAAAAAFEDXo3A9CtcvQBSuR+F6VDhAAAAAAAAAKkAAAAAAAAACQBSuR+F61DVAuB6F61G4/j8AAAAAAAACQAAAAAAAgCBAKVyPwvWoJUBcj8L1KFwDQNejcD0KVylArkfhehSuGECuR+F6FK4ZQBSuR+F61DZAuB6F61G4+j8AAAAAAAAYQOxRuB6F6zdAXI/C9ShcBUAAAAAAAIAlQOxRuB6FKzZAAAAAAAAANUDsUbgehWsxQNejcD0K1yhAAAAAAAAAFUAAAAAAAIAqQNejcD0KVyZA7FG4HoUrMECuR+F6FK4bQAAAAAAAADVAAAAAAACAK0AAAAAAAAAfQClcj8L1KCVAFK5H4XpUMEAAAAAAAAAkQK5H4XoUrhJArkfhehSuH0ApXI/C9SgjQNejcD0K1ytAFK5H4XrUMkApXI/C9aghQAAAAAAAAChAAAAAAAAAKEDsUbgehSszQAAAAAAAAClAKVyPwvUoIUDXo3A9CtclQAAAAAAAAAJAAAAAAAAALEDXo3A9ClciQEjhehSuR/E/XI/C9ShcDUApXI/C9agiQClcj8L1qCVAAAAAAACAO0AAAAAAAAApQFK4HoXrUR1A16NwPQrXI0AAAAAAAAAZQNejcD0K1yNA16NwPQpXIkDsUbgeheszQClcj8L1KCtA16NwPQpXIUBSuB6F61EeQClcj8L1KC5ArkfhehSuHUCuR+F6FK4YQClcj8L1KC5A16NwPQrXKkDXo3A9ClcsQAAAAAAAgChAAAAAAABAPEAAAAAAAAA5QAAAAAAAACJAUrgehetRFUCuR+F6FK4eQKRwPQrXowZA16NwPQrXI0DXo3A9CtcrQAAAAAAAgDFAUrgehetRFUApXI/C9agqQKRwPQrXowJAUrgehetRG0ApXI/C9agjQAAAAAAAgDlA16NwPQrXKkAAAAAAAOBBQFK4HoXrURBA16NwPQrXLkAAAAAAAAACQNejcD0K1ypAKVyPwvUoJUDXo3A9ClciQK5H4XoUrh9ArkfhehSuF0DsUbgehWs6QBSuR+F6VDdAAAAAAAAAE0CuR+F6FK4ZQFK4HoXrURRAUrgehetRHEDXo3A9CtcnQClcj8L1KCxAFK5H4XpUNUAAAAAAAAAbQAAAAAAAABRAAAAAAACAMEAAAAAAAAAWQBSuR+F6lDRApHA9CtejCkBcj8L1KFwBQAAAAAAAgCNA16NwPQpXKEAAAAAAAIA5QNejcD0KVydAAAAAAACALEDXo3A9ClcoQNejcD0K1yJAKVyPwvUoJ0CuR+F6FK4fQAAAAAAAABVA16NwPQpXIUDXo3A9ClcjQOxRuB6F6zpAUrgehetRGECuR+F6FK4SQLgehetRuPI/16NwPQpXIEApXI/C9agkQLgehetRuPI/SOF6FK5H8T+4HoXrUbj+Pylcj8L1KC9AAAAAAAAADkCuR+F6FK4XQClcj8L1qCFA16NwPQpXKEDXo3A9ClcsQAAAAAAAQDhAAAAAAAAAHkCuR+F6FK4bQKRwPQrXowJAAAAAAAAA+D8AAAAAAIAtQNejcD0KVyRArkfhehSuGECkcD0K16MCQK5H4XoUrhVA16NwPQpXKUDXo3A9CtcoQOxRuB6F6zFAAAAAAADAO0AAAAAAAAAeQK5H4XoUrhlArkfhehSuF0AUrkfhelQ5QAAAAAAAACNAAAAAAAAALkCuR+F6FK4cQClcj8L1qCZA7FG4HoWrPUDXo3A9CtclQFK4HoXrUR9A16NwPQpXJkAAAAAAAIA4QK5H4XoUrhpA16NwPQpXJUDXo3A9ClcqQAAAAAAAgClAXI/C9ShcAUAAAAAAAIAhQAAAAAAAAAJAAAAAAACAKEDXo3A9ClckQNejcD0KVyNAAAAAAADAO0DXo3A9ClcnQClcj8L1qCRArkfhehSuGEAAAAAAAAAXQNejcD0K1ylAj8L1KFyP6j9SuB6F61EUQNejcD0KVypA16NwPQrXIUDXo3A9CtcgQKRwPQrXowJAUrgehetRFUDsUbgeheszQNejcD0KVyRArkfhehSuH0BSuB6F61EYQClcj8L1qCRAAAAAAACAMEBcj8L1KFwBQAAAAAAAAB1ArkfhehSuG0BI4XoUrkf1PwAAAAAAgCBAAAAAAAAAFEApXI/C9SgmQAAAAAAAAARAXI/C9ShcAUAAAAAAAIAhQAAAAAAAgC1AAAAAAACAI0DXo3A9ClcuQClcj8L1KCFAAAAAAAAABkAAAAAAAIAqQArXo3A9SkFAAAAAAACAOUAUrkfhelQ3QClcj8L1KCBArkfhehSuGEAAAAAAAAAAQOxRuB6F6zlArkfhehSuE0AAAAAAAIA6QAAAAAAAQDdAAAAAAAAAGEDXo3A9ClckQClcj8L1qCtA7FG4HoXrMUCkcD0K16MEQFyPwvUoXAFAAAAAAACAKkAUrkfhelQ5QK5H4XoUrhtAFK5H4XrUNUCuR+F6FK4XQAAAAAAAABtAAAAAAACAKEAAAAAAAAAWQAAAAAAAAAJAAAAAAAAAFkDsUbgehSs4QNejcD0KVylAAAAAAACAOkDsUbgehes5QAAAAAAAABZAKVyPwvUoIECuR+F6FK4SQFK4HoXrURpAAAAAAAAANkAAAAAAAIAhQFK4HoXrUR9ArkfhehSuEkAUrkfhehQ5QBSuR+F61DtAAAAAAAAAFEApXI/C9SgrQAAAAAAAgDhAAAAAAAAAMEAAAAAAAAAWQAAAAAAAABtAUrgehetREEDXo3A9ClcmQAAAAAAAADpAAAAAAABAMUAAAAAAAAAGQFyPwvUoXAFAAAAAAABAOUCkcD0K16MGQOxRuB6FKzZAAAAAAACAJ0DXo3A9CtcsQAAAAAAAACJAKVyPwvUoKUApXI/C9SgkQAAAAAAAABZAAAAAAACALkD2KFyPwvVCQAAAAAAAAAJAFK5H4XqUOECkcD0K16MIQNejcD0K1yNA16NwPQpXKEBSuB6F61EeQAAAAAAAAChArkfhehSuEkAAAAAAAMAyQAAAAAAAABRA16NwPQpXLkAAAAAAAAD8P9ejcD0K1ylAAAAAAACALkCuR+F6FK4UQNejcD0K1ytAAAAAAACAJkDXo3A9ClcpQKRwPQrXowxArkfhehSuGkApXI/C9SgnQK5H4XoUrhxAKVyPwvUoKkAAAAAAAAACQEjhehSuR/0/FK5H4XpUM0ApXI/C9SglQOxRuB6FKzZAAAAAAACAI0DXo3A9ClciQNejcD0KVyNAAAAAAABAMUDXo3A9CtcmQK5H4XoUrhhA7FG4HoWrN0BI4XoUrkf1P+xRuB6FqzlApHA9CtejAkAAAAAAAAAvQAAAAAAAAC5AFK5H4XqUOkDXo3A9CtcmQAAAAAAAQDZAAAAAAACAI0DXo3A9CtchQK5H4XoUrhVAAAAAAAAAGEDXo3A9CtckQClcj8L1KChA16NwPQpXI0DsUbgehas4QFyPwvUoXAFAFK5H4XoUNkDXo3A9ClctQClcj8L1KCRAXI/C9ShcB0DsUbgehes4QNejcD0KVyhA16NwPQpXJ0DsUbgeheszQAAAAAAAgChAAAAAAAAA/D9SuB6F61EeQAAAAAAAABdAAAAAAACAIEAAAAAAAIAkQK5H4XoUrhZAUrgehetRFUApXI/C9agpQOxRuB6FqzRAXI/C9ShcAUAAAAAAAADwP9ejcD0KVyFAAAAAAAAAHkApXI/C9SgmQNejcD0KVyJAAAAAAAAABECkcD0K16MGQAAAAAAAgCJA16NwPQrXJUAAAAAAAIAmQKRwPQrXowBA16NwPQpXIEC4HoXrUbj2P9ejcD0KVytAFK5H4XpUMEDXo3A9ClcvQOxRuB6FqzFA16NwPQpXJUAUrkfhelQ7QAAAAAAAgCNAFK5H4XpUN0ApXI/C9SgoQNejcD0KVyBAAAAAAAAAIEAAAAAAAIAjQClcj8L1qCdAAAAAAACAKkDXo3A9ClcvQFK4HoXrUR9ApHA9CtejBkAAAAAAAIA7QAAAAAAAAB5AUrgehetRGkBcj8L1KFwFQAAAAAAAABpAKVyPwvUoK0BI4XoUrkfxP1K4HoXrURlAAAAAAAAAGEDXo3A9CtcjQNejcD0KVyxArkfhehSuE0AAAAAAAIAoQOxRuB6FqzFAAAAAAACAJkAUrkfhelQzQKRwPQrXowBAAAAAAAAA/D8UrkfhetQ2QAAAAAAAwDZAKVyPwvUoI0DsUbgeheswQClcj8L1qC1AUrgehetRH0CkcD0K16MCQK5H4XoUrhtAFK5H4XpUM0DsUbgehas1QAAAAAAAAAJAAAAAAACAMUApXI/C9SgoQNejcD0K1yNArkfhehSuHkApXI/C9aghQClcj8L1qCJA7FG4HoVrNkAAAAAAAIAgQOxRuB6FKzBAAAAAAACAJkAAAAAAAEAyQK5H4XoUrhhAFK5H4XoUM0BSuB6F61EaQAAAAAAAACNAAAAAAAAALUAAAAAAAIAiQClcj8L1qCpA16NwPQpXIEBSuB6F61EeQAAAAAAAABtApHA9CtejAkApXI/C9agrQFK4HoXrUR5AAAAAAAAABkAAAAAAAAA5QNejcD0KVypAUrgehetRHkCuR+F6FK4RQPYoXI/CtUBA16NwPQrXIEBSuB6F61EXQClcj8L1qC1ApHA9CtejAEAAAAAAAIA1QClcj8L1KC5AFK5H4XqUMEAAAAAAAIAwQClcj8L1qCBAAAAAAAAAFEAAAAAAAAAkQAAAAAAAAB1AUrgehetRHkAAAAAAAAAgQAAAAAAAACRA16NwPQpXK0CkcD0K16MGQAAAAAAAABtAFK5H4XrUNkBcj8L1KFwFQAAAAAAAACZAAAAAAACAI0AAAAAAAAAXQNejcD0K1yRAUrgehetRFEDsUbgeheszQAAAAAAAACxA7FG4HoWrOECuR+F6FK4bQClcj8L1qCdAKVyPwvUoK0AAAAAAAEA4QK5H4XoUrh9AAAAAAAAABEAAAAAAAMAwQAAAAAAAAB5ArkfhehSuEUApXI/C9SgoQAAAAAAAACNAAAAAAAAAJEBcj8L1KFwDQNejcD0KVylApHA9CtejBEAAAAAAAAAZQK5H4XoUrhpAUrgehetRFUAAAAAAAAAkQNejcD0K1ytAKVyPwvWoKUAAAAAAAAAxQBSuR+F6FDBArkfhehSuEEAAAAAAAIAwQBSuR+F6lDdAAAAAAACAJ0CuR+F6FK4bQAAAAAAAABVAXI/C9ShcD0ApXI/C9agsQAAAAAAAAAJASOF6FK5H9T8UrkfhepQ8QAAAAAAAAAJArkfhehSuHkC4HoXrUbj+PwAAAAAAQDxAKVyPwvWoJUAAAAAAAIAuQOxRuB6FazhAUrgehetRF0DXo3A9CtcgQAAAAAAAABtA16NwPQpXLkCuR+F6FK4TQEjhehSuR/E/KVyPwvUoIUAAAAAAAAArQBSuR+F6VDdAFK5H4XrUOEAAAAAAAAAsQClcj8L1qChAAAAAAAAABkApXI/C9SgoQNejcD0K1yZArkfhehSuGEDXo3A9ClcuQNejcD0K1yJApHA9CtejAkApXI/C9agjQNejcD0KVyxAUrgehetRHEAUrkfhelQ2QFK4HoXrURlAFK5H4XoUMEAAAAAAAEA5QAAAAAAAAAZAAAAAAACAIUApXI/C9SgmQNejcD0KVyJAUrgehetRGEAUrkfhetQ3QAAAAAAAgCtAUrgehetRHECuR+F6FK4WQK5H4XoUrh1AUrgehetRHUBcj8L1KFwBQClcj8L1qCJAFK5H4XpUOECkcD0K16MGQBSuR+F6lDNAXI/C9ShcAUDXo3A9ClchQBSuR+F6lDVAFK5H4XrUN0AAAAAAAIAtQClcj8L1KCBAKVyPwvWoK0ApXI/C9SggQBSuR+F61DhArkfhehSuGkAAAAAAAAAeQAAAAAAAABZAKVyPwvUoIECuR+F6FK4TQClcj8L1qCpA16NwPQrXLUAAAAAAAIAvQNejcD0K1y1AAAAAAAAABkCkcD0K16MEQNejcD0KVyhAAAAAAAAALEAAAAAAAAAhQKRwPQrXowRAAAAAAABANUApXI/C9aghQNejcD0KVydAFK5H4XpUNUAAAAAAAAACQBSuR+F61DBAAAAAAADAMkDsUbgehSs0QFK4HoXrURpAAAAAAAAAFUBcj8L1KFwBQNejcD0K1yhAFK5H4XqUNUCkcD0K16MCQAAAAAAAACBAAAAAAAAAI0AAAAAAAIA0QNejcD0K1yRAKVyPwvUoLECuR+F6FK4eQAAAAAAAACBA16NwPQpXI0AAAAAAAEAyQAAAAAAAABxAAAAAAACAOEApXI/C9SgkQFyPwvUoXANAAAAAAAAAKUBI4XoUrkfxPylcj8L1qCVAUrgehetRE0BSuB6F61EfQAAAAAAAACRArkfhehSuFUC4HoXrUbjyPwAAAAAAABtAAAAAAACAIUAAAAAAAAAWQAAAAAAAgC5AAAAAAAAALkDXo3A9CtcmQNejcD0KVyhAAAAAAAAAHUAAAAAAAAApQNejcD0KVypAXI/C9ShcB0DXo3A9CtcgQAAAAAAAADlA7FG4HoVrOkDsUbgehas0QAAAAAAAACVAAAAAAACAMUDXo3A9CtcgQAAAAAAAgCRAFK5H4XpUMkApXI/C9aghQNejcD0KVyRA16NwPQrXIEAAAAAAAAAmQAAAAAAAABhAKVyPwvUoJUAUrkfhetQ4QNejcD0KVy9AKVyPwvUoLUAAAAAAAIAyQNejcD0KVy1ApHA9CtejBkAUrkfhepQ7QEjhehSuR/E/UrgehetRG0AAAAAAAAAdQAAAAAAAgCRAAAAAAADAMEAAAAAAAAAXQAAAAAAAACBA16NwPQrXLEBcj8L1KFwJQBSuR+F6VDhA7FG4HoVrNUAAAAAAAAAbQAAAAAAAAAhAAAAAAADAOUDsUbgehasyQKRwPQrXowJAKVyPwvUoIkAAAAAAAIAgQAAAAAAAABpArkfhehSuHkAAAAAAAAAqQFK4HoXrURdA7FG4HoVrOUBSuB6F61EdQFK4HoXrURdAAAAAAAAAFEApXI/C9agjQAAAAAAAgCpA16NwPQrXIEBcj8L1KFwBQOxRuB6FKzBAAAAAAAAAJEDsUbgehSszQK5H4XoUrhxAUrgehetRGUCuR+F6FK4cQNejcD0KVyRAAAAAAAAAFUApXI/C9SgrQAAAAAAAgCdAAAAAAAAAGUAAAAAAAAA4QAAAAAAAgCRAAAAAAAAAKUAAAAAAAAAeQClcj8L1qCdAAAAAAADAOEAAAAAAAAAoQAAAAAAAAAJA7FG4HoWrNkAUrkfhetQ6QAAAAAAAgC5AcT0K16Nw7T8AAAAAAIAoQOxRuB6FKzJArkfhehSuGkDsUbgehSs4QFK4HoXrUR1A16NwPQpXIUCuR+F6FK4TQAAAAAAAgCBAXI/C9ShcBUApXI/C9SgoQAAAAAAAAARA16NwPQpXJ0AAAAAAAIAgQNejcD0K1ytAAAAAAAAAKkAAAAAAAAAhQAAAAAAAgDRAAAAAAAAAJEAAAAAAAAAgQFyPwvUoXANAAAAAAADAO0ApXI/C9SggQK5H4XoUrhhAKVyPwvWoJEAAAAAAAAAgQAAAAAAAgCJAKVyPwvUoIEBcj8L1KFwBQKRwPQrXowJAAAAAAACALUDsUbgehasyQFK4HoXrURhAXI/C9ShcA0AAAAAAAIAuQEjhehSuR/k/FK5H4XrUO0DXo3A9CtcmQOxRuB6FqzBA7FG4HoWrMUDXo3A9ClchQOxRuB6F6zlArkfhehSuFkApXI/C9SgsQClcj8L1qCJAAAAAAACAMUDXo3A9ClcgQAAAAAAAADNAKVyPwvWoIUApXI/C9SgkQFK4HoXrUR5AAAAAAACALUBI4XoUrkf9P65H4XoUrhZAAAAAAAAAIEDsUbgehaswQAAAAAAAQDpAUrgehetRHkApXI/C9agkQClcj8L1qCpAAAAAAAAADkAAAAAAAIAtQNejcD0K1yBA16NwPQrXLUAAAAAAAEBAQClcj8L1KCxAKVyPwvUoJEDXo3A9CtcvQKRwPQrXowhAKVyPwvWoKkBI4XoUrkf9PwAAAAAAAAZAFK5H4XrUNkAAAAAAAIA6QAAAAAAAADpA7FG4HoUrNEAUrkfhehQwQK5H4XoUrhxAFK5H4XoUOUBcj8L1KFwBQAAAAAAAACpAUrgehetRHkAAAAAAAIAkQAAAAAAAAB5ApHA9CtejAEAAAAAAAAACQA==",
          "dtype": "f8"
         },
         "xaxis": "x",
         "y": {
          "bdata": "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",
          "dtype": "i2"
         },
         "yaxis": "y"
        },
        {
         "hovertemplate": "class=Business<br>duration=%{x}<br>price=%{y}<extra></extra>",
         "legendgroup": "Business",
         "marker": {
          "color": "#EF553B",
          "symbol": "circle"
         },
         "mode": "markers",
         "name": "Business",
         "showlegend": true,
         "type": "scattergl",
         "x": {
          "bdata": "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",
          "dtype": "f8"
         },
         "xaxis": "x",
         "y": {
          "bdata": "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",
          "dtype": "i4"
         },
         "yaxis": "y"
        }
       ],
       "layout": {
        "legend": {
         "title": {
          "text": "class"
         },
         "tracegroupgap": 0
        },
        "margin": {
         "t": 60
        },
        "template": {
         "data": {
          "bar": [
           {
            "error_x": {
             "color": "#2a3f5f"
            },
            "error_y": {
             "color": "#2a3f5f"
            },
            "marker": {
             "line": {
              "color": "#E5ECF6",
              "width": 0.5
             },
             "pattern": {
              "fillmode": "overlay",
              "size": 10,
              "solidity": 0.2
             }
            },
            "type": "bar"
           }
          ],
          "barpolar": [
           {
            "marker": {
             "line": {
              "color": "#E5ECF6",
              "width": 0.5
             },
             "pattern": {
              "fillmode": "overlay",
              "size": 10,
              "solidity": 0.2
             }
            },
            "type": "barpolar"
           }
          ],
          "carpet": [
           {
            "aaxis": {
             "endlinecolor": "#2a3f5f",
             "gridcolor": "white",
             "linecolor": "white",
             "minorgridcolor": "white",
             "startlinecolor": "#2a3f5f"
            },
            "baxis": {
             "endlinecolor": "#2a3f5f",
             "gridcolor": "white",
             "linecolor": "white",
             "minorgridcolor": "white",
             "startlinecolor": "#2a3f5f"
            },
            "type": "carpet"
           }
          ],
          "choropleth": [
           {
            "colorbar": {
             "outlinewidth": 0,
             "ticks": ""
            },
            "type": "choropleth"
           }
          ],
          "contour": [
           {
            "colorbar": {
             "outlinewidth": 0,
             "ticks": ""
            },
            "colorscale": [
             [
              0,
              "#0d0887"
             ],
             [
              0.1111111111111111,
              "#46039f"
             ],
             [
              0.2222222222222222,
              "#7201a8"
             ],
             [
              0.3333333333333333,
              "#9c179e"
             ],
             [
              0.4444444444444444,
              "#bd3786"
             ],
             [
              0.5555555555555556,
              "#d8576b"
             ],
             [
              0.6666666666666666,
              "#ed7953"
             ],
             [
              0.7777777777777778,
              "#fb9f3a"
             ],
             [
              0.8888888888888888,
              "#fdca26"
             ],
             [
              1,
              "#f0f921"
             ]
            ],
            "type": "contour"
           }
          ],
          "contourcarpet": [
           {
            "colorbar": {
             "outlinewidth": 0,
             "ticks": ""
            },
            "type": "contourcarpet"
           }
          ],
          "heatmap": [
           {
            "colorbar": {
             "outlinewidth": 0,
             "ticks": ""
            },
            "colorscale": [
             [
              0,
              "#0d0887"
             ],
             [
              0.1111111111111111,
              "#46039f"
             ],
             [
              0.2222222222222222,
              "#7201a8"
             ],
             [
              0.3333333333333333,
              "#9c179e"
             ],
             [
              0.4444444444444444,
              "#bd3786"
             ],
             [
              0.5555555555555556,
              "#d8576b"
             ],
             [
              0.6666666666666666,
              "#ed7953"
             ],
             [
              0.7777777777777778,
              "#fb9f3a"
             ],
             [
              0.8888888888888888,
              "#fdca26"
             ],
             [
              1,
              "#f0f921"
             ]
            ],
            "type": "heatmap"
           }
          ],
          "histogram": [
           {
            "marker": {
             "pattern": {
              "fillmode": "overlay",
              "size": 10,
              "solidity": 0.2
             }
            },
            "type": "histogram"
           }
          ],
          "histogram2d": [
           {
            "colorbar": {
             "outlinewidth": 0,
             "ticks": ""
            },
            "colorscale": [
             [
              0,
              "#0d0887"
             ],
             [
              0.1111111111111111,
              "#46039f"
             ],
             [
              0.2222222222222222,
              "#7201a8"
             ],
             [
              0.3333333333333333,
              "#9c179e"
             ],
             [
              0.4444444444444444,
              "#bd3786"
             ],
             [
              0.5555555555555556,
              "#d8576b"
             ],
             [
              0.6666666666666666,
              "#ed7953"
             ],
             [
              0.7777777777777778,
              "#fb9f3a"
             ],
             [
              0.8888888888888888,
              "#fdca26"
             ],
             [
              1,
              "#f0f921"
             ]
            ],
            "type": "histogram2d"
           }
          ],
          "histogram2dcontour": [
           {
            "colorbar": {
             "outlinewidth": 0,
             "ticks": ""
            },
            "colorscale": [
             [
              0,
              "#0d0887"
             ],
             [
              0.1111111111111111,
              "#46039f"
             ],
             [
              0.2222222222222222,
              "#7201a8"
             ],
             [
              0.3333333333333333,
              "#9c179e"
             ],
             [
              0.4444444444444444,
              "#bd3786"
             ],
             [
              0.5555555555555556,
              "#d8576b"
             ],
             [
              0.6666666666666666,
              "#ed7953"
             ],
             [
              0.7777777777777778,
              "#fb9f3a"
             ],
             [
              0.8888888888888888,
              "#fdca26"
             ],
             [
              1,
              "#f0f921"
             ]
            ],
            "type": "histogram2dcontour"
           }
          ],
          "mesh3d": [
           {
            "colorbar": {
             "outlinewidth": 0,
             "ticks": ""
            },
            "type": "mesh3d"
           }
          ],
          "parcoords": [
           {
            "line": {
             "colorbar": {
              "outlinewidth": 0,
              "ticks": ""
             }
            },
            "type": "parcoords"
           }
          ],
          "pie": [
           {
            "automargin": true,
            "type": "pie"
           }
          ],
          "scatter": [
           {
            "fillpattern": {
             "fillmode": "overlay",
             "size": 10,
             "solidity": 0.2
            },
            "type": "scatter"
           }
          ],
          "scatter3d": [
           {
            "line": {
             "colorbar": {
              "outlinewidth": 0,
              "ticks": ""
             }
            },
            "marker": {
             "colorbar": {
              "outlinewidth": 0,
              "ticks": ""
             }
            },
            "type": "scatter3d"
           }
          ],
          "scattercarpet": [
           {
            "marker": {
             "colorbar": {
              "outlinewidth": 0,
              "ticks": ""
             }
            },
            "type": "scattercarpet"
           }
          ],
          "scattergeo": [
           {
            "marker": {
             "colorbar": {
              "outlinewidth": 0,
              "ticks": ""
             }
            },
            "type": "scattergeo"
           }
          ],
          "scattergl": [
           {
            "marker": {
             "colorbar": {
              "outlinewidth": 0,
              "ticks": ""
             }
            },
            "type": "scattergl"
           }
          ],
          "scattermap": [
           {
            "marker": {
             "colorbar": {
              "outlinewidth": 0,
              "ticks": ""
             }
            },
            "type": "scattermap"
           }
          ],
          "scattermapbox": [
           {
            "marker": {
             "colorbar": {
              "outlinewidth": 0,
              "ticks": ""
             }
            },
            "type": "scattermapbox"
           }
          ],
          "scatterpolar": [
           {
            "marker": {
             "colorbar": {
              "outlinewidth": 0,
              "ticks": ""
             }
            },
            "type": "scatterpolar"
           }
          ],
          "scatterpolargl": [
           {
            "marker": {
             "colorbar": {
              "outlinewidth": 0,
              "ticks": ""
             }
            },
            "type": "scatterpolargl"
           }
          ],
          "scatterternary": [
           {
            "marker": {
             "colorbar": {
              "outlinewidth": 0,
              "ticks": ""
             }
            },
            "type": "scatterternary"
           }
          ],
          "surface": [
           {
            "colorbar": {
             "outlinewidth": 0,
             "ticks": ""
            },
            "colorscale": [
             [
              0,
              "#0d0887"
             ],
             [
              0.1111111111111111,
              "#46039f"
             ],
             [
              0.2222222222222222,
              "#7201a8"
             ],
             [
              0.3333333333333333,
              "#9c179e"
             ],
             [
              0.4444444444444444,
              "#bd3786"
             ],
             [
              0.5555555555555556,
              "#d8576b"
             ],
             [
              0.6666666666666666,
              "#ed7953"
             ],
             [
              0.7777777777777778,
              "#fb9f3a"
             ],
             [
              0.8888888888888888,
              "#fdca26"
             ],
             [
              1,
              "#f0f921"
             ]
            ],
            "type": "surface"
           }
          ],
          "table": [
           {
            "cells": {
             "fill": {
              "color": "#EBF0F8"
             },
             "line": {
              "color": "white"
             }
            },
            "header": {
             "fill": {
              "color": "#C8D4E3"
             },
             "line": {
              "color": "white"
             }
            },
            "type": "table"
           }
          ]
         },
         "layout": {
          "annotationdefaults": {
           "arrowcolor": "#2a3f5f",
           "arrowhead": 0,
           "arrowwidth": 1
          },
          "autotypenumbers": "strict",
          "coloraxis": {
           "colorbar": {
            "outlinewidth": 0,
            "ticks": ""
           }
          },
          "colorscale": {
           "diverging": [
            [
             0,
             "#8e0152"
            ],
            [
             0.1,
             "#c51b7d"
            ],
            [
             0.2,
             "#de77ae"
            ],
            [
             0.3,
             "#f1b6da"
            ],
            [
             0.4,
             "#fde0ef"
            ],
            [
             0.5,
             "#f7f7f7"
            ],
            [
             0.6,
             "#e6f5d0"
            ],
            [
             0.7,
             "#b8e186"
            ],
            [
             0.8,
             "#7fbc41"
            ],
            [
             0.9,
             "#4d9221"
            ],
            [
             1,
             "#276419"
            ]
           ],
           "sequential": [
            [
             0,
             "#0d0887"
            ],
            [
             0.1111111111111111,
             "#46039f"
            ],
            [
             0.2222222222222222,
             "#7201a8"
            ],
            [
             0.3333333333333333,
             "#9c179e"
            ],
            [
             0.4444444444444444,
             "#bd3786"
            ],
            [
             0.5555555555555556,
             "#d8576b"
            ],
            [
             0.6666666666666666,
             "#ed7953"
            ],
            [
             0.7777777777777778,
             "#fb9f3a"
            ],
            [
             0.8888888888888888,
             "#fdca26"
            ],
            [
             1,
             "#f0f921"
            ]
           ],
           "sequentialminus": [
            [
             0,
             "#0d0887"
            ],
            [
             0.1111111111111111,
             "#46039f"
            ],
            [
             0.2222222222222222,
             "#7201a8"
            ],
            [
             0.3333333333333333,
             "#9c179e"
            ],
            [
             0.4444444444444444,
             "#bd3786"
            ],
            [
             0.5555555555555556,
             "#d8576b"
            ],
            [
             0.6666666666666666,
             "#ed7953"
            ],
            [
             0.7777777777777778,
             "#fb9f3a"
            ],
            [
             0.8888888888888888,
             "#fdca26"
            ],
            [
             1,
             "#f0f921"
            ]
           ]
          },
          "colorway": [
           "#636efa",
           "#EF553B",
           "#00cc96",
           "#ab63fa",
           "#FFA15A",
           "#19d3f3",
           "#FF6692",
           "#B6E880",
           "#FF97FF",
           "#FECB52"
          ],
          "font": {
           "color": "#2a3f5f"
          },
          "geo": {
           "bgcolor": "white",
           "lakecolor": "white",
           "landcolor": "#E5ECF6",
           "showlakes": true,
           "showland": true,
           "subunitcolor": "white"
          },
          "hoverlabel": {
           "align": "left"
          },
          "hovermode": "closest",
          "mapbox": {
           "style": "light"
          },
          "paper_bgcolor": "white",
          "plot_bgcolor": "#E5ECF6",
          "polar": {
           "angularaxis": {
            "gridcolor": "white",
            "linecolor": "white",
            "ticks": ""
           },
           "bgcolor": "#E5ECF6",
           "radialaxis": {
            "gridcolor": "white",
            "linecolor": "white",
            "ticks": ""
           }
          },
          "scene": {
           "xaxis": {
            "backgroundcolor": "#E5ECF6",
            "gridcolor": "white",
            "gridwidth": 2,
            "linecolor": "white",
            "showbackground": true,
            "ticks": "",
            "zerolinecolor": "white"
           },
           "yaxis": {
            "backgroundcolor": "#E5ECF6",
            "gridcolor": "white",
            "gridwidth": 2,
            "linecolor": "white",
            "showbackground": true,
            "ticks": "",
            "zerolinecolor": "white"
           },
           "zaxis": {
            "backgroundcolor": "#E5ECF6",
            "gridcolor": "white",
            "gridwidth": 2,
            "linecolor": "white",
            "showbackground": true,
            "ticks": "",
            "zerolinecolor": "white"
           }
          },
          "shapedefaults": {
           "line": {
            "color": "#2a3f5f"
           }
          },
          "ternary": {
           "aaxis": {
            "gridcolor": "white",
            "linecolor": "white",
            "ticks": ""
           },
           "baxis": {
            "gridcolor": "white",
            "linecolor": "white",
            "ticks": ""
           },
           "bgcolor": "#E5ECF6",
           "caxis": {
            "gridcolor": "white",
            "linecolor": "white",
            "ticks": ""
           }
          },
          "title": {
           "x": 0.05
          },
          "xaxis": {
           "automargin": true,
           "gridcolor": "white",
           "linecolor": "white",
           "ticks": "",
           "title": {
            "standoff": 15
           },
           "zerolinecolor": "white",
           "zerolinewidth": 2
          },
          "yaxis": {
           "automargin": true,
           "gridcolor": "white",
           "linecolor": "white",
           "ticks": "",
           "title": {
            "standoff": 15
           },
           "zerolinecolor": "white",
           "zerolinewidth": 2
          }
         }
        },
        "xaxis": {
         "anchor": "y",
         "domain": [
          0,
          1
         ],
         "title": {
          "text": "duration"
         }
        },
        "yaxis": {
         "anchor": "x",
         "domain": [
          0,
          1
         ],
         "title": {
          "text": "price"
         }
        }
       }
      }
     },
     "metadata": {},
     "output_type": "display_data"
    }
   ],
   "source": [
    "if SIMPLIFIED_PLOTS:\n",
    "    fig = px.scatter(df_raw_sample, x=\"duration\", y=\"price\", color=\"class\")\n",
    "else:\n",
    "    fig = px.scatter(df_raw, x=\"duration\", y=\"price\", color=\"class\", marginal_y=\"violin\", marginal_x=\"box\", trendline=\"ols\", template=\"simple_white\")\n",
    "fig.show()"
   ]
  },
  {
   "cell_type": "markdown",
   "id": "1fba4117",
   "metadata": {},
   "source": [
    "## Data Cleaning and Preprocessing"
   ]
  },
  {
   "cell_type": "code",
   "execution_count": 9,
   "id": "988b5d72",
   "metadata": {},
   "outputs": [
    {
     "data": {
      "text/html": [
       "<div>\n",
       "<style scoped>\n",
       "    .dataframe tbody tr th:only-of-type {\n",
       "        vertical-align: middle;\n",
       "    }\n",
       "\n",
       "    .dataframe tbody tr th {\n",
       "        vertical-align: top;\n",
       "    }\n",
       "\n",
       "    .dataframe thead th {\n",
       "        text-align: right;\n",
       "    }\n",
       "</style>\n",
       "<table border=\"1\" class=\"dataframe\">\n",
       "  <thead>\n",
       "    <tr style=\"text-align: right;\">\n",
       "      <th></th>\n",
       "      <th>const</th>\n",
       "      <th>duration</th>\n",
       "      <th>days_left</th>\n",
       "      <th>airline_Air_India</th>\n",
       "      <th>airline_GO_FIRST</th>\n",
       "      <th>airline_Indigo</th>\n",
       "      <th>airline_SpiceJet</th>\n",
       "      <th>airline_Vistara</th>\n",
       "      <th>source_city_Chennai</th>\n",
       "      <th>source_city_Delhi</th>\n",
       "      <th>source_city_Hyderabad</th>\n",
       "      <th>source_city_Kolkata</th>\n",
       "      <th>source_city_Mumbai</th>\n",
       "      <th>departure_time_Early_Morning</th>\n",
       "      <th>departure_time_Evening</th>\n",
       "      <th>departure_time_Late_Night</th>\n",
       "      <th>departure_time_Morning</th>\n",
       "      <th>departure_time_Night</th>\n",
       "      <th>stops_two_or_more</th>\n",
       "      <th>stops_zero</th>\n",
       "      <th>arrival_time_Early_Morning</th>\n",
       "      <th>arrival_time_Evening</th>\n",
       "      <th>arrival_time_Late_Night</th>\n",
       "      <th>arrival_time_Morning</th>\n",
       "      <th>arrival_time_Night</th>\n",
       "      <th>destination_city_Chennai</th>\n",
       "      <th>destination_city_Delhi</th>\n",
       "      <th>destination_city_Hyderabad</th>\n",
       "      <th>destination_city_Kolkata</th>\n",
       "      <th>destination_city_Mumbai</th>\n",
       "      <th>class_Economy</th>\n",
       "    </tr>\n",
       "  </thead>\n",
       "  <tbody>\n",
       "    <tr>\n",
       "      <th>148417</th>\n",
       "      <td>1.0</td>\n",
       "      <td>19.42</td>\n",
       "      <td>6.0</td>\n",
       "      <td>1.0</td>\n",
       "      <td>0.0</td>\n",
       "      <td>0.0</td>\n",
       "      <td>0.0</td>\n",
       "      <td>0.0</td>\n",
       "      <td>0.0</td>\n",
       "      <td>0.0</td>\n",
       "      <td>0.0</td>\n",
       "      <td>1.0</td>\n",
       "      <td>0.0</td>\n",
       "      <td>0.0</td>\n",
       "      <td>0.0</td>\n",
       "      <td>0.0</td>\n",
       "      <td>0.0</td>\n",
       "      <td>0.0</td>\n",
       "      <td>0.0</td>\n",
       "      <td>0.0</td>\n",
       "      <td>0.0</td>\n",
       "      <td>0.0</td>\n",
       "      <td>0.0</td>\n",
       "      <td>1.0</td>\n",
       "      <td>0.0</td>\n",
       "      <td>1.0</td>\n",
       "      <td>0.0</td>\n",
       "      <td>0.0</td>\n",
       "      <td>0.0</td>\n",
       "      <td>0.0</td>\n",
       "      <td>1.0</td>\n",
       "    </tr>\n",
       "    <tr>\n",
       "      <th>36879</th>\n",
       "      <td>1.0</td>\n",
       "      <td>7.00</td>\n",
       "      <td>13.0</td>\n",
       "      <td>0.0</td>\n",
       "      <td>0.0</td>\n",
       "      <td>1.0</td>\n",
       "      <td>0.0</td>\n",
       "      <td>0.0</td>\n",
       "      <td>0.0</td>\n",
       "      <td>1.0</td>\n",
       "      <td>0.0</td>\n",
       "      <td>0.0</td>\n",
       "      <td>0.0</td>\n",
       "      <td>0.0</td>\n",
       "      <td>0.0</td>\n",
       "      <td>0.0</td>\n",
       "      <td>0.0</td>\n",
       "      <td>0.0</td>\n",
       "      <td>1.0</td>\n",
       "      <td>0.0</td>\n",
       "      <td>0.0</td>\n",
       "      <td>0.0</td>\n",
       "      <td>0.0</td>\n",
       "      <td>0.0</td>\n",
       "      <td>1.0</td>\n",
       "      <td>1.0</td>\n",
       "      <td>0.0</td>\n",
       "      <td>0.0</td>\n",
       "      <td>0.0</td>\n",
       "      <td>0.0</td>\n",
       "      <td>1.0</td>\n",
       "    </tr>\n",
       "    <tr>\n",
       "      <th>274531</th>\n",
       "      <td>1.0</td>\n",
       "      <td>21.17</td>\n",
       "      <td>44.0</td>\n",
       "      <td>1.0</td>\n",
       "      <td>0.0</td>\n",
       "      <td>0.0</td>\n",
       "      <td>0.0</td>\n",
       "      <td>0.0</td>\n",
       "      <td>0.0</td>\n",
       "      <td>0.0</td>\n",
       "      <td>0.0</td>\n",
       "      <td>1.0</td>\n",
       "      <td>0.0</td>\n",
       "      <td>0.0</td>\n",
       "      <td>0.0</td>\n",
       "      <td>0.0</td>\n",
       "      <td>0.0</td>\n",
       "      <td>0.0</td>\n",
       "      <td>0.0</td>\n",
       "      <td>0.0</td>\n",
       "      <td>0.0</td>\n",
       "      <td>0.0</td>\n",
       "      <td>0.0</td>\n",
       "      <td>0.0</td>\n",
       "      <td>0.0</td>\n",
       "      <td>1.0</td>\n",
       "      <td>0.0</td>\n",
       "      <td>0.0</td>\n",
       "      <td>0.0</td>\n",
       "      <td>0.0</td>\n",
       "      <td>0.0</td>\n",
       "    </tr>\n",
       "    <tr>\n",
       "      <th>166397</th>\n",
       "      <td>1.0</td>\n",
       "      <td>10.25</td>\n",
       "      <td>11.0</td>\n",
       "      <td>0.0</td>\n",
       "      <td>0.0</td>\n",
       "      <td>0.0</td>\n",
       "      <td>0.0</td>\n",
       "      <td>1.0</td>\n",
       "      <td>0.0</td>\n",
       "      <td>0.0</td>\n",
       "      <td>1.0</td>\n",
       "      <td>0.0</td>\n",
       "      <td>0.0</td>\n",
       "      <td>0.0</td>\n",
       "      <td>0.0</td>\n",
       "      <td>0.0</td>\n",
       "      <td>0.0</td>\n",
       "      <td>1.0</td>\n",
       "      <td>0.0</td>\n",
       "      <td>0.0</td>\n",
       "      <td>1.0</td>\n",
       "      <td>0.0</td>\n",
       "      <td>0.0</td>\n",
       "      <td>0.0</td>\n",
       "      <td>0.0</td>\n",
       "      <td>0.0</td>\n",
       "      <td>0.0</td>\n",
       "      <td>0.0</td>\n",
       "      <td>0.0</td>\n",
       "      <td>0.0</td>\n",
       "      <td>1.0</td>\n",
       "    </tr>\n",
       "    <tr>\n",
       "      <th>272722</th>\n",
       "      <td>1.0</td>\n",
       "      <td>26.50</td>\n",
       "      <td>5.0</td>\n",
       "      <td>0.0</td>\n",
       "      <td>0.0</td>\n",
       "      <td>0.0</td>\n",
       "      <td>0.0</td>\n",
       "      <td>1.0</td>\n",
       "      <td>0.0</td>\n",
       "      <td>0.0</td>\n",
       "      <td>0.0</td>\n",
       "      <td>1.0</td>\n",
       "      <td>0.0</td>\n",
       "      <td>0.0</td>\n",
       "      <td>0.0</td>\n",
       "      <td>0.0</td>\n",
       "      <td>0.0</td>\n",
       "      <td>1.0</td>\n",
       "      <td>0.0</td>\n",
       "      <td>0.0</td>\n",
       "      <td>0.0</td>\n",
       "      <td>0.0</td>\n",
       "      <td>0.0</td>\n",
       "      <td>0.0</td>\n",
       "      <td>1.0</td>\n",
       "      <td>1.0</td>\n",
       "      <td>0.0</td>\n",
       "      <td>0.0</td>\n",
       "      <td>0.0</td>\n",
       "      <td>0.0</td>\n",
       "      <td>0.0</td>\n",
       "    </tr>\n",
       "    <tr>\n",
       "      <th>...</th>\n",
       "      <td>...</td>\n",
       "      <td>...</td>\n",
       "      <td>...</td>\n",
       "      <td>...</td>\n",
       "      <td>...</td>\n",
       "      <td>...</td>\n",
       "      <td>...</td>\n",
       "      <td>...</td>\n",
       "      <td>...</td>\n",
       "      <td>...</td>\n",
       "      <td>...</td>\n",
       "      <td>...</td>\n",
       "      <td>...</td>\n",
       "      <td>...</td>\n",
       "      <td>...</td>\n",
       "      <td>...</td>\n",
       "      <td>...</td>\n",
       "      <td>...</td>\n",
       "      <td>...</td>\n",
       "      <td>...</td>\n",
       "      <td>...</td>\n",
       "      <td>...</td>\n",
       "      <td>...</td>\n",
       "      <td>...</td>\n",
       "      <td>...</td>\n",
       "      <td>...</td>\n",
       "      <td>...</td>\n",
       "      <td>...</td>\n",
       "      <td>...</td>\n",
       "      <td>...</td>\n",
       "      <td>...</td>\n",
       "    </tr>\n",
       "    <tr>\n",
       "      <th>119879</th>\n",
       "      <td>1.0</td>\n",
       "      <td>20.50</td>\n",
       "      <td>2.0</td>\n",
       "      <td>0.0</td>\n",
       "      <td>0.0</td>\n",
       "      <td>0.0</td>\n",
       "      <td>0.0</td>\n",
       "      <td>1.0</td>\n",
       "      <td>0.0</td>\n",
       "      <td>0.0</td>\n",
       "      <td>0.0</td>\n",
       "      <td>1.0</td>\n",
       "      <td>0.0</td>\n",
       "      <td>0.0</td>\n",
       "      <td>1.0</td>\n",
       "      <td>0.0</td>\n",
       "      <td>0.0</td>\n",
       "      <td>0.0</td>\n",
       "      <td>0.0</td>\n",
       "      <td>0.0</td>\n",
       "      <td>0.0</td>\n",
       "      <td>0.0</td>\n",
       "      <td>0.0</td>\n",
       "      <td>0.0</td>\n",
       "      <td>0.0</td>\n",
       "      <td>0.0</td>\n",
       "      <td>1.0</td>\n",
       "      <td>0.0</td>\n",
       "      <td>0.0</td>\n",
       "      <td>0.0</td>\n",
       "      <td>1.0</td>\n",
       "    </tr>\n",
       "    <tr>\n",
       "      <th>259178</th>\n",
       "      <td>1.0</td>\n",
       "      <td>25.42</td>\n",
       "      <td>7.0</td>\n",
       "      <td>0.0</td>\n",
       "      <td>0.0</td>\n",
       "      <td>0.0</td>\n",
       "      <td>0.0</td>\n",
       "      <td>1.0</td>\n",
       "      <td>0.0</td>\n",
       "      <td>0.0</td>\n",
       "      <td>0.0</td>\n",
       "      <td>0.0</td>\n",
       "      <td>0.0</td>\n",
       "      <td>0.0</td>\n",
       "      <td>0.0</td>\n",
       "      <td>0.0</td>\n",
       "      <td>0.0</td>\n",
       "      <td>1.0</td>\n",
       "      <td>0.0</td>\n",
       "      <td>0.0</td>\n",
       "      <td>0.0</td>\n",
       "      <td>0.0</td>\n",
       "      <td>0.0</td>\n",
       "      <td>0.0</td>\n",
       "      <td>1.0</td>\n",
       "      <td>1.0</td>\n",
       "      <td>0.0</td>\n",
       "      <td>0.0</td>\n",
       "      <td>0.0</td>\n",
       "      <td>0.0</td>\n",
       "      <td>0.0</td>\n",
       "    </tr>\n",
       "    <tr>\n",
       "      <th>131932</th>\n",
       "      <td>1.0</td>\n",
       "      <td>13.67</td>\n",
       "      <td>29.0</td>\n",
       "      <td>1.0</td>\n",
       "      <td>0.0</td>\n",
       "      <td>0.0</td>\n",
       "      <td>0.0</td>\n",
       "      <td>0.0</td>\n",
       "      <td>0.0</td>\n",
       "      <td>0.0</td>\n",
       "      <td>0.0</td>\n",
       "      <td>1.0</td>\n",
       "      <td>0.0</td>\n",
       "      <td>0.0</td>\n",
       "      <td>0.0</td>\n",
       "      <td>0.0</td>\n",
       "      <td>0.0</td>\n",
       "      <td>1.0</td>\n",
       "      <td>0.0</td>\n",
       "      <td>0.0</td>\n",
       "      <td>0.0</td>\n",
       "      <td>0.0</td>\n",
       "      <td>0.0</td>\n",
       "      <td>1.0</td>\n",
       "      <td>0.0</td>\n",
       "      <td>0.0</td>\n",
       "      <td>0.0</td>\n",
       "      <td>0.0</td>\n",
       "      <td>0.0</td>\n",
       "      <td>1.0</td>\n",
       "      <td>1.0</td>\n",
       "    </tr>\n",
       "    <tr>\n",
       "      <th>146867</th>\n",
       "      <td>1.0</td>\n",
       "      <td>8.33</td>\n",
       "      <td>39.0</td>\n",
       "      <td>0.0</td>\n",
       "      <td>1.0</td>\n",
       "      <td>0.0</td>\n",
       "      <td>0.0</td>\n",
       "      <td>0.0</td>\n",
       "      <td>0.0</td>\n",
       "      <td>0.0</td>\n",
       "      <td>0.0</td>\n",
       "      <td>1.0</td>\n",
       "      <td>0.0</td>\n",
       "      <td>0.0</td>\n",
       "      <td>0.0</td>\n",
       "      <td>0.0</td>\n",
       "      <td>0.0</td>\n",
       "      <td>0.0</td>\n",
       "      <td>0.0</td>\n",
       "      <td>0.0</td>\n",
       "      <td>0.0</td>\n",
       "      <td>0.0</td>\n",
       "      <td>0.0</td>\n",
       "      <td>0.0</td>\n",
       "      <td>1.0</td>\n",
       "      <td>0.0</td>\n",
       "      <td>0.0</td>\n",
       "      <td>1.0</td>\n",
       "      <td>0.0</td>\n",
       "      <td>0.0</td>\n",
       "      <td>1.0</td>\n",
       "    </tr>\n",
       "    <tr>\n",
       "      <th>121958</th>\n",
       "      <td>1.0</td>\n",
       "      <td>20.17</td>\n",
       "      <td>17.0</td>\n",
       "      <td>1.0</td>\n",
       "      <td>0.0</td>\n",
       "      <td>0.0</td>\n",
       "      <td>0.0</td>\n",
       "      <td>0.0</td>\n",
       "      <td>0.0</td>\n",
       "      <td>0.0</td>\n",
       "      <td>0.0</td>\n",
       "      <td>1.0</td>\n",
       "      <td>0.0</td>\n",
       "      <td>0.0</td>\n",
       "      <td>0.0</td>\n",
       "      <td>0.0</td>\n",
       "      <td>0.0</td>\n",
       "      <td>0.0</td>\n",
       "      <td>0.0</td>\n",
       "      <td>0.0</td>\n",
       "      <td>0.0</td>\n",
       "      <td>0.0</td>\n",
       "      <td>0.0</td>\n",
       "      <td>1.0</td>\n",
       "      <td>0.0</td>\n",
       "      <td>0.0</td>\n",
       "      <td>1.0</td>\n",
       "      <td>0.0</td>\n",
       "      <td>0.0</td>\n",
       "      <td>0.0</td>\n",
       "      <td>1.0</td>\n",
       "    </tr>\n",
       "  </tbody>\n",
       "</table>\n",
       "<p>240122 rows × 31 columns</p>\n",
       "</div>"
      ],
      "text/plain": [
       "        const  duration  days_left  airline_Air_India  airline_GO_FIRST  \\\n",
       "148417    1.0     19.42        6.0                1.0               0.0   \n",
       "36879     1.0      7.00       13.0                0.0               0.0   \n",
       "274531    1.0     21.17       44.0                1.0               0.0   \n",
       "166397    1.0     10.25       11.0                0.0               0.0   \n",
       "272722    1.0     26.50        5.0                0.0               0.0   \n",
       "...       ...       ...        ...                ...               ...   \n",
       "119879    1.0     20.50        2.0                0.0               0.0   \n",
       "259178    1.0     25.42        7.0                0.0               0.0   \n",
       "131932    1.0     13.67       29.0                1.0               0.0   \n",
       "146867    1.0      8.33       39.0                0.0               1.0   \n",
       "121958    1.0     20.17       17.0                1.0               0.0   \n",
       "\n",
       "        airline_Indigo  airline_SpiceJet  airline_Vistara  \\\n",
       "148417             0.0               0.0              0.0   \n",
       "36879              1.0               0.0              0.0   \n",
       "274531             0.0               0.0              0.0   \n",
       "166397             0.0               0.0              1.0   \n",
       "272722             0.0               0.0              1.0   \n",
       "...                ...               ...              ...   \n",
       "119879             0.0               0.0              1.0   \n",
       "259178             0.0               0.0              1.0   \n",
       "131932             0.0               0.0              0.0   \n",
       "146867             0.0               0.0              0.0   \n",
       "121958             0.0               0.0              0.0   \n",
       "\n",
       "        source_city_Chennai  source_city_Delhi  source_city_Hyderabad  \\\n",
       "148417                  0.0                0.0                    0.0   \n",
       "36879                   0.0                1.0                    0.0   \n",
       "274531                  0.0                0.0                    0.0   \n",
       "166397                  0.0                0.0                    1.0   \n",
       "272722                  0.0                0.0                    0.0   \n",
       "...                     ...                ...                    ...   \n",
       "119879                  0.0                0.0                    0.0   \n",
       "259178                  0.0                0.0                    0.0   \n",
       "131932                  0.0                0.0                    0.0   \n",
       "146867                  0.0                0.0                    0.0   \n",
       "121958                  0.0                0.0                    0.0   \n",
       "\n",
       "        source_city_Kolkata  source_city_Mumbai  departure_time_Early_Morning  \\\n",
       "148417                  1.0                 0.0                           0.0   \n",
       "36879                   0.0                 0.0                           0.0   \n",
       "274531                  1.0                 0.0                           0.0   \n",
       "166397                  0.0                 0.0                           0.0   \n",
       "272722                  1.0                 0.0                           0.0   \n",
       "...                     ...                 ...                           ...   \n",
       "119879                  1.0                 0.0                           0.0   \n",
       "259178                  0.0                 0.0                           0.0   \n",
       "131932                  1.0                 0.0                           0.0   \n",
       "146867                  1.0                 0.0                           0.0   \n",
       "121958                  1.0                 0.0                           0.0   \n",
       "\n",
       "        departure_time_Evening  departure_time_Late_Night  \\\n",
       "148417                     0.0                        0.0   \n",
       "36879                      0.0                        0.0   \n",
       "274531                     0.0                        0.0   \n",
       "166397                     0.0                        0.0   \n",
       "272722                     0.0                        0.0   \n",
       "...                        ...                        ...   \n",
       "119879                     1.0                        0.0   \n",
       "259178                     0.0                        0.0   \n",
       "131932                     0.0                        0.0   \n",
       "146867                     0.0                        0.0   \n",
       "121958                     0.0                        0.0   \n",
       "\n",
       "        departure_time_Morning  departure_time_Night  stops_two_or_more  \\\n",
       "148417                     0.0                   0.0                0.0   \n",
       "36879                      0.0                   0.0                1.0   \n",
       "274531                     0.0                   0.0                0.0   \n",
       "166397                     0.0                   1.0                0.0   \n",
       "272722                     0.0                   1.0                0.0   \n",
       "...                        ...                   ...                ...   \n",
       "119879                     0.0                   0.0                0.0   \n",
       "259178                     0.0                   1.0                0.0   \n",
       "131932                     0.0                   1.0                0.0   \n",
       "146867                     0.0                   0.0                0.0   \n",
       "121958                     0.0                   0.0                0.0   \n",
       "\n",
       "        stops_zero  arrival_time_Early_Morning  arrival_time_Evening  \\\n",
       "148417         0.0                         0.0                   0.0   \n",
       "36879          0.0                         0.0                   0.0   \n",
       "274531         0.0                         0.0                   0.0   \n",
       "166397         0.0                         1.0                   0.0   \n",
       "272722         0.0                         0.0                   0.0   \n",
       "...            ...                         ...                   ...   \n",
       "119879         0.0                         0.0                   0.0   \n",
       "259178         0.0                         0.0                   0.0   \n",
       "131932         0.0                         0.0                   0.0   \n",
       "146867         0.0                         0.0                   0.0   \n",
       "121958         0.0                         0.0                   0.0   \n",
       "\n",
       "        arrival_time_Late_Night  arrival_time_Morning  arrival_time_Night  \\\n",
       "148417                      0.0                   1.0                 0.0   \n",
       "36879                       0.0                   0.0                 1.0   \n",
       "274531                      0.0                   0.0                 0.0   \n",
       "166397                      0.0                   0.0                 0.0   \n",
       "272722                      0.0                   0.0                 1.0   \n",
       "...                         ...                   ...                 ...   \n",
       "119879                      0.0                   0.0                 0.0   \n",
       "259178                      0.0                   0.0                 1.0   \n",
       "131932                      0.0                   1.0                 0.0   \n",
       "146867                      0.0                   0.0                 1.0   \n",
       "121958                      0.0                   1.0                 0.0   \n",
       "\n",
       "        destination_city_Chennai  destination_city_Delhi  \\\n",
       "148417                       1.0                     0.0   \n",
       "36879                        1.0                     0.0   \n",
       "274531                       1.0                     0.0   \n",
       "166397                       0.0                     0.0   \n",
       "272722                       1.0                     0.0   \n",
       "...                          ...                     ...   \n",
       "119879                       0.0                     1.0   \n",
       "259178                       1.0                     0.0   \n",
       "131932                       0.0                     0.0   \n",
       "146867                       0.0                     0.0   \n",
       "121958                       0.0                     1.0   \n",
       "\n",
       "        destination_city_Hyderabad  destination_city_Kolkata  \\\n",
       "148417                         0.0                       0.0   \n",
       "36879                          0.0                       0.0   \n",
       "274531                         0.0                       0.0   \n",
       "166397                         0.0                       0.0   \n",
       "272722                         0.0                       0.0   \n",
       "...                            ...                       ...   \n",
       "119879                         0.0                       0.0   \n",
       "259178                         0.0                       0.0   \n",
       "131932                         0.0                       0.0   \n",
       "146867                         1.0                       0.0   \n",
       "121958                         0.0                       0.0   \n",
       "\n",
       "        destination_city_Mumbai  class_Economy  \n",
       "148417                      0.0            1.0  \n",
       "36879                       0.0            1.0  \n",
       "274531                      0.0            0.0  \n",
       "166397                      0.0            1.0  \n",
       "272722                      0.0            0.0  \n",
       "...                         ...            ...  \n",
       "119879                      0.0            1.0  \n",
       "259178                      0.0            0.0  \n",
       "131932                      1.0            1.0  \n",
       "146867                      0.0            1.0  \n",
       "121958                      0.0            1.0  \n",
       "\n",
       "[240122 rows x 31 columns]"
      ]
     },
     "execution_count": 9,
     "metadata": {},
     "output_type": "execute_result"
    }
   ],
   "source": [
    "df = df_raw.copy()\n",
    "\n",
    "df.drop(columns=[\"flight\"], inplace=True)\n",
    "\n",
    "y = df['price']\n",
    "X = df.drop(columns=['price'])\n",
    "\n",
    "X_encoded = pd.get_dummies(X, drop_first=True)\n",
    "\n",
    "# Step 5: Add intercept\n",
    "X_encoded = sm.add_constant(X_encoded)\n",
    "\n",
    "# Make sure all data is numeric\n",
    "X_encoded = X_encoded.astype(float)\n",
    "y = y.astype(float)\n",
    "\n",
    "X_train, X_test, y_train, y_test = train_test_split(X_encoded, y, test_size=0.2, random_state=42)\n",
    "X_train"
   ]
  },
  {
   "cell_type": "markdown",
   "id": "27d8cf50",
   "metadata": {},
   "source": [
    "## Lasso, Statsmodels Implementation"
   ]
  },
  {
   "cell_type": "code",
   "execution_count": 10,
   "id": "bed73371",
   "metadata": {},
   "outputs": [],
   "source": [
    "def evaluate_predictions(y_true, y_pred):\n",
    "    # Metrics\n",
    "    r2 = r2_score(y_true, y_pred)\n",
    "    mse = mean_squared_error(y_true, y_pred)\n",
    "    rmse = root_mean_squared_error(y_true, y_pred)\n",
    "    mae = mean_absolute_error(y_true, y_pred)\n",
    "\n",
    "    print(f\"R²: {r2:.3f}\")\n",
    "    print(f\"MSE: {mse:.2f}\")\n",
    "    print(f\"RMSE: {rmse:.2f}\")\n",
    "    print(f\"MAE: {mae:.2f}\")"
   ]
  },
  {
   "cell_type": "code",
   "execution_count": 11,
   "id": "c1f537cf",
   "metadata": {},
   "outputs": [
    {
     "name": "stdout",
     "output_type": "stream",
     "text": [
      "Metrics Training:\n",
      "R²: 0.911\n",
      "MSE: 45875614.68\n",
      "RMSE: 6773.15\n",
      "MAE: 4594.10\n",
      "const                           50748.899859\n",
      "duration                          383.768122\n",
      "days_left                       -1782.591587\n",
      "airline_Air_India                -824.842775\n",
      "airline_GO_FIRST                  714.727042\n",
      "airline_Indigo                   1119.173356\n",
      "airline_Vistara                  3178.035956\n",
      "source_city_Delhi               -1346.229667\n",
      "source_city_Hyderabad           -1639.671488\n",
      "source_city_Kolkata              1706.785602\n",
      "source_city_Mumbai               -139.334276\n",
      "departure_time_Early_Morning      813.157037\n",
      "departure_time_Evening            749.233764\n",
      "departure_time_Late_Night        1306.871893\n",
      "departure_time_Morning            868.766059\n",
      "departure_time_Night              597.865637\n",
      "stops_zero                      -7510.561076\n",
      "arrival_time_Early_Morning      -1083.155142\n",
      "arrival_time_Evening              623.024987\n",
      "arrival_time_Night                863.311780\n",
      "destination_city_Chennai          -60.561891\n",
      "destination_city_Delhi          -1507.124571\n",
      "destination_city_Hyderabad      -1675.968602\n",
      "destination_city_Kolkata         1493.950610\n",
      "class_Economy                  -44722.005244\n",
      "dtype: float64\n"
     ]
    }
   ],
   "source": [
    "# Step 4: Scale numeric features\n",
    "X_preprocessed = X_train.copy()\n",
    "NUMERICAL_COLS = ['duration', 'days_left']\n",
    "scaler = StandardScaler()\n",
    "X_preprocessed[NUMERICAL_COLS] = scaler.fit_transform(X_preprocessed[NUMERICAL_COLS])\n",
    "\n",
    "# Step 6: Fit Lasso using statsmodels (fit_regularized)\n",
    "model = sm.OLS(y_train, X_preprocessed)\n",
    "lasso_result = model.fit_regularized(method='elastic_net', alpha=1.0, L1_wt=1.0)\n",
    "\n",
    "# Predictions\n",
    "y_pred = lasso_result.predict(X_preprocessed)\n",
    "print(\"Metrics Training:\")\n",
    "evaluate_predictions(y_train, y_pred)\n",
    "\n",
    "# Step 7: Display coefficients\n",
    "coef_series = pd.Series(lasso_result.params, index=X_preprocessed.columns)\n",
    "print(coef_series[coef_series != 0])  # Only non-zero coefficients (Lasso selects features)"
   ]
  },
  {
   "cell_type": "markdown",
   "id": "f58b69cc",
   "metadata": {},
   "source": [
    "## Lasso, ScikitLearn Implementation\n",
    "\n",
    "- Same training R2 as Statsmodels but slightly different coefficients and MSE for some reason. Scaling difference?\n",
    "- Statsmodels doesn't give information table, so we might as well use Scikitlearn\n",
    "- It's also x10 times faster"
   ]
  },
  {
   "cell_type": "code",
   "execution_count": 12,
   "id": "51125620",
   "metadata": {},
   "outputs": [
    {
     "name": "stdout",
     "output_type": "stream",
     "text": [
      "Metrics Training:\n",
      "R²: 0.911\n",
      "MSE: 45592781.12\n",
      "RMSE: 6752.24\n",
      "MAE: 4573.16\n",
      "\n",
      "Selected Coefficients (non-zero):\n",
      "airline_Vistara                  3959.834212\n",
      "airline_SpiceJet                 2158.949125\n",
      "stops_two_or_more                2066.661971\n",
      "airline_Indigo                   2010.066314\n",
      "source_city_Kolkata              1608.552126\n",
      "airline_GO_FIRST                 1573.172630\n",
      "destination_city_Kolkata         1373.882813\n",
      "departure_time_Late_Night        1263.199082\n",
      "arrival_time_Night               1104.975288\n",
      "arrival_time_Late_Night           902.898385\n",
      "arrival_time_Evening              896.655558\n",
      "departure_time_Morning            830.271081\n",
      "departure_time_Early_Morning      768.749940\n",
      "departure_time_Evening            698.846028\n",
      "departure_time_Night              615.236295\n",
      "arrival_time_Morning              434.768659\n",
      "const                             314.710400\n",
      "destination_city_Mumbai            -2.828915\n",
      "source_city_Chennai               -45.050361\n",
      "source_city_Mumbai               -178.591231\n",
      "destination_city_Chennai         -207.672156\n",
      "arrival_time_Early_Morning       -766.893182\n",
      "source_city_Delhi               -1389.830175\n",
      "destination_city_Delhi          -1534.868167\n",
      "source_city_Hyderabad           -1647.005015\n",
      "destination_city_Hyderabad      -1683.962152\n",
      "duration                        -1769.489330\n",
      "stops_zero                      -7594.554556\n",
      "class_Economy                  -44927.039846\n",
      "dtype: float64\n"
     ]
    }
   ],
   "source": [
    "# 4. Build pipeline: scale numericals and fit Lasso\n",
    "# Preprocessing: scale numericals, pass-through the rest\n",
    "preprocessor = ColumnTransformer(\n",
    "    transformers=[\n",
    "        ('num', StandardScaler(), NUMERICAL_COLS)\n",
    "    ],\n",
    "    remainder='passthrough'  # leave one-hot encoded dummies unchanged\n",
    ")\n",
    "\n",
    "lasso_pipeline = Pipeline([\n",
    "    ('preprocessor', preprocessor),\n",
    "    ('model', Lasso(alpha=1.0))\n",
    "])\n",
    "\n",
    "lasso_pipeline.fit(X_train, y_train)\n",
    "\n",
    "# 5. Predictions and metrics\n",
    "y_pred = lasso_pipeline.predict(X_train)\n",
    "print(\"Metrics Training:\")\n",
    "evaluate_predictions(y_train, y_pred )\n",
    "\n",
    "# 6. Extract coefficients\n",
    "lasso = lasso_pipeline.named_steps['model']\n",
    "coef = pd.Series(lasso.coef_, index=X_encoded.columns)\n",
    "print(\"\\nSelected Coefficients (non-zero):\")\n",
    "print(coef[coef != 0].sort_values(ascending=False))"
   ]
  },
  {
   "cell_type": "markdown",
   "id": "0e2405ac",
   "metadata": {},
   "source": [
    "## CrossValidation"
   ]
  },
  {
   "cell_type": "code",
   "execution_count": 13,
   "id": "3f9ee301",
   "metadata": {},
   "outputs": [
    {
     "name": "stderr",
     "output_type": "stream",
     "text": [
      "c:\\Users\\AsusTUF\\anaconda3\\envs\\tru_linear_models_assignments\\Lib\\site-packages\\sklearn\\compose\\_column_transformer.py:1667: FutureWarning:\n",
      "\n",
      "\n",
      "The format of the columns of the 'remainder' transformer in ColumnTransformer.transformers_ will change in version 1.7 to match the format of the other transformers.\n",
      "At the moment the remainder columns are stored as indices (of type int). With the same ColumnTransformer configuration, in the future they will be stored as column names (of type str).\n",
      "To use the new behavior now and suppress this warning, use ColumnTransformer(force_int_remainder_cols=False).\n",
      "\n",
      "\n"
     ]
    },
    {
     "data": {
      "text/html": [
       "<style>#sk-container-id-1 {\n",
       "  /* Definition of color scheme common for light and dark mode */\n",
       "  --sklearn-color-text: #000;\n",
       "  --sklearn-color-text-muted: #666;\n",
       "  --sklearn-color-line: gray;\n",
       "  /* Definition of color scheme for unfitted estimators */\n",
       "  --sklearn-color-unfitted-level-0: #fff5e6;\n",
       "  --sklearn-color-unfitted-level-1: #f6e4d2;\n",
       "  --sklearn-color-unfitted-level-2: #ffe0b3;\n",
       "  --sklearn-color-unfitted-level-3: chocolate;\n",
       "  /* Definition of color scheme for fitted estimators */\n",
       "  --sklearn-color-fitted-level-0: #f0f8ff;\n",
       "  --sklearn-color-fitted-level-1: #d4ebff;\n",
       "  --sklearn-color-fitted-level-2: #b3dbfd;\n",
       "  --sklearn-color-fitted-level-3: cornflowerblue;\n",
       "\n",
       "  /* Specific color for light theme */\n",
       "  --sklearn-color-text-on-default-background: var(--sg-text-color, var(--theme-code-foreground, var(--jp-content-font-color1, black)));\n",
       "  --sklearn-color-background: var(--sg-background-color, var(--theme-background, var(--jp-layout-color0, white)));\n",
       "  --sklearn-color-border-box: var(--sg-text-color, var(--theme-code-foreground, var(--jp-content-font-color1, black)));\n",
       "  --sklearn-color-icon: #696969;\n",
       "\n",
       "  @media (prefers-color-scheme: dark) {\n",
       "    /* Redefinition of color scheme for dark theme */\n",
       "    --sklearn-color-text-on-default-background: var(--sg-text-color, var(--theme-code-foreground, var(--jp-content-font-color1, white)));\n",
       "    --sklearn-color-background: var(--sg-background-color, var(--theme-background, var(--jp-layout-color0, #111)));\n",
       "    --sklearn-color-border-box: var(--sg-text-color, var(--theme-code-foreground, var(--jp-content-font-color1, white)));\n",
       "    --sklearn-color-icon: #878787;\n",
       "  }\n",
       "}\n",
       "\n",
       "#sk-container-id-1 {\n",
       "  color: var(--sklearn-color-text);\n",
       "}\n",
       "\n",
       "#sk-container-id-1 pre {\n",
       "  padding: 0;\n",
       "}\n",
       "\n",
       "#sk-container-id-1 input.sk-hidden--visually {\n",
       "  border: 0;\n",
       "  clip: rect(1px 1px 1px 1px);\n",
       "  clip: rect(1px, 1px, 1px, 1px);\n",
       "  height: 1px;\n",
       "  margin: -1px;\n",
       "  overflow: hidden;\n",
       "  padding: 0;\n",
       "  position: absolute;\n",
       "  width: 1px;\n",
       "}\n",
       "\n",
       "#sk-container-id-1 div.sk-dashed-wrapped {\n",
       "  border: 1px dashed var(--sklearn-color-line);\n",
       "  margin: 0 0.4em 0.5em 0.4em;\n",
       "  box-sizing: border-box;\n",
       "  padding-bottom: 0.4em;\n",
       "  background-color: var(--sklearn-color-background);\n",
       "}\n",
       "\n",
       "#sk-container-id-1 div.sk-container {\n",
       "  /* jupyter's `normalize.less` sets `[hidden] { display: none; }`\n",
       "     but bootstrap.min.css set `[hidden] { display: none !important; }`\n",
       "     so we also need the `!important` here to be able to override the\n",
       "     default hidden behavior on the sphinx rendered scikit-learn.org.\n",
       "     See: https://github.com/scikit-learn/scikit-learn/issues/21755 */\n",
       "  display: inline-block !important;\n",
       "  position: relative;\n",
       "}\n",
       "\n",
       "#sk-container-id-1 div.sk-text-repr-fallback {\n",
       "  display: none;\n",
       "}\n",
       "\n",
       "div.sk-parallel-item,\n",
       "div.sk-serial,\n",
       "div.sk-item {\n",
       "  /* draw centered vertical line to link estimators */\n",
       "  background-image: linear-gradient(var(--sklearn-color-text-on-default-background), var(--sklearn-color-text-on-default-background));\n",
       "  background-size: 2px 100%;\n",
       "  background-repeat: no-repeat;\n",
       "  background-position: center center;\n",
       "}\n",
       "\n",
       "/* Parallel-specific style estimator block */\n",
       "\n",
       "#sk-container-id-1 div.sk-parallel-item::after {\n",
       "  content: \"\";\n",
       "  width: 100%;\n",
       "  border-bottom: 2px solid var(--sklearn-color-text-on-default-background);\n",
       "  flex-grow: 1;\n",
       "}\n",
       "\n",
       "#sk-container-id-1 div.sk-parallel {\n",
       "  display: flex;\n",
       "  align-items: stretch;\n",
       "  justify-content: center;\n",
       "  background-color: var(--sklearn-color-background);\n",
       "  position: relative;\n",
       "}\n",
       "\n",
       "#sk-container-id-1 div.sk-parallel-item {\n",
       "  display: flex;\n",
       "  flex-direction: column;\n",
       "}\n",
       "\n",
       "#sk-container-id-1 div.sk-parallel-item:first-child::after {\n",
       "  align-self: flex-end;\n",
       "  width: 50%;\n",
       "}\n",
       "\n",
       "#sk-container-id-1 div.sk-parallel-item:last-child::after {\n",
       "  align-self: flex-start;\n",
       "  width: 50%;\n",
       "}\n",
       "\n",
       "#sk-container-id-1 div.sk-parallel-item:only-child::after {\n",
       "  width: 0;\n",
       "}\n",
       "\n",
       "/* Serial-specific style estimator block */\n",
       "\n",
       "#sk-container-id-1 div.sk-serial {\n",
       "  display: flex;\n",
       "  flex-direction: column;\n",
       "  align-items: center;\n",
       "  background-color: var(--sklearn-color-background);\n",
       "  padding-right: 1em;\n",
       "  padding-left: 1em;\n",
       "}\n",
       "\n",
       "\n",
       "/* Toggleable style: style used for estimator/Pipeline/ColumnTransformer box that is\n",
       "clickable and can be expanded/collapsed.\n",
       "- Pipeline and ColumnTransformer use this feature and define the default style\n",
       "- Estimators will overwrite some part of the style using the `sk-estimator` class\n",
       "*/\n",
       "\n",
       "/* Pipeline and ColumnTransformer style (default) */\n",
       "\n",
       "#sk-container-id-1 div.sk-toggleable {\n",
       "  /* Default theme specific background. It is overwritten whether we have a\n",
       "  specific estimator or a Pipeline/ColumnTransformer */\n",
       "  background-color: var(--sklearn-color-background);\n",
       "}\n",
       "\n",
       "/* Toggleable label */\n",
       "#sk-container-id-1 label.sk-toggleable__label {\n",
       "  cursor: pointer;\n",
       "  display: flex;\n",
       "  width: 100%;\n",
       "  margin-bottom: 0;\n",
       "  padding: 0.5em;\n",
       "  box-sizing: border-box;\n",
       "  text-align: center;\n",
       "  align-items: start;\n",
       "  justify-content: space-between;\n",
       "  gap: 0.5em;\n",
       "}\n",
       "\n",
       "#sk-container-id-1 label.sk-toggleable__label .caption {\n",
       "  font-size: 0.6rem;\n",
       "  font-weight: lighter;\n",
       "  color: var(--sklearn-color-text-muted);\n",
       "}\n",
       "\n",
       "#sk-container-id-1 label.sk-toggleable__label-arrow:before {\n",
       "  /* Arrow on the left of the label */\n",
       "  content: \"▸\";\n",
       "  float: left;\n",
       "  margin-right: 0.25em;\n",
       "  color: var(--sklearn-color-icon);\n",
       "}\n",
       "\n",
       "#sk-container-id-1 label.sk-toggleable__label-arrow:hover:before {\n",
       "  color: var(--sklearn-color-text);\n",
       "}\n",
       "\n",
       "/* Toggleable content - dropdown */\n",
       "\n",
       "#sk-container-id-1 div.sk-toggleable__content {\n",
       "  max-height: 0;\n",
       "  max-width: 0;\n",
       "  overflow: hidden;\n",
       "  text-align: left;\n",
       "  /* unfitted */\n",
       "  background-color: var(--sklearn-color-unfitted-level-0);\n",
       "}\n",
       "\n",
       "#sk-container-id-1 div.sk-toggleable__content.fitted {\n",
       "  /* fitted */\n",
       "  background-color: var(--sklearn-color-fitted-level-0);\n",
       "}\n",
       "\n",
       "#sk-container-id-1 div.sk-toggleable__content pre {\n",
       "  margin: 0.2em;\n",
       "  border-radius: 0.25em;\n",
       "  color: var(--sklearn-color-text);\n",
       "  /* unfitted */\n",
       "  background-color: var(--sklearn-color-unfitted-level-0);\n",
       "}\n",
       "\n",
       "#sk-container-id-1 div.sk-toggleable__content.fitted pre {\n",
       "  /* unfitted */\n",
       "  background-color: var(--sklearn-color-fitted-level-0);\n",
       "}\n",
       "\n",
       "#sk-container-id-1 input.sk-toggleable__control:checked~div.sk-toggleable__content {\n",
       "  /* Expand drop-down */\n",
       "  max-height: 200px;\n",
       "  max-width: 100%;\n",
       "  overflow: auto;\n",
       "}\n",
       "\n",
       "#sk-container-id-1 input.sk-toggleable__control:checked~label.sk-toggleable__label-arrow:before {\n",
       "  content: \"▾\";\n",
       "}\n",
       "\n",
       "/* Pipeline/ColumnTransformer-specific style */\n",
       "\n",
       "#sk-container-id-1 div.sk-label input.sk-toggleable__control:checked~label.sk-toggleable__label {\n",
       "  color: var(--sklearn-color-text);\n",
       "  background-color: var(--sklearn-color-unfitted-level-2);\n",
       "}\n",
       "\n",
       "#sk-container-id-1 div.sk-label.fitted input.sk-toggleable__control:checked~label.sk-toggleable__label {\n",
       "  background-color: var(--sklearn-color-fitted-level-2);\n",
       "}\n",
       "\n",
       "/* Estimator-specific style */\n",
       "\n",
       "/* Colorize estimator box */\n",
       "#sk-container-id-1 div.sk-estimator input.sk-toggleable__control:checked~label.sk-toggleable__label {\n",
       "  /* unfitted */\n",
       "  background-color: var(--sklearn-color-unfitted-level-2);\n",
       "}\n",
       "\n",
       "#sk-container-id-1 div.sk-estimator.fitted input.sk-toggleable__control:checked~label.sk-toggleable__label {\n",
       "  /* fitted */\n",
       "  background-color: var(--sklearn-color-fitted-level-2);\n",
       "}\n",
       "\n",
       "#sk-container-id-1 div.sk-label label.sk-toggleable__label,\n",
       "#sk-container-id-1 div.sk-label label {\n",
       "  /* The background is the default theme color */\n",
       "  color: var(--sklearn-color-text-on-default-background);\n",
       "}\n",
       "\n",
       "/* On hover, darken the color of the background */\n",
       "#sk-container-id-1 div.sk-label:hover label.sk-toggleable__label {\n",
       "  color: var(--sklearn-color-text);\n",
       "  background-color: var(--sklearn-color-unfitted-level-2);\n",
       "}\n",
       "\n",
       "/* Label box, darken color on hover, fitted */\n",
       "#sk-container-id-1 div.sk-label.fitted:hover label.sk-toggleable__label.fitted {\n",
       "  color: var(--sklearn-color-text);\n",
       "  background-color: var(--sklearn-color-fitted-level-2);\n",
       "}\n",
       "\n",
       "/* Estimator label */\n",
       "\n",
       "#sk-container-id-1 div.sk-label label {\n",
       "  font-family: monospace;\n",
       "  font-weight: bold;\n",
       "  display: inline-block;\n",
       "  line-height: 1.2em;\n",
       "}\n",
       "\n",
       "#sk-container-id-1 div.sk-label-container {\n",
       "  text-align: center;\n",
       "}\n",
       "\n",
       "/* Estimator-specific */\n",
       "#sk-container-id-1 div.sk-estimator {\n",
       "  font-family: monospace;\n",
       "  border: 1px dotted var(--sklearn-color-border-box);\n",
       "  border-radius: 0.25em;\n",
       "  box-sizing: border-box;\n",
       "  margin-bottom: 0.5em;\n",
       "  /* unfitted */\n",
       "  background-color: var(--sklearn-color-unfitted-level-0);\n",
       "}\n",
       "\n",
       "#sk-container-id-1 div.sk-estimator.fitted {\n",
       "  /* fitted */\n",
       "  background-color: var(--sklearn-color-fitted-level-0);\n",
       "}\n",
       "\n",
       "/* on hover */\n",
       "#sk-container-id-1 div.sk-estimator:hover {\n",
       "  /* unfitted */\n",
       "  background-color: var(--sklearn-color-unfitted-level-2);\n",
       "}\n",
       "\n",
       "#sk-container-id-1 div.sk-estimator.fitted:hover {\n",
       "  /* fitted */\n",
       "  background-color: var(--sklearn-color-fitted-level-2);\n",
       "}\n",
       "\n",
       "/* Specification for estimator info (e.g. \"i\" and \"?\") */\n",
       "\n",
       "/* Common style for \"i\" and \"?\" */\n",
       "\n",
       ".sk-estimator-doc-link,\n",
       "a:link.sk-estimator-doc-link,\n",
       "a:visited.sk-estimator-doc-link {\n",
       "  float: right;\n",
       "  font-size: smaller;\n",
       "  line-height: 1em;\n",
       "  font-family: monospace;\n",
       "  background-color: var(--sklearn-color-background);\n",
       "  border-radius: 1em;\n",
       "  height: 1em;\n",
       "  width: 1em;\n",
       "  text-decoration: none !important;\n",
       "  margin-left: 0.5em;\n",
       "  text-align: center;\n",
       "  /* unfitted */\n",
       "  border: var(--sklearn-color-unfitted-level-1) 1pt solid;\n",
       "  color: var(--sklearn-color-unfitted-level-1);\n",
       "}\n",
       "\n",
       ".sk-estimator-doc-link.fitted,\n",
       "a:link.sk-estimator-doc-link.fitted,\n",
       "a:visited.sk-estimator-doc-link.fitted {\n",
       "  /* fitted */\n",
       "  border: var(--sklearn-color-fitted-level-1) 1pt solid;\n",
       "  color: var(--sklearn-color-fitted-level-1);\n",
       "}\n",
       "\n",
       "/* On hover */\n",
       "div.sk-estimator:hover .sk-estimator-doc-link:hover,\n",
       ".sk-estimator-doc-link:hover,\n",
       "div.sk-label-container:hover .sk-estimator-doc-link:hover,\n",
       ".sk-estimator-doc-link:hover {\n",
       "  /* unfitted */\n",
       "  background-color: var(--sklearn-color-unfitted-level-3);\n",
       "  color: var(--sklearn-color-background);\n",
       "  text-decoration: none;\n",
       "}\n",
       "\n",
       "div.sk-estimator.fitted:hover .sk-estimator-doc-link.fitted:hover,\n",
       ".sk-estimator-doc-link.fitted:hover,\n",
       "div.sk-label-container:hover .sk-estimator-doc-link.fitted:hover,\n",
       ".sk-estimator-doc-link.fitted:hover {\n",
       "  /* fitted */\n",
       "  background-color: var(--sklearn-color-fitted-level-3);\n",
       "  color: var(--sklearn-color-background);\n",
       "  text-decoration: none;\n",
       "}\n",
       "\n",
       "/* Span, style for the box shown on hovering the info icon */\n",
       ".sk-estimator-doc-link span {\n",
       "  display: none;\n",
       "  z-index: 9999;\n",
       "  position: relative;\n",
       "  font-weight: normal;\n",
       "  right: .2ex;\n",
       "  padding: .5ex;\n",
       "  margin: .5ex;\n",
       "  width: min-content;\n",
       "  min-width: 20ex;\n",
       "  max-width: 50ex;\n",
       "  color: var(--sklearn-color-text);\n",
       "  box-shadow: 2pt 2pt 4pt #999;\n",
       "  /* unfitted */\n",
       "  background: var(--sklearn-color-unfitted-level-0);\n",
       "  border: .5pt solid var(--sklearn-color-unfitted-level-3);\n",
       "}\n",
       "\n",
       ".sk-estimator-doc-link.fitted span {\n",
       "  /* fitted */\n",
       "  background: var(--sklearn-color-fitted-level-0);\n",
       "  border: var(--sklearn-color-fitted-level-3);\n",
       "}\n",
       "\n",
       ".sk-estimator-doc-link:hover span {\n",
       "  display: block;\n",
       "}\n",
       "\n",
       "/* \"?\"-specific style due to the `<a>` HTML tag */\n",
       "\n",
       "#sk-container-id-1 a.estimator_doc_link {\n",
       "  float: right;\n",
       "  font-size: 1rem;\n",
       "  line-height: 1em;\n",
       "  font-family: monospace;\n",
       "  background-color: var(--sklearn-color-background);\n",
       "  border-radius: 1rem;\n",
       "  height: 1rem;\n",
       "  width: 1rem;\n",
       "  text-decoration: none;\n",
       "  /* unfitted */\n",
       "  color: var(--sklearn-color-unfitted-level-1);\n",
       "  border: var(--sklearn-color-unfitted-level-1) 1pt solid;\n",
       "}\n",
       "\n",
       "#sk-container-id-1 a.estimator_doc_link.fitted {\n",
       "  /* fitted */\n",
       "  border: var(--sklearn-color-fitted-level-1) 1pt solid;\n",
       "  color: var(--sklearn-color-fitted-level-1);\n",
       "}\n",
       "\n",
       "/* On hover */\n",
       "#sk-container-id-1 a.estimator_doc_link:hover {\n",
       "  /* unfitted */\n",
       "  background-color: var(--sklearn-color-unfitted-level-3);\n",
       "  color: var(--sklearn-color-background);\n",
       "  text-decoration: none;\n",
       "}\n",
       "\n",
       "#sk-container-id-1 a.estimator_doc_link.fitted:hover {\n",
       "  /* fitted */\n",
       "  background-color: var(--sklearn-color-fitted-level-3);\n",
       "}\n",
       "</style><div id=\"sk-container-id-1\" class=\"sk-top-container\"><div class=\"sk-text-repr-fallback\"><pre>Pipeline(steps=[(&#x27;preprocessor&#x27;,\n",
       "                 ColumnTransformer(remainder=&#x27;passthrough&#x27;,\n",
       "                                   transformers=[(&#x27;num&#x27;, StandardScaler(),\n",
       "                                                  [&#x27;duration&#x27;, &#x27;days_left&#x27;])])),\n",
       "                (&#x27;lasso_cv&#x27;,\n",
       "                 LassoCV(alphas=[0.0001, 0.0003, 0.001, 0.003, 0.01, 0.03, 0.1,\n",
       "                                 0.3, 1.0, 3.0, 10.0, 30, 100, 300, 1000],\n",
       "                         cv=10, max_iter=10000))])</pre><b>In a Jupyter environment, please rerun this cell to show the HTML representation or trust the notebook. <br />On GitHub, the HTML representation is unable to render, please try loading this page with nbviewer.org.</b></div><div class=\"sk-container\" hidden><div class=\"sk-item sk-dashed-wrapped\"><div class=\"sk-label-container\"><div class=\"sk-label fitted sk-toggleable\"><input class=\"sk-toggleable__control sk-hidden--visually\" id=\"sk-estimator-id-1\" type=\"checkbox\" ><label for=\"sk-estimator-id-1\" class=\"sk-toggleable__label fitted sk-toggleable__label-arrow\"><div><div>Pipeline</div></div><div><a class=\"sk-estimator-doc-link fitted\" rel=\"noreferrer\" target=\"_blank\" href=\"https://scikit-learn.org/1.6/modules/generated/sklearn.pipeline.Pipeline.html\">?<span>Documentation for Pipeline</span></a><span class=\"sk-estimator-doc-link fitted\">i<span>Fitted</span></span></div></label><div class=\"sk-toggleable__content fitted\"><pre>Pipeline(steps=[(&#x27;preprocessor&#x27;,\n",
       "                 ColumnTransformer(remainder=&#x27;passthrough&#x27;,\n",
       "                                   transformers=[(&#x27;num&#x27;, StandardScaler(),\n",
       "                                                  [&#x27;duration&#x27;, &#x27;days_left&#x27;])])),\n",
       "                (&#x27;lasso_cv&#x27;,\n",
       "                 LassoCV(alphas=[0.0001, 0.0003, 0.001, 0.003, 0.01, 0.03, 0.1,\n",
       "                                 0.3, 1.0, 3.0, 10.0, 30, 100, 300, 1000],\n",
       "                         cv=10, max_iter=10000))])</pre></div> </div></div><div class=\"sk-serial\"><div class=\"sk-item sk-dashed-wrapped\"><div class=\"sk-label-container\"><div class=\"sk-label fitted sk-toggleable\"><input class=\"sk-toggleable__control sk-hidden--visually\" id=\"sk-estimator-id-2\" type=\"checkbox\" ><label for=\"sk-estimator-id-2\" class=\"sk-toggleable__label fitted sk-toggleable__label-arrow\"><div><div>preprocessor: ColumnTransformer</div></div><div><a class=\"sk-estimator-doc-link fitted\" rel=\"noreferrer\" target=\"_blank\" href=\"https://scikit-learn.org/1.6/modules/generated/sklearn.compose.ColumnTransformer.html\">?<span>Documentation for preprocessor: ColumnTransformer</span></a></div></label><div class=\"sk-toggleable__content fitted\"><pre>ColumnTransformer(remainder=&#x27;passthrough&#x27;,\n",
       "                  transformers=[(&#x27;num&#x27;, StandardScaler(),\n",
       "                                 [&#x27;duration&#x27;, &#x27;days_left&#x27;])])</pre></div> </div></div><div class=\"sk-parallel\"><div class=\"sk-parallel-item\"><div class=\"sk-item\"><div class=\"sk-label-container\"><div class=\"sk-label fitted sk-toggleable\"><input class=\"sk-toggleable__control sk-hidden--visually\" id=\"sk-estimator-id-3\" type=\"checkbox\" ><label for=\"sk-estimator-id-3\" class=\"sk-toggleable__label fitted sk-toggleable__label-arrow\"><div><div>num</div></div></label><div class=\"sk-toggleable__content fitted\"><pre>[&#x27;duration&#x27;, &#x27;days_left&#x27;]</pre></div> </div></div><div class=\"sk-serial\"><div class=\"sk-item\"><div class=\"sk-estimator fitted sk-toggleable\"><input class=\"sk-toggleable__control sk-hidden--visually\" id=\"sk-estimator-id-4\" type=\"checkbox\" ><label for=\"sk-estimator-id-4\" class=\"sk-toggleable__label fitted sk-toggleable__label-arrow\"><div><div>StandardScaler</div></div><div><a class=\"sk-estimator-doc-link fitted\" rel=\"noreferrer\" target=\"_blank\" href=\"https://scikit-learn.org/1.6/modules/generated/sklearn.preprocessing.StandardScaler.html\">?<span>Documentation for StandardScaler</span></a></div></label><div class=\"sk-toggleable__content fitted\"><pre>StandardScaler()</pre></div> </div></div></div></div></div><div class=\"sk-parallel-item\"><div class=\"sk-item\"><div class=\"sk-label-container\"><div class=\"sk-label fitted sk-toggleable\"><input class=\"sk-toggleable__control sk-hidden--visually\" id=\"sk-estimator-id-5\" type=\"checkbox\" ><label for=\"sk-estimator-id-5\" class=\"sk-toggleable__label fitted sk-toggleable__label-arrow\"><div><div>remainder</div></div></label><div class=\"sk-toggleable__content fitted\"><pre>[&#x27;const&#x27;, &#x27;airline_Air_India&#x27;, &#x27;airline_GO_FIRST&#x27;, &#x27;airline_Indigo&#x27;, &#x27;airline_SpiceJet&#x27;, &#x27;airline_Vistara&#x27;, &#x27;source_city_Chennai&#x27;, &#x27;source_city_Delhi&#x27;, &#x27;source_city_Hyderabad&#x27;, &#x27;source_city_Kolkata&#x27;, &#x27;source_city_Mumbai&#x27;, &#x27;departure_time_Early_Morning&#x27;, &#x27;departure_time_Evening&#x27;, &#x27;departure_time_Late_Night&#x27;, &#x27;departure_time_Morning&#x27;, &#x27;departure_time_Night&#x27;, &#x27;stops_two_or_more&#x27;, &#x27;stops_zero&#x27;, &#x27;arrival_time_Early_Morning&#x27;, &#x27;arrival_time_Evening&#x27;, &#x27;arrival_time_Late_Night&#x27;, &#x27;arrival_time_Morning&#x27;, &#x27;arrival_time_Night&#x27;, &#x27;destination_city_Chennai&#x27;, &#x27;destination_city_Delhi&#x27;, &#x27;destination_city_Hyderabad&#x27;, &#x27;destination_city_Kolkata&#x27;, &#x27;destination_city_Mumbai&#x27;, &#x27;class_Economy&#x27;]</pre></div> </div></div><div class=\"sk-serial\"><div class=\"sk-item\"><div class=\"sk-estimator fitted sk-toggleable\"><input class=\"sk-toggleable__control sk-hidden--visually\" id=\"sk-estimator-id-6\" type=\"checkbox\" ><label for=\"sk-estimator-id-6\" class=\"sk-toggleable__label fitted sk-toggleable__label-arrow\"><div><div>passthrough</div></div></label><div class=\"sk-toggleable__content fitted\"><pre>passthrough</pre></div> </div></div></div></div></div></div></div><div class=\"sk-item\"><div class=\"sk-estimator fitted sk-toggleable\"><input class=\"sk-toggleable__control sk-hidden--visually\" id=\"sk-estimator-id-7\" type=\"checkbox\" ><label for=\"sk-estimator-id-7\" class=\"sk-toggleable__label fitted sk-toggleable__label-arrow\"><div><div>LassoCV</div></div><div><a class=\"sk-estimator-doc-link fitted\" rel=\"noreferrer\" target=\"_blank\" href=\"https://scikit-learn.org/1.6/modules/generated/sklearn.linear_model.LassoCV.html\">?<span>Documentation for LassoCV</span></a></div></label><div class=\"sk-toggleable__content fitted\"><pre>LassoCV(alphas=[0.0001, 0.0003, 0.001, 0.003, 0.01, 0.03, 0.1, 0.3, 1.0, 3.0,\n",
       "                10.0, 30, 100, 300, 1000],\n",
       "        cv=10, max_iter=10000)</pre></div> </div></div></div></div></div></div>"
      ],
      "text/plain": [
       "Pipeline(steps=[('preprocessor',\n",
       "                 ColumnTransformer(remainder='passthrough',\n",
       "                                   transformers=[('num', StandardScaler(),\n",
       "                                                  ['duration', 'days_left'])])),\n",
       "                ('lasso_cv',\n",
       "                 LassoCV(alphas=[0.0001, 0.0003, 0.001, 0.003, 0.01, 0.03, 0.1,\n",
       "                                 0.3, 1.0, 3.0, 10.0, 30, 100, 300, 1000],\n",
       "                         cv=10, max_iter=10000))])"
      ]
     },
     "execution_count": 13,
     "metadata": {},
     "output_type": "execute_result"
    }
   ],
   "source": [
    "# 3. Define alpha (lambda) values to search\n",
    "alphas = [0.0001, 0.0003, 0.001, 0.003, 0.01, 0.03, 0.1, 0.3, 1.0, 3.0, 10.0, 30 ,100, 300, 1000]\n",
    "\n",
    "# 4. Create pipeline with LassoCV\n",
    "lassocv_pipeline = Pipeline([\n",
    "    ('preprocessor', preprocessor),\n",
    "    ('lasso_cv', LassoCV(alphas=alphas, cv=10, max_iter=10000))\n",
    "])\n",
    "\n",
    "# 6. Fit pipeline\n",
    "lassocv_pipeline.fit(X_train, y_train)"
   ]
  },
  {
   "cell_type": "code",
   "execution_count": 14,
   "id": "baa22feb",
   "metadata": {},
   "outputs": [
    {
     "name": "stdout",
     "output_type": "stream",
     "text": [
      "Best lambda (alpha) from CV: 0.001\n",
      "Metrics Train:\n",
      "R²: 0.911\n",
      "MSE: 45591331.05\n",
      "RMSE: 6752.14\n",
      "MAE: 4573.98\n",
      "\n",
      "Metrics Test:\n",
      "R²: 0.911\n",
      "MSE: 45720771.19\n",
      "RMSE: 6761.71\n",
      "MAE: 4553.29\n",
      "\n",
      "Selected Coefficients (non-zero):\n",
      "airline_Vistara                  4068.801384\n",
      "airline_SpiceJet                 2303.840003\n",
      "airline_Indigo                   2124.210815\n",
      "stops_two_or_more                2105.203233\n",
      "airline_GO_FIRST                 1691.971492\n",
      "source_city_Kolkata              1596.259485\n",
      "departure_time_Late_Night        1540.393245\n",
      "destination_city_Kolkata         1358.147600\n",
      "arrival_time_Night               1135.462611\n",
      "arrival_time_Late_Night           967.050164\n",
      "arrival_time_Evening              923.673455\n",
      "departure_time_Morning            866.493760\n",
      "departure_time_Early_Morning      810.124476\n",
      "departure_time_Evening            737.252343\n",
      "departure_time_Night              662.966661\n",
      "arrival_time_Morning              461.376093\n",
      "const                             308.826666\n",
      "airline_Air_India                 114.063758\n",
      "destination_city_Mumbai           -33.310443\n",
      "source_city_Chennai               -75.309627\n",
      "source_city_Mumbai               -208.110462\n",
      "destination_city_Chennai         -239.480129\n",
      "arrival_time_Early_Morning       -768.130590\n",
      "source_city_Delhi               -1412.867107\n",
      "destination_city_Delhi          -1563.202499\n",
      "source_city_Hyderabad           -1675.405911\n",
      "destination_city_Hyderabad      -1712.043004\n",
      "duration                        -1769.908240\n",
      "stops_zero                      -7613.315572\n",
      "class_Economy                  -44929.059741\n",
      "dtype: float64\n"
     ]
    }
   ],
   "source": [
    "# 7. Best lambda\n",
    "best_alpha = lassocv_pipeline.named_steps['lasso_cv'].alpha_\n",
    "print(f\"Best lambda (alpha) from CV: {best_alpha}\")\n",
    "\n",
    "print(\"Metrics Train:\")\n",
    "y_pred = lassocv_pipeline.predict(X_train)\n",
    "evaluate_predictions(y_train, y_pred)\n",
    "\n",
    "print(\"\\nMetrics Test:\")\n",
    "y_pred = lassocv_pipeline.predict(X_test)\n",
    "evaluate_predictions(y_test, y_pred)\n",
    "\n",
    "# 6. Extract coefficients\n",
    "lasso = lassocv_pipeline.named_steps['lasso_cv']\n",
    "coef = pd.Series(lasso.coef_, index=X_encoded.columns)\n",
    "print(\"\\nSelected Coefficients (non-zero):\")\n",
    "print(coef[coef != 0].sort_values(ascending=False))"
   ]
  },
  {
   "cell_type": "code",
   "execution_count": 15,
   "id": "4c81f15b",
   "metadata": {},
   "outputs": [
    {
     "data": {
      "application/vnd.plotly.v1+json": {
       "config": {
        "plotlyServerURL": "https://plot.ly"
       },
       "data": [
        {
         "error_y": {
          "array": {
           "bdata": "AeV12CLqJkFD7GdyrogjQU4SNEiF7CJBjUkX39zLIkHs9+KnruoiQQzVaQdxMiNBgBi4dhFJI0He7SzjUlMjQb7Cm/4vViNBZCag8C9XI0Fx+kYceVcjQaQ/k7iSVyNBgYsZCppXI0H9PcWZnFcjQbZoIFWdVyNB",
           "dtype": "f8"
          },
          "type": "data",
          "visible": true
         },
         "line": {
          "color": "royalblue"
         },
         "marker": {
          "size": 8
         },
         "mode": "lines+markers",
         "name": "Mean CV MSE",
         "type": "scatter",
         "x": {
          "bdata": "AAAAAABAj0AAAAAAAMByQAAAAAAAAFlAAAAAAAAAPkAAAAAAAAAkQAAAAAAAAAhAAAAAAAAA8D8zMzMzMzPTP5qZmZmZmbk/uB6F61G4nj97FK5H4XqEP/p+arx0k2g//Knx0k1iUD9hMlUwKqkzPy1DHOviNho/",
          "dtype": "f8"
         },
         "y": {
          "bdata": "Y2nUBG4yjUHAVkMx88aHQeARBFk3X4ZBtZmtn5DohUEhBdXYHMiFQU+kWoPSv4VBOeV0a96+hUG6Ix9VwL6FQda/Bb68voVBHok1Vry+hUF9b6pNvL6FQara5Ey8voVB5HbiTLy+hUHsTudMvL6FQX076Uy8voVB",
          "dtype": "f8"
         }
        },
        {
         "line": {
          "color": "red",
          "dash": "dash"
         },
         "mode": "lines",
         "name": "Best alpha = 0.0010",
         "type": "scatter",
         "x": [
          0.001,
          0.001
         ],
         "y": [
          43322562.73004941,
          64292055.03390247
         ]
        }
       ],
       "layout": {
        "height": 500,
        "legend": {
         "x": 0.01,
         "y": 0.99
        },
        "template": {
         "data": {
          "bar": [
           {
            "error_x": {
             "color": "#2a3f5f"
            },
            "error_y": {
             "color": "#2a3f5f"
            },
            "marker": {
             "line": {
              "color": "white",
              "width": 0.5
             },
             "pattern": {
              "fillmode": "overlay",
              "size": 10,
              "solidity": 0.2
             }
            },
            "type": "bar"
           }
          ],
          "barpolar": [
           {
            "marker": {
             "line": {
              "color": "white",
              "width": 0.5
             },
             "pattern": {
              "fillmode": "overlay",
              "size": 10,
              "solidity": 0.2
             }
            },
            "type": "barpolar"
           }
          ],
          "carpet": [
           {
            "aaxis": {
             "endlinecolor": "#2a3f5f",
             "gridcolor": "#C8D4E3",
             "linecolor": "#C8D4E3",
             "minorgridcolor": "#C8D4E3",
             "startlinecolor": "#2a3f5f"
            },
            "baxis": {
             "endlinecolor": "#2a3f5f",
             "gridcolor": "#C8D4E3",
             "linecolor": "#C8D4E3",
             "minorgridcolor": "#C8D4E3",
             "startlinecolor": "#2a3f5f"
            },
            "type": "carpet"
           }
          ],
          "choropleth": [
           {
            "colorbar": {
             "outlinewidth": 0,
             "ticks": ""
            },
            "type": "choropleth"
           }
          ],
          "contour": [
           {
            "colorbar": {
             "outlinewidth": 0,
             "ticks": ""
            },
            "colorscale": [
             [
              0,
              "#0d0887"
             ],
             [
              0.1111111111111111,
              "#46039f"
             ],
             [
              0.2222222222222222,
              "#7201a8"
             ],
             [
              0.3333333333333333,
              "#9c179e"
             ],
             [
              0.4444444444444444,
              "#bd3786"
             ],
             [
              0.5555555555555556,
              "#d8576b"
             ],
             [
              0.6666666666666666,
              "#ed7953"
             ],
             [
              0.7777777777777778,
              "#fb9f3a"
             ],
             [
              0.8888888888888888,
              "#fdca26"
             ],
             [
              1,
              "#f0f921"
             ]
            ],
            "type": "contour"
           }
          ],
          "contourcarpet": [
           {
            "colorbar": {
             "outlinewidth": 0,
             "ticks": ""
            },
            "type": "contourcarpet"
           }
          ],
          "heatmap": [
           {
            "colorbar": {
             "outlinewidth": 0,
             "ticks": ""
            },
            "colorscale": [
             [
              0,
              "#0d0887"
             ],
             [
              0.1111111111111111,
              "#46039f"
             ],
             [
              0.2222222222222222,
              "#7201a8"
             ],
             [
              0.3333333333333333,
              "#9c179e"
             ],
             [
              0.4444444444444444,
              "#bd3786"
             ],
             [
              0.5555555555555556,
              "#d8576b"
             ],
             [
              0.6666666666666666,
              "#ed7953"
             ],
             [
              0.7777777777777778,
              "#fb9f3a"
             ],
             [
              0.8888888888888888,
              "#fdca26"
             ],
             [
              1,
              "#f0f921"
             ]
            ],
            "type": "heatmap"
           }
          ],
          "histogram": [
           {
            "marker": {
             "pattern": {
              "fillmode": "overlay",
              "size": 10,
              "solidity": 0.2
             }
            },
            "type": "histogram"
           }
          ],
          "histogram2d": [
           {
            "colorbar": {
             "outlinewidth": 0,
             "ticks": ""
            },
            "colorscale": [
             [
              0,
              "#0d0887"
             ],
             [
              0.1111111111111111,
              "#46039f"
             ],
             [
              0.2222222222222222,
              "#7201a8"
             ],
             [
              0.3333333333333333,
              "#9c179e"
             ],
             [
              0.4444444444444444,
              "#bd3786"
             ],
             [
              0.5555555555555556,
              "#d8576b"
             ],
             [
              0.6666666666666666,
              "#ed7953"
             ],
             [
              0.7777777777777778,
              "#fb9f3a"
             ],
             [
              0.8888888888888888,
              "#fdca26"
             ],
             [
              1,
              "#f0f921"
             ]
            ],
            "type": "histogram2d"
           }
          ],
          "histogram2dcontour": [
           {
            "colorbar": {
             "outlinewidth": 0,
             "ticks": ""
            },
            "colorscale": [
             [
              0,
              "#0d0887"
             ],
             [
              0.1111111111111111,
              "#46039f"
             ],
             [
              0.2222222222222222,
              "#7201a8"
             ],
             [
              0.3333333333333333,
              "#9c179e"
             ],
             [
              0.4444444444444444,
              "#bd3786"
             ],
             [
              0.5555555555555556,
              "#d8576b"
             ],
             [
              0.6666666666666666,
              "#ed7953"
             ],
             [
              0.7777777777777778,
              "#fb9f3a"
             ],
             [
              0.8888888888888888,
              "#fdca26"
             ],
             [
              1,
              "#f0f921"
             ]
            ],
            "type": "histogram2dcontour"
           }
          ],
          "mesh3d": [
           {
            "colorbar": {
             "outlinewidth": 0,
             "ticks": ""
            },
            "type": "mesh3d"
           }
          ],
          "parcoords": [
           {
            "line": {
             "colorbar": {
              "outlinewidth": 0,
              "ticks": ""
             }
            },
            "type": "parcoords"
           }
          ],
          "pie": [
           {
            "automargin": true,
            "type": "pie"
           }
          ],
          "scatter": [
           {
            "fillpattern": {
             "fillmode": "overlay",
             "size": 10,
             "solidity": 0.2
            },
            "type": "scatter"
           }
          ],
          "scatter3d": [
           {
            "line": {
             "colorbar": {
              "outlinewidth": 0,
              "ticks": ""
             }
            },
            "marker": {
             "colorbar": {
              "outlinewidth": 0,
              "ticks": ""
             }
            },
            "type": "scatter3d"
           }
          ],
          "scattercarpet": [
           {
            "marker": {
             "colorbar": {
              "outlinewidth": 0,
              "ticks": ""
             }
            },
            "type": "scattercarpet"
           }
          ],
          "scattergeo": [
           {
            "marker": {
             "colorbar": {
              "outlinewidth": 0,
              "ticks": ""
             }
            },
            "type": "scattergeo"
           }
          ],
          "scattergl": [
           {
            "marker": {
             "colorbar": {
              "outlinewidth": 0,
              "ticks": ""
             }
            },
            "type": "scattergl"
           }
          ],
          "scattermap": [
           {
            "marker": {
             "colorbar": {
              "outlinewidth": 0,
              "ticks": ""
             }
            },
            "type": "scattermap"
           }
          ],
          "scattermapbox": [
           {
            "marker": {
             "colorbar": {
              "outlinewidth": 0,
              "ticks": ""
             }
            },
            "type": "scattermapbox"
           }
          ],
          "scatterpolar": [
           {
            "marker": {
             "colorbar": {
              "outlinewidth": 0,
              "ticks": ""
             }
            },
            "type": "scatterpolar"
           }
          ],
          "scatterpolargl": [
           {
            "marker": {
             "colorbar": {
              "outlinewidth": 0,
              "ticks": ""
             }
            },
            "type": "scatterpolargl"
           }
          ],
          "scatterternary": [
           {
            "marker": {
             "colorbar": {
              "outlinewidth": 0,
              "ticks": ""
             }
            },
            "type": "scatterternary"
           }
          ],
          "surface": [
           {
            "colorbar": {
             "outlinewidth": 0,
             "ticks": ""
            },
            "colorscale": [
             [
              0,
              "#0d0887"
             ],
             [
              0.1111111111111111,
              "#46039f"
             ],
             [
              0.2222222222222222,
              "#7201a8"
             ],
             [
              0.3333333333333333,
              "#9c179e"
             ],
             [
              0.4444444444444444,
              "#bd3786"
             ],
             [
              0.5555555555555556,
              "#d8576b"
             ],
             [
              0.6666666666666666,
              "#ed7953"
             ],
             [
              0.7777777777777778,
              "#fb9f3a"
             ],
             [
              0.8888888888888888,
              "#fdca26"
             ],
             [
              1,
              "#f0f921"
             ]
            ],
            "type": "surface"
           }
          ],
          "table": [
           {
            "cells": {
             "fill": {
              "color": "#EBF0F8"
             },
             "line": {
              "color": "white"
             }
            },
            "header": {
             "fill": {
              "color": "#C8D4E3"
             },
             "line": {
              "color": "white"
             }
            },
            "type": "table"
           }
          ]
         },
         "layout": {
          "annotationdefaults": {
           "arrowcolor": "#2a3f5f",
           "arrowhead": 0,
           "arrowwidth": 1
          },
          "autotypenumbers": "strict",
          "coloraxis": {
           "colorbar": {
            "outlinewidth": 0,
            "ticks": ""
           }
          },
          "colorscale": {
           "diverging": [
            [
             0,
             "#8e0152"
            ],
            [
             0.1,
             "#c51b7d"
            ],
            [
             0.2,
             "#de77ae"
            ],
            [
             0.3,
             "#f1b6da"
            ],
            [
             0.4,
             "#fde0ef"
            ],
            [
             0.5,
             "#f7f7f7"
            ],
            [
             0.6,
             "#e6f5d0"
            ],
            [
             0.7,
             "#b8e186"
            ],
            [
             0.8,
             "#7fbc41"
            ],
            [
             0.9,
             "#4d9221"
            ],
            [
             1,
             "#276419"
            ]
           ],
           "sequential": [
            [
             0,
             "#0d0887"
            ],
            [
             0.1111111111111111,
             "#46039f"
            ],
            [
             0.2222222222222222,
             "#7201a8"
            ],
            [
             0.3333333333333333,
             "#9c179e"
            ],
            [
             0.4444444444444444,
             "#bd3786"
            ],
            [
             0.5555555555555556,
             "#d8576b"
            ],
            [
             0.6666666666666666,
             "#ed7953"
            ],
            [
             0.7777777777777778,
             "#fb9f3a"
            ],
            [
             0.8888888888888888,
             "#fdca26"
            ],
            [
             1,
             "#f0f921"
            ]
           ],
           "sequentialminus": [
            [
             0,
             "#0d0887"
            ],
            [
             0.1111111111111111,
             "#46039f"
            ],
            [
             0.2222222222222222,
             "#7201a8"
            ],
            [
             0.3333333333333333,
             "#9c179e"
            ],
            [
             0.4444444444444444,
             "#bd3786"
            ],
            [
             0.5555555555555556,
             "#d8576b"
            ],
            [
             0.6666666666666666,
             "#ed7953"
            ],
            [
             0.7777777777777778,
             "#fb9f3a"
            ],
            [
             0.8888888888888888,
             "#fdca26"
            ],
            [
             1,
             "#f0f921"
            ]
           ]
          },
          "colorway": [
           "#636efa",
           "#EF553B",
           "#00cc96",
           "#ab63fa",
           "#FFA15A",
           "#19d3f3",
           "#FF6692",
           "#B6E880",
           "#FF97FF",
           "#FECB52"
          ],
          "font": {
           "color": "#2a3f5f"
          },
          "geo": {
           "bgcolor": "white",
           "lakecolor": "white",
           "landcolor": "white",
           "showlakes": true,
           "showland": true,
           "subunitcolor": "#C8D4E3"
          },
          "hoverlabel": {
           "align": "left"
          },
          "hovermode": "closest",
          "mapbox": {
           "style": "light"
          },
          "paper_bgcolor": "white",
          "plot_bgcolor": "white",
          "polar": {
           "angularaxis": {
            "gridcolor": "#EBF0F8",
            "linecolor": "#EBF0F8",
            "ticks": ""
           },
           "bgcolor": "white",
           "radialaxis": {
            "gridcolor": "#EBF0F8",
            "linecolor": "#EBF0F8",
            "ticks": ""
           }
          },
          "scene": {
           "xaxis": {
            "backgroundcolor": "white",
            "gridcolor": "#DFE8F3",
            "gridwidth": 2,
            "linecolor": "#EBF0F8",
            "showbackground": true,
            "ticks": "",
            "zerolinecolor": "#EBF0F8"
           },
           "yaxis": {
            "backgroundcolor": "white",
            "gridcolor": "#DFE8F3",
            "gridwidth": 2,
            "linecolor": "#EBF0F8",
            "showbackground": true,
            "ticks": "",
            "zerolinecolor": "#EBF0F8"
           },
           "zaxis": {
            "backgroundcolor": "white",
            "gridcolor": "#DFE8F3",
            "gridwidth": 2,
            "linecolor": "#EBF0F8",
            "showbackground": true,
            "ticks": "",
            "zerolinecolor": "#EBF0F8"
           }
          },
          "shapedefaults": {
           "line": {
            "color": "#2a3f5f"
           }
          },
          "ternary": {
           "aaxis": {
            "gridcolor": "#DFE8F3",
            "linecolor": "#A2B1C6",
            "ticks": ""
           },
           "baxis": {
            "gridcolor": "#DFE8F3",
            "linecolor": "#A2B1C6",
            "ticks": ""
           },
           "bgcolor": "white",
           "caxis": {
            "gridcolor": "#DFE8F3",
            "linecolor": "#A2B1C6",
            "ticks": ""
           }
          },
          "title": {
           "x": 0.05
          },
          "xaxis": {
           "automargin": true,
           "gridcolor": "#EBF0F8",
           "linecolor": "#EBF0F8",
           "ticks": "",
           "title": {
            "standoff": 15
           },
           "zerolinecolor": "#EBF0F8",
           "zerolinewidth": 2
          },
          "yaxis": {
           "automargin": true,
           "gridcolor": "#EBF0F8",
           "linecolor": "#EBF0F8",
           "ticks": "",
           "title": {
            "standoff": 15
           },
           "zerolinecolor": "#EBF0F8",
           "zerolinewidth": 2
          }
         }
        },
        "title": {
         "text": "LassoCV: Mean Cross-Validation Error vs Alpha"
        },
        "width": 800,
        "xaxis": {
         "title": {
          "text": "Alpha (log scale)"
         },
         "type": "log"
        },
        "yaxis": {
         "title": {
          "text": "Mean CV MSE"
         }
        }
       }
      }
     },
     "metadata": {},
     "output_type": "display_data"
    }
   ],
   "source": [
    "import plotly.graph_objects as go\n",
    "\n",
    "# Extract model and aligned data\n",
    "lasso_cv = lassocv_pipeline.named_steps['lasso_cv']\n",
    "alphas_used = lasso_cv.alphas_  # Correct order (descending)\n",
    "mean_mse = lasso_cv.mse_path_.mean(axis=1)\n",
    "std_mse = lasso_cv.mse_path_.std(axis=1)\n",
    "best_alpha = lasso_cv.alpha_\n",
    "\n",
    "# Plot\n",
    "fig = go.Figure()\n",
    "\n",
    "# Mean MSE with error bars\n",
    "fig.add_trace(go.Scatter(\n",
    "    x=alphas_used,\n",
    "    y=mean_mse,\n",
    "    error_y=dict(\n",
    "        type='data',\n",
    "        array=std_mse,\n",
    "        visible=True\n",
    "    ),\n",
    "    mode='lines+markers',\n",
    "    name='Mean CV MSE',\n",
    "    line=dict(color='royalblue'),\n",
    "    marker=dict(size=8)\n",
    "))\n",
    "\n",
    "# Vertical line for best alpha\n",
    "fig.add_trace(go.Scatter(\n",
    "    x=[best_alpha, best_alpha],\n",
    "    y=[min(mean_mse) * 0.95, max(mean_mse) * 1.05],\n",
    "    mode='lines',\n",
    "    name=f'Best alpha = {best_alpha:.4f}',\n",
    "    line=dict(color='red', dash='dash')\n",
    "))\n",
    "\n",
    "# Layout\n",
    "fig.update_layout(\n",
    "    title='LassoCV: Mean Cross-Validation Error vs Alpha',\n",
    "    xaxis=dict(title='Alpha (log scale)', type='log'),\n",
    "    yaxis=dict(title='Mean CV MSE'),\n",
    "    legend=dict(x=0.01, y=0.99),\n",
    "    template='plotly_white',\n",
    "    width=800,\n",
    "    height=500\n",
    ")\n",
    "\n",
    "fig.show()\n"
   ]
  },
  {
   "cell_type": "code",
   "execution_count": 16,
   "id": "16804ccd",
   "metadata": {},
   "outputs": [
    {
     "data": {
      "application/vnd.plotly.v1+json": {
       "config": {
        "plotlyServerURL": "https://plot.ly"
       },
       "data": [
        {
         "mode": "lines",
         "name": "const",
         "type": "scatter",
         "x": {
          "bdata": "U2Z8oiRm1EBIAGl1AlbTQLHfTbAOVNJA4NicI4xf0UDoi557x3fQQHIR2nktOM9ALQSSj7GXzUBdQtzD6QzMQF6dH420lspAtZRYeP8zyUB6ZdBfxuPHQLZYUawSpcZA/2JMoPp2xUAfcWusoFjEQCmnEs0yScNAmGVZ8OlHwkBOHApkCVTBQOnXPUvebMBAzhJcNn4jv0Bppbg9FoS9QC9LagJU+rtAOYetuhaFukCKXVWpTCO5QMu+B1Xy07dAhEDwyRGWtkD7j13lwWi1QJdTxaolS7RAjxOxoWs8s0AHTB08zTuyQO/72USOSLFAzuOBVfxhsEC8bkan3A6vQHqZc+mHcK1Ay6U/kcrnq0DCrj2UhHOqQG3CnuqkEqlA5FHzxijEp0Cr/1vYGoemQE6WnpaSWqVAFzObl7M9pEAtkaTtrC+jQAnlRI64L6JAVOf+wBo9oUAEiKCVIVegQDChhMNI+p5Aon4nigZdnUDBwjNoTdWbQPtaFBL+YZpA3zTgNAgCmUCdWqCuabSXQNGD/tAteJZApEDRrWxMlUAzIwJtSjCUQGYlUav2IpNA0gp/4asjkkAmp27TrjGRQFrJ0gZOTJBAPCoIgsLljkDgpj4XkkmNQF96I3/cwotAofJ6LINQikDPAcqAdvGIQFivIAW1pIdAgxdGrUpphkCIfLskUD6FQEEjEyXqIoRAN40e1UgWg0BvHX4wpxeCQNFaIndKJoFA7NZUpIFBgEAeisjZSdF+QIQUKYgqNn1AKQnxzXewe0Cc+L/bEz96QENOEcfv4HhA+72KwwqVd0C/X6VmcVp2QLBXJ/U8MHVAoBvruZIVdEBrOnhlowlzQGgA+HWqC3JAg3YWp+0acUAHCGZpvDZwQBg9w8HevG5A9XVc1M8ibUBGDIRMH55rQOwINxiwLWpAIxRwAHTQaEC+iPniaoVnQKtYk/ahS2ZAPf3iGDMiZUBi26olRAhkQGBRzVYG/WJAdhimrLX/YUC4wEpemA9hQBPaSFH+K2BA3rf7MIGoXkBIIlTzgQ9dQO99yfLSi1tA5dQ42lccWkA=",
          "dtype": "f8"
         },
         "y": {
          "bdata": "AAAAAAAAAACwYDbRIgKRQAs1dJGvkKBAlGv89sM0qEBW0+426XKvQGZ2PZY3KLNA8ZDNai9ptkCQFDkCv365QI9esm8pa7xA4G9AmZMwv0ArZyjlgujAQO9zp5g2J8JApmmspE5Vw0CGW42YqHPEQHwl5ncWg8VADWefVF+ExkBXsO7gP3jHQLz0uvlqX8hAPsPKKYo6yUDweRwmPgrKQA2nw0Mfz8pAfKkyhDAJy0C2Oyw/UAnLQG2KCDVKCctAsieo4UoJy0ClgZrUk9jNQImg+smMsNBA600lFAld0kDHVjzcg/PTQGloSohvdNVAMgFzeazh1kCn8pR9cDvYQKaRng2gg9lAWpPmUjK62kBOe/U0GOHbQLQ6S8Wg+NxAbUKtZbkA3kBtbxO/cPreQGodShIk599AvwLRtm9j4ECYriwwyc3gQMKNsN6YMuFAHHHxryeS4UAyivSIZuzhQNYByU1FQuJAoRKD1KuT4kDhCRiItODiQEYgnRi2KeNA0g4N+pRu40Ay1JMMMLDjQEZDxpZh7uNANgngd1Up5EAoxG3jNmHkQPnvC9UuluRAV+zGJWTI5EBfumuo+/fkQNTvT1jQJOVAdtTj/pRP5UBw/kjwIHjlQDxHHASQnuVAmtG3Xf7C5UCG6ti0huXlQL/i3kX+BeZA/NG7egYl5kBnmAfyckLmQLsBzvVWXuZAS+GaIVZ/5kByIewuPp/mQPGXmj+DveZAiFGGrzTa5kBLFb1YZ/XmQH+3r+/xDudATCW9zmIn50CJYX/Djz7nQCu1T5+HVOdAe7KRalpp50DwXzdqF33nQD3TJECTj+dA11oGpE+h50CoWx0BIrLnQJBFSnf2vudAzW5C4TvJ50B50SLCAdPnQNpUxgtG3OdAjs8tr9fk50BsvTtCKO3nQAhZEyMP9edAWn+FJ43850BbMYJmlAPoQG4IeQnECOhAIUDdGNkN6ECnHlK9mhHoQOAIX8igFOhAcyixmm0X6ECbc+TXDxroQKu08gUPHehA3RtqPqsi6EDfUu+HFSroQHR4o+rgM+hAEACqDY1A6EA=",
          "dtype": "f8"
         }
        },
        {
         "mode": "lines",
         "name": "duration",
         "type": "scatter",
         "x": {
          "bdata": "U2Z8oiRm1EBIAGl1AlbTQLHfTbAOVNJA4NicI4xf0UDoi557x3fQQHIR2nktOM9ALQSSj7GXzUBdQtzD6QzMQF6dH420lspAtZRYeP8zyUB6ZdBfxuPHQLZYUawSpcZA/2JMoPp2xUAfcWusoFjEQCmnEs0yScNAmGVZ8OlHwkBOHApkCVTBQOnXPUvebMBAzhJcNn4jv0Bppbg9FoS9QC9LagJU+rtAOYetuhaFukCKXVWpTCO5QMu+B1Xy07dAhEDwyRGWtkD7j13lwWi1QJdTxaolS7RAjxOxoWs8s0AHTB08zTuyQO/72USOSLFAzuOBVfxhsEC8bkan3A6vQHqZc+mHcK1Ay6U/kcrnq0DCrj2UhHOqQG3CnuqkEqlA5FHzxijEp0Cr/1vYGoemQE6WnpaSWqVAFzObl7M9pEAtkaTtrC+jQAnlRI64L6JAVOf+wBo9oUAEiKCVIVegQDChhMNI+p5Aon4nigZdnUDBwjNoTdWbQPtaFBL+YZpA3zTgNAgCmUCdWqCuabSXQNGD/tAteJZApEDRrWxMlUAzIwJtSjCUQGYlUav2IpNA0gp/4asjkkAmp27TrjGRQFrJ0gZOTJBAPCoIgsLljkDgpj4XkkmNQF96I3/cwotAofJ6LINQikDPAcqAdvGIQFivIAW1pIdAgxdGrUpphkCIfLskUD6FQEEjEyXqIoRAN40e1UgWg0BvHX4wpxeCQNFaIndKJoFA7NZUpIFBgEAeisjZSdF+QIQUKYgqNn1AKQnxzXewe0Cc+L/bEz96QENOEcfv4HhA+72KwwqVd0C/X6VmcVp2QLBXJ/U8MHVAoBvruZIVdEBrOnhlowlzQGgA+HWqC3JAg3YWp+0acUAHCGZpvDZwQBg9w8HevG5A9XVc1M8ibUBGDIRMH55rQOwINxiwLWpAIxRwAHTQaEC+iPniaoVnQKtYk/ahS2ZAPf3iGDMiZUBi26olRAhkQGBRzVYG/WJAdhimrLX/YUC4wEpemA9hQBPaSFH+K2BA3rf7MIGoXkBIIlTzgQ9dQO99yfLSi1tA5dQ42lccWkA=",
          "dtype": "f8"
         },
         "y": {
          "bdata": "AAAAAAAAAAAAAAAAAAAAAAAAAAAAAAAAAAAAAAAAAAAAAAAAAAAAAAAAAAAAAAAAAAAAAAAAAAAAAAAAAAAAAAAAAAAAAAAAAAAAAAAAAAAAAAAAAAAAAAAAAAAAAAAAAAAAAAAAAAAAAAAAAAAAAAAAAAAAAAAAAAAAAAAAAAAAAAAAAAAAAAAAAAAAAAAAAAAAAAAAAAAAAAAAAAAAAAAAAAAAAAAAAAAAAAAAAAAAAAAAAAAAAAAAAAAAAAAAAAAAAAAAAAAAAAAAAAAAAAAAAAAAAAAAAAAAAAAAAAAAAAAAAAAAAAAAAAAAAAAAAAAAAAAAAAAAAAAAAAAAAAAAAAAAAAAAAAAAAAAAAAAAAAAAAAAAAAAAAAAAAAAAwcnXFObpLkCPcwvHvP1XQLpW+yvhiGVAwomtdL+WbkBtOHtHYJRzQFcUZnwxpHdA6loz69J9e0CmLpoEuiV/QKiPu9ufTYFA2UDV0EzxgkC/Yn2RIGWEQBPrgkIzw4VAPkCQ+tYPh0ASHDZGWkqIQDPJW691dIlAjrPSGgiPikB+Fbrc4JqLQDZvzWbEmIxA1tOx7WyJjUDQA/Xxim2OQME9PZp1Ro9Anna+oLMJkECab+Mr02qQQPRk7PrixpBADaZpoiYekUDEIvsi3nCRQKaPO2WZv5FA+phW7ukJkkCOotZTWFCSQAu9RQobk5JA7RSDmhXUkUCD9UrK1wiRQNuZIiAkSJBArsqNq/Uij0BrpKWqrMiNQLgcjNphgYxA3C7YhztKi0Aj4XGhQyOKQOOHZHWqC4lAsvQpRKMCiECiS5awaweHQI7sr3YwGoZAkr4Bx3c4hUCfnzIceGKEQNAD5mkLfYNA8yNZDe+UgkAFziMTybiBQITUkBsZ6IBA+Czt8A8jgEDKI0uCM89+QDYB9Gmqa31Azw37R6QafEBFSMpdnNx6QGbqIdNDxnlAvmdwNj+9eEDUxyhJBMp3QDxqAa5E63ZA+cB3rAsZdkCvWwWhJ1J1QI15kRXTiHRAx4h6mwnNc0BjIVAxwxpzQJD2hJbpb3JAaV/XxIIzckA=",
          "dtype": "f8"
         }
        },
        {
         "mode": "lines",
         "name": "days_left",
         "type": "scatter",
         "x": {
          "bdata": "U2Z8oiRm1EBIAGl1AlbTQLHfTbAOVNJA4NicI4xf0UDoi557x3fQQHIR2nktOM9ALQSSj7GXzUBdQtzD6QzMQF6dH420lspAtZRYeP8zyUB6ZdBfxuPHQLZYUawSpcZA/2JMoPp2xUAfcWusoFjEQCmnEs0yScNAmGVZ8OlHwkBOHApkCVTBQOnXPUvebMBAzhJcNn4jv0Bppbg9FoS9QC9LagJU+rtAOYetuhaFukCKXVWpTCO5QMu+B1Xy07dAhEDwyRGWtkD7j13lwWi1QJdTxaolS7RAjxOxoWs8s0AHTB08zTuyQO/72USOSLFAzuOBVfxhsEC8bkan3A6vQHqZc+mHcK1Ay6U/kcrnq0DCrj2UhHOqQG3CnuqkEqlA5FHzxijEp0Cr/1vYGoemQE6WnpaSWqVAFzObl7M9pEAtkaTtrC+jQAnlRI64L6JAVOf+wBo9oUAEiKCVIVegQDChhMNI+p5Aon4nigZdnUDBwjNoTdWbQPtaFBL+YZpA3zTgNAgCmUCdWqCuabSXQNGD/tAteJZApEDRrWxMlUAzIwJtSjCUQGYlUav2IpNA0gp/4asjkkAmp27TrjGRQFrJ0gZOTJBAPCoIgsLljkDgpj4XkkmNQF96I3/cwotAofJ6LINQikDPAcqAdvGIQFivIAW1pIdAgxdGrUpphkCIfLskUD6FQEEjEyXqIoRAN40e1UgWg0BvHX4wpxeCQNFaIndKJoFA7NZUpIFBgEAeisjZSdF+QIQUKYgqNn1AKQnxzXewe0Cc+L/bEz96QENOEcfv4HhA+72KwwqVd0C/X6VmcVp2QLBXJ/U8MHVAoBvruZIVdEBrOnhlowlzQGgA+HWqC3JAg3YWp+0acUAHCGZpvDZwQBg9w8HevG5A9XVc1M8ibUBGDIRMH55rQOwINxiwLWpAIxRwAHTQaEC+iPniaoVnQKtYk/ahS2ZAPf3iGDMiZUBi26olRAhkQGBRzVYG/WJAdhimrLX/YUC4wEpemA9hQBPaSFH+K2BA3rf7MIGoXkBIIlTzgQ9dQO99yfLSi1tA5dQ42lccWkA=",
          "dtype": "f8"
         },
         "y": {
          "bdata": "AAAAAAAAAIAAAAAAAAAAgAAAAAAAAACAAAAAAAAAAIAAAAAAAAAAgAAAAAAAAACAAAAAAAAAAIAAAAAAAAAAgAAAAAAAAACAAAAAAAAAAIAAAAAAAAAAgAAAAAAAAACAAAAAAAAAAIAAAAAAAAAAgAAAAAAAAACAAAAAAAAAAIAAAAAAAAAAgAAAAAAAAACAAAAAAAAAAIAAAAAAAAAAgAAAAAAAAACAAAAAAAAAAIAAAAAAAAAAgAAAAAAAAACAAAAAAAAAAIAAAAAAAAAAgAAAAAAAAACAAAAAAAAAAIAAAAAAAAAAgAAAAAAAAACAAAAAAAAAAIAAAAAAAAAAgAAAAAAAAACAAAAAAAAAAIAAAAAAAAAAgAAAAAAAAACAAAAAAAAAAIAAAAAAAAAAgAAAAAAAAACAAAAAAAAAAIAAAAAAAAAAgAAAAAAAAACAAAAAAAAAAIAAAAAAAAAAgAAAAAAAAACAAAAAAAAAAIBecsI5m9ZUwH+LZa2kQGXA7MhIx8OFb8CuARdhyqB0wHKnHATFPXnAw2ERvzSdfcDGjWBMJ+GAwIMIl2UO2ILAqZcogcC0hMB2zZk8m3iGwODIT4P6JIjAXvm9/Pa6icC92yP3yjuLwFsM9h6RqIzA2ffp/lQCjsAYi9otFEqPwLQPF1hnQJDA9oDNZqTTkMC1vwj2NF+RwAdw9qR/45HANi2LC69qksAxVIriquuSwJ4S13XtZZPAThx4AdHZk8AF3BiIqkeUwJ0M8a7Pr5TAqquEloISlcAjirOeEHCVwESpB5O+yJXAUmkcf80clsAQfUgJe2yWwECsq24GuJbAFT1Ycp3/lsDW2R4zeUOXwGh+dC3sg5fATs1fOvDAl8BJnqeNxfqXwLqX8kmXMZjAqHmOHpJlmMArTw+P05aYwMA7LHyDxZjAjrzkiMTxmMD7cEuArxuZwFV37YkAQ5nA777VE0NomcAcsNkt7IqZwDtOOONkq5nAzHlL/QHKmcBLe7z7BueZwDztjfeFAprAaYnKDz0cmsDQzTvf2jSawMypaAMdS5rAl+3fX8hgmsA=",
          "dtype": "f8"
         }
        },
        {
         "mode": "lines",
         "name": "airline_Air_India",
         "type": "scatter",
         "x": {
          "bdata": "U2Z8oiRm1EBIAGl1AlbTQLHfTbAOVNJA4NicI4xf0UDoi557x3fQQHIR2nktOM9ALQSSj7GXzUBdQtzD6QzMQF6dH420lspAtZRYeP8zyUB6ZdBfxuPHQLZYUawSpcZA/2JMoPp2xUAfcWusoFjEQCmnEs0yScNAmGVZ8OlHwkBOHApkCVTBQOnXPUvebMBAzhJcNn4jv0Bppbg9FoS9QC9LagJU+rtAOYetuhaFukCKXVWpTCO5QMu+B1Xy07dAhEDwyRGWtkD7j13lwWi1QJdTxaolS7RAjxOxoWs8s0AHTB08zTuyQO/72USOSLFAzuOBVfxhsEC8bkan3A6vQHqZc+mHcK1Ay6U/kcrnq0DCrj2UhHOqQG3CnuqkEqlA5FHzxijEp0Cr/1vYGoemQE6WnpaSWqVAFzObl7M9pEAtkaTtrC+jQAnlRI64L6JAVOf+wBo9oUAEiKCVIVegQDChhMNI+p5Aon4nigZdnUDBwjNoTdWbQPtaFBL+YZpA3zTgNAgCmUCdWqCuabSXQNGD/tAteJZApEDRrWxMlUAzIwJtSjCUQGYlUav2IpNA0gp/4asjkkAmp27TrjGRQFrJ0gZOTJBAPCoIgsLljkDgpj4XkkmNQF96I3/cwotAofJ6LINQikDPAcqAdvGIQFivIAW1pIdAgxdGrUpphkCIfLskUD6FQEEjEyXqIoRAN40e1UgWg0BvHX4wpxeCQNFaIndKJoFA7NZUpIFBgEAeisjZSdF+QIQUKYgqNn1AKQnxzXewe0Cc+L/bEz96QENOEcfv4HhA+72KwwqVd0C/X6VmcVp2QLBXJ/U8MHVAoBvruZIVdEBrOnhlowlzQGgA+HWqC3JAg3YWp+0acUAHCGZpvDZwQBg9w8HevG5A9XVc1M8ibUBGDIRMH55rQOwINxiwLWpAIxRwAHTQaEC+iPniaoVnQKtYk/ahS2ZAPf3iGDMiZUBi26olRAhkQGBRzVYG/WJAdhimrLX/YUC4wEpemA9hQBPaSFH+K2BA3rf7MIGoXkBIIlTzgQ9dQO99yfLSi1tA5dQ42lccWkA=",
          "dtype": "f8"
         },
         "y": {
          "bdata": "AAAAAAAAAAAAAAAAAAAAAAAAAAAAAAAAAAAAAAAAAAAAAAAAAAAAAAAAAAAAAAAAAAAAAAAAAAAAAAAAAAAAAAAAAAAAAAAAAAAAAAAAAAAAAAAAAAAAAAAAAAAAAAAAAAAAAAAAAAAAAAAAAAAAAAAAAAAAAAAAAAAAAAAAAAAAAAAAAAAAAAAAAAAAAAAAAAAAAAAAAAAAAAAAAAAAAAAAAAAAAAAAAAAAAAAAAAAAAAAAAAAAAAAAAAAAAAAAAAAAAAAAAAAAAAAAAAAAAAAAAAAAAAAAAAAAAAAAAAAAAAAAAAAAAAAAAAAAAAAAAAAAAAAAAAAAAAAAAAAAAAAAAAAAAAAAAAAAAAAAAAAAAAAAAAAAAAAAAAAAAAAAAAAAAAAAAAAAAAAAAAAAAAAAAAAAAAAAAAAAAAAAAAAAAAAAAAAAAAAAAAAAAAAAAAAAAAAAAAAAAAAAAAAAAAAAAAAAAAAAAAAAAAAAAAAAAAAAAAAAAAAAAAAAAAAAAAAAAAAAAAAAAAAAAAAAAAAAAAAAAAAAAAAAAAAAAAAAAAAAAAAAAAAAAAAAAAAAAAAAAAAAAAAAAAAAAAAAAAAAAAAAAAAAAAAAAAAAAAAAAAAAAAAAAAAAAAAAAAAAAAAAAAAAAAAAAAAAAAAAAAAAAAAAAAAAAAAAAAAAAAAAAAAAAAAAAAAAAAAAAAAAAAAAAAAAAAAAAAAAAAAAAAAAAAAAAAAAAAAAAAAAAAAAAAAAAAAAAAAAAAAAAAAAAAAAAAAAAAAAAAAAAAAAAAAAAAAAAAAAAAAAAAAAAAAAAAAAAAAAgAAAAAAAAACAAAAAAAAAAIAAAAAAAAAAgAAAAAAAAACAAAAAAAAAAIAAAAAAAAAAgAAAAAAAAACAAAAAAAAAAIAAAAAAAAAAgAAAAAAAAACAAAAAAAAAAIAAAAAAAAAAgAAAAAAAAACAAAAAAAAAAIAAAAAAAAAAgAAAAAAAAACAAAAAAAAAAIAAAAAAAAAAgAAAAAAAAACAAAAAAAAAAIAAAAAAAAAAgAAAAAAAAACAalnWHwkSRMA=",
          "dtype": "f8"
         }
        },
        {
         "mode": "lines",
         "name": "airline_GO_FIRST",
         "type": "scatter",
         "x": {
          "bdata": "U2Z8oiRm1EBIAGl1AlbTQLHfTbAOVNJA4NicI4xf0UDoi557x3fQQHIR2nktOM9ALQSSj7GXzUBdQtzD6QzMQF6dH420lspAtZRYeP8zyUB6ZdBfxuPHQLZYUawSpcZA/2JMoPp2xUAfcWusoFjEQCmnEs0yScNAmGVZ8OlHwkBOHApkCVTBQOnXPUvebMBAzhJcNn4jv0Bppbg9FoS9QC9LagJU+rtAOYetuhaFukCKXVWpTCO5QMu+B1Xy07dAhEDwyRGWtkD7j13lwWi1QJdTxaolS7RAjxOxoWs8s0AHTB08zTuyQO/72USOSLFAzuOBVfxhsEC8bkan3A6vQHqZc+mHcK1Ay6U/kcrnq0DCrj2UhHOqQG3CnuqkEqlA5FHzxijEp0Cr/1vYGoemQE6WnpaSWqVAFzObl7M9pEAtkaTtrC+jQAnlRI64L6JAVOf+wBo9oUAEiKCVIVegQDChhMNI+p5Aon4nigZdnUDBwjNoTdWbQPtaFBL+YZpA3zTgNAgCmUCdWqCuabSXQNGD/tAteJZApEDRrWxMlUAzIwJtSjCUQGYlUav2IpNA0gp/4asjkkAmp27TrjGRQFrJ0gZOTJBAPCoIgsLljkDgpj4XkkmNQF96I3/cwotAofJ6LINQikDPAcqAdvGIQFivIAW1pIdAgxdGrUpphkCIfLskUD6FQEEjEyXqIoRAN40e1UgWg0BvHX4wpxeCQNFaIndKJoFA7NZUpIFBgEAeisjZSdF+QIQUKYgqNn1AKQnxzXewe0Cc+L/bEz96QENOEcfv4HhA+72KwwqVd0C/X6VmcVp2QLBXJ/U8MHVAoBvruZIVdEBrOnhlowlzQGgA+HWqC3JAg3YWp+0acUAHCGZpvDZwQBg9w8HevG5A9XVc1M8ibUBGDIRMH55rQOwINxiwLWpAIxRwAHTQaEC+iPniaoVnQKtYk/ahS2ZAPf3iGDMiZUBi26olRAhkQGBRzVYG/WJAdhimrLX/YUC4wEpemA9hQBPaSFH+K2BA3rf7MIGoXkBIIlTzgQ9dQO99yfLSi1tA5dQ42lccWkA=",
          "dtype": "f8"
         },
         "y": {
          "bdata": "AAAAAAAAAAAAAAAAAAAAAAAAAAAAAAAAAAAAAAAAAAAAAAAAAAAAAAAAAAAAAAAAAAAAAAAAAIAAAAAAAAAAgAAAAAAAAACAAAAAAAAAAIAAAAAAAAAAgAAAAAAAAACAAAAAAAAAAIAAAAAAAAAAgAAAAAAAAACAAAAAAAAAAIAAAAAAAAAAgAAAAAAAAACAAAAAAAAAAIAAAAAAAAAAgAAAAAAAAACAAAAAAAAAAIAAAAAAAAAAgAAAAAAAAACAAAAAAAAAAIAAAAAAAAAAgAAAAAAAAACAAAAAAAAAAIAAAAAAAAAAgAAAAAAAAACAAAAAAAAAAIAAAAAAAAAAgAAAAAAAAACAAAAAAAAAAIAAAAAAAAAAgAAAAAAAAACAAAAAAAAAAIAAAAAAAAAAgAAAAAAAAACAAAAAAAAAAIAAAAAAAAAAgAAAAAAAAACAAAAAAAAAAIAAAAAAAAAAgAAAAAAAAACAAAAAAAAAAIAAAAAAAAAAgAAAAAAAAACAAAAAAAAAAIAAAAAAAAAAgAAAAAAAAACAAAAAAAAAAIAAAAAAAAAAgAAAAAAAAACAAAAAAAAAAIAAAAAAAAAAgAAAAAAAAACAAAAAAAAAAIAAAAAAAAAAgAAAAAAAAACAAAAAAAAAAIAAAAAAAAAAgAAAAAAAAACAAAAAAAAAAIAAAAAAAAAAgAAAAAAAAACAAAAAAAAAAIAAAAAAAAAAgAAAAAAAAACAAAAAAAAAAIAAAAAAAAAAAAAAAAAAAAAAAAAAAAAAAAAAAAAAAAAAAAAAAAAAAAAAAAAAAAAAAAAAAAAAAAAAAAAAAAAAAAAAAAAAAAAAAAAAAAAAAAAAAAAAAAAAAAAAAAAAAAAAAAAAAAAAAAAAAAAAAAAAAAAAAAAAAAAAAAAAAAAAAAAAAAAAAAAAAAAAAAAAAAAAAAAAAAAAAAAAAAAAAAAAAAAAAAAAAAAAAAAAAAAAAAAAAAAAAAAAAAAAAAAAAAAAAAAAAAAAAAAAAAAAAAAAAAAAAAAAAAAAAAAAAAAAAAAAAAAAAAAAAAAAAAAAAAAAAAA=",
          "dtype": "f8"
         }
        },
        {
         "mode": "lines",
         "name": "airline_Indigo",
         "type": "scatter",
         "x": {
          "bdata": "U2Z8oiRm1EBIAGl1AlbTQLHfTbAOVNJA4NicI4xf0UDoi557x3fQQHIR2nktOM9ALQSSj7GXzUBdQtzD6QzMQF6dH420lspAtZRYeP8zyUB6ZdBfxuPHQLZYUawSpcZA/2JMoPp2xUAfcWusoFjEQCmnEs0yScNAmGVZ8OlHwkBOHApkCVTBQOnXPUvebMBAzhJcNn4jv0Bppbg9FoS9QC9LagJU+rtAOYetuhaFukCKXVWpTCO5QMu+B1Xy07dAhEDwyRGWtkD7j13lwWi1QJdTxaolS7RAjxOxoWs8s0AHTB08zTuyQO/72USOSLFAzuOBVfxhsEC8bkan3A6vQHqZc+mHcK1Ay6U/kcrnq0DCrj2UhHOqQG3CnuqkEqlA5FHzxijEp0Cr/1vYGoemQE6WnpaSWqVAFzObl7M9pEAtkaTtrC+jQAnlRI64L6JAVOf+wBo9oUAEiKCVIVegQDChhMNI+p5Aon4nigZdnUDBwjNoTdWbQPtaFBL+YZpA3zTgNAgCmUCdWqCuabSXQNGD/tAteJZApEDRrWxMlUAzIwJtSjCUQGYlUav2IpNA0gp/4asjkkAmp27TrjGRQFrJ0gZOTJBAPCoIgsLljkDgpj4XkkmNQF96I3/cwotAofJ6LINQikDPAcqAdvGIQFivIAW1pIdAgxdGrUpphkCIfLskUD6FQEEjEyXqIoRAN40e1UgWg0BvHX4wpxeCQNFaIndKJoFA7NZUpIFBgEAeisjZSdF+QIQUKYgqNn1AKQnxzXewe0Cc+L/bEz96QENOEcfv4HhA+72KwwqVd0C/X6VmcVp2QLBXJ/U8MHVAoBvruZIVdEBrOnhlowlzQGgA+HWqC3JAg3YWp+0acUAHCGZpvDZwQBg9w8HevG5A9XVc1M8ibUBGDIRMH55rQOwINxiwLWpAIxRwAHTQaEC+iPniaoVnQKtYk/ahS2ZAPf3iGDMiZUBi26olRAhkQGBRzVYG/WJAdhimrLX/YUC4wEpemA9hQBPaSFH+K2BA3rf7MIGoXkBIIlTzgQ9dQO99yfLSi1tA5dQ42lccWkA=",
          "dtype": "f8"
         },
         "y": {
          "bdata": "AAAAAAAAAAAAAAAAAAAAAAAAAAAAAAAAAAAAAAAAAAAAAAAAAAAAAAAAAAAAAAAAAAAAAAAAAIAAAAAAAAAAgAAAAAAAAACAAAAAAAAAAIAAAAAAAAAAgAAAAAAAAACAAAAAAAAAAIAAAAAAAAAAgAAAAAAAAACAAAAAAAAAAIAAAAAAAAAAgAAAAAAAAACAAAAAAAAAAIAAAAAAAAAAgAAAAAAAAACAAAAAAAAAAIAAAAAAAAAAgAAAAAAAAACAAAAAAAAAAIAAAAAAAAAAgAAAAAAAAACAAAAAAAAAAIAAAAAAAAAAgAAAAAAAAACAAAAAAAAAAIAAAAAAAAAAgAAAAAAAAACAAAAAAAAAAIAAAAAAAAAAgAAAAAAAAACAAAAAAAAAAIAAAAAAAAAAgAAAAAAAAACAAAAAAAAAAIAAAAAAAAAAgAAAAAAAAACAAAAAAAAAAIAAAAAAAAAAgAAAAAAAAACAAAAAAAAAAIAAAAAAAAAAgAAAAAAAAACAAAAAAAAAAIAAAAAAAAAAgAAAAAAAAACAAAAAAAAAAIAAAAAAAAAAgAAAAAAAAACAAAAAAAAAAIAAAAAAAAAAgAAAAAAAAACAAAAAAAAAAIAAAAAAAAAAgAAAAAAAAACAAAAAAAAAAIAAAAAAAAAAgAAAAAAAAACAAAAAAAAAAIAAAAAAAAAAgAAAAAAAAACAAAAAAAAAAAAAAAAAAAAAAAAAAAAAAAAAAAAAAAAAAAAAAAAAAAAAAAAAAAAAAAAAAAAAAAAAAAAAAAAAAAAAAAAAAAAAAAAAAAAAAAAAAAAAAAAAAAAAAAAAAAAAAAAAAAAAAAAAAAAAAAAAAAAAAAAAAAAAAAAAAAAAAAAAAAAAAAAAAAAAAAAAAAAAAAAAAAAAAAAAAAAAAAAAAAAAAAAAAAAAAAAAAAAAAAAAAAAAAAAAAAAAAAAAAAAAAAAAAAAAAAAAAAAAAAAAAAAAAAAAAAAAAAAAAAAAAAAAAAAAAAAAAAAAAAAAAAAAAAAAAAAAAAAAAAAAAAAAAAAAAAAAAAAAAAAAAAAAAAAAAAA=",
          "dtype": "f8"
         }
        },
        {
         "mode": "lines",
         "name": "airline_SpiceJet",
         "type": "scatter",
         "x": {
          "bdata": "U2Z8oiRm1EBIAGl1AlbTQLHfTbAOVNJA4NicI4xf0UDoi557x3fQQHIR2nktOM9ALQSSj7GXzUBdQtzD6QzMQF6dH420lspAtZRYeP8zyUB6ZdBfxuPHQLZYUawSpcZA/2JMoPp2xUAfcWusoFjEQCmnEs0yScNAmGVZ8OlHwkBOHApkCVTBQOnXPUvebMBAzhJcNn4jv0Bppbg9FoS9QC9LagJU+rtAOYetuhaFukCKXVWpTCO5QMu+B1Xy07dAhEDwyRGWtkD7j13lwWi1QJdTxaolS7RAjxOxoWs8s0AHTB08zTuyQO/72USOSLFAzuOBVfxhsEC8bkan3A6vQHqZc+mHcK1Ay6U/kcrnq0DCrj2UhHOqQG3CnuqkEqlA5FHzxijEp0Cr/1vYGoemQE6WnpaSWqVAFzObl7M9pEAtkaTtrC+jQAnlRI64L6JAVOf+wBo9oUAEiKCVIVegQDChhMNI+p5Aon4nigZdnUDBwjNoTdWbQPtaFBL+YZpA3zTgNAgCmUCdWqCuabSXQNGD/tAteJZApEDRrWxMlUAzIwJtSjCUQGYlUav2IpNA0gp/4asjkkAmp27TrjGRQFrJ0gZOTJBAPCoIgsLljkDgpj4XkkmNQF96I3/cwotAofJ6LINQikDPAcqAdvGIQFivIAW1pIdAgxdGrUpphkCIfLskUD6FQEEjEyXqIoRAN40e1UgWg0BvHX4wpxeCQNFaIndKJoFA7NZUpIFBgEAeisjZSdF+QIQUKYgqNn1AKQnxzXewe0Cc+L/bEz96QENOEcfv4HhA+72KwwqVd0C/X6VmcVp2QLBXJ/U8MHVAoBvruZIVdEBrOnhlowlzQGgA+HWqC3JAg3YWp+0acUAHCGZpvDZwQBg9w8HevG5A9XVc1M8ibUBGDIRMH55rQOwINxiwLWpAIxRwAHTQaEC+iPniaoVnQKtYk/ahS2ZAPf3iGDMiZUBi26olRAhkQGBRzVYG/WJAdhimrLX/YUC4wEpemA9hQBPaSFH+K2BA3rf7MIGoXkBIIlTzgQ9dQO99yfLSi1tA5dQ42lccWkA=",
          "dtype": "f8"
         },
         "y": {
          "bdata": "AAAAAAAAAAAAAAAAAAAAAAAAAAAAAAAAAAAAAAAAAAAAAAAAAAAAAAAAAAAAAAAAAAAAAAAAAAAAAAAAAAAAgAAAAAAAAACAAAAAAAAAAIAAAAAAAAAAgAAAAAAAAACAAAAAAAAAAIAAAAAAAAAAgAAAAAAAAACAAAAAAAAAAIAAAAAAAAAAgAAAAAAAAACAAAAAAAAAAIAAAAAAAAAAgAAAAAAAAACAAAAAAAAAAIAAAAAAAAAAgAAAAAAAAACAAAAAAAAAAIAAAAAAAAAAgAAAAAAAAACAAAAAAAAAAIAAAAAAAAAAgAAAAAAAAACAAAAAAAAAAIAAAAAAAAAAgAAAAAAAAACAAAAAAAAAAIAAAAAAAAAAgAAAAAAAAACAAAAAAAAAAIAAAAAAAAAAgAAAAAAAAACAAAAAAAAAAIAAAAAAAAAAgAAAAAAAAACAAAAAAAAAAIAAAAAAAAAAgAAAAAAAAACAAAAAAAAAAIAAAAAAAAAAgAAAAAAAAACAAAAAAAAAAIAAAAAAAAAAgAAAAAAAAACAAAAAAAAAAIAAAAAAAAAAgAAAAAAAAACAAAAAAAAAAIAAAAAAAAAAgAAAAAAAAACAAAAAAAAAAIAAAAAAAAAAgAAAAAAAAACAAAAAAAAAAIAAAAAAAAAAgAAAAAAAAACAAAAAAAAAAIAAAAAAAAAAgAAAAAAAAACAAAAAAAAAAIAAAAAAAAAAgAAAAAAAAACAAAAAAAAAAIAAAAAAAAAAgAAAAAAAAAAAAAAAAAAAAAAAAAAAAAAAAAAAAAAAAAAAAAAAAAAAAAAAAAAAAAAAAAAAAAAAAAAAAAAAAAAAAAAAAAAAAAAAAAAAAAAAAAAAAAAAAAAAAAAAAAAAAAAAAAAAAAAAAAAAAAAAAAAAAAAAAAAAAAAAAAAAAAAAAAAAAAAAAAAAAAAAAAAAAAAAAAAAAAAAAAAAAAAAAAAAAAAAAAAAAAAAAAAAAAAAAAAAAAAAAAAAAAAAAAAAAAAAAAAAAAAAAAAAAAAAAAAAAAAAAAAAAAAAAAAAAAAAAAAAAAAAAAAAAAA=",
          "dtype": "f8"
         }
        },
        {
         "mode": "lines",
         "name": "airline_Vistara",
         "type": "scatter",
         "x": {
          "bdata": "U2Z8oiRm1EBIAGl1AlbTQLHfTbAOVNJA4NicI4xf0UDoi557x3fQQHIR2nktOM9ALQSSj7GXzUBdQtzD6QzMQF6dH420lspAtZRYeP8zyUB6ZdBfxuPHQLZYUawSpcZA/2JMoPp2xUAfcWusoFjEQCmnEs0yScNAmGVZ8OlHwkBOHApkCVTBQOnXPUvebMBAzhJcNn4jv0Bppbg9FoS9QC9LagJU+rtAOYetuhaFukCKXVWpTCO5QMu+B1Xy07dAhEDwyRGWtkD7j13lwWi1QJdTxaolS7RAjxOxoWs8s0AHTB08zTuyQO/72USOSLFAzuOBVfxhsEC8bkan3A6vQHqZc+mHcK1Ay6U/kcrnq0DCrj2UhHOqQG3CnuqkEqlA5FHzxijEp0Cr/1vYGoemQE6WnpaSWqVAFzObl7M9pEAtkaTtrC+jQAnlRI64L6JAVOf+wBo9oUAEiKCVIVegQDChhMNI+p5Aon4nigZdnUDBwjNoTdWbQPtaFBL+YZpA3zTgNAgCmUCdWqCuabSXQNGD/tAteJZApEDRrWxMlUAzIwJtSjCUQGYlUav2IpNA0gp/4asjkkAmp27TrjGRQFrJ0gZOTJBAPCoIgsLljkDgpj4XkkmNQF96I3/cwotAofJ6LINQikDPAcqAdvGIQFivIAW1pIdAgxdGrUpphkCIfLskUD6FQEEjEyXqIoRAN40e1UgWg0BvHX4wpxeCQNFaIndKJoFA7NZUpIFBgEAeisjZSdF+QIQUKYgqNn1AKQnxzXewe0Cc+L/bEz96QENOEcfv4HhA+72KwwqVd0C/X6VmcVp2QLBXJ/U8MHVAoBvruZIVdEBrOnhlowlzQGgA+HWqC3JAg3YWp+0acUAHCGZpvDZwQBg9w8HevG5A9XVc1M8ibUBGDIRMH55rQOwINxiwLWpAIxRwAHTQaEC+iPniaoVnQKtYk/ahS2ZAPf3iGDMiZUBi26olRAhkQGBRzVYG/WJAdhimrLX/YUC4wEpemA9hQBPaSFH+K2BA3rf7MIGoXkBIIlTzgQ9dQO99yfLSi1tA5dQ42lccWkA=",
          "dtype": "f8"
         },
         "y": {
          "bdata": "AAAAAAAAAAAAAAAAAAAAAAAAAAAAAAAAAAAAAAAAAAAAAAAAAAAAAAAAAAAAAAAAAAAAAAAAAAAAAAAAAAAAAAAAAAAAAAAAAAAAAAAAAAAAAAAAAAAAAAAAAAAAAAAAAAAAAAAAAAAAAAAAAAAAAAAAAAAAAAAAAAAAAAAAAAAAAAAAAAAAAAAAAAAAAAAAAAAAAAAAAAAAAAAAAAAAAAAAAAAAAAAAZTCusdjbgkBNw8xUtWGWQKwTwnPqVKFA7GEXgPQmp0AlcFAzKsKoQHcJ1UnlD6lAyDXrqUBaqUABVxeUrp+pQAnRbYa44qlAE4QBVQohqkB9nbkmi12qQLLPBx93lapAoclmQiTMqkDTIhzUTf6qQKbaLazXLatAa7YZKI9Wq0ALIcrUuWCrQOV/gQZfaqtAnZZTzYZ1q0DT0Gq9HH6rQFVx4P85hqtAFgef7+qNq0BremE7UperQOKV/JMnnqtAobPmbpmkq0B3Vu1CyaqrQBKdDbirsKtAzkjp31m4q0CDrcCtkr2rQKZGRyF7wqtA7QqN4yHHq0C8i1aXisurQHSBnHm4z6tA9esPm67Tq0Dk/Hfjb9erQAeZW9rH3KtAvwrQxRvgq0B2GbGYN+OrQBd3DKQp5qtAZVz6YfToq0BobNDgmeurQBpzOYDM76tA5OujcSXyq0Ah3DrSUPSrQJ21VsVe9qtAxHye5MDjq0BNwZLe9M+rQGgExCQHvatA+fjuwhSrq0AXFyvEEZqrQJjYFPlxi6tAqnVQ8iJ8q0DHEaa4km2rQFjk50rEX6tAGKjPB65Sq0DUSNZaRkarQBHK9B/vO6tAsT8638cwq0DBMvA4JSarQJGduq2bI6tAogd34hImq0DzOh5/LiirQIlsFCgpKqtAFItZMl0tq0AMrG89Ni+rQN2hZH3WMKtAoOjho10yq0B3RYU2nTOrQJ8BbB6zNKtAGQM4PKY0q0CpbZWw/zKrQGDH02lxL6tAzRCoEYYoq0CCEOs54iGrQFYU5H2VHKtAh4axnYcNq0DnKRhhqAOrQAZ4YiCW+6pAGLFE9jbGqkA=",
          "dtype": "f8"
         }
        },
        {
         "mode": "lines",
         "name": "source_city_Chennai",
         "type": "scatter",
         "x": {
          "bdata": "U2Z8oiRm1EBIAGl1AlbTQLHfTbAOVNJA4NicI4xf0UDoi557x3fQQHIR2nktOM9ALQSSj7GXzUBdQtzD6QzMQF6dH420lspAtZRYeP8zyUB6ZdBfxuPHQLZYUawSpcZA/2JMoPp2xUAfcWusoFjEQCmnEs0yScNAmGVZ8OlHwkBOHApkCVTBQOnXPUvebMBAzhJcNn4jv0Bppbg9FoS9QC9LagJU+rtAOYetuhaFukCKXVWpTCO5QMu+B1Xy07dAhEDwyRGWtkD7j13lwWi1QJdTxaolS7RAjxOxoWs8s0AHTB08zTuyQO/72USOSLFAzuOBVfxhsEC8bkan3A6vQHqZc+mHcK1Ay6U/kcrnq0DCrj2UhHOqQG3CnuqkEqlA5FHzxijEp0Cr/1vYGoemQE6WnpaSWqVAFzObl7M9pEAtkaTtrC+jQAnlRI64L6JAVOf+wBo9oUAEiKCVIVegQDChhMNI+p5Aon4nigZdnUDBwjNoTdWbQPtaFBL+YZpA3zTgNAgCmUCdWqCuabSXQNGD/tAteJZApEDRrWxMlUAzIwJtSjCUQGYlUav2IpNA0gp/4asjkkAmp27TrjGRQFrJ0gZOTJBAPCoIgsLljkDgpj4XkkmNQF96I3/cwotAofJ6LINQikDPAcqAdvGIQFivIAW1pIdAgxdGrUpphkCIfLskUD6FQEEjEyXqIoRAN40e1UgWg0BvHX4wpxeCQNFaIndKJoFA7NZUpIFBgEAeisjZSdF+QIQUKYgqNn1AKQnxzXewe0Cc+L/bEz96QENOEcfv4HhA+72KwwqVd0C/X6VmcVp2QLBXJ/U8MHVAoBvruZIVdEBrOnhlowlzQGgA+HWqC3JAg3YWp+0acUAHCGZpvDZwQBg9w8HevG5A9XVc1M8ibUBGDIRMH55rQOwINxiwLWpAIxRwAHTQaEC+iPniaoVnQKtYk/ahS2ZAPf3iGDMiZUBi26olRAhkQGBRzVYG/WJAdhimrLX/YUC4wEpemA9hQBPaSFH+K2BA3rf7MIGoXkBIIlTzgQ9dQO99yfLSi1tA5dQ42lccWkA=",
          "dtype": "f8"
         },
         "y": {
          "bdata": "AAAAAAAAAAAAAAAAAAAAAAAAAAAAAAAAAAAAAAAAAAAAAAAAAAAAAAAAAAAAAAAAAAAAAAAAAAAAAAAAAAAAAAAAAAAAAAAAAAAAAAAAAAAAAAAAAAAAAAAAAAAAAAAAAAAAAAAAAAAAAAAAAAAAAAAAAAAAAAAAAAAAAAAAAAAAAAAAAAAAAAAAAAAAAAAAAAAAAAAAAAAAAAAAAAAAAAAAAAAAAAAAAAAAAAAAAAAAAAAAAAAAAAAAAAAAAAAAAAAAAAAAAAAAAAAAAAAAAAAAAAAAAAAAAAAAAAAAAAAAAAAAAAAAAAAAAAAAAAAAAAAAAAAAAAAAAAAAAAAAAAAAAAAAAAAAAAAAAAAAAAAAAAAAAAAAAAAAAAAAAAAAAAAAAAAAAAAAAAAAAAAAAAAAAAAAAAAAAAAAAAAAAAAAAAAAAAAAAAAAAAAAAAAAAAAAAAAAAAAAAAAAAAAAAAAAAAAAAAAAAAAAAAAAAAAAAAAAAAAAAAAAAAAAAAAAAAAAAAAAAAAAAAAAAAAAAAAAAAAAAAAAAAAAAAAAAAAAAAAAAAAAAAAAAAAAAAAAAAAAAAAAAAAAAAAAAAAAAAAAAAAAAAAAAAAAAAAAAAAAAAAAAAAAAAAAAAAAAAAAAAAAAAAAAAAAAAAAAAAAAAAAAAAAAAAAAAAAAAAAAAAAAAAAAAAAAAAAAAAAAAAAAAAAAAAAAAAAAAAAAAAAAAAAAAAAAAAAAAAAAAAAAAAAAAAAAAAAAAAAAAAAAAAAAAAAAAAAAAAAAAAAAAAAAAAAAAAAAAAAAAAAAAAAAAAAAAAAAAAAAAAAAAAAAAAAAAAAAAAAAAAAAAAAAAAAAAAAAAAAAAAAAAAAAAAAAAAAAAAAAAAAAAAAAAAAAAAAAAAAAAAAAAAAAAAAAAAAAAAAAAAAAAAAAAAAAAAAAAAAAAAAAAAAAAAAAAAAAAAAAAAAAAAAAAAAAAAAAAAAAAAAAAAAAAAAAAAAAAAAAAAAAAAAAAAAAAAAAAAAAAAAAAAAAAAAAAAAAAAAAAAAAAAAAAAAAAAAAAAAAAAAAAA=",
          "dtype": "f8"
         }
        },
        {
         "mode": "lines",
         "name": "source_city_Delhi",
         "type": "scatter",
         "x": {
          "bdata": "U2Z8oiRm1EBIAGl1AlbTQLHfTbAOVNJA4NicI4xf0UDoi557x3fQQHIR2nktOM9ALQSSj7GXzUBdQtzD6QzMQF6dH420lspAtZRYeP8zyUB6ZdBfxuPHQLZYUawSpcZA/2JMoPp2xUAfcWusoFjEQCmnEs0yScNAmGVZ8OlHwkBOHApkCVTBQOnXPUvebMBAzhJcNn4jv0Bppbg9FoS9QC9LagJU+rtAOYetuhaFukCKXVWpTCO5QMu+B1Xy07dAhEDwyRGWtkD7j13lwWi1QJdTxaolS7RAjxOxoWs8s0AHTB08zTuyQO/72USOSLFAzuOBVfxhsEC8bkan3A6vQHqZc+mHcK1Ay6U/kcrnq0DCrj2UhHOqQG3CnuqkEqlA5FHzxijEp0Cr/1vYGoemQE6WnpaSWqVAFzObl7M9pEAtkaTtrC+jQAnlRI64L6JAVOf+wBo9oUAEiKCVIVegQDChhMNI+p5Aon4nigZdnUDBwjNoTdWbQPtaFBL+YZpA3zTgNAgCmUCdWqCuabSXQNGD/tAteJZApEDRrWxMlUAzIwJtSjCUQGYlUav2IpNA0gp/4asjkkAmp27TrjGRQFrJ0gZOTJBAPCoIgsLljkDgpj4XkkmNQF96I3/cwotAofJ6LINQikDPAcqAdvGIQFivIAW1pIdAgxdGrUpphkCIfLskUD6FQEEjEyXqIoRAN40e1UgWg0BvHX4wpxeCQNFaIndKJoFA7NZUpIFBgEAeisjZSdF+QIQUKYgqNn1AKQnxzXewe0Cc+L/bEz96QENOEcfv4HhA+72KwwqVd0C/X6VmcVp2QLBXJ/U8MHVAoBvruZIVdEBrOnhlowlzQGgA+HWqC3JAg3YWp+0acUAHCGZpvDZwQBg9w8HevG5A9XVc1M8ibUBGDIRMH55rQOwINxiwLWpAIxRwAHTQaEC+iPniaoVnQKtYk/ahS2ZAPf3iGDMiZUBi26olRAhkQGBRzVYG/WJAdhimrLX/YUC4wEpemA9hQBPaSFH+K2BA3rf7MIGoXkBIIlTzgQ9dQO99yfLSi1tA5dQ42lccWkA=",
          "dtype": "f8"
         },
         "y": {
          "bdata": "AAAAAAAAAAAAAAAAAAAAAAAAAAAAAAAAAAAAAAAAAAAAAAAAAAAAAAAAAAAAAAAAAAAAAAAAAAAAAAAAAAAAAAAAAAAAAAAAAAAAAAAAAAAAAAAAAAAAAAAAAAAAAAAAAAAAAAAAAAAAAAAAAAAAAAAAAAAAAAAAAAAAAAAAAAAAAAAAAAAAAAAAAAAAAAAAAAAAAAAAAAAAAAAAAAAAAAAAAAAAAAAAAAAAAAAAAAAAAAAAAAAAAAAAAAAAAAAAAAAAAAAAAAAAAAAAAAAAAAAAAAAAAAAAAAAAAAAAAAAAAAAAAAAAAAAAAAAAAAAAAAAAAAAAAAAAAAAAAAAAAAAAAAAAAAAAAAAAAAAAAAAAAAAAAAAAAAAAAAAAAAAAAAAAAAAAAAAAAAAAAAAAAAAAAAAAAAAAAAAAAAAAAAAAAAAAAAAAAAAAAAAAAAAAAAAAAAAAAAAAAAAAAAAAAAAAAAAAAAAAAAAAAAAAAAAAAAAAAAAAAAAAAAAAAAAAAAAAAAAAAAAAAAAAAAAAAAAAAAAAAAAAAAAAAAAAAAAAAAAAAAAAAAAAAAAAAACAAAAAAAAAAIAAAAAAAAAAgAAAAAAAAACAAAAAAAAAAIAAAAAAAAAAgAAAAAAAAACAAAAAAAAAAIAAAAAAAAAAgAAAAAAAAACAAAAAAAAAAIAAAAAAAAAAgAAAAAAAAACAAAAAAAAAAIAAAAAAAAAAgAAAAAAAAACAAAAAAAAAAIAAAAAAAAAAgAAAAAAAAACAAAAAAAAAAIAAAAAAAAAAgAAAAAAAAACAAAAAAAAAAIAAAAAAAAAAgAAAAAAAAACAAAAAAAAAAIAAAAAAAAAAgAAAAAAAAACAAAAAAAAAAIAAAAAAAAAAgAAAAAAAAACAAAAAAAAAAIAAAAAAAAAAgAAAAAAAAACAAAAAAAAAAIAAAAAAAAAAgAAAAAAAAACAAAAAAAAAAIAAAAAAAAAAgAAAAAAAAACAAAAAAAAAAIAAAAAAAAAAgAAAAAAAAACAWYw0YwsPOsDzGcrxW6JTwM9nR9T7XmLAay1jqC+HasA=",
          "dtype": "f8"
         }
        },
        {
         "mode": "lines",
         "name": "source_city_Hyderabad",
         "type": "scatter",
         "x": {
          "bdata": "U2Z8oiRm1EBIAGl1AlbTQLHfTbAOVNJA4NicI4xf0UDoi557x3fQQHIR2nktOM9ALQSSj7GXzUBdQtzD6QzMQF6dH420lspAtZRYeP8zyUB6ZdBfxuPHQLZYUawSpcZA/2JMoPp2xUAfcWusoFjEQCmnEs0yScNAmGVZ8OlHwkBOHApkCVTBQOnXPUvebMBAzhJcNn4jv0Bppbg9FoS9QC9LagJU+rtAOYetuhaFukCKXVWpTCO5QMu+B1Xy07dAhEDwyRGWtkD7j13lwWi1QJdTxaolS7RAjxOxoWs8s0AHTB08zTuyQO/72USOSLFAzuOBVfxhsEC8bkan3A6vQHqZc+mHcK1Ay6U/kcrnq0DCrj2UhHOqQG3CnuqkEqlA5FHzxijEp0Cr/1vYGoemQE6WnpaSWqVAFzObl7M9pEAtkaTtrC+jQAnlRI64L6JAVOf+wBo9oUAEiKCVIVegQDChhMNI+p5Aon4nigZdnUDBwjNoTdWbQPtaFBL+YZpA3zTgNAgCmUCdWqCuabSXQNGD/tAteJZApEDRrWxMlUAzIwJtSjCUQGYlUav2IpNA0gp/4asjkkAmp27TrjGRQFrJ0gZOTJBAPCoIgsLljkDgpj4XkkmNQF96I3/cwotAofJ6LINQikDPAcqAdvGIQFivIAW1pIdAgxdGrUpphkCIfLskUD6FQEEjEyXqIoRAN40e1UgWg0BvHX4wpxeCQNFaIndKJoFA7NZUpIFBgEAeisjZSdF+QIQUKYgqNn1AKQnxzXewe0Cc+L/bEz96QENOEcfv4HhA+72KwwqVd0C/X6VmcVp2QLBXJ/U8MHVAoBvruZIVdEBrOnhlowlzQGgA+HWqC3JAg3YWp+0acUAHCGZpvDZwQBg9w8HevG5A9XVc1M8ibUBGDIRMH55rQOwINxiwLWpAIxRwAHTQaEC+iPniaoVnQKtYk/ahS2ZAPf3iGDMiZUBi26olRAhkQGBRzVYG/WJAdhimrLX/YUC4wEpemA9hQBPaSFH+K2BA3rf7MIGoXkBIIlTzgQ9dQO99yfLSi1tA5dQ42lccWkA=",
          "dtype": "f8"
         },
         "y": {
          "bdata": "AAAAAAAAAAAAAAAAAAAAAAAAAAAAAAAAAAAAAAAAAAAAAAAAAAAAAAAAAAAAAAAAAAAAAAAAAAAAAAAAAAAAAAAAAAAAAAAAAAAAAAAAAAAAAAAAAAAAAAAAAAAAAAAAAAAAAAAAAAAAAAAAAAAAAAAAAAAAAAAAAAAAAAAAAAAAAAAAAAAAAAAAAAAAAAAAAAAAAAAAAAAAAAAAAAAAAAAAAAAAAAAAAAAAAAAAAAAAAAAAAAAAAAAAAAAAAAAAAAAAAAAAAAAAAAAAAAAAAAAAAAAAAAAAAAAAAAAAAAAAAAAAAAAAAAAAAAAAAAAAAAAAAAAAAAAAAAAAAAAAAAAAAAAAAAAAAAAAAAAAAAAAAAAAAAAAAAAAAAAAAAAAAAAAAAAAAAAAAAAAAAAAAAAAAAAAAAAAAAAAAAAAAAAAAAAAAAAAAAAAAAAAAAAAAAAAAAAAAAAAAAAAAAAAAAAAAAAAAAAAAAAAAAAAAAAAAAAAAAAAAAAAAAAAAAAAAAAAAAAAAAAAAAAAAAAAAAAAAAAAAAAAAAAAAAAAAAAAAAAAAAAAAAAAAAAAAAAAAAAAAAAAAAAAAAAAAAAAAAAAAAAAAAAAAAAAAAAAAIAAAAAAAAAAgAAAAAAAAACAAAAAAAAAAIAAAAAAAAAAgAAAAAAAAACAAAAAAAAAAIAAAAAAAAAAgAAAAAAAAACAAAAAAAAAAIAAAAAAAAAAgAAAAAAAAACAAAAAAAAAAIAAAAAAAAAAgAAAAAAAAACAAAAAAAAAAIAAAAAAAAAAgAAAAAAAAACAAAAAAAAAAIAAAAAAAAAAgAAAAAAAAACAAAAAAAAAAIAAAAAAAAAAgAAAAAAAAACAAAAAAAAAAIAAAAAAAAAAgAAAAAAAAACAAAAAAAAAAIAAAAAAAAAAgAAAAAAAAACAAAAAAAAAAIAAAAAAAAAAgAAAAAAAAACAAAAAAAAAAIAAAAAAAAAAgAAAAAAAAACAAAAAAAAAAIAAAAAAAAAAgAAAAAAAAACAAAAAAAAAAIAAAAAAAAAAgJ1jI5fltVTAmCu4wPNwZMA=",
          "dtype": "f8"
         }
        },
        {
         "mode": "lines",
         "name": "source_city_Kolkata",
         "type": "scatter",
         "x": {
          "bdata": "U2Z8oiRm1EBIAGl1AlbTQLHfTbAOVNJA4NicI4xf0UDoi557x3fQQHIR2nktOM9ALQSSj7GXzUBdQtzD6QzMQF6dH420lspAtZRYeP8zyUB6ZdBfxuPHQLZYUawSpcZA/2JMoPp2xUAfcWusoFjEQCmnEs0yScNAmGVZ8OlHwkBOHApkCVTBQOnXPUvebMBAzhJcNn4jv0Bppbg9FoS9QC9LagJU+rtAOYetuhaFukCKXVWpTCO5QMu+B1Xy07dAhEDwyRGWtkD7j13lwWi1QJdTxaolS7RAjxOxoWs8s0AHTB08zTuyQO/72USOSLFAzuOBVfxhsEC8bkan3A6vQHqZc+mHcK1Ay6U/kcrnq0DCrj2UhHOqQG3CnuqkEqlA5FHzxijEp0Cr/1vYGoemQE6WnpaSWqVAFzObl7M9pEAtkaTtrC+jQAnlRI64L6JAVOf+wBo9oUAEiKCVIVegQDChhMNI+p5Aon4nigZdnUDBwjNoTdWbQPtaFBL+YZpA3zTgNAgCmUCdWqCuabSXQNGD/tAteJZApEDRrWxMlUAzIwJtSjCUQGYlUav2IpNA0gp/4asjkkAmp27TrjGRQFrJ0gZOTJBAPCoIgsLljkDgpj4XkkmNQF96I3/cwotAofJ6LINQikDPAcqAdvGIQFivIAW1pIdAgxdGrUpphkCIfLskUD6FQEEjEyXqIoRAN40e1UgWg0BvHX4wpxeCQNFaIndKJoFA7NZUpIFBgEAeisjZSdF+QIQUKYgqNn1AKQnxzXewe0Cc+L/bEz96QENOEcfv4HhA+72KwwqVd0C/X6VmcVp2QLBXJ/U8MHVAoBvruZIVdEBrOnhlowlzQGgA+HWqC3JAg3YWp+0acUAHCGZpvDZwQBg9w8HevG5A9XVc1M8ibUBGDIRMH55rQOwINxiwLWpAIxRwAHTQaEC+iPniaoVnQKtYk/ahS2ZAPf3iGDMiZUBi26olRAhkQGBRzVYG/WJAdhimrLX/YUC4wEpemA9hQBPaSFH+K2BA3rf7MIGoXkBIIlTzgQ9dQO99yfLSi1tA5dQ42lccWkA=",
          "dtype": "f8"
         },
         "y": {
          "bdata": "AAAAAAAAAAAAAAAAAAAAAAAAAAAAAAAAAAAAAAAAAAAAAAAAAAAAAAAAAAAAAAAAAAAAAAAAAAAAAAAAAAAAAAAAAAAAAAAAAAAAAAAAAAAAAAAAAAAAAAAAAAAAAAAAAAAAAAAAAAAAAAAAAAAAAAAAAAAAAAAAAAAAAAAAAAAAAAAAAAAAAAAAAAAAAAAAAAAAAAAAAAAAAAAAAAAAAAAAAAAAAAAAAAAAAAAAAAAAAAAAAAAAAAAAAAAAAAAAAAAAAAAAAAAAAAAAAAAAAAAAAAAAAAAAAAAAAAAAAAAAAAAAAAAAAAAAAAAAAAAAAAAAAAAAAAAAAAAAAAAAAAAAAAAAAAAAAAAAAAAAAAAAAAAAAAAAAAAAAAAAAAAAAAAAAAAAAAAAAAAAAAAAAAAAAAAAAAAAAAAAAAAAAAAAAAAAAAAAAAAAAAAAAAAAAAAAAAAAAAAAAAAAAAAAAAAAAAAAAAAAAAAAAAAAAAAAAAAAAAAAAAAAAAAAAAAAAAAAAAAAAAAAAAAAAAAAAAAAAAAAAAAAAAAAAAAAAAAAAAAAAAAAAAAAAAAAAAAAAAAAAAAAAAAAAAAAAAAAAAAAAAAAAAAAAAAAAAAAAAAAAAAAAAAAAAAAAAAAAAAAAAAAAAAAAAAAAAAAAAAAAAAAAAAAAAAAAAAAAAAAAAAAAAAAAAAAAAAAAAAAAAAAAAAAAAAAAAAAAAAAAAAAAAAAAAAAAAAAAAAAAAAAAAAAAAAAAAAAAAAAAAAAAAAAAAAAAAAAAAAAAAAAAAAAAAAAAAAAAAAAAAAAAAAAAAAAAAAAAAAAAAAAAAAAAAAAAAAAAAAAAAAAAAAAAAAAACjXgcms/FdAqm3yAd0Ta0A9z53Jw690QKjSdAk4dntAqT9IHv3xgECfdyuvOv2DQBFHxofI34ZA8KRvhtebiUBu82xMRjOMQJQ1iYqap45ANzQtlBp9kEA8n9UIEpeRQHm2ufkAoJJASpOgu4Kck0BUuLSPi4uUQB6BinGMbpVAn5sMFf4slkDiNcbmjsWWQONCIxe+DpdA3GjZYrJLl0A=",
          "dtype": "f8"
         }
        },
        {
         "mode": "lines",
         "name": "source_city_Mumbai",
         "type": "scatter",
         "x": {
          "bdata": "U2Z8oiRm1EBIAGl1AlbTQLHfTbAOVNJA4NicI4xf0UDoi557x3fQQHIR2nktOM9ALQSSj7GXzUBdQtzD6QzMQF6dH420lspAtZRYeP8zyUB6ZdBfxuPHQLZYUawSpcZA/2JMoPp2xUAfcWusoFjEQCmnEs0yScNAmGVZ8OlHwkBOHApkCVTBQOnXPUvebMBAzhJcNn4jv0Bppbg9FoS9QC9LagJU+rtAOYetuhaFukCKXVWpTCO5QMu+B1Xy07dAhEDwyRGWtkD7j13lwWi1QJdTxaolS7RAjxOxoWs8s0AHTB08zTuyQO/72USOSLFAzuOBVfxhsEC8bkan3A6vQHqZc+mHcK1Ay6U/kcrnq0DCrj2UhHOqQG3CnuqkEqlA5FHzxijEp0Cr/1vYGoemQE6WnpaSWqVAFzObl7M9pEAtkaTtrC+jQAnlRI64L6JAVOf+wBo9oUAEiKCVIVegQDChhMNI+p5Aon4nigZdnUDBwjNoTdWbQPtaFBL+YZpA3zTgNAgCmUCdWqCuabSXQNGD/tAteJZApEDRrWxMlUAzIwJtSjCUQGYlUav2IpNA0gp/4asjkkAmp27TrjGRQFrJ0gZOTJBAPCoIgsLljkDgpj4XkkmNQF96I3/cwotAofJ6LINQikDPAcqAdvGIQFivIAW1pIdAgxdGrUpphkCIfLskUD6FQEEjEyXqIoRAN40e1UgWg0BvHX4wpxeCQNFaIndKJoFA7NZUpIFBgEAeisjZSdF+QIQUKYgqNn1AKQnxzXewe0Cc+L/bEz96QENOEcfv4HhA+72KwwqVd0C/X6VmcVp2QLBXJ/U8MHVAoBvruZIVdEBrOnhlowlzQGgA+HWqC3JAg3YWp+0acUAHCGZpvDZwQBg9w8HevG5A9XVc1M8ibUBGDIRMH55rQOwINxiwLWpAIxRwAHTQaEC+iPniaoVnQKtYk/ahS2ZAPf3iGDMiZUBi26olRAhkQGBRzVYG/WJAdhimrLX/YUC4wEpemA9hQBPaSFH+K2BA3rf7MIGoXkBIIlTzgQ9dQO99yfLSi1tA5dQ42lccWkA=",
          "dtype": "f8"
         },
         "y": {
          "bdata": "AAAAAAAAAAAAAAAAAAAAAAAAAAAAAAAAAAAAAAAAAAAAAAAAAAAAAAAAAAAAAAAAAAAAAAAAAAAAAAAAAAAAAAAAAAAAAAAAAAAAAAAAAAAAAAAAAAAAAAAAAAAAAAAAAAAAAAAAAAAAAAAAAAAAAAAAAAAAAAAAAAAAAAAAAAAAAAAAAAAAAAAAAAAAAAAAAAAAAAAAAAAAAAAAAAAAAAAAAAAAAAAAAAAAAAAAAAAAAAAAAAAAAAAAAAAAAAAAAAAAAAAAAAAAAAAAAAAAAAAAAAAAAAAAAAAAAAAAAAAAAAAAAAAAAAAAAAAAAAAAAAAAAAAAAAAAAAAAAAAAAAAAAAAAAAAAAAAAAAAAAAAAAAAAAAAAAAAAAAAAAAAAAAAAAAAAAAAAAAAAAAAAAAAAAAAAAAAAAAAAAAAAAAAAAAAAAAAAAAAAAAAAAAAAAAAAAAAAAAAAAAAAAAAAAAAAAAAAAAAAAAAAAAAAAAAAAAAAAAAAAAAAAAAAAAAAAAAAAAAAAAAAAAAAAAAAAAAAAAAAAAAAAAAAAAAAAAAAAAAAAAAAAAAAAAAAAAAAAAAAAAAAAAAAAAAAAAAAAAAAAAAAAAAAAAAAAAAAAAAAAAAAAAAAAAAAAAAAAAAAAAAAAAAAAAAAAAAAAAAAAAAAAAAAAAAAAAAAAAAAAAAAAAAAAAAAAAAAAAAAAAAAAAAAAAAAAAAAAAAAAAAAAAAAAAAAAAAAAAAAAAAAAAAAAAAAAAAAAAAAAAAAAAAAAAAAAAAAAAAAAAAAAAAAAAAAAAAAAAAAAAAAAAAAAAAAAAAAAAAAAAAAAAAAAAAAAAAAAAAAAAAAAAAAAAAAAAAAAAAAAAAAAAAAAAAAAAAAAAAAAAAAAAAAAAAAAAAAAAAAAAAAAAAAAAAAAAAAAAAAAAAAAAAAAAAAAAAAAAAAAAAAAAAAAAAAAAAAAAAAAAAAAAAAAAAAAAAAAAAAAAAAAAAAAAAAAAAAAAAAAAAAAAAAAAAAAAAAAAAAAAAAAAAAAAAAAAAAAAAAAAAAAAAAAAAAAAAAAAAAAAAAAAA=",
          "dtype": "f8"
         }
        },
        {
         "mode": "lines",
         "name": "departure_time_Early_Morning",
         "type": "scatter",
         "x": {
          "bdata": "U2Z8oiRm1EBIAGl1AlbTQLHfTbAOVNJA4NicI4xf0UDoi557x3fQQHIR2nktOM9ALQSSj7GXzUBdQtzD6QzMQF6dH420lspAtZRYeP8zyUB6ZdBfxuPHQLZYUawSpcZA/2JMoPp2xUAfcWusoFjEQCmnEs0yScNAmGVZ8OlHwkBOHApkCVTBQOnXPUvebMBAzhJcNn4jv0Bppbg9FoS9QC9LagJU+rtAOYetuhaFukCKXVWpTCO5QMu+B1Xy07dAhEDwyRGWtkD7j13lwWi1QJdTxaolS7RAjxOxoWs8s0AHTB08zTuyQO/72USOSLFAzuOBVfxhsEC8bkan3A6vQHqZc+mHcK1Ay6U/kcrnq0DCrj2UhHOqQG3CnuqkEqlA5FHzxijEp0Cr/1vYGoemQE6WnpaSWqVAFzObl7M9pEAtkaTtrC+jQAnlRI64L6JAVOf+wBo9oUAEiKCVIVegQDChhMNI+p5Aon4nigZdnUDBwjNoTdWbQPtaFBL+YZpA3zTgNAgCmUCdWqCuabSXQNGD/tAteJZApEDRrWxMlUAzIwJtSjCUQGYlUav2IpNA0gp/4asjkkAmp27TrjGRQFrJ0gZOTJBAPCoIgsLljkDgpj4XkkmNQF96I3/cwotAofJ6LINQikDPAcqAdvGIQFivIAW1pIdAgxdGrUpphkCIfLskUD6FQEEjEyXqIoRAN40e1UgWg0BvHX4wpxeCQNFaIndKJoFA7NZUpIFBgEAeisjZSdF+QIQUKYgqNn1AKQnxzXewe0Cc+L/bEz96QENOEcfv4HhA+72KwwqVd0C/X6VmcVp2QLBXJ/U8MHVAoBvruZIVdEBrOnhlowlzQGgA+HWqC3JAg3YWp+0acUAHCGZpvDZwQBg9w8HevG5A9XVc1M8ibUBGDIRMH55rQOwINxiwLWpAIxRwAHTQaEC+iPniaoVnQKtYk/ahS2ZAPf3iGDMiZUBi26olRAhkQGBRzVYG/WJAdhimrLX/YUC4wEpemA9hQBPaSFH+K2BA3rf7MIGoXkBIIlTzgQ9dQO99yfLSi1tA5dQ42lccWkA=",
          "dtype": "f8"
         },
         "y": {
          "bdata": "AAAAAAAAAAAAAAAAAAAAAAAAAAAAAAAAAAAAAAAAAAAAAAAAAAAAAAAAAAAAAAAAAAAAAAAAAAAAAAAAAAAAAAAAAAAAAAAAAAAAAAAAAAAAAAAAAAAAAAAAAAAAAAAAAAAAAAAAAAAAAAAAAAAAAAAAAAAAAAAAAAAAAAAAAAAAAAAAAAAAAAAAAAAAAAAAAAAAAAAAAAAAAAAAAAAAAAAAAAAAAAAAAAAAAAAAAAAAAAAAAAAAAAAAAAAAAAAAAAAAAAAAAAAAAAAAAAAAAAAAAAAAAAAAAAAAAAAAAAAAAAAAAAAAAAAAAAAAAAAAAAAAAAAAAAAAAAAAAAAAAAAAAAAAAAAAAAAAAAAAAAAAAAAAAAAAAAAAAAAAAAAAAAAAAAAAAAAAAAAAAAAAAAAAAAAAAAAAAAAAAAAAAAAAAAAAAAAAAAAAAAAAAAAAAAAAAAAAAAAAAAAAAAAAAAAAAAAAAAAAAAAAAAAAAAAAAAAAAAAAAAAAAAAAAAAAAAAAAAAAAAAAAAAAAAAAAAAAAAAAAAAAAAAAAAAAAAAAAAAAAAAAAAAAAAAAAAAAAAAAAAAAAAAAAAAAAAAAAAAAAAAAAAAAAAAAAAAAAAAAAAAAAAAAAAAAAAAAAAAAAAAAAAAAAAAAAAAAAAAAAAAAAAAAAAAAAAAAAAAAAAAAAAAAAAAAAAAAAAAAAAAAAAAAAAAAAAAAAAAAAAAAAAAAAAAAAAAAAAAAAAAAAAAAAAAAAAAAAAAAAAAAAAAAAAAAAAAAAAAAAAAAAAAAAAAAAAAAAAAAAAAAAAAAAAAAAAAAAAAAAAAAAAAAAAAAAAAAAAAAAAAAAAAAAAAAAAAAAAAAAAAAAAAAAAAAAAAAAAAAAAAAAAAAAAAAAAAAAAAAAAAAAAAAAAAAAAAAAAAAAAAAAAAAAAAAAAAAAAAAAAAAAAAAAAAAAAAAAAAAAAAAAAAAAAAAAAAAAAAAAAAAAAAAAAAAAAAAAAAAAAAAAAAAAAAAAAAAAAAAAAAAAAAAAAAAAAAAAAAAAAAAAAAAAAAAAAAAAAAAAAAAAAA=",
          "dtype": "f8"
         }
        },
        {
         "mode": "lines",
         "name": "departure_time_Evening",
         "type": "scatter",
         "x": {
          "bdata": "U2Z8oiRm1EBIAGl1AlbTQLHfTbAOVNJA4NicI4xf0UDoi557x3fQQHIR2nktOM9ALQSSj7GXzUBdQtzD6QzMQF6dH420lspAtZRYeP8zyUB6ZdBfxuPHQLZYUawSpcZA/2JMoPp2xUAfcWusoFjEQCmnEs0yScNAmGVZ8OlHwkBOHApkCVTBQOnXPUvebMBAzhJcNn4jv0Bppbg9FoS9QC9LagJU+rtAOYetuhaFukCKXVWpTCO5QMu+B1Xy07dAhEDwyRGWtkD7j13lwWi1QJdTxaolS7RAjxOxoWs8s0AHTB08zTuyQO/72USOSLFAzuOBVfxhsEC8bkan3A6vQHqZc+mHcK1Ay6U/kcrnq0DCrj2UhHOqQG3CnuqkEqlA5FHzxijEp0Cr/1vYGoemQE6WnpaSWqVAFzObl7M9pEAtkaTtrC+jQAnlRI64L6JAVOf+wBo9oUAEiKCVIVegQDChhMNI+p5Aon4nigZdnUDBwjNoTdWbQPtaFBL+YZpA3zTgNAgCmUCdWqCuabSXQNGD/tAteJZApEDRrWxMlUAzIwJtSjCUQGYlUav2IpNA0gp/4asjkkAmp27TrjGRQFrJ0gZOTJBAPCoIgsLljkDgpj4XkkmNQF96I3/cwotAofJ6LINQikDPAcqAdvGIQFivIAW1pIdAgxdGrUpphkCIfLskUD6FQEEjEyXqIoRAN40e1UgWg0BvHX4wpxeCQNFaIndKJoFA7NZUpIFBgEAeisjZSdF+QIQUKYgqNn1AKQnxzXewe0Cc+L/bEz96QENOEcfv4HhA+72KwwqVd0C/X6VmcVp2QLBXJ/U8MHVAoBvruZIVdEBrOnhlowlzQGgA+HWqC3JAg3YWp+0acUAHCGZpvDZwQBg9w8HevG5A9XVc1M8ibUBGDIRMH55rQOwINxiwLWpAIxRwAHTQaEC+iPniaoVnQKtYk/ahS2ZAPf3iGDMiZUBi26olRAhkQGBRzVYG/WJAdhimrLX/YUC4wEpemA9hQBPaSFH+K2BA3rf7MIGoXkBIIlTzgQ9dQO99yfLSi1tA5dQ42lccWkA=",
          "dtype": "f8"
         },
         "y": {
          "bdata": "AAAAAAAAAAAAAAAAAAAAAAAAAAAAAAAAAAAAAAAAAAAAAAAAAAAAAAAAAAAAAAAAAAAAAAAAAAAAAAAAAAAAAAAAAAAAAAAAAAAAAAAAAAAAAAAAAAAAAAAAAAAAAAAAAAAAAAAAAAAAAAAAAAAAAAAAAAAAAAAAAAAAAAAAAAAAAAAAAAAAAAAAAAAAAAAAAAAAAAAAAAAAAAAAAAAAAAAAAAAAAAAAAAAAAAAAAAAAAAAAAAAAAAAAAAAAAAAAAAAAAAAAAAAAAAAAAAAAAAAAAAAAAAAAAAAAAAAAAAAAAAAAAAAAAAAAAAAAAAAAAAAAAAAAAAAAAAAAAAAAAAAAAAAAAAAAAAAAAAAAAAAAAAAAAAAAAAAAAAAAAAAAAAAAAAAAAAAAAAAAAAAAAAAAAAAAAAAAAAAAAAAAAAAAAAAAAAAAAAAAAAAAAAAAAAAAAAAAAAAAAAAAAAAAAAAAAAAAAAAAAAAAAAAAAAAAAAAAAAAAAAAAAAAAAAAAAAAAAAAAAAAAAAAAAAAAAAAAAAAAAAAAAAAAAAAAAAAAAAAAAAAAAAAAAAAAAAAAAAAAAAAAAAAAAAAAAAAAAAAAAAAAAAAAAAAAAAAAAAAAAAAAAAAAAAAAAAAAAAAAAAAAAAAAAAAAAAAAAAAAAAAAAAAAAAAAAAAAAAAAAAAAAAAAAAAAAAAAAAAAAAAAAAAAAAAAAAAAAAAAAAAAAAAAAAAAAAAAAAAAAAAAAAAAAAAAAAAAAAAAAAAAAAAAAAAAAAAAAAAAAAAAAAAAAAAAAAAAAAAAAAAAAAAAAAAAAAAAAAAAAAAAAAAAAAAAAAAAAAAAAAAAAAAAAAAAAAAAAAAAAAAAAAAAAAAAAAAAAAAAAAAAAAAAAAAAAAAAAAAAAAAAAAAAAAAAAAAAAAAAAAAAAAAAAAAAAAAAAAAAAAAAAAAAAAAAAAAAAAAAAAAAAAAAAAAAAAAAAAAAAAAAAAAAAAAAAAAAAAAAAAAAAAAAAAAAAAAAAAAAAAAAAAAAAAAAAAAAAAAAAAAAAAAAAAAAAAAAAAAAAAAAAAA=",
          "dtype": "f8"
         }
        },
        {
         "mode": "lines",
         "name": "departure_time_Late_Night",
         "type": "scatter",
         "x": {
          "bdata": "U2Z8oiRm1EBIAGl1AlbTQLHfTbAOVNJA4NicI4xf0UDoi557x3fQQHIR2nktOM9ALQSSj7GXzUBdQtzD6QzMQF6dH420lspAtZRYeP8zyUB6ZdBfxuPHQLZYUawSpcZA/2JMoPp2xUAfcWusoFjEQCmnEs0yScNAmGVZ8OlHwkBOHApkCVTBQOnXPUvebMBAzhJcNn4jv0Bppbg9FoS9QC9LagJU+rtAOYetuhaFukCKXVWpTCO5QMu+B1Xy07dAhEDwyRGWtkD7j13lwWi1QJdTxaolS7RAjxOxoWs8s0AHTB08zTuyQO/72USOSLFAzuOBVfxhsEC8bkan3A6vQHqZc+mHcK1Ay6U/kcrnq0DCrj2UhHOqQG3CnuqkEqlA5FHzxijEp0Cr/1vYGoemQE6WnpaSWqVAFzObl7M9pEAtkaTtrC+jQAnlRI64L6JAVOf+wBo9oUAEiKCVIVegQDChhMNI+p5Aon4nigZdnUDBwjNoTdWbQPtaFBL+YZpA3zTgNAgCmUCdWqCuabSXQNGD/tAteJZApEDRrWxMlUAzIwJtSjCUQGYlUav2IpNA0gp/4asjkkAmp27TrjGRQFrJ0gZOTJBAPCoIgsLljkDgpj4XkkmNQF96I3/cwotAofJ6LINQikDPAcqAdvGIQFivIAW1pIdAgxdGrUpphkCIfLskUD6FQEEjEyXqIoRAN40e1UgWg0BvHX4wpxeCQNFaIndKJoFA7NZUpIFBgEAeisjZSdF+QIQUKYgqNn1AKQnxzXewe0Cc+L/bEz96QENOEcfv4HhA+72KwwqVd0C/X6VmcVp2QLBXJ/U8MHVAoBvruZIVdEBrOnhlowlzQGgA+HWqC3JAg3YWp+0acUAHCGZpvDZwQBg9w8HevG5A9XVc1M8ibUBGDIRMH55rQOwINxiwLWpAIxRwAHTQaEC+iPniaoVnQKtYk/ahS2ZAPf3iGDMiZUBi26olRAhkQGBRzVYG/WJAdhimrLX/YUC4wEpemA9hQBPaSFH+K2BA3rf7MIGoXkBIIlTzgQ9dQO99yfLSi1tA5dQ42lccWkA=",
          "dtype": "f8"
         },
         "y": {
          "bdata": "AAAAAAAAAAAAAAAAAAAAAAAAAAAAAAAAAAAAAAAAAAAAAAAAAAAAAAAAAAAAAAAAAAAAAAAAAAAAAAAAAAAAAAAAAAAAAAAAAAAAAAAAAAAAAAAAAAAAAAAAAAAAAACAAAAAAAAAAIAAAAAAAAAAgAAAAAAAAACAAAAAAAAAAIAAAAAAAAAAgAAAAAAAAACAAAAAAAAAAIAAAAAAAAAAgAAAAAAAAACAAAAAAAAAAIAAAAAAAAAAgAAAAAAAAACAAAAAAAAAAIAAAAAAAAAAgAAAAAAAAACAAAAAAAAAAIAAAAAAAAAAgAAAAAAAAACAAAAAAAAAAIAAAAAAAAAAgAAAAAAAAACAAAAAAAAAAIAAAAAAAAAAgAAAAAAAAACAAAAAAAAAAIAAAAAAAAAAgAAAAAAAAACAAAAAAAAAAIAAAAAAAAAAgAAAAAAAAACAAAAAAAAAAIAAAAAAAAAAgAAAAAAAAACAAAAAAAAAAIAAAAAAAAAAgAAAAAAAAACAAAAAAAAAAIAAAAAAAAAAgAAAAAAAAACAAAAAAAAAAIAAAAAAAAAAgAAAAAAAAACAAAAAAAAAAIAAAAAAAAAAgAAAAAAAAACAAAAAAAAAAIAAAAAAAAAAgAAAAAAAAACAAAAAAAAAAIAAAAAAAAAAgAAAAAAAAACAAAAAAAAAAIAAAAAAAAAAgAAAAAAAAACAAAAAAAAAAIAAAAAAAAAAgAAAAAAAAACAAAAAAAAAAIAAAAAAAAAAgAAAAAAAAACAAAAAAAAAAIAAAAAAAAAAAAAAAAAAAAAAAAAAAAAAAAAAAAAAAAAAAAAAAAAAAAAAAAAAAAAAAAAAAAAAAAAAAAAAAAAAAAAAAAAAAAAAAAAAAAAAAAAAAAAAAAAAAAAAAAAAAAAAAAAAAAAAAAAAAAAAAAAAAAAAAAAAAAAAAAAAAAAAAAAAAAAAAAAAAAAAAAAAAAAAAAAAAAAAAAAAAAAAAAAAAAAAAAAAAAAAAAAAAAAAAAAAAAAAAAAAAAAAAAAAAAAAAAAAAAAAAAAAAAAAAAAAAAAAAAAAAAAAAAA=",
          "dtype": "f8"
         }
        },
        {
         "mode": "lines",
         "name": "departure_time_Morning",
         "type": "scatter",
         "x": {
          "bdata": "U2Z8oiRm1EBIAGl1AlbTQLHfTbAOVNJA4NicI4xf0UDoi557x3fQQHIR2nktOM9ALQSSj7GXzUBdQtzD6QzMQF6dH420lspAtZRYeP8zyUB6ZdBfxuPHQLZYUawSpcZA/2JMoPp2xUAfcWusoFjEQCmnEs0yScNAmGVZ8OlHwkBOHApkCVTBQOnXPUvebMBAzhJcNn4jv0Bppbg9FoS9QC9LagJU+rtAOYetuhaFukCKXVWpTCO5QMu+B1Xy07dAhEDwyRGWtkD7j13lwWi1QJdTxaolS7RAjxOxoWs8s0AHTB08zTuyQO/72USOSLFAzuOBVfxhsEC8bkan3A6vQHqZc+mHcK1Ay6U/kcrnq0DCrj2UhHOqQG3CnuqkEqlA5FHzxijEp0Cr/1vYGoemQE6WnpaSWqVAFzObl7M9pEAtkaTtrC+jQAnlRI64L6JAVOf+wBo9oUAEiKCVIVegQDChhMNI+p5Aon4nigZdnUDBwjNoTdWbQPtaFBL+YZpA3zTgNAgCmUCdWqCuabSXQNGD/tAteJZApEDRrWxMlUAzIwJtSjCUQGYlUav2IpNA0gp/4asjkkAmp27TrjGRQFrJ0gZOTJBAPCoIgsLljkDgpj4XkkmNQF96I3/cwotAofJ6LINQikDPAcqAdvGIQFivIAW1pIdAgxdGrUpphkCIfLskUD6FQEEjEyXqIoRAN40e1UgWg0BvHX4wpxeCQNFaIndKJoFA7NZUpIFBgEAeisjZSdF+QIQUKYgqNn1AKQnxzXewe0Cc+L/bEz96QENOEcfv4HhA+72KwwqVd0C/X6VmcVp2QLBXJ/U8MHVAoBvruZIVdEBrOnhlowlzQGgA+HWqC3JAg3YWp+0acUAHCGZpvDZwQBg9w8HevG5A9XVc1M8ibUBGDIRMH55rQOwINxiwLWpAIxRwAHTQaEC+iPniaoVnQKtYk/ahS2ZAPf3iGDMiZUBi26olRAhkQGBRzVYG/WJAdhimrLX/YUC4wEpemA9hQBPaSFH+K2BA3rf7MIGoXkBIIlTzgQ9dQO99yfLSi1tA5dQ42lccWkA=",
          "dtype": "f8"
         },
         "y": {
          "bdata": "AAAAAAAAAAAAAAAAAAAAAAAAAAAAAAAAAAAAAAAAAAAAAAAAAAAAAAAAAAAAAAAAAAAAAAAAAAAAAAAAAAAAAAAAAAAAAAAAAAAAAAAAAAAAAAAAAAAAAAAAAAAAAAAAAAAAAAAAAAAAAAAAAAAAAAAAAAAAAAAAAAAAAAAAAAAAAAAAAAAAAAAAAAAAAAAAAAAAAAAAAAAAAAAAAAAAAAAAAAAAAAAAAAAAAAAAAAAAAAAAAAAAAAAAAAAAAAAAAAAAAAAAAAAAAAAAAAAAAAAAAAAAAAAAAAAAAAAAAAAAAAAAAAAAAAAAAAAAAAAAAAAAAAAAAAAAAAAAAAAAAAAAAAAAAAAAAAAAAAAAAAAAAAAAAAAAAAAAAAAAAAAAAAAAAAAAAAAAAAAAAAAAAAAAAAAAAAAAAAAAAAAAAAAAAAAAAAAAAAAAAAAAAAAAAAAAAAAAAAAAAAAAAAAAAAAAAAAAAAAAAAAAAAAAAAAAAAAAAAAAAAAAAAAAAAAAAAAAAAAAAAAAAAAAAAAAAAAAAAAAAAAAAAAAAAAAAAAAAAAAAAAAAAAAAAAAAAAAAAAAAAAAAAAAAAAAAAAAAAAAAAAAAAAAAAAAAAAAAAAAAAAAAAAAAAAAAAAAAAAAAAAAAAAAAAAAAAAAAAAAAAAAAAAAAAAAAAAAAAAAAAAAAAAAAAAAAAAAAAAAAAAAAAAAAAAAAAAAAAAAAAAAAAAAAAAAAAAAAAAAAAAAAAAAAAAAAAAAAAAAAAAAAAAAAAAAAAAAAAAAAAAAAAAAAAAAAAAAAAAAAAAAAAAAAAAAAAAAAAAAAAAAAAAAAAAAAAAAAAAAAAAAAAAAAAAAAAAAAAAAAAAAAAAAAAAAAAAAAAAAAAAAAAAAAAAAAAAAAAAAAAAAAAAAAAAAAAAAAAAAAAAAAAAAAAAAAAAAAAAAAAAAAAAAAAAAAAAAAAAAAAAAAAAAAAAAAAAAAAAAAAAAAAAAAAAAAAAAAAAAAAAAAAAAAAAAAAAAAAAAAAAAAAAAAAAAAAAAAAAAAAAAAAAAAAAAAAAAAAAAAAAAAAA=",
          "dtype": "f8"
         }
        },
        {
         "mode": "lines",
         "name": "departure_time_Night",
         "type": "scatter",
         "x": {
          "bdata": "U2Z8oiRm1EBIAGl1AlbTQLHfTbAOVNJA4NicI4xf0UDoi557x3fQQHIR2nktOM9ALQSSj7GXzUBdQtzD6QzMQF6dH420lspAtZRYeP8zyUB6ZdBfxuPHQLZYUawSpcZA/2JMoPp2xUAfcWusoFjEQCmnEs0yScNAmGVZ8OlHwkBOHApkCVTBQOnXPUvebMBAzhJcNn4jv0Bppbg9FoS9QC9LagJU+rtAOYetuhaFukCKXVWpTCO5QMu+B1Xy07dAhEDwyRGWtkD7j13lwWi1QJdTxaolS7RAjxOxoWs8s0AHTB08zTuyQO/72USOSLFAzuOBVfxhsEC8bkan3A6vQHqZc+mHcK1Ay6U/kcrnq0DCrj2UhHOqQG3CnuqkEqlA5FHzxijEp0Cr/1vYGoemQE6WnpaSWqVAFzObl7M9pEAtkaTtrC+jQAnlRI64L6JAVOf+wBo9oUAEiKCVIVegQDChhMNI+p5Aon4nigZdnUDBwjNoTdWbQPtaFBL+YZpA3zTgNAgCmUCdWqCuabSXQNGD/tAteJZApEDRrWxMlUAzIwJtSjCUQGYlUav2IpNA0gp/4asjkkAmp27TrjGRQFrJ0gZOTJBAPCoIgsLljkDgpj4XkkmNQF96I3/cwotAofJ6LINQikDPAcqAdvGIQFivIAW1pIdAgxdGrUpphkCIfLskUD6FQEEjEyXqIoRAN40e1UgWg0BvHX4wpxeCQNFaIndKJoFA7NZUpIFBgEAeisjZSdF+QIQUKYgqNn1AKQnxzXewe0Cc+L/bEz96QENOEcfv4HhA+72KwwqVd0C/X6VmcVp2QLBXJ/U8MHVAoBvruZIVdEBrOnhlowlzQGgA+HWqC3JAg3YWp+0acUAHCGZpvDZwQBg9w8HevG5A9XVc1M8ibUBGDIRMH55rQOwINxiwLWpAIxRwAHTQaEC+iPniaoVnQKtYk/ahS2ZAPf3iGDMiZUBi26olRAhkQGBRzVYG/WJAdhimrLX/YUC4wEpemA9hQBPaSFH+K2BA3rf7MIGoXkBIIlTzgQ9dQO99yfLSi1tA5dQ42lccWkA=",
          "dtype": "f8"
         },
         "y": {
          "bdata": "AAAAAAAAAAAAAAAAAAAAAAAAAAAAAAAAAAAAAAAAAAAAAAAAAAAAAAAAAAAAAAAAAAAAAAAAAAAAAAAAAAAAAAAAAAAAAAAAAAAAAAAAAAAAAAAAAAAAAAAAAAAAAAAAAAAAAAAAAAAAAAAAAAAAAAAAAAAAAAAAAAAAAAAAAAAAAAAAAAAAAAAAAAAAAAAAAAAAAAAAAAAAAAAAAAAAAAAAAAAAAAAAAAAAAAAAAAAAAAAAAAAAAAAAAAAAAAAAAAAAAAAAAAAAAAAAAAAAAAAAAAAAAAAAAAAAAAAAAAAAAAAAAAAAAAAAAAAAAAAAAAAAAAAAAAAAAAAAAAAAAAAAAAAAAAAAAAAAAAAAAAAAAAAAAAAAAAAAAAAAAAAAAAAAAAAAAAAAAAAAAAAAAAAAAAAAAAAAAAAAAAAAAAAAAAAAAAAAAAAAAAAAAAAAAAAAAAAAAAAAAAAAAAAAAAAAAAAAAAAAAAAAAAAAAAAAAAAAAAAAAAAAAAAAAAAAAAAAAAAAAAAAAAAAAAAAAAAAAAAAAAAAAAAAAAAAAAAAAAAAAAAAAAAAAAAAAAAAAAAAAAAAAAAAAAAAAAAAAAAAAAAAAAAAAAAAAAAAAAAAAAAAAAAAAAAAAAAAAAAAAAAAAAAAAAAAAAAAAAAAAAAAAAAAAAAAAAAAAAAAAAAAAAAAAAAAAAAAAAAAAAAAAAAAAAAAAAAAAAAAAAAAAAAAAAAAAAAAAAAAAAAAAAAAAAAAAAAAAAAAAAAAAAAAAAAAAAAAAAAAAAAAAAAAAAAAAAAAAAAAAAAAAAAAAAAAAAAAAAAAAAAAAAAAAAAAAAAAAAAAAAAAAAAAAAAAAAAAAAAAAACAAAAAAAAAAIAAAAAAAAAAgAAAAAAAAACAAAAAAAAAAIAAAAAAAAAAgAAAAAAAAACAAAAAAAAAAIAAAAAAAAAAgAAAAAAAAACAAAAAAAAAAIAAAAAAAAAAgAAAAAAAAACAAAAAAAAAAIAAAAAAAAAAgAAAAAAAAACAAAAAAAAAAIAAAAAAAAAAgAAAAAAAAACAAAAAAAAAAIA=",
          "dtype": "f8"
         }
        },
        {
         "mode": "lines",
         "name": "stops_two_or_more",
         "type": "scatter",
         "x": {
          "bdata": "U2Z8oiRm1EBIAGl1AlbTQLHfTbAOVNJA4NicI4xf0UDoi557x3fQQHIR2nktOM9ALQSSj7GXzUBdQtzD6QzMQF6dH420lspAtZRYeP8zyUB6ZdBfxuPHQLZYUawSpcZA/2JMoPp2xUAfcWusoFjEQCmnEs0yScNAmGVZ8OlHwkBOHApkCVTBQOnXPUvebMBAzhJcNn4jv0Bppbg9FoS9QC9LagJU+rtAOYetuhaFukCKXVWpTCO5QMu+B1Xy07dAhEDwyRGWtkD7j13lwWi1QJdTxaolS7RAjxOxoWs8s0AHTB08zTuyQO/72USOSLFAzuOBVfxhsEC8bkan3A6vQHqZc+mHcK1Ay6U/kcrnq0DCrj2UhHOqQG3CnuqkEqlA5FHzxijEp0Cr/1vYGoemQE6WnpaSWqVAFzObl7M9pEAtkaTtrC+jQAnlRI64L6JAVOf+wBo9oUAEiKCVIVegQDChhMNI+p5Aon4nigZdnUDBwjNoTdWbQPtaFBL+YZpA3zTgNAgCmUCdWqCuabSXQNGD/tAteJZApEDRrWxMlUAzIwJtSjCUQGYlUav2IpNA0gp/4asjkkAmp27TrjGRQFrJ0gZOTJBAPCoIgsLljkDgpj4XkkmNQF96I3/cwotAofJ6LINQikDPAcqAdvGIQFivIAW1pIdAgxdGrUpphkCIfLskUD6FQEEjEyXqIoRAN40e1UgWg0BvHX4wpxeCQNFaIndKJoFA7NZUpIFBgEAeisjZSdF+QIQUKYgqNn1AKQnxzXewe0Cc+L/bEz96QENOEcfv4HhA+72KwwqVd0C/X6VmcVp2QLBXJ/U8MHVAoBvruZIVdEBrOnhlowlzQGgA+HWqC3JAg3YWp+0acUAHCGZpvDZwQBg9w8HevG5A9XVc1M8ibUBGDIRMH55rQOwINxiwLWpAIxRwAHTQaEC+iPniaoVnQKtYk/ahS2ZAPf3iGDMiZUBi26olRAhkQGBRzVYG/WJAdhimrLX/YUC4wEpemA9hQBPaSFH+K2BA3rf7MIGoXkBIIlTzgQ9dQO99yfLSi1tA5dQ42lccWkA=",
          "dtype": "f8"
         },
         "y": {
          "bdata": "AAAAAAAAAAAAAAAAAAAAAAAAAAAAAAAAAAAAAAAAAAAAAAAAAAAAAAAAAAAAAAAAAAAAAAAAAAAAAAAAAAAAAAAAAAAAAAAAAAAAAAAAAAAAAAAAAAAAAAAAAAAAAAAAAAAAAAAAAAAAAAAAAAAAAAAAAAAAAAAAAAAAAAAAAAAAAAAAAAAAAAAAAAAAAAAAAAAAAAAAAAAAAAAAAAAAAAAAAAAAAAAAAAAAAAAAAIAAAAAAAAAAgAAAAAAAAACAAAAAAAAAAIAAAAAAAAAAgAAAAAAAAACAAAAAAAAAAIAAAAAAAAAAgAAAAAAAAACAAAAAAAAAAIAAAAAAAAAAAAAAAAAAAAAAAAAAAAAAAAAAAAAAAAAAAAAAAAAAAAAAAAAAAAAAAAAAAAAAAAAAAAAAAAAAAAAAAAAAAAAAAAAAAAAAAAAAAAAAAAAAAAAAAAAAAAAAAAAAAAAAAAAAAAAAAAAAAAAAAAAAAAAAAAAAAAAAAAAAAAAAAAAAAAAAAAAAAAAAAAAAAAAAAAAAAAAAAAAAAAAAAAAAAAAAAAAAAAAAAAAAAAAAAAAAAAAAAAAAAAAAAAAAAAAAAAAAAAAAAAAAAAAAAAAAAAAAAAAAAAAAAAAAAAAAAAAAAAAAAAAAAAAAAAAAAAAAAAAAAAAAAAAAAAAAAAAAAAAAAAAAAAAAAAAAAAAAAAAAAAAAAAAAAAAAAAAAAAAAAAAAAAAAAAAAAAAAAAAAAAAAAAAAAAAAAAAAAAAAAAAAAAAAAAAAAAAAAAAAAAAAAAAAAAAAAAAAAAAAAAAAAAAAAAAAAAAAAAAAAAAAAAAAAAAAAAAAAAAAAAAAAAAAAAAAAAAAAAAAAAAAAAAAAAAAAAAAAAAAAAAAAAAAAAAAAAAAAAAAAAAAAAAAAAAAAAAAAAAAAAAAAAAAAAAAAAAAAAAAAAAAAAAAAAAAAAAAAAAAAAAAAAAAAAAAAAAAAAAAAAAAAAAAAAAAAAAAAAAAAAAAAAAAAAAAAAAAAAAAAAAAAAAAAAAAAAAAAAAAAAAAAAAAAAAAAAAAAAAAAAAAAAA=",
          "dtype": "f8"
         }
        },
        {
         "mode": "lines",
         "name": "stops_zero",
         "type": "scatter",
         "x": {
          "bdata": "U2Z8oiRm1EBIAGl1AlbTQLHfTbAOVNJA4NicI4xf0UDoi557x3fQQHIR2nktOM9ALQSSj7GXzUBdQtzD6QzMQF6dH420lspAtZRYeP8zyUB6ZdBfxuPHQLZYUawSpcZA/2JMoPp2xUAfcWusoFjEQCmnEs0yScNAmGVZ8OlHwkBOHApkCVTBQOnXPUvebMBAzhJcNn4jv0Bppbg9FoS9QC9LagJU+rtAOYetuhaFukCKXVWpTCO5QMu+B1Xy07dAhEDwyRGWtkD7j13lwWi1QJdTxaolS7RAjxOxoWs8s0AHTB08zTuyQO/72USOSLFAzuOBVfxhsEC8bkan3A6vQHqZc+mHcK1Ay6U/kcrnq0DCrj2UhHOqQG3CnuqkEqlA5FHzxijEp0Cr/1vYGoemQE6WnpaSWqVAFzObl7M9pEAtkaTtrC+jQAnlRI64L6JAVOf+wBo9oUAEiKCVIVegQDChhMNI+p5Aon4nigZdnUDBwjNoTdWbQPtaFBL+YZpA3zTgNAgCmUCdWqCuabSXQNGD/tAteJZApEDRrWxMlUAzIwJtSjCUQGYlUav2IpNA0gp/4asjkkAmp27TrjGRQFrJ0gZOTJBAPCoIgsLljkDgpj4XkkmNQF96I3/cwotAofJ6LINQikDPAcqAdvGIQFivIAW1pIdAgxdGrUpphkCIfLskUD6FQEEjEyXqIoRAN40e1UgWg0BvHX4wpxeCQNFaIndKJoFA7NZUpIFBgEAeisjZSdF+QIQUKYgqNn1AKQnxzXewe0Cc+L/bEz96QENOEcfv4HhA+72KwwqVd0C/X6VmcVp2QLBXJ/U8MHVAoBvruZIVdEBrOnhlowlzQGgA+HWqC3JAg3YWp+0acUAHCGZpvDZwQBg9w8HevG5A9XVc1M8ibUBGDIRMH55rQOwINxiwLWpAIxRwAHTQaEC+iPniaoVnQKtYk/ahS2ZAPf3iGDMiZUBi26olRAhkQGBRzVYG/WJAdhimrLX/YUC4wEpemA9hQBPaSFH+K2BA3rf7MIGoXkBIIlTzgQ9dQO99yfLSi1tA5dQ42lccWkA=",
          "dtype": "f8"
         },
         "y": {
          "bdata": "AAAAAAAAAAAAAAAAAAAAAAAAAAAAAAAAAAAAAAAAAAAAAAAAAAAAAAAAAAAAAAAAAAAAAAAAAAAAAAAAAAAAAAAAAAAAAAAAAAAAAAAAAAAAAAAAAAAAAAAAAAAAAAAAAAAAAAAAAIAAAAAAAAAAgAAAAAAAAACAAAAAAAAAAIAAAAAAAAAAgAAAAAAAAACAAAAAAAAAAIAAAAAAAAAAgAAAAAAAAACAAAAAAAAAAIAAAAAAAAAAgAAAAAAAAACAAAAAAAAAAIAAAAAAAAAAgAAAAAAAAACAAAAAAAAAAIAAAAAAAAAAgAAAAAAAAACAAAAAAAAAAIAAAAAAAAAAgAAAAAAAAACAAAAAAAAAAIAAAAAAAAAAgAAAAAAAAACAAAAAAAAAAIAAAAAAAAAAgAAAAAAAAACAAAAAAAAAAIAAAAAAAAAAgAAAAAAAAACAAAAAAAAAAIAAAAAAAAAAgAAAAAAAAACAAAAAAAAAAIAAAAAAAAAAgAAAAAAAAACAAAAAAAAAAIAAAAAAAAAAgAAAAAAAAACAAAAAAAAAAIAAAAAAAAAAgAAAAAAAAACAAAAAAAAAAIAAAAAAAAAAgAAAAAAAAACAAAAAAAAAAIAAAAAAAAAAgAAAAAAAAACAAAAAAAAAAIAAAAAAAAAAgAAAAAAAAACAAAAAAAAAAIAAAAAAAAAAgAAAAAAAAACA7LDEqfXcd8CvkGrP1ESIwMjKnGNk+5HAJDBIlVyGl8BsUE/8YsecwKoDUpW64KDA2Ghqtfs8o8Ayk42ew3mlwFellHeymKfAtJLRTVabqcAaWqWRKIOrwHEfVtEmUa3ADTRcKnUHr8AqsGd3eFOwwEN/kd6SFbHAfxCxZm7LscDSK2fo2HeywL42XAVIG7PA2EseDAC2s8CwpeJ51Ui0wOXoJ+kI1LTA7/w92PtXtcDXFTTo5dS1wArZ8IqDSLbAx0e641C2tsAAWuw0LRu3wALOF8MmebfAESIpg9/Rt8DyfPvsBSa4wKVkCdDcdLjARRtw3RS9uMAPNLshrf+4wJbtaxSMQLnAmqKZh3V6ucA=",
          "dtype": "f8"
         }
        },
        {
         "mode": "lines",
         "name": "arrival_time_Early_Morning",
         "type": "scatter",
         "x": {
          "bdata": "U2Z8oiRm1EBIAGl1AlbTQLHfTbAOVNJA4NicI4xf0UDoi557x3fQQHIR2nktOM9ALQSSj7GXzUBdQtzD6QzMQF6dH420lspAtZRYeP8zyUB6ZdBfxuPHQLZYUawSpcZA/2JMoPp2xUAfcWusoFjEQCmnEs0yScNAmGVZ8OlHwkBOHApkCVTBQOnXPUvebMBAzhJcNn4jv0Bppbg9FoS9QC9LagJU+rtAOYetuhaFukCKXVWpTCO5QMu+B1Xy07dAhEDwyRGWtkD7j13lwWi1QJdTxaolS7RAjxOxoWs8s0AHTB08zTuyQO/72USOSLFAzuOBVfxhsEC8bkan3A6vQHqZc+mHcK1Ay6U/kcrnq0DCrj2UhHOqQG3CnuqkEqlA5FHzxijEp0Cr/1vYGoemQE6WnpaSWqVAFzObl7M9pEAtkaTtrC+jQAnlRI64L6JAVOf+wBo9oUAEiKCVIVegQDChhMNI+p5Aon4nigZdnUDBwjNoTdWbQPtaFBL+YZpA3zTgNAgCmUCdWqCuabSXQNGD/tAteJZApEDRrWxMlUAzIwJtSjCUQGYlUav2IpNA0gp/4asjkkAmp27TrjGRQFrJ0gZOTJBAPCoIgsLljkDgpj4XkkmNQF96I3/cwotAofJ6LINQikDPAcqAdvGIQFivIAW1pIdAgxdGrUpphkCIfLskUD6FQEEjEyXqIoRAN40e1UgWg0BvHX4wpxeCQNFaIndKJoFA7NZUpIFBgEAeisjZSdF+QIQUKYgqNn1AKQnxzXewe0Cc+L/bEz96QENOEcfv4HhA+72KwwqVd0C/X6VmcVp2QLBXJ/U8MHVAoBvruZIVdEBrOnhlowlzQGgA+HWqC3JAg3YWp+0acUAHCGZpvDZwQBg9w8HevG5A9XVc1M8ibUBGDIRMH55rQOwINxiwLWpAIxRwAHTQaEC+iPniaoVnQKtYk/ahS2ZAPf3iGDMiZUBi26olRAhkQGBRzVYG/WJAdhimrLX/YUC4wEpemA9hQBPaSFH+K2BA3rf7MIGoXkBIIlTzgQ9dQO99yfLSi1tA5dQ42lccWkA=",
          "dtype": "f8"
         },
         "y": {
          "bdata": "AAAAAAAAAAAAAAAAAAAAAAAAAAAAAAAAAAAAAAAAAAAAAAAAAAAAAAAAAAAAAAAAAAAAAAAAAAAAAAAAAAAAAAAAAAAAAAAAAAAAAAAAAAAAAAAAAAAAAAAAAAAAAAAAAAAAAAAAAAAAAAAAAAAAAAAAAAAAAAAAAAAAAAAAAAAAAAAAAAAAAAAAAAAAAAAAAAAAAAAAAAAAAAAAAAAAAAAAAAAAAAAAAAAAAAAAAAAAAAAAAAAAAAAAAAAAAAAAAAAAAAAAAAAAAAAAAAAAAAAAAAAAAACAAAAAAAAAAIAAAAAAAAAAgAAAAAAAAACAAAAAAAAAAIAAAAAAAAAAgAAAAAAAAACAAAAAAAAAAIAAAAAAAAAAgAAAAAAAAACAAAAAAAAAAIAAAAAAAAAAgAAAAAAAAACAAAAAAAAAAIAAAAAAAAAAgAAAAAAAAACAAAAAAAAAAIAAAAAAAAAAgAAAAAAAAACAAAAAAAAAAIAAAAAAAAAAgAAAAAAAAACAAAAAAAAAAIAAAAAAAAAAgAAAAAAAAACAAAAAAAAAAIAAAAAAAAAAgAAAAAAAAACAAAAAAAAAAIAAAAAAAAAAgAAAAAAAAACAAAAAAAAAAIAAAAAAAAAAgAAAAAAAAACAAAAAAAAAAIAAAAAAAAAAgAAAAAAAAACAAAAAAAAAAIAAAAAAAAAAgAAAAAAAAACAAAAAAAAAAIAAAAAAAAAAgAAAAAAAAACAAAAAAAAAAIAAAAAAAAAAgAAAAAAAAACAAAAAAAAAAIAAAAAAAAAAgAAAAAAAAACAAAAAAAAAAIAAAAAAAAAAgAAAAAAAAACAAAAAAAAAAIAAAAAAAAAAgAAAAAAAAACAAAAAAAAAAIAAAAAAAAAAgAAAAAAAAACAAAAAAAAAAIAAAAAAAAAAgAAAAAAAAACAAAAAAAAAAIAAAAAAAAAAgAAAAAAAAACAAAAAAAAAAIAAAAAAAAAAgAAAAAAAAACAAAAAAAAAAIAAAAAAAAAAgAAAAAAAAACAAAAAAAAAAIAAAAAAAAAAgAAAAAAAAACAAAAAAAAAAIA=",
          "dtype": "f8"
         }
        },
        {
         "mode": "lines",
         "name": "arrival_time_Evening",
         "type": "scatter",
         "x": {
          "bdata": "U2Z8oiRm1EBIAGl1AlbTQLHfTbAOVNJA4NicI4xf0UDoi557x3fQQHIR2nktOM9ALQSSj7GXzUBdQtzD6QzMQF6dH420lspAtZRYeP8zyUB6ZdBfxuPHQLZYUawSpcZA/2JMoPp2xUAfcWusoFjEQCmnEs0yScNAmGVZ8OlHwkBOHApkCVTBQOnXPUvebMBAzhJcNn4jv0Bppbg9FoS9QC9LagJU+rtAOYetuhaFukCKXVWpTCO5QMu+B1Xy07dAhEDwyRGWtkD7j13lwWi1QJdTxaolS7RAjxOxoWs8s0AHTB08zTuyQO/72USOSLFAzuOBVfxhsEC8bkan3A6vQHqZc+mHcK1Ay6U/kcrnq0DCrj2UhHOqQG3CnuqkEqlA5FHzxijEp0Cr/1vYGoemQE6WnpaSWqVAFzObl7M9pEAtkaTtrC+jQAnlRI64L6JAVOf+wBo9oUAEiKCVIVegQDChhMNI+p5Aon4nigZdnUDBwjNoTdWbQPtaFBL+YZpA3zTgNAgCmUCdWqCuabSXQNGD/tAteJZApEDRrWxMlUAzIwJtSjCUQGYlUav2IpNA0gp/4asjkkAmp27TrjGRQFrJ0gZOTJBAPCoIgsLljkDgpj4XkkmNQF96I3/cwotAofJ6LINQikDPAcqAdvGIQFivIAW1pIdAgxdGrUpphkCIfLskUD6FQEEjEyXqIoRAN40e1UgWg0BvHX4wpxeCQNFaIndKJoFA7NZUpIFBgEAeisjZSdF+QIQUKYgqNn1AKQnxzXewe0Cc+L/bEz96QENOEcfv4HhA+72KwwqVd0C/X6VmcVp2QLBXJ/U8MHVAoBvruZIVdEBrOnhlowlzQGgA+HWqC3JAg3YWp+0acUAHCGZpvDZwQBg9w8HevG5A9XVc1M8ibUBGDIRMH55rQOwINxiwLWpAIxRwAHTQaEC+iPniaoVnQKtYk/ahS2ZAPf3iGDMiZUBi26olRAhkQGBRzVYG/WJAdhimrLX/YUC4wEpemA9hQBPaSFH+K2BA3rf7MIGoXkBIIlTzgQ9dQO99yfLSi1tA5dQ42lccWkA=",
          "dtype": "f8"
         },
         "y": {
          "bdata": "AAAAAAAAAAAAAAAAAAAAAAAAAAAAAAAAAAAAAAAAAAAAAAAAAAAAAAAAAAAAAAAAAAAAAAAAAAAAAAAAAAAAAAAAAAAAAAAAAAAAAAAAAAAAAAAAAAAAAAAAAAAAAAAAAAAAAAAAAAAAAAAAAAAAAAAAAAAAAAAAAAAAAAAAAAAAAAAAAAAAAAAAAAAAAAAAAAAAAAAAAAAAAAAAAAAAAAAAAAAAAAAAAAAAAAAAAAAAAAAAAAAAAAAAAAAAAAAAAAAAAAAAAAAAAAAAAAAAAAAAAAAAAAAAAAAAAAAAAAAAAAAAAAAAAAAAAAAAAAAAAAAAAAAAAAAAAAAAAAAAAAAAAAAAAAAAAAAAAAAAAAAAAAAAAAAAAAAAAAAAAAAAAAAAAAAAAAAAAAAAAAAAAAAAAAAAAAAAAAAAAAAAAAAAAAAAAAAAAAAAAAAAAAAAAAAAAAAAAAAAAAAAAAAAAAAAAAAAAAAAAAAAAAAAAAAAAAAAAAAAAAAAAAAAAAAAAAAAAAAAAAAAAAAAAAAAAAAAAAAAAAAAAAAAAAAAAAAAAAAAAAAAAAAAAAAAAAAAAAAAAAAAAAAAAAAAAAAAAAAAAAAAAAAAAAAAAAAAAAAAAAAAAAAAAAAAAAAAAAAAAAAAAAAAAAAAAAAAAAAAAAAAAAAAAAAAAAAAAAAAAAAAAAAAAAAAAAAAAAAAAAAAAAAAAAAAAAAAAAAAAAAAAAAAAAAAAAAAAAAAAAAAAAAAAAAAAAAAAAAAAAAAAAAAAAAAAAAAAAAAAAAAAAAAAAAAAAAAAAAAAAAAAAAAAAAAAAAAAAAAAAAAAAAAAAAAAAAAAAAAAAAAAAAAAAAAAAAAAAAAAAAAAAAAAAAAAAAAAAAAAAAAAAAAAAAAAAAAAAAAAAAAAAAAAAAAAAAAAAAAAAAAAAAAAAAAAAAAAAAAAAAAAAAAAAAAAAAAAAAAAAAAAAAAAABmDF7OPEo4QHLUZCqaiU5Aoe+lxMJ5WEAk1EwfW5pgQLoJ4BGeuGRAI7GhX4HYaED0ngqyuFJsQMXQsUuAg29ACJhvw+xbcUA=",
          "dtype": "f8"
         }
        },
        {
         "mode": "lines",
         "name": "arrival_time_Late_Night",
         "type": "scatter",
         "x": {
          "bdata": "U2Z8oiRm1EBIAGl1AlbTQLHfTbAOVNJA4NicI4xf0UDoi557x3fQQHIR2nktOM9ALQSSj7GXzUBdQtzD6QzMQF6dH420lspAtZRYeP8zyUB6ZdBfxuPHQLZYUawSpcZA/2JMoPp2xUAfcWusoFjEQCmnEs0yScNAmGVZ8OlHwkBOHApkCVTBQOnXPUvebMBAzhJcNn4jv0Bppbg9FoS9QC9LagJU+rtAOYetuhaFukCKXVWpTCO5QMu+B1Xy07dAhEDwyRGWtkD7j13lwWi1QJdTxaolS7RAjxOxoWs8s0AHTB08zTuyQO/72USOSLFAzuOBVfxhsEC8bkan3A6vQHqZc+mHcK1Ay6U/kcrnq0DCrj2UhHOqQG3CnuqkEqlA5FHzxijEp0Cr/1vYGoemQE6WnpaSWqVAFzObl7M9pEAtkaTtrC+jQAnlRI64L6JAVOf+wBo9oUAEiKCVIVegQDChhMNI+p5Aon4nigZdnUDBwjNoTdWbQPtaFBL+YZpA3zTgNAgCmUCdWqCuabSXQNGD/tAteJZApEDRrWxMlUAzIwJtSjCUQGYlUav2IpNA0gp/4asjkkAmp27TrjGRQFrJ0gZOTJBAPCoIgsLljkDgpj4XkkmNQF96I3/cwotAofJ6LINQikDPAcqAdvGIQFivIAW1pIdAgxdGrUpphkCIfLskUD6FQEEjEyXqIoRAN40e1UgWg0BvHX4wpxeCQNFaIndKJoFA7NZUpIFBgEAeisjZSdF+QIQUKYgqNn1AKQnxzXewe0Cc+L/bEz96QENOEcfv4HhA+72KwwqVd0C/X6VmcVp2QLBXJ/U8MHVAoBvruZIVdEBrOnhlowlzQGgA+HWqC3JAg3YWp+0acUAHCGZpvDZwQBg9w8HevG5A9XVc1M8ibUBGDIRMH55rQOwINxiwLWpAIxRwAHTQaEC+iPniaoVnQKtYk/ahS2ZAPf3iGDMiZUBi26olRAhkQGBRzVYG/WJAdhimrLX/YUC4wEpemA9hQBPaSFH+K2BA3rf7MIGoXkBIIlTzgQ9dQO99yfLSi1tA5dQ42lccWkA=",
          "dtype": "f8"
         },
         "y": {
          "bdata": "AAAAAAAAAAAAAAAAAAAAAAAAAAAAAAAAAAAAAAAAAAAAAAAAAAAAAAAAAAAAAAAAAAAAAAAAAAAAAAAAAAAAAAAAAAAAAAAAAAAAAAAAAAAAAAAAAAAAAAAAAAAAAAAAAAAAAAAAAAAAAAAAAAAAAAAAAAAAAAAAAAAAAAAAAIAAAAAAAAAAgAAAAAAAAACAAAAAAAAAAIAAAAAAAAAAgAAAAAAAAACAAAAAAAAAAIAAAAAAAAAAgAAAAAAAAACAAAAAAAAAAIAAAAAAAAAAgAAAAAAAAACAAAAAAAAAAIAAAAAAAAAAgAAAAAAAAACAAAAAAAAAAIAAAAAAAAAAgAAAAAAAAACAAAAAAAAAAIAAAAAAAAAAgAAAAAAAAACAAAAAAAAAAIAAAAAAAAAAgAAAAAAAAACAAAAAAAAAAIAAAAAAAAAAgAAAAAAAAACAAAAAAAAAAIAAAAAAAAAAgAAAAAAAAACAAAAAAAAAAIAAAAAAAAAAgAAAAAAAAACAAAAAAAAAAIAAAAAAAAAAgAAAAAAAAACAAAAAAAAAAIAAAAAAAAAAgAAAAAAAAACAAAAAAAAAAIAAAAAAAAAAgAAAAAAAAACAAAAAAAAAAIAAAAAAAAAAgAAAAAAAAACAAAAAAAAAAIAAAAAAAAAAgAAAAAAAAACAAAAAAAAAAIAAAAAAAAAAgAAAAAAAAACAAAAAAAAAAIAAAAAAAAAAgAAAAAAAAACAAAAAAAAAAIAAAAAAAAAAgAAAAAAAAACAAAAAAAAAAIAAAAAAAAAAgAAAAAAAAACAAAAAAAAAAIAAAAAAAAAAgAAAAAAAAACAAAAAAAAAAIAAAAAAAAAAgAAAAAAAAAAAAAAAAAAAAAAAAAAAAAAAAAAAAAAAAAAAAAAAAAAAAAAAAAAAAAAAAAAAAAAAAAAAAAAAAAAAAAAAAAAAAAAAAAAAAAAAAAAAAAAAAAAAAAAAAAAAAAAAAAAAAAAAAAAAAAAAAAAAAAAAAAAAAAAAAAAAAAAAAAAAAAAAAAAAAAAAAAAAAAAAAAAAAAAAAAAAAAAAAAAAAAA=",
          "dtype": "f8"
         }
        },
        {
         "mode": "lines",
         "name": "arrival_time_Morning",
         "type": "scatter",
         "x": {
          "bdata": "U2Z8oiRm1EBIAGl1AlbTQLHfTbAOVNJA4NicI4xf0UDoi557x3fQQHIR2nktOM9ALQSSj7GXzUBdQtzD6QzMQF6dH420lspAtZRYeP8zyUB6ZdBfxuPHQLZYUawSpcZA/2JMoPp2xUAfcWusoFjEQCmnEs0yScNAmGVZ8OlHwkBOHApkCVTBQOnXPUvebMBAzhJcNn4jv0Bppbg9FoS9QC9LagJU+rtAOYetuhaFukCKXVWpTCO5QMu+B1Xy07dAhEDwyRGWtkD7j13lwWi1QJdTxaolS7RAjxOxoWs8s0AHTB08zTuyQO/72USOSLFAzuOBVfxhsEC8bkan3A6vQHqZc+mHcK1Ay6U/kcrnq0DCrj2UhHOqQG3CnuqkEqlA5FHzxijEp0Cr/1vYGoemQE6WnpaSWqVAFzObl7M9pEAtkaTtrC+jQAnlRI64L6JAVOf+wBo9oUAEiKCVIVegQDChhMNI+p5Aon4nigZdnUDBwjNoTdWbQPtaFBL+YZpA3zTgNAgCmUCdWqCuabSXQNGD/tAteJZApEDRrWxMlUAzIwJtSjCUQGYlUav2IpNA0gp/4asjkkAmp27TrjGRQFrJ0gZOTJBAPCoIgsLljkDgpj4XkkmNQF96I3/cwotAofJ6LINQikDPAcqAdvGIQFivIAW1pIdAgxdGrUpphkCIfLskUD6FQEEjEyXqIoRAN40e1UgWg0BvHX4wpxeCQNFaIndKJoFA7NZUpIFBgEAeisjZSdF+QIQUKYgqNn1AKQnxzXewe0Cc+L/bEz96QENOEcfv4HhA+72KwwqVd0C/X6VmcVp2QLBXJ/U8MHVAoBvruZIVdEBrOnhlowlzQGgA+HWqC3JAg3YWp+0acUAHCGZpvDZwQBg9w8HevG5A9XVc1M8ibUBGDIRMH55rQOwINxiwLWpAIxRwAHTQaEC+iPniaoVnQKtYk/ahS2ZAPf3iGDMiZUBi26olRAhkQGBRzVYG/WJAdhimrLX/YUC4wEpemA9hQBPaSFH+K2BA3rf7MIGoXkBIIlTzgQ9dQO99yfLSi1tA5dQ42lccWkA=",
          "dtype": "f8"
         },
         "y": {
          "bdata": "AAAAAAAAAAAAAAAAAAAAAAAAAAAAAAAAAAAAAAAAAAAAAAAAAAAAAAAAAAAAAAAAAAAAAAAAAAAAAAAAAAAAAAAAAAAAAAAAAAAAAAAAAAAAAAAAAAAAAAAAAAAAAAAAAAAAAAAAAAAAAAAAAAAAAAAAAAAAAAAAAAAAAAAAAAAAAAAAAAAAAAAAAAAAAAAAAAAAAAAAAAAAAAAAAAAAAAAAAAAAAAAAAAAAAAAAAAAAAAAAAAAAAAAAAAAAAAAAAAAAAAAAAAAAAAAAAAAAAAAAAAAAAAAAAAAAAAAAAAAAAAAAAAAAAAAAAAAAAAAAAAAAAAAAAAAAAAAAAAAAAAAAAAAAAAAAAAAAAAAAAAAAAAAAAAAAAAAAAAAAAAAAAAAAAAAAAAAAAAAAAAAAAAAAAAAAAAAAAAAAAAAAAAAAAAAAAAAAAAAAAAAAAAAAAAAAAAAAAAAAAAAAAAAAAAAAAAAAAAAAAAAAAAAAAAAAAAAAAAAAAAAAAAAAAAAAAAAAAAAAAAAAAAAAAAAAAAAAAAAAAAAAAAAAAAAAAAAAAAAAAAAAAAAAAAAAAAAAAAAAAAAAAAAAAAAAAAAAAAAAAAAAAAAAAAAAAAAAAAAAAAAAAAAAAAAAAAAAAAAAAAAAAAAAAAAAAAAAAAAAAAAAAAAAAAAAAAAAAAAAAAAAAAAAAAAAAAAAAAAAAAAAAAAAAAAAAAAAAAAAAAAAAAAAAAAAAAAAAAAAAAAAAAAAAAAAAAAAAAAAAAAAAAAAAAAAAAAAAAAAAAAAAAAAAAAAAAAAAAAAAAAAAAAAAAAAAAAAAAAAAAAAAAAAAACAAAAAAAAAAIAAAAAAAAAAgAAAAAAAAACAAAAAAAAAAIAAAAAAAAAAgAAAAAAAAACAAAAAAAAAAIAAAAAAAAAAgAAAAAAAAACAAAAAAAAAAIAAAAAAAAAAgAAAAAAAAACAAAAAAAAAAIAAAAAAAAAAgAAAAAAAAACAAAAAAAAAAIAAAAAAAAAAgAAAAAAAAACAAAAAAAAAAIAAAAAAAAAAAAAAAAAAAAAAAAAAAAAAAAA=",
          "dtype": "f8"
         }
        },
        {
         "mode": "lines",
         "name": "arrival_time_Night",
         "type": "scatter",
         "x": {
          "bdata": "U2Z8oiRm1EBIAGl1AlbTQLHfTbAOVNJA4NicI4xf0UDoi557x3fQQHIR2nktOM9ALQSSj7GXzUBdQtzD6QzMQF6dH420lspAtZRYeP8zyUB6ZdBfxuPHQLZYUawSpcZA/2JMoPp2xUAfcWusoFjEQCmnEs0yScNAmGVZ8OlHwkBOHApkCVTBQOnXPUvebMBAzhJcNn4jv0Bppbg9FoS9QC9LagJU+rtAOYetuhaFukCKXVWpTCO5QMu+B1Xy07dAhEDwyRGWtkD7j13lwWi1QJdTxaolS7RAjxOxoWs8s0AHTB08zTuyQO/72USOSLFAzuOBVfxhsEC8bkan3A6vQHqZc+mHcK1Ay6U/kcrnq0DCrj2UhHOqQG3CnuqkEqlA5FHzxijEp0Cr/1vYGoemQE6WnpaSWqVAFzObl7M9pEAtkaTtrC+jQAnlRI64L6JAVOf+wBo9oUAEiKCVIVegQDChhMNI+p5Aon4nigZdnUDBwjNoTdWbQPtaFBL+YZpA3zTgNAgCmUCdWqCuabSXQNGD/tAteJZApEDRrWxMlUAzIwJtSjCUQGYlUav2IpNA0gp/4asjkkAmp27TrjGRQFrJ0gZOTJBAPCoIgsLljkDgpj4XkkmNQF96I3/cwotAofJ6LINQikDPAcqAdvGIQFivIAW1pIdAgxdGrUpphkCIfLskUD6FQEEjEyXqIoRAN40e1UgWg0BvHX4wpxeCQNFaIndKJoFA7NZUpIFBgEAeisjZSdF+QIQUKYgqNn1AKQnxzXewe0Cc+L/bEz96QENOEcfv4HhA+72KwwqVd0C/X6VmcVp2QLBXJ/U8MHVAoBvruZIVdEBrOnhlowlzQGgA+HWqC3JAg3YWp+0acUAHCGZpvDZwQBg9w8HevG5A9XVc1M8ibUBGDIRMH55rQOwINxiwLWpAIxRwAHTQaEC+iPniaoVnQKtYk/ahS2ZAPf3iGDMiZUBi26olRAhkQGBRzVYG/WJAdhimrLX/YUC4wEpemA9hQBPaSFH+K2BA3rf7MIGoXkBIIlTzgQ9dQO99yfLSi1tA5dQ42lccWkA=",
          "dtype": "f8"
         },
         "y": {
          "bdata": "AAAAAAAAAAAAAAAAAAAAAAAAAAAAAAAAAAAAAAAAAAAAAAAAAAAAAAAAAAAAAAAAAAAAAAAAAAAAAAAAAAAAAAAAAAAAAAAAAAAAAAAAAAAAAAAAAAAAAAAAAAAAAAAAAAAAAAAAAAAAAAAAAAAAAAAAAAAAAAAAAAAAAAAAAAAAAAAAAAAAAAAAAAAAAAAAAAAAAAAAAAAAAAAAAAAAAAAAAAAAAAAAAAAAAAAAAAAAAAAAAAAAAAAAAAAAAAAAAAAAAAAAAAAAAAAAAAAAAAAAAAAAAAAAAAAAAAAAAAAAAAAAAAAAAAAAAAAAAAAAAAAAAAAAAAAAAAAAAAAAAAAAAAAAAAAAAAAAAAAAAAAAAAAAAAAAAAAAAAAAAAAAAAAAAAAAAAAAAAAAAAAAAAAAAAAAAAAAAAAAAAAAAAAAAAAAAAAAAAAAAAAAAAAAAAAAAAAAAAAAAAAAAAAAAAAAAAAAAAAAAAAAAAAAAAAAAAAAAAAAAAAAAAAAAAAAAAAAAAAAAAAAAAAAAAAAAAAAAAAAAAAAAAAAAAAAAAAAAAAAAAAAAAAAAAAAAAAAAAAAAAAAAAAAAAAAAAAAAAAAAAAAAAAAAAAAAAAAAAAAAAAAAAAAAAAAAAAAAAAAAAAAAAAAAAAAAAAAAAAAAAAAAAAAAAAAAAAAAAAAAAAAAAAAAAAAAAAAAAAAAAAAAAAAAAAAAAAAAAAAAAAAAAAAAAAAAAAAAAAAAAAAAAAAAAAAAAAAAAAAAAAAAAAAAAAAAAAAAAAAAAAAAAAAAAAAAAAAAAAAAAAAAAAAAAAAAAAAAAAAAAAAAAAAAAAAAAAAAAAAAAAAAAAAAAAAAAAAAAAAAAAAAAAAAAAAAAAAAAAAAAAAAAAAAAAAAAAAAAAAAAAAAAAAAAAAAAAAAAAAAAAAAAAAAAAAAAAAAAClzkgHR03+P2H/lii8X0FAA2JaTOBuUECvkTRw1NhZQPb3uqkr8WFA1Q1+rH38ZkB3oAm9DcVrQD0H08ZNE3BAyfbPgwhGckDrlVSURhl0QJGt1iFh1XVAwWgZegmdd0A=",
          "dtype": "f8"
         }
        },
        {
         "mode": "lines",
         "name": "destination_city_Chennai",
         "type": "scatter",
         "x": {
          "bdata": "U2Z8oiRm1EBIAGl1AlbTQLHfTbAOVNJA4NicI4xf0UDoi557x3fQQHIR2nktOM9ALQSSj7GXzUBdQtzD6QzMQF6dH420lspAtZRYeP8zyUB6ZdBfxuPHQLZYUawSpcZA/2JMoPp2xUAfcWusoFjEQCmnEs0yScNAmGVZ8OlHwkBOHApkCVTBQOnXPUvebMBAzhJcNn4jv0Bppbg9FoS9QC9LagJU+rtAOYetuhaFukCKXVWpTCO5QMu+B1Xy07dAhEDwyRGWtkD7j13lwWi1QJdTxaolS7RAjxOxoWs8s0AHTB08zTuyQO/72USOSLFAzuOBVfxhsEC8bkan3A6vQHqZc+mHcK1Ay6U/kcrnq0DCrj2UhHOqQG3CnuqkEqlA5FHzxijEp0Cr/1vYGoemQE6WnpaSWqVAFzObl7M9pEAtkaTtrC+jQAnlRI64L6JAVOf+wBo9oUAEiKCVIVegQDChhMNI+p5Aon4nigZdnUDBwjNoTdWbQPtaFBL+YZpA3zTgNAgCmUCdWqCuabSXQNGD/tAteJZApEDRrWxMlUAzIwJtSjCUQGYlUav2IpNA0gp/4asjkkAmp27TrjGRQFrJ0gZOTJBAPCoIgsLljkDgpj4XkkmNQF96I3/cwotAofJ6LINQikDPAcqAdvGIQFivIAW1pIdAgxdGrUpphkCIfLskUD6FQEEjEyXqIoRAN40e1UgWg0BvHX4wpxeCQNFaIndKJoFA7NZUpIFBgEAeisjZSdF+QIQUKYgqNn1AKQnxzXewe0Cc+L/bEz96QENOEcfv4HhA+72KwwqVd0C/X6VmcVp2QLBXJ/U8MHVAoBvruZIVdEBrOnhlowlzQGgA+HWqC3JAg3YWp+0acUAHCGZpvDZwQBg9w8HevG5A9XVc1M8ibUBGDIRMH55rQOwINxiwLWpAIxRwAHTQaEC+iPniaoVnQKtYk/ahS2ZAPf3iGDMiZUBi26olRAhkQGBRzVYG/WJAdhimrLX/YUC4wEpemA9hQBPaSFH+K2BA3rf7MIGoXkBIIlTzgQ9dQO99yfLSi1tA5dQ42lccWkA=",
          "dtype": "f8"
         },
         "y": {
          "bdata": "AAAAAAAAAAAAAAAAAAAAAAAAAAAAAAAAAAAAAAAAAAAAAAAAAAAAAAAAAAAAAAAAAAAAAAAAAAAAAAAAAAAAAAAAAAAAAAAAAAAAAAAAAAAAAAAAAAAAAAAAAAAAAAAAAAAAAAAAAAAAAAAAAAAAAAAAAAAAAAAAAAAAAAAAAAAAAAAAAAAAAAAAAAAAAAAAAAAAAAAAAAAAAAAAAAAAAAAAAAAAAAAAAAAAAAAAAAAAAAAAAAAAAAAAAAAAAAAAAAAAAAAAAAAAAAAAAAAAAAAAAAAAAAAAAAAAAAAAAAAAAAAAAAAAAAAAAAAAAAAAAAAAAAAAAAAAAAAAAAAAAAAAAAAAAAAAAAAAAAAAAAAAAAAAAAAAAAAAAAAAAAAAAAAAAAAAAAAAAAAAAAAAAAAAAAAAAAAAAAAAAAAAAAAAAAAAAAAAAAAAAAAAAAAAAAAAAAAAAAAAAAAAAAAAAAAAAAAAAAAAAAAAAAAAAAAAAAAAAAAAAAAAAAAAAAAAAAAAAAAAAAAAAAAAAAAAAAAAAAAAAAAAAAAAAAAAAAAAAAAAAAAAAAAAAAAAAAAAAAAAAAAAAAAAAAAAAAAAAAAAAAAAAAAAAAAAAAAAAAAAAAAAAAAAAAAAAAAAAAAAAAAAAAAAAAAAAAAAAAAAAAAAAAAAAAAAAAAAAAAAAAAAAAAAAAAAAAAAAAAAAAAAAAAAAAAAAAAAAAAAAAAAAAAAAAAAAAAAAAAAAAAAAAAAAAAAAAAAAAAAAAAAAAAAAAAAAAAAAAAAAAAAAAAAAAAAAAAAAAAAAAAAAAAAAAAAAAAAAAAAAAAAAAAAAAAAAAAAAAAAAAAAAAAAAAAAAAAAAAAAAAAAAAAAAAAAAAAAAAAAAAAAAAAAAAAAAAAAAAAAAAAAAAAAAAAAAAAAAAAAAAAAAAAAAAAAAAAAAAAAAAAAAAAAAAAAAAAAAAAAAAAAAAAAAAAAAAAAAAAAAAAAAAAAAAAAAAAAAAAAAAAAAAAAAAAAAAAAAAAAAAAAAAAAAAAAAAAAAAAAAAAAAAAAAAAAAAAAAAAAAAAAAAA=",
          "dtype": "f8"
         }
        },
        {
         "mode": "lines",
         "name": "destination_city_Delhi",
         "type": "scatter",
         "x": {
          "bdata": "U2Z8oiRm1EBIAGl1AlbTQLHfTbAOVNJA4NicI4xf0UDoi557x3fQQHIR2nktOM9ALQSSj7GXzUBdQtzD6QzMQF6dH420lspAtZRYeP8zyUB6ZdBfxuPHQLZYUawSpcZA/2JMoPp2xUAfcWusoFjEQCmnEs0yScNAmGVZ8OlHwkBOHApkCVTBQOnXPUvebMBAzhJcNn4jv0Bppbg9FoS9QC9LagJU+rtAOYetuhaFukCKXVWpTCO5QMu+B1Xy07dAhEDwyRGWtkD7j13lwWi1QJdTxaolS7RAjxOxoWs8s0AHTB08zTuyQO/72USOSLFAzuOBVfxhsEC8bkan3A6vQHqZc+mHcK1Ay6U/kcrnq0DCrj2UhHOqQG3CnuqkEqlA5FHzxijEp0Cr/1vYGoemQE6WnpaSWqVAFzObl7M9pEAtkaTtrC+jQAnlRI64L6JAVOf+wBo9oUAEiKCVIVegQDChhMNI+p5Aon4nigZdnUDBwjNoTdWbQPtaFBL+YZpA3zTgNAgCmUCdWqCuabSXQNGD/tAteJZApEDRrWxMlUAzIwJtSjCUQGYlUav2IpNA0gp/4asjkkAmp27TrjGRQFrJ0gZOTJBAPCoIgsLljkDgpj4XkkmNQF96I3/cwotAofJ6LINQikDPAcqAdvGIQFivIAW1pIdAgxdGrUpphkCIfLskUD6FQEEjEyXqIoRAN40e1UgWg0BvHX4wpxeCQNFaIndKJoFA7NZUpIFBgEAeisjZSdF+QIQUKYgqNn1AKQnxzXewe0Cc+L/bEz96QENOEcfv4HhA+72KwwqVd0C/X6VmcVp2QLBXJ/U8MHVAoBvruZIVdEBrOnhlowlzQGgA+HWqC3JAg3YWp+0acUAHCGZpvDZwQBg9w8HevG5A9XVc1M8ibUBGDIRMH55rQOwINxiwLWpAIxRwAHTQaEC+iPniaoVnQKtYk/ahS2ZAPf3iGDMiZUBi26olRAhkQGBRzVYG/WJAdhimrLX/YUC4wEpemA9hQBPaSFH+K2BA3rf7MIGoXkBIIlTzgQ9dQO99yfLSi1tA5dQ42lccWkA=",
          "dtype": "f8"
         },
         "y": {
          "bdata": "AAAAAAAAAAAAAAAAAAAAAAAAAAAAAAAAAAAAAAAAAAAAAAAAAAAAAAAAAAAAAAAAAAAAAAAAAAAAAAAAAAAAAAAAAAAAAAAAAAAAAAAAAAAAAAAAAAAAAAAAAAAAAAAAAAAAAAAAAAAAAAAAAAAAAAAAAAAAAAAAAAAAAAAAAAAAAAAAAAAAAAAAAAAAAAAAAAAAAAAAAAAAAAAAAAAAAAAAAAAAAAAAAAAAAAAAAAAAAAAAAAAAAAAAAAAAAAAAAAAAAAAAAAAAAAAAAAAAAAAAAAAAAAAAAAAAAAAAAAAAAAAAAAAAAAAAAAAAAAAAAAAAAAAAAAAAAAAAAAAAAAAAAAAAAAAAAAAAAAAAAAAAAAAAAAAAAAAAAAAAAAAAAAAAAAAAAAAAAAAAAAAAAAAAAAAAAAAAAAAAAAAAAAAAAAAAAAAAAAAAAAAAAAAAAAAAAAAAAAAAAAAAAAAAAAAAAAAAAAAAAAAAAAAAAAAAAAAAAAAAAAAAAAAAAAAAAAAAAAAAAAAAAAAAAAAAAAAAAAAAAACAAAAAAAAAAIAAAAAAAAAAgAAAAAAAAACAAAAAAAAAAIAAAAAAAAAAgAAAAAAAAACAAAAAAAAAAIAAAAAAAAAAgAAAAAAAAACAAAAAAAAAAIAAAAAAAAAAgAAAAAAAAACAAAAAAAAAAIAAAAAAAAAAgAAAAAAAAACAAAAAAAAAAIAAAAAAAAAAgAAAAAAAAACAAAAAAAAAAIAAAAAAAAAAgAAAAAAAAACAAAAAAAAAAIAAAAAAAAAAgAAAAAAAAACAAAAAAAAAAIAAAAAAAAAAgAAAAAAAAACAAAAAAAAAAIAAAAAAAAAAgAAAAAAAAACAAAAAAAAAAIAAAAAAAAAAgAAAAAAAAACAAAAAAAAAAIAAAAAAAAAAgAAAAAAAAACAAAAAAAAAAIAAAAAAAAAAgAAAAAAAAACAAAAAAAAAAIAAAAAAAAAAgAAAAAAAAACAAAAAAAAAAIAAAAAAAAAAgD/SqRmaFzfAQ4A/tmELU8DiLAW7jRFiwK8I/rf+92rAdooZSVi0ccA=",
          "dtype": "f8"
         }
        },
        {
         "mode": "lines",
         "name": "destination_city_Hyderabad",
         "type": "scatter",
         "x": {
          "bdata": "U2Z8oiRm1EBIAGl1AlbTQLHfTbAOVNJA4NicI4xf0UDoi557x3fQQHIR2nktOM9ALQSSj7GXzUBdQtzD6QzMQF6dH420lspAtZRYeP8zyUB6ZdBfxuPHQLZYUawSpcZA/2JMoPp2xUAfcWusoFjEQCmnEs0yScNAmGVZ8OlHwkBOHApkCVTBQOnXPUvebMBAzhJcNn4jv0Bppbg9FoS9QC9LagJU+rtAOYetuhaFukCKXVWpTCO5QMu+B1Xy07dAhEDwyRGWtkD7j13lwWi1QJdTxaolS7RAjxOxoWs8s0AHTB08zTuyQO/72USOSLFAzuOBVfxhsEC8bkan3A6vQHqZc+mHcK1Ay6U/kcrnq0DCrj2UhHOqQG3CnuqkEqlA5FHzxijEp0Cr/1vYGoemQE6WnpaSWqVAFzObl7M9pEAtkaTtrC+jQAnlRI64L6JAVOf+wBo9oUAEiKCVIVegQDChhMNI+p5Aon4nigZdnUDBwjNoTdWbQPtaFBL+YZpA3zTgNAgCmUCdWqCuabSXQNGD/tAteJZApEDRrWxMlUAzIwJtSjCUQGYlUav2IpNA0gp/4asjkkAmp27TrjGRQFrJ0gZOTJBAPCoIgsLljkDgpj4XkkmNQF96I3/cwotAofJ6LINQikDPAcqAdvGIQFivIAW1pIdAgxdGrUpphkCIfLskUD6FQEEjEyXqIoRAN40e1UgWg0BvHX4wpxeCQNFaIndKJoFA7NZUpIFBgEAeisjZSdF+QIQUKYgqNn1AKQnxzXewe0Cc+L/bEz96QENOEcfv4HhA+72KwwqVd0C/X6VmcVp2QLBXJ/U8MHVAoBvruZIVdEBrOnhlowlzQGgA+HWqC3JAg3YWp+0acUAHCGZpvDZwQBg9w8HevG5A9XVc1M8ibUBGDIRMH55rQOwINxiwLWpAIxRwAHTQaEC+iPniaoVnQKtYk/ahS2ZAPf3iGDMiZUBi26olRAhkQGBRzVYG/WJAdhimrLX/YUC4wEpemA9hQBPaSFH+K2BA3rf7MIGoXkBIIlTzgQ9dQO99yfLSi1tA5dQ42lccWkA=",
          "dtype": "f8"
         },
         "y": {
          "bdata": "AAAAAAAAAAAAAAAAAAAAAAAAAAAAAAAAAAAAAAAAAAAAAAAAAAAAAAAAAAAAAAAAAAAAAAAAAAAAAAAAAAAAAAAAAAAAAAAAAAAAAAAAAAAAAAAAAAAAAAAAAAAAAAAAAAAAAAAAAAAAAAAAAAAAAAAAAAAAAAAAAAAAAAAAAAAAAAAAAAAAAAAAAAAAAAAAAAAAAAAAAAAAAAAAAAAAAAAAAAAAAAAAAAAAAAAAAAAAAAAAAAAAAAAAAAAAAAAAAAAAAAAAAAAAAAAAAAAAAAAAAAAAAAAAAAAAAAAAAAAAAAAAAAAAAAAAAAAAAAAAAAAAAAAAAAAAAAAAAAAAAAAAAAAAAAAAAAAAAAAAAAAAAAAAAAAAAAAAAAAAAAAAAAAAAAAAAAAAAAAAAAAAAAAAAAAAAAAAAAAAAAAAAAAAAAAAAAAAAAAAAAAAAAAAAAAAAAAAAAAAAAAAAAAAAAAAAAAAAAAAAAAAAAAAAAAAAAAAAAAAAAAAAAAAAAAAAAAAAAAAAAAAAAAAAAAAAAAAAAAAAAAAAAAAAAAAAAAAAAAAAAAAAAAAAAAAAAAAAAAAAAAAAAAAAAAAAAAAAAAAAAAAAACAAAAAAAAAAIAAAAAAAAAAgAAAAAAAAACAAAAAAAAAAIAAAAAAAAAAgAAAAAAAAACAAAAAAAAAAIAAAAAAAAAAgAAAAAAAAACAAAAAAAAAAIAAAAAAAAAAgAAAAAAAAACAAAAAAAAAAIAAAAAAAAAAgAAAAAAAAACAAAAAAAAAAIAAAAAAAAAAgAAAAAAAAACAAAAAAAAAAIAAAAAAAAAAgAAAAAAAAACAAAAAAAAAAIAAAAAAAAAAgAAAAAAAAACAAAAAAAAAAIAAAAAAAAAAgAAAAAAAAACAAAAAAAAAAIAAAAAAAAAAgAAAAAAAAACAAAAAAAAAAIAAAAAAAAAAgAAAAAAAAACAAAAAAAAAAIAAAAAAAAAAgAAAAAAAAACAAAAAAAAAAIAAAAAAAAAAgAAAAAAAAACA9Vd18oBfRMD+ZerBZT5cwBy6wgtDg2jAVsCMcAgtccA=",
          "dtype": "f8"
         }
        },
        {
         "mode": "lines",
         "name": "destination_city_Kolkata",
         "type": "scatter",
         "x": {
          "bdata": "U2Z8oiRm1EBIAGl1AlbTQLHfTbAOVNJA4NicI4xf0UDoi557x3fQQHIR2nktOM9ALQSSj7GXzUBdQtzD6QzMQF6dH420lspAtZRYeP8zyUB6ZdBfxuPHQLZYUawSpcZA/2JMoPp2xUAfcWusoFjEQCmnEs0yScNAmGVZ8OlHwkBOHApkCVTBQOnXPUvebMBAzhJcNn4jv0Bppbg9FoS9QC9LagJU+rtAOYetuhaFukCKXVWpTCO5QMu+B1Xy07dAhEDwyRGWtkD7j13lwWi1QJdTxaolS7RAjxOxoWs8s0AHTB08zTuyQO/72USOSLFAzuOBVfxhsEC8bkan3A6vQHqZc+mHcK1Ay6U/kcrnq0DCrj2UhHOqQG3CnuqkEqlA5FHzxijEp0Cr/1vYGoemQE6WnpaSWqVAFzObl7M9pEAtkaTtrC+jQAnlRI64L6JAVOf+wBo9oUAEiKCVIVegQDChhMNI+p5Aon4nigZdnUDBwjNoTdWbQPtaFBL+YZpA3zTgNAgCmUCdWqCuabSXQNGD/tAteJZApEDRrWxMlUAzIwJtSjCUQGYlUav2IpNA0gp/4asjkkAmp27TrjGRQFrJ0gZOTJBAPCoIgsLljkDgpj4XkkmNQF96I3/cwotAofJ6LINQikDPAcqAdvGIQFivIAW1pIdAgxdGrUpphkCIfLskUD6FQEEjEyXqIoRAN40e1UgWg0BvHX4wpxeCQNFaIndKJoFA7NZUpIFBgEAeisjZSdF+QIQUKYgqNn1AKQnxzXewe0Cc+L/bEz96QENOEcfv4HhA+72KwwqVd0C/X6VmcVp2QLBXJ/U8MHVAoBvruZIVdEBrOnhlowlzQGgA+HWqC3JAg3YWp+0acUAHCGZpvDZwQBg9w8HevG5A9XVc1M8ibUBGDIRMH55rQOwINxiwLWpAIxRwAHTQaEC+iPniaoVnQKtYk/ahS2ZAPf3iGDMiZUBi26olRAhkQGBRzVYG/WJAdhimrLX/YUC4wEpemA9hQBPaSFH+K2BA3rf7MIGoXkBIIlTzgQ9dQO99yfLSi1tA5dQ42lccWkA=",
          "dtype": "f8"
         },
         "y": {
          "bdata": "AAAAAAAAAAAAAAAAAAAAAAAAAAAAAAAAAAAAAAAAAAAAAAAAAAAAAAAAAAAAAAAAAAAAAAAAAAAAAAAAAAAAAAAAAAAAAAAAAAAAAAAAAAAAAAAAAAAAAAAAAAAAAAAAAAAAAAAAAAAAAAAAAAAAAAAAAAAAAAAAAAAAAAAAAAAAAAAAAAAAAAAAAAAAAAAAAAAAAAAAAAAAAAAAAAAAAAAAAAAAAAAAAAAAAAAAAAAAAAAAAAAAAAAAAAAAAAAAAAAAAAAAAAAAAAAAAAAAAAAAAAAAAAAAAAAAAAAAAAAAAAAAAAAAAAAAAAAAAAAAAAAAAAAAAAAAAAAAAAAAAAAAAAAAAAAAAAAAAAAAAAAAAAAAAAAAAAAAAAAAAAAAAAAAAAAAAAAAAAAAAAAAAAAAAAAAAAAAAAAAAAAAAAAAAAAAAAAAAAAAAAAAAAAAAAAAAAAAAAAAAAAAAAAAAAAAAAAAAAAAAAAAAAAAAAAAAAAAAAAAAAAAAAAAAAAAAAAAAAAAAAAAAAAAAAAAAAAAAAAAAAAAAAAAAAAAAAAAAAAAAAAAAAAAAAAAAAAAAAAAAAAAAAAAAAAAAAAAAAAAAAAAAAAAAAAAAAAAAAAAAAAAAAAAAAAAAAAAAAAAAAAAAAAAAAAAAAAAAAAAAAAAAAAAAAAAAAAAAAAAAAAAAAAAAAAAAAAAAAAAAAAAAAAAAAAAAAAAAAAAAAAAAAAAAAAAAAAAAAAAAAAAAAAAAAAAAAAAAAAAAAAAAAAAAAAAAAAAAAAAAAAAAAAAAAAAAAAAAAAAAAAAAAAAAAAAAAAAAAAAAAAAAAAAAAAAAAAAAAAAAAAAAAAAAAAAAFW2Y2WtQkxAu6aUCUkZZUDh/Iz79zJxQL3qJCmOgHdAzhhPJBV8fUBtkYjr/ZKBQGkRsZkRQoRAUKmHt1TNhkAzi9cwtDiJQBuPW2lVn4tAHVpYDL7kjUBhZg7sP/WPQAHH9W0A7ZBAbLJI+sXYkUDoOxH5MriSQLpYyMPxc5NApXMK4kb7k0Dhe/vQSUqUQHjq57KZhJRAJRwSPge0lEA=",
          "dtype": "f8"
         }
        },
        {
         "mode": "lines",
         "name": "destination_city_Mumbai",
         "type": "scatter",
         "x": {
          "bdata": "U2Z8oiRm1EBIAGl1AlbTQLHfTbAOVNJA4NicI4xf0UDoi557x3fQQHIR2nktOM9ALQSSj7GXzUBdQtzD6QzMQF6dH420lspAtZRYeP8zyUB6ZdBfxuPHQLZYUawSpcZA/2JMoPp2xUAfcWusoFjEQCmnEs0yScNAmGVZ8OlHwkBOHApkCVTBQOnXPUvebMBAzhJcNn4jv0Bppbg9FoS9QC9LagJU+rtAOYetuhaFukCKXVWpTCO5QMu+B1Xy07dAhEDwyRGWtkD7j13lwWi1QJdTxaolS7RAjxOxoWs8s0AHTB08zTuyQO/72USOSLFAzuOBVfxhsEC8bkan3A6vQHqZc+mHcK1Ay6U/kcrnq0DCrj2UhHOqQG3CnuqkEqlA5FHzxijEp0Cr/1vYGoemQE6WnpaSWqVAFzObl7M9pEAtkaTtrC+jQAnlRI64L6JAVOf+wBo9oUAEiKCVIVegQDChhMNI+p5Aon4nigZdnUDBwjNoTdWbQPtaFBL+YZpA3zTgNAgCmUCdWqCuabSXQNGD/tAteJZApEDRrWxMlUAzIwJtSjCUQGYlUav2IpNA0gp/4asjkkAmp27TrjGRQFrJ0gZOTJBAPCoIgsLljkDgpj4XkkmNQF96I3/cwotAofJ6LINQikDPAcqAdvGIQFivIAW1pIdAgxdGrUpphkCIfLskUD6FQEEjEyXqIoRAN40e1UgWg0BvHX4wpxeCQNFaIndKJoFA7NZUpIFBgEAeisjZSdF+QIQUKYgqNn1AKQnxzXewe0Cc+L/bEz96QENOEcfv4HhA+72KwwqVd0C/X6VmcVp2QLBXJ/U8MHVAoBvruZIVdEBrOnhlowlzQGgA+HWqC3JAg3YWp+0acUAHCGZpvDZwQBg9w8HevG5A9XVc1M8ibUBGDIRMH55rQOwINxiwLWpAIxRwAHTQaEC+iPniaoVnQKtYk/ahS2ZAPf3iGDMiZUBi26olRAhkQGBRzVYG/WJAdhimrLX/YUC4wEpemA9hQBPaSFH+K2BA3rf7MIGoXkBIIlTzgQ9dQO99yfLSi1tA5dQ42lccWkA=",
          "dtype": "f8"
         },
         "y": {
          "bdata": "AAAAAAAAAAAAAAAAAAAAAAAAAAAAAAAAAAAAAAAAAAAAAAAAAAAAAAAAAAAAAAAAAAAAAAAAAAAAAAAAAAAAAAAAAAAAAAAAAAAAAAAAAAAAAAAAAAAAAAAAAAAAAAAAAAAAAAAAAAAAAAAAAAAAAAAAAAAAAAAAAAAAAAAAAAAAAAAAAAAAAAAAAAAAAAAAAAAAAAAAAAAAAAAAAAAAAAAAAAAAAAAAAAAAAAAAAAAAAAAAAAAAAAAAAAAAAAAAAAAAAAAAAAAAAAAAAAAAAAAAAAAAAAAAAAAAAAAAAAAAAAAAAAAAAAAAAAAAAAAAAAAAAAAAAAAAAAAAAAAAAAAAAAAAAAAAAAAAAAAAAAAAAAAAAAAAAAAAAAAAAAAAAAAAAAAAAAAAAAAAAAAAAAAAAAAAAAAAAAAAAAAAAAAAAAAAAAAAAAAAAAAAAAAAAAAAAAAAAAAAAAAAAAAAAAAAAAAAAAAAAAAAAAAAAAAAAAAAAAAAAAAAAAAAAAAAAAAAAAAAAAAAAAAAAAAAAAAAAAAAAAAAAAAAAAAAAAAAAAAAAAAAAAAAAAAAAAAAAAAAAAAAAAAAAAAAAAAAAAAAAAAAAAAAAAAAAAAAAAAAAAAAAAAAAAAAAAAAAAAAAAAAAAAAAAAAAAAAAAAAAAAAAAAAAAAAAAAAAAAAAAAAAAAAAAAAAAAAAAAAAAAAAAAAAAAAAAAAAAAAAAAAAAAAAAAAAAAAAAAAAAAAAAAAAAAAAAAAAAAAAAAAAAAAAAAAAAAAAAAAAAAAAAAAAAAAAAAAAAAAAAAAAAAAAAAAAAAAAAAAAAAAAAAAAAAAAAAAAAAAAAAAAAAAAAAAAAAAAAAAAAAAAAAAAAAAAAAAAAAAAAAAAAAAAAAAAAAAAAAAAAAAAAAAAAAAAAAAAAAAAAAAAAAAAAAAAAAAAAAAAAAAAAAAAAAAAAAAAAAAAAAAAAAAAAAAAAAAAAAAAAAAAAAAAAAAAAAAAAAAAAAAAAAAAAAAAAAAAAAAAAAAAAAAAAAAAAAAAAAAAAAAAAAAAAAAAAAAAAAAAAAAAAA=",
          "dtype": "f8"
         }
        },
        {
         "mode": "lines",
         "name": "class_Economy",
         "type": "scatter",
         "x": {
          "bdata": "U2Z8oiRm1EBIAGl1AlbTQLHfTbAOVNJA4NicI4xf0UDoi557x3fQQHIR2nktOM9ALQSSj7GXzUBdQtzD6QzMQF6dH420lspAtZRYeP8zyUB6ZdBfxuPHQLZYUawSpcZA/2JMoPp2xUAfcWusoFjEQCmnEs0yScNAmGVZ8OlHwkBOHApkCVTBQOnXPUvebMBAzhJcNn4jv0Bppbg9FoS9QC9LagJU+rtAOYetuhaFukCKXVWpTCO5QMu+B1Xy07dAhEDwyRGWtkD7j13lwWi1QJdTxaolS7RAjxOxoWs8s0AHTB08zTuyQO/72USOSLFAzuOBVfxhsEC8bkan3A6vQHqZc+mHcK1Ay6U/kcrnq0DCrj2UhHOqQG3CnuqkEqlA5FHzxijEp0Cr/1vYGoemQE6WnpaSWqVAFzObl7M9pEAtkaTtrC+jQAnlRI64L6JAVOf+wBo9oUAEiKCVIVegQDChhMNI+p5Aon4nigZdnUDBwjNoTdWbQPtaFBL+YZpA3zTgNAgCmUCdWqCuabSXQNGD/tAteJZApEDRrWxMlUAzIwJtSjCUQGYlUav2IpNA0gp/4asjkkAmp27TrjGRQFrJ0gZOTJBAPCoIgsLljkDgpj4XkkmNQF96I3/cwotAofJ6LINQikDPAcqAdvGIQFivIAW1pIdAgxdGrUpphkCIfLskUD6FQEEjEyXqIoRAN40e1UgWg0BvHX4wpxeCQNFaIndKJoFA7NZUpIFBgEAeisjZSdF+QIQUKYgqNn1AKQnxzXewe0Cc+L/bEz96QENOEcfv4HhA+72KwwqVd0C/X6VmcVp2QLBXJ/U8MHVAoBvruZIVdEBrOnhlowlzQGgA+HWqC3JAg3YWp+0acUAHCGZpvDZwQBg9w8HevG5A9XVc1M8ibUBGDIRMH55rQOwINxiwLWpAIxRwAHTQaEC+iPniaoVnQKtYk/ahS2ZAPf3iGDMiZUBi26olRAhkQGBRzVYG/WJAdhimrLX/YUC4wEpemA9hQBPaSFH+K2BA3rf7MIGoXkBIIlTzgQ9dQO99yfLSi1tA5dQ42lccWkA=",
          "dtype": "f8"
         },
         "y": {
          "bdata": "AAAAAAAAAAAAAAAAAAAAAAAAAAAAAAAAAAAAAAAAAAAAAAAAAAAAAAAAAAAAAAAAAAAAAAAAAAAAAAAAAAAAAAAAAAAAAACAAAAAAAAAAIAAAAAAAAAAgAAAAAAAAACAAAAAAAAAAIAAAAAAAAAAgAAAAAAAAACAAAAAAAAAAIAAAAAAAAAAgAAAAAAAAACAAAAAAAAAAIAAAAAAAAAAgAAAAAAAAACAAAAAAAAAAIAAAAAAAAAAgAAAAAAAAACAAAAAAAAAAIDXdPFbZdSbwPFCN0oyY6/AUQ0WbtT4t8BqTCrovtK/wHppU8JOocPAcHSKw0kox8Aw9gKGc3/KwI3VCpfPqs3AgADsKIBV0MDTgbjlBcLRwL2am2KNG9PAtDdB5qth1MA0s28CgJPVwKClsZxjtdbAgwgmI57H18DeyotkGszYwH7rAFMFw9nA+UgeQxKt2sANIaT2V4rbwCszzVKoXNzA9SKzRgUk3cAzoaMko+DdwIDdzWxjk97AjPDE8j4838CaIU3V3tzfwNap5WuROuDA1pu3zbuC4MBUP5N1I8fgwG5zmo76B+HA9fDOpnBF4cAbd8vRsn/hwEyRZO6stuHAfzTp0gbr4cDg2jzvpxziwJHScwGzS+LAA7b0fkp44sCoCLwbj6LiwNnroFVkyuLAvIuBpV/w4sDv7TI5YhTjwLcCSHmENuPAcukRrkpX48BXUgeWc3bjwGBCu4wClOPAOC9qWQew48Aw0khelsrjwOqUWUSO4+PABM48+Wv748DZRL4jDRLkwLVNcnuAJ+TAQWRUqtU75MC4clCZG0/kwPiorIcuYeTAgvMT5n9y5MCr1o927ILkwIkIL/C2kuTAj507Mcah5MAY9suAFLDkwOJGmqCkveTAdvwcg1HK5MCqXQK9ftbkwM+DdewN4uTA+VdLXgPt5MDsEvbTZvfkwKQtQIwMAeXAD6b/4lIK5cBCXaS6FhPlwP2gD2VjG+XAHDX3Mk8j5cAEIJEryyrlwBQGiR+xMeXAleJjDHY45cDGUmyurT7lwBEmw9WRROXAbQpuF29L5cA=",
          "dtype": "f8"
         }
        }
       ],
       "layout": {
        "legend": {
         "title": {
          "text": "Features"
         }
        },
        "template": {
         "data": {
          "bar": [
           {
            "error_x": {
             "color": "#2a3f5f"
            },
            "error_y": {
             "color": "#2a3f5f"
            },
            "marker": {
             "line": {
              "color": "white",
              "width": 0.5
             },
             "pattern": {
              "fillmode": "overlay",
              "size": 10,
              "solidity": 0.2
             }
            },
            "type": "bar"
           }
          ],
          "barpolar": [
           {
            "marker": {
             "line": {
              "color": "white",
              "width": 0.5
             },
             "pattern": {
              "fillmode": "overlay",
              "size": 10,
              "solidity": 0.2
             }
            },
            "type": "barpolar"
           }
          ],
          "carpet": [
           {
            "aaxis": {
             "endlinecolor": "#2a3f5f",
             "gridcolor": "#C8D4E3",
             "linecolor": "#C8D4E3",
             "minorgridcolor": "#C8D4E3",
             "startlinecolor": "#2a3f5f"
            },
            "baxis": {
             "endlinecolor": "#2a3f5f",
             "gridcolor": "#C8D4E3",
             "linecolor": "#C8D4E3",
             "minorgridcolor": "#C8D4E3",
             "startlinecolor": "#2a3f5f"
            },
            "type": "carpet"
           }
          ],
          "choropleth": [
           {
            "colorbar": {
             "outlinewidth": 0,
             "ticks": ""
            },
            "type": "choropleth"
           }
          ],
          "contour": [
           {
            "colorbar": {
             "outlinewidth": 0,
             "ticks": ""
            },
            "colorscale": [
             [
              0,
              "#0d0887"
             ],
             [
              0.1111111111111111,
              "#46039f"
             ],
             [
              0.2222222222222222,
              "#7201a8"
             ],
             [
              0.3333333333333333,
              "#9c179e"
             ],
             [
              0.4444444444444444,
              "#bd3786"
             ],
             [
              0.5555555555555556,
              "#d8576b"
             ],
             [
              0.6666666666666666,
              "#ed7953"
             ],
             [
              0.7777777777777778,
              "#fb9f3a"
             ],
             [
              0.8888888888888888,
              "#fdca26"
             ],
             [
              1,
              "#f0f921"
             ]
            ],
            "type": "contour"
           }
          ],
          "contourcarpet": [
           {
            "colorbar": {
             "outlinewidth": 0,
             "ticks": ""
            },
            "type": "contourcarpet"
           }
          ],
          "heatmap": [
           {
            "colorbar": {
             "outlinewidth": 0,
             "ticks": ""
            },
            "colorscale": [
             [
              0,
              "#0d0887"
             ],
             [
              0.1111111111111111,
              "#46039f"
             ],
             [
              0.2222222222222222,
              "#7201a8"
             ],
             [
              0.3333333333333333,
              "#9c179e"
             ],
             [
              0.4444444444444444,
              "#bd3786"
             ],
             [
              0.5555555555555556,
              "#d8576b"
             ],
             [
              0.6666666666666666,
              "#ed7953"
             ],
             [
              0.7777777777777778,
              "#fb9f3a"
             ],
             [
              0.8888888888888888,
              "#fdca26"
             ],
             [
              1,
              "#f0f921"
             ]
            ],
            "type": "heatmap"
           }
          ],
          "histogram": [
           {
            "marker": {
             "pattern": {
              "fillmode": "overlay",
              "size": 10,
              "solidity": 0.2
             }
            },
            "type": "histogram"
           }
          ],
          "histogram2d": [
           {
            "colorbar": {
             "outlinewidth": 0,
             "ticks": ""
            },
            "colorscale": [
             [
              0,
              "#0d0887"
             ],
             [
              0.1111111111111111,
              "#46039f"
             ],
             [
              0.2222222222222222,
              "#7201a8"
             ],
             [
              0.3333333333333333,
              "#9c179e"
             ],
             [
              0.4444444444444444,
              "#bd3786"
             ],
             [
              0.5555555555555556,
              "#d8576b"
             ],
             [
              0.6666666666666666,
              "#ed7953"
             ],
             [
              0.7777777777777778,
              "#fb9f3a"
             ],
             [
              0.8888888888888888,
              "#fdca26"
             ],
             [
              1,
              "#f0f921"
             ]
            ],
            "type": "histogram2d"
           }
          ],
          "histogram2dcontour": [
           {
            "colorbar": {
             "outlinewidth": 0,
             "ticks": ""
            },
            "colorscale": [
             [
              0,
              "#0d0887"
             ],
             [
              0.1111111111111111,
              "#46039f"
             ],
             [
              0.2222222222222222,
              "#7201a8"
             ],
             [
              0.3333333333333333,
              "#9c179e"
             ],
             [
              0.4444444444444444,
              "#bd3786"
             ],
             [
              0.5555555555555556,
              "#d8576b"
             ],
             [
              0.6666666666666666,
              "#ed7953"
             ],
             [
              0.7777777777777778,
              "#fb9f3a"
             ],
             [
              0.8888888888888888,
              "#fdca26"
             ],
             [
              1,
              "#f0f921"
             ]
            ],
            "type": "histogram2dcontour"
           }
          ],
          "mesh3d": [
           {
            "colorbar": {
             "outlinewidth": 0,
             "ticks": ""
            },
            "type": "mesh3d"
           }
          ],
          "parcoords": [
           {
            "line": {
             "colorbar": {
              "outlinewidth": 0,
              "ticks": ""
             }
            },
            "type": "parcoords"
           }
          ],
          "pie": [
           {
            "automargin": true,
            "type": "pie"
           }
          ],
          "scatter": [
           {
            "fillpattern": {
             "fillmode": "overlay",
             "size": 10,
             "solidity": 0.2
            },
            "type": "scatter"
           }
          ],
          "scatter3d": [
           {
            "line": {
             "colorbar": {
              "outlinewidth": 0,
              "ticks": ""
             }
            },
            "marker": {
             "colorbar": {
              "outlinewidth": 0,
              "ticks": ""
             }
            },
            "type": "scatter3d"
           }
          ],
          "scattercarpet": [
           {
            "marker": {
             "colorbar": {
              "outlinewidth": 0,
              "ticks": ""
             }
            },
            "type": "scattercarpet"
           }
          ],
          "scattergeo": [
           {
            "marker": {
             "colorbar": {
              "outlinewidth": 0,
              "ticks": ""
             }
            },
            "type": "scattergeo"
           }
          ],
          "scattergl": [
           {
            "marker": {
             "colorbar": {
              "outlinewidth": 0,
              "ticks": ""
             }
            },
            "type": "scattergl"
           }
          ],
          "scattermap": [
           {
            "marker": {
             "colorbar": {
              "outlinewidth": 0,
              "ticks": ""
             }
            },
            "type": "scattermap"
           }
          ],
          "scattermapbox": [
           {
            "marker": {
             "colorbar": {
              "outlinewidth": 0,
              "ticks": ""
             }
            },
            "type": "scattermapbox"
           }
          ],
          "scatterpolar": [
           {
            "marker": {
             "colorbar": {
              "outlinewidth": 0,
              "ticks": ""
             }
            },
            "type": "scatterpolar"
           }
          ],
          "scatterpolargl": [
           {
            "marker": {
             "colorbar": {
              "outlinewidth": 0,
              "ticks": ""
             }
            },
            "type": "scatterpolargl"
           }
          ],
          "scatterternary": [
           {
            "marker": {
             "colorbar": {
              "outlinewidth": 0,
              "ticks": ""
             }
            },
            "type": "scatterternary"
           }
          ],
          "surface": [
           {
            "colorbar": {
             "outlinewidth": 0,
             "ticks": ""
            },
            "colorscale": [
             [
              0,
              "#0d0887"
             ],
             [
              0.1111111111111111,
              "#46039f"
             ],
             [
              0.2222222222222222,
              "#7201a8"
             ],
             [
              0.3333333333333333,
              "#9c179e"
             ],
             [
              0.4444444444444444,
              "#bd3786"
             ],
             [
              0.5555555555555556,
              "#d8576b"
             ],
             [
              0.6666666666666666,
              "#ed7953"
             ],
             [
              0.7777777777777778,
              "#fb9f3a"
             ],
             [
              0.8888888888888888,
              "#fdca26"
             ],
             [
              1,
              "#f0f921"
             ]
            ],
            "type": "surface"
           }
          ],
          "table": [
           {
            "cells": {
             "fill": {
              "color": "#EBF0F8"
             },
             "line": {
              "color": "white"
             }
            },
            "header": {
             "fill": {
              "color": "#C8D4E3"
             },
             "line": {
              "color": "white"
             }
            },
            "type": "table"
           }
          ]
         },
         "layout": {
          "annotationdefaults": {
           "arrowcolor": "#2a3f5f",
           "arrowhead": 0,
           "arrowwidth": 1
          },
          "autotypenumbers": "strict",
          "coloraxis": {
           "colorbar": {
            "outlinewidth": 0,
            "ticks": ""
           }
          },
          "colorscale": {
           "diverging": [
            [
             0,
             "#8e0152"
            ],
            [
             0.1,
             "#c51b7d"
            ],
            [
             0.2,
             "#de77ae"
            ],
            [
             0.3,
             "#f1b6da"
            ],
            [
             0.4,
             "#fde0ef"
            ],
            [
             0.5,
             "#f7f7f7"
            ],
            [
             0.6,
             "#e6f5d0"
            ],
            [
             0.7,
             "#b8e186"
            ],
            [
             0.8,
             "#7fbc41"
            ],
            [
             0.9,
             "#4d9221"
            ],
            [
             1,
             "#276419"
            ]
           ],
           "sequential": [
            [
             0,
             "#0d0887"
            ],
            [
             0.1111111111111111,
             "#46039f"
            ],
            [
             0.2222222222222222,
             "#7201a8"
            ],
            [
             0.3333333333333333,
             "#9c179e"
            ],
            [
             0.4444444444444444,
             "#bd3786"
            ],
            [
             0.5555555555555556,
             "#d8576b"
            ],
            [
             0.6666666666666666,
             "#ed7953"
            ],
            [
             0.7777777777777778,
             "#fb9f3a"
            ],
            [
             0.8888888888888888,
             "#fdca26"
            ],
            [
             1,
             "#f0f921"
            ]
           ],
           "sequentialminus": [
            [
             0,
             "#0d0887"
            ],
            [
             0.1111111111111111,
             "#46039f"
            ],
            [
             0.2222222222222222,
             "#7201a8"
            ],
            [
             0.3333333333333333,
             "#9c179e"
            ],
            [
             0.4444444444444444,
             "#bd3786"
            ],
            [
             0.5555555555555556,
             "#d8576b"
            ],
            [
             0.6666666666666666,
             "#ed7953"
            ],
            [
             0.7777777777777778,
             "#fb9f3a"
            ],
            [
             0.8888888888888888,
             "#fdca26"
            ],
            [
             1,
             "#f0f921"
            ]
           ]
          },
          "colorway": [
           "#636efa",
           "#EF553B",
           "#00cc96",
           "#ab63fa",
           "#FFA15A",
           "#19d3f3",
           "#FF6692",
           "#B6E880",
           "#FF97FF",
           "#FECB52"
          ],
          "font": {
           "color": "#2a3f5f"
          },
          "geo": {
           "bgcolor": "white",
           "lakecolor": "white",
           "landcolor": "white",
           "showlakes": true,
           "showland": true,
           "subunitcolor": "#C8D4E3"
          },
          "hoverlabel": {
           "align": "left"
          },
          "hovermode": "closest",
          "mapbox": {
           "style": "light"
          },
          "paper_bgcolor": "white",
          "plot_bgcolor": "white",
          "polar": {
           "angularaxis": {
            "gridcolor": "#EBF0F8",
            "linecolor": "#EBF0F8",
            "ticks": ""
           },
           "bgcolor": "white",
           "radialaxis": {
            "gridcolor": "#EBF0F8",
            "linecolor": "#EBF0F8",
            "ticks": ""
           }
          },
          "scene": {
           "xaxis": {
            "backgroundcolor": "white",
            "gridcolor": "#DFE8F3",
            "gridwidth": 2,
            "linecolor": "#EBF0F8",
            "showbackground": true,
            "ticks": "",
            "zerolinecolor": "#EBF0F8"
           },
           "yaxis": {
            "backgroundcolor": "white",
            "gridcolor": "#DFE8F3",
            "gridwidth": 2,
            "linecolor": "#EBF0F8",
            "showbackground": true,
            "ticks": "",
            "zerolinecolor": "#EBF0F8"
           },
           "zaxis": {
            "backgroundcolor": "white",
            "gridcolor": "#DFE8F3",
            "gridwidth": 2,
            "linecolor": "#EBF0F8",
            "showbackground": true,
            "ticks": "",
            "zerolinecolor": "#EBF0F8"
           }
          },
          "shapedefaults": {
           "line": {
            "color": "#2a3f5f"
           }
          },
          "ternary": {
           "aaxis": {
            "gridcolor": "#DFE8F3",
            "linecolor": "#A2B1C6",
            "ticks": ""
           },
           "baxis": {
            "gridcolor": "#DFE8F3",
            "linecolor": "#A2B1C6",
            "ticks": ""
           },
           "bgcolor": "white",
           "caxis": {
            "gridcolor": "#DFE8F3",
            "linecolor": "#A2B1C6",
            "ticks": ""
           }
          },
          "title": {
           "x": 0.05
          },
          "xaxis": {
           "automargin": true,
           "gridcolor": "#EBF0F8",
           "linecolor": "#EBF0F8",
           "ticks": "",
           "title": {
            "standoff": 15
           },
           "zerolinecolor": "#EBF0F8",
           "zerolinewidth": 2
          },
          "yaxis": {
           "automargin": true,
           "gridcolor": "#EBF0F8",
           "linecolor": "#EBF0F8",
           "ticks": "",
           "title": {
            "standoff": 15
           },
           "zerolinecolor": "#EBF0F8",
           "zerolinewidth": 2
          }
         }
        },
        "title": {
         "text": "Lasso Regularization Path"
        },
        "xaxis": {
         "title": {
          "text": "Alpha (log scale)"
         },
         "type": "log"
        },
        "yaxis": {
         "title": {
          "text": "Coefficient Value"
         }
        }
       }
      }
     },
     "metadata": {},
     "output_type": "display_data"
    }
   ],
   "source": [
    "from sklearn.linear_model import lasso_path\n",
    "from itertools import cycle\n",
    "# Compute Lasso path\n",
    "alphas_lasso, coefs_lasso, _ = lasso_path(X_preprocessed, y_train, eps=5e-3)\n",
    "\n",
    "# Create interactive plot\n",
    "fig = go.Figure()\n",
    "\n",
    "feature_names = X_preprocessed.columns.to_list()\n",
    "for coef, name in zip(coefs_lasso, feature_names):\n",
    "    fig.add_trace(go.Scatter(\n",
    "        x=alphas_lasso,\n",
    "        y=coef,\n",
    "        mode='lines',\n",
    "        name=name,\n",
    "        # line=dict(color=color),\n",
    "    ))\n",
    "\n",
    "fig.update_layout(\n",
    "    title='Lasso Regularization Path',\n",
    "    xaxis=dict(title='Alpha (log scale)', type='log'),\n",
    "    yaxis=dict(title='Coefficient Value'),\n",
    "    legend_title_text='Features',\n",
    "    template='plotly_white'\n",
    ")"
   ]
  },
  {
   "cell_type": "code",
   "execution_count": null,
   "id": "8663c26e",
   "metadata": {},
   "outputs": [],
   "source": []
  },
  {
   "cell_type": "code",
   "execution_count": null,
   "id": "d9a83883",
   "metadata": {},
   "outputs": [],
   "source": []
  }
 ],
 "metadata": {
  "kernelspec": {
   "display_name": "tru_linear_models_assignments",
   "language": "python",
   "name": "python3"
  },
  "language_info": {
   "codemirror_mode": {
    "name": "ipython",
    "version": 3
   },
   "file_extension": ".py",
   "mimetype": "text/x-python",
   "name": "python",
   "nbconvert_exporter": "python",
   "pygments_lexer": "ipython3",
   "version": "3.12.9"
  }
 },
 "nbformat": 4,
 "nbformat_minor": 5
}
