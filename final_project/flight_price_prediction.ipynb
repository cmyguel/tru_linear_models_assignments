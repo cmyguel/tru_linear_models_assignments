{
 "cells": [
  {
   "cell_type": "markdown",
   "id": "20162243",
   "metadata": {},
   "source": [
    "# Flight Price Prediction\n",
    "\n",
    "References:\n",
    "- model selection: https://scikit-learn.org/stable/auto_examples/linear_model/plot_lasso_model_selection.html\n",
    "- learning paths: https://scikit-learn.org/stable/auto_examples/linear_model/plot_lasso_lasso_lars_elasticnet_path.html"
   ]
  },
  {
   "cell_type": "code",
   "execution_count": 1,
   "id": "d5d26eb9",
   "metadata": {},
   "outputs": [
    {
     "name": "stderr",
     "output_type": "stream",
     "text": [
      "c:\\Users\\AsusTUF\\anaconda3\\envs\\tru_linear_models_assignments\\Lib\\site-packages\\tqdm\\auto.py:21: TqdmWarning: IProgress not found. Please update jupyter and ipywidgets. See https://ipywidgets.readthedocs.io/en/stable/user_install.html\n",
      "  from .autonotebook import tqdm as notebook_tqdm\n"
     ]
    },
    {
     "data": {
      "text/html": [
       "\n",
       "            <div>\n",
       "                <ins><a href=\"https://ydata.ai/register\">Upgrade to ydata-sdk</a></ins>\n",
       "                <p>\n",
       "                    Improve your data and profiling with ydata-sdk, featuring data quality scoring, redundancy detection, outlier identification, text validation, and synthetic data generation.\n",
       "                </p>\n",
       "            </div>\n",
       "            "
      ],
      "text/plain": [
       "<IPython.core.display.HTML object>"
      ]
     },
     "metadata": {},
     "output_type": "display_data"
    }
   ],
   "source": [
    "from pathlib import Path\n",
    "import numpy as np\n",
    "import pandas as pd\n",
    "from ydata_profiling import ProfileReport\n",
    "\n",
    "import seaborn as sns\n",
    "import matplotlib.pyplot as plt\n",
    "import plotly.express as px\n",
    "\n",
    "import statsmodels.api as sm\n",
    "import statsmodels.formula.api as smf\n",
    "from statsmodels.stats.stattools import durbin_watson\n",
    "\n",
    "from sklearn.model_selection import train_test_split\n",
    "from sklearn.pipeline import make_pipeline, Pipeline\n",
    "from sklearn.compose import ColumnTransformer\n",
    "from sklearn.preprocessing import StandardScaler\n",
    "from sklearn.linear_model import Lasso, LassoCV\n",
    "from sklearn.metrics import r2_score, mean_squared_error, mean_absolute_error, root_mean_squared_error"
   ]
  },
  {
   "cell_type": "code",
   "execution_count": 2,
   "id": "14239277",
   "metadata": {},
   "outputs": [],
   "source": [
    "pd.set_option('display.max_columns', 50)\n",
    "\n",
    "SIMPLIFIED_PLOTS = True\n",
    "PLOT_SUMSAMPLE = 2000 # Used for heavy plots like scatter"
   ]
  },
  {
   "cell_type": "code",
   "execution_count": 3,
   "id": "74402378-599c-4bc0-85a4-f99a371b7367",
   "metadata": {},
   "outputs": [
    {
     "data": {
      "text/html": [
       "<div>\n",
       "<style scoped>\n",
       "    .dataframe tbody tr th:only-of-type {\n",
       "        vertical-align: middle;\n",
       "    }\n",
       "\n",
       "    .dataframe tbody tr th {\n",
       "        vertical-align: top;\n",
       "    }\n",
       "\n",
       "    .dataframe thead th {\n",
       "        text-align: right;\n",
       "    }\n",
       "</style>\n",
       "<table border=\"1\" class=\"dataframe\">\n",
       "  <thead>\n",
       "    <tr style=\"text-align: right;\">\n",
       "      <th></th>\n",
       "      <th>airline</th>\n",
       "      <th>flight</th>\n",
       "      <th>source_city</th>\n",
       "      <th>departure_time</th>\n",
       "      <th>stops</th>\n",
       "      <th>arrival_time</th>\n",
       "      <th>destination_city</th>\n",
       "      <th>class</th>\n",
       "      <th>duration</th>\n",
       "      <th>days_left</th>\n",
       "      <th>price</th>\n",
       "    </tr>\n",
       "  </thead>\n",
       "  <tbody>\n",
       "    <tr>\n",
       "      <th>0</th>\n",
       "      <td>SpiceJet</td>\n",
       "      <td>SG-8709</td>\n",
       "      <td>Delhi</td>\n",
       "      <td>Evening</td>\n",
       "      <td>zero</td>\n",
       "      <td>Night</td>\n",
       "      <td>Mumbai</td>\n",
       "      <td>Economy</td>\n",
       "      <td>2.17</td>\n",
       "      <td>1</td>\n",
       "      <td>5953</td>\n",
       "    </tr>\n",
       "    <tr>\n",
       "      <th>1</th>\n",
       "      <td>SpiceJet</td>\n",
       "      <td>SG-8157</td>\n",
       "      <td>Delhi</td>\n",
       "      <td>Early_Morning</td>\n",
       "      <td>zero</td>\n",
       "      <td>Morning</td>\n",
       "      <td>Mumbai</td>\n",
       "      <td>Economy</td>\n",
       "      <td>2.33</td>\n",
       "      <td>1</td>\n",
       "      <td>5953</td>\n",
       "    </tr>\n",
       "    <tr>\n",
       "      <th>2</th>\n",
       "      <td>AirAsia</td>\n",
       "      <td>I5-764</td>\n",
       "      <td>Delhi</td>\n",
       "      <td>Early_Morning</td>\n",
       "      <td>zero</td>\n",
       "      <td>Early_Morning</td>\n",
       "      <td>Mumbai</td>\n",
       "      <td>Economy</td>\n",
       "      <td>2.17</td>\n",
       "      <td>1</td>\n",
       "      <td>5956</td>\n",
       "    </tr>\n",
       "    <tr>\n",
       "      <th>3</th>\n",
       "      <td>Vistara</td>\n",
       "      <td>UK-995</td>\n",
       "      <td>Delhi</td>\n",
       "      <td>Morning</td>\n",
       "      <td>zero</td>\n",
       "      <td>Afternoon</td>\n",
       "      <td>Mumbai</td>\n",
       "      <td>Economy</td>\n",
       "      <td>2.25</td>\n",
       "      <td>1</td>\n",
       "      <td>5955</td>\n",
       "    </tr>\n",
       "    <tr>\n",
       "      <th>4</th>\n",
       "      <td>Vistara</td>\n",
       "      <td>UK-963</td>\n",
       "      <td>Delhi</td>\n",
       "      <td>Morning</td>\n",
       "      <td>zero</td>\n",
       "      <td>Morning</td>\n",
       "      <td>Mumbai</td>\n",
       "      <td>Economy</td>\n",
       "      <td>2.33</td>\n",
       "      <td>1</td>\n",
       "      <td>5955</td>\n",
       "    </tr>\n",
       "    <tr>\n",
       "      <th>...</th>\n",
       "      <td>...</td>\n",
       "      <td>...</td>\n",
       "      <td>...</td>\n",
       "      <td>...</td>\n",
       "      <td>...</td>\n",
       "      <td>...</td>\n",
       "      <td>...</td>\n",
       "      <td>...</td>\n",
       "      <td>...</td>\n",
       "      <td>...</td>\n",
       "      <td>...</td>\n",
       "    </tr>\n",
       "    <tr>\n",
       "      <th>300148</th>\n",
       "      <td>Vistara</td>\n",
       "      <td>UK-822</td>\n",
       "      <td>Chennai</td>\n",
       "      <td>Morning</td>\n",
       "      <td>one</td>\n",
       "      <td>Evening</td>\n",
       "      <td>Hyderabad</td>\n",
       "      <td>Business</td>\n",
       "      <td>10.08</td>\n",
       "      <td>49</td>\n",
       "      <td>69265</td>\n",
       "    </tr>\n",
       "    <tr>\n",
       "      <th>300149</th>\n",
       "      <td>Vistara</td>\n",
       "      <td>UK-826</td>\n",
       "      <td>Chennai</td>\n",
       "      <td>Afternoon</td>\n",
       "      <td>one</td>\n",
       "      <td>Night</td>\n",
       "      <td>Hyderabad</td>\n",
       "      <td>Business</td>\n",
       "      <td>10.42</td>\n",
       "      <td>49</td>\n",
       "      <td>77105</td>\n",
       "    </tr>\n",
       "    <tr>\n",
       "      <th>300150</th>\n",
       "      <td>Vistara</td>\n",
       "      <td>UK-832</td>\n",
       "      <td>Chennai</td>\n",
       "      <td>Early_Morning</td>\n",
       "      <td>one</td>\n",
       "      <td>Night</td>\n",
       "      <td>Hyderabad</td>\n",
       "      <td>Business</td>\n",
       "      <td>13.83</td>\n",
       "      <td>49</td>\n",
       "      <td>79099</td>\n",
       "    </tr>\n",
       "    <tr>\n",
       "      <th>300151</th>\n",
       "      <td>Vistara</td>\n",
       "      <td>UK-828</td>\n",
       "      <td>Chennai</td>\n",
       "      <td>Early_Morning</td>\n",
       "      <td>one</td>\n",
       "      <td>Evening</td>\n",
       "      <td>Hyderabad</td>\n",
       "      <td>Business</td>\n",
       "      <td>10.00</td>\n",
       "      <td>49</td>\n",
       "      <td>81585</td>\n",
       "    </tr>\n",
       "    <tr>\n",
       "      <th>300152</th>\n",
       "      <td>Vistara</td>\n",
       "      <td>UK-822</td>\n",
       "      <td>Chennai</td>\n",
       "      <td>Morning</td>\n",
       "      <td>one</td>\n",
       "      <td>Evening</td>\n",
       "      <td>Hyderabad</td>\n",
       "      <td>Business</td>\n",
       "      <td>10.08</td>\n",
       "      <td>49</td>\n",
       "      <td>81585</td>\n",
       "    </tr>\n",
       "  </tbody>\n",
       "</table>\n",
       "<p>300153 rows × 11 columns</p>\n",
       "</div>"
      ],
      "text/plain": [
       "         airline   flight source_city departure_time stops   arrival_time  \\\n",
       "0       SpiceJet  SG-8709       Delhi        Evening  zero          Night   \n",
       "1       SpiceJet  SG-8157       Delhi  Early_Morning  zero        Morning   \n",
       "2        AirAsia   I5-764       Delhi  Early_Morning  zero  Early_Morning   \n",
       "3        Vistara   UK-995       Delhi        Morning  zero      Afternoon   \n",
       "4        Vistara   UK-963       Delhi        Morning  zero        Morning   \n",
       "...          ...      ...         ...            ...   ...            ...   \n",
       "300148   Vistara   UK-822     Chennai        Morning   one        Evening   \n",
       "300149   Vistara   UK-826     Chennai      Afternoon   one          Night   \n",
       "300150   Vistara   UK-832     Chennai  Early_Morning   one          Night   \n",
       "300151   Vistara   UK-828     Chennai  Early_Morning   one        Evening   \n",
       "300152   Vistara   UK-822     Chennai        Morning   one        Evening   \n",
       "\n",
       "       destination_city     class  duration  days_left  price  \n",
       "0                Mumbai   Economy      2.17          1   5953  \n",
       "1                Mumbai   Economy      2.33          1   5953  \n",
       "2                Mumbai   Economy      2.17          1   5956  \n",
       "3                Mumbai   Economy      2.25          1   5955  \n",
       "4                Mumbai   Economy      2.33          1   5955  \n",
       "...                 ...       ...       ...        ...    ...  \n",
       "300148        Hyderabad  Business     10.08         49  69265  \n",
       "300149        Hyderabad  Business     10.42         49  77105  \n",
       "300150        Hyderabad  Business     13.83         49  79099  \n",
       "300151        Hyderabad  Business     10.00         49  81585  \n",
       "300152        Hyderabad  Business     10.08         49  81585  \n",
       "\n",
       "[300153 rows x 11 columns]"
      ]
     },
     "execution_count": 3,
     "metadata": {},
     "output_type": "execute_result"
    }
   ],
   "source": [
    "df_raw = pd.read_csv(\"./data/Clean_Dataset.csv\", index_col=0)\n",
    "df_raw_sample = df_raw.sample(n=PLOT_SUMSAMPLE)\n",
    "df_raw "
   ]
  },
  {
   "cell_type": "markdown",
   "id": "6cc5d673",
   "metadata": {},
   "source": [
    "## Exploratory Data Analysis\n",
    "- Top 5 Highest correlation predictors: class, duration, days_left, stops, airline\n",
    "- Target: Bimodal due to classes. \n",
    "- duration class:Business: Log, heteroskedasticity \n",
    "- duration class:Economy: Linear, heteroskedasticity\n",
    "- days_left class:economy: 1/x"
   ]
  },
  {
   "cell_type": "code",
   "execution_count": 4,
   "id": "1ec3f453",
   "metadata": {},
   "outputs": [],
   "source": [
    "# Create EDA report IF it doesn't exist\n",
    "path_eda_report = Path(\"EDA/profiling_report.html\")\n",
    "path_eda_report.parent.mkdir(exist_ok=True)\n",
    "if not path_eda_report.exists():\n",
    "    profile = ProfileReport(df_raw, title=\"Profiling Report\")\n",
    "    profile.to_file(path_eda_report)"
   ]
  },
  {
   "cell_type": "code",
   "execution_count": 5,
   "id": "a584b792",
   "metadata": {},
   "outputs": [
    {
     "data": {
      "text/html": [
       "<div>\n",
       "<style scoped>\n",
       "    .dataframe tbody tr th:only-of-type {\n",
       "        vertical-align: middle;\n",
       "    }\n",
       "\n",
       "    .dataframe tbody tr th {\n",
       "        vertical-align: top;\n",
       "    }\n",
       "\n",
       "    .dataframe thead th {\n",
       "        text-align: right;\n",
       "    }\n",
       "</style>\n",
       "<table border=\"1\" class=\"dataframe\">\n",
       "  <thead>\n",
       "    <tr style=\"text-align: right;\">\n",
       "      <th></th>\n",
       "      <th>duration</th>\n",
       "      <th>days_left</th>\n",
       "      <th>price</th>\n",
       "    </tr>\n",
       "  </thead>\n",
       "  <tbody>\n",
       "    <tr>\n",
       "      <th>count</th>\n",
       "      <td>300153.000000</td>\n",
       "      <td>300153.000000</td>\n",
       "      <td>300153.000000</td>\n",
       "    </tr>\n",
       "    <tr>\n",
       "      <th>mean</th>\n",
       "      <td>12.221021</td>\n",
       "      <td>26.004751</td>\n",
       "      <td>20889.660523</td>\n",
       "    </tr>\n",
       "    <tr>\n",
       "      <th>std</th>\n",
       "      <td>7.191997</td>\n",
       "      <td>13.561004</td>\n",
       "      <td>22697.767366</td>\n",
       "    </tr>\n",
       "    <tr>\n",
       "      <th>min</th>\n",
       "      <td>0.830000</td>\n",
       "      <td>1.000000</td>\n",
       "      <td>1105.000000</td>\n",
       "    </tr>\n",
       "    <tr>\n",
       "      <th>25%</th>\n",
       "      <td>6.830000</td>\n",
       "      <td>15.000000</td>\n",
       "      <td>4783.000000</td>\n",
       "    </tr>\n",
       "    <tr>\n",
       "      <th>50%</th>\n",
       "      <td>11.250000</td>\n",
       "      <td>26.000000</td>\n",
       "      <td>7425.000000</td>\n",
       "    </tr>\n",
       "    <tr>\n",
       "      <th>75%</th>\n",
       "      <td>16.170000</td>\n",
       "      <td>38.000000</td>\n",
       "      <td>42521.000000</td>\n",
       "    </tr>\n",
       "    <tr>\n",
       "      <th>max</th>\n",
       "      <td>49.830000</td>\n",
       "      <td>49.000000</td>\n",
       "      <td>123071.000000</td>\n",
       "    </tr>\n",
       "  </tbody>\n",
       "</table>\n",
       "</div>"
      ],
      "text/plain": [
       "            duration      days_left          price\n",
       "count  300153.000000  300153.000000  300153.000000\n",
       "mean       12.221021      26.004751   20889.660523\n",
       "std         7.191997      13.561004   22697.767366\n",
       "min         0.830000       1.000000    1105.000000\n",
       "25%         6.830000      15.000000    4783.000000\n",
       "50%        11.250000      26.000000    7425.000000\n",
       "75%        16.170000      38.000000   42521.000000\n",
       "max        49.830000      49.000000  123071.000000"
      ]
     },
     "execution_count": 5,
     "metadata": {},
     "output_type": "execute_result"
    }
   ],
   "source": [
    "df_raw.describe()"
   ]
  },
  {
   "cell_type": "code",
   "execution_count": null,
   "id": "6985d759",
   "metadata": {},
   "outputs": [],
   "source": [
    "px.histogram(df_raw, x=\"price\", color=\"class\", width=1200, height=600, barmode=\"overlay\", opacity=0.8)\n",
    "# px.update_layout( width=1200, height=500)\n",
    "# df_raw.price.hist(bins=20)"
   ]
  },
  {
   "cell_type": "code",
   "execution_count": 7,
   "id": "0764bb25",
   "metadata": {},
   "outputs": [
    {
     "data": {
      "application/vnd.plotly.v1+json": {
       "config": {
        "plotlyServerURL": "https://plot.ly"
       },
       "data": [
        {
         "hovertemplate": "class=Business<br>days_left=%{x}<br>price=%{y}<extra></extra>",
         "legendgroup": "Business",
         "marker": {
          "color": "#636efa",
          "symbol": "circle"
         },
         "mode": "markers",
         "name": "Business",
         "showlegend": true,
         "type": "scattergl",
         "x": {
          "bdata": "EyYWJgcqBgkuFhYrDx0lIR8ZExIXMSocKRMEHysbIx0tIyINJAkbDRsxCgIfFg8IDCowDxQTBiIOFBIjHREoBjEXBSUsGhMFBScQLiINCCUnKBQlDgQeJREiEisfGBMlJygdJBcUDAwWKTAHMSQhMSYuJy4mKScECgUuHyIKJhsnAh8kHx0JMB0FHxwKIRULHxUbMCMqIhQkEgURLy8iGQITLy4fEyQqBiQQMRUMCCoNJAYVLy0PDA4iFQ8SJBwnGQYaExYIDQsSKScEMCQiCiAGCxMQMRwxEiMkLRYOGB0TLywTKyAVDAcNHjELEgkSCAgvHDAkFgclFSccAxYmFhkSGQsSDhIJLicWLysdJy0cHiIXCggsDiEYHhkcHyAmJSogEhgOGhMUBhEQExoWEAYoKBQeBRMYJxgKDyosDB8hIyEaKBgKIiMxJQ4RDRQLLi8QMQwdKzAKLR0UCDAiFw0HDAkiBywLDSgkDhwoHyQVBiAdKCgvCQQfBCYwDSwRISAMLgsPMSIaMAgvDR4ZLRsrGSskGhEcGSkUDSgFBiQcCykrChwJIRgtCCIWFwopIQ0hKy4bHwoYDhQfIwIoJSACJxohMBEnGiULFS4iExcHKAkMECQeHiUSECIOKhUHMAMKMQcqBwUiJTETEyULDyoQFQkuERgHDBYNChcJDh0KBDEkLiwHBR4HCA0GDRIMJw4PGg4aEhoOIQQYKywuDQYbIh8qGxoiChkJChElEgsDKhgKCBAMFy8YLiopLygNEx8xJyAKDAIYHxcwFQgrLiQjJDAWLRMLJBESHw4tJA8jEgMSGy0QCxstCSglKx4RLg==",
          "dtype": "i1"
         },
         "xaxis": "x",
         "y": {
          "bdata": "CfUAAOzrAAD51QAAjeYAAO58AACx8QAACbYAAK36AABosgAAacoAAK6wAABx+gAAfbIAAKq8AABaXQAAdJAAAPisAACIkQAAKAEBAPisAAC5CAEAZOsAAM/LAAA6BgEADN0AAKzPAAAsyAAAi+wAAPnVAAApsAAAfuUAAKzPAAAwuQAAzesAAHwOAQCBsAAAYqEAAEDiAABLmgAA2aUAAFDVAABc7AAAda0AAB9ZAQCc1QAAWasAAAHJAAAM3QAAXm8AAGiPAAC53gAA+KwAAOK5AADPywAAfA4BAFwkAQBc7AAA+KwAAHCsAAA/zAAAYZQAAPisAACozAAAMeAAABmmAACsyAAAT2IBAFHYAACL7AAAPeAAAD/9AAAYUQAAoDoBAM3BAADhjgAArM8AALkIAQCv2gAAbK4AAEGhAAAN6gAAcNYAAJzcAAD5/wAAUNUAAHshAQDhuQAAMu4AABG0AAD4rAAA05QAAF/EAADL4wAAW4AAANOUAACszwAAp5sAABhRAADs6wAAXI8AALjIAAB8VgAArtoAAAHJAAAZpgAACR8BALnEAABJ9QAA2aUAAKEeAQD7yQAA+d4AANWOAABw1gAAMu4AACWsAAD5/wAAa8oAABmmAAD/GgEAcSsBAIGwAACZoAAA0uAAAMmwAAAB6QAA4bkAABx1AACIVgAA2TgBADLuAADs6wAAP/0AAM/LAADnUwAA05QAANHbAAC5QgEAQOIAAMFAAQDN6wAAupoAANHwAABpygAAGhwBAI3mAABpygAArM8AABnqAACv2gAAqIYAAM/LAACRyAAAmZkAAD9RAQBc7AAAILIAAM3BAACszwAAMu4AACksAQBRdAAAsdIAAF3yAACNoAAAMu4AAA9dAQBw1gAAsfEAAJHBAABBoQAAX8QAAKzPAABbgAAA2aUAAMxQAABwrAAAO7MAAJuPAAB/OgEAT88AAIvJAACJKwEAUdgAAMmwAABc7AAADN0AAGiyAAB+3QAAO7MAAFDVAAAwuQAArM8AANHUAACv2gAAcNYAAFzsAACgzwAA7bIAAO/RAAAI0QAAacoAAHDWAABk6wAAQOIAAP+/AAAByQAAX8sAADWhAABLmgAArM8AADLuAACqXgAAg5oAAF/EAAAoAQEAz8sAAOnuAADtqwAA+KwAAM3BAAA89AAA+d4AAGvKAABpygAAcKwAAPhdAADt8QAAWasAAF3yAAD5/wAADN0AAPneAACLyQAADt0AADEtAQAy7gAAi8kAAHxWAAA/rwAA+9AAAHH6AAAN4wAA6MIAAGigAADN6wAAhwwBAP3RAAD7yQAASG0AAM3rAACszwAAZ8cAAFDVAADd4AAAwIoAAFabAAA3wAAA/+IAAMx6AADZzwAA7OsAAKR+AAA9wgAAz8sAAJHBAABfxAAASfUAAM7YAACI4gAA2aUAAFzsAACjygAAjC0BAPHJAADs8gAAkZ4AAAzdAADi5gAAAckAAIjiAADRqgAArfoAAA7dAABfxAAAm4AAAHbnAAB+3QAAApsAAKpeAABwrAAAkcEAAJmZAAAZxwAAfA4BAG1JAQCmcQAAmaAAAKzPAAA9wgAA8PMAAK/aAAC9GQEA0dQAAK/aAABRQQEAmZkAAJmgAADJsAAAXm8AAKuzAACI4gAA4rkAADnWAACf3gAAtjoBAK36AADv0QAAP8wAAMx6AAAy7gAAUNUAALHSAAAeXQAA2aUAAK36AAB8DgEA+KwAAK/aAAAPAgEAP8wAAAzdAABw1gAAiFYAAPisAACbgAAAMLkAAGiPAACGqwAAi+wAAIhdAAB6fwAAQOIAAKpeAADdEQEAO7MAAIWwAABwBQEA+dUAAA8CAQDowgAA7OsAAD3CAABIbQAA9pIAAA7dAADL4wAAHEIBAD3gAACtxwAAGaYAAD/MAABA4gAADN0AAKzIAAB9sgAAL/MAAKzPAADTlAAA//AAAF/LAABQ1QAAAosAAD/MAABEKwEADwIBAN5yAADv0QAAYPQAAKzIAADZzwAAKAEBAFzsAACP8AAAGuQAAEDiAAAN4wAA+f8AAFX0AABwrAAATBoBAGsCAQA9wgAA1K8AAI/wAAA9wgAAfFYAAHCsAABI6wAAft0AAHCsAAD53gAAfbIAAK/aAABfxAAAXOwAAOzrAACgzwAA7PIAAN+EAQDtsgAAAOsAAOKKAACLyQAAW/gAADLuAAC5CAEAee4AALwFAQCbgAAA7OsAAFPiAAB5BQEAGaYAAA7dAABojwAAWs8AAN0KAQAgsgAA7rEAAJ8yAQB9sgAArrAAAM3BAAAM3QAAz8sAAMx6AABcjwAAgtEAAIBsAQBhlAAAkcEAAHPyAADRmQAA0LIAAE3vAAA51gAAX8sAAFDVAACqMAEArM8AALHxAADRmQAAucQAAFPiAABJ9QAAS5oAAJzVAAAO3QAA7OsAAH/0AAAByQAArM8AAD/MAAAxOwEAj/AAADpeAABpygAAQaEAAIvsAACchgAA5KQAAM3rAAA6BgEAUdgAAJzcAAAPAgEA79EAAOHeAAAwuQAAGaYAACLUAAC8BQEAiOIAAEfUAABbgAAAfA4BAA3jAACNoAAAcQcBAA3jAADs6wAAsdIAANmlAADERAAA2c8AADLuAACbgAAAGcAAAH2yAABpygAACNEAADuzAABI6wAAYZQAAHCsAADL4wAA2c8AACh1AACQbAAAZOsAABhRAAD90QAAzcEAAHCsAADufAAAql4AAFDVAAA7swAAfFYAAF3yAACRyAAArtoAAGKhAAD4rAAA4bkAAHxWAAA/zAAAzFAAAFzsAABxxwAAZOsAAD/9AADTlAAAoooAAJzVAAD4rAAAAckAAG0RAQCrswAAP/0AAJuAAADZzwAAmeYAABNdAQDs6wAAzesAAL0ZAQD4XQAAQOIAAJHBAADkpAAAj/AAAPU1AQCfCAEAnNUAANOUAACc3AAA+dUAANLgAADMRwEAGccAAOHeAAAy7gAAHHUAAD3CAAA/zAAANaEAAEDiAADPywAA3eAAAJyGAABfxAAAZOsAALneAADr+QAAiOIAAC33AABhlAAA6a8AADLuAADJsAAAzCQBAHXnAADL4wAAZ5sAAI/wAABFdAAAzFAAAF/EAACRyAAArrAAANhsAACgzwAA2GwAAGPTAABA4gAAacoAAH7dAACL7AAAud4AAO76AAAplAAA2c8AAADrAAA1oQAAS5oAAK36AACc3AAA4bkAAJ4kAQCgzwAA074AAOAuAAD7yQAAi8kAAJHBAACgzwAAMA4BAHDWAACIVgAAwnsAACsuAQAaHAEAPcIAAA==",
          "dtype": "i4"
         },
         "yaxis": "y"
        },
        {
         "hovertemplate": "class=Economy<br>days_left=%{x}<br>price=%{y}<extra></extra>",
         "legendgroup": "Economy",
         "marker": {
          "color": "#EF553B",
          "symbol": "circle"
         },
         "mode": "markers",
         "name": "Economy",
         "showlegend": true,
         "type": "scattergl",
         "x": {
          "bdata": "LSMMJhogCy8IKBwpExEuHiYWKCYILR0uFyQTMS4aEAMdIioqJSMeFx0oHQMVBSAoCRsnECUHGw0dEwUlBBQrIh8JER8JEg0CLCcvEDAjEioPGAMdMCYaBC4PLAwlLC4RICsXCi8FKygoBgwMKBQkJQsnISQZLjAKGxIKKxgoIC8nKS4MJAsbCwwDJwYrISwCCRMjMSIOFSkPHi4SKS0TLREiAwQQDBEZIgIrEikoExUaKwwrKggXES0sBgwmGC4LFAMTISQRIwonMQkSHQQvLCIgEhkMCgEXJR0jFhgSIRUrGh4eBBQrLCQTMBYdGCYcAzAYCi0jHjErCSAdJR0BHwshByUHFAIWJikQDh0kLwgcJhoeES8mDSYGICQjBi4GJBUtCiMULCQBDysSGyIuLSETBS8NFx4qDS8cLQkoBhUiCiQODyMLJgkMGRUfJQgmHhwcGB4qLRwQFiILHCMSIh4WAi8hCAUuBxcxGCstIQERDB8NGRoZFRIwIAsWCx8mHQkPIBIoIh8OIzEGMBgPCRcdGQkJJzEpHyowJw0jMR0aBiwjBSgbBAonBAwYDTEQCgURKwknEyQeMQwPCDAqHSodBAUWHSYhCQ4oDg4VLRIjCjAEEAUXCyAZGw8gKRwKEiIOIiUWHyYOKA8HHC4mGyghCxAsGiwxEjENCAcNBQ0WEi4JMBUfDCYmLCsPDSsjGBQoAhcNLhYgKR8eBwogJC4oGBofKxIYASgUExwODQwJCiccCAkIMRopEiwFGAcjECAuFB8QGQcLCyIJIwEbMQgKLSsnLRYlBScpJSsOLiUmMBEnJCoMBSMXERIgIBgfDAUBGRcTEy8NECYIKAstBR8GKiMvJAgrIyMfKBUIHxQRJikgGiASMSscGwYdHyAXDCsYKhwUGhcmEh4UCRYTGyErEwYNGwMoJyEYKxMmJAkrIictChEeLRUuAjAoDQguGw0iFRIHLRsXAxwVLSMsIxYlEhEqJwoqLycsFxoMEywVJyUZBjEQLzELMQgjFhQtBw0fEBUPIDASFx4wJRIWHgUILSsXEScGMS4PBwkICioYDxAmGAYrHAMtDRQhARgrLREgGxMFEyshHiIxDTEHJygMBxgHJzEtFQoIGiwCLBEBFi8LEhIbKBQNAisfKRcgJScVHwIYMSkcHwQsHCslICAHCR8RBxklDQYtIS8JGQ4wAx0NCAUwJg0xEhMDLBYeFSkYEhoJMB0CKQwrKxEnKiEGJDAwFBkIER4WEAISLRsbKQstJxYXIBYYDhELHgogDAQeFBAmGAspFS4qFy0ZIiIGCDAFHR0iLSoMHywCESQBDSoEGygiDhcVGy0JBhoOHQ4nLBcKFyMeEiMmHhctEwkSLSEXIxoeBBgBJCEMFh4RHg4gJSQeKQ8lLxAWFS4LCScSChYXBxQLIRcaAxIWIg4HGR4fKgkiJxAnHgYTEyEhHS0UGhMBIBgtEBQaDCgLAw8dBSIhKBoFAjAYBhgvIyIWDR8HJRkwIy8wGgwtDi4nJC4HKRkpKicOEh8QBi0DKBIpFCAOBQ4xDAgLJx0XCQIYCwsfKx8FBwEwLSwuFwYaKRsODSUiMAkpJQ0MIysgKAUoLBIkDhMbLwkTCCkWECMCJxgCCCIUDAwRDx8YIg4QEysmMBggEg0PBhQNIBYDICkhBAwFEx0WLCgQKi0FIDAJGQgNJAkgLw0JFjAGICMOCwgWEjARBiEZGywSKRALDBoqCBQgLysvEBEcKSAgEw4XJSYoDCseGBEsITEYEgcsFiYLHhAIGSYpLCoYGxwGIRgNFxcdEDAfKBYfLhMdLhwZKTAGHQISGgYRDwMRDA==",
          "dtype": "i1"
         },
         "xaxis": "x",
         "y": {
          "bdata": "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",
          "dtype": "i2"
         },
         "yaxis": "y"
        }
       ],
       "layout": {
        "height": 600,
        "legend": {
         "title": {
          "text": "class"
         },
         "tracegroupgap": 0
        },
        "margin": {
         "t": 60
        },
        "template": {
         "data": {
          "bar": [
           {
            "error_x": {
             "color": "#2a3f5f"
            },
            "error_y": {
             "color": "#2a3f5f"
            },
            "marker": {
             "line": {
              "color": "#E5ECF6",
              "width": 0.5
             },
             "pattern": {
              "fillmode": "overlay",
              "size": 10,
              "solidity": 0.2
             }
            },
            "type": "bar"
           }
          ],
          "barpolar": [
           {
            "marker": {
             "line": {
              "color": "#E5ECF6",
              "width": 0.5
             },
             "pattern": {
              "fillmode": "overlay",
              "size": 10,
              "solidity": 0.2
             }
            },
            "type": "barpolar"
           }
          ],
          "carpet": [
           {
            "aaxis": {
             "endlinecolor": "#2a3f5f",
             "gridcolor": "white",
             "linecolor": "white",
             "minorgridcolor": "white",
             "startlinecolor": "#2a3f5f"
            },
            "baxis": {
             "endlinecolor": "#2a3f5f",
             "gridcolor": "white",
             "linecolor": "white",
             "minorgridcolor": "white",
             "startlinecolor": "#2a3f5f"
            },
            "type": "carpet"
           }
          ],
          "choropleth": [
           {
            "colorbar": {
             "outlinewidth": 0,
             "ticks": ""
            },
            "type": "choropleth"
           }
          ],
          "contour": [
           {
            "colorbar": {
             "outlinewidth": 0,
             "ticks": ""
            },
            "colorscale": [
             [
              0,
              "#0d0887"
             ],
             [
              0.1111111111111111,
              "#46039f"
             ],
             [
              0.2222222222222222,
              "#7201a8"
             ],
             [
              0.3333333333333333,
              "#9c179e"
             ],
             [
              0.4444444444444444,
              "#bd3786"
             ],
             [
              0.5555555555555556,
              "#d8576b"
             ],
             [
              0.6666666666666666,
              "#ed7953"
             ],
             [
              0.7777777777777778,
              "#fb9f3a"
             ],
             [
              0.8888888888888888,
              "#fdca26"
             ],
             [
              1,
              "#f0f921"
             ]
            ],
            "type": "contour"
           }
          ],
          "contourcarpet": [
           {
            "colorbar": {
             "outlinewidth": 0,
             "ticks": ""
            },
            "type": "contourcarpet"
           }
          ],
          "heatmap": [
           {
            "colorbar": {
             "outlinewidth": 0,
             "ticks": ""
            },
            "colorscale": [
             [
              0,
              "#0d0887"
             ],
             [
              0.1111111111111111,
              "#46039f"
             ],
             [
              0.2222222222222222,
              "#7201a8"
             ],
             [
              0.3333333333333333,
              "#9c179e"
             ],
             [
              0.4444444444444444,
              "#bd3786"
             ],
             [
              0.5555555555555556,
              "#d8576b"
             ],
             [
              0.6666666666666666,
              "#ed7953"
             ],
             [
              0.7777777777777778,
              "#fb9f3a"
             ],
             [
              0.8888888888888888,
              "#fdca26"
             ],
             [
              1,
              "#f0f921"
             ]
            ],
            "type": "heatmap"
           }
          ],
          "histogram": [
           {
            "marker": {
             "pattern": {
              "fillmode": "overlay",
              "size": 10,
              "solidity": 0.2
             }
            },
            "type": "histogram"
           }
          ],
          "histogram2d": [
           {
            "colorbar": {
             "outlinewidth": 0,
             "ticks": ""
            },
            "colorscale": [
             [
              0,
              "#0d0887"
             ],
             [
              0.1111111111111111,
              "#46039f"
             ],
             [
              0.2222222222222222,
              "#7201a8"
             ],
             [
              0.3333333333333333,
              "#9c179e"
             ],
             [
              0.4444444444444444,
              "#bd3786"
             ],
             [
              0.5555555555555556,
              "#d8576b"
             ],
             [
              0.6666666666666666,
              "#ed7953"
             ],
             [
              0.7777777777777778,
              "#fb9f3a"
             ],
             [
              0.8888888888888888,
              "#fdca26"
             ],
             [
              1,
              "#f0f921"
             ]
            ],
            "type": "histogram2d"
           }
          ],
          "histogram2dcontour": [
           {
            "colorbar": {
             "outlinewidth": 0,
             "ticks": ""
            },
            "colorscale": [
             [
              0,
              "#0d0887"
             ],
             [
              0.1111111111111111,
              "#46039f"
             ],
             [
              0.2222222222222222,
              "#7201a8"
             ],
             [
              0.3333333333333333,
              "#9c179e"
             ],
             [
              0.4444444444444444,
              "#bd3786"
             ],
             [
              0.5555555555555556,
              "#d8576b"
             ],
             [
              0.6666666666666666,
              "#ed7953"
             ],
             [
              0.7777777777777778,
              "#fb9f3a"
             ],
             [
              0.8888888888888888,
              "#fdca26"
             ],
             [
              1,
              "#f0f921"
             ]
            ],
            "type": "histogram2dcontour"
           }
          ],
          "mesh3d": [
           {
            "colorbar": {
             "outlinewidth": 0,
             "ticks": ""
            },
            "type": "mesh3d"
           }
          ],
          "parcoords": [
           {
            "line": {
             "colorbar": {
              "outlinewidth": 0,
              "ticks": ""
             }
            },
            "type": "parcoords"
           }
          ],
          "pie": [
           {
            "automargin": true,
            "type": "pie"
           }
          ],
          "scatter": [
           {
            "fillpattern": {
             "fillmode": "overlay",
             "size": 10,
             "solidity": 0.2
            },
            "type": "scatter"
           }
          ],
          "scatter3d": [
           {
            "line": {
             "colorbar": {
              "outlinewidth": 0,
              "ticks": ""
             }
            },
            "marker": {
             "colorbar": {
              "outlinewidth": 0,
              "ticks": ""
             }
            },
            "type": "scatter3d"
           }
          ],
          "scattercarpet": [
           {
            "marker": {
             "colorbar": {
              "outlinewidth": 0,
              "ticks": ""
             }
            },
            "type": "scattercarpet"
           }
          ],
          "scattergeo": [
           {
            "marker": {
             "colorbar": {
              "outlinewidth": 0,
              "ticks": ""
             }
            },
            "type": "scattergeo"
           }
          ],
          "scattergl": [
           {
            "marker": {
             "colorbar": {
              "outlinewidth": 0,
              "ticks": ""
             }
            },
            "type": "scattergl"
           }
          ],
          "scattermap": [
           {
            "marker": {
             "colorbar": {
              "outlinewidth": 0,
              "ticks": ""
             }
            },
            "type": "scattermap"
           }
          ],
          "scattermapbox": [
           {
            "marker": {
             "colorbar": {
              "outlinewidth": 0,
              "ticks": ""
             }
            },
            "type": "scattermapbox"
           }
          ],
          "scatterpolar": [
           {
            "marker": {
             "colorbar": {
              "outlinewidth": 0,
              "ticks": ""
             }
            },
            "type": "scatterpolar"
           }
          ],
          "scatterpolargl": [
           {
            "marker": {
             "colorbar": {
              "outlinewidth": 0,
              "ticks": ""
             }
            },
            "type": "scatterpolargl"
           }
          ],
          "scatterternary": [
           {
            "marker": {
             "colorbar": {
              "outlinewidth": 0,
              "ticks": ""
             }
            },
            "type": "scatterternary"
           }
          ],
          "surface": [
           {
            "colorbar": {
             "outlinewidth": 0,
             "ticks": ""
            },
            "colorscale": [
             [
              0,
              "#0d0887"
             ],
             [
              0.1111111111111111,
              "#46039f"
             ],
             [
              0.2222222222222222,
              "#7201a8"
             ],
             [
              0.3333333333333333,
              "#9c179e"
             ],
             [
              0.4444444444444444,
              "#bd3786"
             ],
             [
              0.5555555555555556,
              "#d8576b"
             ],
             [
              0.6666666666666666,
              "#ed7953"
             ],
             [
              0.7777777777777778,
              "#fb9f3a"
             ],
             [
              0.8888888888888888,
              "#fdca26"
             ],
             [
              1,
              "#f0f921"
             ]
            ],
            "type": "surface"
           }
          ],
          "table": [
           {
            "cells": {
             "fill": {
              "color": "#EBF0F8"
             },
             "line": {
              "color": "white"
             }
            },
            "header": {
             "fill": {
              "color": "#C8D4E3"
             },
             "line": {
              "color": "white"
             }
            },
            "type": "table"
           }
          ]
         },
         "layout": {
          "annotationdefaults": {
           "arrowcolor": "#2a3f5f",
           "arrowhead": 0,
           "arrowwidth": 1
          },
          "autotypenumbers": "strict",
          "coloraxis": {
           "colorbar": {
            "outlinewidth": 0,
            "ticks": ""
           }
          },
          "colorscale": {
           "diverging": [
            [
             0,
             "#8e0152"
            ],
            [
             0.1,
             "#c51b7d"
            ],
            [
             0.2,
             "#de77ae"
            ],
            [
             0.3,
             "#f1b6da"
            ],
            [
             0.4,
             "#fde0ef"
            ],
            [
             0.5,
             "#f7f7f7"
            ],
            [
             0.6,
             "#e6f5d0"
            ],
            [
             0.7,
             "#b8e186"
            ],
            [
             0.8,
             "#7fbc41"
            ],
            [
             0.9,
             "#4d9221"
            ],
            [
             1,
             "#276419"
            ]
           ],
           "sequential": [
            [
             0,
             "#0d0887"
            ],
            [
             0.1111111111111111,
             "#46039f"
            ],
            [
             0.2222222222222222,
             "#7201a8"
            ],
            [
             0.3333333333333333,
             "#9c179e"
            ],
            [
             0.4444444444444444,
             "#bd3786"
            ],
            [
             0.5555555555555556,
             "#d8576b"
            ],
            [
             0.6666666666666666,
             "#ed7953"
            ],
            [
             0.7777777777777778,
             "#fb9f3a"
            ],
            [
             0.8888888888888888,
             "#fdca26"
            ],
            [
             1,
             "#f0f921"
            ]
           ],
           "sequentialminus": [
            [
             0,
             "#0d0887"
            ],
            [
             0.1111111111111111,
             "#46039f"
            ],
            [
             0.2222222222222222,
             "#7201a8"
            ],
            [
             0.3333333333333333,
             "#9c179e"
            ],
            [
             0.4444444444444444,
             "#bd3786"
            ],
            [
             0.5555555555555556,
             "#d8576b"
            ],
            [
             0.6666666666666666,
             "#ed7953"
            ],
            [
             0.7777777777777778,
             "#fb9f3a"
            ],
            [
             0.8888888888888888,
             "#fdca26"
            ],
            [
             1,
             "#f0f921"
            ]
           ]
          },
          "colorway": [
           "#636efa",
           "#EF553B",
           "#00cc96",
           "#ab63fa",
           "#FFA15A",
           "#19d3f3",
           "#FF6692",
           "#B6E880",
           "#FF97FF",
           "#FECB52"
          ],
          "font": {
           "color": "#2a3f5f"
          },
          "geo": {
           "bgcolor": "white",
           "lakecolor": "white",
           "landcolor": "#E5ECF6",
           "showlakes": true,
           "showland": true,
           "subunitcolor": "white"
          },
          "hoverlabel": {
           "align": "left"
          },
          "hovermode": "closest",
          "mapbox": {
           "style": "light"
          },
          "paper_bgcolor": "white",
          "plot_bgcolor": "#E5ECF6",
          "polar": {
           "angularaxis": {
            "gridcolor": "white",
            "linecolor": "white",
            "ticks": ""
           },
           "bgcolor": "#E5ECF6",
           "radialaxis": {
            "gridcolor": "white",
            "linecolor": "white",
            "ticks": ""
           }
          },
          "scene": {
           "xaxis": {
            "backgroundcolor": "#E5ECF6",
            "gridcolor": "white",
            "gridwidth": 2,
            "linecolor": "white",
            "showbackground": true,
            "ticks": "",
            "zerolinecolor": "white"
           },
           "yaxis": {
            "backgroundcolor": "#E5ECF6",
            "gridcolor": "white",
            "gridwidth": 2,
            "linecolor": "white",
            "showbackground": true,
            "ticks": "",
            "zerolinecolor": "white"
           },
           "zaxis": {
            "backgroundcolor": "#E5ECF6",
            "gridcolor": "white",
            "gridwidth": 2,
            "linecolor": "white",
            "showbackground": true,
            "ticks": "",
            "zerolinecolor": "white"
           }
          },
          "shapedefaults": {
           "line": {
            "color": "#2a3f5f"
           }
          },
          "ternary": {
           "aaxis": {
            "gridcolor": "white",
            "linecolor": "white",
            "ticks": ""
           },
           "baxis": {
            "gridcolor": "white",
            "linecolor": "white",
            "ticks": ""
           },
           "bgcolor": "#E5ECF6",
           "caxis": {
            "gridcolor": "white",
            "linecolor": "white",
            "ticks": ""
           }
          },
          "title": {
           "x": 0.05
          },
          "xaxis": {
           "automargin": true,
           "gridcolor": "white",
           "linecolor": "white",
           "ticks": "",
           "title": {
            "standoff": 15
           },
           "zerolinecolor": "white",
           "zerolinewidth": 2
          },
          "yaxis": {
           "automargin": true,
           "gridcolor": "white",
           "linecolor": "white",
           "ticks": "",
           "title": {
            "standoff": 15
           },
           "zerolinecolor": "white",
           "zerolinewidth": 2
          }
         }
        },
        "width": 1200,
        "xaxis": {
         "anchor": "y",
         "domain": [
          0,
          1
         ],
         "title": {
          "text": "days_left"
         }
        },
        "yaxis": {
         "anchor": "x",
         "domain": [
          0,
          1
         ],
         "title": {
          "text": "price"
         }
        }
       }
      }
     },
     "metadata": {},
     "output_type": "display_data"
    }
   ],
   "source": [
    "if SIMPLIFIED_PLOTS:\n",
    "    fig = px.scatter(df_raw_sample, x=\"days_left\", y=\"price\", color=\"class\")\n",
    "else: \n",
    "    fig = px.scatter(df_raw, x=\"days_left\", y=\"price\", color=\"class\", marginal_y=\"violin\", marginal_x=\"box\", trendline=\"ols\", template=\"simple_white\")\n",
    "\n",
    "fig.update_layout( width=1200, height=600)\n",
    "fig.show()"
   ]
  },
  {
   "cell_type": "code",
   "execution_count": 8,
   "id": "a22b2472",
   "metadata": {},
   "outputs": [
    {
     "data": {
      "application/vnd.plotly.v1+json": {
       "config": {
        "plotlyServerURL": "https://plot.ly"
       },
       "data": [
        {
         "hovertemplate": "class=Business<br>duration=%{x}<br>price=%{y}<extra></extra>",
         "legendgroup": "Business",
         "marker": {
          "color": "#636efa",
          "symbol": "circle"
         },
         "mode": "markers",
         "name": "Business",
         "showlegend": true,
         "type": "scattergl",
         "x": {
          "bdata": "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",
          "dtype": "f8"
         },
         "xaxis": "x",
         "y": {
          "bdata": "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",
          "dtype": "i4"
         },
         "yaxis": "y"
        },
        {
         "hovertemplate": "class=Economy<br>duration=%{x}<br>price=%{y}<extra></extra>",
         "legendgroup": "Economy",
         "marker": {
          "color": "#EF553B",
          "symbol": "circle"
         },
         "mode": "markers",
         "name": "Economy",
         "showlegend": true,
         "type": "scattergl",
         "x": {
          "bdata": "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",
          "dtype": "f8"
         },
         "xaxis": "x",
         "y": {
          "bdata": "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",
          "dtype": "i2"
         },
         "yaxis": "y"
        }
       ],
       "layout": {
        "height": 500,
        "legend": {
         "title": {
          "text": "class"
         },
         "tracegroupgap": 0
        },
        "margin": {
         "t": 60
        },
        "template": {
         "data": {
          "bar": [
           {
            "error_x": {
             "color": "#2a3f5f"
            },
            "error_y": {
             "color": "#2a3f5f"
            },
            "marker": {
             "line": {
              "color": "#E5ECF6",
              "width": 0.5
             },
             "pattern": {
              "fillmode": "overlay",
              "size": 10,
              "solidity": 0.2
             }
            },
            "type": "bar"
           }
          ],
          "barpolar": [
           {
            "marker": {
             "line": {
              "color": "#E5ECF6",
              "width": 0.5
             },
             "pattern": {
              "fillmode": "overlay",
              "size": 10,
              "solidity": 0.2
             }
            },
            "type": "barpolar"
           }
          ],
          "carpet": [
           {
            "aaxis": {
             "endlinecolor": "#2a3f5f",
             "gridcolor": "white",
             "linecolor": "white",
             "minorgridcolor": "white",
             "startlinecolor": "#2a3f5f"
            },
            "baxis": {
             "endlinecolor": "#2a3f5f",
             "gridcolor": "white",
             "linecolor": "white",
             "minorgridcolor": "white",
             "startlinecolor": "#2a3f5f"
            },
            "type": "carpet"
           }
          ],
          "choropleth": [
           {
            "colorbar": {
             "outlinewidth": 0,
             "ticks": ""
            },
            "type": "choropleth"
           }
          ],
          "contour": [
           {
            "colorbar": {
             "outlinewidth": 0,
             "ticks": ""
            },
            "colorscale": [
             [
              0,
              "#0d0887"
             ],
             [
              0.1111111111111111,
              "#46039f"
             ],
             [
              0.2222222222222222,
              "#7201a8"
             ],
             [
              0.3333333333333333,
              "#9c179e"
             ],
             [
              0.4444444444444444,
              "#bd3786"
             ],
             [
              0.5555555555555556,
              "#d8576b"
             ],
             [
              0.6666666666666666,
              "#ed7953"
             ],
             [
              0.7777777777777778,
              "#fb9f3a"
             ],
             [
              0.8888888888888888,
              "#fdca26"
             ],
             [
              1,
              "#f0f921"
             ]
            ],
            "type": "contour"
           }
          ],
          "contourcarpet": [
           {
            "colorbar": {
             "outlinewidth": 0,
             "ticks": ""
            },
            "type": "contourcarpet"
           }
          ],
          "heatmap": [
           {
            "colorbar": {
             "outlinewidth": 0,
             "ticks": ""
            },
            "colorscale": [
             [
              0,
              "#0d0887"
             ],
             [
              0.1111111111111111,
              "#46039f"
             ],
             [
              0.2222222222222222,
              "#7201a8"
             ],
             [
              0.3333333333333333,
              "#9c179e"
             ],
             [
              0.4444444444444444,
              "#bd3786"
             ],
             [
              0.5555555555555556,
              "#d8576b"
             ],
             [
              0.6666666666666666,
              "#ed7953"
             ],
             [
              0.7777777777777778,
              "#fb9f3a"
             ],
             [
              0.8888888888888888,
              "#fdca26"
             ],
             [
              1,
              "#f0f921"
             ]
            ],
            "type": "heatmap"
           }
          ],
          "histogram": [
           {
            "marker": {
             "pattern": {
              "fillmode": "overlay",
              "size": 10,
              "solidity": 0.2
             }
            },
            "type": "histogram"
           }
          ],
          "histogram2d": [
           {
            "colorbar": {
             "outlinewidth": 0,
             "ticks": ""
            },
            "colorscale": [
             [
              0,
              "#0d0887"
             ],
             [
              0.1111111111111111,
              "#46039f"
             ],
             [
              0.2222222222222222,
              "#7201a8"
             ],
             [
              0.3333333333333333,
              "#9c179e"
             ],
             [
              0.4444444444444444,
              "#bd3786"
             ],
             [
              0.5555555555555556,
              "#d8576b"
             ],
             [
              0.6666666666666666,
              "#ed7953"
             ],
             [
              0.7777777777777778,
              "#fb9f3a"
             ],
             [
              0.8888888888888888,
              "#fdca26"
             ],
             [
              1,
              "#f0f921"
             ]
            ],
            "type": "histogram2d"
           }
          ],
          "histogram2dcontour": [
           {
            "colorbar": {
             "outlinewidth": 0,
             "ticks": ""
            },
            "colorscale": [
             [
              0,
              "#0d0887"
             ],
             [
              0.1111111111111111,
              "#46039f"
             ],
             [
              0.2222222222222222,
              "#7201a8"
             ],
             [
              0.3333333333333333,
              "#9c179e"
             ],
             [
              0.4444444444444444,
              "#bd3786"
             ],
             [
              0.5555555555555556,
              "#d8576b"
             ],
             [
              0.6666666666666666,
              "#ed7953"
             ],
             [
              0.7777777777777778,
              "#fb9f3a"
             ],
             [
              0.8888888888888888,
              "#fdca26"
             ],
             [
              1,
              "#f0f921"
             ]
            ],
            "type": "histogram2dcontour"
           }
          ],
          "mesh3d": [
           {
            "colorbar": {
             "outlinewidth": 0,
             "ticks": ""
            },
            "type": "mesh3d"
           }
          ],
          "parcoords": [
           {
            "line": {
             "colorbar": {
              "outlinewidth": 0,
              "ticks": ""
             }
            },
            "type": "parcoords"
           }
          ],
          "pie": [
           {
            "automargin": true,
            "type": "pie"
           }
          ],
          "scatter": [
           {
            "fillpattern": {
             "fillmode": "overlay",
             "size": 10,
             "solidity": 0.2
            },
            "type": "scatter"
           }
          ],
          "scatter3d": [
           {
            "line": {
             "colorbar": {
              "outlinewidth": 0,
              "ticks": ""
             }
            },
            "marker": {
             "colorbar": {
              "outlinewidth": 0,
              "ticks": ""
             }
            },
            "type": "scatter3d"
           }
          ],
          "scattercarpet": [
           {
            "marker": {
             "colorbar": {
              "outlinewidth": 0,
              "ticks": ""
             }
            },
            "type": "scattercarpet"
           }
          ],
          "scattergeo": [
           {
            "marker": {
             "colorbar": {
              "outlinewidth": 0,
              "ticks": ""
             }
            },
            "type": "scattergeo"
           }
          ],
          "scattergl": [
           {
            "marker": {
             "colorbar": {
              "outlinewidth": 0,
              "ticks": ""
             }
            },
            "type": "scattergl"
           }
          ],
          "scattermap": [
           {
            "marker": {
             "colorbar": {
              "outlinewidth": 0,
              "ticks": ""
             }
            },
            "type": "scattermap"
           }
          ],
          "scattermapbox": [
           {
            "marker": {
             "colorbar": {
              "outlinewidth": 0,
              "ticks": ""
             }
            },
            "type": "scattermapbox"
           }
          ],
          "scatterpolar": [
           {
            "marker": {
             "colorbar": {
              "outlinewidth": 0,
              "ticks": ""
             }
            },
            "type": "scatterpolar"
           }
          ],
          "scatterpolargl": [
           {
            "marker": {
             "colorbar": {
              "outlinewidth": 0,
              "ticks": ""
             }
            },
            "type": "scatterpolargl"
           }
          ],
          "scatterternary": [
           {
            "marker": {
             "colorbar": {
              "outlinewidth": 0,
              "ticks": ""
             }
            },
            "type": "scatterternary"
           }
          ],
          "surface": [
           {
            "colorbar": {
             "outlinewidth": 0,
             "ticks": ""
            },
            "colorscale": [
             [
              0,
              "#0d0887"
             ],
             [
              0.1111111111111111,
              "#46039f"
             ],
             [
              0.2222222222222222,
              "#7201a8"
             ],
             [
              0.3333333333333333,
              "#9c179e"
             ],
             [
              0.4444444444444444,
              "#bd3786"
             ],
             [
              0.5555555555555556,
              "#d8576b"
             ],
             [
              0.6666666666666666,
              "#ed7953"
             ],
             [
              0.7777777777777778,
              "#fb9f3a"
             ],
             [
              0.8888888888888888,
              "#fdca26"
             ],
             [
              1,
              "#f0f921"
             ]
            ],
            "type": "surface"
           }
          ],
          "table": [
           {
            "cells": {
             "fill": {
              "color": "#EBF0F8"
             },
             "line": {
              "color": "white"
             }
            },
            "header": {
             "fill": {
              "color": "#C8D4E3"
             },
             "line": {
              "color": "white"
             }
            },
            "type": "table"
           }
          ]
         },
         "layout": {
          "annotationdefaults": {
           "arrowcolor": "#2a3f5f",
           "arrowhead": 0,
           "arrowwidth": 1
          },
          "autotypenumbers": "strict",
          "coloraxis": {
           "colorbar": {
            "outlinewidth": 0,
            "ticks": ""
           }
          },
          "colorscale": {
           "diverging": [
            [
             0,
             "#8e0152"
            ],
            [
             0.1,
             "#c51b7d"
            ],
            [
             0.2,
             "#de77ae"
            ],
            [
             0.3,
             "#f1b6da"
            ],
            [
             0.4,
             "#fde0ef"
            ],
            [
             0.5,
             "#f7f7f7"
            ],
            [
             0.6,
             "#e6f5d0"
            ],
            [
             0.7,
             "#b8e186"
            ],
            [
             0.8,
             "#7fbc41"
            ],
            [
             0.9,
             "#4d9221"
            ],
            [
             1,
             "#276419"
            ]
           ],
           "sequential": [
            [
             0,
             "#0d0887"
            ],
            [
             0.1111111111111111,
             "#46039f"
            ],
            [
             0.2222222222222222,
             "#7201a8"
            ],
            [
             0.3333333333333333,
             "#9c179e"
            ],
            [
             0.4444444444444444,
             "#bd3786"
            ],
            [
             0.5555555555555556,
             "#d8576b"
            ],
            [
             0.6666666666666666,
             "#ed7953"
            ],
            [
             0.7777777777777778,
             "#fb9f3a"
            ],
            [
             0.8888888888888888,
             "#fdca26"
            ],
            [
             1,
             "#f0f921"
            ]
           ],
           "sequentialminus": [
            [
             0,
             "#0d0887"
            ],
            [
             0.1111111111111111,
             "#46039f"
            ],
            [
             0.2222222222222222,
             "#7201a8"
            ],
            [
             0.3333333333333333,
             "#9c179e"
            ],
            [
             0.4444444444444444,
             "#bd3786"
            ],
            [
             0.5555555555555556,
             "#d8576b"
            ],
            [
             0.6666666666666666,
             "#ed7953"
            ],
            [
             0.7777777777777778,
             "#fb9f3a"
            ],
            [
             0.8888888888888888,
             "#fdca26"
            ],
            [
             1,
             "#f0f921"
            ]
           ]
          },
          "colorway": [
           "#636efa",
           "#EF553B",
           "#00cc96",
           "#ab63fa",
           "#FFA15A",
           "#19d3f3",
           "#FF6692",
           "#B6E880",
           "#FF97FF",
           "#FECB52"
          ],
          "font": {
           "color": "#2a3f5f"
          },
          "geo": {
           "bgcolor": "white",
           "lakecolor": "white",
           "landcolor": "#E5ECF6",
           "showlakes": true,
           "showland": true,
           "subunitcolor": "white"
          },
          "hoverlabel": {
           "align": "left"
          },
          "hovermode": "closest",
          "mapbox": {
           "style": "light"
          },
          "paper_bgcolor": "white",
          "plot_bgcolor": "#E5ECF6",
          "polar": {
           "angularaxis": {
            "gridcolor": "white",
            "linecolor": "white",
            "ticks": ""
           },
           "bgcolor": "#E5ECF6",
           "radialaxis": {
            "gridcolor": "white",
            "linecolor": "white",
            "ticks": ""
           }
          },
          "scene": {
           "xaxis": {
            "backgroundcolor": "#E5ECF6",
            "gridcolor": "white",
            "gridwidth": 2,
            "linecolor": "white",
            "showbackground": true,
            "ticks": "",
            "zerolinecolor": "white"
           },
           "yaxis": {
            "backgroundcolor": "#E5ECF6",
            "gridcolor": "white",
            "gridwidth": 2,
            "linecolor": "white",
            "showbackground": true,
            "ticks": "",
            "zerolinecolor": "white"
           },
           "zaxis": {
            "backgroundcolor": "#E5ECF6",
            "gridcolor": "white",
            "gridwidth": 2,
            "linecolor": "white",
            "showbackground": true,
            "ticks": "",
            "zerolinecolor": "white"
           }
          },
          "shapedefaults": {
           "line": {
            "color": "#2a3f5f"
           }
          },
          "ternary": {
           "aaxis": {
            "gridcolor": "white",
            "linecolor": "white",
            "ticks": ""
           },
           "baxis": {
            "gridcolor": "white",
            "linecolor": "white",
            "ticks": ""
           },
           "bgcolor": "#E5ECF6",
           "caxis": {
            "gridcolor": "white",
            "linecolor": "white",
            "ticks": ""
           }
          },
          "title": {
           "x": 0.05
          },
          "xaxis": {
           "automargin": true,
           "gridcolor": "white",
           "linecolor": "white",
           "ticks": "",
           "title": {
            "standoff": 15
           },
           "zerolinecolor": "white",
           "zerolinewidth": 2
          },
          "yaxis": {
           "automargin": true,
           "gridcolor": "white",
           "linecolor": "white",
           "ticks": "",
           "title": {
            "standoff": 15
           },
           "zerolinecolor": "white",
           "zerolinewidth": 2
          }
         }
        },
        "width": 1200,
        "xaxis": {
         "anchor": "y",
         "domain": [
          0,
          1
         ],
         "title": {
          "text": "duration"
         }
        },
        "yaxis": {
         "anchor": "x",
         "domain": [
          0,
          1
         ],
         "title": {
          "text": "price"
         }
        }
       }
      }
     },
     "metadata": {},
     "output_type": "display_data"
    }
   ],
   "source": [
    "if SIMPLIFIED_PLOTS:\n",
    "    fig = px.scatter(df_raw_sample, x=\"duration\", y=\"price\", color=\"class\")\n",
    "else:\n",
    "    fig = px.scatter(df_raw, x=\"duration\", y=\"price\", color=\"class\", marginal_y=\"violin\", marginal_x=\"box\", trendline=\"ols\", template=\"simple_white\")\n",
    "fig.update_layout( width=1200, height=500)\n",
    "fig.show()"
   ]
  },
  {
   "cell_type": "code",
   "execution_count": 9,
   "id": "ad909977",
   "metadata": {},
   "outputs": [
    {
     "data": {
      "application/vnd.plotly.v1+json": {
       "config": {
        "plotlyServerURL": "https://plot.ly"
       },
       "data": [
        {
         "alignmentgroup": "True",
         "hovertemplate": "class=Economy<br>Airline=%{x}<br>Average Price=%{y}<extra></extra>",
         "legendgroup": "Economy",
         "marker": {
          "color": "red",
          "pattern": {
           "shape": ""
          }
         },
         "name": "Economy",
         "offsetgroup": "Economy",
         "orientation": "v",
         "showlegend": true,
         "textposition": "auto",
         "type": "bar",
         "x": [
          "AirAsia",
          "Air_India",
          "GO_FIRST",
          "Indigo",
          "SpiceJet",
          "Vistara"
         ],
         "xaxis": "x",
         "y": {
          "bdata": "CABvPiX2r0BLBpqirpG8QAG6v/EBFLZAPtmnXzfMtECq78RkRyO4QE40uJLxfr5A",
          "dtype": "f8"
         },
         "yaxis": "y"
        },
        {
         "alignmentgroup": "True",
         "hovertemplate": "class=Business<br>Airline=%{x}<br>Average Price=%{y}<extra></extra>",
         "legendgroup": "Business",
         "marker": {
          "color": "blue",
          "pattern": {
           "shape": ""
          }
         },
         "name": "Business",
         "offsetgroup": "Business",
         "orientation": "v",
         "showlegend": true,
         "textposition": "auto",
         "type": "bar",
         "x": [
          "Air_India",
          "Vistara"
         ],
         "xaxis": "x",
         "y": {
          "bdata": "WME5QWED50DBQo3joBbrQA==",
          "dtype": "f8"
         },
         "yaxis": "y"
        }
       ],
       "layout": {
        "barmode": "group",
        "height": 600,
        "legend": {
         "title": {
          "text": "class"
         },
         "tracegroupgap": 0
        },
        "template": {
         "data": {
          "bar": [
           {
            "error_x": {
             "color": "#2a3f5f"
            },
            "error_y": {
             "color": "#2a3f5f"
            },
            "marker": {
             "line": {
              "color": "#E5ECF6",
              "width": 0.5
             },
             "pattern": {
              "fillmode": "overlay",
              "size": 10,
              "solidity": 0.2
             }
            },
            "type": "bar"
           }
          ],
          "barpolar": [
           {
            "marker": {
             "line": {
              "color": "#E5ECF6",
              "width": 0.5
             },
             "pattern": {
              "fillmode": "overlay",
              "size": 10,
              "solidity": 0.2
             }
            },
            "type": "barpolar"
           }
          ],
          "carpet": [
           {
            "aaxis": {
             "endlinecolor": "#2a3f5f",
             "gridcolor": "white",
             "linecolor": "white",
             "minorgridcolor": "white",
             "startlinecolor": "#2a3f5f"
            },
            "baxis": {
             "endlinecolor": "#2a3f5f",
             "gridcolor": "white",
             "linecolor": "white",
             "minorgridcolor": "white",
             "startlinecolor": "#2a3f5f"
            },
            "type": "carpet"
           }
          ],
          "choropleth": [
           {
            "colorbar": {
             "outlinewidth": 0,
             "ticks": ""
            },
            "type": "choropleth"
           }
          ],
          "contour": [
           {
            "colorbar": {
             "outlinewidth": 0,
             "ticks": ""
            },
            "colorscale": [
             [
              0,
              "#0d0887"
             ],
             [
              0.1111111111111111,
              "#46039f"
             ],
             [
              0.2222222222222222,
              "#7201a8"
             ],
             [
              0.3333333333333333,
              "#9c179e"
             ],
             [
              0.4444444444444444,
              "#bd3786"
             ],
             [
              0.5555555555555556,
              "#d8576b"
             ],
             [
              0.6666666666666666,
              "#ed7953"
             ],
             [
              0.7777777777777778,
              "#fb9f3a"
             ],
             [
              0.8888888888888888,
              "#fdca26"
             ],
             [
              1,
              "#f0f921"
             ]
            ],
            "type": "contour"
           }
          ],
          "contourcarpet": [
           {
            "colorbar": {
             "outlinewidth": 0,
             "ticks": ""
            },
            "type": "contourcarpet"
           }
          ],
          "heatmap": [
           {
            "colorbar": {
             "outlinewidth": 0,
             "ticks": ""
            },
            "colorscale": [
             [
              0,
              "#0d0887"
             ],
             [
              0.1111111111111111,
              "#46039f"
             ],
             [
              0.2222222222222222,
              "#7201a8"
             ],
             [
              0.3333333333333333,
              "#9c179e"
             ],
             [
              0.4444444444444444,
              "#bd3786"
             ],
             [
              0.5555555555555556,
              "#d8576b"
             ],
             [
              0.6666666666666666,
              "#ed7953"
             ],
             [
              0.7777777777777778,
              "#fb9f3a"
             ],
             [
              0.8888888888888888,
              "#fdca26"
             ],
             [
              1,
              "#f0f921"
             ]
            ],
            "type": "heatmap"
           }
          ],
          "histogram": [
           {
            "marker": {
             "pattern": {
              "fillmode": "overlay",
              "size": 10,
              "solidity": 0.2
             }
            },
            "type": "histogram"
           }
          ],
          "histogram2d": [
           {
            "colorbar": {
             "outlinewidth": 0,
             "ticks": ""
            },
            "colorscale": [
             [
              0,
              "#0d0887"
             ],
             [
              0.1111111111111111,
              "#46039f"
             ],
             [
              0.2222222222222222,
              "#7201a8"
             ],
             [
              0.3333333333333333,
              "#9c179e"
             ],
             [
              0.4444444444444444,
              "#bd3786"
             ],
             [
              0.5555555555555556,
              "#d8576b"
             ],
             [
              0.6666666666666666,
              "#ed7953"
             ],
             [
              0.7777777777777778,
              "#fb9f3a"
             ],
             [
              0.8888888888888888,
              "#fdca26"
             ],
             [
              1,
              "#f0f921"
             ]
            ],
            "type": "histogram2d"
           }
          ],
          "histogram2dcontour": [
           {
            "colorbar": {
             "outlinewidth": 0,
             "ticks": ""
            },
            "colorscale": [
             [
              0,
              "#0d0887"
             ],
             [
              0.1111111111111111,
              "#46039f"
             ],
             [
              0.2222222222222222,
              "#7201a8"
             ],
             [
              0.3333333333333333,
              "#9c179e"
             ],
             [
              0.4444444444444444,
              "#bd3786"
             ],
             [
              0.5555555555555556,
              "#d8576b"
             ],
             [
              0.6666666666666666,
              "#ed7953"
             ],
             [
              0.7777777777777778,
              "#fb9f3a"
             ],
             [
              0.8888888888888888,
              "#fdca26"
             ],
             [
              1,
              "#f0f921"
             ]
            ],
            "type": "histogram2dcontour"
           }
          ],
          "mesh3d": [
           {
            "colorbar": {
             "outlinewidth": 0,
             "ticks": ""
            },
            "type": "mesh3d"
           }
          ],
          "parcoords": [
           {
            "line": {
             "colorbar": {
              "outlinewidth": 0,
              "ticks": ""
             }
            },
            "type": "parcoords"
           }
          ],
          "pie": [
           {
            "automargin": true,
            "type": "pie"
           }
          ],
          "scatter": [
           {
            "fillpattern": {
             "fillmode": "overlay",
             "size": 10,
             "solidity": 0.2
            },
            "type": "scatter"
           }
          ],
          "scatter3d": [
           {
            "line": {
             "colorbar": {
              "outlinewidth": 0,
              "ticks": ""
             }
            },
            "marker": {
             "colorbar": {
              "outlinewidth": 0,
              "ticks": ""
             }
            },
            "type": "scatter3d"
           }
          ],
          "scattercarpet": [
           {
            "marker": {
             "colorbar": {
              "outlinewidth": 0,
              "ticks": ""
             }
            },
            "type": "scattercarpet"
           }
          ],
          "scattergeo": [
           {
            "marker": {
             "colorbar": {
              "outlinewidth": 0,
              "ticks": ""
             }
            },
            "type": "scattergeo"
           }
          ],
          "scattergl": [
           {
            "marker": {
             "colorbar": {
              "outlinewidth": 0,
              "ticks": ""
             }
            },
            "type": "scattergl"
           }
          ],
          "scattermap": [
           {
            "marker": {
             "colorbar": {
              "outlinewidth": 0,
              "ticks": ""
             }
            },
            "type": "scattermap"
           }
          ],
          "scattermapbox": [
           {
            "marker": {
             "colorbar": {
              "outlinewidth": 0,
              "ticks": ""
             }
            },
            "type": "scattermapbox"
           }
          ],
          "scatterpolar": [
           {
            "marker": {
             "colorbar": {
              "outlinewidth": 0,
              "ticks": ""
             }
            },
            "type": "scatterpolar"
           }
          ],
          "scatterpolargl": [
           {
            "marker": {
             "colorbar": {
              "outlinewidth": 0,
              "ticks": ""
             }
            },
            "type": "scatterpolargl"
           }
          ],
          "scatterternary": [
           {
            "marker": {
             "colorbar": {
              "outlinewidth": 0,
              "ticks": ""
             }
            },
            "type": "scatterternary"
           }
          ],
          "surface": [
           {
            "colorbar": {
             "outlinewidth": 0,
             "ticks": ""
            },
            "colorscale": [
             [
              0,
              "#0d0887"
             ],
             [
              0.1111111111111111,
              "#46039f"
             ],
             [
              0.2222222222222222,
              "#7201a8"
             ],
             [
              0.3333333333333333,
              "#9c179e"
             ],
             [
              0.4444444444444444,
              "#bd3786"
             ],
             [
              0.5555555555555556,
              "#d8576b"
             ],
             [
              0.6666666666666666,
              "#ed7953"
             ],
             [
              0.7777777777777778,
              "#fb9f3a"
             ],
             [
              0.8888888888888888,
              "#fdca26"
             ],
             [
              1,
              "#f0f921"
             ]
            ],
            "type": "surface"
           }
          ],
          "table": [
           {
            "cells": {
             "fill": {
              "color": "#EBF0F8"
             },
             "line": {
              "color": "white"
             }
            },
            "header": {
             "fill": {
              "color": "#C8D4E3"
             },
             "line": {
              "color": "white"
             }
            },
            "type": "table"
           }
          ]
         },
         "layout": {
          "annotationdefaults": {
           "arrowcolor": "#2a3f5f",
           "arrowhead": 0,
           "arrowwidth": 1
          },
          "autotypenumbers": "strict",
          "coloraxis": {
           "colorbar": {
            "outlinewidth": 0,
            "ticks": ""
           }
          },
          "colorscale": {
           "diverging": [
            [
             0,
             "#8e0152"
            ],
            [
             0.1,
             "#c51b7d"
            ],
            [
             0.2,
             "#de77ae"
            ],
            [
             0.3,
             "#f1b6da"
            ],
            [
             0.4,
             "#fde0ef"
            ],
            [
             0.5,
             "#f7f7f7"
            ],
            [
             0.6,
             "#e6f5d0"
            ],
            [
             0.7,
             "#b8e186"
            ],
            [
             0.8,
             "#7fbc41"
            ],
            [
             0.9,
             "#4d9221"
            ],
            [
             1,
             "#276419"
            ]
           ],
           "sequential": [
            [
             0,
             "#0d0887"
            ],
            [
             0.1111111111111111,
             "#46039f"
            ],
            [
             0.2222222222222222,
             "#7201a8"
            ],
            [
             0.3333333333333333,
             "#9c179e"
            ],
            [
             0.4444444444444444,
             "#bd3786"
            ],
            [
             0.5555555555555556,
             "#d8576b"
            ],
            [
             0.6666666666666666,
             "#ed7953"
            ],
            [
             0.7777777777777778,
             "#fb9f3a"
            ],
            [
             0.8888888888888888,
             "#fdca26"
            ],
            [
             1,
             "#f0f921"
            ]
           ],
           "sequentialminus": [
            [
             0,
             "#0d0887"
            ],
            [
             0.1111111111111111,
             "#46039f"
            ],
            [
             0.2222222222222222,
             "#7201a8"
            ],
            [
             0.3333333333333333,
             "#9c179e"
            ],
            [
             0.4444444444444444,
             "#bd3786"
            ],
            [
             0.5555555555555556,
             "#d8576b"
            ],
            [
             0.6666666666666666,
             "#ed7953"
            ],
            [
             0.7777777777777778,
             "#fb9f3a"
            ],
            [
             0.8888888888888888,
             "#fdca26"
            ],
            [
             1,
             "#f0f921"
            ]
           ]
          },
          "colorway": [
           "#636efa",
           "#EF553B",
           "#00cc96",
           "#ab63fa",
           "#FFA15A",
           "#19d3f3",
           "#FF6692",
           "#B6E880",
           "#FF97FF",
           "#FECB52"
          ],
          "font": {
           "color": "#2a3f5f"
          },
          "geo": {
           "bgcolor": "white",
           "lakecolor": "white",
           "landcolor": "#E5ECF6",
           "showlakes": true,
           "showland": true,
           "subunitcolor": "white"
          },
          "hoverlabel": {
           "align": "left"
          },
          "hovermode": "closest",
          "mapbox": {
           "style": "light"
          },
          "paper_bgcolor": "white",
          "plot_bgcolor": "#E5ECF6",
          "polar": {
           "angularaxis": {
            "gridcolor": "white",
            "linecolor": "white",
            "ticks": ""
           },
           "bgcolor": "#E5ECF6",
           "radialaxis": {
            "gridcolor": "white",
            "linecolor": "white",
            "ticks": ""
           }
          },
          "scene": {
           "xaxis": {
            "backgroundcolor": "#E5ECF6",
            "gridcolor": "white",
            "gridwidth": 2,
            "linecolor": "white",
            "showbackground": true,
            "ticks": "",
            "zerolinecolor": "white"
           },
           "yaxis": {
            "backgroundcolor": "#E5ECF6",
            "gridcolor": "white",
            "gridwidth": 2,
            "linecolor": "white",
            "showbackground": true,
            "ticks": "",
            "zerolinecolor": "white"
           },
           "zaxis": {
            "backgroundcolor": "#E5ECF6",
            "gridcolor": "white",
            "gridwidth": 2,
            "linecolor": "white",
            "showbackground": true,
            "ticks": "",
            "zerolinecolor": "white"
           }
          },
          "shapedefaults": {
           "line": {
            "color": "#2a3f5f"
           }
          },
          "ternary": {
           "aaxis": {
            "gridcolor": "white",
            "linecolor": "white",
            "ticks": ""
           },
           "baxis": {
            "gridcolor": "white",
            "linecolor": "white",
            "ticks": ""
           },
           "bgcolor": "#E5ECF6",
           "caxis": {
            "gridcolor": "white",
            "linecolor": "white",
            "ticks": ""
           }
          },
          "title": {
           "x": 0.05
          },
          "xaxis": {
           "automargin": true,
           "gridcolor": "white",
           "linecolor": "white",
           "ticks": "",
           "title": {
            "standoff": 15
           },
           "zerolinecolor": "white",
           "zerolinewidth": 2
          },
          "yaxis": {
           "automargin": true,
           "gridcolor": "white",
           "linecolor": "white",
           "ticks": "",
           "title": {
            "standoff": 15
           },
           "zerolinecolor": "white",
           "zerolinewidth": 2
          }
         }
        },
        "title": {
         "text": "Average Flight Prices by Airline and Class"
        },
        "width": 1200,
        "xaxis": {
         "anchor": "y",
         "domain": [
          0,
          1
         ],
         "title": {
          "text": "Airline"
         }
        },
        "yaxis": {
         "anchor": "x",
         "domain": [
          0,
          1
         ],
         "title": {
          "text": "Average Price"
         }
        }
       }
      }
     },
     "metadata": {},
     "output_type": "display_data"
    }
   ],
   "source": [
    "avg_prices = df_raw.groupby(['airline', 'class'])['price'].mean().reset_index()\n",
    "\n",
    "# Plot\n",
    "fig = px.bar(\n",
    "    avg_prices,\n",
    "    x='airline',\n",
    "    y='price',\n",
    "    color='class',\n",
    "    barmode='group',\n",
    "    color_discrete_map={\n",
    "        'Economy': 'red',\n",
    "        'Business': 'blue'  # you can pick any color you like for Business\n",
    "    },\n",
    "    title='Average Flight Prices by Airline and Class',\n",
    "    labels={'price': 'Average Price', 'airline': 'Airline'}\n",
    ")\n",
    "\n",
    "fig.update_layout(width=1200, height=600)\n",
    "fig.show()"
   ]
  },
  {
   "cell_type": "markdown",
   "id": "1fba4117",
   "metadata": {},
   "source": [
    "## Data Cleaning and Preprocessing"
   ]
  },
  {
   "cell_type": "code",
   "execution_count": null,
   "id": "988b5d72",
   "metadata": {},
   "outputs": [
    {
     "data": {
      "text/html": [
       "<div>\n",
       "<style scoped>\n",
       "    .dataframe tbody tr th:only-of-type {\n",
       "        vertical-align: middle;\n",
       "    }\n",
       "\n",
       "    .dataframe tbody tr th {\n",
       "        vertical-align: top;\n",
       "    }\n",
       "\n",
       "    .dataframe thead th {\n",
       "        text-align: right;\n",
       "    }\n",
       "</style>\n",
       "<table border=\"1\" class=\"dataframe\">\n",
       "  <thead>\n",
       "    <tr style=\"text-align: right;\">\n",
       "      <th></th>\n",
       "      <th>const</th>\n",
       "      <th>duration</th>\n",
       "      <th>days_left</th>\n",
       "      <th>airline_Air_India</th>\n",
       "      <th>airline_GO_FIRST</th>\n",
       "      <th>airline_Indigo</th>\n",
       "      <th>airline_SpiceJet</th>\n",
       "      <th>airline_Vistara</th>\n",
       "      <th>source_city_Chennai</th>\n",
       "      <th>source_city_Delhi</th>\n",
       "      <th>source_city_Hyderabad</th>\n",
       "      <th>source_city_Kolkata</th>\n",
       "      <th>source_city_Mumbai</th>\n",
       "      <th>departure_time_Early_Morning</th>\n",
       "      <th>departure_time_Evening</th>\n",
       "      <th>departure_time_Late_Night</th>\n",
       "      <th>departure_time_Morning</th>\n",
       "      <th>departure_time_Night</th>\n",
       "      <th>stops_two_or_more</th>\n",
       "      <th>stops_zero</th>\n",
       "      <th>arrival_time_Early_Morning</th>\n",
       "      <th>arrival_time_Evening</th>\n",
       "      <th>arrival_time_Late_Night</th>\n",
       "      <th>arrival_time_Morning</th>\n",
       "      <th>arrival_time_Night</th>\n",
       "      <th>...</th>\n",
       "      <th>airline_Vistara_Economy</th>\n",
       "      <th>source_city_Chennai_Economy</th>\n",
       "      <th>source_city_Delhi_Economy</th>\n",
       "      <th>source_city_Hyderabad_Economy</th>\n",
       "      <th>source_city_Kolkata_Economy</th>\n",
       "      <th>source_city_Mumbai_Economy</th>\n",
       "      <th>departure_time_Early_Morning_Economy</th>\n",
       "      <th>departure_time_Evening_Economy</th>\n",
       "      <th>departure_time_Late_Night_Economy</th>\n",
       "      <th>departure_time_Morning_Economy</th>\n",
       "      <th>departure_time_Night_Economy</th>\n",
       "      <th>stops_two_or_more_Economy</th>\n",
       "      <th>stops_zero_Economy</th>\n",
       "      <th>arrival_time_Early_Morning_Economy</th>\n",
       "      <th>arrival_time_Evening_Economy</th>\n",
       "      <th>arrival_time_Late_Night_Economy</th>\n",
       "      <th>arrival_time_Morning_Economy</th>\n",
       "      <th>arrival_time_Night_Economy</th>\n",
       "      <th>destination_city_Chennai_Economy</th>\n",
       "      <th>destination_city_Delhi_Economy</th>\n",
       "      <th>destination_city_Hyderabad_Economy</th>\n",
       "      <th>destination_city_Kolkata_Economy</th>\n",
       "      <th>destination_city_Mumbai_Economy</th>\n",
       "      <th>days_left_inv_Economy</th>\n",
       "      <th>duration_log_Economy</th>\n",
       "    </tr>\n",
       "  </thead>\n",
       "  <tbody>\n",
       "    <tr>\n",
       "      <th>148417</th>\n",
       "      <td>1.0</td>\n",
       "      <td>19.42</td>\n",
       "      <td>6.0</td>\n",
       "      <td>1.0</td>\n",
       "      <td>0.0</td>\n",
       "      <td>0.0</td>\n",
       "      <td>0.0</td>\n",
       "      <td>0.0</td>\n",
       "      <td>0.0</td>\n",
       "      <td>0.0</td>\n",
       "      <td>0.0</td>\n",
       "      <td>1.0</td>\n",
       "      <td>0.0</td>\n",
       "      <td>0.0</td>\n",
       "      <td>0.0</td>\n",
       "      <td>0.0</td>\n",
       "      <td>0.0</td>\n",
       "      <td>0.0</td>\n",
       "      <td>0.0</td>\n",
       "      <td>0.0</td>\n",
       "      <td>0.0</td>\n",
       "      <td>0.0</td>\n",
       "      <td>0.0</td>\n",
       "      <td>1.0</td>\n",
       "      <td>0.0</td>\n",
       "      <td>...</td>\n",
       "      <td>0.0</td>\n",
       "      <td>0.0</td>\n",
       "      <td>0.0</td>\n",
       "      <td>0.0</td>\n",
       "      <td>1.0</td>\n",
       "      <td>0.0</td>\n",
       "      <td>0.0</td>\n",
       "      <td>0.0</td>\n",
       "      <td>0.0</td>\n",
       "      <td>0.0</td>\n",
       "      <td>0.0</td>\n",
       "      <td>0.0</td>\n",
       "      <td>0.0</td>\n",
       "      <td>0.0</td>\n",
       "      <td>0.0</td>\n",
       "      <td>0.0</td>\n",
       "      <td>1.0</td>\n",
       "      <td>0.0</td>\n",
       "      <td>1.0</td>\n",
       "      <td>0.0</td>\n",
       "      <td>0.0</td>\n",
       "      <td>0.0</td>\n",
       "      <td>0.0</td>\n",
       "      <td>0.166667</td>\n",
       "      <td>2.966303</td>\n",
       "    </tr>\n",
       "    <tr>\n",
       "      <th>36879</th>\n",
       "      <td>1.0</td>\n",
       "      <td>7.00</td>\n",
       "      <td>13.0</td>\n",
       "      <td>0.0</td>\n",
       "      <td>0.0</td>\n",
       "      <td>1.0</td>\n",
       "      <td>0.0</td>\n",
       "      <td>0.0</td>\n",
       "      <td>0.0</td>\n",
       "      <td>1.0</td>\n",
       "      <td>0.0</td>\n",
       "      <td>0.0</td>\n",
       "      <td>0.0</td>\n",
       "      <td>0.0</td>\n",
       "      <td>0.0</td>\n",
       "      <td>0.0</td>\n",
       "      <td>0.0</td>\n",
       "      <td>0.0</td>\n",
       "      <td>1.0</td>\n",
       "      <td>0.0</td>\n",
       "      <td>0.0</td>\n",
       "      <td>0.0</td>\n",
       "      <td>0.0</td>\n",
       "      <td>0.0</td>\n",
       "      <td>1.0</td>\n",
       "      <td>...</td>\n",
       "      <td>0.0</td>\n",
       "      <td>0.0</td>\n",
       "      <td>1.0</td>\n",
       "      <td>0.0</td>\n",
       "      <td>0.0</td>\n",
       "      <td>0.0</td>\n",
       "      <td>0.0</td>\n",
       "      <td>0.0</td>\n",
       "      <td>0.0</td>\n",
       "      <td>0.0</td>\n",
       "      <td>0.0</td>\n",
       "      <td>1.0</td>\n",
       "      <td>0.0</td>\n",
       "      <td>0.0</td>\n",
       "      <td>0.0</td>\n",
       "      <td>0.0</td>\n",
       "      <td>0.0</td>\n",
       "      <td>1.0</td>\n",
       "      <td>1.0</td>\n",
       "      <td>0.0</td>\n",
       "      <td>0.0</td>\n",
       "      <td>0.0</td>\n",
       "      <td>0.0</td>\n",
       "      <td>0.076923</td>\n",
       "      <td>1.945910</td>\n",
       "    </tr>\n",
       "    <tr>\n",
       "      <th>274531</th>\n",
       "      <td>1.0</td>\n",
       "      <td>21.17</td>\n",
       "      <td>44.0</td>\n",
       "      <td>1.0</td>\n",
       "      <td>0.0</td>\n",
       "      <td>0.0</td>\n",
       "      <td>0.0</td>\n",
       "      <td>0.0</td>\n",
       "      <td>0.0</td>\n",
       "      <td>0.0</td>\n",
       "      <td>0.0</td>\n",
       "      <td>1.0</td>\n",
       "      <td>0.0</td>\n",
       "      <td>0.0</td>\n",
       "      <td>0.0</td>\n",
       "      <td>0.0</td>\n",
       "      <td>0.0</td>\n",
       "      <td>0.0</td>\n",
       "      <td>0.0</td>\n",
       "      <td>0.0</td>\n",
       "      <td>0.0</td>\n",
       "      <td>0.0</td>\n",
       "      <td>0.0</td>\n",
       "      <td>0.0</td>\n",
       "      <td>0.0</td>\n",
       "      <td>...</td>\n",
       "      <td>0.0</td>\n",
       "      <td>0.0</td>\n",
       "      <td>0.0</td>\n",
       "      <td>0.0</td>\n",
       "      <td>0.0</td>\n",
       "      <td>0.0</td>\n",
       "      <td>0.0</td>\n",
       "      <td>0.0</td>\n",
       "      <td>0.0</td>\n",
       "      <td>0.0</td>\n",
       "      <td>0.0</td>\n",
       "      <td>0.0</td>\n",
       "      <td>0.0</td>\n",
       "      <td>0.0</td>\n",
       "      <td>0.0</td>\n",
       "      <td>0.0</td>\n",
       "      <td>0.0</td>\n",
       "      <td>0.0</td>\n",
       "      <td>0.0</td>\n",
       "      <td>0.0</td>\n",
       "      <td>0.0</td>\n",
       "      <td>0.0</td>\n",
       "      <td>0.0</td>\n",
       "      <td>0.000000</td>\n",
       "      <td>0.000000</td>\n",
       "    </tr>\n",
       "    <tr>\n",
       "      <th>166397</th>\n",
       "      <td>1.0</td>\n",
       "      <td>10.25</td>\n",
       "      <td>11.0</td>\n",
       "      <td>0.0</td>\n",
       "      <td>0.0</td>\n",
       "      <td>0.0</td>\n",
       "      <td>0.0</td>\n",
       "      <td>1.0</td>\n",
       "      <td>0.0</td>\n",
       "      <td>0.0</td>\n",
       "      <td>1.0</td>\n",
       "      <td>0.0</td>\n",
       "      <td>0.0</td>\n",
       "      <td>0.0</td>\n",
       "      <td>0.0</td>\n",
       "      <td>0.0</td>\n",
       "      <td>0.0</td>\n",
       "      <td>1.0</td>\n",
       "      <td>0.0</td>\n",
       "      <td>0.0</td>\n",
       "      <td>1.0</td>\n",
       "      <td>0.0</td>\n",
       "      <td>0.0</td>\n",
       "      <td>0.0</td>\n",
       "      <td>0.0</td>\n",
       "      <td>...</td>\n",
       "      <td>1.0</td>\n",
       "      <td>0.0</td>\n",
       "      <td>0.0</td>\n",
       "      <td>1.0</td>\n",
       "      <td>0.0</td>\n",
       "      <td>0.0</td>\n",
       "      <td>0.0</td>\n",
       "      <td>0.0</td>\n",
       "      <td>0.0</td>\n",
       "      <td>0.0</td>\n",
       "      <td>1.0</td>\n",
       "      <td>0.0</td>\n",
       "      <td>0.0</td>\n",
       "      <td>1.0</td>\n",
       "      <td>0.0</td>\n",
       "      <td>0.0</td>\n",
       "      <td>0.0</td>\n",
       "      <td>0.0</td>\n",
       "      <td>0.0</td>\n",
       "      <td>0.0</td>\n",
       "      <td>0.0</td>\n",
       "      <td>0.0</td>\n",
       "      <td>0.0</td>\n",
       "      <td>0.090909</td>\n",
       "      <td>2.327278</td>\n",
       "    </tr>\n",
       "    <tr>\n",
       "      <th>272722</th>\n",
       "      <td>1.0</td>\n",
       "      <td>26.50</td>\n",
       "      <td>5.0</td>\n",
       "      <td>0.0</td>\n",
       "      <td>0.0</td>\n",
       "      <td>0.0</td>\n",
       "      <td>0.0</td>\n",
       "      <td>1.0</td>\n",
       "      <td>0.0</td>\n",
       "      <td>0.0</td>\n",
       "      <td>0.0</td>\n",
       "      <td>1.0</td>\n",
       "      <td>0.0</td>\n",
       "      <td>0.0</td>\n",
       "      <td>0.0</td>\n",
       "      <td>0.0</td>\n",
       "      <td>0.0</td>\n",
       "      <td>1.0</td>\n",
       "      <td>0.0</td>\n",
       "      <td>0.0</td>\n",
       "      <td>0.0</td>\n",
       "      <td>0.0</td>\n",
       "      <td>0.0</td>\n",
       "      <td>0.0</td>\n",
       "      <td>1.0</td>\n",
       "      <td>...</td>\n",
       "      <td>0.0</td>\n",
       "      <td>0.0</td>\n",
       "      <td>0.0</td>\n",
       "      <td>0.0</td>\n",
       "      <td>0.0</td>\n",
       "      <td>0.0</td>\n",
       "      <td>0.0</td>\n",
       "      <td>0.0</td>\n",
       "      <td>0.0</td>\n",
       "      <td>0.0</td>\n",
       "      <td>0.0</td>\n",
       "      <td>0.0</td>\n",
       "      <td>0.0</td>\n",
       "      <td>0.0</td>\n",
       "      <td>0.0</td>\n",
       "      <td>0.0</td>\n",
       "      <td>0.0</td>\n",
       "      <td>0.0</td>\n",
       "      <td>0.0</td>\n",
       "      <td>0.0</td>\n",
       "      <td>0.0</td>\n",
       "      <td>0.0</td>\n",
       "      <td>0.0</td>\n",
       "      <td>0.000000</td>\n",
       "      <td>0.000000</td>\n",
       "    </tr>\n",
       "    <tr>\n",
       "      <th>...</th>\n",
       "      <td>...</td>\n",
       "      <td>...</td>\n",
       "      <td>...</td>\n",
       "      <td>...</td>\n",
       "      <td>...</td>\n",
       "      <td>...</td>\n",
       "      <td>...</td>\n",
       "      <td>...</td>\n",
       "      <td>...</td>\n",
       "      <td>...</td>\n",
       "      <td>...</td>\n",
       "      <td>...</td>\n",
       "      <td>...</td>\n",
       "      <td>...</td>\n",
       "      <td>...</td>\n",
       "      <td>...</td>\n",
       "      <td>...</td>\n",
       "      <td>...</td>\n",
       "      <td>...</td>\n",
       "      <td>...</td>\n",
       "      <td>...</td>\n",
       "      <td>...</td>\n",
       "      <td>...</td>\n",
       "      <td>...</td>\n",
       "      <td>...</td>\n",
       "      <td>...</td>\n",
       "      <td>...</td>\n",
       "      <td>...</td>\n",
       "      <td>...</td>\n",
       "      <td>...</td>\n",
       "      <td>...</td>\n",
       "      <td>...</td>\n",
       "      <td>...</td>\n",
       "      <td>...</td>\n",
       "      <td>...</td>\n",
       "      <td>...</td>\n",
       "      <td>...</td>\n",
       "      <td>...</td>\n",
       "      <td>...</td>\n",
       "      <td>...</td>\n",
       "      <td>...</td>\n",
       "      <td>...</td>\n",
       "      <td>...</td>\n",
       "      <td>...</td>\n",
       "      <td>...</td>\n",
       "      <td>...</td>\n",
       "      <td>...</td>\n",
       "      <td>...</td>\n",
       "      <td>...</td>\n",
       "      <td>...</td>\n",
       "      <td>...</td>\n",
       "    </tr>\n",
       "    <tr>\n",
       "      <th>119879</th>\n",
       "      <td>1.0</td>\n",
       "      <td>20.50</td>\n",
       "      <td>2.0</td>\n",
       "      <td>0.0</td>\n",
       "      <td>0.0</td>\n",
       "      <td>0.0</td>\n",
       "      <td>0.0</td>\n",
       "      <td>1.0</td>\n",
       "      <td>0.0</td>\n",
       "      <td>0.0</td>\n",
       "      <td>0.0</td>\n",
       "      <td>1.0</td>\n",
       "      <td>0.0</td>\n",
       "      <td>0.0</td>\n",
       "      <td>1.0</td>\n",
       "      <td>0.0</td>\n",
       "      <td>0.0</td>\n",
       "      <td>0.0</td>\n",
       "      <td>0.0</td>\n",
       "      <td>0.0</td>\n",
       "      <td>0.0</td>\n",
       "      <td>0.0</td>\n",
       "      <td>0.0</td>\n",
       "      <td>0.0</td>\n",
       "      <td>0.0</td>\n",
       "      <td>...</td>\n",
       "      <td>1.0</td>\n",
       "      <td>0.0</td>\n",
       "      <td>0.0</td>\n",
       "      <td>0.0</td>\n",
       "      <td>1.0</td>\n",
       "      <td>0.0</td>\n",
       "      <td>0.0</td>\n",
       "      <td>1.0</td>\n",
       "      <td>0.0</td>\n",
       "      <td>0.0</td>\n",
       "      <td>0.0</td>\n",
       "      <td>0.0</td>\n",
       "      <td>0.0</td>\n",
       "      <td>0.0</td>\n",
       "      <td>0.0</td>\n",
       "      <td>0.0</td>\n",
       "      <td>0.0</td>\n",
       "      <td>0.0</td>\n",
       "      <td>0.0</td>\n",
       "      <td>1.0</td>\n",
       "      <td>0.0</td>\n",
       "      <td>0.0</td>\n",
       "      <td>0.0</td>\n",
       "      <td>0.500000</td>\n",
       "      <td>3.020425</td>\n",
       "    </tr>\n",
       "    <tr>\n",
       "      <th>259178</th>\n",
       "      <td>1.0</td>\n",
       "      <td>25.42</td>\n",
       "      <td>7.0</td>\n",
       "      <td>0.0</td>\n",
       "      <td>0.0</td>\n",
       "      <td>0.0</td>\n",
       "      <td>0.0</td>\n",
       "      <td>1.0</td>\n",
       "      <td>0.0</td>\n",
       "      <td>0.0</td>\n",
       "      <td>0.0</td>\n",
       "      <td>0.0</td>\n",
       "      <td>0.0</td>\n",
       "      <td>0.0</td>\n",
       "      <td>0.0</td>\n",
       "      <td>0.0</td>\n",
       "      <td>0.0</td>\n",
       "      <td>1.0</td>\n",
       "      <td>0.0</td>\n",
       "      <td>0.0</td>\n",
       "      <td>0.0</td>\n",
       "      <td>0.0</td>\n",
       "      <td>0.0</td>\n",
       "      <td>0.0</td>\n",
       "      <td>1.0</td>\n",
       "      <td>...</td>\n",
       "      <td>0.0</td>\n",
       "      <td>0.0</td>\n",
       "      <td>0.0</td>\n",
       "      <td>0.0</td>\n",
       "      <td>0.0</td>\n",
       "      <td>0.0</td>\n",
       "      <td>0.0</td>\n",
       "      <td>0.0</td>\n",
       "      <td>0.0</td>\n",
       "      <td>0.0</td>\n",
       "      <td>0.0</td>\n",
       "      <td>0.0</td>\n",
       "      <td>0.0</td>\n",
       "      <td>0.0</td>\n",
       "      <td>0.0</td>\n",
       "      <td>0.0</td>\n",
       "      <td>0.0</td>\n",
       "      <td>0.0</td>\n",
       "      <td>0.0</td>\n",
       "      <td>0.0</td>\n",
       "      <td>0.0</td>\n",
       "      <td>0.0</td>\n",
       "      <td>0.0</td>\n",
       "      <td>0.000000</td>\n",
       "      <td>0.000000</td>\n",
       "    </tr>\n",
       "    <tr>\n",
       "      <th>131932</th>\n",
       "      <td>1.0</td>\n",
       "      <td>13.67</td>\n",
       "      <td>29.0</td>\n",
       "      <td>1.0</td>\n",
       "      <td>0.0</td>\n",
       "      <td>0.0</td>\n",
       "      <td>0.0</td>\n",
       "      <td>0.0</td>\n",
       "      <td>0.0</td>\n",
       "      <td>0.0</td>\n",
       "      <td>0.0</td>\n",
       "      <td>1.0</td>\n",
       "      <td>0.0</td>\n",
       "      <td>0.0</td>\n",
       "      <td>0.0</td>\n",
       "      <td>0.0</td>\n",
       "      <td>0.0</td>\n",
       "      <td>1.0</td>\n",
       "      <td>0.0</td>\n",
       "      <td>0.0</td>\n",
       "      <td>0.0</td>\n",
       "      <td>0.0</td>\n",
       "      <td>0.0</td>\n",
       "      <td>1.0</td>\n",
       "      <td>0.0</td>\n",
       "      <td>...</td>\n",
       "      <td>0.0</td>\n",
       "      <td>0.0</td>\n",
       "      <td>0.0</td>\n",
       "      <td>0.0</td>\n",
       "      <td>1.0</td>\n",
       "      <td>0.0</td>\n",
       "      <td>0.0</td>\n",
       "      <td>0.0</td>\n",
       "      <td>0.0</td>\n",
       "      <td>0.0</td>\n",
       "      <td>1.0</td>\n",
       "      <td>0.0</td>\n",
       "      <td>0.0</td>\n",
       "      <td>0.0</td>\n",
       "      <td>0.0</td>\n",
       "      <td>0.0</td>\n",
       "      <td>1.0</td>\n",
       "      <td>0.0</td>\n",
       "      <td>0.0</td>\n",
       "      <td>0.0</td>\n",
       "      <td>0.0</td>\n",
       "      <td>0.0</td>\n",
       "      <td>1.0</td>\n",
       "      <td>0.034483</td>\n",
       "      <td>2.615204</td>\n",
       "    </tr>\n",
       "    <tr>\n",
       "      <th>146867</th>\n",
       "      <td>1.0</td>\n",
       "      <td>8.33</td>\n",
       "      <td>39.0</td>\n",
       "      <td>0.0</td>\n",
       "      <td>1.0</td>\n",
       "      <td>0.0</td>\n",
       "      <td>0.0</td>\n",
       "      <td>0.0</td>\n",
       "      <td>0.0</td>\n",
       "      <td>0.0</td>\n",
       "      <td>0.0</td>\n",
       "      <td>1.0</td>\n",
       "      <td>0.0</td>\n",
       "      <td>0.0</td>\n",
       "      <td>0.0</td>\n",
       "      <td>0.0</td>\n",
       "      <td>0.0</td>\n",
       "      <td>0.0</td>\n",
       "      <td>0.0</td>\n",
       "      <td>0.0</td>\n",
       "      <td>0.0</td>\n",
       "      <td>0.0</td>\n",
       "      <td>0.0</td>\n",
       "      <td>0.0</td>\n",
       "      <td>1.0</td>\n",
       "      <td>...</td>\n",
       "      <td>0.0</td>\n",
       "      <td>0.0</td>\n",
       "      <td>0.0</td>\n",
       "      <td>0.0</td>\n",
       "      <td>1.0</td>\n",
       "      <td>0.0</td>\n",
       "      <td>0.0</td>\n",
       "      <td>0.0</td>\n",
       "      <td>0.0</td>\n",
       "      <td>0.0</td>\n",
       "      <td>0.0</td>\n",
       "      <td>0.0</td>\n",
       "      <td>0.0</td>\n",
       "      <td>0.0</td>\n",
       "      <td>0.0</td>\n",
       "      <td>0.0</td>\n",
       "      <td>0.0</td>\n",
       "      <td>1.0</td>\n",
       "      <td>0.0</td>\n",
       "      <td>0.0</td>\n",
       "      <td>1.0</td>\n",
       "      <td>0.0</td>\n",
       "      <td>0.0</td>\n",
       "      <td>0.025641</td>\n",
       "      <td>2.119863</td>\n",
       "    </tr>\n",
       "    <tr>\n",
       "      <th>121958</th>\n",
       "      <td>1.0</td>\n",
       "      <td>20.17</td>\n",
       "      <td>17.0</td>\n",
       "      <td>1.0</td>\n",
       "      <td>0.0</td>\n",
       "      <td>0.0</td>\n",
       "      <td>0.0</td>\n",
       "      <td>0.0</td>\n",
       "      <td>0.0</td>\n",
       "      <td>0.0</td>\n",
       "      <td>0.0</td>\n",
       "      <td>1.0</td>\n",
       "      <td>0.0</td>\n",
       "      <td>0.0</td>\n",
       "      <td>0.0</td>\n",
       "      <td>0.0</td>\n",
       "      <td>0.0</td>\n",
       "      <td>0.0</td>\n",
       "      <td>0.0</td>\n",
       "      <td>0.0</td>\n",
       "      <td>0.0</td>\n",
       "      <td>0.0</td>\n",
       "      <td>0.0</td>\n",
       "      <td>1.0</td>\n",
       "      <td>0.0</td>\n",
       "      <td>...</td>\n",
       "      <td>0.0</td>\n",
       "      <td>0.0</td>\n",
       "      <td>0.0</td>\n",
       "      <td>0.0</td>\n",
       "      <td>1.0</td>\n",
       "      <td>0.0</td>\n",
       "      <td>0.0</td>\n",
       "      <td>0.0</td>\n",
       "      <td>0.0</td>\n",
       "      <td>0.0</td>\n",
       "      <td>0.0</td>\n",
       "      <td>0.0</td>\n",
       "      <td>0.0</td>\n",
       "      <td>0.0</td>\n",
       "      <td>0.0</td>\n",
       "      <td>0.0</td>\n",
       "      <td>1.0</td>\n",
       "      <td>0.0</td>\n",
       "      <td>0.0</td>\n",
       "      <td>1.0</td>\n",
       "      <td>0.0</td>\n",
       "      <td>0.0</td>\n",
       "      <td>0.0</td>\n",
       "      <td>0.058824</td>\n",
       "      <td>3.004196</td>\n",
       "    </tr>\n",
       "  </tbody>\n",
       "</table>\n",
       "<p>240122 rows × 65 columns</p>\n",
       "</div>"
      ],
      "text/plain": [
       "        const  duration  days_left  airline_Air_India  airline_GO_FIRST  \\\n",
       "148417    1.0     19.42        6.0                1.0               0.0   \n",
       "36879     1.0      7.00       13.0                0.0               0.0   \n",
       "274531    1.0     21.17       44.0                1.0               0.0   \n",
       "166397    1.0     10.25       11.0                0.0               0.0   \n",
       "272722    1.0     26.50        5.0                0.0               0.0   \n",
       "...       ...       ...        ...                ...               ...   \n",
       "119879    1.0     20.50        2.0                0.0               0.0   \n",
       "259178    1.0     25.42        7.0                0.0               0.0   \n",
       "131932    1.0     13.67       29.0                1.0               0.0   \n",
       "146867    1.0      8.33       39.0                0.0               1.0   \n",
       "121958    1.0     20.17       17.0                1.0               0.0   \n",
       "\n",
       "        airline_Indigo  airline_SpiceJet  airline_Vistara  \\\n",
       "148417             0.0               0.0              0.0   \n",
       "36879              1.0               0.0              0.0   \n",
       "274531             0.0               0.0              0.0   \n",
       "166397             0.0               0.0              1.0   \n",
       "272722             0.0               0.0              1.0   \n",
       "...                ...               ...              ...   \n",
       "119879             0.0               0.0              1.0   \n",
       "259178             0.0               0.0              1.0   \n",
       "131932             0.0               0.0              0.0   \n",
       "146867             0.0               0.0              0.0   \n",
       "121958             0.0               0.0              0.0   \n",
       "\n",
       "        source_city_Chennai  source_city_Delhi  source_city_Hyderabad  \\\n",
       "148417                  0.0                0.0                    0.0   \n",
       "36879                   0.0                1.0                    0.0   \n",
       "274531                  0.0                0.0                    0.0   \n",
       "166397                  0.0                0.0                    1.0   \n",
       "272722                  0.0                0.0                    0.0   \n",
       "...                     ...                ...                    ...   \n",
       "119879                  0.0                0.0                    0.0   \n",
       "259178                  0.0                0.0                    0.0   \n",
       "131932                  0.0                0.0                    0.0   \n",
       "146867                  0.0                0.0                    0.0   \n",
       "121958                  0.0                0.0                    0.0   \n",
       "\n",
       "        source_city_Kolkata  source_city_Mumbai  departure_time_Early_Morning  \\\n",
       "148417                  1.0                 0.0                           0.0   \n",
       "36879                   0.0                 0.0                           0.0   \n",
       "274531                  1.0                 0.0                           0.0   \n",
       "166397                  0.0                 0.0                           0.0   \n",
       "272722                  1.0                 0.0                           0.0   \n",
       "...                     ...                 ...                           ...   \n",
       "119879                  1.0                 0.0                           0.0   \n",
       "259178                  0.0                 0.0                           0.0   \n",
       "131932                  1.0                 0.0                           0.0   \n",
       "146867                  1.0                 0.0                           0.0   \n",
       "121958                  1.0                 0.0                           0.0   \n",
       "\n",
       "        departure_time_Evening  departure_time_Late_Night  \\\n",
       "148417                     0.0                        0.0   \n",
       "36879                      0.0                        0.0   \n",
       "274531                     0.0                        0.0   \n",
       "166397                     0.0                        0.0   \n",
       "272722                     0.0                        0.0   \n",
       "...                        ...                        ...   \n",
       "119879                     1.0                        0.0   \n",
       "259178                     0.0                        0.0   \n",
       "131932                     0.0                        0.0   \n",
       "146867                     0.0                        0.0   \n",
       "121958                     0.0                        0.0   \n",
       "\n",
       "        departure_time_Morning  departure_time_Night  stops_two_or_more  \\\n",
       "148417                     0.0                   0.0                0.0   \n",
       "36879                      0.0                   0.0                1.0   \n",
       "274531                     0.0                   0.0                0.0   \n",
       "166397                     0.0                   1.0                0.0   \n",
       "272722                     0.0                   1.0                0.0   \n",
       "...                        ...                   ...                ...   \n",
       "119879                     0.0                   0.0                0.0   \n",
       "259178                     0.0                   1.0                0.0   \n",
       "131932                     0.0                   1.0                0.0   \n",
       "146867                     0.0                   0.0                0.0   \n",
       "121958                     0.0                   0.0                0.0   \n",
       "\n",
       "        stops_zero  arrival_time_Early_Morning  arrival_time_Evening  \\\n",
       "148417         0.0                         0.0                   0.0   \n",
       "36879          0.0                         0.0                   0.0   \n",
       "274531         0.0                         0.0                   0.0   \n",
       "166397         0.0                         1.0                   0.0   \n",
       "272722         0.0                         0.0                   0.0   \n",
       "...            ...                         ...                   ...   \n",
       "119879         0.0                         0.0                   0.0   \n",
       "259178         0.0                         0.0                   0.0   \n",
       "131932         0.0                         0.0                   0.0   \n",
       "146867         0.0                         0.0                   0.0   \n",
       "121958         0.0                         0.0                   0.0   \n",
       "\n",
       "        arrival_time_Late_Night  arrival_time_Morning  arrival_time_Night  \\\n",
       "148417                      0.0                   1.0                 0.0   \n",
       "36879                       0.0                   0.0                 1.0   \n",
       "274531                      0.0                   0.0                 0.0   \n",
       "166397                      0.0                   0.0                 0.0   \n",
       "272722                      0.0                   0.0                 1.0   \n",
       "...                         ...                   ...                 ...   \n",
       "119879                      0.0                   0.0                 0.0   \n",
       "259178                      0.0                   0.0                 1.0   \n",
       "131932                      0.0                   1.0                 0.0   \n",
       "146867                      0.0                   0.0                 1.0   \n",
       "121958                      0.0                   1.0                 0.0   \n",
       "\n",
       "        ...  airline_Vistara_Economy  source_city_Chennai_Economy  \\\n",
       "148417  ...                      0.0                          0.0   \n",
       "36879   ...                      0.0                          0.0   \n",
       "274531  ...                      0.0                          0.0   \n",
       "166397  ...                      1.0                          0.0   \n",
       "272722  ...                      0.0                          0.0   \n",
       "...     ...                      ...                          ...   \n",
       "119879  ...                      1.0                          0.0   \n",
       "259178  ...                      0.0                          0.0   \n",
       "131932  ...                      0.0                          0.0   \n",
       "146867  ...                      0.0                          0.0   \n",
       "121958  ...                      0.0                          0.0   \n",
       "\n",
       "        source_city_Delhi_Economy  source_city_Hyderabad_Economy  \\\n",
       "148417                        0.0                            0.0   \n",
       "36879                         1.0                            0.0   \n",
       "274531                        0.0                            0.0   \n",
       "166397                        0.0                            1.0   \n",
       "272722                        0.0                            0.0   \n",
       "...                           ...                            ...   \n",
       "119879                        0.0                            0.0   \n",
       "259178                        0.0                            0.0   \n",
       "131932                        0.0                            0.0   \n",
       "146867                        0.0                            0.0   \n",
       "121958                        0.0                            0.0   \n",
       "\n",
       "        source_city_Kolkata_Economy  source_city_Mumbai_Economy  \\\n",
       "148417                          1.0                         0.0   \n",
       "36879                           0.0                         0.0   \n",
       "274531                          0.0                         0.0   \n",
       "166397                          0.0                         0.0   \n",
       "272722                          0.0                         0.0   \n",
       "...                             ...                         ...   \n",
       "119879                          1.0                         0.0   \n",
       "259178                          0.0                         0.0   \n",
       "131932                          1.0                         0.0   \n",
       "146867                          1.0                         0.0   \n",
       "121958                          1.0                         0.0   \n",
       "\n",
       "        departure_time_Early_Morning_Economy  departure_time_Evening_Economy  \\\n",
       "148417                                   0.0                             0.0   \n",
       "36879                                    0.0                             0.0   \n",
       "274531                                   0.0                             0.0   \n",
       "166397                                   0.0                             0.0   \n",
       "272722                                   0.0                             0.0   \n",
       "...                                      ...                             ...   \n",
       "119879                                   0.0                             1.0   \n",
       "259178                                   0.0                             0.0   \n",
       "131932                                   0.0                             0.0   \n",
       "146867                                   0.0                             0.0   \n",
       "121958                                   0.0                             0.0   \n",
       "\n",
       "        departure_time_Late_Night_Economy  departure_time_Morning_Economy  \\\n",
       "148417                                0.0                             0.0   \n",
       "36879                                 0.0                             0.0   \n",
       "274531                                0.0                             0.0   \n",
       "166397                                0.0                             0.0   \n",
       "272722                                0.0                             0.0   \n",
       "...                                   ...                             ...   \n",
       "119879                                0.0                             0.0   \n",
       "259178                                0.0                             0.0   \n",
       "131932                                0.0                             0.0   \n",
       "146867                                0.0                             0.0   \n",
       "121958                                0.0                             0.0   \n",
       "\n",
       "        departure_time_Night_Economy  stops_two_or_more_Economy  \\\n",
       "148417                           0.0                        0.0   \n",
       "36879                            0.0                        1.0   \n",
       "274531                           0.0                        0.0   \n",
       "166397                           1.0                        0.0   \n",
       "272722                           0.0                        0.0   \n",
       "...                              ...                        ...   \n",
       "119879                           0.0                        0.0   \n",
       "259178                           0.0                        0.0   \n",
       "131932                           1.0                        0.0   \n",
       "146867                           0.0                        0.0   \n",
       "121958                           0.0                        0.0   \n",
       "\n",
       "        stops_zero_Economy  arrival_time_Early_Morning_Economy  \\\n",
       "148417                 0.0                                 0.0   \n",
       "36879                  0.0                                 0.0   \n",
       "274531                 0.0                                 0.0   \n",
       "166397                 0.0                                 1.0   \n",
       "272722                 0.0                                 0.0   \n",
       "...                    ...                                 ...   \n",
       "119879                 0.0                                 0.0   \n",
       "259178                 0.0                                 0.0   \n",
       "131932                 0.0                                 0.0   \n",
       "146867                 0.0                                 0.0   \n",
       "121958                 0.0                                 0.0   \n",
       "\n",
       "        arrival_time_Evening_Economy  arrival_time_Late_Night_Economy  \\\n",
       "148417                           0.0                              0.0   \n",
       "36879                            0.0                              0.0   \n",
       "274531                           0.0                              0.0   \n",
       "166397                           0.0                              0.0   \n",
       "272722                           0.0                              0.0   \n",
       "...                              ...                              ...   \n",
       "119879                           0.0                              0.0   \n",
       "259178                           0.0                              0.0   \n",
       "131932                           0.0                              0.0   \n",
       "146867                           0.0                              0.0   \n",
       "121958                           0.0                              0.0   \n",
       "\n",
       "        arrival_time_Morning_Economy  arrival_time_Night_Economy  \\\n",
       "148417                           1.0                         0.0   \n",
       "36879                            0.0                         1.0   \n",
       "274531                           0.0                         0.0   \n",
       "166397                           0.0                         0.0   \n",
       "272722                           0.0                         0.0   \n",
       "...                              ...                         ...   \n",
       "119879                           0.0                         0.0   \n",
       "259178                           0.0                         0.0   \n",
       "131932                           1.0                         0.0   \n",
       "146867                           0.0                         1.0   \n",
       "121958                           1.0                         0.0   \n",
       "\n",
       "        destination_city_Chennai_Economy  destination_city_Delhi_Economy  \\\n",
       "148417                               1.0                             0.0   \n",
       "36879                                1.0                             0.0   \n",
       "274531                               0.0                             0.0   \n",
       "166397                               0.0                             0.0   \n",
       "272722                               0.0                             0.0   \n",
       "...                                  ...                             ...   \n",
       "119879                               0.0                             1.0   \n",
       "259178                               0.0                             0.0   \n",
       "131932                               0.0                             0.0   \n",
       "146867                               0.0                             0.0   \n",
       "121958                               0.0                             1.0   \n",
       "\n",
       "        destination_city_Hyderabad_Economy  destination_city_Kolkata_Economy  \\\n",
       "148417                                 0.0                               0.0   \n",
       "36879                                  0.0                               0.0   \n",
       "274531                                 0.0                               0.0   \n",
       "166397                                 0.0                               0.0   \n",
       "272722                                 0.0                               0.0   \n",
       "...                                    ...                               ...   \n",
       "119879                                 0.0                               0.0   \n",
       "259178                                 0.0                               0.0   \n",
       "131932                                 0.0                               0.0   \n",
       "146867                                 1.0                               0.0   \n",
       "121958                                 0.0                               0.0   \n",
       "\n",
       "        destination_city_Mumbai_Economy  days_left_inv_Economy  \\\n",
       "148417                              0.0               0.166667   \n",
       "36879                               0.0               0.076923   \n",
       "274531                              0.0               0.000000   \n",
       "166397                              0.0               0.090909   \n",
       "272722                              0.0               0.000000   \n",
       "...                                 ...                    ...   \n",
       "119879                              0.0               0.500000   \n",
       "259178                              0.0               0.000000   \n",
       "131932                              1.0               0.034483   \n",
       "146867                              0.0               0.025641   \n",
       "121958                              0.0               0.058824   \n",
       "\n",
       "        duration_log_Economy  \n",
       "148417              2.966303  \n",
       "36879               1.945910  \n",
       "274531              0.000000  \n",
       "166397              2.327278  \n",
       "272722              0.000000  \n",
       "...                      ...  \n",
       "119879              3.020425  \n",
       "259178              0.000000  \n",
       "131932              2.615204  \n",
       "146867              2.119863  \n",
       "121958              3.004196  \n",
       "\n",
       "[240122 rows x 65 columns]"
      ]
     },
     "execution_count": 58,
     "metadata": {},
     "output_type": "execute_result"
    }
   ],
   "source": [
    "df = df_raw.copy()\n",
    "\n",
    "# Drop uninformative variable\n",
    "df.drop(columns=[\"flight\"], inplace=True)\n",
    "\n",
    "# Set Target variable\n",
    "y = df['price']\n",
    "X = df.drop(columns=['price'])\n",
    "\n",
    "# Onehot Encoding\n",
    "X_encoded = pd.get_dummies(X, drop_first=True)\n",
    "\n",
    "# Add intercept\n",
    "X_encoded = sm.add_constant(X_encoded)\n",
    "\n",
    "# Add feature transformations\n",
    "X_encoded[\"days_left_inv\"] = 1 / X_encoded[\"days_left\"]\n",
    "X_encoded[\"duration_log\"] = np.log(X_encoded[\"duration\"])\n",
    "\n",
    "# Add interaction features. All Interactions LOLOL\n",
    "for col in X_encoded.columns:\n",
    "    if not col.endswith(\"_Economy\"):\n",
    "        X_encoded[col+\"_Economy\"] = X_encoded[col]*X_encoded[\"class_Economy\"]\n",
    "\n",
    "NUMERICAL_COLS = ['duration', 'days_left', 'days_left_inv', 'duration_log']\n",
    "\n",
    "# Make sure all data is numeric\n",
    "X_encoded = X_encoded.astype(float)\n",
    "y = y.astype(float)\n",
    "\n",
    "X_train, X_test, y_train, y_test = train_test_split(X_encoded, y, test_size=0.2, random_state=42)\n",
    "X_train"
   ]
  },
  {
   "cell_type": "markdown",
   "id": "27d8cf50",
   "metadata": {},
   "source": [
    "## Lasso, Statsmodels Implementation"
   ]
  },
  {
   "cell_type": "code",
   "execution_count": 59,
   "id": "bed73371",
   "metadata": {},
   "outputs": [],
   "source": [
    "def evaluate_predictions(y_true, y_pred):\n",
    "    # Metrics\n",
    "    r2 = r2_score(y_true, y_pred)\n",
    "    mse = mean_squared_error(y_true, y_pred)\n",
    "    rmse = root_mean_squared_error(y_true, y_pred)\n",
    "    mae = mean_absolute_error(y_true, y_pred)\n",
    "\n",
    "    print(f\"R²: {r2:.3f}\")\n",
    "    print(f\"MSE: {mse:.2f}\")\n",
    "    print(f\"RMSE: {rmse:.2f}\")\n",
    "    print(f\"MAE: {mae:.2f}\")\n",
    "\n",
    "def show_nonzero_coefficients(coef:pd.Series):\n",
    "    # Filter non-zero coefficients\n",
    "    nonzero_coef = coef[coef != 0]\n",
    "    print(f\"\\nSelected Coefficients (non-zero): {len(nonzero_coef)}\")\n",
    "    # Build DataFrame with sign and absolute importance\n",
    "    coef_df = pd.DataFrame({\n",
    "        \"Selected Feature\": nonzero_coef.index,\n",
    "        \"Coefficient\": nonzero_coef.values,\n",
    "        \"Importance\": nonzero_coef.abs().values\n",
    "    })\n",
    "\n",
    "    # Sort by absolute importance (descending)\n",
    "    coef_df = coef_df.sort_values(by=\"Importance\", ascending=False).reset_index(drop=True)\n",
    "    coef_df.drop(columns=\"Importance\", inplace=True)\n",
    "    return coef_df"
   ]
  },
  {
   "cell_type": "code",
   "execution_count": 60,
   "id": "c1f537cf",
   "metadata": {},
   "outputs": [
    {
     "name": "stdout",
     "output_type": "stream",
     "text": [
      "Metrics Training:\n",
      "R²: 0.944\n",
      "MSE: 28881919.82\n",
      "RMSE: 5374.19\n",
      "MAE: 3364.95\n",
      "\n",
      "Selected Coefficients (non-zero): 54\n"
     ]
    },
    {
     "data": {
      "text/html": [
       "<div>\n",
       "<style scoped>\n",
       "    .dataframe tbody tr th:only-of-type {\n",
       "        vertical-align: middle;\n",
       "    }\n",
       "\n",
       "    .dataframe tbody tr th {\n",
       "        vertical-align: top;\n",
       "    }\n",
       "\n",
       "    .dataframe thead th {\n",
       "        text-align: right;\n",
       "    }\n",
       "</style>\n",
       "<table border=\"1\" class=\"dataframe\">\n",
       "  <thead>\n",
       "    <tr style=\"text-align: right;\">\n",
       "      <th></th>\n",
       "      <th>Selected Feature</th>\n",
       "      <th>Coefficient</th>\n",
       "    </tr>\n",
       "  </thead>\n",
       "  <tbody>\n",
       "    <tr>\n",
       "      <th>0</th>\n",
       "      <td>airline_Indigo_Economy</td>\n",
       "      <td>37677.688403</td>\n",
       "    </tr>\n",
       "    <tr>\n",
       "      <th>1</th>\n",
       "      <td>airline_Indigo</td>\n",
       "      <td>-36484.920418</td>\n",
       "    </tr>\n",
       "    <tr>\n",
       "      <th>2</th>\n",
       "      <td>const</td>\n",
       "      <td>36480.959392</td>\n",
       "    </tr>\n",
       "    <tr>\n",
       "      <th>3</th>\n",
       "      <td>airline_SpiceJet_Economy</td>\n",
       "      <td>35358.396498</td>\n",
       "    </tr>\n",
       "    <tr>\n",
       "      <th>4</th>\n",
       "      <td>airline_GO_FIRST_Economy</td>\n",
       "      <td>35020.110221</td>\n",
       "    </tr>\n",
       "    <tr>\n",
       "      <th>5</th>\n",
       "      <td>airline_SpiceJet</td>\n",
       "      <td>-33570.894237</td>\n",
       "    </tr>\n",
       "    <tr>\n",
       "      <th>6</th>\n",
       "      <td>airline_GO_FIRST</td>\n",
       "      <td>-33437.286401</td>\n",
       "    </tr>\n",
       "    <tr>\n",
       "      <th>7</th>\n",
       "      <td>class_Economy</td>\n",
       "      <td>-29058.106057</td>\n",
       "    </tr>\n",
       "    <tr>\n",
       "      <th>8</th>\n",
       "      <td>stops_zero</td>\n",
       "      <td>-26623.401676</td>\n",
       "    </tr>\n",
       "    <tr>\n",
       "      <th>9</th>\n",
       "      <td>stops_zero_Economy</td>\n",
       "      <td>24931.820961</td>\n",
       "    </tr>\n",
       "    <tr>\n",
       "      <th>10</th>\n",
       "      <td>airline_Vistara</td>\n",
       "      <td>20213.152595</td>\n",
       "    </tr>\n",
       "    <tr>\n",
       "      <th>11</th>\n",
       "      <td>airline_Vistara_Economy</td>\n",
       "      <td>-17066.516809</td>\n",
       "    </tr>\n",
       "    <tr>\n",
       "      <th>12</th>\n",
       "      <td>airline_Air_India</td>\n",
       "      <td>12160.599339</td>\n",
       "    </tr>\n",
       "    <tr>\n",
       "      <th>13</th>\n",
       "      <td>stops_two_or_more</td>\n",
       "      <td>11755.062869</td>\n",
       "    </tr>\n",
       "    <tr>\n",
       "      <th>14</th>\n",
       "      <td>days_left_inv_Economy</td>\n",
       "      <td>-11384.090120</td>\n",
       "    </tr>\n",
       "    <tr>\n",
       "      <th>15</th>\n",
       "      <td>stops_two_or_more_Economy</td>\n",
       "      <td>-9872.598626</td>\n",
       "    </tr>\n",
       "    <tr>\n",
       "      <th>16</th>\n",
       "      <td>airline_Air_India_Economy</td>\n",
       "      <td>-9440.285958</td>\n",
       "    </tr>\n",
       "    <tr>\n",
       "      <th>17</th>\n",
       "      <td>source_city_Hyderabad</td>\n",
       "      <td>-4212.308974</td>\n",
       "    </tr>\n",
       "    <tr>\n",
       "      <th>18</th>\n",
       "      <td>source_city_Hyderabad_Economy</td>\n",
       "      <td>3710.566575</td>\n",
       "    </tr>\n",
       "    <tr>\n",
       "      <th>19</th>\n",
       "      <td>destination_city_Hyderabad</td>\n",
       "      <td>-3705.580035</td>\n",
       "    </tr>\n",
       "    <tr>\n",
       "      <th>20</th>\n",
       "      <td>destination_city_Kolkata</td>\n",
       "      <td>3633.756525</td>\n",
       "    </tr>\n",
       "    <tr>\n",
       "      <th>21</th>\n",
       "      <td>source_city_Kolkata</td>\n",
       "      <td>3294.883688</td>\n",
       "    </tr>\n",
       "    <tr>\n",
       "      <th>22</th>\n",
       "      <td>source_city_Delhi</td>\n",
       "      <td>-3151.376912</td>\n",
       "    </tr>\n",
       "    <tr>\n",
       "      <th>23</th>\n",
       "      <td>destination_city_Kolkata_Economy</td>\n",
       "      <td>-3101.180744</td>\n",
       "    </tr>\n",
       "    <tr>\n",
       "      <th>24</th>\n",
       "      <td>arrival_time_Night_Economy</td>\n",
       "      <td>-3062.641449</td>\n",
       "    </tr>\n",
       "    <tr>\n",
       "      <th>25</th>\n",
       "      <td>destination_city_Hyderabad_Economy</td>\n",
       "      <td>2971.713252</td>\n",
       "    </tr>\n",
       "    <tr>\n",
       "      <th>26</th>\n",
       "      <td>source_city_Delhi_Economy</td>\n",
       "      <td>2933.343448</td>\n",
       "    </tr>\n",
       "    <tr>\n",
       "      <th>27</th>\n",
       "      <td>arrival_time_Night</td>\n",
       "      <td>2905.347724</td>\n",
       "    </tr>\n",
       "    <tr>\n",
       "      <th>28</th>\n",
       "      <td>destination_city_Delhi</td>\n",
       "      <td>-2793.936495</td>\n",
       "    </tr>\n",
       "    <tr>\n",
       "      <th>29</th>\n",
       "      <td>destination_city_Delhi_Economy</td>\n",
       "      <td>2441.349904</td>\n",
       "    </tr>\n",
       "    <tr>\n",
       "      <th>30</th>\n",
       "      <td>source_city_Kolkata_Economy</td>\n",
       "      <td>-2369.558017</td>\n",
       "    </tr>\n",
       "    <tr>\n",
       "      <th>31</th>\n",
       "      <td>days_left_inv</td>\n",
       "      <td>2138.591369</td>\n",
       "    </tr>\n",
       "    <tr>\n",
       "      <th>32</th>\n",
       "      <td>arrival_time_Morning_Economy</td>\n",
       "      <td>-1952.677286</td>\n",
       "    </tr>\n",
       "    <tr>\n",
       "      <th>33</th>\n",
       "      <td>arrival_time_Evening</td>\n",
       "      <td>1621.850272</td>\n",
       "    </tr>\n",
       "    <tr>\n",
       "      <th>34</th>\n",
       "      <td>arrival_time_Evening_Economy</td>\n",
       "      <td>-1548.717892</td>\n",
       "    </tr>\n",
       "    <tr>\n",
       "      <th>35</th>\n",
       "      <td>arrival_time_Morning</td>\n",
       "      <td>1501.497511</td>\n",
       "    </tr>\n",
       "    <tr>\n",
       "      <th>36</th>\n",
       "      <td>destination_city_Mumbai_Economy</td>\n",
       "      <td>-1481.894893</td>\n",
       "    </tr>\n",
       "    <tr>\n",
       "      <th>37</th>\n",
       "      <td>duration_log_Economy</td>\n",
       "      <td>1127.866908</td>\n",
       "    </tr>\n",
       "    <tr>\n",
       "      <th>38</th>\n",
       "      <td>destination_city_Mumbai</td>\n",
       "      <td>1094.143166</td>\n",
       "    </tr>\n",
       "    <tr>\n",
       "      <th>39</th>\n",
       "      <td>arrival_time_Early_Morning</td>\n",
       "      <td>-1047.170640</td>\n",
       "    </tr>\n",
       "    <tr>\n",
       "      <th>40</th>\n",
       "      <td>source_city_Mumbai_Economy</td>\n",
       "      <td>-778.086763</td>\n",
       "    </tr>\n",
       "    <tr>\n",
       "      <th>41</th>\n",
       "      <td>source_city_Mumbai</td>\n",
       "      <td>362.408790</td>\n",
       "    </tr>\n",
       "    <tr>\n",
       "      <th>42</th>\n",
       "      <td>departure_time_Morning</td>\n",
       "      <td>320.011780</td>\n",
       "    </tr>\n",
       "    <tr>\n",
       "      <th>43</th>\n",
       "      <td>duration</td>\n",
       "      <td>277.979368</td>\n",
       "    </tr>\n",
       "    <tr>\n",
       "      <th>44</th>\n",
       "      <td>destination_city_Chennai</td>\n",
       "      <td>-276.606223</td>\n",
       "    </tr>\n",
       "    <tr>\n",
       "      <th>45</th>\n",
       "      <td>duration_log</td>\n",
       "      <td>-270.144922</td>\n",
       "    </tr>\n",
       "    <tr>\n",
       "      <th>46</th>\n",
       "      <td>departure_time_Early_Morning</td>\n",
       "      <td>189.058866</td>\n",
       "    </tr>\n",
       "    <tr>\n",
       "      <th>47</th>\n",
       "      <td>days_left_Economy</td>\n",
       "      <td>-113.794771</td>\n",
       "    </tr>\n",
       "    <tr>\n",
       "      <th>48</th>\n",
       "      <td>duration_Economy</td>\n",
       "      <td>-105.025138</td>\n",
       "    </tr>\n",
       "    <tr>\n",
       "      <th>49</th>\n",
       "      <td>departure_time_Early_Morning_Economy</td>\n",
       "      <td>-91.630041</td>\n",
       "    </tr>\n",
       "    <tr>\n",
       "      <th>50</th>\n",
       "      <td>departure_time_Night</td>\n",
       "      <td>71.270882</td>\n",
       "    </tr>\n",
       "    <tr>\n",
       "      <th>51</th>\n",
       "      <td>departure_time_Morning_Economy</td>\n",
       "      <td>-44.212248</td>\n",
       "    </tr>\n",
       "    <tr>\n",
       "      <th>52</th>\n",
       "      <td>const_Economy</td>\n",
       "      <td>-36.279972</td>\n",
       "    </tr>\n",
       "    <tr>\n",
       "      <th>53</th>\n",
       "      <td>days_left</td>\n",
       "      <td>0.423014</td>\n",
       "    </tr>\n",
       "  </tbody>\n",
       "</table>\n",
       "</div>"
      ],
      "text/plain": [
       "                        Selected Feature   Coefficient\n",
       "0                 airline_Indigo_Economy  37677.688403\n",
       "1                         airline_Indigo -36484.920418\n",
       "2                                  const  36480.959392\n",
       "3               airline_SpiceJet_Economy  35358.396498\n",
       "4               airline_GO_FIRST_Economy  35020.110221\n",
       "5                       airline_SpiceJet -33570.894237\n",
       "6                       airline_GO_FIRST -33437.286401\n",
       "7                          class_Economy -29058.106057\n",
       "8                             stops_zero -26623.401676\n",
       "9                     stops_zero_Economy  24931.820961\n",
       "10                       airline_Vistara  20213.152595\n",
       "11               airline_Vistara_Economy -17066.516809\n",
       "12                     airline_Air_India  12160.599339\n",
       "13                     stops_two_or_more  11755.062869\n",
       "14                 days_left_inv_Economy -11384.090120\n",
       "15             stops_two_or_more_Economy  -9872.598626\n",
       "16             airline_Air_India_Economy  -9440.285958\n",
       "17                 source_city_Hyderabad  -4212.308974\n",
       "18         source_city_Hyderabad_Economy   3710.566575\n",
       "19            destination_city_Hyderabad  -3705.580035\n",
       "20              destination_city_Kolkata   3633.756525\n",
       "21                   source_city_Kolkata   3294.883688\n",
       "22                     source_city_Delhi  -3151.376912\n",
       "23      destination_city_Kolkata_Economy  -3101.180744\n",
       "24            arrival_time_Night_Economy  -3062.641449\n",
       "25    destination_city_Hyderabad_Economy   2971.713252\n",
       "26             source_city_Delhi_Economy   2933.343448\n",
       "27                    arrival_time_Night   2905.347724\n",
       "28                destination_city_Delhi  -2793.936495\n",
       "29        destination_city_Delhi_Economy   2441.349904\n",
       "30           source_city_Kolkata_Economy  -2369.558017\n",
       "31                         days_left_inv   2138.591369\n",
       "32          arrival_time_Morning_Economy  -1952.677286\n",
       "33                  arrival_time_Evening   1621.850272\n",
       "34          arrival_time_Evening_Economy  -1548.717892\n",
       "35                  arrival_time_Morning   1501.497511\n",
       "36       destination_city_Mumbai_Economy  -1481.894893\n",
       "37                  duration_log_Economy   1127.866908\n",
       "38               destination_city_Mumbai   1094.143166\n",
       "39            arrival_time_Early_Morning  -1047.170640\n",
       "40            source_city_Mumbai_Economy   -778.086763\n",
       "41                    source_city_Mumbai    362.408790\n",
       "42                departure_time_Morning    320.011780\n",
       "43                              duration    277.979368\n",
       "44              destination_city_Chennai   -276.606223\n",
       "45                          duration_log   -270.144922\n",
       "46          departure_time_Early_Morning    189.058866\n",
       "47                     days_left_Economy   -113.794771\n",
       "48                      duration_Economy   -105.025138\n",
       "49  departure_time_Early_Morning_Economy    -91.630041\n",
       "50                  departure_time_Night     71.270882\n",
       "51        departure_time_Morning_Economy    -44.212248\n",
       "52                         const_Economy    -36.279972\n",
       "53                             days_left      0.423014"
      ]
     },
     "execution_count": 60,
     "metadata": {},
     "output_type": "execute_result"
    }
   ],
   "source": [
    "# Step 4: Scale numeric features\n",
    "X_preprocessed = X_train.copy()\n",
    "\n",
    "scaler = StandardScaler()\n",
    "X_preprocessed[NUMERICAL_COLS] = scaler.fit_transform(X_preprocessed[NUMERICAL_COLS])\n",
    "\n",
    "# Step 6: Fit Lasso using statsmodels (fit_regularized)\n",
    "model = sm.OLS(y_train, X_preprocessed)\n",
    "lasso_result = model.fit_regularized(method='elastic_net', alpha=1.0, L1_wt=1.0)\n",
    "\n",
    "# Predictions\n",
    "y_pred = lasso_result.predict(X_preprocessed)\n",
    "print(\"Metrics Training:\")\n",
    "evaluate_predictions(y_train, y_pred)\n",
    "\n",
    "# Step 7: Display coefficients\n",
    "coef = pd.Series(lasso_result.params, index=X_preprocessed.columns)\n",
    "show_nonzero_coefficients(coef)"
   ]
  },
  {
   "cell_type": "markdown",
   "id": "f58b69cc",
   "metadata": {},
   "source": [
    "## Lasso, ScikitLearn Implementation\n",
    "\n",
    "- Same training R2 as Statsmodels but slightly different coefficients and MSE for some reason. Scaling difference?\n",
    "- Statsmodels doesn't give information table, so we might as well use Scikitlearn\n",
    "- It's also x10 times faster"
   ]
  },
  {
   "cell_type": "code",
   "execution_count": 61,
   "id": "51125620",
   "metadata": {},
   "outputs": [
    {
     "name": "stdout",
     "output_type": "stream",
     "text": [
      "Metrics Training:\n",
      "R²: 0.947\n",
      "MSE: 27098207.46\n",
      "RMSE: 5205.59\n",
      "MAE: 3271.03\n",
      "\n",
      "Selected Coefficients (non-zero): 61\n"
     ]
    },
    {
     "name": "stderr",
     "output_type": "stream",
     "text": [
      "c:\\Users\\AsusTUF\\anaconda3\\envs\\tru_linear_models_assignments\\Lib\\site-packages\\sklearn\\linear_model\\_coordinate_descent.py:695: ConvergenceWarning:\n",
      "\n",
      "Objective did not converge. You might want to increase the number of iterations, check the scale of the features or consider increasing regularisation. Duality gap: 3.217e+12, tolerance: 1.237e+10\n",
      "\n"
     ]
    },
    {
     "data": {
      "text/html": [
       "<div>\n",
       "<style scoped>\n",
       "    .dataframe tbody tr th:only-of-type {\n",
       "        vertical-align: middle;\n",
       "    }\n",
       "\n",
       "    .dataframe tbody tr th {\n",
       "        vertical-align: top;\n",
       "    }\n",
       "\n",
       "    .dataframe thead th {\n",
       "        text-align: right;\n",
       "    }\n",
       "</style>\n",
       "<table border=\"1\" class=\"dataframe\">\n",
       "  <thead>\n",
       "    <tr style=\"text-align: right;\">\n",
       "      <th></th>\n",
       "      <th>Selected Feature</th>\n",
       "      <th>Coefficient</th>\n",
       "    </tr>\n",
       "  </thead>\n",
       "  <tbody>\n",
       "    <tr>\n",
       "      <th>0</th>\n",
       "      <td>duration_log_Economy</td>\n",
       "      <td>-1.608429e+04</td>\n",
       "    </tr>\n",
       "    <tr>\n",
       "      <th>1</th>\n",
       "      <td>duration_log</td>\n",
       "      <td>-1.457674e+04</td>\n",
       "    </tr>\n",
       "    <tr>\n",
       "      <th>2</th>\n",
       "      <td>airline_Air_India</td>\n",
       "      <td>1.262832e+04</td>\n",
       "    </tr>\n",
       "    <tr>\n",
       "      <th>3</th>\n",
       "      <td>arrival_time_Early_Morning</td>\n",
       "      <td>1.216267e+04</td>\n",
       "    </tr>\n",
       "    <tr>\n",
       "      <th>4</th>\n",
       "      <td>days_left_inv_Economy</td>\n",
       "      <td>-1.128296e+04</td>\n",
       "    </tr>\n",
       "    <tr>\n",
       "      <th>...</th>\n",
       "      <td>...</td>\n",
       "      <td>...</td>\n",
       "    </tr>\n",
       "    <tr>\n",
       "      <th>56</th>\n",
       "      <td>airline_Vistara</td>\n",
       "      <td>1.824481e+02</td>\n",
       "    </tr>\n",
       "    <tr>\n",
       "      <th>57</th>\n",
       "      <td>destination_city_Chennai_Economy</td>\n",
       "      <td>1.206729e+02</td>\n",
       "    </tr>\n",
       "    <tr>\n",
       "      <th>58</th>\n",
       "      <td>days_left_Economy</td>\n",
       "      <td>-1.041578e+02</td>\n",
       "    </tr>\n",
       "    <tr>\n",
       "      <th>59</th>\n",
       "      <td>duration</td>\n",
       "      <td>-5.168203e+01</td>\n",
       "    </tr>\n",
       "    <tr>\n",
       "      <th>60</th>\n",
       "      <td>const_Economy</td>\n",
       "      <td>-6.222795e-09</td>\n",
       "    </tr>\n",
       "  </tbody>\n",
       "</table>\n",
       "<p>61 rows × 2 columns</p>\n",
       "</div>"
      ],
      "text/plain": [
       "                    Selected Feature   Coefficient\n",
       "0               duration_log_Economy -1.608429e+04\n",
       "1                       duration_log -1.457674e+04\n",
       "2                  airline_Air_India  1.262832e+04\n",
       "3         arrival_time_Early_Morning  1.216267e+04\n",
       "4              days_left_inv_Economy -1.128296e+04\n",
       "..                               ...           ...\n",
       "56                   airline_Vistara  1.824481e+02\n",
       "57  destination_city_Chennai_Economy  1.206729e+02\n",
       "58                 days_left_Economy -1.041578e+02\n",
       "59                          duration -5.168203e+01\n",
       "60                     const_Economy -6.222795e-09\n",
       "\n",
       "[61 rows x 2 columns]"
      ]
     },
     "execution_count": 61,
     "metadata": {},
     "output_type": "execute_result"
    }
   ],
   "source": [
    "# 4. Build pipeline: scale numericals and fit Lasso\n",
    "# Preprocessing: scale numericals, pass-through the rest\n",
    "preprocessor = ColumnTransformer(\n",
    "    transformers=[\n",
    "        ('num', StandardScaler(), NUMERICAL_COLS)\n",
    "    ],\n",
    "    remainder='passthrough'  # leave one-hot encoded dummies unchanged\n",
    ")\n",
    "\n",
    "lasso_pipeline = Pipeline([\n",
    "    ('preprocessor', preprocessor),\n",
    "    ('model', Lasso(alpha=1.0))\n",
    "])\n",
    "\n",
    "lasso_pipeline.fit(X_train, y_train)\n",
    "\n",
    "# 5. Predictions and metrics\n",
    "y_pred = lasso_pipeline.predict(X_train)\n",
    "print(\"Metrics Training:\")\n",
    "evaluate_predictions(y_train, y_pred )\n",
    "\n",
    "# 6. Extract coefficients\n",
    "lasso = lasso_pipeline.named_steps['model']\n",
    "coef = pd.Series(lasso.coef_, index=X_encoded.columns)\n",
    "show_nonzero_coefficients(coef)"
   ]
  },
  {
   "cell_type": "markdown",
   "id": "0e2405ac",
   "metadata": {},
   "source": [
    "## CrossValidation"
   ]
  },
  {
   "cell_type": "code",
   "execution_count": 62,
   "id": "3f9ee301",
   "metadata": {},
   "outputs": [
    {
     "name": "stderr",
     "output_type": "stream",
     "text": [
      "c:\\Users\\AsusTUF\\anaconda3\\envs\\tru_linear_models_assignments\\Lib\\site-packages\\sklearn\\linear_model\\_coordinate_descent.py:695: ConvergenceWarning:\n",
      "\n",
      "Objective did not converge. You might want to increase the number of iterations, check the scale of the features or consider increasing regularisation. Duality gap: 3.017e+12, tolerance: 1.237e+10\n",
      "\n",
      "c:\\Users\\AsusTUF\\anaconda3\\envs\\tru_linear_models_assignments\\Lib\\site-packages\\sklearn\\compose\\_column_transformer.py:1667: FutureWarning:\n",
      "\n",
      "\n",
      "The format of the columns of the 'remainder' transformer in ColumnTransformer.transformers_ will change in version 1.7 to match the format of the other transformers.\n",
      "At the moment the remainder columns are stored as indices (of type int). With the same ColumnTransformer configuration, in the future they will be stored as column names (of type str).\n",
      "To use the new behavior now and suppress this warning, use ColumnTransformer(force_int_remainder_cols=False).\n",
      "\n",
      "\n"
     ]
    },
    {
     "data": {
      "text/html": [
       "<style>#sk-container-id-5 {\n",
       "  /* Definition of color scheme common for light and dark mode */\n",
       "  --sklearn-color-text: #000;\n",
       "  --sklearn-color-text-muted: #666;\n",
       "  --sklearn-color-line: gray;\n",
       "  /* Definition of color scheme for unfitted estimators */\n",
       "  --sklearn-color-unfitted-level-0: #fff5e6;\n",
       "  --sklearn-color-unfitted-level-1: #f6e4d2;\n",
       "  --sklearn-color-unfitted-level-2: #ffe0b3;\n",
       "  --sklearn-color-unfitted-level-3: chocolate;\n",
       "  /* Definition of color scheme for fitted estimators */\n",
       "  --sklearn-color-fitted-level-0: #f0f8ff;\n",
       "  --sklearn-color-fitted-level-1: #d4ebff;\n",
       "  --sklearn-color-fitted-level-2: #b3dbfd;\n",
       "  --sklearn-color-fitted-level-3: cornflowerblue;\n",
       "\n",
       "  /* Specific color for light theme */\n",
       "  --sklearn-color-text-on-default-background: var(--sg-text-color, var(--theme-code-foreground, var(--jp-content-font-color1, black)));\n",
       "  --sklearn-color-background: var(--sg-background-color, var(--theme-background, var(--jp-layout-color0, white)));\n",
       "  --sklearn-color-border-box: var(--sg-text-color, var(--theme-code-foreground, var(--jp-content-font-color1, black)));\n",
       "  --sklearn-color-icon: #696969;\n",
       "\n",
       "  @media (prefers-color-scheme: dark) {\n",
       "    /* Redefinition of color scheme for dark theme */\n",
       "    --sklearn-color-text-on-default-background: var(--sg-text-color, var(--theme-code-foreground, var(--jp-content-font-color1, white)));\n",
       "    --sklearn-color-background: var(--sg-background-color, var(--theme-background, var(--jp-layout-color0, #111)));\n",
       "    --sklearn-color-border-box: var(--sg-text-color, var(--theme-code-foreground, var(--jp-content-font-color1, white)));\n",
       "    --sklearn-color-icon: #878787;\n",
       "  }\n",
       "}\n",
       "\n",
       "#sk-container-id-5 {\n",
       "  color: var(--sklearn-color-text);\n",
       "}\n",
       "\n",
       "#sk-container-id-5 pre {\n",
       "  padding: 0;\n",
       "}\n",
       "\n",
       "#sk-container-id-5 input.sk-hidden--visually {\n",
       "  border: 0;\n",
       "  clip: rect(1px 1px 1px 1px);\n",
       "  clip: rect(1px, 1px, 1px, 1px);\n",
       "  height: 1px;\n",
       "  margin: -1px;\n",
       "  overflow: hidden;\n",
       "  padding: 0;\n",
       "  position: absolute;\n",
       "  width: 1px;\n",
       "}\n",
       "\n",
       "#sk-container-id-5 div.sk-dashed-wrapped {\n",
       "  border: 1px dashed var(--sklearn-color-line);\n",
       "  margin: 0 0.4em 0.5em 0.4em;\n",
       "  box-sizing: border-box;\n",
       "  padding-bottom: 0.4em;\n",
       "  background-color: var(--sklearn-color-background);\n",
       "}\n",
       "\n",
       "#sk-container-id-5 div.sk-container {\n",
       "  /* jupyter's `normalize.less` sets `[hidden] { display: none; }`\n",
       "     but bootstrap.min.css set `[hidden] { display: none !important; }`\n",
       "     so we also need the `!important` here to be able to override the\n",
       "     default hidden behavior on the sphinx rendered scikit-learn.org.\n",
       "     See: https://github.com/scikit-learn/scikit-learn/issues/21755 */\n",
       "  display: inline-block !important;\n",
       "  position: relative;\n",
       "}\n",
       "\n",
       "#sk-container-id-5 div.sk-text-repr-fallback {\n",
       "  display: none;\n",
       "}\n",
       "\n",
       "div.sk-parallel-item,\n",
       "div.sk-serial,\n",
       "div.sk-item {\n",
       "  /* draw centered vertical line to link estimators */\n",
       "  background-image: linear-gradient(var(--sklearn-color-text-on-default-background), var(--sklearn-color-text-on-default-background));\n",
       "  background-size: 2px 100%;\n",
       "  background-repeat: no-repeat;\n",
       "  background-position: center center;\n",
       "}\n",
       "\n",
       "/* Parallel-specific style estimator block */\n",
       "\n",
       "#sk-container-id-5 div.sk-parallel-item::after {\n",
       "  content: \"\";\n",
       "  width: 100%;\n",
       "  border-bottom: 2px solid var(--sklearn-color-text-on-default-background);\n",
       "  flex-grow: 1;\n",
       "}\n",
       "\n",
       "#sk-container-id-5 div.sk-parallel {\n",
       "  display: flex;\n",
       "  align-items: stretch;\n",
       "  justify-content: center;\n",
       "  background-color: var(--sklearn-color-background);\n",
       "  position: relative;\n",
       "}\n",
       "\n",
       "#sk-container-id-5 div.sk-parallel-item {\n",
       "  display: flex;\n",
       "  flex-direction: column;\n",
       "}\n",
       "\n",
       "#sk-container-id-5 div.sk-parallel-item:first-child::after {\n",
       "  align-self: flex-end;\n",
       "  width: 50%;\n",
       "}\n",
       "\n",
       "#sk-container-id-5 div.sk-parallel-item:last-child::after {\n",
       "  align-self: flex-start;\n",
       "  width: 50%;\n",
       "}\n",
       "\n",
       "#sk-container-id-5 div.sk-parallel-item:only-child::after {\n",
       "  width: 0;\n",
       "}\n",
       "\n",
       "/* Serial-specific style estimator block */\n",
       "\n",
       "#sk-container-id-5 div.sk-serial {\n",
       "  display: flex;\n",
       "  flex-direction: column;\n",
       "  align-items: center;\n",
       "  background-color: var(--sklearn-color-background);\n",
       "  padding-right: 1em;\n",
       "  padding-left: 1em;\n",
       "}\n",
       "\n",
       "\n",
       "/* Toggleable style: style used for estimator/Pipeline/ColumnTransformer box that is\n",
       "clickable and can be expanded/collapsed.\n",
       "- Pipeline and ColumnTransformer use this feature and define the default style\n",
       "- Estimators will overwrite some part of the style using the `sk-estimator` class\n",
       "*/\n",
       "\n",
       "/* Pipeline and ColumnTransformer style (default) */\n",
       "\n",
       "#sk-container-id-5 div.sk-toggleable {\n",
       "  /* Default theme specific background. It is overwritten whether we have a\n",
       "  specific estimator or a Pipeline/ColumnTransformer */\n",
       "  background-color: var(--sklearn-color-background);\n",
       "}\n",
       "\n",
       "/* Toggleable label */\n",
       "#sk-container-id-5 label.sk-toggleable__label {\n",
       "  cursor: pointer;\n",
       "  display: flex;\n",
       "  width: 100%;\n",
       "  margin-bottom: 0;\n",
       "  padding: 0.5em;\n",
       "  box-sizing: border-box;\n",
       "  text-align: center;\n",
       "  align-items: start;\n",
       "  justify-content: space-between;\n",
       "  gap: 0.5em;\n",
       "}\n",
       "\n",
       "#sk-container-id-5 label.sk-toggleable__label .caption {\n",
       "  font-size: 0.6rem;\n",
       "  font-weight: lighter;\n",
       "  color: var(--sklearn-color-text-muted);\n",
       "}\n",
       "\n",
       "#sk-container-id-5 label.sk-toggleable__label-arrow:before {\n",
       "  /* Arrow on the left of the label */\n",
       "  content: \"▸\";\n",
       "  float: left;\n",
       "  margin-right: 0.25em;\n",
       "  color: var(--sklearn-color-icon);\n",
       "}\n",
       "\n",
       "#sk-container-id-5 label.sk-toggleable__label-arrow:hover:before {\n",
       "  color: var(--sklearn-color-text);\n",
       "}\n",
       "\n",
       "/* Toggleable content - dropdown */\n",
       "\n",
       "#sk-container-id-5 div.sk-toggleable__content {\n",
       "  max-height: 0;\n",
       "  max-width: 0;\n",
       "  overflow: hidden;\n",
       "  text-align: left;\n",
       "  /* unfitted */\n",
       "  background-color: var(--sklearn-color-unfitted-level-0);\n",
       "}\n",
       "\n",
       "#sk-container-id-5 div.sk-toggleable__content.fitted {\n",
       "  /* fitted */\n",
       "  background-color: var(--sklearn-color-fitted-level-0);\n",
       "}\n",
       "\n",
       "#sk-container-id-5 div.sk-toggleable__content pre {\n",
       "  margin: 0.2em;\n",
       "  border-radius: 0.25em;\n",
       "  color: var(--sklearn-color-text);\n",
       "  /* unfitted */\n",
       "  background-color: var(--sklearn-color-unfitted-level-0);\n",
       "}\n",
       "\n",
       "#sk-container-id-5 div.sk-toggleable__content.fitted pre {\n",
       "  /* unfitted */\n",
       "  background-color: var(--sklearn-color-fitted-level-0);\n",
       "}\n",
       "\n",
       "#sk-container-id-5 input.sk-toggleable__control:checked~div.sk-toggleable__content {\n",
       "  /* Expand drop-down */\n",
       "  max-height: 200px;\n",
       "  max-width: 100%;\n",
       "  overflow: auto;\n",
       "}\n",
       "\n",
       "#sk-container-id-5 input.sk-toggleable__control:checked~label.sk-toggleable__label-arrow:before {\n",
       "  content: \"▾\";\n",
       "}\n",
       "\n",
       "/* Pipeline/ColumnTransformer-specific style */\n",
       "\n",
       "#sk-container-id-5 div.sk-label input.sk-toggleable__control:checked~label.sk-toggleable__label {\n",
       "  color: var(--sklearn-color-text);\n",
       "  background-color: var(--sklearn-color-unfitted-level-2);\n",
       "}\n",
       "\n",
       "#sk-container-id-5 div.sk-label.fitted input.sk-toggleable__control:checked~label.sk-toggleable__label {\n",
       "  background-color: var(--sklearn-color-fitted-level-2);\n",
       "}\n",
       "\n",
       "/* Estimator-specific style */\n",
       "\n",
       "/* Colorize estimator box */\n",
       "#sk-container-id-5 div.sk-estimator input.sk-toggleable__control:checked~label.sk-toggleable__label {\n",
       "  /* unfitted */\n",
       "  background-color: var(--sklearn-color-unfitted-level-2);\n",
       "}\n",
       "\n",
       "#sk-container-id-5 div.sk-estimator.fitted input.sk-toggleable__control:checked~label.sk-toggleable__label {\n",
       "  /* fitted */\n",
       "  background-color: var(--sklearn-color-fitted-level-2);\n",
       "}\n",
       "\n",
       "#sk-container-id-5 div.sk-label label.sk-toggleable__label,\n",
       "#sk-container-id-5 div.sk-label label {\n",
       "  /* The background is the default theme color */\n",
       "  color: var(--sklearn-color-text-on-default-background);\n",
       "}\n",
       "\n",
       "/* On hover, darken the color of the background */\n",
       "#sk-container-id-5 div.sk-label:hover label.sk-toggleable__label {\n",
       "  color: var(--sklearn-color-text);\n",
       "  background-color: var(--sklearn-color-unfitted-level-2);\n",
       "}\n",
       "\n",
       "/* Label box, darken color on hover, fitted */\n",
       "#sk-container-id-5 div.sk-label.fitted:hover label.sk-toggleable__label.fitted {\n",
       "  color: var(--sklearn-color-text);\n",
       "  background-color: var(--sklearn-color-fitted-level-2);\n",
       "}\n",
       "\n",
       "/* Estimator label */\n",
       "\n",
       "#sk-container-id-5 div.sk-label label {\n",
       "  font-family: monospace;\n",
       "  font-weight: bold;\n",
       "  display: inline-block;\n",
       "  line-height: 1.2em;\n",
       "}\n",
       "\n",
       "#sk-container-id-5 div.sk-label-container {\n",
       "  text-align: center;\n",
       "}\n",
       "\n",
       "/* Estimator-specific */\n",
       "#sk-container-id-5 div.sk-estimator {\n",
       "  font-family: monospace;\n",
       "  border: 1px dotted var(--sklearn-color-border-box);\n",
       "  border-radius: 0.25em;\n",
       "  box-sizing: border-box;\n",
       "  margin-bottom: 0.5em;\n",
       "  /* unfitted */\n",
       "  background-color: var(--sklearn-color-unfitted-level-0);\n",
       "}\n",
       "\n",
       "#sk-container-id-5 div.sk-estimator.fitted {\n",
       "  /* fitted */\n",
       "  background-color: var(--sklearn-color-fitted-level-0);\n",
       "}\n",
       "\n",
       "/* on hover */\n",
       "#sk-container-id-5 div.sk-estimator:hover {\n",
       "  /* unfitted */\n",
       "  background-color: var(--sklearn-color-unfitted-level-2);\n",
       "}\n",
       "\n",
       "#sk-container-id-5 div.sk-estimator.fitted:hover {\n",
       "  /* fitted */\n",
       "  background-color: var(--sklearn-color-fitted-level-2);\n",
       "}\n",
       "\n",
       "/* Specification for estimator info (e.g. \"i\" and \"?\") */\n",
       "\n",
       "/* Common style for \"i\" and \"?\" */\n",
       "\n",
       ".sk-estimator-doc-link,\n",
       "a:link.sk-estimator-doc-link,\n",
       "a:visited.sk-estimator-doc-link {\n",
       "  float: right;\n",
       "  font-size: smaller;\n",
       "  line-height: 1em;\n",
       "  font-family: monospace;\n",
       "  background-color: var(--sklearn-color-background);\n",
       "  border-radius: 1em;\n",
       "  height: 1em;\n",
       "  width: 1em;\n",
       "  text-decoration: none !important;\n",
       "  margin-left: 0.5em;\n",
       "  text-align: center;\n",
       "  /* unfitted */\n",
       "  border: var(--sklearn-color-unfitted-level-1) 1pt solid;\n",
       "  color: var(--sklearn-color-unfitted-level-1);\n",
       "}\n",
       "\n",
       ".sk-estimator-doc-link.fitted,\n",
       "a:link.sk-estimator-doc-link.fitted,\n",
       "a:visited.sk-estimator-doc-link.fitted {\n",
       "  /* fitted */\n",
       "  border: var(--sklearn-color-fitted-level-1) 1pt solid;\n",
       "  color: var(--sklearn-color-fitted-level-1);\n",
       "}\n",
       "\n",
       "/* On hover */\n",
       "div.sk-estimator:hover .sk-estimator-doc-link:hover,\n",
       ".sk-estimator-doc-link:hover,\n",
       "div.sk-label-container:hover .sk-estimator-doc-link:hover,\n",
       ".sk-estimator-doc-link:hover {\n",
       "  /* unfitted */\n",
       "  background-color: var(--sklearn-color-unfitted-level-3);\n",
       "  color: var(--sklearn-color-background);\n",
       "  text-decoration: none;\n",
       "}\n",
       "\n",
       "div.sk-estimator.fitted:hover .sk-estimator-doc-link.fitted:hover,\n",
       ".sk-estimator-doc-link.fitted:hover,\n",
       "div.sk-label-container:hover .sk-estimator-doc-link.fitted:hover,\n",
       ".sk-estimator-doc-link.fitted:hover {\n",
       "  /* fitted */\n",
       "  background-color: var(--sklearn-color-fitted-level-3);\n",
       "  color: var(--sklearn-color-background);\n",
       "  text-decoration: none;\n",
       "}\n",
       "\n",
       "/* Span, style for the box shown on hovering the info icon */\n",
       ".sk-estimator-doc-link span {\n",
       "  display: none;\n",
       "  z-index: 9999;\n",
       "  position: relative;\n",
       "  font-weight: normal;\n",
       "  right: .2ex;\n",
       "  padding: .5ex;\n",
       "  margin: .5ex;\n",
       "  width: min-content;\n",
       "  min-width: 20ex;\n",
       "  max-width: 50ex;\n",
       "  color: var(--sklearn-color-text);\n",
       "  box-shadow: 2pt 2pt 4pt #999;\n",
       "  /* unfitted */\n",
       "  background: var(--sklearn-color-unfitted-level-0);\n",
       "  border: .5pt solid var(--sklearn-color-unfitted-level-3);\n",
       "}\n",
       "\n",
       ".sk-estimator-doc-link.fitted span {\n",
       "  /* fitted */\n",
       "  background: var(--sklearn-color-fitted-level-0);\n",
       "  border: var(--sklearn-color-fitted-level-3);\n",
       "}\n",
       "\n",
       ".sk-estimator-doc-link:hover span {\n",
       "  display: block;\n",
       "}\n",
       "\n",
       "/* \"?\"-specific style due to the `<a>` HTML tag */\n",
       "\n",
       "#sk-container-id-5 a.estimator_doc_link {\n",
       "  float: right;\n",
       "  font-size: 1rem;\n",
       "  line-height: 1em;\n",
       "  font-family: monospace;\n",
       "  background-color: var(--sklearn-color-background);\n",
       "  border-radius: 1rem;\n",
       "  height: 1rem;\n",
       "  width: 1rem;\n",
       "  text-decoration: none;\n",
       "  /* unfitted */\n",
       "  color: var(--sklearn-color-unfitted-level-1);\n",
       "  border: var(--sklearn-color-unfitted-level-1) 1pt solid;\n",
       "}\n",
       "\n",
       "#sk-container-id-5 a.estimator_doc_link.fitted {\n",
       "  /* fitted */\n",
       "  border: var(--sklearn-color-fitted-level-1) 1pt solid;\n",
       "  color: var(--sklearn-color-fitted-level-1);\n",
       "}\n",
       "\n",
       "/* On hover */\n",
       "#sk-container-id-5 a.estimator_doc_link:hover {\n",
       "  /* unfitted */\n",
       "  background-color: var(--sklearn-color-unfitted-level-3);\n",
       "  color: var(--sklearn-color-background);\n",
       "  text-decoration: none;\n",
       "}\n",
       "\n",
       "#sk-container-id-5 a.estimator_doc_link.fitted:hover {\n",
       "  /* fitted */\n",
       "  background-color: var(--sklearn-color-fitted-level-3);\n",
       "}\n",
       "</style><div id=\"sk-container-id-5\" class=\"sk-top-container\"><div class=\"sk-text-repr-fallback\"><pre>Pipeline(steps=[(&#x27;preprocessor&#x27;,\n",
       "                 ColumnTransformer(remainder=&#x27;passthrough&#x27;,\n",
       "                                   transformers=[(&#x27;num&#x27;, StandardScaler(),\n",
       "                                                  [&#x27;duration&#x27;, &#x27;days_left&#x27;,\n",
       "                                                   &#x27;days_left_inv&#x27;,\n",
       "                                                   &#x27;duration_log&#x27;])])),\n",
       "                (&#x27;lasso_cv&#x27;,\n",
       "                 LassoCV(alphas=[0.0001, 0.0003, 0.001, 0.003, 0.01, 0.03, 0.1,\n",
       "                                 0.3, 1.0, 3.0, 10.0, 30, 100, 300, 1000],\n",
       "                         cv=10, max_iter=10000))])</pre><b>In a Jupyter environment, please rerun this cell to show the HTML representation or trust the notebook. <br />On GitHub, the HTML representation is unable to render, please try loading this page with nbviewer.org.</b></div><div class=\"sk-container\" hidden><div class=\"sk-item sk-dashed-wrapped\"><div class=\"sk-label-container\"><div class=\"sk-label fitted sk-toggleable\"><input class=\"sk-toggleable__control sk-hidden--visually\" id=\"sk-estimator-id-29\" type=\"checkbox\" ><label for=\"sk-estimator-id-29\" class=\"sk-toggleable__label fitted sk-toggleable__label-arrow\"><div><div>Pipeline</div></div><div><a class=\"sk-estimator-doc-link fitted\" rel=\"noreferrer\" target=\"_blank\" href=\"https://scikit-learn.org/1.6/modules/generated/sklearn.pipeline.Pipeline.html\">?<span>Documentation for Pipeline</span></a><span class=\"sk-estimator-doc-link fitted\">i<span>Fitted</span></span></div></label><div class=\"sk-toggleable__content fitted\"><pre>Pipeline(steps=[(&#x27;preprocessor&#x27;,\n",
       "                 ColumnTransformer(remainder=&#x27;passthrough&#x27;,\n",
       "                                   transformers=[(&#x27;num&#x27;, StandardScaler(),\n",
       "                                                  [&#x27;duration&#x27;, &#x27;days_left&#x27;,\n",
       "                                                   &#x27;days_left_inv&#x27;,\n",
       "                                                   &#x27;duration_log&#x27;])])),\n",
       "                (&#x27;lasso_cv&#x27;,\n",
       "                 LassoCV(alphas=[0.0001, 0.0003, 0.001, 0.003, 0.01, 0.03, 0.1,\n",
       "                                 0.3, 1.0, 3.0, 10.0, 30, 100, 300, 1000],\n",
       "                         cv=10, max_iter=10000))])</pre></div> </div></div><div class=\"sk-serial\"><div class=\"sk-item sk-dashed-wrapped\"><div class=\"sk-label-container\"><div class=\"sk-label fitted sk-toggleable\"><input class=\"sk-toggleable__control sk-hidden--visually\" id=\"sk-estimator-id-30\" type=\"checkbox\" ><label for=\"sk-estimator-id-30\" class=\"sk-toggleable__label fitted sk-toggleable__label-arrow\"><div><div>preprocessor: ColumnTransformer</div></div><div><a class=\"sk-estimator-doc-link fitted\" rel=\"noreferrer\" target=\"_blank\" href=\"https://scikit-learn.org/1.6/modules/generated/sklearn.compose.ColumnTransformer.html\">?<span>Documentation for preprocessor: ColumnTransformer</span></a></div></label><div class=\"sk-toggleable__content fitted\"><pre>ColumnTransformer(remainder=&#x27;passthrough&#x27;,\n",
       "                  transformers=[(&#x27;num&#x27;, StandardScaler(),\n",
       "                                 [&#x27;duration&#x27;, &#x27;days_left&#x27;, &#x27;days_left_inv&#x27;,\n",
       "                                  &#x27;duration_log&#x27;])])</pre></div> </div></div><div class=\"sk-parallel\"><div class=\"sk-parallel-item\"><div class=\"sk-item\"><div class=\"sk-label-container\"><div class=\"sk-label fitted sk-toggleable\"><input class=\"sk-toggleable__control sk-hidden--visually\" id=\"sk-estimator-id-31\" type=\"checkbox\" ><label for=\"sk-estimator-id-31\" class=\"sk-toggleable__label fitted sk-toggleable__label-arrow\"><div><div>num</div></div></label><div class=\"sk-toggleable__content fitted\"><pre>[&#x27;duration&#x27;, &#x27;days_left&#x27;, &#x27;days_left_inv&#x27;, &#x27;duration_log&#x27;]</pre></div> </div></div><div class=\"sk-serial\"><div class=\"sk-item\"><div class=\"sk-estimator fitted sk-toggleable\"><input class=\"sk-toggleable__control sk-hidden--visually\" id=\"sk-estimator-id-32\" type=\"checkbox\" ><label for=\"sk-estimator-id-32\" class=\"sk-toggleable__label fitted sk-toggleable__label-arrow\"><div><div>StandardScaler</div></div><div><a class=\"sk-estimator-doc-link fitted\" rel=\"noreferrer\" target=\"_blank\" href=\"https://scikit-learn.org/1.6/modules/generated/sklearn.preprocessing.StandardScaler.html\">?<span>Documentation for StandardScaler</span></a></div></label><div class=\"sk-toggleable__content fitted\"><pre>StandardScaler()</pre></div> </div></div></div></div></div><div class=\"sk-parallel-item\"><div class=\"sk-item\"><div class=\"sk-label-container\"><div class=\"sk-label fitted sk-toggleable\"><input class=\"sk-toggleable__control sk-hidden--visually\" id=\"sk-estimator-id-33\" type=\"checkbox\" ><label for=\"sk-estimator-id-33\" class=\"sk-toggleable__label fitted sk-toggleable__label-arrow\"><div><div>remainder</div></div></label><div class=\"sk-toggleable__content fitted\"><pre>[&#x27;const&#x27;, &#x27;airline_Air_India&#x27;, &#x27;airline_GO_FIRST&#x27;, &#x27;airline_Indigo&#x27;, &#x27;airline_SpiceJet&#x27;, &#x27;airline_Vistara&#x27;, &#x27;source_city_Chennai&#x27;, &#x27;source_city_Delhi&#x27;, &#x27;source_city_Hyderabad&#x27;, &#x27;source_city_Kolkata&#x27;, &#x27;source_city_Mumbai&#x27;, &#x27;departure_time_Early_Morning&#x27;, &#x27;departure_time_Evening&#x27;, &#x27;departure_time_Late_Night&#x27;, &#x27;departure_time_Morning&#x27;, &#x27;departure_time_Night&#x27;, &#x27;stops_two_or_more&#x27;, &#x27;stops_zero&#x27;, &#x27;arrival_time_Early_Morning&#x27;, &#x27;arrival_time_Evening&#x27;, &#x27;arrival_time_Late_Night&#x27;, &#x27;arrival_time_Morning&#x27;, &#x27;arrival_time_Night&#x27;, &#x27;destination_city_Chennai&#x27;, &#x27;destination_city_Delhi&#x27;, &#x27;destination_city_Hyderabad&#x27;, &#x27;destination_city_Kolkata&#x27;, &#x27;destination_city_Mumbai&#x27;, &#x27;class_Economy&#x27;, &#x27;const_Economy&#x27;, &#x27;duration_Economy&#x27;, &#x27;days_left_Economy&#x27;, &#x27;airline_Air_India_Economy&#x27;, &#x27;airline_GO_FIRST_Economy&#x27;, &#x27;airline_Indigo_Economy&#x27;, &#x27;airline_SpiceJet_Economy&#x27;, &#x27;airline_Vistara_Economy&#x27;, &#x27;source_city_Chennai_Economy&#x27;, &#x27;source_city_Delhi_Economy&#x27;, &#x27;source_city_Hyderabad_Economy&#x27;, &#x27;source_city_Kolkata_Economy&#x27;, &#x27;source_city_Mumbai_Economy&#x27;, &#x27;departure_time_Early_Morning_Economy&#x27;, &#x27;departure_time_Evening_Economy&#x27;, &#x27;departure_time_Late_Night_Economy&#x27;, &#x27;departure_time_Morning_Economy&#x27;, &#x27;departure_time_Night_Economy&#x27;, &#x27;stops_two_or_more_Economy&#x27;, &#x27;stops_zero_Economy&#x27;, &#x27;arrival_time_Early_Morning_Economy&#x27;, &#x27;arrival_time_Evening_Economy&#x27;, &#x27;arrival_time_Late_Night_Economy&#x27;, &#x27;arrival_time_Morning_Economy&#x27;, &#x27;arrival_time_Night_Economy&#x27;, &#x27;destination_city_Chennai_Economy&#x27;, &#x27;destination_city_Delhi_Economy&#x27;, &#x27;destination_city_Hyderabad_Economy&#x27;, &#x27;destination_city_Kolkata_Economy&#x27;, &#x27;destination_city_Mumbai_Economy&#x27;, &#x27;days_left_inv_Economy&#x27;, &#x27;duration_log_Economy&#x27;]</pre></div> </div></div><div class=\"sk-serial\"><div class=\"sk-item\"><div class=\"sk-estimator fitted sk-toggleable\"><input class=\"sk-toggleable__control sk-hidden--visually\" id=\"sk-estimator-id-34\" type=\"checkbox\" ><label for=\"sk-estimator-id-34\" class=\"sk-toggleable__label fitted sk-toggleable__label-arrow\"><div><div>passthrough</div></div></label><div class=\"sk-toggleable__content fitted\"><pre>passthrough</pre></div> </div></div></div></div></div></div></div><div class=\"sk-item\"><div class=\"sk-estimator fitted sk-toggleable\"><input class=\"sk-toggleable__control sk-hidden--visually\" id=\"sk-estimator-id-35\" type=\"checkbox\" ><label for=\"sk-estimator-id-35\" class=\"sk-toggleable__label fitted sk-toggleable__label-arrow\"><div><div>LassoCV</div></div><div><a class=\"sk-estimator-doc-link fitted\" rel=\"noreferrer\" target=\"_blank\" href=\"https://scikit-learn.org/1.6/modules/generated/sklearn.linear_model.LassoCV.html\">?<span>Documentation for LassoCV</span></a></div></label><div class=\"sk-toggleable__content fitted\"><pre>LassoCV(alphas=[0.0001, 0.0003, 0.001, 0.003, 0.01, 0.03, 0.1, 0.3, 1.0, 3.0,\n",
       "                10.0, 30, 100, 300, 1000],\n",
       "        cv=10, max_iter=10000)</pre></div> </div></div></div></div></div></div>"
      ],
      "text/plain": [
       "Pipeline(steps=[('preprocessor',\n",
       "                 ColumnTransformer(remainder='passthrough',\n",
       "                                   transformers=[('num', StandardScaler(),\n",
       "                                                  ['duration', 'days_left',\n",
       "                                                   'days_left_inv',\n",
       "                                                   'duration_log'])])),\n",
       "                ('lasso_cv',\n",
       "                 LassoCV(alphas=[0.0001, 0.0003, 0.001, 0.003, 0.01, 0.03, 0.1,\n",
       "                                 0.3, 1.0, 3.0, 10.0, 30, 100, 300, 1000],\n",
       "                         cv=10, max_iter=10000))])"
      ]
     },
     "execution_count": 62,
     "metadata": {},
     "output_type": "execute_result"
    }
   ],
   "source": [
    "# 3. Define alpha (lambda) values to search\n",
    "alphas = [0.0001, 0.0003, 0.001, 0.003, 0.01, 0.03, 0.1, 0.3, 1.0, 3.0, 10.0, 30 ,100, 300, 1000]\n",
    "\n",
    "# 4. Create pipeline with LassoCV\n",
    "lassocv_pipeline = Pipeline([\n",
    "    ('preprocessor', preprocessor),\n",
    "    ('lasso_cv', LassoCV(alphas=alphas, cv=10, max_iter=10000))\n",
    "])\n",
    "\n",
    "# 6. Fit pipeline\n",
    "lassocv_pipeline.fit(X_train, y_train)"
   ]
  },
  {
   "cell_type": "code",
   "execution_count": 63,
   "id": "baa22feb",
   "metadata": {},
   "outputs": [
    {
     "name": "stdout",
     "output_type": "stream",
     "text": [
      "Best lambda (alpha) from CV: 0.001\n",
      "Metrics Train:\n",
      "R²: 0.947\n",
      "MSE: 27071180.72\n",
      "RMSE: 5203.00\n",
      "MAE: 3271.94\n",
      "\n",
      "Metrics Test:\n",
      "R²: 0.947\n",
      "MSE: 27559829.99\n",
      "RMSE: 5249.75\n",
      "MAE: 3274.94\n",
      "\n",
      "Selected Coefficients (non-zero): 64\n"
     ]
    },
    {
     "data": {
      "text/html": [
       "<div>\n",
       "<style scoped>\n",
       "    .dataframe tbody tr th:only-of-type {\n",
       "        vertical-align: middle;\n",
       "    }\n",
       "\n",
       "    .dataframe tbody tr th {\n",
       "        vertical-align: top;\n",
       "    }\n",
       "\n",
       "    .dataframe thead th {\n",
       "        text-align: right;\n",
       "    }\n",
       "</style>\n",
       "<table border=\"1\" class=\"dataframe\">\n",
       "  <thead>\n",
       "    <tr style=\"text-align: right;\">\n",
       "      <th></th>\n",
       "      <th>Selected Feature</th>\n",
       "      <th>Coefficient</th>\n",
       "    </tr>\n",
       "  </thead>\n",
       "  <tbody>\n",
       "    <tr>\n",
       "      <th>0</th>\n",
       "      <td>duration_log_Economy</td>\n",
       "      <td>-1.864659e+04</td>\n",
       "    </tr>\n",
       "    <tr>\n",
       "      <th>1</th>\n",
       "      <td>airline_Indigo_Economy</td>\n",
       "      <td>1.539902e+04</td>\n",
       "    </tr>\n",
       "    <tr>\n",
       "      <th>2</th>\n",
       "      <td>source_city_Delhi</td>\n",
       "      <td>1.487386e+04</td>\n",
       "    </tr>\n",
       "    <tr>\n",
       "      <th>3</th>\n",
       "      <td>airline_Air_India</td>\n",
       "      <td>1.424113e+04</td>\n",
       "    </tr>\n",
       "    <tr>\n",
       "      <th>4</th>\n",
       "      <td>airline_Vistara</td>\n",
       "      <td>-1.391026e+04</td>\n",
       "    </tr>\n",
       "    <tr>\n",
       "      <th>...</th>\n",
       "      <td>...</td>\n",
       "      <td>...</td>\n",
       "    </tr>\n",
       "    <tr>\n",
       "      <th>59</th>\n",
       "      <td>destination_city_Chennai</td>\n",
       "      <td>2.339387e+02</td>\n",
       "    </tr>\n",
       "    <tr>\n",
       "      <th>60</th>\n",
       "      <td>departure_time_Early_Morning_Economy</td>\n",
       "      <td>-2.213836e+02</td>\n",
       "    </tr>\n",
       "    <tr>\n",
       "      <th>61</th>\n",
       "      <td>days_left_Economy</td>\n",
       "      <td>-1.053945e+02</td>\n",
       "    </tr>\n",
       "    <tr>\n",
       "      <th>62</th>\n",
       "      <td>duration</td>\n",
       "      <td>-3.606824e+01</td>\n",
       "    </tr>\n",
       "    <tr>\n",
       "      <th>63</th>\n",
       "      <td>const_Economy</td>\n",
       "      <td>-1.670843e-08</td>\n",
       "    </tr>\n",
       "  </tbody>\n",
       "</table>\n",
       "<p>64 rows × 2 columns</p>\n",
       "</div>"
      ],
      "text/plain": [
       "                        Selected Feature   Coefficient\n",
       "0                   duration_log_Economy -1.864659e+04\n",
       "1                 airline_Indigo_Economy  1.539902e+04\n",
       "2                      source_city_Delhi  1.487386e+04\n",
       "3                      airline_Air_India  1.424113e+04\n",
       "4                        airline_Vistara -1.391026e+04\n",
       "..                                   ...           ...\n",
       "59              destination_city_Chennai  2.339387e+02\n",
       "60  departure_time_Early_Morning_Economy -2.213836e+02\n",
       "61                     days_left_Economy -1.053945e+02\n",
       "62                              duration -3.606824e+01\n",
       "63                         const_Economy -1.670843e-08\n",
       "\n",
       "[64 rows x 2 columns]"
      ]
     },
     "execution_count": 63,
     "metadata": {},
     "output_type": "execute_result"
    }
   ],
   "source": [
    "# 7. Best lambda\n",
    "best_alpha = lassocv_pipeline.named_steps['lasso_cv'].alpha_\n",
    "print(f\"Best lambda (alpha) from CV: {best_alpha}\")\n",
    "\n",
    "print(\"Metrics Train:\")\n",
    "y_pred = lassocv_pipeline.predict(X_train)\n",
    "evaluate_predictions(y_train, y_pred)\n",
    "\n",
    "print(\"\\nMetrics Test:\")\n",
    "y_pred = lassocv_pipeline.predict(X_test)\n",
    "evaluate_predictions(y_test, y_pred)\n",
    "\n",
    "# 6. Extract coefficients\n",
    "lasso = lassocv_pipeline.named_steps['lasso_cv']\n",
    "coef = pd.Series(lasso.coef_, index=X_encoded.columns)\n",
    "show_nonzero_coefficients(coef)"
   ]
  },
  {
   "cell_type": "code",
   "execution_count": 64,
   "id": "4c81f15b",
   "metadata": {},
   "outputs": [
    {
     "name": "stdout",
     "output_type": "stream",
     "text": [
      "Best alpha (min MSE): 0.001\n",
      "MSE_min: 27092819.45\n",
      "1_SE: 27092819.45\n",
      "MSE_min + 1-SE threshold: 27620180.72\n",
      "Alpha from 1-SE rule: 10.0\n"
     ]
    },
    {
     "data": {
      "application/vnd.plotly.v1+json": {
       "config": {
        "plotlyServerURL": "https://plot.ly"
       },
       "data": [
        {
         "error_y": {
          "array": {
           "bdata": "ofvgpPOuKEFA0zPRUWolQUyUUixmMSJBM5yoVbWNIEEWDSmnKh0gQXuN9nCv9x9BsNgkiUEPIEHdD+xrsBogQVQGhUqGGCBBxxvxRR8YIEG6SGmUChggQUVV8UEEGCBB8f79iQIYIEEfKGDyARggQcONR8cBGCBB",
           "dtype": "f8"
          },
          "type": "data",
          "visible": true
         },
         "line": {
          "color": "royalblue"
         },
         "marker": {
          "size": 8
         },
         "mode": "lines+markers",
         "name": "Mean CV MSE",
         "type": "scatter",
         "x": {
          "bdata": "AAAAAABAj0AAAAAAAMByQAAAAAAAAFlAAAAAAAAAPkAAAAAAAAAkQAAAAAAAAAhAAAAAAAAA8D8zMzMzMzPTP5qZmZmZmbk/uB6F61G4nj97FK5H4XqEP/p+arx0k2g//Knx0k1iUD9hMlUwKqkzPy1DHOviNho/",
          "dtype": "f8"
         },
         "y": {
          "bdata": "ILJ2+fiMjEHdKqjIZzCFQQ57HbrrJ39Bg+BR/Yrre0Ebwj9VZkp6QQvUjk915HlB+KTc4ojYeUG++Apn4tZ5Qbuv7AiB1nlB4M7WLnbWeUHToWZLddZ5Qe2jQjd11nlB/kQrN3XWeUElVbs3ddZ5QaP88jd11nlB",
          "dtype": "f8"
         }
        },
        {
         "line": {
          "color": "red",
          "dash": "dash"
         },
         "mode": "lines",
         "name": "Best alpha = 0.0010",
         "type": "scatter",
         "x": [
          0.001,
          0.001
         ],
         "y": [
          25738178.47566065,
          62868858.342104785
         ]
        },
        {
         "line": {
          "color": "green",
          "dash": "dot"
         },
         "mode": "lines",
         "name": "1-SE alpha = 10.0000",
         "type": "scatter",
         "x": [
          10,
          10
         ],
         "y": [
          25738178.47566065,
          62868858.342104785
         ]
        }
       ],
       "layout": {
        "height": 500,
        "legend": {
         "x": 0.01,
         "y": 0.99
        },
        "template": {
         "data": {
          "bar": [
           {
            "error_x": {
             "color": "#2a3f5f"
            },
            "error_y": {
             "color": "#2a3f5f"
            },
            "marker": {
             "line": {
              "color": "white",
              "width": 0.5
             },
             "pattern": {
              "fillmode": "overlay",
              "size": 10,
              "solidity": 0.2
             }
            },
            "type": "bar"
           }
          ],
          "barpolar": [
           {
            "marker": {
             "line": {
              "color": "white",
              "width": 0.5
             },
             "pattern": {
              "fillmode": "overlay",
              "size": 10,
              "solidity": 0.2
             }
            },
            "type": "barpolar"
           }
          ],
          "carpet": [
           {
            "aaxis": {
             "endlinecolor": "#2a3f5f",
             "gridcolor": "#C8D4E3",
             "linecolor": "#C8D4E3",
             "minorgridcolor": "#C8D4E3",
             "startlinecolor": "#2a3f5f"
            },
            "baxis": {
             "endlinecolor": "#2a3f5f",
             "gridcolor": "#C8D4E3",
             "linecolor": "#C8D4E3",
             "minorgridcolor": "#C8D4E3",
             "startlinecolor": "#2a3f5f"
            },
            "type": "carpet"
           }
          ],
          "choropleth": [
           {
            "colorbar": {
             "outlinewidth": 0,
             "ticks": ""
            },
            "type": "choropleth"
           }
          ],
          "contour": [
           {
            "colorbar": {
             "outlinewidth": 0,
             "ticks": ""
            },
            "colorscale": [
             [
              0,
              "#0d0887"
             ],
             [
              0.1111111111111111,
              "#46039f"
             ],
             [
              0.2222222222222222,
              "#7201a8"
             ],
             [
              0.3333333333333333,
              "#9c179e"
             ],
             [
              0.4444444444444444,
              "#bd3786"
             ],
             [
              0.5555555555555556,
              "#d8576b"
             ],
             [
              0.6666666666666666,
              "#ed7953"
             ],
             [
              0.7777777777777778,
              "#fb9f3a"
             ],
             [
              0.8888888888888888,
              "#fdca26"
             ],
             [
              1,
              "#f0f921"
             ]
            ],
            "type": "contour"
           }
          ],
          "contourcarpet": [
           {
            "colorbar": {
             "outlinewidth": 0,
             "ticks": ""
            },
            "type": "contourcarpet"
           }
          ],
          "heatmap": [
           {
            "colorbar": {
             "outlinewidth": 0,
             "ticks": ""
            },
            "colorscale": [
             [
              0,
              "#0d0887"
             ],
             [
              0.1111111111111111,
              "#46039f"
             ],
             [
              0.2222222222222222,
              "#7201a8"
             ],
             [
              0.3333333333333333,
              "#9c179e"
             ],
             [
              0.4444444444444444,
              "#bd3786"
             ],
             [
              0.5555555555555556,
              "#d8576b"
             ],
             [
              0.6666666666666666,
              "#ed7953"
             ],
             [
              0.7777777777777778,
              "#fb9f3a"
             ],
             [
              0.8888888888888888,
              "#fdca26"
             ],
             [
              1,
              "#f0f921"
             ]
            ],
            "type": "heatmap"
           }
          ],
          "histogram": [
           {
            "marker": {
             "pattern": {
              "fillmode": "overlay",
              "size": 10,
              "solidity": 0.2
             }
            },
            "type": "histogram"
           }
          ],
          "histogram2d": [
           {
            "colorbar": {
             "outlinewidth": 0,
             "ticks": ""
            },
            "colorscale": [
             [
              0,
              "#0d0887"
             ],
             [
              0.1111111111111111,
              "#46039f"
             ],
             [
              0.2222222222222222,
              "#7201a8"
             ],
             [
              0.3333333333333333,
              "#9c179e"
             ],
             [
              0.4444444444444444,
              "#bd3786"
             ],
             [
              0.5555555555555556,
              "#d8576b"
             ],
             [
              0.6666666666666666,
              "#ed7953"
             ],
             [
              0.7777777777777778,
              "#fb9f3a"
             ],
             [
              0.8888888888888888,
              "#fdca26"
             ],
             [
              1,
              "#f0f921"
             ]
            ],
            "type": "histogram2d"
           }
          ],
          "histogram2dcontour": [
           {
            "colorbar": {
             "outlinewidth": 0,
             "ticks": ""
            },
            "colorscale": [
             [
              0,
              "#0d0887"
             ],
             [
              0.1111111111111111,
              "#46039f"
             ],
             [
              0.2222222222222222,
              "#7201a8"
             ],
             [
              0.3333333333333333,
              "#9c179e"
             ],
             [
              0.4444444444444444,
              "#bd3786"
             ],
             [
              0.5555555555555556,
              "#d8576b"
             ],
             [
              0.6666666666666666,
              "#ed7953"
             ],
             [
              0.7777777777777778,
              "#fb9f3a"
             ],
             [
              0.8888888888888888,
              "#fdca26"
             ],
             [
              1,
              "#f0f921"
             ]
            ],
            "type": "histogram2dcontour"
           }
          ],
          "mesh3d": [
           {
            "colorbar": {
             "outlinewidth": 0,
             "ticks": ""
            },
            "type": "mesh3d"
           }
          ],
          "parcoords": [
           {
            "line": {
             "colorbar": {
              "outlinewidth": 0,
              "ticks": ""
             }
            },
            "type": "parcoords"
           }
          ],
          "pie": [
           {
            "automargin": true,
            "type": "pie"
           }
          ],
          "scatter": [
           {
            "fillpattern": {
             "fillmode": "overlay",
             "size": 10,
             "solidity": 0.2
            },
            "type": "scatter"
           }
          ],
          "scatter3d": [
           {
            "line": {
             "colorbar": {
              "outlinewidth": 0,
              "ticks": ""
             }
            },
            "marker": {
             "colorbar": {
              "outlinewidth": 0,
              "ticks": ""
             }
            },
            "type": "scatter3d"
           }
          ],
          "scattercarpet": [
           {
            "marker": {
             "colorbar": {
              "outlinewidth": 0,
              "ticks": ""
             }
            },
            "type": "scattercarpet"
           }
          ],
          "scattergeo": [
           {
            "marker": {
             "colorbar": {
              "outlinewidth": 0,
              "ticks": ""
             }
            },
            "type": "scattergeo"
           }
          ],
          "scattergl": [
           {
            "marker": {
             "colorbar": {
              "outlinewidth": 0,
              "ticks": ""
             }
            },
            "type": "scattergl"
           }
          ],
          "scattermap": [
           {
            "marker": {
             "colorbar": {
              "outlinewidth": 0,
              "ticks": ""
             }
            },
            "type": "scattermap"
           }
          ],
          "scattermapbox": [
           {
            "marker": {
             "colorbar": {
              "outlinewidth": 0,
              "ticks": ""
             }
            },
            "type": "scattermapbox"
           }
          ],
          "scatterpolar": [
           {
            "marker": {
             "colorbar": {
              "outlinewidth": 0,
              "ticks": ""
             }
            },
            "type": "scatterpolar"
           }
          ],
          "scatterpolargl": [
           {
            "marker": {
             "colorbar": {
              "outlinewidth": 0,
              "ticks": ""
             }
            },
            "type": "scatterpolargl"
           }
          ],
          "scatterternary": [
           {
            "marker": {
             "colorbar": {
              "outlinewidth": 0,
              "ticks": ""
             }
            },
            "type": "scatterternary"
           }
          ],
          "surface": [
           {
            "colorbar": {
             "outlinewidth": 0,
             "ticks": ""
            },
            "colorscale": [
             [
              0,
              "#0d0887"
             ],
             [
              0.1111111111111111,
              "#46039f"
             ],
             [
              0.2222222222222222,
              "#7201a8"
             ],
             [
              0.3333333333333333,
              "#9c179e"
             ],
             [
              0.4444444444444444,
              "#bd3786"
             ],
             [
              0.5555555555555556,
              "#d8576b"
             ],
             [
              0.6666666666666666,
              "#ed7953"
             ],
             [
              0.7777777777777778,
              "#fb9f3a"
             ],
             [
              0.8888888888888888,
              "#fdca26"
             ],
             [
              1,
              "#f0f921"
             ]
            ],
            "type": "surface"
           }
          ],
          "table": [
           {
            "cells": {
             "fill": {
              "color": "#EBF0F8"
             },
             "line": {
              "color": "white"
             }
            },
            "header": {
             "fill": {
              "color": "#C8D4E3"
             },
             "line": {
              "color": "white"
             }
            },
            "type": "table"
           }
          ]
         },
         "layout": {
          "annotationdefaults": {
           "arrowcolor": "#2a3f5f",
           "arrowhead": 0,
           "arrowwidth": 1
          },
          "autotypenumbers": "strict",
          "coloraxis": {
           "colorbar": {
            "outlinewidth": 0,
            "ticks": ""
           }
          },
          "colorscale": {
           "diverging": [
            [
             0,
             "#8e0152"
            ],
            [
             0.1,
             "#c51b7d"
            ],
            [
             0.2,
             "#de77ae"
            ],
            [
             0.3,
             "#f1b6da"
            ],
            [
             0.4,
             "#fde0ef"
            ],
            [
             0.5,
             "#f7f7f7"
            ],
            [
             0.6,
             "#e6f5d0"
            ],
            [
             0.7,
             "#b8e186"
            ],
            [
             0.8,
             "#7fbc41"
            ],
            [
             0.9,
             "#4d9221"
            ],
            [
             1,
             "#276419"
            ]
           ],
           "sequential": [
            [
             0,
             "#0d0887"
            ],
            [
             0.1111111111111111,
             "#46039f"
            ],
            [
             0.2222222222222222,
             "#7201a8"
            ],
            [
             0.3333333333333333,
             "#9c179e"
            ],
            [
             0.4444444444444444,
             "#bd3786"
            ],
            [
             0.5555555555555556,
             "#d8576b"
            ],
            [
             0.6666666666666666,
             "#ed7953"
            ],
            [
             0.7777777777777778,
             "#fb9f3a"
            ],
            [
             0.8888888888888888,
             "#fdca26"
            ],
            [
             1,
             "#f0f921"
            ]
           ],
           "sequentialminus": [
            [
             0,
             "#0d0887"
            ],
            [
             0.1111111111111111,
             "#46039f"
            ],
            [
             0.2222222222222222,
             "#7201a8"
            ],
            [
             0.3333333333333333,
             "#9c179e"
            ],
            [
             0.4444444444444444,
             "#bd3786"
            ],
            [
             0.5555555555555556,
             "#d8576b"
            ],
            [
             0.6666666666666666,
             "#ed7953"
            ],
            [
             0.7777777777777778,
             "#fb9f3a"
            ],
            [
             0.8888888888888888,
             "#fdca26"
            ],
            [
             1,
             "#f0f921"
            ]
           ]
          },
          "colorway": [
           "#636efa",
           "#EF553B",
           "#00cc96",
           "#ab63fa",
           "#FFA15A",
           "#19d3f3",
           "#FF6692",
           "#B6E880",
           "#FF97FF",
           "#FECB52"
          ],
          "font": {
           "color": "#2a3f5f"
          },
          "geo": {
           "bgcolor": "white",
           "lakecolor": "white",
           "landcolor": "white",
           "showlakes": true,
           "showland": true,
           "subunitcolor": "#C8D4E3"
          },
          "hoverlabel": {
           "align": "left"
          },
          "hovermode": "closest",
          "mapbox": {
           "style": "light"
          },
          "paper_bgcolor": "white",
          "plot_bgcolor": "white",
          "polar": {
           "angularaxis": {
            "gridcolor": "#EBF0F8",
            "linecolor": "#EBF0F8",
            "ticks": ""
           },
           "bgcolor": "white",
           "radialaxis": {
            "gridcolor": "#EBF0F8",
            "linecolor": "#EBF0F8",
            "ticks": ""
           }
          },
          "scene": {
           "xaxis": {
            "backgroundcolor": "white",
            "gridcolor": "#DFE8F3",
            "gridwidth": 2,
            "linecolor": "#EBF0F8",
            "showbackground": true,
            "ticks": "",
            "zerolinecolor": "#EBF0F8"
           },
           "yaxis": {
            "backgroundcolor": "white",
            "gridcolor": "#DFE8F3",
            "gridwidth": 2,
            "linecolor": "#EBF0F8",
            "showbackground": true,
            "ticks": "",
            "zerolinecolor": "#EBF0F8"
           },
           "zaxis": {
            "backgroundcolor": "white",
            "gridcolor": "#DFE8F3",
            "gridwidth": 2,
            "linecolor": "#EBF0F8",
            "showbackground": true,
            "ticks": "",
            "zerolinecolor": "#EBF0F8"
           }
          },
          "shapedefaults": {
           "line": {
            "color": "#2a3f5f"
           }
          },
          "ternary": {
           "aaxis": {
            "gridcolor": "#DFE8F3",
            "linecolor": "#A2B1C6",
            "ticks": ""
           },
           "baxis": {
            "gridcolor": "#DFE8F3",
            "linecolor": "#A2B1C6",
            "ticks": ""
           },
           "bgcolor": "white",
           "caxis": {
            "gridcolor": "#DFE8F3",
            "linecolor": "#A2B1C6",
            "ticks": ""
           }
          },
          "title": {
           "x": 0.05
          },
          "xaxis": {
           "automargin": true,
           "gridcolor": "#EBF0F8",
           "linecolor": "#EBF0F8",
           "ticks": "",
           "title": {
            "standoff": 15
           },
           "zerolinecolor": "#EBF0F8",
           "zerolinewidth": 2
          },
          "yaxis": {
           "automargin": true,
           "gridcolor": "#EBF0F8",
           "linecolor": "#EBF0F8",
           "ticks": "",
           "title": {
            "standoff": 15
           },
           "zerolinecolor": "#EBF0F8",
           "zerolinewidth": 2
          }
         }
        },
        "title": {
         "text": "LassoCV: Mean Cross-Validation Error vs Alpha"
        },
        "width": 800,
        "xaxis": {
         "title": {
          "text": "Alpha (log scale)"
         },
         "type": "log"
        },
        "yaxis": {
         "title": {
          "text": "Mean CV MSE"
         }
        }
       }
      }
     },
     "metadata": {},
     "output_type": "display_data"
    }
   ],
   "source": [
    "import plotly.graph_objects as go\n",
    "\n",
    "# Extract model and aligned data\n",
    "lasso_cv = lassocv_pipeline.named_steps['lasso_cv']\n",
    "alphas_used = lasso_cv.alphas_  # Correct order (descending)\n",
    "mean_mse = lasso_cv.mse_path_.mean(axis=1)\n",
    "std_mse = lasso_cv.mse_path_.std(axis=1)\n",
    "best_alpha = lasso_cv.alpha_\n",
    "\n",
    "# Step 2: Find minimum mean MSE and threshold\n",
    "min_index = np.argmin(mean_mse)\n",
    "mse_min = mean_mse[min_index]\n",
    "mse_threshold = mse_min + std_mse[min_index]\n",
    "\n",
    "# Find largest alpha within 1-SE threshold (first from the top that satisfies condition)\n",
    "alpha_1se = alphas_used[mean_mse <= mse_threshold][0]\n",
    "\n",
    "print(f\"Best alpha (min MSE): {best_alpha}\")\n",
    "print(f\"MSE_min: {mse_min:.2f}\")\n",
    "print(f\"1_SE: {mse_min:.2f}\")\n",
    "print(f\"MSE_min + 1-SE threshold: {mse_threshold:.2f}\")\n",
    "print(f\"Alpha from 1-SE rule: {alpha_1se}\")\n",
    "\n",
    "# Plot\n",
    "fig = go.Figure()\n",
    "\n",
    "# Mean MSE with error bars\n",
    "fig.add_trace(go.Scatter(\n",
    "    x=alphas_used,\n",
    "    y=mean_mse,\n",
    "    error_y=dict(\n",
    "        type='data',\n",
    "        array=std_mse,\n",
    "        visible=True\n",
    "    ),\n",
    "    mode='lines+markers',\n",
    "    name='Mean CV MSE',\n",
    "    line=dict(color='royalblue'),\n",
    "    marker=dict(size=8)\n",
    "))\n",
    "\n",
    "# Vertical line for best alpha\n",
    "fig.add_trace(go.Scatter(\n",
    "    x=[best_alpha, best_alpha],\n",
    "    y=[min(mean_mse) * 0.95, max(mean_mse) * 1.05],\n",
    "    mode='lines',\n",
    "    name=f'Best alpha = {best_alpha:.4f}',\n",
    "    line=dict(color='red', dash='dash')\n",
    "))\n",
    "\n",
    "# Layout\n",
    "fig.update_layout(\n",
    "    title='LassoCV: Mean Cross-Validation Error vs Alpha',\n",
    "    xaxis=dict(title='Alpha (log scale)', type='log'),\n",
    "    yaxis=dict(title='Mean CV MSE'),\n",
    "    legend=dict(x=0.01, y=0.99),\n",
    "    template='plotly_white',\n",
    "    width=800,\n",
    "    height=500\n",
    ")\n",
    "\n",
    "# Add vertical line for 1-SE rule alpha\n",
    "fig.add_trace(go.Scatter(\n",
    "    x=[alpha_1se, alpha_1se],\n",
    "    y=[min(mean_mse) * 0.95, max(mean_mse) * 1.05],\n",
    "    mode='lines',\n",
    "    name=f'1-SE alpha = {alpha_1se:.4f}',\n",
    "    line=dict(color='green', dash='dot')\n",
    "))\n",
    "\n",
    "fig.show()"
   ]
  },
  {
   "cell_type": "code",
   "execution_count": 65,
   "id": "d9a83883",
   "metadata": {},
   "outputs": [
    {
     "data": {
      "application/vnd.plotly.v1+json": {
       "config": {
        "plotlyServerURL": "https://plot.ly"
       },
       "data": [
        {
         "mode": "lines",
         "name": "const",
         "type": "scatter",
         "x": {
          "bdata": "rIboVEcd+EBLGwFQDVX2QN0ndcaKrvRA3BzN0kEn80CScRy047zxQCBvGVJNbfBApXI+Bght7kDsC3YeZS3sQLw0g9dMGOpAQwZ/Vpoq6EARBss7ZGHmQLLXtz34ueRAKLlWFtcx40BkVVC+sMbhQEK9D+9gduBA+Bb4zdd93kAD4b3V9jzcQJKE5f+3JtpAomXQtPQ32EBIEgb5wW3WQHwlbQVsxdRAX+rcMnI800A4494yg9DRQBTh6495f9BAOIu437COzkDO9U0nkUzMQA55zh8rNcpAMgruc1ZFyEC2rnaLJnrGQKM5EiHm0MRAAteaKxNHw0CUIMYUW9rBQGxDczeXiMBABcahQJOfvkCqJecXNFy8QID/pDumQ7pAmZjrl79SuEAIX+P2kYa2QDQqJpRm3LRAnW7NA7pRs0AhugVnOOSxQBzVbOi5kbBANJTY9X6wrkBd7Eys32usQA900lcpUqpAMPbeJDBgqEAbvRQ/BJOmQKT7KWLt56RAzmqzvmZco0DABJ8sG+6hQNUPoaXhmqBAApqEBHTBnkCNZ0Xpk3ucQL2iwni0YJpAQUrgHqhtmEDWedVnfZ+WQCWioI5685RAOFCNXxlnk0Bc/pRoA/iRQPX22XEOpJBA21TQcXLSjkAlWJnTUIuMQPDI46JHb4pAQP8Jiid7iECCXvJ0/auGQKECDx0O/4RAbG+d6dFxg0ADT+wd8QGCQFAY409ArYBA9xzpQnrjfkC1IxRwFpt8QNaWptrifXpA8cN4aq6IeED1TTpqhLh2QLTz+xCoCnVAEOYnYJB8c0CPSatP5AtyQC6NiUJ3tnBA4Cb/fIv0bkAc1oPD5KpsQK0wfiSGjGpA24xLxDyWaECxRX5LEsVmQPM+8G1IFmVAsp9yxlSHY0C67NkA3RViQP/6m0yzv2BA6oRFJaYFX0DAIrnSu7pcQAsw4IQxm1pAU5Wjm9KjWED4XpEcp9FWQMehdjfvIVVA7lbFHx+SU0AO5IE02x9SQFWU6nD0yFBA+ijyQMoWT0BJZoeim8pMQGylRADlqUpA8mCk9G+xSEA=",
          "dtype": "f8"
         },
         "y": {
          "bdata": "AAAAAAAAAAAAAAAAAAAAAAAAAAAAAAAAAAAAAAAAAAAAAAAAAAAAAAAAAAAAAAAAAAAAAAAAAAAAAAAAAAAAAAAAAAAAAAAAAAAAAAAAAAAAAAAAAAAAAAAAAAAAAAAAAAAAAAAAAAAAAAAAAAAAAAAAAAAAAAAAAAAAAAAAAAAAAAAAAAAAAAAAAAAAAAAAAAAAAAAAAAAAAAAAAAAAAAAAAAAAAAAAAAAAAAAAAAAAAAAAAAAAAAAAAAAAAAAAAAAAAAAAAAAAAAAAAAAAAAAAAAAAAAAAAAAAAAAAAAAAAAAAAAAAAAAAAAAAAAAAAAAAAAAAAAAAAAAAAAAAAAAAAAAAAAAAAAAAAAAAAAAAAAAAAAAAAAAAAAAAAAAAAAAAAAAAAAAAAAAAAAAAAAAAAAAAAAAAAAAAAAAAAAAAAAAAAAAAAAAAAAAAAAAAAAAAAAAAAAAAAAAAAAAAAAAAAAAAAAAAAAAAAAAAAAAAAAAAAAAAAHVXXVeUOXdAXfxOS4Beh0BE1skGptZxQAAAAAAAAAAAAAAAAAAAAAAAAAAAAAAAAAAAAAAAAAAAAAAAAAAAAAAAAAAAAAAAAAAAAAAAAAAAAAAAAAAAAAAAAAAAAAAAAAAAAAAAAAAAAAAAAAAAAAAAAAAAAAAAAAAAAAAAAAAAAAAAAAAAAAAAAAAAAAAAAAAAAAAAAAAAAAAAAAAAAIAAAAAAAAAAgAAAAAAAAACAAAAAAAAAAIAAAAAAAAAAgAAAAAAAAACAAAAAAAAAAIAAAAAAAAAAgAAAAAAAAACAAT2W5VVgVsDaAWZuEiR7wKwsBA9aJYPAmdjRTgP0j8BGpxuQXNKdwC00k8w8U6XAWpLZHidaq8DafXMvi3awwEAQqeIeCLPAc0G8nipgtcASxvffUYW3wKGFQb7lf7nANHit1YRVu8CCjOdmmwO9wAD/cZ2nkL7ApD6MtOj/v8CQnPrSAqrAwK8FXu5/R8HA4uZ6GIHawcAyJXGjrGLCwLlyW6co4sLA5m6qD0lXw8AwbYwXLMTDwHNrwnX9KcTApUfntd+NxMA=",
          "dtype": "f8"
         }
        },
        {
         "mode": "lines",
         "name": "duration",
         "type": "scatter",
         "x": {
          "bdata": "rIboVEcd+EBLGwFQDVX2QN0ndcaKrvRA3BzN0kEn80CScRy047zxQCBvGVJNbfBApXI+Bght7kDsC3YeZS3sQLw0g9dMGOpAQwZ/Vpoq6EARBss7ZGHmQLLXtz34ueRAKLlWFtcx40BkVVC+sMbhQEK9D+9gduBA+Bb4zdd93kAD4b3V9jzcQJKE5f+3JtpAomXQtPQ32EBIEgb5wW3WQHwlbQVsxdRAX+rcMnI800A4494yg9DRQBTh6495f9BAOIu437COzkDO9U0nkUzMQA55zh8rNcpAMgruc1ZFyEC2rnaLJnrGQKM5EiHm0MRAAteaKxNHw0CUIMYUW9rBQGxDczeXiMBABcahQJOfvkCqJecXNFy8QID/pDumQ7pAmZjrl79SuEAIX+P2kYa2QDQqJpRm3LRAnW7NA7pRs0AhugVnOOSxQBzVbOi5kbBANJTY9X6wrkBd7Eys32usQA900lcpUqpAMPbeJDBgqEAbvRQ/BJOmQKT7KWLt56RAzmqzvmZco0DABJ8sG+6hQNUPoaXhmqBAApqEBHTBnkCNZ0Xpk3ucQL2iwni0YJpAQUrgHqhtmEDWedVnfZ+WQCWioI5685RAOFCNXxlnk0Bc/pRoA/iRQPX22XEOpJBA21TQcXLSjkAlWJnTUIuMQPDI46JHb4pAQP8Jiid7iECCXvJ0/auGQKECDx0O/4RAbG+d6dFxg0ADT+wd8QGCQFAY409ArYBA9xzpQnrjfkC1IxRwFpt8QNaWptrifXpA8cN4aq6IeED1TTpqhLh2QLTz+xCoCnVAEOYnYJB8c0CPSatP5AtyQC6NiUJ3tnBA4Cb/fIv0bkAc1oPD5KpsQK0wfiSGjGpA24xLxDyWaECxRX5LEsVmQPM+8G1IFmVAsp9yxlSHY0C67NkA3RViQP/6m0yzv2BA6oRFJaYFX0DAIrnSu7pcQAsw4IQxm1pAU5Wjm9KjWED4XpEcp9FWQMehdjfvIVVA7lbFHx+SU0AO5IE02x9SQFWU6nD0yFBA+ijyQMoWT0BJZoeim8pMQGylRADlqUpA8mCk9G+xSEA=",
          "dtype": "f8"
         },
         "y": {
          "bdata": "AAAAAAAAAIAAAAAAAAAAgAAAAAAAAACAAAAAAAAAAIAAAAAAAAAAgAAAAAAAAACAAAAAAAAAAIAAAAAAAAAAgAAAAAAAAACAAAAAAAAAAIAAAAAAAAAAgAAAAAAAAACAAAAAAAAAAIAAAAAAAAAAgAAAAAAAAACAAAAAAAAAAIAAAAAAAAAAgAAAAAAAAACAAAAAAAAAAIAAAAAAAAAAgAAAAAAAAACAAAAAAAAAAIAAAAAAAAAAgAAAAAAAAACAAAAAAAAAAIAAAAAAAAAAgAAAAAAAAACAAAAAAAAAAIAAAAAAAAAAgAAAAAAAAAAAAAAAAAAAAAAAAAAAAAAAAAAAAAAAAAAAAAAAAAAAAAAAAAAAAAAAAAAAAAAAAAAAAAAAAAAAAAAAAAAAAAAAAAAAAAAAAAAAAAAAAAAAAAAAAAAAAAAAAAAAAAAAAAAAAAAAAAAAAAAAAAAAAAAAAAAAAAAAAAAAAAAAAAAAAAAAAAAAAAAAAAAAAAAAAAAANGMVf5NxQEBBtx4elIRkQDb+CJnIKWVAHuKFzK4CaUBr294suI5sQFmHTQ6X529A+s4d4GuEcUDAh25iteZyQAca2NcBQ3RAIPKxz+l0dUBNwf7MkqV2QPyk/7Z+rndAGefg3la6eEAVrWWRIbl5QLZNFYcwkXpAWgZb+tVxe0C1XjJmRBZ8QFggxk/cwnxAIA1yG49ffUDe3NY6z3h4QKt3cp84fHFA3SQXpJ6TZUABc5jgJvxRQAAAAAAAAAAAAAAAAAAAAAAAAAAAAAAAAAAAAAAAAAAAAAAAAAAAAAAAAAAAAAAAAAAAAAAAAAAAAAAAAAAAAAAAAAAAAAAAAAAAAAAAAAAAAAAAAAAAAAAAAAAAAAAAAAAAAAAAAAAAAAAAAAAAAAAAAAAAAAAAAAAAAAAAAAAAAAAAAAAAAAAAAAAAAAAAgAAAAAAAAACAAAAAAAAAAIAAAAAAAAAAgAAAAAAAAACAAAAAAAAAAIAAAAAAAAAAgNye2KRMxkHA88You/PMU8AP7XEDc/xdwFf3ewUutWPALt7XMoIJaMA=",
          "dtype": "f8"
         }
        },
        {
         "mode": "lines",
         "name": "days_left",
         "type": "scatter",
         "x": {
          "bdata": "rIboVEcd+EBLGwFQDVX2QN0ndcaKrvRA3BzN0kEn80CScRy047zxQCBvGVJNbfBApXI+Bght7kDsC3YeZS3sQLw0g9dMGOpAQwZ/Vpoq6EARBss7ZGHmQLLXtz34ueRAKLlWFtcx40BkVVC+sMbhQEK9D+9gduBA+Bb4zdd93kAD4b3V9jzcQJKE5f+3JtpAomXQtPQ32EBIEgb5wW3WQHwlbQVsxdRAX+rcMnI800A4494yg9DRQBTh6495f9BAOIu437COzkDO9U0nkUzMQA55zh8rNcpAMgruc1ZFyEC2rnaLJnrGQKM5EiHm0MRAAteaKxNHw0CUIMYUW9rBQGxDczeXiMBABcahQJOfvkCqJecXNFy8QID/pDumQ7pAmZjrl79SuEAIX+P2kYa2QDQqJpRm3LRAnW7NA7pRs0AhugVnOOSxQBzVbOi5kbBANJTY9X6wrkBd7Eys32usQA900lcpUqpAMPbeJDBgqEAbvRQ/BJOmQKT7KWLt56RAzmqzvmZco0DABJ8sG+6hQNUPoaXhmqBAApqEBHTBnkCNZ0Xpk3ucQL2iwni0YJpAQUrgHqhtmEDWedVnfZ+WQCWioI5685RAOFCNXxlnk0Bc/pRoA/iRQPX22XEOpJBA21TQcXLSjkAlWJnTUIuMQPDI46JHb4pAQP8Jiid7iECCXvJ0/auGQKECDx0O/4RAbG+d6dFxg0ADT+wd8QGCQFAY409ArYBA9xzpQnrjfkC1IxRwFpt8QNaWptrifXpA8cN4aq6IeED1TTpqhLh2QLTz+xCoCnVAEOYnYJB8c0CPSatP5AtyQC6NiUJ3tnBA4Cb/fIv0bkAc1oPD5KpsQK0wfiSGjGpA24xLxDyWaECxRX5LEsVmQPM+8G1IFmVAsp9yxlSHY0C67NkA3RViQP/6m0yzv2BA6oRFJaYFX0DAIrnSu7pcQAsw4IQxm1pAU5Wjm9KjWED4XpEcp9FWQMehdjfvIVVA7lbFHx+SU0AO5IE02x9SQFWU6nD0yFBA+ijyQMoWT0BJZoeim8pMQGylRADlqUpA8mCk9G+xSEA=",
          "dtype": "f8"
         },
         "y": {
          "bdata": "AAAAAAAAAAAAAAAAAAAAAAAAAAAAAAAAAAAAAAAAAAAAAAAAAAAAAAAAAAAAAAAAAAAAAAAAAAAAAAAAAAAAAAAAAAAAAAAAAAAAAAAAAAAAAAAAAAAAAAAAAAAAAAAAAAAAAAAAAAAAAAAAAAAAAAAAAAAAAAAAAAAAAAAAAAAAAAAAAAAAAAAAAAAAAAAAAAAAAAAAAAAAAAAAAAAAAAAAAAAAAAAAAAAAAAAAAAAAAAAAAAAAAAAAAAAAAAAAAAAAAAAAAAAAAAAAAAAAAAAAAAAAAAAAAAAAAAAAAAAAAAAAAAAAAAAAAAAAAAAAAAAAAAAAAIAAAAAAAAAAgAAAAAAAAACAAAAAAAAAAIAAAAAAAAAAgAAAAAAAAACAAAAAAAAAAIAAAAAAAAAAgAAAAAAAAACAAAAAAAAAAIAAAAAAAAAAgAAAAAAAAACAAAAAAAAAAIAAAAAAAAAAgAAAAAAAAACAAAAAAAAAAIAAAAAAAAAAgAAAAAAAAACAAAAAAAAAAIAAAAAAAAAAgAAAAAAAAACAAAAAAAAAAIAAAAAAAAAAgAAAAAAAAACAAAAAAAAAAIAAAAAAAAAAgAAAAAAAAACAAAAAAAAAAIAAAAAAAAAAgAAAAAAAAAAAAAAAAAAAAAAAAAAAAAAAAAAAAAAAAAAAAAAAAAAAAAAAAAAAAAAAAAAAAAAAAAAAAAAAAAAAAAAAAAAAAAAAAAAAAAAAAAAAAAAAAAAAAAAAAAAAAAAAAJYYLvPnbhpAO7phUh/zWEAn3jr5RUNnQA2fR0RxoHBA9YL+LQgKdUBOt0rNoCh6QPljSvOHgn5Ar9IyWLhJgUBDq7U6OTeDQD1WB7xMAIVAh8kwLgenhkAwBQ4KXi6IQPzfJK+JmIlAr885k7/nikBUkgNq6B2MQInoWdgVPY1AQKWh1R1HjkD5niqxmTePQFQTHsXgCpBAfJIf2sJxkEDLZvZ1CtGQQKNWHwlKKZFAywqvKJl8kUCU37XmwsmRQJFNx9d375FAfSVAozkHkkDPzD6Gnh2SQNzcSZF1MpJAJiHl3/5GkkA=",
          "dtype": "f8"
         }
        },
        {
         "mode": "lines",
         "name": "airline_Air_India",
         "type": "scatter",
         "x": {
          "bdata": "rIboVEcd+EBLGwFQDVX2QN0ndcaKrvRA3BzN0kEn80CScRy047zxQCBvGVJNbfBApXI+Bght7kDsC3YeZS3sQLw0g9dMGOpAQwZ/Vpoq6EARBss7ZGHmQLLXtz34ueRAKLlWFtcx40BkVVC+sMbhQEK9D+9gduBA+Bb4zdd93kAD4b3V9jzcQJKE5f+3JtpAomXQtPQ32EBIEgb5wW3WQHwlbQVsxdRAX+rcMnI800A4494yg9DRQBTh6495f9BAOIu437COzkDO9U0nkUzMQA55zh8rNcpAMgruc1ZFyEC2rnaLJnrGQKM5EiHm0MRAAteaKxNHw0CUIMYUW9rBQGxDczeXiMBABcahQJOfvkCqJecXNFy8QID/pDumQ7pAmZjrl79SuEAIX+P2kYa2QDQqJpRm3LRAnW7NA7pRs0AhugVnOOSxQBzVbOi5kbBANJTY9X6wrkBd7Eys32usQA900lcpUqpAMPbeJDBgqEAbvRQ/BJOmQKT7KWLt56RAzmqzvmZco0DABJ8sG+6hQNUPoaXhmqBAApqEBHTBnkCNZ0Xpk3ucQL2iwni0YJpAQUrgHqhtmEDWedVnfZ+WQCWioI5685RAOFCNXxlnk0Bc/pRoA/iRQPX22XEOpJBA21TQcXLSjkAlWJnTUIuMQPDI46JHb4pAQP8Jiid7iECCXvJ0/auGQKECDx0O/4RAbG+d6dFxg0ADT+wd8QGCQFAY409ArYBA9xzpQnrjfkC1IxRwFpt8QNaWptrifXpA8cN4aq6IeED1TTpqhLh2QLTz+xCoCnVAEOYnYJB8c0CPSatP5AtyQC6NiUJ3tnBA4Cb/fIv0bkAc1oPD5KpsQK0wfiSGjGpA24xLxDyWaECxRX5LEsVmQPM+8G1IFmVAsp9yxlSHY0C67NkA3RViQP/6m0yzv2BA6oRFJaYFX0DAIrnSu7pcQAsw4IQxm1pAU5Wjm9KjWED4XpEcp9FWQMehdjfvIVVA7lbFHx+SU0AO5IE02x9SQFWU6nD0yFBA+ijyQMoWT0BJZoeim8pMQGylRADlqUpA8mCk9G+xSEA=",
          "dtype": "f8"
         },
         "y": {
          "bdata": "AAAAAAAAAAAAAAAAAAAAAAAAAAAAAAAAAAAAAAAAAAAAAAAAAAAAAAAAAAAAAAAAAAAAAAAAAAAAAAAAAAAAAAAAAAAAAAAAAAAAAAAAAAAAAAAAAAAAAAAAAAAAAAAAAAAAAAAAAAAAAAAAAAAAAAAAAAAAAAAAAAAAAAAAAAAAAAAAAAAAAAAAAAAAAAAAAAAAAAAAAAAAAAAAAAAAAAAAAAAAAAAAAAAAAAAAAAAAAAAAAAAAAAAAAAAAAAAAAAAAAAAAAAAAAAAAAAAAAAAAAAAAAAAAAAAAAAAAAAAAAAAAAAAAAAAAAAAAAAAAAAAAAAAAAAAAAAAAAAAAAAAAAAAAAAAAAAAAAAAAAAAAAAAAAAAAAAAAAAAAAAAAAAAAAAAAAAAeW8uqWnlyQKwRKXn+Q5JATokEZHD+nkBqmvN/PWSlQHYdE0Q0mapAjaIKC71Lr0CVzpDjsdOxQNnCxoKo17NApjdz63u2tUAOWu9inHa3QGFHl1XJ3LdAN8WzdVEbuECrAvGhBm+6QAd3KDh2K7xA+pMgc/j5vEAxs3QiRbm9QMa8vFlXar5AHAdzV0kOv0AWJO9bUaa/QALjX2NxGcBAa7JhqaFawEAwqkgV45bAQFgtYw/KzsBAS4iKL3ICwUB8zWlZQjLBQMwwGAamXsFA4Hi4M6eHwUDj9Mid1a3BQErQcOQf0cFAJQLPXN/xwUDawC7heOPBQBpFbOWUfcFAJTUTS94jwUC+63kTo9LAQIaP4iyDh8BAjUDvoupAwEBnLWesFP+/QFpJ4aX9hb9AJS9ul6X4vkAUo6y1u5O/QA3wvMMjub9AZ3vMggtiwEDCzO5o2dPBQI432DB2KsNA6j4HXRFxxEDJerpEY5/FQPdsGRaetcZAVoXCIKuvx0Cw0Cn4H5TIQNe99VYBZ8lA/FO2SycrykARhKYSx93KQEGszRJngstADK1YxZIazECGx62Hf6fMQKHLercCKs1Ac3Dl5ZCjzUDtj4v0JxTOQIzV4g8Sfs5Ak2oXD3DgzkCb+2lvsTnPQGkR5CWKjc9AgEoXk2/gz0A=",
          "dtype": "f8"
         }
        },
        {
         "mode": "lines",
         "name": "airline_GO_FIRST",
         "type": "scatter",
         "x": {
          "bdata": "rIboVEcd+EBLGwFQDVX2QN0ndcaKrvRA3BzN0kEn80CScRy047zxQCBvGVJNbfBApXI+Bght7kDsC3YeZS3sQLw0g9dMGOpAQwZ/Vpoq6EARBss7ZGHmQLLXtz34ueRAKLlWFtcx40BkVVC+sMbhQEK9D+9gduBA+Bb4zdd93kAD4b3V9jzcQJKE5f+3JtpAomXQtPQ32EBIEgb5wW3WQHwlbQVsxdRAX+rcMnI800A4494yg9DRQBTh6495f9BAOIu437COzkDO9U0nkUzMQA55zh8rNcpAMgruc1ZFyEC2rnaLJnrGQKM5EiHm0MRAAteaKxNHw0CUIMYUW9rBQGxDczeXiMBABcahQJOfvkCqJecXNFy8QID/pDumQ7pAmZjrl79SuEAIX+P2kYa2QDQqJpRm3LRAnW7NA7pRs0AhugVnOOSxQBzVbOi5kbBANJTY9X6wrkBd7Eys32usQA900lcpUqpAMPbeJDBgqEAbvRQ/BJOmQKT7KWLt56RAzmqzvmZco0DABJ8sG+6hQNUPoaXhmqBAApqEBHTBnkCNZ0Xpk3ucQL2iwni0YJpAQUrgHqhtmEDWedVnfZ+WQCWioI5685RAOFCNXxlnk0Bc/pRoA/iRQPX22XEOpJBA21TQcXLSjkAlWJnTUIuMQPDI46JHb4pAQP8Jiid7iECCXvJ0/auGQKECDx0O/4RAbG+d6dFxg0ADT+wd8QGCQFAY409ArYBA9xzpQnrjfkC1IxRwFpt8QNaWptrifXpA8cN4aq6IeED1TTpqhLh2QLTz+xCoCnVAEOYnYJB8c0CPSatP5AtyQC6NiUJ3tnBA4Cb/fIv0bkAc1oPD5KpsQK0wfiSGjGpA24xLxDyWaECxRX5LEsVmQPM+8G1IFmVAsp9yxlSHY0C67NkA3RViQP/6m0yzv2BA6oRFJaYFX0DAIrnSu7pcQAsw4IQxm1pAU5Wjm9KjWED4XpEcp9FWQMehdjfvIVVA7lbFHx+SU0AO5IE02x9SQFWU6nD0yFBA+ijyQMoWT0BJZoeim8pMQGylRADlqUpA8mCk9G+xSEA=",
          "dtype": "f8"
         },
         "y": {
          "bdata": "AAAAAAAAAAAAAAAAAAAAAAAAAAAAAAAAAAAAAAAAAAAAAAAAAAAAAAAAAAAAAAAAAAAAAAAAAAAAAAAAAAAAAAAAAAAAAAAAAAAAAAAAAAAAAAAAAAAAAAAAAAAAAAAAAAAAAAAAAAAAAAAAAAAAAAAAAAAAAAAAAAAAAAAAAAAAAAAAAAAAAAAAAAAAAAAAAAAAAAAAAAAAAAAAAAAAAAAAAAAAAAAAAAAAAAAAAAAAAAAAAAAAAONSCFHyBqZAevGDLtNRtEALTjuIB3y5QGnAAvuNdMFARBIeLA3SxUBF4m6/pNzJQCJCzOkXm81AjjavqCeK0EDMUeA96GTSQPo+oxAtHdRAjWdPD/a01UABuo/Omy7XQBC9SbxYjNhAfocC3zzQ2UApxPfwlQnbQJOgSXj8SNxAn1mRgxly3UCrmS/ppYXeQL9iKFAWWd9ATLcEL+0C4EBGS2QWIVPgQDoDmtohneBAR6T+VAHi4EB7NhmupCLhQKSRUH9NX+FArg6LEEqb4UASFZG11/jhQAndeFwdVuJAnDGByRyo4kCH6FpIC/TiQGcFuANgOuNA1rl6XoN740CB7osc0LfjQP7+rhOv7+NAeoBY5WYj5EB7gMlnU1PkQN3awQ2vf+RA0uA6lcqo5EDjib8G3s7kQE5uGEsa8uRAl+OpeMIS5UBcpRrh8zDlQDiV5HfuTOVAE8rLxNNm5UDp6sZZL4XlQOZFxrHlruVAAH1XjYG+5UA9WkVZy8PlQHT+rcTLyOVAeahUXYHN5UBh1bjE3dHlQDkR263n1eVAjLTYrX3g5UCt1bs4LfDlQHf/his79+VAsGNyjgr85UC2hLU2I//lQKqHqWu8AeZAJ7N9EjkA5kBtT2sHnP7lQMdnMOmE+uVAdzyH/nXr5UAWpObX1N7lQGRVRDwv0+VAk8YhgG3H5UAFlF6TW77lQN4UWbEytuVAh1E0D6yu5UDHJJvPs6flQAZjb0pEoeVAs3tH78Gg5UBG9zT1WKDlQO1IU44toOVAInmrRZie5UC7ElqgqJjlQPwUi7v1kuVAymOzr42J5UA=",
          "dtype": "f8"
         }
        },
        {
         "mode": "lines",
         "name": "airline_Indigo",
         "type": "scatter",
         "x": {
          "bdata": "rIboVEcd+EBLGwFQDVX2QN0ndcaKrvRA3BzN0kEn80CScRy047zxQCBvGVJNbfBApXI+Bght7kDsC3YeZS3sQLw0g9dMGOpAQwZ/Vpoq6EARBss7ZGHmQLLXtz34ueRAKLlWFtcx40BkVVC+sMbhQEK9D+9gduBA+Bb4zdd93kAD4b3V9jzcQJKE5f+3JtpAomXQtPQ32EBIEgb5wW3WQHwlbQVsxdRAX+rcMnI800A4494yg9DRQBTh6495f9BAOIu437COzkDO9U0nkUzMQA55zh8rNcpAMgruc1ZFyEC2rnaLJnrGQKM5EiHm0MRAAteaKxNHw0CUIMYUW9rBQGxDczeXiMBABcahQJOfvkCqJecXNFy8QID/pDumQ7pAmZjrl79SuEAIX+P2kYa2QDQqJpRm3LRAnW7NA7pRs0AhugVnOOSxQBzVbOi5kbBANJTY9X6wrkBd7Eys32usQA900lcpUqpAMPbeJDBgqEAbvRQ/BJOmQKT7KWLt56RAzmqzvmZco0DABJ8sG+6hQNUPoaXhmqBAApqEBHTBnkCNZ0Xpk3ucQL2iwni0YJpAQUrgHqhtmEDWedVnfZ+WQCWioI5685RAOFCNXxlnk0Bc/pRoA/iRQPX22XEOpJBA21TQcXLSjkAlWJnTUIuMQPDI46JHb4pAQP8Jiid7iECCXvJ0/auGQKECDx0O/4RAbG+d6dFxg0ADT+wd8QGCQFAY409ArYBA9xzpQnrjfkC1IxRwFpt8QNaWptrifXpA8cN4aq6IeED1TTpqhLh2QLTz+xCoCnVAEOYnYJB8c0CPSatP5AtyQC6NiUJ3tnBA4Cb/fIv0bkAc1oPD5KpsQK0wfiSGjGpA24xLxDyWaECxRX5LEsVmQPM+8G1IFmVAsp9yxlSHY0C67NkA3RViQP/6m0yzv2BA6oRFJaYFX0DAIrnSu7pcQAsw4IQxm1pAU5Wjm9KjWED4XpEcp9FWQMehdjfvIVVA7lbFHx+SU0AO5IE02x9SQFWU6nD0yFBA+ijyQMoWT0BJZoeim8pMQGylRADlqUpA8mCk9G+xSEA=",
          "dtype": "f8"
         },
         "y": {
          "bdata": "AAAAAAAAAAAAAAAAAAAAAAAAAAAAAAAAAAAAAAAAAAAAAAAAAAAAAAAAAAAAAAAAAAAAAAAAAAAAAAAAAAAAAAAAAAAAAAAAAAAAAAAAAAAAAAAAAAAAAAAAAAAAAAAAAAAAAAAAAAAAAAAAAAAAAAAAAAAAAAAAAAAAAAAAAAAAAAAAAAAAAAAAAAAAAAAAAAAAAAAAAAAAAAAAAAAAAAAAAAAAAAAAAAAAAAAAAAAAAAAAAAAAAAAAAAAAAAAAAAAAAAAAAAAAAAAAAAAAAAAAAAAAAAAAAAAAAAAAAAAAAAAAAAAAAAAAAAAAAAAAAAAAAAAAAAAAAAAAAAAAAAAAAAAAAAAAAAAAAAAAAAAAAAAAAAAAAAAAAAAAAAAAAAAAAAAAAAAAAAAAAAAAAAAAAAAAAAAAAAAAAAAAAAAAAAAAAAAAAAAAAAAAAAAAAAAAAAAAAAAAAAAAAAAAAAAAAAAAAAAAAAAAAAAAAAAAAAAAAAAAAAAAAAAAAAAAAAAAAAAAAAAAAAAAAAAAAAAAAAAAAAAAAAAAAAAAAAAAAAAAAAAAAAAAAAAAAAAAAAAAAAAAAAAAAAAAAAAAAAAAAAAAAAAAAAAAAAAAAAAAAAAAAAAAAAAAAAAAAAAAAAAAAAAAAAAAAAAAAAAAAAAAAAAAAAAAAAAAAAAAAAAAAAAAAAAAAAAAAAAAAAAAAAAAAAAAAAAAAAAAAAAAAAAAAAAAAAAAAAAAAAAAAAAAAAAAAAAAAAAAAAAAAAAAAAAAAAAAAAAAAAAAAAAAAAAAAAAAAAAAAAAAAAAAAAAAAAAAAAAAAAAAAAAAAAAAAAAAAAAAAAAAAAAAAAAAAAAAAAAAAAAAAAAAAAAAAAAAAAAAAAAAADumcDw2QjNAr/4zcZNwYEDKVWt4g55tQI87RpH25XRANQw3wCJtekAVAUiV0bp/QJSZeQevVIJAKfOxw2idhED3+i3m67qGQOLcM0dKsIhAt5weBKBxikDkVJG5sxGMQIlS72EehI1A0fYdBYDGjkCcWu5U49ePQJS+SE1nZ5BASi+Q9AzGkEA=",
          "dtype": "f8"
         }
        },
        {
         "mode": "lines",
         "name": "airline_SpiceJet",
         "type": "scatter",
         "x": {
          "bdata": "rIboVEcd+EBLGwFQDVX2QN0ndcaKrvRA3BzN0kEn80CScRy047zxQCBvGVJNbfBApXI+Bght7kDsC3YeZS3sQLw0g9dMGOpAQwZ/Vpoq6EARBss7ZGHmQLLXtz34ueRAKLlWFtcx40BkVVC+sMbhQEK9D+9gduBA+Bb4zdd93kAD4b3V9jzcQJKE5f+3JtpAomXQtPQ32EBIEgb5wW3WQHwlbQVsxdRAX+rcMnI800A4494yg9DRQBTh6495f9BAOIu437COzkDO9U0nkUzMQA55zh8rNcpAMgruc1ZFyEC2rnaLJnrGQKM5EiHm0MRAAteaKxNHw0CUIMYUW9rBQGxDczeXiMBABcahQJOfvkCqJecXNFy8QID/pDumQ7pAmZjrl79SuEAIX+P2kYa2QDQqJpRm3LRAnW7NA7pRs0AhugVnOOSxQBzVbOi5kbBANJTY9X6wrkBd7Eys32usQA900lcpUqpAMPbeJDBgqEAbvRQ/BJOmQKT7KWLt56RAzmqzvmZco0DABJ8sG+6hQNUPoaXhmqBAApqEBHTBnkCNZ0Xpk3ucQL2iwni0YJpAQUrgHqhtmEDWedVnfZ+WQCWioI5685RAOFCNXxlnk0Bc/pRoA/iRQPX22XEOpJBA21TQcXLSjkAlWJnTUIuMQPDI46JHb4pAQP8Jiid7iECCXvJ0/auGQKECDx0O/4RAbG+d6dFxg0ADT+wd8QGCQFAY409ArYBA9xzpQnrjfkC1IxRwFpt8QNaWptrifXpA8cN4aq6IeED1TTpqhLh2QLTz+xCoCnVAEOYnYJB8c0CPSatP5AtyQC6NiUJ3tnBA4Cb/fIv0bkAc1oPD5KpsQK0wfiSGjGpA24xLxDyWaECxRX5LEsVmQPM+8G1IFmVAsp9yxlSHY0C67NkA3RViQP/6m0yzv2BA6oRFJaYFX0DAIrnSu7pcQAsw4IQxm1pAU5Wjm9KjWED4XpEcp9FWQMehdjfvIVVA7lbFHx+SU0AO5IE02x9SQFWU6nD0yFBA+ijyQMoWT0BJZoeim8pMQGylRADlqUpA8mCk9G+xSEA=",
          "dtype": "f8"
         },
         "y": {
          "bdata": "AAAAAAAAAAAAAAAAAAAAAAAAAAAAAAAAAAAAAAAAAAAAAAAAAAAAAAAAAAAAAAAAAAAAAAAAAAAAAAAAAAAAAAAAAAAAAAAAAAAAAAAAAAAAAAAAAAAAAAAAAAAAAAAAAAAAAAAAAAAAAAAAAAAAAAAAAAAAAAAAAAAAAAAAAAAAAAAAAAAAAAAAAAAAAAAAAAAAAAAAAAAAAAAAAAAAAAAAAAAAAAAAAAAAAAAAAAAAAAAAAAAAAAAAAAAAAAAAAAAAAAAAAAAAAAAAAAAAgAAAAAAAAACAAAAAAAAAAIAAAAAAAAAAgAAAAAAAAACAAAAAAAAAAIAAAAAAAAAAgAAAAAAAAACAAAAAAAAAAIAAAAAAAAAAgAAAAAAAAACAAAAAAAAAAIAAAAAAAAAAgAAAAAAAAACAAAAAAAAAAIAAAAAAAAAAgAAAAAAAAACAAAAAAAAAAIAAAAAAAAAAgAAAAAAAAACAAAAAAAAAAIAAAAAAAAAAgAAAAAAAAACAAAAAAAAAAIAAAAAAAAAAgAAAAAAAAACAAAAAAAAAAIAAAAAAAAAAgAAAAAAAAACAAAAAAAAAAIAAAAAAAAAAgAAAAAAAAACAAAAAAAAAAIAAAAAAAAAAgAAAAAAAAACAAAAAAAAAAIAAAAAAAAAAgAAAAAAAAACAAAAAAAAAAIAAAAAAAAAAgAAAAAAAAACAAAAAAAAAAIAAAAAAAAAAgAAAAAAAAACAAAAAAAAAAIAAAAAAAAAAgAAAAAAAAACAAAAAAAAAAIAAAAAAAAAAgAAAAAAAAACAAAAAAAAAAIAAAAAAAAAAgAAAAAAAAACAAAAAAAAAAIAAAAAAAAAAgAAAAAAAAACAAAAAAAAAAIAAAAAAAAAAgAAAAAAAAACAAAAAAAAAAIAAAAAAAAAAgAAAAAAAAAAAAAAAAAAAAAAAAAAAAAAAAAAAAAAAAAAAAAAAAAAAAAAAAAAAAAAAAAAAAAAAAAAAAAAAAAAAAAAAAAAAAAAAAAAAAAAAAAAAAAAAAAAAAAAAAAAAAAAAAAAAAAAAAAAAAAAAAAAAAAA=",
          "dtype": "f8"
         }
        },
        {
         "mode": "lines",
         "name": "airline_Vistara",
         "type": "scatter",
         "x": {
          "bdata": "rIboVEcd+EBLGwFQDVX2QN0ndcaKrvRA3BzN0kEn80CScRy047zxQCBvGVJNbfBApXI+Bght7kDsC3YeZS3sQLw0g9dMGOpAQwZ/Vpoq6EARBss7ZGHmQLLXtz34ueRAKLlWFtcx40BkVVC+sMbhQEK9D+9gduBA+Bb4zdd93kAD4b3V9jzcQJKE5f+3JtpAomXQtPQ32EBIEgb5wW3WQHwlbQVsxdRAX+rcMnI800A4494yg9DRQBTh6495f9BAOIu437COzkDO9U0nkUzMQA55zh8rNcpAMgruc1ZFyEC2rnaLJnrGQKM5EiHm0MRAAteaKxNHw0CUIMYUW9rBQGxDczeXiMBABcahQJOfvkCqJecXNFy8QID/pDumQ7pAmZjrl79SuEAIX+P2kYa2QDQqJpRm3LRAnW7NA7pRs0AhugVnOOSxQBzVbOi5kbBANJTY9X6wrkBd7Eys32usQA900lcpUqpAMPbeJDBgqEAbvRQ/BJOmQKT7KWLt56RAzmqzvmZco0DABJ8sG+6hQNUPoaXhmqBAApqEBHTBnkCNZ0Xpk3ucQL2iwni0YJpAQUrgHqhtmEDWedVnfZ+WQCWioI5685RAOFCNXxlnk0Bc/pRoA/iRQPX22XEOpJBA21TQcXLSjkAlWJnTUIuMQPDI46JHb4pAQP8Jiid7iECCXvJ0/auGQKECDx0O/4RAbG+d6dFxg0ADT+wd8QGCQFAY409ArYBA9xzpQnrjfkC1IxRwFpt8QNaWptrifXpA8cN4aq6IeED1TTpqhLh2QLTz+xCoCnVAEOYnYJB8c0CPSatP5AtyQC6NiUJ3tnBA4Cb/fIv0bkAc1oPD5KpsQK0wfiSGjGpA24xLxDyWaECxRX5LEsVmQPM+8G1IFmVAsp9yxlSHY0C67NkA3RViQP/6m0yzv2BA6oRFJaYFX0DAIrnSu7pcQAsw4IQxm1pAU5Wjm9KjWED4XpEcp9FWQMehdjfvIVVA7lbFHx+SU0AO5IE02x9SQFWU6nD0yFBA+ijyQMoWT0BJZoeim8pMQGylRADlqUpA8mCk9G+xSEA=",
          "dtype": "f8"
         },
         "y": {
          "bdata": "AAAAAAAAAAAAAAAAAAAAAAAAAAAAAAAAAAAAAAAAAAAAAAAAAAAAAAAAAAAAAAAAAAAAAAAAAAAAAAAAAAAAAAAAAAAAAAAAAAAAAAAAAAAAAAAAAAAAAAAAAAAAAAAAAAAAAAAAAAAAAAAAAAAAAAAAAAAAAAAAAAAAAAAAAAAAAAAAAAAAAAAAAAAAAAAAAAAAAAAAAAAAAAAAAAAAAAAAAAAAAAAAAAAAAAAAAAAAAAAAAAAAAAAAAAAAAAAAAAAAAAAAAAAAAAAAAAAAgAAAAAAAAACAAAAAAAAAAIAAAAAAAAAAgAAAAAAAAACAAAAAAAAAAIAAAAAAAAAAgAAAAAAAAACAAAAAAAAAAIAAAAAAAAAAgAAAAAAAAACAAAAAAAAAAIAAAAAAAAAAgAAAAAAAAACAAAAAAAAAAIAAAAAAAAAAgAAAAAAAAACAAAAAAAAAAIAAAAAAAAAAgAAAAAAAAACAAAAAAAAAAIAAAAAAAAAAgAAAAAAAAACAAAAAAAAAAIAAAAAAAAAAgAAAAAAAAACAAAAAAAAAAIAAAAAAAAAAgAAAAAAAAACAAAAAAAAAAIAAAAAAAAAAgAAAAAAAAACAAAAAAAAAAIAAAAAAAAAAgAAAAAAAAACAAAAAAAAAAIAAAAAAAAAAgAAAAAAAAACAAAAAAAAAAIAAAAAAAAAAgAAAAAAAAACAAAAAAAAAAIAAAAAAAAAAgAAAAAAAAACAAAAAAAAAAIAAAAAAAAAAgAAAAAAAAACAAAAAAAAAAIAAAAAAAAAAgAAAAAAAAACAAAAAAAAAAIAAAAAAAAAAgAAAAAAAAACAAAAAAAAAAIAAAAAAAAAAgAAAAAAAAACAAAAAAAAAAIAAAAAAAAAAgAAAAAAAAACAAAAAAAAAAIAAAAAAAAAAgAAAAAAAAACAAAAAAAAAAIAAAAAAAAAAgAAAAAAAAACAAAAAAAAAAIAAAAAAAAAAgAAAAAAAAACAAAAAAAAAAIAAAAAAAAAAgAAAAAAAAACAAAAAAAAAAIAAAAAAAAAAgAAAAAAAAACAAAAAAAAAAIA=",
          "dtype": "f8"
         }
        },
        {
         "mode": "lines",
         "name": "source_city_Chennai",
         "type": "scatter",
         "x": {
          "bdata": "rIboVEcd+EBLGwFQDVX2QN0ndcaKrvRA3BzN0kEn80CScRy047zxQCBvGVJNbfBApXI+Bght7kDsC3YeZS3sQLw0g9dMGOpAQwZ/Vpoq6EARBss7ZGHmQLLXtz34ueRAKLlWFtcx40BkVVC+sMbhQEK9D+9gduBA+Bb4zdd93kAD4b3V9jzcQJKE5f+3JtpAomXQtPQ32EBIEgb5wW3WQHwlbQVsxdRAX+rcMnI800A4494yg9DRQBTh6495f9BAOIu437COzkDO9U0nkUzMQA55zh8rNcpAMgruc1ZFyEC2rnaLJnrGQKM5EiHm0MRAAteaKxNHw0CUIMYUW9rBQGxDczeXiMBABcahQJOfvkCqJecXNFy8QID/pDumQ7pAmZjrl79SuEAIX+P2kYa2QDQqJpRm3LRAnW7NA7pRs0AhugVnOOSxQBzVbOi5kbBANJTY9X6wrkBd7Eys32usQA900lcpUqpAMPbeJDBgqEAbvRQ/BJOmQKT7KWLt56RAzmqzvmZco0DABJ8sG+6hQNUPoaXhmqBAApqEBHTBnkCNZ0Xpk3ucQL2iwni0YJpAQUrgHqhtmEDWedVnfZ+WQCWioI5685RAOFCNXxlnk0Bc/pRoA/iRQPX22XEOpJBA21TQcXLSjkAlWJnTUIuMQPDI46JHb4pAQP8Jiid7iECCXvJ0/auGQKECDx0O/4RAbG+d6dFxg0ADT+wd8QGCQFAY409ArYBA9xzpQnrjfkC1IxRwFpt8QNaWptrifXpA8cN4aq6IeED1TTpqhLh2QLTz+xCoCnVAEOYnYJB8c0CPSatP5AtyQC6NiUJ3tnBA4Cb/fIv0bkAc1oPD5KpsQK0wfiSGjGpA24xLxDyWaECxRX5LEsVmQPM+8G1IFmVAsp9yxlSHY0C67NkA3RViQP/6m0yzv2BA6oRFJaYFX0DAIrnSu7pcQAsw4IQxm1pAU5Wjm9KjWED4XpEcp9FWQMehdjfvIVVA7lbFHx+SU0AO5IE02x9SQFWU6nD0yFBA+ijyQMoWT0BJZoeim8pMQGylRADlqUpA8mCk9G+xSEA=",
          "dtype": "f8"
         },
         "y": {
          "bdata": "AAAAAAAAAAAAAAAAAAAAAAAAAAAAAAAAAAAAAAAAAAAAAAAAAAAAAAAAAAAAAAAAAAAAAAAAAAAAAAAAAAAAAAAAAAAAAAAAAAAAAAAAAAAAAAAAAAAAAAAAAAAAAAAAAAAAAAAAAAAAAAAAAAAAAAAAAAAAAAAAAAAAAAAAAAAAAAAAAAAAAAAAAAAAAAAAAAAAAAAAAAAAAAAAAAAAAAAAAAAAAAAAAAAAAAAAAAAAAAAAAAAAAAAAAAAAAAAAAAAAAAAAAAAAAAAAAAAAgAAAAAAAAACAAAAAAAAAAIAAAAAAAAAAgAAAAAAAAACAAAAAAAAAAIAAAAAAAAAAgAAAAAAAAACAAAAAAAAAAIAAAAAAAAAAgAAAAAAAAACAAAAAAAAAAIAAAAAAAAAAgAAAAAAAAACAAAAAAAAAAIAAAAAAAAAAgAAAAAAAAACAAAAAAAAAAIAAAAAAAAAAgAAAAAAAAACAAAAAAAAAAIAAAAAAAAAAgAAAAAAAAACAAAAAAAAAAIAAAAAAAAAAgAAAAAAAAACAAAAAAAAAAIAAAAAAAAAAgAAAAAAAAACAAAAAAAAAAIAAAAAAAAAAgAAAAAAAAACAAAAAAAAAAIAAAAAAAAAAgAAAAAAAAACAAAAAAAAAAIAAAAAAAAAAgAAAAAAAAACAAAAAAAAAAIAAAAAAAAAAgAAAAAAAAACAAAAAAAAAAIAAAAAAAAAAgAAAAAAAAACAAAAAAAAAAIAAAAAAAAAAgAAAAAAAAACAAAAAAAAAAIAAAAAAAAAAgAAAAAAAAACAAAAAAAAAAIAAAAAAAAAAgAAAAAAAAACAAAAAAAAAAAAAAAAAAAAAAAAAAAAAAACAAAAAAAAAAIAAAAAAAAAAgAAAAAAAAACAAAAAAAAAAAAAAAAAAAAAAAAAAAAAAAAAAAAAAAAAAAAAAAAAAAAAAAAAAAAAAAAAAAAAAAAAAAAAAAAAAAAAAAAAAAAAAAAAAAAAAAAAAAAAAAAAAAAAAAAAAAAAAAAAAAAAAAAAAAAAAAAAAAAAAAAAAAAAAAAAAAAAAAAAAAA=",
          "dtype": "f8"
         }
        },
        {
         "mode": "lines",
         "name": "source_city_Delhi",
         "type": "scatter",
         "x": {
          "bdata": "rIboVEcd+EBLGwFQDVX2QN0ndcaKrvRA3BzN0kEn80CScRy047zxQCBvGVJNbfBApXI+Bght7kDsC3YeZS3sQLw0g9dMGOpAQwZ/Vpoq6EARBss7ZGHmQLLXtz34ueRAKLlWFtcx40BkVVC+sMbhQEK9D+9gduBA+Bb4zdd93kAD4b3V9jzcQJKE5f+3JtpAomXQtPQ32EBIEgb5wW3WQHwlbQVsxdRAX+rcMnI800A4494yg9DRQBTh6495f9BAOIu437COzkDO9U0nkUzMQA55zh8rNcpAMgruc1ZFyEC2rnaLJnrGQKM5EiHm0MRAAteaKxNHw0CUIMYUW9rBQGxDczeXiMBABcahQJOfvkCqJecXNFy8QID/pDumQ7pAmZjrl79SuEAIX+P2kYa2QDQqJpRm3LRAnW7NA7pRs0AhugVnOOSxQBzVbOi5kbBANJTY9X6wrkBd7Eys32usQA900lcpUqpAMPbeJDBgqEAbvRQ/BJOmQKT7KWLt56RAzmqzvmZco0DABJ8sG+6hQNUPoaXhmqBAApqEBHTBnkCNZ0Xpk3ucQL2iwni0YJpAQUrgHqhtmEDWedVnfZ+WQCWioI5685RAOFCNXxlnk0Bc/pRoA/iRQPX22XEOpJBA21TQcXLSjkAlWJnTUIuMQPDI46JHb4pAQP8Jiid7iECCXvJ0/auGQKECDx0O/4RAbG+d6dFxg0ADT+wd8QGCQFAY409ArYBA9xzpQnrjfkC1IxRwFpt8QNaWptrifXpA8cN4aq6IeED1TTpqhLh2QLTz+xCoCnVAEOYnYJB8c0CPSatP5AtyQC6NiUJ3tnBA4Cb/fIv0bkAc1oPD5KpsQK0wfiSGjGpA24xLxDyWaECxRX5LEsVmQPM+8G1IFmVAsp9yxlSHY0C67NkA3RViQP/6m0yzv2BA6oRFJaYFX0DAIrnSu7pcQAsw4IQxm1pAU5Wjm9KjWED4XpEcp9FWQMehdjfvIVVA7lbFHx+SU0AO5IE02x9SQFWU6nD0yFBA+ijyQMoWT0BJZoeim8pMQGylRADlqUpA8mCk9G+xSEA=",
          "dtype": "f8"
         },
         "y": {
          "bdata": "AAAAAAAAAAAAAAAAAAAAAAAAAAAAAAAAAAAAAAAAAAAAAAAAAAAAAAAAAAAAAAAAAAAAAAAAAAAAAAAAAAAAAAAAAAAAAAAAAAAAAAAAAAAAAAAAAAAAAAAAAAAAAAAAAAAAAAAAAAAAAAAAAAAAAAAAAAAAAAAAAAAAAAAAAAAAAAAAAAAAAAAAAAAAAAAAAAAAAAAAAAAAAAAAAAAAAAAAAAAAAAAAAAAAAAAAAAAAAAAAAAAAAAAAAAAAAAAAAAAAAAAAAAAAAAAAAAAAAAAAAAAAAAAAAAAAAAAAAAAAAAAAAAAAAAAAAAAAAAAAAAAAAAAAAAAAAAAAAAAAAAAAAAAAAAAAAAAAAAAAAAAAAAAAAAAAAAAAAAAAAAAAAAAAAAAAAAAAAAAAAAAAAAAAAAAAAAAAAAAAAAAAAAAAAAAAAAAAANt+3Eo3J3NAQ8BYbh+Ih0ACs+ZvAziSQKVITPlsNZhAkcnrwT29nUDP3Z5RpmmhQBANjm+R2qNAm2ohHgsJpkB9BXg9Nw2nQCJxMozR6qdAf3yScUngqEBerB2IqMOpQH6cpEojlqpAU3AoxAVZq0DWCifbsg2sQMR/DsTMtKxATHVRBL5PrUDpsvSMAd+tQEEIOjLgY65AHAmUXrLerkA68O9ZYlCvQGe0vKTiua9AHghWQq8NsEDrBaU+CTuwQOWzawX1ZLBAfZipE9WLsEDMCOJS+pywQIA5tUT1gbBAWIZIDM+BsUAUwCE5l96yQBMc5C/2ILRAotlN0JtOtUDgHPTC9mW2QIIobXisaLdAd1z/+kZpuECybnkZGvO4QNmau2afq7lASNkoU4dCukAvRjNrvaa6QDTp2yVqA7tAoLEKxxxUu0CTvWqcjp67QOcQ65th9rtAk+G2aDOmvEBK4Tvw90u9QNegDLAu5r1An5GHYkd0vkAihVGrofu+QGC3gI+3eL9A0YQOHC7sv0AbyGkWjivAQENJl4oNXcBAOMX0YE2IwEBP/s83VrDAQK5P9mFm1cBA+hxpkyz3wEAADCJeAxXBQEwuafttMMFAfzWfGeNIwUA=",
          "dtype": "f8"
         }
        },
        {
         "mode": "lines",
         "name": "source_city_Hyderabad",
         "type": "scatter",
         "x": {
          "bdata": "rIboVEcd+EBLGwFQDVX2QN0ndcaKrvRA3BzN0kEn80CScRy047zxQCBvGVJNbfBApXI+Bght7kDsC3YeZS3sQLw0g9dMGOpAQwZ/Vpoq6EARBss7ZGHmQLLXtz34ueRAKLlWFtcx40BkVVC+sMbhQEK9D+9gduBA+Bb4zdd93kAD4b3V9jzcQJKE5f+3JtpAomXQtPQ32EBIEgb5wW3WQHwlbQVsxdRAX+rcMnI800A4494yg9DRQBTh6495f9BAOIu437COzkDO9U0nkUzMQA55zh8rNcpAMgruc1ZFyEC2rnaLJnrGQKM5EiHm0MRAAteaKxNHw0CUIMYUW9rBQGxDczeXiMBABcahQJOfvkCqJecXNFy8QID/pDumQ7pAmZjrl79SuEAIX+P2kYa2QDQqJpRm3LRAnW7NA7pRs0AhugVnOOSxQBzVbOi5kbBANJTY9X6wrkBd7Eys32usQA900lcpUqpAMPbeJDBgqEAbvRQ/BJOmQKT7KWLt56RAzmqzvmZco0DABJ8sG+6hQNUPoaXhmqBAApqEBHTBnkCNZ0Xpk3ucQL2iwni0YJpAQUrgHqhtmEDWedVnfZ+WQCWioI5685RAOFCNXxlnk0Bc/pRoA/iRQPX22XEOpJBA21TQcXLSjkAlWJnTUIuMQPDI46JHb4pAQP8Jiid7iECCXvJ0/auGQKECDx0O/4RAbG+d6dFxg0ADT+wd8QGCQFAY409ArYBA9xzpQnrjfkC1IxRwFpt8QNaWptrifXpA8cN4aq6IeED1TTpqhLh2QLTz+xCoCnVAEOYnYJB8c0CPSatP5AtyQC6NiUJ3tnBA4Cb/fIv0bkAc1oPD5KpsQK0wfiSGjGpA24xLxDyWaECxRX5LEsVmQPM+8G1IFmVAsp9yxlSHY0C67NkA3RViQP/6m0yzv2BA6oRFJaYFX0DAIrnSu7pcQAsw4IQxm1pAU5Wjm9KjWED4XpEcp9FWQMehdjfvIVVA7lbFHx+SU0AO5IE02x9SQFWU6nD0yFBA+ijyQMoWT0BJZoeim8pMQGylRADlqUpA8mCk9G+xSEA=",
          "dtype": "f8"
         },
         "y": {
          "bdata": "AAAAAAAAAAAAAAAAAAAAAAAAAAAAAAAAAAAAAAAAAAAAAAAAAAAAAAAAAAAAAAAAAAAAAAAAAAAAAAAAAAAAAAAAAAAAAAAAAAAAAAAAAAAAAAAAAAAAAAAAAAAAAAAAAAAAAAAAAAAAAAAAAAAAAAAAAAAAAAAAAAAAAAAAAAAAAAAAAAAAAAAAAAAAAAAAAAAAAAAAAAAAAAAAAAAAAAAAAAAAAAAAAAAAAAAAAAAAAAAAAAAAAAAAAAAAAAAAAAAAAAAAAAAAAAAAAAAAAAAAAAAAAAAAAAAAAAAAAAAAAAAAAAAAAAAAAAAAAAAAAAAAAAAAAAAAAAAAAAAAAAAAAAAAAAAAAAAAAAAAAAAAAAAAAAAAAAAAAAAAAAAAAAAAAAAAAAAAAAAAAAAAAAAAAAAAAAAAAAAAAAAAAAAAAAAAAAAAAAAAAAAAAAAAAAAAAAAAAAAAAAAAAAAAAAAAAAAAAAAAAAAAAAAAAAAAAAAAAAAAAAAAAAAAAAAAAAAAAAAAAAAAAAAAAAAAAAAAAAAAAAAAAAAAAAAAAAAAAAAAAAAAAAAAAAAAAAAAAAAAAAAAAAAAAAAAAAAAAAAAAAAAAAAAAAAAAAAAAAAAAAAAAAAAAAAAAAAAAAAAAAAAAAAAAAAAAAAAAAAAAAAAAAAAAAAAAAAAAAAAAAAAAAAAAAAAAAAAAAAAAAAAAAAAAAAAAAAAAAAAAAAAAAAAAAAAAAAAAAAAAAAAAAAAAAAAAAAAAAAAAAAAAAAAAAAAAAAAAAAAAAAAAAAAAAAAAAAAAAAAAAAAAAAAAAAAAAAAAAAAAAAAAAAAAAAAAAAAAAAAAAAAAAAAAAAAAAAAAAAAAAAAAAAAAAAAAAAAAAAAAAAAAAAAAAAAAAAAAAAAAAAAAAAAAAAAAAAAAAAAAAAAAAAAAAAAAAAAAAAAAAAAAAAAAAAAAAAAAAAAAAAAAAAAAAAAAAAAAAAAAAAAAAAAAAAAAAAAAAAAAAAAAAAAAAAAAAAAAAAAAAAAAAAAAAAAAAAAAAAAAAAAAAAAAAAAAAAAAAAAAAAAAAA=",
          "dtype": "f8"
         }
        },
        {
         "mode": "lines",
         "name": "source_city_Kolkata",
         "type": "scatter",
         "x": {
          "bdata": "rIboVEcd+EBLGwFQDVX2QN0ndcaKrvRA3BzN0kEn80CScRy047zxQCBvGVJNbfBApXI+Bght7kDsC3YeZS3sQLw0g9dMGOpAQwZ/Vpoq6EARBss7ZGHmQLLXtz34ueRAKLlWFtcx40BkVVC+sMbhQEK9D+9gduBA+Bb4zdd93kAD4b3V9jzcQJKE5f+3JtpAomXQtPQ32EBIEgb5wW3WQHwlbQVsxdRAX+rcMnI800A4494yg9DRQBTh6495f9BAOIu437COzkDO9U0nkUzMQA55zh8rNcpAMgruc1ZFyEC2rnaLJnrGQKM5EiHm0MRAAteaKxNHw0CUIMYUW9rBQGxDczeXiMBABcahQJOfvkCqJecXNFy8QID/pDumQ7pAmZjrl79SuEAIX+P2kYa2QDQqJpRm3LRAnW7NA7pRs0AhugVnOOSxQBzVbOi5kbBANJTY9X6wrkBd7Eys32usQA900lcpUqpAMPbeJDBgqEAbvRQ/BJOmQKT7KWLt56RAzmqzvmZco0DABJ8sG+6hQNUPoaXhmqBAApqEBHTBnkCNZ0Xpk3ucQL2iwni0YJpAQUrgHqhtmEDWedVnfZ+WQCWioI5685RAOFCNXxlnk0Bc/pRoA/iRQPX22XEOpJBA21TQcXLSjkAlWJnTUIuMQPDI46JHb4pAQP8Jiid7iECCXvJ0/auGQKECDx0O/4RAbG+d6dFxg0ADT+wd8QGCQFAY409ArYBA9xzpQnrjfkC1IxRwFpt8QNaWptrifXpA8cN4aq6IeED1TTpqhLh2QLTz+xCoCnVAEOYnYJB8c0CPSatP5AtyQC6NiUJ3tnBA4Cb/fIv0bkAc1oPD5KpsQK0wfiSGjGpA24xLxDyWaECxRX5LEsVmQPM+8G1IFmVAsp9yxlSHY0C67NkA3RViQP/6m0yzv2BA6oRFJaYFX0DAIrnSu7pcQAsw4IQxm1pAU5Wjm9KjWED4XpEcp9FWQMehdjfvIVVA7lbFHx+SU0AO5IE02x9SQFWU6nD0yFBA+ijyQMoWT0BJZoeim8pMQGylRADlqUpA8mCk9G+xSEA=",
          "dtype": "f8"
         },
         "y": {
          "bdata": "AAAAAAAAAAAAAAAAAAAAAAAAAAAAAAAAAAAAAAAAAAAAAAAAAAAAAAAAAAAAAAAAAAAAAAAAAAAAAAAAAAAAAAAAAAAAAAAAAAAAAAAAAAAAAAAAAAAAAAAAAAAAAAAAAAAAAAAAAAAAAAAAAAAAAAAAAAAAAAAAAAAAAAAAAAAAAAAAAAAAAAAAAAAAAAAAAAAAAAAAAAAAAAAAAAAAAAAAAAAAAAAAAAAAAAAAAAAAAAAAAAAAAAAAAAAAAAAAAAAAAAAAAAAAAAAAAAAAAAAAAAAAAAAAAAAAAAAAAAAAAAAAAAAAAAAAAAAAAAAAAAAAAAAAAAAAAAAAAAAAAAAAAAAAAAAAAAAAAAAAAAAAAAAAAAAAAAAAAAAAAAAAAAAAAAAAAAAAAAAAAAAAAAAAAAAAAAAAAAAAAAAAAAAAAAAAAAAAAAAAAAAAAAAAAAAAAAAAAAAAAAAAAAAAAAAAAAAAAAAAAAAAAAAAAAAAAAAAAAAAAAAAAAAAAAAAAAAAAAAAAAAAAAAAAAAAAAAAAAAAAAAAAAAAAAAAAAAAAAAAAAAAAAAAAAAAAAAAAAAAAAAAAAAAAAAAAAAAAAAAAAAAAAAAAAAAAAAAAAAAAAAAAAAAAAAAAAAAAAAAAAAAAAAAAAAAAAAAAAAAAAAAAAAAAACAAAAAAAAAAIAAAAAAAAAAgAAAAAAAAACAAAAAAAAAAIAAAAAAAAAAgAAAAAAAAACAAAAAAAAAAIAAAAAAAAAAgAAAAAAAAACAAAAAAAAAAIAAAAAAAAAAgAAAAAAAAACAAAAAAAAAAIAAAAAAAAAAgAAAAAAAAACAAAAAAAAAAIAAAAAAAAAAgAAAAAAAAACAAAAAAAAAAIAAAAAAAAAAgAAAAAAAAACAAAAAAAAAAIAAAAAAAAAAgAAAAAAAAACAAAAAAAAAAIAAAAAAAAAAgAAAAAAAAACAAAAAAAAAAIAAAAAAAAAAgNHnUI2WWeC/WpVedO+9UMDyzZWmjBhgwEbNMIDb8WbA28xG0rjsbMDEeebu7kBxwFxUlW1N3nPAqLpc2AtxdsA=",
          "dtype": "f8"
         }
        },
        {
         "mode": "lines",
         "name": "source_city_Mumbai",
         "type": "scatter",
         "x": {
          "bdata": "rIboVEcd+EBLGwFQDVX2QN0ndcaKrvRA3BzN0kEn80CScRy047zxQCBvGVJNbfBApXI+Bght7kDsC3YeZS3sQLw0g9dMGOpAQwZ/Vpoq6EARBss7ZGHmQLLXtz34ueRAKLlWFtcx40BkVVC+sMbhQEK9D+9gduBA+Bb4zdd93kAD4b3V9jzcQJKE5f+3JtpAomXQtPQ32EBIEgb5wW3WQHwlbQVsxdRAX+rcMnI800A4494yg9DRQBTh6495f9BAOIu437COzkDO9U0nkUzMQA55zh8rNcpAMgruc1ZFyEC2rnaLJnrGQKM5EiHm0MRAAteaKxNHw0CUIMYUW9rBQGxDczeXiMBABcahQJOfvkCqJecXNFy8QID/pDumQ7pAmZjrl79SuEAIX+P2kYa2QDQqJpRm3LRAnW7NA7pRs0AhugVnOOSxQBzVbOi5kbBANJTY9X6wrkBd7Eys32usQA900lcpUqpAMPbeJDBgqEAbvRQ/BJOmQKT7KWLt56RAzmqzvmZco0DABJ8sG+6hQNUPoaXhmqBAApqEBHTBnkCNZ0Xpk3ucQL2iwni0YJpAQUrgHqhtmEDWedVnfZ+WQCWioI5685RAOFCNXxlnk0Bc/pRoA/iRQPX22XEOpJBA21TQcXLSjkAlWJnTUIuMQPDI46JHb4pAQP8Jiid7iECCXvJ0/auGQKECDx0O/4RAbG+d6dFxg0ADT+wd8QGCQFAY409ArYBA9xzpQnrjfkC1IxRwFpt8QNaWptrifXpA8cN4aq6IeED1TTpqhLh2QLTz+xCoCnVAEOYnYJB8c0CPSatP5AtyQC6NiUJ3tnBA4Cb/fIv0bkAc1oPD5KpsQK0wfiSGjGpA24xLxDyWaECxRX5LEsVmQPM+8G1IFmVAsp9yxlSHY0C67NkA3RViQP/6m0yzv2BA6oRFJaYFX0DAIrnSu7pcQAsw4IQxm1pAU5Wjm9KjWED4XpEcp9FWQMehdjfvIVVA7lbFHx+SU0AO5IE02x9SQFWU6nD0yFBA+ijyQMoWT0BJZoeim8pMQGylRADlqUpA8mCk9G+xSEA=",
          "dtype": "f8"
         },
         "y": {
          "bdata": "AAAAAAAAAAAAAAAAAAAAAAAAAAAAAAAAAAAAAAAAAAAAAAAAAAAAAAAAAAAAAAAAAAAAAAAAAAAAAAAAAAAAAAAAAAAAAAAAAAAAAAAAAAAAAAAAAAAAAAAAAAAAAAAAAAAAAAAAAAAAAAAAAAAAAAAAAAAAAAAAAAAAAAAAAAAAAAAAAAAAAAAAAAAAAAAAAAAAAAAAAAAAAAAAAAAAAAAAAAAAAAAAAAAAAAAAAAAAAAAAAAAAAAAAAAAAAAAAAAAAAAAAAAAAAAAAAAAAAAAAAAAAAAAAAAAAAAAAAAAAAAAAAAAAAAAAAAAAAAAAAAAAAAAAAAAAAAAAAAAAAAAAAAAAAAAAAAAAAAAAAAAAAAAAAAAAAAAAAAAAAAAAAAAAAAAAAAAAAAAAAAAAAAAAAAAAAAAAAAAAAAAAAAAAAAAAAAAAAAAAAAAAAAAAAAAAAAAAAAAAAAAAAAAAAAAAAAAAAAAAAAAAAAAAAAAAAAAAAAAAAAAAAAAAAAAAAAAAAAAAAAAAAAAAAAAAAAAAAAAAAAAAAAAAAAAAAAAAAAAAAAAAAAAAAAAAAAAAAAAAAAAAAAAAAAAAAAAAAAAAAAAAAAAAAAAAAAAAAAAAAAAAAAAAAAAAAAAAAACAAAAAAAAAAIAAAAAAAAAAgAAAAAAAAACAAAAAAAAAAIAAAAAAAAAAgAAAAAAAAACAAAAAAAAAAIAAAAAAAAAAgAAAAAAAAACAAAAAAAAAAIAAAAAAAAAAgAAAAAAAAACAAAAAAAAAAIAAAAAAAAAAgAAAAAAAAACAAAAAAAAAAIAAAAAAAAAAgAAAAAAAAACAAAAAAAAAAIAAAAAAAAAAgAAAAAAAAACAAAAAAAAAAIAAAAAAAAAAgAAAAAAAAACAAAAAAAAAAIAAAAAAAAAAgAAAAAAAAACAAAAAAAAAAIBMFN5aFJFWwAojAhRbwmbAx55NGnGncMAOoouk6ol1wC/WMLZQEnrA6Tdu3sxzf8BhVbDQVTiCwLwRYKLefITAlmtJgSOLhsDyedxZZW+IwLT+RFcBK4rAvySfH5q2i8A=",
          "dtype": "f8"
         }
        },
        {
         "mode": "lines",
         "name": "departure_time_Early_Morning",
         "type": "scatter",
         "x": {
          "bdata": "rIboVEcd+EBLGwFQDVX2QN0ndcaKrvRA3BzN0kEn80CScRy047zxQCBvGVJNbfBApXI+Bght7kDsC3YeZS3sQLw0g9dMGOpAQwZ/Vpoq6EARBss7ZGHmQLLXtz34ueRAKLlWFtcx40BkVVC+sMbhQEK9D+9gduBA+Bb4zdd93kAD4b3V9jzcQJKE5f+3JtpAomXQtPQ32EBIEgb5wW3WQHwlbQVsxdRAX+rcMnI800A4494yg9DRQBTh6495f9BAOIu437COzkDO9U0nkUzMQA55zh8rNcpAMgruc1ZFyEC2rnaLJnrGQKM5EiHm0MRAAteaKxNHw0CUIMYUW9rBQGxDczeXiMBABcahQJOfvkCqJecXNFy8QID/pDumQ7pAmZjrl79SuEAIX+P2kYa2QDQqJpRm3LRAnW7NA7pRs0AhugVnOOSxQBzVbOi5kbBANJTY9X6wrkBd7Eys32usQA900lcpUqpAMPbeJDBgqEAbvRQ/BJOmQKT7KWLt56RAzmqzvmZco0DABJ8sG+6hQNUPoaXhmqBAApqEBHTBnkCNZ0Xpk3ucQL2iwni0YJpAQUrgHqhtmEDWedVnfZ+WQCWioI5685RAOFCNXxlnk0Bc/pRoA/iRQPX22XEOpJBA21TQcXLSjkAlWJnTUIuMQPDI46JHb4pAQP8Jiid7iECCXvJ0/auGQKECDx0O/4RAbG+d6dFxg0ADT+wd8QGCQFAY409ArYBA9xzpQnrjfkC1IxRwFpt8QNaWptrifXpA8cN4aq6IeED1TTpqhLh2QLTz+xCoCnVAEOYnYJB8c0CPSatP5AtyQC6NiUJ3tnBA4Cb/fIv0bkAc1oPD5KpsQK0wfiSGjGpA24xLxDyWaECxRX5LEsVmQPM+8G1IFmVAsp9yxlSHY0C67NkA3RViQP/6m0yzv2BA6oRFJaYFX0DAIrnSu7pcQAsw4IQxm1pAU5Wjm9KjWED4XpEcp9FWQMehdjfvIVVA7lbFHx+SU0AO5IE02x9SQFWU6nD0yFBA+ijyQMoWT0BJZoeim8pMQGylRADlqUpA8mCk9G+xSEA=",
          "dtype": "f8"
         },
         "y": {
          "bdata": "AAAAAAAAAAAAAAAAAAAAAAAAAAAAAAAAAAAAAAAAAAAAAAAAAAAAAAAAAAAAAAAAAAAAAAAAAAAAAAAAAAAAAAAAAAAAAAAAAAAAAAAAAAAAAAAAAAAAAAAAAAAAAAAAAAAAAAAAAAAAAAAAAAAAAAAAAAAAAAAAAAAAAAAAAAAAAAAAAAAAAAAAAAAAAAAAAAAAAAAAAAAAAAAAAAAAAAAAAAAAAAAAAAAAAAAAAAAAAAAAAAAAAAAAAAAAAAAAAAAAAAAAAAAAAAAAAAAAAAAAAAAAAAAAAAAAAAAAAAAAAAAAAAAAAAAAAAAAAAAAAAAAAAAAAAAAAAAAAAAAAAAAAAAAAAAAAAAAAAAAAAAAAAAAAAAAAAAAAAAAAAAAAAAAAAAAAAAAAAAAAAAAAAAAAAAAAAAAAAAAAAAAAAAAAAAAAAAAAAAAAAAAAAAAAAAAAAAAAAAAAAAAAAAAAAAAAAAAAAAAAAAAAAAAAAAAAAAAAAAAAAAAAAAAAAAAAAAAAAAAAAAAAAAAAAAAAAAAAAAAAAAAAAAAAAAAAAAAAAAAAAAAAAAAAAAAAAAAAAAAAAAAAAAAAAAAAAAAAAAAAAAAAAAAAAAAAAAAAAAAAAAAAAAAAAAAAAAAAAAAAAAAAAAAAAAAAAAAAAAAAAAAAAAAAAAAAAAAAAAAAAAAAAAAAAAAAAAAAAAAAAAAAAAAAAAAAAAAAAAAAAAAAAAAAAAAAAAAAAAAAAAAAAAAAAAAAAAAAAAAAAAAAAAAAAAAAAAAAAAAAAAAAAAAAAAAAAAAAAAAAAAAAAAAAAAAAAAAAAAAAN3aFsriBBxA59JOazxcYUChFKXQ8ppyQI3DYu8U4XtAmo93B4QygkBARnrzlSGGQCzYC4yoyolAtoQMFjNUjUDRThwZRU2QQA7o2Ipk0JFA+3K1CWQ0k0ANPLW0REWUQAceEwkBNJVAMBj3uF0MlkBvwbT+vNSWQHpWOCKzjZdAgYt6cyjtl0CSGpqUS0WYQFysufkjm5hAXWOGYCDumEBEaVe3cDaZQI5Iy+7uzZlAvO3KFesJnUA=",
          "dtype": "f8"
         }
        },
        {
         "mode": "lines",
         "name": "departure_time_Evening",
         "type": "scatter",
         "x": {
          "bdata": "rIboVEcd+EBLGwFQDVX2QN0ndcaKrvRA3BzN0kEn80CScRy047zxQCBvGVJNbfBApXI+Bght7kDsC3YeZS3sQLw0g9dMGOpAQwZ/Vpoq6EARBss7ZGHmQLLXtz34ueRAKLlWFtcx40BkVVC+sMbhQEK9D+9gduBA+Bb4zdd93kAD4b3V9jzcQJKE5f+3JtpAomXQtPQ32EBIEgb5wW3WQHwlbQVsxdRAX+rcMnI800A4494yg9DRQBTh6495f9BAOIu437COzkDO9U0nkUzMQA55zh8rNcpAMgruc1ZFyEC2rnaLJnrGQKM5EiHm0MRAAteaKxNHw0CUIMYUW9rBQGxDczeXiMBABcahQJOfvkCqJecXNFy8QID/pDumQ7pAmZjrl79SuEAIX+P2kYa2QDQqJpRm3LRAnW7NA7pRs0AhugVnOOSxQBzVbOi5kbBANJTY9X6wrkBd7Eys32usQA900lcpUqpAMPbeJDBgqEAbvRQ/BJOmQKT7KWLt56RAzmqzvmZco0DABJ8sG+6hQNUPoaXhmqBAApqEBHTBnkCNZ0Xpk3ucQL2iwni0YJpAQUrgHqhtmEDWedVnfZ+WQCWioI5685RAOFCNXxlnk0Bc/pRoA/iRQPX22XEOpJBA21TQcXLSjkAlWJnTUIuMQPDI46JHb4pAQP8Jiid7iECCXvJ0/auGQKECDx0O/4RAbG+d6dFxg0ADT+wd8QGCQFAY409ArYBA9xzpQnrjfkC1IxRwFpt8QNaWptrifXpA8cN4aq6IeED1TTpqhLh2QLTz+xCoCnVAEOYnYJB8c0CPSatP5AtyQC6NiUJ3tnBA4Cb/fIv0bkAc1oPD5KpsQK0wfiSGjGpA24xLxDyWaECxRX5LEsVmQPM+8G1IFmVAsp9yxlSHY0C67NkA3RViQP/6m0yzv2BA6oRFJaYFX0DAIrnSu7pcQAsw4IQxm1pAU5Wjm9KjWED4XpEcp9FWQMehdjfvIVVA7lbFHx+SU0AO5IE02x9SQFWU6nD0yFBA+ijyQMoWT0BJZoeim8pMQGylRADlqUpA8mCk9G+xSEA=",
          "dtype": "f8"
         },
         "y": {
          "bdata": "AAAAAAAAAAAAAAAAAAAAAAAAAAAAAAAAAAAAAAAAAAAAAAAAAAAAAAAAAAAAAAAAAAAAAAAAAAAAAAAAAAAAAAAAAAAAAAAAAAAAAAAAAAAAAAAAAAAAAAAAAAAAAAAAAAAAAAAAAAAAAAAAAAAAAAAAAAAAAAAAAAAAAAAAAAAAAAAAAAAAAAAAAAAAAAAAAAAAAAAAAAAAAAAAAAAAAAAAAAAAAAAAAAAAAAAAAAAAAAAAAAAAAAAAAAAAAAAAAAAAAAAAAAAAAAAAAAAAAAAAAAAAAAAAAAAAAAAAAAAAAAAAAAAAAAAAAAAAAAAAAAAAAAAAAAAAAAAAAAAAAAAAAAAAAAAAAAAAAAAAAAAAAAAAAAAAAAAAAAAAAAAAAAAAAAAAAAAAAAAAAAAAAAAAAAAAAAAAAAAAAAAAAAAAAAAAAAAAAAAAAAAAAAAAAAAAAAAAAAAAAAAAAAAAAAAAAAAAAAAAAAAAAAAAAAAAAAAAAAAAAAAAAAAAAAAAAAAAAAAAAAAAAAAAAAAAAAAAAAAAAAAAAAAAAAAAAAAAAAAAAAAAAAAAAAAAAAAAAAAAAAAAAAAAAAAAAAAAAAAAAAAAAAAAAAAAAAAAAAAAAAAAAAAAAAAAAAAAAAAAAAAAAAAAAAAAAAAAAAAAAAAAAAAAAAAAAAAAAAAAAAAAAAAAAAAAAAAAAAAAAAAAAAAAAAAAAAAAAAAAAAAAAAAAAAAAAAAAAAAAAAAAAAAAAAAAAAAAAAAAAAAAAAAAAAAAAAAAAAAAAAAAAAAAAAAAAAAAAAAAAAAAAAAAAAAAAAAAAAAAAAAAAAAAAAAAAAAAAAAAAAAAAAAAAAAAAAAAAAAAAAAAAAAAAAAAAAAAAAAAAAAAAAAAAAAAAAAAAAAAAAAAAAAAAAAAAAAAAAAAAAAAAAAAAAAAAAAAAAAAAAAAAAAAAAAAAAAAAAAAAAAAAAAAAAAAAAAAAAAAAAAAAAAAAAAAAAAAAAAAAAAAAAAAAAAAAD2LbgpcuQpALmyIRLhVJEBqDAInxoQwQCZ22dE0czZARtvLskOOPEA=",
          "dtype": "f8"
         }
        },
        {
         "mode": "lines",
         "name": "departure_time_Late_Night",
         "type": "scatter",
         "x": {
          "bdata": "rIboVEcd+EBLGwFQDVX2QN0ndcaKrvRA3BzN0kEn80CScRy047zxQCBvGVJNbfBApXI+Bght7kDsC3YeZS3sQLw0g9dMGOpAQwZ/Vpoq6EARBss7ZGHmQLLXtz34ueRAKLlWFtcx40BkVVC+sMbhQEK9D+9gduBA+Bb4zdd93kAD4b3V9jzcQJKE5f+3JtpAomXQtPQ32EBIEgb5wW3WQHwlbQVsxdRAX+rcMnI800A4494yg9DRQBTh6495f9BAOIu437COzkDO9U0nkUzMQA55zh8rNcpAMgruc1ZFyEC2rnaLJnrGQKM5EiHm0MRAAteaKxNHw0CUIMYUW9rBQGxDczeXiMBABcahQJOfvkCqJecXNFy8QID/pDumQ7pAmZjrl79SuEAIX+P2kYa2QDQqJpRm3LRAnW7NA7pRs0AhugVnOOSxQBzVbOi5kbBANJTY9X6wrkBd7Eys32usQA900lcpUqpAMPbeJDBgqEAbvRQ/BJOmQKT7KWLt56RAzmqzvmZco0DABJ8sG+6hQNUPoaXhmqBAApqEBHTBnkCNZ0Xpk3ucQL2iwni0YJpAQUrgHqhtmEDWedVnfZ+WQCWioI5685RAOFCNXxlnk0Bc/pRoA/iRQPX22XEOpJBA21TQcXLSjkAlWJnTUIuMQPDI46JHb4pAQP8Jiid7iECCXvJ0/auGQKECDx0O/4RAbG+d6dFxg0ADT+wd8QGCQFAY409ArYBA9xzpQnrjfkC1IxRwFpt8QNaWptrifXpA8cN4aq6IeED1TTpqhLh2QLTz+xCoCnVAEOYnYJB8c0CPSatP5AtyQC6NiUJ3tnBA4Cb/fIv0bkAc1oPD5KpsQK0wfiSGjGpA24xLxDyWaECxRX5LEsVmQPM+8G1IFmVAsp9yxlSHY0C67NkA3RViQP/6m0yzv2BA6oRFJaYFX0DAIrnSu7pcQAsw4IQxm1pAU5Wjm9KjWED4XpEcp9FWQMehdjfvIVVA7lbFHx+SU0AO5IE02x9SQFWU6nD0yFBA+ijyQMoWT0BJZoeim8pMQGylRADlqUpA8mCk9G+xSEA=",
          "dtype": "f8"
         },
         "y": {
          "bdata": "AAAAAAAAAAAAAAAAAAAAAAAAAAAAAAAAAAAAAAAAAAAAAAAAAAAAAAAAAAAAAAAAAAAAAAAAAAAAAAAAAAAAAAAAAAAAAAAAAAAAAAAAAAAAAAAAAAAAAAAAAAAAAAAAAAAAAAAAAAAAAAAAAAAAAAAAAAAAAAAAAAAAAAAAAAAAAAAAAAAAAAAAAAAAAAAAAAAAAAAAAAAAAAAAAAAAAAAAAAAAAAAAAAAAAAAAAAAAAAAAAAAAAAAAAAAAAAAAAAAAAAAAAAAAAAAAAAAAAAAAAAAAAAAAAAAAAAAAAAAAAAAAAAAAAAAAAAAAAAAAAAAAAAAAAAAAAAAAAAAAAAAAAAAAAAAAAAAAAAAAAAAAAAAAAAAAAAAAAAAAAAAAAAAAAAAAAAAAAAAAAAAAAAAAAAAAAAAAAAAAAAAAAAAAAAAAAAAAAAAAAAAAAAAAAAAAAAAAAAAAAAAAAAAAAAAAAAAAAAAAAAAAAAAAAAAAAAAAAAAAAAAAAAAAAAAAAAAAAAAAAAAAAAAAAAAAAAAAAAAAAAAAAAAAAAAAAAAAAAAAAAAAAAAAAAAAAAAAAAAAAAAAAAAAAAAAAAAAAAAAAAAAAAAAAAAAAAAAAAAAAAAAAAAAAAAAAAAAAAAAAAAAAAAAAAAAAAAAAAAAAAAAAAAAAAAAAAAAAAAAAAAAAAAAAAAAAAAAAAAAAAAAAAAAAAAAAAAAAAAAAAAAAAAAAAAAAAAAAAAAAAAAAAAAAAAAAAAAAAAAAAAAAAAAAAAAAAAAAAAAAAAAAAAAAAAAAAAAAAAAAAAAAAAAAAAAAAAAAAAAAAAAAAAAAAAAAAAAAAAAAAAAAAAAAAAAAAAAAAAAAAAAAAAAAAAAAAAAAAAAAAAAAAAAAAAAAAAAAAAAAAAAAAAAAAAAAAAAAAAAAAAAAAAAAAAAAAAAAAAAAAAAAAAAAAAAAAAAAAAAAAAAAAAAAAAAAAAAAAAAAAAAAAAAAAAAAAAAAAAAAAAAAAAAAAAAAAAAAAAAAAAAAAAAAAAAAAAAAAAAAAAAAAAAAAAAAAAAAAAAAAAAAAA=",
          "dtype": "f8"
         }
        },
        {
         "mode": "lines",
         "name": "departure_time_Morning",
         "type": "scatter",
         "x": {
          "bdata": "rIboVEcd+EBLGwFQDVX2QN0ndcaKrvRA3BzN0kEn80CScRy047zxQCBvGVJNbfBApXI+Bght7kDsC3YeZS3sQLw0g9dMGOpAQwZ/Vpoq6EARBss7ZGHmQLLXtz34ueRAKLlWFtcx40BkVVC+sMbhQEK9D+9gduBA+Bb4zdd93kAD4b3V9jzcQJKE5f+3JtpAomXQtPQ32EBIEgb5wW3WQHwlbQVsxdRAX+rcMnI800A4494yg9DRQBTh6495f9BAOIu437COzkDO9U0nkUzMQA55zh8rNcpAMgruc1ZFyEC2rnaLJnrGQKM5EiHm0MRAAteaKxNHw0CUIMYUW9rBQGxDczeXiMBABcahQJOfvkCqJecXNFy8QID/pDumQ7pAmZjrl79SuEAIX+P2kYa2QDQqJpRm3LRAnW7NA7pRs0AhugVnOOSxQBzVbOi5kbBANJTY9X6wrkBd7Eys32usQA900lcpUqpAMPbeJDBgqEAbvRQ/BJOmQKT7KWLt56RAzmqzvmZco0DABJ8sG+6hQNUPoaXhmqBAApqEBHTBnkCNZ0Xpk3ucQL2iwni0YJpAQUrgHqhtmEDWedVnfZ+WQCWioI5685RAOFCNXxlnk0Bc/pRoA/iRQPX22XEOpJBA21TQcXLSjkAlWJnTUIuMQPDI46JHb4pAQP8Jiid7iECCXvJ0/auGQKECDx0O/4RAbG+d6dFxg0ADT+wd8QGCQFAY409ArYBA9xzpQnrjfkC1IxRwFpt8QNaWptrifXpA8cN4aq6IeED1TTpqhLh2QLTz+xCoCnVAEOYnYJB8c0CPSatP5AtyQC6NiUJ3tnBA4Cb/fIv0bkAc1oPD5KpsQK0wfiSGjGpA24xLxDyWaECxRX5LEsVmQPM+8G1IFmVAsp9yxlSHY0C67NkA3RViQP/6m0yzv2BA6oRFJaYFX0DAIrnSu7pcQAsw4IQxm1pAU5Wjm9KjWED4XpEcp9FWQMehdjfvIVVA7lbFHx+SU0AO5IE02x9SQFWU6nD0yFBA+ijyQMoWT0BJZoeim8pMQGylRADlqUpA8mCk9G+xSEA=",
          "dtype": "f8"
         },
         "y": {
          "bdata": "AAAAAAAAAAAAAAAAAAAAAAAAAAAAAAAAAAAAAAAAAAAAAAAAAAAAAAAAAAAAAAAAAAAAAAAAAAAAAAAAAAAAAAAAAAAAAAAAAAAAAAAAAAAAAAAAAAAAAAAAAAAAAAAAAAAAAAAAAAAAAAAAAAAAAAAAAAAAAAAAAAAAAAAAAAAAAAAAAAAAAAAAAAAAAAAAAAAAAAAAAAAAAAAAAAAAAAAAAAAAAAAAAAAAAAAAAAAAAAAAAAAAAAAAAAAAAAAAAAAAAAAAAAAAAAAAAAAAAAAAAAAAAAAAAAAAAAAAAAAAAAAAAAAAAAAAAAAAAAAAAAAAAAAAAAAAAAAAAAAAAAAAAAAAAAAAAAAAAAAAAAAAAAAAAAAAAAAAAAAAAAAAAAAAAAAAAAAAAAAAAAAAAAAAAAAAAAAAAAAAAAAAAAAAAAAAAAAAAAAAAAAAAAAAAAAAAAAAAAAAAAAAAAAAAAAAAAAAAAAAAAAAAAAAAAAAAAAAAAAAAAAAAAAAAAAAAAAAAAAAAAAAAAAAAAAAAAAAAAAAAAAAAAAAAAAAAAAAAAAAAAAAAAAAAAAAAAAAAAAAAAAAAAAAAAAAAAAAAAAAAAAAAAAAAAAAAAAAAAAAAAAAAAAAAAAAAAAAAAAAAAAAAAAAAAAAAAAAAAAAAAAAAAAAAAAAAAAAAAAAAAAAAAAAAAAAAAAAAAAAAAAAAAAAAAAAAAAAAAAAAAAAAAAAAAAAAAAAAAAAAAAAAIAAAAAAAAAAgAAAAAAAAACAAAAAAAAAAIAAAAAAAAAAgAAAAAAAAACAAAAAAAAAAIAAAAAAAAAAgAAAAAAAAACAAAAAAAAAAIAAAAAAAAAAgAAAAAAAAACAAAAAAAAAAIAAAAAAAAAAgAAAAAAAAACAAAAAAAAAAIAAAAAAAAAAgAAAAAAAAAAAAAAAAAAAAAAAAAAAAAAAAAAAAAAAAAAAAAAAAAAAAAAAAAAAAAAAAAAAAAAAAAAAAAAAAAAAAAAAAAAAAAAAAAAAAAAAAAAAAAAAAAAAAAAAAAAAAAAAAAAAAAAAAAAAAAAAAAAAAAA=",
          "dtype": "f8"
         }
        },
        {
         "mode": "lines",
         "name": "departure_time_Night",
         "type": "scatter",
         "x": {
          "bdata": "rIboVEcd+EBLGwFQDVX2QN0ndcaKrvRA3BzN0kEn80CScRy047zxQCBvGVJNbfBApXI+Bght7kDsC3YeZS3sQLw0g9dMGOpAQwZ/Vpoq6EARBss7ZGHmQLLXtz34ueRAKLlWFtcx40BkVVC+sMbhQEK9D+9gduBA+Bb4zdd93kAD4b3V9jzcQJKE5f+3JtpAomXQtPQ32EBIEgb5wW3WQHwlbQVsxdRAX+rcMnI800A4494yg9DRQBTh6495f9BAOIu437COzkDO9U0nkUzMQA55zh8rNcpAMgruc1ZFyEC2rnaLJnrGQKM5EiHm0MRAAteaKxNHw0CUIMYUW9rBQGxDczeXiMBABcahQJOfvkCqJecXNFy8QID/pDumQ7pAmZjrl79SuEAIX+P2kYa2QDQqJpRm3LRAnW7NA7pRs0AhugVnOOSxQBzVbOi5kbBANJTY9X6wrkBd7Eys32usQA900lcpUqpAMPbeJDBgqEAbvRQ/BJOmQKT7KWLt56RAzmqzvmZco0DABJ8sG+6hQNUPoaXhmqBAApqEBHTBnkCNZ0Xpk3ucQL2iwni0YJpAQUrgHqhtmEDWedVnfZ+WQCWioI5685RAOFCNXxlnk0Bc/pRoA/iRQPX22XEOpJBA21TQcXLSjkAlWJnTUIuMQPDI46JHb4pAQP8Jiid7iECCXvJ0/auGQKECDx0O/4RAbG+d6dFxg0ADT+wd8QGCQFAY409ArYBA9xzpQnrjfkC1IxRwFpt8QNaWptrifXpA8cN4aq6IeED1TTpqhLh2QLTz+xCoCnVAEOYnYJB8c0CPSatP5AtyQC6NiUJ3tnBA4Cb/fIv0bkAc1oPD5KpsQK0wfiSGjGpA24xLxDyWaECxRX5LEsVmQPM+8G1IFmVAsp9yxlSHY0C67NkA3RViQP/6m0yzv2BA6oRFJaYFX0DAIrnSu7pcQAsw4IQxm1pAU5Wjm9KjWED4XpEcp9FWQMehdjfvIVVA7lbFHx+SU0AO5IE02x9SQFWU6nD0yFBA+ijyQMoWT0BJZoeim8pMQGylRADlqUpA8mCk9G+xSEA=",
          "dtype": "f8"
         },
         "y": {
          "bdata": "AAAAAAAAAAAAAAAAAAAAAAAAAAAAAAAAAAAAAAAAAAAAAAAAAAAAAAAAAAAAAAAAAAAAAAAAAAAAAAAAAAAAAAAAAAAAAAAAAAAAAAAAAAAAAAAAAAAAAAAAAAAAAAAAAAAAAAAAAAAAAAAAAAAAAAAAAAAAAAAAAAAAAAAAAAAAAAAAAAAAAAAAAAAAAAAAAAAAAAAAAAAAAAAAAAAAAAAAAAAAAAAAAAAAAAAAAAAAAAAAAAAAAAAAAAAAAAAAAAAAAAAAAAAAAAAAAAAAAAAAAAAAAAAAAAAAAAAAAAAAAAAAAAAAAAAAAAAAAAAAAAAAAAAAAAAAAAAAAAAAAAAAAAAAAACAAAAAAAAAAIAAAAAAAAAAgAAAAAAAAACAAAAAAAAAAIAAAAAAAAAAgAAAAAAAAACAAAAAAAAAAIAAAAAAAAAAgAAAAAAAAACAAAAAAAAAAIAAAAAAAAAAgAAAAAAAAACAAAAAAAAAAIAAAAAAAAAAgAAAAAAAAACAAAAAAAAAAIAAAAAAAAAAgAAAAAAAAACAAAAAAAAAAIAAAAAAAAAAgAAAAAAAAACAAAAAAAAAAIAAAAAAAAAAgAAAAAAAAACAAAAAAAAAAIAAAAAAAAAAgAAAAAAAAACAAAAAAAAAAIAAAAAAAAAAgAAAAAAAAACAAAAAAAAAAIAAAAAAAAAAgAAAAAAAAACAAAAAAAAAAIAAAAAAAAAAgAAAAAAAAACAAAAAAAAAAIAAAAAAAAAAgAAAAAAAAACAAAAAAAAAAIAAAAAAAAAAgAAAAAAAAACAAAAAAAAAAIAAAAAAAAAAgAAAAAAAAACAAAAAAAAAAIAAAAAAAAAAgAAAAAAAAACAAAAAAAAAAIAAAAAAAAAAgAAAAAAAAACAAAAAAAAAAIAAAAAAAAAAgAAAAAAAAACAAAAAAAAAAAAAAAAAAAAAAAAAAAAAAAAAAAAAAAAAAAAAAAAAAAAAAAAAAAAAAAAAAAAAAAAAAAAAAAAAAAAAAAAAAAAAAAAAAAAAAAAAAAAAAAAAAAAAAAAAAAAAAAAAAAAAAAAAAAA=",
          "dtype": "f8"
         }
        },
        {
         "mode": "lines",
         "name": "stops_two_or_more",
         "type": "scatter",
         "x": {
          "bdata": "rIboVEcd+EBLGwFQDVX2QN0ndcaKrvRA3BzN0kEn80CScRy047zxQCBvGVJNbfBApXI+Bght7kDsC3YeZS3sQLw0g9dMGOpAQwZ/Vpoq6EARBss7ZGHmQLLXtz34ueRAKLlWFtcx40BkVVC+sMbhQEK9D+9gduBA+Bb4zdd93kAD4b3V9jzcQJKE5f+3JtpAomXQtPQ32EBIEgb5wW3WQHwlbQVsxdRAX+rcMnI800A4494yg9DRQBTh6495f9BAOIu437COzkDO9U0nkUzMQA55zh8rNcpAMgruc1ZFyEC2rnaLJnrGQKM5EiHm0MRAAteaKxNHw0CUIMYUW9rBQGxDczeXiMBABcahQJOfvkCqJecXNFy8QID/pDumQ7pAmZjrl79SuEAIX+P2kYa2QDQqJpRm3LRAnW7NA7pRs0AhugVnOOSxQBzVbOi5kbBANJTY9X6wrkBd7Eys32usQA900lcpUqpAMPbeJDBgqEAbvRQ/BJOmQKT7KWLt56RAzmqzvmZco0DABJ8sG+6hQNUPoaXhmqBAApqEBHTBnkCNZ0Xpk3ucQL2iwni0YJpAQUrgHqhtmEDWedVnfZ+WQCWioI5685RAOFCNXxlnk0Bc/pRoA/iRQPX22XEOpJBA21TQcXLSjkAlWJnTUIuMQPDI46JHb4pAQP8Jiid7iECCXvJ0/auGQKECDx0O/4RAbG+d6dFxg0ADT+wd8QGCQFAY409ArYBA9xzpQnrjfkC1IxRwFpt8QNaWptrifXpA8cN4aq6IeED1TTpqhLh2QLTz+xCoCnVAEOYnYJB8c0CPSatP5AtyQC6NiUJ3tnBA4Cb/fIv0bkAc1oPD5KpsQK0wfiSGjGpA24xLxDyWaECxRX5LEsVmQPM+8G1IFmVAsp9yxlSHY0C67NkA3RViQP/6m0yzv2BA6oRFJaYFX0DAIrnSu7pcQAsw4IQxm1pAU5Wjm9KjWED4XpEcp9FWQMehdjfvIVVA7lbFHx+SU0AO5IE02x9SQFWU6nD0yFBA+ijyQMoWT0BJZoeim8pMQGylRADlqUpA8mCk9G+xSEA=",
          "dtype": "f8"
         },
         "y": {
          "bdata": "AAAAAAAAAAAAAAAAAAAAAAAAAAAAAAAAAAAAAAAAAAAAAAAAAAAAAAAAAAAAAAAAAAAAAAAAAAAAAAAAAAAAAAAAAAAAAAAAAAAAAAAAAAAAAAAAAAAAAAAAAAAAAAAAAAAAAAAAAAAAAAAAAAAAAAAAAAAAAAAAAAAAAAAAAAAAAAAAAAAAAAAAAAAAAAAAAAAAAAAAAAAAAAAAAAAAAAAAAAAAAAAAAAAAAAAAAAAAAAAAAAAAAAAAAAAAAAAAAAAAAAAAAAAAAAAAAAAAAAAAAAAAAAAAAAAAAAAAAAAAAAAAAAAAAAAAAAAAAAAAAAAAAAAAAAAAAAAAAAAAAAAAAAAAAAAAAAAAAAAAAAAAAAAAAAAAAAAAAAAAAAAAAAAAAAAAAAAAAAAAAAAAAAAAAAAAAAAAAAAAAAAAAAAAAAAAAAAAAAAAAAAAAAAAAAAAAAAAAAAAAAAAAAAAAAAAAAAAAAAAAAAAAAAAAAAAAAAAAAAAAAAAAAAAAAAAAAAAAAAAAAAAAAAAAAAAAAAAAAAAAAAAAAAAAAAAAAAAAAAAAAAAAAAAAAAAAAAAAAAAAAAAAAAAAAAAAAAAAAAAAAAAAAAAAAAAAAAAAAAAAAAAAAAAAAAAAAAAAAAAAAAAAAAAAAAAAAAAAAAAAAAAAAAAAAAAAAAAAAAAAAAAAAAAAAAAAAAAAAAAAAAAAAAAAAAAAAAAAAAAAAAAAAAAAAAAAAAAAAAAAAAAAAAAAAAAAAAAAAAAAAAAAAAAAAAAAAAAAAAAAAAAAAAAAAAAAAAAAAAAAAAAAAAAAAAAAAAAAAAAAAAAAAAAAAAAAAAAAAAAAAAAAAAAAAAAAAAAAAAAAAAAAAAAAAAAAAAA0dkzqB4iQNJ2yGZKdz1APiYpFIu3RkBmEsbvzCJOQMXsvyoUjlJAJZIWOrHmVUDiMTfP2BpZQDOeO61WultAn5rGk1nzXUCyhwqVJwFgQIKV+bwn9WBAv29xuhXzYUAIEQ+vut5iQKsp7Ea5q2NA/vIItK4eZEBrbXSP62JkQOb07aeIdmRAfXme2XgnZEA=",
          "dtype": "f8"
         }
        },
        {
         "mode": "lines",
         "name": "stops_zero",
         "type": "scatter",
         "x": {
          "bdata": "rIboVEcd+EBLGwFQDVX2QN0ndcaKrvRA3BzN0kEn80CScRy047zxQCBvGVJNbfBApXI+Bght7kDsC3YeZS3sQLw0g9dMGOpAQwZ/Vpoq6EARBss7ZGHmQLLXtz34ueRAKLlWFtcx40BkVVC+sMbhQEK9D+9gduBA+Bb4zdd93kAD4b3V9jzcQJKE5f+3JtpAomXQtPQ32EBIEgb5wW3WQHwlbQVsxdRAX+rcMnI800A4494yg9DRQBTh6495f9BAOIu437COzkDO9U0nkUzMQA55zh8rNcpAMgruc1ZFyEC2rnaLJnrGQKM5EiHm0MRAAteaKxNHw0CUIMYUW9rBQGxDczeXiMBABcahQJOfvkCqJecXNFy8QID/pDumQ7pAmZjrl79SuEAIX+P2kYa2QDQqJpRm3LRAnW7NA7pRs0AhugVnOOSxQBzVbOi5kbBANJTY9X6wrkBd7Eys32usQA900lcpUqpAMPbeJDBgqEAbvRQ/BJOmQKT7KWLt56RAzmqzvmZco0DABJ8sG+6hQNUPoaXhmqBAApqEBHTBnkCNZ0Xpk3ucQL2iwni0YJpAQUrgHqhtmEDWedVnfZ+WQCWioI5685RAOFCNXxlnk0Bc/pRoA/iRQPX22XEOpJBA21TQcXLSjkAlWJnTUIuMQPDI46JHb4pAQP8Jiid7iECCXvJ0/auGQKECDx0O/4RAbG+d6dFxg0ADT+wd8QGCQFAY409ArYBA9xzpQnrjfkC1IxRwFpt8QNaWptrifXpA8cN4aq6IeED1TTpqhLh2QLTz+xCoCnVAEOYnYJB8c0CPSatP5AtyQC6NiUJ3tnBA4Cb/fIv0bkAc1oPD5KpsQK0wfiSGjGpA24xLxDyWaECxRX5LEsVmQPM+8G1IFmVAsp9yxlSHY0C67NkA3RViQP/6m0yzv2BA6oRFJaYFX0DAIrnSu7pcQAsw4IQxm1pAU5Wjm9KjWED4XpEcp9FWQMehdjfvIVVA7lbFHx+SU0AO5IE02x9SQFWU6nD0yFBA+ijyQMoWT0BJZoeim8pMQGylRADlqUpA8mCk9G+xSEA=",
          "dtype": "f8"
         },
         "y": {
          "bdata": "AAAAAAAAAAAAAAAAAAAAAAAAAAAAAAAAAAAAAAAAAAAAAAAAAAAAAAAAAAAAAAAAAAAAAAAAAAAAAAAAAAAAAAAAAAAAAAAAAAAAAAAAAAAAAAAAAAAAAAAAAAAAAAAAAAAAAAAAAAAAAAAAAAAAAAAAAAAAAAAAAAAAAAAAAAAAAAAAAAAAAAAAAAAAAAAAAAAAAAAAAAAAAAAAAAAAAAAAAAAAAAAAAAAAAAAAAAAAAAAAAAAAAAAAAAAAAAAAAAAAAAAAAAAAAAAAAAAAAAAAAAAAAAAAAAAAAAAAAAAAAAAAAAAAAAAAAAAAAAAAAAAAAAAAAAAAAAAAAAAAAAAAAAAAAAAAAAAAAAAAAAAAAAAAAAAAAAAAAAAAAAAAAAAAAAAAAAAAAAAAAAAAAAAAAAAAAAAAAAAAAAAAAAAAAAAAAAAAAAAAAAAAAAAAAAAAAAAAAAAAAAAAAAAAAAAAAAAAAAAAAAAAAAAAAAAAAAAAAAAAAAAAAAAAAAAAAAAAAAAAAAAAAAAAAAAAAAAAAAAAAAAAAAAAAAAAAAAAAAAAAAAAAAAAAAAAAAAAAAAAAAAAAAAAAAAAAAAAAAAAAAAAAAAAAAAAAAAAAAAAAAAAAAAAAAAAAAAAAAAAAAAAAAAAAAAAAAAAAAAAAAAAAAAAAAAAAAAAAAAAAAAAAAAAAAAAgAAAAAAAAACAAAAAAAAAAIAAAAAAAAAAgAAAAAAAAACAAAAAAAAAAIAAAAAAAAAAgAAAAAAAAACAAAAAAAAAAIAAAAAAAAAAgAAAAAAAAACAAAAAAAAAAIAAAAAAAAAAgAAAAAAAAACAAAAAAAAAAIAAAAAAAAAAgAAAAAAAAACAAAAAAAAAAIAAAAAAAAAAgAAAAAAAAACAAAAAAAAAAIAAAAAAAAAAgAAAAAAAAACAAAAAAAAAAIAAAAAAAAAAgAAAAAAAAACAAAAAAAAAAIAAAAAAAAAAgAAAAAAAAACAAAAAAAAAAIAAAAAAAAAAgAAAAAAAAACAAAAAAAAAAIAAAAAAAAAAgAIxriO/dRzAkHXXqkhZPMA=",
          "dtype": "f8"
         }
        },
        {
         "mode": "lines",
         "name": "arrival_time_Early_Morning",
         "type": "scatter",
         "x": {
          "bdata": "rIboVEcd+EBLGwFQDVX2QN0ndcaKrvRA3BzN0kEn80CScRy047zxQCBvGVJNbfBApXI+Bght7kDsC3YeZS3sQLw0g9dMGOpAQwZ/Vpoq6EARBss7ZGHmQLLXtz34ueRAKLlWFtcx40BkVVC+sMbhQEK9D+9gduBA+Bb4zdd93kAD4b3V9jzcQJKE5f+3JtpAomXQtPQ32EBIEgb5wW3WQHwlbQVsxdRAX+rcMnI800A4494yg9DRQBTh6495f9BAOIu437COzkDO9U0nkUzMQA55zh8rNcpAMgruc1ZFyEC2rnaLJnrGQKM5EiHm0MRAAteaKxNHw0CUIMYUW9rBQGxDczeXiMBABcahQJOfvkCqJecXNFy8QID/pDumQ7pAmZjrl79SuEAIX+P2kYa2QDQqJpRm3LRAnW7NA7pRs0AhugVnOOSxQBzVbOi5kbBANJTY9X6wrkBd7Eys32usQA900lcpUqpAMPbeJDBgqEAbvRQ/BJOmQKT7KWLt56RAzmqzvmZco0DABJ8sG+6hQNUPoaXhmqBAApqEBHTBnkCNZ0Xpk3ucQL2iwni0YJpAQUrgHqhtmEDWedVnfZ+WQCWioI5685RAOFCNXxlnk0Bc/pRoA/iRQPX22XEOpJBA21TQcXLSjkAlWJnTUIuMQPDI46JHb4pAQP8Jiid7iECCXvJ0/auGQKECDx0O/4RAbG+d6dFxg0ADT+wd8QGCQFAY409ArYBA9xzpQnrjfkC1IxRwFpt8QNaWptrifXpA8cN4aq6IeED1TTpqhLh2QLTz+xCoCnVAEOYnYJB8c0CPSatP5AtyQC6NiUJ3tnBA4Cb/fIv0bkAc1oPD5KpsQK0wfiSGjGpA24xLxDyWaECxRX5LEsVmQPM+8G1IFmVAsp9yxlSHY0C67NkA3RViQP/6m0yzv2BA6oRFJaYFX0DAIrnSu7pcQAsw4IQxm1pAU5Wjm9KjWED4XpEcp9FWQMehdjfvIVVA7lbFHx+SU0AO5IE02x9SQFWU6nD0yFBA+ijyQMoWT0BJZoeim8pMQGylRADlqUpA8mCk9G+xSEA=",
          "dtype": "f8"
         },
         "y": {
          "bdata": "AAAAAAAAAAAAAAAAAAAAAAAAAAAAAAAAAAAAAAAAAAAAAAAAAAAAAAAAAAAAAAAAAAAAAAAAAAAAAAAAAAAAAAAAAAAAAAAAAAAAAAAAAAAAAAAAAAAAAAAAAAAAAAAAAAAAAAAAAAAAAAAAAAAAAAAAAAAAAAAAAAAAAAAAAAAAAAAAAAAAAAAAAAAAAAAAAAAAAAAAAAAAAAAAAAAAAAAAAAAAAAAAAAAAAAAAAAAAAAAAAAAAAAAAAAAAAAAAAAAAAAAAAAAAAAAAAAAAAAAAAAAAAAAAAAAAAAAAAAAAAAAAAAAAAAAAAAAAAAAAAAAAAAAAAAAAAAAAAAAAAAAAAAAAAAAAAAAAAAAAAAAAAAAAAAAAAAAAAAAAAAAAAAAAAAAAAAAAAAAAAAAAAAAAAAAAAAAAAAAAAAAAAAAAAAAAAAAAAAAAAAAAAAAAAAAAAAAAAAAAAAAAAAAAAAAAAAAAAAAAAAAAAAAAAAAAAAAAAAAAAAAAAAAAAAAAAAAAAAAAAAAAAAAAAAAAAAAAAAAAAAAAAAAAAAAAAAAAAAAAAAAAAAAAAAAAAAAAAAAAAAAAAAAAAAAAAAAAAAAAAAAAAAAAAAAAAAAAAAAAAAAAAAAAAAAAAAAAAAAAAAAAAAAAAAAAAAAAAAAAAAAAAAAAAAAAAAAAAAAAAAAAAAAAAAAAAAAAAAAAAAAAAAAAAAAAAAAAAAAAAAAAAAAAAAAAAAAAAAAAAAAAAAAAAAAAAAAAAAAAAAAAAAAAAAAAAAAAAAAAAAAAAAAAAAAAAAAAAAAAAAAAAAAAAAAAAAAAAAAAAAAAAAAAAAAAAAAAAAAAAAAAAAAAAAAAAAAAAAAAAAAAAAAAAAAAAAAAAAAAAAAAAAAAAAAAAAAAAAAAAAAAAAAAAAAAAAAAAAAAAAAAAAAAAAAAAAAAAAAAAAAAAAAAALfcdSTY3l1ABXIHEOm6ckAAlqMDCCl9QA/rmuQTaYNAMDB2Qxa2h0BT5FSeq7CLQL1AM4Q5XI9A+BXPdSNmkUDoZiBh/wyTQPModVQ5kpRAUiEt6G72lUA=",
          "dtype": "f8"
         }
        },
        {
         "mode": "lines",
         "name": "arrival_time_Evening",
         "type": "scatter",
         "x": {
          "bdata": "rIboVEcd+EBLGwFQDVX2QN0ndcaKrvRA3BzN0kEn80CScRy047zxQCBvGVJNbfBApXI+Bght7kDsC3YeZS3sQLw0g9dMGOpAQwZ/Vpoq6EARBss7ZGHmQLLXtz34ueRAKLlWFtcx40BkVVC+sMbhQEK9D+9gduBA+Bb4zdd93kAD4b3V9jzcQJKE5f+3JtpAomXQtPQ32EBIEgb5wW3WQHwlbQVsxdRAX+rcMnI800A4494yg9DRQBTh6495f9BAOIu437COzkDO9U0nkUzMQA55zh8rNcpAMgruc1ZFyEC2rnaLJnrGQKM5EiHm0MRAAteaKxNHw0CUIMYUW9rBQGxDczeXiMBABcahQJOfvkCqJecXNFy8QID/pDumQ7pAmZjrl79SuEAIX+P2kYa2QDQqJpRm3LRAnW7NA7pRs0AhugVnOOSxQBzVbOi5kbBANJTY9X6wrkBd7Eys32usQA900lcpUqpAMPbeJDBgqEAbvRQ/BJOmQKT7KWLt56RAzmqzvmZco0DABJ8sG+6hQNUPoaXhmqBAApqEBHTBnkCNZ0Xpk3ucQL2iwni0YJpAQUrgHqhtmEDWedVnfZ+WQCWioI5685RAOFCNXxlnk0Bc/pRoA/iRQPX22XEOpJBA21TQcXLSjkAlWJnTUIuMQPDI46JHb4pAQP8Jiid7iECCXvJ0/auGQKECDx0O/4RAbG+d6dFxg0ADT+wd8QGCQFAY409ArYBA9xzpQnrjfkC1IxRwFpt8QNaWptrifXpA8cN4aq6IeED1TTpqhLh2QLTz+xCoCnVAEOYnYJB8c0CPSatP5AtyQC6NiUJ3tnBA4Cb/fIv0bkAc1oPD5KpsQK0wfiSGjGpA24xLxDyWaECxRX5LEsVmQPM+8G1IFmVAsp9yxlSHY0C67NkA3RViQP/6m0yzv2BA6oRFJaYFX0DAIrnSu7pcQAsw4IQxm1pAU5Wjm9KjWED4XpEcp9FWQMehdjfvIVVA7lbFHx+SU0AO5IE02x9SQFWU6nD0yFBA+ijyQMoWT0BJZoeim8pMQGylRADlqUpA8mCk9G+xSEA=",
          "dtype": "f8"
         },
         "y": {
          "bdata": "AAAAAAAAAAAAAAAAAAAAAAAAAAAAAAAAAAAAAAAAAAAAAAAAAAAAAAAAAAAAAAAAAAAAAAAAAAAAAAAAAAAAAAAAAAAAAAAAAAAAAAAAAAAAAAAAAAAAAAAAAAAAAAAAAAAAAAAAAAAAAAAAAAAAAAAAAAAAAAAAAAAAAAAAAAAAAAAAAAAAAAAAAAAAAAAAAAAAAAAAAAAAAAAAAAAAAAAAAAAAAAAAAAAAAAAAAAAAAAAAAAAAAAAAAAAAAAAAAAAAAAAAAAAAAAAAAAAAAAAAAAAAAAAAAAAAAAAAAAAAAAAAAAAAAAAAAAAAAACAAAAAAAAAAIAAAAAAAAAAgAAAAAAAAACAAAAAAAAAAIAAAAAAAAAAgAAAAAAAAACAAAAAAAAAAIAAAAAAAAAAgAAAAAAAAACAAAAAAAAAAIAAAAAAAAAAgAAAAAAAAACAAAAAAAAAAIAAAAAAAAAAgAAAAAAAAACAAAAAAAAAAIAAAAAAAAAAgAAAAAAAAACAAAAAAAAAAIAAAAAAAAAAgAAAAAAAAACAAAAAAAAAAIAAAAAAAAAAgAAAAAAAAACAAAAAAAAAAIAAAAAAAAAAgAAAAAAAAACAAAAAAAAAAIAAAAAAAAAAgAAAAAAAAACAAAAAAAAAAIAAAAAAAAAAgAAAAAAAAACAAAAAAAAAAIAAAAAAAAAAgAAAAAAAAACAAAAAAAAAAIAAAAAAAAAAgAAAAAAAAACAAAAAAAAAAIAAAAAAAAAAgAAAAAAAAACAAAAAAAAAAIAAAAAAAAAAgAAAAAAAAACAVYURyApEgsAJzvN6OGqJwLO1uGzdz47Awf4NbZUrksC9r9D1yqeUwK7OegZ+8pbAvcZY882XmMAaqRok3BmawArVnAOTjZvAHOE8fo5HncC4mi/qzwmfwJeahIpxWqDAfwEEj6UbocDB7sPN/eqhwPUeMfFPrqLA3a+v2Gpjo8AqK99bIwukwMsj1zVNpqTAk9p511YPpcCbbwBTOXClwNNLAqURxaXA0lxUrVwKpsAXA3FyxEemwCf8dxl4eKbAp2wexiB/psA=",
          "dtype": "f8"
         }
        },
        {
         "mode": "lines",
         "name": "arrival_time_Late_Night",
         "type": "scatter",
         "x": {
          "bdata": "rIboVEcd+EBLGwFQDVX2QN0ndcaKrvRA3BzN0kEn80CScRy047zxQCBvGVJNbfBApXI+Bght7kDsC3YeZS3sQLw0g9dMGOpAQwZ/Vpoq6EARBss7ZGHmQLLXtz34ueRAKLlWFtcx40BkVVC+sMbhQEK9D+9gduBA+Bb4zdd93kAD4b3V9jzcQJKE5f+3JtpAomXQtPQ32EBIEgb5wW3WQHwlbQVsxdRAX+rcMnI800A4494yg9DRQBTh6495f9BAOIu437COzkDO9U0nkUzMQA55zh8rNcpAMgruc1ZFyEC2rnaLJnrGQKM5EiHm0MRAAteaKxNHw0CUIMYUW9rBQGxDczeXiMBABcahQJOfvkCqJecXNFy8QID/pDumQ7pAmZjrl79SuEAIX+P2kYa2QDQqJpRm3LRAnW7NA7pRs0AhugVnOOSxQBzVbOi5kbBANJTY9X6wrkBd7Eys32usQA900lcpUqpAMPbeJDBgqEAbvRQ/BJOmQKT7KWLt56RAzmqzvmZco0DABJ8sG+6hQNUPoaXhmqBAApqEBHTBnkCNZ0Xpk3ucQL2iwni0YJpAQUrgHqhtmEDWedVnfZ+WQCWioI5685RAOFCNXxlnk0Bc/pRoA/iRQPX22XEOpJBA21TQcXLSjkAlWJnTUIuMQPDI46JHb4pAQP8Jiid7iECCXvJ0/auGQKECDx0O/4RAbG+d6dFxg0ADT+wd8QGCQFAY409ArYBA9xzpQnrjfkC1IxRwFpt8QNaWptrifXpA8cN4aq6IeED1TTpqhLh2QLTz+xCoCnVAEOYnYJB8c0CPSatP5AtyQC6NiUJ3tnBA4Cb/fIv0bkAc1oPD5KpsQK0wfiSGjGpA24xLxDyWaECxRX5LEsVmQPM+8G1IFmVAsp9yxlSHY0C67NkA3RViQP/6m0yzv2BA6oRFJaYFX0DAIrnSu7pcQAsw4IQxm1pAU5Wjm9KjWED4XpEcp9FWQMehdjfvIVVA7lbFHx+SU0AO5IE02x9SQFWU6nD0yFBA+ijyQMoWT0BJZoeim8pMQGylRADlqUpA8mCk9G+xSEA=",
          "dtype": "f8"
         },
         "y": {
          "bdata": "AAAAAAAAAAAAAAAAAAAAAAAAAAAAAAAAAAAAAAAAAAAAAAAAAAAAAAAAAAAAAAAAAAAAAAAAAAAAAAAAAAAAAAAAAAAAAAAAAAAAAAAAAAAAAAAAAAAAAAAAAAAAAAAAAAAAAAAAAAAAAAAAAAAAAAAAAAAAAAAAAAAAAAAAAAAAAAAAAAAAAAAAAAAAAAAAAAAAAAAAAAAAAAAAAAAAAAAAAAAAAAAAAAAAAAAAAAAAAAAAAAAAAAAAAAAAAAAAAAAAAAAAAAAAAAAAAAAAAAAAAAAAAAAAAAAAAAAAAAAAAAAAAAAAAAAAAAAAAAAAAAAAAAAAAAAAAAAAAAAAAAAAAAAAAAAAAAAAAAAAAAAAAAAAAAAAAAAAAAAAAAAAAAAAAAAAAAAAAAAAAAAAAAAAAAAAAAAAAAAAAAAAAAAAAAAAAAAAAAAAAAAAAAAAAAAAAAAAAAAAAAAAAAAAAAAAAAAAAAAAAAAAAAAAAIAAAAAAAAAAgAAAAAAAAACAAAAAAAAAAIAAAAAAAAAAgAAAAAAAAACAAAAAAAAAAIAAAAAAAAAAgAAAAAAAAACAAAAAAAAAAIAAAAAAAAAAgAAAAAAAAACAAAAAAAAAAIAAAAAAAAAAgAAAAAAAAACAAAAAAAAAAIAAAAAAAAAAgAAAAAAAAACAAAAAAAAAAIAAAAAAAAAAgAAAAAAAAACAAAAAAAAAAIAAAAAAAAAAgAAAAAAAAACAAAAAAAAAAIAAAAAAAAAAgAAAAAAAAACAAAAAAAAAAIAAAAAAAAAAgAAAAAAAAACAAAAAAAAAAIAAAAAAAAAAgAAAAAAAAACAAAAAAAAAAIAAAAAAAAAAgAAAAAAAAACAAAAAAAAAAIAAAAAAAAAAgAAAAAAAAACAAAAAAAAAAIAAAAAAAAAAgAAAAAAAAACAAAAAAAAAAIAAAAAAAAAAgAAAAAAAAACAAAAAAAAAAIAAAAAAAAAAgAAAAAAAAACAAAAAAAAAAIAAAAAAAAAAgGJTKDF9q0HAJynK6/QKYMD9gnJC6VFqwIBh7EBK5XHAHMtzLDgfdsA=",
          "dtype": "f8"
         }
        },
        {
         "mode": "lines",
         "name": "arrival_time_Morning",
         "type": "scatter",
         "x": {
          "bdata": "rIboVEcd+EBLGwFQDVX2QN0ndcaKrvRA3BzN0kEn80CScRy047zxQCBvGVJNbfBApXI+Bght7kDsC3YeZS3sQLw0g9dMGOpAQwZ/Vpoq6EARBss7ZGHmQLLXtz34ueRAKLlWFtcx40BkVVC+sMbhQEK9D+9gduBA+Bb4zdd93kAD4b3V9jzcQJKE5f+3JtpAomXQtPQ32EBIEgb5wW3WQHwlbQVsxdRAX+rcMnI800A4494yg9DRQBTh6495f9BAOIu437COzkDO9U0nkUzMQA55zh8rNcpAMgruc1ZFyEC2rnaLJnrGQKM5EiHm0MRAAteaKxNHw0CUIMYUW9rBQGxDczeXiMBABcahQJOfvkCqJecXNFy8QID/pDumQ7pAmZjrl79SuEAIX+P2kYa2QDQqJpRm3LRAnW7NA7pRs0AhugVnOOSxQBzVbOi5kbBANJTY9X6wrkBd7Eys32usQA900lcpUqpAMPbeJDBgqEAbvRQ/BJOmQKT7KWLt56RAzmqzvmZco0DABJ8sG+6hQNUPoaXhmqBAApqEBHTBnkCNZ0Xpk3ucQL2iwni0YJpAQUrgHqhtmEDWedVnfZ+WQCWioI5685RAOFCNXxlnk0Bc/pRoA/iRQPX22XEOpJBA21TQcXLSjkAlWJnTUIuMQPDI46JHb4pAQP8Jiid7iECCXvJ0/auGQKECDx0O/4RAbG+d6dFxg0ADT+wd8QGCQFAY409ArYBA9xzpQnrjfkC1IxRwFpt8QNaWptrifXpA8cN4aq6IeED1TTpqhLh2QLTz+xCoCnVAEOYnYJB8c0CPSatP5AtyQC6NiUJ3tnBA4Cb/fIv0bkAc1oPD5KpsQK0wfiSGjGpA24xLxDyWaECxRX5LEsVmQPM+8G1IFmVAsp9yxlSHY0C67NkA3RViQP/6m0yzv2BA6oRFJaYFX0DAIrnSu7pcQAsw4IQxm1pAU5Wjm9KjWED4XpEcp9FWQMehdjfvIVVA7lbFHx+SU0AO5IE02x9SQFWU6nD0yFBA+ijyQMoWT0BJZoeim8pMQGylRADlqUpA8mCk9G+xSEA=",
          "dtype": "f8"
         },
         "y": {
          "bdata": "AAAAAAAAAAAAAAAAAAAAAAAAAAAAAAAAAAAAAAAAAAAAAAAAAAAAAAAAAAAAAAAAAAAAAAAAAAAAAAAAAAAAAAAAAAAAAAAAAAAAAAAAAAAAAAAAAAAAAAAAAAAAAAAAAAAAAAAAAAAAAAAAAAAAAAAAAAAAAAAAAAAAAAAAAAAAAAAAAAAAAAAAAAAAAAAAAAAAAAAAAAAAAAAAAAAAAAAAAAAAAAAAAAAAAAAAAAAAAAAAAAAAAAAAAAAAAAAAAAAAAAAAAAAAAAAAAAAAAAAAAAAAAAAAAAAAAAAAAAAAAAAAAAAAAAAAAAAAAAAAAAAAAAAAAAAAAAAAAAAAAAAAAAAAAAAAAAAAAAAAAAAAAAAAAAAAAAAAAAAAAAAAAAAAAAAAAAAAAAAAAAAAAAAAAAAAAAAAAAAAAAAAAAAAAAAAAAAAAAAAAAAAAAAAAAAAAAAAAAAAAAAAAAAAAAAAAAAAAAAAAAAAAAAAAAAAAAAAAAAAAAAAAAAAAAAAAAAAAAAAAAAAAAAAAAAAAAAAAAAAAAAAAAAAAAAAAAAAAAAAAAAAAAAAAAAAAAAAAAAAAAAAAAAAAAAAAAAAAAAAAAAAAAAAAAAAAAAAAAAAAAAAAAAAAAAAAAAAAAAAAAAAAAAAAAAAAAAAAAAAAAAAAAAAAAAAAAAAAAAAAAAAAAAAAAAAAAAAAAAAAAAAAAAAAAAAAAAAAAAAAAAAAAAAAAAAAAAAAAAAAAAAAAAAAAAAAAAAAAAAAAAAAAAAAAAAAAAAAAAAAAAAAAAAAAAAAAAAAAAAAAAAAAAAAAAAAAAAAAAAAAAAAAAAAAAAAAAAAAAAAAAAAAAAAAAAAOj6FVlRQAFA00YjX0m/VEAzaDlntJdjQAqmshhr42tAsXIIvAKqcUDma7bloBl1QCypK22xSXhA7CEsRexCe0BDD7c0Sfd9QGGGmPn9MIBA8g/dEk9JgUAhzpfI6EyCQNBZrRE8PYNAceZ5YIsLhEDc8RmmesqEQH29WamzW4VADF2y/RCxhUDaFQ85nvSFQEhdcOfaMIZAJqNMaGVthkA=",
          "dtype": "f8"
         }
        },
        {
         "mode": "lines",
         "name": "arrival_time_Night",
         "type": "scatter",
         "x": {
          "bdata": "rIboVEcd+EBLGwFQDVX2QN0ndcaKrvRA3BzN0kEn80CScRy047zxQCBvGVJNbfBApXI+Bght7kDsC3YeZS3sQLw0g9dMGOpAQwZ/Vpoq6EARBss7ZGHmQLLXtz34ueRAKLlWFtcx40BkVVC+sMbhQEK9D+9gduBA+Bb4zdd93kAD4b3V9jzcQJKE5f+3JtpAomXQtPQ32EBIEgb5wW3WQHwlbQVsxdRAX+rcMnI800A4494yg9DRQBTh6495f9BAOIu437COzkDO9U0nkUzMQA55zh8rNcpAMgruc1ZFyEC2rnaLJnrGQKM5EiHm0MRAAteaKxNHw0CUIMYUW9rBQGxDczeXiMBABcahQJOfvkCqJecXNFy8QID/pDumQ7pAmZjrl79SuEAIX+P2kYa2QDQqJpRm3LRAnW7NA7pRs0AhugVnOOSxQBzVbOi5kbBANJTY9X6wrkBd7Eys32usQA900lcpUqpAMPbeJDBgqEAbvRQ/BJOmQKT7KWLt56RAzmqzvmZco0DABJ8sG+6hQNUPoaXhmqBAApqEBHTBnkCNZ0Xpk3ucQL2iwni0YJpAQUrgHqhtmEDWedVnfZ+WQCWioI5685RAOFCNXxlnk0Bc/pRoA/iRQPX22XEOpJBA21TQcXLSjkAlWJnTUIuMQPDI46JHb4pAQP8Jiid7iECCXvJ0/auGQKECDx0O/4RAbG+d6dFxg0ADT+wd8QGCQFAY409ArYBA9xzpQnrjfkC1IxRwFpt8QNaWptrifXpA8cN4aq6IeED1TTpqhLh2QLTz+xCoCnVAEOYnYJB8c0CPSatP5AtyQC6NiUJ3tnBA4Cb/fIv0bkAc1oPD5KpsQK0wfiSGjGpA24xLxDyWaECxRX5LEsVmQPM+8G1IFmVAsp9yxlSHY0C67NkA3RViQP/6m0yzv2BA6oRFJaYFX0DAIrnSu7pcQAsw4IQxm1pAU5Wjm9KjWED4XpEcp9FWQMehdjfvIVVA7lbFHx+SU0AO5IE02x9SQFWU6nD0yFBA+ijyQMoWT0BJZoeim8pMQGylRADlqUpA8mCk9G+xSEA=",
          "dtype": "f8"
         },
         "y": {
          "bdata": "AAAAAAAAAAAAAAAAAAAAAAAAAAAAAAAAAAAAAAAAAAAAAAAAAAAAAAAAAAAAAAAAAAAAAAAAAAAAAAAAAAAAAAAAAAAAAAAAAAAAAAAAAAAAAAAAAAAAAAAAAAAAAAAAAAAAAAAAAAAAAAAAAAAAAAAAAAAAAAAAAAAAAAAAAAAAAAAAAAAAAAAAAAAAAAAAAAAAAAAAAAAAAAAAAAAAAAAAAAAAAAAAAAAAAAAAAAAAAAAAAAAAAAAAAAAAAAAAAAAAAAAAAAAAAAAAAAAAAAAAAAAAAAAAAAAAAAAAAAAAAAAAAAAAAAAAAAAAAAAAAAAAAAAAAAAAAAAAAAAAAAAAAAAAAAAAAAAAAAAAAAAAAAAAAAAAAAAAAAAAAACAAAAAAAAAAIAAAAAAAAAAgAAAAAAAAACAAAAAAAAAAIAAAAAAAAAAgAAAAAAAAACAAAAAAAAAAIAAAAAAAAAAgAAAAAAAAACAAAAAAAAAAIAAAAAAAAAAgAAAAAAAAACAAAAAAAAAAIAAAAAAAAAAgAAAAAAAAACAAAAAAAAAAIAAAAAAAAAAgAAAAAAAAACAAAAAAAAAAIAAAAAAAAAAgAAAAAAAAACAAAAAAAAAAIAAAAAAAAAAgAAAAAAAAACAAAAAAAAAAIAAAAAAAAAAgAAAAAAAAACAAAAAAAAAAIAAAAAAAAAAgAAAAAAAAACAAAAAAAAAAIAAAAAAAAAAgAAAAAAAAACAAAAAAAAAAIAAAAAAAAAAgAAAAAAAAACAAAAAAAAAAIAAAAAAAAAAgAAAAAAAAACAAAAAAAAAAIAAAAAAAAAAgAAAAAAAAACAAAAAAAAAAIAAAAAAAAAAgAAAAAAAAACAAAAAAAAAAIAAAAAAAAAAgAAAAAAAAACAAAAAAAAAAIAAAAAAAAAAAAAAAAAAAAAAAAAAAAAAAAAAAAAAAAAAAAAAAAAAAAAAAAAAAAAAAAAAAAAAAAAAAAAAAAAAAAAAAAAAAAAAAAAAAAAAAAAAAAAAAAAAAAAAAAAAAAAAAAAAAAAAAAAAAAAAAAAAAAAAAAAAAAAAAAA=",
          "dtype": "f8"
         }
        },
        {
         "mode": "lines",
         "name": "destination_city_Chennai",
         "type": "scatter",
         "x": {
          "bdata": "rIboVEcd+EBLGwFQDVX2QN0ndcaKrvRA3BzN0kEn80CScRy047zxQCBvGVJNbfBApXI+Bght7kDsC3YeZS3sQLw0g9dMGOpAQwZ/Vpoq6EARBss7ZGHmQLLXtz34ueRAKLlWFtcx40BkVVC+sMbhQEK9D+9gduBA+Bb4zdd93kAD4b3V9jzcQJKE5f+3JtpAomXQtPQ32EBIEgb5wW3WQHwlbQVsxdRAX+rcMnI800A4494yg9DRQBTh6495f9BAOIu437COzkDO9U0nkUzMQA55zh8rNcpAMgruc1ZFyEC2rnaLJnrGQKM5EiHm0MRAAteaKxNHw0CUIMYUW9rBQGxDczeXiMBABcahQJOfvkCqJecXNFy8QID/pDumQ7pAmZjrl79SuEAIX+P2kYa2QDQqJpRm3LRAnW7NA7pRs0AhugVnOOSxQBzVbOi5kbBANJTY9X6wrkBd7Eys32usQA900lcpUqpAMPbeJDBgqEAbvRQ/BJOmQKT7KWLt56RAzmqzvmZco0DABJ8sG+6hQNUPoaXhmqBAApqEBHTBnkCNZ0Xpk3ucQL2iwni0YJpAQUrgHqhtmEDWedVnfZ+WQCWioI5685RAOFCNXxlnk0Bc/pRoA/iRQPX22XEOpJBA21TQcXLSjkAlWJnTUIuMQPDI46JHb4pAQP8Jiid7iECCXvJ0/auGQKECDx0O/4RAbG+d6dFxg0ADT+wd8QGCQFAY409ArYBA9xzpQnrjfkC1IxRwFpt8QNaWptrifXpA8cN4aq6IeED1TTpqhLh2QLTz+xCoCnVAEOYnYJB8c0CPSatP5AtyQC6NiUJ3tnBA4Cb/fIv0bkAc1oPD5KpsQK0wfiSGjGpA24xLxDyWaECxRX5LEsVmQPM+8G1IFmVAsp9yxlSHY0C67NkA3RViQP/6m0yzv2BA6oRFJaYFX0DAIrnSu7pcQAsw4IQxm1pAU5Wjm9KjWED4XpEcp9FWQMehdjfvIVVA7lbFHx+SU0AO5IE02x9SQFWU6nD0yFBA+ijyQMoWT0BJZoeim8pMQGylRADlqUpA8mCk9G+xSEA=",
          "dtype": "f8"
         },
         "y": {
          "bdata": "AAAAAAAAAAAAAAAAAAAAAAAAAAAAAAAAAAAAAAAAAAAAAAAAAAAAAAAAAAAAAAAAAAAAAAAAAAAAAAAAAAAAAAAAAAAAAAAAAAAAAAAAAAAAAAAAAAAAAAAAAAAAAAAAAAAAAAAAAAAAAAAAAAAAAAAAAAAAAAAAAAAAAAAAAAAAAAAAAAAAAAAAAAAAAAAAAAAAAAAAAAAAAAAAAAAAAAAAAAAAAAAAAAAAAAAAAAAAAAAAAAAAAAAAAAAAAAAAAAAAAAAAAAAAAAAAAAAAAAAAAAAAAAAAAAAAAAAAAAAAAAAAAAAAAAAAAAAAAAAAAAAAAAAAAAAAAAAAAAAAAAAAAAAAAAAAAAAAAAAAAAAAAAAAAAAAAAAAAAAAAAAAAAAAAAAAAAAAAAAAAAAAAAAAAAAAAAAAAAAAAAAAAAAAAAAAAAAAAAAAAAAAAAAAAAAAAAAAAAAAAAAAAAAAAAAAAAAAAAAAAAAAAAAAAAAAAAAAAAAAAAAAAAAAAAAAAAAAAAAAAAAAAAAAAAAAAAAAAAAAAAAAAAAAAAAAAAAAAAAAAAAAAAAAAAAAAAAAAAAAAAAAAAAAAAAAAAAAAAAAAAAAAAAAAAAAAAAAAAAAAAAAAAAAAAAAAAAAAAAAAAAAAAAAAAAAAAAAAAAAAAAAAAAAAAAAAAAAAAAAAAAAAAAAAAAAAAAAAAAAAAAAAAAAAAAAAAAAAAAAAAAAAAAAAAAAAACAAAAAAAAAAIAAAAAAAAAAgAAAAAAAAACAAAAAAAAAAIAAAAAAAAAAgAAAAAAAAACAAAAAAAAAAIAAAAAAAAAAgAAAAAAAAACAAAAAAAAAAIAAAAAAAAAAgAAAAAAAAACAAAAAAAAAAIAAAAAAAAAAgAAAAAAAAACAAAAAAAAAAIAAAAAAAAAAgAAAAAAAAACAAAAAAAAAAIAAAAAAAAAAgAAAAAAAAACAAAAAAAAAAIAAAAAAAAAAgAAAAAAAAACAAAAAAAAAAIAAAAAAAAAAgAAAAAAAAACAAAAAAAAAAIAAAAAAAAAAgAAAAAAAAACAAAAAAAAAAIA=",
          "dtype": "f8"
         }
        },
        {
         "mode": "lines",
         "name": "destination_city_Delhi",
         "type": "scatter",
         "x": {
          "bdata": "rIboVEcd+EBLGwFQDVX2QN0ndcaKrvRA3BzN0kEn80CScRy047zxQCBvGVJNbfBApXI+Bght7kDsC3YeZS3sQLw0g9dMGOpAQwZ/Vpoq6EARBss7ZGHmQLLXtz34ueRAKLlWFtcx40BkVVC+sMbhQEK9D+9gduBA+Bb4zdd93kAD4b3V9jzcQJKE5f+3JtpAomXQtPQ32EBIEgb5wW3WQHwlbQVsxdRAX+rcMnI800A4494yg9DRQBTh6495f9BAOIu437COzkDO9U0nkUzMQA55zh8rNcpAMgruc1ZFyEC2rnaLJnrGQKM5EiHm0MRAAteaKxNHw0CUIMYUW9rBQGxDczeXiMBABcahQJOfvkCqJecXNFy8QID/pDumQ7pAmZjrl79SuEAIX+P2kYa2QDQqJpRm3LRAnW7NA7pRs0AhugVnOOSxQBzVbOi5kbBANJTY9X6wrkBd7Eys32usQA900lcpUqpAMPbeJDBgqEAbvRQ/BJOmQKT7KWLt56RAzmqzvmZco0DABJ8sG+6hQNUPoaXhmqBAApqEBHTBnkCNZ0Xpk3ucQL2iwni0YJpAQUrgHqhtmEDWedVnfZ+WQCWioI5685RAOFCNXxlnk0Bc/pRoA/iRQPX22XEOpJBA21TQcXLSjkAlWJnTUIuMQPDI46JHb4pAQP8Jiid7iECCXvJ0/auGQKECDx0O/4RAbG+d6dFxg0ADT+wd8QGCQFAY409ArYBA9xzpQnrjfkC1IxRwFpt8QNaWptrifXpA8cN4aq6IeED1TTpqhLh2QLTz+xCoCnVAEOYnYJB8c0CPSatP5AtyQC6NiUJ3tnBA4Cb/fIv0bkAc1oPD5KpsQK0wfiSGjGpA24xLxDyWaECxRX5LEsVmQPM+8G1IFmVAsp9yxlSHY0C67NkA3RViQP/6m0yzv2BA6oRFJaYFX0DAIrnSu7pcQAsw4IQxm1pAU5Wjm9KjWED4XpEcp9FWQMehdjfvIVVA7lbFHx+SU0AO5IE02x9SQFWU6nD0yFBA+ijyQMoWT0BJZoeim8pMQGylRADlqUpA8mCk9G+xSEA=",
          "dtype": "f8"
         },
         "y": {
          "bdata": "AAAAAAAAAAAAAAAAAAAAAAAAAAAAAAAAAAAAAAAAAAAAAAAAAAAAAAAAAAAAAAAAAAAAAAAAAAAAAAAAAAAAAAAAAAAAAAAAAAAAAAAAAAAAAAAAAAAAAAAAAAAAAAAAAAAAAAAAAAAAAAAAAAAAAAAAAAAAAAAAAAAAAAAAAAAAAAAAAAAAAAAAAAAAAAAAAAAAAAAAAAAAAAAAAAAAAAAAAAAAAAAAAAAAAAAAAAAAAAAAAAAAAAAAAAAAAAAAAAAAAAAAAAAAAAAAAAAAAAAAAAAAAAAAAAAAAAAAAAAAAAAAAAAAAAAAAAAAAAAAAAAAAAAAAAAAAAAAAAAAAAAAAAAAAAAAAAAAAAAAAAAAAAAAAAAAAAAAAAAAAAAAAAAAAAAAAAAAAAAAAAAAAAAAAAAAAAAAAAAAAAAAAAAAAAAAAAAAAAAAAAAAAAAAAAAAAAAAAAAAAAAAAAAAAAAAAAAAAAAAAAAAAAAAAAAAAAAAAAAAAAAAAAAAAAAAAAAAAAAAAAAAAAAAAAAAAAAAAAAAAAAAAAAAAAAAAAAAAAAAAAAAAAAAAAAAAAAAAAAAAAAAAAAAAAAAAAAAAAAAAAAAAAAAAAAAAAAAAAAAAAAAAAAAAAAAAAAAAAAAAAAAAAAAAAAAAAAAAAAAAAAAAAAAAAAAAAAAAAAAAAAAAAAAAAAAAAAAAAAAAAAAAAAAAAAAAAAAAAAAAAAAAAAAAAAAAAAAAAAAAAAAAAAAAAAAAAAAAAAAAAAAAAAAAAAAAAAAAAAAAAAAAAAAAAAAAAAAAAAAAAAAAAAAAAAAAAAAAAAAAARj+kN0OilApaFpasOxSkDaCxBwMKxXQJ/+6zsRxmBAxdHSkHgIaUDBADUDD05wQDIjKb9/u3NA0RDZUIzBdkATytnyf5h5QOwloCb3NXxAuleDRlOQfkAV3o4LvmOAQD+pULsFW4FAdEMQiNE2gkBWxtnxXgKDQPqYRvPSvoNAYTJ4/xFXhEAmanJ2xeOEQLsTbkxTRoVAL+St0mK/hkAkBG/g1JOJQD8L4fSKK4xATxDeJBdpjkA=",
          "dtype": "f8"
         }
        },
        {
         "mode": "lines",
         "name": "destination_city_Hyderabad",
         "type": "scatter",
         "x": {
          "bdata": "rIboVEcd+EBLGwFQDVX2QN0ndcaKrvRA3BzN0kEn80CScRy047zxQCBvGVJNbfBApXI+Bght7kDsC3YeZS3sQLw0g9dMGOpAQwZ/Vpoq6EARBss7ZGHmQLLXtz34ueRAKLlWFtcx40BkVVC+sMbhQEK9D+9gduBA+Bb4zdd93kAD4b3V9jzcQJKE5f+3JtpAomXQtPQ32EBIEgb5wW3WQHwlbQVsxdRAX+rcMnI800A4494yg9DRQBTh6495f9BAOIu437COzkDO9U0nkUzMQA55zh8rNcpAMgruc1ZFyEC2rnaLJnrGQKM5EiHm0MRAAteaKxNHw0CUIMYUW9rBQGxDczeXiMBABcahQJOfvkCqJecXNFy8QID/pDumQ7pAmZjrl79SuEAIX+P2kYa2QDQqJpRm3LRAnW7NA7pRs0AhugVnOOSxQBzVbOi5kbBANJTY9X6wrkBd7Eys32usQA900lcpUqpAMPbeJDBgqEAbvRQ/BJOmQKT7KWLt56RAzmqzvmZco0DABJ8sG+6hQNUPoaXhmqBAApqEBHTBnkCNZ0Xpk3ucQL2iwni0YJpAQUrgHqhtmEDWedVnfZ+WQCWioI5685RAOFCNXxlnk0Bc/pRoA/iRQPX22XEOpJBA21TQcXLSjkAlWJnTUIuMQPDI46JHb4pAQP8Jiid7iECCXvJ0/auGQKECDx0O/4RAbG+d6dFxg0ADT+wd8QGCQFAY409ArYBA9xzpQnrjfkC1IxRwFpt8QNaWptrifXpA8cN4aq6IeED1TTpqhLh2QLTz+xCoCnVAEOYnYJB8c0CPSatP5AtyQC6NiUJ3tnBA4Cb/fIv0bkAc1oPD5KpsQK0wfiSGjGpA24xLxDyWaECxRX5LEsVmQPM+8G1IFmVAsp9yxlSHY0C67NkA3RViQP/6m0yzv2BA6oRFJaYFX0DAIrnSu7pcQAsw4IQxm1pAU5Wjm9KjWED4XpEcp9FWQMehdjfvIVVA7lbFHx+SU0AO5IE02x9SQFWU6nD0yFBA+ijyQMoWT0BJZoeim8pMQGylRADlqUpA8mCk9G+xSEA=",
          "dtype": "f8"
         },
         "y": {
          "bdata": "AAAAAAAAAAAAAAAAAAAAAAAAAAAAAAAAAAAAAAAAAAAAAAAAAAAAAAAAAAAAAAAAAAAAAAAAAAAAAAAAAAAAAAAAAAAAAAAAAAAAAAAAAAAAAAAAAAAAAAAAAAAAAAAAAAAAAAAAAAAAAAAAAAAAAAAAAAAAAAAAAAAAAAAAAAAAAAAAAAAAAAAAAAAAAAAAAAAAAAAAAAAAAAAAAAAAAAAAAAAAAAAAAAAAAAAAAAAAAAAAAAAAAAAAAAAAAAAAAAAAAAAAAAAAAAAAAAAAAAAAAAAAAAAAAAAAAAAAAAAAAAAAAAAAAAAAAAAAAAAAAAAAAAAAAAAAAAAAAAAAAAAAAAAAAAAAAAAAAAAAAAAAAAAAAAAAAAAAAAAAAAAAAAAAAAAAAAAAAAAAAAAAAAAAAAAAAAAAAAAAAAAAAAAAAAAAAAAAAAAAAAAAAAAAAAAAAAAAAAAAAAAAAAAAAAAAAAAAAAAAAAAAAAAAAAAAAAAAAAAAAAAAAAAAAAAAAAAAAAAAAAAAAAAAAAAAAAAAAAAAAAAAAAAAAAAAAAAAAAAAAAAAAAAAAAAAAAAAAAAAAAAAAAAAAAAAAAAAAAAAAAAAAAAAAAAAAAAAAAAAAAAAAAAAAAAAAAAAAAAAAAAAAAAAAAAAAAAAAAAAAAAAAAAAAAAAAAAAAAAAAAAAAAAAAAAAAAAAAAAAAAAAAAAAAAAAAAAAAAAAAAAAAAAAAAAAAAAAAAAAAAAAAAAAAAAAAAAAAAAAAAAAAAAAAAAAAAAAAAAAAAAAAAAAAAAAAAAAAAAAAAAAAAAAAAAAAAAAAAAAAAAAAAAAAAAAAAAAAAAAAAAAAAAAAAAAAAAAAAAAAAAAAAAAAAAAAAAAAAAAAAAAAAAAAAAAAAAAAAAAAAAAAAAAAAAAAAAAAAAAAAAAAAAAAAAAAAAAAAAAAAAAAAAAAAAAAAAAAAAAAAAAAAAAAAAAAAAAAAAAAAAAAAAAAAAAAAAAAAAAAAAAAAAAAAAAAAAAAAAAAAAAAAAAAAAAAAAAAAAAAAAAAAAAAAAAAAAAAAAAAAAAAAA=",
          "dtype": "f8"
         }
        },
        {
         "mode": "lines",
         "name": "destination_city_Kolkata",
         "type": "scatter",
         "x": {
          "bdata": "rIboVEcd+EBLGwFQDVX2QN0ndcaKrvRA3BzN0kEn80CScRy047zxQCBvGVJNbfBApXI+Bght7kDsC3YeZS3sQLw0g9dMGOpAQwZ/Vpoq6EARBss7ZGHmQLLXtz34ueRAKLlWFtcx40BkVVC+sMbhQEK9D+9gduBA+Bb4zdd93kAD4b3V9jzcQJKE5f+3JtpAomXQtPQ32EBIEgb5wW3WQHwlbQVsxdRAX+rcMnI800A4494yg9DRQBTh6495f9BAOIu437COzkDO9U0nkUzMQA55zh8rNcpAMgruc1ZFyEC2rnaLJnrGQKM5EiHm0MRAAteaKxNHw0CUIMYUW9rBQGxDczeXiMBABcahQJOfvkCqJecXNFy8QID/pDumQ7pAmZjrl79SuEAIX+P2kYa2QDQqJpRm3LRAnW7NA7pRs0AhugVnOOSxQBzVbOi5kbBANJTY9X6wrkBd7Eys32usQA900lcpUqpAMPbeJDBgqEAbvRQ/BJOmQKT7KWLt56RAzmqzvmZco0DABJ8sG+6hQNUPoaXhmqBAApqEBHTBnkCNZ0Xpk3ucQL2iwni0YJpAQUrgHqhtmEDWedVnfZ+WQCWioI5685RAOFCNXxlnk0Bc/pRoA/iRQPX22XEOpJBA21TQcXLSjkAlWJnTUIuMQPDI46JHb4pAQP8Jiid7iECCXvJ0/auGQKECDx0O/4RAbG+d6dFxg0ADT+wd8QGCQFAY409ArYBA9xzpQnrjfkC1IxRwFpt8QNaWptrifXpA8cN4aq6IeED1TTpqhLh2QLTz+xCoCnVAEOYnYJB8c0CPSatP5AtyQC6NiUJ3tnBA4Cb/fIv0bkAc1oPD5KpsQK0wfiSGjGpA24xLxDyWaECxRX5LEsVmQPM+8G1IFmVAsp9yxlSHY0C67NkA3RViQP/6m0yzv2BA6oRFJaYFX0DAIrnSu7pcQAsw4IQxm1pAU5Wjm9KjWED4XpEcp9FWQMehdjfvIVVA7lbFHx+SU0AO5IE02x9SQFWU6nD0yFBA+ijyQMoWT0BJZoeim8pMQGylRADlqUpA8mCk9G+xSEA=",
          "dtype": "f8"
         },
         "y": {
          "bdata": "AAAAAAAAAAAAAAAAAAAAAAAAAAAAAAAAAAAAAAAAAAAAAAAAAAAAAAAAAAAAAAAAAAAAAAAAAAAAAAAAAAAAAAAAAAAAAAAAAAAAAAAAAAAAAAAAAAAAAAAAAAAAAAAAAAAAAAAAAAAAAAAAAAAAAAAAAAAAAAAAAAAAAAAAAAAAAAAAAAAAAAAAAAAAAAAAAAAAAAAAAAAAAAAAAAAAAAAAAAAAAAAAAAAAAAAAAAAAAAAAAAAAAAAAAAAAAAAAAAAAAAAAAAAAAAAAAAAAAAAAAAAAAAAAAAAAAAAAAAAAAAAAAAAAAAAAAAAAAAAAAAAAAAAAAAAAAAAAAAAAAAAAAAAAAAAAAAAAAAAAAAAAAAAAAAAAAAAAAAAAAAAAAAAAAAAAAAAAAAAAAAAAAAAAAAAAAAAAAAAAAAAAAAAAAAAAAAAAAAAAAAAAAAAAAAAAAAAAAAAAAAAAAAAAAAAAAAAAAAAAAAAAAAAAAAAAAAAAAAAAAAAAAAAAAAAAAAAAAAAAAAAAAAAAAAAAAAAAAAAAAAAAAAAAAAAAAAAAAAAAAAAAAAAAAAAAAAAAAAAAAAAAAAAAAAAAAAAAAAAAAAAAAAAAAAAAAAAAAAAAAAAAAAAAAAAAAAAAAAAAAAAAAAAAAAAAAAAAAAAAAAAAAAAAAAAAAAAAAAAAAIAAAAAAAAAAgAAAAAAAAACAAAAAAAAAAIAAAAAAAAAAgAAAAAAAAACAAAAAAAAAAIAAAAAAAAAAgAAAAAAAAACAAAAAAAAAAIAAAAAAAAAAgAAAAAAAAACAAAAAAAAAAIAAAAAAAAAAgAAAAAAAAACAAAAAAAAAAIAAAAAAAAAAgAAAAAAAAACAAAAAAAAAAIAAAAAAAAAAgAAAAAAAAACAAAAAAAAAAIAAAAAAAAAAgAAAAAAAAACAAAAAAAAAAIAAAAAAAAAAgAAAAAAAAACAAAAAAAAAAIAAAAAAAAAAgAAAAAAAAACAINyRk/tlT8DZQdzLjoJewF4NfCy/S2bAZp23JhchbcCeNo2iVMtxwIaYOP/xyXTAaqRm9YqYd8A=",
          "dtype": "f8"
         }
        },
        {
         "mode": "lines",
         "name": "destination_city_Mumbai",
         "type": "scatter",
         "x": {
          "bdata": "rIboVEcd+EBLGwFQDVX2QN0ndcaKrvRA3BzN0kEn80CScRy047zxQCBvGVJNbfBApXI+Bght7kDsC3YeZS3sQLw0g9dMGOpAQwZ/Vpoq6EARBss7ZGHmQLLXtz34ueRAKLlWFtcx40BkVVC+sMbhQEK9D+9gduBA+Bb4zdd93kAD4b3V9jzcQJKE5f+3JtpAomXQtPQ32EBIEgb5wW3WQHwlbQVsxdRAX+rcMnI800A4494yg9DRQBTh6495f9BAOIu437COzkDO9U0nkUzMQA55zh8rNcpAMgruc1ZFyEC2rnaLJnrGQKM5EiHm0MRAAteaKxNHw0CUIMYUW9rBQGxDczeXiMBABcahQJOfvkCqJecXNFy8QID/pDumQ7pAmZjrl79SuEAIX+P2kYa2QDQqJpRm3LRAnW7NA7pRs0AhugVnOOSxQBzVbOi5kbBANJTY9X6wrkBd7Eys32usQA900lcpUqpAMPbeJDBgqEAbvRQ/BJOmQKT7KWLt56RAzmqzvmZco0DABJ8sG+6hQNUPoaXhmqBAApqEBHTBnkCNZ0Xpk3ucQL2iwni0YJpAQUrgHqhtmEDWedVnfZ+WQCWioI5685RAOFCNXxlnk0Bc/pRoA/iRQPX22XEOpJBA21TQcXLSjkAlWJnTUIuMQPDI46JHb4pAQP8Jiid7iECCXvJ0/auGQKECDx0O/4RAbG+d6dFxg0ADT+wd8QGCQFAY409ArYBA9xzpQnrjfkC1IxRwFpt8QNaWptrifXpA8cN4aq6IeED1TTpqhLh2QLTz+xCoCnVAEOYnYJB8c0CPSatP5AtyQC6NiUJ3tnBA4Cb/fIv0bkAc1oPD5KpsQK0wfiSGjGpA24xLxDyWaECxRX5LEsVmQPM+8G1IFmVAsp9yxlSHY0C67NkA3RViQP/6m0yzv2BA6oRFJaYFX0DAIrnSu7pcQAsw4IQxm1pAU5Wjm9KjWED4XpEcp9FWQMehdjfvIVVA7lbFHx+SU0AO5IE02x9SQFWU6nD0yFBA+ijyQMoWT0BJZoeim8pMQGylRADlqUpA8mCk9G+xSEA=",
          "dtype": "f8"
         },
         "y": {
          "bdata": "AAAAAAAAAAAAAAAAAAAAAAAAAAAAAAAAAAAAAAAAAAAAAAAAAAAAAAAAAAAAAAAAAAAAAAAAAAAAAAAAAAAAAAAAAAAAAAAAAAAAAAAAAAAAAAAAAAAAAAAAAAAAAAAAAAAAAAAAAAAAAAAAAAAAAAAAAAAAAAAAAAAAAAAAAAAAAAAAAAAAAAAAAAAAAAAAAAAAAAAAAAAAAAAAAAAAAAAAAAAAAAAAAAAAAAAAAAAAAAAAAAAAAAAAAAAAAAAAAAAAAAAAAAAAAAAAAAAAAAAAAAAAAAAAAAAAAAAAAAAAAAAAAAAAAAAAAAAAAAAAAAAAAAAAAAAAAAAAAAAAAAAAAAAAAAAAAAAAAAAAAAAAAAAAAAAAAAAAAAAAAAAAAAAAAAAAAAAAAAAAAAAAAAAAAAAAAAAAAAAAAAAAAAAAAAAAAAAAAAAAAAAAAAAAAAAAAAAAAAAAAAAAAAAAAAAAAAAAAAAAAAAAAAAAAAAAAAAAAAAAAAAAAAAAAAAAAAAAAAAAAAAAAAAAAAAAAAAAAAAAAAAAAAAAAAAAAAAAAAAAAAAAAAAAAAAAAAAAAAAAAAAAAAAAAAAAAAAAAAAAAAAAAAAAAAAAAAAAAAAAAAAAAAAAgAAAAAAAAACAAAAAAAAAAIAAAAAAAAAAgAAAAAAAAACAAAAAAAAAAIAAAAAAAAAAgAAAAAAAAACAAAAAAAAAAIAAAAAAAAAAgAAAAAAAAACAAAAAAAAAAIAAAAAAAAAAgAAAAAAAAACAAAAAAAAAAIAAAAAAAAAAgAAAAAAAAACAAAAAAAAAAIAAAAAAAAAAgAAAAAAAAACAAAAAAAAAAIAAAAAAAAAAgAAAAAAAAACAAAAAAAAAAIAAAAAAAAAAgAAAAAAAAACAAAAAAAAAAIA8IvvgTJtRwEb/nIHMfWPAokCTfVVSbMDtIxOD7iZzwJxZU4Zq2nfA2jKLVdcyfMCV1CvuhhyAwELAynGB+YHABK66rHJlhMAcbyYTxKaGwNdgsMbbsIjAj0EKnft7isC6SpXDDh6MwPmT/bWVn43ArvaILgX8jsA=",
          "dtype": "f8"
         }
        },
        {
         "mode": "lines",
         "name": "class_Economy",
         "type": "scatter",
         "x": {
          "bdata": "rIboVEcd+EBLGwFQDVX2QN0ndcaKrvRA3BzN0kEn80CScRy047zxQCBvGVJNbfBApXI+Bght7kDsC3YeZS3sQLw0g9dMGOpAQwZ/Vpoq6EARBss7ZGHmQLLXtz34ueRAKLlWFtcx40BkVVC+sMbhQEK9D+9gduBA+Bb4zdd93kAD4b3V9jzcQJKE5f+3JtpAomXQtPQ32EBIEgb5wW3WQHwlbQVsxdRAX+rcMnI800A4494yg9DRQBTh6495f9BAOIu437COzkDO9U0nkUzMQA55zh8rNcpAMgruc1ZFyEC2rnaLJnrGQKM5EiHm0MRAAteaKxNHw0CUIMYUW9rBQGxDczeXiMBABcahQJOfvkCqJecXNFy8QID/pDumQ7pAmZjrl79SuEAIX+P2kYa2QDQqJpRm3LRAnW7NA7pRs0AhugVnOOSxQBzVbOi5kbBANJTY9X6wrkBd7Eys32usQA900lcpUqpAMPbeJDBgqEAbvRQ/BJOmQKT7KWLt56RAzmqzvmZco0DABJ8sG+6hQNUPoaXhmqBAApqEBHTBnkCNZ0Xpk3ucQL2iwni0YJpAQUrgHqhtmEDWedVnfZ+WQCWioI5685RAOFCNXxlnk0Bc/pRoA/iRQPX22XEOpJBA21TQcXLSjkAlWJnTUIuMQPDI46JHb4pAQP8Jiid7iECCXvJ0/auGQKECDx0O/4RAbG+d6dFxg0ADT+wd8QGCQFAY409ArYBA9xzpQnrjfkC1IxRwFpt8QNaWptrifXpA8cN4aq6IeED1TTpqhLh2QLTz+xCoCnVAEOYnYJB8c0CPSatP5AtyQC6NiUJ3tnBA4Cb/fIv0bkAc1oPD5KpsQK0wfiSGjGpA24xLxDyWaECxRX5LEsVmQPM+8G1IFmVAsp9yxlSHY0C67NkA3RViQP/6m0yzv2BA6oRFJaYFX0DAIrnSu7pcQAsw4IQxm1pAU5Wjm9KjWED4XpEcp9FWQMehdjfvIVVA7lbFHx+SU0AO5IE02x9SQFWU6nD0yFBA+ijyQMoWT0BJZoeim8pMQGylRADlqUpA8mCk9G+xSEA=",
          "dtype": "f8"
         },
         "y": {
          "bdata": "AAAAAAAAAAAAAAAAAAAAAAAAAAAAAAAAAAAAAAAAAAAAAAAAAAAAAAAAAAAAAAAAAAAAAAAAAAAAAAAAAAAAAAAAAAAAAAAAAAAAAAAAAAAAAAAAAAAAAAAAAAAAAAAAAAAAAAAAAAAAAAAAAAAAAAAAAAAAAAAAAAAAAAAAAAAAAAAAAAAAAAAAAAAAAAAAAAAAAAAAAAAAAAAAAAAAAAAAAAAAAAAAAAAAAAAAAAAAAAAAAAAAAAAAAAAAAAAAAAAAAAAAAAAAAAAAAAAAAAAAAAAAAAAAAAAAAAAAAAAAAAAAAAAAAAAAAAAAAAAAAAAAAAAAAAAAAAAAAAAAAAAAAAAAAAAAAAAAAAAAAAAAAAAAAAAAAAAAAAAAAAAAAAAAAAAAAAAAAAAAAAAAAAAAAAAAAAAAAAAAAAAAAAAAAAAAAAAAAAAAAAAAAAAAAAAAAAAAAAAAAAAAAAAAAAAAAAAAAAAAAAAAAAAAAAAAAAAAAAAAAAAAAAAAAAAAAAAAAAAAAAAAAAAAAAAAAAAAAAAAAAAAAAAAAAAAAAAAAAAAAAAAAAAAAAAAAAAAAAAAAAAAAAAAAAAAAAAAAAAAAAAAAAAAAAAAAAAAAAAAAAAAAAAAAAAAAAAAAAAAAAAAAAAAAAAAAAAAAAAAAAAAAAAAAAAAAAAAAAAAAAAAAAAAAAAAAAAAAAAAAAAAAAAAAAAAAAAAAAAAAAAAAAAAAAAAAAAAAAAAAAAAAAAAAAAAAAAAAAAAAAAAAAAAAAAAAAAAAAAAAAAAAAAAAAAAAAAAAAAAAAAAAAAAAAAAAAAAAAAAAAAAAAAAAAAAAAAAAAAAAABvwAwr2zZjQKLWHLGF6HJAlL1osDoYe0CrO0lizVeBQPuyWB+R5IRAKrngpwNRiECEH3QdAxyLQAShJKENrI1AvxsOY2EmkEAJSe6vRFaRQHbSv22iZJJAjJcIIQlZk0Dd5WnvXzuUQJ3MVCcIDZVAeL7iatN2lUBeXllYMdeVQPoJQcGyL5ZAnJpvM2XalkAXPuak9wiaQPjVIflMCp1AGDTgrog4oEA=",
          "dtype": "f8"
         }
        },
        {
         "mode": "lines",
         "name": "days_left_inv",
         "type": "scatter",
         "x": {
          "bdata": "rIboVEcd+EBLGwFQDVX2QN0ndcaKrvRA3BzN0kEn80CScRy047zxQCBvGVJNbfBApXI+Bght7kDsC3YeZS3sQLw0g9dMGOpAQwZ/Vpoq6EARBss7ZGHmQLLXtz34ueRAKLlWFtcx40BkVVC+sMbhQEK9D+9gduBA+Bb4zdd93kAD4b3V9jzcQJKE5f+3JtpAomXQtPQ32EBIEgb5wW3WQHwlbQVsxdRAX+rcMnI800A4494yg9DRQBTh6495f9BAOIu437COzkDO9U0nkUzMQA55zh8rNcpAMgruc1ZFyEC2rnaLJnrGQKM5EiHm0MRAAteaKxNHw0CUIMYUW9rBQGxDczeXiMBABcahQJOfvkCqJecXNFy8QID/pDumQ7pAmZjrl79SuEAIX+P2kYa2QDQqJpRm3LRAnW7NA7pRs0AhugVnOOSxQBzVbOi5kbBANJTY9X6wrkBd7Eys32usQA900lcpUqpAMPbeJDBgqEAbvRQ/BJOmQKT7KWLt56RAzmqzvmZco0DABJ8sG+6hQNUPoaXhmqBAApqEBHTBnkCNZ0Xpk3ucQL2iwni0YJpAQUrgHqhtmEDWedVnfZ+WQCWioI5685RAOFCNXxlnk0Bc/pRoA/iRQPX22XEOpJBA21TQcXLSjkAlWJnTUIuMQPDI46JHb4pAQP8Jiid7iECCXvJ0/auGQKECDx0O/4RAbG+d6dFxg0ADT+wd8QGCQFAY409ArYBA9xzpQnrjfkC1IxRwFpt8QNaWptrifXpA8cN4aq6IeED1TTpqhLh2QLTz+xCoCnVAEOYnYJB8c0CPSatP5AtyQC6NiUJ3tnBA4Cb/fIv0bkAc1oPD5KpsQK0wfiSGjGpA24xLxDyWaECxRX5LEsVmQPM+8G1IFmVAsp9yxlSHY0C67NkA3RViQP/6m0yzv2BA6oRFJaYFX0DAIrnSu7pcQAsw4IQxm1pAU5Wjm9KjWED4XpEcp9FWQMehdjfvIVVA7lbFHx+SU0AO5IE02x9SQFWU6nD0yFBA+ijyQMoWT0BJZoeim8pMQGylRADlqUpA8mCk9G+xSEA=",
          "dtype": "f8"
         },
         "y": {
          "bdata": "AAAAAAAAAAAAAAAAAAAAAAAAAAAAAAAAAAAAAAAAAAAAAAAAAAAAAAAAAAAAAAAAAAAAAAAAAAAAAAAAAAAAAAAAAAAAAAAAAAAAAAAAAAAAAAAAAAAAAAAAAAAAAAAAAAAAAAAAAAAAAAAAAAAAAAAAAAAAAAAAAAAAAAAAAAAAAAAAAAAAAAAAAAAAAAAAAAAAAAAAAAAAAAAAAAAAAAAAAAAAAAAAAAAAAAAAAAAAAAAAAAAAAAAAAAAAAAAAAAAAAAAAAAAAAAAAAAAAAAAAAAAAAAAAAAAAAAAAAAAAAAAAAAAAAAAAAAAAAAAAAAAAAAAAAAAAAAAAAAAAAAAAAAAAAAAAAAAAAAAAAAAAAAAAAAAAAAAAAAAAAAAAAAAAAAAAAAAAAAAAAAAAAAAAAAAAAAAAAAAAAAAAAAAAAAAAAAAAAAAAAAAAAAAAAAAAAAAAAAAAAAAAAAAAAAAAAAAAAAAAAAAAAAAAAAAAAAAAAAAAAAAAAAAAAAAAAAAAAAAAAAAAAAAAAAAAAAAAAAAAAAAAAAAAAAAAAAAAAAAAAAAAAAAAAAAAAAAAAAAAAAAAAAAAAAAAAAAAAAAAAAAAAAAAAAAAAAAAAAAAAAAAAAAAAAAAAAAAAAAAAAAAAAAAAAAAAAAAAAAAAAAAAAAAAAAAAAAAAAAAAAAAAAAAAAAAAAAAAAAAAAAAAAAAAAAAAAAAAAAAAAAAAAAAAAAAAAAAAAAAAAAAAAAAAAAAAAAAAAAAAAAAAAAAAAAAAAAAAAAAAAAAAAAAAAAAAAAAAAAAAAAAAAAAAAAAAAAAAAAAAAAAAAAAAAAAAAAAAAAAAAAAAAAAAAAAAAAAAAAAAAAAAAAAAAAAAAAAAAAAAAAAAAAAAAAAAAAAAAAAAAAAAAAAAAAAAAAAAPJDJG4DZShAkUGXSiG+SkANs09vulFXQK03FxTxm2BA7W7jMIhhZUC3YWaw18xpQAIz8Hgt5m1AsggjlSp8b0AATJv1wXNwQHKxyMZOJ3FAhzVh1e7TcUAqSu8almJyQCKA9UUx6HJAvKb4jvfVdUA=",
          "dtype": "f8"
         }
        },
        {
         "mode": "lines",
         "name": "duration_log",
         "type": "scatter",
         "x": {
          "bdata": "rIboVEcd+EBLGwFQDVX2QN0ndcaKrvRA3BzN0kEn80CScRy047zxQCBvGVJNbfBApXI+Bght7kDsC3YeZS3sQLw0g9dMGOpAQwZ/Vpoq6EARBss7ZGHmQLLXtz34ueRAKLlWFtcx40BkVVC+sMbhQEK9D+9gduBA+Bb4zdd93kAD4b3V9jzcQJKE5f+3JtpAomXQtPQ32EBIEgb5wW3WQHwlbQVsxdRAX+rcMnI800A4494yg9DRQBTh6495f9BAOIu437COzkDO9U0nkUzMQA55zh8rNcpAMgruc1ZFyEC2rnaLJnrGQKM5EiHm0MRAAteaKxNHw0CUIMYUW9rBQGxDczeXiMBABcahQJOfvkCqJecXNFy8QID/pDumQ7pAmZjrl79SuEAIX+P2kYa2QDQqJpRm3LRAnW7NA7pRs0AhugVnOOSxQBzVbOi5kbBANJTY9X6wrkBd7Eys32usQA900lcpUqpAMPbeJDBgqEAbvRQ/BJOmQKT7KWLt56RAzmqzvmZco0DABJ8sG+6hQNUPoaXhmqBAApqEBHTBnkCNZ0Xpk3ucQL2iwni0YJpAQUrgHqhtmEDWedVnfZ+WQCWioI5685RAOFCNXxlnk0Bc/pRoA/iRQPX22XEOpJBA21TQcXLSjkAlWJnTUIuMQPDI46JHb4pAQP8Jiid7iECCXvJ0/auGQKECDx0O/4RAbG+d6dFxg0ADT+wd8QGCQFAY409ArYBA9xzpQnrjfkC1IxRwFpt8QNaWptrifXpA8cN4aq6IeED1TTpqhLh2QLTz+xCoCnVAEOYnYJB8c0CPSatP5AtyQC6NiUJ3tnBA4Cb/fIv0bkAc1oPD5KpsQK0wfiSGjGpA24xLxDyWaECxRX5LEsVmQPM+8G1IFmVAsp9yxlSHY0C67NkA3RViQP/6m0yzv2BA6oRFJaYFX0DAIrnSu7pcQAsw4IQxm1pAU5Wjm9KjWED4XpEcp9FWQMehdjfvIVVA7lbFHx+SU0AO5IE02x9SQFWU6nD0yFBA+ijyQMoWT0BJZoeim8pMQGylRADlqUpA8mCk9G+xSEA=",
          "dtype": "f8"
         },
         "y": {
          "bdata": "AAAAAAAAAAAAAAAAAAAAAAAAAAAAAAAAAAAAAAAAAAAAAAAAAAAAAAAAAAAAAAAAAAAAAAAAAAAAAAAAAAAAAAAAAAAAAAAAAAAAAAAAAAAAAAAAAAAAAAAAAAAAAAAAAAAAAAAAAAAAAAAAAAAAAAAAAAAAAAAAAAAAAAAAAAAAAAAAAAAAAAAAAAAAAAAAAAAAAAAAAAAAAAAAAAAAAAAAAAAAAAAAAAAAAAAAAAAAAAAAAAAAAAAAAAAAAAAAAAAAAAAAAAAAAAAAAAAAAAAAAAAAAACAAAAAAAAAAIAAAAAAAAAAgAAAAAAAAACAAAAAAAAAAIAAAAAAAAAAgAAAAAAAAACAAAAAAAAAAIAAAAAAAAAAgAAAAAAAAACAAAAAAAAAAIAAAAAAAAAAgAAAAAAAAACAAAAAAAAAAIAAAAAAAAAAgAAAAAAAAACAAAAAAAAAAIAAAAAAAAAAgAAAAAAAAACAAAAAAAAAAIAAAAAAAAAAgAAAAAAAAACAAAAAAAAAAIAAAAAAAAAAgAAAAAAAAACAAAAAAAAAAIAAAAAAAAAAgAAAAAAAAACAAAAAAAAAAIAAAAAAAAAAgAAAAAAAAACAAAAAAAAAAIAAAAAAAAAAgAAAAAAAAACAAAAAAAAAAIAAAAAAAAAAgAAAAAAAAACAAAAAAAAAAIAAAAAAAAAAgAAAAAAAAACAAAAAAAAAAIAGmJT2z2SEwLjjpsLRz6LAClrILgzXrcCiui5xmLGzwMwkynm1/LfAGp7LXvPpu8CnRXQA3oy/wKk9c8Z+dcHA/02NC0gLwsAIaAdDtizDwHVU/ZGzbcTA6lBmUQjGxMD96McAD3jDwLgLseHNQsLAxt43PfYgwcB50zj8eRTAwDvxnUsGJ77A+HkoDLf6u8AzEE4UHPC5wFAdZGI+CbjA/PIKrYJFtsDuEI2EOZm0wB4WR8o1CrPAkOyNOOmXscCyBHlf+kCwwISIf1L7Bq7A9c98OaHtq8DgnGWgcfypwIsCDSVDnajArQPsgSZQp8Beb9E1ztmlwHII+TJ/eqTAoYHvw83wosA=",
          "dtype": "f8"
         }
        },
        {
         "mode": "lines",
         "name": "const_Economy",
         "type": "scatter",
         "x": {
          "bdata": "rIboVEcd+EBLGwFQDVX2QN0ndcaKrvRA3BzN0kEn80CScRy047zxQCBvGVJNbfBApXI+Bght7kDsC3YeZS3sQLw0g9dMGOpAQwZ/Vpoq6EARBss7ZGHmQLLXtz34ueRAKLlWFtcx40BkVVC+sMbhQEK9D+9gduBA+Bb4zdd93kAD4b3V9jzcQJKE5f+3JtpAomXQtPQ32EBIEgb5wW3WQHwlbQVsxdRAX+rcMnI800A4494yg9DRQBTh6495f9BAOIu437COzkDO9U0nkUzMQA55zh8rNcpAMgruc1ZFyEC2rnaLJnrGQKM5EiHm0MRAAteaKxNHw0CUIMYUW9rBQGxDczeXiMBABcahQJOfvkCqJecXNFy8QID/pDumQ7pAmZjrl79SuEAIX+P2kYa2QDQqJpRm3LRAnW7NA7pRs0AhugVnOOSxQBzVbOi5kbBANJTY9X6wrkBd7Eys32usQA900lcpUqpAMPbeJDBgqEAbvRQ/BJOmQKT7KWLt56RAzmqzvmZco0DABJ8sG+6hQNUPoaXhmqBAApqEBHTBnkCNZ0Xpk3ucQL2iwni0YJpAQUrgHqhtmEDWedVnfZ+WQCWioI5685RAOFCNXxlnk0Bc/pRoA/iRQPX22XEOpJBA21TQcXLSjkAlWJnTUIuMQPDI46JHb4pAQP8Jiid7iECCXvJ0/auGQKECDx0O/4RAbG+d6dFxg0ADT+wd8QGCQFAY409ArYBA9xzpQnrjfkC1IxRwFpt8QNaWptrifXpA8cN4aq6IeED1TTpqhLh2QLTz+xCoCnVAEOYnYJB8c0CPSatP5AtyQC6NiUJ3tnBA4Cb/fIv0bkAc1oPD5KpsQK0wfiSGjGpA24xLxDyWaECxRX5LEsVmQPM+8G1IFmVAsp9yxlSHY0C67NkA3RViQP/6m0yzv2BA6oRFJaYFX0DAIrnSu7pcQAsw4IQxm1pAU5Wjm9KjWED4XpEcp9FWQMehdjfvIVVA7lbFHx+SU0AO5IE02x9SQFWU6nD0yFBA+ijyQMoWT0BJZoeim8pMQGylRADlqUpA8mCk9G+xSEA=",
          "dtype": "f8"
         },
         "y": {
          "bdata": "AAAAAAAAAAAAAAAAAAAAAAAAAAAAAAAAAAAAAAAAAAAAAAAAAAAAAAAAAAAAAAAAAAAAAAAAAAAAAAAAAAAAAAAAAAAAAAAAAAAAAAAAAAAAAAAAAAAAAAAAAAAAAAAAAAAAAAAAAAAAAAAAAAAAAAAAAAAAAAAAAAAAAAAAAAAAAAAAAAAAAAAAAAAAAAAAAAAAAAAAAAAAAAAAAAAAAAAAAAAAAAAAAAAAAAAAAAAAAAAAAAAAAAAAAAAAAAAAAAAAAAAAAAAAAAAAAAAAAAAAAAAAAACAAAAAAAAAAIAAAAAAAAAAgAAAAAAAAACAAAAAAAAAAIAAAAAAAAAAgAAAAAAAAACAAAAAAAAAAIAAAAAAAAAAgAAAAAAAAACAAAAAAAAAAIAAAAAAAAAAgAAAAAAAAACAAAAAAAAAAIAAAAAAAAAAgAAAAAAAAACAAAAAAAAAAIAAAAAAAAAAgAAAAAAAAACAAAAAAAAAAIAAAAAAAAAAgAAAAAAAAACAAAAAAAAAAIAAAAAAAAAAgAAAAAAAAACAAAAAAAAAAIAAAAAAAAAAgAAAAAAAAACAAAAAAAAAAIAAAAAAAAAAgAAAAAAAAACAAAAAAAAAAIAAAAAAAAAAgAAAAAAAAACAAAAAAAAAAIAAAAAAAAAAgAAAAAAAAACAAAAAAAAAAIAAAAAAAAAAgAAAAAAAAACAAAAAAAAAAIAnEKVnwF1ZvQAAAAAAAACAAAAAAAAAAIC2hFcIHq/yvZxifjChuPK9aJzLTCXG871OevJ0qM/zvQ2lU1lw5/O9HUq7Gc4A9L0N5lNzMWrzvfI5PfGkZPO9Z5SO1pe88r2HH15xFHLyvctFd5Mo8PO9zRjyzYaL9L2tTCIZSVP1vUgZOSg2GvW96g1G4GEd9b3Q62wI5Sb1vd23Op+bGvW9RDpFacF2EL5jWQ+RO3kQvsWc1FOFehC+idFp9odZGr6HXkAEkXUQvh9w9SDkchC+/d13U3xzEL7dP5Vo6534vabnZ2TSkvi99pxPa+CM+L3jJfyzxpf4vWL+TfR6jPi9hRoJbPKa+L0=",
          "dtype": "f8"
         }
        },
        {
         "mode": "lines",
         "name": "duration_Economy",
         "type": "scatter",
         "x": {
          "bdata": "rIboVEcd+EBLGwFQDVX2QN0ndcaKrvRA3BzN0kEn80CScRy047zxQCBvGVJNbfBApXI+Bght7kDsC3YeZS3sQLw0g9dMGOpAQwZ/Vpoq6EARBss7ZGHmQLLXtz34ueRAKLlWFtcx40BkVVC+sMbhQEK9D+9gduBA+Bb4zdd93kAD4b3V9jzcQJKE5f+3JtpAomXQtPQ32EBIEgb5wW3WQHwlbQVsxdRAX+rcMnI800A4494yg9DRQBTh6495f9BAOIu437COzkDO9U0nkUzMQA55zh8rNcpAMgruc1ZFyEC2rnaLJnrGQKM5EiHm0MRAAteaKxNHw0CUIMYUW9rBQGxDczeXiMBABcahQJOfvkCqJecXNFy8QID/pDumQ7pAmZjrl79SuEAIX+P2kYa2QDQqJpRm3LRAnW7NA7pRs0AhugVnOOSxQBzVbOi5kbBANJTY9X6wrkBd7Eys32usQA900lcpUqpAMPbeJDBgqEAbvRQ/BJOmQKT7KWLt56RAzmqzvmZco0DABJ8sG+6hQNUPoaXhmqBAApqEBHTBnkCNZ0Xpk3ucQL2iwni0YJpAQUrgHqhtmEDWedVnfZ+WQCWioI5685RAOFCNXxlnk0Bc/pRoA/iRQPX22XEOpJBA21TQcXLSjkAlWJnTUIuMQPDI46JHb4pAQP8Jiid7iECCXvJ0/auGQKECDx0O/4RAbG+d6dFxg0ADT+wd8QGCQFAY409ArYBA9xzpQnrjfkC1IxRwFpt8QNaWptrifXpA8cN4aq6IeED1TTpqhLh2QLTz+xCoCnVAEOYnYJB8c0CPSatP5AtyQC6NiUJ3tnBA4Cb/fIv0bkAc1oPD5KpsQK0wfiSGjGpA24xLxDyWaECxRX5LEsVmQPM+8G1IFmVAsp9yxlSHY0C67NkA3RViQP/6m0yzv2BA6oRFJaYFX0DAIrnSu7pcQAsw4IQxm1pAU5Wjm9KjWED4XpEcp9FWQMehdjfvIVVA7lbFHx+SU0AO5IE02x9SQFWU6nD0yFBA+ijyQMoWT0BJZoeim8pMQGylRADlqUpA8mCk9G+xSEA=",
          "dtype": "f8"
         },
         "y": {
          "bdata": "AAAAAAAAAAAAAAAAAAAAAAAAAAAAAAAAAAAAAAAAAAAAAAAAAAAAAAAAAAAAAAAAAAAAAAAAAAAAAAAAAAAAAAAAAAAAAAAAAAAAAAAAAAAAAAAAAAAAAAAAAAAAAAAAAAAAAAAAAAAAAAAAAAAAAODMJbm1CzxAJFqT/b85TEDrCjAGO7BUQK18iHXfxlpAkoc6D1E1YEC6E4WWm9FiQPWbmtC/PGVAxiSKaSJ6Z0B8VbtGzIxpQGhp14JSo2BAu7iye9KyFEAAAAAAAAAAAAAAAAAAAAAAAAAAAAAAAIAAAAAAAAAAgAAAAAAAAACAAAAAAAAAAIB+aSmNxilQwGfq1IgAml/Aax5CfsbyZsD88TsXUZFtwMoXlhtQ2XHATl8jkfqvdMCgXA4q1Nt4wKIxG6qq93/Axb6K+D5Og8BXPj+U1GGGwCg7nDloJonAkiBKfGWti8CvuimX2gWOwCY2M5uXGJDAIJNqL1gakcB/6ogvGAySwDKon3ZqCJPADQNsyfjuk8DjXFFiNDaSwHIwgU+yBZDADdQ/3JYIjcBmW7bapz6KwFlvhzhxqofA6l2KXIFHhcCK8FCNxA+DwK6E/SRtBIHAa9CZT5o7fsAOmJZ5irt6wMLFkf2YeXfAlbL+e/p6dMDUUPN747ZxwJCryweMRG7AAL3yaDeKacBFwmnrrxJlwA06RUhS+2DAvDFwXZ5jWsAsEGITq/1SwE8ufu0UpVLAoHPAI49aUsBb7kksjBhSwCRcUEsH4VHAQ2MWDQAFUsA/oRI0MyZSwM1Gkyj2RFLAaobMwdAnQMAAAAAAAAAAgAAAAAAAAAAAf3xw5Xv2R0DlFXRoBllnQIzfAwzltnNAGEdTxisue0Cjny9lbwuBQODHpqxZOYRAF09eLJoWh0AfEF5P+76JQOjjTd9pNYxAXTah8el8jkBmpX5eWk2QQPQEuFA5R5FArjvZtv4tkkArLNEdtgOTQEhA3oOcyZNAaikwAH17lEBSSlFxLSCVQNpikdRAupVAZ6m4mxxGlkCD8UI8xMaWQB45GYU2PpdAuvW2SKOul0A=",
          "dtype": "f8"
         }
        },
        {
         "mode": "lines",
         "name": "days_left_Economy",
         "type": "scatter",
         "x": {
          "bdata": "rIboVEcd+EBLGwFQDVX2QN0ndcaKrvRA3BzN0kEn80CScRy047zxQCBvGVJNbfBApXI+Bght7kDsC3YeZS3sQLw0g9dMGOpAQwZ/Vpoq6EARBss7ZGHmQLLXtz34ueRAKLlWFtcx40BkVVC+sMbhQEK9D+9gduBA+Bb4zdd93kAD4b3V9jzcQJKE5f+3JtpAomXQtPQ32EBIEgb5wW3WQHwlbQVsxdRAX+rcMnI800A4494yg9DRQBTh6495f9BAOIu437COzkDO9U0nkUzMQA55zh8rNcpAMgruc1ZFyEC2rnaLJnrGQKM5EiHm0MRAAteaKxNHw0CUIMYUW9rBQGxDczeXiMBABcahQJOfvkCqJecXNFy8QID/pDumQ7pAmZjrl79SuEAIX+P2kYa2QDQqJpRm3LRAnW7NA7pRs0AhugVnOOSxQBzVbOi5kbBANJTY9X6wrkBd7Eys32usQA900lcpUqpAMPbeJDBgqEAbvRQ/BJOmQKT7KWLt56RAzmqzvmZco0DABJ8sG+6hQNUPoaXhmqBAApqEBHTBnkCNZ0Xpk3ucQL2iwni0YJpAQUrgHqhtmEDWedVnfZ+WQCWioI5685RAOFCNXxlnk0Bc/pRoA/iRQPX22XEOpJBA21TQcXLSjkAlWJnTUIuMQPDI46JHb4pAQP8Jiid7iECCXvJ0/auGQKECDx0O/4RAbG+d6dFxg0ADT+wd8QGCQFAY409ArYBA9xzpQnrjfkC1IxRwFpt8QNaWptrifXpA8cN4aq6IeED1TTpqhLh2QLTz+xCoCnVAEOYnYJB8c0CPSatP5AtyQC6NiUJ3tnBA4Cb/fIv0bkAc1oPD5KpsQK0wfiSGjGpA24xLxDyWaECxRX5LEsVmQPM+8G1IFmVAsp9yxlSHY0C67NkA3RViQP/6m0yzv2BA6oRFJaYFX0DAIrnSu7pcQAsw4IQxm1pAU5Wjm9KjWED4XpEcp9FWQMehdjfvIVVA7lbFHx+SU0AO5IE02x9SQFWU6nD0yFBA+ijyQMoWT0BJZoeim8pMQGylRADlqUpA8mCk9G+xSEA=",
          "dtype": "f8"
         },
         "y": {
          "bdata": "AAAAAAAAAAAyi4Vvy3koQFE36UFDkjdAQ73YhJoIQUCIU/rfyeRFQP2J7SMGZUpA7dB27xqQTkCX4n2oKTZRQGXbbKPB/1JAkgr9RYinVED71PZe/S9WQC4XbnRxm1dAhoRWQgnsWEAlN/v2wCNaQOAWrBXZ21hA1O0rMLN2V0DSV99SByxWQBd/EpDm+VRAReILhEreU0DSfOpNztdSQBbElASO5FFAejpiz0cDUUAMnTaR5DJQQHHnJQoe8RlAAAAAAAAAAAAPcVjeccMbwPv39nlaYlTAb6A5xhLUYsCDUAib9tJqwBGCEOSYHXHAc8hDEzCNdMDNSipoEtJ2wH2rQ/Xc4njAM99NxLrMesDNMuB0ZJJ8wBECUSqHNn7AlfiSNZ27f8A58IYa21KAwCKvtBQPPIDAJ1GoemYlgMDWg8EcyRCAwMU+W4Co5n/AMOSI2CCkf8BA0YjCRmZ/wNdDoOuhLH/ACNDUgYD3fsCSiHFkzMR+wGbId6xYcH7ApTo1Yuk7fsDV4oRIIM59wCTGdvtdlnzATqumYZqhe8ABK20yub56wIcnfnVz7XnAogr6Wg0secBIlbzaL3d4wNE5bD3R0XfABD96v+o2d8AHSt1NuKl2wNOc8tgkJXbAlnRINr+sdcAF9+CE9z11wBYDohZG1XTAIIPyPO52dMAJ9YNC7xp0wLfvhh/px3PAoULDnbl6c8AptPT7qp5ywOBP+12Wj3HA4XM94DWRcMD9e8EMn0hvwNUxWX+lum3AK86qC9tqbMB7waP04DNrwJXezGbiE2rAwTAxN+kqacDRpBGDVQ5owBAHwGGsKmfArK3SuaVTZsDmAN6JkIJlwHRSB/vWwGTAo2SvHLsLZMCgy46R9mNjwHj49S1wyGLAooK+0u43YsC6qMIdMbJhwPtBFu5MNmHAQ8hHEGrDYMDvVxJ1TFlgwOJ9C/Xp61/Ai5AsOKMyX8CrV3/FDYdewAQvdxck6F3AaSfHSrpTXcAF61JzRspcwKYt+CDsulvAhSqkD52UWsD+mPUXkYNZwGiztSuXhljAaB1766ucV8A=",
          "dtype": "f8"
         }
        },
        {
         "mode": "lines",
         "name": "airline_Air_India_Economy",
         "type": "scatter",
         "x": {
          "bdata": "rIboVEcd+EBLGwFQDVX2QN0ndcaKrvRA3BzN0kEn80CScRy047zxQCBvGVJNbfBApXI+Bght7kDsC3YeZS3sQLw0g9dMGOpAQwZ/Vpoq6EARBss7ZGHmQLLXtz34ueRAKLlWFtcx40BkVVC+sMbhQEK9D+9gduBA+Bb4zdd93kAD4b3V9jzcQJKE5f+3JtpAomXQtPQ32EBIEgb5wW3WQHwlbQVsxdRAX+rcMnI800A4494yg9DRQBTh6495f9BAOIu437COzkDO9U0nkUzMQA55zh8rNcpAMgruc1ZFyEC2rnaLJnrGQKM5EiHm0MRAAteaKxNHw0CUIMYUW9rBQGxDczeXiMBABcahQJOfvkCqJecXNFy8QID/pDumQ7pAmZjrl79SuEAIX+P2kYa2QDQqJpRm3LRAnW7NA7pRs0AhugVnOOSxQBzVbOi5kbBANJTY9X6wrkBd7Eys32usQA900lcpUqpAMPbeJDBgqEAbvRQ/BJOmQKT7KWLt56RAzmqzvmZco0DABJ8sG+6hQNUPoaXhmqBAApqEBHTBnkCNZ0Xpk3ucQL2iwni0YJpAQUrgHqhtmEDWedVnfZ+WQCWioI5685RAOFCNXxlnk0Bc/pRoA/iRQPX22XEOpJBA21TQcXLSjkAlWJnTUIuMQPDI46JHb4pAQP8Jiid7iECCXvJ0/auGQKECDx0O/4RAbG+d6dFxg0ADT+wd8QGCQFAY409ArYBA9xzpQnrjfkC1IxRwFpt8QNaWptrifXpA8cN4aq6IeED1TTpqhLh2QLTz+xCoCnVAEOYnYJB8c0CPSatP5AtyQC6NiUJ3tnBA4Cb/fIv0bkAc1oPD5KpsQK0wfiSGjGpA24xLxDyWaECxRX5LEsVmQPM+8G1IFmVAsp9yxlSHY0C67NkA3RViQP/6m0yzv2BA6oRFJaYFX0DAIrnSu7pcQAsw4IQxm1pAU5Wjm9KjWED4XpEcp9FWQMehdjfvIVVA7lbFHx+SU0AO5IE02x9SQFWU6nD0yFBA+ijyQMoWT0BJZoeim8pMQGylRADlqUpA8mCk9G+xSEA=",
          "dtype": "f8"
         },
         "y": {
          "bdata": "AAAAAAAAAAAAAAAAAAAAAAAAAAAAAAAAAAAAAAAAAAAAAAAAAAAAAAAAAAAAAAAAAAAAAAAAAAAAAAAAAAAAAAAAAAAAAAAAAAAAAAAAAAAAAAAAAAAAAAAAAAAAAAAAAAAAAAAAAAAAAAAAAAAAAAAAAAAAAAAAAAAAAAAAAAAAAAAAAAAAAAAAAAAAAAAAAAAAAAAAAAAAAAAAAAAAAAAAAAAAAAAAAAAAAAAAAAAAAAAAAAAAAAAAAAAAAAAAAAAAAAAAAAAAAAAAAAAAAAAAAAAAAAAAAAAAAAAAAAAAAAAAAAAAgAAAAAAAAACAAAAAAAAAAIAAAAAAAAAAgAAAAAAAAACAAAAAAAAAAIAAAAAAAAAAgAAAAAAAAACAAAAAAAAAAIAAAAAAAAAAgAAAAAAAAACAAAAAAAAAAIAAAAAAAAAAgAAAAAAAAACAAAAAAAAAAAAAAAAAAAAAAAAAAAAAAAAAAAAAAAAAAAAAAAAAAAAAAAAAAAAAAAAAAAAAAAAAAAAAAAAAAAAAAAAAAAAAAAAAAAAAAAAAAAAAAAAAAAAAAAAAAAAAAAAAAAAAAAAAAAAAAAAAAAAAAAAAAAAAAAAAAAAAAAAAAAAAAAAAAAAAAAAAAAAAAAAAAAAAAAAAAAAAAAAAAAAAAAAAAAAAAAAAAAAAAAAAAAAAAAAAAAAAAAAAAAAAAAAAAAAAAAAAAAAAAAAAAAAAAAAAAAAAAAAAAAAAAAAAAAAAAAAAAAAAAAAAAAAAAAAAAAAAAAAAAAAAAAAAAAAAAAAAAAAAAAAAAAAAAAAAAAAAAAAAAAAAAAAAAAAAAAAAAAAAAAAAAAAAAAAAAAAAAAAAAAAAAAAAAAAAAAAAAAAAAAAAAAAAAAAAAAAAAAAAAAAAAAAAAAAAAAAAAAAAAAAAAAAAAAAAAAAAAAAAAAAAAAAAAAAAAAAAAAAAAAAAAAAAAAAAAAAAAAAAAAAAAAAAAAAAAAAAAAAAAAAAAAAAAAAAAAAAAAAAAAAAAAAAAAAAAAAAAAAAAAAAAAAAAAAAAAAAAAAAAAAAAAAAAAA=",
          "dtype": "f8"
         }
        },
        {
         "mode": "lines",
         "name": "airline_GO_FIRST_Economy",
         "type": "scatter",
         "x": {
          "bdata": "rIboVEcd+EBLGwFQDVX2QN0ndcaKrvRA3BzN0kEn80CScRy047zxQCBvGVJNbfBApXI+Bght7kDsC3YeZS3sQLw0g9dMGOpAQwZ/Vpoq6EARBss7ZGHmQLLXtz34ueRAKLlWFtcx40BkVVC+sMbhQEK9D+9gduBA+Bb4zdd93kAD4b3V9jzcQJKE5f+3JtpAomXQtPQ32EBIEgb5wW3WQHwlbQVsxdRAX+rcMnI800A4494yg9DRQBTh6495f9BAOIu437COzkDO9U0nkUzMQA55zh8rNcpAMgruc1ZFyEC2rnaLJnrGQKM5EiHm0MRAAteaKxNHw0CUIMYUW9rBQGxDczeXiMBABcahQJOfvkCqJecXNFy8QID/pDumQ7pAmZjrl79SuEAIX+P2kYa2QDQqJpRm3LRAnW7NA7pRs0AhugVnOOSxQBzVbOi5kbBANJTY9X6wrkBd7Eys32usQA900lcpUqpAMPbeJDBgqEAbvRQ/BJOmQKT7KWLt56RAzmqzvmZco0DABJ8sG+6hQNUPoaXhmqBAApqEBHTBnkCNZ0Xpk3ucQL2iwni0YJpAQUrgHqhtmEDWedVnfZ+WQCWioI5685RAOFCNXxlnk0Bc/pRoA/iRQPX22XEOpJBA21TQcXLSjkAlWJnTUIuMQPDI46JHb4pAQP8Jiid7iECCXvJ0/auGQKECDx0O/4RAbG+d6dFxg0ADT+wd8QGCQFAY409ArYBA9xzpQnrjfkC1IxRwFpt8QNaWptrifXpA8cN4aq6IeED1TTpqhLh2QLTz+xCoCnVAEOYnYJB8c0CPSatP5AtyQC6NiUJ3tnBA4Cb/fIv0bkAc1oPD5KpsQK0wfiSGjGpA24xLxDyWaECxRX5LEsVmQPM+8G1IFmVAsp9yxlSHY0C67NkA3RViQP/6m0yzv2BA6oRFJaYFX0DAIrnSu7pcQAsw4IQxm1pAU5Wjm9KjWED4XpEcp9FWQMehdjfvIVVA7lbFHx+SU0AO5IE02x9SQFWU6nD0yFBA+ijyQMoWT0BJZoeim8pMQGylRADlqUpA8mCk9G+xSEA=",
          "dtype": "f8"
         },
         "y": {
          "bdata": "AAAAAAAAAAAAAAAAAAAAAAAAAAAAAAAAAAAAAAAAAAAAAAAAAAAAAAAAAAAAAAAAAAAAAAAAAAAAAAAAAAAAAAAAAAAAAAAAAAAAAAAAAAAAAAAAAAAAAAAAAAAAAAAAAAAAAAAAAAAAAAAAAAAAAAAAAAAAAAAAAAAAAAAAAAAAAAAAAAAAAAAAAAAAAAAAAAAAAAAAAAAAAAAAAAAAAAAAAAAAAAAAAAAAAAAAAAAAAAAAAAAAAAAAAAAAAAAAAAAAAAAAAAAAAAAAAAAAgAAAAAAAAACAAAAAAAAAAIAAAAAAAAAAgAAAAAAAAACAAAAAAAAAAIAAAAAAAAAAgAAAAAAAAACAAAAAAAAAAIAAAAAAAAAAgAAAAAAAAACAAAAAAAAAAIAAAAAAAAAAgAAAAAAAAACAAAAAAAAAAIAAAAAAAAAAgAAAAAAAAACAAAAAAAAAAIAAAAAAAAAAgAAAAAAAAACAAAAAAAAAAIAAAAAAAAAAgAAAAAAAAACAAAAAAAAAAIAAAAAAAAAAgAAAAAAAAACAAAAAAAAAAIAAAAAAAAAAgAAAAAAAAACAAAAAAAAAAIAAAAAAAAAAgAAAAAAAAACAAAAAAAAAAIAAAAAAAAAAgAAAAAAAAACAAAAAAAAAAIAAAAAAAAAAgAAAAAAAAACAAAAAAAAAAIAAAAAAAAAAgAAAAAAAAACAAAAAAAAAAIAAAAAAAAAAgAAAAAAAAACAAAAAAAAAAIAAAAAAAAAAgAAAAAAAAACAAAAAAAAAAIAAAAAAAAAAgAAAAAAAAACAAAAAAAAAAIAAAAAAAAAAgAAAAAAAAACAAAAAAAAAAIAAAAAAAAAAgAAAAAAAAACAAAAAAAAAAIAAAAAAAAAAgAAAAAAAAACAAAAAAAAAAIAAAAAAAAAAgAAAAAAAAAAAAAAAAAAAAAAAAAAAAAAAAAAAAAAAAAAAAAAAAAAAAAAAAAAAAAAAAAAAAAAAAAAAAAAAAAAAAAAAAAAAAAAAAAAAAAAAAAAAAAAAAAAAAAAAAAAAAAAAAAAAAAAAAAAAAAAAAAAAAAA=",
          "dtype": "f8"
         }
        },
        {
         "mode": "lines",
         "name": "airline_Indigo_Economy",
         "type": "scatter",
         "x": {
          "bdata": "rIboVEcd+EBLGwFQDVX2QN0ndcaKrvRA3BzN0kEn80CScRy047zxQCBvGVJNbfBApXI+Bght7kDsC3YeZS3sQLw0g9dMGOpAQwZ/Vpoq6EARBss7ZGHmQLLXtz34ueRAKLlWFtcx40BkVVC+sMbhQEK9D+9gduBA+Bb4zdd93kAD4b3V9jzcQJKE5f+3JtpAomXQtPQ32EBIEgb5wW3WQHwlbQVsxdRAX+rcMnI800A4494yg9DRQBTh6495f9BAOIu437COzkDO9U0nkUzMQA55zh8rNcpAMgruc1ZFyEC2rnaLJnrGQKM5EiHm0MRAAteaKxNHw0CUIMYUW9rBQGxDczeXiMBABcahQJOfvkCqJecXNFy8QID/pDumQ7pAmZjrl79SuEAIX+P2kYa2QDQqJpRm3LRAnW7NA7pRs0AhugVnOOSxQBzVbOi5kbBANJTY9X6wrkBd7Eys32usQA900lcpUqpAMPbeJDBgqEAbvRQ/BJOmQKT7KWLt56RAzmqzvmZco0DABJ8sG+6hQNUPoaXhmqBAApqEBHTBnkCNZ0Xpk3ucQL2iwni0YJpAQUrgHqhtmEDWedVnfZ+WQCWioI5685RAOFCNXxlnk0Bc/pRoA/iRQPX22XEOpJBA21TQcXLSjkAlWJnTUIuMQPDI46JHb4pAQP8Jiid7iECCXvJ0/auGQKECDx0O/4RAbG+d6dFxg0ADT+wd8QGCQFAY409ArYBA9xzpQnrjfkC1IxRwFpt8QNaWptrifXpA8cN4aq6IeED1TTpqhLh2QLTz+xCoCnVAEOYnYJB8c0CPSatP5AtyQC6NiUJ3tnBA4Cb/fIv0bkAc1oPD5KpsQK0wfiSGjGpA24xLxDyWaECxRX5LEsVmQPM+8G1IFmVAsp9yxlSHY0C67NkA3RViQP/6m0yzv2BA6oRFJaYFX0DAIrnSu7pcQAsw4IQxm1pAU5Wjm9KjWED4XpEcp9FWQMehdjfvIVVA7lbFHx+SU0AO5IE02x9SQFWU6nD0yFBA+ijyQMoWT0BJZoeim8pMQGylRADlqUpA8mCk9G+xSEA=",
          "dtype": "f8"
         },
         "y": {
          "bdata": "AAAAAAAAAAAAAAAAAAAAAAAAAAAAAAAAAAAAAAAAAAAAAAAAAAAAAAAAAAAAAAAAAAAAAAAAAAAAAAAAAAAAAAAAAAAAAAAAAAAAAAAAAAAAAAAAAAAAAAAAAAAAAAAAAAAAAAAAAAAAAAAAAAAAAAAAAAAAAAAAAAAAAAAAAAAAAAAAAAAAAAAAAAAAAAAAAAAAAAAAAAAAAAAAAAAAAAAAAAAAAAAAAAAAAAAAAAAAAAAAAAAAAAAAAAAAAAAAAAAAAAAAAAAAAAAAAAAAgAAAAAAAAACAAAAAAAAAAIAAAAAAAAAAgAAAAAAAAACAAAAAAAAAAIAAAAAAAAAAgAAAAAAAAACAAAAAAAAAAIAAAAAAAAAAgAAAAAAAAACAAAAAAAAAAIAAAAAAAAAAgAAAAAAAAACAAAAAAAAAAIAAAAAAAAAAgAAAAAAAAACAAAAAAAAAAIAAAAAAAAAAgAAAAAAAAACAAAAAAAAAAIAAAAAAAAAAgAAAAAAAAACAAAAAAAAAAIAAAAAAAAAAgAAAAAAAAACAAAAAAAAAAIAAAAAAAAAAgAAAAAAAAACAAAAAAAAAAIAAAAAAAAAAgAAAAAAAAACAAAAAAAAAAIAAAAAAAAAAgAAAAAAAAACAAAAAAAAAAIAAAAAAAAAAgAAAAAAAAACAAAAAAAAAAIAAAAAAAAAAgAAAAAAAAACAAAAAAAAAAIAAAAAAAAAAgAAAAAAAAACAAAAAAAAAAIAAAAAAAAAAgAAAAAAAAACAAAAAAAAAAIAAAAAAAAAAgAAAAAAAAACAAAAAAAAAAIAAAAAAAAAAgAAAAAAAAACAAAAAAAAAAIAAAAAAAAAAgAAAAAAAAACAAAAAAAAAAIAAAAAAAAAAgAAAAAAAAACAAAAAAAAAAIAAAAAAAAAAgAAAAAAAAACAAAAAAAAAAIAAAAAAAAAAgAAAAAAAAACAAAAAAAAAAIAAAAAAAAAAgAAAAAAAAACAAAAAAAAAAIAAAAAAAAAAgAAAAAAAAACAAAAAAAAAAIAAAAAAAAAAgAAAAAAAAACAAAAAAAAAAIA=",
          "dtype": "f8"
         }
        },
        {
         "mode": "lines",
         "name": "airline_SpiceJet_Economy",
         "type": "scatter",
         "x": {
          "bdata": "rIboVEcd+EBLGwFQDVX2QN0ndcaKrvRA3BzN0kEn80CScRy047zxQCBvGVJNbfBApXI+Bght7kDsC3YeZS3sQLw0g9dMGOpAQwZ/Vpoq6EARBss7ZGHmQLLXtz34ueRAKLlWFtcx40BkVVC+sMbhQEK9D+9gduBA+Bb4zdd93kAD4b3V9jzcQJKE5f+3JtpAomXQtPQ32EBIEgb5wW3WQHwlbQVsxdRAX+rcMnI800A4494yg9DRQBTh6495f9BAOIu437COzkDO9U0nkUzMQA55zh8rNcpAMgruc1ZFyEC2rnaLJnrGQKM5EiHm0MRAAteaKxNHw0CUIMYUW9rBQGxDczeXiMBABcahQJOfvkCqJecXNFy8QID/pDumQ7pAmZjrl79SuEAIX+P2kYa2QDQqJpRm3LRAnW7NA7pRs0AhugVnOOSxQBzVbOi5kbBANJTY9X6wrkBd7Eys32usQA900lcpUqpAMPbeJDBgqEAbvRQ/BJOmQKT7KWLt56RAzmqzvmZco0DABJ8sG+6hQNUPoaXhmqBAApqEBHTBnkCNZ0Xpk3ucQL2iwni0YJpAQUrgHqhtmEDWedVnfZ+WQCWioI5685RAOFCNXxlnk0Bc/pRoA/iRQPX22XEOpJBA21TQcXLSjkAlWJnTUIuMQPDI46JHb4pAQP8Jiid7iECCXvJ0/auGQKECDx0O/4RAbG+d6dFxg0ADT+wd8QGCQFAY409ArYBA9xzpQnrjfkC1IxRwFpt8QNaWptrifXpA8cN4aq6IeED1TTpqhLh2QLTz+xCoCnVAEOYnYJB8c0CPSatP5AtyQC6NiUJ3tnBA4Cb/fIv0bkAc1oPD5KpsQK0wfiSGjGpA24xLxDyWaECxRX5LEsVmQPM+8G1IFmVAsp9yxlSHY0C67NkA3RViQP/6m0yzv2BA6oRFJaYFX0DAIrnSu7pcQAsw4IQxm1pAU5Wjm9KjWED4XpEcp9FWQMehdjfvIVVA7lbFHx+SU0AO5IE02x9SQFWU6nD0yFBA+ijyQMoWT0BJZoeim8pMQGylRADlqUpA8mCk9G+xSEA=",
          "dtype": "f8"
         },
         "y": {
          "bdata": "AAAAAAAAAAAAAAAAAAAAAAAAAAAAAAAAAAAAAAAAAAAAAAAAAAAAAAAAAAAAAAAAAAAAAAAAAAAAAAAAAAAAAAAAAAAAAAAAAAAAAAAAAAAAAAAAAAAAAAAAAAAAAAAAAAAAAAAAAAAAAAAAAAAAAAAAAAAAAAAAAAAAAAAAAAAAAAAAAAAAAAAAAAAAAAAAAAAAAAAAAAAAAAAAAAAAAAAAAAAAAAAAAAAAAAAAAAAAAAAAAAAAAAAAAAAAAAAAAAAAAAAAAAAAAAAAAAAAgAAAAAAAAACAAAAAAAAAAIAAAAAAAAAAgAAAAAAAAACAAAAAAAAAAIAAAAAAAAAAgAAAAAAAAACAAAAAAAAAAIAAAAAAAAAAgAAAAAAAAACAAAAAAAAAAIAAAAAAAAAAgAAAAAAAAACAAAAAAAAAAIAAAAAAAAAAgAAAAAAAAACAAAAAAAAAAIAAAAAAAAAAgAAAAAAAAACAAAAAAAAAAIAAAAAAAAAAgAAAAAAAAACAAAAAAAAAAIAAAAAAAAAAgAAAAAAAAACAAAAAAAAAAIAAAAAAAAAAgAAAAAAAAACAAAAAAAAAAIAAAAAAAAAAgAAAAAAAAACAAAAAAAAAAIAAAAAAAAAAgAAAAAAAAACAAAAAAAAAAIAAAAAAAAAAgAAAAAAAAACAAAAAAAAAAIAAAAAAAAAAgAAAAAAAAACAAAAAAAAAAIAAAAAAAAAAgAAAAAAAAACAAAAAAAAAAIAAAAAAAAAAgAAAAAAAAACAAAAAAAAAAIAAAAAAAAAAgAAAAAAAAACAAAAAAAAAAIAAAAAAAAAAgAAAAAAAAACAAAAAAAAAAAAAAAAAAAAAAAAAAAAAAACAAAAAAAAAAIAAAAAAAAAAgAAAAAAAAACAAAAAAAAAAAAAAAAAAAAAAAAAAAAAAAAAAAAAAAAAAAAAAAAAAAAAAAAAAAAAAAAAAAAAAAAAAAAAAAAAAAAAAAAAAAAAAAAAAAAAAAAAAAAAAAAAAAAAAAAAAAAAAAAAAAAAAAAAAAAAAAAAAAAAAAAAAAAAAAAAAAAAAAAAAAA=",
          "dtype": "f8"
         }
        },
        {
         "mode": "lines",
         "name": "airline_Vistara_Economy",
         "type": "scatter",
         "x": {
          "bdata": "rIboVEcd+EBLGwFQDVX2QN0ndcaKrvRA3BzN0kEn80CScRy047zxQCBvGVJNbfBApXI+Bght7kDsC3YeZS3sQLw0g9dMGOpAQwZ/Vpoq6EARBss7ZGHmQLLXtz34ueRAKLlWFtcx40BkVVC+sMbhQEK9D+9gduBA+Bb4zdd93kAD4b3V9jzcQJKE5f+3JtpAomXQtPQ32EBIEgb5wW3WQHwlbQVsxdRAX+rcMnI800A4494yg9DRQBTh6495f9BAOIu437COzkDO9U0nkUzMQA55zh8rNcpAMgruc1ZFyEC2rnaLJnrGQKM5EiHm0MRAAteaKxNHw0CUIMYUW9rBQGxDczeXiMBABcahQJOfvkCqJecXNFy8QID/pDumQ7pAmZjrl79SuEAIX+P2kYa2QDQqJpRm3LRAnW7NA7pRs0AhugVnOOSxQBzVbOi5kbBANJTY9X6wrkBd7Eys32usQA900lcpUqpAMPbeJDBgqEAbvRQ/BJOmQKT7KWLt56RAzmqzvmZco0DABJ8sG+6hQNUPoaXhmqBAApqEBHTBnkCNZ0Xpk3ucQL2iwni0YJpAQUrgHqhtmEDWedVnfZ+WQCWioI5685RAOFCNXxlnk0Bc/pRoA/iRQPX22XEOpJBA21TQcXLSjkAlWJnTUIuMQPDI46JHb4pAQP8Jiid7iECCXvJ0/auGQKECDx0O/4RAbG+d6dFxg0ADT+wd8QGCQFAY409ArYBA9xzpQnrjfkC1IxRwFpt8QNaWptrifXpA8cN4aq6IeED1TTpqhLh2QLTz+xCoCnVAEOYnYJB8c0CPSatP5AtyQC6NiUJ3tnBA4Cb/fIv0bkAc1oPD5KpsQK0wfiSGjGpA24xLxDyWaECxRX5LEsVmQPM+8G1IFmVAsp9yxlSHY0C67NkA3RViQP/6m0yzv2BA6oRFJaYFX0DAIrnSu7pcQAsw4IQxm1pAU5Wjm9KjWED4XpEcp9FWQMehdjfvIVVA7lbFHx+SU0AO5IE02x9SQFWU6nD0yFBA+ijyQMoWT0BJZoeim8pMQGylRADlqUpA8mCk9G+xSEA=",
          "dtype": "f8"
         },
         "y": {
          "bdata": "AAAAAAAAAAAAAAAAAAAAAAAAAAAAAAAAAAAAAAAAAAAAAAAAAAAAAAAAAAAAAAAAAAAAAAAAAAAAAAAAAAAAAAAAAAAAAAAAAAAAAAAAAAAAAAAAAAAAAAAAAAAAAAAAAAAAAAAAAAAAAAAAAAAAAAAAAAAAAAAAAAAAAAAAAAAAAAAAAAAAAAAAAAAAAAAAAAAAAAAAAAAAAAAAAAAAAAAAAAAAAAAAAAAAAAAAAAAAAAAAAAAAAAAAAAAAAAAAAAAAAAAAAAAAAAAAAAAAAAAAAAAAAAAAAAAAAAAAAAAAAAAAAAAAAAAAAAAAAACAAAAAAAAAAIAAAAAAAAAAgAAAAAAAAACAAAAAAAAAAIAAAAAAAAAAgAAAAAAAAACAAAAAAAAAAIAAAAAAAAAAgAAAAAAAAACAAAAAAAAAAIAAAAAAAAAAgAAAAAAAAACAAAAAAAAAAIAAAAAAAAAAgAAAAAAAAACAAAAAAAAAAIAAAAAAAAAAgAAAAAAAAACAAAAAAAAAAIAAAAAAAAAAgAAAAAAAAACAAAAAAAAAAIAAAAAAAAAAgAAAAAAAAACAAAAAAAAAAIAAAAAAAAAAgAAAAAAAAACAAAAAAAAAAIAAAAAAAAAAgAAAAAAAAACAAAAAAAAAAIAAAAAAAAAAgAAAAAAAAACAAAAAAAAAAIAAAAAAAAAAgAAAAAAAAACAAAAAAAAAAIAAAAAAAAAAgAAAAAAAAACAz6zWoEsXesDfGzdoO1KOwNySIQVdJpfAn4Aj6LKXnsCD3FxtHL6iwBzjyqkr76XAva6vHvvzqMBc9aH+beqqwIEhgnuCQa3AskZADLs8r8A7gMN8nVmwwIwmczbWBrHAWqhCus6qscA6dhn5xEKywI06naO22rLAmYuxQpids8A4qPzs3FK0wKE+LB7t+rTATX4sOWSWtcA62Opi+CW2wBlqAMairLbAfSIQtVwqt8DHPfr7y563wP+A9MqeCrjABMJyMnduuMBPsmSd8Mq4wDJ43hszIrnA/p/aKDx0ucACV4I7rsC5wDQ42I2XB7rANp6ro9xMusA=",
          "dtype": "f8"
         }
        },
        {
         "mode": "lines",
         "name": "source_city_Chennai_Economy",
         "type": "scatter",
         "x": {
          "bdata": "rIboVEcd+EBLGwFQDVX2QN0ndcaKrvRA3BzN0kEn80CScRy047zxQCBvGVJNbfBApXI+Bght7kDsC3YeZS3sQLw0g9dMGOpAQwZ/Vpoq6EARBss7ZGHmQLLXtz34ueRAKLlWFtcx40BkVVC+sMbhQEK9D+9gduBA+Bb4zdd93kAD4b3V9jzcQJKE5f+3JtpAomXQtPQ32EBIEgb5wW3WQHwlbQVsxdRAX+rcMnI800A4494yg9DRQBTh6495f9BAOIu437COzkDO9U0nkUzMQA55zh8rNcpAMgruc1ZFyEC2rnaLJnrGQKM5EiHm0MRAAteaKxNHw0CUIMYUW9rBQGxDczeXiMBABcahQJOfvkCqJecXNFy8QID/pDumQ7pAmZjrl79SuEAIX+P2kYa2QDQqJpRm3LRAnW7NA7pRs0AhugVnOOSxQBzVbOi5kbBANJTY9X6wrkBd7Eys32usQA900lcpUqpAMPbeJDBgqEAbvRQ/BJOmQKT7KWLt56RAzmqzvmZco0DABJ8sG+6hQNUPoaXhmqBAApqEBHTBnkCNZ0Xpk3ucQL2iwni0YJpAQUrgHqhtmEDWedVnfZ+WQCWioI5685RAOFCNXxlnk0Bc/pRoA/iRQPX22XEOpJBA21TQcXLSjkAlWJnTUIuMQPDI46JHb4pAQP8Jiid7iECCXvJ0/auGQKECDx0O/4RAbG+d6dFxg0ADT+wd8QGCQFAY409ArYBA9xzpQnrjfkC1IxRwFpt8QNaWptrifXpA8cN4aq6IeED1TTpqhLh2QLTz+xCoCnVAEOYnYJB8c0CPSatP5AtyQC6NiUJ3tnBA4Cb/fIv0bkAc1oPD5KpsQK0wfiSGjGpA24xLxDyWaECxRX5LEsVmQPM+8G1IFmVAsp9yxlSHY0C67NkA3RViQP/6m0yzv2BA6oRFJaYFX0DAIrnSu7pcQAsw4IQxm1pAU5Wjm9KjWED4XpEcp9FWQMehdjfvIVVA7lbFHx+SU0AO5IE02x9SQFWU6nD0yFBA+ijyQMoWT0BJZoeim8pMQGylRADlqUpA8mCk9G+xSEA=",
          "dtype": "f8"
         },
         "y": {
          "bdata": "AAAAAAAAAAAAAAAAAAAAAAAAAAAAAAAAAAAAAAAAAAAAAAAAAAAAAAAAAAAAAAAAAAAAAAAAAAAAAAAAAAAAAAAAAAAAAAAAAAAAAAAAAAAAAAAAAAAAAAAAAAAAAAAAAAAAAAAAAAAAAAAAAAAAAAAAAAAAAAAAAAAAAAAAAAAAAAAAAAAAAAAAAAAAAAAAAAAAAAAAAAAAAAAAAAAAAAAAAAAAAAAAAAAAAAAAAAAAAAAAAAAAAAAAAAAAAAAAAAAAAAAAAAAAAAAAAAAAAAAAAAAAAACAAAAAAAAAAIAAAAAAAAAAgAAAAAAAAACAAAAAAAAAAIAAAAAAAAAAgAAAAAAAAACAAAAAAAAAAIAAAAAAAAAAgAAAAAAAAACAAAAAAAAAAIAAAAAAAAAAgAAAAAAAAACAAAAAAAAAAIAAAAAAAAAAgAAAAAAAAACAAAAAAAAAAIAAAAAAAAAAgAAAAAAAAACAAAAAAAAAAIAAAAAAAAAAgAAAAAAAAACAAAAAAAAAAIAAAAAAAAAAgAAAAAAAAACAAAAAAAAAAIAAAAAAAAAAgAAAAAAAAACAAAAAAAAAAIAAAAAAAAAAgAAAAAAAAACAAAAAAAAAAIAAAAAAAAAAgAAAAAAAAACAAAAAAAAAAIAAAAAAAAAAgAAAAAAAAACAAAAAAAAAAIAAAAAAAAAAgAAAAAAAAACAAAAAAAAAAIAAAAAAAAAAgAAAAAAAAACAAAAAAAAAAIAAAAAAAAAAgAAAAAAAAACAAAAAAAAAAIAAAAAAAAAAgAAAAAAAAACAAAAAAAAAAIAAAAAAAAAAgAAAAAAAAACAAAAAAAAAAIAAAAAAAAAAgAAAAAAAAACAAAAAAAAAAIAAAAAAAAAAgAAAAAAAAACAAAAAAAAAAIAAAAAAAAAAgAAAAAAAAACAAAAAAAAAAIAAAAAAAAAAgAAAAAAAAACAAAAAAAAAAIAAAAAAAAAAgAAAAAAAAACAAAAAAAAAAIAAAAAAAAAAgAAAAAAAAACAAAAAAAAAAIAAAAAAAAAAgAAAAAAAAACAAAAAAAAAAIA=",
          "dtype": "f8"
         }
        },
        {
         "mode": "lines",
         "name": "source_city_Delhi_Economy",
         "type": "scatter",
         "x": {
          "bdata": "rIboVEcd+EBLGwFQDVX2QN0ndcaKrvRA3BzN0kEn80CScRy047zxQCBvGVJNbfBApXI+Bght7kDsC3YeZS3sQLw0g9dMGOpAQwZ/Vpoq6EARBss7ZGHmQLLXtz34ueRAKLlWFtcx40BkVVC+sMbhQEK9D+9gduBA+Bb4zdd93kAD4b3V9jzcQJKE5f+3JtpAomXQtPQ32EBIEgb5wW3WQHwlbQVsxdRAX+rcMnI800A4494yg9DRQBTh6495f9BAOIu437COzkDO9U0nkUzMQA55zh8rNcpAMgruc1ZFyEC2rnaLJnrGQKM5EiHm0MRAAteaKxNHw0CUIMYUW9rBQGxDczeXiMBABcahQJOfvkCqJecXNFy8QID/pDumQ7pAmZjrl79SuEAIX+P2kYa2QDQqJpRm3LRAnW7NA7pRs0AhugVnOOSxQBzVbOi5kbBANJTY9X6wrkBd7Eys32usQA900lcpUqpAMPbeJDBgqEAbvRQ/BJOmQKT7KWLt56RAzmqzvmZco0DABJ8sG+6hQNUPoaXhmqBAApqEBHTBnkCNZ0Xpk3ucQL2iwni0YJpAQUrgHqhtmEDWedVnfZ+WQCWioI5685RAOFCNXxlnk0Bc/pRoA/iRQPX22XEOpJBA21TQcXLSjkAlWJnTUIuMQPDI46JHb4pAQP8Jiid7iECCXvJ0/auGQKECDx0O/4RAbG+d6dFxg0ADT+wd8QGCQFAY409ArYBA9xzpQnrjfkC1IxRwFpt8QNaWptrifXpA8cN4aq6IeED1TTpqhLh2QLTz+xCoCnVAEOYnYJB8c0CPSatP5AtyQC6NiUJ3tnBA4Cb/fIv0bkAc1oPD5KpsQK0wfiSGjGpA24xLxDyWaECxRX5LEsVmQPM+8G1IFmVAsp9yxlSHY0C67NkA3RViQP/6m0yzv2BA6oRFJaYFX0DAIrnSu7pcQAsw4IQxm1pAU5Wjm9KjWED4XpEcp9FWQMehdjfvIVVA7lbFHx+SU0AO5IE02x9SQFWU6nD0yFBA+ijyQMoWT0BJZoeim8pMQGylRADlqUpA8mCk9G+xSEA=",
          "dtype": "f8"
         },
         "y": {
          "bdata": "AAAAAAAAAAAAAAAAAAAAAAAAAAAAAAAAAAAAAAAAAAAAAAAAAAAAAAAAAAAAAAAAAAAAAAAAAAAAAAAAAAAAAAAAAAAAAAAAAAAAAAAAAAAAAAAAAAAAAAAAAAAAAAAAAAAAAAAAAAAAAAAAAAAAAAAAAAAAAAAAAAAAAAAAAAAAAAAAAAAAAAAAAAAAAAAAAAAAAAAAAAAAAAAAAAAAAAAAAAAAAAAAAAAAAAAAAAAAAAAAAAAAAAAAAAAAAAAAAAAAAAAAAAAAAAAAAAAAgAAAAAAAAACAAAAAAAAAAIAAAAAAAAAAgAAAAAAAAACAAAAAAAAAAIAAAAAAAAAAgAAAAAAAAACAAAAAAAAAAIAAAAAAAAAAgAAAAAAAAACAAAAAAAAAAIAAAAAAAAAAgAAAAAAAAACAAAAAAAAAAIAAAAAAAAAAgAAAAAAAAACAAAAAAAAAAIAAAAAAAAAAgAAAAAAAAACAAAAAAAAAAIAAAAAAAAAAgAAAAAAAAACAAAAAAAAAAIAAAAAAAAAAgAAAAAAAAACAAAAAAAAAAIAAAAAAAAAAgAAAAAAAAACAAAAAAAAAAIAAAAAAAAAAgAAAAAAAAACAAAAAAAAAAIAAAAAAAAAAgAAAAAAAAACAAAAAAAAAAIAAAAAAAAAAgAAAAAAAAACAAAAAAAAAAIAAAAAAAAAAgAAAAAAAAACAAAAAAAAAAIAAAAAAAAAAgAAAAAAAAACAAAAAAAAAAIAAAAAAAAAAgAAAAAAAAACAAAAAAAAAAIAAAAAAAAAAgAAAAAAAAACAAAAAAAAAAIAAAAAAAAAAgAAAAAAAAACAAAAAAAAAAIAAAAAAAAAAgAAAAAAAAACAAAAAAAAAAIAAAAAAAAAAgAAAAAAAAACAAAAAAAAAAIAAAAAAAAAAgAAAAAAAAACAAAAAAAAAAIAAAAAAAAAAgAAAAAAAAACAAAAAAAAAAIAAAAAAAAAAgAAAAAAAAACAAAAAAAAAAIAAAAAAAAAAgAAAAAAAAAAAAAAAAAAAAAAAAAAAAAAAAAAAAAAAAAAAAAAAAAAAAAA=",
          "dtype": "f8"
         }
        },
        {
         "mode": "lines",
         "name": "source_city_Hyderabad_Economy",
         "type": "scatter",
         "x": {
          "bdata": "rIboVEcd+EBLGwFQDVX2QN0ndcaKrvRA3BzN0kEn80CScRy047zxQCBvGVJNbfBApXI+Bght7kDsC3YeZS3sQLw0g9dMGOpAQwZ/Vpoq6EARBss7ZGHmQLLXtz34ueRAKLlWFtcx40BkVVC+sMbhQEK9D+9gduBA+Bb4zdd93kAD4b3V9jzcQJKE5f+3JtpAomXQtPQ32EBIEgb5wW3WQHwlbQVsxdRAX+rcMnI800A4494yg9DRQBTh6495f9BAOIu437COzkDO9U0nkUzMQA55zh8rNcpAMgruc1ZFyEC2rnaLJnrGQKM5EiHm0MRAAteaKxNHw0CUIMYUW9rBQGxDczeXiMBABcahQJOfvkCqJecXNFy8QID/pDumQ7pAmZjrl79SuEAIX+P2kYa2QDQqJpRm3LRAnW7NA7pRs0AhugVnOOSxQBzVbOi5kbBANJTY9X6wrkBd7Eys32usQA900lcpUqpAMPbeJDBgqEAbvRQ/BJOmQKT7KWLt56RAzmqzvmZco0DABJ8sG+6hQNUPoaXhmqBAApqEBHTBnkCNZ0Xpk3ucQL2iwni0YJpAQUrgHqhtmEDWedVnfZ+WQCWioI5685RAOFCNXxlnk0Bc/pRoA/iRQPX22XEOpJBA21TQcXLSjkAlWJnTUIuMQPDI46JHb4pAQP8Jiid7iECCXvJ0/auGQKECDx0O/4RAbG+d6dFxg0ADT+wd8QGCQFAY409ArYBA9xzpQnrjfkC1IxRwFpt8QNaWptrifXpA8cN4aq6IeED1TTpqhLh2QLTz+xCoCnVAEOYnYJB8c0CPSatP5AtyQC6NiUJ3tnBA4Cb/fIv0bkAc1oPD5KpsQK0wfiSGjGpA24xLxDyWaECxRX5LEsVmQPM+8G1IFmVAsp9yxlSHY0C67NkA3RViQP/6m0yzv2BA6oRFJaYFX0DAIrnSu7pcQAsw4IQxm1pAU5Wjm9KjWED4XpEcp9FWQMehdjfvIVVA7lbFHx+SU0AO5IE02x9SQFWU6nD0yFBA+ijyQMoWT0BJZoeim8pMQGylRADlqUpA8mCk9G+xSEA=",
          "dtype": "f8"
         },
         "y": {
          "bdata": "AAAAAAAAAAAAAAAAAAAAAAAAAAAAAAAAAAAAAAAAAAAAAAAAAAAAAAAAAAAAAAAAAAAAAAAAAAAAAAAAAAAAAAAAAAAAAAAAAAAAAAAAAAAAAAAAAAAAAAAAAAAAAAAAAAAAAAAAAAAAAAAAAAAAAAAAAAAAAAAAAAAAAAAAAAAAAAAAAAAAAAAAAAAAAAAAAAAAAAAAAAAAAAAAAAAAAAAAAAAAAAAAAAAAAAAAAAAAAAAAAAAAAAAAAAAAAAAAAAAAAAAAAAAAAAAAAAAAgAAAAAAAAACAAAAAAAAAAIAAAAAAAAAAgAAAAAAAAACAAAAAAAAAAIAAAAAAAAAAgAAAAAAAAACAAAAAAAAAAIAAAAAAAAAAgAAAAAAAAACAAAAAAAAAAIAAAAAAAAAAgAAAAAAAAACAAAAAAAAAAIAAAAAAAAAAgAAAAAAAAACAAAAAAAAAAIAAAAAAAAAAgAAAAAAAAACAAAAAAAAAAIAAAAAAAAAAgAAAAAAAAACAAAAAAAAAAIAAAAAAAAAAgAAAAAAAAACAAAAAAAAAAIAAAAAAAAAAgAAAAAAAAACAAAAAAAAAAIAAAAAAAAAAgAAAAAAAAACAAAAAAAAAAIAAAAAAAAAAgAAAAAAAAACAAAAAAAAAAIAAAAAAAAAAgAAAAAAAAACAAAAAAAAAAIAAAAAAAAAAgAAAAAAAAACAAAAAAAAAAIAAAAAAAAAAgAAAAAAAAACAAAAAAAAAAIAAAAAAAAAAgAAAAAAAAACAAAAAAAAAAIAAAAAAAAAAgAAAAAAAAACAAAAAAAAAAIAAAAAAAAAAgAAAAAAAAACAAAAAAAAAAIAAAAAAAAAAgAAAAAAAAACAAAAAAAAAAIAAAAAAAAAAgAAAAAAAAACAAAAAAAAAAIAAAAAAAAAAgAAAAAAAAACAAAAAAAAAAIAAAAAAAAAAgAAAAAAAAACAAAAAAAAAAIAAAAAAAAAAgAAAAAAAAACAAAAAAAAAAAAAAAAAAAAAAAAAAAAAAAAAAAAAAAAAAAAAAAAAAAAAAAAAAAAAAAAAAAAAAAAAAAA=",
          "dtype": "f8"
         }
        },
        {
         "mode": "lines",
         "name": "source_city_Kolkata_Economy",
         "type": "scatter",
         "x": {
          "bdata": "rIboVEcd+EBLGwFQDVX2QN0ndcaKrvRA3BzN0kEn80CScRy047zxQCBvGVJNbfBApXI+Bght7kDsC3YeZS3sQLw0g9dMGOpAQwZ/Vpoq6EARBss7ZGHmQLLXtz34ueRAKLlWFtcx40BkVVC+sMbhQEK9D+9gduBA+Bb4zdd93kAD4b3V9jzcQJKE5f+3JtpAomXQtPQ32EBIEgb5wW3WQHwlbQVsxdRAX+rcMnI800A4494yg9DRQBTh6495f9BAOIu437COzkDO9U0nkUzMQA55zh8rNcpAMgruc1ZFyEC2rnaLJnrGQKM5EiHm0MRAAteaKxNHw0CUIMYUW9rBQGxDczeXiMBABcahQJOfvkCqJecXNFy8QID/pDumQ7pAmZjrl79SuEAIX+P2kYa2QDQqJpRm3LRAnW7NA7pRs0AhugVnOOSxQBzVbOi5kbBANJTY9X6wrkBd7Eys32usQA900lcpUqpAMPbeJDBgqEAbvRQ/BJOmQKT7KWLt56RAzmqzvmZco0DABJ8sG+6hQNUPoaXhmqBAApqEBHTBnkCNZ0Xpk3ucQL2iwni0YJpAQUrgHqhtmEDWedVnfZ+WQCWioI5685RAOFCNXxlnk0Bc/pRoA/iRQPX22XEOpJBA21TQcXLSjkAlWJnTUIuMQPDI46JHb4pAQP8Jiid7iECCXvJ0/auGQKECDx0O/4RAbG+d6dFxg0ADT+wd8QGCQFAY409ArYBA9xzpQnrjfkC1IxRwFpt8QNaWptrifXpA8cN4aq6IeED1TTpqhLh2QLTz+xCoCnVAEOYnYJB8c0CPSatP5AtyQC6NiUJ3tnBA4Cb/fIv0bkAc1oPD5KpsQK0wfiSGjGpA24xLxDyWaECxRX5LEsVmQPM+8G1IFmVAsp9yxlSHY0C67NkA3RViQP/6m0yzv2BA6oRFJaYFX0DAIrnSu7pcQAsw4IQxm1pAU5Wjm9KjWED4XpEcp9FWQMehdjfvIVVA7lbFHx+SU0AO5IE02x9SQFWU6nD0yFBA+ijyQMoWT0BJZoeim8pMQGylRADlqUpA8mCk9G+xSEA=",
          "dtype": "f8"
         },
         "y": {
          "bdata": "AAAAAAAAAAAAAAAAAAAAAAAAAAAAAAAAAAAAAAAAAAAAAAAAAAAAAAAAAAAAAAAAAAAAAAAAAAAAAAAAAAAAAAAAAAAAAAAAAAAAAAAAAAAAAAAAAAAAAAAAAAAAAAAAAAAAAAAAAAAAAAAAAAAAAAAAAAAAAAAAAAAAAAAAAAAAAAAAAAAAAAAAAAAAAAAAAAAAAAAAAAAAAAAAAAAAAAAAAAAAAAAAAAAAAAAAAAAAAAAAAAAAAAAAAAAAAAAAAAAAAAAAAAAAAAAAAAAAAAAAAAAAAAAAAAAAAAAAAAAAAAAAAAAAgAAAAAAAAACAAAAAAAAAAIAAAAAAAAAAgAAAAAAAAACAAAAAAAAAAIAAAAAAAAAAgAAAAAAAAACAAAAAAAAAAIAAAAAAAAAAgAAAAAAAAACAAAAAAAAAAIAAAAAAAAAAgAAAAAAAAACAAAAAAAAAAIAAAAAAAAAAgAAAAAAAAACAAAAAAAAAAIAAAAAAAAAAgAAAAAAAAACAAAAAAAAAAIAAAAAAAAAAgAAAAAAAAACAAAAAAAAAAIAAAAAAAAAAgAAAAAAAAACAAAAAAAAAAIAAAAAAAAAAgAAAAAAAAACAAAAAAAAAAIAAAAAAAAAAgAAAAAAAAACAAAAAAAAAAIAAAAAAAAAAgAAAAAAAAAAAAAAAAAAAAAAAAAAAAAAAAAAAAAAAAAAAAAAAAAAAAAAAAAAAAAAAAAAAAAAAAAAAAAAAAAAAAAAAAAAAAAAAAAAAAAAAAAAAAAAAAAAAAAAAAAAAAAAAAAAAAAAAAAAAAAAAAAAAAAAAAAAAAAAAAAAAAAAAAAAAAAAAAAAAAAAAAAAAAAAAAAAAAAAAAAAAAAAAAAAAAAAAAAAAAAAAAAAAAAAAAAAAAAAAAAAAAAAAAAAAAAAAgAAAAAAAAACAAAAAAAAAAIAAAAAAAAAAgAAAAAAAAACAAAAAAAAAAIAAAAAAAAAAgAAAAAAAAACAAAAAAAAAAIAAAAAAAAAAgAAAAAAAAACAAAAAAAAAAIAAAAAAAAAAgKwTCOqK3z3ACOQV/pbjcsA=",
          "dtype": "f8"
         }
        },
        {
         "mode": "lines",
         "name": "source_city_Mumbai_Economy",
         "type": "scatter",
         "x": {
          "bdata": "rIboVEcd+EBLGwFQDVX2QN0ndcaKrvRA3BzN0kEn80CScRy047zxQCBvGVJNbfBApXI+Bght7kDsC3YeZS3sQLw0g9dMGOpAQwZ/Vpoq6EARBss7ZGHmQLLXtz34ueRAKLlWFtcx40BkVVC+sMbhQEK9D+9gduBA+Bb4zdd93kAD4b3V9jzcQJKE5f+3JtpAomXQtPQ32EBIEgb5wW3WQHwlbQVsxdRAX+rcMnI800A4494yg9DRQBTh6495f9BAOIu437COzkDO9U0nkUzMQA55zh8rNcpAMgruc1ZFyEC2rnaLJnrGQKM5EiHm0MRAAteaKxNHw0CUIMYUW9rBQGxDczeXiMBABcahQJOfvkCqJecXNFy8QID/pDumQ7pAmZjrl79SuEAIX+P2kYa2QDQqJpRm3LRAnW7NA7pRs0AhugVnOOSxQBzVbOi5kbBANJTY9X6wrkBd7Eys32usQA900lcpUqpAMPbeJDBgqEAbvRQ/BJOmQKT7KWLt56RAzmqzvmZco0DABJ8sG+6hQNUPoaXhmqBAApqEBHTBnkCNZ0Xpk3ucQL2iwni0YJpAQUrgHqhtmEDWedVnfZ+WQCWioI5685RAOFCNXxlnk0Bc/pRoA/iRQPX22XEOpJBA21TQcXLSjkAlWJnTUIuMQPDI46JHb4pAQP8Jiid7iECCXvJ0/auGQKECDx0O/4RAbG+d6dFxg0ADT+wd8QGCQFAY409ArYBA9xzpQnrjfkC1IxRwFpt8QNaWptrifXpA8cN4aq6IeED1TTpqhLh2QLTz+xCoCnVAEOYnYJB8c0CPSatP5AtyQC6NiUJ3tnBA4Cb/fIv0bkAc1oPD5KpsQK0wfiSGjGpA24xLxDyWaECxRX5LEsVmQPM+8G1IFmVAsp9yxlSHY0C67NkA3RViQP/6m0yzv2BA6oRFJaYFX0DAIrnSu7pcQAsw4IQxm1pAU5Wjm9KjWED4XpEcp9FWQMehdjfvIVVA7lbFHx+SU0AO5IE02x9SQFWU6nD0yFBA+ijyQMoWT0BJZoeim8pMQGylRADlqUpA8mCk9G+xSEA=",
          "dtype": "f8"
         },
         "y": {
          "bdata": "AAAAAAAAAAAAAAAAAAAAAAAAAAAAAAAAAAAAAAAAAAAAAAAAAAAAAAAAAAAAAAAAAAAAAAAAAAAAAAAAAAAAAAAAAAAAAAAAAAAAAAAAAAAAAAAAAAAAAAAAAAAAAAAAAAAAAAAAAAAAAAAAAAAAAAAAAAAAAAAAAAAAAAAAAAAAAAAAAAAAAAAAAAAAAAAAAAAAAAAAAAAAAAAAAAAAAAAAAAAAAAAAAAAAAAAAAAAAAAAAAAAAAAAAAAAAAAAAAAAAAAAAAAAAAAAAAAAAAAAAAAAAAACAAAAAAAAAAIAAAAAAAAAAgAAAAAAAAACAAAAAAAAAAIAAAAAAAAAAgAAAAAAAAACAAAAAAAAAAIAAAAAAAAAAgAAAAAAAAACAAAAAAAAAAIAAAAAAAAAAgAAAAAAAAACAAAAAAAAAAIAAAAAAAAAAgAAAAAAAAACAAAAAAAAAAIAAAAAAAAAAgAAAAAAAAACAAAAAAAAAAIAAAAAAAAAAgAAAAAAAAACAAAAAAAAAAIAAAAAAAAAAgAAAAAAAAACAAAAAAAAAAIAAAAAAAAAAgAAAAAAAAACAAAAAAAAAAIAAAAAAAAAAgAAAAAAAAACAAAAAAAAAAIAAAAAAAAAAgAAAAAAAAACAAAAAAAAAAIAAAAAAAAAAgAAAAAAAAACAAAAAAAAAAIAAAAAAAAAAgAAAAAAAAACAAAAAAAAAAIAAAAAAAAAAgAAAAAAAAACAAAAAAAAAAIAAAAAAAAAAgAAAAAAAAACAAAAAAAAAAIAAAAAAAAAAgAAAAAAAAACAAAAAAAAAAIAAAAAAAAAAgAAAAAAAAACAAAAAAAAAAIAAAAAAAAAAgAAAAAAAAACAAAAAAAAAAIAAAAAAAAAAgAAAAAAAAACAAAAAAAAAAIAAAAAAAAAAgAAAAAAAAACAAAAAAAAAAIAAAAAAAAAAgAAAAAAAAACAAAAAAAAAAIAAAAAAAAAAgAAAAAAAAACAAAAAAAAAAIAAAAAAAAAAgAAAAAAAAACAAAAAAAAAAIAAAAAAAAAAgAAAAAAAAACAAAAAAAAAAIA=",
          "dtype": "f8"
         }
        },
        {
         "mode": "lines",
         "name": "departure_time_Early_Morning_Economy",
         "type": "scatter",
         "x": {
          "bdata": "rIboVEcd+EBLGwFQDVX2QN0ndcaKrvRA3BzN0kEn80CScRy047zxQCBvGVJNbfBApXI+Bght7kDsC3YeZS3sQLw0g9dMGOpAQwZ/Vpoq6EARBss7ZGHmQLLXtz34ueRAKLlWFtcx40BkVVC+sMbhQEK9D+9gduBA+Bb4zdd93kAD4b3V9jzcQJKE5f+3JtpAomXQtPQ32EBIEgb5wW3WQHwlbQVsxdRAX+rcMnI800A4494yg9DRQBTh6495f9BAOIu437COzkDO9U0nkUzMQA55zh8rNcpAMgruc1ZFyEC2rnaLJnrGQKM5EiHm0MRAAteaKxNHw0CUIMYUW9rBQGxDczeXiMBABcahQJOfvkCqJecXNFy8QID/pDumQ7pAmZjrl79SuEAIX+P2kYa2QDQqJpRm3LRAnW7NA7pRs0AhugVnOOSxQBzVbOi5kbBANJTY9X6wrkBd7Eys32usQA900lcpUqpAMPbeJDBgqEAbvRQ/BJOmQKT7KWLt56RAzmqzvmZco0DABJ8sG+6hQNUPoaXhmqBAApqEBHTBnkCNZ0Xpk3ucQL2iwni0YJpAQUrgHqhtmEDWedVnfZ+WQCWioI5685RAOFCNXxlnk0Bc/pRoA/iRQPX22XEOpJBA21TQcXLSjkAlWJnTUIuMQPDI46JHb4pAQP8Jiid7iECCXvJ0/auGQKECDx0O/4RAbG+d6dFxg0ADT+wd8QGCQFAY409ArYBA9xzpQnrjfkC1IxRwFpt8QNaWptrifXpA8cN4aq6IeED1TTpqhLh2QLTz+xCoCnVAEOYnYJB8c0CPSatP5AtyQC6NiUJ3tnBA4Cb/fIv0bkAc1oPD5KpsQK0wfiSGjGpA24xLxDyWaECxRX5LEsVmQPM+8G1IFmVAsp9yxlSHY0C67NkA3RViQP/6m0yzv2BA6oRFJaYFX0DAIrnSu7pcQAsw4IQxm1pAU5Wjm9KjWED4XpEcp9FWQMehdjfvIVVA7lbFHx+SU0AO5IE02x9SQFWU6nD0yFBA+ijyQMoWT0BJZoeim8pMQGylRADlqUpA8mCk9G+xSEA=",
          "dtype": "f8"
         },
         "y": {
          "bdata": "AAAAAAAAAAAAAAAAAAAAAAAAAAAAAAAAAAAAAAAAAAAAAAAAAAAAAAAAAAAAAAAAAAAAAAAAAAAAAAAAAAAAAAAAAAAAAAAAAAAAAAAAAAAAAAAAAAAAAAAAAAAAAAAAAAAAAAAAAAAAAAAAAAAAAAAAAAAAAAAAAAAAAAAAAAAAAAAAAAAAAAAAAAAAAAAAAAAAAAAAAAAAAAAAAAAAAAAAAAAAAAAAAAAAAAAAAAAAAAAAAAAAAAAAAAAAAAAAAAAAAAAAAAAAAAAAAAAAAAAAAAAAAACAAAAAAAAAAIAAAAAAAAAAgAAAAAAAAACAAAAAAAAAAIAAAAAAAAAAgAAAAAAAAACAAAAAAAAAAIAAAAAAAAAAgAAAAAAAAACAAAAAAAAAAIAAAAAAAAAAgAAAAAAAAACAAAAAAAAAAIAAAAAAAAAAgAAAAAAAAACAAAAAAAAAAIAAAAAAAAAAgAAAAAAAAACAAAAAAAAAAIAAAAAAAAAAgAAAAAAAAACAAAAAAAAAAIAAAAAAAAAAgAAAAAAAAACAAAAAAAAAAIAAAAAAAAAAgAAAAAAAAACAAAAAAAAAAIAAAAAAAAAAgAAAAAAAAACAAAAAAAAAAIAAAAAAAAAAgAAAAAAAAACAAAAAAAAAAIAAAAAAAAAAgAAAAAAAAACAAAAAAAAAAIAAAAAAAAAAgAAAAAAAAACAAAAAAAAAAIAAAAAAAAAAgAAAAAAAAACAAAAAAAAAAIAAAAAAAAAAgAAAAAAAAACAAAAAAAAAAIAAAAAAAAAAgAAAAAAAAACAAAAAAAAAAIAAAAAAAAAAgAAAAAAAAACAAAAAAAAAAIAAAAAAAAAAgAAAAAAAAACAAAAAAAAAAIAAAAAAAAAAgAAAAAAAAACAAAAAAAAAAIAAAAAAAAAAgAAAAAAAAACAAAAAAAAAAIAAAAAAAAAAgAAAAAAAAACAAAAAAAAAAAAAAAAAAAAAAAAAAAAAAAAAAAAAAAAAAAAAAAAAAAAAAAAAAAAAAAAAAAAAAAAAAAAAAAAAAAAAAAAAAAAAAAAAAAAAAAAAAAA=",
          "dtype": "f8"
         }
        },
        {
         "mode": "lines",
         "name": "departure_time_Evening_Economy",
         "type": "scatter",
         "x": {
          "bdata": "rIboVEcd+EBLGwFQDVX2QN0ndcaKrvRA3BzN0kEn80CScRy047zxQCBvGVJNbfBApXI+Bght7kDsC3YeZS3sQLw0g9dMGOpAQwZ/Vpoq6EARBss7ZGHmQLLXtz34ueRAKLlWFtcx40BkVVC+sMbhQEK9D+9gduBA+Bb4zdd93kAD4b3V9jzcQJKE5f+3JtpAomXQtPQ32EBIEgb5wW3WQHwlbQVsxdRAX+rcMnI800A4494yg9DRQBTh6495f9BAOIu437COzkDO9U0nkUzMQA55zh8rNcpAMgruc1ZFyEC2rnaLJnrGQKM5EiHm0MRAAteaKxNHw0CUIMYUW9rBQGxDczeXiMBABcahQJOfvkCqJecXNFy8QID/pDumQ7pAmZjrl79SuEAIX+P2kYa2QDQqJpRm3LRAnW7NA7pRs0AhugVnOOSxQBzVbOi5kbBANJTY9X6wrkBd7Eys32usQA900lcpUqpAMPbeJDBgqEAbvRQ/BJOmQKT7KWLt56RAzmqzvmZco0DABJ8sG+6hQNUPoaXhmqBAApqEBHTBnkCNZ0Xpk3ucQL2iwni0YJpAQUrgHqhtmEDWedVnfZ+WQCWioI5685RAOFCNXxlnk0Bc/pRoA/iRQPX22XEOpJBA21TQcXLSjkAlWJnTUIuMQPDI46JHb4pAQP8Jiid7iECCXvJ0/auGQKECDx0O/4RAbG+d6dFxg0ADT+wd8QGCQFAY409ArYBA9xzpQnrjfkC1IxRwFpt8QNaWptrifXpA8cN4aq6IeED1TTpqhLh2QLTz+xCoCnVAEOYnYJB8c0CPSatP5AtyQC6NiUJ3tnBA4Cb/fIv0bkAc1oPD5KpsQK0wfiSGjGpA24xLxDyWaECxRX5LEsVmQPM+8G1IFmVAsp9yxlSHY0C67NkA3RViQP/6m0yzv2BA6oRFJaYFX0DAIrnSu7pcQAsw4IQxm1pAU5Wjm9KjWED4XpEcp9FWQMehdjfvIVVA7lbFHx+SU0AO5IE02x9SQFWU6nD0yFBA+ijyQMoWT0BJZoeim8pMQGylRADlqUpA8mCk9G+xSEA=",
          "dtype": "f8"
         },
         "y": {
          "bdata": "AAAAAAAAAAAAAAAAAAAAAAAAAAAAAAAAAAAAAAAAAAAAAAAAAAAAAAAAAAAAAAAAAAAAAAAAAAAAAAAAAAAAAAAAAAAAAAAAAAAAAAAAAAAAAAAAAAAAAAAAAAAAAAAAAAAAAAAAAAAAAAAAAAAAAAAAAAAAAAAAAAAAAAAAAAAAAAAAAAAAAAAAAAAAAAAAAAAAAAAAAAAAAAAAAAAAAAAAAAAAAAAAAAAAAAAAAAAAAAAAAAAAAAAAAAAAAAAAAAAAAAAAAAAAAAAAAAAAAAAAAAAAAACAAAAAAAAAAIAAAAAAAAAAgAAAAAAAAACAAAAAAAAAAIAAAAAAAAAAgAAAAAAAAACAAAAAAAAAAIAAAAAAAAAAgAAAAAAAAACAAAAAAAAAAIAAAAAAAAAAgAAAAAAAAACAAAAAAAAAAIAAAAAAAAAAgAAAAAAAAACAAAAAAAAAAIAAAAAAAAAAgAAAAAAAAACAAAAAAAAAAIAAAAAAAAAAgAAAAAAAAACAAAAAAAAAAIAAAAAAAAAAgAAAAAAAAACAAAAAAAAAAIAAAAAAAAAAgAAAAAAAAACAAAAAAAAAAIAAAAAAAAAAgAAAAAAAAACAAAAAAAAAAIAAAAAAAAAAgAAAAAAAAACAAAAAAAAAAIAAAAAAAAAAgAAAAAAAAACAAAAAAAAAAIAAAAAAAAAAgAAAAAAAAACAAAAAAAAAAIAAAAAAAAAAgAAAAAAAAACAAAAAAAAAAIAAAAAAAAAAgAAAAAAAAACAAAAAAAAAAIAAAAAAAAAAgAAAAAAAAACAAAAAAAAAAIAAAAAAAAAAgAAAAAAAAACAAAAAAAAAAIAAAAAAAAAAgAAAAAAAAACAAAAAAAAAAIAAAAAAAAAAgAAAAAAAAACAAAAAAAAAAIAAAAAAAAAAgAAAAAAAAACAAAAAAAAAAIAAAAAAAAAAgAAAAAAAAACAAAAAAAAAAIAAAAAAAAAAgAAAAAAAAACAAAAAAAAAAIAAAAAAAAAAgAAAAAAAAACAAAAAAAAAAIAAAAAAAAAAgAAAAAAAAACAAAAAAAAAAIA=",
          "dtype": "f8"
         }
        },
        {
         "mode": "lines",
         "name": "departure_time_Late_Night_Economy",
         "type": "scatter",
         "x": {
          "bdata": "rIboVEcd+EBLGwFQDVX2QN0ndcaKrvRA3BzN0kEn80CScRy047zxQCBvGVJNbfBApXI+Bght7kDsC3YeZS3sQLw0g9dMGOpAQwZ/Vpoq6EARBss7ZGHmQLLXtz34ueRAKLlWFtcx40BkVVC+sMbhQEK9D+9gduBA+Bb4zdd93kAD4b3V9jzcQJKE5f+3JtpAomXQtPQ32EBIEgb5wW3WQHwlbQVsxdRAX+rcMnI800A4494yg9DRQBTh6495f9BAOIu437COzkDO9U0nkUzMQA55zh8rNcpAMgruc1ZFyEC2rnaLJnrGQKM5EiHm0MRAAteaKxNHw0CUIMYUW9rBQGxDczeXiMBABcahQJOfvkCqJecXNFy8QID/pDumQ7pAmZjrl79SuEAIX+P2kYa2QDQqJpRm3LRAnW7NA7pRs0AhugVnOOSxQBzVbOi5kbBANJTY9X6wrkBd7Eys32usQA900lcpUqpAMPbeJDBgqEAbvRQ/BJOmQKT7KWLt56RAzmqzvmZco0DABJ8sG+6hQNUPoaXhmqBAApqEBHTBnkCNZ0Xpk3ucQL2iwni0YJpAQUrgHqhtmEDWedVnfZ+WQCWioI5685RAOFCNXxlnk0Bc/pRoA/iRQPX22XEOpJBA21TQcXLSjkAlWJnTUIuMQPDI46JHb4pAQP8Jiid7iECCXvJ0/auGQKECDx0O/4RAbG+d6dFxg0ADT+wd8QGCQFAY409ArYBA9xzpQnrjfkC1IxRwFpt8QNaWptrifXpA8cN4aq6IeED1TTpqhLh2QLTz+xCoCnVAEOYnYJB8c0CPSatP5AtyQC6NiUJ3tnBA4Cb/fIv0bkAc1oPD5KpsQK0wfiSGjGpA24xLxDyWaECxRX5LEsVmQPM+8G1IFmVAsp9yxlSHY0C67NkA3RViQP/6m0yzv2BA6oRFJaYFX0DAIrnSu7pcQAsw4IQxm1pAU5Wjm9KjWED4XpEcp9FWQMehdjfvIVVA7lbFHx+SU0AO5IE02x9SQFWU6nD0yFBA+ijyQMoWT0BJZoeim8pMQGylRADlqUpA8mCk9G+xSEA=",
          "dtype": "f8"
         },
         "y": {
          "bdata": "AAAAAAAAAAAAAAAAAAAAAAAAAAAAAAAAAAAAAAAAAAAAAAAAAAAAAAAAAAAAAAAAAAAAAAAAAAAAAAAAAAAAAAAAAAAAAAAAAAAAAAAAAAAAAAAAAAAAAAAAAAAAAAAAAAAAAAAAAAAAAAAAAAAAAAAAAAAAAAAAAAAAAAAAAAAAAAAAAAAAAAAAAAAAAAAAAAAAAAAAAAAAAAAAAAAAAAAAAAAAAAAAAAAAAAAAAAAAAAAAAAAAAAAAAAAAAAAAAAAAAAAAAIAAAAAAAAAAgAAAAAAAAACAAAAAAAAAAIAAAAAAAAAAgAAAAAAAAACAAAAAAAAAAIAAAAAAAAAAgAAAAAAAAACAAAAAAAAAAIAAAAAAAAAAgAAAAAAAAACAAAAAAAAAAIAAAAAAAAAAgAAAAAAAAACAAAAAAAAAAIAAAAAAAAAAgAAAAAAAAACAAAAAAAAAAIAAAAAAAAAAgAAAAAAAAACAAAAAAAAAAIAAAAAAAAAAgAAAAAAAAACAAAAAAAAAAIAAAAAAAAAAgAAAAAAAAACAAAAAAAAAAIAAAAAAAAAAgAAAAAAAAACAAAAAAAAAAIAAAAAAAAAAgAAAAAAAAACAAAAAAAAAAIAAAAAAAAAAgAAAAAAAAACAAAAAAAAAAIAAAAAAAAAAgAAAAAAAAACAAAAAAAAAAIAAAAAAAAAAgAAAAAAAAACAAAAAAAAAAIAAAAAAAAAAgAAAAAAAAACAAAAAAAAAAIAAAAAAAAAAgAAAAAAAAACAAAAAAAAAAIAAAAAAAAAAgAAAAAAAAACAAAAAAAAAAIAAAAAAAAAAgAAAAAAAAACAAAAAAAAAAIAAAAAAAAAAgAAAAAAAAACAAAAAAAAAAIAAAAAAAAAAgAAAAAAAAACAAAAAAAAAAIAAAAAAAAAAgAAAAAAAAACAAAAAAAAAAIAAAAAAAAAAgAAAAAAAAACAAAAAAAAAAAAAAAAAAAAAAAAAAAAAAAAAAAAAAAAAAAAAAAAAAAAAAAAAAAAAAAAAAAAAAAAAAAAAAAAAAAAAAAAAAAAAAAAAAAAAAAAAAAA=",
          "dtype": "f8"
         }
        },
        {
         "mode": "lines",
         "name": "departure_time_Morning_Economy",
         "type": "scatter",
         "x": {
          "bdata": "rIboVEcd+EBLGwFQDVX2QN0ndcaKrvRA3BzN0kEn80CScRy047zxQCBvGVJNbfBApXI+Bght7kDsC3YeZS3sQLw0g9dMGOpAQwZ/Vpoq6EARBss7ZGHmQLLXtz34ueRAKLlWFtcx40BkVVC+sMbhQEK9D+9gduBA+Bb4zdd93kAD4b3V9jzcQJKE5f+3JtpAomXQtPQ32EBIEgb5wW3WQHwlbQVsxdRAX+rcMnI800A4494yg9DRQBTh6495f9BAOIu437COzkDO9U0nkUzMQA55zh8rNcpAMgruc1ZFyEC2rnaLJnrGQKM5EiHm0MRAAteaKxNHw0CUIMYUW9rBQGxDczeXiMBABcahQJOfvkCqJecXNFy8QID/pDumQ7pAmZjrl79SuEAIX+P2kYa2QDQqJpRm3LRAnW7NA7pRs0AhugVnOOSxQBzVbOi5kbBANJTY9X6wrkBd7Eys32usQA900lcpUqpAMPbeJDBgqEAbvRQ/BJOmQKT7KWLt56RAzmqzvmZco0DABJ8sG+6hQNUPoaXhmqBAApqEBHTBnkCNZ0Xpk3ucQL2iwni0YJpAQUrgHqhtmEDWedVnfZ+WQCWioI5685RAOFCNXxlnk0Bc/pRoA/iRQPX22XEOpJBA21TQcXLSjkAlWJnTUIuMQPDI46JHb4pAQP8Jiid7iECCXvJ0/auGQKECDx0O/4RAbG+d6dFxg0ADT+wd8QGCQFAY409ArYBA9xzpQnrjfkC1IxRwFpt8QNaWptrifXpA8cN4aq6IeED1TTpqhLh2QLTz+xCoCnVAEOYnYJB8c0CPSatP5AtyQC6NiUJ3tnBA4Cb/fIv0bkAc1oPD5KpsQK0wfiSGjGpA24xLxDyWaECxRX5LEsVmQPM+8G1IFmVAsp9yxlSHY0C67NkA3RViQP/6m0yzv2BA6oRFJaYFX0DAIrnSu7pcQAsw4IQxm1pAU5Wjm9KjWED4XpEcp9FWQMehdjfvIVVA7lbFHx+SU0AO5IE02x9SQFWU6nD0yFBA+ijyQMoWT0BJZoeim8pMQGylRADlqUpA8mCk9G+xSEA=",
          "dtype": "f8"
         },
         "y": {
          "bdata": "AAAAAAAAAAAAAAAAAAAAAAAAAAAAAAAAAAAAAAAAAAAAAAAAAAAAAAAAAAAAAAAAAAAAAAAAAAAAAAAAAAAAAAAAAAAAAAAAAAAAAAAAAAAAAAAAAAAAAAAAAAAAAAAAAAAAAAAAAAAAAAAAAAAAAAAAAAAAAAAAAAAAAAAAAAAAAAAAAAAAAAAAAAAAAAAAAAAAAAAAAAAAAAAAAAAAAAAAAAAAAAAAAAAAAAAAAAAAAAAAAAAAAAAAAAAAAAAAAAAAAAAAAAAAAAAAAAAAAAAAAAAAAAAAAAAAAAAAAIAAAAAAAAAAgAAAAAAAAACAAAAAAAAAAIAAAAAAAAAAgAAAAAAAAACAAAAAAAAAAIAAAAAAAAAAgAAAAAAAAACAAAAAAAAAAIAAAAAAAAAAgAAAAAAAAACAAAAAAAAAAIAAAAAAAAAAgAAAAAAAAACAAAAAAAAAAIAAAAAAAAAAgAAAAAAAAACAAAAAAAAAAIAAAAAAAAAAgAAAAAAAAACAAAAAAAAAAIAAAAAAAAAAgAAAAAAAAACAAAAAAAAAAIAAAAAAAAAAgAAAAAAAAACAAAAAAAAAAIAAAAAAAAAAgAAAAAAAAACAAAAAAAAAAIAAAAAAAAAAgAAAAAAAAACAAAAAAAAAAIAAAAAAAAAAgAAAAAAAAACAAAAAAAAAAIAAAAAAAAAAgAAAAAAAAACAAAAAAAAAAIAAAAAAAAAAgAAAAAAAAACAAAAAAAAAAIAAAAAAAAAAgAAAAAAAAACAAAAAAAAAAIAAAAAAAAAAgAAAAAAAAACAAAAAAAAAAIAAAAAAAAAAgAAAAAAAAACAAAAAAAAAAIAAAAAAAAAAgAAAAAAAAACAAAAAAAAAAAAAAAAAAAAAAAAAAAAAAAAAAAAAAAAAAAAAAAAAAAAAAAAAAAAAAAAAAAAAAAAAAAAAAAAAAAAAAAAAAAAAAAAAAAAAAAAAAAAAAAAAAAAAAAAAAAAAAAAAAAAAAAAAAAAAAAAAAAAAAAAAAAAAAAAAAAAAAAAAAAAAAAAAAAAAAAAAAAAAAAAAAAAAAAAAAAA=",
          "dtype": "f8"
         }
        },
        {
         "mode": "lines",
         "name": "departure_time_Night_Economy",
         "type": "scatter",
         "x": {
          "bdata": "rIboVEcd+EBLGwFQDVX2QN0ndcaKrvRA3BzN0kEn80CScRy047zxQCBvGVJNbfBApXI+Bght7kDsC3YeZS3sQLw0g9dMGOpAQwZ/Vpoq6EARBss7ZGHmQLLXtz34ueRAKLlWFtcx40BkVVC+sMbhQEK9D+9gduBA+Bb4zdd93kAD4b3V9jzcQJKE5f+3JtpAomXQtPQ32EBIEgb5wW3WQHwlbQVsxdRAX+rcMnI800A4494yg9DRQBTh6495f9BAOIu437COzkDO9U0nkUzMQA55zh8rNcpAMgruc1ZFyEC2rnaLJnrGQKM5EiHm0MRAAteaKxNHw0CUIMYUW9rBQGxDczeXiMBABcahQJOfvkCqJecXNFy8QID/pDumQ7pAmZjrl79SuEAIX+P2kYa2QDQqJpRm3LRAnW7NA7pRs0AhugVnOOSxQBzVbOi5kbBANJTY9X6wrkBd7Eys32usQA900lcpUqpAMPbeJDBgqEAbvRQ/BJOmQKT7KWLt56RAzmqzvmZco0DABJ8sG+6hQNUPoaXhmqBAApqEBHTBnkCNZ0Xpk3ucQL2iwni0YJpAQUrgHqhtmEDWedVnfZ+WQCWioI5685RAOFCNXxlnk0Bc/pRoA/iRQPX22XEOpJBA21TQcXLSjkAlWJnTUIuMQPDI46JHb4pAQP8Jiid7iECCXvJ0/auGQKECDx0O/4RAbG+d6dFxg0ADT+wd8QGCQFAY409ArYBA9xzpQnrjfkC1IxRwFpt8QNaWptrifXpA8cN4aq6IeED1TTpqhLh2QLTz+xCoCnVAEOYnYJB8c0CPSatP5AtyQC6NiUJ3tnBA4Cb/fIv0bkAc1oPD5KpsQK0wfiSGjGpA24xLxDyWaECxRX5LEsVmQPM+8G1IFmVAsp9yxlSHY0C67NkA3RViQP/6m0yzv2BA6oRFJaYFX0DAIrnSu7pcQAsw4IQxm1pAU5Wjm9KjWED4XpEcp9FWQMehdjfvIVVA7lbFHx+SU0AO5IE02x9SQFWU6nD0yFBA+ijyQMoWT0BJZoeim8pMQGylRADlqUpA8mCk9G+xSEA=",
          "dtype": "f8"
         },
         "y": {
          "bdata": "AAAAAAAAAAAAAAAAAAAAAAAAAAAAAAAAAAAAAAAAAAAAAAAAAAAAAAAAAAAAAAAAAAAAAAAAAAAAAAAAAAAAAAAAAAAAAAAAAAAAAAAAAAAAAAAAAAAAAAAAAAAAAAAAAAAAAAAAAAAAAAAAAAAAAAAAAAAAAAAAAAAAAAAAAAAAAAAAAAAAAAAAAAAAAAAAAAAAAAAAAAAAAAAAAAAAAAAAAAAAAAAAAAAAAAAAAAAAAAAAAAAAAAAAAAAAAAAAAAAAAAAAAAAAAAAAAAAAgAAAAAAAAACAAAAAAAAAAIAAAAAAAAAAgAAAAAAAAACAAAAAAAAAAIAAAAAAAAAAgAAAAAAAAACAAAAAAAAAAIAAAAAAAAAAgAAAAAAAAACAAAAAAAAAAIAAAAAAAAAAgAAAAAAAAACAAAAAAAAAAIAAAAAAAAAAgAAAAAAAAACAAAAAAAAAAIAAAAAAAAAAgAAAAAAAAACAAAAAAAAAAIAAAAAAAAAAgAAAAAAAAACAAAAAAAAAAIAAAAAAAAAAgAAAAAAAAACAAAAAAAAAAIAAAAAAAAAAgAAAAAAAAACAAAAAAAAAAIAAAAAAAAAAgAAAAAAAAACAAAAAAAAAAIAAAAAAAAAAgAAAAAAAAACAAAAAAAAAAIAAAAAAAAAAgAAAAAAAAACAAAAAAAAAAIAAAAAAAAAAgAAAAAAAAACAAAAAAAAAAIAAAAAAAAAAgAAAAAAAAACAAAAAAAAAAIAAAAAAAAAAgAAAAAAAAACAAAAAAAAAAIAAAAAAAAAAgAAAAAAAAACAAAAAAAAAAIAAAAAAAAAAgAAAAAAAAACAAAAAAAAAAIAAAAAAAAAAgAAAAAAAAACAAAAAAAAAAIAAAAAAAAAAgAAAAAAAAACAAAAAAAAAAIAAAAAAAAAAgAAAAAAAAACAAAAAAAAAAIAAAAAAAAAAgAAAAAAAAACAAAAAAAAAAIAAAAAAAAAAgAAAAAAAAACAAAAAAAAAAIAAAAAAAAAAgAAAAAAAAACAAAAAAAAAAIAAAAAAAAAAgAAAAAAAAACAAAAAAAAAAIA=",
          "dtype": "f8"
         }
        },
        {
         "mode": "lines",
         "name": "stops_two_or_more_Economy",
         "type": "scatter",
         "x": {
          "bdata": "rIboVEcd+EBLGwFQDVX2QN0ndcaKrvRA3BzN0kEn80CScRy047zxQCBvGVJNbfBApXI+Bght7kDsC3YeZS3sQLw0g9dMGOpAQwZ/Vpoq6EARBss7ZGHmQLLXtz34ueRAKLlWFtcx40BkVVC+sMbhQEK9D+9gduBA+Bb4zdd93kAD4b3V9jzcQJKE5f+3JtpAomXQtPQ32EBIEgb5wW3WQHwlbQVsxdRAX+rcMnI800A4494yg9DRQBTh6495f9BAOIu437COzkDO9U0nkUzMQA55zh8rNcpAMgruc1ZFyEC2rnaLJnrGQKM5EiHm0MRAAteaKxNHw0CUIMYUW9rBQGxDczeXiMBABcahQJOfvkCqJecXNFy8QID/pDumQ7pAmZjrl79SuEAIX+P2kYa2QDQqJpRm3LRAnW7NA7pRs0AhugVnOOSxQBzVbOi5kbBANJTY9X6wrkBd7Eys32usQA900lcpUqpAMPbeJDBgqEAbvRQ/BJOmQKT7KWLt56RAzmqzvmZco0DABJ8sG+6hQNUPoaXhmqBAApqEBHTBnkCNZ0Xpk3ucQL2iwni0YJpAQUrgHqhtmEDWedVnfZ+WQCWioI5685RAOFCNXxlnk0Bc/pRoA/iRQPX22XEOpJBA21TQcXLSjkAlWJnTUIuMQPDI46JHb4pAQP8Jiid7iECCXvJ0/auGQKECDx0O/4RAbG+d6dFxg0ADT+wd8QGCQFAY409ArYBA9xzpQnrjfkC1IxRwFpt8QNaWptrifXpA8cN4aq6IeED1TTpqhLh2QLTz+xCoCnVAEOYnYJB8c0CPSatP5AtyQC6NiUJ3tnBA4Cb/fIv0bkAc1oPD5KpsQK0wfiSGjGpA24xLxDyWaECxRX5LEsVmQPM+8G1IFmVAsp9yxlSHY0C67NkA3RViQP/6m0yzv2BA6oRFJaYFX0DAIrnSu7pcQAsw4IQxm1pAU5Wjm9KjWED4XpEcp9FWQMehdjfvIVVA7lbFHx+SU0AO5IE02x9SQFWU6nD0yFBA+ijyQMoWT0BJZoeim8pMQGylRADlqUpA8mCk9G+xSEA=",
          "dtype": "f8"
         },
         "y": {
          "bdata": "AAAAAAAAAAAAAAAAAAAAAAAAAAAAAAAAAAAAAAAAAAAAAAAAAAAAAAAAAAAAAAAAAAAAAAAAAAAAAAAAAAAAAAAAAAAAAAAAAAAAAAAAAAAAAAAAAAAAAAAAAAAAAAAAAAAAAAAAAAAAAAAAAAAAAAAAAAAAAAAAAAAAAAAAAAAAAAAAAAAAAAAAAAAAAAAAAAAAAAAAAAAAAAAAAAAAAAAAAAAAAAAAAAAAAAAAAAAAAAAAAAAAAAAAAAAAAAAAAAAAAAAAAAAAAAAAAAAAAAAAAAAAAAAAAAAAAAAAAAAAAAAAAAAAAAAAAAAAAAAAAAAAAAAAAAAAAAAAAAAAAAAAAAAAAAAAAAAAAAAAAAAAAAAAAAAAAAAAAAAAAAAAAAAAAAAAAAAAAAAAAAAAAAAAAAAAAAAAAAAAAAAAAAAAAAAAAAAAAAAAAAAAAAAAAAAAAAAAAAAAAAAAAAAAAAAAAAAAAAAAAAAAAAAAAAAAAAAAAAAAAAAAAAAAAAAAAAAAAAAAAAAAAAAAAAAAAAAAAAAAAAAAAAAAAAAAAAAAAAAAAAAAAAAAAAAAAAAAAAAAAAAAAAAAAAAAAAAAAAAAAAAAAAAAAAAAAAAAAAAAAAAAAAAAAAAAAAAAAAAAAAAAAAAAAAAAAAAAAAAAAAAAAAAAAAAAAAAAAAAAAAAAAAAAAAAAAAAAAAAAAAAAAAAAAAAAAAAAAAAAAAAAAAAAAAAAAAAAAAAAAAAAAAAAAAAAAAAAAAAAAAAAAAAAAAAAAAAAAAAAAAAAAAAAAAAAAAAAAAAAAAAAAAAAAAAAAAAAAAAAAAAAAAAAAAAAAAAAAAAAAAAAAAAAAAAAAAAAAAAAAAAAAAAAAAAAAAAAAAAAAAAAAAAAAAAAAAAAAAAAAAAAAAAAAAAAAAAAAAAAAAAAAAAAAAAAAAAAAAAAAAAAAAAAAAAAAAAAAAAAAAAAAAAAAAAAAAAAAAAAAAAAAAAAAAAAAAAAAAAAAAAAAAAAAAAAAAAAAAAAAAAAAAAAAAAAAAAAAAAAAAAAAAAAAAAAAAAAAAAAAAAAAAA=",
          "dtype": "f8"
         }
        },
        {
         "mode": "lines",
         "name": "stops_zero_Economy",
         "type": "scatter",
         "x": {
          "bdata": "rIboVEcd+EBLGwFQDVX2QN0ndcaKrvRA3BzN0kEn80CScRy047zxQCBvGVJNbfBApXI+Bght7kDsC3YeZS3sQLw0g9dMGOpAQwZ/Vpoq6EARBss7ZGHmQLLXtz34ueRAKLlWFtcx40BkVVC+sMbhQEK9D+9gduBA+Bb4zdd93kAD4b3V9jzcQJKE5f+3JtpAomXQtPQ32EBIEgb5wW3WQHwlbQVsxdRAX+rcMnI800A4494yg9DRQBTh6495f9BAOIu437COzkDO9U0nkUzMQA55zh8rNcpAMgruc1ZFyEC2rnaLJnrGQKM5EiHm0MRAAteaKxNHw0CUIMYUW9rBQGxDczeXiMBABcahQJOfvkCqJecXNFy8QID/pDumQ7pAmZjrl79SuEAIX+P2kYa2QDQqJpRm3LRAnW7NA7pRs0AhugVnOOSxQBzVbOi5kbBANJTY9X6wrkBd7Eys32usQA900lcpUqpAMPbeJDBgqEAbvRQ/BJOmQKT7KWLt56RAzmqzvmZco0DABJ8sG+6hQNUPoaXhmqBAApqEBHTBnkCNZ0Xpk3ucQL2iwni0YJpAQUrgHqhtmEDWedVnfZ+WQCWioI5685RAOFCNXxlnk0Bc/pRoA/iRQPX22XEOpJBA21TQcXLSjkAlWJnTUIuMQPDI46JHb4pAQP8Jiid7iECCXvJ0/auGQKECDx0O/4RAbG+d6dFxg0ADT+wd8QGCQFAY409ArYBA9xzpQnrjfkC1IxRwFpt8QNaWptrifXpA8cN4aq6IeED1TTpqhLh2QLTz+xCoCnVAEOYnYJB8c0CPSatP5AtyQC6NiUJ3tnBA4Cb/fIv0bkAc1oPD5KpsQK0wfiSGjGpA24xLxDyWaECxRX5LEsVmQPM+8G1IFmVAsp9yxlSHY0C67NkA3RViQP/6m0yzv2BA6oRFJaYFX0DAIrnSu7pcQAsw4IQxm1pAU5Wjm9KjWED4XpEcp9FWQMehdjfvIVVA7lbFHx+SU0AO5IE02x9SQFWU6nD0yFBA+ijyQMoWT0BJZoeim8pMQGylRADlqUpA8mCk9G+xSEA=",
          "dtype": "f8"
         },
         "y": {
          "bdata": "AAAAAAAAAAAAAAAAAAAAAAAAAAAAAAAAAAAAAAAAAAAAAAAAAAAAAAAAAAAAAAAAAAAAAAAAAAAAAAAAAAAAAAAAAAAAAAAAAAAAAAAAAAAAAAAAAAAAAAAAAAAAAAAAAAAAAAAAAAAAAAAAAAAAAAAAAAAAAAAAAAAAAAAAAAAAAAAAAAAAAAAAAAAAAAAAAAAAAAAAAAAAAAAAAAAAAAAAAAAAAAAAAAAAAAAAAAAAAAAAAAAAAAAAAAAAAAAAAAAAAAAAAIAAAAAAAAAAgAAAAAAAAACAAAAAAAAAAIAAAAAAAAAAgAAAAAAAAACAAAAAAAAAAIAAAAAAAAAAgAAAAAAAAACAAAAAAAAAAIAAAAAAAAAAgAAAAAAAAACAAAAAAAAAAIAAAAAAAAAAgAAAAAAAAACAAAAAAAAAAIAAAAAAAAAAgAAAAAAAAACAAAAAAAAAAIAAAAAAAAAAgAAAAAAAAACAAAAAAAAAAIAAAAAAAAAAgAAAAAAAAACAAAAAAAAAAIAAAAAAAAAAgAAAAAAAAACAAAAAAAAAAIAAAAAAAAAAgAAAAAAAAACAAAAAAAAAAIAAAAAAAAAAgAAAAAAAAACAAAAAAAAAAIAAAAAAAAAAgAAAAAAAAACAAAAAAAAAAIAAAAAAAAAAgAAAAAAAAACAAAAAAAAAAIAAAAAAAAAAgAAAAAAAAACAAAAAAAAAAIAAAAAAAAAAgAAAAAAAAACAAAAAAAAAAIAAAAAAAAAAgAAAAAAAAACAAAAAAAAAAIAAAAAAAAAAgAAAAAAAAACAAAAAAAAAAIAAAAAAAAAAgAAAAAAAAACAAAAAAAAAAIAAAAAAAAAAgAAAAAAAAACAAAAAAAAAAIAAAAAAAAAAgAAAAAAAAACAAAAAAAAAAIAAAAAAAAAAgAAAAAAAAACAAAAAAAAAAIAAAAAAAAAAgAAAAAAAAACAAAAAAAAAAIAAAAAAAAAAgAAAAAAAAACAAAAAAAAAAIAAAAAAAAAAgAAAAAAAAACAAAAAAAAAAIAAAAAAAAAAgAAAAAAAAACAAAAAAAAAAIA=",
          "dtype": "f8"
         }
        },
        {
         "mode": "lines",
         "name": "arrival_time_Early_Morning_Economy",
         "type": "scatter",
         "x": {
          "bdata": "rIboVEcd+EBLGwFQDVX2QN0ndcaKrvRA3BzN0kEn80CScRy047zxQCBvGVJNbfBApXI+Bght7kDsC3YeZS3sQLw0g9dMGOpAQwZ/Vpoq6EARBss7ZGHmQLLXtz34ueRAKLlWFtcx40BkVVC+sMbhQEK9D+9gduBA+Bb4zdd93kAD4b3V9jzcQJKE5f+3JtpAomXQtPQ32EBIEgb5wW3WQHwlbQVsxdRAX+rcMnI800A4494yg9DRQBTh6495f9BAOIu437COzkDO9U0nkUzMQA55zh8rNcpAMgruc1ZFyEC2rnaLJnrGQKM5EiHm0MRAAteaKxNHw0CUIMYUW9rBQGxDczeXiMBABcahQJOfvkCqJecXNFy8QID/pDumQ7pAmZjrl79SuEAIX+P2kYa2QDQqJpRm3LRAnW7NA7pRs0AhugVnOOSxQBzVbOi5kbBANJTY9X6wrkBd7Eys32usQA900lcpUqpAMPbeJDBgqEAbvRQ/BJOmQKT7KWLt56RAzmqzvmZco0DABJ8sG+6hQNUPoaXhmqBAApqEBHTBnkCNZ0Xpk3ucQL2iwni0YJpAQUrgHqhtmEDWedVnfZ+WQCWioI5685RAOFCNXxlnk0Bc/pRoA/iRQPX22XEOpJBA21TQcXLSjkAlWJnTUIuMQPDI46JHb4pAQP8Jiid7iECCXvJ0/auGQKECDx0O/4RAbG+d6dFxg0ADT+wd8QGCQFAY409ArYBA9xzpQnrjfkC1IxRwFpt8QNaWptrifXpA8cN4aq6IeED1TTpqhLh2QLTz+xCoCnVAEOYnYJB8c0CPSatP5AtyQC6NiUJ3tnBA4Cb/fIv0bkAc1oPD5KpsQK0wfiSGjGpA24xLxDyWaECxRX5LEsVmQPM+8G1IFmVAsp9yxlSHY0C67NkA3RViQP/6m0yzv2BA6oRFJaYFX0DAIrnSu7pcQAsw4IQxm1pAU5Wjm9KjWED4XpEcp9FWQMehdjfvIVVA7lbFHx+SU0AO5IE02x9SQFWU6nD0yFBA+ijyQMoWT0BJZoeim8pMQGylRADlqUpA8mCk9G+xSEA=",
          "dtype": "f8"
         },
         "y": {
          "bdata": "AAAAAAAAAAAAAAAAAAAAAAAAAAAAAAAAAAAAAAAAAAAAAAAAAAAAAAAAAAAAAAAAAAAAAAAAAAAAAAAAAAAAAAAAAAAAAAAAAAAAAAAAAAAAAAAAAAAAAAAAAAAAAAAAAAAAAAAAAAAAAAAAAAAAAAAAAAAAAAAAAAAAAAAAAAAAAAAAAAAAAAAAAAAAAAAAAAAAAAAAAAAAAAAAAAAAAAAAAAAAAAAAAAAAAAAAAAAAAAAAAAAAAAAAAAAAAAAAAAAAAAAAAAAAAAAAAAAAgAAAAAAAAACAAAAAAAAAAIAAAAAAAAAAgAAAAAAAAACAAAAAAAAAAIAAAAAAAAAAgAAAAAAAAACAAAAAAAAAAIAAAAAAAAAAgAAAAAAAAACAAAAAAAAAAIAAAAAAAAAAgAAAAAAAAACAAAAAAAAAAIAAAAAAAAAAgAAAAAAAAACAAAAAAAAAAIAAAAAAAAAAgAAAAAAAAACAAAAAAAAAAIAAAAAAAAAAgAAAAAAAAACAAAAAAAAAAIAAAAAAAAAAgAAAAAAAAACAAAAAAAAAAIAAAAAAAAAAgAAAAAAAAACAAAAAAAAAAIAAAAAAAAAAgAAAAAAAAACAAAAAAAAAAIAAAAAAAAAAgAAAAAAAAACAAAAAAAAAAIAAAAAAAAAAgAAAAAAAAACAAAAAAAAAAIAAAAAAAAAAgAAAAAAAAACAAAAAAAAAAIAAAAAAAAAAgAAAAAAAAACAAAAAAAAAAIAAAAAAAAAAgAAAAAAAAACAAAAAAAAAAIAAAAAAAAAAgAAAAAAAAACAAAAAAAAAAIAAAAAAAAAAgAAAAAAAAACAAAAAAAAAAIAAAAAAAAAAgAAAAAAAAACAAAAAAAAAAIAAAAAAAAAAgAAAAAAAAACAAAAAAAAAAIAAAAAAAAAAgAAAAAAAAACAAAAAAAAAAIAAAAAAAAAAgAAAAAAAAACAAAAAAAAAAIAAAAAAAAAAgAAAAAAAAACAAAAAAAAAAIAAAAAAAAAAgAAAAAAAAACAAAAAAAAAAIAAAAAAAAAAgAAAAAAAAAAAAAAAAAAAAAA=",
          "dtype": "f8"
         }
        },
        {
         "mode": "lines",
         "name": "arrival_time_Evening_Economy",
         "type": "scatter",
         "x": {
          "bdata": "rIboVEcd+EBLGwFQDVX2QN0ndcaKrvRA3BzN0kEn80CScRy047zxQCBvGVJNbfBApXI+Bght7kDsC3YeZS3sQLw0g9dMGOpAQwZ/Vpoq6EARBss7ZGHmQLLXtz34ueRAKLlWFtcx40BkVVC+sMbhQEK9D+9gduBA+Bb4zdd93kAD4b3V9jzcQJKE5f+3JtpAomXQtPQ32EBIEgb5wW3WQHwlbQVsxdRAX+rcMnI800A4494yg9DRQBTh6495f9BAOIu437COzkDO9U0nkUzMQA55zh8rNcpAMgruc1ZFyEC2rnaLJnrGQKM5EiHm0MRAAteaKxNHw0CUIMYUW9rBQGxDczeXiMBABcahQJOfvkCqJecXNFy8QID/pDumQ7pAmZjrl79SuEAIX+P2kYa2QDQqJpRm3LRAnW7NA7pRs0AhugVnOOSxQBzVbOi5kbBANJTY9X6wrkBd7Eys32usQA900lcpUqpAMPbeJDBgqEAbvRQ/BJOmQKT7KWLt56RAzmqzvmZco0DABJ8sG+6hQNUPoaXhmqBAApqEBHTBnkCNZ0Xpk3ucQL2iwni0YJpAQUrgHqhtmEDWedVnfZ+WQCWioI5685RAOFCNXxlnk0Bc/pRoA/iRQPX22XEOpJBA21TQcXLSjkAlWJnTUIuMQPDI46JHb4pAQP8Jiid7iECCXvJ0/auGQKECDx0O/4RAbG+d6dFxg0ADT+wd8QGCQFAY409ArYBA9xzpQnrjfkC1IxRwFpt8QNaWptrifXpA8cN4aq6IeED1TTpqhLh2QLTz+xCoCnVAEOYnYJB8c0CPSatP5AtyQC6NiUJ3tnBA4Cb/fIv0bkAc1oPD5KpsQK0wfiSGjGpA24xLxDyWaECxRX5LEsVmQPM+8G1IFmVAsp9yxlSHY0C67NkA3RViQP/6m0yzv2BA6oRFJaYFX0DAIrnSu7pcQAsw4IQxm1pAU5Wjm9KjWED4XpEcp9FWQMehdjfvIVVA7lbFHx+SU0AO5IE02x9SQFWU6nD0yFBA+ijyQMoWT0BJZoeim8pMQGylRADlqUpA8mCk9G+xSEA=",
          "dtype": "f8"
         },
         "y": {
          "bdata": "AAAAAAAAAAAAAAAAAAAAAAAAAAAAAAAAAAAAAAAAAAAAAAAAAAAAAAAAAAAAAAAAAAAAAAAAAAAAAAAAAAAAAAAAAAAAAAAAAAAAAAAAAAAAAAAAAAAAAAAAAAAAAAAAAAAAAAAAAAAAAAAAAAAAAAAAAAAAAAAAAAAAAAAAAAAAAAAAAAAAAAAAAAAAAAAAAAAAAAAAAAAAAAAAAAAAAAAAAAAAAAAAAAAAAAAAAAAAAAAAAAAAAAAAAAAAAAAAAAAAAAAAAAAAAAAAAAAAAAAAAAAAAAAAAAAAAAAAAIAAAAAAAAAAgAAAAAAAAACAAAAAAAAAAIAAAAAAAAAAgAAAAAAAAACAAAAAAAAAAIAAAAAAAAAAgAAAAAAAAACAAAAAAAAAAIAAAAAAAAAAgAAAAAAAAACAAAAAAAAAAIAAAAAAAAAAgAAAAAAAAACAAAAAAAAAAIAAAAAAAAAAgAAAAAAAAACAAAAAAAAAAIAAAAAAAAAAgAAAAAAAAACAAAAAAAAAAIAAAAAAAAAAgAAAAAAAAACAAAAAAAAAAIAAAAAAAAAAgAAAAAAAAACAAAAAAAAAAIAAAAAAAAAAgAAAAAAAAACAAAAAAAAAAIAAAAAAAAAAgAAAAAAAAACAAAAAAAAAAIAAAAAAAAAAgAAAAAAAAACAAAAAAAAAAIAAAAAAAAAAgAAAAAAAAACAAAAAAAAAAIAAAAAAAAAAgAAAAAAAAACAAAAAAAAAAIAAAAAAAAAAgAAAAAAAAACAAAAAAAAAAIAAAAAAAAAAgAAAAAAAAACAAAAAAAAAAIAAAAAAAAAAgAAAAAAAAACAAAAAAAAAAIAAAAAAAAAAgAAAAAAAAAAAAAAAAAAAAIAAAAAAAAAAgAAAAAAAAACAAAAAAAAAAIAAAAAAAAAAgAAAAAAAAACAAAAAAAAAAIAAAAAAAAAAgAAAAAAAAACAAAAAAAAAAIAAAAAAAAAAgAAAAAAAAACAAAAAAAAAAIAAAAAAAAAAgAAAAAAAAACAAAAAAAAAAIAAAAAAAAAAgAAAAAAAAACAAAAAAAAAAIA=",
          "dtype": "f8"
         }
        },
        {
         "mode": "lines",
         "name": "arrival_time_Late_Night_Economy",
         "type": "scatter",
         "x": {
          "bdata": "rIboVEcd+EBLGwFQDVX2QN0ndcaKrvRA3BzN0kEn80CScRy047zxQCBvGVJNbfBApXI+Bght7kDsC3YeZS3sQLw0g9dMGOpAQwZ/Vpoq6EARBss7ZGHmQLLXtz34ueRAKLlWFtcx40BkVVC+sMbhQEK9D+9gduBA+Bb4zdd93kAD4b3V9jzcQJKE5f+3JtpAomXQtPQ32EBIEgb5wW3WQHwlbQVsxdRAX+rcMnI800A4494yg9DRQBTh6495f9BAOIu437COzkDO9U0nkUzMQA55zh8rNcpAMgruc1ZFyEC2rnaLJnrGQKM5EiHm0MRAAteaKxNHw0CUIMYUW9rBQGxDczeXiMBABcahQJOfvkCqJecXNFy8QID/pDumQ7pAmZjrl79SuEAIX+P2kYa2QDQqJpRm3LRAnW7NA7pRs0AhugVnOOSxQBzVbOi5kbBANJTY9X6wrkBd7Eys32usQA900lcpUqpAMPbeJDBgqEAbvRQ/BJOmQKT7KWLt56RAzmqzvmZco0DABJ8sG+6hQNUPoaXhmqBAApqEBHTBnkCNZ0Xpk3ucQL2iwni0YJpAQUrgHqhtmEDWedVnfZ+WQCWioI5685RAOFCNXxlnk0Bc/pRoA/iRQPX22XEOpJBA21TQcXLSjkAlWJnTUIuMQPDI46JHb4pAQP8Jiid7iECCXvJ0/auGQKECDx0O/4RAbG+d6dFxg0ADT+wd8QGCQFAY409ArYBA9xzpQnrjfkC1IxRwFpt8QNaWptrifXpA8cN4aq6IeED1TTpqhLh2QLTz+xCoCnVAEOYnYJB8c0CPSatP5AtyQC6NiUJ3tnBA4Cb/fIv0bkAc1oPD5KpsQK0wfiSGjGpA24xLxDyWaECxRX5LEsVmQPM+8G1IFmVAsp9yxlSHY0C67NkA3RViQP/6m0yzv2BA6oRFJaYFX0DAIrnSu7pcQAsw4IQxm1pAU5Wjm9KjWED4XpEcp9FWQMehdjfvIVVA7lbFHx+SU0AO5IE02x9SQFWU6nD0yFBA+ijyQMoWT0BJZoeim8pMQGylRADlqUpA8mCk9G+xSEA=",
          "dtype": "f8"
         },
         "y": {
          "bdata": "AAAAAAAAAAAAAAAAAAAAAAAAAAAAAAAAAAAAAAAAAAAAAAAAAAAAAAAAAAAAAAAAAAAAAAAAAAAAAAAAAAAAAAAAAAAAAAAAAAAAAAAAAAAAAAAAAAAAAAAAAAAAAAAAAAAAAAAAAAAAAAAAAAAAAAAAAAAAAAAAAAAAAAAAAAAAAAAAAAAAAAAAAAAAAAAAAAAAAAAAAAAAAAAAAAAAAAAAAAAAAAAAAAAAAAAAAAAAAAAAAAAAAAAAAAAAAAAAAAAAAAAAAIAAAAAAAAAAgAAAAAAAAACAAAAAAAAAAIAAAAAAAAAAgAAAAAAAAACAAAAAAAAAAIAAAAAAAAAAgAAAAAAAAACAAAAAAAAAAIAAAAAAAAAAgAAAAAAAAACAAAAAAAAAAIAAAAAAAAAAgAAAAAAAAACAAAAAAAAAAIAAAAAAAAAAgAAAAAAAAACAAAAAAAAAAIAAAAAAAAAAgAAAAAAAAACAAAAAAAAAAIAAAAAAAAAAgAAAAAAAAACAAAAAAAAAAIAAAAAAAAAAgAAAAAAAAACAAAAAAAAAAIAAAAAAAAAAgAAAAAAAAACAAAAAAAAAAIAAAAAAAAAAgAAAAAAAAACAAAAAAAAAAIAAAAAAAAAAgAAAAAAAAACAAAAAAAAAAIAAAAAAAAAAgAAAAAAAAACAAAAAAAAAAIAAAAAAAAAAgAAAAAAAAACAAAAAAAAAAIAAAAAAAAAAgAAAAAAAAACAAAAAAAAAAIAAAAAAAAAAgAAAAAAAAACAAAAAAAAAAIAAAAAAAAAAgAAAAAAAAACAAAAAAAAAAIAAAAAAAAAAgAAAAAAAAACAAAAAAAAAAIAAAAAAAAAAgAAAAAAAAACAAAAAAAAAAIAAAAAAAAAAgAAAAAAAAACAAAAAAAAAAIAAAAAAAAAAgAAAAAAAAACAAAAAAAAAAIAAAAAAAAAAgAAAAAAAAACAAAAAAAAAAIAAAAAAAAAAgAAAAAAAAAAAAAAAAAAAAAAAAAAAAAAAAAAAAAAAAAAAAAAAAAAAAAAAAAAAAAAAAAAAAAAAAAAAAAAAAAAAAAA=",
          "dtype": "f8"
         }
        },
        {
         "mode": "lines",
         "name": "arrival_time_Morning_Economy",
         "type": "scatter",
         "x": {
          "bdata": "rIboVEcd+EBLGwFQDVX2QN0ndcaKrvRA3BzN0kEn80CScRy047zxQCBvGVJNbfBApXI+Bght7kDsC3YeZS3sQLw0g9dMGOpAQwZ/Vpoq6EARBss7ZGHmQLLXtz34ueRAKLlWFtcx40BkVVC+sMbhQEK9D+9gduBA+Bb4zdd93kAD4b3V9jzcQJKE5f+3JtpAomXQtPQ32EBIEgb5wW3WQHwlbQVsxdRAX+rcMnI800A4494yg9DRQBTh6495f9BAOIu437COzkDO9U0nkUzMQA55zh8rNcpAMgruc1ZFyEC2rnaLJnrGQKM5EiHm0MRAAteaKxNHw0CUIMYUW9rBQGxDczeXiMBABcahQJOfvkCqJecXNFy8QID/pDumQ7pAmZjrl79SuEAIX+P2kYa2QDQqJpRm3LRAnW7NA7pRs0AhugVnOOSxQBzVbOi5kbBANJTY9X6wrkBd7Eys32usQA900lcpUqpAMPbeJDBgqEAbvRQ/BJOmQKT7KWLt56RAzmqzvmZco0DABJ8sG+6hQNUPoaXhmqBAApqEBHTBnkCNZ0Xpk3ucQL2iwni0YJpAQUrgHqhtmEDWedVnfZ+WQCWioI5685RAOFCNXxlnk0Bc/pRoA/iRQPX22XEOpJBA21TQcXLSjkAlWJnTUIuMQPDI46JHb4pAQP8Jiid7iECCXvJ0/auGQKECDx0O/4RAbG+d6dFxg0ADT+wd8QGCQFAY409ArYBA9xzpQnrjfkC1IxRwFpt8QNaWptrifXpA8cN4aq6IeED1TTpqhLh2QLTz+xCoCnVAEOYnYJB8c0CPSatP5AtyQC6NiUJ3tnBA4Cb/fIv0bkAc1oPD5KpsQK0wfiSGjGpA24xLxDyWaECxRX5LEsVmQPM+8G1IFmVAsp9yxlSHY0C67NkA3RViQP/6m0yzv2BA6oRFJaYFX0DAIrnSu7pcQAsw4IQxm1pAU5Wjm9KjWED4XpEcp9FWQMehdjfvIVVA7lbFHx+SU0AO5IE02x9SQFWU6nD0yFBA+ijyQMoWT0BJZoeim8pMQGylRADlqUpA8mCk9G+xSEA=",
          "dtype": "f8"
         },
         "y": {
          "bdata": "AAAAAAAAAAAAAAAAAAAAAAAAAAAAAAAAAAAAAAAAAAAAAAAAAAAAAAAAAAAAAAAAAAAAAAAAAAAAAAAAAAAAAAAAAAAAAAAAAAAAAAAAAAAAAAAAAAAAAAAAAAAAAAAAAAAAAAAAAAAAAAAAAAAAAAAAAAAAAAAAAAAAAAAAAAAAAAAAAAAAAAAAAAAAAAAAAAAAAAAAAAAAAAAAAAAAAAAAAAAAAAAAAAAAAAAAAAAAAAAAAAAAAAAAAAAAAAAAAAAAAAAAAAAAAAAAAAAAAAAAAAAAAACAAAAAAAAAAIAAAAAAAAAAgAAAAAAAAACAAAAAAAAAAIAAAAAAAAAAgAAAAAAAAACAAAAAAAAAAIAAAAAAAAAAgAAAAAAAAACAAAAAAAAAAIAAAAAAAAAAgAAAAAAAAACAAAAAAAAAAIAAAAAAAAAAgAAAAAAAAACAAAAAAAAAAIAAAAAAAAAAgAAAAAAAAACAAAAAAAAAAIAAAAAAAAAAgAAAAAAAAACAAAAAAAAAAIAAAAAAAAAAgAAAAAAAAACAAAAAAAAAAIAAAAAAAAAAgAAAAAAAAACAAAAAAAAAAIAAAAAAAAAAgAAAAAAAAACAAAAAAAAAAIAAAAAAAAAAgAAAAAAAAACAAAAAAAAAAIAAAAAAAAAAgAAAAAAAAACAAAAAAAAAAIAAAAAAAAAAgAAAAAAAAACAAAAAAAAAAIAAAAAAAAAAgAAAAAAAAACAAAAAAAAAAIAAAAAAAAAAgAAAAAAAAACAAAAAAAAAAIAAAAAAAAAAgAAAAAAAAACAAAAAAAAAAIAAAAAAAAAAgAAAAAAAAACAAAAAAAAAAIAAAAAAAAAAgAAAAAAAAACAAAAAAAAAAIAAAAAAAAAAgAAAAAAAAACAAAAAAAAAAIAAAAAAAAAAgAAAAAAAAACAAAAAAAAAAIAAAAAAAAAAgAAAAAAAAACAAAAAAAAAAIAAAAAAAAAAgAAAAAAAAAAAAAAAAAAAAAAAAAAAAAAAAAAAAAAAAAAAAAAAAAAAAAAAAAAAAAAAAAAAAAAAAAAAAAAAAAAAAAA=",
          "dtype": "f8"
         }
        },
        {
         "mode": "lines",
         "name": "arrival_time_Night_Economy",
         "type": "scatter",
         "x": {
          "bdata": "rIboVEcd+EBLGwFQDVX2QN0ndcaKrvRA3BzN0kEn80CScRy047zxQCBvGVJNbfBApXI+Bght7kDsC3YeZS3sQLw0g9dMGOpAQwZ/Vpoq6EARBss7ZGHmQLLXtz34ueRAKLlWFtcx40BkVVC+sMbhQEK9D+9gduBA+Bb4zdd93kAD4b3V9jzcQJKE5f+3JtpAomXQtPQ32EBIEgb5wW3WQHwlbQVsxdRAX+rcMnI800A4494yg9DRQBTh6495f9BAOIu437COzkDO9U0nkUzMQA55zh8rNcpAMgruc1ZFyEC2rnaLJnrGQKM5EiHm0MRAAteaKxNHw0CUIMYUW9rBQGxDczeXiMBABcahQJOfvkCqJecXNFy8QID/pDumQ7pAmZjrl79SuEAIX+P2kYa2QDQqJpRm3LRAnW7NA7pRs0AhugVnOOSxQBzVbOi5kbBANJTY9X6wrkBd7Eys32usQA900lcpUqpAMPbeJDBgqEAbvRQ/BJOmQKT7KWLt56RAzmqzvmZco0DABJ8sG+6hQNUPoaXhmqBAApqEBHTBnkCNZ0Xpk3ucQL2iwni0YJpAQUrgHqhtmEDWedVnfZ+WQCWioI5685RAOFCNXxlnk0Bc/pRoA/iRQPX22XEOpJBA21TQcXLSjkAlWJnTUIuMQPDI46JHb4pAQP8Jiid7iECCXvJ0/auGQKECDx0O/4RAbG+d6dFxg0ADT+wd8QGCQFAY409ArYBA9xzpQnrjfkC1IxRwFpt8QNaWptrifXpA8cN4aq6IeED1TTpqhLh2QLTz+xCoCnVAEOYnYJB8c0CPSatP5AtyQC6NiUJ3tnBA4Cb/fIv0bkAc1oPD5KpsQK0wfiSGjGpA24xLxDyWaECxRX5LEsVmQPM+8G1IFmVAsp9yxlSHY0C67NkA3RViQP/6m0yzv2BA6oRFJaYFX0DAIrnSu7pcQAsw4IQxm1pAU5Wjm9KjWED4XpEcp9FWQMehdjfvIVVA7lbFHx+SU0AO5IE02x9SQFWU6nD0yFBA+ijyQMoWT0BJZoeim8pMQGylRADlqUpA8mCk9G+xSEA=",
          "dtype": "f8"
         },
         "y": {
          "bdata": "AAAAAAAAAAAAAAAAAAAAAAAAAAAAAAAAAAAAAAAAAAAAAAAAAAAAAAAAAAAAAAAAAAAAAAAAAAAAAAAAAAAAAAAAAAAAAAAAAAAAAAAAAAAAAAAAAAAAAAAAAAAAAAAAAAAAAAAAAAAAAAAAAAAAAAAAAAAAAAAAAAAAAAAAAAAAAAAAAAAAAAAAAAAAAAAAAAAAAAAAAAAAAAAAAAAAAAAAAAAAAAAAAAAAAAAAAAAAAAAAAAAAAAAAAAAAAAAAAAAAAAAAAAAAAAAAAAAAAAAAAAAAAACAAAAAAAAAAIAAAAAAAAAAgAAAAAAAAACAAAAAAAAAAIAAAAAAAAAAgAAAAAAAAACAAAAAAAAAAIAAAAAAAAAAgAAAAAAAAACAAAAAAAAAAIAAAAAAAAAAgAAAAAAAAACAAAAAAAAAAIAAAAAAAAAAgAAAAAAAAACAAAAAAAAAAIAAAAAAAAAAgAAAAAAAAACAAAAAAAAAAIAAAAAAAAAAgAAAAAAAAACAAAAAAAAAAIAAAAAAAAAAgAAAAAAAAACAAAAAAAAAAIAAAAAAAAAAgAAAAAAAAACAAAAAAAAAAIAAAAAAAAAAgAAAAAAAAACAAAAAAAAAAIAAAAAAAAAAgAAAAAAAAACAAAAAAAAAAIAAAAAAAAAAgAAAAAAAAACAAAAAAAAAAIAAAAAAAAAAgAAAAAAAAACAAAAAAAAAAIAAAAAAAAAAgAAAAAAAAACAAAAAAAAAAIAAAAAAAAAAgAAAAAAAAACAAAAAAAAAAIAAAAAAAAAAgAAAAAAAAACAAAAAAAAAAIAAAAAAAAAAgAAAAAAAAACAAAAAAAAAAIAAAAAAAAAAgAAAAAAAAACAAAAAAAAAAIAAAAAAAAAAgAAAAAAAAACAAAAAAAAAAIAAAAAAAAAAgAAAAAAAAACAAAAAAAAAAIAAAAAAAAAAgAAAAAAAAACAAAAAAAAAAIAAAAAAAAAAgAAAAAAAAACAAAAAAAAAAIAAAAAAAAAAgAAAAAAAAACAHbTY48CMTsAySlFOSrhmwJQjupB8UXLA0LZKYpZveMA=",
          "dtype": "f8"
         }
        },
        {
         "mode": "lines",
         "name": "destination_city_Chennai_Economy",
         "type": "scatter",
         "x": {
          "bdata": "rIboVEcd+EBLGwFQDVX2QN0ndcaKrvRA3BzN0kEn80CScRy047zxQCBvGVJNbfBApXI+Bght7kDsC3YeZS3sQLw0g9dMGOpAQwZ/Vpoq6EARBss7ZGHmQLLXtz34ueRAKLlWFtcx40BkVVC+sMbhQEK9D+9gduBA+Bb4zdd93kAD4b3V9jzcQJKE5f+3JtpAomXQtPQ32EBIEgb5wW3WQHwlbQVsxdRAX+rcMnI800A4494yg9DRQBTh6495f9BAOIu437COzkDO9U0nkUzMQA55zh8rNcpAMgruc1ZFyEC2rnaLJnrGQKM5EiHm0MRAAteaKxNHw0CUIMYUW9rBQGxDczeXiMBABcahQJOfvkCqJecXNFy8QID/pDumQ7pAmZjrl79SuEAIX+P2kYa2QDQqJpRm3LRAnW7NA7pRs0AhugVnOOSxQBzVbOi5kbBANJTY9X6wrkBd7Eys32usQA900lcpUqpAMPbeJDBgqEAbvRQ/BJOmQKT7KWLt56RAzmqzvmZco0DABJ8sG+6hQNUPoaXhmqBAApqEBHTBnkCNZ0Xpk3ucQL2iwni0YJpAQUrgHqhtmEDWedVnfZ+WQCWioI5685RAOFCNXxlnk0Bc/pRoA/iRQPX22XEOpJBA21TQcXLSjkAlWJnTUIuMQPDI46JHb4pAQP8Jiid7iECCXvJ0/auGQKECDx0O/4RAbG+d6dFxg0ADT+wd8QGCQFAY409ArYBA9xzpQnrjfkC1IxRwFpt8QNaWptrifXpA8cN4aq6IeED1TTpqhLh2QLTz+xCoCnVAEOYnYJB8c0CPSatP5AtyQC6NiUJ3tnBA4Cb/fIv0bkAc1oPD5KpsQK0wfiSGjGpA24xLxDyWaECxRX5LEsVmQPM+8G1IFmVAsp9yxlSHY0C67NkA3RViQP/6m0yzv2BA6oRFJaYFX0DAIrnSu7pcQAsw4IQxm1pAU5Wjm9KjWED4XpEcp9FWQMehdjfvIVVA7lbFHx+SU0AO5IE02x9SQFWU6nD0yFBA+ijyQMoWT0BJZoeim8pMQGylRADlqUpA8mCk9G+xSEA=",
          "dtype": "f8"
         },
         "y": {
          "bdata": "AAAAAAAAAAAAAAAAAAAAAAAAAAAAAAAAAAAAAAAAAAAAAAAAAAAAAAAAAAAAAAAAAAAAAAAAAAAAAAAAAAAAAAAAAAAAAAAAAAAAAAAAAAAAAAAAAAAAAAAAAAAAAAAAAAAAAAAAAAAAAAAAAAAAAAAAAAAAAAAAAAAAAAAAAAAAAAAAAAAAAAAAAAAAAAAAAAAAAAAAAAAAAAAAAAAAAAAAAAAAAAAAAAAAAAAAAAAAAAAAAAAAAAAAAAAAAAAAAAAAAAAAAAAAAAAAAAAAAAAAAAAAAACAAAAAAAAAAIAAAAAAAAAAgAAAAAAAAACAAAAAAAAAAIAAAAAAAAAAgAAAAAAAAACAAAAAAAAAAIAAAAAAAAAAgAAAAAAAAACAAAAAAAAAAIAAAAAAAAAAgAAAAAAAAACAAAAAAAAAAIAAAAAAAAAAgAAAAAAAAACAAAAAAAAAAIAAAAAAAAAAgAAAAAAAAACAAAAAAAAAAIAAAAAAAAAAgAAAAAAAAACAAAAAAAAAAIAAAAAAAAAAgAAAAAAAAACAAAAAAAAAAIAAAAAAAAAAgAAAAAAAAACAAAAAAAAAAIAAAAAAAAAAgAAAAAAAAACAAAAAAAAAAIAAAAAAAAAAgAAAAAAAAACAAAAAAAAAAIAAAAAAAAAAgAAAAAAAAACAAAAAAAAAAIAAAAAAAAAAgAAAAAAAAACAAAAAAAAAAIAAAAAAAAAAgAAAAAAAAACAAAAAAAAAAIAAAAAAAAAAgAAAAAAAAACAAAAAAAAAAIAAAAAAAAAAgAAAAAAAAACAAAAAAAAAAIAAAAAAAAAAgAAAAAAAAACAAAAAAAAAAIAAAAAAAAAAgAAAAAAAAACAAAAAAAAAAIAAAAAAAAAAgAAAAAAAAACAAAAAAAAAAIAAAAAAAAAAgAAAAAAAAACAAAAAAAAAAIAAAAAAAAAAgAAAAAAAAACAAAAAAAAAAIAAAAAAAAAAgAAAAAAAAACAAAAAAAAAAIAAAAAAAAAAgAAAAAAAAACAAAAAAAAAAIAAAAAAAAAAgAAAAAAAAACAAAAAAAAAAIA=",
          "dtype": "f8"
         }
        },
        {
         "mode": "lines",
         "name": "destination_city_Delhi_Economy",
         "type": "scatter",
         "x": {
          "bdata": "rIboVEcd+EBLGwFQDVX2QN0ndcaKrvRA3BzN0kEn80CScRy047zxQCBvGVJNbfBApXI+Bght7kDsC3YeZS3sQLw0g9dMGOpAQwZ/Vpoq6EARBss7ZGHmQLLXtz34ueRAKLlWFtcx40BkVVC+sMbhQEK9D+9gduBA+Bb4zdd93kAD4b3V9jzcQJKE5f+3JtpAomXQtPQ32EBIEgb5wW3WQHwlbQVsxdRAX+rcMnI800A4494yg9DRQBTh6495f9BAOIu437COzkDO9U0nkUzMQA55zh8rNcpAMgruc1ZFyEC2rnaLJnrGQKM5EiHm0MRAAteaKxNHw0CUIMYUW9rBQGxDczeXiMBABcahQJOfvkCqJecXNFy8QID/pDumQ7pAmZjrl79SuEAIX+P2kYa2QDQqJpRm3LRAnW7NA7pRs0AhugVnOOSxQBzVbOi5kbBANJTY9X6wrkBd7Eys32usQA900lcpUqpAMPbeJDBgqEAbvRQ/BJOmQKT7KWLt56RAzmqzvmZco0DABJ8sG+6hQNUPoaXhmqBAApqEBHTBnkCNZ0Xpk3ucQL2iwni0YJpAQUrgHqhtmEDWedVnfZ+WQCWioI5685RAOFCNXxlnk0Bc/pRoA/iRQPX22XEOpJBA21TQcXLSjkAlWJnTUIuMQPDI46JHb4pAQP8Jiid7iECCXvJ0/auGQKECDx0O/4RAbG+d6dFxg0ADT+wd8QGCQFAY409ArYBA9xzpQnrjfkC1IxRwFpt8QNaWptrifXpA8cN4aq6IeED1TTpqhLh2QLTz+xCoCnVAEOYnYJB8c0CPSatP5AtyQC6NiUJ3tnBA4Cb/fIv0bkAc1oPD5KpsQK0wfiSGjGpA24xLxDyWaECxRX5LEsVmQPM+8G1IFmVAsp9yxlSHY0C67NkA3RViQP/6m0yzv2BA6oRFJaYFX0DAIrnSu7pcQAsw4IQxm1pAU5Wjm9KjWED4XpEcp9FWQMehdjfvIVVA7lbFHx+SU0AO5IE02x9SQFWU6nD0yFBA+ijyQMoWT0BJZoeim8pMQGylRADlqUpA8mCk9G+xSEA=",
          "dtype": "f8"
         },
         "y": {
          "bdata": "AAAAAAAAAAAAAAAAAAAAAAAAAAAAAAAAAAAAAAAAAAAAAAAAAAAAAAAAAAAAAAAAAAAAAAAAAAAAAAAAAAAAAAAAAAAAAAAAAAAAAAAAAAAAAAAAAAAAAAAAAAAAAAAAAAAAAAAAAAAAAAAAAAAAAAAAAAAAAAAAAAAAAAAAAAAAAAAAAAAAAAAAAAAAAAAAAAAAAAAAAAAAAAAAAAAAAAAAAAAAAAAAAAAAAAAAAAAAAAAAAAAAAAAAAAAAAAAAAAAAAAAAAAAAAAAAAAAAgAAAAAAAAACAAAAAAAAAAIAAAAAAAAAAgAAAAAAAAACAAAAAAAAAAIAAAAAAAAAAgAAAAAAAAACAAAAAAAAAAIAAAAAAAAAAgAAAAAAAAACAAAAAAAAAAIAAAAAAAAAAgAAAAAAAAACAAAAAAAAAAIAAAAAAAAAAgAAAAAAAAACAAAAAAAAAAIAAAAAAAAAAgAAAAAAAAACAAAAAAAAAAIAAAAAAAAAAgAAAAAAAAACAAAAAAAAAAIAAAAAAAAAAgAAAAAAAAACAAAAAAAAAAIAAAAAAAAAAgAAAAAAAAACAAAAAAAAAAIAAAAAAAAAAgAAAAAAAAACAAAAAAAAAAIAAAAAAAAAAgAAAAAAAAACAAAAAAAAAAIAAAAAAAAAAgAAAAAAAAACAAAAAAAAAAIAAAAAAAAAAgAAAAAAAAACAAAAAAAAAAIAAAAAAAAAAgAAAAAAAAACAAAAAAAAAAIAAAAAAAAAAgAAAAAAAAACAAAAAAAAAAIAAAAAAAAAAgAAAAAAAAACAAAAAAAAAAIAAAAAAAAAAgAAAAAAAAACAAAAAAAAAAIAAAAAAAAAAgAAAAAAAAACAAAAAAAAAAIAAAAAAAAAAgAAAAAAAAACAAAAAAAAAAIAAAAAAAAAAgAAAAAAAAACAAAAAAAAAAIAAAAAAAAAAgAAAAAAAAACAAAAAAAAAAIAAAAAAAAAAgAAAAAAAAAAAAAAAAAAAAAAAAAAAAAAAAAAAAAAAAAAAAAAAAAAAAAAAAAAAAAAAAAAAAAAAAAAAAAAAAAAAAAA=",
          "dtype": "f8"
         }
        },
        {
         "mode": "lines",
         "name": "destination_city_Hyderabad_Economy",
         "type": "scatter",
         "x": {
          "bdata": "rIboVEcd+EBLGwFQDVX2QN0ndcaKrvRA3BzN0kEn80CScRy047zxQCBvGVJNbfBApXI+Bght7kDsC3YeZS3sQLw0g9dMGOpAQwZ/Vpoq6EARBss7ZGHmQLLXtz34ueRAKLlWFtcx40BkVVC+sMbhQEK9D+9gduBA+Bb4zdd93kAD4b3V9jzcQJKE5f+3JtpAomXQtPQ32EBIEgb5wW3WQHwlbQVsxdRAX+rcMnI800A4494yg9DRQBTh6495f9BAOIu437COzkDO9U0nkUzMQA55zh8rNcpAMgruc1ZFyEC2rnaLJnrGQKM5EiHm0MRAAteaKxNHw0CUIMYUW9rBQGxDczeXiMBABcahQJOfvkCqJecXNFy8QID/pDumQ7pAmZjrl79SuEAIX+P2kYa2QDQqJpRm3LRAnW7NA7pRs0AhugVnOOSxQBzVbOi5kbBANJTY9X6wrkBd7Eys32usQA900lcpUqpAMPbeJDBgqEAbvRQ/BJOmQKT7KWLt56RAzmqzvmZco0DABJ8sG+6hQNUPoaXhmqBAApqEBHTBnkCNZ0Xpk3ucQL2iwni0YJpAQUrgHqhtmEDWedVnfZ+WQCWioI5685RAOFCNXxlnk0Bc/pRoA/iRQPX22XEOpJBA21TQcXLSjkAlWJnTUIuMQPDI46JHb4pAQP8Jiid7iECCXvJ0/auGQKECDx0O/4RAbG+d6dFxg0ADT+wd8QGCQFAY409ArYBA9xzpQnrjfkC1IxRwFpt8QNaWptrifXpA8cN4aq6IeED1TTpqhLh2QLTz+xCoCnVAEOYnYJB8c0CPSatP5AtyQC6NiUJ3tnBA4Cb/fIv0bkAc1oPD5KpsQK0wfiSGjGpA24xLxDyWaECxRX5LEsVmQPM+8G1IFmVAsp9yxlSHY0C67NkA3RViQP/6m0yzv2BA6oRFJaYFX0DAIrnSu7pcQAsw4IQxm1pAU5Wjm9KjWED4XpEcp9FWQMehdjfvIVVA7lbFHx+SU0AO5IE02x9SQFWU6nD0yFBA+ijyQMoWT0BJZoeim8pMQGylRADlqUpA8mCk9G+xSEA=",
          "dtype": "f8"
         },
         "y": {
          "bdata": "AAAAAAAAAAAAAAAAAAAAAAAAAAAAAAAAAAAAAAAAAAAAAAAAAAAAAAAAAAAAAAAAAAAAAAAAAAAAAAAAAAAAAAAAAAAAAAAAAAAAAAAAAAAAAAAAAAAAAAAAAAAAAAAAAAAAAAAAAAAAAAAAAAAAAAAAAAAAAAAAAAAAAAAAAAAAAAAAAAAAAAAAAAAAAAAAAAAAAAAAAAAAAAAAAAAAAAAAAAAAAAAAAAAAAAAAAAAAAAAAAAAAAAAAAAAAAAAAAAAAAAAAAAAAAAAAAAAAgAAAAAAAAACAAAAAAAAAAIAAAAAAAAAAgAAAAAAAAACAAAAAAAAAAIAAAAAAAAAAgAAAAAAAAACAAAAAAAAAAIAAAAAAAAAAgAAAAAAAAACAAAAAAAAAAIAAAAAAAAAAgAAAAAAAAACAAAAAAAAAAIAAAAAAAAAAgAAAAAAAAACAAAAAAAAAAIAAAAAAAAAAgAAAAAAAAACAAAAAAAAAAIAAAAAAAAAAgAAAAAAAAACAAAAAAAAAAIAAAAAAAAAAgAAAAAAAAACAAAAAAAAAAIAAAAAAAAAAgAAAAAAAAACAAAAAAAAAAIAAAAAAAAAAgAAAAAAAAACAAAAAAAAAAIAAAAAAAAAAgAAAAAAAAACAAAAAAAAAAIAAAAAAAAAAgAAAAAAAAACAAAAAAAAAAIAAAAAAAAAAgAAAAAAAAACAAAAAAAAAAIAAAAAAAAAAgAAAAAAAAACAAAAAAAAAAIAAAAAAAAAAgAAAAAAAAACAAAAAAAAAAIAAAAAAAAAAgAAAAAAAAACAAAAAAAAAAIAAAAAAAAAAgAAAAAAAAACAAAAAAAAAAIAAAAAAAAAAgAAAAAAAAACAAAAAAAAAAIAAAAAAAAAAgAAAAAAAAACAAAAAAAAAAIAAAAAAAAAAgAAAAAAAAACAAAAAAAAAAIAAAAAAAAAAgAAAAAAAAACAAAAAAAAAAIAAAAAAAAAAgAAAAAAAAAAAAAAAAAAAAAAAAAAAAAAAAAAAAAAAAAAAAAAAAAAAAAAAAAAAAAAAAAAAAAAAAAAAAAAAAAAAAAA=",
          "dtype": "f8"
         }
        },
        {
         "mode": "lines",
         "name": "destination_city_Kolkata_Economy",
         "type": "scatter",
         "x": {
          "bdata": "rIboVEcd+EBLGwFQDVX2QN0ndcaKrvRA3BzN0kEn80CScRy047zxQCBvGVJNbfBApXI+Bght7kDsC3YeZS3sQLw0g9dMGOpAQwZ/Vpoq6EARBss7ZGHmQLLXtz34ueRAKLlWFtcx40BkVVC+sMbhQEK9D+9gduBA+Bb4zdd93kAD4b3V9jzcQJKE5f+3JtpAomXQtPQ32EBIEgb5wW3WQHwlbQVsxdRAX+rcMnI800A4494yg9DRQBTh6495f9BAOIu437COzkDO9U0nkUzMQA55zh8rNcpAMgruc1ZFyEC2rnaLJnrGQKM5EiHm0MRAAteaKxNHw0CUIMYUW9rBQGxDczeXiMBABcahQJOfvkCqJecXNFy8QID/pDumQ7pAmZjrl79SuEAIX+P2kYa2QDQqJpRm3LRAnW7NA7pRs0AhugVnOOSxQBzVbOi5kbBANJTY9X6wrkBd7Eys32usQA900lcpUqpAMPbeJDBgqEAbvRQ/BJOmQKT7KWLt56RAzmqzvmZco0DABJ8sG+6hQNUPoaXhmqBAApqEBHTBnkCNZ0Xpk3ucQL2iwni0YJpAQUrgHqhtmEDWedVnfZ+WQCWioI5685RAOFCNXxlnk0Bc/pRoA/iRQPX22XEOpJBA21TQcXLSjkAlWJnTUIuMQPDI46JHb4pAQP8Jiid7iECCXvJ0/auGQKECDx0O/4RAbG+d6dFxg0ADT+wd8QGCQFAY409ArYBA9xzpQnrjfkC1IxRwFpt8QNaWptrifXpA8cN4aq6IeED1TTpqhLh2QLTz+xCoCnVAEOYnYJB8c0CPSatP5AtyQC6NiUJ3tnBA4Cb/fIv0bkAc1oPD5KpsQK0wfiSGjGpA24xLxDyWaECxRX5LEsVmQPM+8G1IFmVAsp9yxlSHY0C67NkA3RViQP/6m0yzv2BA6oRFJaYFX0DAIrnSu7pcQAsw4IQxm1pAU5Wjm9KjWED4XpEcp9FWQMehdjfvIVVA7lbFHx+SU0AO5IE02x9SQFWU6nD0yFBA+ijyQMoWT0BJZoeim8pMQGylRADlqUpA8mCk9G+xSEA=",
          "dtype": "f8"
         },
         "y": {
          "bdata": "AAAAAAAAAAAAAAAAAAAAAAAAAAAAAAAAAAAAAAAAAAAAAAAAAAAAAAAAAAAAAAAAAAAAAAAAAAAAAAAAAAAAAAAAAAAAAAAAAAAAAAAAAAAAAAAAAAAAAAAAAAAAAAAAAAAAAAAAAAAAAAAAAAAAAAAAAAAAAAAAAAAAAAAAAAAAAAAAAAAAAAAAAAAAAAAAAAAAAAAAAAAAAAAAAAAAAAAAAAAAAAAAAAAAAAAAAAAAAAAAAAAAAAAAAAAAAAAAAAAAAAAAAAAAAAAAAAAAAAAAAAAAAAAAAAAAAAAAAIAAAAAAAAAAgAAAAAAAAACAAAAAAAAAAIAAAAAAAAAAgAAAAAAAAACAAAAAAAAAAIAAAAAAAAAAgAAAAAAAAACAAAAAAAAAAIAAAAAAAAAAgAAAAAAAAACAAAAAAAAAAIAAAAAAAAAAgAAAAAAAAACAAAAAAAAAAIAAAAAAAAAAgAAAAAAAAACAAAAAAAAAAIAAAAAAAAAAgAAAAAAAAACAAAAAAAAAAIAAAAAAAAAAgAAAAAAAAACAAAAAAAAAAIAAAAAAAAAAgAAAAAAAAACAAAAAAAAAAIAAAAAAAAAAgAAAAAAAAACAAAAAAAAAAIAAAAAAAAAAgAAAAAAAAACAAAAAAAAAAIAAAAAAAAAAgAAAAAAAAACAAAAAAAAAAIAAAAAAAAAAgAAAAAAAAACAAAAAAAAAAIAAAAAAAAAAgAAAAAAAAAAAAAAAAAAAAAAAAAAAAAAAAAAAAAAAAAAAAAAAAAAAAAAAAAAAAAAAAAAAAAAAAAAAAAAAAAAAAAAAAAAAAAAAAAAAAAAAAAAAAAAAAAAAAAAAAAAAAAAAAAAAAAAAAAAAAAAAAAAAAAAAAAAAAAAAAAAAAAAAAACAAAAAAAAAAIAAAAAAAAAAgAAAAAAAAACAAAAAAAAAAIAAAAAAAAAAgAAAAAAAAACAAAAAAAAAAIAAAAAAAAAAgAAAAAAAAACAAAAAAAAAAIAAAAAAAAAAgAAAAAAAAACAsLBj9ov7PsC5rEJPkUlywO5prh1G44DAZpDvTLDiicA=",
          "dtype": "f8"
         }
        },
        {
         "mode": "lines",
         "name": "destination_city_Mumbai_Economy",
         "type": "scatter",
         "x": {
          "bdata": "rIboVEcd+EBLGwFQDVX2QN0ndcaKrvRA3BzN0kEn80CScRy047zxQCBvGVJNbfBApXI+Bght7kDsC3YeZS3sQLw0g9dMGOpAQwZ/Vpoq6EARBss7ZGHmQLLXtz34ueRAKLlWFtcx40BkVVC+sMbhQEK9D+9gduBA+Bb4zdd93kAD4b3V9jzcQJKE5f+3JtpAomXQtPQ32EBIEgb5wW3WQHwlbQVsxdRAX+rcMnI800A4494yg9DRQBTh6495f9BAOIu437COzkDO9U0nkUzMQA55zh8rNcpAMgruc1ZFyEC2rnaLJnrGQKM5EiHm0MRAAteaKxNHw0CUIMYUW9rBQGxDczeXiMBABcahQJOfvkCqJecXNFy8QID/pDumQ7pAmZjrl79SuEAIX+P2kYa2QDQqJpRm3LRAnW7NA7pRs0AhugVnOOSxQBzVbOi5kbBANJTY9X6wrkBd7Eys32usQA900lcpUqpAMPbeJDBgqEAbvRQ/BJOmQKT7KWLt56RAzmqzvmZco0DABJ8sG+6hQNUPoaXhmqBAApqEBHTBnkCNZ0Xpk3ucQL2iwni0YJpAQUrgHqhtmEDWedVnfZ+WQCWioI5685RAOFCNXxlnk0Bc/pRoA/iRQPX22XEOpJBA21TQcXLSjkAlWJnTUIuMQPDI46JHb4pAQP8Jiid7iECCXvJ0/auGQKECDx0O/4RAbG+d6dFxg0ADT+wd8QGCQFAY409ArYBA9xzpQnrjfkC1IxRwFpt8QNaWptrifXpA8cN4aq6IeED1TTpqhLh2QLTz+xCoCnVAEOYnYJB8c0CPSatP5AtyQC6NiUJ3tnBA4Cb/fIv0bkAc1oPD5KpsQK0wfiSGjGpA24xLxDyWaECxRX5LEsVmQPM+8G1IFmVAsp9yxlSHY0C67NkA3RViQP/6m0yzv2BA6oRFJaYFX0DAIrnSu7pcQAsw4IQxm1pAU5Wjm9KjWED4XpEcp9FWQMehdjfvIVVA7lbFHx+SU0AO5IE02x9SQFWU6nD0yFBA+ijyQMoWT0BJZoeim8pMQGylRADlqUpA8mCk9G+xSEA=",
          "dtype": "f8"
         },
         "y": {
          "bdata": "AAAAAAAAAAAAAAAAAAAAAAAAAAAAAAAAAAAAAAAAAAAAAAAAAAAAAAAAAAAAAAAAAAAAAAAAAAAAAAAAAAAAAAAAAAAAAAAAAAAAAAAAAAAAAAAAAAAAAAAAAAAAAAAAAAAAAAAAAAAAAAAAAAAAAAAAAAAAAAAAAAAAAAAAAAAAAAAAAAAAAAAAAAAAAAAAAAAAAAAAAAAAAAAAAAAAAAAAAAAAAAAAAAAAAAAAAAAAAAAAAAAAAAAAAAAAAAAAAAAAAAAAAAAAAAAAAAAAAAAAAAAAAACAAAAAAAAAAIAAAAAAAAAAgAAAAAAAAACAAAAAAAAAAIAAAAAAAAAAgAAAAAAAAACAAAAAAAAAAIAAAAAAAAAAgAAAAAAAAACAAAAAAAAAAIAAAAAAAAAAgAAAAAAAAACAAAAAAAAAAIAAAAAAAAAAgAAAAAAAAACAAAAAAAAAAIAAAAAAAAAAgAAAAAAAAACAAAAAAAAAAIAAAAAAAAAAgAAAAAAAAACAAAAAAAAAAIAAAAAAAAAAgAAAAAAAAACAAAAAAAAAAIAAAAAAAAAAgAAAAAAAAACAAAAAAAAAAIAAAAAAAAAAgAAAAAAAAACAAAAAAAAAAIAAAAAAAAAAgAAAAAAAAACAAAAAAAAAAIAAAAAAAAAAgAAAAAAAAACAAAAAAAAAAIAAAAAAAAAAgAAAAAAAAACAAAAAAAAAAIAAAAAAAAAAgAAAAAAAAACAAAAAAAAAAIAAAAAAAAAAgAAAAAAAAACAAAAAAAAAAIAAAAAAAAAAgAAAAAAAAACAAAAAAAAAAIAAAAAAAAAAgAAAAAAAAACAAAAAAAAAAIAAAAAAAAAAgAAAAAAAAACAAAAAAAAAAIAAAAAAAAAAgAAAAAAAAACAAAAAAAAAAIAAAAAAAAAAgAAAAAAAAACAAAAAAAAAAIAAAAAAAAAAgAAAAAAAAACAAAAAAAAAAIAAAAAAAAAAgAAAAAAAAACAAAAAAAAAAIAAAAAAAAAAgAAAAAAAAACAAAAAAAAAAIAAAAAAAAAAgAAAAAAAAACAYIMp4JE6TMA=",
          "dtype": "f8"
         }
        },
        {
         "mode": "lines",
         "name": "days_left_inv_Economy",
         "type": "scatter",
         "x": {
          "bdata": "rIboVEcd+EBLGwFQDVX2QN0ndcaKrvRA3BzN0kEn80CScRy047zxQCBvGVJNbfBApXI+Bght7kDsC3YeZS3sQLw0g9dMGOpAQwZ/Vpoq6EARBss7ZGHmQLLXtz34ueRAKLlWFtcx40BkVVC+sMbhQEK9D+9gduBA+Bb4zdd93kAD4b3V9jzcQJKE5f+3JtpAomXQtPQ32EBIEgb5wW3WQHwlbQVsxdRAX+rcMnI800A4494yg9DRQBTh6495f9BAOIu437COzkDO9U0nkUzMQA55zh8rNcpAMgruc1ZFyEC2rnaLJnrGQKM5EiHm0MRAAteaKxNHw0CUIMYUW9rBQGxDczeXiMBABcahQJOfvkCqJecXNFy8QID/pDumQ7pAmZjrl79SuEAIX+P2kYa2QDQqJpRm3LRAnW7NA7pRs0AhugVnOOSxQBzVbOi5kbBANJTY9X6wrkBd7Eys32usQA900lcpUqpAMPbeJDBgqEAbvRQ/BJOmQKT7KWLt56RAzmqzvmZco0DABJ8sG+6hQNUPoaXhmqBAApqEBHTBnkCNZ0Xpk3ucQL2iwni0YJpAQUrgHqhtmEDWedVnfZ+WQCWioI5685RAOFCNXxlnk0Bc/pRoA/iRQPX22XEOpJBA21TQcXLSjkAlWJnTUIuMQPDI46JHb4pAQP8Jiid7iECCXvJ0/auGQKECDx0O/4RAbG+d6dFxg0ADT+wd8QGCQFAY409ArYBA9xzpQnrjfkC1IxRwFpt8QNaWptrifXpA8cN4aq6IeED1TTpqhLh2QLTz+xCoCnVAEOYnYJB8c0CPSatP5AtyQC6NiUJ3tnBA4Cb/fIv0bkAc1oPD5KpsQK0wfiSGjGpA24xLxDyWaECxRX5LEsVmQPM+8G1IFmVAsp9yxlSHY0C67NkA3RViQP/6m0yzv2BA6oRFJaYFX0DAIrnSu7pcQAsw4IQxm1pAU5Wjm9KjWED4XpEcp9FWQMehdjfvIVVA7lbFHx+SU0AO5IE02x9SQFWU6nD0yFBA+ijyQMoWT0BJZoeim8pMQGylRADlqUpA8mCk9G+xSEA=",
          "dtype": "f8"
         },
         "y": {
          "bdata": "AAAAAAAAAAAAAAAAAAAAAAAAAAAAAAAAAAAAAAAAAAAAAAAAAAAAAAAAAAAAAAAAAAAAAAAAAAAAAAAAAAAAAAAAAAAAAAAAAAAAAAAAAAAAAAAAAAAAAAAAAAAAAAAAAAAAAAAAAAAAAAAAAAAAAAAAAAAAAAAAAAAAAAAAAAAAAAAAAAAAAAAAAAAAAAAAAAAAAAAAAAAAAAAAAAAAAAAAAAAAAAAAAAAAAAAAAAAAAAAAAAAAAAAAAAAAAAAAAAAAAAAAAAAAAAAAAAAAAAAAAAAAAAAAAAAAAAAAAAAAAAAAAAAAgAAAAAAAAACAAAAAAAAAAIAAAAAAAAAAgAAAAAAAAACAAAAAAAAAAIAAAAAAAAAAgAAAAAAAAACAAAAAAAAAAIAAAAAAAAAAgAAAAAAAAACAAAAAAAAAAIAAAAAAAAAAgAAAAAAAAACAAAAAAAAAAIAAAAAAAAAAgAAAAAAAAACAAAAAAAAAAIAAAAAAAAAAgAAAAAAAAACAAAAAAAAAAIAAAAAAAAAAgAAAAAAAAACAAAAAAAAAAIAAAAAAAAAAgAAAAAAAAACAAAAAAAAAAIAAAAAAAAAAgAAAAAAAAACAAAAAAAAAAIAAAAAAAAAAgAAAAAAAAACAAAAAAAAAAIAAAAAAAAAAgAAAAAAAAACAAAAAAAAAAIAAAAAAAAAAgAAAAAAAAACAAAAAAAAAAIAAAAAAAAAAgAAAAAAAAACAAAAAAAAAAIAAAAAAAAAAgAAAAAAAAACAAAAAAAAAAIAAAAAAAAAAgAAAAAAAAACAAAAAAAAAAIAAAAAAAAAAgAAAAAAAAACAAAAAAAAAAIAAAAAAAAAAgAAAAAAAAACAAAAAAAAAAIAAAAAAAAAAgAAAAAAAAACAAAAAAAAAAIAAAAAAAAAAgAAAAAAAAACAAAAAAAAAAIAAAAAAAAAAgAAAAAAAAACAAAAAAAAAAIAAAAAAAAAAgAAAAAAAAACAAAAAAAAAAIAAAAAAAAAAgAAAAAAAAACAAAAAAAAAAIAAAAAAAAAAgAAAAAAAAACAAAAAAAAAAIA=",
          "dtype": "f8"
         }
        },
        {
         "mode": "lines",
         "name": "duration_log_Economy",
         "type": "scatter",
         "x": {
          "bdata": "rIboVEcd+EBLGwFQDVX2QN0ndcaKrvRA3BzN0kEn80CScRy047zxQCBvGVJNbfBApXI+Bght7kDsC3YeZS3sQLw0g9dMGOpAQwZ/Vpoq6EARBss7ZGHmQLLXtz34ueRAKLlWFtcx40BkVVC+sMbhQEK9D+9gduBA+Bb4zdd93kAD4b3V9jzcQJKE5f+3JtpAomXQtPQ32EBIEgb5wW3WQHwlbQVsxdRAX+rcMnI800A4494yg9DRQBTh6495f9BAOIu437COzkDO9U0nkUzMQA55zh8rNcpAMgruc1ZFyEC2rnaLJnrGQKM5EiHm0MRAAteaKxNHw0CUIMYUW9rBQGxDczeXiMBABcahQJOfvkCqJecXNFy8QID/pDumQ7pAmZjrl79SuEAIX+P2kYa2QDQqJpRm3LRAnW7NA7pRs0AhugVnOOSxQBzVbOi5kbBANJTY9X6wrkBd7Eys32usQA900lcpUqpAMPbeJDBgqEAbvRQ/BJOmQKT7KWLt56RAzmqzvmZco0DABJ8sG+6hQNUPoaXhmqBAApqEBHTBnkCNZ0Xpk3ucQL2iwni0YJpAQUrgHqhtmEDWedVnfZ+WQCWioI5685RAOFCNXxlnk0Bc/pRoA/iRQPX22XEOpJBA21TQcXLSjkAlWJnTUIuMQPDI46JHb4pAQP8Jiid7iECCXvJ0/auGQKECDx0O/4RAbG+d6dFxg0ADT+wd8QGCQFAY409ArYBA9xzpQnrjfkC1IxRwFpt8QNaWptrifXpA8cN4aq6IeED1TTpqhLh2QLTz+xCoCnVAEOYnYJB8c0CPSatP5AtyQC6NiUJ3tnBA4Cb/fIv0bkAc1oPD5KpsQK0wfiSGjGpA24xLxDyWaECxRX5LEsVmQPM+8G1IFmVAsp9yxlSHY0C67NkA3RViQP/6m0yzv2BA6oRFJaYFX0DAIrnSu7pcQAsw4IQxm1pAU5Wjm9KjWED4XpEcp9FWQMehdjfvIVVA7lbFHx+SU0AO5IE02x9SQFWU6nD0yFBA+ijyQMoWT0BJZoeim8pMQGylRADlqUpA8mCk9G+xSEA=",
          "dtype": "f8"
         },
         "y": {
          "bdata": "AAAAAAAAAAAAAAAAAAAAAAAAAAAAAAAAAAAAAAAAAAAAAAAAAAAAAAAAAAAAAAAAAAAAAAAAAAAAAAAAAAAAAAAAAAAAAAAAAAAAAAAAAAAAAAAAAAAAAAAAAAAAAAAAAAAAAAAAAAAAAAAAAAAAAAAAAAAAAAAAAAAAAAAAAAAAAAAAAAAAAAAAAAAAAAAAAAAAAAAAAAAAAAAAAAAAAAAAAAAAAAAAAAAAAAAAAAAAAAAAAAAAAAAAAAAAAAAAAAAAAAAAAAAAAAAAAAAAAAAAAAAAAAAAAAAAAAAAAIAAAAAAAAAAgAAAAAAAAACAAAAAAAAAAIAAAAAAAAAAgAAAAAAAAACAAAAAAAAAAIAAAAAAAAAAgAAAAAAAAACAAAAAAAAAAIAAAAAAAAAAgAAAAAAAAACAAAAAAAAAAIAAAAAAAAAAgAAAAAAAAACAAAAAAAAAAIAAAAAAAAAAgAAAAAAAAACAAAAAAAAAAIAAAAAAAAAAgAAAAAAAAACAAAAAAAAAAIB4ZMvyyqaQwLGimIYDDqPAJVSnGro8q8BeqUWhgWixwOORXo2/6bTAt0iP+xQouMCL5EEDiCu7wElpFpHo8r3AeXPLAxlEwMDl8q7GqnTBwFNeqHoFkMLAp80V6a2Uw8CXEgnCg4XEwGnVpZwRZsXAbWdRqAc0xsDxM0C3OvbGwPi94EVbqMfAeWFfFl1NyMBGnTvUkJvIwHrBWYLz0cfA3IgHepgUx8C+aB03L2TGwPBnq/mowMXAs+CoWuIixcB2eJHSx5DEwAKbAg15CcTA7Wx82+9fxMD+4fo4v37EwFbuOLmSIcTAb8lY+girxMBheZ/gnOTGwN/tVstH9MjA9oEeY9veysDRkxVC+6TMwAqd1an3SM7A9LFlJlHMz8AX5vNVZJrQwKVpD3mhQdHAU27cVJDc0cD5NC/FMW3SwAdqsTvE89LAo8Q6+q9w08AeLldTYOTTwGY5jYR/T9TAMq/Lejeu1MAswTtd5QXVwMOTI+zUV9XAzcNK9lai1cAop5tApuTVwCSyPO7iIdbAISW7xOdY1sA=",
          "dtype": "f8"
         }
        },
        {
         "hovertemplate": "Alpha: 91472.8320<br>Non-zero features: 1<extra></extra>",
         "line": {
          "color": "gray",
          "dash": "dot"
         },
         "mode": "lines",
         "showlegend": false,
         "type": "scatter",
         "x": [
          91472.83203230535,
          91472.83203230535
         ],
         "y": [
          -22883.62138250948,
          45069.88814236161
         ]
        },
        {
         "hovertemplate": "Alpha: 33715.0292<br>Non-zero features: 2<extra></extra>",
         "line": {
          "color": "gray",
          "dash": "dot"
         },
         "mode": "lines",
         "showlegend": false,
         "type": "scatter",
         "x": [
          33715.029182309765,
          33715.029182309765
         ],
         "y": [
          -22883.62138250948,
          45069.88814236161
         ]
        },
        {
         "hovertemplate": "Alpha: 16893.8994<br>Non-zero features: 3<extra></extra>",
         "line": {
          "color": "gray",
          "dash": "dot"
         },
         "mode": "lines",
         "showlegend": false,
         "type": "scatter",
         "x": [
          16893.89940926533,
          16893.89940926533
         ],
         "y": [
          -22883.62138250948,
          45069.88814236161
         ]
        },
        {
         "hovertemplate": "Alpha: 15645.3818<br>Non-zero features: 2<extra></extra>",
         "line": {
          "color": "gray",
          "dash": "dot"
         },
         "mode": "lines",
         "showlegend": false,
         "type": "scatter",
         "x": [
          15645.38182741926,
          15645.38182741926
         ],
         "y": [
          -22883.62138250948,
          45069.88814236161
         ]
        },
        {
         "hovertemplate": "Alpha: 9140.7116<br>Non-zero features: 3<extra></extra>",
         "line": {
          "color": "gray",
          "dash": "dot"
         },
         "mode": "lines",
         "showlegend": false,
         "type": "scatter",
         "x": [
          9140.711571470172,
          9140.711571470172
         ],
         "y": [
          -22883.62138250948,
          45069.88814236161
         ]
        },
        {
         "hovertemplate": "Alpha: 5766.5702<br>Non-zero features: 4<extra></extra>",
         "line": {
          "color": "gray",
          "dash": "dot"
         },
         "mode": "lines",
         "showlegend": false,
         "type": "scatter",
         "x": [
          5766.57017346449,
          5766.57017346449
         ],
         "y": [
          -22883.62138250948,
          45069.88814236161
         ]
        },
        {
         "hovertemplate": "Alpha: 4241.7262<br>Non-zero features: 5<extra></extra>",
         "line": {
          "color": "gray",
          "dash": "dot"
         },
         "mode": "lines",
         "showlegend": false,
         "type": "scatter",
         "x": [
          4241.7262027759825,
          4241.7262027759825
         ],
         "y": [
          -22883.62138250948,
          45069.88814236161
         ]
        },
        {
         "hovertemplate": "Alpha: 2675.9636<br>Non-zero features: 6<extra></extra>",
         "line": {
          "color": "gray",
          "dash": "dot"
         },
         "mode": "lines",
         "showlegend": false,
         "type": "scatter",
         "x": [
          2675.963639556854,
          2675.963639556854
         ],
         "y": [
          -22883.62138250948,
          45069.88814236161
         ]
        },
        {
         "hovertemplate": "Alpha: 2478.2007<br>Non-zero features: 7<extra></extra>",
         "line": {
          "color": "gray",
          "dash": "dot"
         },
         "mode": "lines",
         "showlegend": false,
         "type": "scatter",
         "x": [
          2478.2006736820103,
          2478.2006736820103
         ],
         "y": [
          -22883.62138250948,
          45069.88814236161
         ]
        },
        {
         "hovertemplate": "Alpha: 2295.0531<br>Non-zero features: 8<extra></extra>",
         "line": {
          "color": "gray",
          "dash": "dot"
         },
         "mode": "lines",
         "showlegend": false,
         "type": "scatter",
         "x": [
          2295.0530748074816,
          2295.0530748074816
         ],
         "y": [
          -22883.62138250948,
          45069.88814236161
         ]
        },
        {
         "hovertemplate": "Alpha: 2125.4407<br>Non-zero features: 7<extra></extra>",
         "line": {
          "color": "gray",
          "dash": "dot"
         },
         "mode": "lines",
         "showlegend": false,
         "type": "scatter",
         "x": [
          2125.4407167751147,
          2125.4407167751147
         ],
         "y": [
          -22883.62138250948,
          45069.88814236161
         ]
        },
        {
         "hovertemplate": "Alpha: 576.2427<br>Non-zero features: 9<extra></extra>",
         "line": {
          "color": "gray",
          "dash": "dot"
         },
         "mode": "lines",
         "showlegend": false,
         "type": "scatter",
         "x": [
          576.2427328549969,
          576.2427328549969
         ],
         "y": [
          -22883.62138250948,
          45069.88814236161
         ]
        },
        {
         "hovertemplate": "Alpha: 533.6564<br>Non-zero features: 8<extra></extra>",
         "line": {
          "color": "gray",
          "dash": "dot"
         },
         "mode": "lines",
         "showlegend": false,
         "type": "scatter",
         "x": [
          533.6564023725314,
          533.6564023725314
         ],
         "y": [
          -22883.62138250948,
          45069.88814236161
         ]
        },
        {
         "hovertemplate": "Alpha: 494.2173<br>Non-zero features: 9<extra></extra>",
         "line": {
          "color": "gray",
          "dash": "dot"
         },
         "mode": "lines",
         "showlegend": false,
         "type": "scatter",
         "x": [
          494.217348967169,
          494.217348967169
         ],
         "y": [
          -22883.62138250948,
          45069.88814236161
         ]
        },
        {
         "hovertemplate": "Alpha: 457.6930<br>Non-zero features: 10<extra></extra>",
         "line": {
          "color": "gray",
          "dash": "dot"
         },
         "mode": "lines",
         "showlegend": false,
         "type": "scatter",
         "x": [
          457.69297798029885,
          457.69297798029885
         ],
         "y": [
          -22883.62138250948,
          45069.88814236161
         ]
        },
        {
         "hovertemplate": "Alpha: 311.7852<br>Non-zero features: 12<extra></extra>",
         "line": {
          "color": "gray",
          "dash": "dot"
         },
         "mode": "lines",
         "showlegend": false,
         "type": "scatter",
         "x": [
          311.78524795136855,
          311.78524795136855
         ],
         "y": [
          -22883.62138250948,
          45069.88814236161
         ]
        },
        {
         "hovertemplate": "Alpha: 288.7432<br>Non-zero features: 11<extra></extra>",
         "line": {
          "color": "gray",
          "dash": "dot"
         },
         "mode": "lines",
         "showlegend": false,
         "type": "scatter",
         "x": [
          288.74324004086606,
          288.74324004086606
         ],
         "y": [
          -22883.62138250948,
          45069.88814236161
         ]
        },
        {
         "hovertemplate": "Alpha: 267.4041<br>Non-zero features: 13<extra></extra>",
         "line": {
          "color": "gray",
          "dash": "dot"
         },
         "mode": "lines",
         "showlegend": false,
         "type": "scatter",
         "x": [
          267.4041161892991,
          267.4041161892991
         ],
         "y": [
          -22883.62138250948,
          45069.88814236161
         ]
        },
        {
         "hovertemplate": "Alpha: 247.6420<br>Non-zero features: 14<extra></extra>",
         "line": {
          "color": "gray",
          "dash": "dot"
         },
         "mode": "lines",
         "showlegend": false,
         "type": "scatter",
         "x": [
          247.64202737650248,
          247.64202737650248
         ],
         "y": [
          -22883.62138250948,
          45069.88814236161
         ]
        },
        {
         "hovertemplate": "Alpha: 229.3404<br>Non-zero features: 15<extra></extra>",
         "line": {
          "color": "gray",
          "dash": "dot"
         },
         "mode": "lines",
         "showlegend": false,
         "type": "scatter",
         "x": [
          229.34042526006021,
          229.34042526006021
         ],
         "y": [
          -22883.62138250948,
          45069.88814236161
         ]
        },
        {
         "hovertemplate": "Alpha: 212.3914<br>Non-zero features: 16<extra></extra>",
         "line": {
          "color": "gray",
          "dash": "dot"
         },
         "mode": "lines",
         "showlegend": false,
         "type": "scatter",
         "x": [
          212.39137482306015,
          212.39137482306015
         ],
         "y": [
          -22883.62138250948,
          45069.88814236161
         ]
        },
        {
         "hovertemplate": "Alpha: 182.1585<br>Non-zero features: 17<extra></extra>",
         "line": {
          "color": "gray",
          "dash": "dot"
         },
         "mode": "lines",
         "showlegend": false,
         "type": "scatter",
         "x": [
          182.15848326361223,
          182.15848326361223
         ],
         "y": [
          -22883.62138250948,
          45069.88814236161
         ]
        },
        {
         "hovertemplate": "Alpha: 168.6963<br>Non-zero features: 18<extra></extra>",
         "line": {
          "color": "gray",
          "dash": "dot"
         },
         "mode": "lines",
         "showlegend": false,
         "type": "scatter",
         "x": [
          168.6963414852431,
          168.6963414852431
         ],
         "y": [
          -22883.62138250948,
          45069.88814236161
         ]
        },
        {
         "hovertemplate": "Alpha: 144.6832<br>Non-zero features: 19<extra></extra>",
         "line": {
          "color": "gray",
          "dash": "dot"
         },
         "mode": "lines",
         "showlegend": false,
         "type": "scatter",
         "x": [
          144.6832279449789,
          144.6832279449789
         ],
         "y": [
          -22883.62138250948,
          45069.88814236161
         ]
        },
        {
         "hovertemplate": "Alpha: 133.9906<br>Non-zero features: 20<extra></extra>",
         "line": {
          "color": "gray",
          "dash": "dot"
         },
         "mode": "lines",
         "showlegend": false,
         "type": "scatter",
         "x": [
          133.99063711609776,
          133.99063711609776
         ],
         "y": [
          -22883.62138250948,
          45069.88814236161
         ]
        },
        {
         "hovertemplate": "Alpha: 114.9177<br>Non-zero features: 21<extra></extra>",
         "line": {
          "color": "gray",
          "dash": "dot"
         },
         "mode": "lines",
         "showlegend": false,
         "type": "scatter",
         "x": [
          114.91771381454146,
          114.91771381454146
         ],
         "y": [
          -22883.62138250948,
          45069.88814236161
         ]
        },
        {
         "hovertemplate": "Alpha: 106.4249<br>Non-zero features: 22<extra></extra>",
         "line": {
          "color": "gray",
          "dash": "dot"
         },
         "mode": "lines",
         "showlegend": false,
         "type": "scatter",
         "x": [
          106.42489740269973,
          106.42489740269973
         ],
         "y": [
          -22883.62138250948,
          45069.88814236161
         ]
        },
        {
         "hovertemplate": "Alpha: 84.5302<br>Non-zero features: 23<extra></extra>",
         "line": {
          "color": "gray",
          "dash": "dot"
         },
         "mode": "lines",
         "showlegend": false,
         "type": "scatter",
         "x": [
          84.5302256258502,
          84.5302256258502
         ],
         "y": [
          -22883.62138250948,
          45069.88814236161
         ]
        },
        {
         "hovertemplate": "Alpha: 78.2831<br>Non-zero features: 24<extra></extra>",
         "line": {
          "color": "gray",
          "dash": "dot"
         },
         "mode": "lines",
         "showlegend": false,
         "type": "scatter",
         "x": [
          78.2831496646065,
          78.2831496646065
         ],
         "y": [
          -22883.62138250948,
          45069.88814236161
         ]
        },
        {
         "hovertemplate": "Alpha: 67.1399<br>Non-zero features: 27<extra></extra>",
         "line": {
          "color": "gray",
          "dash": "dot"
         },
         "mode": "lines",
         "showlegend": false,
         "type": "scatter",
         "x": [
          67.13991949947497,
          67.13991949947497
         ],
         "y": [
          -22883.62138250948,
          45069.88814236161
         ]
        },
        {
         "hovertemplate": "Alpha: 62.1780<br>Non-zero features: 29<extra></extra>",
         "line": {
          "color": "gray",
          "dash": "dot"
         },
         "mode": "lines",
         "showlegend": false,
         "type": "scatter",
         "x": [
          62.17804729294035,
          62.17804729294035
         ],
         "y": [
          -22883.62138250948,
          45069.88814236161
         ]
        },
        {
         "hovertemplate": "Alpha: 53.3273<br>Non-zero features: 31<extra></extra>",
         "line": {
          "color": "gray",
          "dash": "dot"
         },
         "mode": "lines",
         "showlegend": false,
         "type": "scatter",
         "x": [
          53.32730105735649,
          53.32730105735649
         ],
         "y": [
          -22883.62138250948,
          45069.88814236161
         ]
        },
        {
         "hovertemplate": "Alpha: 49.3862<br>Non-zero features: 32<extra></extra>",
         "line": {
          "color": "gray",
          "dash": "dot"
         },
         "mode": "lines",
         "showlegend": false,
         "type": "scatter",
         "x": [
          49.38622911478332,
          49.38622911478332
         ],
         "y": [
          -22883.62138250948,
          45069.88814236161
         ]
        }
       ],
       "layout": {
        "height": 600,
        "legend": {
         "title": {
          "text": "Features"
         }
        },
        "template": {
         "data": {
          "bar": [
           {
            "error_x": {
             "color": "#2a3f5f"
            },
            "error_y": {
             "color": "#2a3f5f"
            },
            "marker": {
             "line": {
              "color": "white",
              "width": 0.5
             },
             "pattern": {
              "fillmode": "overlay",
              "size": 10,
              "solidity": 0.2
             }
            },
            "type": "bar"
           }
          ],
          "barpolar": [
           {
            "marker": {
             "line": {
              "color": "white",
              "width": 0.5
             },
             "pattern": {
              "fillmode": "overlay",
              "size": 10,
              "solidity": 0.2
             }
            },
            "type": "barpolar"
           }
          ],
          "carpet": [
           {
            "aaxis": {
             "endlinecolor": "#2a3f5f",
             "gridcolor": "#C8D4E3",
             "linecolor": "#C8D4E3",
             "minorgridcolor": "#C8D4E3",
             "startlinecolor": "#2a3f5f"
            },
            "baxis": {
             "endlinecolor": "#2a3f5f",
             "gridcolor": "#C8D4E3",
             "linecolor": "#C8D4E3",
             "minorgridcolor": "#C8D4E3",
             "startlinecolor": "#2a3f5f"
            },
            "type": "carpet"
           }
          ],
          "choropleth": [
           {
            "colorbar": {
             "outlinewidth": 0,
             "ticks": ""
            },
            "type": "choropleth"
           }
          ],
          "contour": [
           {
            "colorbar": {
             "outlinewidth": 0,
             "ticks": ""
            },
            "colorscale": [
             [
              0,
              "#0d0887"
             ],
             [
              0.1111111111111111,
              "#46039f"
             ],
             [
              0.2222222222222222,
              "#7201a8"
             ],
             [
              0.3333333333333333,
              "#9c179e"
             ],
             [
              0.4444444444444444,
              "#bd3786"
             ],
             [
              0.5555555555555556,
              "#d8576b"
             ],
             [
              0.6666666666666666,
              "#ed7953"
             ],
             [
              0.7777777777777778,
              "#fb9f3a"
             ],
             [
              0.8888888888888888,
              "#fdca26"
             ],
             [
              1,
              "#f0f921"
             ]
            ],
            "type": "contour"
           }
          ],
          "contourcarpet": [
           {
            "colorbar": {
             "outlinewidth": 0,
             "ticks": ""
            },
            "type": "contourcarpet"
           }
          ],
          "heatmap": [
           {
            "colorbar": {
             "outlinewidth": 0,
             "ticks": ""
            },
            "colorscale": [
             [
              0,
              "#0d0887"
             ],
             [
              0.1111111111111111,
              "#46039f"
             ],
             [
              0.2222222222222222,
              "#7201a8"
             ],
             [
              0.3333333333333333,
              "#9c179e"
             ],
             [
              0.4444444444444444,
              "#bd3786"
             ],
             [
              0.5555555555555556,
              "#d8576b"
             ],
             [
              0.6666666666666666,
              "#ed7953"
             ],
             [
              0.7777777777777778,
              "#fb9f3a"
             ],
             [
              0.8888888888888888,
              "#fdca26"
             ],
             [
              1,
              "#f0f921"
             ]
            ],
            "type": "heatmap"
           }
          ],
          "histogram": [
           {
            "marker": {
             "pattern": {
              "fillmode": "overlay",
              "size": 10,
              "solidity": 0.2
             }
            },
            "type": "histogram"
           }
          ],
          "histogram2d": [
           {
            "colorbar": {
             "outlinewidth": 0,
             "ticks": ""
            },
            "colorscale": [
             [
              0,
              "#0d0887"
             ],
             [
              0.1111111111111111,
              "#46039f"
             ],
             [
              0.2222222222222222,
              "#7201a8"
             ],
             [
              0.3333333333333333,
              "#9c179e"
             ],
             [
              0.4444444444444444,
              "#bd3786"
             ],
             [
              0.5555555555555556,
              "#d8576b"
             ],
             [
              0.6666666666666666,
              "#ed7953"
             ],
             [
              0.7777777777777778,
              "#fb9f3a"
             ],
             [
              0.8888888888888888,
              "#fdca26"
             ],
             [
              1,
              "#f0f921"
             ]
            ],
            "type": "histogram2d"
           }
          ],
          "histogram2dcontour": [
           {
            "colorbar": {
             "outlinewidth": 0,
             "ticks": ""
            },
            "colorscale": [
             [
              0,
              "#0d0887"
             ],
             [
              0.1111111111111111,
              "#46039f"
             ],
             [
              0.2222222222222222,
              "#7201a8"
             ],
             [
              0.3333333333333333,
              "#9c179e"
             ],
             [
              0.4444444444444444,
              "#bd3786"
             ],
             [
              0.5555555555555556,
              "#d8576b"
             ],
             [
              0.6666666666666666,
              "#ed7953"
             ],
             [
              0.7777777777777778,
              "#fb9f3a"
             ],
             [
              0.8888888888888888,
              "#fdca26"
             ],
             [
              1,
              "#f0f921"
             ]
            ],
            "type": "histogram2dcontour"
           }
          ],
          "mesh3d": [
           {
            "colorbar": {
             "outlinewidth": 0,
             "ticks": ""
            },
            "type": "mesh3d"
           }
          ],
          "parcoords": [
           {
            "line": {
             "colorbar": {
              "outlinewidth": 0,
              "ticks": ""
             }
            },
            "type": "parcoords"
           }
          ],
          "pie": [
           {
            "automargin": true,
            "type": "pie"
           }
          ],
          "scatter": [
           {
            "fillpattern": {
             "fillmode": "overlay",
             "size": 10,
             "solidity": 0.2
            },
            "type": "scatter"
           }
          ],
          "scatter3d": [
           {
            "line": {
             "colorbar": {
              "outlinewidth": 0,
              "ticks": ""
             }
            },
            "marker": {
             "colorbar": {
              "outlinewidth": 0,
              "ticks": ""
             }
            },
            "type": "scatter3d"
           }
          ],
          "scattercarpet": [
           {
            "marker": {
             "colorbar": {
              "outlinewidth": 0,
              "ticks": ""
             }
            },
            "type": "scattercarpet"
           }
          ],
          "scattergeo": [
           {
            "marker": {
             "colorbar": {
              "outlinewidth": 0,
              "ticks": ""
             }
            },
            "type": "scattergeo"
           }
          ],
          "scattergl": [
           {
            "marker": {
             "colorbar": {
              "outlinewidth": 0,
              "ticks": ""
             }
            },
            "type": "scattergl"
           }
          ],
          "scattermap": [
           {
            "marker": {
             "colorbar": {
              "outlinewidth": 0,
              "ticks": ""
             }
            },
            "type": "scattermap"
           }
          ],
          "scattermapbox": [
           {
            "marker": {
             "colorbar": {
              "outlinewidth": 0,
              "ticks": ""
             }
            },
            "type": "scattermapbox"
           }
          ],
          "scatterpolar": [
           {
            "marker": {
             "colorbar": {
              "outlinewidth": 0,
              "ticks": ""
             }
            },
            "type": "scatterpolar"
           }
          ],
          "scatterpolargl": [
           {
            "marker": {
             "colorbar": {
              "outlinewidth": 0,
              "ticks": ""
             }
            },
            "type": "scatterpolargl"
           }
          ],
          "scatterternary": [
           {
            "marker": {
             "colorbar": {
              "outlinewidth": 0,
              "ticks": ""
             }
            },
            "type": "scatterternary"
           }
          ],
          "surface": [
           {
            "colorbar": {
             "outlinewidth": 0,
             "ticks": ""
            },
            "colorscale": [
             [
              0,
              "#0d0887"
             ],
             [
              0.1111111111111111,
              "#46039f"
             ],
             [
              0.2222222222222222,
              "#7201a8"
             ],
             [
              0.3333333333333333,
              "#9c179e"
             ],
             [
              0.4444444444444444,
              "#bd3786"
             ],
             [
              0.5555555555555556,
              "#d8576b"
             ],
             [
              0.6666666666666666,
              "#ed7953"
             ],
             [
              0.7777777777777778,
              "#fb9f3a"
             ],
             [
              0.8888888888888888,
              "#fdca26"
             ],
             [
              1,
              "#f0f921"
             ]
            ],
            "type": "surface"
           }
          ],
          "table": [
           {
            "cells": {
             "fill": {
              "color": "#EBF0F8"
             },
             "line": {
              "color": "white"
             }
            },
            "header": {
             "fill": {
              "color": "#C8D4E3"
             },
             "line": {
              "color": "white"
             }
            },
            "type": "table"
           }
          ]
         },
         "layout": {
          "annotationdefaults": {
           "arrowcolor": "#2a3f5f",
           "arrowhead": 0,
           "arrowwidth": 1
          },
          "autotypenumbers": "strict",
          "coloraxis": {
           "colorbar": {
            "outlinewidth": 0,
            "ticks": ""
           }
          },
          "colorscale": {
           "diverging": [
            [
             0,
             "#8e0152"
            ],
            [
             0.1,
             "#c51b7d"
            ],
            [
             0.2,
             "#de77ae"
            ],
            [
             0.3,
             "#f1b6da"
            ],
            [
             0.4,
             "#fde0ef"
            ],
            [
             0.5,
             "#f7f7f7"
            ],
            [
             0.6,
             "#e6f5d0"
            ],
            [
             0.7,
             "#b8e186"
            ],
            [
             0.8,
             "#7fbc41"
            ],
            [
             0.9,
             "#4d9221"
            ],
            [
             1,
             "#276419"
            ]
           ],
           "sequential": [
            [
             0,
             "#0d0887"
            ],
            [
             0.1111111111111111,
             "#46039f"
            ],
            [
             0.2222222222222222,
             "#7201a8"
            ],
            [
             0.3333333333333333,
             "#9c179e"
            ],
            [
             0.4444444444444444,
             "#bd3786"
            ],
            [
             0.5555555555555556,
             "#d8576b"
            ],
            [
             0.6666666666666666,
             "#ed7953"
            ],
            [
             0.7777777777777778,
             "#fb9f3a"
            ],
            [
             0.8888888888888888,
             "#fdca26"
            ],
            [
             1,
             "#f0f921"
            ]
           ],
           "sequentialminus": [
            [
             0,
             "#0d0887"
            ],
            [
             0.1111111111111111,
             "#46039f"
            ],
            [
             0.2222222222222222,
             "#7201a8"
            ],
            [
             0.3333333333333333,
             "#9c179e"
            ],
            [
             0.4444444444444444,
             "#bd3786"
            ],
            [
             0.5555555555555556,
             "#d8576b"
            ],
            [
             0.6666666666666666,
             "#ed7953"
            ],
            [
             0.7777777777777778,
             "#fb9f3a"
            ],
            [
             0.8888888888888888,
             "#fdca26"
            ],
            [
             1,
             "#f0f921"
            ]
           ]
          },
          "colorway": [
           "#636efa",
           "#EF553B",
           "#00cc96",
           "#ab63fa",
           "#FFA15A",
           "#19d3f3",
           "#FF6692",
           "#B6E880",
           "#FF97FF",
           "#FECB52"
          ],
          "font": {
           "color": "#2a3f5f"
          },
          "geo": {
           "bgcolor": "white",
           "lakecolor": "white",
           "landcolor": "white",
           "showlakes": true,
           "showland": true,
           "subunitcolor": "#C8D4E3"
          },
          "hoverlabel": {
           "align": "left"
          },
          "hovermode": "closest",
          "mapbox": {
           "style": "light"
          },
          "paper_bgcolor": "white",
          "plot_bgcolor": "white",
          "polar": {
           "angularaxis": {
            "gridcolor": "#EBF0F8",
            "linecolor": "#EBF0F8",
            "ticks": ""
           },
           "bgcolor": "white",
           "radialaxis": {
            "gridcolor": "#EBF0F8",
            "linecolor": "#EBF0F8",
            "ticks": ""
           }
          },
          "scene": {
           "xaxis": {
            "backgroundcolor": "white",
            "gridcolor": "#DFE8F3",
            "gridwidth": 2,
            "linecolor": "#EBF0F8",
            "showbackground": true,
            "ticks": "",
            "zerolinecolor": "#EBF0F8"
           },
           "yaxis": {
            "backgroundcolor": "white",
            "gridcolor": "#DFE8F3",
            "gridwidth": 2,
            "linecolor": "#EBF0F8",
            "showbackground": true,
            "ticks": "",
            "zerolinecolor": "#EBF0F8"
           },
           "zaxis": {
            "backgroundcolor": "white",
            "gridcolor": "#DFE8F3",
            "gridwidth": 2,
            "linecolor": "#EBF0F8",
            "showbackground": true,
            "ticks": "",
            "zerolinecolor": "#EBF0F8"
           }
          },
          "shapedefaults": {
           "line": {
            "color": "#2a3f5f"
           }
          },
          "ternary": {
           "aaxis": {
            "gridcolor": "#DFE8F3",
            "linecolor": "#A2B1C6",
            "ticks": ""
           },
           "baxis": {
            "gridcolor": "#DFE8F3",
            "linecolor": "#A2B1C6",
            "ticks": ""
           },
           "bgcolor": "white",
           "caxis": {
            "gridcolor": "#DFE8F3",
            "linecolor": "#A2B1C6",
            "ticks": ""
           }
          },
          "title": {
           "x": 0.05
          },
          "xaxis": {
           "automargin": true,
           "gridcolor": "#EBF0F8",
           "linecolor": "#EBF0F8",
           "ticks": "",
           "title": {
            "standoff": 15
           },
           "zerolinecolor": "#EBF0F8",
           "zerolinewidth": 2
          },
          "yaxis": {
           "automargin": true,
           "gridcolor": "#EBF0F8",
           "linecolor": "#EBF0F8",
           "ticks": "",
           "title": {
            "standoff": 15
           },
           "zerolinecolor": "#EBF0F8",
           "zerolinewidth": 2
          }
         }
        },
        "title": {
         "text": "Lasso Regularization Path (with Feature Selection Steps)"
        },
        "width": 900,
        "xaxis": {
         "title": {
          "text": "Alpha (log scale)"
         },
         "type": "log"
        },
        "yaxis": {
         "title": {
          "text": "Coefficient Value"
         }
        }
       }
      }
     },
     "metadata": {},
     "output_type": "display_data"
    }
   ],
   "source": [
    "import numpy as np\n",
    "import plotly.graph_objects as go\n",
    "from sklearn.linear_model import lasso_path\n",
    "\n",
    "# Compute Lasso path\n",
    "X_pipeline = preprocessor.fit_transform(X_train)\n",
    "alphas_lasso, coefs_lasso, _ = lasso_path(X_pipeline, y_train, eps=5e-4)\n",
    "feature_names = X_train.columns.to_list()\n",
    "\n",
    "# Count non-zero coefficients per alpha\n",
    "nonzero_counts = (coefs_lasso != 0).sum(axis=0)\n",
    "\n",
    "# Find where non-zero count changes\n",
    "change_indices = np.where(np.diff(nonzero_counts) != 0)[0] + 1\n",
    "change_alphas = alphas_lasso[change_indices]\n",
    "change_counts = nonzero_counts[change_indices]\n",
    "\n",
    "# Create base plot: coefficient paths\n",
    "fig = go.Figure()\n",
    "\n",
    "for coef, name in zip(coefs_lasso, feature_names):\n",
    "    fig.add_trace(go.Scatter(\n",
    "        x=alphas_lasso,\n",
    "        y=coef,\n",
    "        mode='lines',\n",
    "        name=name\n",
    "    ))\n",
    "\n",
    "# Add vertical dotted lines where non-zero feature count changes\n",
    "for alpha, count in zip(change_alphas, change_counts):\n",
    "    fig.add_trace(go.Scatter(\n",
    "        x=[alpha, alpha],\n",
    "        y=[coefs_lasso.min(), coefs_lasso.max()],\n",
    "        mode='lines',\n",
    "        line=dict(dash='dot', color='gray'),\n",
    "        showlegend=False,\n",
    "        hovertemplate=f\"Alpha: {alpha:.4f}<br>Non-zero features: {count}<extra></extra>\"\n",
    "    ))\n",
    "\n",
    "# Final layout\n",
    "fig.update_layout(\n",
    "    title='Lasso Regularization Path (with Feature Selection Steps)',\n",
    "    xaxis=dict(title='Alpha (log scale)', type='log'),\n",
    "    yaxis=dict(title='Coefficient Value'),\n",
    "    template='plotly_white',\n",
    "    legend_title_text='Features',\n",
    "    width=900,\n",
    "    height=600\n",
    ")\n",
    "\n",
    "fig.show()\n"
   ]
  },
  {
   "cell_type": "markdown",
   "id": "e662924f",
   "metadata": {},
   "source": [
    "## Final Selected Model"
   ]
  },
  {
   "cell_type": "code",
   "execution_count": 66,
   "id": "c419aaf2",
   "metadata": {},
   "outputs": [
    {
     "name": "stdout",
     "output_type": "stream",
     "text": [
      "Selected Alpha from 1-SE rule: 10.0\n",
      "\n",
      "Metrics Training:\n",
      "R²: 0.947\n",
      "MSE: 27513235.94\n",
      "RMSE: 5245.31\n",
      "MAE: 3290.43\n",
      "\n",
      "Metrics Test:\n",
      "R²: 0.946\n",
      "MSE: 27954689.74\n",
      "RMSE: 5287.22\n",
      "MAE: 3292.11\n",
      "\n",
      "Selected Coefficients (non-zero): 50\n"
     ]
    },
    {
     "name": "stderr",
     "output_type": "stream",
     "text": [
      "c:\\Users\\AsusTUF\\anaconda3\\envs\\tru_linear_models_assignments\\Lib\\site-packages\\sklearn\\linear_model\\_coordinate_descent.py:695: ConvergenceWarning:\n",
      "\n",
      "Objective did not converge. You might want to increase the number of iterations, check the scale of the features or consider increasing regularisation. Duality gap: 2.739e+12, tolerance: 1.237e+10\n",
      "\n"
     ]
    },
    {
     "data": {
      "text/html": [
       "<div>\n",
       "<style scoped>\n",
       "    .dataframe tbody tr th:only-of-type {\n",
       "        vertical-align: middle;\n",
       "    }\n",
       "\n",
       "    .dataframe tbody tr th {\n",
       "        vertical-align: top;\n",
       "    }\n",
       "\n",
       "    .dataframe thead th {\n",
       "        text-align: right;\n",
       "    }\n",
       "</style>\n",
       "<table border=\"1\" class=\"dataframe\">\n",
       "  <thead>\n",
       "    <tr style=\"text-align: right;\">\n",
       "      <th></th>\n",
       "      <th>Selected Feature</th>\n",
       "      <th>Coefficient</th>\n",
       "    </tr>\n",
       "  </thead>\n",
       "  <tbody>\n",
       "    <tr>\n",
       "      <th>0</th>\n",
       "      <td>duration_log_Economy</td>\n",
       "      <td>-1.968926e+04</td>\n",
       "    </tr>\n",
       "    <tr>\n",
       "      <th>1</th>\n",
       "      <td>airline_Air_India</td>\n",
       "      <td>1.461234e+04</td>\n",
       "    </tr>\n",
       "    <tr>\n",
       "      <th>2</th>\n",
       "      <td>duration_log</td>\n",
       "      <td>-1.126010e+04</td>\n",
       "    </tr>\n",
       "    <tr>\n",
       "      <th>3</th>\n",
       "      <td>const</td>\n",
       "      <td>-1.037232e+04</td>\n",
       "    </tr>\n",
       "    <tr>\n",
       "      <th>4</th>\n",
       "      <td>source_city_Delhi</td>\n",
       "      <td>7.836827e+03</td>\n",
       "    </tr>\n",
       "    <tr>\n",
       "      <th>5</th>\n",
       "      <td>arrival_time_Evening</td>\n",
       "      <td>-7.492248e+03</td>\n",
       "    </tr>\n",
       "    <tr>\n",
       "      <th>6</th>\n",
       "      <td>arrival_time_Early_Morning</td>\n",
       "      <td>7.255199e+03</td>\n",
       "    </tr>\n",
       "    <tr>\n",
       "      <th>7</th>\n",
       "      <td>stops_zero_Economy</td>\n",
       "      <td>5.445262e+03</td>\n",
       "    </tr>\n",
       "    <tr>\n",
       "      <th>8</th>\n",
       "      <td>airline_Vistara_Economy</td>\n",
       "      <td>-5.323788e+03</td>\n",
       "    </tr>\n",
       "    <tr>\n",
       "      <th>9</th>\n",
       "      <td>stops_two_or_more_Economy</td>\n",
       "      <td>-5.301445e+03</td>\n",
       "    </tr>\n",
       "    <tr>\n",
       "      <th>10</th>\n",
       "      <td>days_left_inv_Economy</td>\n",
       "      <td>-5.187464e+03</td>\n",
       "    </tr>\n",
       "    <tr>\n",
       "      <th>11</th>\n",
       "      <td>class_Economy</td>\n",
       "      <td>3.377387e+03</td>\n",
       "    </tr>\n",
       "    <tr>\n",
       "      <th>12</th>\n",
       "      <td>departure_time_Early_Morning</td>\n",
       "      <td>3.342470e+03</td>\n",
       "    </tr>\n",
       "    <tr>\n",
       "      <th>13</th>\n",
       "      <td>source_city_Mumbai</td>\n",
       "      <td>-3.067725e+03</td>\n",
       "    </tr>\n",
       "    <tr>\n",
       "      <th>14</th>\n",
       "      <td>destination_city_Mumbai</td>\n",
       "      <td>-3.049154e+03</td>\n",
       "    </tr>\n",
       "    <tr>\n",
       "      <th>15</th>\n",
       "      <td>destination_city_Kolkata_Economy</td>\n",
       "      <td>-2.622799e+03</td>\n",
       "    </tr>\n",
       "    <tr>\n",
       "      <th>16</th>\n",
       "      <td>destination_city_Kolkata</td>\n",
       "      <td>-2.613569e+03</td>\n",
       "    </tr>\n",
       "    <tr>\n",
       "      <th>17</th>\n",
       "      <td>source_city_Hyderabad_Economy</td>\n",
       "      <td>2.459020e+03</td>\n",
       "    </tr>\n",
       "    <tr>\n",
       "      <th>18</th>\n",
       "      <td>destination_city_Delhi_Economy</td>\n",
       "      <td>2.381463e+03</td>\n",
       "    </tr>\n",
       "    <tr>\n",
       "      <th>19</th>\n",
       "      <td>destination_city_Hyderabad_Economy</td>\n",
       "      <td>2.298747e+03</td>\n",
       "    </tr>\n",
       "    <tr>\n",
       "      <th>20</th>\n",
       "      <td>source_city_Kolkata_Economy</td>\n",
       "      <td>-2.293800e+03</td>\n",
       "    </tr>\n",
       "    <tr>\n",
       "      <th>21</th>\n",
       "      <td>source_city_Kolkata</td>\n",
       "      <td>-2.283177e+03</td>\n",
       "    </tr>\n",
       "    <tr>\n",
       "      <th>22</th>\n",
       "      <td>arrival_time_Late_Night</td>\n",
       "      <td>-2.184690e+03</td>\n",
       "    </tr>\n",
       "    <tr>\n",
       "      <th>23</th>\n",
       "      <td>source_city_Delhi_Economy</td>\n",
       "      <td>2.021261e+03</td>\n",
       "    </tr>\n",
       "    <tr>\n",
       "      <th>24</th>\n",
       "      <td>airline_Air_India_Economy</td>\n",
       "      <td>1.899660e+03</td>\n",
       "    </tr>\n",
       "    <tr>\n",
       "      <th>25</th>\n",
       "      <td>days_left</td>\n",
       "      <td>1.650527e+03</td>\n",
       "    </tr>\n",
       "    <tr>\n",
       "      <th>26</th>\n",
       "      <td>destination_city_Delhi</td>\n",
       "      <td>1.636762e+03</td>\n",
       "    </tr>\n",
       "    <tr>\n",
       "      <th>27</th>\n",
       "      <td>arrival_time_Night_Economy</td>\n",
       "      <td>-1.472462e+03</td>\n",
       "    </tr>\n",
       "    <tr>\n",
       "      <th>28</th>\n",
       "      <td>duration_Economy</td>\n",
       "      <td>1.443031e+03</td>\n",
       "    </tr>\n",
       "    <tr>\n",
       "      <th>29</th>\n",
       "      <td>arrival_time_Early_Morning_Economy</td>\n",
       "      <td>1.431268e+03</td>\n",
       "    </tr>\n",
       "    <tr>\n",
       "      <th>30</th>\n",
       "      <td>destination_city_Mumbai_Economy</td>\n",
       "      <td>-1.166529e+03</td>\n",
       "    </tr>\n",
       "    <tr>\n",
       "      <th>31</th>\n",
       "      <td>arrival_time_Morning</td>\n",
       "      <td>1.160549e+03</td>\n",
       "    </tr>\n",
       "    <tr>\n",
       "      <th>32</th>\n",
       "      <td>days_left_inv</td>\n",
       "      <td>1.049641e+03</td>\n",
       "    </tr>\n",
       "    <tr>\n",
       "      <th>33</th>\n",
       "      <td>departure_time_Evening_Economy</td>\n",
       "      <td>-1.039396e+03</td>\n",
       "    </tr>\n",
       "    <tr>\n",
       "      <th>34</th>\n",
       "      <td>departure_time_Morning</td>\n",
       "      <td>9.524968e+02</td>\n",
       "    </tr>\n",
       "    <tr>\n",
       "      <th>35</th>\n",
       "      <td>airline_SpiceJet</td>\n",
       "      <td>9.287588e+02</td>\n",
       "    </tr>\n",
       "    <tr>\n",
       "      <th>36</th>\n",
       "      <td>source_city_Mumbai_Economy</td>\n",
       "      <td>-8.675596e+02</td>\n",
       "    </tr>\n",
       "    <tr>\n",
       "      <th>37</th>\n",
       "      <td>arrival_time_Evening_Economy</td>\n",
       "      <td>-7.958310e+02</td>\n",
       "    </tr>\n",
       "    <tr>\n",
       "      <th>38</th>\n",
       "      <td>source_city_Chennai</td>\n",
       "      <td>7.555597e+02</td>\n",
       "    </tr>\n",
       "    <tr>\n",
       "      <th>39</th>\n",
       "      <td>departure_time_Evening</td>\n",
       "      <td>5.850110e+02</td>\n",
       "    </tr>\n",
       "    <tr>\n",
       "      <th>40</th>\n",
       "      <td>airline_Vistara</td>\n",
       "      <td>5.608443e+02</td>\n",
       "    </tr>\n",
       "    <tr>\n",
       "      <th>41</th>\n",
       "      <td>duration</td>\n",
       "      <td>-2.657720e+02</td>\n",
       "    </tr>\n",
       "    <tr>\n",
       "      <th>42</th>\n",
       "      <td>stops_two_or_more</td>\n",
       "      <td>2.489467e+02</td>\n",
       "    </tr>\n",
       "    <tr>\n",
       "      <th>43</th>\n",
       "      <td>destination_city_Chennai</td>\n",
       "      <td>-1.448052e+02</td>\n",
       "    </tr>\n",
       "    <tr>\n",
       "      <th>44</th>\n",
       "      <td>destination_city_Hyderabad</td>\n",
       "      <td>-8.893255e+01</td>\n",
       "    </tr>\n",
       "    <tr>\n",
       "      <th>45</th>\n",
       "      <td>days_left_Economy</td>\n",
       "      <td>-8.445724e+01</td>\n",
       "    </tr>\n",
       "    <tr>\n",
       "      <th>46</th>\n",
       "      <td>stops_zero</td>\n",
       "      <td>-8.113383e+01</td>\n",
       "    </tr>\n",
       "    <tr>\n",
       "      <th>47</th>\n",
       "      <td>source_city_Hyderabad</td>\n",
       "      <td>2.962607e+01</td>\n",
       "    </tr>\n",
       "    <tr>\n",
       "      <th>48</th>\n",
       "      <td>arrival_time_Night</td>\n",
       "      <td>2.016010e+00</td>\n",
       "    </tr>\n",
       "    <tr>\n",
       "      <th>49</th>\n",
       "      <td>const_Economy</td>\n",
       "      <td>-6.091310e-09</td>\n",
       "    </tr>\n",
       "  </tbody>\n",
       "</table>\n",
       "</div>"
      ],
      "text/plain": [
       "                      Selected Feature   Coefficient\n",
       "0                 duration_log_Economy -1.968926e+04\n",
       "1                    airline_Air_India  1.461234e+04\n",
       "2                         duration_log -1.126010e+04\n",
       "3                                const -1.037232e+04\n",
       "4                    source_city_Delhi  7.836827e+03\n",
       "5                 arrival_time_Evening -7.492248e+03\n",
       "6           arrival_time_Early_Morning  7.255199e+03\n",
       "7                   stops_zero_Economy  5.445262e+03\n",
       "8              airline_Vistara_Economy -5.323788e+03\n",
       "9            stops_two_or_more_Economy -5.301445e+03\n",
       "10               days_left_inv_Economy -5.187464e+03\n",
       "11                       class_Economy  3.377387e+03\n",
       "12        departure_time_Early_Morning  3.342470e+03\n",
       "13                  source_city_Mumbai -3.067725e+03\n",
       "14             destination_city_Mumbai -3.049154e+03\n",
       "15    destination_city_Kolkata_Economy -2.622799e+03\n",
       "16            destination_city_Kolkata -2.613569e+03\n",
       "17       source_city_Hyderabad_Economy  2.459020e+03\n",
       "18      destination_city_Delhi_Economy  2.381463e+03\n",
       "19  destination_city_Hyderabad_Economy  2.298747e+03\n",
       "20         source_city_Kolkata_Economy -2.293800e+03\n",
       "21                 source_city_Kolkata -2.283177e+03\n",
       "22             arrival_time_Late_Night -2.184690e+03\n",
       "23           source_city_Delhi_Economy  2.021261e+03\n",
       "24           airline_Air_India_Economy  1.899660e+03\n",
       "25                           days_left  1.650527e+03\n",
       "26              destination_city_Delhi  1.636762e+03\n",
       "27          arrival_time_Night_Economy -1.472462e+03\n",
       "28                    duration_Economy  1.443031e+03\n",
       "29  arrival_time_Early_Morning_Economy  1.431268e+03\n",
       "30     destination_city_Mumbai_Economy -1.166529e+03\n",
       "31                arrival_time_Morning  1.160549e+03\n",
       "32                       days_left_inv  1.049641e+03\n",
       "33      departure_time_Evening_Economy -1.039396e+03\n",
       "34              departure_time_Morning  9.524968e+02\n",
       "35                    airline_SpiceJet  9.287588e+02\n",
       "36          source_city_Mumbai_Economy -8.675596e+02\n",
       "37        arrival_time_Evening_Economy -7.958310e+02\n",
       "38                 source_city_Chennai  7.555597e+02\n",
       "39              departure_time_Evening  5.850110e+02\n",
       "40                     airline_Vistara  5.608443e+02\n",
       "41                            duration -2.657720e+02\n",
       "42                   stops_two_or_more  2.489467e+02\n",
       "43            destination_city_Chennai -1.448052e+02\n",
       "44          destination_city_Hyderabad -8.893255e+01\n",
       "45                   days_left_Economy -8.445724e+01\n",
       "46                          stops_zero -8.113383e+01\n",
       "47               source_city_Hyderabad  2.962607e+01\n",
       "48                  arrival_time_Night  2.016010e+00\n",
       "49                       const_Economy -6.091310e-09"
      ]
     },
     "execution_count": 66,
     "metadata": {},
     "output_type": "execute_result"
    }
   ],
   "source": [
    "lasso_pipeline = Pipeline([\n",
    "    ('preprocessor', preprocessor),\n",
    "    ('model', Lasso(alpha=alpha_1se))\n",
    "])\n",
    "\n",
    "lasso_pipeline.fit(X_train, y_train)\n",
    "\n",
    "print(f\"Selected Alpha from 1-SE rule: {alpha_1se}\")\n",
    "\n",
    "# 5. Predictions and metrics\n",
    "print(\"\\nMetrics Training:\")\n",
    "y_pred = lasso_pipeline.predict(X_train)\n",
    "evaluate_predictions(y_train, y_pred )\n",
    "\n",
    "print(\"\\nMetrics Test:\")\n",
    "y_pred = lasso_pipeline.predict(X_test)\n",
    "evaluate_predictions(y_test, y_pred )\n",
    "\n",
    "# 6. Extract coefficients\n",
    "lasso = lasso_pipeline.named_steps['model']\n",
    "coef = pd.Series(lasso.coef_, index=X_encoded.columns)\n",
    "show_nonzero_coefficients(coef)"
   ]
  },
  {
   "cell_type": "code",
   "execution_count": null,
   "id": "21ff541c",
   "metadata": {},
   "outputs": [],
   "source": []
  }
 ],
 "metadata": {
  "kernelspec": {
   "display_name": "tru_linear_models_assignments",
   "language": "python",
   "name": "python3"
  },
  "language_info": {
   "codemirror_mode": {
    "name": "ipython",
    "version": 3
   },
   "file_extension": ".py",
   "mimetype": "text/x-python",
   "name": "python",
   "nbconvert_exporter": "python",
   "pygments_lexer": "ipython3",
   "version": "3.12.9"
  }
 },
 "nbformat": 4,
 "nbformat_minor": 5
}
