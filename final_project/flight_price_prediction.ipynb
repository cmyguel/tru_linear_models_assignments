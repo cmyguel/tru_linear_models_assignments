{
 "cells": [
  {
   "cell_type": "markdown",
   "id": "20162243",
   "metadata": {},
   "source": [
    "# Flight Price Prediction\n",
    "\n",
    "References:\n",
    "- model selection: https://scikit-learn.org/stable/auto_examples/linear_model/plot_lasso_model_selection.html\n",
    "- learning paths: https://scikit-learn.org/stable/auto_examples/linear_model/plot_lasso_lasso_lars_elasticnet_path.html"
   ]
  },
  {
   "cell_type": "code",
   "execution_count": 2,
   "id": "d5d26eb9",
   "metadata": {},
   "outputs": [
    {
     "name": "stderr",
     "output_type": "stream",
     "text": [
      "c:\\Users\\AsusTUF\\anaconda3\\envs\\tru_linear_models_assignments\\Lib\\site-packages\\tqdm\\auto.py:21: TqdmWarning: IProgress not found. Please update jupyter and ipywidgets. See https://ipywidgets.readthedocs.io/en/stable/user_install.html\n",
      "  from .autonotebook import tqdm as notebook_tqdm\n"
     ]
    },
    {
     "data": {
      "text/html": [
       "\n",
       "            <div>\n",
       "                <ins><a href=\"https://ydata.ai/register\">Upgrade to ydata-sdk</a></ins>\n",
       "                <p>\n",
       "                    Improve your data and profiling with ydata-sdk, featuring data quality scoring, redundancy detection, outlier identification, text validation, and synthetic data generation.\n",
       "                </p>\n",
       "            </div>\n",
       "            "
      ],
      "text/plain": [
       "<IPython.core.display.HTML object>"
      ]
     },
     "metadata": {},
     "output_type": "display_data"
    }
   ],
   "source": [
    "from pathlib import Path\n",
    "import numpy as np\n",
    "import pandas as pd\n",
    "from ydata_profiling import ProfileReport\n",
    "\n",
    "import seaborn as sns\n",
    "import matplotlib.pyplot as plt\n",
    "import plotly.express as px\n",
    "\n",
    "import statsmodels.api as sm\n",
    "import statsmodels.formula.api as smf\n",
    "from statsmodels.stats.stattools import durbin_watson\n",
    "\n",
    "from sklearn.model_selection import train_test_split\n",
    "from sklearn.pipeline import make_pipeline, Pipeline\n",
    "from sklearn.compose import ColumnTransformer\n",
    "from sklearn.preprocessing import StandardScaler\n",
    "from sklearn.linear_model import Lasso, LassoCV\n",
    "from sklearn.metrics import r2_score, mean_squared_error, mean_absolute_error, root_mean_squared_error"
   ]
  },
  {
   "cell_type": "code",
   "execution_count": 3,
   "id": "14239277",
   "metadata": {},
   "outputs": [],
   "source": [
    "pd.set_option('display.max_columns', 50)\n",
    "\n",
    "SIMPLIFIED_PLOTS = True\n",
    "PLOT_SUMSAMPLE = 2000 # Used for heavy plots like scatter"
   ]
  },
  {
   "cell_type": "code",
   "execution_count": 4,
   "id": "74402378-599c-4bc0-85a4-f99a371b7367",
   "metadata": {},
   "outputs": [
    {
     "data": {
      "text/html": [
       "<div>\n",
       "<style scoped>\n",
       "    .dataframe tbody tr th:only-of-type {\n",
       "        vertical-align: middle;\n",
       "    }\n",
       "\n",
       "    .dataframe tbody tr th {\n",
       "        vertical-align: top;\n",
       "    }\n",
       "\n",
       "    .dataframe thead th {\n",
       "        text-align: right;\n",
       "    }\n",
       "</style>\n",
       "<table border=\"1\" class=\"dataframe\">\n",
       "  <thead>\n",
       "    <tr style=\"text-align: right;\">\n",
       "      <th></th>\n",
       "      <th>airline</th>\n",
       "      <th>flight</th>\n",
       "      <th>source_city</th>\n",
       "      <th>departure_time</th>\n",
       "      <th>stops</th>\n",
       "      <th>arrival_time</th>\n",
       "      <th>destination_city</th>\n",
       "      <th>class</th>\n",
       "      <th>duration</th>\n",
       "      <th>days_left</th>\n",
       "      <th>price</th>\n",
       "    </tr>\n",
       "  </thead>\n",
       "  <tbody>\n",
       "    <tr>\n",
       "      <th>0</th>\n",
       "      <td>SpiceJet</td>\n",
       "      <td>SG-8709</td>\n",
       "      <td>Delhi</td>\n",
       "      <td>Evening</td>\n",
       "      <td>zero</td>\n",
       "      <td>Night</td>\n",
       "      <td>Mumbai</td>\n",
       "      <td>Economy</td>\n",
       "      <td>2.17</td>\n",
       "      <td>1</td>\n",
       "      <td>5953</td>\n",
       "    </tr>\n",
       "    <tr>\n",
       "      <th>1</th>\n",
       "      <td>SpiceJet</td>\n",
       "      <td>SG-8157</td>\n",
       "      <td>Delhi</td>\n",
       "      <td>Early_Morning</td>\n",
       "      <td>zero</td>\n",
       "      <td>Morning</td>\n",
       "      <td>Mumbai</td>\n",
       "      <td>Economy</td>\n",
       "      <td>2.33</td>\n",
       "      <td>1</td>\n",
       "      <td>5953</td>\n",
       "    </tr>\n",
       "    <tr>\n",
       "      <th>2</th>\n",
       "      <td>AirAsia</td>\n",
       "      <td>I5-764</td>\n",
       "      <td>Delhi</td>\n",
       "      <td>Early_Morning</td>\n",
       "      <td>zero</td>\n",
       "      <td>Early_Morning</td>\n",
       "      <td>Mumbai</td>\n",
       "      <td>Economy</td>\n",
       "      <td>2.17</td>\n",
       "      <td>1</td>\n",
       "      <td>5956</td>\n",
       "    </tr>\n",
       "    <tr>\n",
       "      <th>3</th>\n",
       "      <td>Vistara</td>\n",
       "      <td>UK-995</td>\n",
       "      <td>Delhi</td>\n",
       "      <td>Morning</td>\n",
       "      <td>zero</td>\n",
       "      <td>Afternoon</td>\n",
       "      <td>Mumbai</td>\n",
       "      <td>Economy</td>\n",
       "      <td>2.25</td>\n",
       "      <td>1</td>\n",
       "      <td>5955</td>\n",
       "    </tr>\n",
       "    <tr>\n",
       "      <th>4</th>\n",
       "      <td>Vistara</td>\n",
       "      <td>UK-963</td>\n",
       "      <td>Delhi</td>\n",
       "      <td>Morning</td>\n",
       "      <td>zero</td>\n",
       "      <td>Morning</td>\n",
       "      <td>Mumbai</td>\n",
       "      <td>Economy</td>\n",
       "      <td>2.33</td>\n",
       "      <td>1</td>\n",
       "      <td>5955</td>\n",
       "    </tr>\n",
       "    <tr>\n",
       "      <th>...</th>\n",
       "      <td>...</td>\n",
       "      <td>...</td>\n",
       "      <td>...</td>\n",
       "      <td>...</td>\n",
       "      <td>...</td>\n",
       "      <td>...</td>\n",
       "      <td>...</td>\n",
       "      <td>...</td>\n",
       "      <td>...</td>\n",
       "      <td>...</td>\n",
       "      <td>...</td>\n",
       "    </tr>\n",
       "    <tr>\n",
       "      <th>300148</th>\n",
       "      <td>Vistara</td>\n",
       "      <td>UK-822</td>\n",
       "      <td>Chennai</td>\n",
       "      <td>Morning</td>\n",
       "      <td>one</td>\n",
       "      <td>Evening</td>\n",
       "      <td>Hyderabad</td>\n",
       "      <td>Business</td>\n",
       "      <td>10.08</td>\n",
       "      <td>49</td>\n",
       "      <td>69265</td>\n",
       "    </tr>\n",
       "    <tr>\n",
       "      <th>300149</th>\n",
       "      <td>Vistara</td>\n",
       "      <td>UK-826</td>\n",
       "      <td>Chennai</td>\n",
       "      <td>Afternoon</td>\n",
       "      <td>one</td>\n",
       "      <td>Night</td>\n",
       "      <td>Hyderabad</td>\n",
       "      <td>Business</td>\n",
       "      <td>10.42</td>\n",
       "      <td>49</td>\n",
       "      <td>77105</td>\n",
       "    </tr>\n",
       "    <tr>\n",
       "      <th>300150</th>\n",
       "      <td>Vistara</td>\n",
       "      <td>UK-832</td>\n",
       "      <td>Chennai</td>\n",
       "      <td>Early_Morning</td>\n",
       "      <td>one</td>\n",
       "      <td>Night</td>\n",
       "      <td>Hyderabad</td>\n",
       "      <td>Business</td>\n",
       "      <td>13.83</td>\n",
       "      <td>49</td>\n",
       "      <td>79099</td>\n",
       "    </tr>\n",
       "    <tr>\n",
       "      <th>300151</th>\n",
       "      <td>Vistara</td>\n",
       "      <td>UK-828</td>\n",
       "      <td>Chennai</td>\n",
       "      <td>Early_Morning</td>\n",
       "      <td>one</td>\n",
       "      <td>Evening</td>\n",
       "      <td>Hyderabad</td>\n",
       "      <td>Business</td>\n",
       "      <td>10.00</td>\n",
       "      <td>49</td>\n",
       "      <td>81585</td>\n",
       "    </tr>\n",
       "    <tr>\n",
       "      <th>300152</th>\n",
       "      <td>Vistara</td>\n",
       "      <td>UK-822</td>\n",
       "      <td>Chennai</td>\n",
       "      <td>Morning</td>\n",
       "      <td>one</td>\n",
       "      <td>Evening</td>\n",
       "      <td>Hyderabad</td>\n",
       "      <td>Business</td>\n",
       "      <td>10.08</td>\n",
       "      <td>49</td>\n",
       "      <td>81585</td>\n",
       "    </tr>\n",
       "  </tbody>\n",
       "</table>\n",
       "<p>300153 rows × 11 columns</p>\n",
       "</div>"
      ],
      "text/plain": [
       "         airline   flight source_city departure_time stops   arrival_time  \\\n",
       "0       SpiceJet  SG-8709       Delhi        Evening  zero          Night   \n",
       "1       SpiceJet  SG-8157       Delhi  Early_Morning  zero        Morning   \n",
       "2        AirAsia   I5-764       Delhi  Early_Morning  zero  Early_Morning   \n",
       "3        Vistara   UK-995       Delhi        Morning  zero      Afternoon   \n",
       "4        Vistara   UK-963       Delhi        Morning  zero        Morning   \n",
       "...          ...      ...         ...            ...   ...            ...   \n",
       "300148   Vistara   UK-822     Chennai        Morning   one        Evening   \n",
       "300149   Vistara   UK-826     Chennai      Afternoon   one          Night   \n",
       "300150   Vistara   UK-832     Chennai  Early_Morning   one          Night   \n",
       "300151   Vistara   UK-828     Chennai  Early_Morning   one        Evening   \n",
       "300152   Vistara   UK-822     Chennai        Morning   one        Evening   \n",
       "\n",
       "       destination_city     class  duration  days_left  price  \n",
       "0                Mumbai   Economy      2.17          1   5953  \n",
       "1                Mumbai   Economy      2.33          1   5953  \n",
       "2                Mumbai   Economy      2.17          1   5956  \n",
       "3                Mumbai   Economy      2.25          1   5955  \n",
       "4                Mumbai   Economy      2.33          1   5955  \n",
       "...                 ...       ...       ...        ...    ...  \n",
       "300148        Hyderabad  Business     10.08         49  69265  \n",
       "300149        Hyderabad  Business     10.42         49  77105  \n",
       "300150        Hyderabad  Business     13.83         49  79099  \n",
       "300151        Hyderabad  Business     10.00         49  81585  \n",
       "300152        Hyderabad  Business     10.08         49  81585  \n",
       "\n",
       "[300153 rows x 11 columns]"
      ]
     },
     "execution_count": 4,
     "metadata": {},
     "output_type": "execute_result"
    }
   ],
   "source": [
    "df_raw = pd.read_csv(\"./data/Clean_Dataset.csv\", index_col=0)\n",
    "df_raw_sample = df_raw.sample(n=PLOT_SUMSAMPLE)\n",
    "df_raw "
   ]
  },
  {
   "cell_type": "markdown",
   "id": "6cc5d673",
   "metadata": {},
   "source": [
    "## Exploratory Data Analysis\n",
    "- Top 5 Highest correlation predictors: class, duration, days_left, stops, airline\n",
    "- Target: Bimodal due to classes. \n",
    "- duration class:Business: Log, heteroskedasticity \n",
    "- duration class:Economy: Linear, heteroskedasticity\n",
    "- days_left class:economy: 1/x"
   ]
  },
  {
   "cell_type": "code",
   "execution_count": 5,
   "id": "1ec3f453",
   "metadata": {},
   "outputs": [],
   "source": [
    "# Create EDA report IF it doesn't exist\n",
    "path_eda_report = Path(\"EDA/profiling_report.html\")\n",
    "path_eda_report.parent.mkdir(exist_ok=True)\n",
    "if not path_eda_report.exists():\n",
    "    profile = ProfileReport(df_raw, title=\"Profiling Report\")\n",
    "    profile.to_file(path_eda_report)"
   ]
  },
  {
   "cell_type": "code",
   "execution_count": 6,
   "id": "a584b792",
   "metadata": {},
   "outputs": [
    {
     "data": {
      "text/html": [
       "<div>\n",
       "<style scoped>\n",
       "    .dataframe tbody tr th:only-of-type {\n",
       "        vertical-align: middle;\n",
       "    }\n",
       "\n",
       "    .dataframe tbody tr th {\n",
       "        vertical-align: top;\n",
       "    }\n",
       "\n",
       "    .dataframe thead th {\n",
       "        text-align: right;\n",
       "    }\n",
       "</style>\n",
       "<table border=\"1\" class=\"dataframe\">\n",
       "  <thead>\n",
       "    <tr style=\"text-align: right;\">\n",
       "      <th></th>\n",
       "      <th>duration</th>\n",
       "      <th>days_left</th>\n",
       "      <th>price</th>\n",
       "    </tr>\n",
       "  </thead>\n",
       "  <tbody>\n",
       "    <tr>\n",
       "      <th>count</th>\n",
       "      <td>300153.000000</td>\n",
       "      <td>300153.000000</td>\n",
       "      <td>300153.000000</td>\n",
       "    </tr>\n",
       "    <tr>\n",
       "      <th>mean</th>\n",
       "      <td>12.221021</td>\n",
       "      <td>26.004751</td>\n",
       "      <td>20889.660523</td>\n",
       "    </tr>\n",
       "    <tr>\n",
       "      <th>std</th>\n",
       "      <td>7.191997</td>\n",
       "      <td>13.561004</td>\n",
       "      <td>22697.767366</td>\n",
       "    </tr>\n",
       "    <tr>\n",
       "      <th>min</th>\n",
       "      <td>0.830000</td>\n",
       "      <td>1.000000</td>\n",
       "      <td>1105.000000</td>\n",
       "    </tr>\n",
       "    <tr>\n",
       "      <th>25%</th>\n",
       "      <td>6.830000</td>\n",
       "      <td>15.000000</td>\n",
       "      <td>4783.000000</td>\n",
       "    </tr>\n",
       "    <tr>\n",
       "      <th>50%</th>\n",
       "      <td>11.250000</td>\n",
       "      <td>26.000000</td>\n",
       "      <td>7425.000000</td>\n",
       "    </tr>\n",
       "    <tr>\n",
       "      <th>75%</th>\n",
       "      <td>16.170000</td>\n",
       "      <td>38.000000</td>\n",
       "      <td>42521.000000</td>\n",
       "    </tr>\n",
       "    <tr>\n",
       "      <th>max</th>\n",
       "      <td>49.830000</td>\n",
       "      <td>49.000000</td>\n",
       "      <td>123071.000000</td>\n",
       "    </tr>\n",
       "  </tbody>\n",
       "</table>\n",
       "</div>"
      ],
      "text/plain": [
       "            duration      days_left          price\n",
       "count  300153.000000  300153.000000  300153.000000\n",
       "mean       12.221021      26.004751   20889.660523\n",
       "std         7.191997      13.561004   22697.767366\n",
       "min         0.830000       1.000000    1105.000000\n",
       "25%         6.830000      15.000000    4783.000000\n",
       "50%        11.250000      26.000000    7425.000000\n",
       "75%        16.170000      38.000000   42521.000000\n",
       "max        49.830000      49.000000  123071.000000"
      ]
     },
     "execution_count": 6,
     "metadata": {},
     "output_type": "execute_result"
    }
   ],
   "source": [
    "df_raw.describe()"
   ]
  },
  {
   "cell_type": "code",
   "execution_count": null,
   "id": "6985d759",
   "metadata": {},
   "outputs": [],
   "source": [
    "px.histogram(df_raw, x=\"price\", color=\"class\", width=1200, height=600, barmode=\"overlay\", opacity=0.8)\n",
    "# px.update_layout( width=1200, height=500)\n",
    "# df_raw.price.hist(bins=20)"
   ]
  },
  {
   "cell_type": "code",
   "execution_count": 17,
   "id": "0764bb25",
   "metadata": {},
   "outputs": [
    {
     "data": {
      "application/vnd.plotly.v1+json": {
       "config": {
        "plotlyServerURL": "https://plot.ly"
       },
       "data": [
        {
         "hovertemplate": "class=Business<br>days_left=%{x}<br>price=%{y}<extra></extra>",
         "legendgroup": "Business",
         "marker": {
          "color": "#636efa",
          "symbol": "circle"
         },
         "mode": "markers",
         "name": "Business",
         "showlegend": true,
         "type": "scattergl",
         "x": {
          "bdata": "EgonKB4XBgkNDRYMJwQLFCIXBjEeHi4HBhggLisPLicjEysIGQoaBAMYGAULMBcJIwsoEwkoHygeCg0WDwYgCRQCKTAvBiQNEgknIB8GCAgNCiAELBsKDhEGISgkBQcNEB8lJQ8NCSgPExweAx8qFRYkGgodKC0nHgskKhUeGgsqEyoJGxMxDCgLIygpCAklDCYjBgwnBQUtDQEcBSYUJioNLRcqDScaBSoPMAMpFgICFiceCxUWMB0uGhQNEycIBykZER0kGh4xHBouCS4bGhcXCi0gLyESDiMiLisPCCANFxkrLSEIFxEuKRsOFQgbHBMODgMNDwcnDQsdKSUoIS8xCwwEBx4TMAcdGDAjGggZBy8SLwMFHyYNJBAwIRAHLCkiAygpBCoGDhYFAzEMHw0QGiUGEi8eDRERDx0HAwkHIRUQJzAmMAwXBhkmKBoTERURJRwvBikMBhcTFSMNHBgjKyIKAicTCyYfER4lLw4KDykxDR4cLwIJHQgZJS0YGjExLiEgMBoPGRoVMB0fLAUnLi0qIh4tEBYjHyoRKwIjERwBAwslEi4QBSsRDBAcDS8YMQUuGRwmKxAlDSsjMRAtFwIUDxAvIwcbIhsrEB0MJDAGECYKFAcPIAUxKikuKgsEFwIbCxApIA8uESwuIxQVMSAsGyEiCjEiAxkOAhEnEBsiHCQiMQwIFQUQBh4YKCYdLh8wJy4bBw4xAy0EFQglEisIEBMbCQgOLxglIAsYFiIhJQYlEAQpLiUZExsLHi0eCgotCQwOLQ0CFyUtGQgMGygbDg==",
          "dtype": "i1"
         },
         "xaxis": "x",
         "y": {
          "bdata": "nNUAAK/aAAAplAAA8ckAAO3xAAAnrgAA2aUAAM/LAABOVAEAhn8AAJmgAACeoAAAas0AAHAFAQA/zAAAquoAAJIVAQCx0gAASewAAK/aAABx+gAA6QwBAGvKAADs8gAAft0AALxbAAAA6wAAaxABAFyPAABfywAAP8wAAAzdAABQ1QAAubkAAFzsAACI4gAAIf0AAO3xAABooAAAlsYAAIfGAAD5/wAAud4AAGeuAAD70AAA7OsAAGGUAADTvgAA+KwAADWhAADt8QAAYZQAANOUAAApsAAAUNUAAOzrAAAcdQAAL/MAAA7dAADIcAAA79EAAAzdAAD4rAAA+cAAAGigAABd3wAAYZQAAEDiAADtsgAAaJ0AAD/MAABR2AAArM8AAGvKAAD51QAArM8AAK36AAA/zAAADwIBAM3BAACc1QAAcKkAAD/MAADt8QAAmaAAAFDVAACjygAA+vYAAHr9AAA/rwAA+KwAAFHYAADMUAAAUGMBAPI6AQAp7QAAMA4BAILRAADIcAAAm4AAAJHBAABQ1QAAMu4AAGGUAADs8gAAfFYAAEEiAQBooAAAtLkAACeuAACDmgAAPcIAADuzAACc1QAAG64AAKqSAADJsAAAnIYAABx1AAD7yQAALfcAAG0fAQCc3AAAqIYAAJkeAQAy7gAAUNUAAM8KAQA9wgAAzFAAAJHIAABYeAAA+8kAAKPKAACBsAAAO7MAABRLAQCGqwAAkcEAANO+AAAZpgAAmpUAAPnVAAAgsgAAnNwAABmnAAAwDgEAa8oAAHAFAQB/9AAAX8QAAPisAACIVgAA2c8AAKX/AACN5gAA8CIBADSPAAB25wAAO7MAAPnVAAAZpgAAr9oAAFHYAACx8QAA8ckAAIvJAABwrAAAbeAAAGebAACL7AAAcAUBAM35AAB57gAARHQAAH/fAACxTAEAQaEAANOUAABcjwAA3eAAAFDVAAB8VgAA+f8AAJEOAQD53gAA6MIAAEGhAABT4gAADt0AAGTrAAAy7gAAyhoBADnBAAB0kAAAfA4BANqSAAB9sgAAN8AAAH86AQD4zQAAr9oAAJHBAACohgAA7fEAABhRAABaXQAAzcEAAPvJAABwqQAAubkAAFDVAABqzQAAsvEAADLuAABfywAAcNYAALneAACv2gAAP8wAAM7YAACZmQAAmR4BADLuAABBoQAAEQgBAA8CAQCRwQAAfFYAAM3BAADt/wAAyTcBAD3CAAAgsgAA7fEAAFDVAABMEgEA+KwAAF/LAADYbAAAcscAALjIAAARtAAAPcIAALkmAQAA6wAAP8wAAFzsAAAgsgAAm4AAAK3HAADw8wAAcbgAAAHJAABpygAAP8wAAOvNAAA3wAAAql4AAAkfAQCN5gAAfbIAAC33AAA9CAEAzIoAAF5vAACc1QAAvAUBAPisAAAa5AAA+KwAAGsCAQBk6wAAkGwAAHmhAAAYUQAAcAUBALK3AAAJKAEA3O8AAPisAABA4gAA7OsAAFPiAAAA6wAAYZQAAA8CAQCfJAEAkcEAADnWAACIVgAA8UMBAEuaAACTGgEAkcEAAGTrAABAVwEAPQ8BAHwOAQBxEwEAaO4AAAHJAAAjuQAAXfIAAKzPAABBoQAAP/0AAJHBAABEdAAAfbIAAJHIAAB9sgAAhwwBAD8LAQAYUQAA+8kAAFDVAABLmgAAS/UAAL+qAAC8BQEAXOwAAORYAQCu2gAAT88AALjIAAD4rAAA0aoAAM/LAAD4rAAAr9oAAIjiAADTlAAA2c8AAMvxAAAplAAADeMAAD3CAAB6fwAAkcEAAMn9AAB9IgEAoM8AAKzPAACYAQEArM8AALZzAAB8DgEA79EAAGtIAQAy7gAAm4AAAOzrAAA86wAAmeYAAJuAAACc1QAALOoAAMmwAAA9wgAAm4AAAJkeAQCRwQAAybAAAIGwAACQrQAAMu4AADuzAAB+YwAA3eAAAK/aAADilgAAz8sAANnPAACLDwEAyHAAAIQjAQDJ/QAAUdgAANLgAADs6wAALfcAABnAAACZmQAA+8kAAP+/AAAM3QAAcfoAAO2rAADhuQAAoM8AAJHBAADNwQAAZ5sAAD3CAABUSwEAZOsAAKrqAAC8BQEAXm8AAO/RAADTlAAAaKAAAGPTAADYbAAAKbAAALY6AQDv0QAAu9IAAM3IAAB9sgAAacoAAOzrAAD4XQAA79EAAAziAACGewAAM9gAANzvAABw0wAArX0BADLuAAACrgAAzcEAAO/RAABioQAAGaYAAH2yAACx8QAA2aUAAFrmAAB8DgEAYqEAAJnmAACIXQAAiJEAABnHAADR8AAAGcAAAOzyAAAd+wAADN0AAD/MAAAwDgEAPcIAAOzrAACszwAAzcEAAHDWAACL7AAAQOIAAL7hAADs6wAADt0AAI3RAACoYQAADN0AAIkrAQCLnwAAz8sAAIhWAACZ9AAAnNwAALneAAC8BQEA2c8AALneAABj0wAA+d4AADuzAAAB6QAA+f8AAF/EAADO2AAAoooAALAMAQDN6wAAquMAAGigAAB8VgAASOsAADnWAAAPAgEA0dQAAB7VAADR2wAAYPQAAIjiAADdOwEAybAAAM3BAAB83AAAoM8AAJHBAAB+3QAA+KwAAJHBAADNwQAA79EAAOzrAABebwAA8CIBANHbAAA9wgAAS5oAAGnKAACozAAAHPUAAPneAAAYUQAAcQ8BAHnEAACv2gAAJfcAAFDVAACjygAAz8sAAH7dAACBsAAAzwoBALkIAQCszwAA7nwAADLuAAAByQAAcKwAAB8TAQBazQAAX8QAADC5AADO2AAA79EAAP3RAACv2gAAHQIBAF/EAABBoQAAft0AAPHJAAAZpgAABNAAAGTrAAB9sgAADeMAAF3yAAB5xAAAuQgBAAHJAACRyAAASOsAAIvJAADTlAAAcfoAAPvJAADd4AAAztgAANHbAACIXQAAzesAADWhAAB8DgEATBoBAHAFAQCMRAAA4Y4AALwFAQBwrAAAMu4AAJHBAAD7yQAAQOIAAEuaAABfxAAAnNUAABRLAQC8EwEAOdYAAIhdAADs6wAA/dEAAHCpAAARtAAAXTgBAIarAACIkQAAHfsAADLuAADpEQEA2aUAAM3rAACIXQAA+KwAAJAVAQD7yQAAacoAAI3RAADd4AAAacoAAA==",
          "dtype": "i4"
         },
         "yaxis": "y"
        },
        {
         "hovertemplate": "class=Economy<br>days_left=%{x}<br>price=%{y}<extra></extra>",
         "legendgroup": "Economy",
         "marker": {
          "color": "#EF553B",
          "symbol": "circle"
         },
         "mode": "markers",
         "name": "Economy",
         "showlegend": true,
         "type": "scattergl",
         "x": {
          "bdata": "KwsgFQ0iDSsDFQ4EBiQSFBAIGxgnGCgNDAsUGSkdEC0GHgImDyADDxUpIycEFRwqDggxEiknDQYUKBUrDigYIScbETAQBBkXFg0DBR4LBgoFFRwxIA0KIxEGESEILSEpHAITKyorECIMDR4sLQ8dHS0nJgUYFCMuHxoYBi4FBxQgHgkgBikLLAURLCYxMQwpCBssLwkZMRMjEhkQLSIDKisUJiQkBigYHS4FLQ4gIxYdKgowIy8UJS8SCRMjBxghECYoKBQaDQwsGQYvLiwvERILGRQMEyUeHS8nDychCRgTGBMlHRclCxcODQMbJxweMB8iECwhJSQNKwYCKBsbGS0dBxsjChgWBCwFHyQQGRkuLBgpCSsrLBAIBwYbETESDC4FJw8xDCUGEiEqJhIXKBQbIyAJAS8LEy4aDRgcKR4VIxkFLRsuKhQqEC0EBxgrLhkqGjAIKRkeHBgoGB8rISsMDx0fKh0dChQnCCMvJikRFAcOJgsiFwcgFy4XMSIMIg0OECspJy8fKQYhHhYtHCcMKyENLwYmMBYeEQckHwIqKygIIiMeAhgfJi0fMRgnLSYvHBwVJhIiHS0dGSsZAx0WMBInMA0GJCkKES8vKg0WDCwMHiovLQ4mGS4FFhExIQsQDg0JLwkNKQQZHgcIFBEvCy8UCB4pHx4PCQoOKBcDAxwlIyoYIgIkKgQpIBUoHhwvLSUeDiQwHyEuBg4gJxIeCx4hFRcmHRIrCBcPGzELCzAXEiUWDQ4DDh4ZJiYQAikbEQUPEBINIyYlMB8TIxoqLxQHEysvFyQVAQcMISAFKhIWDg0GLwsVJS8ZIwISExgGJx0nLBUuGgkRIhATBxwRHCspHywhFw8NHS0eICQRCRAVLQ8JJiIUBA4CKRMhJgEjCiIKMRILFyELGCMnHiYXFigmHiAlBgoqHxMxMDElDyIHIAwkCxYEMCwvFSUiBBotICwDKCoiCRoMKxEVJB0vGQkcGiAQDw0cGigLIgICASUFFBABCAgrFQkgKSkYFCQLEhYUESAoLykZMBARAh4WGy4OHh0MEwgBHS8REy0nBhsUEioJIAcOCwYNGholDhYNCTAXJAgTDzEmFSwHGRAdIDAYDyYKFiwuCQgjJhoMHikbCzEHLCUUCx0fDhAEFzAtDRUxDCQPCAsRHSsXBg0sKwMYDTAMMBUJGhwkMCYtDhQkCxAKDycvFhUmGwgJIAssEgMaJRMZJCcmERQeLzEZKigXIRYbFR8xJC4mKyIEMQceFAsGAR0IKywWBR0SEwMDEREUFiccCwUTKyULFAktIAgnLwcgJyIRLAwgEhUpHhAWAhEgGDETKgQZCyYqIichKB8jBykNIyULBxYEJCYLEikFEiQYKxcvIhAYESwoCAMPLSoBByorDxwsBgwcCREfGiEmJREaJCYvGQoUCyYsCBQJHicEGjAeFhEXHwsvLxgBCxYEDxMMDSkxCyERMCcgDRceIA4aKyMxBC4UJQ8OMRcSJxwuEhQQISMGCSkjKgQhHigQGhoQDwcaEQsIHRIKKyEmJxsODikfJxAhCScJFREHDBgDGQcPIxoTBQYpBxYqFgsvICAeIAwnLScgDyMYFRwBES4OFysVCxIxDC8gLRwiFgQFBykRJSoeJSosKy0XKSAsCSEwHQwkKyQlIRsaIi0LDAQHBCQXGggQBRoIJw4nKC4IMScbIQgNJgshDRQRFQkSCCEHHhIWLSQeIiIfERoFFgkeHhgkIhwOCzEhDhogDA4GIBQuBSUdEhoVIh8nLQgvKSUeLRIaLwgbGhkSCi8sGS0RDwIVHxIvJikNFSwmCyoFJwUYJiwsDhYeFyglKwEOAw0cCSowEgwDKQwlLi4aEi4nDQ==",
          "dtype": "i1"
         },
         "xaxis": "x",
         "y": {
          "bdata": "UQyRI/sYJBLpLL4T9x5tDUpPlBNkEV4dRlPfCNgolhNWFPceyRgIFUENshlpCfceuRxQP88RsxeXDCMJHAxHD/IQNRNuUzISKRu3GWEpOhS4GrIGBRI0HVdTkxJkEWUSfSw4FOoZYhODDwMPWRlBF0wIfxhZGRIMNheyCWEaVhTqFywc3iD2DRgisyYpICwZHQ2ZJnAmAR2fD0MXUjM1TEMpzAdxEoEWbRA7LPQsNxqxLIAnZBGWF8UrIxH2BZQPZBE+LHAfJwmqDtsSMBLUEbooPStiCsAX5w+7LIAWNhfoCm0Qkh9LIRIMaiC4CwsRBBI3EogcLy53DP8iLjszGPwQkBurDXAXdi+FEDsskxH8HWQRkChrGagN5woALd8NphCwEvkRnw9mYAMQAxAyGY8JIQytFVQIqBnbDL1SriS8D5kIPRYGF0gXGzOWC+QYIRiTESA6xjTnKkEVTA9AEpAREhIGNjkJQRUsHLgLTAiyBjMYGyqjCjMY0DvKHagZpxw+DqoQowrbEuwS2j93LEoQDwa4KTISCRUaCCMJFg+jCrAtQxc0CqYQABaTEWoQkxV0EpEdWBmyCpYYcjGUEUAWphYAFggNHgzxDXETOhQWDwAdlyZKJ6kaQQ2AD2UQ0xsPEAgIyhQxFxYP2SSTEUQu2xIfKvlAsgtuF5gScRJXHrwKQxffF7IZ10k1EGMiNS5MCAc4Gg6dD8AptBDGD7MPYgeBLEkiLzMCGGwYGAzqHk0nEzv0HBgWyREvHWkTAR3xEawUMw0BLxIMci3CFz0rTxLkCD0ZXhAIG/MNVxG3GZkQQBolGeksISoDKM8bPRdeGZkIuShpCbIKrRaxGNcdzgeDD9Q06AppE0wIRQ3JG5URPRpqCS4fGSSbJJkQUQQwGT0XyAsPELw1mhYHDgIIABf1GGsTqhhwIRwYyhTfCDkUwCZAEkwIjxgsGZcTDTHxEZARNxdBFeUQmRiYGA8YDBkuLPo1zgd7HhweyiJDF3cP/iBXESAUghQzF8UeeBr1HPEgkxT2FZo6shkMEw8QIAmsJEwITAhzE8oUkAviDSkgkBGGELgsDyLaOGUiMhkWFgcUqA20MEEVqA0dUFEEaQnOB/EjrRMsGX8yMSkQFqQY4w5IHA8PMBrbEo8YkBdBFZAX9g89F/cOkRdcE/UUPRlbFdsSOhQLEbMXeCmEErgLiSTGEJQdcRCgHfgpVQsGDUIzFQzEEyMJjBZCF6MaFx89FxktTA8gE/UXxRmKN3ET2h4YDAdAHhAUIGkJpRM7FM8bQxcBHUEXFg93LPgpLBVCOcsVNxpgN5NCzBeDGI0bhR4FC6EPGjT2GEMWQQ0nFTkUaD1eHn0MkxHbEjkxkC2PGiAIkReyCRgWvBgOMD0ZBxEhR/YNPRm2LzMYtA8dDUEVWQkcHbsX8SCIF/kVsBwyGZ4PqTOfJjcJcROcFBkXXh4yGU0QshN2Bh0/IAk1ISIV0DshGLoe3hqKDWQRvj+0CD0X9g8yEuYVOhQBHaAd5B6BICAJkw+QHZQS8SMyCO4ThBjFK2URRw/OE6sUCxFmCL4hzwwuDXYYtxkjEbQYzBGeFig1OhTAFbMXdByoGCIrFBtZGdkmpBwsGxsxkBEjCVgZrBSrFPgpUQS+MvgYIwksG7ITlBGLQYYimh6TEqI0vyoPEJQR6w5ZGa8fQxdYGbIT9hX1F7EZATeNG58UBRETCxQPvxa1ErIGoRk/Hb4yaCGoDXAbowqjCg4YuUBuLDIZQhe5HO0TIBMmB7QQZREAMFgZ7hI5FHUWDyTfM48TEzgqH0EXIQ2wCa0UcRMBGccg6hPqFj0X3hoIFWoJagnEE3ArMhl/F+sOxyXRT0wP9xe/DQ4Xpw/qFwkT4DG0CLw4Mhk8HYAVNherIfQsShHqF4YKZghmDAURcSNZGdsSBx1tG80sTRCkDJkIADHqE0YmKR6/Ja0J7hOwEBQLGBYCHRIMzxEpIMYRZREMP20QvjFRDNkmQRH4UAAdKSJFED0kWRnuEytKcCnvKFEM9BdZGVMe8AbAFYYQQBJhEyZYRxjKFCsZcx+ZCNoTSRA5Desgpw9SJEcP4y4hDMoUvA+TEqwXTw2zF0MXWRlkJgMsEieBDRwTIQwUD68fKipZGAwGvxeMFtZeZBnIPkIn7yscIwEdAxBmGdYicCt3D3YyQxdBDYYKlBNkO2cObSiYCfEVzwrxDXkrEBE9F4INNxqtFWUc8TbDGbgpnRldEY8YTS64KbIKFA95F2QRLguGEMoU8RCVERo0rQn4IOAeuClCF6APgjYbLpcmqRugD/wQFi/uEwMTBxrEE6AJFx/WMlgWPRfGFb0aeSv0HEAWLBydRzQefEW/FmURMhlEFoI0Ux60GBINmRK5B08hFg+/DcoIeSuPElpApxCeD/YVQRVYGW8TFAtSMEMfDxBDF3sQJyhiKuQIIAmpFBoIvA9kD4IR0A/bFFQIIQ1JHIMPkBHwBkgXnw/GHEEVIBleR+QIPRmTFWsTfxgUD/gpJgddLUwIdwxCF8Ue6TdsLBIbagmqEC0WWBlxEL0RchCYLl9KnB2GGdUSPRdBEGURCCg9JNceVx4DKLkkgBaqDUoQcBSXL1MUPgr6SkASgw+tCaMKDxQuLAQX6gsYFkUT0xbYGCAT/jJvOmUisBCjGhsRAxBYMbgNQy7hFucPQRWpGboMxBugG2oUFi9JDaYw/Qg4GBkkXhh8FQ5FDxCHJlQ/Vxj2DFkZXRHkCCMJ3wgtEAMPjBa0QS4JuAvdF0AS+ClANVcOLg3CF+0zQhcPEYEWJRRJG+gKBy4jLJQRDDJqCUEVohOyGfoOZgikLNIMcBStCQwTxBH7JM4TPStcG6oOPSvsDc4zLgtWFLg1eRerDMsV6hd0PyAJDxCyLwQPZhmQEbJHxR5CF28vGCMdDaAdexUKGeoMyxElGbIGtA+jIiYRth8wEi4qrx8YHAURgBbcHiUYhi+TERYWTBZZGQAtuRFZGbIZcBQmFpUR7REdEkAW8AaSGFop9BxRDHETQQ34KaITWRmaClEQkBGtFNIMmxAZLToUGRT0F54ntBi5GnIxDhWrFSAJgRZYDhYfFRhpE0QGRRBYGaocuRyIF1weAg04FL42WDogFNlNPQr0HCAT9hX8EAcOdi9lMJcQASrnDwgKbRuUIbMP8h6cHykO+xhKJ5gJIQ2VEY8XFx/kFGEcDhT0DUY3vBpLE8wgtBgyCJUcuCygD+QPQxetCSYHTg/jDm8PJRk+LFkZFx9PErofOguyGa0JrB20CPoPUQyDFW8flgsTGM4T4zmuD6EPNhcoJm4ZaBAOF5YYuhaoGR8sagmtCTYX9Cy8Uj0rdhYGDQMQZghDF2olcDOVERw5kBc8NPENxhwzESsscBlXHwAWshlwJkIXoxi6I5oR8xxIGm0Vvw8VKuUPWRkcDHAmThuoGbsPmQiyBkwIPRkyGboWNRAMGTYX5h4cOU4Mshm4EhgcJxXxDzcsFCM2CnAUMw2+FvgeWBnlKOAsExY5DC8RhSyyGj4JqBkpErQI+xglGSsNAwg7LFQasgaYGKAbTA/uE8sZkwz/PO4ToQlUC8YLKyw/H/sL8xWQEWQRfjP8KjMN5Rq5FoknsgqqHMsRPQoOI/UYQRfbEmsfQQ33Hn4VHBVsCcE+gys8DjIINxJ/GD8ITAhdSl4yZEJDF1kZ7xOzD8oUtA/HGB9azBGbLTQQiQ25FlkJPhFZFTEX1jI=",
          "dtype": "i2"
         },
         "yaxis": "y"
        }
       ],
       "layout": {
        "height": 600,
        "legend": {
         "title": {
          "text": "class"
         },
         "tracegroupgap": 0
        },
        "margin": {
         "t": 60
        },
        "template": {
         "data": {
          "bar": [
           {
            "error_x": {
             "color": "#2a3f5f"
            },
            "error_y": {
             "color": "#2a3f5f"
            },
            "marker": {
             "line": {
              "color": "#E5ECF6",
              "width": 0.5
             },
             "pattern": {
              "fillmode": "overlay",
              "size": 10,
              "solidity": 0.2
             }
            },
            "type": "bar"
           }
          ],
          "barpolar": [
           {
            "marker": {
             "line": {
              "color": "#E5ECF6",
              "width": 0.5
             },
             "pattern": {
              "fillmode": "overlay",
              "size": 10,
              "solidity": 0.2
             }
            },
            "type": "barpolar"
           }
          ],
          "carpet": [
           {
            "aaxis": {
             "endlinecolor": "#2a3f5f",
             "gridcolor": "white",
             "linecolor": "white",
             "minorgridcolor": "white",
             "startlinecolor": "#2a3f5f"
            },
            "baxis": {
             "endlinecolor": "#2a3f5f",
             "gridcolor": "white",
             "linecolor": "white",
             "minorgridcolor": "white",
             "startlinecolor": "#2a3f5f"
            },
            "type": "carpet"
           }
          ],
          "choropleth": [
           {
            "colorbar": {
             "outlinewidth": 0,
             "ticks": ""
            },
            "type": "choropleth"
           }
          ],
          "contour": [
           {
            "colorbar": {
             "outlinewidth": 0,
             "ticks": ""
            },
            "colorscale": [
             [
              0,
              "#0d0887"
             ],
             [
              0.1111111111111111,
              "#46039f"
             ],
             [
              0.2222222222222222,
              "#7201a8"
             ],
             [
              0.3333333333333333,
              "#9c179e"
             ],
             [
              0.4444444444444444,
              "#bd3786"
             ],
             [
              0.5555555555555556,
              "#d8576b"
             ],
             [
              0.6666666666666666,
              "#ed7953"
             ],
             [
              0.7777777777777778,
              "#fb9f3a"
             ],
             [
              0.8888888888888888,
              "#fdca26"
             ],
             [
              1,
              "#f0f921"
             ]
            ],
            "type": "contour"
           }
          ],
          "contourcarpet": [
           {
            "colorbar": {
             "outlinewidth": 0,
             "ticks": ""
            },
            "type": "contourcarpet"
           }
          ],
          "heatmap": [
           {
            "colorbar": {
             "outlinewidth": 0,
             "ticks": ""
            },
            "colorscale": [
             [
              0,
              "#0d0887"
             ],
             [
              0.1111111111111111,
              "#46039f"
             ],
             [
              0.2222222222222222,
              "#7201a8"
             ],
             [
              0.3333333333333333,
              "#9c179e"
             ],
             [
              0.4444444444444444,
              "#bd3786"
             ],
             [
              0.5555555555555556,
              "#d8576b"
             ],
             [
              0.6666666666666666,
              "#ed7953"
             ],
             [
              0.7777777777777778,
              "#fb9f3a"
             ],
             [
              0.8888888888888888,
              "#fdca26"
             ],
             [
              1,
              "#f0f921"
             ]
            ],
            "type": "heatmap"
           }
          ],
          "histogram": [
           {
            "marker": {
             "pattern": {
              "fillmode": "overlay",
              "size": 10,
              "solidity": 0.2
             }
            },
            "type": "histogram"
           }
          ],
          "histogram2d": [
           {
            "colorbar": {
             "outlinewidth": 0,
             "ticks": ""
            },
            "colorscale": [
             [
              0,
              "#0d0887"
             ],
             [
              0.1111111111111111,
              "#46039f"
             ],
             [
              0.2222222222222222,
              "#7201a8"
             ],
             [
              0.3333333333333333,
              "#9c179e"
             ],
             [
              0.4444444444444444,
              "#bd3786"
             ],
             [
              0.5555555555555556,
              "#d8576b"
             ],
             [
              0.6666666666666666,
              "#ed7953"
             ],
             [
              0.7777777777777778,
              "#fb9f3a"
             ],
             [
              0.8888888888888888,
              "#fdca26"
             ],
             [
              1,
              "#f0f921"
             ]
            ],
            "type": "histogram2d"
           }
          ],
          "histogram2dcontour": [
           {
            "colorbar": {
             "outlinewidth": 0,
             "ticks": ""
            },
            "colorscale": [
             [
              0,
              "#0d0887"
             ],
             [
              0.1111111111111111,
              "#46039f"
             ],
             [
              0.2222222222222222,
              "#7201a8"
             ],
             [
              0.3333333333333333,
              "#9c179e"
             ],
             [
              0.4444444444444444,
              "#bd3786"
             ],
             [
              0.5555555555555556,
              "#d8576b"
             ],
             [
              0.6666666666666666,
              "#ed7953"
             ],
             [
              0.7777777777777778,
              "#fb9f3a"
             ],
             [
              0.8888888888888888,
              "#fdca26"
             ],
             [
              1,
              "#f0f921"
             ]
            ],
            "type": "histogram2dcontour"
           }
          ],
          "mesh3d": [
           {
            "colorbar": {
             "outlinewidth": 0,
             "ticks": ""
            },
            "type": "mesh3d"
           }
          ],
          "parcoords": [
           {
            "line": {
             "colorbar": {
              "outlinewidth": 0,
              "ticks": ""
             }
            },
            "type": "parcoords"
           }
          ],
          "pie": [
           {
            "automargin": true,
            "type": "pie"
           }
          ],
          "scatter": [
           {
            "fillpattern": {
             "fillmode": "overlay",
             "size": 10,
             "solidity": 0.2
            },
            "type": "scatter"
           }
          ],
          "scatter3d": [
           {
            "line": {
             "colorbar": {
              "outlinewidth": 0,
              "ticks": ""
             }
            },
            "marker": {
             "colorbar": {
              "outlinewidth": 0,
              "ticks": ""
             }
            },
            "type": "scatter3d"
           }
          ],
          "scattercarpet": [
           {
            "marker": {
             "colorbar": {
              "outlinewidth": 0,
              "ticks": ""
             }
            },
            "type": "scattercarpet"
           }
          ],
          "scattergeo": [
           {
            "marker": {
             "colorbar": {
              "outlinewidth": 0,
              "ticks": ""
             }
            },
            "type": "scattergeo"
           }
          ],
          "scattergl": [
           {
            "marker": {
             "colorbar": {
              "outlinewidth": 0,
              "ticks": ""
             }
            },
            "type": "scattergl"
           }
          ],
          "scattermap": [
           {
            "marker": {
             "colorbar": {
              "outlinewidth": 0,
              "ticks": ""
             }
            },
            "type": "scattermap"
           }
          ],
          "scattermapbox": [
           {
            "marker": {
             "colorbar": {
              "outlinewidth": 0,
              "ticks": ""
             }
            },
            "type": "scattermapbox"
           }
          ],
          "scatterpolar": [
           {
            "marker": {
             "colorbar": {
              "outlinewidth": 0,
              "ticks": ""
             }
            },
            "type": "scatterpolar"
           }
          ],
          "scatterpolargl": [
           {
            "marker": {
             "colorbar": {
              "outlinewidth": 0,
              "ticks": ""
             }
            },
            "type": "scatterpolargl"
           }
          ],
          "scatterternary": [
           {
            "marker": {
             "colorbar": {
              "outlinewidth": 0,
              "ticks": ""
             }
            },
            "type": "scatterternary"
           }
          ],
          "surface": [
           {
            "colorbar": {
             "outlinewidth": 0,
             "ticks": ""
            },
            "colorscale": [
             [
              0,
              "#0d0887"
             ],
             [
              0.1111111111111111,
              "#46039f"
             ],
             [
              0.2222222222222222,
              "#7201a8"
             ],
             [
              0.3333333333333333,
              "#9c179e"
             ],
             [
              0.4444444444444444,
              "#bd3786"
             ],
             [
              0.5555555555555556,
              "#d8576b"
             ],
             [
              0.6666666666666666,
              "#ed7953"
             ],
             [
              0.7777777777777778,
              "#fb9f3a"
             ],
             [
              0.8888888888888888,
              "#fdca26"
             ],
             [
              1,
              "#f0f921"
             ]
            ],
            "type": "surface"
           }
          ],
          "table": [
           {
            "cells": {
             "fill": {
              "color": "#EBF0F8"
             },
             "line": {
              "color": "white"
             }
            },
            "header": {
             "fill": {
              "color": "#C8D4E3"
             },
             "line": {
              "color": "white"
             }
            },
            "type": "table"
           }
          ]
         },
         "layout": {
          "annotationdefaults": {
           "arrowcolor": "#2a3f5f",
           "arrowhead": 0,
           "arrowwidth": 1
          },
          "autotypenumbers": "strict",
          "coloraxis": {
           "colorbar": {
            "outlinewidth": 0,
            "ticks": ""
           }
          },
          "colorscale": {
           "diverging": [
            [
             0,
             "#8e0152"
            ],
            [
             0.1,
             "#c51b7d"
            ],
            [
             0.2,
             "#de77ae"
            ],
            [
             0.3,
             "#f1b6da"
            ],
            [
             0.4,
             "#fde0ef"
            ],
            [
             0.5,
             "#f7f7f7"
            ],
            [
             0.6,
             "#e6f5d0"
            ],
            [
             0.7,
             "#b8e186"
            ],
            [
             0.8,
             "#7fbc41"
            ],
            [
             0.9,
             "#4d9221"
            ],
            [
             1,
             "#276419"
            ]
           ],
           "sequential": [
            [
             0,
             "#0d0887"
            ],
            [
             0.1111111111111111,
             "#46039f"
            ],
            [
             0.2222222222222222,
             "#7201a8"
            ],
            [
             0.3333333333333333,
             "#9c179e"
            ],
            [
             0.4444444444444444,
             "#bd3786"
            ],
            [
             0.5555555555555556,
             "#d8576b"
            ],
            [
             0.6666666666666666,
             "#ed7953"
            ],
            [
             0.7777777777777778,
             "#fb9f3a"
            ],
            [
             0.8888888888888888,
             "#fdca26"
            ],
            [
             1,
             "#f0f921"
            ]
           ],
           "sequentialminus": [
            [
             0,
             "#0d0887"
            ],
            [
             0.1111111111111111,
             "#46039f"
            ],
            [
             0.2222222222222222,
             "#7201a8"
            ],
            [
             0.3333333333333333,
             "#9c179e"
            ],
            [
             0.4444444444444444,
             "#bd3786"
            ],
            [
             0.5555555555555556,
             "#d8576b"
            ],
            [
             0.6666666666666666,
             "#ed7953"
            ],
            [
             0.7777777777777778,
             "#fb9f3a"
            ],
            [
             0.8888888888888888,
             "#fdca26"
            ],
            [
             1,
             "#f0f921"
            ]
           ]
          },
          "colorway": [
           "#636efa",
           "#EF553B",
           "#00cc96",
           "#ab63fa",
           "#FFA15A",
           "#19d3f3",
           "#FF6692",
           "#B6E880",
           "#FF97FF",
           "#FECB52"
          ],
          "font": {
           "color": "#2a3f5f"
          },
          "geo": {
           "bgcolor": "white",
           "lakecolor": "white",
           "landcolor": "#E5ECF6",
           "showlakes": true,
           "showland": true,
           "subunitcolor": "white"
          },
          "hoverlabel": {
           "align": "left"
          },
          "hovermode": "closest",
          "mapbox": {
           "style": "light"
          },
          "paper_bgcolor": "white",
          "plot_bgcolor": "#E5ECF6",
          "polar": {
           "angularaxis": {
            "gridcolor": "white",
            "linecolor": "white",
            "ticks": ""
           },
           "bgcolor": "#E5ECF6",
           "radialaxis": {
            "gridcolor": "white",
            "linecolor": "white",
            "ticks": ""
           }
          },
          "scene": {
           "xaxis": {
            "backgroundcolor": "#E5ECF6",
            "gridcolor": "white",
            "gridwidth": 2,
            "linecolor": "white",
            "showbackground": true,
            "ticks": "",
            "zerolinecolor": "white"
           },
           "yaxis": {
            "backgroundcolor": "#E5ECF6",
            "gridcolor": "white",
            "gridwidth": 2,
            "linecolor": "white",
            "showbackground": true,
            "ticks": "",
            "zerolinecolor": "white"
           },
           "zaxis": {
            "backgroundcolor": "#E5ECF6",
            "gridcolor": "white",
            "gridwidth": 2,
            "linecolor": "white",
            "showbackground": true,
            "ticks": "",
            "zerolinecolor": "white"
           }
          },
          "shapedefaults": {
           "line": {
            "color": "#2a3f5f"
           }
          },
          "ternary": {
           "aaxis": {
            "gridcolor": "white",
            "linecolor": "white",
            "ticks": ""
           },
           "baxis": {
            "gridcolor": "white",
            "linecolor": "white",
            "ticks": ""
           },
           "bgcolor": "#E5ECF6",
           "caxis": {
            "gridcolor": "white",
            "linecolor": "white",
            "ticks": ""
           }
          },
          "title": {
           "x": 0.05
          },
          "xaxis": {
           "automargin": true,
           "gridcolor": "white",
           "linecolor": "white",
           "ticks": "",
           "title": {
            "standoff": 15
           },
           "zerolinecolor": "white",
           "zerolinewidth": 2
          },
          "yaxis": {
           "automargin": true,
           "gridcolor": "white",
           "linecolor": "white",
           "ticks": "",
           "title": {
            "standoff": 15
           },
           "zerolinecolor": "white",
           "zerolinewidth": 2
          }
         }
        },
        "width": 1200,
        "xaxis": {
         "anchor": "y",
         "domain": [
          0,
          1
         ],
         "title": {
          "text": "days_left"
         }
        },
        "yaxis": {
         "anchor": "x",
         "domain": [
          0,
          1
         ],
         "title": {
          "text": "price"
         }
        }
       }
      }
     },
     "metadata": {},
     "output_type": "display_data"
    }
   ],
   "source": [
    "if SIMPLIFIED_PLOTS:\n",
    "    fig = px.scatter(df_raw_sample, x=\"days_left\", y=\"price\", color=\"class\")\n",
    "else: \n",
    "    fig = px.scatter(df_raw, x=\"days_left\", y=\"price\", color=\"class\", marginal_y=\"violin\", marginal_x=\"box\", trendline=\"ols\", template=\"simple_white\")\n",
    "\n",
    "fig.update_layout( width=1200, height=600)\n",
    "fig.show()"
   ]
  },
  {
   "cell_type": "code",
   "execution_count": 13,
   "id": "a22b2472",
   "metadata": {},
   "outputs": [
    {
     "data": {
      "application/vnd.plotly.v1+json": {
       "config": {
        "plotlyServerURL": "https://plot.ly"
       },
       "data": [
        {
         "hovertemplate": "class=Business<br>duration=%{x}<br>price=%{y}<extra></extra>",
         "legendgroup": "Business",
         "marker": {
          "color": "#636efa",
          "symbol": "circle"
         },
         "mode": "markers",
         "name": "Business",
         "showlegend": true,
         "type": "scattergl",
         "x": {
          "bdata": "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",
          "dtype": "f8"
         },
         "xaxis": "x",
         "y": {
          "bdata": "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",
          "dtype": "i4"
         },
         "yaxis": "y"
        },
        {
         "hovertemplate": "class=Economy<br>duration=%{x}<br>price=%{y}<extra></extra>",
         "legendgroup": "Economy",
         "marker": {
          "color": "#EF553B",
          "symbol": "circle"
         },
         "mode": "markers",
         "name": "Economy",
         "showlegend": true,
         "type": "scattergl",
         "x": {
          "bdata": "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",
          "dtype": "f8"
         },
         "xaxis": "x",
         "y": {
          "bdata": "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",
          "dtype": "i2"
         },
         "yaxis": "y"
        }
       ],
       "layout": {
        "height": 500,
        "legend": {
         "title": {
          "text": "class"
         },
         "tracegroupgap": 0
        },
        "margin": {
         "t": 60
        },
        "template": {
         "data": {
          "bar": [
           {
            "error_x": {
             "color": "#2a3f5f"
            },
            "error_y": {
             "color": "#2a3f5f"
            },
            "marker": {
             "line": {
              "color": "#E5ECF6",
              "width": 0.5
             },
             "pattern": {
              "fillmode": "overlay",
              "size": 10,
              "solidity": 0.2
             }
            },
            "type": "bar"
           }
          ],
          "barpolar": [
           {
            "marker": {
             "line": {
              "color": "#E5ECF6",
              "width": 0.5
             },
             "pattern": {
              "fillmode": "overlay",
              "size": 10,
              "solidity": 0.2
             }
            },
            "type": "barpolar"
           }
          ],
          "carpet": [
           {
            "aaxis": {
             "endlinecolor": "#2a3f5f",
             "gridcolor": "white",
             "linecolor": "white",
             "minorgridcolor": "white",
             "startlinecolor": "#2a3f5f"
            },
            "baxis": {
             "endlinecolor": "#2a3f5f",
             "gridcolor": "white",
             "linecolor": "white",
             "minorgridcolor": "white",
             "startlinecolor": "#2a3f5f"
            },
            "type": "carpet"
           }
          ],
          "choropleth": [
           {
            "colorbar": {
             "outlinewidth": 0,
             "ticks": ""
            },
            "type": "choropleth"
           }
          ],
          "contour": [
           {
            "colorbar": {
             "outlinewidth": 0,
             "ticks": ""
            },
            "colorscale": [
             [
              0,
              "#0d0887"
             ],
             [
              0.1111111111111111,
              "#46039f"
             ],
             [
              0.2222222222222222,
              "#7201a8"
             ],
             [
              0.3333333333333333,
              "#9c179e"
             ],
             [
              0.4444444444444444,
              "#bd3786"
             ],
             [
              0.5555555555555556,
              "#d8576b"
             ],
             [
              0.6666666666666666,
              "#ed7953"
             ],
             [
              0.7777777777777778,
              "#fb9f3a"
             ],
             [
              0.8888888888888888,
              "#fdca26"
             ],
             [
              1,
              "#f0f921"
             ]
            ],
            "type": "contour"
           }
          ],
          "contourcarpet": [
           {
            "colorbar": {
             "outlinewidth": 0,
             "ticks": ""
            },
            "type": "contourcarpet"
           }
          ],
          "heatmap": [
           {
            "colorbar": {
             "outlinewidth": 0,
             "ticks": ""
            },
            "colorscale": [
             [
              0,
              "#0d0887"
             ],
             [
              0.1111111111111111,
              "#46039f"
             ],
             [
              0.2222222222222222,
              "#7201a8"
             ],
             [
              0.3333333333333333,
              "#9c179e"
             ],
             [
              0.4444444444444444,
              "#bd3786"
             ],
             [
              0.5555555555555556,
              "#d8576b"
             ],
             [
              0.6666666666666666,
              "#ed7953"
             ],
             [
              0.7777777777777778,
              "#fb9f3a"
             ],
             [
              0.8888888888888888,
              "#fdca26"
             ],
             [
              1,
              "#f0f921"
             ]
            ],
            "type": "heatmap"
           }
          ],
          "histogram": [
           {
            "marker": {
             "pattern": {
              "fillmode": "overlay",
              "size": 10,
              "solidity": 0.2
             }
            },
            "type": "histogram"
           }
          ],
          "histogram2d": [
           {
            "colorbar": {
             "outlinewidth": 0,
             "ticks": ""
            },
            "colorscale": [
             [
              0,
              "#0d0887"
             ],
             [
              0.1111111111111111,
              "#46039f"
             ],
             [
              0.2222222222222222,
              "#7201a8"
             ],
             [
              0.3333333333333333,
              "#9c179e"
             ],
             [
              0.4444444444444444,
              "#bd3786"
             ],
             [
              0.5555555555555556,
              "#d8576b"
             ],
             [
              0.6666666666666666,
              "#ed7953"
             ],
             [
              0.7777777777777778,
              "#fb9f3a"
             ],
             [
              0.8888888888888888,
              "#fdca26"
             ],
             [
              1,
              "#f0f921"
             ]
            ],
            "type": "histogram2d"
           }
          ],
          "histogram2dcontour": [
           {
            "colorbar": {
             "outlinewidth": 0,
             "ticks": ""
            },
            "colorscale": [
             [
              0,
              "#0d0887"
             ],
             [
              0.1111111111111111,
              "#46039f"
             ],
             [
              0.2222222222222222,
              "#7201a8"
             ],
             [
              0.3333333333333333,
              "#9c179e"
             ],
             [
              0.4444444444444444,
              "#bd3786"
             ],
             [
              0.5555555555555556,
              "#d8576b"
             ],
             [
              0.6666666666666666,
              "#ed7953"
             ],
             [
              0.7777777777777778,
              "#fb9f3a"
             ],
             [
              0.8888888888888888,
              "#fdca26"
             ],
             [
              1,
              "#f0f921"
             ]
            ],
            "type": "histogram2dcontour"
           }
          ],
          "mesh3d": [
           {
            "colorbar": {
             "outlinewidth": 0,
             "ticks": ""
            },
            "type": "mesh3d"
           }
          ],
          "parcoords": [
           {
            "line": {
             "colorbar": {
              "outlinewidth": 0,
              "ticks": ""
             }
            },
            "type": "parcoords"
           }
          ],
          "pie": [
           {
            "automargin": true,
            "type": "pie"
           }
          ],
          "scatter": [
           {
            "fillpattern": {
             "fillmode": "overlay",
             "size": 10,
             "solidity": 0.2
            },
            "type": "scatter"
           }
          ],
          "scatter3d": [
           {
            "line": {
             "colorbar": {
              "outlinewidth": 0,
              "ticks": ""
             }
            },
            "marker": {
             "colorbar": {
              "outlinewidth": 0,
              "ticks": ""
             }
            },
            "type": "scatter3d"
           }
          ],
          "scattercarpet": [
           {
            "marker": {
             "colorbar": {
              "outlinewidth": 0,
              "ticks": ""
             }
            },
            "type": "scattercarpet"
           }
          ],
          "scattergeo": [
           {
            "marker": {
             "colorbar": {
              "outlinewidth": 0,
              "ticks": ""
             }
            },
            "type": "scattergeo"
           }
          ],
          "scattergl": [
           {
            "marker": {
             "colorbar": {
              "outlinewidth": 0,
              "ticks": ""
             }
            },
            "type": "scattergl"
           }
          ],
          "scattermap": [
           {
            "marker": {
             "colorbar": {
              "outlinewidth": 0,
              "ticks": ""
             }
            },
            "type": "scattermap"
           }
          ],
          "scattermapbox": [
           {
            "marker": {
             "colorbar": {
              "outlinewidth": 0,
              "ticks": ""
             }
            },
            "type": "scattermapbox"
           }
          ],
          "scatterpolar": [
           {
            "marker": {
             "colorbar": {
              "outlinewidth": 0,
              "ticks": ""
             }
            },
            "type": "scatterpolar"
           }
          ],
          "scatterpolargl": [
           {
            "marker": {
             "colorbar": {
              "outlinewidth": 0,
              "ticks": ""
             }
            },
            "type": "scatterpolargl"
           }
          ],
          "scatterternary": [
           {
            "marker": {
             "colorbar": {
              "outlinewidth": 0,
              "ticks": ""
             }
            },
            "type": "scatterternary"
           }
          ],
          "surface": [
           {
            "colorbar": {
             "outlinewidth": 0,
             "ticks": ""
            },
            "colorscale": [
             [
              0,
              "#0d0887"
             ],
             [
              0.1111111111111111,
              "#46039f"
             ],
             [
              0.2222222222222222,
              "#7201a8"
             ],
             [
              0.3333333333333333,
              "#9c179e"
             ],
             [
              0.4444444444444444,
              "#bd3786"
             ],
             [
              0.5555555555555556,
              "#d8576b"
             ],
             [
              0.6666666666666666,
              "#ed7953"
             ],
             [
              0.7777777777777778,
              "#fb9f3a"
             ],
             [
              0.8888888888888888,
              "#fdca26"
             ],
             [
              1,
              "#f0f921"
             ]
            ],
            "type": "surface"
           }
          ],
          "table": [
           {
            "cells": {
             "fill": {
              "color": "#EBF0F8"
             },
             "line": {
              "color": "white"
             }
            },
            "header": {
             "fill": {
              "color": "#C8D4E3"
             },
             "line": {
              "color": "white"
             }
            },
            "type": "table"
           }
          ]
         },
         "layout": {
          "annotationdefaults": {
           "arrowcolor": "#2a3f5f",
           "arrowhead": 0,
           "arrowwidth": 1
          },
          "autotypenumbers": "strict",
          "coloraxis": {
           "colorbar": {
            "outlinewidth": 0,
            "ticks": ""
           }
          },
          "colorscale": {
           "diverging": [
            [
             0,
             "#8e0152"
            ],
            [
             0.1,
             "#c51b7d"
            ],
            [
             0.2,
             "#de77ae"
            ],
            [
             0.3,
             "#f1b6da"
            ],
            [
             0.4,
             "#fde0ef"
            ],
            [
             0.5,
             "#f7f7f7"
            ],
            [
             0.6,
             "#e6f5d0"
            ],
            [
             0.7,
             "#b8e186"
            ],
            [
             0.8,
             "#7fbc41"
            ],
            [
             0.9,
             "#4d9221"
            ],
            [
             1,
             "#276419"
            ]
           ],
           "sequential": [
            [
             0,
             "#0d0887"
            ],
            [
             0.1111111111111111,
             "#46039f"
            ],
            [
             0.2222222222222222,
             "#7201a8"
            ],
            [
             0.3333333333333333,
             "#9c179e"
            ],
            [
             0.4444444444444444,
             "#bd3786"
            ],
            [
             0.5555555555555556,
             "#d8576b"
            ],
            [
             0.6666666666666666,
             "#ed7953"
            ],
            [
             0.7777777777777778,
             "#fb9f3a"
            ],
            [
             0.8888888888888888,
             "#fdca26"
            ],
            [
             1,
             "#f0f921"
            ]
           ],
           "sequentialminus": [
            [
             0,
             "#0d0887"
            ],
            [
             0.1111111111111111,
             "#46039f"
            ],
            [
             0.2222222222222222,
             "#7201a8"
            ],
            [
             0.3333333333333333,
             "#9c179e"
            ],
            [
             0.4444444444444444,
             "#bd3786"
            ],
            [
             0.5555555555555556,
             "#d8576b"
            ],
            [
             0.6666666666666666,
             "#ed7953"
            ],
            [
             0.7777777777777778,
             "#fb9f3a"
            ],
            [
             0.8888888888888888,
             "#fdca26"
            ],
            [
             1,
             "#f0f921"
            ]
           ]
          },
          "colorway": [
           "#636efa",
           "#EF553B",
           "#00cc96",
           "#ab63fa",
           "#FFA15A",
           "#19d3f3",
           "#FF6692",
           "#B6E880",
           "#FF97FF",
           "#FECB52"
          ],
          "font": {
           "color": "#2a3f5f"
          },
          "geo": {
           "bgcolor": "white",
           "lakecolor": "white",
           "landcolor": "#E5ECF6",
           "showlakes": true,
           "showland": true,
           "subunitcolor": "white"
          },
          "hoverlabel": {
           "align": "left"
          },
          "hovermode": "closest",
          "mapbox": {
           "style": "light"
          },
          "paper_bgcolor": "white",
          "plot_bgcolor": "#E5ECF6",
          "polar": {
           "angularaxis": {
            "gridcolor": "white",
            "linecolor": "white",
            "ticks": ""
           },
           "bgcolor": "#E5ECF6",
           "radialaxis": {
            "gridcolor": "white",
            "linecolor": "white",
            "ticks": ""
           }
          },
          "scene": {
           "xaxis": {
            "backgroundcolor": "#E5ECF6",
            "gridcolor": "white",
            "gridwidth": 2,
            "linecolor": "white",
            "showbackground": true,
            "ticks": "",
            "zerolinecolor": "white"
           },
           "yaxis": {
            "backgroundcolor": "#E5ECF6",
            "gridcolor": "white",
            "gridwidth": 2,
            "linecolor": "white",
            "showbackground": true,
            "ticks": "",
            "zerolinecolor": "white"
           },
           "zaxis": {
            "backgroundcolor": "#E5ECF6",
            "gridcolor": "white",
            "gridwidth": 2,
            "linecolor": "white",
            "showbackground": true,
            "ticks": "",
            "zerolinecolor": "white"
           }
          },
          "shapedefaults": {
           "line": {
            "color": "#2a3f5f"
           }
          },
          "ternary": {
           "aaxis": {
            "gridcolor": "white",
            "linecolor": "white",
            "ticks": ""
           },
           "baxis": {
            "gridcolor": "white",
            "linecolor": "white",
            "ticks": ""
           },
           "bgcolor": "#E5ECF6",
           "caxis": {
            "gridcolor": "white",
            "linecolor": "white",
            "ticks": ""
           }
          },
          "title": {
           "x": 0.05
          },
          "xaxis": {
           "automargin": true,
           "gridcolor": "white",
           "linecolor": "white",
           "ticks": "",
           "title": {
            "standoff": 15
           },
           "zerolinecolor": "white",
           "zerolinewidth": 2
          },
          "yaxis": {
           "automargin": true,
           "gridcolor": "white",
           "linecolor": "white",
           "ticks": "",
           "title": {
            "standoff": 15
           },
           "zerolinecolor": "white",
           "zerolinewidth": 2
          }
         }
        },
        "width": 1200,
        "xaxis": {
         "anchor": "y",
         "domain": [
          0,
          1
         ],
         "title": {
          "text": "duration"
         }
        },
        "yaxis": {
         "anchor": "x",
         "domain": [
          0,
          1
         ],
         "title": {
          "text": "price"
         }
        }
       }
      }
     },
     "metadata": {},
     "output_type": "display_data"
    }
   ],
   "source": [
    "if SIMPLIFIED_PLOTS:\n",
    "    fig = px.scatter(df_raw_sample, x=\"duration\", y=\"price\", color=\"class\")\n",
    "else:\n",
    "    fig = px.scatter(df_raw, x=\"duration\", y=\"price\", color=\"class\", marginal_y=\"violin\", marginal_x=\"box\", trendline=\"ols\", template=\"simple_white\")\n",
    "fig.update_layout( width=1200, height=500)\n",
    "fig.show()"
   ]
  },
  {
   "cell_type": "code",
   "execution_count": 23,
   "id": "ad909977",
   "metadata": {},
   "outputs": [
    {
     "data": {
      "application/vnd.plotly.v1+json": {
       "config": {
        "plotlyServerURL": "https://plot.ly"
       },
       "data": [
        {
         "alignmentgroup": "True",
         "hovertemplate": "class=Economy<br>Airline=%{x}<br>Average Price=%{y}<extra></extra>",
         "legendgroup": "Economy",
         "marker": {
          "color": "red",
          "pattern": {
           "shape": ""
          }
         },
         "name": "Economy",
         "offsetgroup": "Economy",
         "orientation": "v",
         "showlegend": true,
         "textposition": "auto",
         "type": "bar",
         "x": [
          "AirAsia",
          "Air_India",
          "GO_FIRST",
          "Indigo",
          "SpiceJet",
          "Vistara"
         ],
         "xaxis": "x",
         "y": {
          "bdata": "CABvPiX2r0BLBpqirpG8QAG6v/EBFLZAPtmnXzfMtECq78RkRyO4QE40uJLxfr5A",
          "dtype": "f8"
         },
         "yaxis": "y"
        },
        {
         "alignmentgroup": "True",
         "hovertemplate": "class=Business<br>Airline=%{x}<br>Average Price=%{y}<extra></extra>",
         "legendgroup": "Business",
         "marker": {
          "color": "blue",
          "pattern": {
           "shape": ""
          }
         },
         "name": "Business",
         "offsetgroup": "Business",
         "orientation": "v",
         "showlegend": true,
         "textposition": "auto",
         "type": "bar",
         "x": [
          "Air_India",
          "Vistara"
         ],
         "xaxis": "x",
         "y": {
          "bdata": "WME5QWED50DBQo3joBbrQA==",
          "dtype": "f8"
         },
         "yaxis": "y"
        }
       ],
       "layout": {
        "barmode": "group",
        "height": 600,
        "legend": {
         "title": {
          "text": "class"
         },
         "tracegroupgap": 0
        },
        "template": {
         "data": {
          "bar": [
           {
            "error_x": {
             "color": "#2a3f5f"
            },
            "error_y": {
             "color": "#2a3f5f"
            },
            "marker": {
             "line": {
              "color": "#E5ECF6",
              "width": 0.5
             },
             "pattern": {
              "fillmode": "overlay",
              "size": 10,
              "solidity": 0.2
             }
            },
            "type": "bar"
           }
          ],
          "barpolar": [
           {
            "marker": {
             "line": {
              "color": "#E5ECF6",
              "width": 0.5
             },
             "pattern": {
              "fillmode": "overlay",
              "size": 10,
              "solidity": 0.2
             }
            },
            "type": "barpolar"
           }
          ],
          "carpet": [
           {
            "aaxis": {
             "endlinecolor": "#2a3f5f",
             "gridcolor": "white",
             "linecolor": "white",
             "minorgridcolor": "white",
             "startlinecolor": "#2a3f5f"
            },
            "baxis": {
             "endlinecolor": "#2a3f5f",
             "gridcolor": "white",
             "linecolor": "white",
             "minorgridcolor": "white",
             "startlinecolor": "#2a3f5f"
            },
            "type": "carpet"
           }
          ],
          "choropleth": [
           {
            "colorbar": {
             "outlinewidth": 0,
             "ticks": ""
            },
            "type": "choropleth"
           }
          ],
          "contour": [
           {
            "colorbar": {
             "outlinewidth": 0,
             "ticks": ""
            },
            "colorscale": [
             [
              0,
              "#0d0887"
             ],
             [
              0.1111111111111111,
              "#46039f"
             ],
             [
              0.2222222222222222,
              "#7201a8"
             ],
             [
              0.3333333333333333,
              "#9c179e"
             ],
             [
              0.4444444444444444,
              "#bd3786"
             ],
             [
              0.5555555555555556,
              "#d8576b"
             ],
             [
              0.6666666666666666,
              "#ed7953"
             ],
             [
              0.7777777777777778,
              "#fb9f3a"
             ],
             [
              0.8888888888888888,
              "#fdca26"
             ],
             [
              1,
              "#f0f921"
             ]
            ],
            "type": "contour"
           }
          ],
          "contourcarpet": [
           {
            "colorbar": {
             "outlinewidth": 0,
             "ticks": ""
            },
            "type": "contourcarpet"
           }
          ],
          "heatmap": [
           {
            "colorbar": {
             "outlinewidth": 0,
             "ticks": ""
            },
            "colorscale": [
             [
              0,
              "#0d0887"
             ],
             [
              0.1111111111111111,
              "#46039f"
             ],
             [
              0.2222222222222222,
              "#7201a8"
             ],
             [
              0.3333333333333333,
              "#9c179e"
             ],
             [
              0.4444444444444444,
              "#bd3786"
             ],
             [
              0.5555555555555556,
              "#d8576b"
             ],
             [
              0.6666666666666666,
              "#ed7953"
             ],
             [
              0.7777777777777778,
              "#fb9f3a"
             ],
             [
              0.8888888888888888,
              "#fdca26"
             ],
             [
              1,
              "#f0f921"
             ]
            ],
            "type": "heatmap"
           }
          ],
          "histogram": [
           {
            "marker": {
             "pattern": {
              "fillmode": "overlay",
              "size": 10,
              "solidity": 0.2
             }
            },
            "type": "histogram"
           }
          ],
          "histogram2d": [
           {
            "colorbar": {
             "outlinewidth": 0,
             "ticks": ""
            },
            "colorscale": [
             [
              0,
              "#0d0887"
             ],
             [
              0.1111111111111111,
              "#46039f"
             ],
             [
              0.2222222222222222,
              "#7201a8"
             ],
             [
              0.3333333333333333,
              "#9c179e"
             ],
             [
              0.4444444444444444,
              "#bd3786"
             ],
             [
              0.5555555555555556,
              "#d8576b"
             ],
             [
              0.6666666666666666,
              "#ed7953"
             ],
             [
              0.7777777777777778,
              "#fb9f3a"
             ],
             [
              0.8888888888888888,
              "#fdca26"
             ],
             [
              1,
              "#f0f921"
             ]
            ],
            "type": "histogram2d"
           }
          ],
          "histogram2dcontour": [
           {
            "colorbar": {
             "outlinewidth": 0,
             "ticks": ""
            },
            "colorscale": [
             [
              0,
              "#0d0887"
             ],
             [
              0.1111111111111111,
              "#46039f"
             ],
             [
              0.2222222222222222,
              "#7201a8"
             ],
             [
              0.3333333333333333,
              "#9c179e"
             ],
             [
              0.4444444444444444,
              "#bd3786"
             ],
             [
              0.5555555555555556,
              "#d8576b"
             ],
             [
              0.6666666666666666,
              "#ed7953"
             ],
             [
              0.7777777777777778,
              "#fb9f3a"
             ],
             [
              0.8888888888888888,
              "#fdca26"
             ],
             [
              1,
              "#f0f921"
             ]
            ],
            "type": "histogram2dcontour"
           }
          ],
          "mesh3d": [
           {
            "colorbar": {
             "outlinewidth": 0,
             "ticks": ""
            },
            "type": "mesh3d"
           }
          ],
          "parcoords": [
           {
            "line": {
             "colorbar": {
              "outlinewidth": 0,
              "ticks": ""
             }
            },
            "type": "parcoords"
           }
          ],
          "pie": [
           {
            "automargin": true,
            "type": "pie"
           }
          ],
          "scatter": [
           {
            "fillpattern": {
             "fillmode": "overlay",
             "size": 10,
             "solidity": 0.2
            },
            "type": "scatter"
           }
          ],
          "scatter3d": [
           {
            "line": {
             "colorbar": {
              "outlinewidth": 0,
              "ticks": ""
             }
            },
            "marker": {
             "colorbar": {
              "outlinewidth": 0,
              "ticks": ""
             }
            },
            "type": "scatter3d"
           }
          ],
          "scattercarpet": [
           {
            "marker": {
             "colorbar": {
              "outlinewidth": 0,
              "ticks": ""
             }
            },
            "type": "scattercarpet"
           }
          ],
          "scattergeo": [
           {
            "marker": {
             "colorbar": {
              "outlinewidth": 0,
              "ticks": ""
             }
            },
            "type": "scattergeo"
           }
          ],
          "scattergl": [
           {
            "marker": {
             "colorbar": {
              "outlinewidth": 0,
              "ticks": ""
             }
            },
            "type": "scattergl"
           }
          ],
          "scattermap": [
           {
            "marker": {
             "colorbar": {
              "outlinewidth": 0,
              "ticks": ""
             }
            },
            "type": "scattermap"
           }
          ],
          "scattermapbox": [
           {
            "marker": {
             "colorbar": {
              "outlinewidth": 0,
              "ticks": ""
             }
            },
            "type": "scattermapbox"
           }
          ],
          "scatterpolar": [
           {
            "marker": {
             "colorbar": {
              "outlinewidth": 0,
              "ticks": ""
             }
            },
            "type": "scatterpolar"
           }
          ],
          "scatterpolargl": [
           {
            "marker": {
             "colorbar": {
              "outlinewidth": 0,
              "ticks": ""
             }
            },
            "type": "scatterpolargl"
           }
          ],
          "scatterternary": [
           {
            "marker": {
             "colorbar": {
              "outlinewidth": 0,
              "ticks": ""
             }
            },
            "type": "scatterternary"
           }
          ],
          "surface": [
           {
            "colorbar": {
             "outlinewidth": 0,
             "ticks": ""
            },
            "colorscale": [
             [
              0,
              "#0d0887"
             ],
             [
              0.1111111111111111,
              "#46039f"
             ],
             [
              0.2222222222222222,
              "#7201a8"
             ],
             [
              0.3333333333333333,
              "#9c179e"
             ],
             [
              0.4444444444444444,
              "#bd3786"
             ],
             [
              0.5555555555555556,
              "#d8576b"
             ],
             [
              0.6666666666666666,
              "#ed7953"
             ],
             [
              0.7777777777777778,
              "#fb9f3a"
             ],
             [
              0.8888888888888888,
              "#fdca26"
             ],
             [
              1,
              "#f0f921"
             ]
            ],
            "type": "surface"
           }
          ],
          "table": [
           {
            "cells": {
             "fill": {
              "color": "#EBF0F8"
             },
             "line": {
              "color": "white"
             }
            },
            "header": {
             "fill": {
              "color": "#C8D4E3"
             },
             "line": {
              "color": "white"
             }
            },
            "type": "table"
           }
          ]
         },
         "layout": {
          "annotationdefaults": {
           "arrowcolor": "#2a3f5f",
           "arrowhead": 0,
           "arrowwidth": 1
          },
          "autotypenumbers": "strict",
          "coloraxis": {
           "colorbar": {
            "outlinewidth": 0,
            "ticks": ""
           }
          },
          "colorscale": {
           "diverging": [
            [
             0,
             "#8e0152"
            ],
            [
             0.1,
             "#c51b7d"
            ],
            [
             0.2,
             "#de77ae"
            ],
            [
             0.3,
             "#f1b6da"
            ],
            [
             0.4,
             "#fde0ef"
            ],
            [
             0.5,
             "#f7f7f7"
            ],
            [
             0.6,
             "#e6f5d0"
            ],
            [
             0.7,
             "#b8e186"
            ],
            [
             0.8,
             "#7fbc41"
            ],
            [
             0.9,
             "#4d9221"
            ],
            [
             1,
             "#276419"
            ]
           ],
           "sequential": [
            [
             0,
             "#0d0887"
            ],
            [
             0.1111111111111111,
             "#46039f"
            ],
            [
             0.2222222222222222,
             "#7201a8"
            ],
            [
             0.3333333333333333,
             "#9c179e"
            ],
            [
             0.4444444444444444,
             "#bd3786"
            ],
            [
             0.5555555555555556,
             "#d8576b"
            ],
            [
             0.6666666666666666,
             "#ed7953"
            ],
            [
             0.7777777777777778,
             "#fb9f3a"
            ],
            [
             0.8888888888888888,
             "#fdca26"
            ],
            [
             1,
             "#f0f921"
            ]
           ],
           "sequentialminus": [
            [
             0,
             "#0d0887"
            ],
            [
             0.1111111111111111,
             "#46039f"
            ],
            [
             0.2222222222222222,
             "#7201a8"
            ],
            [
             0.3333333333333333,
             "#9c179e"
            ],
            [
             0.4444444444444444,
             "#bd3786"
            ],
            [
             0.5555555555555556,
             "#d8576b"
            ],
            [
             0.6666666666666666,
             "#ed7953"
            ],
            [
             0.7777777777777778,
             "#fb9f3a"
            ],
            [
             0.8888888888888888,
             "#fdca26"
            ],
            [
             1,
             "#f0f921"
            ]
           ]
          },
          "colorway": [
           "#636efa",
           "#EF553B",
           "#00cc96",
           "#ab63fa",
           "#FFA15A",
           "#19d3f3",
           "#FF6692",
           "#B6E880",
           "#FF97FF",
           "#FECB52"
          ],
          "font": {
           "color": "#2a3f5f"
          },
          "geo": {
           "bgcolor": "white",
           "lakecolor": "white",
           "landcolor": "#E5ECF6",
           "showlakes": true,
           "showland": true,
           "subunitcolor": "white"
          },
          "hoverlabel": {
           "align": "left"
          },
          "hovermode": "closest",
          "mapbox": {
           "style": "light"
          },
          "paper_bgcolor": "white",
          "plot_bgcolor": "#E5ECF6",
          "polar": {
           "angularaxis": {
            "gridcolor": "white",
            "linecolor": "white",
            "ticks": ""
           },
           "bgcolor": "#E5ECF6",
           "radialaxis": {
            "gridcolor": "white",
            "linecolor": "white",
            "ticks": ""
           }
          },
          "scene": {
           "xaxis": {
            "backgroundcolor": "#E5ECF6",
            "gridcolor": "white",
            "gridwidth": 2,
            "linecolor": "white",
            "showbackground": true,
            "ticks": "",
            "zerolinecolor": "white"
           },
           "yaxis": {
            "backgroundcolor": "#E5ECF6",
            "gridcolor": "white",
            "gridwidth": 2,
            "linecolor": "white",
            "showbackground": true,
            "ticks": "",
            "zerolinecolor": "white"
           },
           "zaxis": {
            "backgroundcolor": "#E5ECF6",
            "gridcolor": "white",
            "gridwidth": 2,
            "linecolor": "white",
            "showbackground": true,
            "ticks": "",
            "zerolinecolor": "white"
           }
          },
          "shapedefaults": {
           "line": {
            "color": "#2a3f5f"
           }
          },
          "ternary": {
           "aaxis": {
            "gridcolor": "white",
            "linecolor": "white",
            "ticks": ""
           },
           "baxis": {
            "gridcolor": "white",
            "linecolor": "white",
            "ticks": ""
           },
           "bgcolor": "#E5ECF6",
           "caxis": {
            "gridcolor": "white",
            "linecolor": "white",
            "ticks": ""
           }
          },
          "title": {
           "x": 0.05
          },
          "xaxis": {
           "automargin": true,
           "gridcolor": "white",
           "linecolor": "white",
           "ticks": "",
           "title": {
            "standoff": 15
           },
           "zerolinecolor": "white",
           "zerolinewidth": 2
          },
          "yaxis": {
           "automargin": true,
           "gridcolor": "white",
           "linecolor": "white",
           "ticks": "",
           "title": {
            "standoff": 15
           },
           "zerolinecolor": "white",
           "zerolinewidth": 2
          }
         }
        },
        "title": {
         "text": "Average Flight Prices by Airline and Class"
        },
        "width": 1200,
        "xaxis": {
         "anchor": "y",
         "domain": [
          0,
          1
         ],
         "title": {
          "text": "Airline"
         }
        },
        "yaxis": {
         "anchor": "x",
         "domain": [
          0,
          1
         ],
         "title": {
          "text": "Average Price"
         }
        }
       }
      }
     },
     "metadata": {},
     "output_type": "display_data"
    }
   ],
   "source": [
    "avg_prices = df_raw.groupby(['airline', 'class'])['price'].mean().reset_index()\n",
    "\n",
    "# Plot\n",
    "fig = px.bar(\n",
    "    avg_prices,\n",
    "    x='airline',\n",
    "    y='price',\n",
    "    color='class',\n",
    "    barmode='group',\n",
    "    color_discrete_map={\n",
    "        'Economy': 'red',\n",
    "        'Business': 'blue'  # you can pick any color you like for Business\n",
    "    },\n",
    "    title='Average Flight Prices by Airline and Class',\n",
    "    labels={'price': 'Average Price', 'airline': 'Airline'}\n",
    ")\n",
    "\n",
    "fig.update_layout(width=1200, height=600)\n",
    "fig.show()"
   ]
  },
  {
   "cell_type": "markdown",
   "id": "1fba4117",
   "metadata": {},
   "source": [
    "## Data Cleaning and Preprocessing"
   ]
  },
  {
   "cell_type": "code",
   "execution_count": 9,
   "id": "988b5d72",
   "metadata": {},
   "outputs": [
    {
     "data": {
      "text/html": [
       "<div>\n",
       "<style scoped>\n",
       "    .dataframe tbody tr th:only-of-type {\n",
       "        vertical-align: middle;\n",
       "    }\n",
       "\n",
       "    .dataframe tbody tr th {\n",
       "        vertical-align: top;\n",
       "    }\n",
       "\n",
       "    .dataframe thead th {\n",
       "        text-align: right;\n",
       "    }\n",
       "</style>\n",
       "<table border=\"1\" class=\"dataframe\">\n",
       "  <thead>\n",
       "    <tr style=\"text-align: right;\">\n",
       "      <th></th>\n",
       "      <th>const</th>\n",
       "      <th>duration</th>\n",
       "      <th>days_left</th>\n",
       "      <th>airline_Air_India</th>\n",
       "      <th>airline_GO_FIRST</th>\n",
       "      <th>airline_Indigo</th>\n",
       "      <th>airline_SpiceJet</th>\n",
       "      <th>airline_Vistara</th>\n",
       "      <th>source_city_Chennai</th>\n",
       "      <th>source_city_Delhi</th>\n",
       "      <th>source_city_Hyderabad</th>\n",
       "      <th>source_city_Kolkata</th>\n",
       "      <th>source_city_Mumbai</th>\n",
       "      <th>departure_time_Early_Morning</th>\n",
       "      <th>departure_time_Evening</th>\n",
       "      <th>departure_time_Late_Night</th>\n",
       "      <th>departure_time_Morning</th>\n",
       "      <th>departure_time_Night</th>\n",
       "      <th>stops_two_or_more</th>\n",
       "      <th>stops_zero</th>\n",
       "      <th>arrival_time_Early_Morning</th>\n",
       "      <th>arrival_time_Evening</th>\n",
       "      <th>arrival_time_Late_Night</th>\n",
       "      <th>arrival_time_Morning</th>\n",
       "      <th>arrival_time_Night</th>\n",
       "      <th>destination_city_Chennai</th>\n",
       "      <th>destination_city_Delhi</th>\n",
       "      <th>destination_city_Hyderabad</th>\n",
       "      <th>destination_city_Kolkata</th>\n",
       "      <th>destination_city_Mumbai</th>\n",
       "      <th>class_Economy</th>\n",
       "    </tr>\n",
       "  </thead>\n",
       "  <tbody>\n",
       "    <tr>\n",
       "      <th>148417</th>\n",
       "      <td>1.0</td>\n",
       "      <td>19.42</td>\n",
       "      <td>6.0</td>\n",
       "      <td>1.0</td>\n",
       "      <td>0.0</td>\n",
       "      <td>0.0</td>\n",
       "      <td>0.0</td>\n",
       "      <td>0.0</td>\n",
       "      <td>0.0</td>\n",
       "      <td>0.0</td>\n",
       "      <td>0.0</td>\n",
       "      <td>1.0</td>\n",
       "      <td>0.0</td>\n",
       "      <td>0.0</td>\n",
       "      <td>0.0</td>\n",
       "      <td>0.0</td>\n",
       "      <td>0.0</td>\n",
       "      <td>0.0</td>\n",
       "      <td>0.0</td>\n",
       "      <td>0.0</td>\n",
       "      <td>0.0</td>\n",
       "      <td>0.0</td>\n",
       "      <td>0.0</td>\n",
       "      <td>1.0</td>\n",
       "      <td>0.0</td>\n",
       "      <td>1.0</td>\n",
       "      <td>0.0</td>\n",
       "      <td>0.0</td>\n",
       "      <td>0.0</td>\n",
       "      <td>0.0</td>\n",
       "      <td>1.0</td>\n",
       "    </tr>\n",
       "    <tr>\n",
       "      <th>36879</th>\n",
       "      <td>1.0</td>\n",
       "      <td>7.00</td>\n",
       "      <td>13.0</td>\n",
       "      <td>0.0</td>\n",
       "      <td>0.0</td>\n",
       "      <td>1.0</td>\n",
       "      <td>0.0</td>\n",
       "      <td>0.0</td>\n",
       "      <td>0.0</td>\n",
       "      <td>1.0</td>\n",
       "      <td>0.0</td>\n",
       "      <td>0.0</td>\n",
       "      <td>0.0</td>\n",
       "      <td>0.0</td>\n",
       "      <td>0.0</td>\n",
       "      <td>0.0</td>\n",
       "      <td>0.0</td>\n",
       "      <td>0.0</td>\n",
       "      <td>1.0</td>\n",
       "      <td>0.0</td>\n",
       "      <td>0.0</td>\n",
       "      <td>0.0</td>\n",
       "      <td>0.0</td>\n",
       "      <td>0.0</td>\n",
       "      <td>1.0</td>\n",
       "      <td>1.0</td>\n",
       "      <td>0.0</td>\n",
       "      <td>0.0</td>\n",
       "      <td>0.0</td>\n",
       "      <td>0.0</td>\n",
       "      <td>1.0</td>\n",
       "    </tr>\n",
       "    <tr>\n",
       "      <th>274531</th>\n",
       "      <td>1.0</td>\n",
       "      <td>21.17</td>\n",
       "      <td>44.0</td>\n",
       "      <td>1.0</td>\n",
       "      <td>0.0</td>\n",
       "      <td>0.0</td>\n",
       "      <td>0.0</td>\n",
       "      <td>0.0</td>\n",
       "      <td>0.0</td>\n",
       "      <td>0.0</td>\n",
       "      <td>0.0</td>\n",
       "      <td>1.0</td>\n",
       "      <td>0.0</td>\n",
       "      <td>0.0</td>\n",
       "      <td>0.0</td>\n",
       "      <td>0.0</td>\n",
       "      <td>0.0</td>\n",
       "      <td>0.0</td>\n",
       "      <td>0.0</td>\n",
       "      <td>0.0</td>\n",
       "      <td>0.0</td>\n",
       "      <td>0.0</td>\n",
       "      <td>0.0</td>\n",
       "      <td>0.0</td>\n",
       "      <td>0.0</td>\n",
       "      <td>1.0</td>\n",
       "      <td>0.0</td>\n",
       "      <td>0.0</td>\n",
       "      <td>0.0</td>\n",
       "      <td>0.0</td>\n",
       "      <td>0.0</td>\n",
       "    </tr>\n",
       "    <tr>\n",
       "      <th>166397</th>\n",
       "      <td>1.0</td>\n",
       "      <td>10.25</td>\n",
       "      <td>11.0</td>\n",
       "      <td>0.0</td>\n",
       "      <td>0.0</td>\n",
       "      <td>0.0</td>\n",
       "      <td>0.0</td>\n",
       "      <td>1.0</td>\n",
       "      <td>0.0</td>\n",
       "      <td>0.0</td>\n",
       "      <td>1.0</td>\n",
       "      <td>0.0</td>\n",
       "      <td>0.0</td>\n",
       "      <td>0.0</td>\n",
       "      <td>0.0</td>\n",
       "      <td>0.0</td>\n",
       "      <td>0.0</td>\n",
       "      <td>1.0</td>\n",
       "      <td>0.0</td>\n",
       "      <td>0.0</td>\n",
       "      <td>1.0</td>\n",
       "      <td>0.0</td>\n",
       "      <td>0.0</td>\n",
       "      <td>0.0</td>\n",
       "      <td>0.0</td>\n",
       "      <td>0.0</td>\n",
       "      <td>0.0</td>\n",
       "      <td>0.0</td>\n",
       "      <td>0.0</td>\n",
       "      <td>0.0</td>\n",
       "      <td>1.0</td>\n",
       "    </tr>\n",
       "    <tr>\n",
       "      <th>272722</th>\n",
       "      <td>1.0</td>\n",
       "      <td>26.50</td>\n",
       "      <td>5.0</td>\n",
       "      <td>0.0</td>\n",
       "      <td>0.0</td>\n",
       "      <td>0.0</td>\n",
       "      <td>0.0</td>\n",
       "      <td>1.0</td>\n",
       "      <td>0.0</td>\n",
       "      <td>0.0</td>\n",
       "      <td>0.0</td>\n",
       "      <td>1.0</td>\n",
       "      <td>0.0</td>\n",
       "      <td>0.0</td>\n",
       "      <td>0.0</td>\n",
       "      <td>0.0</td>\n",
       "      <td>0.0</td>\n",
       "      <td>1.0</td>\n",
       "      <td>0.0</td>\n",
       "      <td>0.0</td>\n",
       "      <td>0.0</td>\n",
       "      <td>0.0</td>\n",
       "      <td>0.0</td>\n",
       "      <td>0.0</td>\n",
       "      <td>1.0</td>\n",
       "      <td>1.0</td>\n",
       "      <td>0.0</td>\n",
       "      <td>0.0</td>\n",
       "      <td>0.0</td>\n",
       "      <td>0.0</td>\n",
       "      <td>0.0</td>\n",
       "    </tr>\n",
       "    <tr>\n",
       "      <th>...</th>\n",
       "      <td>...</td>\n",
       "      <td>...</td>\n",
       "      <td>...</td>\n",
       "      <td>...</td>\n",
       "      <td>...</td>\n",
       "      <td>...</td>\n",
       "      <td>...</td>\n",
       "      <td>...</td>\n",
       "      <td>...</td>\n",
       "      <td>...</td>\n",
       "      <td>...</td>\n",
       "      <td>...</td>\n",
       "      <td>...</td>\n",
       "      <td>...</td>\n",
       "      <td>...</td>\n",
       "      <td>...</td>\n",
       "      <td>...</td>\n",
       "      <td>...</td>\n",
       "      <td>...</td>\n",
       "      <td>...</td>\n",
       "      <td>...</td>\n",
       "      <td>...</td>\n",
       "      <td>...</td>\n",
       "      <td>...</td>\n",
       "      <td>...</td>\n",
       "      <td>...</td>\n",
       "      <td>...</td>\n",
       "      <td>...</td>\n",
       "      <td>...</td>\n",
       "      <td>...</td>\n",
       "      <td>...</td>\n",
       "    </tr>\n",
       "    <tr>\n",
       "      <th>119879</th>\n",
       "      <td>1.0</td>\n",
       "      <td>20.50</td>\n",
       "      <td>2.0</td>\n",
       "      <td>0.0</td>\n",
       "      <td>0.0</td>\n",
       "      <td>0.0</td>\n",
       "      <td>0.0</td>\n",
       "      <td>1.0</td>\n",
       "      <td>0.0</td>\n",
       "      <td>0.0</td>\n",
       "      <td>0.0</td>\n",
       "      <td>1.0</td>\n",
       "      <td>0.0</td>\n",
       "      <td>0.0</td>\n",
       "      <td>1.0</td>\n",
       "      <td>0.0</td>\n",
       "      <td>0.0</td>\n",
       "      <td>0.0</td>\n",
       "      <td>0.0</td>\n",
       "      <td>0.0</td>\n",
       "      <td>0.0</td>\n",
       "      <td>0.0</td>\n",
       "      <td>0.0</td>\n",
       "      <td>0.0</td>\n",
       "      <td>0.0</td>\n",
       "      <td>0.0</td>\n",
       "      <td>1.0</td>\n",
       "      <td>0.0</td>\n",
       "      <td>0.0</td>\n",
       "      <td>0.0</td>\n",
       "      <td>1.0</td>\n",
       "    </tr>\n",
       "    <tr>\n",
       "      <th>259178</th>\n",
       "      <td>1.0</td>\n",
       "      <td>25.42</td>\n",
       "      <td>7.0</td>\n",
       "      <td>0.0</td>\n",
       "      <td>0.0</td>\n",
       "      <td>0.0</td>\n",
       "      <td>0.0</td>\n",
       "      <td>1.0</td>\n",
       "      <td>0.0</td>\n",
       "      <td>0.0</td>\n",
       "      <td>0.0</td>\n",
       "      <td>0.0</td>\n",
       "      <td>0.0</td>\n",
       "      <td>0.0</td>\n",
       "      <td>0.0</td>\n",
       "      <td>0.0</td>\n",
       "      <td>0.0</td>\n",
       "      <td>1.0</td>\n",
       "      <td>0.0</td>\n",
       "      <td>0.0</td>\n",
       "      <td>0.0</td>\n",
       "      <td>0.0</td>\n",
       "      <td>0.0</td>\n",
       "      <td>0.0</td>\n",
       "      <td>1.0</td>\n",
       "      <td>1.0</td>\n",
       "      <td>0.0</td>\n",
       "      <td>0.0</td>\n",
       "      <td>0.0</td>\n",
       "      <td>0.0</td>\n",
       "      <td>0.0</td>\n",
       "    </tr>\n",
       "    <tr>\n",
       "      <th>131932</th>\n",
       "      <td>1.0</td>\n",
       "      <td>13.67</td>\n",
       "      <td>29.0</td>\n",
       "      <td>1.0</td>\n",
       "      <td>0.0</td>\n",
       "      <td>0.0</td>\n",
       "      <td>0.0</td>\n",
       "      <td>0.0</td>\n",
       "      <td>0.0</td>\n",
       "      <td>0.0</td>\n",
       "      <td>0.0</td>\n",
       "      <td>1.0</td>\n",
       "      <td>0.0</td>\n",
       "      <td>0.0</td>\n",
       "      <td>0.0</td>\n",
       "      <td>0.0</td>\n",
       "      <td>0.0</td>\n",
       "      <td>1.0</td>\n",
       "      <td>0.0</td>\n",
       "      <td>0.0</td>\n",
       "      <td>0.0</td>\n",
       "      <td>0.0</td>\n",
       "      <td>0.0</td>\n",
       "      <td>1.0</td>\n",
       "      <td>0.0</td>\n",
       "      <td>0.0</td>\n",
       "      <td>0.0</td>\n",
       "      <td>0.0</td>\n",
       "      <td>0.0</td>\n",
       "      <td>1.0</td>\n",
       "      <td>1.0</td>\n",
       "    </tr>\n",
       "    <tr>\n",
       "      <th>146867</th>\n",
       "      <td>1.0</td>\n",
       "      <td>8.33</td>\n",
       "      <td>39.0</td>\n",
       "      <td>0.0</td>\n",
       "      <td>1.0</td>\n",
       "      <td>0.0</td>\n",
       "      <td>0.0</td>\n",
       "      <td>0.0</td>\n",
       "      <td>0.0</td>\n",
       "      <td>0.0</td>\n",
       "      <td>0.0</td>\n",
       "      <td>1.0</td>\n",
       "      <td>0.0</td>\n",
       "      <td>0.0</td>\n",
       "      <td>0.0</td>\n",
       "      <td>0.0</td>\n",
       "      <td>0.0</td>\n",
       "      <td>0.0</td>\n",
       "      <td>0.0</td>\n",
       "      <td>0.0</td>\n",
       "      <td>0.0</td>\n",
       "      <td>0.0</td>\n",
       "      <td>0.0</td>\n",
       "      <td>0.0</td>\n",
       "      <td>1.0</td>\n",
       "      <td>0.0</td>\n",
       "      <td>0.0</td>\n",
       "      <td>1.0</td>\n",
       "      <td>0.0</td>\n",
       "      <td>0.0</td>\n",
       "      <td>1.0</td>\n",
       "    </tr>\n",
       "    <tr>\n",
       "      <th>121958</th>\n",
       "      <td>1.0</td>\n",
       "      <td>20.17</td>\n",
       "      <td>17.0</td>\n",
       "      <td>1.0</td>\n",
       "      <td>0.0</td>\n",
       "      <td>0.0</td>\n",
       "      <td>0.0</td>\n",
       "      <td>0.0</td>\n",
       "      <td>0.0</td>\n",
       "      <td>0.0</td>\n",
       "      <td>0.0</td>\n",
       "      <td>1.0</td>\n",
       "      <td>0.0</td>\n",
       "      <td>0.0</td>\n",
       "      <td>0.0</td>\n",
       "      <td>0.0</td>\n",
       "      <td>0.0</td>\n",
       "      <td>0.0</td>\n",
       "      <td>0.0</td>\n",
       "      <td>0.0</td>\n",
       "      <td>0.0</td>\n",
       "      <td>0.0</td>\n",
       "      <td>0.0</td>\n",
       "      <td>1.0</td>\n",
       "      <td>0.0</td>\n",
       "      <td>0.0</td>\n",
       "      <td>1.0</td>\n",
       "      <td>0.0</td>\n",
       "      <td>0.0</td>\n",
       "      <td>0.0</td>\n",
       "      <td>1.0</td>\n",
       "    </tr>\n",
       "  </tbody>\n",
       "</table>\n",
       "<p>240122 rows × 31 columns</p>\n",
       "</div>"
      ],
      "text/plain": [
       "        const  duration  days_left  airline_Air_India  airline_GO_FIRST  \\\n",
       "148417    1.0     19.42        6.0                1.0               0.0   \n",
       "36879     1.0      7.00       13.0                0.0               0.0   \n",
       "274531    1.0     21.17       44.0                1.0               0.0   \n",
       "166397    1.0     10.25       11.0                0.0               0.0   \n",
       "272722    1.0     26.50        5.0                0.0               0.0   \n",
       "...       ...       ...        ...                ...               ...   \n",
       "119879    1.0     20.50        2.0                0.0               0.0   \n",
       "259178    1.0     25.42        7.0                0.0               0.0   \n",
       "131932    1.0     13.67       29.0                1.0               0.0   \n",
       "146867    1.0      8.33       39.0                0.0               1.0   \n",
       "121958    1.0     20.17       17.0                1.0               0.0   \n",
       "\n",
       "        airline_Indigo  airline_SpiceJet  airline_Vistara  \\\n",
       "148417             0.0               0.0              0.0   \n",
       "36879              1.0               0.0              0.0   \n",
       "274531             0.0               0.0              0.0   \n",
       "166397             0.0               0.0              1.0   \n",
       "272722             0.0               0.0              1.0   \n",
       "...                ...               ...              ...   \n",
       "119879             0.0               0.0              1.0   \n",
       "259178             0.0               0.0              1.0   \n",
       "131932             0.0               0.0              0.0   \n",
       "146867             0.0               0.0              0.0   \n",
       "121958             0.0               0.0              0.0   \n",
       "\n",
       "        source_city_Chennai  source_city_Delhi  source_city_Hyderabad  \\\n",
       "148417                  0.0                0.0                    0.0   \n",
       "36879                   0.0                1.0                    0.0   \n",
       "274531                  0.0                0.0                    0.0   \n",
       "166397                  0.0                0.0                    1.0   \n",
       "272722                  0.0                0.0                    0.0   \n",
       "...                     ...                ...                    ...   \n",
       "119879                  0.0                0.0                    0.0   \n",
       "259178                  0.0                0.0                    0.0   \n",
       "131932                  0.0                0.0                    0.0   \n",
       "146867                  0.0                0.0                    0.0   \n",
       "121958                  0.0                0.0                    0.0   \n",
       "\n",
       "        source_city_Kolkata  source_city_Mumbai  departure_time_Early_Morning  \\\n",
       "148417                  1.0                 0.0                           0.0   \n",
       "36879                   0.0                 0.0                           0.0   \n",
       "274531                  1.0                 0.0                           0.0   \n",
       "166397                  0.0                 0.0                           0.0   \n",
       "272722                  1.0                 0.0                           0.0   \n",
       "...                     ...                 ...                           ...   \n",
       "119879                  1.0                 0.0                           0.0   \n",
       "259178                  0.0                 0.0                           0.0   \n",
       "131932                  1.0                 0.0                           0.0   \n",
       "146867                  1.0                 0.0                           0.0   \n",
       "121958                  1.0                 0.0                           0.0   \n",
       "\n",
       "        departure_time_Evening  departure_time_Late_Night  \\\n",
       "148417                     0.0                        0.0   \n",
       "36879                      0.0                        0.0   \n",
       "274531                     0.0                        0.0   \n",
       "166397                     0.0                        0.0   \n",
       "272722                     0.0                        0.0   \n",
       "...                        ...                        ...   \n",
       "119879                     1.0                        0.0   \n",
       "259178                     0.0                        0.0   \n",
       "131932                     0.0                        0.0   \n",
       "146867                     0.0                        0.0   \n",
       "121958                     0.0                        0.0   \n",
       "\n",
       "        departure_time_Morning  departure_time_Night  stops_two_or_more  \\\n",
       "148417                     0.0                   0.0                0.0   \n",
       "36879                      0.0                   0.0                1.0   \n",
       "274531                     0.0                   0.0                0.0   \n",
       "166397                     0.0                   1.0                0.0   \n",
       "272722                     0.0                   1.0                0.0   \n",
       "...                        ...                   ...                ...   \n",
       "119879                     0.0                   0.0                0.0   \n",
       "259178                     0.0                   1.0                0.0   \n",
       "131932                     0.0                   1.0                0.0   \n",
       "146867                     0.0                   0.0                0.0   \n",
       "121958                     0.0                   0.0                0.0   \n",
       "\n",
       "        stops_zero  arrival_time_Early_Morning  arrival_time_Evening  \\\n",
       "148417         0.0                         0.0                   0.0   \n",
       "36879          0.0                         0.0                   0.0   \n",
       "274531         0.0                         0.0                   0.0   \n",
       "166397         0.0                         1.0                   0.0   \n",
       "272722         0.0                         0.0                   0.0   \n",
       "...            ...                         ...                   ...   \n",
       "119879         0.0                         0.0                   0.0   \n",
       "259178         0.0                         0.0                   0.0   \n",
       "131932         0.0                         0.0                   0.0   \n",
       "146867         0.0                         0.0                   0.0   \n",
       "121958         0.0                         0.0                   0.0   \n",
       "\n",
       "        arrival_time_Late_Night  arrival_time_Morning  arrival_time_Night  \\\n",
       "148417                      0.0                   1.0                 0.0   \n",
       "36879                       0.0                   0.0                 1.0   \n",
       "274531                      0.0                   0.0                 0.0   \n",
       "166397                      0.0                   0.0                 0.0   \n",
       "272722                      0.0                   0.0                 1.0   \n",
       "...                         ...                   ...                 ...   \n",
       "119879                      0.0                   0.0                 0.0   \n",
       "259178                      0.0                   0.0                 1.0   \n",
       "131932                      0.0                   1.0                 0.0   \n",
       "146867                      0.0                   0.0                 1.0   \n",
       "121958                      0.0                   1.0                 0.0   \n",
       "\n",
       "        destination_city_Chennai  destination_city_Delhi  \\\n",
       "148417                       1.0                     0.0   \n",
       "36879                        1.0                     0.0   \n",
       "274531                       1.0                     0.0   \n",
       "166397                       0.0                     0.0   \n",
       "272722                       1.0                     0.0   \n",
       "...                          ...                     ...   \n",
       "119879                       0.0                     1.0   \n",
       "259178                       1.0                     0.0   \n",
       "131932                       0.0                     0.0   \n",
       "146867                       0.0                     0.0   \n",
       "121958                       0.0                     1.0   \n",
       "\n",
       "        destination_city_Hyderabad  destination_city_Kolkata  \\\n",
       "148417                         0.0                       0.0   \n",
       "36879                          0.0                       0.0   \n",
       "274531                         0.0                       0.0   \n",
       "166397                         0.0                       0.0   \n",
       "272722                         0.0                       0.0   \n",
       "...                            ...                       ...   \n",
       "119879                         0.0                       0.0   \n",
       "259178                         0.0                       0.0   \n",
       "131932                         0.0                       0.0   \n",
       "146867                         1.0                       0.0   \n",
       "121958                         0.0                       0.0   \n",
       "\n",
       "        destination_city_Mumbai  class_Economy  \n",
       "148417                      0.0            1.0  \n",
       "36879                       0.0            1.0  \n",
       "274531                      0.0            0.0  \n",
       "166397                      0.0            1.0  \n",
       "272722                      0.0            0.0  \n",
       "...                         ...            ...  \n",
       "119879                      0.0            1.0  \n",
       "259178                      0.0            0.0  \n",
       "131932                      1.0            1.0  \n",
       "146867                      0.0            1.0  \n",
       "121958                      0.0            1.0  \n",
       "\n",
       "[240122 rows x 31 columns]"
      ]
     },
     "execution_count": 9,
     "metadata": {},
     "output_type": "execute_result"
    }
   ],
   "source": [
    "df = df_raw.copy()\n",
    "\n",
    "df.drop(columns=[\"flight\"], inplace=True)\n",
    "\n",
    "y = df['price']\n",
    "X = df.drop(columns=['price'])\n",
    "\n",
    "X_encoded = pd.get_dummies(X, drop_first=True)\n",
    "\n",
    "# Step 5: Add intercept\n",
    "X_encoded = sm.add_constant(X_encoded)\n",
    "\n",
    "# Make sure all data is numeric\n",
    "X_encoded = X_encoded.astype(float)\n",
    "y = y.astype(float)\n",
    "\n",
    "X_train, X_test, y_train, y_test = train_test_split(X_encoded, y, test_size=0.2, random_state=42)\n",
    "X_train"
   ]
  },
  {
   "cell_type": "markdown",
   "id": "27d8cf50",
   "metadata": {},
   "source": [
    "## Lasso, Statsmodels Implementation"
   ]
  },
  {
   "cell_type": "code",
   "execution_count": 10,
   "id": "bed73371",
   "metadata": {},
   "outputs": [],
   "source": [
    "def evaluate_predictions(y_true, y_pred):\n",
    "    # Metrics\n",
    "    r2 = r2_score(y_true, y_pred)\n",
    "    mse = mean_squared_error(y_true, y_pred)\n",
    "    rmse = root_mean_squared_error(y_true, y_pred)\n",
    "    mae = mean_absolute_error(y_true, y_pred)\n",
    "\n",
    "    print(f\"R²: {r2:.3f}\")\n",
    "    print(f\"MSE: {mse:.2f}\")\n",
    "    print(f\"RMSE: {rmse:.2f}\")\n",
    "    print(f\"MAE: {mae:.2f}\")\n",
    "\n",
    "def show_nonzero_coefficients(coef:pd.Series):\n",
    "    # Filter non-zero coefficients\n",
    "    nonzero_coef = coef[coef != 0]\n",
    "    print(f\"\\nSelected Coefficients (non-zero): {len(nonzero_coef)}\")\n",
    "    # Build DataFrame with sign and absolute importance\n",
    "    coef_df = pd.DataFrame({\n",
    "        \"Selected Feature\": nonzero_coef.index,\n",
    "        \"Coefficient\": nonzero_coef.values,\n",
    "        \"Importance\": nonzero_coef.abs().values\n",
    "    })\n",
    "\n",
    "    # Sort by absolute importance (descending)\n",
    "    coef_df = coef_df.sort_values(by=\"Importance\", ascending=False).reset_index(drop=True)\n",
    "    coef_df.drop(columns=\"Importance\", inplace=True)\n",
    "    return coef_df"
   ]
  },
  {
   "cell_type": "code",
   "execution_count": 11,
   "id": "c1f537cf",
   "metadata": {},
   "outputs": [
    {
     "name": "stdout",
     "output_type": "stream",
     "text": [
      "Metrics Training:\n",
      "R²: 0.911\n",
      "MSE: 45875614.68\n",
      "RMSE: 6773.15\n",
      "MAE: 4594.10\n",
      "\n",
      "Selected Coefficients (non-zero): 25\n"
     ]
    },
    {
     "data": {
      "text/html": [
       "<div>\n",
       "<style scoped>\n",
       "    .dataframe tbody tr th:only-of-type {\n",
       "        vertical-align: middle;\n",
       "    }\n",
       "\n",
       "    .dataframe tbody tr th {\n",
       "        vertical-align: top;\n",
       "    }\n",
       "\n",
       "    .dataframe thead th {\n",
       "        text-align: right;\n",
       "    }\n",
       "</style>\n",
       "<table border=\"1\" class=\"dataframe\">\n",
       "  <thead>\n",
       "    <tr style=\"text-align: right;\">\n",
       "      <th></th>\n",
       "      <th>Selected Feature</th>\n",
       "      <th>Coefficient</th>\n",
       "    </tr>\n",
       "  </thead>\n",
       "  <tbody>\n",
       "    <tr>\n",
       "      <th>0</th>\n",
       "      <td>const</td>\n",
       "      <td>50748.899859</td>\n",
       "    </tr>\n",
       "    <tr>\n",
       "      <th>1</th>\n",
       "      <td>class_Economy</td>\n",
       "      <td>-44722.005244</td>\n",
       "    </tr>\n",
       "    <tr>\n",
       "      <th>2</th>\n",
       "      <td>stops_zero</td>\n",
       "      <td>-7510.561076</td>\n",
       "    </tr>\n",
       "    <tr>\n",
       "      <th>3</th>\n",
       "      <td>airline_Vistara</td>\n",
       "      <td>3178.035956</td>\n",
       "    </tr>\n",
       "    <tr>\n",
       "      <th>4</th>\n",
       "      <td>days_left</td>\n",
       "      <td>-1782.591587</td>\n",
       "    </tr>\n",
       "    <tr>\n",
       "      <th>5</th>\n",
       "      <td>source_city_Kolkata</td>\n",
       "      <td>1706.785602</td>\n",
       "    </tr>\n",
       "    <tr>\n",
       "      <th>6</th>\n",
       "      <td>destination_city_Hyderabad</td>\n",
       "      <td>-1675.968602</td>\n",
       "    </tr>\n",
       "    <tr>\n",
       "      <th>7</th>\n",
       "      <td>source_city_Hyderabad</td>\n",
       "      <td>-1639.671488</td>\n",
       "    </tr>\n",
       "    <tr>\n",
       "      <th>8</th>\n",
       "      <td>destination_city_Delhi</td>\n",
       "      <td>-1507.124571</td>\n",
       "    </tr>\n",
       "    <tr>\n",
       "      <th>9</th>\n",
       "      <td>destination_city_Kolkata</td>\n",
       "      <td>1493.950610</td>\n",
       "    </tr>\n",
       "    <tr>\n",
       "      <th>10</th>\n",
       "      <td>source_city_Delhi</td>\n",
       "      <td>-1346.229667</td>\n",
       "    </tr>\n",
       "    <tr>\n",
       "      <th>11</th>\n",
       "      <td>departure_time_Late_Night</td>\n",
       "      <td>1306.871893</td>\n",
       "    </tr>\n",
       "    <tr>\n",
       "      <th>12</th>\n",
       "      <td>airline_Indigo</td>\n",
       "      <td>1119.173356</td>\n",
       "    </tr>\n",
       "    <tr>\n",
       "      <th>13</th>\n",
       "      <td>arrival_time_Early_Morning</td>\n",
       "      <td>-1083.155142</td>\n",
       "    </tr>\n",
       "    <tr>\n",
       "      <th>14</th>\n",
       "      <td>departure_time_Morning</td>\n",
       "      <td>868.766059</td>\n",
       "    </tr>\n",
       "    <tr>\n",
       "      <th>15</th>\n",
       "      <td>arrival_time_Night</td>\n",
       "      <td>863.311780</td>\n",
       "    </tr>\n",
       "    <tr>\n",
       "      <th>16</th>\n",
       "      <td>airline_Air_India</td>\n",
       "      <td>-824.842775</td>\n",
       "    </tr>\n",
       "    <tr>\n",
       "      <th>17</th>\n",
       "      <td>departure_time_Early_Morning</td>\n",
       "      <td>813.157037</td>\n",
       "    </tr>\n",
       "    <tr>\n",
       "      <th>18</th>\n",
       "      <td>departure_time_Evening</td>\n",
       "      <td>749.233764</td>\n",
       "    </tr>\n",
       "    <tr>\n",
       "      <th>19</th>\n",
       "      <td>airline_GO_FIRST</td>\n",
       "      <td>714.727042</td>\n",
       "    </tr>\n",
       "    <tr>\n",
       "      <th>20</th>\n",
       "      <td>arrival_time_Evening</td>\n",
       "      <td>623.024987</td>\n",
       "    </tr>\n",
       "    <tr>\n",
       "      <th>21</th>\n",
       "      <td>departure_time_Night</td>\n",
       "      <td>597.865637</td>\n",
       "    </tr>\n",
       "    <tr>\n",
       "      <th>22</th>\n",
       "      <td>duration</td>\n",
       "      <td>383.768122</td>\n",
       "    </tr>\n",
       "    <tr>\n",
       "      <th>23</th>\n",
       "      <td>source_city_Mumbai</td>\n",
       "      <td>-139.334276</td>\n",
       "    </tr>\n",
       "    <tr>\n",
       "      <th>24</th>\n",
       "      <td>destination_city_Chennai</td>\n",
       "      <td>-60.561891</td>\n",
       "    </tr>\n",
       "  </tbody>\n",
       "</table>\n",
       "</div>"
      ],
      "text/plain": [
       "                Selected Feature   Coefficient\n",
       "0                          const  50748.899859\n",
       "1                  class_Economy -44722.005244\n",
       "2                     stops_zero  -7510.561076\n",
       "3                airline_Vistara   3178.035956\n",
       "4                      days_left  -1782.591587\n",
       "5            source_city_Kolkata   1706.785602\n",
       "6     destination_city_Hyderabad  -1675.968602\n",
       "7          source_city_Hyderabad  -1639.671488\n",
       "8         destination_city_Delhi  -1507.124571\n",
       "9       destination_city_Kolkata   1493.950610\n",
       "10             source_city_Delhi  -1346.229667\n",
       "11     departure_time_Late_Night   1306.871893\n",
       "12                airline_Indigo   1119.173356\n",
       "13    arrival_time_Early_Morning  -1083.155142\n",
       "14        departure_time_Morning    868.766059\n",
       "15            arrival_time_Night    863.311780\n",
       "16             airline_Air_India   -824.842775\n",
       "17  departure_time_Early_Morning    813.157037\n",
       "18        departure_time_Evening    749.233764\n",
       "19              airline_GO_FIRST    714.727042\n",
       "20          arrival_time_Evening    623.024987\n",
       "21          departure_time_Night    597.865637\n",
       "22                      duration    383.768122\n",
       "23            source_city_Mumbai   -139.334276\n",
       "24      destination_city_Chennai    -60.561891"
      ]
     },
     "execution_count": 11,
     "metadata": {},
     "output_type": "execute_result"
    }
   ],
   "source": [
    "# Step 4: Scale numeric features\n",
    "X_preprocessed = X_train.copy()\n",
    "NUMERICAL_COLS = ['duration', 'days_left']\n",
    "scaler = StandardScaler()\n",
    "X_preprocessed[NUMERICAL_COLS] = scaler.fit_transform(X_preprocessed[NUMERICAL_COLS])\n",
    "\n",
    "# Step 6: Fit Lasso using statsmodels (fit_regularized)\n",
    "model = sm.OLS(y_train, X_preprocessed)\n",
    "lasso_result = model.fit_regularized(method='elastic_net', alpha=1.0, L1_wt=1.0)\n",
    "\n",
    "# Predictions\n",
    "y_pred = lasso_result.predict(X_preprocessed)\n",
    "print(\"Metrics Training:\")\n",
    "evaluate_predictions(y_train, y_pred)\n",
    "\n",
    "# Step 7: Display coefficients\n",
    "coef = pd.Series(lasso_result.params, index=X_preprocessed.columns)\n",
    "show_nonzero_coefficients(coef)"
   ]
  },
  {
   "cell_type": "markdown",
   "id": "f58b69cc",
   "metadata": {},
   "source": [
    "## Lasso, ScikitLearn Implementation\n",
    "\n",
    "- Same training R2 as Statsmodels but slightly different coefficients and MSE for some reason. Scaling difference?\n",
    "- Statsmodels doesn't give information table, so we might as well use Scikitlearn\n",
    "- It's also x10 times faster"
   ]
  },
  {
   "cell_type": "code",
   "execution_count": 12,
   "id": "51125620",
   "metadata": {},
   "outputs": [
    {
     "name": "stdout",
     "output_type": "stream",
     "text": [
      "Metrics Training:\n",
      "R²: 0.911\n",
      "MSE: 45592781.12\n",
      "RMSE: 6752.24\n",
      "MAE: 4573.16\n",
      "\n",
      "Selected Coefficients (non-zero): 29\n"
     ]
    },
    {
     "data": {
      "text/html": [
       "<div>\n",
       "<style scoped>\n",
       "    .dataframe tbody tr th:only-of-type {\n",
       "        vertical-align: middle;\n",
       "    }\n",
       "\n",
       "    .dataframe tbody tr th {\n",
       "        vertical-align: top;\n",
       "    }\n",
       "\n",
       "    .dataframe thead th {\n",
       "        text-align: right;\n",
       "    }\n",
       "</style>\n",
       "<table border=\"1\" class=\"dataframe\">\n",
       "  <thead>\n",
       "    <tr style=\"text-align: right;\">\n",
       "      <th></th>\n",
       "      <th>Selected Feature</th>\n",
       "      <th>Coefficient</th>\n",
       "    </tr>\n",
       "  </thead>\n",
       "  <tbody>\n",
       "    <tr>\n",
       "      <th>0</th>\n",
       "      <td>class_Economy</td>\n",
       "      <td>-44927.039846</td>\n",
       "    </tr>\n",
       "    <tr>\n",
       "      <th>1</th>\n",
       "      <td>stops_zero</td>\n",
       "      <td>-7594.554556</td>\n",
       "    </tr>\n",
       "    <tr>\n",
       "      <th>2</th>\n",
       "      <td>airline_Vistara</td>\n",
       "      <td>3959.834212</td>\n",
       "    </tr>\n",
       "    <tr>\n",
       "      <th>3</th>\n",
       "      <td>airline_SpiceJet</td>\n",
       "      <td>2158.949125</td>\n",
       "    </tr>\n",
       "    <tr>\n",
       "      <th>4</th>\n",
       "      <td>stops_two_or_more</td>\n",
       "      <td>2066.661971</td>\n",
       "    </tr>\n",
       "    <tr>\n",
       "      <th>5</th>\n",
       "      <td>airline_Indigo</td>\n",
       "      <td>2010.066314</td>\n",
       "    </tr>\n",
       "    <tr>\n",
       "      <th>6</th>\n",
       "      <td>duration</td>\n",
       "      <td>-1769.489330</td>\n",
       "    </tr>\n",
       "    <tr>\n",
       "      <th>7</th>\n",
       "      <td>destination_city_Hyderabad</td>\n",
       "      <td>-1683.962152</td>\n",
       "    </tr>\n",
       "    <tr>\n",
       "      <th>8</th>\n",
       "      <td>source_city_Hyderabad</td>\n",
       "      <td>-1647.005015</td>\n",
       "    </tr>\n",
       "    <tr>\n",
       "      <th>9</th>\n",
       "      <td>source_city_Kolkata</td>\n",
       "      <td>1608.552126</td>\n",
       "    </tr>\n",
       "    <tr>\n",
       "      <th>10</th>\n",
       "      <td>airline_GO_FIRST</td>\n",
       "      <td>1573.172630</td>\n",
       "    </tr>\n",
       "    <tr>\n",
       "      <th>11</th>\n",
       "      <td>destination_city_Delhi</td>\n",
       "      <td>-1534.868167</td>\n",
       "    </tr>\n",
       "    <tr>\n",
       "      <th>12</th>\n",
       "      <td>source_city_Delhi</td>\n",
       "      <td>-1389.830175</td>\n",
       "    </tr>\n",
       "    <tr>\n",
       "      <th>13</th>\n",
       "      <td>destination_city_Kolkata</td>\n",
       "      <td>1373.882813</td>\n",
       "    </tr>\n",
       "    <tr>\n",
       "      <th>14</th>\n",
       "      <td>departure_time_Late_Night</td>\n",
       "      <td>1263.199082</td>\n",
       "    </tr>\n",
       "    <tr>\n",
       "      <th>15</th>\n",
       "      <td>arrival_time_Night</td>\n",
       "      <td>1104.975288</td>\n",
       "    </tr>\n",
       "    <tr>\n",
       "      <th>16</th>\n",
       "      <td>arrival_time_Late_Night</td>\n",
       "      <td>902.898385</td>\n",
       "    </tr>\n",
       "    <tr>\n",
       "      <th>17</th>\n",
       "      <td>arrival_time_Evening</td>\n",
       "      <td>896.655558</td>\n",
       "    </tr>\n",
       "    <tr>\n",
       "      <th>18</th>\n",
       "      <td>departure_time_Morning</td>\n",
       "      <td>830.271081</td>\n",
       "    </tr>\n",
       "    <tr>\n",
       "      <th>19</th>\n",
       "      <td>departure_time_Early_Morning</td>\n",
       "      <td>768.749940</td>\n",
       "    </tr>\n",
       "    <tr>\n",
       "      <th>20</th>\n",
       "      <td>arrival_time_Early_Morning</td>\n",
       "      <td>-766.893182</td>\n",
       "    </tr>\n",
       "    <tr>\n",
       "      <th>21</th>\n",
       "      <td>departure_time_Evening</td>\n",
       "      <td>698.846028</td>\n",
       "    </tr>\n",
       "    <tr>\n",
       "      <th>22</th>\n",
       "      <td>departure_time_Night</td>\n",
       "      <td>615.236295</td>\n",
       "    </tr>\n",
       "    <tr>\n",
       "      <th>23</th>\n",
       "      <td>arrival_time_Morning</td>\n",
       "      <td>434.768659</td>\n",
       "    </tr>\n",
       "    <tr>\n",
       "      <th>24</th>\n",
       "      <td>const</td>\n",
       "      <td>314.710400</td>\n",
       "    </tr>\n",
       "    <tr>\n",
       "      <th>25</th>\n",
       "      <td>destination_city_Chennai</td>\n",
       "      <td>-207.672156</td>\n",
       "    </tr>\n",
       "    <tr>\n",
       "      <th>26</th>\n",
       "      <td>source_city_Mumbai</td>\n",
       "      <td>-178.591231</td>\n",
       "    </tr>\n",
       "    <tr>\n",
       "      <th>27</th>\n",
       "      <td>source_city_Chennai</td>\n",
       "      <td>-45.050361</td>\n",
       "    </tr>\n",
       "    <tr>\n",
       "      <th>28</th>\n",
       "      <td>destination_city_Mumbai</td>\n",
       "      <td>-2.828915</td>\n",
       "    </tr>\n",
       "  </tbody>\n",
       "</table>\n",
       "</div>"
      ],
      "text/plain": [
       "                Selected Feature   Coefficient\n",
       "0                  class_Economy -44927.039846\n",
       "1                     stops_zero  -7594.554556\n",
       "2                airline_Vistara   3959.834212\n",
       "3               airline_SpiceJet   2158.949125\n",
       "4              stops_two_or_more   2066.661971\n",
       "5                 airline_Indigo   2010.066314\n",
       "6                       duration  -1769.489330\n",
       "7     destination_city_Hyderabad  -1683.962152\n",
       "8          source_city_Hyderabad  -1647.005015\n",
       "9            source_city_Kolkata   1608.552126\n",
       "10              airline_GO_FIRST   1573.172630\n",
       "11        destination_city_Delhi  -1534.868167\n",
       "12             source_city_Delhi  -1389.830175\n",
       "13      destination_city_Kolkata   1373.882813\n",
       "14     departure_time_Late_Night   1263.199082\n",
       "15            arrival_time_Night   1104.975288\n",
       "16       arrival_time_Late_Night    902.898385\n",
       "17          arrival_time_Evening    896.655558\n",
       "18        departure_time_Morning    830.271081\n",
       "19  departure_time_Early_Morning    768.749940\n",
       "20    arrival_time_Early_Morning   -766.893182\n",
       "21        departure_time_Evening    698.846028\n",
       "22          departure_time_Night    615.236295\n",
       "23          arrival_time_Morning    434.768659\n",
       "24                         const    314.710400\n",
       "25      destination_city_Chennai   -207.672156\n",
       "26            source_city_Mumbai   -178.591231\n",
       "27           source_city_Chennai    -45.050361\n",
       "28       destination_city_Mumbai     -2.828915"
      ]
     },
     "execution_count": 12,
     "metadata": {},
     "output_type": "execute_result"
    }
   ],
   "source": [
    "# 4. Build pipeline: scale numericals and fit Lasso\n",
    "# Preprocessing: scale numericals, pass-through the rest\n",
    "preprocessor = ColumnTransformer(\n",
    "    transformers=[\n",
    "        ('num', StandardScaler(), NUMERICAL_COLS)\n",
    "    ],\n",
    "    remainder='passthrough'  # leave one-hot encoded dummies unchanged\n",
    ")\n",
    "\n",
    "lasso_pipeline = Pipeline([\n",
    "    ('preprocessor', preprocessor),\n",
    "    ('model', Lasso(alpha=1.0))\n",
    "])\n",
    "\n",
    "lasso_pipeline.fit(X_train, y_train)\n",
    "\n",
    "# 5. Predictions and metrics\n",
    "y_pred = lasso_pipeline.predict(X_train)\n",
    "print(\"Metrics Training:\")\n",
    "evaluate_predictions(y_train, y_pred )\n",
    "\n",
    "# 6. Extract coefficients\n",
    "lasso = lasso_pipeline.named_steps['model']\n",
    "coef = pd.Series(lasso.coef_, index=X_encoded.columns)\n",
    "show_nonzero_coefficients(coef)"
   ]
  },
  {
   "cell_type": "markdown",
   "id": "0e2405ac",
   "metadata": {},
   "source": [
    "## CrossValidation"
   ]
  },
  {
   "cell_type": "code",
   "execution_count": 13,
   "id": "3f9ee301",
   "metadata": {},
   "outputs": [
    {
     "name": "stderr",
     "output_type": "stream",
     "text": [
      "c:\\Users\\AsusTUF\\anaconda3\\envs\\tru_linear_models_assignments\\Lib\\site-packages\\sklearn\\compose\\_column_transformer.py:1667: FutureWarning:\n",
      "\n",
      "\n",
      "The format of the columns of the 'remainder' transformer in ColumnTransformer.transformers_ will change in version 1.7 to match the format of the other transformers.\n",
      "At the moment the remainder columns are stored as indices (of type int). With the same ColumnTransformer configuration, in the future they will be stored as column names (of type str).\n",
      "To use the new behavior now and suppress this warning, use ColumnTransformer(force_int_remainder_cols=False).\n",
      "\n",
      "\n"
     ]
    },
    {
     "data": {
      "text/html": [
       "<style>#sk-container-id-1 {\n",
       "  /* Definition of color scheme common for light and dark mode */\n",
       "  --sklearn-color-text: #000;\n",
       "  --sklearn-color-text-muted: #666;\n",
       "  --sklearn-color-line: gray;\n",
       "  /* Definition of color scheme for unfitted estimators */\n",
       "  --sklearn-color-unfitted-level-0: #fff5e6;\n",
       "  --sklearn-color-unfitted-level-1: #f6e4d2;\n",
       "  --sklearn-color-unfitted-level-2: #ffe0b3;\n",
       "  --sklearn-color-unfitted-level-3: chocolate;\n",
       "  /* Definition of color scheme for fitted estimators */\n",
       "  --sklearn-color-fitted-level-0: #f0f8ff;\n",
       "  --sklearn-color-fitted-level-1: #d4ebff;\n",
       "  --sklearn-color-fitted-level-2: #b3dbfd;\n",
       "  --sklearn-color-fitted-level-3: cornflowerblue;\n",
       "\n",
       "  /* Specific color for light theme */\n",
       "  --sklearn-color-text-on-default-background: var(--sg-text-color, var(--theme-code-foreground, var(--jp-content-font-color1, black)));\n",
       "  --sklearn-color-background: var(--sg-background-color, var(--theme-background, var(--jp-layout-color0, white)));\n",
       "  --sklearn-color-border-box: var(--sg-text-color, var(--theme-code-foreground, var(--jp-content-font-color1, black)));\n",
       "  --sklearn-color-icon: #696969;\n",
       "\n",
       "  @media (prefers-color-scheme: dark) {\n",
       "    /* Redefinition of color scheme for dark theme */\n",
       "    --sklearn-color-text-on-default-background: var(--sg-text-color, var(--theme-code-foreground, var(--jp-content-font-color1, white)));\n",
       "    --sklearn-color-background: var(--sg-background-color, var(--theme-background, var(--jp-layout-color0, #111)));\n",
       "    --sklearn-color-border-box: var(--sg-text-color, var(--theme-code-foreground, var(--jp-content-font-color1, white)));\n",
       "    --sklearn-color-icon: #878787;\n",
       "  }\n",
       "}\n",
       "\n",
       "#sk-container-id-1 {\n",
       "  color: var(--sklearn-color-text);\n",
       "}\n",
       "\n",
       "#sk-container-id-1 pre {\n",
       "  padding: 0;\n",
       "}\n",
       "\n",
       "#sk-container-id-1 input.sk-hidden--visually {\n",
       "  border: 0;\n",
       "  clip: rect(1px 1px 1px 1px);\n",
       "  clip: rect(1px, 1px, 1px, 1px);\n",
       "  height: 1px;\n",
       "  margin: -1px;\n",
       "  overflow: hidden;\n",
       "  padding: 0;\n",
       "  position: absolute;\n",
       "  width: 1px;\n",
       "}\n",
       "\n",
       "#sk-container-id-1 div.sk-dashed-wrapped {\n",
       "  border: 1px dashed var(--sklearn-color-line);\n",
       "  margin: 0 0.4em 0.5em 0.4em;\n",
       "  box-sizing: border-box;\n",
       "  padding-bottom: 0.4em;\n",
       "  background-color: var(--sklearn-color-background);\n",
       "}\n",
       "\n",
       "#sk-container-id-1 div.sk-container {\n",
       "  /* jupyter's `normalize.less` sets `[hidden] { display: none; }`\n",
       "     but bootstrap.min.css set `[hidden] { display: none !important; }`\n",
       "     so we also need the `!important` here to be able to override the\n",
       "     default hidden behavior on the sphinx rendered scikit-learn.org.\n",
       "     See: https://github.com/scikit-learn/scikit-learn/issues/21755 */\n",
       "  display: inline-block !important;\n",
       "  position: relative;\n",
       "}\n",
       "\n",
       "#sk-container-id-1 div.sk-text-repr-fallback {\n",
       "  display: none;\n",
       "}\n",
       "\n",
       "div.sk-parallel-item,\n",
       "div.sk-serial,\n",
       "div.sk-item {\n",
       "  /* draw centered vertical line to link estimators */\n",
       "  background-image: linear-gradient(var(--sklearn-color-text-on-default-background), var(--sklearn-color-text-on-default-background));\n",
       "  background-size: 2px 100%;\n",
       "  background-repeat: no-repeat;\n",
       "  background-position: center center;\n",
       "}\n",
       "\n",
       "/* Parallel-specific style estimator block */\n",
       "\n",
       "#sk-container-id-1 div.sk-parallel-item::after {\n",
       "  content: \"\";\n",
       "  width: 100%;\n",
       "  border-bottom: 2px solid var(--sklearn-color-text-on-default-background);\n",
       "  flex-grow: 1;\n",
       "}\n",
       "\n",
       "#sk-container-id-1 div.sk-parallel {\n",
       "  display: flex;\n",
       "  align-items: stretch;\n",
       "  justify-content: center;\n",
       "  background-color: var(--sklearn-color-background);\n",
       "  position: relative;\n",
       "}\n",
       "\n",
       "#sk-container-id-1 div.sk-parallel-item {\n",
       "  display: flex;\n",
       "  flex-direction: column;\n",
       "}\n",
       "\n",
       "#sk-container-id-1 div.sk-parallel-item:first-child::after {\n",
       "  align-self: flex-end;\n",
       "  width: 50%;\n",
       "}\n",
       "\n",
       "#sk-container-id-1 div.sk-parallel-item:last-child::after {\n",
       "  align-self: flex-start;\n",
       "  width: 50%;\n",
       "}\n",
       "\n",
       "#sk-container-id-1 div.sk-parallel-item:only-child::after {\n",
       "  width: 0;\n",
       "}\n",
       "\n",
       "/* Serial-specific style estimator block */\n",
       "\n",
       "#sk-container-id-1 div.sk-serial {\n",
       "  display: flex;\n",
       "  flex-direction: column;\n",
       "  align-items: center;\n",
       "  background-color: var(--sklearn-color-background);\n",
       "  padding-right: 1em;\n",
       "  padding-left: 1em;\n",
       "}\n",
       "\n",
       "\n",
       "/* Toggleable style: style used for estimator/Pipeline/ColumnTransformer box that is\n",
       "clickable and can be expanded/collapsed.\n",
       "- Pipeline and ColumnTransformer use this feature and define the default style\n",
       "- Estimators will overwrite some part of the style using the `sk-estimator` class\n",
       "*/\n",
       "\n",
       "/* Pipeline and ColumnTransformer style (default) */\n",
       "\n",
       "#sk-container-id-1 div.sk-toggleable {\n",
       "  /* Default theme specific background. It is overwritten whether we have a\n",
       "  specific estimator or a Pipeline/ColumnTransformer */\n",
       "  background-color: var(--sklearn-color-background);\n",
       "}\n",
       "\n",
       "/* Toggleable label */\n",
       "#sk-container-id-1 label.sk-toggleable__label {\n",
       "  cursor: pointer;\n",
       "  display: flex;\n",
       "  width: 100%;\n",
       "  margin-bottom: 0;\n",
       "  padding: 0.5em;\n",
       "  box-sizing: border-box;\n",
       "  text-align: center;\n",
       "  align-items: start;\n",
       "  justify-content: space-between;\n",
       "  gap: 0.5em;\n",
       "}\n",
       "\n",
       "#sk-container-id-1 label.sk-toggleable__label .caption {\n",
       "  font-size: 0.6rem;\n",
       "  font-weight: lighter;\n",
       "  color: var(--sklearn-color-text-muted);\n",
       "}\n",
       "\n",
       "#sk-container-id-1 label.sk-toggleable__label-arrow:before {\n",
       "  /* Arrow on the left of the label */\n",
       "  content: \"▸\";\n",
       "  float: left;\n",
       "  margin-right: 0.25em;\n",
       "  color: var(--sklearn-color-icon);\n",
       "}\n",
       "\n",
       "#sk-container-id-1 label.sk-toggleable__label-arrow:hover:before {\n",
       "  color: var(--sklearn-color-text);\n",
       "}\n",
       "\n",
       "/* Toggleable content - dropdown */\n",
       "\n",
       "#sk-container-id-1 div.sk-toggleable__content {\n",
       "  max-height: 0;\n",
       "  max-width: 0;\n",
       "  overflow: hidden;\n",
       "  text-align: left;\n",
       "  /* unfitted */\n",
       "  background-color: var(--sklearn-color-unfitted-level-0);\n",
       "}\n",
       "\n",
       "#sk-container-id-1 div.sk-toggleable__content.fitted {\n",
       "  /* fitted */\n",
       "  background-color: var(--sklearn-color-fitted-level-0);\n",
       "}\n",
       "\n",
       "#sk-container-id-1 div.sk-toggleable__content pre {\n",
       "  margin: 0.2em;\n",
       "  border-radius: 0.25em;\n",
       "  color: var(--sklearn-color-text);\n",
       "  /* unfitted */\n",
       "  background-color: var(--sklearn-color-unfitted-level-0);\n",
       "}\n",
       "\n",
       "#sk-container-id-1 div.sk-toggleable__content.fitted pre {\n",
       "  /* unfitted */\n",
       "  background-color: var(--sklearn-color-fitted-level-0);\n",
       "}\n",
       "\n",
       "#sk-container-id-1 input.sk-toggleable__control:checked~div.sk-toggleable__content {\n",
       "  /* Expand drop-down */\n",
       "  max-height: 200px;\n",
       "  max-width: 100%;\n",
       "  overflow: auto;\n",
       "}\n",
       "\n",
       "#sk-container-id-1 input.sk-toggleable__control:checked~label.sk-toggleable__label-arrow:before {\n",
       "  content: \"▾\";\n",
       "}\n",
       "\n",
       "/* Pipeline/ColumnTransformer-specific style */\n",
       "\n",
       "#sk-container-id-1 div.sk-label input.sk-toggleable__control:checked~label.sk-toggleable__label {\n",
       "  color: var(--sklearn-color-text);\n",
       "  background-color: var(--sklearn-color-unfitted-level-2);\n",
       "}\n",
       "\n",
       "#sk-container-id-1 div.sk-label.fitted input.sk-toggleable__control:checked~label.sk-toggleable__label {\n",
       "  background-color: var(--sklearn-color-fitted-level-2);\n",
       "}\n",
       "\n",
       "/* Estimator-specific style */\n",
       "\n",
       "/* Colorize estimator box */\n",
       "#sk-container-id-1 div.sk-estimator input.sk-toggleable__control:checked~label.sk-toggleable__label {\n",
       "  /* unfitted */\n",
       "  background-color: var(--sklearn-color-unfitted-level-2);\n",
       "}\n",
       "\n",
       "#sk-container-id-1 div.sk-estimator.fitted input.sk-toggleable__control:checked~label.sk-toggleable__label {\n",
       "  /* fitted */\n",
       "  background-color: var(--sklearn-color-fitted-level-2);\n",
       "}\n",
       "\n",
       "#sk-container-id-1 div.sk-label label.sk-toggleable__label,\n",
       "#sk-container-id-1 div.sk-label label {\n",
       "  /* The background is the default theme color */\n",
       "  color: var(--sklearn-color-text-on-default-background);\n",
       "}\n",
       "\n",
       "/* On hover, darken the color of the background */\n",
       "#sk-container-id-1 div.sk-label:hover label.sk-toggleable__label {\n",
       "  color: var(--sklearn-color-text);\n",
       "  background-color: var(--sklearn-color-unfitted-level-2);\n",
       "}\n",
       "\n",
       "/* Label box, darken color on hover, fitted */\n",
       "#sk-container-id-1 div.sk-label.fitted:hover label.sk-toggleable__label.fitted {\n",
       "  color: var(--sklearn-color-text);\n",
       "  background-color: var(--sklearn-color-fitted-level-2);\n",
       "}\n",
       "\n",
       "/* Estimator label */\n",
       "\n",
       "#sk-container-id-1 div.sk-label label {\n",
       "  font-family: monospace;\n",
       "  font-weight: bold;\n",
       "  display: inline-block;\n",
       "  line-height: 1.2em;\n",
       "}\n",
       "\n",
       "#sk-container-id-1 div.sk-label-container {\n",
       "  text-align: center;\n",
       "}\n",
       "\n",
       "/* Estimator-specific */\n",
       "#sk-container-id-1 div.sk-estimator {\n",
       "  font-family: monospace;\n",
       "  border: 1px dotted var(--sklearn-color-border-box);\n",
       "  border-radius: 0.25em;\n",
       "  box-sizing: border-box;\n",
       "  margin-bottom: 0.5em;\n",
       "  /* unfitted */\n",
       "  background-color: var(--sklearn-color-unfitted-level-0);\n",
       "}\n",
       "\n",
       "#sk-container-id-1 div.sk-estimator.fitted {\n",
       "  /* fitted */\n",
       "  background-color: var(--sklearn-color-fitted-level-0);\n",
       "}\n",
       "\n",
       "/* on hover */\n",
       "#sk-container-id-1 div.sk-estimator:hover {\n",
       "  /* unfitted */\n",
       "  background-color: var(--sklearn-color-unfitted-level-2);\n",
       "}\n",
       "\n",
       "#sk-container-id-1 div.sk-estimator.fitted:hover {\n",
       "  /* fitted */\n",
       "  background-color: var(--sklearn-color-fitted-level-2);\n",
       "}\n",
       "\n",
       "/* Specification for estimator info (e.g. \"i\" and \"?\") */\n",
       "\n",
       "/* Common style for \"i\" and \"?\" */\n",
       "\n",
       ".sk-estimator-doc-link,\n",
       "a:link.sk-estimator-doc-link,\n",
       "a:visited.sk-estimator-doc-link {\n",
       "  float: right;\n",
       "  font-size: smaller;\n",
       "  line-height: 1em;\n",
       "  font-family: monospace;\n",
       "  background-color: var(--sklearn-color-background);\n",
       "  border-radius: 1em;\n",
       "  height: 1em;\n",
       "  width: 1em;\n",
       "  text-decoration: none !important;\n",
       "  margin-left: 0.5em;\n",
       "  text-align: center;\n",
       "  /* unfitted */\n",
       "  border: var(--sklearn-color-unfitted-level-1) 1pt solid;\n",
       "  color: var(--sklearn-color-unfitted-level-1);\n",
       "}\n",
       "\n",
       ".sk-estimator-doc-link.fitted,\n",
       "a:link.sk-estimator-doc-link.fitted,\n",
       "a:visited.sk-estimator-doc-link.fitted {\n",
       "  /* fitted */\n",
       "  border: var(--sklearn-color-fitted-level-1) 1pt solid;\n",
       "  color: var(--sklearn-color-fitted-level-1);\n",
       "}\n",
       "\n",
       "/* On hover */\n",
       "div.sk-estimator:hover .sk-estimator-doc-link:hover,\n",
       ".sk-estimator-doc-link:hover,\n",
       "div.sk-label-container:hover .sk-estimator-doc-link:hover,\n",
       ".sk-estimator-doc-link:hover {\n",
       "  /* unfitted */\n",
       "  background-color: var(--sklearn-color-unfitted-level-3);\n",
       "  color: var(--sklearn-color-background);\n",
       "  text-decoration: none;\n",
       "}\n",
       "\n",
       "div.sk-estimator.fitted:hover .sk-estimator-doc-link.fitted:hover,\n",
       ".sk-estimator-doc-link.fitted:hover,\n",
       "div.sk-label-container:hover .sk-estimator-doc-link.fitted:hover,\n",
       ".sk-estimator-doc-link.fitted:hover {\n",
       "  /* fitted */\n",
       "  background-color: var(--sklearn-color-fitted-level-3);\n",
       "  color: var(--sklearn-color-background);\n",
       "  text-decoration: none;\n",
       "}\n",
       "\n",
       "/* Span, style for the box shown on hovering the info icon */\n",
       ".sk-estimator-doc-link span {\n",
       "  display: none;\n",
       "  z-index: 9999;\n",
       "  position: relative;\n",
       "  font-weight: normal;\n",
       "  right: .2ex;\n",
       "  padding: .5ex;\n",
       "  margin: .5ex;\n",
       "  width: min-content;\n",
       "  min-width: 20ex;\n",
       "  max-width: 50ex;\n",
       "  color: var(--sklearn-color-text);\n",
       "  box-shadow: 2pt 2pt 4pt #999;\n",
       "  /* unfitted */\n",
       "  background: var(--sklearn-color-unfitted-level-0);\n",
       "  border: .5pt solid var(--sklearn-color-unfitted-level-3);\n",
       "}\n",
       "\n",
       ".sk-estimator-doc-link.fitted span {\n",
       "  /* fitted */\n",
       "  background: var(--sklearn-color-fitted-level-0);\n",
       "  border: var(--sklearn-color-fitted-level-3);\n",
       "}\n",
       "\n",
       ".sk-estimator-doc-link:hover span {\n",
       "  display: block;\n",
       "}\n",
       "\n",
       "/* \"?\"-specific style due to the `<a>` HTML tag */\n",
       "\n",
       "#sk-container-id-1 a.estimator_doc_link {\n",
       "  float: right;\n",
       "  font-size: 1rem;\n",
       "  line-height: 1em;\n",
       "  font-family: monospace;\n",
       "  background-color: var(--sklearn-color-background);\n",
       "  border-radius: 1rem;\n",
       "  height: 1rem;\n",
       "  width: 1rem;\n",
       "  text-decoration: none;\n",
       "  /* unfitted */\n",
       "  color: var(--sklearn-color-unfitted-level-1);\n",
       "  border: var(--sklearn-color-unfitted-level-1) 1pt solid;\n",
       "}\n",
       "\n",
       "#sk-container-id-1 a.estimator_doc_link.fitted {\n",
       "  /* fitted */\n",
       "  border: var(--sklearn-color-fitted-level-1) 1pt solid;\n",
       "  color: var(--sklearn-color-fitted-level-1);\n",
       "}\n",
       "\n",
       "/* On hover */\n",
       "#sk-container-id-1 a.estimator_doc_link:hover {\n",
       "  /* unfitted */\n",
       "  background-color: var(--sklearn-color-unfitted-level-3);\n",
       "  color: var(--sklearn-color-background);\n",
       "  text-decoration: none;\n",
       "}\n",
       "\n",
       "#sk-container-id-1 a.estimator_doc_link.fitted:hover {\n",
       "  /* fitted */\n",
       "  background-color: var(--sklearn-color-fitted-level-3);\n",
       "}\n",
       "</style><div id=\"sk-container-id-1\" class=\"sk-top-container\"><div class=\"sk-text-repr-fallback\"><pre>Pipeline(steps=[(&#x27;preprocessor&#x27;,\n",
       "                 ColumnTransformer(remainder=&#x27;passthrough&#x27;,\n",
       "                                   transformers=[(&#x27;num&#x27;, StandardScaler(),\n",
       "                                                  [&#x27;duration&#x27;, &#x27;days_left&#x27;])])),\n",
       "                (&#x27;lasso_cv&#x27;,\n",
       "                 LassoCV(alphas=[0.0001, 0.0003, 0.001, 0.003, 0.01, 0.03, 0.1,\n",
       "                                 0.3, 1.0, 3.0, 10.0, 30, 100, 300, 1000],\n",
       "                         cv=10, max_iter=10000))])</pre><b>In a Jupyter environment, please rerun this cell to show the HTML representation or trust the notebook. <br />On GitHub, the HTML representation is unable to render, please try loading this page with nbviewer.org.</b></div><div class=\"sk-container\" hidden><div class=\"sk-item sk-dashed-wrapped\"><div class=\"sk-label-container\"><div class=\"sk-label fitted sk-toggleable\"><input class=\"sk-toggleable__control sk-hidden--visually\" id=\"sk-estimator-id-1\" type=\"checkbox\" ><label for=\"sk-estimator-id-1\" class=\"sk-toggleable__label fitted sk-toggleable__label-arrow\"><div><div>Pipeline</div></div><div><a class=\"sk-estimator-doc-link fitted\" rel=\"noreferrer\" target=\"_blank\" href=\"https://scikit-learn.org/1.6/modules/generated/sklearn.pipeline.Pipeline.html\">?<span>Documentation for Pipeline</span></a><span class=\"sk-estimator-doc-link fitted\">i<span>Fitted</span></span></div></label><div class=\"sk-toggleable__content fitted\"><pre>Pipeline(steps=[(&#x27;preprocessor&#x27;,\n",
       "                 ColumnTransformer(remainder=&#x27;passthrough&#x27;,\n",
       "                                   transformers=[(&#x27;num&#x27;, StandardScaler(),\n",
       "                                                  [&#x27;duration&#x27;, &#x27;days_left&#x27;])])),\n",
       "                (&#x27;lasso_cv&#x27;,\n",
       "                 LassoCV(alphas=[0.0001, 0.0003, 0.001, 0.003, 0.01, 0.03, 0.1,\n",
       "                                 0.3, 1.0, 3.0, 10.0, 30, 100, 300, 1000],\n",
       "                         cv=10, max_iter=10000))])</pre></div> </div></div><div class=\"sk-serial\"><div class=\"sk-item sk-dashed-wrapped\"><div class=\"sk-label-container\"><div class=\"sk-label fitted sk-toggleable\"><input class=\"sk-toggleable__control sk-hidden--visually\" id=\"sk-estimator-id-2\" type=\"checkbox\" ><label for=\"sk-estimator-id-2\" class=\"sk-toggleable__label fitted sk-toggleable__label-arrow\"><div><div>preprocessor: ColumnTransformer</div></div><div><a class=\"sk-estimator-doc-link fitted\" rel=\"noreferrer\" target=\"_blank\" href=\"https://scikit-learn.org/1.6/modules/generated/sklearn.compose.ColumnTransformer.html\">?<span>Documentation for preprocessor: ColumnTransformer</span></a></div></label><div class=\"sk-toggleable__content fitted\"><pre>ColumnTransformer(remainder=&#x27;passthrough&#x27;,\n",
       "                  transformers=[(&#x27;num&#x27;, StandardScaler(),\n",
       "                                 [&#x27;duration&#x27;, &#x27;days_left&#x27;])])</pre></div> </div></div><div class=\"sk-parallel\"><div class=\"sk-parallel-item\"><div class=\"sk-item\"><div class=\"sk-label-container\"><div class=\"sk-label fitted sk-toggleable\"><input class=\"sk-toggleable__control sk-hidden--visually\" id=\"sk-estimator-id-3\" type=\"checkbox\" ><label for=\"sk-estimator-id-3\" class=\"sk-toggleable__label fitted sk-toggleable__label-arrow\"><div><div>num</div></div></label><div class=\"sk-toggleable__content fitted\"><pre>[&#x27;duration&#x27;, &#x27;days_left&#x27;]</pre></div> </div></div><div class=\"sk-serial\"><div class=\"sk-item\"><div class=\"sk-estimator fitted sk-toggleable\"><input class=\"sk-toggleable__control sk-hidden--visually\" id=\"sk-estimator-id-4\" type=\"checkbox\" ><label for=\"sk-estimator-id-4\" class=\"sk-toggleable__label fitted sk-toggleable__label-arrow\"><div><div>StandardScaler</div></div><div><a class=\"sk-estimator-doc-link fitted\" rel=\"noreferrer\" target=\"_blank\" href=\"https://scikit-learn.org/1.6/modules/generated/sklearn.preprocessing.StandardScaler.html\">?<span>Documentation for StandardScaler</span></a></div></label><div class=\"sk-toggleable__content fitted\"><pre>StandardScaler()</pre></div> </div></div></div></div></div><div class=\"sk-parallel-item\"><div class=\"sk-item\"><div class=\"sk-label-container\"><div class=\"sk-label fitted sk-toggleable\"><input class=\"sk-toggleable__control sk-hidden--visually\" id=\"sk-estimator-id-5\" type=\"checkbox\" ><label for=\"sk-estimator-id-5\" class=\"sk-toggleable__label fitted sk-toggleable__label-arrow\"><div><div>remainder</div></div></label><div class=\"sk-toggleable__content fitted\"><pre>[&#x27;const&#x27;, &#x27;airline_Air_India&#x27;, &#x27;airline_GO_FIRST&#x27;, &#x27;airline_Indigo&#x27;, &#x27;airline_SpiceJet&#x27;, &#x27;airline_Vistara&#x27;, &#x27;source_city_Chennai&#x27;, &#x27;source_city_Delhi&#x27;, &#x27;source_city_Hyderabad&#x27;, &#x27;source_city_Kolkata&#x27;, &#x27;source_city_Mumbai&#x27;, &#x27;departure_time_Early_Morning&#x27;, &#x27;departure_time_Evening&#x27;, &#x27;departure_time_Late_Night&#x27;, &#x27;departure_time_Morning&#x27;, &#x27;departure_time_Night&#x27;, &#x27;stops_two_or_more&#x27;, &#x27;stops_zero&#x27;, &#x27;arrival_time_Early_Morning&#x27;, &#x27;arrival_time_Evening&#x27;, &#x27;arrival_time_Late_Night&#x27;, &#x27;arrival_time_Morning&#x27;, &#x27;arrival_time_Night&#x27;, &#x27;destination_city_Chennai&#x27;, &#x27;destination_city_Delhi&#x27;, &#x27;destination_city_Hyderabad&#x27;, &#x27;destination_city_Kolkata&#x27;, &#x27;destination_city_Mumbai&#x27;, &#x27;class_Economy&#x27;]</pre></div> </div></div><div class=\"sk-serial\"><div class=\"sk-item\"><div class=\"sk-estimator fitted sk-toggleable\"><input class=\"sk-toggleable__control sk-hidden--visually\" id=\"sk-estimator-id-6\" type=\"checkbox\" ><label for=\"sk-estimator-id-6\" class=\"sk-toggleable__label fitted sk-toggleable__label-arrow\"><div><div>passthrough</div></div></label><div class=\"sk-toggleable__content fitted\"><pre>passthrough</pre></div> </div></div></div></div></div></div></div><div class=\"sk-item\"><div class=\"sk-estimator fitted sk-toggleable\"><input class=\"sk-toggleable__control sk-hidden--visually\" id=\"sk-estimator-id-7\" type=\"checkbox\" ><label for=\"sk-estimator-id-7\" class=\"sk-toggleable__label fitted sk-toggleable__label-arrow\"><div><div>LassoCV</div></div><div><a class=\"sk-estimator-doc-link fitted\" rel=\"noreferrer\" target=\"_blank\" href=\"https://scikit-learn.org/1.6/modules/generated/sklearn.linear_model.LassoCV.html\">?<span>Documentation for LassoCV</span></a></div></label><div class=\"sk-toggleable__content fitted\"><pre>LassoCV(alphas=[0.0001, 0.0003, 0.001, 0.003, 0.01, 0.03, 0.1, 0.3, 1.0, 3.0,\n",
       "                10.0, 30, 100, 300, 1000],\n",
       "        cv=10, max_iter=10000)</pre></div> </div></div></div></div></div></div>"
      ],
      "text/plain": [
       "Pipeline(steps=[('preprocessor',\n",
       "                 ColumnTransformer(remainder='passthrough',\n",
       "                                   transformers=[('num', StandardScaler(),\n",
       "                                                  ['duration', 'days_left'])])),\n",
       "                ('lasso_cv',\n",
       "                 LassoCV(alphas=[0.0001, 0.0003, 0.001, 0.003, 0.01, 0.03, 0.1,\n",
       "                                 0.3, 1.0, 3.0, 10.0, 30, 100, 300, 1000],\n",
       "                         cv=10, max_iter=10000))])"
      ]
     },
     "execution_count": 13,
     "metadata": {},
     "output_type": "execute_result"
    }
   ],
   "source": [
    "# 3. Define alpha (lambda) values to search\n",
    "alphas = [0.0001, 0.0003, 0.001, 0.003, 0.01, 0.03, 0.1, 0.3, 1.0, 3.0, 10.0, 30 ,100, 300, 1000]\n",
    "\n",
    "# 4. Create pipeline with LassoCV\n",
    "lassocv_pipeline = Pipeline([\n",
    "    ('preprocessor', preprocessor),\n",
    "    ('lasso_cv', LassoCV(alphas=alphas, cv=10, max_iter=10000))\n",
    "])\n",
    "\n",
    "# 6. Fit pipeline\n",
    "lassocv_pipeline.fit(X_train, y_train)"
   ]
  },
  {
   "cell_type": "code",
   "execution_count": 14,
   "id": "baa22feb",
   "metadata": {},
   "outputs": [
    {
     "name": "stdout",
     "output_type": "stream",
     "text": [
      "Best lambda (alpha) from CV: 0.001\n",
      "Metrics Train:\n",
      "R²: 0.911\n",
      "MSE: 45591331.05\n",
      "RMSE: 6752.14\n",
      "MAE: 4573.98\n",
      "\n",
      "Metrics Test:\n",
      "R²: 0.911\n",
      "MSE: 45720771.19\n",
      "RMSE: 6761.71\n",
      "MAE: 4553.29\n",
      "\n",
      "Selected Coefficients (non-zero): 30\n"
     ]
    },
    {
     "data": {
      "text/html": [
       "<div>\n",
       "<style scoped>\n",
       "    .dataframe tbody tr th:only-of-type {\n",
       "        vertical-align: middle;\n",
       "    }\n",
       "\n",
       "    .dataframe tbody tr th {\n",
       "        vertical-align: top;\n",
       "    }\n",
       "\n",
       "    .dataframe thead th {\n",
       "        text-align: right;\n",
       "    }\n",
       "</style>\n",
       "<table border=\"1\" class=\"dataframe\">\n",
       "  <thead>\n",
       "    <tr style=\"text-align: right;\">\n",
       "      <th></th>\n",
       "      <th>Selected Feature</th>\n",
       "      <th>Coefficient</th>\n",
       "    </tr>\n",
       "  </thead>\n",
       "  <tbody>\n",
       "    <tr>\n",
       "      <th>0</th>\n",
       "      <td>class_Economy</td>\n",
       "      <td>-44929.059741</td>\n",
       "    </tr>\n",
       "    <tr>\n",
       "      <th>1</th>\n",
       "      <td>stops_zero</td>\n",
       "      <td>-7613.315572</td>\n",
       "    </tr>\n",
       "    <tr>\n",
       "      <th>2</th>\n",
       "      <td>airline_Vistara</td>\n",
       "      <td>4068.801384</td>\n",
       "    </tr>\n",
       "    <tr>\n",
       "      <th>3</th>\n",
       "      <td>airline_SpiceJet</td>\n",
       "      <td>2303.840003</td>\n",
       "    </tr>\n",
       "    <tr>\n",
       "      <th>4</th>\n",
       "      <td>airline_Indigo</td>\n",
       "      <td>2124.210815</td>\n",
       "    </tr>\n",
       "    <tr>\n",
       "      <th>5</th>\n",
       "      <td>stops_two_or_more</td>\n",
       "      <td>2105.203233</td>\n",
       "    </tr>\n",
       "    <tr>\n",
       "      <th>6</th>\n",
       "      <td>duration</td>\n",
       "      <td>-1769.908240</td>\n",
       "    </tr>\n",
       "    <tr>\n",
       "      <th>7</th>\n",
       "      <td>destination_city_Hyderabad</td>\n",
       "      <td>-1712.043004</td>\n",
       "    </tr>\n",
       "    <tr>\n",
       "      <th>8</th>\n",
       "      <td>airline_GO_FIRST</td>\n",
       "      <td>1691.971492</td>\n",
       "    </tr>\n",
       "    <tr>\n",
       "      <th>9</th>\n",
       "      <td>source_city_Hyderabad</td>\n",
       "      <td>-1675.405911</td>\n",
       "    </tr>\n",
       "    <tr>\n",
       "      <th>10</th>\n",
       "      <td>source_city_Kolkata</td>\n",
       "      <td>1596.259485</td>\n",
       "    </tr>\n",
       "    <tr>\n",
       "      <th>11</th>\n",
       "      <td>destination_city_Delhi</td>\n",
       "      <td>-1563.202499</td>\n",
       "    </tr>\n",
       "    <tr>\n",
       "      <th>12</th>\n",
       "      <td>departure_time_Late_Night</td>\n",
       "      <td>1540.393245</td>\n",
       "    </tr>\n",
       "    <tr>\n",
       "      <th>13</th>\n",
       "      <td>source_city_Delhi</td>\n",
       "      <td>-1412.867107</td>\n",
       "    </tr>\n",
       "    <tr>\n",
       "      <th>14</th>\n",
       "      <td>destination_city_Kolkata</td>\n",
       "      <td>1358.147600</td>\n",
       "    </tr>\n",
       "    <tr>\n",
       "      <th>15</th>\n",
       "      <td>arrival_time_Night</td>\n",
       "      <td>1135.462611</td>\n",
       "    </tr>\n",
       "    <tr>\n",
       "      <th>16</th>\n",
       "      <td>arrival_time_Late_Night</td>\n",
       "      <td>967.050164</td>\n",
       "    </tr>\n",
       "    <tr>\n",
       "      <th>17</th>\n",
       "      <td>arrival_time_Evening</td>\n",
       "      <td>923.673455</td>\n",
       "    </tr>\n",
       "    <tr>\n",
       "      <th>18</th>\n",
       "      <td>departure_time_Morning</td>\n",
       "      <td>866.493760</td>\n",
       "    </tr>\n",
       "    <tr>\n",
       "      <th>19</th>\n",
       "      <td>departure_time_Early_Morning</td>\n",
       "      <td>810.124476</td>\n",
       "    </tr>\n",
       "    <tr>\n",
       "      <th>20</th>\n",
       "      <td>arrival_time_Early_Morning</td>\n",
       "      <td>-768.130590</td>\n",
       "    </tr>\n",
       "    <tr>\n",
       "      <th>21</th>\n",
       "      <td>departure_time_Evening</td>\n",
       "      <td>737.252343</td>\n",
       "    </tr>\n",
       "    <tr>\n",
       "      <th>22</th>\n",
       "      <td>departure_time_Night</td>\n",
       "      <td>662.966661</td>\n",
       "    </tr>\n",
       "    <tr>\n",
       "      <th>23</th>\n",
       "      <td>arrival_time_Morning</td>\n",
       "      <td>461.376093</td>\n",
       "    </tr>\n",
       "    <tr>\n",
       "      <th>24</th>\n",
       "      <td>const</td>\n",
       "      <td>308.826666</td>\n",
       "    </tr>\n",
       "    <tr>\n",
       "      <th>25</th>\n",
       "      <td>destination_city_Chennai</td>\n",
       "      <td>-239.480129</td>\n",
       "    </tr>\n",
       "    <tr>\n",
       "      <th>26</th>\n",
       "      <td>source_city_Mumbai</td>\n",
       "      <td>-208.110462</td>\n",
       "    </tr>\n",
       "    <tr>\n",
       "      <th>27</th>\n",
       "      <td>airline_Air_India</td>\n",
       "      <td>114.063758</td>\n",
       "    </tr>\n",
       "    <tr>\n",
       "      <th>28</th>\n",
       "      <td>source_city_Chennai</td>\n",
       "      <td>-75.309627</td>\n",
       "    </tr>\n",
       "    <tr>\n",
       "      <th>29</th>\n",
       "      <td>destination_city_Mumbai</td>\n",
       "      <td>-33.310443</td>\n",
       "    </tr>\n",
       "  </tbody>\n",
       "</table>\n",
       "</div>"
      ],
      "text/plain": [
       "                Selected Feature   Coefficient\n",
       "0                  class_Economy -44929.059741\n",
       "1                     stops_zero  -7613.315572\n",
       "2                airline_Vistara   4068.801384\n",
       "3               airline_SpiceJet   2303.840003\n",
       "4                 airline_Indigo   2124.210815\n",
       "5              stops_two_or_more   2105.203233\n",
       "6                       duration  -1769.908240\n",
       "7     destination_city_Hyderabad  -1712.043004\n",
       "8               airline_GO_FIRST   1691.971492\n",
       "9          source_city_Hyderabad  -1675.405911\n",
       "10           source_city_Kolkata   1596.259485\n",
       "11        destination_city_Delhi  -1563.202499\n",
       "12     departure_time_Late_Night   1540.393245\n",
       "13             source_city_Delhi  -1412.867107\n",
       "14      destination_city_Kolkata   1358.147600\n",
       "15            arrival_time_Night   1135.462611\n",
       "16       arrival_time_Late_Night    967.050164\n",
       "17          arrival_time_Evening    923.673455\n",
       "18        departure_time_Morning    866.493760\n",
       "19  departure_time_Early_Morning    810.124476\n",
       "20    arrival_time_Early_Morning   -768.130590\n",
       "21        departure_time_Evening    737.252343\n",
       "22          departure_time_Night    662.966661\n",
       "23          arrival_time_Morning    461.376093\n",
       "24                         const    308.826666\n",
       "25      destination_city_Chennai   -239.480129\n",
       "26            source_city_Mumbai   -208.110462\n",
       "27             airline_Air_India    114.063758\n",
       "28           source_city_Chennai    -75.309627\n",
       "29       destination_city_Mumbai    -33.310443"
      ]
     },
     "execution_count": 14,
     "metadata": {},
     "output_type": "execute_result"
    }
   ],
   "source": [
    "# 7. Best lambda\n",
    "best_alpha = lassocv_pipeline.named_steps['lasso_cv'].alpha_\n",
    "print(f\"Best lambda (alpha) from CV: {best_alpha}\")\n",
    "\n",
    "print(\"Metrics Train:\")\n",
    "y_pred = lassocv_pipeline.predict(X_train)\n",
    "evaluate_predictions(y_train, y_pred)\n",
    "\n",
    "print(\"\\nMetrics Test:\")\n",
    "y_pred = lassocv_pipeline.predict(X_test)\n",
    "evaluate_predictions(y_test, y_pred)\n",
    "\n",
    "# 6. Extract coefficients\n",
    "lasso = lassocv_pipeline.named_steps['lasso_cv']\n",
    "coef = pd.Series(lasso.coef_, index=X_encoded.columns)\n",
    "show_nonzero_coefficients(coef)"
   ]
  },
  {
   "cell_type": "code",
   "execution_count": 15,
   "id": "4c81f15b",
   "metadata": {},
   "outputs": [
    {
     "name": "stdout",
     "output_type": "stream",
     "text": [
      "Best alpha (min MSE): 0.001\n",
      "MSE_min: 45602697.61\n",
      "1_SE: 45602697.61\n",
      "MSE_min + 1-SE threshold: 46236502.63\n",
      "Alpha from 1-SE rule: 30.0\n"
     ]
    },
    {
     "data": {
      "application/vnd.plotly.v1+json": {
       "config": {
        "plotlyServerURL": "https://plot.ly"
       },
       "data": [
        {
         "error_y": {
          "array": {
           "bdata": "AeV12CLqJkFD7GdyrogjQU4SNEiF7CJBjUkX39zLIkHs9+KnruoiQQzVaQdxMiNBgBi4dhFJI0He7SzjUlMjQb7Cm/4vViNBZCag8C9XI0Fx+kYceVcjQaQ/k7iSVyNBgYsZCppXI0H9PcWZnFcjQbZoIFWdVyNB",
           "dtype": "f8"
          },
          "type": "data",
          "visible": true
         },
         "line": {
          "color": "royalblue"
         },
         "marker": {
          "size": 8
         },
         "mode": "lines+markers",
         "name": "Mean CV MSE",
         "type": "scatter",
         "x": {
          "bdata": "AAAAAABAj0AAAAAAAMByQAAAAAAAAFlAAAAAAAAAPkAAAAAAAAAkQAAAAAAAAAhAAAAAAAAA8D8zMzMzMzPTP5qZmZmZmbk/uB6F61G4nj97FK5H4XqEP/p+arx0k2g//Knx0k1iUD9hMlUwKqkzPy1DHOviNho/",
          "dtype": "f8"
         },
         "y": {
          "bdata": "Y2nUBG4yjUHAVkMx88aHQeARBFk3X4ZBtZmtn5DohUEhBdXYHMiFQU+kWoPSv4VBOeV0a96+hUG6Ix9VwL6FQda/Bb68voVBHok1Vry+hUF9b6pNvL6FQara5Ey8voVB5HbiTLy+hUHsTudMvL6FQX076Uy8voVB",
          "dtype": "f8"
         }
        },
        {
         "line": {
          "color": "red",
          "dash": "dash"
         },
         "mode": "lines",
         "name": "Best alpha = 0.0010",
         "type": "scatter",
         "x": [
          0.001,
          0.001
         ],
         "y": [
          43322562.73004941,
          64292055.03390247
         ]
        },
        {
         "line": {
          "color": "green",
          "dash": "dot"
         },
         "mode": "lines",
         "name": "1-SE alpha = 30.0000",
         "type": "scatter",
         "x": [
          30,
          30
         ],
         "y": [
          43322562.73004941,
          64292055.03390247
         ]
        }
       ],
       "layout": {
        "height": 500,
        "legend": {
         "x": 0.01,
         "y": 0.99
        },
        "template": {
         "data": {
          "bar": [
           {
            "error_x": {
             "color": "#2a3f5f"
            },
            "error_y": {
             "color": "#2a3f5f"
            },
            "marker": {
             "line": {
              "color": "white",
              "width": 0.5
             },
             "pattern": {
              "fillmode": "overlay",
              "size": 10,
              "solidity": 0.2
             }
            },
            "type": "bar"
           }
          ],
          "barpolar": [
           {
            "marker": {
             "line": {
              "color": "white",
              "width": 0.5
             },
             "pattern": {
              "fillmode": "overlay",
              "size": 10,
              "solidity": 0.2
             }
            },
            "type": "barpolar"
           }
          ],
          "carpet": [
           {
            "aaxis": {
             "endlinecolor": "#2a3f5f",
             "gridcolor": "#C8D4E3",
             "linecolor": "#C8D4E3",
             "minorgridcolor": "#C8D4E3",
             "startlinecolor": "#2a3f5f"
            },
            "baxis": {
             "endlinecolor": "#2a3f5f",
             "gridcolor": "#C8D4E3",
             "linecolor": "#C8D4E3",
             "minorgridcolor": "#C8D4E3",
             "startlinecolor": "#2a3f5f"
            },
            "type": "carpet"
           }
          ],
          "choropleth": [
           {
            "colorbar": {
             "outlinewidth": 0,
             "ticks": ""
            },
            "type": "choropleth"
           }
          ],
          "contour": [
           {
            "colorbar": {
             "outlinewidth": 0,
             "ticks": ""
            },
            "colorscale": [
             [
              0,
              "#0d0887"
             ],
             [
              0.1111111111111111,
              "#46039f"
             ],
             [
              0.2222222222222222,
              "#7201a8"
             ],
             [
              0.3333333333333333,
              "#9c179e"
             ],
             [
              0.4444444444444444,
              "#bd3786"
             ],
             [
              0.5555555555555556,
              "#d8576b"
             ],
             [
              0.6666666666666666,
              "#ed7953"
             ],
             [
              0.7777777777777778,
              "#fb9f3a"
             ],
             [
              0.8888888888888888,
              "#fdca26"
             ],
             [
              1,
              "#f0f921"
             ]
            ],
            "type": "contour"
           }
          ],
          "contourcarpet": [
           {
            "colorbar": {
             "outlinewidth": 0,
             "ticks": ""
            },
            "type": "contourcarpet"
           }
          ],
          "heatmap": [
           {
            "colorbar": {
             "outlinewidth": 0,
             "ticks": ""
            },
            "colorscale": [
             [
              0,
              "#0d0887"
             ],
             [
              0.1111111111111111,
              "#46039f"
             ],
             [
              0.2222222222222222,
              "#7201a8"
             ],
             [
              0.3333333333333333,
              "#9c179e"
             ],
             [
              0.4444444444444444,
              "#bd3786"
             ],
             [
              0.5555555555555556,
              "#d8576b"
             ],
             [
              0.6666666666666666,
              "#ed7953"
             ],
             [
              0.7777777777777778,
              "#fb9f3a"
             ],
             [
              0.8888888888888888,
              "#fdca26"
             ],
             [
              1,
              "#f0f921"
             ]
            ],
            "type": "heatmap"
           }
          ],
          "histogram": [
           {
            "marker": {
             "pattern": {
              "fillmode": "overlay",
              "size": 10,
              "solidity": 0.2
             }
            },
            "type": "histogram"
           }
          ],
          "histogram2d": [
           {
            "colorbar": {
             "outlinewidth": 0,
             "ticks": ""
            },
            "colorscale": [
             [
              0,
              "#0d0887"
             ],
             [
              0.1111111111111111,
              "#46039f"
             ],
             [
              0.2222222222222222,
              "#7201a8"
             ],
             [
              0.3333333333333333,
              "#9c179e"
             ],
             [
              0.4444444444444444,
              "#bd3786"
             ],
             [
              0.5555555555555556,
              "#d8576b"
             ],
             [
              0.6666666666666666,
              "#ed7953"
             ],
             [
              0.7777777777777778,
              "#fb9f3a"
             ],
             [
              0.8888888888888888,
              "#fdca26"
             ],
             [
              1,
              "#f0f921"
             ]
            ],
            "type": "histogram2d"
           }
          ],
          "histogram2dcontour": [
           {
            "colorbar": {
             "outlinewidth": 0,
             "ticks": ""
            },
            "colorscale": [
             [
              0,
              "#0d0887"
             ],
             [
              0.1111111111111111,
              "#46039f"
             ],
             [
              0.2222222222222222,
              "#7201a8"
             ],
             [
              0.3333333333333333,
              "#9c179e"
             ],
             [
              0.4444444444444444,
              "#bd3786"
             ],
             [
              0.5555555555555556,
              "#d8576b"
             ],
             [
              0.6666666666666666,
              "#ed7953"
             ],
             [
              0.7777777777777778,
              "#fb9f3a"
             ],
             [
              0.8888888888888888,
              "#fdca26"
             ],
             [
              1,
              "#f0f921"
             ]
            ],
            "type": "histogram2dcontour"
           }
          ],
          "mesh3d": [
           {
            "colorbar": {
             "outlinewidth": 0,
             "ticks": ""
            },
            "type": "mesh3d"
           }
          ],
          "parcoords": [
           {
            "line": {
             "colorbar": {
              "outlinewidth": 0,
              "ticks": ""
             }
            },
            "type": "parcoords"
           }
          ],
          "pie": [
           {
            "automargin": true,
            "type": "pie"
           }
          ],
          "scatter": [
           {
            "fillpattern": {
             "fillmode": "overlay",
             "size": 10,
             "solidity": 0.2
            },
            "type": "scatter"
           }
          ],
          "scatter3d": [
           {
            "line": {
             "colorbar": {
              "outlinewidth": 0,
              "ticks": ""
             }
            },
            "marker": {
             "colorbar": {
              "outlinewidth": 0,
              "ticks": ""
             }
            },
            "type": "scatter3d"
           }
          ],
          "scattercarpet": [
           {
            "marker": {
             "colorbar": {
              "outlinewidth": 0,
              "ticks": ""
             }
            },
            "type": "scattercarpet"
           }
          ],
          "scattergeo": [
           {
            "marker": {
             "colorbar": {
              "outlinewidth": 0,
              "ticks": ""
             }
            },
            "type": "scattergeo"
           }
          ],
          "scattergl": [
           {
            "marker": {
             "colorbar": {
              "outlinewidth": 0,
              "ticks": ""
             }
            },
            "type": "scattergl"
           }
          ],
          "scattermap": [
           {
            "marker": {
             "colorbar": {
              "outlinewidth": 0,
              "ticks": ""
             }
            },
            "type": "scattermap"
           }
          ],
          "scattermapbox": [
           {
            "marker": {
             "colorbar": {
              "outlinewidth": 0,
              "ticks": ""
             }
            },
            "type": "scattermapbox"
           }
          ],
          "scatterpolar": [
           {
            "marker": {
             "colorbar": {
              "outlinewidth": 0,
              "ticks": ""
             }
            },
            "type": "scatterpolar"
           }
          ],
          "scatterpolargl": [
           {
            "marker": {
             "colorbar": {
              "outlinewidth": 0,
              "ticks": ""
             }
            },
            "type": "scatterpolargl"
           }
          ],
          "scatterternary": [
           {
            "marker": {
             "colorbar": {
              "outlinewidth": 0,
              "ticks": ""
             }
            },
            "type": "scatterternary"
           }
          ],
          "surface": [
           {
            "colorbar": {
             "outlinewidth": 0,
             "ticks": ""
            },
            "colorscale": [
             [
              0,
              "#0d0887"
             ],
             [
              0.1111111111111111,
              "#46039f"
             ],
             [
              0.2222222222222222,
              "#7201a8"
             ],
             [
              0.3333333333333333,
              "#9c179e"
             ],
             [
              0.4444444444444444,
              "#bd3786"
             ],
             [
              0.5555555555555556,
              "#d8576b"
             ],
             [
              0.6666666666666666,
              "#ed7953"
             ],
             [
              0.7777777777777778,
              "#fb9f3a"
             ],
             [
              0.8888888888888888,
              "#fdca26"
             ],
             [
              1,
              "#f0f921"
             ]
            ],
            "type": "surface"
           }
          ],
          "table": [
           {
            "cells": {
             "fill": {
              "color": "#EBF0F8"
             },
             "line": {
              "color": "white"
             }
            },
            "header": {
             "fill": {
              "color": "#C8D4E3"
             },
             "line": {
              "color": "white"
             }
            },
            "type": "table"
           }
          ]
         },
         "layout": {
          "annotationdefaults": {
           "arrowcolor": "#2a3f5f",
           "arrowhead": 0,
           "arrowwidth": 1
          },
          "autotypenumbers": "strict",
          "coloraxis": {
           "colorbar": {
            "outlinewidth": 0,
            "ticks": ""
           }
          },
          "colorscale": {
           "diverging": [
            [
             0,
             "#8e0152"
            ],
            [
             0.1,
             "#c51b7d"
            ],
            [
             0.2,
             "#de77ae"
            ],
            [
             0.3,
             "#f1b6da"
            ],
            [
             0.4,
             "#fde0ef"
            ],
            [
             0.5,
             "#f7f7f7"
            ],
            [
             0.6,
             "#e6f5d0"
            ],
            [
             0.7,
             "#b8e186"
            ],
            [
             0.8,
             "#7fbc41"
            ],
            [
             0.9,
             "#4d9221"
            ],
            [
             1,
             "#276419"
            ]
           ],
           "sequential": [
            [
             0,
             "#0d0887"
            ],
            [
             0.1111111111111111,
             "#46039f"
            ],
            [
             0.2222222222222222,
             "#7201a8"
            ],
            [
             0.3333333333333333,
             "#9c179e"
            ],
            [
             0.4444444444444444,
             "#bd3786"
            ],
            [
             0.5555555555555556,
             "#d8576b"
            ],
            [
             0.6666666666666666,
             "#ed7953"
            ],
            [
             0.7777777777777778,
             "#fb9f3a"
            ],
            [
             0.8888888888888888,
             "#fdca26"
            ],
            [
             1,
             "#f0f921"
            ]
           ],
           "sequentialminus": [
            [
             0,
             "#0d0887"
            ],
            [
             0.1111111111111111,
             "#46039f"
            ],
            [
             0.2222222222222222,
             "#7201a8"
            ],
            [
             0.3333333333333333,
             "#9c179e"
            ],
            [
             0.4444444444444444,
             "#bd3786"
            ],
            [
             0.5555555555555556,
             "#d8576b"
            ],
            [
             0.6666666666666666,
             "#ed7953"
            ],
            [
             0.7777777777777778,
             "#fb9f3a"
            ],
            [
             0.8888888888888888,
             "#fdca26"
            ],
            [
             1,
             "#f0f921"
            ]
           ]
          },
          "colorway": [
           "#636efa",
           "#EF553B",
           "#00cc96",
           "#ab63fa",
           "#FFA15A",
           "#19d3f3",
           "#FF6692",
           "#B6E880",
           "#FF97FF",
           "#FECB52"
          ],
          "font": {
           "color": "#2a3f5f"
          },
          "geo": {
           "bgcolor": "white",
           "lakecolor": "white",
           "landcolor": "white",
           "showlakes": true,
           "showland": true,
           "subunitcolor": "#C8D4E3"
          },
          "hoverlabel": {
           "align": "left"
          },
          "hovermode": "closest",
          "mapbox": {
           "style": "light"
          },
          "paper_bgcolor": "white",
          "plot_bgcolor": "white",
          "polar": {
           "angularaxis": {
            "gridcolor": "#EBF0F8",
            "linecolor": "#EBF0F8",
            "ticks": ""
           },
           "bgcolor": "white",
           "radialaxis": {
            "gridcolor": "#EBF0F8",
            "linecolor": "#EBF0F8",
            "ticks": ""
           }
          },
          "scene": {
           "xaxis": {
            "backgroundcolor": "white",
            "gridcolor": "#DFE8F3",
            "gridwidth": 2,
            "linecolor": "#EBF0F8",
            "showbackground": true,
            "ticks": "",
            "zerolinecolor": "#EBF0F8"
           },
           "yaxis": {
            "backgroundcolor": "white",
            "gridcolor": "#DFE8F3",
            "gridwidth": 2,
            "linecolor": "#EBF0F8",
            "showbackground": true,
            "ticks": "",
            "zerolinecolor": "#EBF0F8"
           },
           "zaxis": {
            "backgroundcolor": "white",
            "gridcolor": "#DFE8F3",
            "gridwidth": 2,
            "linecolor": "#EBF0F8",
            "showbackground": true,
            "ticks": "",
            "zerolinecolor": "#EBF0F8"
           }
          },
          "shapedefaults": {
           "line": {
            "color": "#2a3f5f"
           }
          },
          "ternary": {
           "aaxis": {
            "gridcolor": "#DFE8F3",
            "linecolor": "#A2B1C6",
            "ticks": ""
           },
           "baxis": {
            "gridcolor": "#DFE8F3",
            "linecolor": "#A2B1C6",
            "ticks": ""
           },
           "bgcolor": "white",
           "caxis": {
            "gridcolor": "#DFE8F3",
            "linecolor": "#A2B1C6",
            "ticks": ""
           }
          },
          "title": {
           "x": 0.05
          },
          "xaxis": {
           "automargin": true,
           "gridcolor": "#EBF0F8",
           "linecolor": "#EBF0F8",
           "ticks": "",
           "title": {
            "standoff": 15
           },
           "zerolinecolor": "#EBF0F8",
           "zerolinewidth": 2
          },
          "yaxis": {
           "automargin": true,
           "gridcolor": "#EBF0F8",
           "linecolor": "#EBF0F8",
           "ticks": "",
           "title": {
            "standoff": 15
           },
           "zerolinecolor": "#EBF0F8",
           "zerolinewidth": 2
          }
         }
        },
        "title": {
         "text": "LassoCV: Mean Cross-Validation Error vs Alpha"
        },
        "width": 800,
        "xaxis": {
         "title": {
          "text": "Alpha (log scale)"
         },
         "type": "log"
        },
        "yaxis": {
         "title": {
          "text": "Mean CV MSE"
         }
        }
       }
      }
     },
     "metadata": {},
     "output_type": "display_data"
    }
   ],
   "source": [
    "import plotly.graph_objects as go\n",
    "\n",
    "# Extract model and aligned data\n",
    "lasso_cv = lassocv_pipeline.named_steps['lasso_cv']\n",
    "alphas_used = lasso_cv.alphas_  # Correct order (descending)\n",
    "mean_mse = lasso_cv.mse_path_.mean(axis=1)\n",
    "std_mse = lasso_cv.mse_path_.std(axis=1)\n",
    "best_alpha = lasso_cv.alpha_\n",
    "\n",
    "# Step 2: Find minimum mean MSE and threshold\n",
    "min_index = np.argmin(mean_mse)\n",
    "mse_min = mean_mse[min_index]\n",
    "mse_threshold = mse_min + std_mse[min_index]\n",
    "\n",
    "# Find largest alpha within 1-SE threshold (first from the top that satisfies condition)\n",
    "alpha_1se = alphas_used[mean_mse <= mse_threshold][0]\n",
    "\n",
    "print(f\"Best alpha (min MSE): {best_alpha}\")\n",
    "print(f\"MSE_min: {mse_min:.2f}\")\n",
    "print(f\"1_SE: {mse_min:.2f}\")\n",
    "print(f\"MSE_min + 1-SE threshold: {mse_threshold:.2f}\")\n",
    "print(f\"Alpha from 1-SE rule: {alpha_1se}\")\n",
    "\n",
    "# Plot\n",
    "fig = go.Figure()\n",
    "\n",
    "# Mean MSE with error bars\n",
    "fig.add_trace(go.Scatter(\n",
    "    x=alphas_used,\n",
    "    y=mean_mse,\n",
    "    error_y=dict(\n",
    "        type='data',\n",
    "        array=std_mse,\n",
    "        visible=True\n",
    "    ),\n",
    "    mode='lines+markers',\n",
    "    name='Mean CV MSE',\n",
    "    line=dict(color='royalblue'),\n",
    "    marker=dict(size=8)\n",
    "))\n",
    "\n",
    "# Vertical line for best alpha\n",
    "fig.add_trace(go.Scatter(\n",
    "    x=[best_alpha, best_alpha],\n",
    "    y=[min(mean_mse) * 0.95, max(mean_mse) * 1.05],\n",
    "    mode='lines',\n",
    "    name=f'Best alpha = {best_alpha:.4f}',\n",
    "    line=dict(color='red', dash='dash')\n",
    "))\n",
    "\n",
    "# Layout\n",
    "fig.update_layout(\n",
    "    title='LassoCV: Mean Cross-Validation Error vs Alpha',\n",
    "    xaxis=dict(title='Alpha (log scale)', type='log'),\n",
    "    yaxis=dict(title='Mean CV MSE'),\n",
    "    legend=dict(x=0.01, y=0.99),\n",
    "    template='plotly_white',\n",
    "    width=800,\n",
    "    height=500\n",
    ")\n",
    "\n",
    "# Add vertical line for 1-SE rule alpha\n",
    "fig.add_trace(go.Scatter(\n",
    "    x=[alpha_1se, alpha_1se],\n",
    "    y=[min(mean_mse) * 0.95, max(mean_mse) * 1.05],\n",
    "    mode='lines',\n",
    "    name=f'1-SE alpha = {alpha_1se:.4f}',\n",
    "    line=dict(color='green', dash='dot')\n",
    "))\n",
    "\n",
    "fig.show()"
   ]
  },
  {
   "cell_type": "code",
   "execution_count": 17,
   "id": "d9a83883",
   "metadata": {},
   "outputs": [
    {
     "data": {
      "application/vnd.plotly.v1+json": {
       "config": {
        "plotlyServerURL": "https://plot.ly"
       },
       "data": [
        {
         "mode": "lines",
         "name": "const",
         "type": "scatter",
         "x": {
          "bdata": "U2Z8oiRm1EDNDIVrNeTSQAHTEs/LftFA3s4GMMwz0EC+sbqkhQLOQCQaYtHBystA/1gAs/O8yUAR5ipwAdbHQCbUhtoLE8ZAvOvSGGpxxEC4bfmipe7CQFaNGYp2iMFA517rBsA8wECzZ5aSGhO+QLhvNwgd2rtAeH0SYizLuUBZHBoQLeO3QAgju00+H7ZAa4CBybV8tEDHBPKeG/myQPnahZwmkrFA4FYn0LhFsEDMYPSpuCOuQLiuN7uA6atAfa/H7GzZqUCipAH3X/CnQFa0OX53K6ZARRb5tweIpEDpqJ5ilwOjQNZHSwncm6FAPmx2jrZOoEAVnOTvXzSeQNoOE+/s+JtAgnN3V7XnmUBD3uYomv2XQGrUu2+3N5ZA7IWs51+TlEDw8zDxGA6TQE8BX9OWpZFAG9eVRLlXkECv5HlpEEWOQOxefKhhCIxAJ7R7pgX2iUBFYdGp2wqIQFve/CX+Q4ZAvo8QXL6ehEBuQ9xNoBiDQBrXt/1Wr4FADlNE9cBggEBS08kbylV+QGwGKezeF3xAecMw3l0EekDH/8p9JBh4QBY9uqRLUHZAC92bGCOqdECludV7LSNzQD88ToscuXFA+R9Co81pcEDZz+wLjWZuQOMG0b5kJ2xAVFz1Ar4SakAix9+odCVoQIhss++fXGZADAHHII61ZECSPlR+wC1jQPdHHH/nwmFAzwJRUd9yYEAUE/4+WXdeQDv9LiXzNlxAzaMqGSYhWkASAR4vzDJYQNb6qQr7aFZA5HkMeP/AVEDpgJBYWThTQIO2Hdy3zFFAj0Y0AvZ7UEDppxu6LohOQGojACSKRkxAbyo0JZYvSkAgNZYUK0BIQHCJYflcdUZA1bHoIXfMREAN98QN+EJDQDXqT6WN1kFA9bywuBGFQEAkbWaCDZk+QKFRBMApVjxAhO13Kw4+OkCrKVtdkU04QCbOn7/FgTZAIwDaIfXXNED53y2hnE0zQDXssd1o4DFAc7+MdzKOMEAMFwKd9akuQPj//f3RZSxAlFheMI5MKkBc5YEN/1ooQH2ULGE1jiZAUapge3njJEA=",
          "dtype": "f8"
         },
         "y": {
          "bdata": "AAAAAAAAAAAAAAAAAAAAAAAAAAAAAAAAAAAAAAAAAAAAAAAAAAAAAAAAAAAAAAAAAAAAAAAAAAAAAAAAAAAAAAAAAAAAAAAAAAAAAAAAAAAAAAAAAAAAAAAAAAAAAAAAAAAAAAAAAAAAAAAAAAAAAAAAAAAAAAAAAAAAAAAAAAAAAAAAAAAAAAAAAAAAAAAAAAAAAAAAAAAAAAAAAAAAAAAAAAAAAAAAAAAAAAAAAAAAAAAAAAAAAAAAAAAAAAAAAAAAAAAAAADI5aM+JrQQQOiaEYqd0V1ACly41uk4bEB9cNedMkh0QDjSPlqS/XlA0D8lFe5Gf0Am8l2A+haCQO81NVDlQ4RAcvKhB9E2hkD4ULE23gSIQCwQw7jFsIlA2ef7l8s9i0DtPV8Kv6yMQGfLbhyRAI5AVT8k+UU7j0AGIghoXC+QQMCcJRSltpBAMKHqu5szkUAOOKR+VKeRQMZ9X9l/EpJAtNFlaRB2kkCPfXpF/9WRQKSFSpPJtZBAT/MOCElVj0Aq7jqseGaNQOvST8g5nItAJKX7Fcr0iUBFBNTFumuIQA73f0ax/4ZAtvca6o6uhUC0kg24PXeEQH1cQSixLYNAB1Iy9mPqgUDt/QTVx76AQEcqMI2ZUn9AT8jX4TVSfUAbxrAQQnZ7QC0kyiE31XlAT4Djeq1beEC/ZY2zHRF3QMGfHv8b5XVAteLJtR3JdEAyGj8EoLdzQIpOyUa0u3JAGEQIB3IyckAkI34ynI9yQPSAvOkO8nJAjoqQoi9bc0Cg2DOjpqdzQCiTPS2R5nNAw4K4vzshdEAdw9QpKVd0QJ7klZSAiXRA0qD8TYy5dEBo+AJIAvN0QIJx8lbjMnVA9FGX4g5udUAYttZTAqV1QLjueK091HVAnzjl2cPudUBZy6ET5xF2QISSVrgdEHZADXF9ALEBdkCPEnw3LO91QOf4OJQW1XVAaUZOHSvAdUBeF/7yB6d1QFWkPVHce3VAg3YazUtUdUAbmPY+dC91QETEOmJLDXVA8YheEu3tdECXoDN7ddB0QKMzqmqhsnRAuklmd3CgdEA=",
          "dtype": "f8"
         }
        },
        {
         "mode": "lines",
         "name": "duration",
         "type": "scatter",
         "x": {
          "bdata": "U2Z8oiRm1EDNDIVrNeTSQAHTEs/LftFA3s4GMMwz0EC+sbqkhQLOQCQaYtHBystA/1gAs/O8yUAR5ipwAdbHQCbUhtoLE8ZAvOvSGGpxxEC4bfmipe7CQFaNGYp2iMFA517rBsA8wECzZ5aSGhO+QLhvNwgd2rtAeH0SYizLuUBZHBoQLeO3QAgju00+H7ZAa4CBybV8tEDHBPKeG/myQPnahZwmkrFA4FYn0LhFsEDMYPSpuCOuQLiuN7uA6atAfa/H7GzZqUCipAH3X/CnQFa0OX53K6ZARRb5tweIpEDpqJ5ilwOjQNZHSwncm6FAPmx2jrZOoEAVnOTvXzSeQNoOE+/s+JtAgnN3V7XnmUBD3uYomv2XQGrUu2+3N5ZA7IWs51+TlEDw8zDxGA6TQE8BX9OWpZFAG9eVRLlXkECv5HlpEEWOQOxefKhhCIxAJ7R7pgX2iUBFYdGp2wqIQFve/CX+Q4ZAvo8QXL6ehEBuQ9xNoBiDQBrXt/1Wr4FADlNE9cBggEBS08kbylV+QGwGKezeF3xAecMw3l0EekDH/8p9JBh4QBY9uqRLUHZAC92bGCOqdECludV7LSNzQD88ToscuXFA+R9Co81pcEDZz+wLjWZuQOMG0b5kJ2xAVFz1Ar4SakAix9+odCVoQIhss++fXGZADAHHII61ZECSPlR+wC1jQPdHHH/nwmFAzwJRUd9yYEAUE/4+WXdeQDv9LiXzNlxAzaMqGSYhWkASAR4vzDJYQNb6qQr7aFZA5HkMeP/AVEDpgJBYWThTQIO2Hdy3zFFAj0Y0AvZ7UEDppxu6LohOQGojACSKRkxAbyo0JZYvSkAgNZYUK0BIQHCJYflcdUZA1bHoIXfMREAN98QN+EJDQDXqT6WN1kFA9bywuBGFQEAkbWaCDZk+QKFRBMApVjxAhO13Kw4+OkCrKVtdkU04QCbOn7/FgTZAIwDaIfXXNED53y2hnE0zQDXssd1o4DFAc7+MdzKOMEAMFwKd9akuQPj//f3RZSxAlFheMI5MKkBc5YEN/1ooQH2ULGE1jiZAUapge3njJEA=",
          "dtype": "f8"
         },
         "y": {
          "bdata": "AAAAAAAAAIAAAAAAAAAAgAAAAAAAAACAAAAAAAAAAIAAAAAAAAAAgAAAAAAAAACAAAAAAAAAAIAAAAAAAAAAgAAAAAAAAACAAAAAAAAAAIAAAAAAAAAAgAAAAAAAAACAAAAAAAAAAIAAAAAAAAAAgAAAAAAAAACAAAAAAAAAAIAAAAAAAAAAgAAAAAAAAACAAAAAAAAAAIAAAAAAAAAAgAAAAAAAAACAAAAAAAAAAIAAAAAAAAAAgAAAAAAAAACAAAAAAAAAAIAAAAAAAAAAgAAAAAAAAACAAAAAAAAAAIAAAAAAAAAAgAAAAAAAAACAAAAAAAAAAIAAAAAAAAAAgFPaiJu6wlLAnCLTTh3SaMCWa/4uX49zwCXFr3hrLnrAbTV/LysogMD1o40zDP+CwFmBaOk0oIXAM60k7p0PiMBpfgd59FCKwHS1gAawZ4zAEgSGTtdWjsBenH0psxCQwMFe1d0I5ZDAovZL8LSpkcB56d7Yf2mSwGCawByEIJPAEVa5Uf/Jk8D+U8AB9GaUwPP0lTNP+JTAoOkOavF+lcAd/uaKm/uVwEUp8fcOb5bAlit1JPrZlsARtWVTAz2XwEyfN/zZmJfAB/X/HNbtl8Aouq1HiTyYwBWH121rhZjAdejbCO/ImMBaU9lRcQeZwC+1UizfQJnAcctUndh1mcAwoV/0Z6WZwMURojlC0ZnAew6t8tj5mcD4D3oyMB+awMM8d2lPQZrAvGnFv3tgmsAMlLVlfH2awHh8aog/mJrAlPe0XOawmsCnmFVNXcaawJNj5iC+2ZrAgjsx37PrmsCFcwt6UvyawLZ6Ufi5C5vAUv5BAsIZm8B/8JxeDiabwCrA4ENyMZvA6Qf+NwA8m8B5T8qExkWbwILMuJSSTpvAx0zLK25Wm8BTaWre512bwMYxip0/ZJvA8nFpYMNnm8Bu6jxVc2ubwHOLPY3GbpvAp8p2cidym8ABXbln0XWbwEzSMGI/eZvAuBUgeW98m8AwO3BCYn+bwC6/3A8dgpvA/DJgkqWEm8DosgY8/oabwNKI380uiZvAYerxUpGLm8A=",
          "dtype": "f8"
         }
        },
        {
         "mode": "lines",
         "name": "days_left",
         "type": "scatter",
         "x": {
          "bdata": "U2Z8oiRm1EDNDIVrNeTSQAHTEs/LftFA3s4GMMwz0EC+sbqkhQLOQCQaYtHBystA/1gAs/O8yUAR5ipwAdbHQCbUhtoLE8ZAvOvSGGpxxEC4bfmipe7CQFaNGYp2iMFA517rBsA8wECzZ5aSGhO+QLhvNwgd2rtAeH0SYizLuUBZHBoQLeO3QAgju00+H7ZAa4CBybV8tEDHBPKeG/myQPnahZwmkrFA4FYn0LhFsEDMYPSpuCOuQLiuN7uA6atAfa/H7GzZqUCipAH3X/CnQFa0OX53K6ZARRb5tweIpEDpqJ5ilwOjQNZHSwncm6FAPmx2jrZOoEAVnOTvXzSeQNoOE+/s+JtAgnN3V7XnmUBD3uYomv2XQGrUu2+3N5ZA7IWs51+TlEDw8zDxGA6TQE8BX9OWpZFAG9eVRLlXkECv5HlpEEWOQOxefKhhCIxAJ7R7pgX2iUBFYdGp2wqIQFve/CX+Q4ZAvo8QXL6ehEBuQ9xNoBiDQBrXt/1Wr4FADlNE9cBggEBS08kbylV+QGwGKezeF3xAecMw3l0EekDH/8p9JBh4QBY9uqRLUHZAC92bGCOqdECludV7LSNzQD88ToscuXFA+R9Co81pcEDZz+wLjWZuQOMG0b5kJ2xAVFz1Ar4SakAix9+odCVoQIhss++fXGZADAHHII61ZECSPlR+wC1jQPdHHH/nwmFAzwJRUd9yYEAUE/4+WXdeQDv9LiXzNlxAzaMqGSYhWkASAR4vzDJYQNb6qQr7aFZA5HkMeP/AVEDpgJBYWThTQIO2Hdy3zFFAj0Y0AvZ7UEDppxu6LohOQGojACSKRkxAbyo0JZYvSkAgNZYUK0BIQHCJYflcdUZA1bHoIXfMREAN98QN+EJDQDXqT6WN1kFA9bywuBGFQEAkbWaCDZk+QKFRBMApVjxAhO13Kw4+OkCrKVtdkU04QCbOn7/FgTZAIwDaIfXXNED53y2hnE0zQDXssd1o4DFAc7+MdzKOMEAMFwKd9akuQPj//f3RZSxAlFheMI5MKkBc5YEN/1ooQH2ULGE1jiZAUapge3njJEA=",
          "dtype": "f8"
         },
         "y": {
          "bdata": "AAAAAAAAAABcmHVv8x6YQI6aTJvGOqdA013WyWHJsEDNNXxAh5O1QAJlLecOA7pATOfwI6sevkCU5s3UR/bAQH/4cWo9ucJA6eAlLN9axEDtXv+ho93FQE8/37rSQ8dAvm0NPomPyEDLmK37u8LJQMgU3cA638pA1HGI9RkJy0D3DMg3IAnLQHmtQTT1mstAcVZk2+lh0EAcATkrfsfSQKFPRVwWANVAhYIAkUMO10CKeQzyePXYQGyIfu0mudpAuMyqg+ta3EBz1S90P97dQIowjYRYQt9ANVbgEVtG4EA99vslAN/gQLXzpaKxbOFAZTu5K+vv4UBIJxcnGmniQE/m6GCO2eJA0A3ZAZ9B40BFLLeE/qHjQHBRWrc+++NAxp7fophN5EDzeMkHKZrkQB0TqxUS4eRAOqGIlb0i5UA3zOunjl/lQKue1DKcl+VApJlzyMjL5UDjZ7+jG/zlQPcBZUbcKOZAqXpBJgxS5kA3PJBjBX/mQID1UNo1rOZAT9GJsC3W5kC/aPktDP3mQOGw7U4LIedAxzCAdCRC50BOK7ylBmHnQI3NbDWifedABd2IlCCY50AyVMpvb7DnQJL3tWRrwudA1TRRmrrQ50CKfMApCd7nQIpXs99c6udAflz8sJD150B+UqTHIgDoQPnBcJ6FCOhAtRrwRdkP6EDHrDVQLBToQCcOec0cGOhArvszVSUc6EAvFGBFlSPoQM1booB2L+hAj+02jThA6ECIQvhJslLoQGcNzv3FY+hAC9rCQzdz6ECheGNaxoHoQNGit2Ujj+hAj7Wvd6qb6EBgxAzOH6foQDGEJ7XgsehAE3Ghrim86ECx7pmLksboQEHqr4ajz+hAqS5fWR/Y6EA4Qpz+7N/oQA1spZwH5uhAYLujEi/q6ECGQ5USNu/oQGqzI0Od8uhArjhHRhfs6EBG3q4lVeboQGmxxGiV3+hAlezNY2jY6ECuxQbAt83oQMKXgAYswuhAdzb6WLS36EDbv7ql5q3oQAmDVAzNpOhAlyHHS4Wc6ECrDbJOwJToQJCSC6w3juhAJxfJfN+N6EA=",
          "dtype": "f8"
         }
        },
        {
         "mode": "lines",
         "name": "airline_Air_India",
         "type": "scatter",
         "x": {
          "bdata": "U2Z8oiRm1EDNDIVrNeTSQAHTEs/LftFA3s4GMMwz0EC+sbqkhQLOQCQaYtHBystA/1gAs/O8yUAR5ipwAdbHQCbUhtoLE8ZAvOvSGGpxxEC4bfmipe7CQFaNGYp2iMFA517rBsA8wECzZ5aSGhO+QLhvNwgd2rtAeH0SYizLuUBZHBoQLeO3QAgju00+H7ZAa4CBybV8tEDHBPKeG/myQPnahZwmkrFA4FYn0LhFsEDMYPSpuCOuQLiuN7uA6atAfa/H7GzZqUCipAH3X/CnQFa0OX53K6ZARRb5tweIpEDpqJ5ilwOjQNZHSwncm6FAPmx2jrZOoEAVnOTvXzSeQNoOE+/s+JtAgnN3V7XnmUBD3uYomv2XQGrUu2+3N5ZA7IWs51+TlEDw8zDxGA6TQE8BX9OWpZFAG9eVRLlXkECv5HlpEEWOQOxefKhhCIxAJ7R7pgX2iUBFYdGp2wqIQFve/CX+Q4ZAvo8QXL6ehEBuQ9xNoBiDQBrXt/1Wr4FADlNE9cBggEBS08kbylV+QGwGKezeF3xAecMw3l0EekDH/8p9JBh4QBY9uqRLUHZAC92bGCOqdECludV7LSNzQD88ToscuXFA+R9Co81pcEDZz+wLjWZuQOMG0b5kJ2xAVFz1Ar4SakAix9+odCVoQIhss++fXGZADAHHII61ZECSPlR+wC1jQPdHHH/nwmFAzwJRUd9yYEAUE/4+WXdeQDv9LiXzNlxAzaMqGSYhWkASAR4vzDJYQNb6qQr7aFZA5HkMeP/AVEDpgJBYWThTQIO2Hdy3zFFAj0Y0AvZ7UEDppxu6LohOQGojACSKRkxAbyo0JZYvSkAgNZYUK0BIQHCJYflcdUZA1bHoIXfMREAN98QN+EJDQDXqT6WN1kFA9bywuBGFQEAkbWaCDZk+QKFRBMApVjxAhO13Kw4+OkCrKVtdkU04QCbOn7/FgTZAIwDaIfXXNED53y2hnE0zQDXssd1o4DFAc7+MdzKOMEAMFwKd9akuQPj//f3RZSxAlFheMI5MKkBc5YEN/1ooQH2ULGE1jiZAUapge3njJEA=",
          "dtype": "f8"
         },
         "y": {
          "bdata": "AAAAAAAAAAAAAAAAAAAAAAAAAAAAAAAAAAAAAAAAAAAAAAAAAAAAAAAAAAAAAAAAAAAAAAAAAAAAAAAAAAAAAAAAAAAAAAAAAAAAAAAAAAAAAAAAAAAAAAAAAAAAAAAAAAAAAAAAAAAAAAAAAAAAAAAAAAAAAAAAAAAAAAAAAAAAAAAAAAAAAAAAAAAAAAAAAAAAAAAAAAAAAAAAAAAAAAAAAAAAAAAAAAAAAAAAAAAAAAAAAAAAAAAAAAAAAAAAAAAAAAAAAAAAAAAAAAAAAAAAAAAAAAAAAAAAAAAAAAAAAAAAAAAAAAAAAAAAAAAAAAAAAAAAAAAAAAAAAAAAAAAAAAAAAAAAAAAAAAAAAAAAAAAAAAAAAAAAAAAAAAAAAAAAAAAAAAAAAAAAAAAAAAAAAAAAAAAAAAAAAAAAAAAAAAAAAAAAAAAAAAAAAAAAAAAAAAAAAAAAAAAAAAAAAAAAAAAAAAAAAAAAAAAAAAAAAAAAAAAAAAAAAAAAAAAAAAAAAAAAAAAAAAAAAAAAAAAAAAAAAAAAAAAAAAAAAAAAAAAAAAAAAAAAAAAAAACAAAAAAAAAAIAAAAAAAAAAgAAAAAAAAACAAAAAAAAAAIAAAAAAAAAAgAAAAAAAAACAAAAAAAAAAIAAAAAAAAAAgAAAAAAAAACAAAAAAAAAAIAAAAAAAAAAgAAAAAAAAACAAAAAAAAAAIAAAAAAAAAAgAAAAAAAAACAikS+ddldQ8CnjGtMndxdwH1KhkdvT2jARiwRAtGKcMCVUQWfJ6N0wNVY0hcWZHjAEVfMx1Dne8CzDHruLB9/wDbZGtx8EYHA8w1pVwl+gsCjY2zpY++DwBoT2xf0RoXAl9vBu2WHhsBCJedDFrCHwGdaYX2Tx4jAGlYqN++ricAezAei97WKwNCups1qz4rA5rCnHRK1iMChrQfEVQCHwCf5digIW4XA+nzkVizTg8CLT1zMIyaCwIKT7EWDn4DA2/IHiRt3fsDVxDx3ud57wGzbW/9vdnnA0XbHWoFCd8AnckfCujJ1wBEfqQCzH3PALjEIo0dJcsA=",
          "dtype": "f8"
         }
        },
        {
         "mode": "lines",
         "name": "airline_GO_FIRST",
         "type": "scatter",
         "x": {
          "bdata": "U2Z8oiRm1EDNDIVrNeTSQAHTEs/LftFA3s4GMMwz0EC+sbqkhQLOQCQaYtHBystA/1gAs/O8yUAR5ipwAdbHQCbUhtoLE8ZAvOvSGGpxxEC4bfmipe7CQFaNGYp2iMFA517rBsA8wECzZ5aSGhO+QLhvNwgd2rtAeH0SYizLuUBZHBoQLeO3QAgju00+H7ZAa4CBybV8tEDHBPKeG/myQPnahZwmkrFA4FYn0LhFsEDMYPSpuCOuQLiuN7uA6atAfa/H7GzZqUCipAH3X/CnQFa0OX53K6ZARRb5tweIpEDpqJ5ilwOjQNZHSwncm6FAPmx2jrZOoEAVnOTvXzSeQNoOE+/s+JtAgnN3V7XnmUBD3uYomv2XQGrUu2+3N5ZA7IWs51+TlEDw8zDxGA6TQE8BX9OWpZFAG9eVRLlXkECv5HlpEEWOQOxefKhhCIxAJ7R7pgX2iUBFYdGp2wqIQFve/CX+Q4ZAvo8QXL6ehEBuQ9xNoBiDQBrXt/1Wr4FADlNE9cBggEBS08kbylV+QGwGKezeF3xAecMw3l0EekDH/8p9JBh4QBY9uqRLUHZAC92bGCOqdECludV7LSNzQD88ToscuXFA+R9Co81pcEDZz+wLjWZuQOMG0b5kJ2xAVFz1Ar4SakAix9+odCVoQIhss++fXGZADAHHII61ZECSPlR+wC1jQPdHHH/nwmFAzwJRUd9yYEAUE/4+WXdeQDv9LiXzNlxAzaMqGSYhWkASAR4vzDJYQNb6qQr7aFZA5HkMeP/AVEDpgJBYWThTQIO2Hdy3zFFAj0Y0AvZ7UEDppxu6LohOQGojACSKRkxAbyo0JZYvSkAgNZYUK0BIQHCJYflcdUZA1bHoIXfMREAN98QN+EJDQDXqT6WN1kFA9bywuBGFQEAkbWaCDZk+QKFRBMApVjxAhO13Kw4+OkCrKVtdkU04QCbOn7/FgTZAIwDaIfXXNED53y2hnE0zQDXssd1o4DFAc7+MdzKOMEAMFwKd9akuQPj//f3RZSxAlFheMI5MKkBc5YEN/1ooQH2ULGE1jiZAUapge3njJEA=",
          "dtype": "f8"
         },
         "y": {
          "bdata": "AAAAAAAAAAAAAAAAAAAAAAAAAAAAAAAAAAAAAAAAAAAAAAAAAAAAAAAAAAAAAACAAAAAAAAAAIAAAAAAAAAAgAAAAAAAAACAAAAAAAAAAIAAAAAAAAAAgAAAAAAAAACAAAAAAAAAAIAAAAAAAAAAgAAAAAAAAACAAAAAAAAAAIAAAAAAAAAAgAAAAAAAAACAAAAAAAAAAIAAAAAAAAAAgAAAAAAAAACAAAAAAAAAAIAAAAAAAAAAgAAAAAAAAACAAAAAAAAAAIAAAAAAAAAAgAAAAAAAAACAAAAAAAAAAIAAAAAAAAAAgAAAAAAAAACAAAAAAAAAAIAAAAAAAAAAgAAAAAAAAACAAAAAAAAAAIAAAAAAAAAAgAAAAAAAAACAAAAAAAAAAIAAAAAAAAAAgAAAAAAAAACAAAAAAAAAAIAAAAAAAAAAgAAAAAAAAACAAAAAAAAAAIAAAAAAAAAAgAAAAAAAAACAAAAAAAAAAIAAAAAAAAAAgAAAAAAAAACAAAAAAAAAAIAAAAAAAAAAAAAAAAAAAAAAAAAAAAAAAAAAAAAAAAAAAAAAAAAAAAAAAAAAAAAAAAAAAAAAAAAAAAAAAAAAAAAAAAAAAAAAAAAAAAAAAAAAAAAAAAAAAAAAAAAAAAAAAAAAAAAAAAAAAAAAAAAAAAAAAAAAAAAAAAAAAAAAAAAAAAAAAAAAAAAAAAAAAAAAAAAAAAAAAAAAAAAAAAAAAAAAAAAAAAAAAAAAAAAAAAAAAAAAAAAAAAAAAAAAAAAAAAAAAAAAAAAAAAAAAAAAAAAAAAAAAAAAAAAAAAAAAAAAAAAAAAAAAAAAAAAAAAAAAAAAAAAAAAAAAAAAAAAAAAAAAAAAAAAAAAAAAAAAAAAAAAAAAAAAAAAAAAAAAAAAAAAAAAAAAAAAAE4trWpc2UZARX+MXCZgZUBdEw6NzCVxQBr2doLXT3dARMwKY7/7fECG+146J0mBQBY0m3lW3oNAcstluu09hkCvvPvhd3KIQBcYRFSofYpADJOEE69fjEALLJ9UdiCOQHgEsMUn0I9Ah27YIGFvkEA=",
          "dtype": "f8"
         }
        },
        {
         "mode": "lines",
         "name": "airline_Indigo",
         "type": "scatter",
         "x": {
          "bdata": "U2Z8oiRm1EDNDIVrNeTSQAHTEs/LftFA3s4GMMwz0EC+sbqkhQLOQCQaYtHBystA/1gAs/O8yUAR5ipwAdbHQCbUhtoLE8ZAvOvSGGpxxEC4bfmipe7CQFaNGYp2iMFA517rBsA8wECzZ5aSGhO+QLhvNwgd2rtAeH0SYizLuUBZHBoQLeO3QAgju00+H7ZAa4CBybV8tEDHBPKeG/myQPnahZwmkrFA4FYn0LhFsEDMYPSpuCOuQLiuN7uA6atAfa/H7GzZqUCipAH3X/CnQFa0OX53K6ZARRb5tweIpEDpqJ5ilwOjQNZHSwncm6FAPmx2jrZOoEAVnOTvXzSeQNoOE+/s+JtAgnN3V7XnmUBD3uYomv2XQGrUu2+3N5ZA7IWs51+TlEDw8zDxGA6TQE8BX9OWpZFAG9eVRLlXkECv5HlpEEWOQOxefKhhCIxAJ7R7pgX2iUBFYdGp2wqIQFve/CX+Q4ZAvo8QXL6ehEBuQ9xNoBiDQBrXt/1Wr4FADlNE9cBggEBS08kbylV+QGwGKezeF3xAecMw3l0EekDH/8p9JBh4QBY9uqRLUHZAC92bGCOqdECludV7LSNzQD88ToscuXFA+R9Co81pcEDZz+wLjWZuQOMG0b5kJ2xAVFz1Ar4SakAix9+odCVoQIhss++fXGZADAHHII61ZECSPlR+wC1jQPdHHH/nwmFAzwJRUd9yYEAUE/4+WXdeQDv9LiXzNlxAzaMqGSYhWkASAR4vzDJYQNb6qQr7aFZA5HkMeP/AVEDpgJBYWThTQIO2Hdy3zFFAj0Y0AvZ7UEDppxu6LohOQGojACSKRkxAbyo0JZYvSkAgNZYUK0BIQHCJYflcdUZA1bHoIXfMREAN98QN+EJDQDXqT6WN1kFA9bywuBGFQEAkbWaCDZk+QKFRBMApVjxAhO13Kw4+OkCrKVtdkU04QCbOn7/FgTZAIwDaIfXXNED53y2hnE0zQDXssd1o4DFAc7+MdzKOMEAMFwKd9akuQPj//f3RZSxAlFheMI5MKkBc5YEN/1ooQH2ULGE1jiZAUapge3njJEA=",
          "dtype": "f8"
         },
         "y": {
          "bdata": "AAAAAAAAAAAAAAAAAAAAAAAAAAAAAAAAAAAAAAAAAAAAAAAAAAAAgAAAAAAAAACAAAAAAAAAAIAAAAAAAAAAgAAAAAAAAACAAAAAAAAAAIAAAAAAAAAAgAAAAAAAAACAAAAAAAAAAIAAAAAAAAAAgAAAAAAAAACAAAAAAAAAAIAAAAAAAAAAgAAAAAAAAACAAAAAAAAAAIAAAAAAAAAAgAAAAAAAAACAAAAAAAAAAIAAAAAAAAAAgAAAAAAAAACAAAAAAAAAAIAAAAAAAAAAgAAAAAAAAACAAAAAAAAAAIAAAAAAAAAAgAAAAAAAAACAAAAAAAAAAIAAAAAAAAAAgAAAAAAAAACAAAAAAAAAAIAAAAAAAAAAgAAAAAAAAACAAAAAAAAAAIAAAAAAAAAAgAAAAAAAAACAAAAAAAAAAIAAAAAAAAAAgAAAAAAAAACAAAAAAAAAAIAAAAAAAAAAgAAAAAAAAACAAAAAAAAAAIAAAAAAAAAAAAAAAAAAAAAAAAAAAAAAAAAAAAAAAAAAAAAAAAAAAAAAAAAAAAAAAAAAAAAAAAAAAAAAAAAAAAAAAAAAAAAAAAAAAAAAAAAAAAAAAAAAAAAAAAAAAAAAAAAAAAAAAAAAAAAAAAAAAAAAAAAAAAAAAAAAAAAAAAAAAAAAAAAAAAAAAAAAAAAAAAAAAAAAAAAAAAAAAAAAAAAAAAAAAAAAAAAAAAAAAAAAAAAAAAAAAAAAAAAAAAAAAABVgsmoEg5LQBA+aV/n0FpA6AlAz3R3Y0B7xKRwmXZpQKS1LUsTM29AsenteCM9ckDyEwZICLN0QIPs+/gw9nZAFuvvX54GeUBhWG4zy9p6QF54xnuknXxArY0mVwI9fkC5BoPQFr1/QPD/xCAFk4BAd4k6MBxQgUCFrGDo29WBQLIEU1v4IYNApCiG1+ylhkD79zWwD4KJQG/rR9BBPoxAfl9r/4/IjkB3Q++iYbCQQKR47ni25ZFAVzjE9qsBk0CKawSZpQmUQLAFmR9Q/pRAfggT7ovflUD+vomWH7GWQA6oP+mIepdAIl02qDDyl0A=",
          "dtype": "f8"
         }
        },
        {
         "mode": "lines",
         "name": "airline_SpiceJet",
         "type": "scatter",
         "x": {
          "bdata": "U2Z8oiRm1EDNDIVrNeTSQAHTEs/LftFA3s4GMMwz0EC+sbqkhQLOQCQaYtHBystA/1gAs/O8yUAR5ipwAdbHQCbUhtoLE8ZAvOvSGGpxxEC4bfmipe7CQFaNGYp2iMFA517rBsA8wECzZ5aSGhO+QLhvNwgd2rtAeH0SYizLuUBZHBoQLeO3QAgju00+H7ZAa4CBybV8tEDHBPKeG/myQPnahZwmkrFA4FYn0LhFsEDMYPSpuCOuQLiuN7uA6atAfa/H7GzZqUCipAH3X/CnQFa0OX53K6ZARRb5tweIpEDpqJ5ilwOjQNZHSwncm6FAPmx2jrZOoEAVnOTvXzSeQNoOE+/s+JtAgnN3V7XnmUBD3uYomv2XQGrUu2+3N5ZA7IWs51+TlEDw8zDxGA6TQE8BX9OWpZFAG9eVRLlXkECv5HlpEEWOQOxefKhhCIxAJ7R7pgX2iUBFYdGp2wqIQFve/CX+Q4ZAvo8QXL6ehEBuQ9xNoBiDQBrXt/1Wr4FADlNE9cBggEBS08kbylV+QGwGKezeF3xAecMw3l0EekDH/8p9JBh4QBY9uqRLUHZAC92bGCOqdECludV7LSNzQD88ToscuXFA+R9Co81pcEDZz+wLjWZuQOMG0b5kJ2xAVFz1Ar4SakAix9+odCVoQIhss++fXGZADAHHII61ZECSPlR+wC1jQPdHHH/nwmFAzwJRUd9yYEAUE/4+WXdeQDv9LiXzNlxAzaMqGSYhWkASAR4vzDJYQNb6qQr7aFZA5HkMeP/AVEDpgJBYWThTQIO2Hdy3zFFAj0Y0AvZ7UEDppxu6LohOQGojACSKRkxAbyo0JZYvSkAgNZYUK0BIQHCJYflcdUZA1bHoIXfMREAN98QN+EJDQDXqT6WN1kFA9bywuBGFQEAkbWaCDZk+QKFRBMApVjxAhO13Kw4+OkCrKVtdkU04QCbOn7/FgTZAIwDaIfXXNED53y2hnE0zQDXssd1o4DFAc7+MdzKOMEAMFwKd9akuQPj//f3RZSxAlFheMI5MKkBc5YEN/1ooQH2ULGE1jiZAUapge3njJEA=",
          "dtype": "f8"
         },
         "y": {
          "bdata": "AAAAAAAAAAAAAAAAAAAAAAAAAAAAAAAAAAAAAAAAAAAAAAAAAAAAAAAAAAAAAACAAAAAAAAAAIAAAAAAAAAAgAAAAAAAAACAAAAAAAAAAIAAAAAAAAAAgAAAAAAAAACAAAAAAAAAAIAAAAAAAAAAgAAAAAAAAACAAAAAAAAAAIAAAAAAAAAAgAAAAAAAAACAAAAAAAAAAIAAAAAAAAAAgAAAAAAAAACAAAAAAAAAAIAAAAAAAAAAgAAAAAAAAACAAAAAAAAAAIAAAAAAAAAAgAAAAAAAAACAAAAAAAAAAIAAAAAAAAAAgAAAAAAAAACAAAAAAAAAAIAAAAAAAAAAgAAAAAAAAACAAAAAAAAAAIAAAAAAAAAAgAAAAAAAAACAAAAAAAAAAIAAAAAAAAAAgAAAAAAAAACAAAAAAAAAAIAAAAAAAAAAgAAAAAAAAACAAAAAAAAAAIAAAAAAAAAAgAAAAAAAAACAAAAAAAAAAIAAAAAAAAAAgAAAAAAAAACAAAAAAAAAAIAAAAAAAAAAgAAAAAAAAAAAAAAAAAAAAAAAAAAAAAAAAAAAAAAAAAAAAAAAAAAAAAAAAAAAAAAAAAAAAAAAAAAAAAAAAAAAAAAAAAAAAAAAAAAAAAAAAAAAAAAAAAAAAAAAAAAAAAAAAAAAAAAAAAAAAAAAAAAAAAAAAAAAAAAAAAAAAAAAAAAAAAAAAAAAAAAAAAAAAAAAAAAAAAAAAAAAAAAAAAAAAAAAAAAAAAAAAAAAAAAAAAAAAAAAAAAAAAAAAAAAAAAAAAAAAAAAAAAAAAAAAAAAAAAAAAAAAAAAAAAAAAAAAAAAAAAAAAAAAAAAAAAAAAAAAAAAAAAAAAAAAAAAAAAAAAAAAAAAAAAAAAAAAAAAAAAAAAAAAAAAAAAAAAAAAAAAAI0epUgDvVJAmeRA4wxUbkAcHuWSHBh4QExDP4EmOoBAXQIUblcWhEDckgWGhtuHQFAURCM2UotAlQuVIvaCjkAFr+vqhbyQQPkNLGS5G5JAuCdJCNRfk0CV+YS6+4yUQEDHL42SrJVAhNfGTbF6lkA=",
          "dtype": "f8"
         }
        },
        {
         "mode": "lines",
         "name": "airline_Vistara",
         "type": "scatter",
         "x": {
          "bdata": "U2Z8oiRm1EDNDIVrNeTSQAHTEs/LftFA3s4GMMwz0EC+sbqkhQLOQCQaYtHBystA/1gAs/O8yUAR5ipwAdbHQCbUhtoLE8ZAvOvSGGpxxEC4bfmipe7CQFaNGYp2iMFA517rBsA8wECzZ5aSGhO+QLhvNwgd2rtAeH0SYizLuUBZHBoQLeO3QAgju00+H7ZAa4CBybV8tEDHBPKeG/myQPnahZwmkrFA4FYn0LhFsEDMYPSpuCOuQLiuN7uA6atAfa/H7GzZqUCipAH3X/CnQFa0OX53K6ZARRb5tweIpEDpqJ5ilwOjQNZHSwncm6FAPmx2jrZOoEAVnOTvXzSeQNoOE+/s+JtAgnN3V7XnmUBD3uYomv2XQGrUu2+3N5ZA7IWs51+TlEDw8zDxGA6TQE8BX9OWpZFAG9eVRLlXkECv5HlpEEWOQOxefKhhCIxAJ7R7pgX2iUBFYdGp2wqIQFve/CX+Q4ZAvo8QXL6ehEBuQ9xNoBiDQBrXt/1Wr4FADlNE9cBggEBS08kbylV+QGwGKezeF3xAecMw3l0EekDH/8p9JBh4QBY9uqRLUHZAC92bGCOqdECludV7LSNzQD88ToscuXFA+R9Co81pcEDZz+wLjWZuQOMG0b5kJ2xAVFz1Ar4SakAix9+odCVoQIhss++fXGZADAHHII61ZECSPlR+wC1jQPdHHH/nwmFAzwJRUd9yYEAUE/4+WXdeQDv9LiXzNlxAzaMqGSYhWkASAR4vzDJYQNb6qQr7aFZA5HkMeP/AVEDpgJBYWThTQIO2Hdy3zFFAj0Y0AvZ7UEDppxu6LohOQGojACSKRkxAbyo0JZYvSkAgNZYUK0BIQHCJYflcdUZA1bHoIXfMREAN98QN+EJDQDXqT6WN1kFA9bywuBGFQEAkbWaCDZk+QKFRBMApVjxAhO13Kw4+OkCrKVtdkU04QCbOn7/FgTZAIwDaIfXXNED53y2hnE0zQDXssd1o4DFAc7+MdzKOMEAMFwKd9akuQPj//f3RZSxAlFheMI5MKkBc5YEN/1ooQH2ULGE1jiZAUapge3njJEA=",
          "dtype": "f8"
         },
         "y": {
          "bdata": "AAAAAAAAAAAAAAAAAAAAAAAAAAAAAAAAAAAAAAAAAAAAAAAAAAAAAAAAAAAAAAAAAAAAAAAAAAAAAAAAAAAAAAAAAAAAAAAAAAAAAAAAAAAAAAAAAAAAAAAAAAAAAAAAAAAAAAAAAAAAAAAAAAAAAAAAAAAAAAAA3MZMCJY9kEAAeG4ZLw6hQHTohZB6iahA1kRhiOgCqUDeuXgTAG2pQKV+44ITzqlAoxoPT0UpqkChsH4A/n2qQF/W4o7lyqpA3homCtkTq0BvWRLyCFSrQOL8B5SFZKtAy0cu/e5xq0Agzzbnc4CrQKILv3nOi6tACnhZQk2Wq0CpxEOVM6KrQGe/l04kq6tAIebSwHSzq0APZU6yKburQEVIqdpMwqtAfDKUjtbKq0A6j4Xf2NCrQOohleZh1qtArfMLFoLbq0DTq2xLQeCrQChqvWhc5qtAowKtK1fqq0BbCAzx/e2rQOCpB3Rf8atAmQKvpCT2q0BSVtXMEuSrQDpJZOB+yKtAW6/cbzauq0BKmJsc25WrQLGiLoJMf6tAlCOAI+drq0DHgkj/fFirQIbfubl3RqtA6cflGMc1q0BfQNblvyerQIvok+LaJKtATllAV0Qoq0DY4SybFiurQC1heOqtLatAQ7+m9mQxq0D3O8dooDOrQJEDLbZONKtApjfk/Gkzq0DihXSAlC6rQEEdOVjfJKtAZWLCc70bq0CDr4DhBwyrQBJbDx0m/6pASh9fhlPIqkDy1lyvdHWqQHEkPPTqJ6pAWzkl/DbeqUC/4FDgHZapQFKewFOsU6lA5n+Z1usUqUCWYMDq+NuoQCdxPQIUpqhAtbQgEKZyqEB+5NBcsjyoQJCfBoKVC6hAqvnlyn/dp0BLZKdL77KnQMRkFv4Ai6dAOzouJZNtp0CDIxDMtESnQEcO7lKHVKdAKMLr/qbtp0Cug9rMdW2oQCIiP5hx56hASLfWNtBYqUDSnZZE0NGpQO5D867BPqpA3edyKDCiqkD9mefl6v6qQFhYx/DrVKtAG4xDJrSjq0C4rDP+V+2rQLvgx++hNaxA3ALvSWBVrEA=",
          "dtype": "f8"
         }
        },
        {
         "mode": "lines",
         "name": "source_city_Chennai",
         "type": "scatter",
         "x": {
          "bdata": "U2Z8oiRm1EDNDIVrNeTSQAHTEs/LftFA3s4GMMwz0EC+sbqkhQLOQCQaYtHBystA/1gAs/O8yUAR5ipwAdbHQCbUhtoLE8ZAvOvSGGpxxEC4bfmipe7CQFaNGYp2iMFA517rBsA8wECzZ5aSGhO+QLhvNwgd2rtAeH0SYizLuUBZHBoQLeO3QAgju00+H7ZAa4CBybV8tEDHBPKeG/myQPnahZwmkrFA4FYn0LhFsEDMYPSpuCOuQLiuN7uA6atAfa/H7GzZqUCipAH3X/CnQFa0OX53K6ZARRb5tweIpEDpqJ5ilwOjQNZHSwncm6FAPmx2jrZOoEAVnOTvXzSeQNoOE+/s+JtAgnN3V7XnmUBD3uYomv2XQGrUu2+3N5ZA7IWs51+TlEDw8zDxGA6TQE8BX9OWpZFAG9eVRLlXkECv5HlpEEWOQOxefKhhCIxAJ7R7pgX2iUBFYdGp2wqIQFve/CX+Q4ZAvo8QXL6ehEBuQ9xNoBiDQBrXt/1Wr4FADlNE9cBggEBS08kbylV+QGwGKezeF3xAecMw3l0EekDH/8p9JBh4QBY9uqRLUHZAC92bGCOqdECludV7LSNzQD88ToscuXFA+R9Co81pcEDZz+wLjWZuQOMG0b5kJ2xAVFz1Ar4SakAix9+odCVoQIhss++fXGZADAHHII61ZECSPlR+wC1jQPdHHH/nwmFAzwJRUd9yYEAUE/4+WXdeQDv9LiXzNlxAzaMqGSYhWkASAR4vzDJYQNb6qQr7aFZA5HkMeP/AVEDpgJBYWThTQIO2Hdy3zFFAj0Y0AvZ7UEDppxu6LohOQGojACSKRkxAbyo0JZYvSkAgNZYUK0BIQHCJYflcdUZA1bHoIXfMREAN98QN+EJDQDXqT6WN1kFA9bywuBGFQEAkbWaCDZk+QKFRBMApVjxAhO13Kw4+OkCrKVtdkU04QCbOn7/FgTZAIwDaIfXXNED53y2hnE0zQDXssd1o4DFAc7+MdzKOMEAMFwKd9akuQPj//f3RZSxAlFheMI5MKkBc5YEN/1ooQH2ULGE1jiZAUapge3njJEA=",
          "dtype": "f8"
         },
         "y": {
          "bdata": "AAAAAAAAAAAAAAAAAAAAAAAAAAAAAAAAAAAAAAAAAAAAAAAAAAAAAAAAAAAAAAAAAAAAAAAAAAAAAAAAAAAAAAAAAAAAAAAAAAAAAAAAAAAAAAAAAAAAAAAAAAAAAAAAAAAAAAAAAAAAAAAAAAAAAAAAAAAAAAAAAAAAAAAAAAAAAAAAAAAAAAAAAAAAAAAAAAAAAAAAAAAAAAAAAAAAAAAAAAAAAAAAAAAAAAAAAAAAAAAAAAAAAAAAAAAAAAAAAAAAAAAAAAAAAAAAAAAAAAAAAAAAAAAAAAAAAAAAAAAAAAAAAAAAAAAAAAAAAAAAAAAAAAAAAAAAAAAAAAAAAAAAAAAAAAAAAAAAAAAAAAAAAAAAAAAAAAAAAAAAAAAAAAAAAAAAAAAAAAAAAAAAAAAAAAAAAAAAAAAAAAAAAAAAAAAAAAAAAAAAAAAAAAAAAAAAAAAAAAAAAAAAAAAAAAAAAAAAAAAAAAAAAAAAAAAAAAAAAAAAAAAAAAAAAAAAAAAAAAAAAAAAAAAAAAAAAAAAAAAAAAAAAAAAAAAAAAAAAAAAAAAAAAAAAAAAAAAAAAAAAAAAAAAAAAAAAAAAAAAAAAAAAAAAAAAAAAAAAAAAAAAAAAAAAAAAAAAAAAAAAAAAAAAAAAAAAAAAAAAAAAAAAAAAAAAAAAAAAAAAAAAAAAAAAAAAAAAAAAAAAAAAAAAAAAAAAAAAAAAAAAAAAAAAAAAAAAAAAAAAAAAAAAAAAAAAAAAAAAAAAAAAAAAAAAAAAAAAAAAAAAAAAAAAAAAAAAAAAAAAAAAAAAAAAAAAAAAAAAAAAAAAAAAAAAAAAAAAAAAAAAAAAAAAAAAAAAAAAAAAAAAAAAAAAAAAAAAAAAAAAAAAAAAAAAAAAAAAAAAAAAAAAAAAAAAAAAAAAAAAAAAAAAAAAAAAAAAAAAAAAAAAAAAAAAAAAAAAAAAAAAAAAAAAAAAAAAAAAAAAAAAAAAAAAAAAAAAAAAAAAAAAAAAAAAAAAAAAAAAAAAAAAAAAAAAAAABmI82tTQviPwAAAAAAAAAAAAAAAAAAAAA=",
          "dtype": "f8"
         }
        },
        {
         "mode": "lines",
         "name": "source_city_Delhi",
         "type": "scatter",
         "x": {
          "bdata": "U2Z8oiRm1EDNDIVrNeTSQAHTEs/LftFA3s4GMMwz0EC+sbqkhQLOQCQaYtHBystA/1gAs/O8yUAR5ipwAdbHQCbUhtoLE8ZAvOvSGGpxxEC4bfmipe7CQFaNGYp2iMFA517rBsA8wECzZ5aSGhO+QLhvNwgd2rtAeH0SYizLuUBZHBoQLeO3QAgju00+H7ZAa4CBybV8tEDHBPKeG/myQPnahZwmkrFA4FYn0LhFsEDMYPSpuCOuQLiuN7uA6atAfa/H7GzZqUCipAH3X/CnQFa0OX53K6ZARRb5tweIpEDpqJ5ilwOjQNZHSwncm6FAPmx2jrZOoEAVnOTvXzSeQNoOE+/s+JtAgnN3V7XnmUBD3uYomv2XQGrUu2+3N5ZA7IWs51+TlEDw8zDxGA6TQE8BX9OWpZFAG9eVRLlXkECv5HlpEEWOQOxefKhhCIxAJ7R7pgX2iUBFYdGp2wqIQFve/CX+Q4ZAvo8QXL6ehEBuQ9xNoBiDQBrXt/1Wr4FADlNE9cBggEBS08kbylV+QGwGKezeF3xAecMw3l0EekDH/8p9JBh4QBY9uqRLUHZAC92bGCOqdECludV7LSNzQD88ToscuXFA+R9Co81pcEDZz+wLjWZuQOMG0b5kJ2xAVFz1Ar4SakAix9+odCVoQIhss++fXGZADAHHII61ZECSPlR+wC1jQPdHHH/nwmFAzwJRUd9yYEAUE/4+WXdeQDv9LiXzNlxAzaMqGSYhWkASAR4vzDJYQNb6qQr7aFZA5HkMeP/AVEDpgJBYWThTQIO2Hdy3zFFAj0Y0AvZ7UEDppxu6LohOQGojACSKRkxAbyo0JZYvSkAgNZYUK0BIQHCJYflcdUZA1bHoIXfMREAN98QN+EJDQDXqT6WN1kFA9bywuBGFQEAkbWaCDZk+QKFRBMApVjxAhO13Kw4+OkCrKVtdkU04QCbOn7/FgTZAIwDaIfXXNED53y2hnE0zQDXssd1o4DFAc7+MdzKOMEAMFwKd9akuQPj//f3RZSxAlFheMI5MKkBc5YEN/1ooQH2ULGE1jiZAUapge3njJEA=",
          "dtype": "f8"
         },
         "y": {
          "bdata": "AAAAAAAAAAAAAAAAAAAAAAAAAAAAAAAAAAAAAAAAAAAAAAAAAAAAAAAAAAAAAAAAAAAAAAAAAAAAAAAAAAAAAAAAAAAAAAAAAAAAAAAAAAAAAAAAAAAAAAAAAAAAAAAAAAAAAAAAAAAAAAAAAAAAAAAAAAAAAAAAAAAAAAAAAAAAAAAAAAAAAAAAAAAAAAAAAAAAAAAAAAAAAAAAAAAAAAAAAAAAAAAAAAAAAAAAAAAAAAAAAAAAAAAAAAAAAAAAAAAAAAAAAAAAAAAAAAAAAAAAAAAAAAAAAAAAAAAAAAAAAAAAAAAAAAAAAAAAAAAAAAAAAAAAAAAAAAAAAAAAAAAAAAAAAAAAAAAAAAAAAAAAAAAAAAAAAAAAAAAAAAAAAAAAAAAAAAAAAAAAAAAAgAAAAAAAAACAAAAAAAAAAIAAAAAAAAAAgAAAAAAAAACAAAAAAAAAAIAAAAAAAAAAgAAAAAAAAACAAAAAAAAAAIAAAAAAAAAAgAAAAAAAAACAAAAAAAAAAIAAAAAAAAAAgAAAAAAAAACAAAAAAAAAAIAAAAAAAAAAgAAAAAAAAACAAAAAAAAAAIAAAAAAAAAAgAAAAAAAAACAAAAAAAAAAIAAAAAAAAAAgAAAAAAAAACAAAAAAAAAAIAAAAAAAAAAgAAAAAAAAACAAAAAAAAAAIAAAAAAAAAAgAAAAAAAAACAAAAAAAAAAICt8jUSLS9AwI+cG8U5FF3AJmQNZYBmasCsCbwT4ptywBNMT6LHpHfANomQEDBMfMCmni7my1CAwAVZu6VsUYLAOmVEjrkthMCIo0XpW+WFwBUj4FH0fYfALJFRIiP0iMDK6JwY2z+KwEQpMg03bIvAKo3nMz+DjMBRDQp6l4WNwOuIS0dZd47A9b6vNQ1Tj8BDdW2r7BaQwCeYU87Gj5DADPMOMD3ikMBWEel6ezORwKqzwpQjfJHAXsa6jF+/kcB2Z4FIvvaRwJk+79kHJpLATZy+LGtSksBQLJK6QHuSwMrU1TUEoZLAcW9kZVvEksC0RWKMW+SSwAmB7ne4EpPAz/uzN0xVk8A=",
          "dtype": "f8"
         }
        },
        {
         "mode": "lines",
         "name": "source_city_Hyderabad",
         "type": "scatter",
         "x": {
          "bdata": "U2Z8oiRm1EDNDIVrNeTSQAHTEs/LftFA3s4GMMwz0EC+sbqkhQLOQCQaYtHBystA/1gAs/O8yUAR5ipwAdbHQCbUhtoLE8ZAvOvSGGpxxEC4bfmipe7CQFaNGYp2iMFA517rBsA8wECzZ5aSGhO+QLhvNwgd2rtAeH0SYizLuUBZHBoQLeO3QAgju00+H7ZAa4CBybV8tEDHBPKeG/myQPnahZwmkrFA4FYn0LhFsEDMYPSpuCOuQLiuN7uA6atAfa/H7GzZqUCipAH3X/CnQFa0OX53K6ZARRb5tweIpEDpqJ5ilwOjQNZHSwncm6FAPmx2jrZOoEAVnOTvXzSeQNoOE+/s+JtAgnN3V7XnmUBD3uYomv2XQGrUu2+3N5ZA7IWs51+TlEDw8zDxGA6TQE8BX9OWpZFAG9eVRLlXkECv5HlpEEWOQOxefKhhCIxAJ7R7pgX2iUBFYdGp2wqIQFve/CX+Q4ZAvo8QXL6ehEBuQ9xNoBiDQBrXt/1Wr4FADlNE9cBggEBS08kbylV+QGwGKezeF3xAecMw3l0EekDH/8p9JBh4QBY9uqRLUHZAC92bGCOqdECludV7LSNzQD88ToscuXFA+R9Co81pcEDZz+wLjWZuQOMG0b5kJ2xAVFz1Ar4SakAix9+odCVoQIhss++fXGZADAHHII61ZECSPlR+wC1jQPdHHH/nwmFAzwJRUd9yYEAUE/4+WXdeQDv9LiXzNlxAzaMqGSYhWkASAR4vzDJYQNb6qQr7aFZA5HkMeP/AVEDpgJBYWThTQIO2Hdy3zFFAj0Y0AvZ7UEDppxu6LohOQGojACSKRkxAbyo0JZYvSkAgNZYUK0BIQHCJYflcdUZA1bHoIXfMREAN98QN+EJDQDXqT6WN1kFA9bywuBGFQEAkbWaCDZk+QKFRBMApVjxAhO13Kw4+OkCrKVtdkU04QCbOn7/FgTZAIwDaIfXXNED53y2hnE0zQDXssd1o4DFAc7+MdzKOMEAMFwKd9akuQPj//f3RZSxAlFheMI5MKkBc5YEN/1ooQH2ULGE1jiZAUapge3njJEA=",
          "dtype": "f8"
         },
         "y": {
          "bdata": "AAAAAAAAAAAAAAAAAAAAAAAAAAAAAAAAAAAAAAAAAAAAAAAAAAAAAAAAAAAAAAAAAAAAAAAAAAAAAAAAAAAAAAAAAAAAAAAAAAAAAAAAAAAAAAAAAAAAAAAAAAAAAAAAAAAAAAAAAAAAAAAAAAAAAAAAAAAAAAAAAAAAAAAAAAAAAAAAAAAAAAAAAAAAAAAAAAAAAAAAAAAAAAAAAAAAAAAAAAAAAAAAAAAAAAAAAAAAAAAAAAAAAAAAAAAAAAAAAAAAAAAAAAAAAAAAAAAAAAAAAAAAAAAAAAAAAAAAAAAAAAAAAAAAAAAAAAAAAAAAAAAAAAAAAAAAAAAAAAAAAAAAAAAAAAAAAAAAAAAAAAAAAAAAAAAAAAAAAAAAAAAAAAAAAAAAAAAAAAAAAAAAAAAAAAAAAAAAAAAAAAAAAAAAAAAAAAAAgAAAAAAAAACAAAAAAAAAAIAAAAAAAAAAgAAAAAAAAACAAAAAAAAAAIAAAAAAAAAAgAAAAAAAAACAAAAAAAAAAIAAAAAAAAAAgAAAAAAAAACAAAAAAAAAAIAAAAAAAAAAgAAAAAAAAACAAAAAAAAAAIAAAAAAAAAAgAAAAAAAAACAAAAAAAAAAIAAAAAAAAAAgAAAAAAAAACAAAAAAAAAAIAAAAAAAAAAgAAAAAAAAACAAAAAAAAAAIAAAAAAAAAAgAAAAAAAAACAAAAAAAAAAIAAAAAAAAAAgHl9TTExSEbANsd6X29LZMDIwMRneAJxwJbvMeRAZnfASk7bBbNPfcCfunto6F2BwH3P0qTb3IPAvEYX26IthsBewmcxn1GIwDxA6IIVTorAf53/7GYkjMBwoz08vdSNwEohMJVYYI/A3z8Z3KpnkMDoMH2PqxGRwKjw5cD/qpHA7C+2seMvksBuMrKYi7GSwBBi+If7NpPA1UNUEcKVk8DyoKqu/fKTwOsR+gyfR5TAI3GBqFWXlMCqjCrymeKUwP0UJVXtKpXA8lEGJUZulcAnex+ifKyVwHLmWkMS5pXAbpmMoZwblsC+z0BrhEyWwFSa5GM7ipbApaNtfavVlsA=",
          "dtype": "f8"
         }
        },
        {
         "mode": "lines",
         "name": "source_city_Kolkata",
         "type": "scatter",
         "x": {
          "bdata": "U2Z8oiRm1EDNDIVrNeTSQAHTEs/LftFA3s4GMMwz0EC+sbqkhQLOQCQaYtHBystA/1gAs/O8yUAR5ipwAdbHQCbUhtoLE8ZAvOvSGGpxxEC4bfmipe7CQFaNGYp2iMFA517rBsA8wECzZ5aSGhO+QLhvNwgd2rtAeH0SYizLuUBZHBoQLeO3QAgju00+H7ZAa4CBybV8tEDHBPKeG/myQPnahZwmkrFA4FYn0LhFsEDMYPSpuCOuQLiuN7uA6atAfa/H7GzZqUCipAH3X/CnQFa0OX53K6ZARRb5tweIpEDpqJ5ilwOjQNZHSwncm6FAPmx2jrZOoEAVnOTvXzSeQNoOE+/s+JtAgnN3V7XnmUBD3uYomv2XQGrUu2+3N5ZA7IWs51+TlEDw8zDxGA6TQE8BX9OWpZFAG9eVRLlXkECv5HlpEEWOQOxefKhhCIxAJ7R7pgX2iUBFYdGp2wqIQFve/CX+Q4ZAvo8QXL6ehEBuQ9xNoBiDQBrXt/1Wr4FADlNE9cBggEBS08kbylV+QGwGKezeF3xAecMw3l0EekDH/8p9JBh4QBY9uqRLUHZAC92bGCOqdECludV7LSNzQD88ToscuXFA+R9Co81pcEDZz+wLjWZuQOMG0b5kJ2xAVFz1Ar4SakAix9+odCVoQIhss++fXGZADAHHII61ZECSPlR+wC1jQPdHHH/nwmFAzwJRUd9yYEAUE/4+WXdeQDv9LiXzNlxAzaMqGSYhWkASAR4vzDJYQNb6qQr7aFZA5HkMeP/AVEDpgJBYWThTQIO2Hdy3zFFAj0Y0AvZ7UEDppxu6LohOQGojACSKRkxAbyo0JZYvSkAgNZYUK0BIQHCJYflcdUZA1bHoIXfMREAN98QN+EJDQDXqT6WN1kFA9bywuBGFQEAkbWaCDZk+QKFRBMApVjxAhO13Kw4+OkCrKVtdkU04QCbOn7/FgTZAIwDaIfXXNED53y2hnE0zQDXssd1o4DFAc7+MdzKOMEAMFwKd9akuQPj//f3RZSxAlFheMI5MKkBc5YEN/1ooQH2ULGE1jiZAUapge3njJEA=",
          "dtype": "f8"
         },
         "y": {
          "bdata": "AAAAAAAAAAAAAAAAAAAAAAAAAAAAAAAAAAAAAAAAAAAAAAAAAAAAAAAAAAAAAAAAAAAAAAAAAAAAAAAAAAAAAAAAAAAAAAAAAAAAAAAAAAAAAAAAAAAAAAAAAAAAAAAAAAAAAAAAAAAAAAAAAAAAAAAAAAAAAAAAAAAAAAAAAAAAAAAAAAAAAAAAAAAAAAAAAAAAAAAAAAAAAAAAAAAAAAAAAAAAAAAAAAAAAAAAAAAAAAAAAAAAAAAAAAAAAAAAAAAAAAAAAAAAAAAAAAAAAAAAAAAAAAAAAAAAAAAAAAAAAAAAAAAAAAAAAAAAAAAAAAAAAAAAAAAAAAAAAAAAAAAAAAAAAAAAAAAAAAAAAAAAAAAAAAAAAAAAAAAAAAAAAAAAAAAAAAAAAAAAAAAAAAAAAAAAAAAAAAAAAAAAAAAAAAAAAAAAAAAAAAAAAAAAAAAAAAAAAAAAAAAAAAAAAAAAAAAAAAAAAAAAAAAAAAAAAAAAAAAAAAAAAAAAAAAAAAAAAAAAAAAAAAAAAAAAAAAAAAAAAAAAAAAAAAAAAAAAAAAAAAAAAAAAAAAAAAAAAAAAAAAAAAAAAAAAAAAAAG+gaw6HK2FAgq4ekvQWc0ALCGmO9tB8QH75CS126YJA2/c5cBIWh0DyxqS17/KKQL4+y64ohY5AnupxiUDpkEBIb5aavnGSQJ12gmgQ25NAdXAtFFYplUC/PDsvSz+WQK4jKaQU8JZAhXe1+aFLl0CT5EFPWo+XQOfZwTHEypdAatdCAXwAmEDz0su/HCqYQCw3c9rFTphAdGAL0wRwmEB68PpDeY+YQLLsoM3xq5hAWQuFl2PGmEAzKm1AR+CYQOFXL9TP+5hArMy02ugUmUA1oDFRDyyZQEdl/NKBQplAky5rgEBemUCkqH5cSm+ZQM2p+STVa5lAUszhIomDmUCU+8cN0pSZQH+CEHDlpplAo5ngNMy2mUBZayflF8eZQOhY7ylN1ZlADP9mYv/hmUBMyZlB9u2ZQJu7aBEV+ZlA03+xZxoDmkArcwXlGw2aQCJezV6vBZpAeo0C0qzpmUA=",
          "dtype": "f8"
         }
        },
        {
         "mode": "lines",
         "name": "source_city_Mumbai",
         "type": "scatter",
         "x": {
          "bdata": "U2Z8oiRm1EDNDIVrNeTSQAHTEs/LftFA3s4GMMwz0EC+sbqkhQLOQCQaYtHBystA/1gAs/O8yUAR5ipwAdbHQCbUhtoLE8ZAvOvSGGpxxEC4bfmipe7CQFaNGYp2iMFA517rBsA8wECzZ5aSGhO+QLhvNwgd2rtAeH0SYizLuUBZHBoQLeO3QAgju00+H7ZAa4CBybV8tEDHBPKeG/myQPnahZwmkrFA4FYn0LhFsEDMYPSpuCOuQLiuN7uA6atAfa/H7GzZqUCipAH3X/CnQFa0OX53K6ZARRb5tweIpEDpqJ5ilwOjQNZHSwncm6FAPmx2jrZOoEAVnOTvXzSeQNoOE+/s+JtAgnN3V7XnmUBD3uYomv2XQGrUu2+3N5ZA7IWs51+TlEDw8zDxGA6TQE8BX9OWpZFAG9eVRLlXkECv5HlpEEWOQOxefKhhCIxAJ7R7pgX2iUBFYdGp2wqIQFve/CX+Q4ZAvo8QXL6ehEBuQ9xNoBiDQBrXt/1Wr4FADlNE9cBggEBS08kbylV+QGwGKezeF3xAecMw3l0EekDH/8p9JBh4QBY9uqRLUHZAC92bGCOqdECludV7LSNzQD88ToscuXFA+R9Co81pcEDZz+wLjWZuQOMG0b5kJ2xAVFz1Ar4SakAix9+odCVoQIhss++fXGZADAHHII61ZECSPlR+wC1jQPdHHH/nwmFAzwJRUd9yYEAUE/4+WXdeQDv9LiXzNlxAzaMqGSYhWkASAR4vzDJYQNb6qQr7aFZA5HkMeP/AVEDpgJBYWThTQIO2Hdy3zFFAj0Y0AvZ7UEDppxu6LohOQGojACSKRkxAbyo0JZYvSkAgNZYUK0BIQHCJYflcdUZA1bHoIXfMREAN98QN+EJDQDXqT6WN1kFA9bywuBGFQEAkbWaCDZk+QKFRBMApVjxAhO13Kw4+OkCrKVtdkU04QCbOn7/FgTZAIwDaIfXXNED53y2hnE0zQDXssd1o4DFAc7+MdzKOMEAMFwKd9akuQPj//f3RZSxAlFheMI5MKkBc5YEN/1ooQH2ULGE1jiZAUapge3njJEA=",
          "dtype": "f8"
         },
         "y": {
          "bdata": "AAAAAAAAAAAAAAAAAAAAAAAAAAAAAAAAAAAAAAAAAAAAAAAAAAAAAAAAAAAAAAAAAAAAAAAAAAAAAAAAAAAAAAAAAAAAAAAAAAAAAAAAAAAAAAAAAAAAAAAAAAAAAAAAAAAAAAAAAAAAAAAAAAAAAAAAAAAAAAAAAAAAAAAAAAAAAAAAAAAAAAAAAAAAAAAAAAAAAAAAAAAAAAAAAAAAAAAAAAAAAAAAAAAAAAAAAAAAAAAAAAAAAAAAAAAAAAAAAAAAAAAAAAAAAAAAAAAAAAAAAAAAAAAAAAAAAAAAAAAAAAAAAAAAAAAAAAAAAAAAAAAAAAAAAAAAAAAAAAAAAAAAAAAAAAAAAAAAAAAAAAAAAAAAAAAAAAAAAAAAAAAAAAAAAAAAAAAAAAAAAAAAAAAAAAAAAAAAAAAAAAAAAAAAAAAAAAAAAAAAAAAAAAAAAAAAAAAAAAAAAAAAAAAAAAAAAAAAAAAAAAAAAAAAAAAAAAAAAAAAAAAAAAAAAAAAAAAAAAAAAAAAAAAAAAAAAAAAAAAAAAAAAAAAAAAAAAAAAAAAAAAAAAAAAAAAAAAAAAAAAAAAAAAAAAAAAAAAAAAAAAAAAAAAAAAAAAAAAAAAAAAAAAAAAAAAAAAAAAAAAAAAAAAAAAAAAAAAAAAAAAAAAAAAAAAAAAAAAAAAAAAAAAAAAAAAAAAAAAAAAAAAAAAAAAAAAAAAAAAAAAAAAAAAAAAAAAAAAAAAAAAAAAAAAAAAAAAAAAAAAAAAAAAAAAAAAAAAAAAAAAAAAAAAAAAAAAAAAAAAAAAAAAAAAAAAAAAAAAAAAAAAAAAAAAAAAAAAAAAAAAAAAAAAAAAAAAAAAAAAAAAAAAAAAAAAAAAAAAAAAAAAAAAAAAAAAAAAAAAAAAAAAAAAAAAAAAAAAAAAAAAAAACAAAAAAAAAAIAAAAAAAAAAgAAAAAAAAACAAAAAAAAAAIAAAAAAAAAAgAAAAAAAAACAAAAAAAAAAIAAAAAAAAAAgAAAAAAAAACAAAAAAAAAAIAAAAAAAAAAgCDro+NbuyPAKfp0CC63OcA=",
          "dtype": "f8"
         }
        },
        {
         "mode": "lines",
         "name": "departure_time_Early_Morning",
         "type": "scatter",
         "x": {
          "bdata": "U2Z8oiRm1EDNDIVrNeTSQAHTEs/LftFA3s4GMMwz0EC+sbqkhQLOQCQaYtHBystA/1gAs/O8yUAR5ipwAdbHQCbUhtoLE8ZAvOvSGGpxxEC4bfmipe7CQFaNGYp2iMFA517rBsA8wECzZ5aSGhO+QLhvNwgd2rtAeH0SYizLuUBZHBoQLeO3QAgju00+H7ZAa4CBybV8tEDHBPKeG/myQPnahZwmkrFA4FYn0LhFsEDMYPSpuCOuQLiuN7uA6atAfa/H7GzZqUCipAH3X/CnQFa0OX53K6ZARRb5tweIpEDpqJ5ilwOjQNZHSwncm6FAPmx2jrZOoEAVnOTvXzSeQNoOE+/s+JtAgnN3V7XnmUBD3uYomv2XQGrUu2+3N5ZA7IWs51+TlEDw8zDxGA6TQE8BX9OWpZFAG9eVRLlXkECv5HlpEEWOQOxefKhhCIxAJ7R7pgX2iUBFYdGp2wqIQFve/CX+Q4ZAvo8QXL6ehEBuQ9xNoBiDQBrXt/1Wr4FADlNE9cBggEBS08kbylV+QGwGKezeF3xAecMw3l0EekDH/8p9JBh4QBY9uqRLUHZAC92bGCOqdECludV7LSNzQD88ToscuXFA+R9Co81pcEDZz+wLjWZuQOMG0b5kJ2xAVFz1Ar4SakAix9+odCVoQIhss++fXGZADAHHII61ZECSPlR+wC1jQPdHHH/nwmFAzwJRUd9yYEAUE/4+WXdeQDv9LiXzNlxAzaMqGSYhWkASAR4vzDJYQNb6qQr7aFZA5HkMeP/AVEDpgJBYWThTQIO2Hdy3zFFAj0Y0AvZ7UEDppxu6LohOQGojACSKRkxAbyo0JZYvSkAgNZYUK0BIQHCJYflcdUZA1bHoIXfMREAN98QN+EJDQDXqT6WN1kFA9bywuBGFQEAkbWaCDZk+QKFRBMApVjxAhO13Kw4+OkCrKVtdkU04QCbOn7/FgTZAIwDaIfXXNED53y2hnE0zQDXssd1o4DFAc7+MdzKOMEAMFwKd9akuQPj//f3RZSxAlFheMI5MKkBc5YEN/1ooQH2ULGE1jiZAUapge3njJEA=",
          "dtype": "f8"
         },
         "y": {
          "bdata": "AAAAAAAAAAAAAAAAAAAAAAAAAAAAAAAAAAAAAAAAAAAAAAAAAAAAAAAAAAAAAAAAAAAAAAAAAAAAAAAAAAAAAAAAAAAAAAAAAAAAAAAAAAAAAAAAAAAAAAAAAAAAAAAAAAAAAAAAAAAAAAAAAAAAAAAAAAAAAAAAAAAAAAAAAAAAAAAAAAAAAAAAAAAAAAAAAAAAAAAAAAAAAAAAAAAAAAAAAAAAAAAAAAAAAAAAAAAAAAAAAAAAAAAAAAAAAAAAAAAAAAAAAAAAAAAAAAAAAAAAAAAAAAAAAAAAAAAAAAAAAAAAAAAAAAAAAAAAAAAAAAAAAAAAAAAAAAAAAAAAAAAAAAAAAAAAAAAAAAAAAAAAAAAAAAAAAAAAAAAAAAAAAAAAAAAAAAAAAAAAAAAAAAAAAAAAAAAAAAAAAAAAAAAAAAAAAAAAAAAAAAAAAAAAAAAAAAAAAAAAAAAAAAAAAAAAAAAAAAAAAAAAAAAAAAAAAAAAAAAAAAAAAAAAAAAAAAAAAAAAAAAAAAAAAAAAAAAAAAAAAAAAAAAAAAAAAAAAAAAAAAAAAAAAAAAAAAAAAAAAAAAAAAAAAAAAAAAAAAAAAAAAAAAAAAAAAAAAAAAAAAAAAAAAAAAAAAAAAAAAAAAAAAAAAAAAAAAAAAAAAAAAAAAAAAAAAAAAAAAAAAAAAAAAAAAAAAAAAAAAAAAAAAAAAAAAAAAAAAAAAAAAAAAAAAAAAAAAAAAAAAAAAAAAAAAAAAAAAAAAAAAAAAAAAAAAAAAAAAAAAAAAAAAAAAAAAAAAAAAAAAAAAAAAAAAAAAAAAAAAAAAAAAAAAAAAAAAAAAAAAAAlID2nRbUgQBuaUdE2szxAuNV5EmW8R0Cel5XQCzNQQMsJ+Sw5i1VAIdPnesuFXECEPZ6piyhhQMWzxa108GJA+5NmbYt1ZUBtCDbO0ZRnQByPpOS1q2lAftRR99e+a0A2gln5xy5vQEAeuGD3AnJAPAQofVc7dECguYa/+kt2QE0FHPT7NXhAt4DRDLL4eUBDMMnCUZt7QBicYUJ3In1ARmfQEHIcfkA=",
          "dtype": "f8"
         }
        },
        {
         "mode": "lines",
         "name": "departure_time_Evening",
         "type": "scatter",
         "x": {
          "bdata": "U2Z8oiRm1EDNDIVrNeTSQAHTEs/LftFA3s4GMMwz0EC+sbqkhQLOQCQaYtHBystA/1gAs/O8yUAR5ipwAdbHQCbUhtoLE8ZAvOvSGGpxxEC4bfmipe7CQFaNGYp2iMFA517rBsA8wECzZ5aSGhO+QLhvNwgd2rtAeH0SYizLuUBZHBoQLeO3QAgju00+H7ZAa4CBybV8tEDHBPKeG/myQPnahZwmkrFA4FYn0LhFsEDMYPSpuCOuQLiuN7uA6atAfa/H7GzZqUCipAH3X/CnQFa0OX53K6ZARRb5tweIpEDpqJ5ilwOjQNZHSwncm6FAPmx2jrZOoEAVnOTvXzSeQNoOE+/s+JtAgnN3V7XnmUBD3uYomv2XQGrUu2+3N5ZA7IWs51+TlEDw8zDxGA6TQE8BX9OWpZFAG9eVRLlXkECv5HlpEEWOQOxefKhhCIxAJ7R7pgX2iUBFYdGp2wqIQFve/CX+Q4ZAvo8QXL6ehEBuQ9xNoBiDQBrXt/1Wr4FADlNE9cBggEBS08kbylV+QGwGKezeF3xAecMw3l0EekDH/8p9JBh4QBY9uqRLUHZAC92bGCOqdECludV7LSNzQD88ToscuXFA+R9Co81pcEDZz+wLjWZuQOMG0b5kJ2xAVFz1Ar4SakAix9+odCVoQIhss++fXGZADAHHII61ZECSPlR+wC1jQPdHHH/nwmFAzwJRUd9yYEAUE/4+WXdeQDv9LiXzNlxAzaMqGSYhWkASAR4vzDJYQNb6qQr7aFZA5HkMeP/AVEDpgJBYWThTQIO2Hdy3zFFAj0Y0AvZ7UEDppxu6LohOQGojACSKRkxAbyo0JZYvSkAgNZYUK0BIQHCJYflcdUZA1bHoIXfMREAN98QN+EJDQDXqT6WN1kFA9bywuBGFQEAkbWaCDZk+QKFRBMApVjxAhO13Kw4+OkCrKVtdkU04QCbOn7/FgTZAIwDaIfXXNED53y2hnE0zQDXssd1o4DFAc7+MdzKOMEAMFwKd9akuQPj//f3RZSxAlFheMI5MKkBc5YEN/1ooQH2ULGE1jiZAUapge3njJEA=",
          "dtype": "f8"
         },
         "y": {
          "bdata": "AAAAAAAAAAAAAAAAAAAAAAAAAAAAAAAAAAAAAAAAAAAAAAAAAAAAAAAAAAAAAAAAAAAAAAAAAAAAAAAAAAAAAAAAAAAAAAAAAAAAAAAAAAAAAAAAAAAAAAAAAAAAAAAAAAAAAAAAAAAAAAAAAAAAAAAAAAAAAAAAAAAAAAAAAAAAAAAAAAAAAAAAAAAAAAAAAAAAAAAAAAAAAAAAAAAAAAAAAAAAAAAAAAAAAAAAAAAAAAAAAAAAAAAAAAAAAAAAAAAAAAAAAAAAAAAAAAAAAAAAAAAAAAAAAAAAAAAAAAAAAAAAAAAAAAAAAAAAAAAAAAAAAAAAAAAAAAAAAAAAAAAAAAAAAAAAAAAAAAAAAAAAAAAAAAAAAAAAAAAAAAAAAAAAAAAAAAAAAAAAAAAAAAAAAAAAAAAAAAAAAAAAAAAAAAAAAAAAAAAAAAAAAAAAAAAAAAAAAAAAAAAAAAAAAAAAAAAAAAAAAAAAAAAAAAAAAAAAAAAAAAAAAAAAAAAAAAAAAAAAAAAAAAAAAAAAAAAAAAAAAAAAAAAAAAAAAAAAAAAAAAAAAAAAAAAAAAAAAAAAAAAAAAAAAAAAAAAAAAAAAAAAAAAAAAAAAAAAAAAAAAAAAAAAAAAAAAAAAAAAAAAAAAAAAAAAAAAAAAAAAAAAAAAAAAAAAAAAAAAAAAAAAAAAAAAAAAAAAAAAAAAAAAAAAAAAAAAAAAAAAAAAAAAAAAAAAAAAAAAAAAAAAAAAAAAAAAAAAAAAAAAAAAAAAAAAAAAAAAAAAAAAAAAAAAAAAAAAAAAAAAAAAAAAAAAAAAAAAAAAAAAAAAAAAAAAAAAAAAAAAAAAAAAAAAAAAAAAAAAAAAAAAAAAAAAAAAAAAAAAAAAAANVurFWXWCtAzGCcr1BtRkDs/mR4Jc1RQO+KvwaIi1ZAYF53PGrNXEDnShJHUR1hQCaTuTNzsmNAjTMgT6r3ZUCYsLz/SxBpQMEr7GUrqW1ABbxBAAnxcEANCq/xWudyQGQGVOXmuHRAu10JOJRldkDbDS2+8fN3QA17aewAaHlA+hoMq0xoekA=",
          "dtype": "f8"
         }
        },
        {
         "mode": "lines",
         "name": "departure_time_Late_Night",
         "type": "scatter",
         "x": {
          "bdata": "U2Z8oiRm1EDNDIVrNeTSQAHTEs/LftFA3s4GMMwz0EC+sbqkhQLOQCQaYtHBystA/1gAs/O8yUAR5ipwAdbHQCbUhtoLE8ZAvOvSGGpxxEC4bfmipe7CQFaNGYp2iMFA517rBsA8wECzZ5aSGhO+QLhvNwgd2rtAeH0SYizLuUBZHBoQLeO3QAgju00+H7ZAa4CBybV8tEDHBPKeG/myQPnahZwmkrFA4FYn0LhFsEDMYPSpuCOuQLiuN7uA6atAfa/H7GzZqUCipAH3X/CnQFa0OX53K6ZARRb5tweIpEDpqJ5ilwOjQNZHSwncm6FAPmx2jrZOoEAVnOTvXzSeQNoOE+/s+JtAgnN3V7XnmUBD3uYomv2XQGrUu2+3N5ZA7IWs51+TlEDw8zDxGA6TQE8BX9OWpZFAG9eVRLlXkECv5HlpEEWOQOxefKhhCIxAJ7R7pgX2iUBFYdGp2wqIQFve/CX+Q4ZAvo8QXL6ehEBuQ9xNoBiDQBrXt/1Wr4FADlNE9cBggEBS08kbylV+QGwGKezeF3xAecMw3l0EekDH/8p9JBh4QBY9uqRLUHZAC92bGCOqdECludV7LSNzQD88ToscuXFA+R9Co81pcEDZz+wLjWZuQOMG0b5kJ2xAVFz1Ar4SakAix9+odCVoQIhss++fXGZADAHHII61ZECSPlR+wC1jQPdHHH/nwmFAzwJRUd9yYEAUE/4+WXdeQDv9LiXzNlxAzaMqGSYhWkASAR4vzDJYQNb6qQr7aFZA5HkMeP/AVEDpgJBYWThTQIO2Hdy3zFFAj0Y0AvZ7UEDppxu6LohOQGojACSKRkxAbyo0JZYvSkAgNZYUK0BIQHCJYflcdUZA1bHoIXfMREAN98QN+EJDQDXqT6WN1kFA9bywuBGFQEAkbWaCDZk+QKFRBMApVjxAhO13Kw4+OkCrKVtdkU04QCbOn7/FgTZAIwDaIfXXNED53y2hnE0zQDXssd1o4DFAc7+MdzKOMEAMFwKd9akuQPj//f3RZSxAlFheMI5MKkBc5YEN/1ooQH2ULGE1jiZAUapge3njJEA=",
          "dtype": "f8"
         },
         "y": {
          "bdata": "AAAAAAAAAAAAAAAAAAAAAAAAAAAAAAAAAAAAAAAAAAAAAAAAAAAAAAAAAAAAAAAAAAAAAAAAAAAAAAAAAAAAAAAAAAAAAACAAAAAAAAAAIAAAAAAAAAAgAAAAAAAAACAAAAAAAAAAIAAAAAAAAAAgAAAAAAAAACAAAAAAAAAAIAAAAAAAAAAgAAAAAAAAACAAAAAAAAAAIAAAAAAAAAAgAAAAAAAAACAAAAAAAAAAIAAAAAAAAAAgAAAAAAAAACAAAAAAAAAAIAAAAAAAAAAgAAAAAAAAACAAAAAAAAAAIAAAAAAAAAAgAAAAAAAAACAAAAAAAAAAIAAAAAAAAAAgAAAAAAAAACAAAAAAAAAAIAAAAAAAAAAgAAAAAAAAACAAAAAAAAAAIAAAAAAAAAAgAAAAAAAAACAAAAAAAAAAIAAAAAAAAAAgAAAAAAAAACAAAAAAAAAAIAAAAAAAAAAgAAAAAAAAACAAAAAAAAAAIAAAAAAAAAAgAAAAAAAAACAAAAAAAAAAIAAAAAAAAAAgAAAAAAAAACAAAAAAAAAAAAAAAAAAAAAAAAAAAAAAAAAAAAAAAAAAAAAAAAAAAAAAAAAAAAAAAAAAAAAAAAAAAAAAAAAAAAAAAAAAAAAAAAAAAAAAAAAAAAAAAAAAAAAAAAAAAAAAAAAAAAAAAAAAAAAAAAAAAAAAAAAAAAAAAAAAAAAAAAAAAAAAAAAAAAAAAAAAAAAAAAAAAAAAAAAAAAAAAAAAAAAAAAAAAAAAAAAAAAAAAAAAAAAAAAAAAAAAAAAAAAAAAAAAAAAAAAAAAAAAAAAAAAAAAAAAAAAAAAAAAAAAAAAAAAAAAAAAAAAAAAAAAAAAAAAAAAAAAAAAAAAAAAAAAAAAAAAAAAAAAAAAAAAAAAAAAAAAAAAAAAAAAAAAAAAAAAAAAAAAAAAAAAAAAAAAAAAAAAAAAAAAAAAAAAAAAAAAAAAAAAAAAAAAAAAAAAAAAAAAAAAAAAAAAAAAAAAAAAAAAAAAAAAAAAAAAAAAAAAAAAAAAAAAAAAAAAAAAAAAAAAAAAAAAAAAAA=",
          "dtype": "f8"
         }
        },
        {
         "mode": "lines",
         "name": "departure_time_Morning",
         "type": "scatter",
         "x": {
          "bdata": "U2Z8oiRm1EDNDIVrNeTSQAHTEs/LftFA3s4GMMwz0EC+sbqkhQLOQCQaYtHBystA/1gAs/O8yUAR5ipwAdbHQCbUhtoLE8ZAvOvSGGpxxEC4bfmipe7CQFaNGYp2iMFA517rBsA8wECzZ5aSGhO+QLhvNwgd2rtAeH0SYizLuUBZHBoQLeO3QAgju00+H7ZAa4CBybV8tEDHBPKeG/myQPnahZwmkrFA4FYn0LhFsEDMYPSpuCOuQLiuN7uA6atAfa/H7GzZqUCipAH3X/CnQFa0OX53K6ZARRb5tweIpEDpqJ5ilwOjQNZHSwncm6FAPmx2jrZOoEAVnOTvXzSeQNoOE+/s+JtAgnN3V7XnmUBD3uYomv2XQGrUu2+3N5ZA7IWs51+TlEDw8zDxGA6TQE8BX9OWpZFAG9eVRLlXkECv5HlpEEWOQOxefKhhCIxAJ7R7pgX2iUBFYdGp2wqIQFve/CX+Q4ZAvo8QXL6ehEBuQ9xNoBiDQBrXt/1Wr4FADlNE9cBggEBS08kbylV+QGwGKezeF3xAecMw3l0EekDH/8p9JBh4QBY9uqRLUHZAC92bGCOqdECludV7LSNzQD88ToscuXFA+R9Co81pcEDZz+wLjWZuQOMG0b5kJ2xAVFz1Ar4SakAix9+odCVoQIhss++fXGZADAHHII61ZECSPlR+wC1jQPdHHH/nwmFAzwJRUd9yYEAUE/4+WXdeQDv9LiXzNlxAzaMqGSYhWkASAR4vzDJYQNb6qQr7aFZA5HkMeP/AVEDpgJBYWThTQIO2Hdy3zFFAj0Y0AvZ7UEDppxu6LohOQGojACSKRkxAbyo0JZYvSkAgNZYUK0BIQHCJYflcdUZA1bHoIXfMREAN98QN+EJDQDXqT6WN1kFA9bywuBGFQEAkbWaCDZk+QKFRBMApVjxAhO13Kw4+OkCrKVtdkU04QCbOn7/FgTZAIwDaIfXXNED53y2hnE0zQDXssd1o4DFAc7+MdzKOMEAMFwKd9akuQPj//f3RZSxAlFheMI5MKkBc5YEN/1ooQH2ULGE1jiZAUapge3njJEA=",
          "dtype": "f8"
         },
         "y": {
          "bdata": "AAAAAAAAAAAAAAAAAAAAAAAAAAAAAAAAAAAAAAAAAAAAAAAAAAAAAAAAAAAAAAAAAAAAAAAAAAAAAAAAAAAAAAAAAAAAAAAAAAAAAAAAAAAAAAAAAAAAAAAAAAAAAAAAAAAAAAAAAAAAAAAAAAAAAAAAAAAAAAAAAAAAAAAAAAAAAAAAAAAAAAAAAAAAAAAAAAAAAAAAAAAAAAAAAAAAAAAAAAAAAAAAAAAAAAAAAAAAAAAAAAAAAAAAAAAAAAAAAAAAAAAAAAAAAAAAAAAAAAAAAAAAAAAAAAAAAAAAAAAAAAAAAAAAAAAAAAAAAAAAAAAAAAAAAAAAAAAAAAAAAAAAAAAAAAAAAAAAAAAAAAAAAAAAAAAAAAAAAAAAAAAAAAAAAAAAAAAAAAAAAAAAAAAAAAAAAAAAAAAAAAAAAAAAAAAAAAAAAAAAAAAAAAAAAAAAAAAAAAAAAAAAAAAAAAAAAAAAAAAAAAAAAAAAAAAAAAAAAAAAAAAAAAAAAAAAAAAAAAAAAAAAAAAAAAAAAAAAAAAAAAAAAAAAAAAAAAAAAAAAAAAAAAAAAAAAAAAAAAAAAAAAAAAAAAAAAAAAAAAAAAAAAAAAAAAAAAAAAAAAAAAAAAAAAAAAAAAAAAAAAAAAAAAAAAAAAAAAAAAAAAAAAAAAAAAAAAAAAAAAAAAAAAAAAAAAAAAAAAAAAAAAAAAAAAAAAAAAAAAAAAAAAAAAAAAAAAAAAAAAAAAAAAAAAAAAAAAAAMtbiVZ2OCFAlE9/tJnDP0Dp4KKJEN1JQIwp70wNblFAIeVOQRmXVUAiP5vuvnJZQHT+yD4aBF1A4/3HFQIfYECXolZh9tJhQENnhlfl4WNAAP7Eb6bIZUD1+c6WQ4pnQDcvBNVx2GlA+9yZQSvvbEAgq/4lyYlvQHbz7so3n3BAAHkqj1O+cUBcxTf80bFyQKrCv2IVpHNAwAM1kA+SdECDeBazJRx2QPHf/f5SVnhAjs5oZqthekDb3GAmRUh8QGmAjKVHC35ASeo7H1Sqf0DkW81UupWAQHJvEphjR4FALQ/2S7q6gUA=",
          "dtype": "f8"
         }
        },
        {
         "mode": "lines",
         "name": "departure_time_Night",
         "type": "scatter",
         "x": {
          "bdata": "U2Z8oiRm1EDNDIVrNeTSQAHTEs/LftFA3s4GMMwz0EC+sbqkhQLOQCQaYtHBystA/1gAs/O8yUAR5ipwAdbHQCbUhtoLE8ZAvOvSGGpxxEC4bfmipe7CQFaNGYp2iMFA517rBsA8wECzZ5aSGhO+QLhvNwgd2rtAeH0SYizLuUBZHBoQLeO3QAgju00+H7ZAa4CBybV8tEDHBPKeG/myQPnahZwmkrFA4FYn0LhFsEDMYPSpuCOuQLiuN7uA6atAfa/H7GzZqUCipAH3X/CnQFa0OX53K6ZARRb5tweIpEDpqJ5ilwOjQNZHSwncm6FAPmx2jrZOoEAVnOTvXzSeQNoOE+/s+JtAgnN3V7XnmUBD3uYomv2XQGrUu2+3N5ZA7IWs51+TlEDw8zDxGA6TQE8BX9OWpZFAG9eVRLlXkECv5HlpEEWOQOxefKhhCIxAJ7R7pgX2iUBFYdGp2wqIQFve/CX+Q4ZAvo8QXL6ehEBuQ9xNoBiDQBrXt/1Wr4FADlNE9cBggEBS08kbylV+QGwGKezeF3xAecMw3l0EekDH/8p9JBh4QBY9uqRLUHZAC92bGCOqdECludV7LSNzQD88ToscuXFA+R9Co81pcEDZz+wLjWZuQOMG0b5kJ2xAVFz1Ar4SakAix9+odCVoQIhss++fXGZADAHHII61ZECSPlR+wC1jQPdHHH/nwmFAzwJRUd9yYEAUE/4+WXdeQDv9LiXzNlxAzaMqGSYhWkASAR4vzDJYQNb6qQr7aFZA5HkMeP/AVEDpgJBYWThTQIO2Hdy3zFFAj0Y0AvZ7UEDppxu6LohOQGojACSKRkxAbyo0JZYvSkAgNZYUK0BIQHCJYflcdUZA1bHoIXfMREAN98QN+EJDQDXqT6WN1kFA9bywuBGFQEAkbWaCDZk+QKFRBMApVjxAhO13Kw4+OkCrKVtdkU04QCbOn7/FgTZAIwDaIfXXNED53y2hnE0zQDXssd1o4DFAc7+MdzKOMEAMFwKd9akuQPj//f3RZSxAlFheMI5MKkBc5YEN/1ooQH2ULGE1jiZAUapge3njJEA=",
          "dtype": "f8"
         },
         "y": {
          "bdata": "AAAAAAAAAAAAAAAAAAAAAAAAAAAAAAAAAAAAAAAAAAAAAAAAAAAAAAAAAAAAAAAAAAAAAAAAAAAAAAAAAAAAAAAAAAAAAAAAAAAAAAAAAAAAAAAAAAAAAAAAAAAAAAAAAAAAAAAAAAAAAAAAAAAAAAAAAAAAAAAAAAAAAAAAAAAAAAAAAAAAAAAAAAAAAAAAAAAAAAAAAAAAAAAAAAAAAAAAAAAAAAAAAAAAAAAAAAAAAAAAAAAAAAAAAAAAAAAAAAAAAAAAAAAAAAAAAAAAAAAAAAAAAAAAAAAAAAAAAAAAAAAAAAAAAAAAAAAAAAAAAAAAAAAAAAAAAAAAAAAAAAAAAAAAAAAAAAAAAAAAAAAAAAAAAAAAAAAAAAAAAAAAAAAAAAAAAAAAAAAAAAAAAAAAAAAAAAAAAAAAAAAAAAAAAAAAAAAAAAAAAAAAAAAAAAAAAAAAAAAAAAAAAAAAAAAAAAAAAAAAAAAAAAAAAAAAAAAAAAAAAAAAAAAAAAAAAAAAAAAAAAAAAAAAAAAAAAAAAAAAAAAAAAAAAAAAAAAAAAAAAAAAAAAAAAAAAAAAAAAAAAAAAAAAAAAAAAAAAAAAAAAAAACAAAAAAAAAAIAAAAAAAAAAgAAAAAAAAACAAAAAAAAAAIAAAAAAAAAAgAAAAAAAAACAAAAAAAAAAIAAAAAAAAAAgAAAAAAAAACAAAAAAAAAAIAAAAAAAAAAgAAAAAAAAACAAAAAAAAAAIAAAAAAAAAAgAAAAAAAAACAAAAAAAAAAIAAAAAAAAAAgAAAAAAAAACAAAAAAAAAAIAAAAAAAAAAgAAAAAAAAACAAAAAAAAAAIAAAAAAAAAAgAAAAAAAAACAAAAAAAAAAIAAAAAAAAAAgAAAAAAAAAAAAAAAAAAAAAAAAAAAAAAAAAAAAAAAAAAAAAAAAAAAAAAAAAAAAAAAAAAAAAAAAAAAAAAAAAAAAABZxZWA8NEyQD9C/IH0qk9Ahmom9kAPWkDsoR07D8hhQHz1MOFqL2ZAqj8ow6Y9akAYsCGP5QBuQFGHbiL0wXBAnOfzgVX3cUA=",
          "dtype": "f8"
         }
        },
        {
         "mode": "lines",
         "name": "stops_two_or_more",
         "type": "scatter",
         "x": {
          "bdata": "U2Z8oiRm1EDNDIVrNeTSQAHTEs/LftFA3s4GMMwz0EC+sbqkhQLOQCQaYtHBystA/1gAs/O8yUAR5ipwAdbHQCbUhtoLE8ZAvOvSGGpxxEC4bfmipe7CQFaNGYp2iMFA517rBsA8wECzZ5aSGhO+QLhvNwgd2rtAeH0SYizLuUBZHBoQLeO3QAgju00+H7ZAa4CBybV8tEDHBPKeG/myQPnahZwmkrFA4FYn0LhFsEDMYPSpuCOuQLiuN7uA6atAfa/H7GzZqUCipAH3X/CnQFa0OX53K6ZARRb5tweIpEDpqJ5ilwOjQNZHSwncm6FAPmx2jrZOoEAVnOTvXzSeQNoOE+/s+JtAgnN3V7XnmUBD3uYomv2XQGrUu2+3N5ZA7IWs51+TlEDw8zDxGA6TQE8BX9OWpZFAG9eVRLlXkECv5HlpEEWOQOxefKhhCIxAJ7R7pgX2iUBFYdGp2wqIQFve/CX+Q4ZAvo8QXL6ehEBuQ9xNoBiDQBrXt/1Wr4FADlNE9cBggEBS08kbylV+QGwGKezeF3xAecMw3l0EekDH/8p9JBh4QBY9uqRLUHZAC92bGCOqdECludV7LSNzQD88ToscuXFA+R9Co81pcEDZz+wLjWZuQOMG0b5kJ2xAVFz1Ar4SakAix9+odCVoQIhss++fXGZADAHHII61ZECSPlR+wC1jQPdHHH/nwmFAzwJRUd9yYEAUE/4+WXdeQDv9LiXzNlxAzaMqGSYhWkASAR4vzDJYQNb6qQr7aFZA5HkMeP/AVEDpgJBYWThTQIO2Hdy3zFFAj0Y0AvZ7UEDppxu6LohOQGojACSKRkxAbyo0JZYvSkAgNZYUK0BIQHCJYflcdUZA1bHoIXfMREAN98QN+EJDQDXqT6WN1kFA9bywuBGFQEAkbWaCDZk+QKFRBMApVjxAhO13Kw4+OkCrKVtdkU04QCbOn7/FgTZAIwDaIfXXNED53y2hnE0zQDXssd1o4DFAc7+MdzKOMEAMFwKd9akuQPj//f3RZSxAlFheMI5MKkBc5YEN/1ooQH2ULGE1jiZAUapge3njJEA=",
          "dtype": "f8"
         },
         "y": {
          "bdata": "AAAAAAAAAAAAAAAAAAAAAAAAAAAAAAAAAAAAAAAAAAAAAAAAAAAAAAAAAAAAAAAAAAAAAAAAAAAAAAAAAAAAAAAAAAAAAAAAAAAAAAAAAAAAAAAAAAAAAAAAAAAAAAAAAAAAAAAAAAAAAAAAAAAAAAAAAAAAAAAAAAAAAAAAAIAAAAAAAAAAgAAAAAAAAACAAAAAAAAAAIAAAAAAAAAAgAAAAAAAAACAAAAAAAAAAIAAAAAAAAAAAAAAAAAAAAAAAAAAAAAAAAAAAAAAAAAAAAAAAAAAAAAAAAAAAAAAAAAAAAAAAAAAAAAAAAAAAAAAAAAAAAAAAAAAAAAAAAAAAAAAAAAAAAAAAAAAAAAAAAAAAAAAAAAAAAAAAAAAAAAAAAAAAAAAAAAAAAAAAAAAAAAAAAAAAAAAAAAAAAAAAAAAAAAAAAAAAAAAAAAAAAAAAAAAAAAAAAAAAAAAAAAAAAAAAAAAAAAAAAAAAAAAAAAAAAAAAAAAAAAAAAAAAAAAAAAAAAAAAAAAAAAAAAAAAAAAAAAAAAAAAAAAAAAAAAAAAAAAAAAAAAAAAAAAAAAAAAAAAAAAAAAAAAAAAAAAAAAAAAAAAAAAAAAAAAAAAAAAAAAAAAAAAAAAAAAAAAAAAAAAAAAAAAAAAAAAAAAAAAAAAAAAAAAAAAAAAAAAAAAAAAAAAAAAAAAAAAAAAAAAAAAAAAAAAAAAAAAAAAAAAAAAAAAAAAAAAAAAAAAAAAAAAAAAAAAAAAAAAAAAAAAAAAAAAAAAAACZv74L5WBZQAtvKmQC4WxAb4krMO3wdUDHjVtwNuJ8QKw+L3CsqIFAqDDrHriihEBEJzoYJ16HQA0jpYYE3YlAFCVnQQgtjEBF0xUeV1GOQODZMnp3K5BAIpGvD3EbkUBZQsPWf/iRQJY2rQtC1ZJAoulcoGDjk0D+tdXFZcqUQEf61YVsopVAPmAdwdtnlkCHtxiMZCKXQC/l7MTc2JdA2Ft8KoiBmEAG3M24yx2ZQJZ3nzOGrplA+R5HcXg0mkDnNscFjLCaQL6B9eF4JJtAEtKJ51mGm0A=",
          "dtype": "f8"
         }
        },
        {
         "mode": "lines",
         "name": "stops_zero",
         "type": "scatter",
         "x": {
          "bdata": "U2Z8oiRm1EDNDIVrNeTSQAHTEs/LftFA3s4GMMwz0EC+sbqkhQLOQCQaYtHBystA/1gAs/O8yUAR5ipwAdbHQCbUhtoLE8ZAvOvSGGpxxEC4bfmipe7CQFaNGYp2iMFA517rBsA8wECzZ5aSGhO+QLhvNwgd2rtAeH0SYizLuUBZHBoQLeO3QAgju00+H7ZAa4CBybV8tEDHBPKeG/myQPnahZwmkrFA4FYn0LhFsEDMYPSpuCOuQLiuN7uA6atAfa/H7GzZqUCipAH3X/CnQFa0OX53K6ZARRb5tweIpEDpqJ5ilwOjQNZHSwncm6FAPmx2jrZOoEAVnOTvXzSeQNoOE+/s+JtAgnN3V7XnmUBD3uYomv2XQGrUu2+3N5ZA7IWs51+TlEDw8zDxGA6TQE8BX9OWpZFAG9eVRLlXkECv5HlpEEWOQOxefKhhCIxAJ7R7pgX2iUBFYdGp2wqIQFve/CX+Q4ZAvo8QXL6ehEBuQ9xNoBiDQBrXt/1Wr4FADlNE9cBggEBS08kbylV+QGwGKezeF3xAecMw3l0EekDH/8p9JBh4QBY9uqRLUHZAC92bGCOqdECludV7LSNzQD88ToscuXFA+R9Co81pcEDZz+wLjWZuQOMG0b5kJ2xAVFz1Ar4SakAix9+odCVoQIhss++fXGZADAHHII61ZECSPlR+wC1jQPdHHH/nwmFAzwJRUd9yYEAUE/4+WXdeQDv9LiXzNlxAzaMqGSYhWkASAR4vzDJYQNb6qQr7aFZA5HkMeP/AVEDpgJBYWThTQIO2Hdy3zFFAj0Y0AvZ7UEDppxu6LohOQGojACSKRkxAbyo0JZYvSkAgNZYUK0BIQHCJYflcdUZA1bHoIXfMREAN98QN+EJDQDXqT6WN1kFA9bywuBGFQEAkbWaCDZk+QKFRBMApVjxAhO13Kw4+OkCrKVtdkU04QCbOn7/FgTZAIwDaIfXXNED53y2hnE0zQDXssd1o4DFAc7+MdzKOMEAMFwKd9akuQPj//f3RZSxAlFheMI5MKkBc5YEN/1ooQH2ULGE1jiZAUapge3njJEA=",
          "dtype": "f8"
         },
         "y": {
          "bdata": "AAAAAAAAAAAAAAAAAAAAAAAAAAAAAAAAAAAAAAAAAAAAAAAAAAAAAAAAAAAAAAAAAAAAAAAAAAAAAAAAAAAAAAAAAAAAAACAAAAAAAAAAIAAAAAAAAAAgAAAAAAAAACAAAAAAAAAAIAAAAAAAAAAgAAAAAAAAACAAAAAAAAAAIAAAAAAAAAAgAAAAAAAAACAAAAAAAAAAIAAAAAAAAAAgAAAAAAAAACAAAAAAAAAAIAAAAAAAAAAgAAAAAAAAACAAAAAAAAAAIAAAAAAAAAAgAAAAAAAAACAAAAAAAAAAIAAAAAAAAAAgAAAAAAAAACAAAAAAAAAAIAAAAAAAAAAgAAAAAAAAACAAAAAAAAAAIAAAAAAAAAAgAAAAAAAAACAAAAAAAAAAIAAAAAAAAAAgAAAAAAAAACAAAAAAAAAAIAAAAAAAAAAgAAAAAAAAACAAAAAAAAAAIAAAAAAAAAAgAAAAAAAAACAAAAAAAAAAIAoFkTnjKJ3wCMcTzjyUY3A2A3i4irElsBP4FvZAUaewH8m4oPonKLAT0aSxp3UpcD2yBjz3c+owCiiKPi4kqvAuigw31YhrsBjJGNmlT+wwMTfJVXgU7HAH1ORji1RssCMHmHDzzuzwL6RxLUbFbTAqckQxCXetMBPoFn1gpi1wO/tBMVSQrbAqf/6i4vetsAf2aCY1We3wEhJVEfn5rfArx8TtChcuMCJ2Dk6FsW4wMAe8V/WI7nA9U9bAq55ucDtAjiCN8S5wG77oltzCLrAr+yNdIpFusC/Ga2JEXy6wPPvzcS9rbrAv8nVlNHbusARxifiawa7wLiTFMLxLbvATNpdcnVSu8DcD3IoY3O7wMkAy8j6kLvAcHXQkHKsu8BDZgLn7cW7wFS36xNf3rvApCVQQVL2u8DkIOss5Ay8wOpwiCLHKLzAXRCEVVtAvMB+l4eRdFe8wDQJBonZbbzAFVU+pGKCvMD0DIVdPZa8wCXtiSaIq7zAxp5WI0O/vMB6JFuhiNG8wEJSzWt04rzAbNd0iSDyvMBwsxAPpgC9wFSNeAn5Db3APlIO+3UavcA=",
          "dtype": "f8"
         }
        },
        {
         "mode": "lines",
         "name": "arrival_time_Early_Morning",
         "type": "scatter",
         "x": {
          "bdata": "U2Z8oiRm1EDNDIVrNeTSQAHTEs/LftFA3s4GMMwz0EC+sbqkhQLOQCQaYtHBystA/1gAs/O8yUAR5ipwAdbHQCbUhtoLE8ZAvOvSGGpxxEC4bfmipe7CQFaNGYp2iMFA517rBsA8wECzZ5aSGhO+QLhvNwgd2rtAeH0SYizLuUBZHBoQLeO3QAgju00+H7ZAa4CBybV8tEDHBPKeG/myQPnahZwmkrFA4FYn0LhFsEDMYPSpuCOuQLiuN7uA6atAfa/H7GzZqUCipAH3X/CnQFa0OX53K6ZARRb5tweIpEDpqJ5ilwOjQNZHSwncm6FAPmx2jrZOoEAVnOTvXzSeQNoOE+/s+JtAgnN3V7XnmUBD3uYomv2XQGrUu2+3N5ZA7IWs51+TlEDw8zDxGA6TQE8BX9OWpZFAG9eVRLlXkECv5HlpEEWOQOxefKhhCIxAJ7R7pgX2iUBFYdGp2wqIQFve/CX+Q4ZAvo8QXL6ehEBuQ9xNoBiDQBrXt/1Wr4FADlNE9cBggEBS08kbylV+QGwGKezeF3xAecMw3l0EekDH/8p9JBh4QBY9uqRLUHZAC92bGCOqdECludV7LSNzQD88ToscuXFA+R9Co81pcEDZz+wLjWZuQOMG0b5kJ2xAVFz1Ar4SakAix9+odCVoQIhss++fXGZADAHHII61ZECSPlR+wC1jQPdHHH/nwmFAzwJRUd9yYEAUE/4+WXdeQDv9LiXzNlxAzaMqGSYhWkASAR4vzDJYQNb6qQr7aFZA5HkMeP/AVEDpgJBYWThTQIO2Hdy3zFFAj0Y0AvZ7UEDppxu6LohOQGojACSKRkxAbyo0JZYvSkAgNZYUK0BIQHCJYflcdUZA1bHoIXfMREAN98QN+EJDQDXqT6WN1kFA9bywuBGFQEAkbWaCDZk+QKFRBMApVjxAhO13Kw4+OkCrKVtdkU04QCbOn7/FgTZAIwDaIfXXNED53y2hnE0zQDXssd1o4DFAc7+MdzKOMEAMFwKd9akuQPj//f3RZSxAlFheMI5MKkBc5YEN/1ooQH2ULGE1jiZAUapge3njJEA=",
          "dtype": "f8"
         },
         "y": {
          "bdata": "AAAAAAAAAAAAAAAAAAAAAAAAAAAAAAAAAAAAAAAAAAAAAAAAAAAAAAAAAAAAAAAAAAAAAAAAAAAAAAAAAAAAAAAAAAAAAAAAAAAAAAAAAAAAAAAAAAAAAAAAAAAAAAAAAAAAAAAAAAAAAAAAAAAAAAAAAAAAAAAAAAAAAAAAAAAAAAAAAAAAAAAAAAAAAAAAAAAAAAAAAAAAAAAAAAAAgAAAAAAAAACAAAAAAAAAAIAAAAAAAAAAgAAAAAAAAACAAAAAAAAAAIAAAAAAAAAAgAAAAAAAAACAAAAAAAAAAIAAAAAAAAAAgAAAAAAAAACAAAAAAAAAAIAAAAAAAAAAgAAAAAAAAACAAAAAAAAAAIAAAAAAAAAAgAAAAAAAAACAAAAAAAAAAIAAAAAAAAAAgAAAAAAAAACAAAAAAAAAAIAAAAAAAAAAgAAAAAAAAACAAAAAAAAAAIAAAAAAAAAAgAAAAAAAAACAAAAAAAAAAIAAAAAAAAAAgAAAAAAAAACAAAAAAAAAAIAAAAAAAAAAgAAAAAAAAACAAAAAAAAAAIAAAAAAAAAAgAAAAAAAAACAAAAAAAAAAIAAAAAAAAAAgAAAAAAAAACAAAAAAAAAAIAAAAAAAAAAgAAAAAAAAACAAAAAAAAAAIAAAAAAAAAAgAAAAAAAAACAAAAAAAAAAIAAAAAAAAAAgAAAAAAAAACAAAAAAAAAAIAAAAAAAAAAgAAAAAAAAACAAAAAAAAAAIAAAAAAAAAAgAAAAAAAAACAAAAAAAAAAIAAAAAAAAAAgAAAAAAAAACAAAAAAAAAAIAAAAAAAAAAgAAAAAAAAACAqemx7TFjM8A0b61vGeNXwO8Ms4Ebr2TAh6gt5fXLbMC5lFWIoihywEin+zSin3XAKwcszVTJeMBRHb65RtN7wLFawCFkJH/Az12D+GThgMB2kC+g8yGCwJZDXImXDIPA8ss7rAarg8A3vWEzd9mDwBn5mFSwEYTAMxKP16NJhMBjYSZDc3uEwDMEi0o0qYTAyvhgd0fWhMDlzCvQyP6EwLpzuzt4GoXAkDwQfsuDhcA=",
          "dtype": "f8"
         }
        },
        {
         "mode": "lines",
         "name": "arrival_time_Evening",
         "type": "scatter",
         "x": {
          "bdata": "U2Z8oiRm1EDNDIVrNeTSQAHTEs/LftFA3s4GMMwz0EC+sbqkhQLOQCQaYtHBystA/1gAs/O8yUAR5ipwAdbHQCbUhtoLE8ZAvOvSGGpxxEC4bfmipe7CQFaNGYp2iMFA517rBsA8wECzZ5aSGhO+QLhvNwgd2rtAeH0SYizLuUBZHBoQLeO3QAgju00+H7ZAa4CBybV8tEDHBPKeG/myQPnahZwmkrFA4FYn0LhFsEDMYPSpuCOuQLiuN7uA6atAfa/H7GzZqUCipAH3X/CnQFa0OX53K6ZARRb5tweIpEDpqJ5ilwOjQNZHSwncm6FAPmx2jrZOoEAVnOTvXzSeQNoOE+/s+JtAgnN3V7XnmUBD3uYomv2XQGrUu2+3N5ZA7IWs51+TlEDw8zDxGA6TQE8BX9OWpZFAG9eVRLlXkECv5HlpEEWOQOxefKhhCIxAJ7R7pgX2iUBFYdGp2wqIQFve/CX+Q4ZAvo8QXL6ehEBuQ9xNoBiDQBrXt/1Wr4FADlNE9cBggEBS08kbylV+QGwGKezeF3xAecMw3l0EekDH/8p9JBh4QBY9uqRLUHZAC92bGCOqdECludV7LSNzQD88ToscuXFA+R9Co81pcEDZz+wLjWZuQOMG0b5kJ2xAVFz1Ar4SakAix9+odCVoQIhss++fXGZADAHHII61ZECSPlR+wC1jQPdHHH/nwmFAzwJRUd9yYEAUE/4+WXdeQDv9LiXzNlxAzaMqGSYhWkASAR4vzDJYQNb6qQr7aFZA5HkMeP/AVEDpgJBYWThTQIO2Hdy3zFFAj0Y0AvZ7UEDppxu6LohOQGojACSKRkxAbyo0JZYvSkAgNZYUK0BIQHCJYflcdUZA1bHoIXfMREAN98QN+EJDQDXqT6WN1kFA9bywuBGFQEAkbWaCDZk+QKFRBMApVjxAhO13Kw4+OkCrKVtdkU04QCbOn7/FgTZAIwDaIfXXNED53y2hnE0zQDXssd1o4DFAc7+MdzKOMEAMFwKd9akuQPj//f3RZSxAlFheMI5MKkBc5YEN/1ooQH2ULGE1jiZAUapge3njJEA=",
          "dtype": "f8"
         },
         "y": {
          "bdata": "AAAAAAAAAAAAAAAAAAAAAAAAAAAAAAAAAAAAAAAAAAAAAAAAAAAAAAAAAAAAAAAAAAAAAAAAAAAAAAAAAAAAAAAAAAAAAAAAAAAAAAAAAAAAAAAAAAAAAAAAAAAAAAAAAAAAAAAAAAAAAAAAAAAAAAAAAAAAAAAAAAAAAAAAAAAAAAAAAAAAAAAAAAAAAAAAAAAAAAAAAAAAAAAAAAAAAAAAAAAAAAAAAAAAAAAAAAAAAAAAAAAAAAAAAAAAAAAAAAAAAAAAAAAAAAAAAAAAAAAAAAAAAAAAAAAAAAAAAAAAAAAAAAAAAAAAAAAAAAAAAAAAAAAAAAAAAAAAAAAAAAAAAAAAAAAAAAAAAAAAAAAAAAAAAAAAAAAAAAAAAAAAAAAAAAAAAAAAAAAAAAAAAAAAAAAAAAAAAAAAAAAAAAAAAAAAAAAAAAAAAAAAAAAAAAAAAAAAAAAAAAAAAAAAAAAAAAAAAAAAAAAAAAAAAAAAAAAAAAAAAAAAAAAAAAAAAAAAAAAAAAAAAAAAAAAAAAAAAAAAAAAAAAAAAAAAAAAAAAAAAAAAAAAAAAAAAAAAAAAAAAAAAAAAAAAAAAAAAAAAAAAAAAAAAAAAAAAAAAAAAAAAAAAAAAAAAAAAAAAAAAAAAAAAAAAAAAAAAAAAAAAAAAAAAAAAuhuAO/2NzD801n55to5LQG3OAUGx+lpAqmS+CX2YY0CjsRt1B0VpQFDfFTadHW5AlZdJrnFYcUAbp8eUR2lzQDk3umLsOnVAbBco30fQdkAZwoArSDN4QCu7Z6vUd3lAUzYAIFyiekBx+OLCtLh7QM6bFgefuHxA/DJR0o+EfUBiYzsal9J9QBArpmTCEX5A/iRFNKNKfkAnyMU5nX5+QJyX0H3Du35A+Zpnr0D+fkCyXzrf5TJ/QFxs28/oCn9Am5C/CXYrf0A4maM5xkB/QBsRATVyzX9AiKvvXfNfgEB3vUYV1zyBQLDCz8NvFoJAiZAn9DjcgkCw4G7tUpWDQM1j8TQbQYRAl9lwsZbdhEBVl1i4qG+FQH5O06Vy/oVAhgKIJWcyhkA=",
          "dtype": "f8"
         }
        },
        {
         "mode": "lines",
         "name": "arrival_time_Late_Night",
         "type": "scatter",
         "x": {
          "bdata": "U2Z8oiRm1EDNDIVrNeTSQAHTEs/LftFA3s4GMMwz0EC+sbqkhQLOQCQaYtHBystA/1gAs/O8yUAR5ipwAdbHQCbUhtoLE8ZAvOvSGGpxxEC4bfmipe7CQFaNGYp2iMFA517rBsA8wECzZ5aSGhO+QLhvNwgd2rtAeH0SYizLuUBZHBoQLeO3QAgju00+H7ZAa4CBybV8tEDHBPKeG/myQPnahZwmkrFA4FYn0LhFsEDMYPSpuCOuQLiuN7uA6atAfa/H7GzZqUCipAH3X/CnQFa0OX53K6ZARRb5tweIpEDpqJ5ilwOjQNZHSwncm6FAPmx2jrZOoEAVnOTvXzSeQNoOE+/s+JtAgnN3V7XnmUBD3uYomv2XQGrUu2+3N5ZA7IWs51+TlEDw8zDxGA6TQE8BX9OWpZFAG9eVRLlXkECv5HlpEEWOQOxefKhhCIxAJ7R7pgX2iUBFYdGp2wqIQFve/CX+Q4ZAvo8QXL6ehEBuQ9xNoBiDQBrXt/1Wr4FADlNE9cBggEBS08kbylV+QGwGKezeF3xAecMw3l0EekDH/8p9JBh4QBY9uqRLUHZAC92bGCOqdECludV7LSNzQD88ToscuXFA+R9Co81pcEDZz+wLjWZuQOMG0b5kJ2xAVFz1Ar4SakAix9+odCVoQIhss++fXGZADAHHII61ZECSPlR+wC1jQPdHHH/nwmFAzwJRUd9yYEAUE/4+WXdeQDv9LiXzNlxAzaMqGSYhWkASAR4vzDJYQNb6qQr7aFZA5HkMeP/AVEDpgJBYWThTQIO2Hdy3zFFAj0Y0AvZ7UEDppxu6LohOQGojACSKRkxAbyo0JZYvSkAgNZYUK0BIQHCJYflcdUZA1bHoIXfMREAN98QN+EJDQDXqT6WN1kFA9bywuBGFQEAkbWaCDZk+QKFRBMApVjxAhO13Kw4+OkCrKVtdkU04QCbOn7/FgTZAIwDaIfXXNED53y2hnE0zQDXssd1o4DFAc7+MdzKOMEAMFwKd9akuQPj//f3RZSxAlFheMI5MKkBc5YEN/1ooQH2ULGE1jiZAUapge3njJEA=",
          "dtype": "f8"
         },
         "y": {
          "bdata": "AAAAAAAAAAAAAAAAAAAAAAAAAAAAAAAAAAAAAAAAAAAAAAAAAAAAAAAAAAAAAAAAAAAAAAAAAAAAAAAAAAAAAAAAAAAAAAAAAAAAAAAAAAAAAAAAAAAAAAAAAAAAAACAAAAAAAAAAIAAAAAAAAAAgAAAAAAAAACAAAAAAAAAAIAAAAAAAAAAgAAAAAAAAACAAAAAAAAAAIAAAAAAAAAAgAAAAAAAAACAAAAAAAAAAIAAAAAAAAAAgAAAAAAAAACAAAAAAAAAAIAAAAAAAAAAgAAAAAAAAACAAAAAAAAAAIAAAAAAAAAAgAAAAAAAAACAAAAAAAAAAIAAAAAAAAAAgAAAAAAAAACAAAAAAAAAAIAAAAAAAAAAgAAAAAAAAACAAAAAAAAAAIAAAAAAAAAAgAAAAAAAAACAAAAAAAAAAIAAAAAAAAAAgAAAAAAAAACAAAAAAAAAAIAAAAAAAAAAgAAAAAAAAACAAAAAAAAAAIAAAAAAAAAAgAAAAAAAAACAAAAAAAAAAIAAAAAAAAAAgAAAAAAAAACAAAAAAAAAAIAAAAAAAAAAgAAAAAAAAACAAAAAAAAAAIAAAAAAAAAAgAAAAAAAAAAAAAAAAAAAAAAAAAAAAAAAAAAAAAAAAAAAAAAAAAAAAAAAAAAAAAAAAAAAAAAAAAAAAAAAAAAAAAAAAAAAAAAAAAAAAAAAAAAAAAAAAAAAAAAAAAAAAAAAAAAAAAAAAAAAAAAAAAAAAAAAAAAAAAAAAAAAAAAAAAAAAAAAAAAAAAAAAAAAAAAAAAAAAAAAAAAAAAAAAAAAAAAAAAAAAAAAAAAAAAAAAAAAAAAAAAAAAAAAAAAAAAAAAAAAAAAAAAAAAAAAAAAAAAAAAAAAAAAAAAAAAAAAAAAAAAAAAAAAAAAAAAAAAAAAAAAAAAAAAAAAAAAAAAAAAAAAAAAAAAAAAAAAAAAAAAAAKgI6z5yFNkCZBQhVz2ZXQNeY5p//5WNANDFejmVqa0CUyyJe/DRxQIj6BWN1c3RAdKmQRTlud0AbHJObgzN6QO1Vl1M1znxAlnYDUelSfkA=",
          "dtype": "f8"
         }
        },
        {
         "mode": "lines",
         "name": "arrival_time_Morning",
         "type": "scatter",
         "x": {
          "bdata": "U2Z8oiRm1EDNDIVrNeTSQAHTEs/LftFA3s4GMMwz0EC+sbqkhQLOQCQaYtHBystA/1gAs/O8yUAR5ipwAdbHQCbUhtoLE8ZAvOvSGGpxxEC4bfmipe7CQFaNGYp2iMFA517rBsA8wECzZ5aSGhO+QLhvNwgd2rtAeH0SYizLuUBZHBoQLeO3QAgju00+H7ZAa4CBybV8tEDHBPKeG/myQPnahZwmkrFA4FYn0LhFsEDMYPSpuCOuQLiuN7uA6atAfa/H7GzZqUCipAH3X/CnQFa0OX53K6ZARRb5tweIpEDpqJ5ilwOjQNZHSwncm6FAPmx2jrZOoEAVnOTvXzSeQNoOE+/s+JtAgnN3V7XnmUBD3uYomv2XQGrUu2+3N5ZA7IWs51+TlEDw8zDxGA6TQE8BX9OWpZFAG9eVRLlXkECv5HlpEEWOQOxefKhhCIxAJ7R7pgX2iUBFYdGp2wqIQFve/CX+Q4ZAvo8QXL6ehEBuQ9xNoBiDQBrXt/1Wr4FADlNE9cBggEBS08kbylV+QGwGKezeF3xAecMw3l0EekDH/8p9JBh4QBY9uqRLUHZAC92bGCOqdECludV7LSNzQD88ToscuXFA+R9Co81pcEDZz+wLjWZuQOMG0b5kJ2xAVFz1Ar4SakAix9+odCVoQIhss++fXGZADAHHII61ZECSPlR+wC1jQPdHHH/nwmFAzwJRUd9yYEAUE/4+WXdeQDv9LiXzNlxAzaMqGSYhWkASAR4vzDJYQNb6qQr7aFZA5HkMeP/AVEDpgJBYWThTQIO2Hdy3zFFAj0Y0AvZ7UEDppxu6LohOQGojACSKRkxAbyo0JZYvSkAgNZYUK0BIQHCJYflcdUZA1bHoIXfMREAN98QN+EJDQDXqT6WN1kFA9bywuBGFQEAkbWaCDZk+QKFRBMApVjxAhO13Kw4+OkCrKVtdkU04QCbOn7/FgTZAIwDaIfXXNED53y2hnE0zQDXssd1o4DFAc7+MdzKOMEAMFwKd9akuQPj//f3RZSxAlFheMI5MKkBc5YEN/1ooQH2ULGE1jiZAUapge3njJEA=",
          "dtype": "f8"
         },
         "y": {
          "bdata": "AAAAAAAAAAAAAAAAAAAAAAAAAAAAAAAAAAAAAAAAAAAAAAAAAAAAAAAAAAAAAAAAAAAAAAAAAAAAAAAAAAAAAAAAAAAAAAAAAAAAAAAAAAAAAAAAAAAAAAAAAAAAAAAAAAAAAAAAAAAAAAAAAAAAAAAAAAAAAAAAAAAAAAAAAAAAAAAAAAAAAAAAAAAAAAAAAAAAAAAAAAAAAAAAAAAAAAAAAAAAAAAAAAAAAAAAAAAAAAAAAAAAAAAAAAAAAAAAAAAAAAAAAAAAAAAAAAAAAAAAAAAAAAAAAAAAAAAAAAAAAAAAAAAAAAAAAAAAAAAAAAAAAAAAAAAAAAAAAAAAAAAAAAAAAAAAAAAAAAAAAAAAAAAAAAAAAAAAAAAAAAAAAAAAAAAAAAAAAAAAAAAAAAAAAAAAAAAAAAAAAAAAAAAAAAAAAAAAAAAAAAAAAAAAAAAAAAAAAAAAAAAAAAAAAAAAAAAAAAAAAAAAAAAAAAAAAAAAAAAAAAAAAAAAAAAAAAAAAAAAAAAAAAAAAAAAAAAAAAAAAAAAAAAAAAAAAAAAAAAAAAAAAAAAAAAAAAAAAAAAAAAAAIAAAAAAAAAAgAAAAAAAAACAAAAAAAAAAIAAAAAAAAAAgAAAAAAAAACAAAAAAAAAAIAAAAAAAAAAgAAAAAAAAACAAAAAAAAAAIAAAAAAAAAAgAAAAAAAAACAAAAAAAAAAIAAAAAAAAAAgAAAAAAAAAAAAAAAAAAAAAAAAAAAAAAAAAAAAAAAAAAAAAAAAAAAAAAAAAAAAAAAAAAAAAAAAAAAAAAAAAAAAAAAAAAAAAAAAAAAAAAAAAAAAAAAAAAAAAAAAAAAAAAAAAAAAAAAAAAAAAAAAAAAAAAAAAAAAAAAAAAAAAAAAAAAAAAAAAAAAAAAAAAAAAAAAAAAAAAAAAAAAAAAAAAAAAAAAAAAAAAAANa7Ow5aoitAn3UX/0qhQUBx+g12oN5QQPeS3C4aI1hAuzyeQEXAXkDUabBH83diQA6JYXazVmVAA4nCDqb0Z0AI3/FPDGZqQMsNAZkJ02xAaQAay3nebUA=",
          "dtype": "f8"
         }
        },
        {
         "mode": "lines",
         "name": "arrival_time_Night",
         "type": "scatter",
         "x": {
          "bdata": "U2Z8oiRm1EDNDIVrNeTSQAHTEs/LftFA3s4GMMwz0EC+sbqkhQLOQCQaYtHBystA/1gAs/O8yUAR5ipwAdbHQCbUhtoLE8ZAvOvSGGpxxEC4bfmipe7CQFaNGYp2iMFA517rBsA8wECzZ5aSGhO+QLhvNwgd2rtAeH0SYizLuUBZHBoQLeO3QAgju00+H7ZAa4CBybV8tEDHBPKeG/myQPnahZwmkrFA4FYn0LhFsEDMYPSpuCOuQLiuN7uA6atAfa/H7GzZqUCipAH3X/CnQFa0OX53K6ZARRb5tweIpEDpqJ5ilwOjQNZHSwncm6FAPmx2jrZOoEAVnOTvXzSeQNoOE+/s+JtAgnN3V7XnmUBD3uYomv2XQGrUu2+3N5ZA7IWs51+TlEDw8zDxGA6TQE8BX9OWpZFAG9eVRLlXkECv5HlpEEWOQOxefKhhCIxAJ7R7pgX2iUBFYdGp2wqIQFve/CX+Q4ZAvo8QXL6ehEBuQ9xNoBiDQBrXt/1Wr4FADlNE9cBggEBS08kbylV+QGwGKezeF3xAecMw3l0EekDH/8p9JBh4QBY9uqRLUHZAC92bGCOqdECludV7LSNzQD88ToscuXFA+R9Co81pcEDZz+wLjWZuQOMG0b5kJ2xAVFz1Ar4SakAix9+odCVoQIhss++fXGZADAHHII61ZECSPlR+wC1jQPdHHH/nwmFAzwJRUd9yYEAUE/4+WXdeQDv9LiXzNlxAzaMqGSYhWkASAR4vzDJYQNb6qQr7aFZA5HkMeP/AVEDpgJBYWThTQIO2Hdy3zFFAj0Y0AvZ7UEDppxu6LohOQGojACSKRkxAbyo0JZYvSkAgNZYUK0BIQHCJYflcdUZA1bHoIXfMREAN98QN+EJDQDXqT6WN1kFA9bywuBGFQEAkbWaCDZk+QKFRBMApVjxAhO13Kw4+OkCrKVtdkU04QCbOn7/FgTZAIwDaIfXXNED53y2hnE0zQDXssd1o4DFAc7+MdzKOMEAMFwKd9akuQPj//f3RZSxAlFheMI5MKkBc5YEN/1ooQH2ULGE1jiZAUapge3njJEA=",
          "dtype": "f8"
         },
         "y": {
          "bdata": "AAAAAAAAAAAAAAAAAAAAAAAAAAAAAAAAAAAAAAAAAAAAAAAAAAAAAAAAAAAAAAAAAAAAAAAAAAAAAAAAAAAAAAAAAAAAAAAAAAAAAAAAAAAAAAAAAAAAAAAAAAAAAAAAAAAAAAAAAAAAAAAAAAAAAAAAAAAAAAAAAAAAAAAAAAAAAAAAAAAAAAAAAAAAAAAAAAAAAAAAAAAAAAAAAAAAAAAAAAAAAAAAAAAAAAAAAAAAAAAAAAAAAAAAAAAAAAAAAAAAAAAAAAAAAAAAAAAAAAAAAAAAAAAAAAAAAAAAAAAAAAAAAAAAAAAAAAAAAAAAAAAAAAAAAAAAAAAAAAAAAAAAAAAAAAAAAAAAAAAAAAAAAAAAAAAAAAAAAAAAAAAAAAAAAAAAAAAAAAAAAAAAAAAAAAAAAAAAAAAAAAAAAAAAAAAAAAAAAAAAAAAAAAAAAAAAAAAAAAAAAAAAAAAAAAAAAAAAAAAAAAAAAAAAAAAAAAAAAAAAAAAAAAAAAAAAAAAAAAAAAAAAAAAAAAAAAAAAAAAAAAAAAAAAAAAAAAAAAAAAAAAAAAAAAAAAAAAAAAAAAAAAAAAAAAAAAAAAAAAAAAAAAAAAAAAAAAAAAAAAAAAAAAAAAAAAAAAAAAAAAAAAAAAAAAAAAAAAAAAAAJoyIkQFd0BAn6jG/WhHU0CfKdY2ayNhQD0d5KHOXmhAmxxp58/8bkCsb9CcJn9yQKXFxdCWEnVAnL0CFwCZd0CzfDURAw16QL2EYkhXQ3xAfDsebphDfkB7+wZeXgGAQHe6ijJTzYBAN+Kk6weJgUBnBOzM8zeCQD8NWrLe2IJARQHYzsBcg0BkQ2sx5aGDQNnC5lxJ5INAb+nLhM8ghEDkZHz1YliEQPunwDk5j4RAJcSHTIbGhEBvoVkrwvOEQBaTBY3544RAFYn8uY32hEA5X5QFnwKFQMSqbHDkSYVAfrYF22TFhUDapEznyqyGQJ4f7EXmlodAyFttX8triEA18DvL9zKJQEh5JCfM64lAEhNsLkGUikCr+5TobDGLQJ/7DYMrzYtA2TnRHhAMjEA=",
          "dtype": "f8"
         }
        },
        {
         "mode": "lines",
         "name": "destination_city_Chennai",
         "type": "scatter",
         "x": {
          "bdata": "U2Z8oiRm1EDNDIVrNeTSQAHTEs/LftFA3s4GMMwz0EC+sbqkhQLOQCQaYtHBystA/1gAs/O8yUAR5ipwAdbHQCbUhtoLE8ZAvOvSGGpxxEC4bfmipe7CQFaNGYp2iMFA517rBsA8wECzZ5aSGhO+QLhvNwgd2rtAeH0SYizLuUBZHBoQLeO3QAgju00+H7ZAa4CBybV8tEDHBPKeG/myQPnahZwmkrFA4FYn0LhFsEDMYPSpuCOuQLiuN7uA6atAfa/H7GzZqUCipAH3X/CnQFa0OX53K6ZARRb5tweIpEDpqJ5ilwOjQNZHSwncm6FAPmx2jrZOoEAVnOTvXzSeQNoOE+/s+JtAgnN3V7XnmUBD3uYomv2XQGrUu2+3N5ZA7IWs51+TlEDw8zDxGA6TQE8BX9OWpZFAG9eVRLlXkECv5HlpEEWOQOxefKhhCIxAJ7R7pgX2iUBFYdGp2wqIQFve/CX+Q4ZAvo8QXL6ehEBuQ9xNoBiDQBrXt/1Wr4FADlNE9cBggEBS08kbylV+QGwGKezeF3xAecMw3l0EekDH/8p9JBh4QBY9uqRLUHZAC92bGCOqdECludV7LSNzQD88ToscuXFA+R9Co81pcEDZz+wLjWZuQOMG0b5kJ2xAVFz1Ar4SakAix9+odCVoQIhss++fXGZADAHHII61ZECSPlR+wC1jQPdHHH/nwmFAzwJRUd9yYEAUE/4+WXdeQDv9LiXzNlxAzaMqGSYhWkASAR4vzDJYQNb6qQr7aFZA5HkMeP/AVEDpgJBYWThTQIO2Hdy3zFFAj0Y0AvZ7UEDppxu6LohOQGojACSKRkxAbyo0JZYvSkAgNZYUK0BIQHCJYflcdUZA1bHoIXfMREAN98QN+EJDQDXqT6WN1kFA9bywuBGFQEAkbWaCDZk+QKFRBMApVjxAhO13Kw4+OkCrKVtdkU04QCbOn7/FgTZAIwDaIfXXNED53y2hnE0zQDXssd1o4DFAc7+MdzKOMEAMFwKd9akuQPj//f3RZSxAlFheMI5MKkBc5YEN/1ooQH2ULGE1jiZAUapge3njJEA=",
          "dtype": "f8"
         },
         "y": {
          "bdata": "AAAAAAAAAAAAAAAAAAAAAAAAAAAAAAAAAAAAAAAAAAAAAAAAAAAAAAAAAAAAAAAAAAAAAAAAAAAAAAAAAAAAAAAAAAAAAAAAAAAAAAAAAAAAAAAAAAAAAAAAAAAAAAAAAAAAAAAAAAAAAAAAAAAAAAAAAAAAAAAAAAAAAAAAAAAAAAAAAAAAAAAAAAAAAAAAAAAAAAAAAAAAAAAAAAAAAAAAAAAAAAAAAAAAAAAAAAAAAAAAAAAAAAAAAAAAAAAAAAAAAAAAAAAAAAAAAAAAAAAAAAAAAAAAAAAAAAAAAAAAAAAAAAAAAAAAAAAAAAAAAAAAAAAAAAAAAAAAAAAAAAAAAAAAAAAAAAAAAAAAAAAAAAAAAAAAAAAAAAAAAAAAAAAAAAAAAAAAAAAAAAAAAAAAAAAAAAAAAAAAAAAAAAAAAAAAAAAAAAAAAAAAAAAAAAAAAAAAAAAAAAAAAAAAAAAAAAAAAAAAAAAAAAAAAAAAAAAAAAAAAAAAAAAAAAAAAAAAAAAAAAAAAAAAAAAAAAAAAAAAAAAAAAAAAAAAAAAAAAAAAAAAAAAAAAAAAAAAAAAAAAAAAAAAAAAAAAAAAAAAAAAAAAAAAAAAAAAAAAAAAAAAAAAAAAAAAAAAAAAAAAAAAAAAAAAAAAAAAAAAAAAAAAAAAAAAAAAAAAAAAAAAAAAAAAAAAAAAAAAAAAAAAAAAAAAAAAAAAAAAAAAAAAAAAAAAAAAAAAAAAAAAAAAAAAAAAAAAAAAAAAAAAAAAAAAAAAAAAAAAAAAAAAAAAAAAAAAAAAAAAAAAAAAAAAAAAAAAAAAAAAAAAAAAAAAAAAAAAAAAAAAAAAAAAAAAAAAAAAAAAAAAAAAAAAAAAAAAAAAAAAAAAAAAAAAAAAAAAAAAAAAAAIAAAAAAAAAAgAAAAAAAAACAAAAAAAAAAIAAAAAAAAAAgAAAAAAAAACAAAAAAAAAAIAAAAAAAAAAgAAAAAAAAACAAAAAAAAAAIAAAAAAAAAAgAAAAAAAAACAAAAAAAAAAIAAAAAAAAAAgFEQyrFEYCHAlB3ddBE1PcA=",
          "dtype": "f8"
         }
        },
        {
         "mode": "lines",
         "name": "destination_city_Delhi",
         "type": "scatter",
         "x": {
          "bdata": "U2Z8oiRm1EDNDIVrNeTSQAHTEs/LftFA3s4GMMwz0EC+sbqkhQLOQCQaYtHBystA/1gAs/O8yUAR5ipwAdbHQCbUhtoLE8ZAvOvSGGpxxEC4bfmipe7CQFaNGYp2iMFA517rBsA8wECzZ5aSGhO+QLhvNwgd2rtAeH0SYizLuUBZHBoQLeO3QAgju00+H7ZAa4CBybV8tEDHBPKeG/myQPnahZwmkrFA4FYn0LhFsEDMYPSpuCOuQLiuN7uA6atAfa/H7GzZqUCipAH3X/CnQFa0OX53K6ZARRb5tweIpEDpqJ5ilwOjQNZHSwncm6FAPmx2jrZOoEAVnOTvXzSeQNoOE+/s+JtAgnN3V7XnmUBD3uYomv2XQGrUu2+3N5ZA7IWs51+TlEDw8zDxGA6TQE8BX9OWpZFAG9eVRLlXkECv5HlpEEWOQOxefKhhCIxAJ7R7pgX2iUBFYdGp2wqIQFve/CX+Q4ZAvo8QXL6ehEBuQ9xNoBiDQBrXt/1Wr4FADlNE9cBggEBS08kbylV+QGwGKezeF3xAecMw3l0EekDH/8p9JBh4QBY9uqRLUHZAC92bGCOqdECludV7LSNzQD88ToscuXFA+R9Co81pcEDZz+wLjWZuQOMG0b5kJ2xAVFz1Ar4SakAix9+odCVoQIhss++fXGZADAHHII61ZECSPlR+wC1jQPdHHH/nwmFAzwJRUd9yYEAUE/4+WXdeQDv9LiXzNlxAzaMqGSYhWkASAR4vzDJYQNb6qQr7aFZA5HkMeP/AVEDpgJBYWThTQIO2Hdy3zFFAj0Y0AvZ7UEDppxu6LohOQGojACSKRkxAbyo0JZYvSkAgNZYUK0BIQHCJYflcdUZA1bHoIXfMREAN98QN+EJDQDXqT6WN1kFA9bywuBGFQEAkbWaCDZk+QKFRBMApVjxAhO13Kw4+OkCrKVtdkU04QCbOn7/FgTZAIwDaIfXXNED53y2hnE0zQDXssd1o4DFAc7+MdzKOMEAMFwKd9akuQPj//f3RZSxAlFheMI5MKkBc5YEN/1ooQH2ULGE1jiZAUapge3njJEA=",
          "dtype": "f8"
         },
         "y": {
          "bdata": "AAAAAAAAAAAAAAAAAAAAAAAAAAAAAAAAAAAAAAAAAAAAAAAAAAAAAAAAAAAAAAAAAAAAAAAAAAAAAAAAAAAAAAAAAAAAAAAAAAAAAAAAAAAAAAAAAAAAAAAAAAAAAAAAAAAAAAAAAAAAAAAAAAAAAAAAAAAAAAAAAAAAAAAAAAAAAAAAAAAAAAAAAAAAAAAAAAAAAAAAAAAAAAAAAAAAAAAAAAAAAAAAAAAAAAAAAAAAAAAAAAAAAAAAAAAAAAAAAAAAAAAAAAAAAAAAAAAAAAAAAAAAAAAAAAAAAAAAAAAAAAAAAAAAAAAAAAAAAAAAAAAAAAAAAAAAAAAAAAAAAAAAAAAAAAAAAAAAAAAAAAAAAAAAAAAAAAAAAAAAAACAAAAAAAAAAIAAAAAAAAAAgAAAAAAAAACAAAAAAAAAAIAAAAAAAAAAgAAAAAAAAACAAAAAAAAAAIAAAAAAAAAAgAAAAAAAAACAAAAAAAAAAIAAAAAAAAAAgAAAAAAAAACAAAAAAAAAAIAAAAAAAAAAgAAAAAAAAACAAAAAAAAAAIAAAAAAAAAAgAAAAAAAAACAAAAAAAAAAIAAAAAAAAAAgAAAAAAAAACAAAAAAAAAAIAAAAAAAAAAgAAAAAAAAACAAAAAAAAAAIAAAAAAAAAAgAAAAAAAAACAAAAAAAAAAIAAAAAAAAAAgAAAAAAAAACAWz3qoQoFIcBIg7n6IRNVwLM3SLYOAmfAGjPKtQqjccD8lun3iTV3wJ8vyEaoZ3zAfqzgaNOcgMB1UXAnyMGCwH2sX0rSs4TAHCIVic6ChsDb6+GC8y2IwMURxOoiu4nAiRfc+e4xi8A2DeMaiKOMwKshQ/KL9o3AaKRYH7Qxj8Am7H3MiymQwAO1cuR9oJDALIOCdzwPkcDOAmbfOXaRwJghpJsF+pHAmKIIcRZSksC64T9k2aOSwP8BAn946JLARQuDu3Mpk8DYbfTRFGeTwDELEJUroJPAkkTQtBzWk8AuyUhMfAeUwE87F/IZNZTAsnphpCBglMCWcRUzq4eUwJoX8ZJ/vpTAfSlU3a8blcA=",
          "dtype": "f8"
         }
        },
        {
         "mode": "lines",
         "name": "destination_city_Hyderabad",
         "type": "scatter",
         "x": {
          "bdata": "U2Z8oiRm1EDNDIVrNeTSQAHTEs/LftFA3s4GMMwz0EC+sbqkhQLOQCQaYtHBystA/1gAs/O8yUAR5ipwAdbHQCbUhtoLE8ZAvOvSGGpxxEC4bfmipe7CQFaNGYp2iMFA517rBsA8wECzZ5aSGhO+QLhvNwgd2rtAeH0SYizLuUBZHBoQLeO3QAgju00+H7ZAa4CBybV8tEDHBPKeG/myQPnahZwmkrFA4FYn0LhFsEDMYPSpuCOuQLiuN7uA6atAfa/H7GzZqUCipAH3X/CnQFa0OX53K6ZARRb5tweIpEDpqJ5ilwOjQNZHSwncm6FAPmx2jrZOoEAVnOTvXzSeQNoOE+/s+JtAgnN3V7XnmUBD3uYomv2XQGrUu2+3N5ZA7IWs51+TlEDw8zDxGA6TQE8BX9OWpZFAG9eVRLlXkECv5HlpEEWOQOxefKhhCIxAJ7R7pgX2iUBFYdGp2wqIQFve/CX+Q4ZAvo8QXL6ehEBuQ9xNoBiDQBrXt/1Wr4FADlNE9cBggEBS08kbylV+QGwGKezeF3xAecMw3l0EekDH/8p9JBh4QBY9uqRLUHZAC92bGCOqdECludV7LSNzQD88ToscuXFA+R9Co81pcEDZz+wLjWZuQOMG0b5kJ2xAVFz1Ar4SakAix9+odCVoQIhss++fXGZADAHHII61ZECSPlR+wC1jQPdHHH/nwmFAzwJRUd9yYEAUE/4+WXdeQDv9LiXzNlxAzaMqGSYhWkASAR4vzDJYQNb6qQr7aFZA5HkMeP/AVEDpgJBYWThTQIO2Hdy3zFFAj0Y0AvZ7UEDppxu6LohOQGojACSKRkxAbyo0JZYvSkAgNZYUK0BIQHCJYflcdUZA1bHoIXfMREAN98QN+EJDQDXqT6WN1kFA9bywuBGFQEAkbWaCDZk+QKFRBMApVjxAhO13Kw4+OkCrKVtdkU04QCbOn7/FgTZAIwDaIfXXNED53y2hnE0zQDXssd1o4DFAc7+MdzKOMEAMFwKd9akuQPj//f3RZSxAlFheMI5MKkBc5YEN/1ooQH2ULGE1jiZAUapge3njJEA=",
          "dtype": "f8"
         },
         "y": {
          "bdata": "AAAAAAAAAAAAAAAAAAAAAAAAAAAAAAAAAAAAAAAAAAAAAAAAAAAAAAAAAAAAAAAAAAAAAAAAAAAAAAAAAAAAAAAAAAAAAAAAAAAAAAAAAAAAAAAAAAAAAAAAAAAAAAAAAAAAAAAAAAAAAAAAAAAAAAAAAAAAAAAAAAAAAAAAAAAAAAAAAAAAAAAAAAAAAAAAAAAAAAAAAAAAAAAAAAAAAAAAAAAAAAAAAAAAAAAAAAAAAAAAAAAAAAAAAAAAAAAAAAAAAAAAAAAAAAAAAAAAAAAAAAAAAAAAAAAAAAAAAAAAAAAAAAAAAAAAAAAAAAAAAAAAAAAAAAAAAAAAAAAAAAAAAAAAAAAAAAAAAAAAAAAAAAAAAAAAAAAAAAAAAAAAAAAAAAAAAAAAAAAAAAAAAAAAAAAAAAAAAAAAAAAAAIAAAAAAAAAAgAAAAAAAAACAAAAAAAAAAIAAAAAAAAAAgAAAAAAAAACAAAAAAAAAAIAAAAAAAAAAgAAAAAAAAACAAAAAAAAAAIAAAAAAAAAAgAAAAAAAAACAAAAAAAAAAIAAAAAAAAAAgAAAAAAAAACAAAAAAAAAAIAAAAAAAAAAgAAAAAAAAACAAAAAAAAAAIAAAAAAAAAAgAAAAAAAAACAAAAAAAAAAIAAAAAAAAAAgAAAAAAAAACAAAAAAAAAAIAAAAAAAAAAgAAAAAAAAACAAAAAAAAAAIA0O+QvaqpIwAUlmgwJ4GPAy/3QIgsaccCAnj3rstp3wEi9TIO1JH7AugM/IuX6gcDM4IZ9jqqEwDb+Ni3xJIfA/Cq+wbVxicA7eHRTzZGLwEm0RO3Vio3Ao8EWwq5Yj8A5Ys0h9XmQwK/M9CdAN5HA+VyOTfjmkcD8svCneoiSwK1ZuNViD5PA2YaTHRCOk8AYOhaEtgCUwNtmGT1eg5TAAGpyQq/mlMCPNO3bX0CVwPP2PHwOkJXAV/cbFbjWlcD/gscnQxCWwKwWiHETRpbAMhoNfst4lsBmmvZ4RqeWwApT4ro60pbANV4Gz6r6lsDhGiaG1h+XwMthZY1jVJfADX30fFmrl8A=",
          "dtype": "f8"
         }
        },
        {
         "mode": "lines",
         "name": "destination_city_Kolkata",
         "type": "scatter",
         "x": {
          "bdata": "U2Z8oiRm1EDNDIVrNeTSQAHTEs/LftFA3s4GMMwz0EC+sbqkhQLOQCQaYtHBystA/1gAs/O8yUAR5ipwAdbHQCbUhtoLE8ZAvOvSGGpxxEC4bfmipe7CQFaNGYp2iMFA517rBsA8wECzZ5aSGhO+QLhvNwgd2rtAeH0SYizLuUBZHBoQLeO3QAgju00+H7ZAa4CBybV8tEDHBPKeG/myQPnahZwmkrFA4FYn0LhFsEDMYPSpuCOuQLiuN7uA6atAfa/H7GzZqUCipAH3X/CnQFa0OX53K6ZARRb5tweIpEDpqJ5ilwOjQNZHSwncm6FAPmx2jrZOoEAVnOTvXzSeQNoOE+/s+JtAgnN3V7XnmUBD3uYomv2XQGrUu2+3N5ZA7IWs51+TlEDw8zDxGA6TQE8BX9OWpZFAG9eVRLlXkECv5HlpEEWOQOxefKhhCIxAJ7R7pgX2iUBFYdGp2wqIQFve/CX+Q4ZAvo8QXL6ehEBuQ9xNoBiDQBrXt/1Wr4FADlNE9cBggEBS08kbylV+QGwGKezeF3xAecMw3l0EekDH/8p9JBh4QBY9uqRLUHZAC92bGCOqdECludV7LSNzQD88ToscuXFA+R9Co81pcEDZz+wLjWZuQOMG0b5kJ2xAVFz1Ar4SakAix9+odCVoQIhss++fXGZADAHHII61ZECSPlR+wC1jQPdHHH/nwmFAzwJRUd9yYEAUE/4+WXdeQDv9LiXzNlxAzaMqGSYhWkASAR4vzDJYQNb6qQr7aFZA5HkMeP/AVEDpgJBYWThTQIO2Hdy3zFFAj0Y0AvZ7UEDppxu6LohOQGojACSKRkxAbyo0JZYvSkAgNZYUK0BIQHCJYflcdUZA1bHoIXfMREAN98QN+EJDQDXqT6WN1kFA9bywuBGFQEAkbWaCDZk+QKFRBMApVjxAhO13Kw4+OkCrKVtdkU04QCbOn7/FgTZAIwDaIfXXNED53y2hnE0zQDXssd1o4DFAc7+MdzKOMEAMFwKd9akuQPj//f3RZSxAlFheMI5MKkBc5YEN/1ooQH2ULGE1jiZAUapge3njJEA=",
          "dtype": "f8"
         },
         "y": {
          "bdata": "AAAAAAAAAAAAAAAAAAAAAAAAAAAAAAAAAAAAAAAAAAAAAAAAAAAAAAAAAAAAAAAAAAAAAAAAAAAAAAAAAAAAAAAAAAAAAAAAAAAAAAAAAAAAAAAAAAAAAAAAAAAAAAAAAAAAAAAAAAAAAAAAAAAAAAAAAAAAAAAAAAAAAAAAAAAAAAAAAAAAAAAAAAAAAAAAAAAAAAAAAAAAAAAAAAAAAAAAAAAAAAAAAAAAAAAAAAAAAAAAAAAAAAAAAAAAAAAAAAAAAAAAAAAAAAAAAAAAAAAAAAAAAAAAAAAAAAAAAAAAAAAAAAAAAAAAAAAAAAAAAAAAAAAAAAAAAAAAAAAAAAAAAAAAAAAAAAAAAAAAAAAAAAAAAAAAAAAAAAAAAAAAAAAAAAAAAAAAAAAAAAAAAAAAAAAAAAAAAAAAAAAAAAAAAAAAAAAAAAAAAAAAAAAAAAAAAAAAAAAAAAAAAAAAAAAAAAAAAAAAAAAAAAAAAAAAAAAAAAAAAAAAAAAAAAAAAAAAAAAAAAAAAAAAAAAAAAAAAAAAAAAAAAAAAAAAAAAAAAAAAAAAAAAAAAAAAAAAAAAAAAAAAAAAAAAAAAAAADJLcEO3w1dAKCdTfq9tb0By0wkEU8N4QB8fXdBJkoBAnBiOXqd0hEBrnciJmgyIQAkHk4i9fYtAd9gIH7m4jkCIAdL0z8OQQMLRKOF1FZJAHUv4d9BCk0AqiceRIwWUQOQa5OKma5RA9wcduky0lEDwcy6eXeOUQLiqXnUeDZVAL7Plom81lUCcyjvjvlGVQGvWP7D2aZVA+3p7K5B/lUDjy6jZVZSVQDz4GrLPppVAzmyPIVm3lUCf318UWcSVQPp9pqkh0pVAXe0R71relUDiOdEK4OqVQEnaD5MYBJZAWF0vei0alkCFc3Rkxy6WQLeUJ+5nIJZAKeIxqsYplkCJn4cP9DSWQGYrOEBAQJZAypYNcylMlkDPh6nEp12WQKVX9UxabZZA+ZmV0vp6lkANyME/GoiWQN6fznBZlJZAmRfRRASflkClgAFGMqmWQGnujmbloJZAn6vMfaRylkA=",
          "dtype": "f8"
         }
        },
        {
         "mode": "lines",
         "name": "destination_city_Mumbai",
         "type": "scatter",
         "x": {
          "bdata": "U2Z8oiRm1EDNDIVrNeTSQAHTEs/LftFA3s4GMMwz0EC+sbqkhQLOQCQaYtHBystA/1gAs/O8yUAR5ipwAdbHQCbUhtoLE8ZAvOvSGGpxxEC4bfmipe7CQFaNGYp2iMFA517rBsA8wECzZ5aSGhO+QLhvNwgd2rtAeH0SYizLuUBZHBoQLeO3QAgju00+H7ZAa4CBybV8tEDHBPKeG/myQPnahZwmkrFA4FYn0LhFsEDMYPSpuCOuQLiuN7uA6atAfa/H7GzZqUCipAH3X/CnQFa0OX53K6ZARRb5tweIpEDpqJ5ilwOjQNZHSwncm6FAPmx2jrZOoEAVnOTvXzSeQNoOE+/s+JtAgnN3V7XnmUBD3uYomv2XQGrUu2+3N5ZA7IWs51+TlEDw8zDxGA6TQE8BX9OWpZFAG9eVRLlXkECv5HlpEEWOQOxefKhhCIxAJ7R7pgX2iUBFYdGp2wqIQFve/CX+Q4ZAvo8QXL6ehEBuQ9xNoBiDQBrXt/1Wr4FADlNE9cBggEBS08kbylV+QGwGKezeF3xAecMw3l0EekDH/8p9JBh4QBY9uqRLUHZAC92bGCOqdECludV7LSNzQD88ToscuXFA+R9Co81pcEDZz+wLjWZuQOMG0b5kJ2xAVFz1Ar4SakAix9+odCVoQIhss++fXGZADAHHII61ZECSPlR+wC1jQPdHHH/nwmFAzwJRUd9yYEAUE/4+WXdeQDv9LiXzNlxAzaMqGSYhWkASAR4vzDJYQNb6qQr7aFZA5HkMeP/AVEDpgJBYWThTQIO2Hdy3zFFAj0Y0AvZ7UEDppxu6LohOQGojACSKRkxAbyo0JZYvSkAgNZYUK0BIQHCJYflcdUZA1bHoIXfMREAN98QN+EJDQDXqT6WN1kFA9bywuBGFQEAkbWaCDZk+QKFRBMApVjxAhO13Kw4+OkCrKVtdkU04QCbOn7/FgTZAIwDaIfXXNED53y2hnE0zQDXssd1o4DFAc7+MdzKOMEAMFwKd9akuQPj//f3RZSxAlFheMI5MKkBc5YEN/1ooQH2ULGE1jiZAUapge3njJEA=",
          "dtype": "f8"
         },
         "y": {
          "bdata": "AAAAAAAAAAAAAAAAAAAAAAAAAAAAAAAAAAAAAAAAAAAAAAAAAAAAAAAAAAAAAAAAAAAAAAAAAAAAAAAAAAAAAAAAAAAAAAAAAAAAAAAAAAAAAAAAAAAAAAAAAAAAAAAAAAAAAAAAAAAAAAAAAAAAAAAAAAAAAAAAAAAAAAAAAAAAAAAAAAAAAAAAAAAAAAAAAAAAAAAAAAAAAAAAAAAAAAAAAAAAAAAAAAAAAAAAAAAAAAAAAAAAAAAAAAAAAAAAAAAAAAAAAAAAAAAAAAAAAAAAAAAAAAAAAAAAAAAAAAAAAAAAAAAAAAAAAAAAAAAAAAAAAAAAAAAAAAAAAAAAAAAAAAAAAAAAAAAAAAAAAAAAAAAAAAAAAAAAAAAAAAAAAAAAAAAAAAAAAAAAAAAAAAAAAAAAAAAAAAAAAAAAAAAAAAAAAAAAAAAAAAAAAAAAAAAAAAAAAAAAAAAAAAAAAAAAAAAAAAAAAAAAAAAAAAAAAAAAAAAAAAAAAAAAAAAAAAAAAAAAAAAAAAAAAAAAAAAAAAAAAAAAAAAAAAAAAAAAAAAAAAAAAAAAAAAAAAAAAAAAAAAAAAAAAAAAAAAAAAAAAAAAAAAAAAAAAAAAAAAAAAAAAAAAAAAAAAAAAAAAAAAAAAAAAAAAAAAAAAAAAAAAAAAAAAAAAAAAAAAAAAAAAAAAAAAAAAAAAAAAAAAAAAAAAAAAAAAAAAAAAAAAAAAAAAAAAAAAAAAAAAAAAAAAAAAAAAAAAAAAAAAAAAAAAAAAAAAAAAAAAAAAAAAAAAAAAAAAAAAAAAAAAAAAAAAAAAAAAAAAAAAAAAAAAAAAAAAAAAAAAAAAAAAAAAAAAAAAAAAAAAAAAAAAAAAAAAAquEZDllfdPzl+ytrxISRAqme724o9MkAUdImV8LA6QIrHyWRrhjtAAIENI8SdP0CCRi7ThiRCQPvxnshdpERAPafkx4k5R0BPtEHK3yRKQLcfPwy8m0xASNYiJ4zLTkBn03hbCXBQQBq4DKPsZ1FAJluNjAtEUkC1a2k79hBTQCa8wcH1SFJAmQtrzWQkTkA=",
          "dtype": "f8"
         }
        },
        {
         "mode": "lines",
         "name": "class_Economy",
         "type": "scatter",
         "x": {
          "bdata": "U2Z8oiRm1EDNDIVrNeTSQAHTEs/LftFA3s4GMMwz0EC+sbqkhQLOQCQaYtHBystA/1gAs/O8yUAR5ipwAdbHQCbUhtoLE8ZAvOvSGGpxxEC4bfmipe7CQFaNGYp2iMFA517rBsA8wECzZ5aSGhO+QLhvNwgd2rtAeH0SYizLuUBZHBoQLeO3QAgju00+H7ZAa4CBybV8tEDHBPKeG/myQPnahZwmkrFA4FYn0LhFsEDMYPSpuCOuQLiuN7uA6atAfa/H7GzZqUCipAH3X/CnQFa0OX53K6ZARRb5tweIpEDpqJ5ilwOjQNZHSwncm6FAPmx2jrZOoEAVnOTvXzSeQNoOE+/s+JtAgnN3V7XnmUBD3uYomv2XQGrUu2+3N5ZA7IWs51+TlEDw8zDxGA6TQE8BX9OWpZFAG9eVRLlXkECv5HlpEEWOQOxefKhhCIxAJ7R7pgX2iUBFYdGp2wqIQFve/CX+Q4ZAvo8QXL6ehEBuQ9xNoBiDQBrXt/1Wr4FADlNE9cBggEBS08kbylV+QGwGKezeF3xAecMw3l0EekDH/8p9JBh4QBY9uqRLUHZAC92bGCOqdECludV7LSNzQD88ToscuXFA+R9Co81pcEDZz+wLjWZuQOMG0b5kJ2xAVFz1Ar4SakAix9+odCVoQIhss++fXGZADAHHII61ZECSPlR+wC1jQPdHHH/nwmFAzwJRUd9yYEAUE/4+WXdeQDv9LiXzNlxAzaMqGSYhWkASAR4vzDJYQNb6qQr7aFZA5HkMeP/AVEDpgJBYWThTQIO2Hdy3zFFAj0Y0AvZ7UEDppxu6LohOQGojACSKRkxAbyo0JZYvSkAgNZYUK0BIQHCJYflcdUZA1bHoIXfMREAN98QN+EJDQDXqT6WN1kFA9bywuBGFQEAkbWaCDZk+QKFRBMApVjxAhO13Kw4+OkCrKVtdkU04QCbOn7/FgTZAIwDaIfXXNED53y2hnE0zQDXssd1o4DFAc7+MdzKOMEAMFwKd9akuQPj//f3RZSxAlFheMI5MKkBc5YEN/1ooQH2ULGE1jiZAUapge3njJEA=",
          "dtype": "f8"
         },
         "y": {
          "bdata": "AAAAAAAAAAAAAAAAAAAAAAAAAAAAAAAAAAAAAAAAAAAAAAAAAAAAAAAAAAAAAACAAAAAAAAAAIAAAAAAAAAAgAAAAAAAAACAAAAAAAAAAIAAAAAAAAAAgAAAAAAAAACAAAAAAAAAAIAAAAAAAAAAgAAAAAAAAACAAAAAAAAAAIAAAAAAAAAAgPuQucOTeXbAKcnsyelZrMBKO+m2eAe6wN9yewB9gcLApSxTqamWx8DJnES3iEvMwDkW7zcYVNDAmYuADrNY0sBhYI5wUzfUwN9TvFWo69XAUThj9ECA18CMwtwMX/bYwJrCE4ZqUdrAbJJZh9GS28BM5oY83rvcwL6Gdxs8z93Agn8xCQbO3sDFi2QM+7nfwP8BNPU/SuDA2bDWWyuv4MBVw9tK5AzhwD8UhByxY+HAnBVawBO04cAjOxiPhf7hwIy067E6Q+LAp97W8RaD4sDMTA8zPL7iwDsTyHwC9eLA8FmIu4In48CBtjN4/FbjwHBz85cgg+PADXYnwBus48CVjtokENLjwPW8gXk29ePAWyriOo8V5MCmr6oZtzPkwLDOY+GlT+TAyDfIO4Rp5MDGVdLpRoHkwFyuXtzSl+TAUzAMTs2s5MBjdgmxRsDkwKuVpGdQ0uTAsFRr1dbi5MCzqEjhTvLkwJHrJ2iNAOXAwstX9dUN5cCrfIBdBxrlwAoPtftOJeXAof/kQdov5cDs/kYCPDnlwNgDeyHzQeXAu9tDN0RL5cB5odweHlblwIBfQopLYOXABe3ly6tp5cAE0ufRPXPlwDIAE1BSfOXA0lcSjMyE5cD2Ej7clYzlwMQA1jjck+XAgyvy/Y+a5cAJbbpZyqDlwAxFSAaRpuXArpQqs/Or5cANCP/t6LDlwOhU6VGLteXAqYbIZ7a55cDpz1JMxr3lwDcCuKjdweXA5ACX4HzG5cB0c0vdssnlwAi7+O+czOXAGKctF13P5cDORPzp1tHlwOEv2a4d1OXAZ9ijAELW5cDhCEhUONjlwBKpBIAI2uXAx/Dbnb3b5cCu7jclTt3lwCLDGOq03uXArkVRqGHg5cA=",
          "dtype": "f8"
         }
        },
        {
         "hovertemplate": "Alpha: 19344.8347<br>Non-zero features: 1<extra></extra>",
         "line": {
          "color": "gray",
          "dash": "dot"
         },
         "mode": "lines",
         "showlegend": false,
         "type": "scatter",
         "x": [
          19344.83468748331,
          19344.83468748331
         ],
         "y": [
          -44803.0517965661,
          51092.91444573442
         ]
        },
        {
         "hovertemplate": "Alpha: 6603.1734<br>Non-zero features: 2<extra></extra>",
         "line": {
          "color": "gray",
          "dash": "dot"
         },
         "mode": "lines",
         "showlegend": false,
         "type": "scatter",
         "x": [
          6603.173371463425,
          6603.173371463425
         ],
         "y": [
          -44803.0517965661,
          51092.91444573442
         ]
        },
        {
         "hovertemplate": "Alpha: 5663.2434<br>Non-zero features: 3<extra></extra>",
         "line": {
          "color": "gray",
          "dash": "dot"
         },
         "mode": "lines",
         "showlegend": false,
         "type": "scatter",
         "x": [
          5663.243373580983,
          5663.243373580983
         ],
         "y": [
          -44803.0517965661,
          51092.91444573442
         ]
        },
        {
         "hovertemplate": "Alpha: 3064.1874<br>Non-zero features: 4<extra></extra>",
         "line": {
          "color": "gray",
          "dash": "dot"
         },
         "mode": "lines",
         "showlegend": false,
         "type": "scatter",
         "x": [
          3064.1874313844173,
          3064.1874313844173
         ],
         "y": [
          -44803.0517965661,
          51092.91444573442
         ]
        },
        {
         "hovertemplate": "Alpha: 1790.2314<br>Non-zero features: 5<extra></extra>",
         "line": {
          "color": "gray",
          "dash": "dot"
         },
         "mode": "lines",
         "showlegend": false,
         "type": "scatter",
         "x": [
          1790.231380746633,
          1790.231380746633
         ],
         "y": [
          -44803.0517965661,
          51092.91444573442
         ]
        },
        {
         "hovertemplate": "Alpha: 611.0783<br>Non-zero features: 6<extra></extra>",
         "line": {
          "color": "gray",
          "dash": "dot"
         },
         "mode": "lines",
         "showlegend": false,
         "type": "scatter",
         "x": [
          611.0782735069349,
          611.0782735069349
         ],
         "y": [
          -44803.0517965661,
          51092.91444573442
         ]
        },
        {
         "hovertemplate": "Alpha: 283.5695<br>Non-zero features: 8<extra></extra>",
         "line": {
          "color": "gray",
          "dash": "dot"
         },
         "mode": "lines",
         "showlegend": false,
         "type": "scatter",
         "x": [
          283.5694687896793,
          283.5694687896793
         ],
         "y": [
          -44803.0517965661,
          51092.91444573442
         ]
        },
        {
         "hovertemplate": "Alpha: 178.8945<br>Non-zero features: 9<extra></extra>",
         "line": {
          "color": "gray",
          "dash": "dot"
         },
         "mode": "lines",
         "showlegend": false,
         "type": "scatter",
         "x": [
          178.89452347797146,
          178.89452347797146
         ],
         "y": [
          -44803.0517965661,
          51092.91444573442
         ]
        },
        {
         "hovertemplate": "Alpha: 165.6736<br>Non-zero features: 10<extra></extra>",
         "line": {
          "color": "gray",
          "dash": "dot"
         },
         "mode": "lines",
         "showlegend": false,
         "type": "scatter",
         "x": [
          165.67359961383806,
          165.67359961383806
         ],
         "y": [
          -44803.0517965661,
          51092.91444573442
         ]
        },
        {
         "hovertemplate": "Alpha: 131.5898<br>Non-zero features: 11<extra></extra>",
         "line": {
          "color": "gray",
          "dash": "dot"
         },
         "mode": "lines",
         "showlegend": false,
         "type": "scatter",
         "x": [
          131.589760454392,
          131.589760454392
         ],
         "y": [
          -44803.0517965661,
          51092.91444573442
         ]
        },
        {
         "hovertemplate": "Alpha: 121.8648<br>Non-zero features: 13<extra></extra>",
         "line": {
          "color": "gray",
          "dash": "dot"
         },
         "mode": "lines",
         "showlegend": false,
         "type": "scatter",
         "x": [
          121.8648221474835,
          121.8648221474835
         ],
         "y": [
          -44803.0517965661,
          51092.91444573442
         ]
        },
        {
         "hovertemplate": "Alpha: 112.8586<br>Non-zero features: 14<extra></extra>",
         "line": {
          "color": "gray",
          "dash": "dot"
         },
         "mode": "lines",
         "showlegend": false,
         "type": "scatter",
         "x": [
          112.85859040821826,
          112.85859040821826
         ],
         "y": [
          -44803.0517965661,
          51092.91444573442
         ]
        },
        {
         "hovertemplate": "Alpha: 104.5180<br>Non-zero features: 15<extra></extra>",
         "line": {
          "color": "gray",
          "dash": "dot"
         },
         "mode": "lines",
         "showlegend": false,
         "type": "scatter",
         "x": [
          104.51795033611343,
          104.51795033611343
         ],
         "y": [
          -44803.0517965661,
          51092.91444573442
         ]
        },
        {
         "hovertemplate": "Alpha: 96.7937<br>Non-zero features: 16<extra></extra>",
         "line": {
          "color": "gray",
          "dash": "dot"
         },
         "mode": "lines",
         "showlegend": false,
         "type": "scatter",
         "x": [
          96.79371240549179,
          96.79371240549179
         ],
         "y": [
          -44803.0517965661,
          51092.91444573442
         ]
        },
        {
         "hovertemplate": "Alpha: 89.6403<br>Non-zero features: 17<extra></extra>",
         "line": {
          "color": "gray",
          "dash": "dot"
         },
         "mode": "lines",
         "showlegend": false,
         "type": "scatter",
         "x": [
          89.64032236671059,
          89.64032236671059
         ],
         "y": [
          -44803.0517965661,
          51092.91444573442
         ]
        },
        {
         "hovertemplate": "Alpha: 76.8805<br>Non-zero features: 18<extra></extra>",
         "line": {
          "color": "gray",
          "dash": "dot"
         },
         "mode": "lines",
         "showlegend": false,
         "type": "scatter",
         "x": [
          76.88045324432063,
          76.88045324432063
         ],
         "y": [
          -44803.0517965661,
          51092.91444573442
         ]
        },
        {
         "hovertemplate": "Alpha: 52.3718<br>Non-zero features: 19<extra></extra>",
         "line": {
          "color": "gray",
          "dash": "dot"
         },
         "mode": "lines",
         "showlegend": false,
         "type": "scatter",
         "x": [
          52.37176957175404,
          52.37176957175404
         ],
         "y": [
          -44803.0517965661,
          51092.91444573442
         ]
        },
        {
         "hovertemplate": "Alpha: 48.5013<br>Non-zero features: 20<extra></extra>",
         "line": {
          "color": "gray",
          "dash": "dot"
         },
         "mode": "lines",
         "showlegend": false,
         "type": "scatter",
         "x": [
          48.50131470999099,
          48.50131470999099
         ],
         "y": [
          -44803.0517965661,
          51092.91444573442
         ]
        },
        {
         "hovertemplate": "Alpha: 38.5232<br>Non-zero features: 21<extra></extra>",
         "line": {
          "color": "gray",
          "dash": "dot"
         },
         "mode": "lines",
         "showlegend": false,
         "type": "scatter",
         "x": [
          38.52319500081476,
          38.52319500081476
         ],
         "y": [
          -44803.0517965661,
          51092.91444573442
         ]
        },
        {
         "hovertemplate": "Alpha: 35.6762<br>Non-zero features: 22<extra></extra>",
         "line": {
          "color": "gray",
          "dash": "dot"
         },
         "mode": "lines",
         "showlegend": false,
         "type": "scatter",
         "x": [
          35.67619768526166,
          35.67619768526166
         ],
         "y": [
          -44803.0517965661,
          51092.91444573442
         ]
        },
        {
         "hovertemplate": "Alpha: 28.3366<br>Non-zero features: 24<extra></extra>",
         "line": {
          "color": "gray",
          "dash": "dot"
         },
         "mode": "lines",
         "showlegend": false,
         "type": "scatter",
         "x": [
          28.336574555448923,
          28.336574555448923
         ],
         "y": [
          -44803.0517965661,
          51092.91444573442
         ]
        },
        {
         "hovertemplate": "Alpha: 22.5069<br>Non-zero features: 25<extra></extra>",
         "line": {
          "color": "gray",
          "dash": "dot"
         },
         "mode": "lines",
         "showlegend": false,
         "type": "scatter",
         "x": [
          22.506923653140028,
          22.506923653140028
         ],
         "y": [
          -44803.0517965661,
          51092.91444573442
         ]
        },
        {
         "hovertemplate": "Alpha: 20.8436<br>Non-zero features: 26<extra></extra>",
         "line": {
          "color": "gray",
          "dash": "dot"
         },
         "mode": "lines",
         "showlegend": false,
         "type": "scatter",
         "x": [
          20.843584171030795,
          20.843584171030795
         ],
         "y": [
          -44803.0517965661,
          51092.91444573442
         ]
        },
        {
         "hovertemplate": "Alpha: 19.3032<br>Non-zero features: 27<extra></extra>",
         "line": {
          "color": "gray",
          "dash": "dot"
         },
         "mode": "lines",
         "showlegend": false,
         "type": "scatter",
         "x": [
          19.30317122812264,
          19.30317122812264
         ],
         "y": [
          -44803.0517965661,
          51092.91444573442
         ]
        },
        {
         "hovertemplate": "Alpha: 12.1777<br>Non-zero features: 28<extra></extra>",
         "line": {
          "color": "gray",
          "dash": "dot"
         },
         "mode": "lines",
         "showlegend": false,
         "type": "scatter",
         "x": [
          12.177727148157537,
          12.177727148157537
         ],
         "y": [
          -44803.0517965661,
          51092.91444573442
         ]
        },
        {
         "hovertemplate": "Alpha: 11.2778<br>Non-zero features: 29<extra></extra>",
         "line": {
          "color": "gray",
          "dash": "dot"
         },
         "mode": "lines",
         "showlegend": false,
         "type": "scatter",
         "x": [
          11.277751003925227,
          11.277751003925227
         ],
         "y": [
          -44803.0517965661,
          51092.91444573442
         ]
        }
       ],
       "layout": {
        "height": 600,
        "legend": {
         "title": {
          "text": "Features"
         }
        },
        "template": {
         "data": {
          "bar": [
           {
            "error_x": {
             "color": "#2a3f5f"
            },
            "error_y": {
             "color": "#2a3f5f"
            },
            "marker": {
             "line": {
              "color": "white",
              "width": 0.5
             },
             "pattern": {
              "fillmode": "overlay",
              "size": 10,
              "solidity": 0.2
             }
            },
            "type": "bar"
           }
          ],
          "barpolar": [
           {
            "marker": {
             "line": {
              "color": "white",
              "width": 0.5
             },
             "pattern": {
              "fillmode": "overlay",
              "size": 10,
              "solidity": 0.2
             }
            },
            "type": "barpolar"
           }
          ],
          "carpet": [
           {
            "aaxis": {
             "endlinecolor": "#2a3f5f",
             "gridcolor": "#C8D4E3",
             "linecolor": "#C8D4E3",
             "minorgridcolor": "#C8D4E3",
             "startlinecolor": "#2a3f5f"
            },
            "baxis": {
             "endlinecolor": "#2a3f5f",
             "gridcolor": "#C8D4E3",
             "linecolor": "#C8D4E3",
             "minorgridcolor": "#C8D4E3",
             "startlinecolor": "#2a3f5f"
            },
            "type": "carpet"
           }
          ],
          "choropleth": [
           {
            "colorbar": {
             "outlinewidth": 0,
             "ticks": ""
            },
            "type": "choropleth"
           }
          ],
          "contour": [
           {
            "colorbar": {
             "outlinewidth": 0,
             "ticks": ""
            },
            "colorscale": [
             [
              0,
              "#0d0887"
             ],
             [
              0.1111111111111111,
              "#46039f"
             ],
             [
              0.2222222222222222,
              "#7201a8"
             ],
             [
              0.3333333333333333,
              "#9c179e"
             ],
             [
              0.4444444444444444,
              "#bd3786"
             ],
             [
              0.5555555555555556,
              "#d8576b"
             ],
             [
              0.6666666666666666,
              "#ed7953"
             ],
             [
              0.7777777777777778,
              "#fb9f3a"
             ],
             [
              0.8888888888888888,
              "#fdca26"
             ],
             [
              1,
              "#f0f921"
             ]
            ],
            "type": "contour"
           }
          ],
          "contourcarpet": [
           {
            "colorbar": {
             "outlinewidth": 0,
             "ticks": ""
            },
            "type": "contourcarpet"
           }
          ],
          "heatmap": [
           {
            "colorbar": {
             "outlinewidth": 0,
             "ticks": ""
            },
            "colorscale": [
             [
              0,
              "#0d0887"
             ],
             [
              0.1111111111111111,
              "#46039f"
             ],
             [
              0.2222222222222222,
              "#7201a8"
             ],
             [
              0.3333333333333333,
              "#9c179e"
             ],
             [
              0.4444444444444444,
              "#bd3786"
             ],
             [
              0.5555555555555556,
              "#d8576b"
             ],
             [
              0.6666666666666666,
              "#ed7953"
             ],
             [
              0.7777777777777778,
              "#fb9f3a"
             ],
             [
              0.8888888888888888,
              "#fdca26"
             ],
             [
              1,
              "#f0f921"
             ]
            ],
            "type": "heatmap"
           }
          ],
          "histogram": [
           {
            "marker": {
             "pattern": {
              "fillmode": "overlay",
              "size": 10,
              "solidity": 0.2
             }
            },
            "type": "histogram"
           }
          ],
          "histogram2d": [
           {
            "colorbar": {
             "outlinewidth": 0,
             "ticks": ""
            },
            "colorscale": [
             [
              0,
              "#0d0887"
             ],
             [
              0.1111111111111111,
              "#46039f"
             ],
             [
              0.2222222222222222,
              "#7201a8"
             ],
             [
              0.3333333333333333,
              "#9c179e"
             ],
             [
              0.4444444444444444,
              "#bd3786"
             ],
             [
              0.5555555555555556,
              "#d8576b"
             ],
             [
              0.6666666666666666,
              "#ed7953"
             ],
             [
              0.7777777777777778,
              "#fb9f3a"
             ],
             [
              0.8888888888888888,
              "#fdca26"
             ],
             [
              1,
              "#f0f921"
             ]
            ],
            "type": "histogram2d"
           }
          ],
          "histogram2dcontour": [
           {
            "colorbar": {
             "outlinewidth": 0,
             "ticks": ""
            },
            "colorscale": [
             [
              0,
              "#0d0887"
             ],
             [
              0.1111111111111111,
              "#46039f"
             ],
             [
              0.2222222222222222,
              "#7201a8"
             ],
             [
              0.3333333333333333,
              "#9c179e"
             ],
             [
              0.4444444444444444,
              "#bd3786"
             ],
             [
              0.5555555555555556,
              "#d8576b"
             ],
             [
              0.6666666666666666,
              "#ed7953"
             ],
             [
              0.7777777777777778,
              "#fb9f3a"
             ],
             [
              0.8888888888888888,
              "#fdca26"
             ],
             [
              1,
              "#f0f921"
             ]
            ],
            "type": "histogram2dcontour"
           }
          ],
          "mesh3d": [
           {
            "colorbar": {
             "outlinewidth": 0,
             "ticks": ""
            },
            "type": "mesh3d"
           }
          ],
          "parcoords": [
           {
            "line": {
             "colorbar": {
              "outlinewidth": 0,
              "ticks": ""
             }
            },
            "type": "parcoords"
           }
          ],
          "pie": [
           {
            "automargin": true,
            "type": "pie"
           }
          ],
          "scatter": [
           {
            "fillpattern": {
             "fillmode": "overlay",
             "size": 10,
             "solidity": 0.2
            },
            "type": "scatter"
           }
          ],
          "scatter3d": [
           {
            "line": {
             "colorbar": {
              "outlinewidth": 0,
              "ticks": ""
             }
            },
            "marker": {
             "colorbar": {
              "outlinewidth": 0,
              "ticks": ""
             }
            },
            "type": "scatter3d"
           }
          ],
          "scattercarpet": [
           {
            "marker": {
             "colorbar": {
              "outlinewidth": 0,
              "ticks": ""
             }
            },
            "type": "scattercarpet"
           }
          ],
          "scattergeo": [
           {
            "marker": {
             "colorbar": {
              "outlinewidth": 0,
              "ticks": ""
             }
            },
            "type": "scattergeo"
           }
          ],
          "scattergl": [
           {
            "marker": {
             "colorbar": {
              "outlinewidth": 0,
              "ticks": ""
             }
            },
            "type": "scattergl"
           }
          ],
          "scattermap": [
           {
            "marker": {
             "colorbar": {
              "outlinewidth": 0,
              "ticks": ""
             }
            },
            "type": "scattermap"
           }
          ],
          "scattermapbox": [
           {
            "marker": {
             "colorbar": {
              "outlinewidth": 0,
              "ticks": ""
             }
            },
            "type": "scattermapbox"
           }
          ],
          "scatterpolar": [
           {
            "marker": {
             "colorbar": {
              "outlinewidth": 0,
              "ticks": ""
             }
            },
            "type": "scatterpolar"
           }
          ],
          "scatterpolargl": [
           {
            "marker": {
             "colorbar": {
              "outlinewidth": 0,
              "ticks": ""
             }
            },
            "type": "scatterpolargl"
           }
          ],
          "scatterternary": [
           {
            "marker": {
             "colorbar": {
              "outlinewidth": 0,
              "ticks": ""
             }
            },
            "type": "scatterternary"
           }
          ],
          "surface": [
           {
            "colorbar": {
             "outlinewidth": 0,
             "ticks": ""
            },
            "colorscale": [
             [
              0,
              "#0d0887"
             ],
             [
              0.1111111111111111,
              "#46039f"
             ],
             [
              0.2222222222222222,
              "#7201a8"
             ],
             [
              0.3333333333333333,
              "#9c179e"
             ],
             [
              0.4444444444444444,
              "#bd3786"
             ],
             [
              0.5555555555555556,
              "#d8576b"
             ],
             [
              0.6666666666666666,
              "#ed7953"
             ],
             [
              0.7777777777777778,
              "#fb9f3a"
             ],
             [
              0.8888888888888888,
              "#fdca26"
             ],
             [
              1,
              "#f0f921"
             ]
            ],
            "type": "surface"
           }
          ],
          "table": [
           {
            "cells": {
             "fill": {
              "color": "#EBF0F8"
             },
             "line": {
              "color": "white"
             }
            },
            "header": {
             "fill": {
              "color": "#C8D4E3"
             },
             "line": {
              "color": "white"
             }
            },
            "type": "table"
           }
          ]
         },
         "layout": {
          "annotationdefaults": {
           "arrowcolor": "#2a3f5f",
           "arrowhead": 0,
           "arrowwidth": 1
          },
          "autotypenumbers": "strict",
          "coloraxis": {
           "colorbar": {
            "outlinewidth": 0,
            "ticks": ""
           }
          },
          "colorscale": {
           "diverging": [
            [
             0,
             "#8e0152"
            ],
            [
             0.1,
             "#c51b7d"
            ],
            [
             0.2,
             "#de77ae"
            ],
            [
             0.3,
             "#f1b6da"
            ],
            [
             0.4,
             "#fde0ef"
            ],
            [
             0.5,
             "#f7f7f7"
            ],
            [
             0.6,
             "#e6f5d0"
            ],
            [
             0.7,
             "#b8e186"
            ],
            [
             0.8,
             "#7fbc41"
            ],
            [
             0.9,
             "#4d9221"
            ],
            [
             1,
             "#276419"
            ]
           ],
           "sequential": [
            [
             0,
             "#0d0887"
            ],
            [
             0.1111111111111111,
             "#46039f"
            ],
            [
             0.2222222222222222,
             "#7201a8"
            ],
            [
             0.3333333333333333,
             "#9c179e"
            ],
            [
             0.4444444444444444,
             "#bd3786"
            ],
            [
             0.5555555555555556,
             "#d8576b"
            ],
            [
             0.6666666666666666,
             "#ed7953"
            ],
            [
             0.7777777777777778,
             "#fb9f3a"
            ],
            [
             0.8888888888888888,
             "#fdca26"
            ],
            [
             1,
             "#f0f921"
            ]
           ],
           "sequentialminus": [
            [
             0,
             "#0d0887"
            ],
            [
             0.1111111111111111,
             "#46039f"
            ],
            [
             0.2222222222222222,
             "#7201a8"
            ],
            [
             0.3333333333333333,
             "#9c179e"
            ],
            [
             0.4444444444444444,
             "#bd3786"
            ],
            [
             0.5555555555555556,
             "#d8576b"
            ],
            [
             0.6666666666666666,
             "#ed7953"
            ],
            [
             0.7777777777777778,
             "#fb9f3a"
            ],
            [
             0.8888888888888888,
             "#fdca26"
            ],
            [
             1,
             "#f0f921"
            ]
           ]
          },
          "colorway": [
           "#636efa",
           "#EF553B",
           "#00cc96",
           "#ab63fa",
           "#FFA15A",
           "#19d3f3",
           "#FF6692",
           "#B6E880",
           "#FF97FF",
           "#FECB52"
          ],
          "font": {
           "color": "#2a3f5f"
          },
          "geo": {
           "bgcolor": "white",
           "lakecolor": "white",
           "landcolor": "white",
           "showlakes": true,
           "showland": true,
           "subunitcolor": "#C8D4E3"
          },
          "hoverlabel": {
           "align": "left"
          },
          "hovermode": "closest",
          "mapbox": {
           "style": "light"
          },
          "paper_bgcolor": "white",
          "plot_bgcolor": "white",
          "polar": {
           "angularaxis": {
            "gridcolor": "#EBF0F8",
            "linecolor": "#EBF0F8",
            "ticks": ""
           },
           "bgcolor": "white",
           "radialaxis": {
            "gridcolor": "#EBF0F8",
            "linecolor": "#EBF0F8",
            "ticks": ""
           }
          },
          "scene": {
           "xaxis": {
            "backgroundcolor": "white",
            "gridcolor": "#DFE8F3",
            "gridwidth": 2,
            "linecolor": "#EBF0F8",
            "showbackground": true,
            "ticks": "",
            "zerolinecolor": "#EBF0F8"
           },
           "yaxis": {
            "backgroundcolor": "white",
            "gridcolor": "#DFE8F3",
            "gridwidth": 2,
            "linecolor": "#EBF0F8",
            "showbackground": true,
            "ticks": "",
            "zerolinecolor": "#EBF0F8"
           },
           "zaxis": {
            "backgroundcolor": "white",
            "gridcolor": "#DFE8F3",
            "gridwidth": 2,
            "linecolor": "#EBF0F8",
            "showbackground": true,
            "ticks": "",
            "zerolinecolor": "#EBF0F8"
           }
          },
          "shapedefaults": {
           "line": {
            "color": "#2a3f5f"
           }
          },
          "ternary": {
           "aaxis": {
            "gridcolor": "#DFE8F3",
            "linecolor": "#A2B1C6",
            "ticks": ""
           },
           "baxis": {
            "gridcolor": "#DFE8F3",
            "linecolor": "#A2B1C6",
            "ticks": ""
           },
           "bgcolor": "white",
           "caxis": {
            "gridcolor": "#DFE8F3",
            "linecolor": "#A2B1C6",
            "ticks": ""
           }
          },
          "title": {
           "x": 0.05
          },
          "xaxis": {
           "automargin": true,
           "gridcolor": "#EBF0F8",
           "linecolor": "#EBF0F8",
           "ticks": "",
           "title": {
            "standoff": 15
           },
           "zerolinecolor": "#EBF0F8",
           "zerolinewidth": 2
          },
          "yaxis": {
           "automargin": true,
           "gridcolor": "#EBF0F8",
           "linecolor": "#EBF0F8",
           "ticks": "",
           "title": {
            "standoff": 15
           },
           "zerolinecolor": "#EBF0F8",
           "zerolinewidth": 2
          }
         }
        },
        "title": {
         "text": "Lasso Regularization Path (with Feature Selection Steps)"
        },
        "width": 900,
        "xaxis": {
         "title": {
          "text": "Alpha (log scale)"
         },
         "type": "log"
        },
        "yaxis": {
         "title": {
          "text": "Coefficient Value"
         }
        }
       }
      }
     },
     "metadata": {},
     "output_type": "display_data"
    }
   ],
   "source": [
    "import numpy as np\n",
    "import plotly.graph_objects as go\n",
    "from sklearn.linear_model import lasso_path\n",
    "\n",
    "# Compute Lasso path\n",
    "X_pipeline = preprocessor.fit_transform(X_train)\n",
    "alphas_lasso, coefs_lasso, _ = lasso_path(X_pipeline, y_train, eps=5e-4)\n",
    "feature_names = X_train.columns.to_list()\n",
    "\n",
    "# Count non-zero coefficients per alpha\n",
    "nonzero_counts = (coefs_lasso != 0).sum(axis=0)\n",
    "\n",
    "# Find where non-zero count changes\n",
    "change_indices = np.where(np.diff(nonzero_counts) != 0)[0] + 1\n",
    "change_alphas = alphas_lasso[change_indices]\n",
    "change_counts = nonzero_counts[change_indices]\n",
    "\n",
    "# Create base plot: coefficient paths\n",
    "fig = go.Figure()\n",
    "\n",
    "for coef, name in zip(coefs_lasso, feature_names):\n",
    "    fig.add_trace(go.Scatter(\n",
    "        x=alphas_lasso,\n",
    "        y=coef,\n",
    "        mode='lines',\n",
    "        name=name\n",
    "    ))\n",
    "\n",
    "# Add vertical dotted lines where non-zero feature count changes\n",
    "for alpha, count in zip(change_alphas, change_counts):\n",
    "    fig.add_trace(go.Scatter(\n",
    "        x=[alpha, alpha],\n",
    "        y=[coefs_lasso.min(), coefs_lasso.max()],\n",
    "        mode='lines',\n",
    "        line=dict(dash='dot', color='gray'),\n",
    "        showlegend=False,\n",
    "        hovertemplate=f\"Alpha: {alpha:.4f}<br>Non-zero features: {count}<extra></extra>\"\n",
    "    ))\n",
    "\n",
    "# Final layout\n",
    "fig.update_layout(\n",
    "    title='Lasso Regularization Path (with Feature Selection Steps)',\n",
    "    xaxis=dict(title='Alpha (log scale)', type='log'),\n",
    "    yaxis=dict(title='Coefficient Value'),\n",
    "    template='plotly_white',\n",
    "    legend_title_text='Features',\n",
    "    width=900,\n",
    "    height=600\n",
    ")\n",
    "\n",
    "fig.show()\n"
   ]
  },
  {
   "cell_type": "markdown",
   "id": "e662924f",
   "metadata": {},
   "source": [
    "## Final Selected Model"
   ]
  },
  {
   "cell_type": "code",
   "execution_count": 18,
   "id": "c419aaf2",
   "metadata": {},
   "outputs": [
    {
     "name": "stdout",
     "output_type": "stream",
     "text": [
      "Selected Alpha from 1-SE rule: 30.0\n",
      "\n",
      "Metrics Training:\n",
      "R²: 0.911\n",
      "MSE: 45938135.87\n",
      "RMSE: 6777.77\n",
      "MAE: 4546.78\n",
      "\n",
      "Metrics Test:\n",
      "R²: 0.911\n",
      "MSE: 46065085.54\n",
      "RMSE: 6787.13\n",
      "MAE: 4526.19\n",
      "\n",
      "Selected Coefficients (non-zero): 19\n"
     ]
    },
    {
     "data": {
      "text/html": [
       "<div>\n",
       "<style scoped>\n",
       "    .dataframe tbody tr th:only-of-type {\n",
       "        vertical-align: middle;\n",
       "    }\n",
       "\n",
       "    .dataframe tbody tr th {\n",
       "        vertical-align: top;\n",
       "    }\n",
       "\n",
       "    .dataframe thead th {\n",
       "        text-align: right;\n",
       "    }\n",
       "</style>\n",
       "<table border=\"1\" class=\"dataframe\">\n",
       "  <thead>\n",
       "    <tr style=\"text-align: right;\">\n",
       "      <th></th>\n",
       "      <th>Selected Feature</th>\n",
       "      <th>Coefficient</th>\n",
       "    </tr>\n",
       "  </thead>\n",
       "  <tbody>\n",
       "    <tr>\n",
       "      <th>0</th>\n",
       "      <td>class_Economy</td>\n",
       "      <td>-44712.037512</td>\n",
       "    </tr>\n",
       "    <tr>\n",
       "      <th>1</th>\n",
       "      <td>stops_zero</td>\n",
       "      <td>-7233.533484</td>\n",
       "    </tr>\n",
       "    <tr>\n",
       "      <th>2</th>\n",
       "      <td>airline_Vistara</td>\n",
       "      <td>2688.257792</td>\n",
       "    </tr>\n",
       "    <tr>\n",
       "      <th>3</th>\n",
       "      <td>duration</td>\n",
       "      <td>-1753.843322</td>\n",
       "    </tr>\n",
       "    <tr>\n",
       "      <th>4</th>\n",
       "      <td>source_city_Kolkata</td>\n",
       "      <td>1534.823157</td>\n",
       "    </tr>\n",
       "    <tr>\n",
       "      <th>5</th>\n",
       "      <td>destination_city_Hyderabad</td>\n",
       "      <td>-1364.363190</td>\n",
       "    </tr>\n",
       "    <tr>\n",
       "      <th>6</th>\n",
       "      <td>destination_city_Kolkata</td>\n",
       "      <td>1315.960962</td>\n",
       "    </tr>\n",
       "    <tr>\n",
       "      <th>7</th>\n",
       "      <td>source_city_Hyderabad</td>\n",
       "      <td>-1279.974772</td>\n",
       "    </tr>\n",
       "    <tr>\n",
       "      <th>8</th>\n",
       "      <td>destination_city_Delhi</td>\n",
       "      <td>-1244.439433</td>\n",
       "    </tr>\n",
       "    <tr>\n",
       "      <th>9</th>\n",
       "      <td>stops_two_or_more</td>\n",
       "      <td>1171.393483</td>\n",
       "    </tr>\n",
       "    <tr>\n",
       "      <th>10</th>\n",
       "      <td>airline_Air_India</td>\n",
       "      <td>-1135.031607</td>\n",
       "    </tr>\n",
       "    <tr>\n",
       "      <th>11</th>\n",
       "      <td>source_city_Delhi</td>\n",
       "      <td>-1133.397457</td>\n",
       "    </tr>\n",
       "    <tr>\n",
       "      <th>12</th>\n",
       "      <td>arrival_time_Night</td>\n",
       "      <td>588.816048</td>\n",
       "    </tr>\n",
       "    <tr>\n",
       "      <th>13</th>\n",
       "      <td>arrival_time_Early_Morning</td>\n",
       "      <td>-572.621709</td>\n",
       "    </tr>\n",
       "    <tr>\n",
       "      <th>14</th>\n",
       "      <td>arrival_time_Evening</td>\n",
       "      <td>430.779843</td>\n",
       "    </tr>\n",
       "    <tr>\n",
       "      <th>15</th>\n",
       "      <td>airline_Indigo</td>\n",
       "      <td>392.003467</td>\n",
       "    </tr>\n",
       "    <tr>\n",
       "      <th>16</th>\n",
       "      <td>const</td>\n",
       "      <td>358.930302</td>\n",
       "    </tr>\n",
       "    <tr>\n",
       "      <th>17</th>\n",
       "      <td>departure_time_Morning</td>\n",
       "      <td>189.455936</td>\n",
       "    </tr>\n",
       "    <tr>\n",
       "      <th>18</th>\n",
       "      <td>departure_time_Early_Morning</td>\n",
       "      <td>46.078182</td>\n",
       "    </tr>\n",
       "  </tbody>\n",
       "</table>\n",
       "</div>"
      ],
      "text/plain": [
       "                Selected Feature   Coefficient\n",
       "0                  class_Economy -44712.037512\n",
       "1                     stops_zero  -7233.533484\n",
       "2                airline_Vistara   2688.257792\n",
       "3                       duration  -1753.843322\n",
       "4            source_city_Kolkata   1534.823157\n",
       "5     destination_city_Hyderabad  -1364.363190\n",
       "6       destination_city_Kolkata   1315.960962\n",
       "7          source_city_Hyderabad  -1279.974772\n",
       "8         destination_city_Delhi  -1244.439433\n",
       "9              stops_two_or_more   1171.393483\n",
       "10             airline_Air_India  -1135.031607\n",
       "11             source_city_Delhi  -1133.397457\n",
       "12            arrival_time_Night    588.816048\n",
       "13    arrival_time_Early_Morning   -572.621709\n",
       "14          arrival_time_Evening    430.779843\n",
       "15                airline_Indigo    392.003467\n",
       "16                         const    358.930302\n",
       "17        departure_time_Morning    189.455936\n",
       "18  departure_time_Early_Morning     46.078182"
      ]
     },
     "execution_count": 18,
     "metadata": {},
     "output_type": "execute_result"
    }
   ],
   "source": [
    "lasso_pipeline = Pipeline([\n",
    "    ('preprocessor', preprocessor),\n",
    "    ('model', Lasso(alpha=alpha_1se))\n",
    "])\n",
    "\n",
    "lasso_pipeline.fit(X_train, y_train)\n",
    "\n",
    "print(f\"Selected Alpha from 1-SE rule: {alpha_1se}\")\n",
    "\n",
    "# 5. Predictions and metrics\n",
    "print(\"\\nMetrics Training:\")\n",
    "y_pred = lasso_pipeline.predict(X_train)\n",
    "evaluate_predictions(y_train, y_pred )\n",
    "\n",
    "print(\"\\nMetrics Test:\")\n",
    "y_pred = lasso_pipeline.predict(X_test)\n",
    "evaluate_predictions(y_test, y_pred )\n",
    "\n",
    "# 6. Extract coefficients\n",
    "lasso = lasso_pipeline.named_steps['model']\n",
    "coef = pd.Series(lasso.coef_, index=X_encoded.columns)\n",
    "show_nonzero_coefficients(coef)"
   ]
  },
  {
   "cell_type": "code",
   "execution_count": null,
   "id": "21ff541c",
   "metadata": {},
   "outputs": [],
   "source": []
  }
 ],
 "metadata": {
  "kernelspec": {
   "display_name": "tru_linear_models_assignments",
   "language": "python",
   "name": "python3"
  },
  "language_info": {
   "codemirror_mode": {
    "name": "ipython",
    "version": 3
   },
   "file_extension": ".py",
   "mimetype": "text/x-python",
   "name": "python",
   "nbconvert_exporter": "python",
   "pygments_lexer": "ipython3",
   "version": "3.12.9"
  }
 },
 "nbformat": 4,
 "nbformat_minor": 5
}
