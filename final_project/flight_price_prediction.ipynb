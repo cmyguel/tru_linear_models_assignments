{
 "cells": [
  {
   "cell_type": "markdown",
   "id": "20162243",
   "metadata": {},
   "source": [
    "# Flight Price Prediction\n",
    "\n",
    "References:\n",
    "- model selection: https://scikit-learn.org/stable/auto_examples/linear_model/plot_lasso_model_selection.html\n",
    "- learning paths: https://scikit-learn.org/stable/auto_examples/linear_model/plot_lasso_lasso_lars_elasticnet_path.html"
   ]
  },
  {
   "cell_type": "code",
   "execution_count": 1,
   "id": "d5d26eb9",
   "metadata": {},
   "outputs": [
    {
     "name": "stderr",
     "output_type": "stream",
     "text": [
      "c:\\Users\\AsusTUF\\anaconda3\\envs\\tru_linear_models_assignments\\Lib\\site-packages\\tqdm\\auto.py:21: TqdmWarning: IProgress not found. Please update jupyter and ipywidgets. See https://ipywidgets.readthedocs.io/en/stable/user_install.html\n",
      "  from .autonotebook import tqdm as notebook_tqdm\n"
     ]
    },
    {
     "data": {
      "text/html": [
       "\n",
       "            <div>\n",
       "                <ins><a href=\"https://ydata.ai/register\">Upgrade to ydata-sdk</a></ins>\n",
       "                <p>\n",
       "                    Improve your data and profiling with ydata-sdk, featuring data quality scoring, redundancy detection, outlier identification, text validation, and synthetic data generation.\n",
       "                </p>\n",
       "            </div>\n",
       "            "
      ],
      "text/plain": [
       "<IPython.core.display.HTML object>"
      ]
     },
     "metadata": {},
     "output_type": "display_data"
    }
   ],
   "source": [
    "from pathlib import Path\n",
    "import numpy as np\n",
    "import pandas as pd\n",
    "from ydata_profiling import ProfileReport\n",
    "\n",
    "import seaborn as sns\n",
    "import matplotlib.pyplot as plt\n",
    "import plotly.express as px\n",
    "\n",
    "import statsmodels.api as sm\n",
    "import statsmodels.formula.api as smf\n",
    "from statsmodels.stats.stattools import durbin_watson\n",
    "\n",
    "from sklearn.model_selection import train_test_split\n",
    "from sklearn.pipeline import make_pipeline, Pipeline\n",
    "from sklearn.compose import ColumnTransformer\n",
    "from sklearn.preprocessing import StandardScaler\n",
    "from sklearn.linear_model import Lasso, LassoCV\n",
    "from sklearn.metrics import r2_score, mean_squared_error, mean_absolute_error, root_mean_squared_error"
   ]
  },
  {
   "cell_type": "code",
   "execution_count": 2,
   "id": "14239277",
   "metadata": {},
   "outputs": [],
   "source": [
    "pd.set_option('display.max_columns', 50)\n",
    "\n",
    "SIMPLIFIED_PLOTS = True\n",
    "PLOT_SUMSAMPLE = 2000 # Used for heavy plots like scatter"
   ]
  },
  {
   "cell_type": "code",
   "execution_count": 3,
   "id": "74402378-599c-4bc0-85a4-f99a371b7367",
   "metadata": {},
   "outputs": [
    {
     "data": {
      "text/html": [
       "<div>\n",
       "<style scoped>\n",
       "    .dataframe tbody tr th:only-of-type {\n",
       "        vertical-align: middle;\n",
       "    }\n",
       "\n",
       "    .dataframe tbody tr th {\n",
       "        vertical-align: top;\n",
       "    }\n",
       "\n",
       "    .dataframe thead th {\n",
       "        text-align: right;\n",
       "    }\n",
       "</style>\n",
       "<table border=\"1\" class=\"dataframe\">\n",
       "  <thead>\n",
       "    <tr style=\"text-align: right;\">\n",
       "      <th></th>\n",
       "      <th>airline</th>\n",
       "      <th>flight</th>\n",
       "      <th>source_city</th>\n",
       "      <th>departure_time</th>\n",
       "      <th>stops</th>\n",
       "      <th>arrival_time</th>\n",
       "      <th>destination_city</th>\n",
       "      <th>class</th>\n",
       "      <th>duration</th>\n",
       "      <th>days_left</th>\n",
       "      <th>price</th>\n",
       "    </tr>\n",
       "  </thead>\n",
       "  <tbody>\n",
       "    <tr>\n",
       "      <th>0</th>\n",
       "      <td>SpiceJet</td>\n",
       "      <td>SG-8709</td>\n",
       "      <td>Delhi</td>\n",
       "      <td>Evening</td>\n",
       "      <td>zero</td>\n",
       "      <td>Night</td>\n",
       "      <td>Mumbai</td>\n",
       "      <td>Economy</td>\n",
       "      <td>2.17</td>\n",
       "      <td>1</td>\n",
       "      <td>5953</td>\n",
       "    </tr>\n",
       "    <tr>\n",
       "      <th>1</th>\n",
       "      <td>SpiceJet</td>\n",
       "      <td>SG-8157</td>\n",
       "      <td>Delhi</td>\n",
       "      <td>Early_Morning</td>\n",
       "      <td>zero</td>\n",
       "      <td>Morning</td>\n",
       "      <td>Mumbai</td>\n",
       "      <td>Economy</td>\n",
       "      <td>2.33</td>\n",
       "      <td>1</td>\n",
       "      <td>5953</td>\n",
       "    </tr>\n",
       "    <tr>\n",
       "      <th>2</th>\n",
       "      <td>AirAsia</td>\n",
       "      <td>I5-764</td>\n",
       "      <td>Delhi</td>\n",
       "      <td>Early_Morning</td>\n",
       "      <td>zero</td>\n",
       "      <td>Early_Morning</td>\n",
       "      <td>Mumbai</td>\n",
       "      <td>Economy</td>\n",
       "      <td>2.17</td>\n",
       "      <td>1</td>\n",
       "      <td>5956</td>\n",
       "    </tr>\n",
       "    <tr>\n",
       "      <th>3</th>\n",
       "      <td>Vistara</td>\n",
       "      <td>UK-995</td>\n",
       "      <td>Delhi</td>\n",
       "      <td>Morning</td>\n",
       "      <td>zero</td>\n",
       "      <td>Afternoon</td>\n",
       "      <td>Mumbai</td>\n",
       "      <td>Economy</td>\n",
       "      <td>2.25</td>\n",
       "      <td>1</td>\n",
       "      <td>5955</td>\n",
       "    </tr>\n",
       "    <tr>\n",
       "      <th>4</th>\n",
       "      <td>Vistara</td>\n",
       "      <td>UK-963</td>\n",
       "      <td>Delhi</td>\n",
       "      <td>Morning</td>\n",
       "      <td>zero</td>\n",
       "      <td>Morning</td>\n",
       "      <td>Mumbai</td>\n",
       "      <td>Economy</td>\n",
       "      <td>2.33</td>\n",
       "      <td>1</td>\n",
       "      <td>5955</td>\n",
       "    </tr>\n",
       "    <tr>\n",
       "      <th>...</th>\n",
       "      <td>...</td>\n",
       "      <td>...</td>\n",
       "      <td>...</td>\n",
       "      <td>...</td>\n",
       "      <td>...</td>\n",
       "      <td>...</td>\n",
       "      <td>...</td>\n",
       "      <td>...</td>\n",
       "      <td>...</td>\n",
       "      <td>...</td>\n",
       "      <td>...</td>\n",
       "    </tr>\n",
       "    <tr>\n",
       "      <th>300148</th>\n",
       "      <td>Vistara</td>\n",
       "      <td>UK-822</td>\n",
       "      <td>Chennai</td>\n",
       "      <td>Morning</td>\n",
       "      <td>one</td>\n",
       "      <td>Evening</td>\n",
       "      <td>Hyderabad</td>\n",
       "      <td>Business</td>\n",
       "      <td>10.08</td>\n",
       "      <td>49</td>\n",
       "      <td>69265</td>\n",
       "    </tr>\n",
       "    <tr>\n",
       "      <th>300149</th>\n",
       "      <td>Vistara</td>\n",
       "      <td>UK-826</td>\n",
       "      <td>Chennai</td>\n",
       "      <td>Afternoon</td>\n",
       "      <td>one</td>\n",
       "      <td>Night</td>\n",
       "      <td>Hyderabad</td>\n",
       "      <td>Business</td>\n",
       "      <td>10.42</td>\n",
       "      <td>49</td>\n",
       "      <td>77105</td>\n",
       "    </tr>\n",
       "    <tr>\n",
       "      <th>300150</th>\n",
       "      <td>Vistara</td>\n",
       "      <td>UK-832</td>\n",
       "      <td>Chennai</td>\n",
       "      <td>Early_Morning</td>\n",
       "      <td>one</td>\n",
       "      <td>Night</td>\n",
       "      <td>Hyderabad</td>\n",
       "      <td>Business</td>\n",
       "      <td>13.83</td>\n",
       "      <td>49</td>\n",
       "      <td>79099</td>\n",
       "    </tr>\n",
       "    <tr>\n",
       "      <th>300151</th>\n",
       "      <td>Vistara</td>\n",
       "      <td>UK-828</td>\n",
       "      <td>Chennai</td>\n",
       "      <td>Early_Morning</td>\n",
       "      <td>one</td>\n",
       "      <td>Evening</td>\n",
       "      <td>Hyderabad</td>\n",
       "      <td>Business</td>\n",
       "      <td>10.00</td>\n",
       "      <td>49</td>\n",
       "      <td>81585</td>\n",
       "    </tr>\n",
       "    <tr>\n",
       "      <th>300152</th>\n",
       "      <td>Vistara</td>\n",
       "      <td>UK-822</td>\n",
       "      <td>Chennai</td>\n",
       "      <td>Morning</td>\n",
       "      <td>one</td>\n",
       "      <td>Evening</td>\n",
       "      <td>Hyderabad</td>\n",
       "      <td>Business</td>\n",
       "      <td>10.08</td>\n",
       "      <td>49</td>\n",
       "      <td>81585</td>\n",
       "    </tr>\n",
       "  </tbody>\n",
       "</table>\n",
       "<p>300153 rows × 11 columns</p>\n",
       "</div>"
      ],
      "text/plain": [
       "         airline   flight source_city departure_time stops   arrival_time  \\\n",
       "0       SpiceJet  SG-8709       Delhi        Evening  zero          Night   \n",
       "1       SpiceJet  SG-8157       Delhi  Early_Morning  zero        Morning   \n",
       "2        AirAsia   I5-764       Delhi  Early_Morning  zero  Early_Morning   \n",
       "3        Vistara   UK-995       Delhi        Morning  zero      Afternoon   \n",
       "4        Vistara   UK-963       Delhi        Morning  zero        Morning   \n",
       "...          ...      ...         ...            ...   ...            ...   \n",
       "300148   Vistara   UK-822     Chennai        Morning   one        Evening   \n",
       "300149   Vistara   UK-826     Chennai      Afternoon   one          Night   \n",
       "300150   Vistara   UK-832     Chennai  Early_Morning   one          Night   \n",
       "300151   Vistara   UK-828     Chennai  Early_Morning   one        Evening   \n",
       "300152   Vistara   UK-822     Chennai        Morning   one        Evening   \n",
       "\n",
       "       destination_city     class  duration  days_left  price  \n",
       "0                Mumbai   Economy      2.17          1   5953  \n",
       "1                Mumbai   Economy      2.33          1   5953  \n",
       "2                Mumbai   Economy      2.17          1   5956  \n",
       "3                Mumbai   Economy      2.25          1   5955  \n",
       "4                Mumbai   Economy      2.33          1   5955  \n",
       "...                 ...       ...       ...        ...    ...  \n",
       "300148        Hyderabad  Business     10.08         49  69265  \n",
       "300149        Hyderabad  Business     10.42         49  77105  \n",
       "300150        Hyderabad  Business     13.83         49  79099  \n",
       "300151        Hyderabad  Business     10.00         49  81585  \n",
       "300152        Hyderabad  Business     10.08         49  81585  \n",
       "\n",
       "[300153 rows x 11 columns]"
      ]
     },
     "execution_count": 3,
     "metadata": {},
     "output_type": "execute_result"
    }
   ],
   "source": [
    "df_raw = pd.read_csv(\"./data/Clean_Dataset.csv\", index_col=0)\n",
    "df_raw_sample = df_raw.sample(n=PLOT_SUMSAMPLE)\n",
    "df_raw "
   ]
  },
  {
   "cell_type": "markdown",
   "id": "6cc5d673",
   "metadata": {},
   "source": [
    "## Exploratory Data Analysis\n",
    "- Top 5 Highest correlation predictors: class, duration, days_left, stops, airline\n",
    "- Target: Bimodal due to classes. \n",
    "- duration class:Business: Log, heteroskedasticity \n",
    "- duration class:Economy: Linear, heteroskedasticity\n",
    "- days_left class:economy: 1/x"
   ]
  },
  {
   "cell_type": "code",
   "execution_count": 4,
   "id": "1ec3f453",
   "metadata": {},
   "outputs": [],
   "source": [
    "# Create EDA report IF it doesn't exist\n",
    "path_eda_report = Path(\"EDA/profiling_report.html\")\n",
    "path_eda_report.parent.mkdir(exist_ok=True)\n",
    "if not path_eda_report.exists():\n",
    "    profile = ProfileReport(df_raw, title=\"Profiling Report\")\n",
    "    profile.to_file(path_eda_report)"
   ]
  },
  {
   "cell_type": "code",
   "execution_count": 5,
   "id": "a584b792",
   "metadata": {},
   "outputs": [
    {
     "data": {
      "text/html": [
       "<div>\n",
       "<style scoped>\n",
       "    .dataframe tbody tr th:only-of-type {\n",
       "        vertical-align: middle;\n",
       "    }\n",
       "\n",
       "    .dataframe tbody tr th {\n",
       "        vertical-align: top;\n",
       "    }\n",
       "\n",
       "    .dataframe thead th {\n",
       "        text-align: right;\n",
       "    }\n",
       "</style>\n",
       "<table border=\"1\" class=\"dataframe\">\n",
       "  <thead>\n",
       "    <tr style=\"text-align: right;\">\n",
       "      <th></th>\n",
       "      <th>duration</th>\n",
       "      <th>days_left</th>\n",
       "      <th>price</th>\n",
       "    </tr>\n",
       "  </thead>\n",
       "  <tbody>\n",
       "    <tr>\n",
       "      <th>count</th>\n",
       "      <td>300153.000000</td>\n",
       "      <td>300153.000000</td>\n",
       "      <td>300153.000000</td>\n",
       "    </tr>\n",
       "    <tr>\n",
       "      <th>mean</th>\n",
       "      <td>12.221021</td>\n",
       "      <td>26.004751</td>\n",
       "      <td>20889.660523</td>\n",
       "    </tr>\n",
       "    <tr>\n",
       "      <th>std</th>\n",
       "      <td>7.191997</td>\n",
       "      <td>13.561004</td>\n",
       "      <td>22697.767366</td>\n",
       "    </tr>\n",
       "    <tr>\n",
       "      <th>min</th>\n",
       "      <td>0.830000</td>\n",
       "      <td>1.000000</td>\n",
       "      <td>1105.000000</td>\n",
       "    </tr>\n",
       "    <tr>\n",
       "      <th>25%</th>\n",
       "      <td>6.830000</td>\n",
       "      <td>15.000000</td>\n",
       "      <td>4783.000000</td>\n",
       "    </tr>\n",
       "    <tr>\n",
       "      <th>50%</th>\n",
       "      <td>11.250000</td>\n",
       "      <td>26.000000</td>\n",
       "      <td>7425.000000</td>\n",
       "    </tr>\n",
       "    <tr>\n",
       "      <th>75%</th>\n",
       "      <td>16.170000</td>\n",
       "      <td>38.000000</td>\n",
       "      <td>42521.000000</td>\n",
       "    </tr>\n",
       "    <tr>\n",
       "      <th>max</th>\n",
       "      <td>49.830000</td>\n",
       "      <td>49.000000</td>\n",
       "      <td>123071.000000</td>\n",
       "    </tr>\n",
       "  </tbody>\n",
       "</table>\n",
       "</div>"
      ],
      "text/plain": [
       "            duration      days_left          price\n",
       "count  300153.000000  300153.000000  300153.000000\n",
       "mean       12.221021      26.004751   20889.660523\n",
       "std         7.191997      13.561004   22697.767366\n",
       "min         0.830000       1.000000    1105.000000\n",
       "25%         6.830000      15.000000    4783.000000\n",
       "50%        11.250000      26.000000    7425.000000\n",
       "75%        16.170000      38.000000   42521.000000\n",
       "max        49.830000      49.000000  123071.000000"
      ]
     },
     "execution_count": 5,
     "metadata": {},
     "output_type": "execute_result"
    }
   ],
   "source": [
    "df_raw.describe()"
   ]
  },
  {
   "cell_type": "code",
   "execution_count": null,
   "id": "6985d759",
   "metadata": {},
   "outputs": [],
   "source": [
    "px.histogram(df_raw, x=\"price\", color=\"class\")\n",
    "# df_raw.price.hist(bins=20)"
   ]
  },
  {
   "cell_type": "code",
   "execution_count": 7,
   "id": "0764bb25",
   "metadata": {},
   "outputs": [
    {
     "data": {
      "application/vnd.plotly.v1+json": {
       "config": {
        "plotlyServerURL": "https://plot.ly"
       },
       "data": [
        {
         "hovertemplate": "class=Economy<br>days_left=%{x}<br>price=%{y}<extra></extra>",
         "legendgroup": "Economy",
         "marker": {
          "color": "#636efa",
          "symbol": "circle"
         },
         "mode": "markers",
         "name": "Economy",
         "showlegend": true,
         "type": "scattergl",
         "x": {
          "bdata": "Cx4eEBoODBsmLBYGJgUPJScvARohCiQgMTElHA8UEi8dHi4pEycwEicGGgUIISklCQwCDxEOKhEYDxIhHSgSKQ4IIRwaDi8mLAMNLgUgEhswDzAoIRoQLxoFBjEaCwgoIw4tBCIOHi4rJycTKA0kCSAeMDAgHSEVKwYeJx0XKCkILi8iHwYmGggnIgINGgwoLAEKFh0FERcnDzASDh0IJDEwLS8JFhUNLSAFJg4rFwwPEDAoIBgZHygLGxILJg4YFAQZEy8WKwMjKR8OKw0rBi0jCSAVKBMfFBIkHhsmBAwRESkKCSgNGg0gHCswDBEMBBAuMCgIIR0GIS8NLBMjFxsmGikoHQMKHRIKGQQnIRAsGhIaLg4jGRkMKSIODisCAioNHg0RIRMGHysZFRIIGwwsKSYbJC4PMRQpFh0GDSgIChUKDyklIyAvBQYXMSEuGSgJCCceAS4FAywvGRAMJyMqKRIODSIhERYZBhYcFiocLQsIFCUGHjAsJAQcHBwKHysLDhwWLygfMQ4XHiknJCEDIBMbKSYDJR8pJBElMBUNAwIICAgYBSoYAyUKKiMmHiklIigVDA0DJCshFxkPEhIZGwYKKS0CCTAYFgcMMCMuBRQiFA0bIxgeHxgZIgsTGRAxFjEHISYVHCEBCikHISomIzEPKgkNIxoRIhAfBCQXDAssHhIgASsKFBcTCR4XChsCICEPGy8BKw4UBS0PHiAWKjExCQMwCygdJwYsLx0IJCQNKQMHJxUlMQMwDysrLxwvHi4XLRYSASEUKi4NGxkrHxoMGBIEIBcgCBMbJRkLKBktJB4WJCoeKCsIDCQXIiIsESUrKAofLAwSCSAxBAoWKismBwgrBSswGiksBhEfLxUfIxowFQYWMBwwFBEbKgkGJSkBFQ4mJBMpEAwTKRcwDS8OAhwuHCIsHxwjCBsnJSAXJyskEiwmJxktKQIiBykYExElJRYcLgcmIBwaFA4pKAkDFCcHKCIMMBsGARYhAgcwKS0eKyciHhcEGgwrKQQMIQkvIg8sDiUFGQgXLBQVFR4fDQQiCjEULBkuBSwPEDElCzAYGBYJLSYFGAwODSYMCwUBHBkGLREfBiQKLyYTIBQnBC0pGhMiGhowFRMTGRkTDykRLhQTHQcDFBgCDiUtCxMMBwkhLzAFBhUnHxoGMS0nKAgYEB8hKBMMETEwEB0ZLSAFJgIWIyApLBccHicqDRoaCwYrMSIRAiYTFSMhKB0KKy4kITEtFhYsAQ4YEgEaJysFJCofHxkUMAYvCSAiHSAaDQwNDQULFw0SLBwvLwsmHRoqJQUrEgwZGgEcCB0mMBAZFiAiFR8vCxgOHjEfHCIxFSsFGicSIyIcFhcjCxIOEwIYFCcRHh0qLg0YKiYWGwctLRogIxUFEzAcKwUuMCoRJCAsGRQeLhMrGiYOKBgKIy0RJB4CLScxBiwsGAMPKRksIBEmDxIPBwwWGQsGBBUgFzAXHBksHi8LBikgAgwJETEvJhEjFhINEBkDGR0sCgkhDgMvJicTGwcTBCITDBwMMRQvIyEIKzEaIhUmKBQaFyALLgIFBTEDIi8hDw4xKxAVKhUtHSoGEw0cFRcrLQshMScvECELCikwJxsGERcrLgsXKBUoIRENEBkhCwcKARAIFRoxLhgwHhANCycrECUqMSoNIgkwAw4sIw8WIR8OEjErFh8UHiwNKCMZKhodKwMHGhsHKBUjFAstMRUgBg4fCyoLJikxLi4mCxEHDS4uKCclBh8SFygn",
          "dtype": "i1"
         },
         "xaxis": "x",
         "y": {
          "bdata": "ZBHPCgAUMQ4LEcUr9BywEgcGcRCPKrYvgxgOTmQRlA8+DgcG3DjqGc0PvjbIC2sUShHGC7QSuAs2F6APcRKUEyAaTQqGF+wcAg0UDzQduRrrDsUuAg3FK7kcQRHSDAYMgi3xIxs2PyFOGmQRIwlzGA4UFx/2D2IP7igzGJkIfxg9JHAmQQ2wKRIfmDDfG+wbygg/HQEd7hIYIq0W+BVzExIMtjO0CAEQtxmkFEkkBwbxESA6DBnzFqsfdhamEAEZlhF+GCQMahAgE/gp1w0HC7gLPRlqCaENSRxDF7QPQjn2D2oJkxKWEWMUGAzbEgsUvxZlM/ggaA8QFGYIyReUEZcqaR0HEZ8VqhlwJpoR7hMOH7IGcRN1TLowoQ/fHowWWBYCHWQmDxAdDfgXkw+MCiAJtA9AEbIZIw0PEGovIwnEEswRZBkCCJ4lDyL7E4MxBRptG0MXThpXPAsRmBhtKUEXRyUCCCMJxhCjLQQXrx8DEA4fTA/VFzYXGBT0HCkOiw89JD8IIBP+E+oXMyZpP7wUzyYnFEBBrx9sLAMQGj5wGJAXWBk1IvkXxAvLDFcejRsdEvMWvxYXFZkIby/xEEsYzxHdF/gpazRpES4sgxUCMa0TrQkSDDgY7jjvGs1OPSRwFEwIxwtKEIsslhHPCscYQRWzFzMzFAugFFQIQQ25C6MVlBIGDbQPKQ7/Vk9jQhd2GHgwqhiCLf0IsgkqHX4Reg+8Ek0QQhk5FCMRsAmVETsUfxh+EXgweSvwBn4vFRjvDxwjQREBHc8TeQ8EF8UrbBJFE38YxBMPELITaglxMOAPMxgzDRoICEBvGxcflBFMDzEXag8jCQdAPSRMCLUjJy+vH2wrZRHZHvoOsAmwEHgWySJ9KNsYShGpE+EVJRkmB2InuSi4C2UQijLHIu4T90FXEVkYshnBFTcsPReaCpMReBViBxo+NxfQI6QM6xetCdIMyCqfD4AWrQlnDPEN7hXuE/k8xxoaDr8ydB1CHQcGowrKRKkUxhCJEA0/mQjSDNQ0Px2/FnMTJQ78EOoZ+RG4KTASvxZVCy8O/w/wDWI0PRf1EmIdHxUcDEAdshmtFgkRYQ51EQAXzxqSFiczRBfGGpxAgytELpkINyxiB2EcCjCtCcUrpw9wFIgOIQwlGCMJhgmwCZgYQxe5HK1WgRb2FZMSeBtpDtUh2xLGED0ZzA73HhktcxNcFoQ6dSk1FfwQ9iPvE0MX9g8OFYYQ/zwzGA4VlA9vOSsZ2BdMCN0XagmWF2EXsxfPGzkUDxDbEvYPJxWoGDsUPReaFYwSQxdMCBwj9yyKGFgskxJnDJYTOgu1Eu8d+hNQMjMXshmzF6MKpAUaCBwM1CeXHSsOxSv4KYwWLxigFMwR9BwDEC8y4TlQGMYQGzcWHVIYFDS5FogwfQ9MDysSWRm9FFw9QQ0vILkHojQbG0IX3xssHL8PcBjSGIMPmC+kO4MPPSsHESYHDhg2F+QIFAsnCQs6mRIMHpEjpw+mMNArrAnQD0kgrx8DO40huCxRDOsOixFAElEEuAtBDc4HhhDqFzYXWUELEXoPaglRDBYfqhBZGSIauBKvH8UrGhh8EpAzkxIPELwPAR3xEB0SowXDQRwjsxeUEjkINBA1FukbkxE1HLodsw+zFxgnuCmzD0wI/AYyGa8ffhAaCMYL2Aw9KBIMbA+hHJMS4T9lIiYHqzzWMkgcuBKGIhoIrjlCF5URSicxF+we2xKEHVYUoB2BFl4Ssxc9F7QY7hW4EbkWOhQKLjYgSQ2WEQYNDxBLEicJjBYWH3AzGRaUHc01uyjFKz4RsxfYD7IJsxxeHuYVRRPmHo8YZRFkD0IXukD+GAQKPRnmFRcYcQqZI4MTZRGGEKIMsgZBFQwUKxCeBqgZTAgSDdEYBBe8D+oXoyQBHZQRAhqsCZ4ckxFrGiUYgxWkGCAUrx/0J4EWkxI5FJwYEg2mEEsRWxrvE3krqBl8FR8qVQv2FfIQUQy7F645WUESDFEMLUDFKz0XNxpyH4EWshk3E/AGWA6ySiEqTBBYGcsVoBtsJGQmQhkHLqMKVhRDFzQImCa0CJguVBWlLJYYAw4AFxAUFh/dDfcXy0PxI94L0DPZGfAQQQ3QD7gS3zOoGBUeUheTEQkTGSRBEcMeEBbdF0kkLBx3Dx1QzBE5FPMQLiz+HPgpuSjuEzY8PhFwFBQbngZ8Ev4cFh+LD+0vHRPuFK0Upw+4C5IPVi+/ECAZKSCzFyUYJwlzE60V9gzJECYHFhYCCKwJuSiUD5MMPg4ZSecKeRc3F3ctlBNMD/JDIicyGWIHXh5mGb4yADDMS/AG8BdRDEIXPB20DyoYDwaFENQfOBgDDuoXvBISPdASxh9MD5kQnBTyEAEdXR/VFVQI8BVxEpwY2waMGDJVvBibWAUP+xipGfUYuxfCFeUV2R7nDwcR+CnuEzoUAh1BF2IHzByAENAPDjQPGLQP3xupE8oIFg9CF8UrIBMDCHwWhRmXGHAUBhyRDrMX4y5DFyITLR3fM7chnA9fEaY13iWwCSUZ5w8dEpQTRRzgLEwPrzmZCAcGQBLbEpQR9EFDF60pZRGTKbgsHAvUNCAZagnGFfYNoxq4KbIZsgaCEWYZDhf+MpQRcxMzJp4eDxCWWh0eHypLGK4HcSeVEYQYshmzF68YMhLIFDEXQRfuE3sWQQ0aCKIUygg4GK0Vshm/D3YvsgrdI9wZQRAqGEUTTBBpCQURFT9pE1kZRg5+M7QfPx+pGwAv3w24GvYNMQ4rPz0XhRB2DZclHxUiJ+8PaBMPEFkVIBOGEJg15RAgCUMXeRLuEwIIhAm0F64XPgrkF5gYsxcgCbMiGBbxEAcUEBEsHPQcrx+CEfo1VgpMCD8YslAQFrEwrx9xKRcJcCH1GBQPDhV9MKAd2wbSFDcaCxGMCq0JFg82F6oNPTF5Kz4UbRCDKzcXXjJPJpMRdRFPEpoeChCtFrYPaxWzF4Yv3CjGFZkQTS9wJvgWMDdIGqkUzBHGEEAilRYHKUMXkx3nD+w+whc5FOoXBy78HB0lnBZPKQQVLRouEw8YhRBBFyAIzSzKFz0XRC6oGfIQZgj5ECMJrRWFFvceHRI+DrwQQhKZEPcZLBzqGYMPZxoGDf4yqBzTENoj5jUPHb4yrAkPBiATkymFGRYPGgiwHMAR/AzKEG4MaxRbFbgpXwlUKIwWcyXCC7sXzBEuH8IbJhnbEkQGxh+qHDcXEzggD0UT2wbeGmQRkhFmCEEN7BP0HMAbgw80EhYXhRD8EA4f1x3vFgUR7xP3HsMzwjHqFcQ76w4OGEENEgzaERwYIwksE7gstSPOB4EWSBmyCiERvBl/H5cm0AtZGQkIuRzxIyYHfxhpGDUQoxGsCaYQZStBFfgRCxH2GGoJhhn8K2I0dBIgEwcdWxV5D8cSkxJPMbQwXRAFEQ0xTA9REa8f1g9VJyMJ3xTxEDIZ9CwWHw8Qai+UEbUjshtCGbATVQssHPsmcx0rFpYWPSs0Eg8PrRZ0GPEPNhfzDUwPIwmyKOcP",
          "dtype": "i2"
         },
         "yaxis": "y"
        },
        {
         "hovertemplate": "class=Business<br>days_left=%{x}<br>price=%{y}<extra></extra>",
         "legendgroup": "Business",
         "marker": {
          "color": "#EF553B",
          "symbol": "circle"
         },
         "mode": "markers",
         "name": "Business",
         "showlegend": true,
         "type": "scattergl",
         "x": {
          "bdata": "Lx0xDw8hMBUnFg0LCh4RBBYRExIhJwwgCSoJHx4IJysUKzEPJC8TCAohCAQOChswFwsYFw8EEwIJFg4bKg0FIg0CDxQHCQUnDhkhKhgRIQQhJwYrKx4oIhQnLRYmIyUxDjAdMCAuDwUcCg0tIx8SERwVIwcsJiYcKBUGAiMPHC8OLw0jKhIpGyMrMSEvGhMSEC4tGCIOJBYqKAIgFygEJCoLBCwRLAoVGR0ZFDAMCzAgCBIvAwsEJyEtGhceJC4NHSsSAykUMQQsIxQKCygcFyITBx0wFSIhGgYKIDAjAhEHCy8NAggjJyQKDh4ZGi4PCB8sAy4mCxAlDwsXKQQRKBQUFisFEhEPEykKBRYMGjEGIxEMHwcKIRoRFRAMBBUkGxomISYGJiAQAiAgHCQiBh4XEhkOBggqIhYkKyEMAhYPCQ8VKycDCQUYFyIrLC4bCyANJCIqAgcdEi4HAiUjBgcpJg4WLgQWDyEdICMeHBsVFgsnDRAIEgorCxcLHQMxKggDDCULKRURCC4QChklEiMgKwYHDSYWGCMcCg4sAxwXHzEQHwsODxgFFiUgHhMxGhwYKhAwEyAoDCcnDhIcDSglJRImIRUYIwYsGCsmAyoZDSguFiktEg0DGQgcEh4fJCsGFC0YHSUFAhIvCS8XHgcECgsNJxQrJhYpFCcaKSolMTAMJRENBCEVCiogBQ0rKg0oHw8dEAgnKyoqMDAZAgMKAwkICy4vJiskHg4rLhYaAwsrEh0sEA4eGywhBR0vIiklCRExJyoWKQgLHRYVMBEbJQYdMRMDMBYTIAEuMCcTKxcRIwcxIh4YFwgiCAkOBygMCCMFJyYqKi4UHiApFBIfCRYFHy4OMBQiLx8ZDxwkKS4pISIDGQkkJCcsFRonKyM=",
          "dtype": "i1"
         },
         "xaxis": "x",
         "y": {
          "bdata": "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",
          "dtype": "i4"
         },
         "yaxis": "y"
        }
       ],
       "layout": {
        "legend": {
         "title": {
          "text": "class"
         },
         "tracegroupgap": 0
        },
        "margin": {
         "t": 60
        },
        "template": {
         "data": {
          "bar": [
           {
            "error_x": {
             "color": "#2a3f5f"
            },
            "error_y": {
             "color": "#2a3f5f"
            },
            "marker": {
             "line": {
              "color": "#E5ECF6",
              "width": 0.5
             },
             "pattern": {
              "fillmode": "overlay",
              "size": 10,
              "solidity": 0.2
             }
            },
            "type": "bar"
           }
          ],
          "barpolar": [
           {
            "marker": {
             "line": {
              "color": "#E5ECF6",
              "width": 0.5
             },
             "pattern": {
              "fillmode": "overlay",
              "size": 10,
              "solidity": 0.2
             }
            },
            "type": "barpolar"
           }
          ],
          "carpet": [
           {
            "aaxis": {
             "endlinecolor": "#2a3f5f",
             "gridcolor": "white",
             "linecolor": "white",
             "minorgridcolor": "white",
             "startlinecolor": "#2a3f5f"
            },
            "baxis": {
             "endlinecolor": "#2a3f5f",
             "gridcolor": "white",
             "linecolor": "white",
             "minorgridcolor": "white",
             "startlinecolor": "#2a3f5f"
            },
            "type": "carpet"
           }
          ],
          "choropleth": [
           {
            "colorbar": {
             "outlinewidth": 0,
             "ticks": ""
            },
            "type": "choropleth"
           }
          ],
          "contour": [
           {
            "colorbar": {
             "outlinewidth": 0,
             "ticks": ""
            },
            "colorscale": [
             [
              0,
              "#0d0887"
             ],
             [
              0.1111111111111111,
              "#46039f"
             ],
             [
              0.2222222222222222,
              "#7201a8"
             ],
             [
              0.3333333333333333,
              "#9c179e"
             ],
             [
              0.4444444444444444,
              "#bd3786"
             ],
             [
              0.5555555555555556,
              "#d8576b"
             ],
             [
              0.6666666666666666,
              "#ed7953"
             ],
             [
              0.7777777777777778,
              "#fb9f3a"
             ],
             [
              0.8888888888888888,
              "#fdca26"
             ],
             [
              1,
              "#f0f921"
             ]
            ],
            "type": "contour"
           }
          ],
          "contourcarpet": [
           {
            "colorbar": {
             "outlinewidth": 0,
             "ticks": ""
            },
            "type": "contourcarpet"
           }
          ],
          "heatmap": [
           {
            "colorbar": {
             "outlinewidth": 0,
             "ticks": ""
            },
            "colorscale": [
             [
              0,
              "#0d0887"
             ],
             [
              0.1111111111111111,
              "#46039f"
             ],
             [
              0.2222222222222222,
              "#7201a8"
             ],
             [
              0.3333333333333333,
              "#9c179e"
             ],
             [
              0.4444444444444444,
              "#bd3786"
             ],
             [
              0.5555555555555556,
              "#d8576b"
             ],
             [
              0.6666666666666666,
              "#ed7953"
             ],
             [
              0.7777777777777778,
              "#fb9f3a"
             ],
             [
              0.8888888888888888,
              "#fdca26"
             ],
             [
              1,
              "#f0f921"
             ]
            ],
            "type": "heatmap"
           }
          ],
          "histogram": [
           {
            "marker": {
             "pattern": {
              "fillmode": "overlay",
              "size": 10,
              "solidity": 0.2
             }
            },
            "type": "histogram"
           }
          ],
          "histogram2d": [
           {
            "colorbar": {
             "outlinewidth": 0,
             "ticks": ""
            },
            "colorscale": [
             [
              0,
              "#0d0887"
             ],
             [
              0.1111111111111111,
              "#46039f"
             ],
             [
              0.2222222222222222,
              "#7201a8"
             ],
             [
              0.3333333333333333,
              "#9c179e"
             ],
             [
              0.4444444444444444,
              "#bd3786"
             ],
             [
              0.5555555555555556,
              "#d8576b"
             ],
             [
              0.6666666666666666,
              "#ed7953"
             ],
             [
              0.7777777777777778,
              "#fb9f3a"
             ],
             [
              0.8888888888888888,
              "#fdca26"
             ],
             [
              1,
              "#f0f921"
             ]
            ],
            "type": "histogram2d"
           }
          ],
          "histogram2dcontour": [
           {
            "colorbar": {
             "outlinewidth": 0,
             "ticks": ""
            },
            "colorscale": [
             [
              0,
              "#0d0887"
             ],
             [
              0.1111111111111111,
              "#46039f"
             ],
             [
              0.2222222222222222,
              "#7201a8"
             ],
             [
              0.3333333333333333,
              "#9c179e"
             ],
             [
              0.4444444444444444,
              "#bd3786"
             ],
             [
              0.5555555555555556,
              "#d8576b"
             ],
             [
              0.6666666666666666,
              "#ed7953"
             ],
             [
              0.7777777777777778,
              "#fb9f3a"
             ],
             [
              0.8888888888888888,
              "#fdca26"
             ],
             [
              1,
              "#f0f921"
             ]
            ],
            "type": "histogram2dcontour"
           }
          ],
          "mesh3d": [
           {
            "colorbar": {
             "outlinewidth": 0,
             "ticks": ""
            },
            "type": "mesh3d"
           }
          ],
          "parcoords": [
           {
            "line": {
             "colorbar": {
              "outlinewidth": 0,
              "ticks": ""
             }
            },
            "type": "parcoords"
           }
          ],
          "pie": [
           {
            "automargin": true,
            "type": "pie"
           }
          ],
          "scatter": [
           {
            "fillpattern": {
             "fillmode": "overlay",
             "size": 10,
             "solidity": 0.2
            },
            "type": "scatter"
           }
          ],
          "scatter3d": [
           {
            "line": {
             "colorbar": {
              "outlinewidth": 0,
              "ticks": ""
             }
            },
            "marker": {
             "colorbar": {
              "outlinewidth": 0,
              "ticks": ""
             }
            },
            "type": "scatter3d"
           }
          ],
          "scattercarpet": [
           {
            "marker": {
             "colorbar": {
              "outlinewidth": 0,
              "ticks": ""
             }
            },
            "type": "scattercarpet"
           }
          ],
          "scattergeo": [
           {
            "marker": {
             "colorbar": {
              "outlinewidth": 0,
              "ticks": ""
             }
            },
            "type": "scattergeo"
           }
          ],
          "scattergl": [
           {
            "marker": {
             "colorbar": {
              "outlinewidth": 0,
              "ticks": ""
             }
            },
            "type": "scattergl"
           }
          ],
          "scattermap": [
           {
            "marker": {
             "colorbar": {
              "outlinewidth": 0,
              "ticks": ""
             }
            },
            "type": "scattermap"
           }
          ],
          "scattermapbox": [
           {
            "marker": {
             "colorbar": {
              "outlinewidth": 0,
              "ticks": ""
             }
            },
            "type": "scattermapbox"
           }
          ],
          "scatterpolar": [
           {
            "marker": {
             "colorbar": {
              "outlinewidth": 0,
              "ticks": ""
             }
            },
            "type": "scatterpolar"
           }
          ],
          "scatterpolargl": [
           {
            "marker": {
             "colorbar": {
              "outlinewidth": 0,
              "ticks": ""
             }
            },
            "type": "scatterpolargl"
           }
          ],
          "scatterternary": [
           {
            "marker": {
             "colorbar": {
              "outlinewidth": 0,
              "ticks": ""
             }
            },
            "type": "scatterternary"
           }
          ],
          "surface": [
           {
            "colorbar": {
             "outlinewidth": 0,
             "ticks": ""
            },
            "colorscale": [
             [
              0,
              "#0d0887"
             ],
             [
              0.1111111111111111,
              "#46039f"
             ],
             [
              0.2222222222222222,
              "#7201a8"
             ],
             [
              0.3333333333333333,
              "#9c179e"
             ],
             [
              0.4444444444444444,
              "#bd3786"
             ],
             [
              0.5555555555555556,
              "#d8576b"
             ],
             [
              0.6666666666666666,
              "#ed7953"
             ],
             [
              0.7777777777777778,
              "#fb9f3a"
             ],
             [
              0.8888888888888888,
              "#fdca26"
             ],
             [
              1,
              "#f0f921"
             ]
            ],
            "type": "surface"
           }
          ],
          "table": [
           {
            "cells": {
             "fill": {
              "color": "#EBF0F8"
             },
             "line": {
              "color": "white"
             }
            },
            "header": {
             "fill": {
              "color": "#C8D4E3"
             },
             "line": {
              "color": "white"
             }
            },
            "type": "table"
           }
          ]
         },
         "layout": {
          "annotationdefaults": {
           "arrowcolor": "#2a3f5f",
           "arrowhead": 0,
           "arrowwidth": 1
          },
          "autotypenumbers": "strict",
          "coloraxis": {
           "colorbar": {
            "outlinewidth": 0,
            "ticks": ""
           }
          },
          "colorscale": {
           "diverging": [
            [
             0,
             "#8e0152"
            ],
            [
             0.1,
             "#c51b7d"
            ],
            [
             0.2,
             "#de77ae"
            ],
            [
             0.3,
             "#f1b6da"
            ],
            [
             0.4,
             "#fde0ef"
            ],
            [
             0.5,
             "#f7f7f7"
            ],
            [
             0.6,
             "#e6f5d0"
            ],
            [
             0.7,
             "#b8e186"
            ],
            [
             0.8,
             "#7fbc41"
            ],
            [
             0.9,
             "#4d9221"
            ],
            [
             1,
             "#276419"
            ]
           ],
           "sequential": [
            [
             0,
             "#0d0887"
            ],
            [
             0.1111111111111111,
             "#46039f"
            ],
            [
             0.2222222222222222,
             "#7201a8"
            ],
            [
             0.3333333333333333,
             "#9c179e"
            ],
            [
             0.4444444444444444,
             "#bd3786"
            ],
            [
             0.5555555555555556,
             "#d8576b"
            ],
            [
             0.6666666666666666,
             "#ed7953"
            ],
            [
             0.7777777777777778,
             "#fb9f3a"
            ],
            [
             0.8888888888888888,
             "#fdca26"
            ],
            [
             1,
             "#f0f921"
            ]
           ],
           "sequentialminus": [
            [
             0,
             "#0d0887"
            ],
            [
             0.1111111111111111,
             "#46039f"
            ],
            [
             0.2222222222222222,
             "#7201a8"
            ],
            [
             0.3333333333333333,
             "#9c179e"
            ],
            [
             0.4444444444444444,
             "#bd3786"
            ],
            [
             0.5555555555555556,
             "#d8576b"
            ],
            [
             0.6666666666666666,
             "#ed7953"
            ],
            [
             0.7777777777777778,
             "#fb9f3a"
            ],
            [
             0.8888888888888888,
             "#fdca26"
            ],
            [
             1,
             "#f0f921"
            ]
           ]
          },
          "colorway": [
           "#636efa",
           "#EF553B",
           "#00cc96",
           "#ab63fa",
           "#FFA15A",
           "#19d3f3",
           "#FF6692",
           "#B6E880",
           "#FF97FF",
           "#FECB52"
          ],
          "font": {
           "color": "#2a3f5f"
          },
          "geo": {
           "bgcolor": "white",
           "lakecolor": "white",
           "landcolor": "#E5ECF6",
           "showlakes": true,
           "showland": true,
           "subunitcolor": "white"
          },
          "hoverlabel": {
           "align": "left"
          },
          "hovermode": "closest",
          "mapbox": {
           "style": "light"
          },
          "paper_bgcolor": "white",
          "plot_bgcolor": "#E5ECF6",
          "polar": {
           "angularaxis": {
            "gridcolor": "white",
            "linecolor": "white",
            "ticks": ""
           },
           "bgcolor": "#E5ECF6",
           "radialaxis": {
            "gridcolor": "white",
            "linecolor": "white",
            "ticks": ""
           }
          },
          "scene": {
           "xaxis": {
            "backgroundcolor": "#E5ECF6",
            "gridcolor": "white",
            "gridwidth": 2,
            "linecolor": "white",
            "showbackground": true,
            "ticks": "",
            "zerolinecolor": "white"
           },
           "yaxis": {
            "backgroundcolor": "#E5ECF6",
            "gridcolor": "white",
            "gridwidth": 2,
            "linecolor": "white",
            "showbackground": true,
            "ticks": "",
            "zerolinecolor": "white"
           },
           "zaxis": {
            "backgroundcolor": "#E5ECF6",
            "gridcolor": "white",
            "gridwidth": 2,
            "linecolor": "white",
            "showbackground": true,
            "ticks": "",
            "zerolinecolor": "white"
           }
          },
          "shapedefaults": {
           "line": {
            "color": "#2a3f5f"
           }
          },
          "ternary": {
           "aaxis": {
            "gridcolor": "white",
            "linecolor": "white",
            "ticks": ""
           },
           "baxis": {
            "gridcolor": "white",
            "linecolor": "white",
            "ticks": ""
           },
           "bgcolor": "#E5ECF6",
           "caxis": {
            "gridcolor": "white",
            "linecolor": "white",
            "ticks": ""
           }
          },
          "title": {
           "x": 0.05
          },
          "xaxis": {
           "automargin": true,
           "gridcolor": "white",
           "linecolor": "white",
           "ticks": "",
           "title": {
            "standoff": 15
           },
           "zerolinecolor": "white",
           "zerolinewidth": 2
          },
          "yaxis": {
           "automargin": true,
           "gridcolor": "white",
           "linecolor": "white",
           "ticks": "",
           "title": {
            "standoff": 15
           },
           "zerolinecolor": "white",
           "zerolinewidth": 2
          }
         }
        },
        "xaxis": {
         "anchor": "y",
         "domain": [
          0,
          1
         ],
         "title": {
          "text": "days_left"
         }
        },
        "yaxis": {
         "anchor": "x",
         "domain": [
          0,
          1
         ],
         "title": {
          "text": "price"
         }
        }
       }
      }
     },
     "metadata": {},
     "output_type": "display_data"
    }
   ],
   "source": [
    "if SIMPLIFIED_PLOTS:\n",
    "    fig = px.scatter(df_raw_sample, x=\"days_left\", y=\"price\", color=\"class\")\n",
    "else: \n",
    "    fig = px.scatter(df_raw, x=\"days_left\", y=\"price\", color=\"class\", marginal_y=\"violin\", marginal_x=\"box\", trendline=\"ols\", template=\"simple_white\")\n",
    "fig.show()"
   ]
  },
  {
   "cell_type": "code",
   "execution_count": 8,
   "id": "a22b2472",
   "metadata": {},
   "outputs": [
    {
     "data": {
      "application/vnd.plotly.v1+json": {
       "config": {
        "plotlyServerURL": "https://plot.ly"
       },
       "data": [
        {
         "hovertemplate": "class=Economy<br>duration=%{x}<br>price=%{y}<extra></extra>",
         "legendgroup": "Economy",
         "marker": {
          "color": "#636efa",
          "symbol": "circle"
         },
         "mode": "markers",
         "name": "Economy",
         "showlegend": true,
         "type": "scattergl",
         "x": {
          "bdata": "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",
          "dtype": "f8"
         },
         "xaxis": "x",
         "y": {
          "bdata": "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",
          "dtype": "i2"
         },
         "yaxis": "y"
        },
        {
         "hovertemplate": "class=Business<br>duration=%{x}<br>price=%{y}<extra></extra>",
         "legendgroup": "Business",
         "marker": {
          "color": "#EF553B",
          "symbol": "circle"
         },
         "mode": "markers",
         "name": "Business",
         "showlegend": true,
         "type": "scattergl",
         "x": {
          "bdata": "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",
          "dtype": "f8"
         },
         "xaxis": "x",
         "y": {
          "bdata": "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",
          "dtype": "i4"
         },
         "yaxis": "y"
        }
       ],
       "layout": {
        "legend": {
         "title": {
          "text": "class"
         },
         "tracegroupgap": 0
        },
        "margin": {
         "t": 60
        },
        "template": {
         "data": {
          "bar": [
           {
            "error_x": {
             "color": "#2a3f5f"
            },
            "error_y": {
             "color": "#2a3f5f"
            },
            "marker": {
             "line": {
              "color": "#E5ECF6",
              "width": 0.5
             },
             "pattern": {
              "fillmode": "overlay",
              "size": 10,
              "solidity": 0.2
             }
            },
            "type": "bar"
           }
          ],
          "barpolar": [
           {
            "marker": {
             "line": {
              "color": "#E5ECF6",
              "width": 0.5
             },
             "pattern": {
              "fillmode": "overlay",
              "size": 10,
              "solidity": 0.2
             }
            },
            "type": "barpolar"
           }
          ],
          "carpet": [
           {
            "aaxis": {
             "endlinecolor": "#2a3f5f",
             "gridcolor": "white",
             "linecolor": "white",
             "minorgridcolor": "white",
             "startlinecolor": "#2a3f5f"
            },
            "baxis": {
             "endlinecolor": "#2a3f5f",
             "gridcolor": "white",
             "linecolor": "white",
             "minorgridcolor": "white",
             "startlinecolor": "#2a3f5f"
            },
            "type": "carpet"
           }
          ],
          "choropleth": [
           {
            "colorbar": {
             "outlinewidth": 0,
             "ticks": ""
            },
            "type": "choropleth"
           }
          ],
          "contour": [
           {
            "colorbar": {
             "outlinewidth": 0,
             "ticks": ""
            },
            "colorscale": [
             [
              0,
              "#0d0887"
             ],
             [
              0.1111111111111111,
              "#46039f"
             ],
             [
              0.2222222222222222,
              "#7201a8"
             ],
             [
              0.3333333333333333,
              "#9c179e"
             ],
             [
              0.4444444444444444,
              "#bd3786"
             ],
             [
              0.5555555555555556,
              "#d8576b"
             ],
             [
              0.6666666666666666,
              "#ed7953"
             ],
             [
              0.7777777777777778,
              "#fb9f3a"
             ],
             [
              0.8888888888888888,
              "#fdca26"
             ],
             [
              1,
              "#f0f921"
             ]
            ],
            "type": "contour"
           }
          ],
          "contourcarpet": [
           {
            "colorbar": {
             "outlinewidth": 0,
             "ticks": ""
            },
            "type": "contourcarpet"
           }
          ],
          "heatmap": [
           {
            "colorbar": {
             "outlinewidth": 0,
             "ticks": ""
            },
            "colorscale": [
             [
              0,
              "#0d0887"
             ],
             [
              0.1111111111111111,
              "#46039f"
             ],
             [
              0.2222222222222222,
              "#7201a8"
             ],
             [
              0.3333333333333333,
              "#9c179e"
             ],
             [
              0.4444444444444444,
              "#bd3786"
             ],
             [
              0.5555555555555556,
              "#d8576b"
             ],
             [
              0.6666666666666666,
              "#ed7953"
             ],
             [
              0.7777777777777778,
              "#fb9f3a"
             ],
             [
              0.8888888888888888,
              "#fdca26"
             ],
             [
              1,
              "#f0f921"
             ]
            ],
            "type": "heatmap"
           }
          ],
          "histogram": [
           {
            "marker": {
             "pattern": {
              "fillmode": "overlay",
              "size": 10,
              "solidity": 0.2
             }
            },
            "type": "histogram"
           }
          ],
          "histogram2d": [
           {
            "colorbar": {
             "outlinewidth": 0,
             "ticks": ""
            },
            "colorscale": [
             [
              0,
              "#0d0887"
             ],
             [
              0.1111111111111111,
              "#46039f"
             ],
             [
              0.2222222222222222,
              "#7201a8"
             ],
             [
              0.3333333333333333,
              "#9c179e"
             ],
             [
              0.4444444444444444,
              "#bd3786"
             ],
             [
              0.5555555555555556,
              "#d8576b"
             ],
             [
              0.6666666666666666,
              "#ed7953"
             ],
             [
              0.7777777777777778,
              "#fb9f3a"
             ],
             [
              0.8888888888888888,
              "#fdca26"
             ],
             [
              1,
              "#f0f921"
             ]
            ],
            "type": "histogram2d"
           }
          ],
          "histogram2dcontour": [
           {
            "colorbar": {
             "outlinewidth": 0,
             "ticks": ""
            },
            "colorscale": [
             [
              0,
              "#0d0887"
             ],
             [
              0.1111111111111111,
              "#46039f"
             ],
             [
              0.2222222222222222,
              "#7201a8"
             ],
             [
              0.3333333333333333,
              "#9c179e"
             ],
             [
              0.4444444444444444,
              "#bd3786"
             ],
             [
              0.5555555555555556,
              "#d8576b"
             ],
             [
              0.6666666666666666,
              "#ed7953"
             ],
             [
              0.7777777777777778,
              "#fb9f3a"
             ],
             [
              0.8888888888888888,
              "#fdca26"
             ],
             [
              1,
              "#f0f921"
             ]
            ],
            "type": "histogram2dcontour"
           }
          ],
          "mesh3d": [
           {
            "colorbar": {
             "outlinewidth": 0,
             "ticks": ""
            },
            "type": "mesh3d"
           }
          ],
          "parcoords": [
           {
            "line": {
             "colorbar": {
              "outlinewidth": 0,
              "ticks": ""
             }
            },
            "type": "parcoords"
           }
          ],
          "pie": [
           {
            "automargin": true,
            "type": "pie"
           }
          ],
          "scatter": [
           {
            "fillpattern": {
             "fillmode": "overlay",
             "size": 10,
             "solidity": 0.2
            },
            "type": "scatter"
           }
          ],
          "scatter3d": [
           {
            "line": {
             "colorbar": {
              "outlinewidth": 0,
              "ticks": ""
             }
            },
            "marker": {
             "colorbar": {
              "outlinewidth": 0,
              "ticks": ""
             }
            },
            "type": "scatter3d"
           }
          ],
          "scattercarpet": [
           {
            "marker": {
             "colorbar": {
              "outlinewidth": 0,
              "ticks": ""
             }
            },
            "type": "scattercarpet"
           }
          ],
          "scattergeo": [
           {
            "marker": {
             "colorbar": {
              "outlinewidth": 0,
              "ticks": ""
             }
            },
            "type": "scattergeo"
           }
          ],
          "scattergl": [
           {
            "marker": {
             "colorbar": {
              "outlinewidth": 0,
              "ticks": ""
             }
            },
            "type": "scattergl"
           }
          ],
          "scattermap": [
           {
            "marker": {
             "colorbar": {
              "outlinewidth": 0,
              "ticks": ""
             }
            },
            "type": "scattermap"
           }
          ],
          "scattermapbox": [
           {
            "marker": {
             "colorbar": {
              "outlinewidth": 0,
              "ticks": ""
             }
            },
            "type": "scattermapbox"
           }
          ],
          "scatterpolar": [
           {
            "marker": {
             "colorbar": {
              "outlinewidth": 0,
              "ticks": ""
             }
            },
            "type": "scatterpolar"
           }
          ],
          "scatterpolargl": [
           {
            "marker": {
             "colorbar": {
              "outlinewidth": 0,
              "ticks": ""
             }
            },
            "type": "scatterpolargl"
           }
          ],
          "scatterternary": [
           {
            "marker": {
             "colorbar": {
              "outlinewidth": 0,
              "ticks": ""
             }
            },
            "type": "scatterternary"
           }
          ],
          "surface": [
           {
            "colorbar": {
             "outlinewidth": 0,
             "ticks": ""
            },
            "colorscale": [
             [
              0,
              "#0d0887"
             ],
             [
              0.1111111111111111,
              "#46039f"
             ],
             [
              0.2222222222222222,
              "#7201a8"
             ],
             [
              0.3333333333333333,
              "#9c179e"
             ],
             [
              0.4444444444444444,
              "#bd3786"
             ],
             [
              0.5555555555555556,
              "#d8576b"
             ],
             [
              0.6666666666666666,
              "#ed7953"
             ],
             [
              0.7777777777777778,
              "#fb9f3a"
             ],
             [
              0.8888888888888888,
              "#fdca26"
             ],
             [
              1,
              "#f0f921"
             ]
            ],
            "type": "surface"
           }
          ],
          "table": [
           {
            "cells": {
             "fill": {
              "color": "#EBF0F8"
             },
             "line": {
              "color": "white"
             }
            },
            "header": {
             "fill": {
              "color": "#C8D4E3"
             },
             "line": {
              "color": "white"
             }
            },
            "type": "table"
           }
          ]
         },
         "layout": {
          "annotationdefaults": {
           "arrowcolor": "#2a3f5f",
           "arrowhead": 0,
           "arrowwidth": 1
          },
          "autotypenumbers": "strict",
          "coloraxis": {
           "colorbar": {
            "outlinewidth": 0,
            "ticks": ""
           }
          },
          "colorscale": {
           "diverging": [
            [
             0,
             "#8e0152"
            ],
            [
             0.1,
             "#c51b7d"
            ],
            [
             0.2,
             "#de77ae"
            ],
            [
             0.3,
             "#f1b6da"
            ],
            [
             0.4,
             "#fde0ef"
            ],
            [
             0.5,
             "#f7f7f7"
            ],
            [
             0.6,
             "#e6f5d0"
            ],
            [
             0.7,
             "#b8e186"
            ],
            [
             0.8,
             "#7fbc41"
            ],
            [
             0.9,
             "#4d9221"
            ],
            [
             1,
             "#276419"
            ]
           ],
           "sequential": [
            [
             0,
             "#0d0887"
            ],
            [
             0.1111111111111111,
             "#46039f"
            ],
            [
             0.2222222222222222,
             "#7201a8"
            ],
            [
             0.3333333333333333,
             "#9c179e"
            ],
            [
             0.4444444444444444,
             "#bd3786"
            ],
            [
             0.5555555555555556,
             "#d8576b"
            ],
            [
             0.6666666666666666,
             "#ed7953"
            ],
            [
             0.7777777777777778,
             "#fb9f3a"
            ],
            [
             0.8888888888888888,
             "#fdca26"
            ],
            [
             1,
             "#f0f921"
            ]
           ],
           "sequentialminus": [
            [
             0,
             "#0d0887"
            ],
            [
             0.1111111111111111,
             "#46039f"
            ],
            [
             0.2222222222222222,
             "#7201a8"
            ],
            [
             0.3333333333333333,
             "#9c179e"
            ],
            [
             0.4444444444444444,
             "#bd3786"
            ],
            [
             0.5555555555555556,
             "#d8576b"
            ],
            [
             0.6666666666666666,
             "#ed7953"
            ],
            [
             0.7777777777777778,
             "#fb9f3a"
            ],
            [
             0.8888888888888888,
             "#fdca26"
            ],
            [
             1,
             "#f0f921"
            ]
           ]
          },
          "colorway": [
           "#636efa",
           "#EF553B",
           "#00cc96",
           "#ab63fa",
           "#FFA15A",
           "#19d3f3",
           "#FF6692",
           "#B6E880",
           "#FF97FF",
           "#FECB52"
          ],
          "font": {
           "color": "#2a3f5f"
          },
          "geo": {
           "bgcolor": "white",
           "lakecolor": "white",
           "landcolor": "#E5ECF6",
           "showlakes": true,
           "showland": true,
           "subunitcolor": "white"
          },
          "hoverlabel": {
           "align": "left"
          },
          "hovermode": "closest",
          "mapbox": {
           "style": "light"
          },
          "paper_bgcolor": "white",
          "plot_bgcolor": "#E5ECF6",
          "polar": {
           "angularaxis": {
            "gridcolor": "white",
            "linecolor": "white",
            "ticks": ""
           },
           "bgcolor": "#E5ECF6",
           "radialaxis": {
            "gridcolor": "white",
            "linecolor": "white",
            "ticks": ""
           }
          },
          "scene": {
           "xaxis": {
            "backgroundcolor": "#E5ECF6",
            "gridcolor": "white",
            "gridwidth": 2,
            "linecolor": "white",
            "showbackground": true,
            "ticks": "",
            "zerolinecolor": "white"
           },
           "yaxis": {
            "backgroundcolor": "#E5ECF6",
            "gridcolor": "white",
            "gridwidth": 2,
            "linecolor": "white",
            "showbackground": true,
            "ticks": "",
            "zerolinecolor": "white"
           },
           "zaxis": {
            "backgroundcolor": "#E5ECF6",
            "gridcolor": "white",
            "gridwidth": 2,
            "linecolor": "white",
            "showbackground": true,
            "ticks": "",
            "zerolinecolor": "white"
           }
          },
          "shapedefaults": {
           "line": {
            "color": "#2a3f5f"
           }
          },
          "ternary": {
           "aaxis": {
            "gridcolor": "white",
            "linecolor": "white",
            "ticks": ""
           },
           "baxis": {
            "gridcolor": "white",
            "linecolor": "white",
            "ticks": ""
           },
           "bgcolor": "#E5ECF6",
           "caxis": {
            "gridcolor": "white",
            "linecolor": "white",
            "ticks": ""
           }
          },
          "title": {
           "x": 0.05
          },
          "xaxis": {
           "automargin": true,
           "gridcolor": "white",
           "linecolor": "white",
           "ticks": "",
           "title": {
            "standoff": 15
           },
           "zerolinecolor": "white",
           "zerolinewidth": 2
          },
          "yaxis": {
           "automargin": true,
           "gridcolor": "white",
           "linecolor": "white",
           "ticks": "",
           "title": {
            "standoff": 15
           },
           "zerolinecolor": "white",
           "zerolinewidth": 2
          }
         }
        },
        "xaxis": {
         "anchor": "y",
         "domain": [
          0,
          1
         ],
         "title": {
          "text": "duration"
         }
        },
        "yaxis": {
         "anchor": "x",
         "domain": [
          0,
          1
         ],
         "title": {
          "text": "price"
         }
        }
       }
      }
     },
     "metadata": {},
     "output_type": "display_data"
    }
   ],
   "source": [
    "if SIMPLIFIED_PLOTS:\n",
    "    fig = px.scatter(df_raw_sample, x=\"duration\", y=\"price\", color=\"class\")\n",
    "else:\n",
    "    fig = px.scatter(df_raw, x=\"duration\", y=\"price\", color=\"class\", marginal_y=\"violin\", marginal_x=\"box\", trendline=\"ols\", template=\"simple_white\")\n",
    "fig.show()"
   ]
  },
  {
   "cell_type": "markdown",
   "id": "1fba4117",
   "metadata": {},
   "source": [
    "## Data Cleaning and Preprocessing"
   ]
  },
  {
   "cell_type": "code",
   "execution_count": 9,
   "id": "988b5d72",
   "metadata": {},
   "outputs": [
    {
     "data": {
      "text/html": [
       "<div>\n",
       "<style scoped>\n",
       "    .dataframe tbody tr th:only-of-type {\n",
       "        vertical-align: middle;\n",
       "    }\n",
       "\n",
       "    .dataframe tbody tr th {\n",
       "        vertical-align: top;\n",
       "    }\n",
       "\n",
       "    .dataframe thead th {\n",
       "        text-align: right;\n",
       "    }\n",
       "</style>\n",
       "<table border=\"1\" class=\"dataframe\">\n",
       "  <thead>\n",
       "    <tr style=\"text-align: right;\">\n",
       "      <th></th>\n",
       "      <th>const</th>\n",
       "      <th>duration</th>\n",
       "      <th>days_left</th>\n",
       "      <th>airline_Air_India</th>\n",
       "      <th>airline_GO_FIRST</th>\n",
       "      <th>airline_Indigo</th>\n",
       "      <th>airline_SpiceJet</th>\n",
       "      <th>airline_Vistara</th>\n",
       "      <th>source_city_Chennai</th>\n",
       "      <th>source_city_Delhi</th>\n",
       "      <th>source_city_Hyderabad</th>\n",
       "      <th>source_city_Kolkata</th>\n",
       "      <th>source_city_Mumbai</th>\n",
       "      <th>departure_time_Early_Morning</th>\n",
       "      <th>departure_time_Evening</th>\n",
       "      <th>departure_time_Late_Night</th>\n",
       "      <th>departure_time_Morning</th>\n",
       "      <th>departure_time_Night</th>\n",
       "      <th>stops_two_or_more</th>\n",
       "      <th>stops_zero</th>\n",
       "      <th>arrival_time_Early_Morning</th>\n",
       "      <th>arrival_time_Evening</th>\n",
       "      <th>arrival_time_Late_Night</th>\n",
       "      <th>arrival_time_Morning</th>\n",
       "      <th>arrival_time_Night</th>\n",
       "      <th>destination_city_Chennai</th>\n",
       "      <th>destination_city_Delhi</th>\n",
       "      <th>destination_city_Hyderabad</th>\n",
       "      <th>destination_city_Kolkata</th>\n",
       "      <th>destination_city_Mumbai</th>\n",
       "      <th>class_Economy</th>\n",
       "    </tr>\n",
       "  </thead>\n",
       "  <tbody>\n",
       "    <tr>\n",
       "      <th>148417</th>\n",
       "      <td>1.0</td>\n",
       "      <td>19.42</td>\n",
       "      <td>6.0</td>\n",
       "      <td>1.0</td>\n",
       "      <td>0.0</td>\n",
       "      <td>0.0</td>\n",
       "      <td>0.0</td>\n",
       "      <td>0.0</td>\n",
       "      <td>0.0</td>\n",
       "      <td>0.0</td>\n",
       "      <td>0.0</td>\n",
       "      <td>1.0</td>\n",
       "      <td>0.0</td>\n",
       "      <td>0.0</td>\n",
       "      <td>0.0</td>\n",
       "      <td>0.0</td>\n",
       "      <td>0.0</td>\n",
       "      <td>0.0</td>\n",
       "      <td>0.0</td>\n",
       "      <td>0.0</td>\n",
       "      <td>0.0</td>\n",
       "      <td>0.0</td>\n",
       "      <td>0.0</td>\n",
       "      <td>1.0</td>\n",
       "      <td>0.0</td>\n",
       "      <td>1.0</td>\n",
       "      <td>0.0</td>\n",
       "      <td>0.0</td>\n",
       "      <td>0.0</td>\n",
       "      <td>0.0</td>\n",
       "      <td>1.0</td>\n",
       "    </tr>\n",
       "    <tr>\n",
       "      <th>36879</th>\n",
       "      <td>1.0</td>\n",
       "      <td>7.00</td>\n",
       "      <td>13.0</td>\n",
       "      <td>0.0</td>\n",
       "      <td>0.0</td>\n",
       "      <td>1.0</td>\n",
       "      <td>0.0</td>\n",
       "      <td>0.0</td>\n",
       "      <td>0.0</td>\n",
       "      <td>1.0</td>\n",
       "      <td>0.0</td>\n",
       "      <td>0.0</td>\n",
       "      <td>0.0</td>\n",
       "      <td>0.0</td>\n",
       "      <td>0.0</td>\n",
       "      <td>0.0</td>\n",
       "      <td>0.0</td>\n",
       "      <td>0.0</td>\n",
       "      <td>1.0</td>\n",
       "      <td>0.0</td>\n",
       "      <td>0.0</td>\n",
       "      <td>0.0</td>\n",
       "      <td>0.0</td>\n",
       "      <td>0.0</td>\n",
       "      <td>1.0</td>\n",
       "      <td>1.0</td>\n",
       "      <td>0.0</td>\n",
       "      <td>0.0</td>\n",
       "      <td>0.0</td>\n",
       "      <td>0.0</td>\n",
       "      <td>1.0</td>\n",
       "    </tr>\n",
       "    <tr>\n",
       "      <th>274531</th>\n",
       "      <td>1.0</td>\n",
       "      <td>21.17</td>\n",
       "      <td>44.0</td>\n",
       "      <td>1.0</td>\n",
       "      <td>0.0</td>\n",
       "      <td>0.0</td>\n",
       "      <td>0.0</td>\n",
       "      <td>0.0</td>\n",
       "      <td>0.0</td>\n",
       "      <td>0.0</td>\n",
       "      <td>0.0</td>\n",
       "      <td>1.0</td>\n",
       "      <td>0.0</td>\n",
       "      <td>0.0</td>\n",
       "      <td>0.0</td>\n",
       "      <td>0.0</td>\n",
       "      <td>0.0</td>\n",
       "      <td>0.0</td>\n",
       "      <td>0.0</td>\n",
       "      <td>0.0</td>\n",
       "      <td>0.0</td>\n",
       "      <td>0.0</td>\n",
       "      <td>0.0</td>\n",
       "      <td>0.0</td>\n",
       "      <td>0.0</td>\n",
       "      <td>1.0</td>\n",
       "      <td>0.0</td>\n",
       "      <td>0.0</td>\n",
       "      <td>0.0</td>\n",
       "      <td>0.0</td>\n",
       "      <td>0.0</td>\n",
       "    </tr>\n",
       "    <tr>\n",
       "      <th>166397</th>\n",
       "      <td>1.0</td>\n",
       "      <td>10.25</td>\n",
       "      <td>11.0</td>\n",
       "      <td>0.0</td>\n",
       "      <td>0.0</td>\n",
       "      <td>0.0</td>\n",
       "      <td>0.0</td>\n",
       "      <td>1.0</td>\n",
       "      <td>0.0</td>\n",
       "      <td>0.0</td>\n",
       "      <td>1.0</td>\n",
       "      <td>0.0</td>\n",
       "      <td>0.0</td>\n",
       "      <td>0.0</td>\n",
       "      <td>0.0</td>\n",
       "      <td>0.0</td>\n",
       "      <td>0.0</td>\n",
       "      <td>1.0</td>\n",
       "      <td>0.0</td>\n",
       "      <td>0.0</td>\n",
       "      <td>1.0</td>\n",
       "      <td>0.0</td>\n",
       "      <td>0.0</td>\n",
       "      <td>0.0</td>\n",
       "      <td>0.0</td>\n",
       "      <td>0.0</td>\n",
       "      <td>0.0</td>\n",
       "      <td>0.0</td>\n",
       "      <td>0.0</td>\n",
       "      <td>0.0</td>\n",
       "      <td>1.0</td>\n",
       "    </tr>\n",
       "    <tr>\n",
       "      <th>272722</th>\n",
       "      <td>1.0</td>\n",
       "      <td>26.50</td>\n",
       "      <td>5.0</td>\n",
       "      <td>0.0</td>\n",
       "      <td>0.0</td>\n",
       "      <td>0.0</td>\n",
       "      <td>0.0</td>\n",
       "      <td>1.0</td>\n",
       "      <td>0.0</td>\n",
       "      <td>0.0</td>\n",
       "      <td>0.0</td>\n",
       "      <td>1.0</td>\n",
       "      <td>0.0</td>\n",
       "      <td>0.0</td>\n",
       "      <td>0.0</td>\n",
       "      <td>0.0</td>\n",
       "      <td>0.0</td>\n",
       "      <td>1.0</td>\n",
       "      <td>0.0</td>\n",
       "      <td>0.0</td>\n",
       "      <td>0.0</td>\n",
       "      <td>0.0</td>\n",
       "      <td>0.0</td>\n",
       "      <td>0.0</td>\n",
       "      <td>1.0</td>\n",
       "      <td>1.0</td>\n",
       "      <td>0.0</td>\n",
       "      <td>0.0</td>\n",
       "      <td>0.0</td>\n",
       "      <td>0.0</td>\n",
       "      <td>0.0</td>\n",
       "    </tr>\n",
       "    <tr>\n",
       "      <th>...</th>\n",
       "      <td>...</td>\n",
       "      <td>...</td>\n",
       "      <td>...</td>\n",
       "      <td>...</td>\n",
       "      <td>...</td>\n",
       "      <td>...</td>\n",
       "      <td>...</td>\n",
       "      <td>...</td>\n",
       "      <td>...</td>\n",
       "      <td>...</td>\n",
       "      <td>...</td>\n",
       "      <td>...</td>\n",
       "      <td>...</td>\n",
       "      <td>...</td>\n",
       "      <td>...</td>\n",
       "      <td>...</td>\n",
       "      <td>...</td>\n",
       "      <td>...</td>\n",
       "      <td>...</td>\n",
       "      <td>...</td>\n",
       "      <td>...</td>\n",
       "      <td>...</td>\n",
       "      <td>...</td>\n",
       "      <td>...</td>\n",
       "      <td>...</td>\n",
       "      <td>...</td>\n",
       "      <td>...</td>\n",
       "      <td>...</td>\n",
       "      <td>...</td>\n",
       "      <td>...</td>\n",
       "      <td>...</td>\n",
       "    </tr>\n",
       "    <tr>\n",
       "      <th>119879</th>\n",
       "      <td>1.0</td>\n",
       "      <td>20.50</td>\n",
       "      <td>2.0</td>\n",
       "      <td>0.0</td>\n",
       "      <td>0.0</td>\n",
       "      <td>0.0</td>\n",
       "      <td>0.0</td>\n",
       "      <td>1.0</td>\n",
       "      <td>0.0</td>\n",
       "      <td>0.0</td>\n",
       "      <td>0.0</td>\n",
       "      <td>1.0</td>\n",
       "      <td>0.0</td>\n",
       "      <td>0.0</td>\n",
       "      <td>1.0</td>\n",
       "      <td>0.0</td>\n",
       "      <td>0.0</td>\n",
       "      <td>0.0</td>\n",
       "      <td>0.0</td>\n",
       "      <td>0.0</td>\n",
       "      <td>0.0</td>\n",
       "      <td>0.0</td>\n",
       "      <td>0.0</td>\n",
       "      <td>0.0</td>\n",
       "      <td>0.0</td>\n",
       "      <td>0.0</td>\n",
       "      <td>1.0</td>\n",
       "      <td>0.0</td>\n",
       "      <td>0.0</td>\n",
       "      <td>0.0</td>\n",
       "      <td>1.0</td>\n",
       "    </tr>\n",
       "    <tr>\n",
       "      <th>259178</th>\n",
       "      <td>1.0</td>\n",
       "      <td>25.42</td>\n",
       "      <td>7.0</td>\n",
       "      <td>0.0</td>\n",
       "      <td>0.0</td>\n",
       "      <td>0.0</td>\n",
       "      <td>0.0</td>\n",
       "      <td>1.0</td>\n",
       "      <td>0.0</td>\n",
       "      <td>0.0</td>\n",
       "      <td>0.0</td>\n",
       "      <td>0.0</td>\n",
       "      <td>0.0</td>\n",
       "      <td>0.0</td>\n",
       "      <td>0.0</td>\n",
       "      <td>0.0</td>\n",
       "      <td>0.0</td>\n",
       "      <td>1.0</td>\n",
       "      <td>0.0</td>\n",
       "      <td>0.0</td>\n",
       "      <td>0.0</td>\n",
       "      <td>0.0</td>\n",
       "      <td>0.0</td>\n",
       "      <td>0.0</td>\n",
       "      <td>1.0</td>\n",
       "      <td>1.0</td>\n",
       "      <td>0.0</td>\n",
       "      <td>0.0</td>\n",
       "      <td>0.0</td>\n",
       "      <td>0.0</td>\n",
       "      <td>0.0</td>\n",
       "    </tr>\n",
       "    <tr>\n",
       "      <th>131932</th>\n",
       "      <td>1.0</td>\n",
       "      <td>13.67</td>\n",
       "      <td>29.0</td>\n",
       "      <td>1.0</td>\n",
       "      <td>0.0</td>\n",
       "      <td>0.0</td>\n",
       "      <td>0.0</td>\n",
       "      <td>0.0</td>\n",
       "      <td>0.0</td>\n",
       "      <td>0.0</td>\n",
       "      <td>0.0</td>\n",
       "      <td>1.0</td>\n",
       "      <td>0.0</td>\n",
       "      <td>0.0</td>\n",
       "      <td>0.0</td>\n",
       "      <td>0.0</td>\n",
       "      <td>0.0</td>\n",
       "      <td>1.0</td>\n",
       "      <td>0.0</td>\n",
       "      <td>0.0</td>\n",
       "      <td>0.0</td>\n",
       "      <td>0.0</td>\n",
       "      <td>0.0</td>\n",
       "      <td>1.0</td>\n",
       "      <td>0.0</td>\n",
       "      <td>0.0</td>\n",
       "      <td>0.0</td>\n",
       "      <td>0.0</td>\n",
       "      <td>0.0</td>\n",
       "      <td>1.0</td>\n",
       "      <td>1.0</td>\n",
       "    </tr>\n",
       "    <tr>\n",
       "      <th>146867</th>\n",
       "      <td>1.0</td>\n",
       "      <td>8.33</td>\n",
       "      <td>39.0</td>\n",
       "      <td>0.0</td>\n",
       "      <td>1.0</td>\n",
       "      <td>0.0</td>\n",
       "      <td>0.0</td>\n",
       "      <td>0.0</td>\n",
       "      <td>0.0</td>\n",
       "      <td>0.0</td>\n",
       "      <td>0.0</td>\n",
       "      <td>1.0</td>\n",
       "      <td>0.0</td>\n",
       "      <td>0.0</td>\n",
       "      <td>0.0</td>\n",
       "      <td>0.0</td>\n",
       "      <td>0.0</td>\n",
       "      <td>0.0</td>\n",
       "      <td>0.0</td>\n",
       "      <td>0.0</td>\n",
       "      <td>0.0</td>\n",
       "      <td>0.0</td>\n",
       "      <td>0.0</td>\n",
       "      <td>0.0</td>\n",
       "      <td>1.0</td>\n",
       "      <td>0.0</td>\n",
       "      <td>0.0</td>\n",
       "      <td>1.0</td>\n",
       "      <td>0.0</td>\n",
       "      <td>0.0</td>\n",
       "      <td>1.0</td>\n",
       "    </tr>\n",
       "    <tr>\n",
       "      <th>121958</th>\n",
       "      <td>1.0</td>\n",
       "      <td>20.17</td>\n",
       "      <td>17.0</td>\n",
       "      <td>1.0</td>\n",
       "      <td>0.0</td>\n",
       "      <td>0.0</td>\n",
       "      <td>0.0</td>\n",
       "      <td>0.0</td>\n",
       "      <td>0.0</td>\n",
       "      <td>0.0</td>\n",
       "      <td>0.0</td>\n",
       "      <td>1.0</td>\n",
       "      <td>0.0</td>\n",
       "      <td>0.0</td>\n",
       "      <td>0.0</td>\n",
       "      <td>0.0</td>\n",
       "      <td>0.0</td>\n",
       "      <td>0.0</td>\n",
       "      <td>0.0</td>\n",
       "      <td>0.0</td>\n",
       "      <td>0.0</td>\n",
       "      <td>0.0</td>\n",
       "      <td>0.0</td>\n",
       "      <td>1.0</td>\n",
       "      <td>0.0</td>\n",
       "      <td>0.0</td>\n",
       "      <td>1.0</td>\n",
       "      <td>0.0</td>\n",
       "      <td>0.0</td>\n",
       "      <td>0.0</td>\n",
       "      <td>1.0</td>\n",
       "    </tr>\n",
       "  </tbody>\n",
       "</table>\n",
       "<p>240122 rows × 31 columns</p>\n",
       "</div>"
      ],
      "text/plain": [
       "        const  duration  days_left  airline_Air_India  airline_GO_FIRST  \\\n",
       "148417    1.0     19.42        6.0                1.0               0.0   \n",
       "36879     1.0      7.00       13.0                0.0               0.0   \n",
       "274531    1.0     21.17       44.0                1.0               0.0   \n",
       "166397    1.0     10.25       11.0                0.0               0.0   \n",
       "272722    1.0     26.50        5.0                0.0               0.0   \n",
       "...       ...       ...        ...                ...               ...   \n",
       "119879    1.0     20.50        2.0                0.0               0.0   \n",
       "259178    1.0     25.42        7.0                0.0               0.0   \n",
       "131932    1.0     13.67       29.0                1.0               0.0   \n",
       "146867    1.0      8.33       39.0                0.0               1.0   \n",
       "121958    1.0     20.17       17.0                1.0               0.0   \n",
       "\n",
       "        airline_Indigo  airline_SpiceJet  airline_Vistara  \\\n",
       "148417             0.0               0.0              0.0   \n",
       "36879              1.0               0.0              0.0   \n",
       "274531             0.0               0.0              0.0   \n",
       "166397             0.0               0.0              1.0   \n",
       "272722             0.0               0.0              1.0   \n",
       "...                ...               ...              ...   \n",
       "119879             0.0               0.0              1.0   \n",
       "259178             0.0               0.0              1.0   \n",
       "131932             0.0               0.0              0.0   \n",
       "146867             0.0               0.0              0.0   \n",
       "121958             0.0               0.0              0.0   \n",
       "\n",
       "        source_city_Chennai  source_city_Delhi  source_city_Hyderabad  \\\n",
       "148417                  0.0                0.0                    0.0   \n",
       "36879                   0.0                1.0                    0.0   \n",
       "274531                  0.0                0.0                    0.0   \n",
       "166397                  0.0                0.0                    1.0   \n",
       "272722                  0.0                0.0                    0.0   \n",
       "...                     ...                ...                    ...   \n",
       "119879                  0.0                0.0                    0.0   \n",
       "259178                  0.0                0.0                    0.0   \n",
       "131932                  0.0                0.0                    0.0   \n",
       "146867                  0.0                0.0                    0.0   \n",
       "121958                  0.0                0.0                    0.0   \n",
       "\n",
       "        source_city_Kolkata  source_city_Mumbai  departure_time_Early_Morning  \\\n",
       "148417                  1.0                 0.0                           0.0   \n",
       "36879                   0.0                 0.0                           0.0   \n",
       "274531                  1.0                 0.0                           0.0   \n",
       "166397                  0.0                 0.0                           0.0   \n",
       "272722                  1.0                 0.0                           0.0   \n",
       "...                     ...                 ...                           ...   \n",
       "119879                  1.0                 0.0                           0.0   \n",
       "259178                  0.0                 0.0                           0.0   \n",
       "131932                  1.0                 0.0                           0.0   \n",
       "146867                  1.0                 0.0                           0.0   \n",
       "121958                  1.0                 0.0                           0.0   \n",
       "\n",
       "        departure_time_Evening  departure_time_Late_Night  \\\n",
       "148417                     0.0                        0.0   \n",
       "36879                      0.0                        0.0   \n",
       "274531                     0.0                        0.0   \n",
       "166397                     0.0                        0.0   \n",
       "272722                     0.0                        0.0   \n",
       "...                        ...                        ...   \n",
       "119879                     1.0                        0.0   \n",
       "259178                     0.0                        0.0   \n",
       "131932                     0.0                        0.0   \n",
       "146867                     0.0                        0.0   \n",
       "121958                     0.0                        0.0   \n",
       "\n",
       "        departure_time_Morning  departure_time_Night  stops_two_or_more  \\\n",
       "148417                     0.0                   0.0                0.0   \n",
       "36879                      0.0                   0.0                1.0   \n",
       "274531                     0.0                   0.0                0.0   \n",
       "166397                     0.0                   1.0                0.0   \n",
       "272722                     0.0                   1.0                0.0   \n",
       "...                        ...                   ...                ...   \n",
       "119879                     0.0                   0.0                0.0   \n",
       "259178                     0.0                   1.0                0.0   \n",
       "131932                     0.0                   1.0                0.0   \n",
       "146867                     0.0                   0.0                0.0   \n",
       "121958                     0.0                   0.0                0.0   \n",
       "\n",
       "        stops_zero  arrival_time_Early_Morning  arrival_time_Evening  \\\n",
       "148417         0.0                         0.0                   0.0   \n",
       "36879          0.0                         0.0                   0.0   \n",
       "274531         0.0                         0.0                   0.0   \n",
       "166397         0.0                         1.0                   0.0   \n",
       "272722         0.0                         0.0                   0.0   \n",
       "...            ...                         ...                   ...   \n",
       "119879         0.0                         0.0                   0.0   \n",
       "259178         0.0                         0.0                   0.0   \n",
       "131932         0.0                         0.0                   0.0   \n",
       "146867         0.0                         0.0                   0.0   \n",
       "121958         0.0                         0.0                   0.0   \n",
       "\n",
       "        arrival_time_Late_Night  arrival_time_Morning  arrival_time_Night  \\\n",
       "148417                      0.0                   1.0                 0.0   \n",
       "36879                       0.0                   0.0                 1.0   \n",
       "274531                      0.0                   0.0                 0.0   \n",
       "166397                      0.0                   0.0                 0.0   \n",
       "272722                      0.0                   0.0                 1.0   \n",
       "...                         ...                   ...                 ...   \n",
       "119879                      0.0                   0.0                 0.0   \n",
       "259178                      0.0                   0.0                 1.0   \n",
       "131932                      0.0                   1.0                 0.0   \n",
       "146867                      0.0                   0.0                 1.0   \n",
       "121958                      0.0                   1.0                 0.0   \n",
       "\n",
       "        destination_city_Chennai  destination_city_Delhi  \\\n",
       "148417                       1.0                     0.0   \n",
       "36879                        1.0                     0.0   \n",
       "274531                       1.0                     0.0   \n",
       "166397                       0.0                     0.0   \n",
       "272722                       1.0                     0.0   \n",
       "...                          ...                     ...   \n",
       "119879                       0.0                     1.0   \n",
       "259178                       1.0                     0.0   \n",
       "131932                       0.0                     0.0   \n",
       "146867                       0.0                     0.0   \n",
       "121958                       0.0                     1.0   \n",
       "\n",
       "        destination_city_Hyderabad  destination_city_Kolkata  \\\n",
       "148417                         0.0                       0.0   \n",
       "36879                          0.0                       0.0   \n",
       "274531                         0.0                       0.0   \n",
       "166397                         0.0                       0.0   \n",
       "272722                         0.0                       0.0   \n",
       "...                            ...                       ...   \n",
       "119879                         0.0                       0.0   \n",
       "259178                         0.0                       0.0   \n",
       "131932                         0.0                       0.0   \n",
       "146867                         1.0                       0.0   \n",
       "121958                         0.0                       0.0   \n",
       "\n",
       "        destination_city_Mumbai  class_Economy  \n",
       "148417                      0.0            1.0  \n",
       "36879                       0.0            1.0  \n",
       "274531                      0.0            0.0  \n",
       "166397                      0.0            1.0  \n",
       "272722                      0.0            0.0  \n",
       "...                         ...            ...  \n",
       "119879                      0.0            1.0  \n",
       "259178                      0.0            0.0  \n",
       "131932                      1.0            1.0  \n",
       "146867                      0.0            1.0  \n",
       "121958                      0.0            1.0  \n",
       "\n",
       "[240122 rows x 31 columns]"
      ]
     },
     "execution_count": 9,
     "metadata": {},
     "output_type": "execute_result"
    }
   ],
   "source": [
    "df = df_raw.copy()\n",
    "\n",
    "df.drop(columns=[\"flight\"], inplace=True)\n",
    "\n",
    "y = df['price']\n",
    "X = df.drop(columns=['price'])\n",
    "\n",
    "X_encoded = pd.get_dummies(X, drop_first=True)\n",
    "\n",
    "# Step 5: Add intercept\n",
    "X_encoded = sm.add_constant(X_encoded)\n",
    "\n",
    "# Make sure all data is numeric\n",
    "X_encoded = X_encoded.astype(float)\n",
    "y = y.astype(float)\n",
    "\n",
    "X_train, X_test, y_train, y_test = train_test_split(X_encoded, y, test_size=0.2, random_state=42)\n",
    "X_train"
   ]
  },
  {
   "cell_type": "markdown",
   "id": "27d8cf50",
   "metadata": {},
   "source": [
    "## Lasso, Statsmodels Implementation"
   ]
  },
  {
   "cell_type": "code",
   "execution_count": 10,
   "id": "bed73371",
   "metadata": {},
   "outputs": [],
   "source": [
    "def evaluate_predictions(y_true, y_pred):\n",
    "    # Metrics\n",
    "    r2 = r2_score(y_true, y_pred)\n",
    "    mse = mean_squared_error(y_true, y_pred)\n",
    "    rmse = root_mean_squared_error(y_true, y_pred)\n",
    "    mae = mean_absolute_error(y_true, y_pred)\n",
    "\n",
    "    print(f\"R²: {r2:.3f}\")\n",
    "    print(f\"MSE: {mse:.2f}\")\n",
    "    print(f\"RMSE: {rmse:.2f}\")\n",
    "    print(f\"MAE: {mae:.2f}\")\n",
    "\n",
    "def show_nonzero_coefficients(coef:pd.Series):\n",
    "    # Filter non-zero coefficients\n",
    "    nonzero_coef = coef[coef != 0]\n",
    "    print(f\"\\nSelected Coefficients (non-zero): {len(nonzero_coef)}\")\n",
    "    # Build DataFrame with sign and absolute importance\n",
    "    coef_df = pd.DataFrame({\n",
    "        \"Selected Feature\": nonzero_coef.index,\n",
    "        \"Coefficient\": nonzero_coef.values,\n",
    "        \"Importance\": nonzero_coef.abs().values\n",
    "    })\n",
    "\n",
    "    # Sort by absolute importance (descending)\n",
    "    coef_df = coef_df.sort_values(by=\"Importance\", ascending=False).reset_index(drop=True)\n",
    "    coef_df.drop(columns=\"Importance\", inplace=True)\n",
    "    return coef_df"
   ]
  },
  {
   "cell_type": "code",
   "execution_count": 11,
   "id": "c1f537cf",
   "metadata": {},
   "outputs": [
    {
     "name": "stdout",
     "output_type": "stream",
     "text": [
      "Metrics Training:\n",
      "R²: 0.911\n",
      "MSE: 45875614.68\n",
      "RMSE: 6773.15\n",
      "MAE: 4594.10\n",
      "\n",
      "Selected Coefficients (non-zero): 25\n"
     ]
    },
    {
     "data": {
      "text/html": [
       "<div>\n",
       "<style scoped>\n",
       "    .dataframe tbody tr th:only-of-type {\n",
       "        vertical-align: middle;\n",
       "    }\n",
       "\n",
       "    .dataframe tbody tr th {\n",
       "        vertical-align: top;\n",
       "    }\n",
       "\n",
       "    .dataframe thead th {\n",
       "        text-align: right;\n",
       "    }\n",
       "</style>\n",
       "<table border=\"1\" class=\"dataframe\">\n",
       "  <thead>\n",
       "    <tr style=\"text-align: right;\">\n",
       "      <th></th>\n",
       "      <th>Selected Feature</th>\n",
       "      <th>Coefficient</th>\n",
       "    </tr>\n",
       "  </thead>\n",
       "  <tbody>\n",
       "    <tr>\n",
       "      <th>0</th>\n",
       "      <td>const</td>\n",
       "      <td>50748.899859</td>\n",
       "    </tr>\n",
       "    <tr>\n",
       "      <th>1</th>\n",
       "      <td>class_Economy</td>\n",
       "      <td>-44722.005244</td>\n",
       "    </tr>\n",
       "    <tr>\n",
       "      <th>2</th>\n",
       "      <td>stops_zero</td>\n",
       "      <td>-7510.561076</td>\n",
       "    </tr>\n",
       "    <tr>\n",
       "      <th>3</th>\n",
       "      <td>airline_Vistara</td>\n",
       "      <td>3178.035956</td>\n",
       "    </tr>\n",
       "    <tr>\n",
       "      <th>4</th>\n",
       "      <td>days_left</td>\n",
       "      <td>-1782.591587</td>\n",
       "    </tr>\n",
       "    <tr>\n",
       "      <th>5</th>\n",
       "      <td>source_city_Kolkata</td>\n",
       "      <td>1706.785602</td>\n",
       "    </tr>\n",
       "    <tr>\n",
       "      <th>6</th>\n",
       "      <td>destination_city_Hyderabad</td>\n",
       "      <td>-1675.968602</td>\n",
       "    </tr>\n",
       "    <tr>\n",
       "      <th>7</th>\n",
       "      <td>source_city_Hyderabad</td>\n",
       "      <td>-1639.671488</td>\n",
       "    </tr>\n",
       "    <tr>\n",
       "      <th>8</th>\n",
       "      <td>destination_city_Delhi</td>\n",
       "      <td>-1507.124571</td>\n",
       "    </tr>\n",
       "    <tr>\n",
       "      <th>9</th>\n",
       "      <td>destination_city_Kolkata</td>\n",
       "      <td>1493.950610</td>\n",
       "    </tr>\n",
       "    <tr>\n",
       "      <th>10</th>\n",
       "      <td>source_city_Delhi</td>\n",
       "      <td>-1346.229667</td>\n",
       "    </tr>\n",
       "    <tr>\n",
       "      <th>11</th>\n",
       "      <td>departure_time_Late_Night</td>\n",
       "      <td>1306.871893</td>\n",
       "    </tr>\n",
       "    <tr>\n",
       "      <th>12</th>\n",
       "      <td>airline_Indigo</td>\n",
       "      <td>1119.173356</td>\n",
       "    </tr>\n",
       "    <tr>\n",
       "      <th>13</th>\n",
       "      <td>arrival_time_Early_Morning</td>\n",
       "      <td>-1083.155142</td>\n",
       "    </tr>\n",
       "    <tr>\n",
       "      <th>14</th>\n",
       "      <td>departure_time_Morning</td>\n",
       "      <td>868.766059</td>\n",
       "    </tr>\n",
       "    <tr>\n",
       "      <th>15</th>\n",
       "      <td>arrival_time_Night</td>\n",
       "      <td>863.311780</td>\n",
       "    </tr>\n",
       "    <tr>\n",
       "      <th>16</th>\n",
       "      <td>airline_Air_India</td>\n",
       "      <td>-824.842775</td>\n",
       "    </tr>\n",
       "    <tr>\n",
       "      <th>17</th>\n",
       "      <td>departure_time_Early_Morning</td>\n",
       "      <td>813.157037</td>\n",
       "    </tr>\n",
       "    <tr>\n",
       "      <th>18</th>\n",
       "      <td>departure_time_Evening</td>\n",
       "      <td>749.233764</td>\n",
       "    </tr>\n",
       "    <tr>\n",
       "      <th>19</th>\n",
       "      <td>airline_GO_FIRST</td>\n",
       "      <td>714.727042</td>\n",
       "    </tr>\n",
       "    <tr>\n",
       "      <th>20</th>\n",
       "      <td>arrival_time_Evening</td>\n",
       "      <td>623.024987</td>\n",
       "    </tr>\n",
       "    <tr>\n",
       "      <th>21</th>\n",
       "      <td>departure_time_Night</td>\n",
       "      <td>597.865637</td>\n",
       "    </tr>\n",
       "    <tr>\n",
       "      <th>22</th>\n",
       "      <td>duration</td>\n",
       "      <td>383.768122</td>\n",
       "    </tr>\n",
       "    <tr>\n",
       "      <th>23</th>\n",
       "      <td>source_city_Mumbai</td>\n",
       "      <td>-139.334276</td>\n",
       "    </tr>\n",
       "    <tr>\n",
       "      <th>24</th>\n",
       "      <td>destination_city_Chennai</td>\n",
       "      <td>-60.561891</td>\n",
       "    </tr>\n",
       "  </tbody>\n",
       "</table>\n",
       "</div>"
      ],
      "text/plain": [
       "                Selected Feature   Coefficient\n",
       "0                          const  50748.899859\n",
       "1                  class_Economy -44722.005244\n",
       "2                     stops_zero  -7510.561076\n",
       "3                airline_Vistara   3178.035956\n",
       "4                      days_left  -1782.591587\n",
       "5            source_city_Kolkata   1706.785602\n",
       "6     destination_city_Hyderabad  -1675.968602\n",
       "7          source_city_Hyderabad  -1639.671488\n",
       "8         destination_city_Delhi  -1507.124571\n",
       "9       destination_city_Kolkata   1493.950610\n",
       "10             source_city_Delhi  -1346.229667\n",
       "11     departure_time_Late_Night   1306.871893\n",
       "12                airline_Indigo   1119.173356\n",
       "13    arrival_time_Early_Morning  -1083.155142\n",
       "14        departure_time_Morning    868.766059\n",
       "15            arrival_time_Night    863.311780\n",
       "16             airline_Air_India   -824.842775\n",
       "17  departure_time_Early_Morning    813.157037\n",
       "18        departure_time_Evening    749.233764\n",
       "19              airline_GO_FIRST    714.727042\n",
       "20          arrival_time_Evening    623.024987\n",
       "21          departure_time_Night    597.865637\n",
       "22                      duration    383.768122\n",
       "23            source_city_Mumbai   -139.334276\n",
       "24      destination_city_Chennai    -60.561891"
      ]
     },
     "execution_count": 11,
     "metadata": {},
     "output_type": "execute_result"
    }
   ],
   "source": [
    "# Step 4: Scale numeric features\n",
    "X_preprocessed = X_train.copy()\n",
    "NUMERICAL_COLS = ['duration', 'days_left']\n",
    "scaler = StandardScaler()\n",
    "X_preprocessed[NUMERICAL_COLS] = scaler.fit_transform(X_preprocessed[NUMERICAL_COLS])\n",
    "\n",
    "# Step 6: Fit Lasso using statsmodels (fit_regularized)\n",
    "model = sm.OLS(y_train, X_preprocessed)\n",
    "lasso_result = model.fit_regularized(method='elastic_net', alpha=1.0, L1_wt=1.0)\n",
    "\n",
    "# Predictions\n",
    "y_pred = lasso_result.predict(X_preprocessed)\n",
    "print(\"Metrics Training:\")\n",
    "evaluate_predictions(y_train, y_pred)\n",
    "\n",
    "# Step 7: Display coefficients\n",
    "coef = pd.Series(lasso_result.params, index=X_preprocessed.columns)\n",
    "show_nonzero_coefficients(coef)"
   ]
  },
  {
   "cell_type": "markdown",
   "id": "f58b69cc",
   "metadata": {},
   "source": [
    "## Lasso, ScikitLearn Implementation\n",
    "\n",
    "- Same training R2 as Statsmodels but slightly different coefficients and MSE for some reason. Scaling difference?\n",
    "- Statsmodels doesn't give information table, so we might as well use Scikitlearn\n",
    "- It's also x10 times faster"
   ]
  },
  {
   "cell_type": "code",
   "execution_count": 12,
   "id": "51125620",
   "metadata": {},
   "outputs": [
    {
     "name": "stdout",
     "output_type": "stream",
     "text": [
      "Metrics Training:\n",
      "R²: 0.911\n",
      "MSE: 45592781.12\n",
      "RMSE: 6752.24\n",
      "MAE: 4573.16\n",
      "\n",
      "Selected Coefficients (non-zero): 29\n"
     ]
    },
    {
     "data": {
      "text/html": [
       "<div>\n",
       "<style scoped>\n",
       "    .dataframe tbody tr th:only-of-type {\n",
       "        vertical-align: middle;\n",
       "    }\n",
       "\n",
       "    .dataframe tbody tr th {\n",
       "        vertical-align: top;\n",
       "    }\n",
       "\n",
       "    .dataframe thead th {\n",
       "        text-align: right;\n",
       "    }\n",
       "</style>\n",
       "<table border=\"1\" class=\"dataframe\">\n",
       "  <thead>\n",
       "    <tr style=\"text-align: right;\">\n",
       "      <th></th>\n",
       "      <th>Selected Feature</th>\n",
       "      <th>Coefficient</th>\n",
       "    </tr>\n",
       "  </thead>\n",
       "  <tbody>\n",
       "    <tr>\n",
       "      <th>0</th>\n",
       "      <td>class_Economy</td>\n",
       "      <td>-44927.039846</td>\n",
       "    </tr>\n",
       "    <tr>\n",
       "      <th>1</th>\n",
       "      <td>stops_zero</td>\n",
       "      <td>-7594.554556</td>\n",
       "    </tr>\n",
       "    <tr>\n",
       "      <th>2</th>\n",
       "      <td>airline_Vistara</td>\n",
       "      <td>3959.834212</td>\n",
       "    </tr>\n",
       "    <tr>\n",
       "      <th>3</th>\n",
       "      <td>airline_SpiceJet</td>\n",
       "      <td>2158.949125</td>\n",
       "    </tr>\n",
       "    <tr>\n",
       "      <th>4</th>\n",
       "      <td>stops_two_or_more</td>\n",
       "      <td>2066.661971</td>\n",
       "    </tr>\n",
       "    <tr>\n",
       "      <th>5</th>\n",
       "      <td>airline_Indigo</td>\n",
       "      <td>2010.066314</td>\n",
       "    </tr>\n",
       "    <tr>\n",
       "      <th>6</th>\n",
       "      <td>duration</td>\n",
       "      <td>-1769.489330</td>\n",
       "    </tr>\n",
       "    <tr>\n",
       "      <th>7</th>\n",
       "      <td>destination_city_Hyderabad</td>\n",
       "      <td>-1683.962152</td>\n",
       "    </tr>\n",
       "    <tr>\n",
       "      <th>8</th>\n",
       "      <td>source_city_Hyderabad</td>\n",
       "      <td>-1647.005015</td>\n",
       "    </tr>\n",
       "    <tr>\n",
       "      <th>9</th>\n",
       "      <td>source_city_Kolkata</td>\n",
       "      <td>1608.552126</td>\n",
       "    </tr>\n",
       "    <tr>\n",
       "      <th>10</th>\n",
       "      <td>airline_GO_FIRST</td>\n",
       "      <td>1573.172630</td>\n",
       "    </tr>\n",
       "    <tr>\n",
       "      <th>11</th>\n",
       "      <td>destination_city_Delhi</td>\n",
       "      <td>-1534.868167</td>\n",
       "    </tr>\n",
       "    <tr>\n",
       "      <th>12</th>\n",
       "      <td>source_city_Delhi</td>\n",
       "      <td>-1389.830175</td>\n",
       "    </tr>\n",
       "    <tr>\n",
       "      <th>13</th>\n",
       "      <td>destination_city_Kolkata</td>\n",
       "      <td>1373.882813</td>\n",
       "    </tr>\n",
       "    <tr>\n",
       "      <th>14</th>\n",
       "      <td>departure_time_Late_Night</td>\n",
       "      <td>1263.199082</td>\n",
       "    </tr>\n",
       "    <tr>\n",
       "      <th>15</th>\n",
       "      <td>arrival_time_Night</td>\n",
       "      <td>1104.975288</td>\n",
       "    </tr>\n",
       "    <tr>\n",
       "      <th>16</th>\n",
       "      <td>arrival_time_Late_Night</td>\n",
       "      <td>902.898385</td>\n",
       "    </tr>\n",
       "    <tr>\n",
       "      <th>17</th>\n",
       "      <td>arrival_time_Evening</td>\n",
       "      <td>896.655558</td>\n",
       "    </tr>\n",
       "    <tr>\n",
       "      <th>18</th>\n",
       "      <td>departure_time_Morning</td>\n",
       "      <td>830.271081</td>\n",
       "    </tr>\n",
       "    <tr>\n",
       "      <th>19</th>\n",
       "      <td>departure_time_Early_Morning</td>\n",
       "      <td>768.749940</td>\n",
       "    </tr>\n",
       "    <tr>\n",
       "      <th>20</th>\n",
       "      <td>arrival_time_Early_Morning</td>\n",
       "      <td>-766.893182</td>\n",
       "    </tr>\n",
       "    <tr>\n",
       "      <th>21</th>\n",
       "      <td>departure_time_Evening</td>\n",
       "      <td>698.846028</td>\n",
       "    </tr>\n",
       "    <tr>\n",
       "      <th>22</th>\n",
       "      <td>departure_time_Night</td>\n",
       "      <td>615.236295</td>\n",
       "    </tr>\n",
       "    <tr>\n",
       "      <th>23</th>\n",
       "      <td>arrival_time_Morning</td>\n",
       "      <td>434.768659</td>\n",
       "    </tr>\n",
       "    <tr>\n",
       "      <th>24</th>\n",
       "      <td>const</td>\n",
       "      <td>314.710400</td>\n",
       "    </tr>\n",
       "    <tr>\n",
       "      <th>25</th>\n",
       "      <td>destination_city_Chennai</td>\n",
       "      <td>-207.672156</td>\n",
       "    </tr>\n",
       "    <tr>\n",
       "      <th>26</th>\n",
       "      <td>source_city_Mumbai</td>\n",
       "      <td>-178.591231</td>\n",
       "    </tr>\n",
       "    <tr>\n",
       "      <th>27</th>\n",
       "      <td>source_city_Chennai</td>\n",
       "      <td>-45.050361</td>\n",
       "    </tr>\n",
       "    <tr>\n",
       "      <th>28</th>\n",
       "      <td>destination_city_Mumbai</td>\n",
       "      <td>-2.828915</td>\n",
       "    </tr>\n",
       "  </tbody>\n",
       "</table>\n",
       "</div>"
      ],
      "text/plain": [
       "                Selected Feature   Coefficient\n",
       "0                  class_Economy -44927.039846\n",
       "1                     stops_zero  -7594.554556\n",
       "2                airline_Vistara   3959.834212\n",
       "3               airline_SpiceJet   2158.949125\n",
       "4              stops_two_or_more   2066.661971\n",
       "5                 airline_Indigo   2010.066314\n",
       "6                       duration  -1769.489330\n",
       "7     destination_city_Hyderabad  -1683.962152\n",
       "8          source_city_Hyderabad  -1647.005015\n",
       "9            source_city_Kolkata   1608.552126\n",
       "10              airline_GO_FIRST   1573.172630\n",
       "11        destination_city_Delhi  -1534.868167\n",
       "12             source_city_Delhi  -1389.830175\n",
       "13      destination_city_Kolkata   1373.882813\n",
       "14     departure_time_Late_Night   1263.199082\n",
       "15            arrival_time_Night   1104.975288\n",
       "16       arrival_time_Late_Night    902.898385\n",
       "17          arrival_time_Evening    896.655558\n",
       "18        departure_time_Morning    830.271081\n",
       "19  departure_time_Early_Morning    768.749940\n",
       "20    arrival_time_Early_Morning   -766.893182\n",
       "21        departure_time_Evening    698.846028\n",
       "22          departure_time_Night    615.236295\n",
       "23          arrival_time_Morning    434.768659\n",
       "24                         const    314.710400\n",
       "25      destination_city_Chennai   -207.672156\n",
       "26            source_city_Mumbai   -178.591231\n",
       "27           source_city_Chennai    -45.050361\n",
       "28       destination_city_Mumbai     -2.828915"
      ]
     },
     "execution_count": 12,
     "metadata": {},
     "output_type": "execute_result"
    }
   ],
   "source": [
    "# 4. Build pipeline: scale numericals and fit Lasso\n",
    "# Preprocessing: scale numericals, pass-through the rest\n",
    "preprocessor = ColumnTransformer(\n",
    "    transformers=[\n",
    "        ('num', StandardScaler(), NUMERICAL_COLS)\n",
    "    ],\n",
    "    remainder='passthrough'  # leave one-hot encoded dummies unchanged\n",
    ")\n",
    "\n",
    "lasso_pipeline = Pipeline([\n",
    "    ('preprocessor', preprocessor),\n",
    "    ('model', Lasso(alpha=1.0))\n",
    "])\n",
    "\n",
    "lasso_pipeline.fit(X_train, y_train)\n",
    "\n",
    "# 5. Predictions and metrics\n",
    "y_pred = lasso_pipeline.predict(X_train)\n",
    "print(\"Metrics Training:\")\n",
    "evaluate_predictions(y_train, y_pred )\n",
    "\n",
    "# 6. Extract coefficients\n",
    "lasso = lasso_pipeline.named_steps['model']\n",
    "coef = pd.Series(lasso.coef_, index=X_encoded.columns)\n",
    "show_nonzero_coefficients(coef)"
   ]
  },
  {
   "cell_type": "markdown",
   "id": "0e2405ac",
   "metadata": {},
   "source": [
    "## CrossValidation"
   ]
  },
  {
   "cell_type": "code",
   "execution_count": 13,
   "id": "3f9ee301",
   "metadata": {},
   "outputs": [
    {
     "name": "stderr",
     "output_type": "stream",
     "text": [
      "c:\\Users\\AsusTUF\\anaconda3\\envs\\tru_linear_models_assignments\\Lib\\site-packages\\sklearn\\compose\\_column_transformer.py:1667: FutureWarning:\n",
      "\n",
      "\n",
      "The format of the columns of the 'remainder' transformer in ColumnTransformer.transformers_ will change in version 1.7 to match the format of the other transformers.\n",
      "At the moment the remainder columns are stored as indices (of type int). With the same ColumnTransformer configuration, in the future they will be stored as column names (of type str).\n",
      "To use the new behavior now and suppress this warning, use ColumnTransformer(force_int_remainder_cols=False).\n",
      "\n",
      "\n"
     ]
    },
    {
     "data": {
      "text/html": [
       "<style>#sk-container-id-1 {\n",
       "  /* Definition of color scheme common for light and dark mode */\n",
       "  --sklearn-color-text: #000;\n",
       "  --sklearn-color-text-muted: #666;\n",
       "  --sklearn-color-line: gray;\n",
       "  /* Definition of color scheme for unfitted estimators */\n",
       "  --sklearn-color-unfitted-level-0: #fff5e6;\n",
       "  --sklearn-color-unfitted-level-1: #f6e4d2;\n",
       "  --sklearn-color-unfitted-level-2: #ffe0b3;\n",
       "  --sklearn-color-unfitted-level-3: chocolate;\n",
       "  /* Definition of color scheme for fitted estimators */\n",
       "  --sklearn-color-fitted-level-0: #f0f8ff;\n",
       "  --sklearn-color-fitted-level-1: #d4ebff;\n",
       "  --sklearn-color-fitted-level-2: #b3dbfd;\n",
       "  --sklearn-color-fitted-level-3: cornflowerblue;\n",
       "\n",
       "  /* Specific color for light theme */\n",
       "  --sklearn-color-text-on-default-background: var(--sg-text-color, var(--theme-code-foreground, var(--jp-content-font-color1, black)));\n",
       "  --sklearn-color-background: var(--sg-background-color, var(--theme-background, var(--jp-layout-color0, white)));\n",
       "  --sklearn-color-border-box: var(--sg-text-color, var(--theme-code-foreground, var(--jp-content-font-color1, black)));\n",
       "  --sklearn-color-icon: #696969;\n",
       "\n",
       "  @media (prefers-color-scheme: dark) {\n",
       "    /* Redefinition of color scheme for dark theme */\n",
       "    --sklearn-color-text-on-default-background: var(--sg-text-color, var(--theme-code-foreground, var(--jp-content-font-color1, white)));\n",
       "    --sklearn-color-background: var(--sg-background-color, var(--theme-background, var(--jp-layout-color0, #111)));\n",
       "    --sklearn-color-border-box: var(--sg-text-color, var(--theme-code-foreground, var(--jp-content-font-color1, white)));\n",
       "    --sklearn-color-icon: #878787;\n",
       "  }\n",
       "}\n",
       "\n",
       "#sk-container-id-1 {\n",
       "  color: var(--sklearn-color-text);\n",
       "}\n",
       "\n",
       "#sk-container-id-1 pre {\n",
       "  padding: 0;\n",
       "}\n",
       "\n",
       "#sk-container-id-1 input.sk-hidden--visually {\n",
       "  border: 0;\n",
       "  clip: rect(1px 1px 1px 1px);\n",
       "  clip: rect(1px, 1px, 1px, 1px);\n",
       "  height: 1px;\n",
       "  margin: -1px;\n",
       "  overflow: hidden;\n",
       "  padding: 0;\n",
       "  position: absolute;\n",
       "  width: 1px;\n",
       "}\n",
       "\n",
       "#sk-container-id-1 div.sk-dashed-wrapped {\n",
       "  border: 1px dashed var(--sklearn-color-line);\n",
       "  margin: 0 0.4em 0.5em 0.4em;\n",
       "  box-sizing: border-box;\n",
       "  padding-bottom: 0.4em;\n",
       "  background-color: var(--sklearn-color-background);\n",
       "}\n",
       "\n",
       "#sk-container-id-1 div.sk-container {\n",
       "  /* jupyter's `normalize.less` sets `[hidden] { display: none; }`\n",
       "     but bootstrap.min.css set `[hidden] { display: none !important; }`\n",
       "     so we also need the `!important` here to be able to override the\n",
       "     default hidden behavior on the sphinx rendered scikit-learn.org.\n",
       "     See: https://github.com/scikit-learn/scikit-learn/issues/21755 */\n",
       "  display: inline-block !important;\n",
       "  position: relative;\n",
       "}\n",
       "\n",
       "#sk-container-id-1 div.sk-text-repr-fallback {\n",
       "  display: none;\n",
       "}\n",
       "\n",
       "div.sk-parallel-item,\n",
       "div.sk-serial,\n",
       "div.sk-item {\n",
       "  /* draw centered vertical line to link estimators */\n",
       "  background-image: linear-gradient(var(--sklearn-color-text-on-default-background), var(--sklearn-color-text-on-default-background));\n",
       "  background-size: 2px 100%;\n",
       "  background-repeat: no-repeat;\n",
       "  background-position: center center;\n",
       "}\n",
       "\n",
       "/* Parallel-specific style estimator block */\n",
       "\n",
       "#sk-container-id-1 div.sk-parallel-item::after {\n",
       "  content: \"\";\n",
       "  width: 100%;\n",
       "  border-bottom: 2px solid var(--sklearn-color-text-on-default-background);\n",
       "  flex-grow: 1;\n",
       "}\n",
       "\n",
       "#sk-container-id-1 div.sk-parallel {\n",
       "  display: flex;\n",
       "  align-items: stretch;\n",
       "  justify-content: center;\n",
       "  background-color: var(--sklearn-color-background);\n",
       "  position: relative;\n",
       "}\n",
       "\n",
       "#sk-container-id-1 div.sk-parallel-item {\n",
       "  display: flex;\n",
       "  flex-direction: column;\n",
       "}\n",
       "\n",
       "#sk-container-id-1 div.sk-parallel-item:first-child::after {\n",
       "  align-self: flex-end;\n",
       "  width: 50%;\n",
       "}\n",
       "\n",
       "#sk-container-id-1 div.sk-parallel-item:last-child::after {\n",
       "  align-self: flex-start;\n",
       "  width: 50%;\n",
       "}\n",
       "\n",
       "#sk-container-id-1 div.sk-parallel-item:only-child::after {\n",
       "  width: 0;\n",
       "}\n",
       "\n",
       "/* Serial-specific style estimator block */\n",
       "\n",
       "#sk-container-id-1 div.sk-serial {\n",
       "  display: flex;\n",
       "  flex-direction: column;\n",
       "  align-items: center;\n",
       "  background-color: var(--sklearn-color-background);\n",
       "  padding-right: 1em;\n",
       "  padding-left: 1em;\n",
       "}\n",
       "\n",
       "\n",
       "/* Toggleable style: style used for estimator/Pipeline/ColumnTransformer box that is\n",
       "clickable and can be expanded/collapsed.\n",
       "- Pipeline and ColumnTransformer use this feature and define the default style\n",
       "- Estimators will overwrite some part of the style using the `sk-estimator` class\n",
       "*/\n",
       "\n",
       "/* Pipeline and ColumnTransformer style (default) */\n",
       "\n",
       "#sk-container-id-1 div.sk-toggleable {\n",
       "  /* Default theme specific background. It is overwritten whether we have a\n",
       "  specific estimator or a Pipeline/ColumnTransformer */\n",
       "  background-color: var(--sklearn-color-background);\n",
       "}\n",
       "\n",
       "/* Toggleable label */\n",
       "#sk-container-id-1 label.sk-toggleable__label {\n",
       "  cursor: pointer;\n",
       "  display: flex;\n",
       "  width: 100%;\n",
       "  margin-bottom: 0;\n",
       "  padding: 0.5em;\n",
       "  box-sizing: border-box;\n",
       "  text-align: center;\n",
       "  align-items: start;\n",
       "  justify-content: space-between;\n",
       "  gap: 0.5em;\n",
       "}\n",
       "\n",
       "#sk-container-id-1 label.sk-toggleable__label .caption {\n",
       "  font-size: 0.6rem;\n",
       "  font-weight: lighter;\n",
       "  color: var(--sklearn-color-text-muted);\n",
       "}\n",
       "\n",
       "#sk-container-id-1 label.sk-toggleable__label-arrow:before {\n",
       "  /* Arrow on the left of the label */\n",
       "  content: \"▸\";\n",
       "  float: left;\n",
       "  margin-right: 0.25em;\n",
       "  color: var(--sklearn-color-icon);\n",
       "}\n",
       "\n",
       "#sk-container-id-1 label.sk-toggleable__label-arrow:hover:before {\n",
       "  color: var(--sklearn-color-text);\n",
       "}\n",
       "\n",
       "/* Toggleable content - dropdown */\n",
       "\n",
       "#sk-container-id-1 div.sk-toggleable__content {\n",
       "  max-height: 0;\n",
       "  max-width: 0;\n",
       "  overflow: hidden;\n",
       "  text-align: left;\n",
       "  /* unfitted */\n",
       "  background-color: var(--sklearn-color-unfitted-level-0);\n",
       "}\n",
       "\n",
       "#sk-container-id-1 div.sk-toggleable__content.fitted {\n",
       "  /* fitted */\n",
       "  background-color: var(--sklearn-color-fitted-level-0);\n",
       "}\n",
       "\n",
       "#sk-container-id-1 div.sk-toggleable__content pre {\n",
       "  margin: 0.2em;\n",
       "  border-radius: 0.25em;\n",
       "  color: var(--sklearn-color-text);\n",
       "  /* unfitted */\n",
       "  background-color: var(--sklearn-color-unfitted-level-0);\n",
       "}\n",
       "\n",
       "#sk-container-id-1 div.sk-toggleable__content.fitted pre {\n",
       "  /* unfitted */\n",
       "  background-color: var(--sklearn-color-fitted-level-0);\n",
       "}\n",
       "\n",
       "#sk-container-id-1 input.sk-toggleable__control:checked~div.sk-toggleable__content {\n",
       "  /* Expand drop-down */\n",
       "  max-height: 200px;\n",
       "  max-width: 100%;\n",
       "  overflow: auto;\n",
       "}\n",
       "\n",
       "#sk-container-id-1 input.sk-toggleable__control:checked~label.sk-toggleable__label-arrow:before {\n",
       "  content: \"▾\";\n",
       "}\n",
       "\n",
       "/* Pipeline/ColumnTransformer-specific style */\n",
       "\n",
       "#sk-container-id-1 div.sk-label input.sk-toggleable__control:checked~label.sk-toggleable__label {\n",
       "  color: var(--sklearn-color-text);\n",
       "  background-color: var(--sklearn-color-unfitted-level-2);\n",
       "}\n",
       "\n",
       "#sk-container-id-1 div.sk-label.fitted input.sk-toggleable__control:checked~label.sk-toggleable__label {\n",
       "  background-color: var(--sklearn-color-fitted-level-2);\n",
       "}\n",
       "\n",
       "/* Estimator-specific style */\n",
       "\n",
       "/* Colorize estimator box */\n",
       "#sk-container-id-1 div.sk-estimator input.sk-toggleable__control:checked~label.sk-toggleable__label {\n",
       "  /* unfitted */\n",
       "  background-color: var(--sklearn-color-unfitted-level-2);\n",
       "}\n",
       "\n",
       "#sk-container-id-1 div.sk-estimator.fitted input.sk-toggleable__control:checked~label.sk-toggleable__label {\n",
       "  /* fitted */\n",
       "  background-color: var(--sklearn-color-fitted-level-2);\n",
       "}\n",
       "\n",
       "#sk-container-id-1 div.sk-label label.sk-toggleable__label,\n",
       "#sk-container-id-1 div.sk-label label {\n",
       "  /* The background is the default theme color */\n",
       "  color: var(--sklearn-color-text-on-default-background);\n",
       "}\n",
       "\n",
       "/* On hover, darken the color of the background */\n",
       "#sk-container-id-1 div.sk-label:hover label.sk-toggleable__label {\n",
       "  color: var(--sklearn-color-text);\n",
       "  background-color: var(--sklearn-color-unfitted-level-2);\n",
       "}\n",
       "\n",
       "/* Label box, darken color on hover, fitted */\n",
       "#sk-container-id-1 div.sk-label.fitted:hover label.sk-toggleable__label.fitted {\n",
       "  color: var(--sklearn-color-text);\n",
       "  background-color: var(--sklearn-color-fitted-level-2);\n",
       "}\n",
       "\n",
       "/* Estimator label */\n",
       "\n",
       "#sk-container-id-1 div.sk-label label {\n",
       "  font-family: monospace;\n",
       "  font-weight: bold;\n",
       "  display: inline-block;\n",
       "  line-height: 1.2em;\n",
       "}\n",
       "\n",
       "#sk-container-id-1 div.sk-label-container {\n",
       "  text-align: center;\n",
       "}\n",
       "\n",
       "/* Estimator-specific */\n",
       "#sk-container-id-1 div.sk-estimator {\n",
       "  font-family: monospace;\n",
       "  border: 1px dotted var(--sklearn-color-border-box);\n",
       "  border-radius: 0.25em;\n",
       "  box-sizing: border-box;\n",
       "  margin-bottom: 0.5em;\n",
       "  /* unfitted */\n",
       "  background-color: var(--sklearn-color-unfitted-level-0);\n",
       "}\n",
       "\n",
       "#sk-container-id-1 div.sk-estimator.fitted {\n",
       "  /* fitted */\n",
       "  background-color: var(--sklearn-color-fitted-level-0);\n",
       "}\n",
       "\n",
       "/* on hover */\n",
       "#sk-container-id-1 div.sk-estimator:hover {\n",
       "  /* unfitted */\n",
       "  background-color: var(--sklearn-color-unfitted-level-2);\n",
       "}\n",
       "\n",
       "#sk-container-id-1 div.sk-estimator.fitted:hover {\n",
       "  /* fitted */\n",
       "  background-color: var(--sklearn-color-fitted-level-2);\n",
       "}\n",
       "\n",
       "/* Specification for estimator info (e.g. \"i\" and \"?\") */\n",
       "\n",
       "/* Common style for \"i\" and \"?\" */\n",
       "\n",
       ".sk-estimator-doc-link,\n",
       "a:link.sk-estimator-doc-link,\n",
       "a:visited.sk-estimator-doc-link {\n",
       "  float: right;\n",
       "  font-size: smaller;\n",
       "  line-height: 1em;\n",
       "  font-family: monospace;\n",
       "  background-color: var(--sklearn-color-background);\n",
       "  border-radius: 1em;\n",
       "  height: 1em;\n",
       "  width: 1em;\n",
       "  text-decoration: none !important;\n",
       "  margin-left: 0.5em;\n",
       "  text-align: center;\n",
       "  /* unfitted */\n",
       "  border: var(--sklearn-color-unfitted-level-1) 1pt solid;\n",
       "  color: var(--sklearn-color-unfitted-level-1);\n",
       "}\n",
       "\n",
       ".sk-estimator-doc-link.fitted,\n",
       "a:link.sk-estimator-doc-link.fitted,\n",
       "a:visited.sk-estimator-doc-link.fitted {\n",
       "  /* fitted */\n",
       "  border: var(--sklearn-color-fitted-level-1) 1pt solid;\n",
       "  color: var(--sklearn-color-fitted-level-1);\n",
       "}\n",
       "\n",
       "/* On hover */\n",
       "div.sk-estimator:hover .sk-estimator-doc-link:hover,\n",
       ".sk-estimator-doc-link:hover,\n",
       "div.sk-label-container:hover .sk-estimator-doc-link:hover,\n",
       ".sk-estimator-doc-link:hover {\n",
       "  /* unfitted */\n",
       "  background-color: var(--sklearn-color-unfitted-level-3);\n",
       "  color: var(--sklearn-color-background);\n",
       "  text-decoration: none;\n",
       "}\n",
       "\n",
       "div.sk-estimator.fitted:hover .sk-estimator-doc-link.fitted:hover,\n",
       ".sk-estimator-doc-link.fitted:hover,\n",
       "div.sk-label-container:hover .sk-estimator-doc-link.fitted:hover,\n",
       ".sk-estimator-doc-link.fitted:hover {\n",
       "  /* fitted */\n",
       "  background-color: var(--sklearn-color-fitted-level-3);\n",
       "  color: var(--sklearn-color-background);\n",
       "  text-decoration: none;\n",
       "}\n",
       "\n",
       "/* Span, style for the box shown on hovering the info icon */\n",
       ".sk-estimator-doc-link span {\n",
       "  display: none;\n",
       "  z-index: 9999;\n",
       "  position: relative;\n",
       "  font-weight: normal;\n",
       "  right: .2ex;\n",
       "  padding: .5ex;\n",
       "  margin: .5ex;\n",
       "  width: min-content;\n",
       "  min-width: 20ex;\n",
       "  max-width: 50ex;\n",
       "  color: var(--sklearn-color-text);\n",
       "  box-shadow: 2pt 2pt 4pt #999;\n",
       "  /* unfitted */\n",
       "  background: var(--sklearn-color-unfitted-level-0);\n",
       "  border: .5pt solid var(--sklearn-color-unfitted-level-3);\n",
       "}\n",
       "\n",
       ".sk-estimator-doc-link.fitted span {\n",
       "  /* fitted */\n",
       "  background: var(--sklearn-color-fitted-level-0);\n",
       "  border: var(--sklearn-color-fitted-level-3);\n",
       "}\n",
       "\n",
       ".sk-estimator-doc-link:hover span {\n",
       "  display: block;\n",
       "}\n",
       "\n",
       "/* \"?\"-specific style due to the `<a>` HTML tag */\n",
       "\n",
       "#sk-container-id-1 a.estimator_doc_link {\n",
       "  float: right;\n",
       "  font-size: 1rem;\n",
       "  line-height: 1em;\n",
       "  font-family: monospace;\n",
       "  background-color: var(--sklearn-color-background);\n",
       "  border-radius: 1rem;\n",
       "  height: 1rem;\n",
       "  width: 1rem;\n",
       "  text-decoration: none;\n",
       "  /* unfitted */\n",
       "  color: var(--sklearn-color-unfitted-level-1);\n",
       "  border: var(--sklearn-color-unfitted-level-1) 1pt solid;\n",
       "}\n",
       "\n",
       "#sk-container-id-1 a.estimator_doc_link.fitted {\n",
       "  /* fitted */\n",
       "  border: var(--sklearn-color-fitted-level-1) 1pt solid;\n",
       "  color: var(--sklearn-color-fitted-level-1);\n",
       "}\n",
       "\n",
       "/* On hover */\n",
       "#sk-container-id-1 a.estimator_doc_link:hover {\n",
       "  /* unfitted */\n",
       "  background-color: var(--sklearn-color-unfitted-level-3);\n",
       "  color: var(--sklearn-color-background);\n",
       "  text-decoration: none;\n",
       "}\n",
       "\n",
       "#sk-container-id-1 a.estimator_doc_link.fitted:hover {\n",
       "  /* fitted */\n",
       "  background-color: var(--sklearn-color-fitted-level-3);\n",
       "}\n",
       "</style><div id=\"sk-container-id-1\" class=\"sk-top-container\"><div class=\"sk-text-repr-fallback\"><pre>Pipeline(steps=[(&#x27;preprocessor&#x27;,\n",
       "                 ColumnTransformer(remainder=&#x27;passthrough&#x27;,\n",
       "                                   transformers=[(&#x27;num&#x27;, StandardScaler(),\n",
       "                                                  [&#x27;duration&#x27;, &#x27;days_left&#x27;])])),\n",
       "                (&#x27;lasso_cv&#x27;,\n",
       "                 LassoCV(alphas=[0.0001, 0.0003, 0.001, 0.003, 0.01, 0.03, 0.1,\n",
       "                                 0.3, 1.0, 3.0, 10.0, 30, 100, 300, 1000],\n",
       "                         cv=10, max_iter=10000))])</pre><b>In a Jupyter environment, please rerun this cell to show the HTML representation or trust the notebook. <br />On GitHub, the HTML representation is unable to render, please try loading this page with nbviewer.org.</b></div><div class=\"sk-container\" hidden><div class=\"sk-item sk-dashed-wrapped\"><div class=\"sk-label-container\"><div class=\"sk-label fitted sk-toggleable\"><input class=\"sk-toggleable__control sk-hidden--visually\" id=\"sk-estimator-id-1\" type=\"checkbox\" ><label for=\"sk-estimator-id-1\" class=\"sk-toggleable__label fitted sk-toggleable__label-arrow\"><div><div>Pipeline</div></div><div><a class=\"sk-estimator-doc-link fitted\" rel=\"noreferrer\" target=\"_blank\" href=\"https://scikit-learn.org/1.6/modules/generated/sklearn.pipeline.Pipeline.html\">?<span>Documentation for Pipeline</span></a><span class=\"sk-estimator-doc-link fitted\">i<span>Fitted</span></span></div></label><div class=\"sk-toggleable__content fitted\"><pre>Pipeline(steps=[(&#x27;preprocessor&#x27;,\n",
       "                 ColumnTransformer(remainder=&#x27;passthrough&#x27;,\n",
       "                                   transformers=[(&#x27;num&#x27;, StandardScaler(),\n",
       "                                                  [&#x27;duration&#x27;, &#x27;days_left&#x27;])])),\n",
       "                (&#x27;lasso_cv&#x27;,\n",
       "                 LassoCV(alphas=[0.0001, 0.0003, 0.001, 0.003, 0.01, 0.03, 0.1,\n",
       "                                 0.3, 1.0, 3.0, 10.0, 30, 100, 300, 1000],\n",
       "                         cv=10, max_iter=10000))])</pre></div> </div></div><div class=\"sk-serial\"><div class=\"sk-item sk-dashed-wrapped\"><div class=\"sk-label-container\"><div class=\"sk-label fitted sk-toggleable\"><input class=\"sk-toggleable__control sk-hidden--visually\" id=\"sk-estimator-id-2\" type=\"checkbox\" ><label for=\"sk-estimator-id-2\" class=\"sk-toggleable__label fitted sk-toggleable__label-arrow\"><div><div>preprocessor: ColumnTransformer</div></div><div><a class=\"sk-estimator-doc-link fitted\" rel=\"noreferrer\" target=\"_blank\" href=\"https://scikit-learn.org/1.6/modules/generated/sklearn.compose.ColumnTransformer.html\">?<span>Documentation for preprocessor: ColumnTransformer</span></a></div></label><div class=\"sk-toggleable__content fitted\"><pre>ColumnTransformer(remainder=&#x27;passthrough&#x27;,\n",
       "                  transformers=[(&#x27;num&#x27;, StandardScaler(),\n",
       "                                 [&#x27;duration&#x27;, &#x27;days_left&#x27;])])</pre></div> </div></div><div class=\"sk-parallel\"><div class=\"sk-parallel-item\"><div class=\"sk-item\"><div class=\"sk-label-container\"><div class=\"sk-label fitted sk-toggleable\"><input class=\"sk-toggleable__control sk-hidden--visually\" id=\"sk-estimator-id-3\" type=\"checkbox\" ><label for=\"sk-estimator-id-3\" class=\"sk-toggleable__label fitted sk-toggleable__label-arrow\"><div><div>num</div></div></label><div class=\"sk-toggleable__content fitted\"><pre>[&#x27;duration&#x27;, &#x27;days_left&#x27;]</pre></div> </div></div><div class=\"sk-serial\"><div class=\"sk-item\"><div class=\"sk-estimator fitted sk-toggleable\"><input class=\"sk-toggleable__control sk-hidden--visually\" id=\"sk-estimator-id-4\" type=\"checkbox\" ><label for=\"sk-estimator-id-4\" class=\"sk-toggleable__label fitted sk-toggleable__label-arrow\"><div><div>StandardScaler</div></div><div><a class=\"sk-estimator-doc-link fitted\" rel=\"noreferrer\" target=\"_blank\" href=\"https://scikit-learn.org/1.6/modules/generated/sklearn.preprocessing.StandardScaler.html\">?<span>Documentation for StandardScaler</span></a></div></label><div class=\"sk-toggleable__content fitted\"><pre>StandardScaler()</pre></div> </div></div></div></div></div><div class=\"sk-parallel-item\"><div class=\"sk-item\"><div class=\"sk-label-container\"><div class=\"sk-label fitted sk-toggleable\"><input class=\"sk-toggleable__control sk-hidden--visually\" id=\"sk-estimator-id-5\" type=\"checkbox\" ><label for=\"sk-estimator-id-5\" class=\"sk-toggleable__label fitted sk-toggleable__label-arrow\"><div><div>remainder</div></div></label><div class=\"sk-toggleable__content fitted\"><pre>[&#x27;const&#x27;, &#x27;airline_Air_India&#x27;, &#x27;airline_GO_FIRST&#x27;, &#x27;airline_Indigo&#x27;, &#x27;airline_SpiceJet&#x27;, &#x27;airline_Vistara&#x27;, &#x27;source_city_Chennai&#x27;, &#x27;source_city_Delhi&#x27;, &#x27;source_city_Hyderabad&#x27;, &#x27;source_city_Kolkata&#x27;, &#x27;source_city_Mumbai&#x27;, &#x27;departure_time_Early_Morning&#x27;, &#x27;departure_time_Evening&#x27;, &#x27;departure_time_Late_Night&#x27;, &#x27;departure_time_Morning&#x27;, &#x27;departure_time_Night&#x27;, &#x27;stops_two_or_more&#x27;, &#x27;stops_zero&#x27;, &#x27;arrival_time_Early_Morning&#x27;, &#x27;arrival_time_Evening&#x27;, &#x27;arrival_time_Late_Night&#x27;, &#x27;arrival_time_Morning&#x27;, &#x27;arrival_time_Night&#x27;, &#x27;destination_city_Chennai&#x27;, &#x27;destination_city_Delhi&#x27;, &#x27;destination_city_Hyderabad&#x27;, &#x27;destination_city_Kolkata&#x27;, &#x27;destination_city_Mumbai&#x27;, &#x27;class_Economy&#x27;]</pre></div> </div></div><div class=\"sk-serial\"><div class=\"sk-item\"><div class=\"sk-estimator fitted sk-toggleable\"><input class=\"sk-toggleable__control sk-hidden--visually\" id=\"sk-estimator-id-6\" type=\"checkbox\" ><label for=\"sk-estimator-id-6\" class=\"sk-toggleable__label fitted sk-toggleable__label-arrow\"><div><div>passthrough</div></div></label><div class=\"sk-toggleable__content fitted\"><pre>passthrough</pre></div> </div></div></div></div></div></div></div><div class=\"sk-item\"><div class=\"sk-estimator fitted sk-toggleable\"><input class=\"sk-toggleable__control sk-hidden--visually\" id=\"sk-estimator-id-7\" type=\"checkbox\" ><label for=\"sk-estimator-id-7\" class=\"sk-toggleable__label fitted sk-toggleable__label-arrow\"><div><div>LassoCV</div></div><div><a class=\"sk-estimator-doc-link fitted\" rel=\"noreferrer\" target=\"_blank\" href=\"https://scikit-learn.org/1.6/modules/generated/sklearn.linear_model.LassoCV.html\">?<span>Documentation for LassoCV</span></a></div></label><div class=\"sk-toggleable__content fitted\"><pre>LassoCV(alphas=[0.0001, 0.0003, 0.001, 0.003, 0.01, 0.03, 0.1, 0.3, 1.0, 3.0,\n",
       "                10.0, 30, 100, 300, 1000],\n",
       "        cv=10, max_iter=10000)</pre></div> </div></div></div></div></div></div>"
      ],
      "text/plain": [
       "Pipeline(steps=[('preprocessor',\n",
       "                 ColumnTransformer(remainder='passthrough',\n",
       "                                   transformers=[('num', StandardScaler(),\n",
       "                                                  ['duration', 'days_left'])])),\n",
       "                ('lasso_cv',\n",
       "                 LassoCV(alphas=[0.0001, 0.0003, 0.001, 0.003, 0.01, 0.03, 0.1,\n",
       "                                 0.3, 1.0, 3.0, 10.0, 30, 100, 300, 1000],\n",
       "                         cv=10, max_iter=10000))])"
      ]
     },
     "execution_count": 13,
     "metadata": {},
     "output_type": "execute_result"
    }
   ],
   "source": [
    "# 3. Define alpha (lambda) values to search\n",
    "alphas = [0.0001, 0.0003, 0.001, 0.003, 0.01, 0.03, 0.1, 0.3, 1.0, 3.0, 10.0, 30 ,100, 300, 1000]\n",
    "\n",
    "# 4. Create pipeline with LassoCV\n",
    "lassocv_pipeline = Pipeline([\n",
    "    ('preprocessor', preprocessor),\n",
    "    ('lasso_cv', LassoCV(alphas=alphas, cv=10, max_iter=10000))\n",
    "])\n",
    "\n",
    "# 6. Fit pipeline\n",
    "lassocv_pipeline.fit(X_train, y_train)"
   ]
  },
  {
   "cell_type": "code",
   "execution_count": 14,
   "id": "baa22feb",
   "metadata": {},
   "outputs": [
    {
     "name": "stdout",
     "output_type": "stream",
     "text": [
      "Best lambda (alpha) from CV: 0.001\n",
      "Metrics Train:\n",
      "R²: 0.911\n",
      "MSE: 45591331.05\n",
      "RMSE: 6752.14\n",
      "MAE: 4573.98\n",
      "\n",
      "Metrics Test:\n",
      "R²: 0.911\n",
      "MSE: 45720771.19\n",
      "RMSE: 6761.71\n",
      "MAE: 4553.29\n",
      "\n",
      "Selected Coefficients (non-zero): 30\n"
     ]
    },
    {
     "data": {
      "text/html": [
       "<div>\n",
       "<style scoped>\n",
       "    .dataframe tbody tr th:only-of-type {\n",
       "        vertical-align: middle;\n",
       "    }\n",
       "\n",
       "    .dataframe tbody tr th {\n",
       "        vertical-align: top;\n",
       "    }\n",
       "\n",
       "    .dataframe thead th {\n",
       "        text-align: right;\n",
       "    }\n",
       "</style>\n",
       "<table border=\"1\" class=\"dataframe\">\n",
       "  <thead>\n",
       "    <tr style=\"text-align: right;\">\n",
       "      <th></th>\n",
       "      <th>Selected Feature</th>\n",
       "      <th>Coefficient</th>\n",
       "    </tr>\n",
       "  </thead>\n",
       "  <tbody>\n",
       "    <tr>\n",
       "      <th>0</th>\n",
       "      <td>class_Economy</td>\n",
       "      <td>-44929.059741</td>\n",
       "    </tr>\n",
       "    <tr>\n",
       "      <th>1</th>\n",
       "      <td>stops_zero</td>\n",
       "      <td>-7613.315572</td>\n",
       "    </tr>\n",
       "    <tr>\n",
       "      <th>2</th>\n",
       "      <td>airline_Vistara</td>\n",
       "      <td>4068.801384</td>\n",
       "    </tr>\n",
       "    <tr>\n",
       "      <th>3</th>\n",
       "      <td>airline_SpiceJet</td>\n",
       "      <td>2303.840003</td>\n",
       "    </tr>\n",
       "    <tr>\n",
       "      <th>4</th>\n",
       "      <td>airline_Indigo</td>\n",
       "      <td>2124.210815</td>\n",
       "    </tr>\n",
       "    <tr>\n",
       "      <th>5</th>\n",
       "      <td>stops_two_or_more</td>\n",
       "      <td>2105.203233</td>\n",
       "    </tr>\n",
       "    <tr>\n",
       "      <th>6</th>\n",
       "      <td>duration</td>\n",
       "      <td>-1769.908240</td>\n",
       "    </tr>\n",
       "    <tr>\n",
       "      <th>7</th>\n",
       "      <td>destination_city_Hyderabad</td>\n",
       "      <td>-1712.043004</td>\n",
       "    </tr>\n",
       "    <tr>\n",
       "      <th>8</th>\n",
       "      <td>airline_GO_FIRST</td>\n",
       "      <td>1691.971492</td>\n",
       "    </tr>\n",
       "    <tr>\n",
       "      <th>9</th>\n",
       "      <td>source_city_Hyderabad</td>\n",
       "      <td>-1675.405911</td>\n",
       "    </tr>\n",
       "    <tr>\n",
       "      <th>10</th>\n",
       "      <td>source_city_Kolkata</td>\n",
       "      <td>1596.259485</td>\n",
       "    </tr>\n",
       "    <tr>\n",
       "      <th>11</th>\n",
       "      <td>destination_city_Delhi</td>\n",
       "      <td>-1563.202499</td>\n",
       "    </tr>\n",
       "    <tr>\n",
       "      <th>12</th>\n",
       "      <td>departure_time_Late_Night</td>\n",
       "      <td>1540.393245</td>\n",
       "    </tr>\n",
       "    <tr>\n",
       "      <th>13</th>\n",
       "      <td>source_city_Delhi</td>\n",
       "      <td>-1412.867107</td>\n",
       "    </tr>\n",
       "    <tr>\n",
       "      <th>14</th>\n",
       "      <td>destination_city_Kolkata</td>\n",
       "      <td>1358.147600</td>\n",
       "    </tr>\n",
       "    <tr>\n",
       "      <th>15</th>\n",
       "      <td>arrival_time_Night</td>\n",
       "      <td>1135.462611</td>\n",
       "    </tr>\n",
       "    <tr>\n",
       "      <th>16</th>\n",
       "      <td>arrival_time_Late_Night</td>\n",
       "      <td>967.050164</td>\n",
       "    </tr>\n",
       "    <tr>\n",
       "      <th>17</th>\n",
       "      <td>arrival_time_Evening</td>\n",
       "      <td>923.673455</td>\n",
       "    </tr>\n",
       "    <tr>\n",
       "      <th>18</th>\n",
       "      <td>departure_time_Morning</td>\n",
       "      <td>866.493760</td>\n",
       "    </tr>\n",
       "    <tr>\n",
       "      <th>19</th>\n",
       "      <td>departure_time_Early_Morning</td>\n",
       "      <td>810.124476</td>\n",
       "    </tr>\n",
       "    <tr>\n",
       "      <th>20</th>\n",
       "      <td>arrival_time_Early_Morning</td>\n",
       "      <td>-768.130590</td>\n",
       "    </tr>\n",
       "    <tr>\n",
       "      <th>21</th>\n",
       "      <td>departure_time_Evening</td>\n",
       "      <td>737.252343</td>\n",
       "    </tr>\n",
       "    <tr>\n",
       "      <th>22</th>\n",
       "      <td>departure_time_Night</td>\n",
       "      <td>662.966661</td>\n",
       "    </tr>\n",
       "    <tr>\n",
       "      <th>23</th>\n",
       "      <td>arrival_time_Morning</td>\n",
       "      <td>461.376093</td>\n",
       "    </tr>\n",
       "    <tr>\n",
       "      <th>24</th>\n",
       "      <td>const</td>\n",
       "      <td>308.826666</td>\n",
       "    </tr>\n",
       "    <tr>\n",
       "      <th>25</th>\n",
       "      <td>destination_city_Chennai</td>\n",
       "      <td>-239.480129</td>\n",
       "    </tr>\n",
       "    <tr>\n",
       "      <th>26</th>\n",
       "      <td>source_city_Mumbai</td>\n",
       "      <td>-208.110462</td>\n",
       "    </tr>\n",
       "    <tr>\n",
       "      <th>27</th>\n",
       "      <td>airline_Air_India</td>\n",
       "      <td>114.063758</td>\n",
       "    </tr>\n",
       "    <tr>\n",
       "      <th>28</th>\n",
       "      <td>source_city_Chennai</td>\n",
       "      <td>-75.309627</td>\n",
       "    </tr>\n",
       "    <tr>\n",
       "      <th>29</th>\n",
       "      <td>destination_city_Mumbai</td>\n",
       "      <td>-33.310443</td>\n",
       "    </tr>\n",
       "  </tbody>\n",
       "</table>\n",
       "</div>"
      ],
      "text/plain": [
       "                Selected Feature   Coefficient\n",
       "0                  class_Economy -44929.059741\n",
       "1                     stops_zero  -7613.315572\n",
       "2                airline_Vistara   4068.801384\n",
       "3               airline_SpiceJet   2303.840003\n",
       "4                 airline_Indigo   2124.210815\n",
       "5              stops_two_or_more   2105.203233\n",
       "6                       duration  -1769.908240\n",
       "7     destination_city_Hyderabad  -1712.043004\n",
       "8               airline_GO_FIRST   1691.971492\n",
       "9          source_city_Hyderabad  -1675.405911\n",
       "10           source_city_Kolkata   1596.259485\n",
       "11        destination_city_Delhi  -1563.202499\n",
       "12     departure_time_Late_Night   1540.393245\n",
       "13             source_city_Delhi  -1412.867107\n",
       "14      destination_city_Kolkata   1358.147600\n",
       "15            arrival_time_Night   1135.462611\n",
       "16       arrival_time_Late_Night    967.050164\n",
       "17          arrival_time_Evening    923.673455\n",
       "18        departure_time_Morning    866.493760\n",
       "19  departure_time_Early_Morning    810.124476\n",
       "20    arrival_time_Early_Morning   -768.130590\n",
       "21        departure_time_Evening    737.252343\n",
       "22          departure_time_Night    662.966661\n",
       "23          arrival_time_Morning    461.376093\n",
       "24                         const    308.826666\n",
       "25      destination_city_Chennai   -239.480129\n",
       "26            source_city_Mumbai   -208.110462\n",
       "27             airline_Air_India    114.063758\n",
       "28           source_city_Chennai    -75.309627\n",
       "29       destination_city_Mumbai    -33.310443"
      ]
     },
     "execution_count": 14,
     "metadata": {},
     "output_type": "execute_result"
    }
   ],
   "source": [
    "# 7. Best lambda\n",
    "best_alpha = lassocv_pipeline.named_steps['lasso_cv'].alpha_\n",
    "print(f\"Best lambda (alpha) from CV: {best_alpha}\")\n",
    "\n",
    "print(\"Metrics Train:\")\n",
    "y_pred = lassocv_pipeline.predict(X_train)\n",
    "evaluate_predictions(y_train, y_pred)\n",
    "\n",
    "print(\"\\nMetrics Test:\")\n",
    "y_pred = lassocv_pipeline.predict(X_test)\n",
    "evaluate_predictions(y_test, y_pred)\n",
    "\n",
    "# 6. Extract coefficients\n",
    "lasso = lassocv_pipeline.named_steps['lasso_cv']\n",
    "coef = pd.Series(lasso.coef_, index=X_encoded.columns)\n",
    "show_nonzero_coefficients(coef)"
   ]
  },
  {
   "cell_type": "code",
   "execution_count": 15,
   "id": "4c81f15b",
   "metadata": {},
   "outputs": [
    {
     "name": "stdout",
     "output_type": "stream",
     "text": [
      "Best alpha (min MSE): 0.001\n",
      "MSE_min: 45602697.61\n",
      "1_SE: 45602697.61\n",
      "MSE_min + 1-SE threshold: 46236502.63\n",
      "Alpha from 1-SE rule: 30.0\n"
     ]
    },
    {
     "data": {
      "application/vnd.plotly.v1+json": {
       "config": {
        "plotlyServerURL": "https://plot.ly"
       },
       "data": [
        {
         "error_y": {
          "array": {
           "bdata": "AeV12CLqJkFD7GdyrogjQU4SNEiF7CJBjUkX39zLIkHs9+KnruoiQQzVaQdxMiNBgBi4dhFJI0He7SzjUlMjQb7Cm/4vViNBZCag8C9XI0Fx+kYceVcjQaQ/k7iSVyNBgYsZCppXI0H9PcWZnFcjQbZoIFWdVyNB",
           "dtype": "f8"
          },
          "type": "data",
          "visible": true
         },
         "line": {
          "color": "royalblue"
         },
         "marker": {
          "size": 8
         },
         "mode": "lines+markers",
         "name": "Mean CV MSE",
         "type": "scatter",
         "x": {
          "bdata": "AAAAAABAj0AAAAAAAMByQAAAAAAAAFlAAAAAAAAAPkAAAAAAAAAkQAAAAAAAAAhAAAAAAAAA8D8zMzMzMzPTP5qZmZmZmbk/uB6F61G4nj97FK5H4XqEP/p+arx0k2g//Knx0k1iUD9hMlUwKqkzPy1DHOviNho/",
          "dtype": "f8"
         },
         "y": {
          "bdata": "Y2nUBG4yjUHAVkMx88aHQeARBFk3X4ZBtZmtn5DohUEhBdXYHMiFQU+kWoPSv4VBOeV0a96+hUG6Ix9VwL6FQda/Bb68voVBHok1Vry+hUF9b6pNvL6FQara5Ey8voVB5HbiTLy+hUHsTudMvL6FQX076Uy8voVB",
          "dtype": "f8"
         }
        },
        {
         "line": {
          "color": "red",
          "dash": "dash"
         },
         "mode": "lines",
         "name": "Best alpha = 0.0010",
         "type": "scatter",
         "x": [
          0.001,
          0.001
         ],
         "y": [
          43322562.73004941,
          64292055.03390247
         ]
        },
        {
         "line": {
          "color": "green",
          "dash": "dot"
         },
         "mode": "lines",
         "name": "1-SE alpha = 30.0000",
         "type": "scatter",
         "x": [
          30,
          30
         ],
         "y": [
          43322562.73004941,
          64292055.03390247
         ]
        }
       ],
       "layout": {
        "height": 500,
        "legend": {
         "x": 0.01,
         "y": 0.99
        },
        "template": {
         "data": {
          "bar": [
           {
            "error_x": {
             "color": "#2a3f5f"
            },
            "error_y": {
             "color": "#2a3f5f"
            },
            "marker": {
             "line": {
              "color": "white",
              "width": 0.5
             },
             "pattern": {
              "fillmode": "overlay",
              "size": 10,
              "solidity": 0.2
             }
            },
            "type": "bar"
           }
          ],
          "barpolar": [
           {
            "marker": {
             "line": {
              "color": "white",
              "width": 0.5
             },
             "pattern": {
              "fillmode": "overlay",
              "size": 10,
              "solidity": 0.2
             }
            },
            "type": "barpolar"
           }
          ],
          "carpet": [
           {
            "aaxis": {
             "endlinecolor": "#2a3f5f",
             "gridcolor": "#C8D4E3",
             "linecolor": "#C8D4E3",
             "minorgridcolor": "#C8D4E3",
             "startlinecolor": "#2a3f5f"
            },
            "baxis": {
             "endlinecolor": "#2a3f5f",
             "gridcolor": "#C8D4E3",
             "linecolor": "#C8D4E3",
             "minorgridcolor": "#C8D4E3",
             "startlinecolor": "#2a3f5f"
            },
            "type": "carpet"
           }
          ],
          "choropleth": [
           {
            "colorbar": {
             "outlinewidth": 0,
             "ticks": ""
            },
            "type": "choropleth"
           }
          ],
          "contour": [
           {
            "colorbar": {
             "outlinewidth": 0,
             "ticks": ""
            },
            "colorscale": [
             [
              0,
              "#0d0887"
             ],
             [
              0.1111111111111111,
              "#46039f"
             ],
             [
              0.2222222222222222,
              "#7201a8"
             ],
             [
              0.3333333333333333,
              "#9c179e"
             ],
             [
              0.4444444444444444,
              "#bd3786"
             ],
             [
              0.5555555555555556,
              "#d8576b"
             ],
             [
              0.6666666666666666,
              "#ed7953"
             ],
             [
              0.7777777777777778,
              "#fb9f3a"
             ],
             [
              0.8888888888888888,
              "#fdca26"
             ],
             [
              1,
              "#f0f921"
             ]
            ],
            "type": "contour"
           }
          ],
          "contourcarpet": [
           {
            "colorbar": {
             "outlinewidth": 0,
             "ticks": ""
            },
            "type": "contourcarpet"
           }
          ],
          "heatmap": [
           {
            "colorbar": {
             "outlinewidth": 0,
             "ticks": ""
            },
            "colorscale": [
             [
              0,
              "#0d0887"
             ],
             [
              0.1111111111111111,
              "#46039f"
             ],
             [
              0.2222222222222222,
              "#7201a8"
             ],
             [
              0.3333333333333333,
              "#9c179e"
             ],
             [
              0.4444444444444444,
              "#bd3786"
             ],
             [
              0.5555555555555556,
              "#d8576b"
             ],
             [
              0.6666666666666666,
              "#ed7953"
             ],
             [
              0.7777777777777778,
              "#fb9f3a"
             ],
             [
              0.8888888888888888,
              "#fdca26"
             ],
             [
              1,
              "#f0f921"
             ]
            ],
            "type": "heatmap"
           }
          ],
          "histogram": [
           {
            "marker": {
             "pattern": {
              "fillmode": "overlay",
              "size": 10,
              "solidity": 0.2
             }
            },
            "type": "histogram"
           }
          ],
          "histogram2d": [
           {
            "colorbar": {
             "outlinewidth": 0,
             "ticks": ""
            },
            "colorscale": [
             [
              0,
              "#0d0887"
             ],
             [
              0.1111111111111111,
              "#46039f"
             ],
             [
              0.2222222222222222,
              "#7201a8"
             ],
             [
              0.3333333333333333,
              "#9c179e"
             ],
             [
              0.4444444444444444,
              "#bd3786"
             ],
             [
              0.5555555555555556,
              "#d8576b"
             ],
             [
              0.6666666666666666,
              "#ed7953"
             ],
             [
              0.7777777777777778,
              "#fb9f3a"
             ],
             [
              0.8888888888888888,
              "#fdca26"
             ],
             [
              1,
              "#f0f921"
             ]
            ],
            "type": "histogram2d"
           }
          ],
          "histogram2dcontour": [
           {
            "colorbar": {
             "outlinewidth": 0,
             "ticks": ""
            },
            "colorscale": [
             [
              0,
              "#0d0887"
             ],
             [
              0.1111111111111111,
              "#46039f"
             ],
             [
              0.2222222222222222,
              "#7201a8"
             ],
             [
              0.3333333333333333,
              "#9c179e"
             ],
             [
              0.4444444444444444,
              "#bd3786"
             ],
             [
              0.5555555555555556,
              "#d8576b"
             ],
             [
              0.6666666666666666,
              "#ed7953"
             ],
             [
              0.7777777777777778,
              "#fb9f3a"
             ],
             [
              0.8888888888888888,
              "#fdca26"
             ],
             [
              1,
              "#f0f921"
             ]
            ],
            "type": "histogram2dcontour"
           }
          ],
          "mesh3d": [
           {
            "colorbar": {
             "outlinewidth": 0,
             "ticks": ""
            },
            "type": "mesh3d"
           }
          ],
          "parcoords": [
           {
            "line": {
             "colorbar": {
              "outlinewidth": 0,
              "ticks": ""
             }
            },
            "type": "parcoords"
           }
          ],
          "pie": [
           {
            "automargin": true,
            "type": "pie"
           }
          ],
          "scatter": [
           {
            "fillpattern": {
             "fillmode": "overlay",
             "size": 10,
             "solidity": 0.2
            },
            "type": "scatter"
           }
          ],
          "scatter3d": [
           {
            "line": {
             "colorbar": {
              "outlinewidth": 0,
              "ticks": ""
             }
            },
            "marker": {
             "colorbar": {
              "outlinewidth": 0,
              "ticks": ""
             }
            },
            "type": "scatter3d"
           }
          ],
          "scattercarpet": [
           {
            "marker": {
             "colorbar": {
              "outlinewidth": 0,
              "ticks": ""
             }
            },
            "type": "scattercarpet"
           }
          ],
          "scattergeo": [
           {
            "marker": {
             "colorbar": {
              "outlinewidth": 0,
              "ticks": ""
             }
            },
            "type": "scattergeo"
           }
          ],
          "scattergl": [
           {
            "marker": {
             "colorbar": {
              "outlinewidth": 0,
              "ticks": ""
             }
            },
            "type": "scattergl"
           }
          ],
          "scattermap": [
           {
            "marker": {
             "colorbar": {
              "outlinewidth": 0,
              "ticks": ""
             }
            },
            "type": "scattermap"
           }
          ],
          "scattermapbox": [
           {
            "marker": {
             "colorbar": {
              "outlinewidth": 0,
              "ticks": ""
             }
            },
            "type": "scattermapbox"
           }
          ],
          "scatterpolar": [
           {
            "marker": {
             "colorbar": {
              "outlinewidth": 0,
              "ticks": ""
             }
            },
            "type": "scatterpolar"
           }
          ],
          "scatterpolargl": [
           {
            "marker": {
             "colorbar": {
              "outlinewidth": 0,
              "ticks": ""
             }
            },
            "type": "scatterpolargl"
           }
          ],
          "scatterternary": [
           {
            "marker": {
             "colorbar": {
              "outlinewidth": 0,
              "ticks": ""
             }
            },
            "type": "scatterternary"
           }
          ],
          "surface": [
           {
            "colorbar": {
             "outlinewidth": 0,
             "ticks": ""
            },
            "colorscale": [
             [
              0,
              "#0d0887"
             ],
             [
              0.1111111111111111,
              "#46039f"
             ],
             [
              0.2222222222222222,
              "#7201a8"
             ],
             [
              0.3333333333333333,
              "#9c179e"
             ],
             [
              0.4444444444444444,
              "#bd3786"
             ],
             [
              0.5555555555555556,
              "#d8576b"
             ],
             [
              0.6666666666666666,
              "#ed7953"
             ],
             [
              0.7777777777777778,
              "#fb9f3a"
             ],
             [
              0.8888888888888888,
              "#fdca26"
             ],
             [
              1,
              "#f0f921"
             ]
            ],
            "type": "surface"
           }
          ],
          "table": [
           {
            "cells": {
             "fill": {
              "color": "#EBF0F8"
             },
             "line": {
              "color": "white"
             }
            },
            "header": {
             "fill": {
              "color": "#C8D4E3"
             },
             "line": {
              "color": "white"
             }
            },
            "type": "table"
           }
          ]
         },
         "layout": {
          "annotationdefaults": {
           "arrowcolor": "#2a3f5f",
           "arrowhead": 0,
           "arrowwidth": 1
          },
          "autotypenumbers": "strict",
          "coloraxis": {
           "colorbar": {
            "outlinewidth": 0,
            "ticks": ""
           }
          },
          "colorscale": {
           "diverging": [
            [
             0,
             "#8e0152"
            ],
            [
             0.1,
             "#c51b7d"
            ],
            [
             0.2,
             "#de77ae"
            ],
            [
             0.3,
             "#f1b6da"
            ],
            [
             0.4,
             "#fde0ef"
            ],
            [
             0.5,
             "#f7f7f7"
            ],
            [
             0.6,
             "#e6f5d0"
            ],
            [
             0.7,
             "#b8e186"
            ],
            [
             0.8,
             "#7fbc41"
            ],
            [
             0.9,
             "#4d9221"
            ],
            [
             1,
             "#276419"
            ]
           ],
           "sequential": [
            [
             0,
             "#0d0887"
            ],
            [
             0.1111111111111111,
             "#46039f"
            ],
            [
             0.2222222222222222,
             "#7201a8"
            ],
            [
             0.3333333333333333,
             "#9c179e"
            ],
            [
             0.4444444444444444,
             "#bd3786"
            ],
            [
             0.5555555555555556,
             "#d8576b"
            ],
            [
             0.6666666666666666,
             "#ed7953"
            ],
            [
             0.7777777777777778,
             "#fb9f3a"
            ],
            [
             0.8888888888888888,
             "#fdca26"
            ],
            [
             1,
             "#f0f921"
            ]
           ],
           "sequentialminus": [
            [
             0,
             "#0d0887"
            ],
            [
             0.1111111111111111,
             "#46039f"
            ],
            [
             0.2222222222222222,
             "#7201a8"
            ],
            [
             0.3333333333333333,
             "#9c179e"
            ],
            [
             0.4444444444444444,
             "#bd3786"
            ],
            [
             0.5555555555555556,
             "#d8576b"
            ],
            [
             0.6666666666666666,
             "#ed7953"
            ],
            [
             0.7777777777777778,
             "#fb9f3a"
            ],
            [
             0.8888888888888888,
             "#fdca26"
            ],
            [
             1,
             "#f0f921"
            ]
           ]
          },
          "colorway": [
           "#636efa",
           "#EF553B",
           "#00cc96",
           "#ab63fa",
           "#FFA15A",
           "#19d3f3",
           "#FF6692",
           "#B6E880",
           "#FF97FF",
           "#FECB52"
          ],
          "font": {
           "color": "#2a3f5f"
          },
          "geo": {
           "bgcolor": "white",
           "lakecolor": "white",
           "landcolor": "white",
           "showlakes": true,
           "showland": true,
           "subunitcolor": "#C8D4E3"
          },
          "hoverlabel": {
           "align": "left"
          },
          "hovermode": "closest",
          "mapbox": {
           "style": "light"
          },
          "paper_bgcolor": "white",
          "plot_bgcolor": "white",
          "polar": {
           "angularaxis": {
            "gridcolor": "#EBF0F8",
            "linecolor": "#EBF0F8",
            "ticks": ""
           },
           "bgcolor": "white",
           "radialaxis": {
            "gridcolor": "#EBF0F8",
            "linecolor": "#EBF0F8",
            "ticks": ""
           }
          },
          "scene": {
           "xaxis": {
            "backgroundcolor": "white",
            "gridcolor": "#DFE8F3",
            "gridwidth": 2,
            "linecolor": "#EBF0F8",
            "showbackground": true,
            "ticks": "",
            "zerolinecolor": "#EBF0F8"
           },
           "yaxis": {
            "backgroundcolor": "white",
            "gridcolor": "#DFE8F3",
            "gridwidth": 2,
            "linecolor": "#EBF0F8",
            "showbackground": true,
            "ticks": "",
            "zerolinecolor": "#EBF0F8"
           },
           "zaxis": {
            "backgroundcolor": "white",
            "gridcolor": "#DFE8F3",
            "gridwidth": 2,
            "linecolor": "#EBF0F8",
            "showbackground": true,
            "ticks": "",
            "zerolinecolor": "#EBF0F8"
           }
          },
          "shapedefaults": {
           "line": {
            "color": "#2a3f5f"
           }
          },
          "ternary": {
           "aaxis": {
            "gridcolor": "#DFE8F3",
            "linecolor": "#A2B1C6",
            "ticks": ""
           },
           "baxis": {
            "gridcolor": "#DFE8F3",
            "linecolor": "#A2B1C6",
            "ticks": ""
           },
           "bgcolor": "white",
           "caxis": {
            "gridcolor": "#DFE8F3",
            "linecolor": "#A2B1C6",
            "ticks": ""
           }
          },
          "title": {
           "x": 0.05
          },
          "xaxis": {
           "automargin": true,
           "gridcolor": "#EBF0F8",
           "linecolor": "#EBF0F8",
           "ticks": "",
           "title": {
            "standoff": 15
           },
           "zerolinecolor": "#EBF0F8",
           "zerolinewidth": 2
          },
          "yaxis": {
           "automargin": true,
           "gridcolor": "#EBF0F8",
           "linecolor": "#EBF0F8",
           "ticks": "",
           "title": {
            "standoff": 15
           },
           "zerolinecolor": "#EBF0F8",
           "zerolinewidth": 2
          }
         }
        },
        "title": {
         "text": "LassoCV: Mean Cross-Validation Error vs Alpha"
        },
        "width": 800,
        "xaxis": {
         "title": {
          "text": "Alpha (log scale)"
         },
         "type": "log"
        },
        "yaxis": {
         "title": {
          "text": "Mean CV MSE"
         }
        }
       }
      }
     },
     "metadata": {},
     "output_type": "display_data"
    }
   ],
   "source": [
    "import plotly.graph_objects as go\n",
    "\n",
    "# Extract model and aligned data\n",
    "lasso_cv = lassocv_pipeline.named_steps['lasso_cv']\n",
    "alphas_used = lasso_cv.alphas_  # Correct order (descending)\n",
    "mean_mse = lasso_cv.mse_path_.mean(axis=1)\n",
    "std_mse = lasso_cv.mse_path_.std(axis=1)\n",
    "best_alpha = lasso_cv.alpha_\n",
    "\n",
    "# Step 2: Find minimum mean MSE and threshold\n",
    "min_index = np.argmin(mean_mse)\n",
    "mse_min = mean_mse[min_index]\n",
    "mse_threshold = mse_min + std_mse[min_index]\n",
    "\n",
    "# Find largest alpha within 1-SE threshold (first from the top that satisfies condition)\n",
    "alpha_1se = alphas_used[mean_mse <= mse_threshold][0]\n",
    "\n",
    "print(f\"Best alpha (min MSE): {best_alpha}\")\n",
    "print(f\"MSE_min: {mse_min:.2f}\")\n",
    "print(f\"1_SE: {mse_min:.2f}\")\n",
    "print(f\"MSE_min + 1-SE threshold: {mse_threshold:.2f}\")\n",
    "print(f\"Alpha from 1-SE rule: {alpha_1se}\")\n",
    "\n",
    "# Plot\n",
    "fig = go.Figure()\n",
    "\n",
    "# Mean MSE with error bars\n",
    "fig.add_trace(go.Scatter(\n",
    "    x=alphas_used,\n",
    "    y=mean_mse,\n",
    "    error_y=dict(\n",
    "        type='data',\n",
    "        array=std_mse,\n",
    "        visible=True\n",
    "    ),\n",
    "    mode='lines+markers',\n",
    "    name='Mean CV MSE',\n",
    "    line=dict(color='royalblue'),\n",
    "    marker=dict(size=8)\n",
    "))\n",
    "\n",
    "# Vertical line for best alpha\n",
    "fig.add_trace(go.Scatter(\n",
    "    x=[best_alpha, best_alpha],\n",
    "    y=[min(mean_mse) * 0.95, max(mean_mse) * 1.05],\n",
    "    mode='lines',\n",
    "    name=f'Best alpha = {best_alpha:.4f}',\n",
    "    line=dict(color='red', dash='dash')\n",
    "))\n",
    "\n",
    "# Layout\n",
    "fig.update_layout(\n",
    "    title='LassoCV: Mean Cross-Validation Error vs Alpha',\n",
    "    xaxis=dict(title='Alpha (log scale)', type='log'),\n",
    "    yaxis=dict(title='Mean CV MSE'),\n",
    "    legend=dict(x=0.01, y=0.99),\n",
    "    template='plotly_white',\n",
    "    width=800,\n",
    "    height=500\n",
    ")\n",
    "\n",
    "# Add vertical line for 1-SE rule alpha\n",
    "fig.add_trace(go.Scatter(\n",
    "    x=[alpha_1se, alpha_1se],\n",
    "    y=[min(mean_mse) * 0.95, max(mean_mse) * 1.05],\n",
    "    mode='lines',\n",
    "    name=f'1-SE alpha = {alpha_1se:.4f}',\n",
    "    line=dict(color='green', dash='dot')\n",
    "))\n",
    "\n",
    "fig.show()"
   ]
  },
  {
   "cell_type": "code",
   "execution_count": 17,
   "id": "d9a83883",
   "metadata": {},
   "outputs": [
    {
     "data": {
      "application/vnd.plotly.v1+json": {
       "config": {
        "plotlyServerURL": "https://plot.ly"
       },
       "data": [
        {
         "mode": "lines",
         "name": "const",
         "type": "scatter",
         "x": {
          "bdata": "U2Z8oiRm1EDNDIVrNeTSQAHTEs/LftFA3s4GMMwz0EC+sbqkhQLOQCQaYtHBystA/1gAs/O8yUAR5ipwAdbHQCbUhtoLE8ZAvOvSGGpxxEC4bfmipe7CQFaNGYp2iMFA517rBsA8wECzZ5aSGhO+QLhvNwgd2rtAeH0SYizLuUBZHBoQLeO3QAgju00+H7ZAa4CBybV8tEDHBPKeG/myQPnahZwmkrFA4FYn0LhFsEDMYPSpuCOuQLiuN7uA6atAfa/H7GzZqUCipAH3X/CnQFa0OX53K6ZARRb5tweIpEDpqJ5ilwOjQNZHSwncm6FAPmx2jrZOoEAVnOTvXzSeQNoOE+/s+JtAgnN3V7XnmUBD3uYomv2XQGrUu2+3N5ZA7IWs51+TlEDw8zDxGA6TQE8BX9OWpZFAG9eVRLlXkECv5HlpEEWOQOxefKhhCIxAJ7R7pgX2iUBFYdGp2wqIQFve/CX+Q4ZAvo8QXL6ehEBuQ9xNoBiDQBrXt/1Wr4FADlNE9cBggEBS08kbylV+QGwGKezeF3xAecMw3l0EekDH/8p9JBh4QBY9uqRLUHZAC92bGCOqdECludV7LSNzQD88ToscuXFA+R9Co81pcEDZz+wLjWZuQOMG0b5kJ2xAVFz1Ar4SakAix9+odCVoQIhss++fXGZADAHHII61ZECSPlR+wC1jQPdHHH/nwmFAzwJRUd9yYEAUE/4+WXdeQDv9LiXzNlxAzaMqGSYhWkASAR4vzDJYQNb6qQr7aFZA5HkMeP/AVEDpgJBYWThTQIO2Hdy3zFFAj0Y0AvZ7UEDppxu6LohOQGojACSKRkxAbyo0JZYvSkAgNZYUK0BIQHCJYflcdUZA1bHoIXfMREAN98QN+EJDQDXqT6WN1kFA9bywuBGFQEAkbWaCDZk+QKFRBMApVjxAhO13Kw4+OkCrKVtdkU04QCbOn7/FgTZAIwDaIfXXNED53y2hnE0zQDXssd1o4DFAc7+MdzKOMEAMFwKd9akuQPj//f3RZSxAlFheMI5MKkBc5YEN/1ooQH2ULGE1jiZAUapge3njJEA=",
          "dtype": "f8"
         },
         "y": {
          "bdata": "AAAAAAAAAAAAAAAAAAAAAAAAAAAAAAAAAAAAAAAAAAAAAAAAAAAAAAAAAAAAAAAAAAAAAAAAAAAAAAAAAAAAAAAAAAAAAAAAAAAAAAAAAAAAAAAAAAAAAAAAAAAAAAAAAAAAAAAAAAAAAAAAAAAAAAAAAAAAAAAAAAAAAAAAAAAAAAAAAAAAAAAAAAAAAAAAAAAAAAAAAAAAAAAAAAAAAAAAAAAAAAAAAAAAAAAAAAAAAAAAAAAAAAAAAAAAAAAAAAAAAAAAAADI5aM+JrQQQOiaEYqd0V1ACly41uk4bEB9cNedMkh0QDjSPlqS/XlA0D8lFe5Gf0Am8l2A+haCQO81NVDlQ4RAcvKhB9E2hkD4ULE23gSIQCwQw7jFsIlA2ef7l8s9i0DtPV8Kv6yMQGfLbhyRAI5AVT8k+UU7j0AGIghoXC+QQMCcJRSltpBAMKHqu5szkUAOOKR+VKeRQMZ9X9l/EpJAtNFlaRB2kkCPfXpF/9WRQKSFSpPJtZBAT/MOCElVj0Aq7jqseGaNQOvST8g5nItAJKX7Fcr0iUBFBNTFumuIQA73f0ax/4ZAtvca6o6uhUC0kg24PXeEQH1cQSixLYNAB1Iy9mPqgUDt/QTVx76AQEcqMI2ZUn9AT8jX4TVSfUAbxrAQQnZ7QC0kyiE31XlAT4Djeq1beEC/ZY2zHRF3QMGfHv8b5XVAteLJtR3JdEAyGj8EoLdzQIpOyUa0u3JAGEQIB3IyckAkI34ynI9yQPSAvOkO8nJAjoqQoi9bc0Cg2DOjpqdzQCiTPS2R5nNAw4K4vzshdEAdw9QpKVd0QJ7klZSAiXRA0qD8TYy5dEBo+AJIAvN0QIJx8lbjMnVA9FGX4g5udUAYttZTAqV1QLjueK091HVAnzjl2cPudUBZy6ET5xF2QISSVrgdEHZADXF9ALEBdkCPEnw3LO91QOf4OJQW1XVAaUZOHSvAdUBeF/7yB6d1QFWkPVHce3VAg3YazUtUdUAbmPY+dC91QETEOmJLDXVA8YheEu3tdECXoDN7ddB0QKMzqmqhsnRAuklmd3CgdEA=",
          "dtype": "f8"
         }
        },
        {
         "mode": "lines",
         "name": "duration",
         "type": "scatter",
         "x": {
          "bdata": "U2Z8oiRm1EDNDIVrNeTSQAHTEs/LftFA3s4GMMwz0EC+sbqkhQLOQCQaYtHBystA/1gAs/O8yUAR5ipwAdbHQCbUhtoLE8ZAvOvSGGpxxEC4bfmipe7CQFaNGYp2iMFA517rBsA8wECzZ5aSGhO+QLhvNwgd2rtAeH0SYizLuUBZHBoQLeO3QAgju00+H7ZAa4CBybV8tEDHBPKeG/myQPnahZwmkrFA4FYn0LhFsEDMYPSpuCOuQLiuN7uA6atAfa/H7GzZqUCipAH3X/CnQFa0OX53K6ZARRb5tweIpEDpqJ5ilwOjQNZHSwncm6FAPmx2jrZOoEAVnOTvXzSeQNoOE+/s+JtAgnN3V7XnmUBD3uYomv2XQGrUu2+3N5ZA7IWs51+TlEDw8zDxGA6TQE8BX9OWpZFAG9eVRLlXkECv5HlpEEWOQOxefKhhCIxAJ7R7pgX2iUBFYdGp2wqIQFve/CX+Q4ZAvo8QXL6ehEBuQ9xNoBiDQBrXt/1Wr4FADlNE9cBggEBS08kbylV+QGwGKezeF3xAecMw3l0EekDH/8p9JBh4QBY9uqRLUHZAC92bGCOqdECludV7LSNzQD88ToscuXFA+R9Co81pcEDZz+wLjWZuQOMG0b5kJ2xAVFz1Ar4SakAix9+odCVoQIhss++fXGZADAHHII61ZECSPlR+wC1jQPdHHH/nwmFAzwJRUd9yYEAUE/4+WXdeQDv9LiXzNlxAzaMqGSYhWkASAR4vzDJYQNb6qQr7aFZA5HkMeP/AVEDpgJBYWThTQIO2Hdy3zFFAj0Y0AvZ7UEDppxu6LohOQGojACSKRkxAbyo0JZYvSkAgNZYUK0BIQHCJYflcdUZA1bHoIXfMREAN98QN+EJDQDXqT6WN1kFA9bywuBGFQEAkbWaCDZk+QKFRBMApVjxAhO13Kw4+OkCrKVtdkU04QCbOn7/FgTZAIwDaIfXXNED53y2hnE0zQDXssd1o4DFAc7+MdzKOMEAMFwKd9akuQPj//f3RZSxAlFheMI5MKkBc5YEN/1ooQH2ULGE1jiZAUapge3njJEA=",
          "dtype": "f8"
         },
         "y": {
          "bdata": "AAAAAAAAAIAAAAAAAAAAgAAAAAAAAACAAAAAAAAAAIAAAAAAAAAAgAAAAAAAAACAAAAAAAAAAIAAAAAAAAAAgAAAAAAAAACAAAAAAAAAAIAAAAAAAAAAgAAAAAAAAACAAAAAAAAAAIAAAAAAAAAAgAAAAAAAAACAAAAAAAAAAIAAAAAAAAAAgAAAAAAAAACAAAAAAAAAAIAAAAAAAAAAgAAAAAAAAACAAAAAAAAAAIAAAAAAAAAAgAAAAAAAAACAAAAAAAAAAIAAAAAAAAAAgAAAAAAAAACAAAAAAAAAAIAAAAAAAAAAgAAAAAAAAACAAAAAAAAAAIAAAAAAAAAAgFPaiJu6wlLAnCLTTh3SaMCWa/4uX49zwCXFr3hrLnrAbTV/LysogMD1o40zDP+CwFmBaOk0oIXAM60k7p0PiMBpfgd59FCKwHS1gAawZ4zAEgSGTtdWjsBenH0psxCQwMFe1d0I5ZDAovZL8LSpkcB56d7Yf2mSwGCawByEIJPAEVa5Uf/Jk8D+U8AB9GaUwPP0lTNP+JTAoOkOavF+lcAd/uaKm/uVwEUp8fcOb5bAlit1JPrZlsARtWVTAz2XwEyfN/zZmJfAB/X/HNbtl8Aouq1HiTyYwBWH121rhZjAdejbCO/ImMBaU9lRcQeZwC+1UizfQJnAcctUndh1mcAwoV/0Z6WZwMURojlC0ZnAew6t8tj5mcD4D3oyMB+awMM8d2lPQZrAvGnFv3tgmsAMlLVlfH2awHh8aog/mJrAlPe0XOawmsCnmFVNXcaawJNj5iC+2ZrAgjsx37PrmsCFcwt6UvyawLZ6Ufi5C5vAUv5BAsIZm8B/8JxeDiabwCrA4ENyMZvA6Qf+NwA8m8B5T8qExkWbwILMuJSSTpvAx0zLK25Wm8BTaWre512bwMYxip0/ZJvA8nFpYMNnm8Bu6jxVc2ubwHOLPY3GbpvAp8p2cidym8ABXbln0XWbwEzSMGI/eZvAuBUgeW98m8AwO3BCYn+bwC6/3A8dgpvA/DJgkqWEm8DosgY8/oabwNKI380uiZvAYerxUpGLm8A=",
          "dtype": "f8"
         }
        },
        {
         "mode": "lines",
         "name": "days_left",
         "type": "scatter",
         "x": {
          "bdata": "U2Z8oiRm1EDNDIVrNeTSQAHTEs/LftFA3s4GMMwz0EC+sbqkhQLOQCQaYtHBystA/1gAs/O8yUAR5ipwAdbHQCbUhtoLE8ZAvOvSGGpxxEC4bfmipe7CQFaNGYp2iMFA517rBsA8wECzZ5aSGhO+QLhvNwgd2rtAeH0SYizLuUBZHBoQLeO3QAgju00+H7ZAa4CBybV8tEDHBPKeG/myQPnahZwmkrFA4FYn0LhFsEDMYPSpuCOuQLiuN7uA6atAfa/H7GzZqUCipAH3X/CnQFa0OX53K6ZARRb5tweIpEDpqJ5ilwOjQNZHSwncm6FAPmx2jrZOoEAVnOTvXzSeQNoOE+/s+JtAgnN3V7XnmUBD3uYomv2XQGrUu2+3N5ZA7IWs51+TlEDw8zDxGA6TQE8BX9OWpZFAG9eVRLlXkECv5HlpEEWOQOxefKhhCIxAJ7R7pgX2iUBFYdGp2wqIQFve/CX+Q4ZAvo8QXL6ehEBuQ9xNoBiDQBrXt/1Wr4FADlNE9cBggEBS08kbylV+QGwGKezeF3xAecMw3l0EekDH/8p9JBh4QBY9uqRLUHZAC92bGCOqdECludV7LSNzQD88ToscuXFA+R9Co81pcEDZz+wLjWZuQOMG0b5kJ2xAVFz1Ar4SakAix9+odCVoQIhss++fXGZADAHHII61ZECSPlR+wC1jQPdHHH/nwmFAzwJRUd9yYEAUE/4+WXdeQDv9LiXzNlxAzaMqGSYhWkASAR4vzDJYQNb6qQr7aFZA5HkMeP/AVEDpgJBYWThTQIO2Hdy3zFFAj0Y0AvZ7UEDppxu6LohOQGojACSKRkxAbyo0JZYvSkAgNZYUK0BIQHCJYflcdUZA1bHoIXfMREAN98QN+EJDQDXqT6WN1kFA9bywuBGFQEAkbWaCDZk+QKFRBMApVjxAhO13Kw4+OkCrKVtdkU04QCbOn7/FgTZAIwDaIfXXNED53y2hnE0zQDXssd1o4DFAc7+MdzKOMEAMFwKd9akuQPj//f3RZSxAlFheMI5MKkBc5YEN/1ooQH2ULGE1jiZAUapge3njJEA=",
          "dtype": "f8"
         },
         "y": {
          "bdata": "AAAAAAAAAABcmHVv8x6YQI6aTJvGOqdA013WyWHJsEDNNXxAh5O1QAJlLecOA7pATOfwI6sevkCU5s3UR/bAQH/4cWo9ucJA6eAlLN9axEDtXv+ho93FQE8/37rSQ8dAvm0NPomPyEDLmK37u8LJQMgU3cA638pA1HGI9RkJy0D3DMg3IAnLQHmtQTT1mstAcVZk2+lh0EAcATkrfsfSQKFPRVwWANVAhYIAkUMO10CKeQzyePXYQGyIfu0mudpAuMyqg+ta3EBz1S90P97dQIowjYRYQt9ANVbgEVtG4EA99vslAN/gQLXzpaKxbOFAZTu5K+vv4UBIJxcnGmniQE/m6GCO2eJA0A3ZAZ9B40BFLLeE/qHjQHBRWrc+++NAxp7fophN5EDzeMkHKZrkQB0TqxUS4eRAOqGIlb0i5UA3zOunjl/lQKue1DKcl+VApJlzyMjL5UDjZ7+jG/zlQPcBZUbcKOZAqXpBJgxS5kA3PJBjBX/mQID1UNo1rOZAT9GJsC3W5kC/aPktDP3mQOGw7U4LIedAxzCAdCRC50BOK7ylBmHnQI3NbDWifedABd2IlCCY50AyVMpvb7DnQJL3tWRrwudA1TRRmrrQ50CKfMApCd7nQIpXs99c6udAflz8sJD150B+UqTHIgDoQPnBcJ6FCOhAtRrwRdkP6EDHrDVQLBToQCcOec0cGOhArvszVSUc6EAvFGBFlSPoQM1booB2L+hAj+02jThA6ECIQvhJslLoQGcNzv3FY+hAC9rCQzdz6ECheGNaxoHoQNGit2Ujj+hAj7Wvd6qb6EBgxAzOH6foQDGEJ7XgsehAE3Ghrim86ECx7pmLksboQEHqr4ajz+hAqS5fWR/Y6EA4Qpz+7N/oQA1spZwH5uhAYLujEi/q6ECGQ5USNu/oQGqzI0Od8uhArjhHRhfs6EBG3q4lVeboQGmxxGiV3+hAlezNY2jY6ECuxQbAt83oQMKXgAYswuhAdzb6WLS36EDbv7ql5q3oQAmDVAzNpOhAlyHHS4Wc6ECrDbJOwJToQJCSC6w3juhAJxfJfN+N6EA=",
          "dtype": "f8"
         }
        },
        {
         "mode": "lines",
         "name": "airline_Air_India",
         "type": "scatter",
         "x": {
          "bdata": "U2Z8oiRm1EDNDIVrNeTSQAHTEs/LftFA3s4GMMwz0EC+sbqkhQLOQCQaYtHBystA/1gAs/O8yUAR5ipwAdbHQCbUhtoLE8ZAvOvSGGpxxEC4bfmipe7CQFaNGYp2iMFA517rBsA8wECzZ5aSGhO+QLhvNwgd2rtAeH0SYizLuUBZHBoQLeO3QAgju00+H7ZAa4CBybV8tEDHBPKeG/myQPnahZwmkrFA4FYn0LhFsEDMYPSpuCOuQLiuN7uA6atAfa/H7GzZqUCipAH3X/CnQFa0OX53K6ZARRb5tweIpEDpqJ5ilwOjQNZHSwncm6FAPmx2jrZOoEAVnOTvXzSeQNoOE+/s+JtAgnN3V7XnmUBD3uYomv2XQGrUu2+3N5ZA7IWs51+TlEDw8zDxGA6TQE8BX9OWpZFAG9eVRLlXkECv5HlpEEWOQOxefKhhCIxAJ7R7pgX2iUBFYdGp2wqIQFve/CX+Q4ZAvo8QXL6ehEBuQ9xNoBiDQBrXt/1Wr4FADlNE9cBggEBS08kbylV+QGwGKezeF3xAecMw3l0EekDH/8p9JBh4QBY9uqRLUHZAC92bGCOqdECludV7LSNzQD88ToscuXFA+R9Co81pcEDZz+wLjWZuQOMG0b5kJ2xAVFz1Ar4SakAix9+odCVoQIhss++fXGZADAHHII61ZECSPlR+wC1jQPdHHH/nwmFAzwJRUd9yYEAUE/4+WXdeQDv9LiXzNlxAzaMqGSYhWkASAR4vzDJYQNb6qQr7aFZA5HkMeP/AVEDpgJBYWThTQIO2Hdy3zFFAj0Y0AvZ7UEDppxu6LohOQGojACSKRkxAbyo0JZYvSkAgNZYUK0BIQHCJYflcdUZA1bHoIXfMREAN98QN+EJDQDXqT6WN1kFA9bywuBGFQEAkbWaCDZk+QKFRBMApVjxAhO13Kw4+OkCrKVtdkU04QCbOn7/FgTZAIwDaIfXXNED53y2hnE0zQDXssd1o4DFAc7+MdzKOMEAMFwKd9akuQPj//f3RZSxAlFheMI5MKkBc5YEN/1ooQH2ULGE1jiZAUapge3njJEA=",
          "dtype": "f8"
         },
         "y": {
          "bdata": "AAAAAAAAAAAAAAAAAAAAAAAAAAAAAAAAAAAAAAAAAAAAAAAAAAAAAAAAAAAAAAAAAAAAAAAAAAAAAAAAAAAAAAAAAAAAAAAAAAAAAAAAAAAAAAAAAAAAAAAAAAAAAAAAAAAAAAAAAAAAAAAAAAAAAAAAAAAAAAAAAAAAAAAAAAAAAAAAAAAAAAAAAAAAAAAAAAAAAAAAAAAAAAAAAAAAAAAAAAAAAAAAAAAAAAAAAAAAAAAAAAAAAAAAAAAAAAAAAAAAAAAAAAAAAAAAAAAAAAAAAAAAAAAAAAAAAAAAAAAAAAAAAAAAAAAAAAAAAAAAAAAAAAAAAAAAAAAAAAAAAAAAAAAAAAAAAAAAAAAAAAAAAAAAAAAAAAAAAAAAAAAAAAAAAAAAAAAAAAAAAAAAAAAAAAAAAAAAAAAAAAAAAAAAAAAAAAAAAAAAAAAAAAAAAAAAAAAAAAAAAAAAAAAAAAAAAAAAAAAAAAAAAAAAAAAAAAAAAAAAAAAAAAAAAAAAAAAAAAAAAAAAAAAAAAAAAAAAAAAAAAAAAAAAAAAAAAAAAAAAAAAAAAAAAAAAAACAAAAAAAAAAIAAAAAAAAAAgAAAAAAAAACAAAAAAAAAAIAAAAAAAAAAgAAAAAAAAACAAAAAAAAAAIAAAAAAAAAAgAAAAAAAAACAAAAAAAAAAIAAAAAAAAAAgAAAAAAAAACAAAAAAAAAAIAAAAAAAAAAgAAAAAAAAACAikS+ddldQ8CnjGtMndxdwH1KhkdvT2jARiwRAtGKcMCVUQWfJ6N0wNVY0hcWZHjAEVfMx1Dne8CzDHruLB9/wDbZGtx8EYHA8w1pVwl+gsCjY2zpY++DwBoT2xf0RoXAl9vBu2WHhsBCJedDFrCHwGdaYX2Tx4jAGlYqN++ricAezAei97WKwNCups1qz4rA5rCnHRK1iMChrQfEVQCHwCf5digIW4XA+nzkVizTg8CLT1zMIyaCwIKT7EWDn4DA2/IHiRt3fsDVxDx3ud57wGzbW/9vdnnA0XbHWoFCd8AnckfCujJ1wBEfqQCzH3PALjEIo0dJcsA=",
          "dtype": "f8"
         }
        },
        {
         "mode": "lines",
         "name": "airline_GO_FIRST",
         "type": "scatter",
         "x": {
          "bdata": "U2Z8oiRm1EDNDIVrNeTSQAHTEs/LftFA3s4GMMwz0EC+sbqkhQLOQCQaYtHBystA/1gAs/O8yUAR5ipwAdbHQCbUhtoLE8ZAvOvSGGpxxEC4bfmipe7CQFaNGYp2iMFA517rBsA8wECzZ5aSGhO+QLhvNwgd2rtAeH0SYizLuUBZHBoQLeO3QAgju00+H7ZAa4CBybV8tEDHBPKeG/myQPnahZwmkrFA4FYn0LhFsEDMYPSpuCOuQLiuN7uA6atAfa/H7GzZqUCipAH3X/CnQFa0OX53K6ZARRb5tweIpEDpqJ5ilwOjQNZHSwncm6FAPmx2jrZOoEAVnOTvXzSeQNoOE+/s+JtAgnN3V7XnmUBD3uYomv2XQGrUu2+3N5ZA7IWs51+TlEDw8zDxGA6TQE8BX9OWpZFAG9eVRLlXkECv5HlpEEWOQOxefKhhCIxAJ7R7pgX2iUBFYdGp2wqIQFve/CX+Q4ZAvo8QXL6ehEBuQ9xNoBiDQBrXt/1Wr4FADlNE9cBggEBS08kbylV+QGwGKezeF3xAecMw3l0EekDH/8p9JBh4QBY9uqRLUHZAC92bGCOqdECludV7LSNzQD88ToscuXFA+R9Co81pcEDZz+wLjWZuQOMG0b5kJ2xAVFz1Ar4SakAix9+odCVoQIhss++fXGZADAHHII61ZECSPlR+wC1jQPdHHH/nwmFAzwJRUd9yYEAUE/4+WXdeQDv9LiXzNlxAzaMqGSYhWkASAR4vzDJYQNb6qQr7aFZA5HkMeP/AVEDpgJBYWThTQIO2Hdy3zFFAj0Y0AvZ7UEDppxu6LohOQGojACSKRkxAbyo0JZYvSkAgNZYUK0BIQHCJYflcdUZA1bHoIXfMREAN98QN+EJDQDXqT6WN1kFA9bywuBGFQEAkbWaCDZk+QKFRBMApVjxAhO13Kw4+OkCrKVtdkU04QCbOn7/FgTZAIwDaIfXXNED53y2hnE0zQDXssd1o4DFAc7+MdzKOMEAMFwKd9akuQPj//f3RZSxAlFheMI5MKkBc5YEN/1ooQH2ULGE1jiZAUapge3njJEA=",
          "dtype": "f8"
         },
         "y": {
          "bdata": "AAAAAAAAAAAAAAAAAAAAAAAAAAAAAAAAAAAAAAAAAAAAAAAAAAAAAAAAAAAAAACAAAAAAAAAAIAAAAAAAAAAgAAAAAAAAACAAAAAAAAAAIAAAAAAAAAAgAAAAAAAAACAAAAAAAAAAIAAAAAAAAAAgAAAAAAAAACAAAAAAAAAAIAAAAAAAAAAgAAAAAAAAACAAAAAAAAAAIAAAAAAAAAAgAAAAAAAAACAAAAAAAAAAIAAAAAAAAAAgAAAAAAAAACAAAAAAAAAAIAAAAAAAAAAgAAAAAAAAACAAAAAAAAAAIAAAAAAAAAAgAAAAAAAAACAAAAAAAAAAIAAAAAAAAAAgAAAAAAAAACAAAAAAAAAAIAAAAAAAAAAgAAAAAAAAACAAAAAAAAAAIAAAAAAAAAAgAAAAAAAAACAAAAAAAAAAIAAAAAAAAAAgAAAAAAAAACAAAAAAAAAAIAAAAAAAAAAgAAAAAAAAACAAAAAAAAAAIAAAAAAAAAAgAAAAAAAAACAAAAAAAAAAIAAAAAAAAAAAAAAAAAAAAAAAAAAAAAAAAAAAAAAAAAAAAAAAAAAAAAAAAAAAAAAAAAAAAAAAAAAAAAAAAAAAAAAAAAAAAAAAAAAAAAAAAAAAAAAAAAAAAAAAAAAAAAAAAAAAAAAAAAAAAAAAAAAAAAAAAAAAAAAAAAAAAAAAAAAAAAAAAAAAAAAAAAAAAAAAAAAAAAAAAAAAAAAAAAAAAAAAAAAAAAAAAAAAAAAAAAAAAAAAAAAAAAAAAAAAAAAAAAAAAAAAAAAAAAAAAAAAAAAAAAAAAAAAAAAAAAAAAAAAAAAAAAAAAAAAAAAAAAAAAAAAAAAAAAAAAAAAAAAAAAAAAAAAAAAAAAAAAAAAAAAAAAAAAAAAAAAAAAAAAAAAAAAAAAAAAAAAE4trWpc2UZARX+MXCZgZUBdEw6NzCVxQBr2doLXT3dARMwKY7/7fECG+146J0mBQBY0m3lW3oNAcstluu09hkCvvPvhd3KIQBcYRFSofYpADJOEE69fjEALLJ9UdiCOQHgEsMUn0I9Ah27YIGFvkEA=",
          "dtype": "f8"
         }
        },
        {
         "mode": "lines",
         "name": "airline_Indigo",
         "type": "scatter",
         "x": {
          "bdata": "U2Z8oiRm1EDNDIVrNeTSQAHTEs/LftFA3s4GMMwz0EC+sbqkhQLOQCQaYtHBystA/1gAs/O8yUAR5ipwAdbHQCbUhtoLE8ZAvOvSGGpxxEC4bfmipe7CQFaNGYp2iMFA517rBsA8wECzZ5aSGhO+QLhvNwgd2rtAeH0SYizLuUBZHBoQLeO3QAgju00+H7ZAa4CBybV8tEDHBPKeG/myQPnahZwmkrFA4FYn0LhFsEDMYPSpuCOuQLiuN7uA6atAfa/H7GzZqUCipAH3X/CnQFa0OX53K6ZARRb5tweIpEDpqJ5ilwOjQNZHSwncm6FAPmx2jrZOoEAVnOTvXzSeQNoOE+/s+JtAgnN3V7XnmUBD3uYomv2XQGrUu2+3N5ZA7IWs51+TlEDw8zDxGA6TQE8BX9OWpZFAG9eVRLlXkECv5HlpEEWOQOxefKhhCIxAJ7R7pgX2iUBFYdGp2wqIQFve/CX+Q4ZAvo8QXL6ehEBuQ9xNoBiDQBrXt/1Wr4FADlNE9cBggEBS08kbylV+QGwGKezeF3xAecMw3l0EekDH/8p9JBh4QBY9uqRLUHZAC92bGCOqdECludV7LSNzQD88ToscuXFA+R9Co81pcEDZz+wLjWZuQOMG0b5kJ2xAVFz1Ar4SakAix9+odCVoQIhss++fXGZADAHHII61ZECSPlR+wC1jQPdHHH/nwmFAzwJRUd9yYEAUE/4+WXdeQDv9LiXzNlxAzaMqGSYhWkASAR4vzDJYQNb6qQr7aFZA5HkMeP/AVEDpgJBYWThTQIO2Hdy3zFFAj0Y0AvZ7UEDppxu6LohOQGojACSKRkxAbyo0JZYvSkAgNZYUK0BIQHCJYflcdUZA1bHoIXfMREAN98QN+EJDQDXqT6WN1kFA9bywuBGFQEAkbWaCDZk+QKFRBMApVjxAhO13Kw4+OkCrKVtdkU04QCbOn7/FgTZAIwDaIfXXNED53y2hnE0zQDXssd1o4DFAc7+MdzKOMEAMFwKd9akuQPj//f3RZSxAlFheMI5MKkBc5YEN/1ooQH2ULGE1jiZAUapge3njJEA=",
          "dtype": "f8"
         },
         "y": {
          "bdata": "AAAAAAAAAAAAAAAAAAAAAAAAAAAAAAAAAAAAAAAAAAAAAAAAAAAAgAAAAAAAAACAAAAAAAAAAIAAAAAAAAAAgAAAAAAAAACAAAAAAAAAAIAAAAAAAAAAgAAAAAAAAACAAAAAAAAAAIAAAAAAAAAAgAAAAAAAAACAAAAAAAAAAIAAAAAAAAAAgAAAAAAAAACAAAAAAAAAAIAAAAAAAAAAgAAAAAAAAACAAAAAAAAAAIAAAAAAAAAAgAAAAAAAAACAAAAAAAAAAIAAAAAAAAAAgAAAAAAAAACAAAAAAAAAAIAAAAAAAAAAgAAAAAAAAACAAAAAAAAAAIAAAAAAAAAAgAAAAAAAAACAAAAAAAAAAIAAAAAAAAAAgAAAAAAAAACAAAAAAAAAAIAAAAAAAAAAgAAAAAAAAACAAAAAAAAAAIAAAAAAAAAAgAAAAAAAAACAAAAAAAAAAIAAAAAAAAAAgAAAAAAAAACAAAAAAAAAAIAAAAAAAAAAAAAAAAAAAAAAAAAAAAAAAAAAAAAAAAAAAAAAAAAAAAAAAAAAAAAAAAAAAAAAAAAAAAAAAAAAAAAAAAAAAAAAAAAAAAAAAAAAAAAAAAAAAAAAAAAAAAAAAAAAAAAAAAAAAAAAAAAAAAAAAAAAAAAAAAAAAAAAAAAAAAAAAAAAAAAAAAAAAAAAAAAAAAAAAAAAAAAAAAAAAAAAAAAAAAAAAAAAAAAAAAAAAAAAAAAAAAAAAAAAAAAAAABVgsmoEg5LQBA+aV/n0FpA6AlAz3R3Y0B7xKRwmXZpQKS1LUsTM29AsenteCM9ckDyEwZICLN0QIPs+/gw9nZAFuvvX54GeUBhWG4zy9p6QF54xnuknXxArY0mVwI9fkC5BoPQFr1/QPD/xCAFk4BAd4k6MBxQgUCFrGDo29WBQLIEU1v4IYNApCiG1+ylhkD79zWwD4KJQG/rR9BBPoxAfl9r/4/IjkB3Q++iYbCQQKR47ni25ZFAVzjE9qsBk0CKawSZpQmUQLAFmR9Q/pRAfggT7ovflUD+vomWH7GWQA6oP+mIepdAIl02qDDyl0A=",
          "dtype": "f8"
         }
        },
        {
         "mode": "lines",
         "name": "airline_SpiceJet",
         "type": "scatter",
         "x": {
          "bdata": "U2Z8oiRm1EDNDIVrNeTSQAHTEs/LftFA3s4GMMwz0EC+sbqkhQLOQCQaYtHBystA/1gAs/O8yUAR5ipwAdbHQCbUhtoLE8ZAvOvSGGpxxEC4bfmipe7CQFaNGYp2iMFA517rBsA8wECzZ5aSGhO+QLhvNwgd2rtAeH0SYizLuUBZHBoQLeO3QAgju00+H7ZAa4CBybV8tEDHBPKeG/myQPnahZwmkrFA4FYn0LhFsEDMYPSpuCOuQLiuN7uA6atAfa/H7GzZqUCipAH3X/CnQFa0OX53K6ZARRb5tweIpEDpqJ5ilwOjQNZHSwncm6FAPmx2jrZOoEAVnOTvXzSeQNoOE+/s+JtAgnN3V7XnmUBD3uYomv2XQGrUu2+3N5ZA7IWs51+TlEDw8zDxGA6TQE8BX9OWpZFAG9eVRLlXkECv5HlpEEWOQOxefKhhCIxAJ7R7pgX2iUBFYdGp2wqIQFve/CX+Q4ZAvo8QXL6ehEBuQ9xNoBiDQBrXt/1Wr4FADlNE9cBggEBS08kbylV+QGwGKezeF3xAecMw3l0EekDH/8p9JBh4QBY9uqRLUHZAC92bGCOqdECludV7LSNzQD88ToscuXFA+R9Co81pcEDZz+wLjWZuQOMG0b5kJ2xAVFz1Ar4SakAix9+odCVoQIhss++fXGZADAHHII61ZECSPlR+wC1jQPdHHH/nwmFAzwJRUd9yYEAUE/4+WXdeQDv9LiXzNlxAzaMqGSYhWkASAR4vzDJYQNb6qQr7aFZA5HkMeP/AVEDpgJBYWThTQIO2Hdy3zFFAj0Y0AvZ7UEDppxu6LohOQGojACSKRkxAbyo0JZYvSkAgNZYUK0BIQHCJYflcdUZA1bHoIXfMREAN98QN+EJDQDXqT6WN1kFA9bywuBGFQEAkbWaCDZk+QKFRBMApVjxAhO13Kw4+OkCrKVtdkU04QCbOn7/FgTZAIwDaIfXXNED53y2hnE0zQDXssd1o4DFAc7+MdzKOMEAMFwKd9akuQPj//f3RZSxAlFheMI5MKkBc5YEN/1ooQH2ULGE1jiZAUapge3njJEA=",
          "dtype": "f8"
         },
         "y": {
          "bdata": "AAAAAAAAAAAAAAAAAAAAAAAAAAAAAAAAAAAAAAAAAAAAAAAAAAAAAAAAAAAAAACAAAAAAAAAAIAAAAAAAAAAgAAAAAAAAACAAAAAAAAAAIAAAAAAAAAAgAAAAAAAAACAAAAAAAAAAIAAAAAAAAAAgAAAAAAAAACAAAAAAAAAAIAAAAAAAAAAgAAAAAAAAACAAAAAAAAAAIAAAAAAAAAAgAAAAAAAAACAAAAAAAAAAIAAAAAAAAAAgAAAAAAAAACAAAAAAAAAAIAAAAAAAAAAgAAAAAAAAACAAAAAAAAAAIAAAAAAAAAAgAAAAAAAAACAAAAAAAAAAIAAAAAAAAAAgAAAAAAAAACAAAAAAAAAAIAAAAAAAAAAgAAAAAAAAACAAAAAAAAAAIAAAAAAAAAAgAAAAAAAAACAAAAAAAAAAIAAAAAAAAAAgAAAAAAAAACAAAAAAAAAAIAAAAAAAAAAgAAAAAAAAACAAAAAAAAAAIAAAAAAAAAAgAAAAAAAAACAAAAAAAAAAIAAAAAAAAAAgAAAAAAAAAAAAAAAAAAAAAAAAAAAAAAAAAAAAAAAAAAAAAAAAAAAAAAAAAAAAAAAAAAAAAAAAAAAAAAAAAAAAAAAAAAAAAAAAAAAAAAAAAAAAAAAAAAAAAAAAAAAAAAAAAAAAAAAAAAAAAAAAAAAAAAAAAAAAAAAAAAAAAAAAAAAAAAAAAAAAAAAAAAAAAAAAAAAAAAAAAAAAAAAAAAAAAAAAAAAAAAAAAAAAAAAAAAAAAAAAAAAAAAAAAAAAAAAAAAAAAAAAAAAAAAAAAAAAAAAAAAAAAAAAAAAAAAAAAAAAAAAAAAAAAAAAAAAAAAAAAAAAAAAAAAAAAAAAAAAAAAAAAAAAAAAAAAAAAAAAAAAAAAAAAAAAAAAAAAAAAAAAI0epUgDvVJAmeRA4wxUbkAcHuWSHBh4QExDP4EmOoBAXQIUblcWhEDckgWGhtuHQFAURCM2UotAlQuVIvaCjkAFr+vqhbyQQPkNLGS5G5JAuCdJCNRfk0CV+YS6+4yUQEDHL42SrJVAhNfGTbF6lkA=",
          "dtype": "f8"
         }
        },
        {
         "mode": "lines",
         "name": "airline_Vistara",
         "type": "scatter",
         "x": {
          "bdata": "U2Z8oiRm1EDNDIVrNeTSQAHTEs/LftFA3s4GMMwz0EC+sbqkhQLOQCQaYtHBystA/1gAs/O8yUAR5ipwAdbHQCbUhtoLE8ZAvOvSGGpxxEC4bfmipe7CQFaNGYp2iMFA517rBsA8wECzZ5aSGhO+QLhvNwgd2rtAeH0SYizLuUBZHBoQLeO3QAgju00+H7ZAa4CBybV8tEDHBPKeG/myQPnahZwmkrFA4FYn0LhFsEDMYPSpuCOuQLiuN7uA6atAfa/H7GzZqUCipAH3X/CnQFa0OX53K6ZARRb5tweIpEDpqJ5ilwOjQNZHSwncm6FAPmx2jrZOoEAVnOTvXzSeQNoOE+/s+JtAgnN3V7XnmUBD3uYomv2XQGrUu2+3N5ZA7IWs51+TlEDw8zDxGA6TQE8BX9OWpZFAG9eVRLlXkECv5HlpEEWOQOxefKhhCIxAJ7R7pgX2iUBFYdGp2wqIQFve/CX+Q4ZAvo8QXL6ehEBuQ9xNoBiDQBrXt/1Wr4FADlNE9cBggEBS08kbylV+QGwGKezeF3xAecMw3l0EekDH/8p9JBh4QBY9uqRLUHZAC92bGCOqdECludV7LSNzQD88ToscuXFA+R9Co81pcEDZz+wLjWZuQOMG0b5kJ2xAVFz1Ar4SakAix9+odCVoQIhss++fXGZADAHHII61ZECSPlR+wC1jQPdHHH/nwmFAzwJRUd9yYEAUE/4+WXdeQDv9LiXzNlxAzaMqGSYhWkASAR4vzDJYQNb6qQr7aFZA5HkMeP/AVEDpgJBYWThTQIO2Hdy3zFFAj0Y0AvZ7UEDppxu6LohOQGojACSKRkxAbyo0JZYvSkAgNZYUK0BIQHCJYflcdUZA1bHoIXfMREAN98QN+EJDQDXqT6WN1kFA9bywuBGFQEAkbWaCDZk+QKFRBMApVjxAhO13Kw4+OkCrKVtdkU04QCbOn7/FgTZAIwDaIfXXNED53y2hnE0zQDXssd1o4DFAc7+MdzKOMEAMFwKd9akuQPj//f3RZSxAlFheMI5MKkBc5YEN/1ooQH2ULGE1jiZAUapge3njJEA=",
          "dtype": "f8"
         },
         "y": {
          "bdata": "AAAAAAAAAAAAAAAAAAAAAAAAAAAAAAAAAAAAAAAAAAAAAAAAAAAAAAAAAAAAAAAAAAAAAAAAAAAAAAAAAAAAAAAAAAAAAAAAAAAAAAAAAAAAAAAAAAAAAAAAAAAAAAAAAAAAAAAAAAAAAAAAAAAAAAAAAAAAAAAA3MZMCJY9kEAAeG4ZLw6hQHTohZB6iahA1kRhiOgCqUDeuXgTAG2pQKV+44ITzqlAoxoPT0UpqkChsH4A/n2qQF/W4o7lyqpA3homCtkTq0BvWRLyCFSrQOL8B5SFZKtAy0cu/e5xq0Agzzbnc4CrQKILv3nOi6tACnhZQk2Wq0CpxEOVM6KrQGe/l04kq6tAIebSwHSzq0APZU6yKburQEVIqdpMwqtAfDKUjtbKq0A6j4Xf2NCrQOohleZh1qtArfMLFoLbq0DTq2xLQeCrQChqvWhc5qtAowKtK1fqq0BbCAzx/e2rQOCpB3Rf8atAmQKvpCT2q0BSVtXMEuSrQDpJZOB+yKtAW6/cbzauq0BKmJsc25WrQLGiLoJMf6tAlCOAI+drq0DHgkj/fFirQIbfubl3RqtA6cflGMc1q0BfQNblvyerQIvok+LaJKtATllAV0Qoq0DY4SybFiurQC1heOqtLatAQ7+m9mQxq0D3O8dooDOrQJEDLbZONKtApjfk/Gkzq0DihXSAlC6rQEEdOVjfJKtAZWLCc70bq0CDr4DhBwyrQBJbDx0m/6pASh9fhlPIqkDy1lyvdHWqQHEkPPTqJ6pAWzkl/DbeqUC/4FDgHZapQFKewFOsU6lA5n+Z1usUqUCWYMDq+NuoQCdxPQIUpqhAtbQgEKZyqEB+5NBcsjyoQJCfBoKVC6hAqvnlyn/dp0BLZKdL77KnQMRkFv4Ai6dAOzouJZNtp0CDIxDMtESnQEcO7lKHVKdAKMLr/qbtp0Cug9rMdW2oQCIiP5hx56hASLfWNtBYqUDSnZZE0NGpQO5D867BPqpA3edyKDCiqkD9mefl6v6qQFhYx/DrVKtAG4xDJrSjq0C4rDP+V+2rQLvgx++hNaxA3ALvSWBVrEA=",
          "dtype": "f8"
         }
        },
        {
         "mode": "lines",
         "name": "source_city_Chennai",
         "type": "scatter",
         "x": {
          "bdata": "U2Z8oiRm1EDNDIVrNeTSQAHTEs/LftFA3s4GMMwz0EC+sbqkhQLOQCQaYtHBystA/1gAs/O8yUAR5ipwAdbHQCbUhtoLE8ZAvOvSGGpxxEC4bfmipe7CQFaNGYp2iMFA517rBsA8wECzZ5aSGhO+QLhvNwgd2rtAeH0SYizLuUBZHBoQLeO3QAgju00+H7ZAa4CBybV8tEDHBPKeG/myQPnahZwmkrFA4FYn0LhFsEDMYPSpuCOuQLiuN7uA6atAfa/H7GzZqUCipAH3X/CnQFa0OX53K6ZARRb5tweIpEDpqJ5ilwOjQNZHSwncm6FAPmx2jrZOoEAVnOTvXzSeQNoOE+/s+JtAgnN3V7XnmUBD3uYomv2XQGrUu2+3N5ZA7IWs51+TlEDw8zDxGA6TQE8BX9OWpZFAG9eVRLlXkECv5HlpEEWOQOxefKhhCIxAJ7R7pgX2iUBFYdGp2wqIQFve/CX+Q4ZAvo8QXL6ehEBuQ9xNoBiDQBrXt/1Wr4FADlNE9cBggEBS08kbylV+QGwGKezeF3xAecMw3l0EekDH/8p9JBh4QBY9uqRLUHZAC92bGCOqdECludV7LSNzQD88ToscuXFA+R9Co81pcEDZz+wLjWZuQOMG0b5kJ2xAVFz1Ar4SakAix9+odCVoQIhss++fXGZADAHHII61ZECSPlR+wC1jQPdHHH/nwmFAzwJRUd9yYEAUE/4+WXdeQDv9LiXzNlxAzaMqGSYhWkASAR4vzDJYQNb6qQr7aFZA5HkMeP/AVEDpgJBYWThTQIO2Hdy3zFFAj0Y0AvZ7UEDppxu6LohOQGojACSKRkxAbyo0JZYvSkAgNZYUK0BIQHCJYflcdUZA1bHoIXfMREAN98QN+EJDQDXqT6WN1kFA9bywuBGFQEAkbWaCDZk+QKFRBMApVjxAhO13Kw4+OkCrKVtdkU04QCbOn7/FgTZAIwDaIfXXNED53y2hnE0zQDXssd1o4DFAc7+MdzKOMEAMFwKd9akuQPj//f3RZSxAlFheMI5MKkBc5YEN/1ooQH2ULGE1jiZAUapge3njJEA=",
          "dtype": "f8"
         },
         "y": {
          "bdata": "AAAAAAAAAAAAAAAAAAAAAAAAAAAAAAAAAAAAAAAAAAAAAAAAAAAAAAAAAAAAAAAAAAAAAAAAAAAAAAAAAAAAAAAAAAAAAAAAAAAAAAAAAAAAAAAAAAAAAAAAAAAAAAAAAAAAAAAAAAAAAAAAAAAAAAAAAAAAAAAAAAAAAAAAAAAAAAAAAAAAAAAAAAAAAAAAAAAAAAAAAAAAAAAAAAAAAAAAAAAAAAAAAAAAAAAAAAAAAAAAAAAAAAAAAAAAAAAAAAAAAAAAAAAAAAAAAAAAAAAAAAAAAAAAAAAAAAAAAAAAAAAAAAAAAAAAAAAAAAAAAAAAAAAAAAAAAAAAAAAAAAAAAAAAAAAAAAAAAAAAAAAAAAAAAAAAAAAAAAAAAAAAAAAAAAAAAAAAAAAAAAAAAAAAAAAAAAAAAAAAAAAAAAAAAAAAAAAAAAAAAAAAAAAAAAAAAAAAAAAAAAAAAAAAAAAAAAAAAAAAAAAAAAAAAAAAAAAAAAAAAAAAAAAAAAAAAAAAAAAAAAAAAAAAAAAAAAAAAAAAAAAAAAAAAAAAAAAAAAAAAAAAAAAAAAAAAAAAAAAAAAAAAAAAAAAAAAAAAAAAAAAAAAAAAAAAAAAAAAAAAAAAAAAAAAAAAAAAAAAAAAAAAAAAAAAAAAAAAAAAAAAAAAAAAAAAAAAAAAAAAAAAAAAAAAAAAAAAAAAAAAAAAAAAAAAAAAAAAAAAAAAAAAAAAAAAAAAAAAAAAAAAAAAAAAAAAAAAAAAAAAAAAAAAAAAAAAAAAAAAAAAAAAAAAAAAAAAAAAAAAAAAAAAAAAAAAAAAAAAAAAAAAAAAAAAAAAAAAAAAAAAAAAAAAAAAAAAAAAAAAAAAAAAAAAAAAAAAAAAAAAAAAAAAAAAAAAAAAAAAAAAAAAAAAAAAAAAAAAAAAAAAAAAAAAAAAAAAAAAAAAAAAAAAAAAAAAAAAAAAAAAAAAAAAAAAAAAAAAAAAAAAAAAAAAAAAAAAAAAAAAAAAAAAAAAAAAAAAAAAAAAAAAAAAAAAAABmI82tTQviPwAAAAAAAAAAAAAAAAAAAAA=",
          "dtype": "f8"
         }
        },
        {
         "mode": "lines",
         "name": "source_city_Delhi",
         "type": "scatter",
         "x": {
          "bdata": "U2Z8oiRm1EDNDIVrNeTSQAHTEs/LftFA3s4GMMwz0EC+sbqkhQLOQCQaYtHBystA/1gAs/O8yUAR5ipwAdbHQCbUhtoLE8ZAvOvSGGpxxEC4bfmipe7CQFaNGYp2iMFA517rBsA8wECzZ5aSGhO+QLhvNwgd2rtAeH0SYizLuUBZHBoQLeO3QAgju00+H7ZAa4CBybV8tEDHBPKeG/myQPnahZwmkrFA4FYn0LhFsEDMYPSpuCOuQLiuN7uA6atAfa/H7GzZqUCipAH3X/CnQFa0OX53K6ZARRb5tweIpEDpqJ5ilwOjQNZHSwncm6FAPmx2jrZOoEAVnOTvXzSeQNoOE+/s+JtAgnN3V7XnmUBD3uYomv2XQGrUu2+3N5ZA7IWs51+TlEDw8zDxGA6TQE8BX9OWpZFAG9eVRLlXkECv5HlpEEWOQOxefKhhCIxAJ7R7pgX2iUBFYdGp2wqIQFve/CX+Q4ZAvo8QXL6ehEBuQ9xNoBiDQBrXt/1Wr4FADlNE9cBggEBS08kbylV+QGwGKezeF3xAecMw3l0EekDH/8p9JBh4QBY9uqRLUHZAC92bGCOqdECludV7LSNzQD88ToscuXFA+R9Co81pcEDZz+wLjWZuQOMG0b5kJ2xAVFz1Ar4SakAix9+odCVoQIhss++fXGZADAHHII61ZECSPlR+wC1jQPdHHH/nwmFAzwJRUd9yYEAUE/4+WXdeQDv9LiXzNlxAzaMqGSYhWkASAR4vzDJYQNb6qQr7aFZA5HkMeP/AVEDpgJBYWThTQIO2Hdy3zFFAj0Y0AvZ7UEDppxu6LohOQGojACSKRkxAbyo0JZYvSkAgNZYUK0BIQHCJYflcdUZA1bHoIXfMREAN98QN+EJDQDXqT6WN1kFA9bywuBGFQEAkbWaCDZk+QKFRBMApVjxAhO13Kw4+OkCrKVtdkU04QCbOn7/FgTZAIwDaIfXXNED53y2hnE0zQDXssd1o4DFAc7+MdzKOMEAMFwKd9akuQPj//f3RZSxAlFheMI5MKkBc5YEN/1ooQH2ULGE1jiZAUapge3njJEA=",
          "dtype": "f8"
         },
         "y": {
          "bdata": "AAAAAAAAAAAAAAAAAAAAAAAAAAAAAAAAAAAAAAAAAAAAAAAAAAAAAAAAAAAAAAAAAAAAAAAAAAAAAAAAAAAAAAAAAAAAAAAAAAAAAAAAAAAAAAAAAAAAAAAAAAAAAAAAAAAAAAAAAAAAAAAAAAAAAAAAAAAAAAAAAAAAAAAAAAAAAAAAAAAAAAAAAAAAAAAAAAAAAAAAAAAAAAAAAAAAAAAAAAAAAAAAAAAAAAAAAAAAAAAAAAAAAAAAAAAAAAAAAAAAAAAAAAAAAAAAAAAAAAAAAAAAAAAAAAAAAAAAAAAAAAAAAAAAAAAAAAAAAAAAAAAAAAAAAAAAAAAAAAAAAAAAAAAAAAAAAAAAAAAAAAAAAAAAAAAAAAAAAAAAAAAAAAAAAAAAAAAAAAAAAAAAgAAAAAAAAACAAAAAAAAAAIAAAAAAAAAAgAAAAAAAAACAAAAAAAAAAIAAAAAAAAAAgAAAAAAAAACAAAAAAAAAAIAAAAAAAAAAgAAAAAAAAACAAAAAAAAAAIAAAAAAAAAAgAAAAAAAAACAAAAAAAAAAIAAAAAAAAAAgAAAAAAAAACAAAAAAAAAAIAAAAAAAAAAgAAAAAAAAACAAAAAAAAAAIAAAAAAAAAAgAAAAAAAAACAAAAAAAAAAIAAAAAAAAAAgAAAAAAAAACAAAAAAAAAAIAAAAAAAAAAgAAAAAAAAACAAAAAAAAAAICt8jUSLS9AwI+cG8U5FF3AJmQNZYBmasCsCbwT4ptywBNMT6LHpHfANomQEDBMfMCmni7my1CAwAVZu6VsUYLAOmVEjrkthMCIo0XpW+WFwBUj4FH0fYfALJFRIiP0iMDK6JwY2z+KwEQpMg03bIvAKo3nMz+DjMBRDQp6l4WNwOuIS0dZd47A9b6vNQ1Tj8BDdW2r7BaQwCeYU87Gj5DADPMOMD3ikMBWEel6ezORwKqzwpQjfJHAXsa6jF+/kcB2Z4FIvvaRwJk+79kHJpLATZy+LGtSksBQLJK6QHuSwMrU1TUEoZLAcW9kZVvEksC0RWKMW+SSwAmB7ne4EpPAz/uzN0xVk8A=",
          "dtype": "f8"
         }
        },
        {
         "mode": "lines",
         "name": "source_city_Hyderabad",
         "type": "scatter",
         "x": {
          "bdata": "U2Z8oiRm1EDNDIVrNeTSQAHTEs/LftFA3s4GMMwz0EC+sbqkhQLOQCQaYtHBystA/1gAs/O8yUAR5ipwAdbHQCbUhtoLE8ZAvOvSGGpxxEC4bfmipe7CQFaNGYp2iMFA517rBsA8wECzZ5aSGhO+QLhvNwgd2rtAeH0SYizLuUBZHBoQLeO3QAgju00+H7ZAa4CBybV8tEDHBPKeG/myQPnahZwmkrFA4FYn0LhFsEDMYPSpuCOuQLiuN7uA6atAfa/H7GzZqUCipAH3X/CnQFa0OX53K6ZARRb5tweIpEDpqJ5ilwOjQNZHSwncm6FAPmx2jrZOoEAVnOTvXzSeQNoOE+/s+JtAgnN3V7XnmUBD3uYomv2XQGrUu2+3N5ZA7IWs51+TlEDw8zDxGA6TQE8BX9OWpZFAG9eVRLlXkECv5HlpEEWOQOxefKhhCIxAJ7R7pgX2iUBFYdGp2wqIQFve/CX+Q4ZAvo8QXL6ehEBuQ9xNoBiDQBrXt/1Wr4FADlNE9cBggEBS08kbylV+QGwGKezeF3xAecMw3l0EekDH/8p9JBh4QBY9uqRLUHZAC92bGCOqdECludV7LSNzQD88ToscuXFA+R9Co81pcEDZz+wLjWZuQOMG0b5kJ2xAVFz1Ar4SakAix9+odCVoQIhss++fXGZADAHHII61ZECSPlR+wC1jQPdHHH/nwmFAzwJRUd9yYEAUE/4+WXdeQDv9LiXzNlxAzaMqGSYhWkASAR4vzDJYQNb6qQr7aFZA5HkMeP/AVEDpgJBYWThTQIO2Hdy3zFFAj0Y0AvZ7UEDppxu6LohOQGojACSKRkxAbyo0JZYvSkAgNZYUK0BIQHCJYflcdUZA1bHoIXfMREAN98QN+EJDQDXqT6WN1kFA9bywuBGFQEAkbWaCDZk+QKFRBMApVjxAhO13Kw4+OkCrKVtdkU04QCbOn7/FgTZAIwDaIfXXNED53y2hnE0zQDXssd1o4DFAc7+MdzKOMEAMFwKd9akuQPj//f3RZSxAlFheMI5MKkBc5YEN/1ooQH2ULGE1jiZAUapge3njJEA=",
          "dtype": "f8"
         },
         "y": {
          "bdata": "AAAAAAAAAAAAAAAAAAAAAAAAAAAAAAAAAAAAAAAAAAAAAAAAAAAAAAAAAAAAAAAAAAAAAAAAAAAAAAAAAAAAAAAAAAAAAAAAAAAAAAAAAAAAAAAAAAAAAAAAAAAAAAAAAAAAAAAAAAAAAAAAAAAAAAAAAAAAAAAAAAAAAAAAAAAAAAAAAAAAAAAAAAAAAAAAAAAAAAAAAAAAAAAAAAAAAAAAAAAAAAAAAAAAAAAAAAAAAAAAAAAAAAAAAAAAAAAAAAAAAAAAAAAAAAAAAAAAAAAAAAAAAAAAAAAAAAAAAAAAAAAAAAAAAAAAAAAAAAAAAAAAAAAAAAAAAAAAAAAAAAAAAAAAAAAAAAAAAAAAAAAAAAAAAAAAAAAAAAAAAAAAAAAAAAAAAAAAAAAAAAAAAAAAAAAAAAAAAAAAAAAAAAAAAAAAAAAAgAAAAAAAAACAAAAAAAAAAIAAAAAAAAAAgAAAAAAAAACAAAAAAAAAAIAAAAAAAAAAgAAAAAAAAACAAAAAAAAAAIAAAAAAAAAAgAAAAAAAAACAAAAAAAAAAIAAAAAAAAAAgAAAAAAAAACAAAAAAAAAAIAAAAAAAAAAgAAAAAAAAACAAAAAAAAAAIAAAAAAAAAAgAAAAAAAAACAAAAAAAAAAIAAAAAAAAAAgAAAAAAAAACAAAAAAAAAAIAAAAAAAAAAgAAAAAAAAACAAAAAAAAAAIAAAAAAAAAAgHl9TTExSEbANsd6X29LZMDIwMRneAJxwJbvMeRAZnfASk7bBbNPfcCfunto6F2BwH3P0qTb3IPAvEYX26IthsBewmcxn1GIwDxA6IIVTorAf53/7GYkjMBwoz08vdSNwEohMJVYYI/A3z8Z3KpnkMDoMH2PqxGRwKjw5cD/qpHA7C+2seMvksBuMrKYi7GSwBBi+If7NpPA1UNUEcKVk8DyoKqu/fKTwOsR+gyfR5TAI3GBqFWXlMCqjCrymeKUwP0UJVXtKpXA8lEGJUZulcAnex+ifKyVwHLmWkMS5pXAbpmMoZwblsC+z0BrhEyWwFSa5GM7ipbApaNtfavVlsA=",
          "dtype": "f8"
         }
        },
        {
         "mode": "lines",
         "name": "source_city_Kolkata",
         "type": "scatter",
         "x": {
          "bdata": "U2Z8oiRm1EDNDIVrNeTSQAHTEs/LftFA3s4GMMwz0EC+sbqkhQLOQCQaYtHBystA/1gAs/O8yUAR5ipwAdbHQCbUhtoLE8ZAvOvSGGpxxEC4bfmipe7CQFaNGYp2iMFA517rBsA8wECzZ5aSGhO+QLhvNwgd2rtAeH0SYizLuUBZHBoQLeO3QAgju00+H7ZAa4CBybV8tEDHBPKeG/myQPnahZwmkrFA4FYn0LhFsEDMYPSpuCOuQLiuN7uA6atAfa/H7GzZqUCipAH3X/CnQFa0OX53K6ZARRb5tweIpEDpqJ5ilwOjQNZHSwncm6FAPmx2jrZOoEAVnOTvXzSeQNoOE+/s+JtAgnN3V7XnmUBD3uYomv2XQGrUu2+3N5ZA7IWs51+TlEDw8zDxGA6TQE8BX9OWpZFAG9eVRLlXkECv5HlpEEWOQOxefKhhCIxAJ7R7pgX2iUBFYdGp2wqIQFve/CX+Q4ZAvo8QXL6ehEBuQ9xNoBiDQBrXt/1Wr4FADlNE9cBggEBS08kbylV+QGwGKezeF3xAecMw3l0EekDH/8p9JBh4QBY9uqRLUHZAC92bGCOqdECludV7LSNzQD88ToscuXFA+R9Co81pcEDZz+wLjWZuQOMG0b5kJ2xAVFz1Ar4SakAix9+odCVoQIhss++fXGZADAHHII61ZECSPlR+wC1jQPdHHH/nwmFAzwJRUd9yYEAUE/4+WXdeQDv9LiXzNlxAzaMqGSYhWkASAR4vzDJYQNb6qQr7aFZA5HkMeP/AVEDpgJBYWThTQIO2Hdy3zFFAj0Y0AvZ7UEDppxu6LohOQGojACSKRkxAbyo0JZYvSkAgNZYUK0BIQHCJYflcdUZA1bHoIXfMREAN98QN+EJDQDXqT6WN1kFA9bywuBGFQEAkbWaCDZk+QKFRBMApVjxAhO13Kw4+OkCrKVtdkU04QCbOn7/FgTZAIwDaIfXXNED53y2hnE0zQDXssd1o4DFAc7+MdzKOMEAMFwKd9akuQPj//f3RZSxAlFheMI5MKkBc5YEN/1ooQH2ULGE1jiZAUapge3njJEA=",
          "dtype": "f8"
         },
         "y": {
          "bdata": "AAAAAAAAAAAAAAAAAAAAAAAAAAAAAAAAAAAAAAAAAAAAAAAAAAAAAAAAAAAAAAAAAAAAAAAAAAAAAAAAAAAAAAAAAAAAAAAAAAAAAAAAAAAAAAAAAAAAAAAAAAAAAAAAAAAAAAAAAAAAAAAAAAAAAAAAAAAAAAAAAAAAAAAAAAAAAAAAAAAAAAAAAAAAAAAAAAAAAAAAAAAAAAAAAAAAAAAAAAAAAAAAAAAAAAAAAAAAAAAAAAAAAAAAAAAAAAAAAAAAAAAAAAAAAAAAAAAAAAAAAAAAAAAAAAAAAAAAAAAAAAAAAAAAAAAAAAAAAAAAAAAAAAAAAAAAAAAAAAAAAAAAAAAAAAAAAAAAAAAAAAAAAAAAAAAAAAAAAAAAAAAAAAAAAAAAAAAAAAAAAAAAAAAAAAAAAAAAAAAAAAAAAAAAAAAAAAAAAAAAAAAAAAAAAAAAAAAAAAAAAAAAAAAAAAAAAAAAAAAAAAAAAAAAAAAAAAAAAAAAAAAAAAAAAAAAAAAAAAAAAAAAAAAAAAAAAAAAAAAAAAAAAAAAAAAAAAAAAAAAAAAAAAAAAAAAAAAAAAAAAAAAAAAAAAAAAAAAAG+gaw6HK2FAgq4ekvQWc0ALCGmO9tB8QH75CS126YJA2/c5cBIWh0DyxqS17/KKQL4+y64ohY5AnupxiUDpkEBIb5aavnGSQJ12gmgQ25NAdXAtFFYplUC/PDsvSz+WQK4jKaQU8JZAhXe1+aFLl0CT5EFPWo+XQOfZwTHEypdAatdCAXwAmEDz0su/HCqYQCw3c9rFTphAdGAL0wRwmEB68PpDeY+YQLLsoM3xq5hAWQuFl2PGmEAzKm1AR+CYQOFXL9TP+5hArMy02ugUmUA1oDFRDyyZQEdl/NKBQplAky5rgEBemUCkqH5cSm+ZQM2p+STVa5lAUszhIomDmUCU+8cN0pSZQH+CEHDlpplAo5ngNMy2mUBZayflF8eZQOhY7ylN1ZlADP9mYv/hmUBMyZlB9u2ZQJu7aBEV+ZlA03+xZxoDmkArcwXlGw2aQCJezV6vBZpAeo0C0qzpmUA=",
          "dtype": "f8"
         }
        },
        {
         "mode": "lines",
         "name": "source_city_Mumbai",
         "type": "scatter",
         "x": {
          "bdata": "U2Z8oiRm1EDNDIVrNeTSQAHTEs/LftFA3s4GMMwz0EC+sbqkhQLOQCQaYtHBystA/1gAs/O8yUAR5ipwAdbHQCbUhtoLE8ZAvOvSGGpxxEC4bfmipe7CQFaNGYp2iMFA517rBsA8wECzZ5aSGhO+QLhvNwgd2rtAeH0SYizLuUBZHBoQLeO3QAgju00+H7ZAa4CBybV8tEDHBPKeG/myQPnahZwmkrFA4FYn0LhFsEDMYPSpuCOuQLiuN7uA6atAfa/H7GzZqUCipAH3X/CnQFa0OX53K6ZARRb5tweIpEDpqJ5ilwOjQNZHSwncm6FAPmx2jrZOoEAVnOTvXzSeQNoOE+/s+JtAgnN3V7XnmUBD3uYomv2XQGrUu2+3N5ZA7IWs51+TlEDw8zDxGA6TQE8BX9OWpZFAG9eVRLlXkECv5HlpEEWOQOxefKhhCIxAJ7R7pgX2iUBFYdGp2wqIQFve/CX+Q4ZAvo8QXL6ehEBuQ9xNoBiDQBrXt/1Wr4FADlNE9cBggEBS08kbylV+QGwGKezeF3xAecMw3l0EekDH/8p9JBh4QBY9uqRLUHZAC92bGCOqdECludV7LSNzQD88ToscuXFA+R9Co81pcEDZz+wLjWZuQOMG0b5kJ2xAVFz1Ar4SakAix9+odCVoQIhss++fXGZADAHHII61ZECSPlR+wC1jQPdHHH/nwmFAzwJRUd9yYEAUE/4+WXdeQDv9LiXzNlxAzaMqGSYhWkASAR4vzDJYQNb6qQr7aFZA5HkMeP/AVEDpgJBYWThTQIO2Hdy3zFFAj0Y0AvZ7UEDppxu6LohOQGojACSKRkxAbyo0JZYvSkAgNZYUK0BIQHCJYflcdUZA1bHoIXfMREAN98QN+EJDQDXqT6WN1kFA9bywuBGFQEAkbWaCDZk+QKFRBMApVjxAhO13Kw4+OkCrKVtdkU04QCbOn7/FgTZAIwDaIfXXNED53y2hnE0zQDXssd1o4DFAc7+MdzKOMEAMFwKd9akuQPj//f3RZSxAlFheMI5MKkBc5YEN/1ooQH2ULGE1jiZAUapge3njJEA=",
          "dtype": "f8"
         },
         "y": {
          "bdata": "AAAAAAAAAAAAAAAAAAAAAAAAAAAAAAAAAAAAAAAAAAAAAAAAAAAAAAAAAAAAAAAAAAAAAAAAAAAAAAAAAAAAAAAAAAAAAAAAAAAAAAAAAAAAAAAAAAAAAAAAAAAAAAAAAAAAAAAAAAAAAAAAAAAAAAAAAAAAAAAAAAAAAAAAAAAAAAAAAAAAAAAAAAAAAAAAAAAAAAAAAAAAAAAAAAAAAAAAAAAAAAAAAAAAAAAAAAAAAAAAAAAAAAAAAAAAAAAAAAAAAAAAAAAAAAAAAAAAAAAAAAAAAAAAAAAAAAAAAAAAAAAAAAAAAAAAAAAAAAAAAAAAAAAAAAAAAAAAAAAAAAAAAAAAAAAAAAAAAAAAAAAAAAAAAAAAAAAAAAAAAAAAAAAAAAAAAAAAAAAAAAAAAAAAAAAAAAAAAAAAAAAAAAAAAAAAAAAAAAAAAAAAAAAAAAAAAAAAAAAAAAAAAAAAAAAAAAAAAAAAAAAAAAAAAAAAAAAAAAAAAAAAAAAAAAAAAAAAAAAAAAAAAAAAAAAAAAAAAAAAAAAAAAAAAAAAAAAAAAAAAAAAAAAAAAAAAAAAAAAAAAAAAAAAAAAAAAAAAAAAAAAAAAAAAAAAAAAAAAAAAAAAAAAAAAAAAAAAAAAAAAAAAAAAAAAAAAAAAAAAAAAAAAAAAAAAAAAAAAAAAAAAAAAAAAAAAAAAAAAAAAAAAAAAAAAAAAAAAAAAAAAAAAAAAAAAAAAAAAAAAAAAAAAAAAAAAAAAAAAAAAAAAAAAAAAAAAAAAAAAAAAAAAAAAAAAAAAAAAAAAAAAAAAAAAAAAAAAAAAAAAAAAAAAAAAAAAAAAAAAAAAAAAAAAAAAAAAAAAAAAAAAAAAAAAAAAAAAAAAAAAAAAAAAAAAAAAAAAAAAAAAAAAAAAAAAAAAAAAAAAAAAAACAAAAAAAAAAIAAAAAAAAAAgAAAAAAAAACAAAAAAAAAAIAAAAAAAAAAgAAAAAAAAACAAAAAAAAAAIAAAAAAAAAAgAAAAAAAAACAAAAAAAAAAIAAAAAAAAAAgCDro+NbuyPAKfp0CC63OcA=",
          "dtype": "f8"
         }
        },
        {
         "mode": "lines",
         "name": "departure_time_Early_Morning",
         "type": "scatter",
         "x": {
          "bdata": "U2Z8oiRm1EDNDIVrNeTSQAHTEs/LftFA3s4GMMwz0EC+sbqkhQLOQCQaYtHBystA/1gAs/O8yUAR5ipwAdbHQCbUhtoLE8ZAvOvSGGpxxEC4bfmipe7CQFaNGYp2iMFA517rBsA8wECzZ5aSGhO+QLhvNwgd2rtAeH0SYizLuUBZHBoQLeO3QAgju00+H7ZAa4CBybV8tEDHBPKeG/myQPnahZwmkrFA4FYn0LhFsEDMYPSpuCOuQLiuN7uA6atAfa/H7GzZqUCipAH3X/CnQFa0OX53K6ZARRb5tweIpEDpqJ5ilwOjQNZHSwncm6FAPmx2jrZOoEAVnOTvXzSeQNoOE+/s+JtAgnN3V7XnmUBD3uYomv2XQGrUu2+3N5ZA7IWs51+TlEDw8zDxGA6TQE8BX9OWpZFAG9eVRLlXkECv5HlpEEWOQOxefKhhCIxAJ7R7pgX2iUBFYdGp2wqIQFve/CX+Q4ZAvo8QXL6ehEBuQ9xNoBiDQBrXt/1Wr4FADlNE9cBggEBS08kbylV+QGwGKezeF3xAecMw3l0EekDH/8p9JBh4QBY9uqRLUHZAC92bGCOqdECludV7LSNzQD88ToscuXFA+R9Co81pcEDZz+wLjWZuQOMG0b5kJ2xAVFz1Ar4SakAix9+odCVoQIhss++fXGZADAHHII61ZECSPlR+wC1jQPdHHH/nwmFAzwJRUd9yYEAUE/4+WXdeQDv9LiXzNlxAzaMqGSYhWkASAR4vzDJYQNb6qQr7aFZA5HkMeP/AVEDpgJBYWThTQIO2Hdy3zFFAj0Y0AvZ7UEDppxu6LohOQGojACSKRkxAbyo0JZYvSkAgNZYUK0BIQHCJYflcdUZA1bHoIXfMREAN98QN+EJDQDXqT6WN1kFA9bywuBGFQEAkbWaCDZk+QKFRBMApVjxAhO13Kw4+OkCrKVtdkU04QCbOn7/FgTZAIwDaIfXXNED53y2hnE0zQDXssd1o4DFAc7+MdzKOMEAMFwKd9akuQPj//f3RZSxAlFheMI5MKkBc5YEN/1ooQH2ULGE1jiZAUapge3njJEA=",
          "dtype": "f8"
         },
         "y": {
          "bdata": "AAAAAAAAAAAAAAAAAAAAAAAAAAAAAAAAAAAAAAAAAAAAAAAAAAAAAAAAAAAAAAAAAAAAAAAAAAAAAAAAAAAAAAAAAAAAAAAAAAAAAAAAAAAAAAAAAAAAAAAAAAAAAAAAAAAAAAAAAAAAAAAAAAAAAAAAAAAAAAAAAAAAAAAAAAAAAAAAAAAAAAAAAAAAAAAAAAAAAAAAAAAAAAAAAAAAAAAAAAAAAAAAAAAAAAAAAAAAAAAAAAAAAAAAAAAAAAAAAAAAAAAAAAAAAAAAAAAAAAAAAAAAAAAAAAAAAAAAAAAAAAAAAAAAAAAAAAAAAAAAAAAAAAAAAAAAAAAAAAAAAAAAAAAAAAAAAAAAAAAAAAAAAAAAAAAAAAAAAAAAAAAAAAAAAAAAAAAAAAAAAAAAAAAAAAAAAAAAAAAAAAAAAAAAAAAAAAAAAAAAAAAAAAAAAAAAAAAAAAAAAAAAAAAAAAAAAAAAAAAAAAAAAAAAAAAAAAAAAAAAAAAAAAAAAAAAAAAAAAAAAAAAAAAAAAAAAAAAAAAAAAAAAAAAAAAAAAAAAAAAAAAAAAAAAAAAAAAAAAAAAAAAAAAAAAAAAAAAAAAAAAAAAAAAAAAAAAAAAAAAAAAAAAAAAAAAAAAAAAAAAAAAAAAAAAAAAAAAAAAAAAAAAAAAAAAAAAAAAAAAAAAAAAAAAAAAAAAAAAAAAAAAAAAAAAAAAAAAAAAAAAAAAAAAAAAAAAAAAAAAAAAAAAAAAAAAAAAAAAAAAAAAAAAAAAAAAAAAAAAAAAAAAAAAAAAAAAAAAAAAAAAAAAAAAAAAAAAAAAAAAAAAAAAAAAAAAAAAAAAAAAAlID2nRbUgQBuaUdE2szxAuNV5EmW8R0Cel5XQCzNQQMsJ+Sw5i1VAIdPnesuFXECEPZ6piyhhQMWzxa108GJA+5NmbYt1ZUBtCDbO0ZRnQByPpOS1q2lAftRR99e+a0A2gln5xy5vQEAeuGD3AnJAPAQofVc7dECguYa/+kt2QE0FHPT7NXhAt4DRDLL4eUBDMMnCUZt7QBicYUJ3In1ARmfQEHIcfkA=",
          "dtype": "f8"
         }
        },
        {
         "mode": "lines",
         "name": "departure_time_Evening",
         "type": "scatter",
         "x": {
          "bdata": "U2Z8oiRm1EDNDIVrNeTSQAHTEs/LftFA3s4GMMwz0EC+sbqkhQLOQCQaYtHBystA/1gAs/O8yUAR5ipwAdbHQCbUhtoLE8ZAvOvSGGpxxEC4bfmipe7CQFaNGYp2iMFA517rBsA8wECzZ5aSGhO+QLhvNwgd2rtAeH0SYizLuUBZHBoQLeO3QAgju00+H7ZAa4CBybV8tEDHBPKeG/myQPnahZwmkrFA4FYn0LhFsEDMYPSpuCOuQLiuN7uA6atAfa/H7GzZqUCipAH3X/CnQFa0OX53K6ZARRb5tweIpEDpqJ5ilwOjQNZHSwncm6FAPmx2jrZOoEAVnOTvXzSeQNoOE+/s+JtAgnN3V7XnmUBD3uYomv2XQGrUu2+3N5ZA7IWs51+TlEDw8zDxGA6TQE8BX9OWpZFAG9eVRLlXkECv5HlpEEWOQOxefKhhCIxAJ7R7pgX2iUBFYdGp2wqIQFve/CX+Q4ZAvo8QXL6ehEBuQ9xNoBiDQBrXt/1Wr4FADlNE9cBggEBS08kbylV+QGwGKezeF3xAecMw3l0EekDH/8p9JBh4QBY9uqRLUHZAC92bGCOqdECludV7LSNzQD88ToscuXFA+R9Co81pcEDZz+wLjWZuQOMG0b5kJ2xAVFz1Ar4SakAix9+odCVoQIhss++fXGZADAHHII61ZECSPlR+wC1jQPdHHH/nwmFAzwJRUd9yYEAUE/4+WXdeQDv9LiXzNlxAzaMqGSYhWkASAR4vzDJYQNb6qQr7aFZA5HkMeP/AVEDpgJBYWThTQIO2Hdy3zFFAj0Y0AvZ7UEDppxu6LohOQGojACSKRkxAbyo0JZYvSkAgNZYUK0BIQHCJYflcdUZA1bHoIXfMREAN98QN+EJDQDXqT6WN1kFA9bywuBGFQEAkbWaCDZk+QKFRBMApVjxAhO13Kw4+OkCrKVtdkU04QCbOn7/FgTZAIwDaIfXXNED53y2hnE0zQDXssd1o4DFAc7+MdzKOMEAMFwKd9akuQPj//f3RZSxAlFheMI5MKkBc5YEN/1ooQH2ULGE1jiZAUapge3njJEA=",
          "dtype": "f8"
         },
         "y": {
          "bdata": "AAAAAAAAAAAAAAAAAAAAAAAAAAAAAAAAAAAAAAAAAAAAAAAAAAAAAAAAAAAAAAAAAAAAAAAAAAAAAAAAAAAAAAAAAAAAAAAAAAAAAAAAAAAAAAAAAAAAAAAAAAAAAAAAAAAAAAAAAAAAAAAAAAAAAAAAAAAAAAAAAAAAAAAAAAAAAAAAAAAAAAAAAAAAAAAAAAAAAAAAAAAAAAAAAAAAAAAAAAAAAAAAAAAAAAAAAAAAAAAAAAAAAAAAAAAAAAAAAAAAAAAAAAAAAAAAAAAAAAAAAAAAAAAAAAAAAAAAAAAAAAAAAAAAAAAAAAAAAAAAAAAAAAAAAAAAAAAAAAAAAAAAAAAAAAAAAAAAAAAAAAAAAAAAAAAAAAAAAAAAAAAAAAAAAAAAAAAAAAAAAAAAAAAAAAAAAAAAAAAAAAAAAAAAAAAAAAAAAAAAAAAAAAAAAAAAAAAAAAAAAAAAAAAAAAAAAAAAAAAAAAAAAAAAAAAAAAAAAAAAAAAAAAAAAAAAAAAAAAAAAAAAAAAAAAAAAAAAAAAAAAAAAAAAAAAAAAAAAAAAAAAAAAAAAAAAAAAAAAAAAAAAAAAAAAAAAAAAAAAAAAAAAAAAAAAAAAAAAAAAAAAAAAAAAAAAAAAAAAAAAAAAAAAAAAAAAAAAAAAAAAAAAAAAAAAAAAAAAAAAAAAAAAAAAAAAAAAAAAAAAAAAAAAAAAAAAAAAAAAAAAAAAAAAAAAAAAAAAAAAAAAAAAAAAAAAAAAAAAAAAAAAAAAAAAAAAAAAAAAAAAAAAAAAAAAAAAAAAAAAAAAAAAAAAAAAAAAAAAAAAAAAAAAAAAAAAAAAAAAAAAAAAAAAAAAAAAAAAAAAAAAAAAAAAAAAAAAAAAAAAAAAANVurFWXWCtAzGCcr1BtRkDs/mR4Jc1RQO+KvwaIi1ZAYF53PGrNXEDnShJHUR1hQCaTuTNzsmNAjTMgT6r3ZUCYsLz/SxBpQMEr7GUrqW1ABbxBAAnxcEANCq/xWudyQGQGVOXmuHRAu10JOJRldkDbDS2+8fN3QA17aewAaHlA+hoMq0xoekA=",
          "dtype": "f8"
         }
        },
        {
         "mode": "lines",
         "name": "departure_time_Late_Night",
         "type": "scatter",
         "x": {
          "bdata": "U2Z8oiRm1EDNDIVrNeTSQAHTEs/LftFA3s4GMMwz0EC+sbqkhQLOQCQaYtHBystA/1gAs/O8yUAR5ipwAdbHQCbUhtoLE8ZAvOvSGGpxxEC4bfmipe7CQFaNGYp2iMFA517rBsA8wECzZ5aSGhO+QLhvNwgd2rtAeH0SYizLuUBZHBoQLeO3QAgju00+H7ZAa4CBybV8tEDHBPKeG/myQPnahZwmkrFA4FYn0LhFsEDMYPSpuCOuQLiuN7uA6atAfa/H7GzZqUCipAH3X/CnQFa0OX53K6ZARRb5tweIpEDpqJ5ilwOjQNZHSwncm6FAPmx2jrZOoEAVnOTvXzSeQNoOE+/s+JtAgnN3V7XnmUBD3uYomv2XQGrUu2+3N5ZA7IWs51+TlEDw8zDxGA6TQE8BX9OWpZFAG9eVRLlXkECv5HlpEEWOQOxefKhhCIxAJ7R7pgX2iUBFYdGp2wqIQFve/CX+Q4ZAvo8QXL6ehEBuQ9xNoBiDQBrXt/1Wr4FADlNE9cBggEBS08kbylV+QGwGKezeF3xAecMw3l0EekDH/8p9JBh4QBY9uqRLUHZAC92bGCOqdECludV7LSNzQD88ToscuXFA+R9Co81pcEDZz+wLjWZuQOMG0b5kJ2xAVFz1Ar4SakAix9+odCVoQIhss++fXGZADAHHII61ZECSPlR+wC1jQPdHHH/nwmFAzwJRUd9yYEAUE/4+WXdeQDv9LiXzNlxAzaMqGSYhWkASAR4vzDJYQNb6qQr7aFZA5HkMeP/AVEDpgJBYWThTQIO2Hdy3zFFAj0Y0AvZ7UEDppxu6LohOQGojACSKRkxAbyo0JZYvSkAgNZYUK0BIQHCJYflcdUZA1bHoIXfMREAN98QN+EJDQDXqT6WN1kFA9bywuBGFQEAkbWaCDZk+QKFRBMApVjxAhO13Kw4+OkCrKVtdkU04QCbOn7/FgTZAIwDaIfXXNED53y2hnE0zQDXssd1o4DFAc7+MdzKOMEAMFwKd9akuQPj//f3RZSxAlFheMI5MKkBc5YEN/1ooQH2ULGE1jiZAUapge3njJEA=",
          "dtype": "f8"
         },
         "y": {
          "bdata": "AAAAAAAAAAAAAAAAAAAAAAAAAAAAAAAAAAAAAAAAAAAAAAAAAAAAAAAAAAAAAAAAAAAAAAAAAAAAAAAAAAAAAAAAAAAAAACAAAAAAAAAAIAAAAAAAAAAgAAAAAAAAACAAAAAAAAAAIAAAAAAAAAAgAAAAAAAAACAAAAAAAAAAIAAAAAAAAAAgAAAAAAAAACAAAAAAAAAAIAAAAAAAAAAgAAAAAAAAACAAAAAAAAAAIAAAAAAAAAAgAAAAAAAAACAAAAAAAAAAIAAAAAAAAAAgAAAAAAAAACAAAAAAAAAAIAAAAAAAAAAgAAAAAAAAACAAAAAAAAAAIAAAAAAAAAAgAAAAAAAAACAAAAAAAAAAIAAAAAAAAAAgAAAAAAAAACAAAAAAAAAAIAAAAAAAAAAgAAAAAAAAACAAAAAAAAAAIAAAAAAAAAAgAAAAAAAAACAAAAAAAAAAIAAAAAAAAAAgAAAAAAAAACAAAAAAAAAAIAAAAAAAAAAgAAAAAAAAACAAAAAAAAAAIAAAAAAAAAAgAAAAAAAAACAAAAAAAAAAAAAAAAAAAAAAAAAAAAAAAAAAAAAAAAAAAAAAAAAAAAAAAAAAAAAAAAAAAAAAAAAAAAAAAAAAAAAAAAAAAAAAAAAAAAAAAAAAAAAAAAAAAAAAAAAAAAAAAAAAAAAAAAAAAAAAAAAAAAAAAAAAAAAAAAAAAAAAAAAAAAAAAAAAAAAAAAAAAAAAAAAAAAAAAAAAAAAAAAAAAAAAAAAAAAAAAAAAAAAAAAAAAAAAAAAAAAAAAAAAAAAAAAAAAAAAAAAAAAAAAAAAAAAAAAAAAAAAAAAAAAAAAAAAAAAAAAAAAAAAAAAAAAAAAAAAAAAAAAAAAAAAAAAAAAAAAAAAAAAAAAAAAAAAAAAAAAAAAAAAAAAAAAAAAAAAAAAAAAAAAAAAAAAAAAAAAAAAAAAAAAAAAAAAAAAAAAAAAAAAAAAAAAAAAAAAAAAAAAAAAAAAAAAAAAAAAAAAAAAAAAAAAAAAAAAAAAAAAAAAAAAAAAAAAAAAAAAAAAAAAAAAAAAAAAAAAA=",
          "dtype": "f8"
         }
        },
        {
         "mode": "lines",
         "name": "departure_time_Morning",
         "type": "scatter",
         "x": {
          "bdata": "U2Z8oiRm1EDNDIVrNeTSQAHTEs/LftFA3s4GMMwz0EC+sbqkhQLOQCQaYtHBystA/1gAs/O8yUAR5ipwAdbHQCbUhtoLE8ZAvOvSGGpxxEC4bfmipe7CQFaNGYp2iMFA517rBsA8wECzZ5aSGhO+QLhvNwgd2rtAeH0SYizLuUBZHBoQLeO3QAgju00+H7ZAa4CBybV8tEDHBPKeG/myQPnahZwmkrFA4FYn0LhFsEDMYPSpuCOuQLiuN7uA6atAfa/H7GzZqUCipAH3X/CnQFa0OX53K6ZARRb5tweIpEDpqJ5ilwOjQNZHSwncm6FAPmx2jrZOoEAVnOTvXzSeQNoOE+/s+JtAgnN3V7XnmUBD3uYomv2XQGrUu2+3N5ZA7IWs51+TlEDw8zDxGA6TQE8BX9OWpZFAG9eVRLlXkECv5HlpEEWOQOxefKhhCIxAJ7R7pgX2iUBFYdGp2wqIQFve/CX+Q4ZAvo8QXL6ehEBuQ9xNoBiDQBrXt/1Wr4FADlNE9cBggEBS08kbylV+QGwGKezeF3xAecMw3l0EekDH/8p9JBh4QBY9uqRLUHZAC92bGCOqdECludV7LSNzQD88ToscuXFA+R9Co81pcEDZz+wLjWZuQOMG0b5kJ2xAVFz1Ar4SakAix9+odCVoQIhss++fXGZADAHHII61ZECSPlR+wC1jQPdHHH/nwmFAzwJRUd9yYEAUE/4+WXdeQDv9LiXzNlxAzaMqGSYhWkASAR4vzDJYQNb6qQr7aFZA5HkMeP/AVEDpgJBYWThTQIO2Hdy3zFFAj0Y0AvZ7UEDppxu6LohOQGojACSKRkxAbyo0JZYvSkAgNZYUK0BIQHCJYflcdUZA1bHoIXfMREAN98QN+EJDQDXqT6WN1kFA9bywuBGFQEAkbWaCDZk+QKFRBMApVjxAhO13Kw4+OkCrKVtdkU04QCbOn7/FgTZAIwDaIfXXNED53y2hnE0zQDXssd1o4DFAc7+MdzKOMEAMFwKd9akuQPj//f3RZSxAlFheMI5MKkBc5YEN/1ooQH2ULGE1jiZAUapge3njJEA=",
          "dtype": "f8"
         },
         "y": {
          "bdata": "AAAAAAAAAAAAAAAAAAAAAAAAAAAAAAAAAAAAAAAAAAAAAAAAAAAAAAAAAAAAAAAAAAAAAAAAAAAAAAAAAAAAAAAAAAAAAAAAAAAAAAAAAAAAAAAAAAAAAAAAAAAAAAAAAAAAAAAAAAAAAAAAAAAAAAAAAAAAAAAAAAAAAAAAAAAAAAAAAAAAAAAAAAAAAAAAAAAAAAAAAAAAAAAAAAAAAAAAAAAAAAAAAAAAAAAAAAAAAAAAAAAAAAAAAAAAAAAAAAAAAAAAAAAAAAAAAAAAAAAAAAAAAAAAAAAAAAAAAAAAAAAAAAAAAAAAAAAAAAAAAAAAAAAAAAAAAAAAAAAAAAAAAAAAAAAAAAAAAAAAAAAAAAAAAAAAAAAAAAAAAAAAAAAAAAAAAAAAAAAAAAAAAAAAAAAAAAAAAAAAAAAAAAAAAAAAAAAAAAAAAAAAAAAAAAAAAAAAAAAAAAAAAAAAAAAAAAAAAAAAAAAAAAAAAAAAAAAAAAAAAAAAAAAAAAAAAAAAAAAAAAAAAAAAAAAAAAAAAAAAAAAAAAAAAAAAAAAAAAAAAAAAAAAAAAAAAAAAAAAAAAAAAAAAAAAAAAAAAAAAAAAAAAAAAAAAAAAAAAAAAAAAAAAAAAAAAAAAAAAAAAAAAAAAAAAAAAAAAAAAAAAAAAAAAAAAAAAAAAAAAAAAAAAAAAAAAAAAAAAAAAAAAAAAAAAAAAAAAAAAAAAAAAAAAAAAAAAAAAAAAAAAAAAAAAAAAAAAAMtbiVZ2OCFAlE9/tJnDP0Dp4KKJEN1JQIwp70wNblFAIeVOQRmXVUAiP5vuvnJZQHT+yD4aBF1A4/3HFQIfYECXolZh9tJhQENnhlfl4WNAAP7Eb6bIZUD1+c6WQ4pnQDcvBNVx2GlA+9yZQSvvbEAgq/4lyYlvQHbz7so3n3BAAHkqj1O+cUBcxTf80bFyQKrCv2IVpHNAwAM1kA+SdECDeBazJRx2QPHf/f5SVnhAjs5oZqthekDb3GAmRUh8QGmAjKVHC35ASeo7H1Sqf0DkW81UupWAQHJvEphjR4FALQ/2S7q6gUA=",
          "dtype": "f8"
         }
        },
        {
         "mode": "lines",
         "name": "departure_time_Night",
         "type": "scatter",
         "x": {
          "bdata": "U2Z8oiRm1EDNDIVrNeTSQAHTEs/LftFA3s4GMMwz0EC+sbqkhQLOQCQaYtHBystA/1gAs/O8yUAR5ipwAdbHQCbUhtoLE8ZAvOvSGGpxxEC4bfmipe7CQFaNGYp2iMFA517rBsA8wECzZ5aSGhO+QLhvNwgd2rtAeH0SYizLuUBZHBoQLeO3QAgju00+H7ZAa4CBybV8tEDHBPKeG/myQPnahZwmkrFA4FYn0LhFsEDMYPSpuCOuQLiuN7uA6atAfa/H7GzZqUCipAH3X/CnQFa0OX53K6ZARRb5tweIpEDpqJ5ilwOjQNZHSwncm6FAPmx2jrZOoEAVnOTvXzSeQNoOE+/s+JtAgnN3V7XnmUBD3uYomv2XQGrUu2+3N5ZA7IWs51+TlEDw8zDxGA6TQE8BX9OWpZFAG9eVRLlXkECv5HlpEEWOQOxefKhhCIxAJ7R7pgX2iUBFYdGp2wqIQFve/CX+Q4ZAvo8QXL6ehEBuQ9xNoBiDQBrXt/1Wr4FADlNE9cBggEBS08kbylV+QGwGKezeF3xAecMw3l0EekDH/8p9JBh4QBY9uqRLUHZAC92bGCOqdECludV7LSNzQD88ToscuXFA+R9Co81pcEDZz+wLjWZuQOMG0b5kJ2xAVFz1Ar4SakAix9+odCVoQIhss++fXGZADAHHII61ZECSPlR+wC1jQPdHHH/nwmFAzwJRUd9yYEAUE/4+WXdeQDv9LiXzNlxAzaMqGSYhWkASAR4vzDJYQNb6qQr7aFZA5HkMeP/AVEDpgJBYWThTQIO2Hdy3zFFAj0Y0AvZ7UEDppxu6LohOQGojACSKRkxAbyo0JZYvSkAgNZYUK0BIQHCJYflcdUZA1bHoIXfMREAN98QN+EJDQDXqT6WN1kFA9bywuBGFQEAkbWaCDZk+QKFRBMApVjxAhO13Kw4+OkCrKVtdkU04QCbOn7/FgTZAIwDaIfXXNED53y2hnE0zQDXssd1o4DFAc7+MdzKOMEAMFwKd9akuQPj//f3RZSxAlFheMI5MKkBc5YEN/1ooQH2ULGE1jiZAUapge3njJEA=",
          "dtype": "f8"
         },
         "y": {
          "bdata": "AAAAAAAAAAAAAAAAAAAAAAAAAAAAAAAAAAAAAAAAAAAAAAAAAAAAAAAAAAAAAAAAAAAAAAAAAAAAAAAAAAAAAAAAAAAAAAAAAAAAAAAAAAAAAAAAAAAAAAAAAAAAAAAAAAAAAAAAAAAAAAAAAAAAAAAAAAAAAAAAAAAAAAAAAAAAAAAAAAAAAAAAAAAAAAAAAAAAAAAAAAAAAAAAAAAAAAAAAAAAAAAAAAAAAAAAAAAAAAAAAAAAAAAAAAAAAAAAAAAAAAAAAAAAAAAAAAAAAAAAAAAAAAAAAAAAAAAAAAAAAAAAAAAAAAAAAAAAAAAAAAAAAAAAAAAAAAAAAAAAAAAAAAAAAAAAAAAAAAAAAAAAAAAAAAAAAAAAAAAAAAAAAAAAAAAAAAAAAAAAAAAAAAAAAAAAAAAAAAAAAAAAAAAAAAAAAAAAAAAAAAAAAAAAAAAAAAAAAAAAAAAAAAAAAAAAAAAAAAAAAAAAAAAAAAAAAAAAAAAAAAAAAAAAAAAAAAAAAAAAAAAAAAAAAAAAAAAAAAAAAAAAAAAAAAAAAAAAAAAAAAAAAAAAAAAAAAAAAAAAAAAAAAAAAAAAAAAAAAAAAAAAAACAAAAAAAAAAIAAAAAAAAAAgAAAAAAAAACAAAAAAAAAAIAAAAAAAAAAgAAAAAAAAACAAAAAAAAAAIAAAAAAAAAAgAAAAAAAAACAAAAAAAAAAIAAAAAAAAAAgAAAAAAAAACAAAAAAAAAAIAAAAAAAAAAgAAAAAAAAACAAAAAAAAAAIAAAAAAAAAAgAAAAAAAAACAAAAAAAAAAIAAAAAAAAAAgAAAAAAAAACAAAAAAAAAAIAAAAAAAAAAgAAAAAAAAACAAAAAAAAAAIAAAAAAAAAAgAAAAAAAAAAAAAAAAAAAAAAAAAAAAAAAAAAAAAAAAAAAAAAAAAAAAAAAAAAAAAAAAAAAAAAAAAAAAAAAAAAAAABZxZWA8NEyQD9C/IH0qk9Ahmom9kAPWkDsoR07D8hhQHz1MOFqL2ZAqj8ow6Y9akAYsCGP5QBuQFGHbiL0wXBAnOfzgVX3cUA=",
          "dtype": "f8"
         }
        },
        {
         "mode": "lines",
         "name": "stops_two_or_more",
         "type": "scatter",
         "x": {
          "bdata": "U2Z8oiRm1EDNDIVrNeTSQAHTEs/LftFA3s4GMMwz0EC+sbqkhQLOQCQaYtHBystA/1gAs/O8yUAR5ipwAdbHQCbUhtoLE8ZAvOvSGGpxxEC4bfmipe7CQFaNGYp2iMFA517rBsA8wECzZ5aSGhO+QLhvNwgd2rtAeH0SYizLuUBZHBoQLeO3QAgju00+H7ZAa4CBybV8tEDHBPKeG/myQPnahZwmkrFA4FYn0LhFsEDMYPSpuCOuQLiuN7uA6atAfa/H7GzZqUCipAH3X/CnQFa0OX53K6ZARRb5tweIpEDpqJ5ilwOjQNZHSwncm6FAPmx2jrZOoEAVnOTvXzSeQNoOE+/s+JtAgnN3V7XnmUBD3uYomv2XQGrUu2+3N5ZA7IWs51+TlEDw8zDxGA6TQE8BX9OWpZFAG9eVRLlXkECv5HlpEEWOQOxefKhhCIxAJ7R7pgX2iUBFYdGp2wqIQFve/CX+Q4ZAvo8QXL6ehEBuQ9xNoBiDQBrXt/1Wr4FADlNE9cBggEBS08kbylV+QGwGKezeF3xAecMw3l0EekDH/8p9JBh4QBY9uqRLUHZAC92bGCOqdECludV7LSNzQD88ToscuXFA+R9Co81pcEDZz+wLjWZuQOMG0b5kJ2xAVFz1Ar4SakAix9+odCVoQIhss++fXGZADAHHII61ZECSPlR+wC1jQPdHHH/nwmFAzwJRUd9yYEAUE/4+WXdeQDv9LiXzNlxAzaMqGSYhWkASAR4vzDJYQNb6qQr7aFZA5HkMeP/AVEDpgJBYWThTQIO2Hdy3zFFAj0Y0AvZ7UEDppxu6LohOQGojACSKRkxAbyo0JZYvSkAgNZYUK0BIQHCJYflcdUZA1bHoIXfMREAN98QN+EJDQDXqT6WN1kFA9bywuBGFQEAkbWaCDZk+QKFRBMApVjxAhO13Kw4+OkCrKVtdkU04QCbOn7/FgTZAIwDaIfXXNED53y2hnE0zQDXssd1o4DFAc7+MdzKOMEAMFwKd9akuQPj//f3RZSxAlFheMI5MKkBc5YEN/1ooQH2ULGE1jiZAUapge3njJEA=",
          "dtype": "f8"
         },
         "y": {
          "bdata": "AAAAAAAAAAAAAAAAAAAAAAAAAAAAAAAAAAAAAAAAAAAAAAAAAAAAAAAAAAAAAAAAAAAAAAAAAAAAAAAAAAAAAAAAAAAAAAAAAAAAAAAAAAAAAAAAAAAAAAAAAAAAAAAAAAAAAAAAAAAAAAAAAAAAAAAAAAAAAAAAAAAAAAAAAIAAAAAAAAAAgAAAAAAAAACAAAAAAAAAAIAAAAAAAAAAgAAAAAAAAACAAAAAAAAAAIAAAAAAAAAAAAAAAAAAAAAAAAAAAAAAAAAAAAAAAAAAAAAAAAAAAAAAAAAAAAAAAAAAAAAAAAAAAAAAAAAAAAAAAAAAAAAAAAAAAAAAAAAAAAAAAAAAAAAAAAAAAAAAAAAAAAAAAAAAAAAAAAAAAAAAAAAAAAAAAAAAAAAAAAAAAAAAAAAAAAAAAAAAAAAAAAAAAAAAAAAAAAAAAAAAAAAAAAAAAAAAAAAAAAAAAAAAAAAAAAAAAAAAAAAAAAAAAAAAAAAAAAAAAAAAAAAAAAAAAAAAAAAAAAAAAAAAAAAAAAAAAAAAAAAAAAAAAAAAAAAAAAAAAAAAAAAAAAAAAAAAAAAAAAAAAAAAAAAAAAAAAAAAAAAAAAAAAAAAAAAAAAAAAAAAAAAAAAAAAAAAAAAAAAAAAAAAAAAAAAAAAAAAAAAAAAAAAAAAAAAAAAAAAAAAAAAAAAAAAAAAAAAAAAAAAAAAAAAAAAAAAAAAAAAAAAAAAAAAAAAAAAAAAAAAAAAAAAAAAAAAAAAAAAAAAAAAAAAAAAAAAACZv74L5WBZQAtvKmQC4WxAb4krMO3wdUDHjVtwNuJ8QKw+L3CsqIFAqDDrHriihEBEJzoYJ16HQA0jpYYE3YlAFCVnQQgtjEBF0xUeV1GOQODZMnp3K5BAIpGvD3EbkUBZQsPWf/iRQJY2rQtC1ZJAoulcoGDjk0D+tdXFZcqUQEf61YVsopVAPmAdwdtnlkCHtxiMZCKXQC/l7MTc2JdA2Ft8KoiBmEAG3M24yx2ZQJZ3nzOGrplA+R5HcXg0mkDnNscFjLCaQL6B9eF4JJtAEtKJ51mGm0A=",
          "dtype": "f8"
         }
        },
        {
         "mode": "lines",
         "name": "stops_zero",
         "type": "scatter",
         "x": {
          "bdata": "U2Z8oiRm1EDNDIVrNeTSQAHTEs/LftFA3s4GMMwz0EC+sbqkhQLOQCQaYtHBystA/1gAs/O8yUAR5ipwAdbHQCbUhtoLE8ZAvOvSGGpxxEC4bfmipe7CQFaNGYp2iMFA517rBsA8wECzZ5aSGhO+QLhvNwgd2rtAeH0SYizLuUBZHBoQLeO3QAgju00+H7ZAa4CBybV8tEDHBPKeG/myQPnahZwmkrFA4FYn0LhFsEDMYPSpuCOuQLiuN7uA6atAfa/H7GzZqUCipAH3X/CnQFa0OX53K6ZARRb5tweIpEDpqJ5ilwOjQNZHSwncm6FAPmx2jrZOoEAVnOTvXzSeQNoOE+/s+JtAgnN3V7XnmUBD3uYomv2XQGrUu2+3N5ZA7IWs51+TlEDw8zDxGA6TQE8BX9OWpZFAG9eVRLlXkECv5HlpEEWOQOxefKhhCIxAJ7R7pgX2iUBFYdGp2wqIQFve/CX+Q4ZAvo8QXL6ehEBuQ9xNoBiDQBrXt/1Wr4FADlNE9cBggEBS08kbylV+QGwGKezeF3xAecMw3l0EekDH/8p9JBh4QBY9uqRLUHZAC92bGCOqdECludV7LSNzQD88ToscuXFA+R9Co81pcEDZz+wLjWZuQOMG0b5kJ2xAVFz1Ar4SakAix9+odCVoQIhss++fXGZADAHHII61ZECSPlR+wC1jQPdHHH/nwmFAzwJRUd9yYEAUE/4+WXdeQDv9LiXzNlxAzaMqGSYhWkASAR4vzDJYQNb6qQr7aFZA5HkMeP/AVEDpgJBYWThTQIO2Hdy3zFFAj0Y0AvZ7UEDppxu6LohOQGojACSKRkxAbyo0JZYvSkAgNZYUK0BIQHCJYflcdUZA1bHoIXfMREAN98QN+EJDQDXqT6WN1kFA9bywuBGFQEAkbWaCDZk+QKFRBMApVjxAhO13Kw4+OkCrKVtdkU04QCbOn7/FgTZAIwDaIfXXNED53y2hnE0zQDXssd1o4DFAc7+MdzKOMEAMFwKd9akuQPj//f3RZSxAlFheMI5MKkBc5YEN/1ooQH2ULGE1jiZAUapge3njJEA=",
          "dtype": "f8"
         },
         "y": {
          "bdata": "AAAAAAAAAAAAAAAAAAAAAAAAAAAAAAAAAAAAAAAAAAAAAAAAAAAAAAAAAAAAAAAAAAAAAAAAAAAAAAAAAAAAAAAAAAAAAACAAAAAAAAAAIAAAAAAAAAAgAAAAAAAAACAAAAAAAAAAIAAAAAAAAAAgAAAAAAAAACAAAAAAAAAAIAAAAAAAAAAgAAAAAAAAACAAAAAAAAAAIAAAAAAAAAAgAAAAAAAAACAAAAAAAAAAIAAAAAAAAAAgAAAAAAAAACAAAAAAAAAAIAAAAAAAAAAgAAAAAAAAACAAAAAAAAAAIAAAAAAAAAAgAAAAAAAAACAAAAAAAAAAIAAAAAAAAAAgAAAAAAAAACAAAAAAAAAAIAAAAAAAAAAgAAAAAAAAACAAAAAAAAAAIAAAAAAAAAAgAAAAAAAAACAAAAAAAAAAIAAAAAAAAAAgAAAAAAAAACAAAAAAAAAAIAAAAAAAAAAgAAAAAAAAACAAAAAAAAAAIAoFkTnjKJ3wCMcTzjyUY3A2A3i4irElsBP4FvZAUaewH8m4oPonKLAT0aSxp3UpcD2yBjz3c+owCiiKPi4kqvAuigw31YhrsBjJGNmlT+wwMTfJVXgU7HAH1ORji1RssCMHmHDzzuzwL6RxLUbFbTAqckQxCXetMBPoFn1gpi1wO/tBMVSQrbAqf/6i4vetsAf2aCY1We3wEhJVEfn5rfArx8TtChcuMCJ2Dk6FsW4wMAe8V/WI7nA9U9bAq55ucDtAjiCN8S5wG77oltzCLrAr+yNdIpFusC/Ga2JEXy6wPPvzcS9rbrAv8nVlNHbusARxifiawa7wLiTFMLxLbvATNpdcnVSu8DcD3IoY3O7wMkAy8j6kLvAcHXQkHKsu8BDZgLn7cW7wFS36xNf3rvApCVQQVL2u8DkIOss5Ay8wOpwiCLHKLzAXRCEVVtAvMB+l4eRdFe8wDQJBonZbbzAFVU+pGKCvMD0DIVdPZa8wCXtiSaIq7zAxp5WI0O/vMB6JFuhiNG8wEJSzWt04rzAbNd0iSDyvMBwsxAPpgC9wFSNeAn5Db3APlIO+3UavcA=",
          "dtype": "f8"
         }
        },
        {
         "mode": "lines",
         "name": "arrival_time_Early_Morning",
         "type": "scatter",
         "x": {
          "bdata": "U2Z8oiRm1EDNDIVrNeTSQAHTEs/LftFA3s4GMMwz0EC+sbqkhQLOQCQaYtHBystA/1gAs/O8yUAR5ipwAdbHQCbUhtoLE8ZAvOvSGGpxxEC4bfmipe7CQFaNGYp2iMFA517rBsA8wECzZ5aSGhO+QLhvNwgd2rtAeH0SYizLuUBZHBoQLeO3QAgju00+H7ZAa4CBybV8tEDHBPKeG/myQPnahZwmkrFA4FYn0LhFsEDMYPSpuCOuQLiuN7uA6atAfa/H7GzZqUCipAH3X/CnQFa0OX53K6ZARRb5tweIpEDpqJ5ilwOjQNZHSwncm6FAPmx2jrZOoEAVnOTvXzSeQNoOE+/s+JtAgnN3V7XnmUBD3uYomv2XQGrUu2+3N5ZA7IWs51+TlEDw8zDxGA6TQE8BX9OWpZFAG9eVRLlXkECv5HlpEEWOQOxefKhhCIxAJ7R7pgX2iUBFYdGp2wqIQFve/CX+Q4ZAvo8QXL6ehEBuQ9xNoBiDQBrXt/1Wr4FADlNE9cBggEBS08kbylV+QGwGKezeF3xAecMw3l0EekDH/8p9JBh4QBY9uqRLUHZAC92bGCOqdECludV7LSNzQD88ToscuXFA+R9Co81pcEDZz+wLjWZuQOMG0b5kJ2xAVFz1Ar4SakAix9+odCVoQIhss++fXGZADAHHII61ZECSPlR+wC1jQPdHHH/nwmFAzwJRUd9yYEAUE/4+WXdeQDv9LiXzNlxAzaMqGSYhWkASAR4vzDJYQNb6qQr7aFZA5HkMeP/AVEDpgJBYWThTQIO2Hdy3zFFAj0Y0AvZ7UEDppxu6LohOQGojACSKRkxAbyo0JZYvSkAgNZYUK0BIQHCJYflcdUZA1bHoIXfMREAN98QN+EJDQDXqT6WN1kFA9bywuBGFQEAkbWaCDZk+QKFRBMApVjxAhO13Kw4+OkCrKVtdkU04QCbOn7/FgTZAIwDaIfXXNED53y2hnE0zQDXssd1o4DFAc7+MdzKOMEAMFwKd9akuQPj//f3RZSxAlFheMI5MKkBc5YEN/1ooQH2ULGE1jiZAUapge3njJEA=",
          "dtype": "f8"
         },
         "y": {
          "bdata": "AAAAAAAAAAAAAAAAAAAAAAAAAAAAAAAAAAAAAAAAAAAAAAAAAAAAAAAAAAAAAAAAAAAAAAAAAAAAAAAAAAAAAAAAAAAAAAAAAAAAAAAAAAAAAAAAAAAAAAAAAAAAAAAAAAAAAAAAAAAAAAAAAAAAAAAAAAAAAAAAAAAAAAAAAAAAAAAAAAAAAAAAAAAAAAAAAAAAAAAAAAAAAAAAAAAAgAAAAAAAAACAAAAAAAAAAIAAAAAAAAAAgAAAAAAAAACAAAAAAAAAAIAAAAAAAAAAgAAAAAAAAACAAAAAAAAAAIAAAAAAAAAAgAAAAAAAAACAAAAAAAAAAIAAAAAAAAAAgAAAAAAAAACAAAAAAAAAAIAAAAAAAAAAgAAAAAAAAACAAAAAAAAAAIAAAAAAAAAAgAAAAAAAAACAAAAAAAAAAIAAAAAAAAAAgAAAAAAAAACAAAAAAAAAAIAAAAAAAAAAgAAAAAAAAACAAAAAAAAAAIAAAAAAAAAAgAAAAAAAAACAAAAAAAAAAIAAAAAAAAAAgAAAAAAAAACAAAAAAAAAAIAAAAAAAAAAgAAAAAAAAACAAAAAAAAAAIAAAAAAAAAAgAAAAAAAAACAAAAAAAAAAIAAAAAAAAAAgAAAAAAAAACAAAAAAAAAAIAAAAAAAAAAgAAAAAAAAACAAAAAAAAAAIAAAAAAAAAAgAAAAAAAAACAAAAAAAAAAIAAAAAAAAAAgAAAAAAAAACAAAAAAAAAAIAAAAAAAAAAgAAAAAAAAACAAAAAAAAAAIAAAAAAAAAAgAAAAAAAAACAAAAAAAAAAIAAAAAAAAAAgAAAAAAAAACAqemx7TFjM8A0b61vGeNXwO8Ms4Ebr2TAh6gt5fXLbMC5lFWIoihywEin+zSin3XAKwcszVTJeMBRHb65RtN7wLFawCFkJH/Az12D+GThgMB2kC+g8yGCwJZDXImXDIPA8ss7rAarg8A3vWEzd9mDwBn5mFSwEYTAMxKP16NJhMBjYSZDc3uEwDMEi0o0qYTAyvhgd0fWhMDlzCvQyP6EwLpzuzt4GoXAkDwQfsuDhcA=",
          "dtype": "f8"
         }
        },
        {
         "mode": "lines",
         "name": "arrival_time_Evening",
         "type": "scatter",
         "x": {
          "bdata": "U2Z8oiRm1EDNDIVrNeTSQAHTEs/LftFA3s4GMMwz0EC+sbqkhQLOQCQaYtHBystA/1gAs/O8yUAR5ipwAdbHQCbUhtoLE8ZAvOvSGGpxxEC4bfmipe7CQFaNGYp2iMFA517rBsA8wECzZ5aSGhO+QLhvNwgd2rtAeH0SYizLuUBZHBoQLeO3QAgju00+H7ZAa4CBybV8tEDHBPKeG/myQPnahZwmkrFA4FYn0LhFsEDMYPSpuCOuQLiuN7uA6atAfa/H7GzZqUCipAH3X/CnQFa0OX53K6ZARRb5tweIpEDpqJ5ilwOjQNZHSwncm6FAPmx2jrZOoEAVnOTvXzSeQNoOE+/s+JtAgnN3V7XnmUBD3uYomv2XQGrUu2+3N5ZA7IWs51+TlEDw8zDxGA6TQE8BX9OWpZFAG9eVRLlXkECv5HlpEEWOQOxefKhhCIxAJ7R7pgX2iUBFYdGp2wqIQFve/CX+Q4ZAvo8QXL6ehEBuQ9xNoBiDQBrXt/1Wr4FADlNE9cBggEBS08kbylV+QGwGKezeF3xAecMw3l0EekDH/8p9JBh4QBY9uqRLUHZAC92bGCOqdECludV7LSNzQD88ToscuXFA+R9Co81pcEDZz+wLjWZuQOMG0b5kJ2xAVFz1Ar4SakAix9+odCVoQIhss++fXGZADAHHII61ZECSPlR+wC1jQPdHHH/nwmFAzwJRUd9yYEAUE/4+WXdeQDv9LiXzNlxAzaMqGSYhWkASAR4vzDJYQNb6qQr7aFZA5HkMeP/AVEDpgJBYWThTQIO2Hdy3zFFAj0Y0AvZ7UEDppxu6LohOQGojACSKRkxAbyo0JZYvSkAgNZYUK0BIQHCJYflcdUZA1bHoIXfMREAN98QN+EJDQDXqT6WN1kFA9bywuBGFQEAkbWaCDZk+QKFRBMApVjxAhO13Kw4+OkCrKVtdkU04QCbOn7/FgTZAIwDaIfXXNED53y2hnE0zQDXssd1o4DFAc7+MdzKOMEAMFwKd9akuQPj//f3RZSxAlFheMI5MKkBc5YEN/1ooQH2ULGE1jiZAUapge3njJEA=",
          "dtype": "f8"
         },
         "y": {
          "bdata": "AAAAAAAAAAAAAAAAAAAAAAAAAAAAAAAAAAAAAAAAAAAAAAAAAAAAAAAAAAAAAAAAAAAAAAAAAAAAAAAAAAAAAAAAAAAAAAAAAAAAAAAAAAAAAAAAAAAAAAAAAAAAAAAAAAAAAAAAAAAAAAAAAAAAAAAAAAAAAAAAAAAAAAAAAAAAAAAAAAAAAAAAAAAAAAAAAAAAAAAAAAAAAAAAAAAAAAAAAAAAAAAAAAAAAAAAAAAAAAAAAAAAAAAAAAAAAAAAAAAAAAAAAAAAAAAAAAAAAAAAAAAAAAAAAAAAAAAAAAAAAAAAAAAAAAAAAAAAAAAAAAAAAAAAAAAAAAAAAAAAAAAAAAAAAAAAAAAAAAAAAAAAAAAAAAAAAAAAAAAAAAAAAAAAAAAAAAAAAAAAAAAAAAAAAAAAAAAAAAAAAAAAAAAAAAAAAAAAAAAAAAAAAAAAAAAAAAAAAAAAAAAAAAAAAAAAAAAAAAAAAAAAAAAAAAAAAAAAAAAAAAAAAAAAAAAAAAAAAAAAAAAAAAAAAAAAAAAAAAAAAAAAAAAAAAAAAAAAAAAAAAAAAAAAAAAAAAAAAAAAAAAAAAAAAAAAAAAAAAAAAAAAAAAAAAAAAAAAAAAAAAAAAAAAAAAAAAAAAAAAAAAAAAAAAAAAAAAAAAAAAAAAAAAAAAAAuhuAO/2NzD801n55to5LQG3OAUGx+lpAqmS+CX2YY0CjsRt1B0VpQFDfFTadHW5AlZdJrnFYcUAbp8eUR2lzQDk3umLsOnVAbBco30fQdkAZwoArSDN4QCu7Z6vUd3lAUzYAIFyiekBx+OLCtLh7QM6bFgefuHxA/DJR0o+EfUBiYzsal9J9QBArpmTCEX5A/iRFNKNKfkAnyMU5nX5+QJyX0H3Du35A+Zpnr0D+fkCyXzrf5TJ/QFxs28/oCn9Am5C/CXYrf0A4maM5xkB/QBsRATVyzX9AiKvvXfNfgEB3vUYV1zyBQLDCz8NvFoJAiZAn9DjcgkCw4G7tUpWDQM1j8TQbQYRAl9lwsZbdhEBVl1i4qG+FQH5O06Vy/oVAhgKIJWcyhkA=",
          "dtype": "f8"
         }
        },
        {
         "mode": "lines",
         "name": "arrival_time_Late_Night",
         "type": "scatter",
         "x": {
          "bdata": "U2Z8oiRm1EDNDIVrNeTSQAHTEs/LftFA3s4GMMwz0EC+sbqkhQLOQCQaYtHBystA/1gAs/O8yUAR5ipwAdbHQCbUhtoLE8ZAvOvSGGpxxEC4bfmipe7CQFaNGYp2iMFA517rBsA8wECzZ5aSGhO+QLhvNwgd2rtAeH0SYizLuUBZHBoQLeO3QAgju00+H7ZAa4CBybV8tEDHBPKeG/myQPnahZwmkrFA4FYn0LhFsEDMYPSpuCOuQLiuN7uA6atAfa/H7GzZqUCipAH3X/CnQFa0OX53K6ZARRb5tweIpEDpqJ5ilwOjQNZHSwncm6FAPmx2jrZOoEAVnOTvXzSeQNoOE+/s+JtAgnN3V7XnmUBD3uYomv2XQGrUu2+3N5ZA7IWs51+TlEDw8zDxGA6TQE8BX9OWpZFAG9eVRLlXkECv5HlpEEWOQOxefKhhCIxAJ7R7pgX2iUBFYdGp2wqIQFve/CX+Q4ZAvo8QXL6ehEBuQ9xNoBiDQBrXt/1Wr4FADlNE9cBggEBS08kbylV+QGwGKezeF3xAecMw3l0EekDH/8p9JBh4QBY9uqRLUHZAC92bGCOqdECludV7LSNzQD88ToscuXFA+R9Co81pcEDZz+wLjWZuQOMG0b5kJ2xAVFz1Ar4SakAix9+odCVoQIhss++fXGZADAHHII61ZECSPlR+wC1jQPdHHH/nwmFAzwJRUd9yYEAUE/4+WXdeQDv9LiXzNlxAzaMqGSYhWkASAR4vzDJYQNb6qQr7aFZA5HkMeP/AVEDpgJBYWThTQIO2Hdy3zFFAj0Y0AvZ7UEDppxu6LohOQGojACSKRkxAbyo0JZYvSkAgNZYUK0BIQHCJYflcdUZA1bHoIXfMREAN98QN+EJDQDXqT6WN1kFA9bywuBGFQEAkbWaCDZk+QKFRBMApVjxAhO13Kw4+OkCrKVtdkU04QCbOn7/FgTZAIwDaIfXXNED53y2hnE0zQDXssd1o4DFAc7+MdzKOMEAMFwKd9akuQPj//f3RZSxAlFheMI5MKkBc5YEN/1ooQH2ULGE1jiZAUapge3njJEA=",
          "dtype": "f8"
         },
         "y": {
          "bdata": "AAAAAAAAAAAAAAAAAAAAAAAAAAAAAAAAAAAAAAAAAAAAAAAAAAAAAAAAAAAAAAAAAAAAAAAAAAAAAAAAAAAAAAAAAAAAAAAAAAAAAAAAAAAAAAAAAAAAAAAAAAAAAACAAAAAAAAAAIAAAAAAAAAAgAAAAAAAAACAAAAAAAAAAIAAAAAAAAAAgAAAAAAAAACAAAAAAAAAAIAAAAAAAAAAgAAAAAAAAACAAAAAAAAAAIAAAAAAAAAAgAAAAAAAAACAAAAAAAAAAIAAAAAAAAAAgAAAAAAAAACAAAAAAAAAAIAAAAAAAAAAgAAAAAAAAACAAAAAAAAAAIAAAAAAAAAAgAAAAAAAAACAAAAAAAAAAIAAAAAAAAAAgAAAAAAAAACAAAAAAAAAAIAAAAAAAAAAgAAAAAAAAACAAAAAAAAAAIAAAAAAAAAAgAAAAAAAAACAAAAAAAAAAIAAAAAAAAAAgAAAAAAAAACAAAAAAAAAAIAAAAAAAAAAgAAAAAAAAACAAAAAAAAAAIAAAAAAAAAAgAAAAAAAAACAAAAAAAAAAIAAAAAAAAAAgAAAAAAAAACAAAAAAAAAAIAAAAAAAAAAgAAAAAAAAAAAAAAAAAAAAAAAAAAAAAAAAAAAAAAAAAAAAAAAAAAAAAAAAAAAAAAAAAAAAAAAAAAAAAAAAAAAAAAAAAAAAAAAAAAAAAAAAAAAAAAAAAAAAAAAAAAAAAAAAAAAAAAAAAAAAAAAAAAAAAAAAAAAAAAAAAAAAAAAAAAAAAAAAAAAAAAAAAAAAAAAAAAAAAAAAAAAAAAAAAAAAAAAAAAAAAAAAAAAAAAAAAAAAAAAAAAAAAAAAAAAAAAAAAAAAAAAAAAAAAAAAAAAAAAAAAAAAAAAAAAAAAAAAAAAAAAAAAAAAAAAAAAAAAAAAAAAAAAAAAAAAAAAAAAAAAAAAAAAAAAAAAAAAAAAAAAAKgI6z5yFNkCZBQhVz2ZXQNeY5p//5WNANDFejmVqa0CUyyJe/DRxQIj6BWN1c3RAdKmQRTlud0AbHJObgzN6QO1Vl1M1znxAlnYDUelSfkA=",
          "dtype": "f8"
         }
        },
        {
         "mode": "lines",
         "name": "arrival_time_Morning",
         "type": "scatter",
         "x": {
          "bdata": "U2Z8oiRm1EDNDIVrNeTSQAHTEs/LftFA3s4GMMwz0EC+sbqkhQLOQCQaYtHBystA/1gAs/O8yUAR5ipwAdbHQCbUhtoLE8ZAvOvSGGpxxEC4bfmipe7CQFaNGYp2iMFA517rBsA8wECzZ5aSGhO+QLhvNwgd2rtAeH0SYizLuUBZHBoQLeO3QAgju00+H7ZAa4CBybV8tEDHBPKeG/myQPnahZwmkrFA4FYn0LhFsEDMYPSpuCOuQLiuN7uA6atAfa/H7GzZqUCipAH3X/CnQFa0OX53K6ZARRb5tweIpEDpqJ5ilwOjQNZHSwncm6FAPmx2jrZOoEAVnOTvXzSeQNoOE+/s+JtAgnN3V7XnmUBD3uYomv2XQGrUu2+3N5ZA7IWs51+TlEDw8zDxGA6TQE8BX9OWpZFAG9eVRLlXkECv5HlpEEWOQOxefKhhCIxAJ7R7pgX2iUBFYdGp2wqIQFve/CX+Q4ZAvo8QXL6ehEBuQ9xNoBiDQBrXt/1Wr4FADlNE9cBggEBS08kbylV+QGwGKezeF3xAecMw3l0EekDH/8p9JBh4QBY9uqRLUHZAC92bGCOqdECludV7LSNzQD88ToscuXFA+R9Co81pcEDZz+wLjWZuQOMG0b5kJ2xAVFz1Ar4SakAix9+odCVoQIhss++fXGZADAHHII61ZECSPlR+wC1jQPdHHH/nwmFAzwJRUd9yYEAUE/4+WXdeQDv9LiXzNlxAzaMqGSYhWkASAR4vzDJYQNb6qQr7aFZA5HkMeP/AVEDpgJBYWThTQIO2Hdy3zFFAj0Y0AvZ7UEDppxu6LohOQGojACSKRkxAbyo0JZYvSkAgNZYUK0BIQHCJYflcdUZA1bHoIXfMREAN98QN+EJDQDXqT6WN1kFA9bywuBGFQEAkbWaCDZk+QKFRBMApVjxAhO13Kw4+OkCrKVtdkU04QCbOn7/FgTZAIwDaIfXXNED53y2hnE0zQDXssd1o4DFAc7+MdzKOMEAMFwKd9akuQPj//f3RZSxAlFheMI5MKkBc5YEN/1ooQH2ULGE1jiZAUapge3njJEA=",
          "dtype": "f8"
         },
         "y": {
          "bdata": "AAAAAAAAAAAAAAAAAAAAAAAAAAAAAAAAAAAAAAAAAAAAAAAAAAAAAAAAAAAAAAAAAAAAAAAAAAAAAAAAAAAAAAAAAAAAAAAAAAAAAAAAAAAAAAAAAAAAAAAAAAAAAAAAAAAAAAAAAAAAAAAAAAAAAAAAAAAAAAAAAAAAAAAAAAAAAAAAAAAAAAAAAAAAAAAAAAAAAAAAAAAAAAAAAAAAAAAAAAAAAAAAAAAAAAAAAAAAAAAAAAAAAAAAAAAAAAAAAAAAAAAAAAAAAAAAAAAAAAAAAAAAAAAAAAAAAAAAAAAAAAAAAAAAAAAAAAAAAAAAAAAAAAAAAAAAAAAAAAAAAAAAAAAAAAAAAAAAAAAAAAAAAAAAAAAAAAAAAAAAAAAAAAAAAAAAAAAAAAAAAAAAAAAAAAAAAAAAAAAAAAAAAAAAAAAAAAAAAAAAAAAAAAAAAAAAAAAAAAAAAAAAAAAAAAAAAAAAAAAAAAAAAAAAAAAAAAAAAAAAAAAAAAAAAAAAAAAAAAAAAAAAAAAAAAAAAAAAAAAAAAAAAAAAAAAAAAAAAAAAAAAAAAAAAAAAAAAAAAAAAAAAAIAAAAAAAAAAgAAAAAAAAACAAAAAAAAAAIAAAAAAAAAAgAAAAAAAAACAAAAAAAAAAIAAAAAAAAAAgAAAAAAAAACAAAAAAAAAAIAAAAAAAAAAgAAAAAAAAACAAAAAAAAAAIAAAAAAAAAAgAAAAAAAAAAAAAAAAAAAAAAAAAAAAAAAAAAAAAAAAAAAAAAAAAAAAAAAAAAAAAAAAAAAAAAAAAAAAAAAAAAAAAAAAAAAAAAAAAAAAAAAAAAAAAAAAAAAAAAAAAAAAAAAAAAAAAAAAAAAAAAAAAAAAAAAAAAAAAAAAAAAAAAAAAAAAAAAAAAAAAAAAAAAAAAAAAAAAAAAAAAAAAAAAAAAAAAAAAAAAAAAANa7Ow5aoitAn3UX/0qhQUBx+g12oN5QQPeS3C4aI1hAuzyeQEXAXkDUabBH83diQA6JYXazVmVAA4nCDqb0Z0AI3/FPDGZqQMsNAZkJ02xAaQAay3nebUA=",
          "dtype": "f8"
         }
        },
        {
         "mode": "lines",
         "name": "arrival_time_Night",
         "type": "scatter",
         "x": {
          "bdata": "U2Z8oiRm1EDNDIVrNeTSQAHTEs/LftFA3s4GMMwz0EC+sbqkhQLOQCQaYtHBystA/1gAs/O8yUAR5ipwAdbHQCbUhtoLE8ZAvOvSGGpxxEC4bfmipe7CQFaNGYp2iMFA517rBsA8wECzZ5aSGhO+QLhvNwgd2rtAeH0SYizLuUBZHBoQLeO3QAgju00+H7ZAa4CBybV8tEDHBPKeG/myQPnahZwmkrFA4FYn0LhFsEDMYPSpuCOuQLiuN7uA6atAfa/H7GzZqUCipAH3X/CnQFa0OX53K6ZARRb5tweIpEDpqJ5ilwOjQNZHSwncm6FAPmx2jrZOoEAVnOTvXzSeQNoOE+/s+JtAgnN3V7XnmUBD3uYomv2XQGrUu2+3N5ZA7IWs51+TlEDw8zDxGA6TQE8BX9OWpZFAG9eVRLlXkECv5HlpEEWOQOxefKhhCIxAJ7R7pgX2iUBFYdGp2wqIQFve/CX+Q4ZAvo8QXL6ehEBuQ9xNoBiDQBrXt/1Wr4FADlNE9cBggEBS08kbylV+QGwGKezeF3xAecMw3l0EekDH/8p9JBh4QBY9uqRLUHZAC92bGCOqdECludV7LSNzQD88ToscuXFA+R9Co81pcEDZz+wLjWZuQOMG0b5kJ2xAVFz1Ar4SakAix9+odCVoQIhss++fXGZADAHHII61ZECSPlR+wC1jQPdHHH/nwmFAzwJRUd9yYEAUE/4+WXdeQDv9LiXzNlxAzaMqGSYhWkASAR4vzDJYQNb6qQr7aFZA5HkMeP/AVEDpgJBYWThTQIO2Hdy3zFFAj0Y0AvZ7UEDppxu6LohOQGojACSKRkxAbyo0JZYvSkAgNZYUK0BIQHCJYflcdUZA1bHoIXfMREAN98QN+EJDQDXqT6WN1kFA9bywuBGFQEAkbWaCDZk+QKFRBMApVjxAhO13Kw4+OkCrKVtdkU04QCbOn7/FgTZAIwDaIfXXNED53y2hnE0zQDXssd1o4DFAc7+MdzKOMEAMFwKd9akuQPj//f3RZSxAlFheMI5MKkBc5YEN/1ooQH2ULGE1jiZAUapge3njJEA=",
          "dtype": "f8"
         },
         "y": {
          "bdata": "AAAAAAAAAAAAAAAAAAAAAAAAAAAAAAAAAAAAAAAAAAAAAAAAAAAAAAAAAAAAAAAAAAAAAAAAAAAAAAAAAAAAAAAAAAAAAAAAAAAAAAAAAAAAAAAAAAAAAAAAAAAAAAAAAAAAAAAAAAAAAAAAAAAAAAAAAAAAAAAAAAAAAAAAAAAAAAAAAAAAAAAAAAAAAAAAAAAAAAAAAAAAAAAAAAAAAAAAAAAAAAAAAAAAAAAAAAAAAAAAAAAAAAAAAAAAAAAAAAAAAAAAAAAAAAAAAAAAAAAAAAAAAAAAAAAAAAAAAAAAAAAAAAAAAAAAAAAAAAAAAAAAAAAAAAAAAAAAAAAAAAAAAAAAAAAAAAAAAAAAAAAAAAAAAAAAAAAAAAAAAAAAAAAAAAAAAAAAAAAAAAAAAAAAAAAAAAAAAAAAAAAAAAAAAAAAAAAAAAAAAAAAAAAAAAAAAAAAAAAAAAAAAAAAAAAAAAAAAAAAAAAAAAAAAAAAAAAAAAAAAAAAAAAAAAAAAAAAAAAAAAAAAAAAAAAAAAAAAAAAAAAAAAAAAAAAAAAAAAAAAAAAAAAAAAAAAAAAAAAAAAAAAAAAAAAAAAAAAAAAAAAAAAAAAAAAAAAAAAAAAAAAAAAAAAAAAAAAAAAAAAAAAAAAAAAAAAAAAAAAAJoyIkQFd0BAn6jG/WhHU0CfKdY2ayNhQD0d5KHOXmhAmxxp58/8bkCsb9CcJn9yQKXFxdCWEnVAnL0CFwCZd0CzfDURAw16QL2EYkhXQ3xAfDsebphDfkB7+wZeXgGAQHe6ijJTzYBAN+Kk6weJgUBnBOzM8zeCQD8NWrLe2IJARQHYzsBcg0BkQ2sx5aGDQNnC5lxJ5INAb+nLhM8ghEDkZHz1YliEQPunwDk5j4RAJcSHTIbGhEBvoVkrwvOEQBaTBY3544RAFYn8uY32hEA5X5QFnwKFQMSqbHDkSYVAfrYF22TFhUDapEznyqyGQJ4f7EXmlodAyFttX8triEA18DvL9zKJQEh5JCfM64lAEhNsLkGUikCr+5TobDGLQJ/7DYMrzYtA2TnRHhAMjEA=",
          "dtype": "f8"
         }
        },
        {
         "mode": "lines",
         "name": "destination_city_Chennai",
         "type": "scatter",
         "x": {
          "bdata": "U2Z8oiRm1EDNDIVrNeTSQAHTEs/LftFA3s4GMMwz0EC+sbqkhQLOQCQaYtHBystA/1gAs/O8yUAR5ipwAdbHQCbUhtoLE8ZAvOvSGGpxxEC4bfmipe7CQFaNGYp2iMFA517rBsA8wECzZ5aSGhO+QLhvNwgd2rtAeH0SYizLuUBZHBoQLeO3QAgju00+H7ZAa4CBybV8tEDHBPKeG/myQPnahZwmkrFA4FYn0LhFsEDMYPSpuCOuQLiuN7uA6atAfa/H7GzZqUCipAH3X/CnQFa0OX53K6ZARRb5tweIpEDpqJ5ilwOjQNZHSwncm6FAPmx2jrZOoEAVnOTvXzSeQNoOE+/s+JtAgnN3V7XnmUBD3uYomv2XQGrUu2+3N5ZA7IWs51+TlEDw8zDxGA6TQE8BX9OWpZFAG9eVRLlXkECv5HlpEEWOQOxefKhhCIxAJ7R7pgX2iUBFYdGp2wqIQFve/CX+Q4ZAvo8QXL6ehEBuQ9xNoBiDQBrXt/1Wr4FADlNE9cBggEBS08kbylV+QGwGKezeF3xAecMw3l0EekDH/8p9JBh4QBY9uqRLUHZAC92bGCOqdECludV7LSNzQD88ToscuXFA+R9Co81pcEDZz+wLjWZuQOMG0b5kJ2xAVFz1Ar4SakAix9+odCVoQIhss++fXGZADAHHII61ZECSPlR+wC1jQPdHHH/nwmFAzwJRUd9yYEAUE/4+WXdeQDv9LiXzNlxAzaMqGSYhWkASAR4vzDJYQNb6qQr7aFZA5HkMeP/AVEDpgJBYWThTQIO2Hdy3zFFAj0Y0AvZ7UEDppxu6LohOQGojACSKRkxAbyo0JZYvSkAgNZYUK0BIQHCJYflcdUZA1bHoIXfMREAN98QN+EJDQDXqT6WN1kFA9bywuBGFQEAkbWaCDZk+QKFRBMApVjxAhO13Kw4+OkCrKVtdkU04QCbOn7/FgTZAIwDaIfXXNED53y2hnE0zQDXssd1o4DFAc7+MdzKOMEAMFwKd9akuQPj//f3RZSxAlFheMI5MKkBc5YEN/1ooQH2ULGE1jiZAUapge3njJEA=",
          "dtype": "f8"
         },
         "y": {
          "bdata": "AAAAAAAAAAAAAAAAAAAAAAAAAAAAAAAAAAAAAAAAAAAAAAAAAAAAAAAAAAAAAAAAAAAAAAAAAAAAAAAAAAAAAAAAAAAAAAAAAAAAAAAAAAAAAAAAAAAAAAAAAAAAAAAAAAAAAAAAAAAAAAAAAAAAAAAAAAAAAAAAAAAAAAAAAAAAAAAAAAAAAAAAAAAAAAAAAAAAAAAAAAAAAAAAAAAAAAAAAAAAAAAAAAAAAAAAAAAAAAAAAAAAAAAAAAAAAAAAAAAAAAAAAAAAAAAAAAAAAAAAAAAAAAAAAAAAAAAAAAAAAAAAAAAAAAAAAAAAAAAAAAAAAAAAAAAAAAAAAAAAAAAAAAAAAAAAAAAAAAAAAAAAAAAAAAAAAAAAAAAAAAAAAAAAAAAAAAAAAAAAAAAAAAAAAAAAAAAAAAAAAAAAAAAAAAAAAAAAAAAAAAAAAAAAAAAAAAAAAAAAAAAAAAAAAAAAAAAAAAAAAAAAAAAAAAAAAAAAAAAAAAAAAAAAAAAAAAAAAAAAAAAAAAAAAAAAAAAAAAAAAAAAAAAAAAAAAAAAAAAAAAAAAAAAAAAAAAAAAAAAAAAAAAAAAAAAAAAAAAAAAAAAAAAAAAAAAAAAAAAAAAAAAAAAAAAAAAAAAAAAAAAAAAAAAAAAAAAAAAAAAAAAAAAAAAAAAAAAAAAAAAAAAAAAAAAAAAAAAAAAAAAAAAAAAAAAAAAAAAAAAAAAAAAAAAAAAAAAAAAAAAAAAAAAAAAAAAAAAAAAAAAAAAAAAAAAAAAAAAAAAAAAAAAAAAAAAAAAAAAAAAAAAAAAAAAAAAAAAAAAAAAAAAAAAAAAAAAAAAAAAAAAAAAAAAAAAAAAAAAAAAAAAAAAAAAAAAAAAAAAAAAAAAAAAAAAAAAAAAAAAAAAAIAAAAAAAAAAgAAAAAAAAACAAAAAAAAAAIAAAAAAAAAAgAAAAAAAAACAAAAAAAAAAIAAAAAAAAAAgAAAAAAAAACAAAAAAAAAAIAAAAAAAAAAgAAAAAAAAACAAAAAAAAAAIAAAAAAAAAAgFEQyrFEYCHAlB3ddBE1PcA=",
          "dtype": "f8"
         }
        },
        {
         "mode": "lines",
         "name": "destination_city_Delhi",
         "type": "scatter",
         "x": {
          "bdata": "U2Z8oiRm1EDNDIVrNeTSQAHTEs/LftFA3s4GMMwz0EC+sbqkhQLOQCQaYtHBystA/1gAs/O8yUAR5ipwAdbHQCbUhtoLE8ZAvOvSGGpxxEC4bfmipe7CQFaNGYp2iMFA517rBsA8wECzZ5aSGhO+QLhvNwgd2rtAeH0SYizLuUBZHBoQLeO3QAgju00+H7ZAa4CBybV8tEDHBPKeG/myQPnahZwmkrFA4FYn0LhFsEDMYPSpuCOuQLiuN7uA6atAfa/H7GzZqUCipAH3X/CnQFa0OX53K6ZARRb5tweIpEDpqJ5ilwOjQNZHSwncm6FAPmx2jrZOoEAVnOTvXzSeQNoOE+/s+JtAgnN3V7XnmUBD3uYomv2XQGrUu2+3N5ZA7IWs51+TlEDw8zDxGA6TQE8BX9OWpZFAG9eVRLlXkECv5HlpEEWOQOxefKhhCIxAJ7R7pgX2iUBFYdGp2wqIQFve/CX+Q4ZAvo8QXL6ehEBuQ9xNoBiDQBrXt/1Wr4FADlNE9cBggEBS08kbylV+QGwGKezeF3xAecMw3l0EekDH/8p9JBh4QBY9uqRLUHZAC92bGCOqdECludV7LSNzQD88ToscuXFA+R9Co81pcEDZz+wLjWZuQOMG0b5kJ2xAVFz1Ar4SakAix9+odCVoQIhss++fXGZADAHHII61ZECSPlR+wC1jQPdHHH/nwmFAzwJRUd9yYEAUE/4+WXdeQDv9LiXzNlxAzaMqGSYhWkASAR4vzDJYQNb6qQr7aFZA5HkMeP/AVEDpgJBYWThTQIO2Hdy3zFFAj0Y0AvZ7UEDppxu6LohOQGojACSKRkxAbyo0JZYvSkAgNZYUK0BIQHCJYflcdUZA1bHoIXfMREAN98QN+EJDQDXqT6WN1kFA9bywuBGFQEAkbWaCDZk+QKFRBMApVjxAhO13Kw4+OkCrKVtdkU04QCbOn7/FgTZAIwDaIfXXNED53y2hnE0zQDXssd1o4DFAc7+MdzKOMEAMFwKd9akuQPj//f3RZSxAlFheMI5MKkBc5YEN/1ooQH2ULGE1jiZAUapge3njJEA=",
          "dtype": "f8"
         },
         "y": {
          "bdata": "AAAAAAAAAAAAAAAAAAAAAAAAAAAAAAAAAAAAAAAAAAAAAAAAAAAAAAAAAAAAAAAAAAAAAAAAAAAAAAAAAAAAAAAAAAAAAAAAAAAAAAAAAAAAAAAAAAAAAAAAAAAAAAAAAAAAAAAAAAAAAAAAAAAAAAAAAAAAAAAAAAAAAAAAAAAAAAAAAAAAAAAAAAAAAAAAAAAAAAAAAAAAAAAAAAAAAAAAAAAAAAAAAAAAAAAAAAAAAAAAAAAAAAAAAAAAAAAAAAAAAAAAAAAAAAAAAAAAAAAAAAAAAAAAAAAAAAAAAAAAAAAAAAAAAAAAAAAAAAAAAAAAAAAAAAAAAAAAAAAAAAAAAAAAAAAAAAAAAAAAAAAAAAAAAAAAAAAAAAAAAACAAAAAAAAAAIAAAAAAAAAAgAAAAAAAAACAAAAAAAAAAIAAAAAAAAAAgAAAAAAAAACAAAAAAAAAAIAAAAAAAAAAgAAAAAAAAACAAAAAAAAAAIAAAAAAAAAAgAAAAAAAAACAAAAAAAAAAIAAAAAAAAAAgAAAAAAAAACAAAAAAAAAAIAAAAAAAAAAgAAAAAAAAACAAAAAAAAAAIAAAAAAAAAAgAAAAAAAAACAAAAAAAAAAIAAAAAAAAAAgAAAAAAAAACAAAAAAAAAAIAAAAAAAAAAgAAAAAAAAACAAAAAAAAAAIAAAAAAAAAAgAAAAAAAAACAWz3qoQoFIcBIg7n6IRNVwLM3SLYOAmfAGjPKtQqjccD8lun3iTV3wJ8vyEaoZ3zAfqzgaNOcgMB1UXAnyMGCwH2sX0rSs4TAHCIVic6ChsDb6+GC8y2IwMURxOoiu4nAiRfc+e4xi8A2DeMaiKOMwKshQ/KL9o3AaKRYH7Qxj8Am7H3MiymQwAO1cuR9oJDALIOCdzwPkcDOAmbfOXaRwJghpJsF+pHAmKIIcRZSksC64T9k2aOSwP8BAn946JLARQuDu3Mpk8DYbfTRFGeTwDELEJUroJPAkkTQtBzWk8AuyUhMfAeUwE87F/IZNZTAsnphpCBglMCWcRUzq4eUwJoX8ZJ/vpTAfSlU3a8blcA=",
          "dtype": "f8"
         }
        },
        {
         "mode": "lines",
         "name": "destination_city_Hyderabad",
         "type": "scatter",
         "x": {
          "bdata": "U2Z8oiRm1EDNDIVrNeTSQAHTEs/LftFA3s4GMMwz0EC+sbqkhQLOQCQaYtHBystA/1gAs/O8yUAR5ipwAdbHQCbUhtoLE8ZAvOvSGGpxxEC4bfmipe7CQFaNGYp2iMFA517rBsA8wECzZ5aSGhO+QLhvNwgd2rtAeH0SYizLuUBZHBoQLeO3QAgju00+H7ZAa4CBybV8tEDHBPKeG/myQPnahZwmkrFA4FYn0LhFsEDMYPSpuCOuQLiuN7uA6atAfa/H7GzZqUCipAH3X/CnQFa0OX53K6ZARRb5tweIpEDpqJ5ilwOjQNZHSwncm6FAPmx2jrZOoEAVnOTvXzSeQNoOE+/s+JtAgnN3V7XnmUBD3uYomv2XQGrUu2+3N5ZA7IWs51+TlEDw8zDxGA6TQE8BX9OWpZFAG9eVRLlXkECv5HlpEEWOQOxefKhhCIxAJ7R7pgX2iUBFYdGp2wqIQFve/CX+Q4ZAvo8QXL6ehEBuQ9xNoBiDQBrXt/1Wr4FADlNE9cBggEBS08kbylV+QGwGKezeF3xAecMw3l0EekDH/8p9JBh4QBY9uqRLUHZAC92bGCOqdECludV7LSNzQD88ToscuXFA+R9Co81pcEDZz+wLjWZuQOMG0b5kJ2xAVFz1Ar4SakAix9+odCVoQIhss++fXGZADAHHII61ZECSPlR+wC1jQPdHHH/nwmFAzwJRUd9yYEAUE/4+WXdeQDv9LiXzNlxAzaMqGSYhWkASAR4vzDJYQNb6qQr7aFZA5HkMeP/AVEDpgJBYWThTQIO2Hdy3zFFAj0Y0AvZ7UEDppxu6LohOQGojACSKRkxAbyo0JZYvSkAgNZYUK0BIQHCJYflcdUZA1bHoIXfMREAN98QN+EJDQDXqT6WN1kFA9bywuBGFQEAkbWaCDZk+QKFRBMApVjxAhO13Kw4+OkCrKVtdkU04QCbOn7/FgTZAIwDaIfXXNED53y2hnE0zQDXssd1o4DFAc7+MdzKOMEAMFwKd9akuQPj//f3RZSxAlFheMI5MKkBc5YEN/1ooQH2ULGE1jiZAUapge3njJEA=",
          "dtype": "f8"
         },
         "y": {
          "bdata": "AAAAAAAAAAAAAAAAAAAAAAAAAAAAAAAAAAAAAAAAAAAAAAAAAAAAAAAAAAAAAAAAAAAAAAAAAAAAAAAAAAAAAAAAAAAAAAAAAAAAAAAAAAAAAAAAAAAAAAAAAAAAAAAAAAAAAAAAAAAAAAAAAAAAAAAAAAAAAAAAAAAAAAAAAAAAAAAAAAAAAAAAAAAAAAAAAAAAAAAAAAAAAAAAAAAAAAAAAAAAAAAAAAAAAAAAAAAAAAAAAAAAAAAAAAAAAAAAAAAAAAAAAAAAAAAAAAAAAAAAAAAAAAAAAAAAAAAAAAAAAAAAAAAAAAAAAAAAAAAAAAAAAAAAAAAAAAAAAAAAAAAAAAAAAAAAAAAAAAAAAAAAAAAAAAAAAAAAAAAAAAAAAAAAAAAAAAAAAAAAAAAAAAAAAAAAAAAAAAAAAAAAAIAAAAAAAAAAgAAAAAAAAACAAAAAAAAAAIAAAAAAAAAAgAAAAAAAAACAAAAAAAAAAIAAAAAAAAAAgAAAAAAAAACAAAAAAAAAAIAAAAAAAAAAgAAAAAAAAACAAAAAAAAAAIAAAAAAAAAAgAAAAAAAAACAAAAAAAAAAIAAAAAAAAAAgAAAAAAAAACAAAAAAAAAAIAAAAAAAAAAgAAAAAAAAACAAAAAAAAAAIAAAAAAAAAAgAAAAAAAAACAAAAAAAAAAIAAAAAAAAAAgAAAAAAAAACAAAAAAAAAAIA0O+QvaqpIwAUlmgwJ4GPAy/3QIgsaccCAnj3rstp3wEi9TIO1JH7AugM/IuX6gcDM4IZ9jqqEwDb+Ni3xJIfA/Cq+wbVxicA7eHRTzZGLwEm0RO3Vio3Ao8EWwq5Yj8A5Ys0h9XmQwK/M9CdAN5HA+VyOTfjmkcD8svCneoiSwK1ZuNViD5PA2YaTHRCOk8AYOhaEtgCUwNtmGT1eg5TAAGpyQq/mlMCPNO3bX0CVwPP2PHwOkJXAV/cbFbjWlcD/gscnQxCWwKwWiHETRpbAMhoNfst4lsBmmvZ4RqeWwApT4ro60pbANV4Gz6r6lsDhGiaG1h+XwMthZY1jVJfADX30fFmrl8A=",
          "dtype": "f8"
         }
        },
        {
         "mode": "lines",
         "name": "destination_city_Kolkata",
         "type": "scatter",
         "x": {
          "bdata": "U2Z8oiRm1EDNDIVrNeTSQAHTEs/LftFA3s4GMMwz0EC+sbqkhQLOQCQaYtHBystA/1gAs/O8yUAR5ipwAdbHQCbUhtoLE8ZAvOvSGGpxxEC4bfmipe7CQFaNGYp2iMFA517rBsA8wECzZ5aSGhO+QLhvNwgd2rtAeH0SYizLuUBZHBoQLeO3QAgju00+H7ZAa4CBybV8tEDHBPKeG/myQPnahZwmkrFA4FYn0LhFsEDMYPSpuCOuQLiuN7uA6atAfa/H7GzZqUCipAH3X/CnQFa0OX53K6ZARRb5tweIpEDpqJ5ilwOjQNZHSwncm6FAPmx2jrZOoEAVnOTvXzSeQNoOE+/s+JtAgnN3V7XnmUBD3uYomv2XQGrUu2+3N5ZA7IWs51+TlEDw8zDxGA6TQE8BX9OWpZFAG9eVRLlXkECv5HlpEEWOQOxefKhhCIxAJ7R7pgX2iUBFYdGp2wqIQFve/CX+Q4ZAvo8QXL6ehEBuQ9xNoBiDQBrXt/1Wr4FADlNE9cBggEBS08kbylV+QGwGKezeF3xAecMw3l0EekDH/8p9JBh4QBY9uqRLUHZAC92bGCOqdECludV7LSNzQD88ToscuXFA+R9Co81pcEDZz+wLjWZuQOMG0b5kJ2xAVFz1Ar4SakAix9+odCVoQIhss++fXGZADAHHII61ZECSPlR+wC1jQPdHHH/nwmFAzwJRUd9yYEAUE/4+WXdeQDv9LiXzNlxAzaMqGSYhWkASAR4vzDJYQNb6qQr7aFZA5HkMeP/AVEDpgJBYWThTQIO2Hdy3zFFAj0Y0AvZ7UEDppxu6LohOQGojACSKRkxAbyo0JZYvSkAgNZYUK0BIQHCJYflcdUZA1bHoIXfMREAN98QN+EJDQDXqT6WN1kFA9bywuBGFQEAkbWaCDZk+QKFRBMApVjxAhO13Kw4+OkCrKVtdkU04QCbOn7/FgTZAIwDaIfXXNED53y2hnE0zQDXssd1o4DFAc7+MdzKOMEAMFwKd9akuQPj//f3RZSxAlFheMI5MKkBc5YEN/1ooQH2ULGE1jiZAUapge3njJEA=",
          "dtype": "f8"
         },
         "y": {
          "bdata": "AAAAAAAAAAAAAAAAAAAAAAAAAAAAAAAAAAAAAAAAAAAAAAAAAAAAAAAAAAAAAAAAAAAAAAAAAAAAAAAAAAAAAAAAAAAAAAAAAAAAAAAAAAAAAAAAAAAAAAAAAAAAAAAAAAAAAAAAAAAAAAAAAAAAAAAAAAAAAAAAAAAAAAAAAAAAAAAAAAAAAAAAAAAAAAAAAAAAAAAAAAAAAAAAAAAAAAAAAAAAAAAAAAAAAAAAAAAAAAAAAAAAAAAAAAAAAAAAAAAAAAAAAAAAAAAAAAAAAAAAAAAAAAAAAAAAAAAAAAAAAAAAAAAAAAAAAAAAAAAAAAAAAAAAAAAAAAAAAAAAAAAAAAAAAAAAAAAAAAAAAAAAAAAAAAAAAAAAAAAAAAAAAAAAAAAAAAAAAAAAAAAAAAAAAAAAAAAAAAAAAAAAAAAAAAAAAAAAAAAAAAAAAAAAAAAAAAAAAAAAAAAAAAAAAAAAAAAAAAAAAAAAAAAAAAAAAAAAAAAAAAAAAAAAAAAAAAAAAAAAAAAAAAAAAAAAAAAAAAAAAAAAAAAAAAAAAAAAAAAAAAAAAAAAAAAAAAAAAAAAAAAAAAAAAAAAAAAAADJLcEO3w1dAKCdTfq9tb0By0wkEU8N4QB8fXdBJkoBAnBiOXqd0hEBrnciJmgyIQAkHk4i9fYtAd9gIH7m4jkCIAdL0z8OQQMLRKOF1FZJAHUv4d9BCk0AqiceRIwWUQOQa5OKma5RA9wcduky0lEDwcy6eXeOUQLiqXnUeDZVAL7Plom81lUCcyjvjvlGVQGvWP7D2aZVA+3p7K5B/lUDjy6jZVZSVQDz4GrLPppVAzmyPIVm3lUCf318UWcSVQPp9pqkh0pVAXe0R71relUDiOdEK4OqVQEnaD5MYBJZAWF0vei0alkCFc3Rkxy6WQLeUJ+5nIJZAKeIxqsYplkCJn4cP9DSWQGYrOEBAQJZAypYNcylMlkDPh6nEp12WQKVX9UxabZZA+ZmV0vp6lkANyME/GoiWQN6fznBZlJZAmRfRRASflkClgAFGMqmWQGnujmbloJZAn6vMfaRylkA=",
          "dtype": "f8"
         }
        },
        {
         "mode": "lines",
         "name": "destination_city_Mumbai",
         "type": "scatter",
         "x": {
          "bdata": "U2Z8oiRm1EDNDIVrNeTSQAHTEs/LftFA3s4GMMwz0EC+sbqkhQLOQCQaYtHBystA/1gAs/O8yUAR5ipwAdbHQCbUhtoLE8ZAvOvSGGpxxEC4bfmipe7CQFaNGYp2iMFA517rBsA8wECzZ5aSGhO+QLhvNwgd2rtAeH0SYizLuUBZHBoQLeO3QAgju00+H7ZAa4CBybV8tEDHBPKeG/myQPnahZwmkrFA4FYn0LhFsEDMYPSpuCOuQLiuN7uA6atAfa/H7GzZqUCipAH3X/CnQFa0OX53K6ZARRb5tweIpEDpqJ5ilwOjQNZHSwncm6FAPmx2jrZOoEAVnOTvXzSeQNoOE+/s+JtAgnN3V7XnmUBD3uYomv2XQGrUu2+3N5ZA7IWs51+TlEDw8zDxGA6TQE8BX9OWpZFAG9eVRLlXkECv5HlpEEWOQOxefKhhCIxAJ7R7pgX2iUBFYdGp2wqIQFve/CX+Q4ZAvo8QXL6ehEBuQ9xNoBiDQBrXt/1Wr4FADlNE9cBggEBS08kbylV+QGwGKezeF3xAecMw3l0EekDH/8p9JBh4QBY9uqRLUHZAC92bGCOqdECludV7LSNzQD88ToscuXFA+R9Co81pcEDZz+wLjWZuQOMG0b5kJ2xAVFz1Ar4SakAix9+odCVoQIhss++fXGZADAHHII61ZECSPlR+wC1jQPdHHH/nwmFAzwJRUd9yYEAUE/4+WXdeQDv9LiXzNlxAzaMqGSYhWkASAR4vzDJYQNb6qQr7aFZA5HkMeP/AVEDpgJBYWThTQIO2Hdy3zFFAj0Y0AvZ7UEDppxu6LohOQGojACSKRkxAbyo0JZYvSkAgNZYUK0BIQHCJYflcdUZA1bHoIXfMREAN98QN+EJDQDXqT6WN1kFA9bywuBGFQEAkbWaCDZk+QKFRBMApVjxAhO13Kw4+OkCrKVtdkU04QCbOn7/FgTZAIwDaIfXXNED53y2hnE0zQDXssd1o4DFAc7+MdzKOMEAMFwKd9akuQPj//f3RZSxAlFheMI5MKkBc5YEN/1ooQH2ULGE1jiZAUapge3njJEA=",
          "dtype": "f8"
         },
         "y": {
          "bdata": "AAAAAAAAAAAAAAAAAAAAAAAAAAAAAAAAAAAAAAAAAAAAAAAAAAAAAAAAAAAAAAAAAAAAAAAAAAAAAAAAAAAAAAAAAAAAAAAAAAAAAAAAAAAAAAAAAAAAAAAAAAAAAAAAAAAAAAAAAAAAAAAAAAAAAAAAAAAAAAAAAAAAAAAAAAAAAAAAAAAAAAAAAAAAAAAAAAAAAAAAAAAAAAAAAAAAAAAAAAAAAAAAAAAAAAAAAAAAAAAAAAAAAAAAAAAAAAAAAAAAAAAAAAAAAAAAAAAAAAAAAAAAAAAAAAAAAAAAAAAAAAAAAAAAAAAAAAAAAAAAAAAAAAAAAAAAAAAAAAAAAAAAAAAAAAAAAAAAAAAAAAAAAAAAAAAAAAAAAAAAAAAAAAAAAAAAAAAAAAAAAAAAAAAAAAAAAAAAAAAAAAAAAAAAAAAAAAAAAAAAAAAAAAAAAAAAAAAAAAAAAAAAAAAAAAAAAAAAAAAAAAAAAAAAAAAAAAAAAAAAAAAAAAAAAAAAAAAAAAAAAAAAAAAAAAAAAAAAAAAAAAAAAAAAAAAAAAAAAAAAAAAAAAAAAAAAAAAAAAAAAAAAAAAAAAAAAAAAAAAAAAAAAAAAAAAAAAAAAAAAAAAAAAAAAAAAAAAAAAAAAAAAAAAAAAAAAAAAAAAAAAAAAAAAAAAAAAAAAAAAAAAAAAAAAAAAAAAAAAAAAAAAAAAAAAAAAAAAAAAAAAAAAAAAAAAAAAAAAAAAAAAAAAAAAAAAAAAAAAAAAAAAAAAAAAAAAAAAAAAAAAAAAAAAAAAAAAAAAAAAAAAAAAAAAAAAAAAAAAAAAAAAAAAAAAAAAAAAAAAAAAAAAAAAAAAAAAAAAAAAAAAAAAAAAAAAAAAquEZDllfdPzl+ytrxISRAqme724o9MkAUdImV8LA6QIrHyWRrhjtAAIENI8SdP0CCRi7ThiRCQPvxnshdpERAPafkx4k5R0BPtEHK3yRKQLcfPwy8m0xASNYiJ4zLTkBn03hbCXBQQBq4DKPsZ1FAJluNjAtEUkC1a2k79hBTQCa8wcH1SFJAmQtrzWQkTkA=",
          "dtype": "f8"
         }
        },
        {
         "mode": "lines",
         "name": "class_Economy",
         "type": "scatter",
         "x": {
          "bdata": "U2Z8oiRm1EDNDIVrNeTSQAHTEs/LftFA3s4GMMwz0EC+sbqkhQLOQCQaYtHBystA/1gAs/O8yUAR5ipwAdbHQCbUhtoLE8ZAvOvSGGpxxEC4bfmipe7CQFaNGYp2iMFA517rBsA8wECzZ5aSGhO+QLhvNwgd2rtAeH0SYizLuUBZHBoQLeO3QAgju00+H7ZAa4CBybV8tEDHBPKeG/myQPnahZwmkrFA4FYn0LhFsEDMYPSpuCOuQLiuN7uA6atAfa/H7GzZqUCipAH3X/CnQFa0OX53K6ZARRb5tweIpEDpqJ5ilwOjQNZHSwncm6FAPmx2jrZOoEAVnOTvXzSeQNoOE+/s+JtAgnN3V7XnmUBD3uYomv2XQGrUu2+3N5ZA7IWs51+TlEDw8zDxGA6TQE8BX9OWpZFAG9eVRLlXkECv5HlpEEWOQOxefKhhCIxAJ7R7pgX2iUBFYdGp2wqIQFve/CX+Q4ZAvo8QXL6ehEBuQ9xNoBiDQBrXt/1Wr4FADlNE9cBggEBS08kbylV+QGwGKezeF3xAecMw3l0EekDH/8p9JBh4QBY9uqRLUHZAC92bGCOqdECludV7LSNzQD88ToscuXFA+R9Co81pcEDZz+wLjWZuQOMG0b5kJ2xAVFz1Ar4SakAix9+odCVoQIhss++fXGZADAHHII61ZECSPlR+wC1jQPdHHH/nwmFAzwJRUd9yYEAUE/4+WXdeQDv9LiXzNlxAzaMqGSYhWkASAR4vzDJYQNb6qQr7aFZA5HkMeP/AVEDpgJBYWThTQIO2Hdy3zFFAj0Y0AvZ7UEDppxu6LohOQGojACSKRkxAbyo0JZYvSkAgNZYUK0BIQHCJYflcdUZA1bHoIXfMREAN98QN+EJDQDXqT6WN1kFA9bywuBGFQEAkbWaCDZk+QKFRBMApVjxAhO13Kw4+OkCrKVtdkU04QCbOn7/FgTZAIwDaIfXXNED53y2hnE0zQDXssd1o4DFAc7+MdzKOMEAMFwKd9akuQPj//f3RZSxAlFheMI5MKkBc5YEN/1ooQH2ULGE1jiZAUapge3njJEA=",
          "dtype": "f8"
         },
         "y": {
          "bdata": "AAAAAAAAAAAAAAAAAAAAAAAAAAAAAAAAAAAAAAAAAAAAAAAAAAAAAAAAAAAAAACAAAAAAAAAAIAAAAAAAAAAgAAAAAAAAACAAAAAAAAAAIAAAAAAAAAAgAAAAAAAAACAAAAAAAAAAIAAAAAAAAAAgAAAAAAAAACAAAAAAAAAAIAAAAAAAAAAgPuQucOTeXbAKcnsyelZrMBKO+m2eAe6wN9yewB9gcLApSxTqamWx8DJnES3iEvMwDkW7zcYVNDAmYuADrNY0sBhYI5wUzfUwN9TvFWo69XAUThj9ECA18CMwtwMX/bYwJrCE4ZqUdrAbJJZh9GS28BM5oY83rvcwL6Gdxs8z93Agn8xCQbO3sDFi2QM+7nfwP8BNPU/SuDA2bDWWyuv4MBVw9tK5AzhwD8UhByxY+HAnBVawBO04cAjOxiPhf7hwIy067E6Q+LAp97W8RaD4sDMTA8zPL7iwDsTyHwC9eLA8FmIu4In48CBtjN4/FbjwHBz85cgg+PADXYnwBus48CVjtokENLjwPW8gXk29ePAWyriOo8V5MCmr6oZtzPkwLDOY+GlT+TAyDfIO4Rp5MDGVdLpRoHkwFyuXtzSl+TAUzAMTs2s5MBjdgmxRsDkwKuVpGdQ0uTAsFRr1dbi5MCzqEjhTvLkwJHrJ2iNAOXAwstX9dUN5cCrfIBdBxrlwAoPtftOJeXAof/kQdov5cDs/kYCPDnlwNgDeyHzQeXAu9tDN0RL5cB5odweHlblwIBfQopLYOXABe3ly6tp5cAE0ufRPXPlwDIAE1BSfOXA0lcSjMyE5cD2Ej7clYzlwMQA1jjck+XAgyvy/Y+a5cAJbbpZyqDlwAxFSAaRpuXArpQqs/Or5cANCP/t6LDlwOhU6VGLteXAqYbIZ7a55cDpz1JMxr3lwDcCuKjdweXA5ACX4HzG5cB0c0vdssnlwAi7+O+czOXAGKctF13P5cDORPzp1tHlwOEv2a4d1OXAZ9ijAELW5cDhCEhUONjlwBKpBIAI2uXAx/Dbnb3b5cCu7jclTt3lwCLDGOq03uXArkVRqGHg5cA=",
          "dtype": "f8"
         }
        },
        {
         "hovertemplate": "Alpha: 19344.8347<br>Non-zero features: 1<extra></extra>",
         "line": {
          "color": "gray",
          "dash": "dot"
         },
         "mode": "lines",
         "showlegend": false,
         "type": "scatter",
         "x": [
          19344.83468748331,
          19344.83468748331
         ],
         "y": [
          -44803.0517965661,
          51092.91444573442
         ]
        },
        {
         "hovertemplate": "Alpha: 6603.1734<br>Non-zero features: 2<extra></extra>",
         "line": {
          "color": "gray",
          "dash": "dot"
         },
         "mode": "lines",
         "showlegend": false,
         "type": "scatter",
         "x": [
          6603.173371463425,
          6603.173371463425
         ],
         "y": [
          -44803.0517965661,
          51092.91444573442
         ]
        },
        {
         "hovertemplate": "Alpha: 5663.2434<br>Non-zero features: 3<extra></extra>",
         "line": {
          "color": "gray",
          "dash": "dot"
         },
         "mode": "lines",
         "showlegend": false,
         "type": "scatter",
         "x": [
          5663.243373580983,
          5663.243373580983
         ],
         "y": [
          -44803.0517965661,
          51092.91444573442
         ]
        },
        {
         "hovertemplate": "Alpha: 3064.1874<br>Non-zero features: 4<extra></extra>",
         "line": {
          "color": "gray",
          "dash": "dot"
         },
         "mode": "lines",
         "showlegend": false,
         "type": "scatter",
         "x": [
          3064.1874313844173,
          3064.1874313844173
         ],
         "y": [
          -44803.0517965661,
          51092.91444573442
         ]
        },
        {
         "hovertemplate": "Alpha: 1790.2314<br>Non-zero features: 5<extra></extra>",
         "line": {
          "color": "gray",
          "dash": "dot"
         },
         "mode": "lines",
         "showlegend": false,
         "type": "scatter",
         "x": [
          1790.231380746633,
          1790.231380746633
         ],
         "y": [
          -44803.0517965661,
          51092.91444573442
         ]
        },
        {
         "hovertemplate": "Alpha: 611.0783<br>Non-zero features: 6<extra></extra>",
         "line": {
          "color": "gray",
          "dash": "dot"
         },
         "mode": "lines",
         "showlegend": false,
         "type": "scatter",
         "x": [
          611.0782735069349,
          611.0782735069349
         ],
         "y": [
          -44803.0517965661,
          51092.91444573442
         ]
        },
        {
         "hovertemplate": "Alpha: 283.5695<br>Non-zero features: 8<extra></extra>",
         "line": {
          "color": "gray",
          "dash": "dot"
         },
         "mode": "lines",
         "showlegend": false,
         "type": "scatter",
         "x": [
          283.5694687896793,
          283.5694687896793
         ],
         "y": [
          -44803.0517965661,
          51092.91444573442
         ]
        },
        {
         "hovertemplate": "Alpha: 178.8945<br>Non-zero features: 9<extra></extra>",
         "line": {
          "color": "gray",
          "dash": "dot"
         },
         "mode": "lines",
         "showlegend": false,
         "type": "scatter",
         "x": [
          178.89452347797146,
          178.89452347797146
         ],
         "y": [
          -44803.0517965661,
          51092.91444573442
         ]
        },
        {
         "hovertemplate": "Alpha: 165.6736<br>Non-zero features: 10<extra></extra>",
         "line": {
          "color": "gray",
          "dash": "dot"
         },
         "mode": "lines",
         "showlegend": false,
         "type": "scatter",
         "x": [
          165.67359961383806,
          165.67359961383806
         ],
         "y": [
          -44803.0517965661,
          51092.91444573442
         ]
        },
        {
         "hovertemplate": "Alpha: 131.5898<br>Non-zero features: 11<extra></extra>",
         "line": {
          "color": "gray",
          "dash": "dot"
         },
         "mode": "lines",
         "showlegend": false,
         "type": "scatter",
         "x": [
          131.589760454392,
          131.589760454392
         ],
         "y": [
          -44803.0517965661,
          51092.91444573442
         ]
        },
        {
         "hovertemplate": "Alpha: 121.8648<br>Non-zero features: 13<extra></extra>",
         "line": {
          "color": "gray",
          "dash": "dot"
         },
         "mode": "lines",
         "showlegend": false,
         "type": "scatter",
         "x": [
          121.8648221474835,
          121.8648221474835
         ],
         "y": [
          -44803.0517965661,
          51092.91444573442
         ]
        },
        {
         "hovertemplate": "Alpha: 112.8586<br>Non-zero features: 14<extra></extra>",
         "line": {
          "color": "gray",
          "dash": "dot"
         },
         "mode": "lines",
         "showlegend": false,
         "type": "scatter",
         "x": [
          112.85859040821826,
          112.85859040821826
         ],
         "y": [
          -44803.0517965661,
          51092.91444573442
         ]
        },
        {
         "hovertemplate": "Alpha: 104.5180<br>Non-zero features: 15<extra></extra>",
         "line": {
          "color": "gray",
          "dash": "dot"
         },
         "mode": "lines",
         "showlegend": false,
         "type": "scatter",
         "x": [
          104.51795033611343,
          104.51795033611343
         ],
         "y": [
          -44803.0517965661,
          51092.91444573442
         ]
        },
        {
         "hovertemplate": "Alpha: 96.7937<br>Non-zero features: 16<extra></extra>",
         "line": {
          "color": "gray",
          "dash": "dot"
         },
         "mode": "lines",
         "showlegend": false,
         "type": "scatter",
         "x": [
          96.79371240549179,
          96.79371240549179
         ],
         "y": [
          -44803.0517965661,
          51092.91444573442
         ]
        },
        {
         "hovertemplate": "Alpha: 89.6403<br>Non-zero features: 17<extra></extra>",
         "line": {
          "color": "gray",
          "dash": "dot"
         },
         "mode": "lines",
         "showlegend": false,
         "type": "scatter",
         "x": [
          89.64032236671059,
          89.64032236671059
         ],
         "y": [
          -44803.0517965661,
          51092.91444573442
         ]
        },
        {
         "hovertemplate": "Alpha: 76.8805<br>Non-zero features: 18<extra></extra>",
         "line": {
          "color": "gray",
          "dash": "dot"
         },
         "mode": "lines",
         "showlegend": false,
         "type": "scatter",
         "x": [
          76.88045324432063,
          76.88045324432063
         ],
         "y": [
          -44803.0517965661,
          51092.91444573442
         ]
        },
        {
         "hovertemplate": "Alpha: 52.3718<br>Non-zero features: 19<extra></extra>",
         "line": {
          "color": "gray",
          "dash": "dot"
         },
         "mode": "lines",
         "showlegend": false,
         "type": "scatter",
         "x": [
          52.37176957175404,
          52.37176957175404
         ],
         "y": [
          -44803.0517965661,
          51092.91444573442
         ]
        },
        {
         "hovertemplate": "Alpha: 48.5013<br>Non-zero features: 20<extra></extra>",
         "line": {
          "color": "gray",
          "dash": "dot"
         },
         "mode": "lines",
         "showlegend": false,
         "type": "scatter",
         "x": [
          48.50131470999099,
          48.50131470999099
         ],
         "y": [
          -44803.0517965661,
          51092.91444573442
         ]
        },
        {
         "hovertemplate": "Alpha: 38.5232<br>Non-zero features: 21<extra></extra>",
         "line": {
          "color": "gray",
          "dash": "dot"
         },
         "mode": "lines",
         "showlegend": false,
         "type": "scatter",
         "x": [
          38.52319500081476,
          38.52319500081476
         ],
         "y": [
          -44803.0517965661,
          51092.91444573442
         ]
        },
        {
         "hovertemplate": "Alpha: 35.6762<br>Non-zero features: 22<extra></extra>",
         "line": {
          "color": "gray",
          "dash": "dot"
         },
         "mode": "lines",
         "showlegend": false,
         "type": "scatter",
         "x": [
          35.67619768526166,
          35.67619768526166
         ],
         "y": [
          -44803.0517965661,
          51092.91444573442
         ]
        },
        {
         "hovertemplate": "Alpha: 28.3366<br>Non-zero features: 24<extra></extra>",
         "line": {
          "color": "gray",
          "dash": "dot"
         },
         "mode": "lines",
         "showlegend": false,
         "type": "scatter",
         "x": [
          28.336574555448923,
          28.336574555448923
         ],
         "y": [
          -44803.0517965661,
          51092.91444573442
         ]
        },
        {
         "hovertemplate": "Alpha: 22.5069<br>Non-zero features: 25<extra></extra>",
         "line": {
          "color": "gray",
          "dash": "dot"
         },
         "mode": "lines",
         "showlegend": false,
         "type": "scatter",
         "x": [
          22.506923653140028,
          22.506923653140028
         ],
         "y": [
          -44803.0517965661,
          51092.91444573442
         ]
        },
        {
         "hovertemplate": "Alpha: 20.8436<br>Non-zero features: 26<extra></extra>",
         "line": {
          "color": "gray",
          "dash": "dot"
         },
         "mode": "lines",
         "showlegend": false,
         "type": "scatter",
         "x": [
          20.843584171030795,
          20.843584171030795
         ],
         "y": [
          -44803.0517965661,
          51092.91444573442
         ]
        },
        {
         "hovertemplate": "Alpha: 19.3032<br>Non-zero features: 27<extra></extra>",
         "line": {
          "color": "gray",
          "dash": "dot"
         },
         "mode": "lines",
         "showlegend": false,
         "type": "scatter",
         "x": [
          19.30317122812264,
          19.30317122812264
         ],
         "y": [
          -44803.0517965661,
          51092.91444573442
         ]
        },
        {
         "hovertemplate": "Alpha: 12.1777<br>Non-zero features: 28<extra></extra>",
         "line": {
          "color": "gray",
          "dash": "dot"
         },
         "mode": "lines",
         "showlegend": false,
         "type": "scatter",
         "x": [
          12.177727148157537,
          12.177727148157537
         ],
         "y": [
          -44803.0517965661,
          51092.91444573442
         ]
        },
        {
         "hovertemplate": "Alpha: 11.2778<br>Non-zero features: 29<extra></extra>",
         "line": {
          "color": "gray",
          "dash": "dot"
         },
         "mode": "lines",
         "showlegend": false,
         "type": "scatter",
         "x": [
          11.277751003925227,
          11.277751003925227
         ],
         "y": [
          -44803.0517965661,
          51092.91444573442
         ]
        }
       ],
       "layout": {
        "height": 600,
        "legend": {
         "title": {
          "text": "Features"
         }
        },
        "template": {
         "data": {
          "bar": [
           {
            "error_x": {
             "color": "#2a3f5f"
            },
            "error_y": {
             "color": "#2a3f5f"
            },
            "marker": {
             "line": {
              "color": "white",
              "width": 0.5
             },
             "pattern": {
              "fillmode": "overlay",
              "size": 10,
              "solidity": 0.2
             }
            },
            "type": "bar"
           }
          ],
          "barpolar": [
           {
            "marker": {
             "line": {
              "color": "white",
              "width": 0.5
             },
             "pattern": {
              "fillmode": "overlay",
              "size": 10,
              "solidity": 0.2
             }
            },
            "type": "barpolar"
           }
          ],
          "carpet": [
           {
            "aaxis": {
             "endlinecolor": "#2a3f5f",
             "gridcolor": "#C8D4E3",
             "linecolor": "#C8D4E3",
             "minorgridcolor": "#C8D4E3",
             "startlinecolor": "#2a3f5f"
            },
            "baxis": {
             "endlinecolor": "#2a3f5f",
             "gridcolor": "#C8D4E3",
             "linecolor": "#C8D4E3",
             "minorgridcolor": "#C8D4E3",
             "startlinecolor": "#2a3f5f"
            },
            "type": "carpet"
           }
          ],
          "choropleth": [
           {
            "colorbar": {
             "outlinewidth": 0,
             "ticks": ""
            },
            "type": "choropleth"
           }
          ],
          "contour": [
           {
            "colorbar": {
             "outlinewidth": 0,
             "ticks": ""
            },
            "colorscale": [
             [
              0,
              "#0d0887"
             ],
             [
              0.1111111111111111,
              "#46039f"
             ],
             [
              0.2222222222222222,
              "#7201a8"
             ],
             [
              0.3333333333333333,
              "#9c179e"
             ],
             [
              0.4444444444444444,
              "#bd3786"
             ],
             [
              0.5555555555555556,
              "#d8576b"
             ],
             [
              0.6666666666666666,
              "#ed7953"
             ],
             [
              0.7777777777777778,
              "#fb9f3a"
             ],
             [
              0.8888888888888888,
              "#fdca26"
             ],
             [
              1,
              "#f0f921"
             ]
            ],
            "type": "contour"
           }
          ],
          "contourcarpet": [
           {
            "colorbar": {
             "outlinewidth": 0,
             "ticks": ""
            },
            "type": "contourcarpet"
           }
          ],
          "heatmap": [
           {
            "colorbar": {
             "outlinewidth": 0,
             "ticks": ""
            },
            "colorscale": [
             [
              0,
              "#0d0887"
             ],
             [
              0.1111111111111111,
              "#46039f"
             ],
             [
              0.2222222222222222,
              "#7201a8"
             ],
             [
              0.3333333333333333,
              "#9c179e"
             ],
             [
              0.4444444444444444,
              "#bd3786"
             ],
             [
              0.5555555555555556,
              "#d8576b"
             ],
             [
              0.6666666666666666,
              "#ed7953"
             ],
             [
              0.7777777777777778,
              "#fb9f3a"
             ],
             [
              0.8888888888888888,
              "#fdca26"
             ],
             [
              1,
              "#f0f921"
             ]
            ],
            "type": "heatmap"
           }
          ],
          "histogram": [
           {
            "marker": {
             "pattern": {
              "fillmode": "overlay",
              "size": 10,
              "solidity": 0.2
             }
            },
            "type": "histogram"
           }
          ],
          "histogram2d": [
           {
            "colorbar": {
             "outlinewidth": 0,
             "ticks": ""
            },
            "colorscale": [
             [
              0,
              "#0d0887"
             ],
             [
              0.1111111111111111,
              "#46039f"
             ],
             [
              0.2222222222222222,
              "#7201a8"
             ],
             [
              0.3333333333333333,
              "#9c179e"
             ],
             [
              0.4444444444444444,
              "#bd3786"
             ],
             [
              0.5555555555555556,
              "#d8576b"
             ],
             [
              0.6666666666666666,
              "#ed7953"
             ],
             [
              0.7777777777777778,
              "#fb9f3a"
             ],
             [
              0.8888888888888888,
              "#fdca26"
             ],
             [
              1,
              "#f0f921"
             ]
            ],
            "type": "histogram2d"
           }
          ],
          "histogram2dcontour": [
           {
            "colorbar": {
             "outlinewidth": 0,
             "ticks": ""
            },
            "colorscale": [
             [
              0,
              "#0d0887"
             ],
             [
              0.1111111111111111,
              "#46039f"
             ],
             [
              0.2222222222222222,
              "#7201a8"
             ],
             [
              0.3333333333333333,
              "#9c179e"
             ],
             [
              0.4444444444444444,
              "#bd3786"
             ],
             [
              0.5555555555555556,
              "#d8576b"
             ],
             [
              0.6666666666666666,
              "#ed7953"
             ],
             [
              0.7777777777777778,
              "#fb9f3a"
             ],
             [
              0.8888888888888888,
              "#fdca26"
             ],
             [
              1,
              "#f0f921"
             ]
            ],
            "type": "histogram2dcontour"
           }
          ],
          "mesh3d": [
           {
            "colorbar": {
             "outlinewidth": 0,
             "ticks": ""
            },
            "type": "mesh3d"
           }
          ],
          "parcoords": [
           {
            "line": {
             "colorbar": {
              "outlinewidth": 0,
              "ticks": ""
             }
            },
            "type": "parcoords"
           }
          ],
          "pie": [
           {
            "automargin": true,
            "type": "pie"
           }
          ],
          "scatter": [
           {
            "fillpattern": {
             "fillmode": "overlay",
             "size": 10,
             "solidity": 0.2
            },
            "type": "scatter"
           }
          ],
          "scatter3d": [
           {
            "line": {
             "colorbar": {
              "outlinewidth": 0,
              "ticks": ""
             }
            },
            "marker": {
             "colorbar": {
              "outlinewidth": 0,
              "ticks": ""
             }
            },
            "type": "scatter3d"
           }
          ],
          "scattercarpet": [
           {
            "marker": {
             "colorbar": {
              "outlinewidth": 0,
              "ticks": ""
             }
            },
            "type": "scattercarpet"
           }
          ],
          "scattergeo": [
           {
            "marker": {
             "colorbar": {
              "outlinewidth": 0,
              "ticks": ""
             }
            },
            "type": "scattergeo"
           }
          ],
          "scattergl": [
           {
            "marker": {
             "colorbar": {
              "outlinewidth": 0,
              "ticks": ""
             }
            },
            "type": "scattergl"
           }
          ],
          "scattermap": [
           {
            "marker": {
             "colorbar": {
              "outlinewidth": 0,
              "ticks": ""
             }
            },
            "type": "scattermap"
           }
          ],
          "scattermapbox": [
           {
            "marker": {
             "colorbar": {
              "outlinewidth": 0,
              "ticks": ""
             }
            },
            "type": "scattermapbox"
           }
          ],
          "scatterpolar": [
           {
            "marker": {
             "colorbar": {
              "outlinewidth": 0,
              "ticks": ""
             }
            },
            "type": "scatterpolar"
           }
          ],
          "scatterpolargl": [
           {
            "marker": {
             "colorbar": {
              "outlinewidth": 0,
              "ticks": ""
             }
            },
            "type": "scatterpolargl"
           }
          ],
          "scatterternary": [
           {
            "marker": {
             "colorbar": {
              "outlinewidth": 0,
              "ticks": ""
             }
            },
            "type": "scatterternary"
           }
          ],
          "surface": [
           {
            "colorbar": {
             "outlinewidth": 0,
             "ticks": ""
            },
            "colorscale": [
             [
              0,
              "#0d0887"
             ],
             [
              0.1111111111111111,
              "#46039f"
             ],
             [
              0.2222222222222222,
              "#7201a8"
             ],
             [
              0.3333333333333333,
              "#9c179e"
             ],
             [
              0.4444444444444444,
              "#bd3786"
             ],
             [
              0.5555555555555556,
              "#d8576b"
             ],
             [
              0.6666666666666666,
              "#ed7953"
             ],
             [
              0.7777777777777778,
              "#fb9f3a"
             ],
             [
              0.8888888888888888,
              "#fdca26"
             ],
             [
              1,
              "#f0f921"
             ]
            ],
            "type": "surface"
           }
          ],
          "table": [
           {
            "cells": {
             "fill": {
              "color": "#EBF0F8"
             },
             "line": {
              "color": "white"
             }
            },
            "header": {
             "fill": {
              "color": "#C8D4E3"
             },
             "line": {
              "color": "white"
             }
            },
            "type": "table"
           }
          ]
         },
         "layout": {
          "annotationdefaults": {
           "arrowcolor": "#2a3f5f",
           "arrowhead": 0,
           "arrowwidth": 1
          },
          "autotypenumbers": "strict",
          "coloraxis": {
           "colorbar": {
            "outlinewidth": 0,
            "ticks": ""
           }
          },
          "colorscale": {
           "diverging": [
            [
             0,
             "#8e0152"
            ],
            [
             0.1,
             "#c51b7d"
            ],
            [
             0.2,
             "#de77ae"
            ],
            [
             0.3,
             "#f1b6da"
            ],
            [
             0.4,
             "#fde0ef"
            ],
            [
             0.5,
             "#f7f7f7"
            ],
            [
             0.6,
             "#e6f5d0"
            ],
            [
             0.7,
             "#b8e186"
            ],
            [
             0.8,
             "#7fbc41"
            ],
            [
             0.9,
             "#4d9221"
            ],
            [
             1,
             "#276419"
            ]
           ],
           "sequential": [
            [
             0,
             "#0d0887"
            ],
            [
             0.1111111111111111,
             "#46039f"
            ],
            [
             0.2222222222222222,
             "#7201a8"
            ],
            [
             0.3333333333333333,
             "#9c179e"
            ],
            [
             0.4444444444444444,
             "#bd3786"
            ],
            [
             0.5555555555555556,
             "#d8576b"
            ],
            [
             0.6666666666666666,
             "#ed7953"
            ],
            [
             0.7777777777777778,
             "#fb9f3a"
            ],
            [
             0.8888888888888888,
             "#fdca26"
            ],
            [
             1,
             "#f0f921"
            ]
           ],
           "sequentialminus": [
            [
             0,
             "#0d0887"
            ],
            [
             0.1111111111111111,
             "#46039f"
            ],
            [
             0.2222222222222222,
             "#7201a8"
            ],
            [
             0.3333333333333333,
             "#9c179e"
            ],
            [
             0.4444444444444444,
             "#bd3786"
            ],
            [
             0.5555555555555556,
             "#d8576b"
            ],
            [
             0.6666666666666666,
             "#ed7953"
            ],
            [
             0.7777777777777778,
             "#fb9f3a"
            ],
            [
             0.8888888888888888,
             "#fdca26"
            ],
            [
             1,
             "#f0f921"
            ]
           ]
          },
          "colorway": [
           "#636efa",
           "#EF553B",
           "#00cc96",
           "#ab63fa",
           "#FFA15A",
           "#19d3f3",
           "#FF6692",
           "#B6E880",
           "#FF97FF",
           "#FECB52"
          ],
          "font": {
           "color": "#2a3f5f"
          },
          "geo": {
           "bgcolor": "white",
           "lakecolor": "white",
           "landcolor": "white",
           "showlakes": true,
           "showland": true,
           "subunitcolor": "#C8D4E3"
          },
          "hoverlabel": {
           "align": "left"
          },
          "hovermode": "closest",
          "mapbox": {
           "style": "light"
          },
          "paper_bgcolor": "white",
          "plot_bgcolor": "white",
          "polar": {
           "angularaxis": {
            "gridcolor": "#EBF0F8",
            "linecolor": "#EBF0F8",
            "ticks": ""
           },
           "bgcolor": "white",
           "radialaxis": {
            "gridcolor": "#EBF0F8",
            "linecolor": "#EBF0F8",
            "ticks": ""
           }
          },
          "scene": {
           "xaxis": {
            "backgroundcolor": "white",
            "gridcolor": "#DFE8F3",
            "gridwidth": 2,
            "linecolor": "#EBF0F8",
            "showbackground": true,
            "ticks": "",
            "zerolinecolor": "#EBF0F8"
           },
           "yaxis": {
            "backgroundcolor": "white",
            "gridcolor": "#DFE8F3",
            "gridwidth": 2,
            "linecolor": "#EBF0F8",
            "showbackground": true,
            "ticks": "",
            "zerolinecolor": "#EBF0F8"
           },
           "zaxis": {
            "backgroundcolor": "white",
            "gridcolor": "#DFE8F3",
            "gridwidth": 2,
            "linecolor": "#EBF0F8",
            "showbackground": true,
            "ticks": "",
            "zerolinecolor": "#EBF0F8"
           }
          },
          "shapedefaults": {
           "line": {
            "color": "#2a3f5f"
           }
          },
          "ternary": {
           "aaxis": {
            "gridcolor": "#DFE8F3",
            "linecolor": "#A2B1C6",
            "ticks": ""
           },
           "baxis": {
            "gridcolor": "#DFE8F3",
            "linecolor": "#A2B1C6",
            "ticks": ""
           },
           "bgcolor": "white",
           "caxis": {
            "gridcolor": "#DFE8F3",
            "linecolor": "#A2B1C6",
            "ticks": ""
           }
          },
          "title": {
           "x": 0.05
          },
          "xaxis": {
           "automargin": true,
           "gridcolor": "#EBF0F8",
           "linecolor": "#EBF0F8",
           "ticks": "",
           "title": {
            "standoff": 15
           },
           "zerolinecolor": "#EBF0F8",
           "zerolinewidth": 2
          },
          "yaxis": {
           "automargin": true,
           "gridcolor": "#EBF0F8",
           "linecolor": "#EBF0F8",
           "ticks": "",
           "title": {
            "standoff": 15
           },
           "zerolinecolor": "#EBF0F8",
           "zerolinewidth": 2
          }
         }
        },
        "title": {
         "text": "Lasso Regularization Path (with Feature Selection Steps)"
        },
        "width": 900,
        "xaxis": {
         "title": {
          "text": "Alpha (log scale)"
         },
         "type": "log"
        },
        "yaxis": {
         "title": {
          "text": "Coefficient Value"
         }
        }
       }
      }
     },
     "metadata": {},
     "output_type": "display_data"
    }
   ],
   "source": [
    "import numpy as np\n",
    "import plotly.graph_objects as go\n",
    "from sklearn.linear_model import lasso_path\n",
    "\n",
    "# Compute Lasso path\n",
    "X_pipeline = preprocessor.fit_transform(X_train)\n",
    "alphas_lasso, coefs_lasso, _ = lasso_path(X_pipeline, y_train, eps=5e-4)\n",
    "feature_names = X_train.columns.to_list()\n",
    "\n",
    "# Count non-zero coefficients per alpha\n",
    "nonzero_counts = (coefs_lasso != 0).sum(axis=0)\n",
    "\n",
    "# Find where non-zero count changes\n",
    "change_indices = np.where(np.diff(nonzero_counts) != 0)[0] + 1\n",
    "change_alphas = alphas_lasso[change_indices]\n",
    "change_counts = nonzero_counts[change_indices]\n",
    "\n",
    "# Create base plot: coefficient paths\n",
    "fig = go.Figure()\n",
    "\n",
    "for coef, name in zip(coefs_lasso, feature_names):\n",
    "    fig.add_trace(go.Scatter(\n",
    "        x=alphas_lasso,\n",
    "        y=coef,\n",
    "        mode='lines',\n",
    "        name=name\n",
    "    ))\n",
    "\n",
    "# Add vertical dotted lines where non-zero feature count changes\n",
    "for alpha, count in zip(change_alphas, change_counts):\n",
    "    fig.add_trace(go.Scatter(\n",
    "        x=[alpha, alpha],\n",
    "        y=[coefs_lasso.min(), coefs_lasso.max()],\n",
    "        mode='lines',\n",
    "        line=dict(dash='dot', color='gray'),\n",
    "        showlegend=False,\n",
    "        hovertemplate=f\"Alpha: {alpha:.4f}<br>Non-zero features: {count}<extra></extra>\"\n",
    "    ))\n",
    "\n",
    "# Final layout\n",
    "fig.update_layout(\n",
    "    title='Lasso Regularization Path (with Feature Selection Steps)',\n",
    "    xaxis=dict(title='Alpha (log scale)', type='log'),\n",
    "    yaxis=dict(title='Coefficient Value'),\n",
    "    template='plotly_white',\n",
    "    legend_title_text='Features',\n",
    "    width=900,\n",
    "    height=600\n",
    ")\n",
    "\n",
    "fig.show()\n"
   ]
  },
  {
   "cell_type": "markdown",
   "id": "e662924f",
   "metadata": {},
   "source": [
    "## Final Selected Model"
   ]
  },
  {
   "cell_type": "code",
   "execution_count": 18,
   "id": "c419aaf2",
   "metadata": {},
   "outputs": [
    {
     "name": "stdout",
     "output_type": "stream",
     "text": [
      "Selected Alpha from 1-SE rule: 30.0\n",
      "\n",
      "Metrics Training:\n",
      "R²: 0.911\n",
      "MSE: 45938135.87\n",
      "RMSE: 6777.77\n",
      "MAE: 4546.78\n",
      "\n",
      "Metrics Test:\n",
      "R²: 0.911\n",
      "MSE: 46065085.54\n",
      "RMSE: 6787.13\n",
      "MAE: 4526.19\n",
      "\n",
      "Selected Coefficients (non-zero): 19\n"
     ]
    },
    {
     "data": {
      "text/html": [
       "<div>\n",
       "<style scoped>\n",
       "    .dataframe tbody tr th:only-of-type {\n",
       "        vertical-align: middle;\n",
       "    }\n",
       "\n",
       "    .dataframe tbody tr th {\n",
       "        vertical-align: top;\n",
       "    }\n",
       "\n",
       "    .dataframe thead th {\n",
       "        text-align: right;\n",
       "    }\n",
       "</style>\n",
       "<table border=\"1\" class=\"dataframe\">\n",
       "  <thead>\n",
       "    <tr style=\"text-align: right;\">\n",
       "      <th></th>\n",
       "      <th>Selected Feature</th>\n",
       "      <th>Coefficient</th>\n",
       "    </tr>\n",
       "  </thead>\n",
       "  <tbody>\n",
       "    <tr>\n",
       "      <th>0</th>\n",
       "      <td>class_Economy</td>\n",
       "      <td>-44712.037512</td>\n",
       "    </tr>\n",
       "    <tr>\n",
       "      <th>1</th>\n",
       "      <td>stops_zero</td>\n",
       "      <td>-7233.533484</td>\n",
       "    </tr>\n",
       "    <tr>\n",
       "      <th>2</th>\n",
       "      <td>airline_Vistara</td>\n",
       "      <td>2688.257792</td>\n",
       "    </tr>\n",
       "    <tr>\n",
       "      <th>3</th>\n",
       "      <td>duration</td>\n",
       "      <td>-1753.843322</td>\n",
       "    </tr>\n",
       "    <tr>\n",
       "      <th>4</th>\n",
       "      <td>source_city_Kolkata</td>\n",
       "      <td>1534.823157</td>\n",
       "    </tr>\n",
       "    <tr>\n",
       "      <th>5</th>\n",
       "      <td>destination_city_Hyderabad</td>\n",
       "      <td>-1364.363190</td>\n",
       "    </tr>\n",
       "    <tr>\n",
       "      <th>6</th>\n",
       "      <td>destination_city_Kolkata</td>\n",
       "      <td>1315.960962</td>\n",
       "    </tr>\n",
       "    <tr>\n",
       "      <th>7</th>\n",
       "      <td>source_city_Hyderabad</td>\n",
       "      <td>-1279.974772</td>\n",
       "    </tr>\n",
       "    <tr>\n",
       "      <th>8</th>\n",
       "      <td>destination_city_Delhi</td>\n",
       "      <td>-1244.439433</td>\n",
       "    </tr>\n",
       "    <tr>\n",
       "      <th>9</th>\n",
       "      <td>stops_two_or_more</td>\n",
       "      <td>1171.393483</td>\n",
       "    </tr>\n",
       "    <tr>\n",
       "      <th>10</th>\n",
       "      <td>airline_Air_India</td>\n",
       "      <td>-1135.031607</td>\n",
       "    </tr>\n",
       "    <tr>\n",
       "      <th>11</th>\n",
       "      <td>source_city_Delhi</td>\n",
       "      <td>-1133.397457</td>\n",
       "    </tr>\n",
       "    <tr>\n",
       "      <th>12</th>\n",
       "      <td>arrival_time_Night</td>\n",
       "      <td>588.816048</td>\n",
       "    </tr>\n",
       "    <tr>\n",
       "      <th>13</th>\n",
       "      <td>arrival_time_Early_Morning</td>\n",
       "      <td>-572.621709</td>\n",
       "    </tr>\n",
       "    <tr>\n",
       "      <th>14</th>\n",
       "      <td>arrival_time_Evening</td>\n",
       "      <td>430.779843</td>\n",
       "    </tr>\n",
       "    <tr>\n",
       "      <th>15</th>\n",
       "      <td>airline_Indigo</td>\n",
       "      <td>392.003467</td>\n",
       "    </tr>\n",
       "    <tr>\n",
       "      <th>16</th>\n",
       "      <td>const</td>\n",
       "      <td>358.930302</td>\n",
       "    </tr>\n",
       "    <tr>\n",
       "      <th>17</th>\n",
       "      <td>departure_time_Morning</td>\n",
       "      <td>189.455936</td>\n",
       "    </tr>\n",
       "    <tr>\n",
       "      <th>18</th>\n",
       "      <td>departure_time_Early_Morning</td>\n",
       "      <td>46.078182</td>\n",
       "    </tr>\n",
       "  </tbody>\n",
       "</table>\n",
       "</div>"
      ],
      "text/plain": [
       "                Selected Feature   Coefficient\n",
       "0                  class_Economy -44712.037512\n",
       "1                     stops_zero  -7233.533484\n",
       "2                airline_Vistara   2688.257792\n",
       "3                       duration  -1753.843322\n",
       "4            source_city_Kolkata   1534.823157\n",
       "5     destination_city_Hyderabad  -1364.363190\n",
       "6       destination_city_Kolkata   1315.960962\n",
       "7          source_city_Hyderabad  -1279.974772\n",
       "8         destination_city_Delhi  -1244.439433\n",
       "9              stops_two_or_more   1171.393483\n",
       "10             airline_Air_India  -1135.031607\n",
       "11             source_city_Delhi  -1133.397457\n",
       "12            arrival_time_Night    588.816048\n",
       "13    arrival_time_Early_Morning   -572.621709\n",
       "14          arrival_time_Evening    430.779843\n",
       "15                airline_Indigo    392.003467\n",
       "16                         const    358.930302\n",
       "17        departure_time_Morning    189.455936\n",
       "18  departure_time_Early_Morning     46.078182"
      ]
     },
     "execution_count": 18,
     "metadata": {},
     "output_type": "execute_result"
    }
   ],
   "source": [
    "lasso_pipeline = Pipeline([\n",
    "    ('preprocessor', preprocessor),\n",
    "    ('model', Lasso(alpha=alpha_1se))\n",
    "])\n",
    "\n",
    "lasso_pipeline.fit(X_train, y_train)\n",
    "\n",
    "print(f\"Selected Alpha from 1-SE rule: {alpha_1se}\")\n",
    "\n",
    "# 5. Predictions and metrics\n",
    "print(\"\\nMetrics Training:\")\n",
    "y_pred = lasso_pipeline.predict(X_train)\n",
    "evaluate_predictions(y_train, y_pred )\n",
    "\n",
    "print(\"\\nMetrics Test:\")\n",
    "y_pred = lasso_pipeline.predict(X_test)\n",
    "evaluate_predictions(y_test, y_pred )\n",
    "\n",
    "# 6. Extract coefficients\n",
    "lasso = lasso_pipeline.named_steps['model']\n",
    "coef = pd.Series(lasso.coef_, index=X_encoded.columns)\n",
    "show_nonzero_coefficients(coef)"
   ]
  },
  {
   "cell_type": "code",
   "execution_count": null,
   "id": "21ff541c",
   "metadata": {},
   "outputs": [],
   "source": []
  }
 ],
 "metadata": {
  "kernelspec": {
   "display_name": "tru_linear_models_assignments",
   "language": "python",
   "name": "python3"
  },
  "language_info": {
   "codemirror_mode": {
    "name": "ipython",
    "version": 3
   },
   "file_extension": ".py",
   "mimetype": "text/x-python",
   "name": "python",
   "nbconvert_exporter": "python",
   "pygments_lexer": "ipython3",
   "version": "3.12.9"
  }
 },
 "nbformat": 4,
 "nbformat_minor": 5
}
