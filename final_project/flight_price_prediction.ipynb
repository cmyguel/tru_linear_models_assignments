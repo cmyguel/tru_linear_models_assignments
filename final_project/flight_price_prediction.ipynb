{
 "cells": [
  {
   "cell_type": "markdown",
   "id": "20162243",
   "metadata": {},
   "source": [
    "# Flight Price Prediction\n",
    "\n",
    "References:\n",
    "- model selection: https://scikit-learn.org/stable/auto_examples/linear_model/plot_lasso_model_selection.html\n",
    "- learning paths: https://scikit-learn.org/stable/auto_examples/linear_model/plot_lasso_lasso_lars_elasticnet_path.html"
   ]
  },
  {
   "cell_type": "code",
   "execution_count": 1,
   "id": "d5d26eb9",
   "metadata": {},
   "outputs": [
    {
     "name": "stderr",
     "output_type": "stream",
     "text": [
      "c:\\Users\\AsusTUF\\anaconda3\\envs\\tru_linear_models_assignments\\Lib\\site-packages\\tqdm\\auto.py:21: TqdmWarning: IProgress not found. Please update jupyter and ipywidgets. See https://ipywidgets.readthedocs.io/en/stable/user_install.html\n",
      "  from .autonotebook import tqdm as notebook_tqdm\n"
     ]
    },
    {
     "data": {
      "text/html": [
       "\n",
       "            <div>\n",
       "                <ins><a href=\"https://ydata.ai/register\">Upgrade to ydata-sdk</a></ins>\n",
       "                <p>\n",
       "                    Improve your data and profiling with ydata-sdk, featuring data quality scoring, redundancy detection, outlier identification, text validation, and synthetic data generation.\n",
       "                </p>\n",
       "            </div>\n",
       "            "
      ],
      "text/plain": [
       "<IPython.core.display.HTML object>"
      ]
     },
     "metadata": {},
     "output_type": "display_data"
    }
   ],
   "source": [
    "from pathlib import Path\n",
    "import numpy as np\n",
    "import pandas as pd\n",
    "from ydata_profiling import ProfileReport\n",
    "\n",
    "import seaborn as sns\n",
    "import matplotlib.pyplot as plt\n",
    "import plotly.express as px\n",
    "\n",
    "import statsmodels.api as sm\n",
    "import statsmodels.formula.api as smf\n",
    "from statsmodels.stats.stattools import durbin_watson\n",
    "\n",
    "from sklearn.model_selection import train_test_split\n",
    "from sklearn.pipeline import make_pipeline, Pipeline\n",
    "from sklearn.compose import ColumnTransformer\n",
    "from sklearn.preprocessing import StandardScaler\n",
    "from sklearn.linear_model import Lasso, LassoCV\n",
    "from sklearn.metrics import r2_score, mean_squared_error, mean_absolute_error, root_mean_squared_error"
   ]
  },
  {
   "cell_type": "code",
   "execution_count": 2,
   "id": "14239277",
   "metadata": {},
   "outputs": [],
   "source": [
    "pd.set_option('display.max_columns', 50)\n",
    "\n",
    "SIMPLIFIED_PLOTS = True\n",
    "PLOT_SUMSAMPLE = 2000 # Used for heavy plots like scatter"
   ]
  },
  {
   "cell_type": "code",
   "execution_count": 3,
   "id": "74402378-599c-4bc0-85a4-f99a371b7367",
   "metadata": {},
   "outputs": [
    {
     "data": {
      "text/html": [
       "<div>\n",
       "<style scoped>\n",
       "    .dataframe tbody tr th:only-of-type {\n",
       "        vertical-align: middle;\n",
       "    }\n",
       "\n",
       "    .dataframe tbody tr th {\n",
       "        vertical-align: top;\n",
       "    }\n",
       "\n",
       "    .dataframe thead th {\n",
       "        text-align: right;\n",
       "    }\n",
       "</style>\n",
       "<table border=\"1\" class=\"dataframe\">\n",
       "  <thead>\n",
       "    <tr style=\"text-align: right;\">\n",
       "      <th></th>\n",
       "      <th>airline</th>\n",
       "      <th>flight</th>\n",
       "      <th>source_city</th>\n",
       "      <th>departure_time</th>\n",
       "      <th>stops</th>\n",
       "      <th>arrival_time</th>\n",
       "      <th>destination_city</th>\n",
       "      <th>class</th>\n",
       "      <th>duration</th>\n",
       "      <th>days_left</th>\n",
       "      <th>price</th>\n",
       "    </tr>\n",
       "  </thead>\n",
       "  <tbody>\n",
       "    <tr>\n",
       "      <th>0</th>\n",
       "      <td>SpiceJet</td>\n",
       "      <td>SG-8709</td>\n",
       "      <td>Delhi</td>\n",
       "      <td>Evening</td>\n",
       "      <td>zero</td>\n",
       "      <td>Night</td>\n",
       "      <td>Mumbai</td>\n",
       "      <td>Economy</td>\n",
       "      <td>2.17</td>\n",
       "      <td>1</td>\n",
       "      <td>5953</td>\n",
       "    </tr>\n",
       "    <tr>\n",
       "      <th>1</th>\n",
       "      <td>SpiceJet</td>\n",
       "      <td>SG-8157</td>\n",
       "      <td>Delhi</td>\n",
       "      <td>Early_Morning</td>\n",
       "      <td>zero</td>\n",
       "      <td>Morning</td>\n",
       "      <td>Mumbai</td>\n",
       "      <td>Economy</td>\n",
       "      <td>2.33</td>\n",
       "      <td>1</td>\n",
       "      <td>5953</td>\n",
       "    </tr>\n",
       "    <tr>\n",
       "      <th>2</th>\n",
       "      <td>AirAsia</td>\n",
       "      <td>I5-764</td>\n",
       "      <td>Delhi</td>\n",
       "      <td>Early_Morning</td>\n",
       "      <td>zero</td>\n",
       "      <td>Early_Morning</td>\n",
       "      <td>Mumbai</td>\n",
       "      <td>Economy</td>\n",
       "      <td>2.17</td>\n",
       "      <td>1</td>\n",
       "      <td>5956</td>\n",
       "    </tr>\n",
       "    <tr>\n",
       "      <th>3</th>\n",
       "      <td>Vistara</td>\n",
       "      <td>UK-995</td>\n",
       "      <td>Delhi</td>\n",
       "      <td>Morning</td>\n",
       "      <td>zero</td>\n",
       "      <td>Afternoon</td>\n",
       "      <td>Mumbai</td>\n",
       "      <td>Economy</td>\n",
       "      <td>2.25</td>\n",
       "      <td>1</td>\n",
       "      <td>5955</td>\n",
       "    </tr>\n",
       "    <tr>\n",
       "      <th>4</th>\n",
       "      <td>Vistara</td>\n",
       "      <td>UK-963</td>\n",
       "      <td>Delhi</td>\n",
       "      <td>Morning</td>\n",
       "      <td>zero</td>\n",
       "      <td>Morning</td>\n",
       "      <td>Mumbai</td>\n",
       "      <td>Economy</td>\n",
       "      <td>2.33</td>\n",
       "      <td>1</td>\n",
       "      <td>5955</td>\n",
       "    </tr>\n",
       "    <tr>\n",
       "      <th>...</th>\n",
       "      <td>...</td>\n",
       "      <td>...</td>\n",
       "      <td>...</td>\n",
       "      <td>...</td>\n",
       "      <td>...</td>\n",
       "      <td>...</td>\n",
       "      <td>...</td>\n",
       "      <td>...</td>\n",
       "      <td>...</td>\n",
       "      <td>...</td>\n",
       "      <td>...</td>\n",
       "    </tr>\n",
       "    <tr>\n",
       "      <th>300148</th>\n",
       "      <td>Vistara</td>\n",
       "      <td>UK-822</td>\n",
       "      <td>Chennai</td>\n",
       "      <td>Morning</td>\n",
       "      <td>one</td>\n",
       "      <td>Evening</td>\n",
       "      <td>Hyderabad</td>\n",
       "      <td>Business</td>\n",
       "      <td>10.08</td>\n",
       "      <td>49</td>\n",
       "      <td>69265</td>\n",
       "    </tr>\n",
       "    <tr>\n",
       "      <th>300149</th>\n",
       "      <td>Vistara</td>\n",
       "      <td>UK-826</td>\n",
       "      <td>Chennai</td>\n",
       "      <td>Afternoon</td>\n",
       "      <td>one</td>\n",
       "      <td>Night</td>\n",
       "      <td>Hyderabad</td>\n",
       "      <td>Business</td>\n",
       "      <td>10.42</td>\n",
       "      <td>49</td>\n",
       "      <td>77105</td>\n",
       "    </tr>\n",
       "    <tr>\n",
       "      <th>300150</th>\n",
       "      <td>Vistara</td>\n",
       "      <td>UK-832</td>\n",
       "      <td>Chennai</td>\n",
       "      <td>Early_Morning</td>\n",
       "      <td>one</td>\n",
       "      <td>Night</td>\n",
       "      <td>Hyderabad</td>\n",
       "      <td>Business</td>\n",
       "      <td>13.83</td>\n",
       "      <td>49</td>\n",
       "      <td>79099</td>\n",
       "    </tr>\n",
       "    <tr>\n",
       "      <th>300151</th>\n",
       "      <td>Vistara</td>\n",
       "      <td>UK-828</td>\n",
       "      <td>Chennai</td>\n",
       "      <td>Early_Morning</td>\n",
       "      <td>one</td>\n",
       "      <td>Evening</td>\n",
       "      <td>Hyderabad</td>\n",
       "      <td>Business</td>\n",
       "      <td>10.00</td>\n",
       "      <td>49</td>\n",
       "      <td>81585</td>\n",
       "    </tr>\n",
       "    <tr>\n",
       "      <th>300152</th>\n",
       "      <td>Vistara</td>\n",
       "      <td>UK-822</td>\n",
       "      <td>Chennai</td>\n",
       "      <td>Morning</td>\n",
       "      <td>one</td>\n",
       "      <td>Evening</td>\n",
       "      <td>Hyderabad</td>\n",
       "      <td>Business</td>\n",
       "      <td>10.08</td>\n",
       "      <td>49</td>\n",
       "      <td>81585</td>\n",
       "    </tr>\n",
       "  </tbody>\n",
       "</table>\n",
       "<p>300153 rows × 11 columns</p>\n",
       "</div>"
      ],
      "text/plain": [
       "         airline   flight source_city departure_time stops   arrival_time  \\\n",
       "0       SpiceJet  SG-8709       Delhi        Evening  zero          Night   \n",
       "1       SpiceJet  SG-8157       Delhi  Early_Morning  zero        Morning   \n",
       "2        AirAsia   I5-764       Delhi  Early_Morning  zero  Early_Morning   \n",
       "3        Vistara   UK-995       Delhi        Morning  zero      Afternoon   \n",
       "4        Vistara   UK-963       Delhi        Morning  zero        Morning   \n",
       "...          ...      ...         ...            ...   ...            ...   \n",
       "300148   Vistara   UK-822     Chennai        Morning   one        Evening   \n",
       "300149   Vistara   UK-826     Chennai      Afternoon   one          Night   \n",
       "300150   Vistara   UK-832     Chennai  Early_Morning   one          Night   \n",
       "300151   Vistara   UK-828     Chennai  Early_Morning   one        Evening   \n",
       "300152   Vistara   UK-822     Chennai        Morning   one        Evening   \n",
       "\n",
       "       destination_city     class  duration  days_left  price  \n",
       "0                Mumbai   Economy      2.17          1   5953  \n",
       "1                Mumbai   Economy      2.33          1   5953  \n",
       "2                Mumbai   Economy      2.17          1   5956  \n",
       "3                Mumbai   Economy      2.25          1   5955  \n",
       "4                Mumbai   Economy      2.33          1   5955  \n",
       "...                 ...       ...       ...        ...    ...  \n",
       "300148        Hyderabad  Business     10.08         49  69265  \n",
       "300149        Hyderabad  Business     10.42         49  77105  \n",
       "300150        Hyderabad  Business     13.83         49  79099  \n",
       "300151        Hyderabad  Business     10.00         49  81585  \n",
       "300152        Hyderabad  Business     10.08         49  81585  \n",
       "\n",
       "[300153 rows x 11 columns]"
      ]
     },
     "execution_count": 3,
     "metadata": {},
     "output_type": "execute_result"
    }
   ],
   "source": [
    "df_raw = pd.read_csv(\"./data/Clean_Dataset.csv\", index_col=0)\n",
    "df_raw_sample = df_raw.sample(n=PLOT_SUMSAMPLE)\n",
    "df_raw "
   ]
  },
  {
   "cell_type": "markdown",
   "id": "6cc5d673",
   "metadata": {},
   "source": [
    "## Exploratory Data Analysis\n",
    "- Top 5 Highest correlation predictors: class, duration, days_left, stops, airline\n",
    "- Target: Bimodal due to classes. \n",
    "- duration class:Business: Log, heteroskedasticity \n",
    "- duration class:Economy: Linear, heteroskedasticity\n",
    "- days_left class:economy: 1/x"
   ]
  },
  {
   "cell_type": "code",
   "execution_count": 4,
   "id": "1ec3f453",
   "metadata": {},
   "outputs": [],
   "source": [
    "# Create EDA report IF it doesn't exist\n",
    "path_eda_report = Path(\"EDA/profiling_report.html\")\n",
    "path_eda_report.parent.mkdir(exist_ok=True)\n",
    "if not path_eda_report.exists():\n",
    "    profile = ProfileReport(df_raw, title=\"Profiling Report\")\n",
    "    profile.to_file(path_eda_report)"
   ]
  },
  {
   "cell_type": "code",
   "execution_count": 5,
   "id": "a584b792",
   "metadata": {},
   "outputs": [
    {
     "data": {
      "text/html": [
       "<div>\n",
       "<style scoped>\n",
       "    .dataframe tbody tr th:only-of-type {\n",
       "        vertical-align: middle;\n",
       "    }\n",
       "\n",
       "    .dataframe tbody tr th {\n",
       "        vertical-align: top;\n",
       "    }\n",
       "\n",
       "    .dataframe thead th {\n",
       "        text-align: right;\n",
       "    }\n",
       "</style>\n",
       "<table border=\"1\" class=\"dataframe\">\n",
       "  <thead>\n",
       "    <tr style=\"text-align: right;\">\n",
       "      <th></th>\n",
       "      <th>duration</th>\n",
       "      <th>days_left</th>\n",
       "      <th>price</th>\n",
       "    </tr>\n",
       "  </thead>\n",
       "  <tbody>\n",
       "    <tr>\n",
       "      <th>count</th>\n",
       "      <td>300153.000000</td>\n",
       "      <td>300153.000000</td>\n",
       "      <td>300153.000000</td>\n",
       "    </tr>\n",
       "    <tr>\n",
       "      <th>mean</th>\n",
       "      <td>12.221021</td>\n",
       "      <td>26.004751</td>\n",
       "      <td>20889.660523</td>\n",
       "    </tr>\n",
       "    <tr>\n",
       "      <th>std</th>\n",
       "      <td>7.191997</td>\n",
       "      <td>13.561004</td>\n",
       "      <td>22697.767366</td>\n",
       "    </tr>\n",
       "    <tr>\n",
       "      <th>min</th>\n",
       "      <td>0.830000</td>\n",
       "      <td>1.000000</td>\n",
       "      <td>1105.000000</td>\n",
       "    </tr>\n",
       "    <tr>\n",
       "      <th>25%</th>\n",
       "      <td>6.830000</td>\n",
       "      <td>15.000000</td>\n",
       "      <td>4783.000000</td>\n",
       "    </tr>\n",
       "    <tr>\n",
       "      <th>50%</th>\n",
       "      <td>11.250000</td>\n",
       "      <td>26.000000</td>\n",
       "      <td>7425.000000</td>\n",
       "    </tr>\n",
       "    <tr>\n",
       "      <th>75%</th>\n",
       "      <td>16.170000</td>\n",
       "      <td>38.000000</td>\n",
       "      <td>42521.000000</td>\n",
       "    </tr>\n",
       "    <tr>\n",
       "      <th>max</th>\n",
       "      <td>49.830000</td>\n",
       "      <td>49.000000</td>\n",
       "      <td>123071.000000</td>\n",
       "    </tr>\n",
       "  </tbody>\n",
       "</table>\n",
       "</div>"
      ],
      "text/plain": [
       "            duration      days_left          price\n",
       "count  300153.000000  300153.000000  300153.000000\n",
       "mean       12.221021      26.004751   20889.660523\n",
       "std         7.191997      13.561004   22697.767366\n",
       "min         0.830000       1.000000    1105.000000\n",
       "25%         6.830000      15.000000    4783.000000\n",
       "50%        11.250000      26.000000    7425.000000\n",
       "75%        16.170000      38.000000   42521.000000\n",
       "max        49.830000      49.000000  123071.000000"
      ]
     },
     "execution_count": 5,
     "metadata": {},
     "output_type": "execute_result"
    }
   ],
   "source": [
    "df_raw.describe()"
   ]
  },
  {
   "cell_type": "code",
   "execution_count": null,
   "id": "6985d759",
   "metadata": {},
   "outputs": [],
   "source": [
    "px.histogram(df_raw, x=\"price\", color=\"class\")\n",
    "# df_raw.price.hist(bins=20)"
   ]
  },
  {
   "cell_type": "code",
   "execution_count": 7,
   "id": "0764bb25",
   "metadata": {},
   "outputs": [
    {
     "data": {
      "application/vnd.plotly.v1+json": {
       "config": {
        "plotlyServerURL": "https://plot.ly"
       },
       "data": [
        {
         "hovertemplate": "class=Economy<br>days_left=%{x}<br>price=%{y}<extra></extra>",
         "legendgroup": "Economy",
         "marker": {
          "color": "#636efa",
          "symbol": "circle"
         },
         "mode": "markers",
         "name": "Economy",
         "showlegend": true,
         "type": "scattergl",
         "x": {
          "bdata": "FRkpEzAHHwwxDjAeIQMtHBMcFAkxJhscFScPHQsjLgwbDRUgDyojAissCw0WECEEICMlLxMFDicbEBIpKScbFSUlLB0KByImDxILIhoxFB0mGAceFgogMQkVFyISBDElICAWCCkhHywGFAYWJAQaLAwIIQsRBSQbJi0TBBQgDSwuGikrLhUNDSAcJiELIjEQDQsXIzEHMBEtLikfBBgWChkKHxUpHCkVICMoCREcGSIGEiEhFCcTIi4lJiYqEwwUBCYMJxQoDSoOEiMqLxQZHwYtDislMQkSJwMkEy0ZCxwxKxQfIxMtLBAMGCcEIhceFSwkKAkULxQcMAwXGhAhFSMvJgMnEA8IEyoOJh8cHyUgGiMcMDAbDhcZEhoLJi8eMSQoMAEhER0VKhgxJhgOMS0JEBsEHBAnMQ4CLSsXEy8kFgEqDAkHGgcOLwsILBgRMRoXFy8EJC8GDicqKhweFhYrFzAUERgbBSchDQMPHQ4IHxIEKS8sDBUPLwYqJigVGCglHgQWGBgFFCEhBw8PICUrMCAlIB0hJhYGFTEJGQgbJAchFigYJAMeDiQeICMcJiopKQUHHw0uGB0cKAsbEBEUDxAYFRUqKAUwGSsGAh4uIwEdEigrLh4pDSYXHSMJEikrFiYfJAgrFQoSLSUdGwkoJREfIQkDDBEZDB8pJCsmFAsXFRQrAycwGQ4fGCgbKBsHBicMDiMNJx0GBioTDCggLREPLxwRJTAHLAUYCSYPKS4TLAMWEhMwGiEqIBQQGAopDCMTLRoqGhUhEA4DLRkcFwIWDgssIhwoIhAMKQ8VLiorIzEDCSgfJQQwLRkNLg4MLhMLCQ0gDCMmGS0jKhUQMRcmGh0nDQojESwdHRAbKhgDCy0sDCgOEBwZLRkQLy0YLgsdGS4qHy8dCgEaJwwUJh8lCh4YGCMQLBArEQsRCwsmHSMNDyIKIiwgKhQGGRsJEwkZJxgaGisiGxQCDCAtJhUGERIFIy8ZIw4mIB0xHh8fIiINBh4TLjEMKhIvFi8FIwoDEQUeBBQrJR4GISQJHgYdHxEtCB0vKRwVDQkhKw8kIiYIBxsSJCQsIBcJGCYpEDAlAQIFHxUEFS0fEzEoDAcfBxMiEiAuCiUmIQ8qFAUeHAgKLSYJECAqAh0lGxooEhMbGAsPByYxHR4SCREeBhgSHi8wAyYUCAIfCgMGIyMUCyUpCA0SDSoiCi8BIiAZBigPDQktKB8sFxcbJg8DDiUKFigeKg8TICEPASEMBikfHS8WEA4YDgouGBknHB8mLiQcEykYDxwYKh0XMCIZDxgUJwkJLxEDCy4GDQsUFisFLQsFDA8GESsSFSsbFAgSEAQrBCwBCBosEB0lJRkmFBgCISwmAh4DHAoUKwsvExksFhAGIRMuKgslDiQYJBgFEhEdCwYgHSgOFAcUAigtLRktFyUqKykaHisCJREjKhosCBITMS8vAyECCSQPHAkJEAImFxMrKyMrJR4gKSMUDyoTEhQYMA0vDBwfGh0UKRMWCgIxEyQJGQwtDggqGCcjBBQiGwooDwMqGgUdHBcRIBoLIRcLLSgUDSElDBgjHCkkHwYBEhcqERAOEgYCBQwGLQUdKwIVMQ4ZJh0jLBssAiQgJxISLSAfKisdBggkGSUSEBUZICIuJAUbDyMgMAQIDiEtFiQtCCsQGQwjFRwoKyEaFycXFAYFBycUJw8bHCkkDhQsFCsTJwEKAxgfLSktAxExLxojBC0wKTEEDxYQBwUtGywiCioVDSIoGS8tMC8VJBUaMQMgFQQiKBIPIgQKERwtExIMEyEZFw4wDSwhGDEO",
          "dtype": "i1"
         },
         "xaxis": "x",
         "y": {
          "bdata": "PhE6FIMhIwmzJhw5pRqsF4wWoB3wF1MShAl6ZVcRjBJZGVEYKBObO4YQFxIDGF8JkxU3E60Ueg3NLMEd6BcALUENWRmbEMoIbzm+CgoeaS1sEO0RphACHa0UsBwmEegiBwbqOnASjA+jDfEj4DGVEQ8QcxPGC0ER6gwmB4UQMhmsCaMFjBY9F2ktGCIWD6MFJSs6FAEdjw3uE2ISIwlVC7gLHAzxI2sTgUdaGbcWJREcOcoUQh1MD7MMuSiYGA4YxBO4EmQaNDh2GDQepw+WEWkTKRIgIIUQ4B7gLN0XDwZ5K5stJRECHaMKHjCTEgQXoQvnD78OMxfqFZMVuyA3F6gZMxhFEPsYRRNCF8YqgjajGFgZZSLEC0IXrBFBEbQPeStKJ9sSzisyCE4uwQ/KCIIUQQ1AHJMSahBBG6AICS61DPQcgxgDEGUS/AbCDnAcvA/wBgcGZBR7H7wPJhF9ETcsDicyGUwPQxpxEBYPTAjBGK8SgBbqIPANDxBwKT0ZAR3PDPQsLBzKFB0NNxetFb8jsBYqGREYowUiEBwWqxW4LLgRPSsgE0EN/BDEYpMRsxd9T0oN2STxDScO1DT2D/AUAgj5FYMYkBFUGKAPGgjOBzwdhxusCUEXZRYvGMwOrRReCTEOhRBlEQ4UkBc5FLIZBwa4HI4OtxReHLMXQQ2kHM4HPB2DMYAVexrIH1A/Qxr8ECMhgxUPEKMKsglPFxINDhgnCUENIxHsEwIIZTCrHa4H0A+MFnkrIwl9EQQNxhzbEpMRPRerOY8YlRG0CIEW6ArpGZMMaxOTEqYQhRDPEXIxmyRNEFIpcRO4RxYPvBkoJpJbIRSvH+oXuRZtFZEX9hXFK30RNywhN4UeuAu4KfsbMhkWH0IXagnqDFgWTA/TEpkIOhQSDD0rlA8zGFwuVSfBGFULxhUXFUkUABdfHKwJSBdXEZoQkBFzE6QIUDINDkQGGjPlOKo6whfPO/khPShZGfQcqA2YHT0X2iMhDHkRNRasF5QRXxuVGKoUiw79CDAQoxZgJdce8zvqFT0kABTlG9MeLzP7JScJ+xgdDccL8AaZCF8NQBLGH0wIBBdNCr4y0BZsFHkrWRV4MCIlABcNMZQRMBKwH8sMDw8vKU8N8xyDD/AGowWwENcPlhNtELkRYgegNTsUCAgIKKgZ3xMlGdYPoAnFK1gZHQzOE48YVxlMCJAR9ReEDg8QywzUH48YDyLqF/EjPSQaCKgYhhDxX3AUqRtRHJ8PrgfPDBoMOhRLE7cYlxOhCaQ7CBuyCzUWiw0QKwUaWxWtIaoOlhFsIMYQ2xnFH9sUrhbxJMwR2xKHGhwYPRcONxkt9CzyEKAJORSyCosRzgdGFv8b8RD4KYYbGAzbEhQLxSOKGFwbbhm4HD4XOhTKFEQMyhS0EFIsFh9dEUMX8RDOKwIdSSI9GSs//xyUE8wOxyBoD0sTThNvM84H4g5pDtUSLBw9DXkrJgfFHukQyyQjCV0fwh31GIgKBQ/SNkMXBxSZEJ4GZRFnDAIINRwZGLsV8RV2IhgWkw/qHQURPRndFx0SZA+5Bw8QbhQbLn4/QRWGCnMTRRDzOJMqsC0BHYUk2wzQPSMLVhRBGgcmABZGJhoIOBDbEpYRtjFBFTQ1QxetFZARQBJ2Mo8YIAkgE5stlx1aGUEXgw+yBvgpuDOrJ5QYahDdF5kQFCYaCAQXpw9uGVYh4RONIckPRUbqF5kIUizxI+YVsgYjCcYSPA7CF14QoAkPEDkUqydAEjUcxSsPIgIdWwmsFDoUJA+TEd8zFA+rEvwMJhEzF4YQixE9GYMVBA9vFMYLAR3kNhInygg5FCATIBPfE5QRSicjCU8SABejChsuNQ3RGA4YEgw6FJ8PZRFwM0UTgxg9GasU6Cv2DxcfJw4HEUgXgRZMGaAWmRFCF3s2YQ5eMtIMTA9kFFQIxhCGEN4SZBlFEO4THyiMFiQMOhp3MaAdGA64GiA6ehxNCm0VGhWYH5ARFg+OE8QTYgeQFyYWaie4C0YmSDCQC7IZEg0vE9EY6hWDFagNgxUPEaAdPRd5K7gsQRvyEBwMPzpMD30MBBcmB3YvGRTtETY8Gw+4KToTeBrYMpgY9x6hEIQJjhk9F4INuShDJA8QZA/mNb8Pwh9mFmYRAR1SGI8V+xhWIrMXmAlHD4QhTAj6Mm8ULDAPIq8f+EMBHZstkw9MCIo8wBGrDH0cKhGTEsQLgB/mI6AXIietCbASZw5NEFceYREzJjUcMhkgIKIMyRC1I8oSnw9YFP4yBhysG/kvFBvnD20b1DRLI7MXSBeGEDcSdw+4EuMVrRZCM5QSUidtEEEVQBKfDywbQi8sF0wPrjmEGOoZyA+tCZkQQy5WFIEWRjdwJg8QlCG4LNQ0QQ3GFXMT6BqQF5sIPB0aNEEVJzOcFEwPlj8PD2JBrxhqCUUPZkBFEHsVrRTRPaMKuBKgFw0itxsBIJMSbxOxFKAdxR67GcExBBIUC+oZaglkEW4gCAi5FkQM1UwCCHYv3zMdEpQPmhWyBjISDhQ2FzQe9x6/P2YZpAggFLAJdBJDGs4hTQr7GMkQMQnwFIoSvRLzFW8zoxGYGDITABB5DnAUAw5LJVkZagnCLJVPHBbKIY5B7hkqH3owwC1YGZURMhkgEzkU7w7CGYJBuSi4FRop5hiBDRwYQxfAEaoQjBbHIDwJ1hsiJ6kbFx+eD4ZQQhfaJLQYDnZBDZURiBeyE6AXjw6tCfs6lRj8EAsckC1LEbg6rRT3MwAMExFCF2IP0R9HGz0XIBPVHq0UVy+xGVULBRHWNtQQNSAzDd4gMxjxEQkY7RF7JWYIHDi4HCMJTybMES4fBRovMzUQnUIEF6MKfxgHFKwJgxv4FbMXMhJBEVce0A/8EG1ZYgfCG1gOcxNZGa0Jhi8DGF4WlBE1HAURQRdmGRYfLiyjCvg9QRGUGsUeNgq+WeoQpQ4JHWoJgRY5DUUNRg6GIlgfPRGjCpkQORTrFD0XWRkPD84YuRKTQvQN8hBZHAIRIwm1DO4T7Q0iEEIgWDHXYDoTqBZdEEAdxxrRKrQItDhfIukW5BN7EuEKdi+gF5oXGBYkMp4WDCebKLQXSBfoIjcalhHnEE4MtBj2Dz8dqBnGG7IvsgYbGa0UAR1BDfYYvjI6FIsPsha8D9ESJwnHGFY09w9rLAcGhRi5Fv0wkw/4Ke4TTzsWDyA6MhmhJMwO+RKNN6gZyBlwJqMKcBZMCBgXkCheEBQPrmvhCqATLRM9GasfqhDIDagZ3B7bEtQhuRmXJ5YM/AaoGCEn1BUzDXYG2SSODrQI0AzXFJoeAB3GFpQd6hdRMUMXsCb+G2YacyXpFisQpS+TFX8YfxjuE+8kPQoZCXkP3xPqF1YUsxdiB+wMFh/UO742GSRIF2ErBBdlEXoNxgsFEfwbeSYJKZ4GBRGwHwMOehY9T9QfWhlIF/0gIwmgD5kTxSusCUERvA/uE2oJ/jJxEzIZSRsyHTcSOhQdE5oRGy6kOxsb5RtiB5QdcCnwBnMThR5BFfwQPRewHyMJLBnuE5QReQ+4CiYcERiQP7AfPg7xIyMRyAumEJoRQREqHfo2sSwRGJAXWBlgGXgymBhLE1YUqBlAHb4UvjLOB7IZgg3mFUIn",
          "dtype": "i2"
         },
         "yaxis": "y"
        },
        {
         "hovertemplate": "class=Business<br>days_left=%{x}<br>price=%{y}<extra></extra>",
         "legendgroup": "Business",
         "marker": {
          "color": "#EF553B",
          "symbol": "circle"
         },
         "mode": "markers",
         "name": "Business",
         "showlegend": true,
         "type": "scattergl",
         "x": {
          "bdata": "FgwfGB8jExQYJx0XEg8eBysSDRcsDxgOERUrEy0mMCQuKBQkCSYbGh8iKB8TLywTDSogBQIkJRkSAw0mKRgOEB0OFSsPHAcqFRMELh8FFhUgLSUgARQgLBoTFxMSJw8FCCAJBwkOLyEhFC0hHC0cIAYILS4xIiwbHi0JCSspLhcdCigFEwcCCA0KISwgJhUKIS0OGR4aCQsWDRUBKjEJFAkTCAghKCocHhMLKQwqDzEpFi0uCAsqFSIpIRkSLRoOBBUSER8XIxUJGiQKEygSGxkQCxcTKxQZKyoeBQgHCRsJLRQnKxkVKx0IAy0aHxcjMRwmAiQuJCQdEAknFyIGIRAwGh4WLTAfJhsKFgQTMCEkExEeLhMUEAorCRofBSsnBwUHDS0DEiInJC4ZAxIoLRsJDSgdJxYRLDEmLhoxJhEgDx4XCBIuKRIWCgsrGRkrFw4nFAYNLBwTGikKIiMLKAYaECMeIA4xGBAMGxcbIh4fBREKJxQpIC8sLCkXKhUTGhUgCCYwHwUnKhArMBgUBB8PIhwXFBQWBAkQGCcmLikVHxIVEiIYFAknBicZHgwTGxsSJxATIgMdCh0YLgoGJCMsLiwRCw4wJh8XLw8LKikrJwkSJC0cFxcHKy4kGQQJIwkfFSYLIiomDC0mEAcqJQQIKBcSCwcPFgwuEwcPIxIrGTExBwspGAgqEikaFwwHKhQGAggeJAwXJBExHRQOCxQpDBIXDiUgEAURKRwdDBYxIQIeDwkbEw0fBwcfEy0EByQnKQ0WGBkNEigdDScsICciJyIFJQwOEgMlDRIQCw8ILCApGSQjHRYrBiYeAx8uDAopIhsgDxkiLis=",
          "dtype": "i1"
         },
         "xaxis": "x",
         "y": {
          "bdata": "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",
          "dtype": "i4"
         },
         "yaxis": "y"
        }
       ],
       "layout": {
        "legend": {
         "title": {
          "text": "class"
         },
         "tracegroupgap": 0
        },
        "margin": {
         "t": 60
        },
        "template": {
         "data": {
          "bar": [
           {
            "error_x": {
             "color": "#2a3f5f"
            },
            "error_y": {
             "color": "#2a3f5f"
            },
            "marker": {
             "line": {
              "color": "#E5ECF6",
              "width": 0.5
             },
             "pattern": {
              "fillmode": "overlay",
              "size": 10,
              "solidity": 0.2
             }
            },
            "type": "bar"
           }
          ],
          "barpolar": [
           {
            "marker": {
             "line": {
              "color": "#E5ECF6",
              "width": 0.5
             },
             "pattern": {
              "fillmode": "overlay",
              "size": 10,
              "solidity": 0.2
             }
            },
            "type": "barpolar"
           }
          ],
          "carpet": [
           {
            "aaxis": {
             "endlinecolor": "#2a3f5f",
             "gridcolor": "white",
             "linecolor": "white",
             "minorgridcolor": "white",
             "startlinecolor": "#2a3f5f"
            },
            "baxis": {
             "endlinecolor": "#2a3f5f",
             "gridcolor": "white",
             "linecolor": "white",
             "minorgridcolor": "white",
             "startlinecolor": "#2a3f5f"
            },
            "type": "carpet"
           }
          ],
          "choropleth": [
           {
            "colorbar": {
             "outlinewidth": 0,
             "ticks": ""
            },
            "type": "choropleth"
           }
          ],
          "contour": [
           {
            "colorbar": {
             "outlinewidth": 0,
             "ticks": ""
            },
            "colorscale": [
             [
              0,
              "#0d0887"
             ],
             [
              0.1111111111111111,
              "#46039f"
             ],
             [
              0.2222222222222222,
              "#7201a8"
             ],
             [
              0.3333333333333333,
              "#9c179e"
             ],
             [
              0.4444444444444444,
              "#bd3786"
             ],
             [
              0.5555555555555556,
              "#d8576b"
             ],
             [
              0.6666666666666666,
              "#ed7953"
             ],
             [
              0.7777777777777778,
              "#fb9f3a"
             ],
             [
              0.8888888888888888,
              "#fdca26"
             ],
             [
              1,
              "#f0f921"
             ]
            ],
            "type": "contour"
           }
          ],
          "contourcarpet": [
           {
            "colorbar": {
             "outlinewidth": 0,
             "ticks": ""
            },
            "type": "contourcarpet"
           }
          ],
          "heatmap": [
           {
            "colorbar": {
             "outlinewidth": 0,
             "ticks": ""
            },
            "colorscale": [
             [
              0,
              "#0d0887"
             ],
             [
              0.1111111111111111,
              "#46039f"
             ],
             [
              0.2222222222222222,
              "#7201a8"
             ],
             [
              0.3333333333333333,
              "#9c179e"
             ],
             [
              0.4444444444444444,
              "#bd3786"
             ],
             [
              0.5555555555555556,
              "#d8576b"
             ],
             [
              0.6666666666666666,
              "#ed7953"
             ],
             [
              0.7777777777777778,
              "#fb9f3a"
             ],
             [
              0.8888888888888888,
              "#fdca26"
             ],
             [
              1,
              "#f0f921"
             ]
            ],
            "type": "heatmap"
           }
          ],
          "histogram": [
           {
            "marker": {
             "pattern": {
              "fillmode": "overlay",
              "size": 10,
              "solidity": 0.2
             }
            },
            "type": "histogram"
           }
          ],
          "histogram2d": [
           {
            "colorbar": {
             "outlinewidth": 0,
             "ticks": ""
            },
            "colorscale": [
             [
              0,
              "#0d0887"
             ],
             [
              0.1111111111111111,
              "#46039f"
             ],
             [
              0.2222222222222222,
              "#7201a8"
             ],
             [
              0.3333333333333333,
              "#9c179e"
             ],
             [
              0.4444444444444444,
              "#bd3786"
             ],
             [
              0.5555555555555556,
              "#d8576b"
             ],
             [
              0.6666666666666666,
              "#ed7953"
             ],
             [
              0.7777777777777778,
              "#fb9f3a"
             ],
             [
              0.8888888888888888,
              "#fdca26"
             ],
             [
              1,
              "#f0f921"
             ]
            ],
            "type": "histogram2d"
           }
          ],
          "histogram2dcontour": [
           {
            "colorbar": {
             "outlinewidth": 0,
             "ticks": ""
            },
            "colorscale": [
             [
              0,
              "#0d0887"
             ],
             [
              0.1111111111111111,
              "#46039f"
             ],
             [
              0.2222222222222222,
              "#7201a8"
             ],
             [
              0.3333333333333333,
              "#9c179e"
             ],
             [
              0.4444444444444444,
              "#bd3786"
             ],
             [
              0.5555555555555556,
              "#d8576b"
             ],
             [
              0.6666666666666666,
              "#ed7953"
             ],
             [
              0.7777777777777778,
              "#fb9f3a"
             ],
             [
              0.8888888888888888,
              "#fdca26"
             ],
             [
              1,
              "#f0f921"
             ]
            ],
            "type": "histogram2dcontour"
           }
          ],
          "mesh3d": [
           {
            "colorbar": {
             "outlinewidth": 0,
             "ticks": ""
            },
            "type": "mesh3d"
           }
          ],
          "parcoords": [
           {
            "line": {
             "colorbar": {
              "outlinewidth": 0,
              "ticks": ""
             }
            },
            "type": "parcoords"
           }
          ],
          "pie": [
           {
            "automargin": true,
            "type": "pie"
           }
          ],
          "scatter": [
           {
            "fillpattern": {
             "fillmode": "overlay",
             "size": 10,
             "solidity": 0.2
            },
            "type": "scatter"
           }
          ],
          "scatter3d": [
           {
            "line": {
             "colorbar": {
              "outlinewidth": 0,
              "ticks": ""
             }
            },
            "marker": {
             "colorbar": {
              "outlinewidth": 0,
              "ticks": ""
             }
            },
            "type": "scatter3d"
           }
          ],
          "scattercarpet": [
           {
            "marker": {
             "colorbar": {
              "outlinewidth": 0,
              "ticks": ""
             }
            },
            "type": "scattercarpet"
           }
          ],
          "scattergeo": [
           {
            "marker": {
             "colorbar": {
              "outlinewidth": 0,
              "ticks": ""
             }
            },
            "type": "scattergeo"
           }
          ],
          "scattergl": [
           {
            "marker": {
             "colorbar": {
              "outlinewidth": 0,
              "ticks": ""
             }
            },
            "type": "scattergl"
           }
          ],
          "scattermap": [
           {
            "marker": {
             "colorbar": {
              "outlinewidth": 0,
              "ticks": ""
             }
            },
            "type": "scattermap"
           }
          ],
          "scattermapbox": [
           {
            "marker": {
             "colorbar": {
              "outlinewidth": 0,
              "ticks": ""
             }
            },
            "type": "scattermapbox"
           }
          ],
          "scatterpolar": [
           {
            "marker": {
             "colorbar": {
              "outlinewidth": 0,
              "ticks": ""
             }
            },
            "type": "scatterpolar"
           }
          ],
          "scatterpolargl": [
           {
            "marker": {
             "colorbar": {
              "outlinewidth": 0,
              "ticks": ""
             }
            },
            "type": "scatterpolargl"
           }
          ],
          "scatterternary": [
           {
            "marker": {
             "colorbar": {
              "outlinewidth": 0,
              "ticks": ""
             }
            },
            "type": "scatterternary"
           }
          ],
          "surface": [
           {
            "colorbar": {
             "outlinewidth": 0,
             "ticks": ""
            },
            "colorscale": [
             [
              0,
              "#0d0887"
             ],
             [
              0.1111111111111111,
              "#46039f"
             ],
             [
              0.2222222222222222,
              "#7201a8"
             ],
             [
              0.3333333333333333,
              "#9c179e"
             ],
             [
              0.4444444444444444,
              "#bd3786"
             ],
             [
              0.5555555555555556,
              "#d8576b"
             ],
             [
              0.6666666666666666,
              "#ed7953"
             ],
             [
              0.7777777777777778,
              "#fb9f3a"
             ],
             [
              0.8888888888888888,
              "#fdca26"
             ],
             [
              1,
              "#f0f921"
             ]
            ],
            "type": "surface"
           }
          ],
          "table": [
           {
            "cells": {
             "fill": {
              "color": "#EBF0F8"
             },
             "line": {
              "color": "white"
             }
            },
            "header": {
             "fill": {
              "color": "#C8D4E3"
             },
             "line": {
              "color": "white"
             }
            },
            "type": "table"
           }
          ]
         },
         "layout": {
          "annotationdefaults": {
           "arrowcolor": "#2a3f5f",
           "arrowhead": 0,
           "arrowwidth": 1
          },
          "autotypenumbers": "strict",
          "coloraxis": {
           "colorbar": {
            "outlinewidth": 0,
            "ticks": ""
           }
          },
          "colorscale": {
           "diverging": [
            [
             0,
             "#8e0152"
            ],
            [
             0.1,
             "#c51b7d"
            ],
            [
             0.2,
             "#de77ae"
            ],
            [
             0.3,
             "#f1b6da"
            ],
            [
             0.4,
             "#fde0ef"
            ],
            [
             0.5,
             "#f7f7f7"
            ],
            [
             0.6,
             "#e6f5d0"
            ],
            [
             0.7,
             "#b8e186"
            ],
            [
             0.8,
             "#7fbc41"
            ],
            [
             0.9,
             "#4d9221"
            ],
            [
             1,
             "#276419"
            ]
           ],
           "sequential": [
            [
             0,
             "#0d0887"
            ],
            [
             0.1111111111111111,
             "#46039f"
            ],
            [
             0.2222222222222222,
             "#7201a8"
            ],
            [
             0.3333333333333333,
             "#9c179e"
            ],
            [
             0.4444444444444444,
             "#bd3786"
            ],
            [
             0.5555555555555556,
             "#d8576b"
            ],
            [
             0.6666666666666666,
             "#ed7953"
            ],
            [
             0.7777777777777778,
             "#fb9f3a"
            ],
            [
             0.8888888888888888,
             "#fdca26"
            ],
            [
             1,
             "#f0f921"
            ]
           ],
           "sequentialminus": [
            [
             0,
             "#0d0887"
            ],
            [
             0.1111111111111111,
             "#46039f"
            ],
            [
             0.2222222222222222,
             "#7201a8"
            ],
            [
             0.3333333333333333,
             "#9c179e"
            ],
            [
             0.4444444444444444,
             "#bd3786"
            ],
            [
             0.5555555555555556,
             "#d8576b"
            ],
            [
             0.6666666666666666,
             "#ed7953"
            ],
            [
             0.7777777777777778,
             "#fb9f3a"
            ],
            [
             0.8888888888888888,
             "#fdca26"
            ],
            [
             1,
             "#f0f921"
            ]
           ]
          },
          "colorway": [
           "#636efa",
           "#EF553B",
           "#00cc96",
           "#ab63fa",
           "#FFA15A",
           "#19d3f3",
           "#FF6692",
           "#B6E880",
           "#FF97FF",
           "#FECB52"
          ],
          "font": {
           "color": "#2a3f5f"
          },
          "geo": {
           "bgcolor": "white",
           "lakecolor": "white",
           "landcolor": "#E5ECF6",
           "showlakes": true,
           "showland": true,
           "subunitcolor": "white"
          },
          "hoverlabel": {
           "align": "left"
          },
          "hovermode": "closest",
          "mapbox": {
           "style": "light"
          },
          "paper_bgcolor": "white",
          "plot_bgcolor": "#E5ECF6",
          "polar": {
           "angularaxis": {
            "gridcolor": "white",
            "linecolor": "white",
            "ticks": ""
           },
           "bgcolor": "#E5ECF6",
           "radialaxis": {
            "gridcolor": "white",
            "linecolor": "white",
            "ticks": ""
           }
          },
          "scene": {
           "xaxis": {
            "backgroundcolor": "#E5ECF6",
            "gridcolor": "white",
            "gridwidth": 2,
            "linecolor": "white",
            "showbackground": true,
            "ticks": "",
            "zerolinecolor": "white"
           },
           "yaxis": {
            "backgroundcolor": "#E5ECF6",
            "gridcolor": "white",
            "gridwidth": 2,
            "linecolor": "white",
            "showbackground": true,
            "ticks": "",
            "zerolinecolor": "white"
           },
           "zaxis": {
            "backgroundcolor": "#E5ECF6",
            "gridcolor": "white",
            "gridwidth": 2,
            "linecolor": "white",
            "showbackground": true,
            "ticks": "",
            "zerolinecolor": "white"
           }
          },
          "shapedefaults": {
           "line": {
            "color": "#2a3f5f"
           }
          },
          "ternary": {
           "aaxis": {
            "gridcolor": "white",
            "linecolor": "white",
            "ticks": ""
           },
           "baxis": {
            "gridcolor": "white",
            "linecolor": "white",
            "ticks": ""
           },
           "bgcolor": "#E5ECF6",
           "caxis": {
            "gridcolor": "white",
            "linecolor": "white",
            "ticks": ""
           }
          },
          "title": {
           "x": 0.05
          },
          "xaxis": {
           "automargin": true,
           "gridcolor": "white",
           "linecolor": "white",
           "ticks": "",
           "title": {
            "standoff": 15
           },
           "zerolinecolor": "white",
           "zerolinewidth": 2
          },
          "yaxis": {
           "automargin": true,
           "gridcolor": "white",
           "linecolor": "white",
           "ticks": "",
           "title": {
            "standoff": 15
           },
           "zerolinecolor": "white",
           "zerolinewidth": 2
          }
         }
        },
        "xaxis": {
         "anchor": "y",
         "domain": [
          0,
          1
         ],
         "title": {
          "text": "days_left"
         }
        },
        "yaxis": {
         "anchor": "x",
         "domain": [
          0,
          1
         ],
         "title": {
          "text": "price"
         }
        }
       }
      }
     },
     "metadata": {},
     "output_type": "display_data"
    }
   ],
   "source": [
    "if SIMPLIFIED_PLOTS:\n",
    "    fig = px.scatter(df_raw_sample, x=\"days_left\", y=\"price\", color=\"class\")\n",
    "else: \n",
    "    fig = px.scatter(df_raw, x=\"days_left\", y=\"price\", color=\"class\", marginal_y=\"violin\", marginal_x=\"box\", trendline=\"ols\", template=\"simple_white\")\n",
    "fig.show()"
   ]
  },
  {
   "cell_type": "code",
   "execution_count": 8,
   "id": "a22b2472",
   "metadata": {},
   "outputs": [
    {
     "data": {
      "application/vnd.plotly.v1+json": {
       "config": {
        "plotlyServerURL": "https://plot.ly"
       },
       "data": [
        {
         "hovertemplate": "class=Economy<br>duration=%{x}<br>price=%{y}<extra></extra>",
         "legendgroup": "Economy",
         "marker": {
          "color": "#636efa",
          "symbol": "circle"
         },
         "mode": "markers",
         "name": "Economy",
         "showlegend": true,
         "type": "scattergl",
         "x": {
          "bdata": "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",
          "dtype": "f8"
         },
         "xaxis": "x",
         "y": {
          "bdata": "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",
          "dtype": "i2"
         },
         "yaxis": "y"
        },
        {
         "hovertemplate": "class=Business<br>duration=%{x}<br>price=%{y}<extra></extra>",
         "legendgroup": "Business",
         "marker": {
          "color": "#EF553B",
          "symbol": "circle"
         },
         "mode": "markers",
         "name": "Business",
         "showlegend": true,
         "type": "scattergl",
         "x": {
          "bdata": "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",
          "dtype": "f8"
         },
         "xaxis": "x",
         "y": {
          "bdata": "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",
          "dtype": "i4"
         },
         "yaxis": "y"
        }
       ],
       "layout": {
        "legend": {
         "title": {
          "text": "class"
         },
         "tracegroupgap": 0
        },
        "margin": {
         "t": 60
        },
        "template": {
         "data": {
          "bar": [
           {
            "error_x": {
             "color": "#2a3f5f"
            },
            "error_y": {
             "color": "#2a3f5f"
            },
            "marker": {
             "line": {
              "color": "#E5ECF6",
              "width": 0.5
             },
             "pattern": {
              "fillmode": "overlay",
              "size": 10,
              "solidity": 0.2
             }
            },
            "type": "bar"
           }
          ],
          "barpolar": [
           {
            "marker": {
             "line": {
              "color": "#E5ECF6",
              "width": 0.5
             },
             "pattern": {
              "fillmode": "overlay",
              "size": 10,
              "solidity": 0.2
             }
            },
            "type": "barpolar"
           }
          ],
          "carpet": [
           {
            "aaxis": {
             "endlinecolor": "#2a3f5f",
             "gridcolor": "white",
             "linecolor": "white",
             "minorgridcolor": "white",
             "startlinecolor": "#2a3f5f"
            },
            "baxis": {
             "endlinecolor": "#2a3f5f",
             "gridcolor": "white",
             "linecolor": "white",
             "minorgridcolor": "white",
             "startlinecolor": "#2a3f5f"
            },
            "type": "carpet"
           }
          ],
          "choropleth": [
           {
            "colorbar": {
             "outlinewidth": 0,
             "ticks": ""
            },
            "type": "choropleth"
           }
          ],
          "contour": [
           {
            "colorbar": {
             "outlinewidth": 0,
             "ticks": ""
            },
            "colorscale": [
             [
              0,
              "#0d0887"
             ],
             [
              0.1111111111111111,
              "#46039f"
             ],
             [
              0.2222222222222222,
              "#7201a8"
             ],
             [
              0.3333333333333333,
              "#9c179e"
             ],
             [
              0.4444444444444444,
              "#bd3786"
             ],
             [
              0.5555555555555556,
              "#d8576b"
             ],
             [
              0.6666666666666666,
              "#ed7953"
             ],
             [
              0.7777777777777778,
              "#fb9f3a"
             ],
             [
              0.8888888888888888,
              "#fdca26"
             ],
             [
              1,
              "#f0f921"
             ]
            ],
            "type": "contour"
           }
          ],
          "contourcarpet": [
           {
            "colorbar": {
             "outlinewidth": 0,
             "ticks": ""
            },
            "type": "contourcarpet"
           }
          ],
          "heatmap": [
           {
            "colorbar": {
             "outlinewidth": 0,
             "ticks": ""
            },
            "colorscale": [
             [
              0,
              "#0d0887"
             ],
             [
              0.1111111111111111,
              "#46039f"
             ],
             [
              0.2222222222222222,
              "#7201a8"
             ],
             [
              0.3333333333333333,
              "#9c179e"
             ],
             [
              0.4444444444444444,
              "#bd3786"
             ],
             [
              0.5555555555555556,
              "#d8576b"
             ],
             [
              0.6666666666666666,
              "#ed7953"
             ],
             [
              0.7777777777777778,
              "#fb9f3a"
             ],
             [
              0.8888888888888888,
              "#fdca26"
             ],
             [
              1,
              "#f0f921"
             ]
            ],
            "type": "heatmap"
           }
          ],
          "histogram": [
           {
            "marker": {
             "pattern": {
              "fillmode": "overlay",
              "size": 10,
              "solidity": 0.2
             }
            },
            "type": "histogram"
           }
          ],
          "histogram2d": [
           {
            "colorbar": {
             "outlinewidth": 0,
             "ticks": ""
            },
            "colorscale": [
             [
              0,
              "#0d0887"
             ],
             [
              0.1111111111111111,
              "#46039f"
             ],
             [
              0.2222222222222222,
              "#7201a8"
             ],
             [
              0.3333333333333333,
              "#9c179e"
             ],
             [
              0.4444444444444444,
              "#bd3786"
             ],
             [
              0.5555555555555556,
              "#d8576b"
             ],
             [
              0.6666666666666666,
              "#ed7953"
             ],
             [
              0.7777777777777778,
              "#fb9f3a"
             ],
             [
              0.8888888888888888,
              "#fdca26"
             ],
             [
              1,
              "#f0f921"
             ]
            ],
            "type": "histogram2d"
           }
          ],
          "histogram2dcontour": [
           {
            "colorbar": {
             "outlinewidth": 0,
             "ticks": ""
            },
            "colorscale": [
             [
              0,
              "#0d0887"
             ],
             [
              0.1111111111111111,
              "#46039f"
             ],
             [
              0.2222222222222222,
              "#7201a8"
             ],
             [
              0.3333333333333333,
              "#9c179e"
             ],
             [
              0.4444444444444444,
              "#bd3786"
             ],
             [
              0.5555555555555556,
              "#d8576b"
             ],
             [
              0.6666666666666666,
              "#ed7953"
             ],
             [
              0.7777777777777778,
              "#fb9f3a"
             ],
             [
              0.8888888888888888,
              "#fdca26"
             ],
             [
              1,
              "#f0f921"
             ]
            ],
            "type": "histogram2dcontour"
           }
          ],
          "mesh3d": [
           {
            "colorbar": {
             "outlinewidth": 0,
             "ticks": ""
            },
            "type": "mesh3d"
           }
          ],
          "parcoords": [
           {
            "line": {
             "colorbar": {
              "outlinewidth": 0,
              "ticks": ""
             }
            },
            "type": "parcoords"
           }
          ],
          "pie": [
           {
            "automargin": true,
            "type": "pie"
           }
          ],
          "scatter": [
           {
            "fillpattern": {
             "fillmode": "overlay",
             "size": 10,
             "solidity": 0.2
            },
            "type": "scatter"
           }
          ],
          "scatter3d": [
           {
            "line": {
             "colorbar": {
              "outlinewidth": 0,
              "ticks": ""
             }
            },
            "marker": {
             "colorbar": {
              "outlinewidth": 0,
              "ticks": ""
             }
            },
            "type": "scatter3d"
           }
          ],
          "scattercarpet": [
           {
            "marker": {
             "colorbar": {
              "outlinewidth": 0,
              "ticks": ""
             }
            },
            "type": "scattercarpet"
           }
          ],
          "scattergeo": [
           {
            "marker": {
             "colorbar": {
              "outlinewidth": 0,
              "ticks": ""
             }
            },
            "type": "scattergeo"
           }
          ],
          "scattergl": [
           {
            "marker": {
             "colorbar": {
              "outlinewidth": 0,
              "ticks": ""
             }
            },
            "type": "scattergl"
           }
          ],
          "scattermap": [
           {
            "marker": {
             "colorbar": {
              "outlinewidth": 0,
              "ticks": ""
             }
            },
            "type": "scattermap"
           }
          ],
          "scattermapbox": [
           {
            "marker": {
             "colorbar": {
              "outlinewidth": 0,
              "ticks": ""
             }
            },
            "type": "scattermapbox"
           }
          ],
          "scatterpolar": [
           {
            "marker": {
             "colorbar": {
              "outlinewidth": 0,
              "ticks": ""
             }
            },
            "type": "scatterpolar"
           }
          ],
          "scatterpolargl": [
           {
            "marker": {
             "colorbar": {
              "outlinewidth": 0,
              "ticks": ""
             }
            },
            "type": "scatterpolargl"
           }
          ],
          "scatterternary": [
           {
            "marker": {
             "colorbar": {
              "outlinewidth": 0,
              "ticks": ""
             }
            },
            "type": "scatterternary"
           }
          ],
          "surface": [
           {
            "colorbar": {
             "outlinewidth": 0,
             "ticks": ""
            },
            "colorscale": [
             [
              0,
              "#0d0887"
             ],
             [
              0.1111111111111111,
              "#46039f"
             ],
             [
              0.2222222222222222,
              "#7201a8"
             ],
             [
              0.3333333333333333,
              "#9c179e"
             ],
             [
              0.4444444444444444,
              "#bd3786"
             ],
             [
              0.5555555555555556,
              "#d8576b"
             ],
             [
              0.6666666666666666,
              "#ed7953"
             ],
             [
              0.7777777777777778,
              "#fb9f3a"
             ],
             [
              0.8888888888888888,
              "#fdca26"
             ],
             [
              1,
              "#f0f921"
             ]
            ],
            "type": "surface"
           }
          ],
          "table": [
           {
            "cells": {
             "fill": {
              "color": "#EBF0F8"
             },
             "line": {
              "color": "white"
             }
            },
            "header": {
             "fill": {
              "color": "#C8D4E3"
             },
             "line": {
              "color": "white"
             }
            },
            "type": "table"
           }
          ]
         },
         "layout": {
          "annotationdefaults": {
           "arrowcolor": "#2a3f5f",
           "arrowhead": 0,
           "arrowwidth": 1
          },
          "autotypenumbers": "strict",
          "coloraxis": {
           "colorbar": {
            "outlinewidth": 0,
            "ticks": ""
           }
          },
          "colorscale": {
           "diverging": [
            [
             0,
             "#8e0152"
            ],
            [
             0.1,
             "#c51b7d"
            ],
            [
             0.2,
             "#de77ae"
            ],
            [
             0.3,
             "#f1b6da"
            ],
            [
             0.4,
             "#fde0ef"
            ],
            [
             0.5,
             "#f7f7f7"
            ],
            [
             0.6,
             "#e6f5d0"
            ],
            [
             0.7,
             "#b8e186"
            ],
            [
             0.8,
             "#7fbc41"
            ],
            [
             0.9,
             "#4d9221"
            ],
            [
             1,
             "#276419"
            ]
           ],
           "sequential": [
            [
             0,
             "#0d0887"
            ],
            [
             0.1111111111111111,
             "#46039f"
            ],
            [
             0.2222222222222222,
             "#7201a8"
            ],
            [
             0.3333333333333333,
             "#9c179e"
            ],
            [
             0.4444444444444444,
             "#bd3786"
            ],
            [
             0.5555555555555556,
             "#d8576b"
            ],
            [
             0.6666666666666666,
             "#ed7953"
            ],
            [
             0.7777777777777778,
             "#fb9f3a"
            ],
            [
             0.8888888888888888,
             "#fdca26"
            ],
            [
             1,
             "#f0f921"
            ]
           ],
           "sequentialminus": [
            [
             0,
             "#0d0887"
            ],
            [
             0.1111111111111111,
             "#46039f"
            ],
            [
             0.2222222222222222,
             "#7201a8"
            ],
            [
             0.3333333333333333,
             "#9c179e"
            ],
            [
             0.4444444444444444,
             "#bd3786"
            ],
            [
             0.5555555555555556,
             "#d8576b"
            ],
            [
             0.6666666666666666,
             "#ed7953"
            ],
            [
             0.7777777777777778,
             "#fb9f3a"
            ],
            [
             0.8888888888888888,
             "#fdca26"
            ],
            [
             1,
             "#f0f921"
            ]
           ]
          },
          "colorway": [
           "#636efa",
           "#EF553B",
           "#00cc96",
           "#ab63fa",
           "#FFA15A",
           "#19d3f3",
           "#FF6692",
           "#B6E880",
           "#FF97FF",
           "#FECB52"
          ],
          "font": {
           "color": "#2a3f5f"
          },
          "geo": {
           "bgcolor": "white",
           "lakecolor": "white",
           "landcolor": "#E5ECF6",
           "showlakes": true,
           "showland": true,
           "subunitcolor": "white"
          },
          "hoverlabel": {
           "align": "left"
          },
          "hovermode": "closest",
          "mapbox": {
           "style": "light"
          },
          "paper_bgcolor": "white",
          "plot_bgcolor": "#E5ECF6",
          "polar": {
           "angularaxis": {
            "gridcolor": "white",
            "linecolor": "white",
            "ticks": ""
           },
           "bgcolor": "#E5ECF6",
           "radialaxis": {
            "gridcolor": "white",
            "linecolor": "white",
            "ticks": ""
           }
          },
          "scene": {
           "xaxis": {
            "backgroundcolor": "#E5ECF6",
            "gridcolor": "white",
            "gridwidth": 2,
            "linecolor": "white",
            "showbackground": true,
            "ticks": "",
            "zerolinecolor": "white"
           },
           "yaxis": {
            "backgroundcolor": "#E5ECF6",
            "gridcolor": "white",
            "gridwidth": 2,
            "linecolor": "white",
            "showbackground": true,
            "ticks": "",
            "zerolinecolor": "white"
           },
           "zaxis": {
            "backgroundcolor": "#E5ECF6",
            "gridcolor": "white",
            "gridwidth": 2,
            "linecolor": "white",
            "showbackground": true,
            "ticks": "",
            "zerolinecolor": "white"
           }
          },
          "shapedefaults": {
           "line": {
            "color": "#2a3f5f"
           }
          },
          "ternary": {
           "aaxis": {
            "gridcolor": "white",
            "linecolor": "white",
            "ticks": ""
           },
           "baxis": {
            "gridcolor": "white",
            "linecolor": "white",
            "ticks": ""
           },
           "bgcolor": "#E5ECF6",
           "caxis": {
            "gridcolor": "white",
            "linecolor": "white",
            "ticks": ""
           }
          },
          "title": {
           "x": 0.05
          },
          "xaxis": {
           "automargin": true,
           "gridcolor": "white",
           "linecolor": "white",
           "ticks": "",
           "title": {
            "standoff": 15
           },
           "zerolinecolor": "white",
           "zerolinewidth": 2
          },
          "yaxis": {
           "automargin": true,
           "gridcolor": "white",
           "linecolor": "white",
           "ticks": "",
           "title": {
            "standoff": 15
           },
           "zerolinecolor": "white",
           "zerolinewidth": 2
          }
         }
        },
        "xaxis": {
         "anchor": "y",
         "domain": [
          0,
          1
         ],
         "title": {
          "text": "duration"
         }
        },
        "yaxis": {
         "anchor": "x",
         "domain": [
          0,
          1
         ],
         "title": {
          "text": "price"
         }
        }
       }
      }
     },
     "metadata": {},
     "output_type": "display_data"
    }
   ],
   "source": [
    "if SIMPLIFIED_PLOTS:\n",
    "    fig = px.scatter(df_raw_sample, x=\"duration\", y=\"price\", color=\"class\")\n",
    "else:\n",
    "    fig = px.scatter(df_raw, x=\"duration\", y=\"price\", color=\"class\", marginal_y=\"violin\", marginal_x=\"box\", trendline=\"ols\", template=\"simple_white\")\n",
    "fig.show()"
   ]
  },
  {
   "cell_type": "markdown",
   "id": "1fba4117",
   "metadata": {},
   "source": [
    "## Data Cleaning and Preprocessing"
   ]
  },
  {
   "cell_type": "code",
   "execution_count": 9,
   "id": "988b5d72",
   "metadata": {},
   "outputs": [
    {
     "data": {
      "text/html": [
       "<div>\n",
       "<style scoped>\n",
       "    .dataframe tbody tr th:only-of-type {\n",
       "        vertical-align: middle;\n",
       "    }\n",
       "\n",
       "    .dataframe tbody tr th {\n",
       "        vertical-align: top;\n",
       "    }\n",
       "\n",
       "    .dataframe thead th {\n",
       "        text-align: right;\n",
       "    }\n",
       "</style>\n",
       "<table border=\"1\" class=\"dataframe\">\n",
       "  <thead>\n",
       "    <tr style=\"text-align: right;\">\n",
       "      <th></th>\n",
       "      <th>const</th>\n",
       "      <th>duration</th>\n",
       "      <th>days_left</th>\n",
       "      <th>airline_Air_India</th>\n",
       "      <th>airline_GO_FIRST</th>\n",
       "      <th>airline_Indigo</th>\n",
       "      <th>airline_SpiceJet</th>\n",
       "      <th>airline_Vistara</th>\n",
       "      <th>source_city_Chennai</th>\n",
       "      <th>source_city_Delhi</th>\n",
       "      <th>source_city_Hyderabad</th>\n",
       "      <th>source_city_Kolkata</th>\n",
       "      <th>source_city_Mumbai</th>\n",
       "      <th>departure_time_Early_Morning</th>\n",
       "      <th>departure_time_Evening</th>\n",
       "      <th>departure_time_Late_Night</th>\n",
       "      <th>departure_time_Morning</th>\n",
       "      <th>departure_time_Night</th>\n",
       "      <th>stops_two_or_more</th>\n",
       "      <th>stops_zero</th>\n",
       "      <th>arrival_time_Early_Morning</th>\n",
       "      <th>arrival_time_Evening</th>\n",
       "      <th>arrival_time_Late_Night</th>\n",
       "      <th>arrival_time_Morning</th>\n",
       "      <th>arrival_time_Night</th>\n",
       "      <th>destination_city_Chennai</th>\n",
       "      <th>destination_city_Delhi</th>\n",
       "      <th>destination_city_Hyderabad</th>\n",
       "      <th>destination_city_Kolkata</th>\n",
       "      <th>destination_city_Mumbai</th>\n",
       "      <th>class_Economy</th>\n",
       "    </tr>\n",
       "  </thead>\n",
       "  <tbody>\n",
       "    <tr>\n",
       "      <th>148417</th>\n",
       "      <td>1.0</td>\n",
       "      <td>19.42</td>\n",
       "      <td>6.0</td>\n",
       "      <td>1.0</td>\n",
       "      <td>0.0</td>\n",
       "      <td>0.0</td>\n",
       "      <td>0.0</td>\n",
       "      <td>0.0</td>\n",
       "      <td>0.0</td>\n",
       "      <td>0.0</td>\n",
       "      <td>0.0</td>\n",
       "      <td>1.0</td>\n",
       "      <td>0.0</td>\n",
       "      <td>0.0</td>\n",
       "      <td>0.0</td>\n",
       "      <td>0.0</td>\n",
       "      <td>0.0</td>\n",
       "      <td>0.0</td>\n",
       "      <td>0.0</td>\n",
       "      <td>0.0</td>\n",
       "      <td>0.0</td>\n",
       "      <td>0.0</td>\n",
       "      <td>0.0</td>\n",
       "      <td>1.0</td>\n",
       "      <td>0.0</td>\n",
       "      <td>1.0</td>\n",
       "      <td>0.0</td>\n",
       "      <td>0.0</td>\n",
       "      <td>0.0</td>\n",
       "      <td>0.0</td>\n",
       "      <td>1.0</td>\n",
       "    </tr>\n",
       "    <tr>\n",
       "      <th>36879</th>\n",
       "      <td>1.0</td>\n",
       "      <td>7.00</td>\n",
       "      <td>13.0</td>\n",
       "      <td>0.0</td>\n",
       "      <td>0.0</td>\n",
       "      <td>1.0</td>\n",
       "      <td>0.0</td>\n",
       "      <td>0.0</td>\n",
       "      <td>0.0</td>\n",
       "      <td>1.0</td>\n",
       "      <td>0.0</td>\n",
       "      <td>0.0</td>\n",
       "      <td>0.0</td>\n",
       "      <td>0.0</td>\n",
       "      <td>0.0</td>\n",
       "      <td>0.0</td>\n",
       "      <td>0.0</td>\n",
       "      <td>0.0</td>\n",
       "      <td>1.0</td>\n",
       "      <td>0.0</td>\n",
       "      <td>0.0</td>\n",
       "      <td>0.0</td>\n",
       "      <td>0.0</td>\n",
       "      <td>0.0</td>\n",
       "      <td>1.0</td>\n",
       "      <td>1.0</td>\n",
       "      <td>0.0</td>\n",
       "      <td>0.0</td>\n",
       "      <td>0.0</td>\n",
       "      <td>0.0</td>\n",
       "      <td>1.0</td>\n",
       "    </tr>\n",
       "    <tr>\n",
       "      <th>274531</th>\n",
       "      <td>1.0</td>\n",
       "      <td>21.17</td>\n",
       "      <td>44.0</td>\n",
       "      <td>1.0</td>\n",
       "      <td>0.0</td>\n",
       "      <td>0.0</td>\n",
       "      <td>0.0</td>\n",
       "      <td>0.0</td>\n",
       "      <td>0.0</td>\n",
       "      <td>0.0</td>\n",
       "      <td>0.0</td>\n",
       "      <td>1.0</td>\n",
       "      <td>0.0</td>\n",
       "      <td>0.0</td>\n",
       "      <td>0.0</td>\n",
       "      <td>0.0</td>\n",
       "      <td>0.0</td>\n",
       "      <td>0.0</td>\n",
       "      <td>0.0</td>\n",
       "      <td>0.0</td>\n",
       "      <td>0.0</td>\n",
       "      <td>0.0</td>\n",
       "      <td>0.0</td>\n",
       "      <td>0.0</td>\n",
       "      <td>0.0</td>\n",
       "      <td>1.0</td>\n",
       "      <td>0.0</td>\n",
       "      <td>0.0</td>\n",
       "      <td>0.0</td>\n",
       "      <td>0.0</td>\n",
       "      <td>0.0</td>\n",
       "    </tr>\n",
       "    <tr>\n",
       "      <th>166397</th>\n",
       "      <td>1.0</td>\n",
       "      <td>10.25</td>\n",
       "      <td>11.0</td>\n",
       "      <td>0.0</td>\n",
       "      <td>0.0</td>\n",
       "      <td>0.0</td>\n",
       "      <td>0.0</td>\n",
       "      <td>1.0</td>\n",
       "      <td>0.0</td>\n",
       "      <td>0.0</td>\n",
       "      <td>1.0</td>\n",
       "      <td>0.0</td>\n",
       "      <td>0.0</td>\n",
       "      <td>0.0</td>\n",
       "      <td>0.0</td>\n",
       "      <td>0.0</td>\n",
       "      <td>0.0</td>\n",
       "      <td>1.0</td>\n",
       "      <td>0.0</td>\n",
       "      <td>0.0</td>\n",
       "      <td>1.0</td>\n",
       "      <td>0.0</td>\n",
       "      <td>0.0</td>\n",
       "      <td>0.0</td>\n",
       "      <td>0.0</td>\n",
       "      <td>0.0</td>\n",
       "      <td>0.0</td>\n",
       "      <td>0.0</td>\n",
       "      <td>0.0</td>\n",
       "      <td>0.0</td>\n",
       "      <td>1.0</td>\n",
       "    </tr>\n",
       "    <tr>\n",
       "      <th>272722</th>\n",
       "      <td>1.0</td>\n",
       "      <td>26.50</td>\n",
       "      <td>5.0</td>\n",
       "      <td>0.0</td>\n",
       "      <td>0.0</td>\n",
       "      <td>0.0</td>\n",
       "      <td>0.0</td>\n",
       "      <td>1.0</td>\n",
       "      <td>0.0</td>\n",
       "      <td>0.0</td>\n",
       "      <td>0.0</td>\n",
       "      <td>1.0</td>\n",
       "      <td>0.0</td>\n",
       "      <td>0.0</td>\n",
       "      <td>0.0</td>\n",
       "      <td>0.0</td>\n",
       "      <td>0.0</td>\n",
       "      <td>1.0</td>\n",
       "      <td>0.0</td>\n",
       "      <td>0.0</td>\n",
       "      <td>0.0</td>\n",
       "      <td>0.0</td>\n",
       "      <td>0.0</td>\n",
       "      <td>0.0</td>\n",
       "      <td>1.0</td>\n",
       "      <td>1.0</td>\n",
       "      <td>0.0</td>\n",
       "      <td>0.0</td>\n",
       "      <td>0.0</td>\n",
       "      <td>0.0</td>\n",
       "      <td>0.0</td>\n",
       "    </tr>\n",
       "    <tr>\n",
       "      <th>...</th>\n",
       "      <td>...</td>\n",
       "      <td>...</td>\n",
       "      <td>...</td>\n",
       "      <td>...</td>\n",
       "      <td>...</td>\n",
       "      <td>...</td>\n",
       "      <td>...</td>\n",
       "      <td>...</td>\n",
       "      <td>...</td>\n",
       "      <td>...</td>\n",
       "      <td>...</td>\n",
       "      <td>...</td>\n",
       "      <td>...</td>\n",
       "      <td>...</td>\n",
       "      <td>...</td>\n",
       "      <td>...</td>\n",
       "      <td>...</td>\n",
       "      <td>...</td>\n",
       "      <td>...</td>\n",
       "      <td>...</td>\n",
       "      <td>...</td>\n",
       "      <td>...</td>\n",
       "      <td>...</td>\n",
       "      <td>...</td>\n",
       "      <td>...</td>\n",
       "      <td>...</td>\n",
       "      <td>...</td>\n",
       "      <td>...</td>\n",
       "      <td>...</td>\n",
       "      <td>...</td>\n",
       "      <td>...</td>\n",
       "    </tr>\n",
       "    <tr>\n",
       "      <th>119879</th>\n",
       "      <td>1.0</td>\n",
       "      <td>20.50</td>\n",
       "      <td>2.0</td>\n",
       "      <td>0.0</td>\n",
       "      <td>0.0</td>\n",
       "      <td>0.0</td>\n",
       "      <td>0.0</td>\n",
       "      <td>1.0</td>\n",
       "      <td>0.0</td>\n",
       "      <td>0.0</td>\n",
       "      <td>0.0</td>\n",
       "      <td>1.0</td>\n",
       "      <td>0.0</td>\n",
       "      <td>0.0</td>\n",
       "      <td>1.0</td>\n",
       "      <td>0.0</td>\n",
       "      <td>0.0</td>\n",
       "      <td>0.0</td>\n",
       "      <td>0.0</td>\n",
       "      <td>0.0</td>\n",
       "      <td>0.0</td>\n",
       "      <td>0.0</td>\n",
       "      <td>0.0</td>\n",
       "      <td>0.0</td>\n",
       "      <td>0.0</td>\n",
       "      <td>0.0</td>\n",
       "      <td>1.0</td>\n",
       "      <td>0.0</td>\n",
       "      <td>0.0</td>\n",
       "      <td>0.0</td>\n",
       "      <td>1.0</td>\n",
       "    </tr>\n",
       "    <tr>\n",
       "      <th>259178</th>\n",
       "      <td>1.0</td>\n",
       "      <td>25.42</td>\n",
       "      <td>7.0</td>\n",
       "      <td>0.0</td>\n",
       "      <td>0.0</td>\n",
       "      <td>0.0</td>\n",
       "      <td>0.0</td>\n",
       "      <td>1.0</td>\n",
       "      <td>0.0</td>\n",
       "      <td>0.0</td>\n",
       "      <td>0.0</td>\n",
       "      <td>0.0</td>\n",
       "      <td>0.0</td>\n",
       "      <td>0.0</td>\n",
       "      <td>0.0</td>\n",
       "      <td>0.0</td>\n",
       "      <td>0.0</td>\n",
       "      <td>1.0</td>\n",
       "      <td>0.0</td>\n",
       "      <td>0.0</td>\n",
       "      <td>0.0</td>\n",
       "      <td>0.0</td>\n",
       "      <td>0.0</td>\n",
       "      <td>0.0</td>\n",
       "      <td>1.0</td>\n",
       "      <td>1.0</td>\n",
       "      <td>0.0</td>\n",
       "      <td>0.0</td>\n",
       "      <td>0.0</td>\n",
       "      <td>0.0</td>\n",
       "      <td>0.0</td>\n",
       "    </tr>\n",
       "    <tr>\n",
       "      <th>131932</th>\n",
       "      <td>1.0</td>\n",
       "      <td>13.67</td>\n",
       "      <td>29.0</td>\n",
       "      <td>1.0</td>\n",
       "      <td>0.0</td>\n",
       "      <td>0.0</td>\n",
       "      <td>0.0</td>\n",
       "      <td>0.0</td>\n",
       "      <td>0.0</td>\n",
       "      <td>0.0</td>\n",
       "      <td>0.0</td>\n",
       "      <td>1.0</td>\n",
       "      <td>0.0</td>\n",
       "      <td>0.0</td>\n",
       "      <td>0.0</td>\n",
       "      <td>0.0</td>\n",
       "      <td>0.0</td>\n",
       "      <td>1.0</td>\n",
       "      <td>0.0</td>\n",
       "      <td>0.0</td>\n",
       "      <td>0.0</td>\n",
       "      <td>0.0</td>\n",
       "      <td>0.0</td>\n",
       "      <td>1.0</td>\n",
       "      <td>0.0</td>\n",
       "      <td>0.0</td>\n",
       "      <td>0.0</td>\n",
       "      <td>0.0</td>\n",
       "      <td>0.0</td>\n",
       "      <td>1.0</td>\n",
       "      <td>1.0</td>\n",
       "    </tr>\n",
       "    <tr>\n",
       "      <th>146867</th>\n",
       "      <td>1.0</td>\n",
       "      <td>8.33</td>\n",
       "      <td>39.0</td>\n",
       "      <td>0.0</td>\n",
       "      <td>1.0</td>\n",
       "      <td>0.0</td>\n",
       "      <td>0.0</td>\n",
       "      <td>0.0</td>\n",
       "      <td>0.0</td>\n",
       "      <td>0.0</td>\n",
       "      <td>0.0</td>\n",
       "      <td>1.0</td>\n",
       "      <td>0.0</td>\n",
       "      <td>0.0</td>\n",
       "      <td>0.0</td>\n",
       "      <td>0.0</td>\n",
       "      <td>0.0</td>\n",
       "      <td>0.0</td>\n",
       "      <td>0.0</td>\n",
       "      <td>0.0</td>\n",
       "      <td>0.0</td>\n",
       "      <td>0.0</td>\n",
       "      <td>0.0</td>\n",
       "      <td>0.0</td>\n",
       "      <td>1.0</td>\n",
       "      <td>0.0</td>\n",
       "      <td>0.0</td>\n",
       "      <td>1.0</td>\n",
       "      <td>0.0</td>\n",
       "      <td>0.0</td>\n",
       "      <td>1.0</td>\n",
       "    </tr>\n",
       "    <tr>\n",
       "      <th>121958</th>\n",
       "      <td>1.0</td>\n",
       "      <td>20.17</td>\n",
       "      <td>17.0</td>\n",
       "      <td>1.0</td>\n",
       "      <td>0.0</td>\n",
       "      <td>0.0</td>\n",
       "      <td>0.0</td>\n",
       "      <td>0.0</td>\n",
       "      <td>0.0</td>\n",
       "      <td>0.0</td>\n",
       "      <td>0.0</td>\n",
       "      <td>1.0</td>\n",
       "      <td>0.0</td>\n",
       "      <td>0.0</td>\n",
       "      <td>0.0</td>\n",
       "      <td>0.0</td>\n",
       "      <td>0.0</td>\n",
       "      <td>0.0</td>\n",
       "      <td>0.0</td>\n",
       "      <td>0.0</td>\n",
       "      <td>0.0</td>\n",
       "      <td>0.0</td>\n",
       "      <td>0.0</td>\n",
       "      <td>1.0</td>\n",
       "      <td>0.0</td>\n",
       "      <td>0.0</td>\n",
       "      <td>1.0</td>\n",
       "      <td>0.0</td>\n",
       "      <td>0.0</td>\n",
       "      <td>0.0</td>\n",
       "      <td>1.0</td>\n",
       "    </tr>\n",
       "  </tbody>\n",
       "</table>\n",
       "<p>240122 rows × 31 columns</p>\n",
       "</div>"
      ],
      "text/plain": [
       "        const  duration  days_left  airline_Air_India  airline_GO_FIRST  \\\n",
       "148417    1.0     19.42        6.0                1.0               0.0   \n",
       "36879     1.0      7.00       13.0                0.0               0.0   \n",
       "274531    1.0     21.17       44.0                1.0               0.0   \n",
       "166397    1.0     10.25       11.0                0.0               0.0   \n",
       "272722    1.0     26.50        5.0                0.0               0.0   \n",
       "...       ...       ...        ...                ...               ...   \n",
       "119879    1.0     20.50        2.0                0.0               0.0   \n",
       "259178    1.0     25.42        7.0                0.0               0.0   \n",
       "131932    1.0     13.67       29.0                1.0               0.0   \n",
       "146867    1.0      8.33       39.0                0.0               1.0   \n",
       "121958    1.0     20.17       17.0                1.0               0.0   \n",
       "\n",
       "        airline_Indigo  airline_SpiceJet  airline_Vistara  \\\n",
       "148417             0.0               0.0              0.0   \n",
       "36879              1.0               0.0              0.0   \n",
       "274531             0.0               0.0              0.0   \n",
       "166397             0.0               0.0              1.0   \n",
       "272722             0.0               0.0              1.0   \n",
       "...                ...               ...              ...   \n",
       "119879             0.0               0.0              1.0   \n",
       "259178             0.0               0.0              1.0   \n",
       "131932             0.0               0.0              0.0   \n",
       "146867             0.0               0.0              0.0   \n",
       "121958             0.0               0.0              0.0   \n",
       "\n",
       "        source_city_Chennai  source_city_Delhi  source_city_Hyderabad  \\\n",
       "148417                  0.0                0.0                    0.0   \n",
       "36879                   0.0                1.0                    0.0   \n",
       "274531                  0.0                0.0                    0.0   \n",
       "166397                  0.0                0.0                    1.0   \n",
       "272722                  0.0                0.0                    0.0   \n",
       "...                     ...                ...                    ...   \n",
       "119879                  0.0                0.0                    0.0   \n",
       "259178                  0.0                0.0                    0.0   \n",
       "131932                  0.0                0.0                    0.0   \n",
       "146867                  0.0                0.0                    0.0   \n",
       "121958                  0.0                0.0                    0.0   \n",
       "\n",
       "        source_city_Kolkata  source_city_Mumbai  departure_time_Early_Morning  \\\n",
       "148417                  1.0                 0.0                           0.0   \n",
       "36879                   0.0                 0.0                           0.0   \n",
       "274531                  1.0                 0.0                           0.0   \n",
       "166397                  0.0                 0.0                           0.0   \n",
       "272722                  1.0                 0.0                           0.0   \n",
       "...                     ...                 ...                           ...   \n",
       "119879                  1.0                 0.0                           0.0   \n",
       "259178                  0.0                 0.0                           0.0   \n",
       "131932                  1.0                 0.0                           0.0   \n",
       "146867                  1.0                 0.0                           0.0   \n",
       "121958                  1.0                 0.0                           0.0   \n",
       "\n",
       "        departure_time_Evening  departure_time_Late_Night  \\\n",
       "148417                     0.0                        0.0   \n",
       "36879                      0.0                        0.0   \n",
       "274531                     0.0                        0.0   \n",
       "166397                     0.0                        0.0   \n",
       "272722                     0.0                        0.0   \n",
       "...                        ...                        ...   \n",
       "119879                     1.0                        0.0   \n",
       "259178                     0.0                        0.0   \n",
       "131932                     0.0                        0.0   \n",
       "146867                     0.0                        0.0   \n",
       "121958                     0.0                        0.0   \n",
       "\n",
       "        departure_time_Morning  departure_time_Night  stops_two_or_more  \\\n",
       "148417                     0.0                   0.0                0.0   \n",
       "36879                      0.0                   0.0                1.0   \n",
       "274531                     0.0                   0.0                0.0   \n",
       "166397                     0.0                   1.0                0.0   \n",
       "272722                     0.0                   1.0                0.0   \n",
       "...                        ...                   ...                ...   \n",
       "119879                     0.0                   0.0                0.0   \n",
       "259178                     0.0                   1.0                0.0   \n",
       "131932                     0.0                   1.0                0.0   \n",
       "146867                     0.0                   0.0                0.0   \n",
       "121958                     0.0                   0.0                0.0   \n",
       "\n",
       "        stops_zero  arrival_time_Early_Morning  arrival_time_Evening  \\\n",
       "148417         0.0                         0.0                   0.0   \n",
       "36879          0.0                         0.0                   0.0   \n",
       "274531         0.0                         0.0                   0.0   \n",
       "166397         0.0                         1.0                   0.0   \n",
       "272722         0.0                         0.0                   0.0   \n",
       "...            ...                         ...                   ...   \n",
       "119879         0.0                         0.0                   0.0   \n",
       "259178         0.0                         0.0                   0.0   \n",
       "131932         0.0                         0.0                   0.0   \n",
       "146867         0.0                         0.0                   0.0   \n",
       "121958         0.0                         0.0                   0.0   \n",
       "\n",
       "        arrival_time_Late_Night  arrival_time_Morning  arrival_time_Night  \\\n",
       "148417                      0.0                   1.0                 0.0   \n",
       "36879                       0.0                   0.0                 1.0   \n",
       "274531                      0.0                   0.0                 0.0   \n",
       "166397                      0.0                   0.0                 0.0   \n",
       "272722                      0.0                   0.0                 1.0   \n",
       "...                         ...                   ...                 ...   \n",
       "119879                      0.0                   0.0                 0.0   \n",
       "259178                      0.0                   0.0                 1.0   \n",
       "131932                      0.0                   1.0                 0.0   \n",
       "146867                      0.0                   0.0                 1.0   \n",
       "121958                      0.0                   1.0                 0.0   \n",
       "\n",
       "        destination_city_Chennai  destination_city_Delhi  \\\n",
       "148417                       1.0                     0.0   \n",
       "36879                        1.0                     0.0   \n",
       "274531                       1.0                     0.0   \n",
       "166397                       0.0                     0.0   \n",
       "272722                       1.0                     0.0   \n",
       "...                          ...                     ...   \n",
       "119879                       0.0                     1.0   \n",
       "259178                       1.0                     0.0   \n",
       "131932                       0.0                     0.0   \n",
       "146867                       0.0                     0.0   \n",
       "121958                       0.0                     1.0   \n",
       "\n",
       "        destination_city_Hyderabad  destination_city_Kolkata  \\\n",
       "148417                         0.0                       0.0   \n",
       "36879                          0.0                       0.0   \n",
       "274531                         0.0                       0.0   \n",
       "166397                         0.0                       0.0   \n",
       "272722                         0.0                       0.0   \n",
       "...                            ...                       ...   \n",
       "119879                         0.0                       0.0   \n",
       "259178                         0.0                       0.0   \n",
       "131932                         0.0                       0.0   \n",
       "146867                         1.0                       0.0   \n",
       "121958                         0.0                       0.0   \n",
       "\n",
       "        destination_city_Mumbai  class_Economy  \n",
       "148417                      0.0            1.0  \n",
       "36879                       0.0            1.0  \n",
       "274531                      0.0            0.0  \n",
       "166397                      0.0            1.0  \n",
       "272722                      0.0            0.0  \n",
       "...                         ...            ...  \n",
       "119879                      0.0            1.0  \n",
       "259178                      0.0            0.0  \n",
       "131932                      1.0            1.0  \n",
       "146867                      0.0            1.0  \n",
       "121958                      0.0            1.0  \n",
       "\n",
       "[240122 rows x 31 columns]"
      ]
     },
     "execution_count": 9,
     "metadata": {},
     "output_type": "execute_result"
    }
   ],
   "source": [
    "df = df_raw.copy()\n",
    "\n",
    "df.drop(columns=[\"flight\"], inplace=True)\n",
    "\n",
    "y = df['price']\n",
    "X = df.drop(columns=['price'])\n",
    "\n",
    "X_encoded = pd.get_dummies(X, drop_first=True)\n",
    "\n",
    "# Step 5: Add intercept\n",
    "X_encoded = sm.add_constant(X_encoded)\n",
    "\n",
    "# Make sure all data is numeric\n",
    "X_encoded = X_encoded.astype(float)\n",
    "y = y.astype(float)\n",
    "\n",
    "X_train, X_test, y_train, y_test = train_test_split(X_encoded, y, test_size=0.2, random_state=42)\n",
    "X_train"
   ]
  },
  {
   "cell_type": "markdown",
   "id": "27d8cf50",
   "metadata": {},
   "source": [
    "## Lasso, Statsmodels Implementation"
   ]
  },
  {
   "cell_type": "code",
   "execution_count": 10,
   "id": "bed73371",
   "metadata": {},
   "outputs": [],
   "source": [
    "def evaluate_predictions(y_true, y_pred):\n",
    "    # Metrics\n",
    "    r2 = r2_score(y_true, y_pred)\n",
    "    mse = mean_squared_error(y_true, y_pred)\n",
    "    rmse = root_mean_squared_error(y_true, y_pred)\n",
    "    mae = mean_absolute_error(y_true, y_pred)\n",
    "\n",
    "    print(f\"R²: {r2:.3f}\")\n",
    "    print(f\"MSE: {mse:.2f}\")\n",
    "    print(f\"RMSE: {rmse:.2f}\")\n",
    "    print(f\"MAE: {mae:.2f}\")\n",
    "\n",
    "def show_nonzero_coefficients(coef:pd.Series):\n",
    "    # Filter non-zero coefficients\n",
    "    nonzero_coef = coef[coef != 0]\n",
    "    print(f\"\\nSelected Coefficients (non-zero): {len(nonzero_coef)}\")\n",
    "    # Build DataFrame with sign and absolute importance\n",
    "    coef_df = pd.DataFrame({\n",
    "        \"Selected Feature\": nonzero_coef.index,\n",
    "        \"Coefficient\": nonzero_coef.values,\n",
    "        \"Importance\": nonzero_coef.abs().values\n",
    "    })\n",
    "\n",
    "    # Sort by absolute importance (descending)\n",
    "    coef_df = coef_df.sort_values(by=\"Importance\", ascending=False).reset_index(drop=True)\n",
    "    coef_df.drop(columns=\"Importance\", inplace=True)\n",
    "    return coef_df"
   ]
  },
  {
   "cell_type": "code",
   "execution_count": 11,
   "id": "c1f537cf",
   "metadata": {},
   "outputs": [
    {
     "name": "stdout",
     "output_type": "stream",
     "text": [
      "Metrics Training:\n",
      "R²: 0.911\n",
      "MSE: 45875614.68\n",
      "RMSE: 6773.15\n",
      "MAE: 4594.10\n",
      "\n",
      "Selected Coefficients (non-zero): 25\n"
     ]
    },
    {
     "data": {
      "text/html": [
       "<div>\n",
       "<style scoped>\n",
       "    .dataframe tbody tr th:only-of-type {\n",
       "        vertical-align: middle;\n",
       "    }\n",
       "\n",
       "    .dataframe tbody tr th {\n",
       "        vertical-align: top;\n",
       "    }\n",
       "\n",
       "    .dataframe thead th {\n",
       "        text-align: right;\n",
       "    }\n",
       "</style>\n",
       "<table border=\"1\" class=\"dataframe\">\n",
       "  <thead>\n",
       "    <tr style=\"text-align: right;\">\n",
       "      <th></th>\n",
       "      <th>Selected Feature</th>\n",
       "      <th>Coefficient</th>\n",
       "    </tr>\n",
       "  </thead>\n",
       "  <tbody>\n",
       "    <tr>\n",
       "      <th>0</th>\n",
       "      <td>const</td>\n",
       "      <td>50748.899859</td>\n",
       "    </tr>\n",
       "    <tr>\n",
       "      <th>1</th>\n",
       "      <td>class_Economy</td>\n",
       "      <td>-44722.005244</td>\n",
       "    </tr>\n",
       "    <tr>\n",
       "      <th>2</th>\n",
       "      <td>stops_zero</td>\n",
       "      <td>-7510.561076</td>\n",
       "    </tr>\n",
       "    <tr>\n",
       "      <th>3</th>\n",
       "      <td>airline_Vistara</td>\n",
       "      <td>3178.035956</td>\n",
       "    </tr>\n",
       "    <tr>\n",
       "      <th>4</th>\n",
       "      <td>days_left</td>\n",
       "      <td>-1782.591587</td>\n",
       "    </tr>\n",
       "    <tr>\n",
       "      <th>5</th>\n",
       "      <td>source_city_Kolkata</td>\n",
       "      <td>1706.785602</td>\n",
       "    </tr>\n",
       "    <tr>\n",
       "      <th>6</th>\n",
       "      <td>destination_city_Hyderabad</td>\n",
       "      <td>-1675.968602</td>\n",
       "    </tr>\n",
       "    <tr>\n",
       "      <th>7</th>\n",
       "      <td>source_city_Hyderabad</td>\n",
       "      <td>-1639.671488</td>\n",
       "    </tr>\n",
       "    <tr>\n",
       "      <th>8</th>\n",
       "      <td>destination_city_Delhi</td>\n",
       "      <td>-1507.124571</td>\n",
       "    </tr>\n",
       "    <tr>\n",
       "      <th>9</th>\n",
       "      <td>destination_city_Kolkata</td>\n",
       "      <td>1493.950610</td>\n",
       "    </tr>\n",
       "    <tr>\n",
       "      <th>10</th>\n",
       "      <td>source_city_Delhi</td>\n",
       "      <td>-1346.229667</td>\n",
       "    </tr>\n",
       "    <tr>\n",
       "      <th>11</th>\n",
       "      <td>departure_time_Late_Night</td>\n",
       "      <td>1306.871893</td>\n",
       "    </tr>\n",
       "    <tr>\n",
       "      <th>12</th>\n",
       "      <td>airline_Indigo</td>\n",
       "      <td>1119.173356</td>\n",
       "    </tr>\n",
       "    <tr>\n",
       "      <th>13</th>\n",
       "      <td>arrival_time_Early_Morning</td>\n",
       "      <td>-1083.155142</td>\n",
       "    </tr>\n",
       "    <tr>\n",
       "      <th>14</th>\n",
       "      <td>departure_time_Morning</td>\n",
       "      <td>868.766059</td>\n",
       "    </tr>\n",
       "    <tr>\n",
       "      <th>15</th>\n",
       "      <td>arrival_time_Night</td>\n",
       "      <td>863.311780</td>\n",
       "    </tr>\n",
       "    <tr>\n",
       "      <th>16</th>\n",
       "      <td>airline_Air_India</td>\n",
       "      <td>-824.842775</td>\n",
       "    </tr>\n",
       "    <tr>\n",
       "      <th>17</th>\n",
       "      <td>departure_time_Early_Morning</td>\n",
       "      <td>813.157037</td>\n",
       "    </tr>\n",
       "    <tr>\n",
       "      <th>18</th>\n",
       "      <td>departure_time_Evening</td>\n",
       "      <td>749.233764</td>\n",
       "    </tr>\n",
       "    <tr>\n",
       "      <th>19</th>\n",
       "      <td>airline_GO_FIRST</td>\n",
       "      <td>714.727042</td>\n",
       "    </tr>\n",
       "    <tr>\n",
       "      <th>20</th>\n",
       "      <td>arrival_time_Evening</td>\n",
       "      <td>623.024987</td>\n",
       "    </tr>\n",
       "    <tr>\n",
       "      <th>21</th>\n",
       "      <td>departure_time_Night</td>\n",
       "      <td>597.865637</td>\n",
       "    </tr>\n",
       "    <tr>\n",
       "      <th>22</th>\n",
       "      <td>duration</td>\n",
       "      <td>383.768122</td>\n",
       "    </tr>\n",
       "    <tr>\n",
       "      <th>23</th>\n",
       "      <td>source_city_Mumbai</td>\n",
       "      <td>-139.334276</td>\n",
       "    </tr>\n",
       "    <tr>\n",
       "      <th>24</th>\n",
       "      <td>destination_city_Chennai</td>\n",
       "      <td>-60.561891</td>\n",
       "    </tr>\n",
       "  </tbody>\n",
       "</table>\n",
       "</div>"
      ],
      "text/plain": [
       "                Selected Feature   Coefficient\n",
       "0                          const  50748.899859\n",
       "1                  class_Economy -44722.005244\n",
       "2                     stops_zero  -7510.561076\n",
       "3                airline_Vistara   3178.035956\n",
       "4                      days_left  -1782.591587\n",
       "5            source_city_Kolkata   1706.785602\n",
       "6     destination_city_Hyderabad  -1675.968602\n",
       "7          source_city_Hyderabad  -1639.671488\n",
       "8         destination_city_Delhi  -1507.124571\n",
       "9       destination_city_Kolkata   1493.950610\n",
       "10             source_city_Delhi  -1346.229667\n",
       "11     departure_time_Late_Night   1306.871893\n",
       "12                airline_Indigo   1119.173356\n",
       "13    arrival_time_Early_Morning  -1083.155142\n",
       "14        departure_time_Morning    868.766059\n",
       "15            arrival_time_Night    863.311780\n",
       "16             airline_Air_India   -824.842775\n",
       "17  departure_time_Early_Morning    813.157037\n",
       "18        departure_time_Evening    749.233764\n",
       "19              airline_GO_FIRST    714.727042\n",
       "20          arrival_time_Evening    623.024987\n",
       "21          departure_time_Night    597.865637\n",
       "22                      duration    383.768122\n",
       "23            source_city_Mumbai   -139.334276\n",
       "24      destination_city_Chennai    -60.561891"
      ]
     },
     "execution_count": 11,
     "metadata": {},
     "output_type": "execute_result"
    }
   ],
   "source": [
    "# Step 4: Scale numeric features\n",
    "X_preprocessed = X_train.copy()\n",
    "NUMERICAL_COLS = ['duration', 'days_left']\n",
    "scaler = StandardScaler()\n",
    "X_preprocessed[NUMERICAL_COLS] = scaler.fit_transform(X_preprocessed[NUMERICAL_COLS])\n",
    "\n",
    "# Step 6: Fit Lasso using statsmodels (fit_regularized)\n",
    "model = sm.OLS(y_train, X_preprocessed)\n",
    "lasso_result = model.fit_regularized(method='elastic_net', alpha=1.0, L1_wt=1.0)\n",
    "\n",
    "# Predictions\n",
    "y_pred = lasso_result.predict(X_preprocessed)\n",
    "print(\"Metrics Training:\")\n",
    "evaluate_predictions(y_train, y_pred)\n",
    "\n",
    "# Step 7: Display coefficients\n",
    "coef = pd.Series(lasso_result.params, index=X_preprocessed.columns)\n",
    "show_nonzero_coefficients(coef)"
   ]
  },
  {
   "cell_type": "markdown",
   "id": "f58b69cc",
   "metadata": {},
   "source": [
    "## Lasso, ScikitLearn Implementation\n",
    "\n",
    "- Same training R2 as Statsmodels but slightly different coefficients and MSE for some reason. Scaling difference?\n",
    "- Statsmodels doesn't give information table, so we might as well use Scikitlearn\n",
    "- It's also x10 times faster"
   ]
  },
  {
   "cell_type": "code",
   "execution_count": 12,
   "id": "51125620",
   "metadata": {},
   "outputs": [
    {
     "name": "stdout",
     "output_type": "stream",
     "text": [
      "Metrics Training:\n",
      "R²: 0.911\n",
      "MSE: 45592781.12\n",
      "RMSE: 6752.24\n",
      "MAE: 4573.16\n",
      "\n",
      "Selected Coefficients (non-zero): 29\n"
     ]
    },
    {
     "data": {
      "text/html": [
       "<div>\n",
       "<style scoped>\n",
       "    .dataframe tbody tr th:only-of-type {\n",
       "        vertical-align: middle;\n",
       "    }\n",
       "\n",
       "    .dataframe tbody tr th {\n",
       "        vertical-align: top;\n",
       "    }\n",
       "\n",
       "    .dataframe thead th {\n",
       "        text-align: right;\n",
       "    }\n",
       "</style>\n",
       "<table border=\"1\" class=\"dataframe\">\n",
       "  <thead>\n",
       "    <tr style=\"text-align: right;\">\n",
       "      <th></th>\n",
       "      <th>Selected Feature</th>\n",
       "      <th>Coefficient</th>\n",
       "    </tr>\n",
       "  </thead>\n",
       "  <tbody>\n",
       "    <tr>\n",
       "      <th>0</th>\n",
       "      <td>class_Economy</td>\n",
       "      <td>-44927.039846</td>\n",
       "    </tr>\n",
       "    <tr>\n",
       "      <th>1</th>\n",
       "      <td>stops_zero</td>\n",
       "      <td>-7594.554556</td>\n",
       "    </tr>\n",
       "    <tr>\n",
       "      <th>2</th>\n",
       "      <td>airline_Vistara</td>\n",
       "      <td>3959.834212</td>\n",
       "    </tr>\n",
       "    <tr>\n",
       "      <th>3</th>\n",
       "      <td>airline_SpiceJet</td>\n",
       "      <td>2158.949125</td>\n",
       "    </tr>\n",
       "    <tr>\n",
       "      <th>4</th>\n",
       "      <td>stops_two_or_more</td>\n",
       "      <td>2066.661971</td>\n",
       "    </tr>\n",
       "    <tr>\n",
       "      <th>5</th>\n",
       "      <td>airline_Indigo</td>\n",
       "      <td>2010.066314</td>\n",
       "    </tr>\n",
       "    <tr>\n",
       "      <th>6</th>\n",
       "      <td>duration</td>\n",
       "      <td>-1769.489330</td>\n",
       "    </tr>\n",
       "    <tr>\n",
       "      <th>7</th>\n",
       "      <td>destination_city_Hyderabad</td>\n",
       "      <td>-1683.962152</td>\n",
       "    </tr>\n",
       "    <tr>\n",
       "      <th>8</th>\n",
       "      <td>source_city_Hyderabad</td>\n",
       "      <td>-1647.005015</td>\n",
       "    </tr>\n",
       "    <tr>\n",
       "      <th>9</th>\n",
       "      <td>source_city_Kolkata</td>\n",
       "      <td>1608.552126</td>\n",
       "    </tr>\n",
       "    <tr>\n",
       "      <th>10</th>\n",
       "      <td>airline_GO_FIRST</td>\n",
       "      <td>1573.172630</td>\n",
       "    </tr>\n",
       "    <tr>\n",
       "      <th>11</th>\n",
       "      <td>destination_city_Delhi</td>\n",
       "      <td>-1534.868167</td>\n",
       "    </tr>\n",
       "    <tr>\n",
       "      <th>12</th>\n",
       "      <td>source_city_Delhi</td>\n",
       "      <td>-1389.830175</td>\n",
       "    </tr>\n",
       "    <tr>\n",
       "      <th>13</th>\n",
       "      <td>destination_city_Kolkata</td>\n",
       "      <td>1373.882813</td>\n",
       "    </tr>\n",
       "    <tr>\n",
       "      <th>14</th>\n",
       "      <td>departure_time_Late_Night</td>\n",
       "      <td>1263.199082</td>\n",
       "    </tr>\n",
       "    <tr>\n",
       "      <th>15</th>\n",
       "      <td>arrival_time_Night</td>\n",
       "      <td>1104.975288</td>\n",
       "    </tr>\n",
       "    <tr>\n",
       "      <th>16</th>\n",
       "      <td>arrival_time_Late_Night</td>\n",
       "      <td>902.898385</td>\n",
       "    </tr>\n",
       "    <tr>\n",
       "      <th>17</th>\n",
       "      <td>arrival_time_Evening</td>\n",
       "      <td>896.655558</td>\n",
       "    </tr>\n",
       "    <tr>\n",
       "      <th>18</th>\n",
       "      <td>departure_time_Morning</td>\n",
       "      <td>830.271081</td>\n",
       "    </tr>\n",
       "    <tr>\n",
       "      <th>19</th>\n",
       "      <td>departure_time_Early_Morning</td>\n",
       "      <td>768.749940</td>\n",
       "    </tr>\n",
       "    <tr>\n",
       "      <th>20</th>\n",
       "      <td>arrival_time_Early_Morning</td>\n",
       "      <td>-766.893182</td>\n",
       "    </tr>\n",
       "    <tr>\n",
       "      <th>21</th>\n",
       "      <td>departure_time_Evening</td>\n",
       "      <td>698.846028</td>\n",
       "    </tr>\n",
       "    <tr>\n",
       "      <th>22</th>\n",
       "      <td>departure_time_Night</td>\n",
       "      <td>615.236295</td>\n",
       "    </tr>\n",
       "    <tr>\n",
       "      <th>23</th>\n",
       "      <td>arrival_time_Morning</td>\n",
       "      <td>434.768659</td>\n",
       "    </tr>\n",
       "    <tr>\n",
       "      <th>24</th>\n",
       "      <td>const</td>\n",
       "      <td>314.710400</td>\n",
       "    </tr>\n",
       "    <tr>\n",
       "      <th>25</th>\n",
       "      <td>destination_city_Chennai</td>\n",
       "      <td>-207.672156</td>\n",
       "    </tr>\n",
       "    <tr>\n",
       "      <th>26</th>\n",
       "      <td>source_city_Mumbai</td>\n",
       "      <td>-178.591231</td>\n",
       "    </tr>\n",
       "    <tr>\n",
       "      <th>27</th>\n",
       "      <td>source_city_Chennai</td>\n",
       "      <td>-45.050361</td>\n",
       "    </tr>\n",
       "    <tr>\n",
       "      <th>28</th>\n",
       "      <td>destination_city_Mumbai</td>\n",
       "      <td>-2.828915</td>\n",
       "    </tr>\n",
       "  </tbody>\n",
       "</table>\n",
       "</div>"
      ],
      "text/plain": [
       "                Selected Feature   Coefficient\n",
       "0                  class_Economy -44927.039846\n",
       "1                     stops_zero  -7594.554556\n",
       "2                airline_Vistara   3959.834212\n",
       "3               airline_SpiceJet   2158.949125\n",
       "4              stops_two_or_more   2066.661971\n",
       "5                 airline_Indigo   2010.066314\n",
       "6                       duration  -1769.489330\n",
       "7     destination_city_Hyderabad  -1683.962152\n",
       "8          source_city_Hyderabad  -1647.005015\n",
       "9            source_city_Kolkata   1608.552126\n",
       "10              airline_GO_FIRST   1573.172630\n",
       "11        destination_city_Delhi  -1534.868167\n",
       "12             source_city_Delhi  -1389.830175\n",
       "13      destination_city_Kolkata   1373.882813\n",
       "14     departure_time_Late_Night   1263.199082\n",
       "15            arrival_time_Night   1104.975288\n",
       "16       arrival_time_Late_Night    902.898385\n",
       "17          arrival_time_Evening    896.655558\n",
       "18        departure_time_Morning    830.271081\n",
       "19  departure_time_Early_Morning    768.749940\n",
       "20    arrival_time_Early_Morning   -766.893182\n",
       "21        departure_time_Evening    698.846028\n",
       "22          departure_time_Night    615.236295\n",
       "23          arrival_time_Morning    434.768659\n",
       "24                         const    314.710400\n",
       "25      destination_city_Chennai   -207.672156\n",
       "26            source_city_Mumbai   -178.591231\n",
       "27           source_city_Chennai    -45.050361\n",
       "28       destination_city_Mumbai     -2.828915"
      ]
     },
     "execution_count": 12,
     "metadata": {},
     "output_type": "execute_result"
    }
   ],
   "source": [
    "# 4. Build pipeline: scale numericals and fit Lasso\n",
    "# Preprocessing: scale numericals, pass-through the rest\n",
    "preprocessor = ColumnTransformer(\n",
    "    transformers=[\n",
    "        ('num', StandardScaler(), NUMERICAL_COLS)\n",
    "    ],\n",
    "    remainder='passthrough'  # leave one-hot encoded dummies unchanged\n",
    ")\n",
    "\n",
    "lasso_pipeline = Pipeline([\n",
    "    ('preprocessor', preprocessor),\n",
    "    ('model', Lasso(alpha=1.0))\n",
    "])\n",
    "\n",
    "lasso_pipeline.fit(X_train, y_train)\n",
    "\n",
    "# 5. Predictions and metrics\n",
    "y_pred = lasso_pipeline.predict(X_train)\n",
    "print(\"Metrics Training:\")\n",
    "evaluate_predictions(y_train, y_pred )\n",
    "\n",
    "# 6. Extract coefficients\n",
    "lasso = lasso_pipeline.named_steps['model']\n",
    "coef = pd.Series(lasso.coef_, index=X_encoded.columns)\n",
    "show_nonzero_coefficients(coef)"
   ]
  },
  {
   "cell_type": "markdown",
   "id": "0e2405ac",
   "metadata": {},
   "source": [
    "## CrossValidation"
   ]
  },
  {
   "cell_type": "code",
   "execution_count": 13,
   "id": "3f9ee301",
   "metadata": {},
   "outputs": [
    {
     "name": "stderr",
     "output_type": "stream",
     "text": [
      "c:\\Users\\AsusTUF\\anaconda3\\envs\\tru_linear_models_assignments\\Lib\\site-packages\\sklearn\\compose\\_column_transformer.py:1667: FutureWarning:\n",
      "\n",
      "\n",
      "The format of the columns of the 'remainder' transformer in ColumnTransformer.transformers_ will change in version 1.7 to match the format of the other transformers.\n",
      "At the moment the remainder columns are stored as indices (of type int). With the same ColumnTransformer configuration, in the future they will be stored as column names (of type str).\n",
      "To use the new behavior now and suppress this warning, use ColumnTransformer(force_int_remainder_cols=False).\n",
      "\n",
      "\n"
     ]
    },
    {
     "data": {
      "text/html": [
       "<style>#sk-container-id-1 {\n",
       "  /* Definition of color scheme common for light and dark mode */\n",
       "  --sklearn-color-text: #000;\n",
       "  --sklearn-color-text-muted: #666;\n",
       "  --sklearn-color-line: gray;\n",
       "  /* Definition of color scheme for unfitted estimators */\n",
       "  --sklearn-color-unfitted-level-0: #fff5e6;\n",
       "  --sklearn-color-unfitted-level-1: #f6e4d2;\n",
       "  --sklearn-color-unfitted-level-2: #ffe0b3;\n",
       "  --sklearn-color-unfitted-level-3: chocolate;\n",
       "  /* Definition of color scheme for fitted estimators */\n",
       "  --sklearn-color-fitted-level-0: #f0f8ff;\n",
       "  --sklearn-color-fitted-level-1: #d4ebff;\n",
       "  --sklearn-color-fitted-level-2: #b3dbfd;\n",
       "  --sklearn-color-fitted-level-3: cornflowerblue;\n",
       "\n",
       "  /* Specific color for light theme */\n",
       "  --sklearn-color-text-on-default-background: var(--sg-text-color, var(--theme-code-foreground, var(--jp-content-font-color1, black)));\n",
       "  --sklearn-color-background: var(--sg-background-color, var(--theme-background, var(--jp-layout-color0, white)));\n",
       "  --sklearn-color-border-box: var(--sg-text-color, var(--theme-code-foreground, var(--jp-content-font-color1, black)));\n",
       "  --sklearn-color-icon: #696969;\n",
       "\n",
       "  @media (prefers-color-scheme: dark) {\n",
       "    /* Redefinition of color scheme for dark theme */\n",
       "    --sklearn-color-text-on-default-background: var(--sg-text-color, var(--theme-code-foreground, var(--jp-content-font-color1, white)));\n",
       "    --sklearn-color-background: var(--sg-background-color, var(--theme-background, var(--jp-layout-color0, #111)));\n",
       "    --sklearn-color-border-box: var(--sg-text-color, var(--theme-code-foreground, var(--jp-content-font-color1, white)));\n",
       "    --sklearn-color-icon: #878787;\n",
       "  }\n",
       "}\n",
       "\n",
       "#sk-container-id-1 {\n",
       "  color: var(--sklearn-color-text);\n",
       "}\n",
       "\n",
       "#sk-container-id-1 pre {\n",
       "  padding: 0;\n",
       "}\n",
       "\n",
       "#sk-container-id-1 input.sk-hidden--visually {\n",
       "  border: 0;\n",
       "  clip: rect(1px 1px 1px 1px);\n",
       "  clip: rect(1px, 1px, 1px, 1px);\n",
       "  height: 1px;\n",
       "  margin: -1px;\n",
       "  overflow: hidden;\n",
       "  padding: 0;\n",
       "  position: absolute;\n",
       "  width: 1px;\n",
       "}\n",
       "\n",
       "#sk-container-id-1 div.sk-dashed-wrapped {\n",
       "  border: 1px dashed var(--sklearn-color-line);\n",
       "  margin: 0 0.4em 0.5em 0.4em;\n",
       "  box-sizing: border-box;\n",
       "  padding-bottom: 0.4em;\n",
       "  background-color: var(--sklearn-color-background);\n",
       "}\n",
       "\n",
       "#sk-container-id-1 div.sk-container {\n",
       "  /* jupyter's `normalize.less` sets `[hidden] { display: none; }`\n",
       "     but bootstrap.min.css set `[hidden] { display: none !important; }`\n",
       "     so we also need the `!important` here to be able to override the\n",
       "     default hidden behavior on the sphinx rendered scikit-learn.org.\n",
       "     See: https://github.com/scikit-learn/scikit-learn/issues/21755 */\n",
       "  display: inline-block !important;\n",
       "  position: relative;\n",
       "}\n",
       "\n",
       "#sk-container-id-1 div.sk-text-repr-fallback {\n",
       "  display: none;\n",
       "}\n",
       "\n",
       "div.sk-parallel-item,\n",
       "div.sk-serial,\n",
       "div.sk-item {\n",
       "  /* draw centered vertical line to link estimators */\n",
       "  background-image: linear-gradient(var(--sklearn-color-text-on-default-background), var(--sklearn-color-text-on-default-background));\n",
       "  background-size: 2px 100%;\n",
       "  background-repeat: no-repeat;\n",
       "  background-position: center center;\n",
       "}\n",
       "\n",
       "/* Parallel-specific style estimator block */\n",
       "\n",
       "#sk-container-id-1 div.sk-parallel-item::after {\n",
       "  content: \"\";\n",
       "  width: 100%;\n",
       "  border-bottom: 2px solid var(--sklearn-color-text-on-default-background);\n",
       "  flex-grow: 1;\n",
       "}\n",
       "\n",
       "#sk-container-id-1 div.sk-parallel {\n",
       "  display: flex;\n",
       "  align-items: stretch;\n",
       "  justify-content: center;\n",
       "  background-color: var(--sklearn-color-background);\n",
       "  position: relative;\n",
       "}\n",
       "\n",
       "#sk-container-id-1 div.sk-parallel-item {\n",
       "  display: flex;\n",
       "  flex-direction: column;\n",
       "}\n",
       "\n",
       "#sk-container-id-1 div.sk-parallel-item:first-child::after {\n",
       "  align-self: flex-end;\n",
       "  width: 50%;\n",
       "}\n",
       "\n",
       "#sk-container-id-1 div.sk-parallel-item:last-child::after {\n",
       "  align-self: flex-start;\n",
       "  width: 50%;\n",
       "}\n",
       "\n",
       "#sk-container-id-1 div.sk-parallel-item:only-child::after {\n",
       "  width: 0;\n",
       "}\n",
       "\n",
       "/* Serial-specific style estimator block */\n",
       "\n",
       "#sk-container-id-1 div.sk-serial {\n",
       "  display: flex;\n",
       "  flex-direction: column;\n",
       "  align-items: center;\n",
       "  background-color: var(--sklearn-color-background);\n",
       "  padding-right: 1em;\n",
       "  padding-left: 1em;\n",
       "}\n",
       "\n",
       "\n",
       "/* Toggleable style: style used for estimator/Pipeline/ColumnTransformer box that is\n",
       "clickable and can be expanded/collapsed.\n",
       "- Pipeline and ColumnTransformer use this feature and define the default style\n",
       "- Estimators will overwrite some part of the style using the `sk-estimator` class\n",
       "*/\n",
       "\n",
       "/* Pipeline and ColumnTransformer style (default) */\n",
       "\n",
       "#sk-container-id-1 div.sk-toggleable {\n",
       "  /* Default theme specific background. It is overwritten whether we have a\n",
       "  specific estimator or a Pipeline/ColumnTransformer */\n",
       "  background-color: var(--sklearn-color-background);\n",
       "}\n",
       "\n",
       "/* Toggleable label */\n",
       "#sk-container-id-1 label.sk-toggleable__label {\n",
       "  cursor: pointer;\n",
       "  display: flex;\n",
       "  width: 100%;\n",
       "  margin-bottom: 0;\n",
       "  padding: 0.5em;\n",
       "  box-sizing: border-box;\n",
       "  text-align: center;\n",
       "  align-items: start;\n",
       "  justify-content: space-between;\n",
       "  gap: 0.5em;\n",
       "}\n",
       "\n",
       "#sk-container-id-1 label.sk-toggleable__label .caption {\n",
       "  font-size: 0.6rem;\n",
       "  font-weight: lighter;\n",
       "  color: var(--sklearn-color-text-muted);\n",
       "}\n",
       "\n",
       "#sk-container-id-1 label.sk-toggleable__label-arrow:before {\n",
       "  /* Arrow on the left of the label */\n",
       "  content: \"▸\";\n",
       "  float: left;\n",
       "  margin-right: 0.25em;\n",
       "  color: var(--sklearn-color-icon);\n",
       "}\n",
       "\n",
       "#sk-container-id-1 label.sk-toggleable__label-arrow:hover:before {\n",
       "  color: var(--sklearn-color-text);\n",
       "}\n",
       "\n",
       "/* Toggleable content - dropdown */\n",
       "\n",
       "#sk-container-id-1 div.sk-toggleable__content {\n",
       "  max-height: 0;\n",
       "  max-width: 0;\n",
       "  overflow: hidden;\n",
       "  text-align: left;\n",
       "  /* unfitted */\n",
       "  background-color: var(--sklearn-color-unfitted-level-0);\n",
       "}\n",
       "\n",
       "#sk-container-id-1 div.sk-toggleable__content.fitted {\n",
       "  /* fitted */\n",
       "  background-color: var(--sklearn-color-fitted-level-0);\n",
       "}\n",
       "\n",
       "#sk-container-id-1 div.sk-toggleable__content pre {\n",
       "  margin: 0.2em;\n",
       "  border-radius: 0.25em;\n",
       "  color: var(--sklearn-color-text);\n",
       "  /* unfitted */\n",
       "  background-color: var(--sklearn-color-unfitted-level-0);\n",
       "}\n",
       "\n",
       "#sk-container-id-1 div.sk-toggleable__content.fitted pre {\n",
       "  /* unfitted */\n",
       "  background-color: var(--sklearn-color-fitted-level-0);\n",
       "}\n",
       "\n",
       "#sk-container-id-1 input.sk-toggleable__control:checked~div.sk-toggleable__content {\n",
       "  /* Expand drop-down */\n",
       "  max-height: 200px;\n",
       "  max-width: 100%;\n",
       "  overflow: auto;\n",
       "}\n",
       "\n",
       "#sk-container-id-1 input.sk-toggleable__control:checked~label.sk-toggleable__label-arrow:before {\n",
       "  content: \"▾\";\n",
       "}\n",
       "\n",
       "/* Pipeline/ColumnTransformer-specific style */\n",
       "\n",
       "#sk-container-id-1 div.sk-label input.sk-toggleable__control:checked~label.sk-toggleable__label {\n",
       "  color: var(--sklearn-color-text);\n",
       "  background-color: var(--sklearn-color-unfitted-level-2);\n",
       "}\n",
       "\n",
       "#sk-container-id-1 div.sk-label.fitted input.sk-toggleable__control:checked~label.sk-toggleable__label {\n",
       "  background-color: var(--sklearn-color-fitted-level-2);\n",
       "}\n",
       "\n",
       "/* Estimator-specific style */\n",
       "\n",
       "/* Colorize estimator box */\n",
       "#sk-container-id-1 div.sk-estimator input.sk-toggleable__control:checked~label.sk-toggleable__label {\n",
       "  /* unfitted */\n",
       "  background-color: var(--sklearn-color-unfitted-level-2);\n",
       "}\n",
       "\n",
       "#sk-container-id-1 div.sk-estimator.fitted input.sk-toggleable__control:checked~label.sk-toggleable__label {\n",
       "  /* fitted */\n",
       "  background-color: var(--sklearn-color-fitted-level-2);\n",
       "}\n",
       "\n",
       "#sk-container-id-1 div.sk-label label.sk-toggleable__label,\n",
       "#sk-container-id-1 div.sk-label label {\n",
       "  /* The background is the default theme color */\n",
       "  color: var(--sklearn-color-text-on-default-background);\n",
       "}\n",
       "\n",
       "/* On hover, darken the color of the background */\n",
       "#sk-container-id-1 div.sk-label:hover label.sk-toggleable__label {\n",
       "  color: var(--sklearn-color-text);\n",
       "  background-color: var(--sklearn-color-unfitted-level-2);\n",
       "}\n",
       "\n",
       "/* Label box, darken color on hover, fitted */\n",
       "#sk-container-id-1 div.sk-label.fitted:hover label.sk-toggleable__label.fitted {\n",
       "  color: var(--sklearn-color-text);\n",
       "  background-color: var(--sklearn-color-fitted-level-2);\n",
       "}\n",
       "\n",
       "/* Estimator label */\n",
       "\n",
       "#sk-container-id-1 div.sk-label label {\n",
       "  font-family: monospace;\n",
       "  font-weight: bold;\n",
       "  display: inline-block;\n",
       "  line-height: 1.2em;\n",
       "}\n",
       "\n",
       "#sk-container-id-1 div.sk-label-container {\n",
       "  text-align: center;\n",
       "}\n",
       "\n",
       "/* Estimator-specific */\n",
       "#sk-container-id-1 div.sk-estimator {\n",
       "  font-family: monospace;\n",
       "  border: 1px dotted var(--sklearn-color-border-box);\n",
       "  border-radius: 0.25em;\n",
       "  box-sizing: border-box;\n",
       "  margin-bottom: 0.5em;\n",
       "  /* unfitted */\n",
       "  background-color: var(--sklearn-color-unfitted-level-0);\n",
       "}\n",
       "\n",
       "#sk-container-id-1 div.sk-estimator.fitted {\n",
       "  /* fitted */\n",
       "  background-color: var(--sklearn-color-fitted-level-0);\n",
       "}\n",
       "\n",
       "/* on hover */\n",
       "#sk-container-id-1 div.sk-estimator:hover {\n",
       "  /* unfitted */\n",
       "  background-color: var(--sklearn-color-unfitted-level-2);\n",
       "}\n",
       "\n",
       "#sk-container-id-1 div.sk-estimator.fitted:hover {\n",
       "  /* fitted */\n",
       "  background-color: var(--sklearn-color-fitted-level-2);\n",
       "}\n",
       "\n",
       "/* Specification for estimator info (e.g. \"i\" and \"?\") */\n",
       "\n",
       "/* Common style for \"i\" and \"?\" */\n",
       "\n",
       ".sk-estimator-doc-link,\n",
       "a:link.sk-estimator-doc-link,\n",
       "a:visited.sk-estimator-doc-link {\n",
       "  float: right;\n",
       "  font-size: smaller;\n",
       "  line-height: 1em;\n",
       "  font-family: monospace;\n",
       "  background-color: var(--sklearn-color-background);\n",
       "  border-radius: 1em;\n",
       "  height: 1em;\n",
       "  width: 1em;\n",
       "  text-decoration: none !important;\n",
       "  margin-left: 0.5em;\n",
       "  text-align: center;\n",
       "  /* unfitted */\n",
       "  border: var(--sklearn-color-unfitted-level-1) 1pt solid;\n",
       "  color: var(--sklearn-color-unfitted-level-1);\n",
       "}\n",
       "\n",
       ".sk-estimator-doc-link.fitted,\n",
       "a:link.sk-estimator-doc-link.fitted,\n",
       "a:visited.sk-estimator-doc-link.fitted {\n",
       "  /* fitted */\n",
       "  border: var(--sklearn-color-fitted-level-1) 1pt solid;\n",
       "  color: var(--sklearn-color-fitted-level-1);\n",
       "}\n",
       "\n",
       "/* On hover */\n",
       "div.sk-estimator:hover .sk-estimator-doc-link:hover,\n",
       ".sk-estimator-doc-link:hover,\n",
       "div.sk-label-container:hover .sk-estimator-doc-link:hover,\n",
       ".sk-estimator-doc-link:hover {\n",
       "  /* unfitted */\n",
       "  background-color: var(--sklearn-color-unfitted-level-3);\n",
       "  color: var(--sklearn-color-background);\n",
       "  text-decoration: none;\n",
       "}\n",
       "\n",
       "div.sk-estimator.fitted:hover .sk-estimator-doc-link.fitted:hover,\n",
       ".sk-estimator-doc-link.fitted:hover,\n",
       "div.sk-label-container:hover .sk-estimator-doc-link.fitted:hover,\n",
       ".sk-estimator-doc-link.fitted:hover {\n",
       "  /* fitted */\n",
       "  background-color: var(--sklearn-color-fitted-level-3);\n",
       "  color: var(--sklearn-color-background);\n",
       "  text-decoration: none;\n",
       "}\n",
       "\n",
       "/* Span, style for the box shown on hovering the info icon */\n",
       ".sk-estimator-doc-link span {\n",
       "  display: none;\n",
       "  z-index: 9999;\n",
       "  position: relative;\n",
       "  font-weight: normal;\n",
       "  right: .2ex;\n",
       "  padding: .5ex;\n",
       "  margin: .5ex;\n",
       "  width: min-content;\n",
       "  min-width: 20ex;\n",
       "  max-width: 50ex;\n",
       "  color: var(--sklearn-color-text);\n",
       "  box-shadow: 2pt 2pt 4pt #999;\n",
       "  /* unfitted */\n",
       "  background: var(--sklearn-color-unfitted-level-0);\n",
       "  border: .5pt solid var(--sklearn-color-unfitted-level-3);\n",
       "}\n",
       "\n",
       ".sk-estimator-doc-link.fitted span {\n",
       "  /* fitted */\n",
       "  background: var(--sklearn-color-fitted-level-0);\n",
       "  border: var(--sklearn-color-fitted-level-3);\n",
       "}\n",
       "\n",
       ".sk-estimator-doc-link:hover span {\n",
       "  display: block;\n",
       "}\n",
       "\n",
       "/* \"?\"-specific style due to the `<a>` HTML tag */\n",
       "\n",
       "#sk-container-id-1 a.estimator_doc_link {\n",
       "  float: right;\n",
       "  font-size: 1rem;\n",
       "  line-height: 1em;\n",
       "  font-family: monospace;\n",
       "  background-color: var(--sklearn-color-background);\n",
       "  border-radius: 1rem;\n",
       "  height: 1rem;\n",
       "  width: 1rem;\n",
       "  text-decoration: none;\n",
       "  /* unfitted */\n",
       "  color: var(--sklearn-color-unfitted-level-1);\n",
       "  border: var(--sklearn-color-unfitted-level-1) 1pt solid;\n",
       "}\n",
       "\n",
       "#sk-container-id-1 a.estimator_doc_link.fitted {\n",
       "  /* fitted */\n",
       "  border: var(--sklearn-color-fitted-level-1) 1pt solid;\n",
       "  color: var(--sklearn-color-fitted-level-1);\n",
       "}\n",
       "\n",
       "/* On hover */\n",
       "#sk-container-id-1 a.estimator_doc_link:hover {\n",
       "  /* unfitted */\n",
       "  background-color: var(--sklearn-color-unfitted-level-3);\n",
       "  color: var(--sklearn-color-background);\n",
       "  text-decoration: none;\n",
       "}\n",
       "\n",
       "#sk-container-id-1 a.estimator_doc_link.fitted:hover {\n",
       "  /* fitted */\n",
       "  background-color: var(--sklearn-color-fitted-level-3);\n",
       "}\n",
       "</style><div id=\"sk-container-id-1\" class=\"sk-top-container\"><div class=\"sk-text-repr-fallback\"><pre>Pipeline(steps=[(&#x27;preprocessor&#x27;,\n",
       "                 ColumnTransformer(remainder=&#x27;passthrough&#x27;,\n",
       "                                   transformers=[(&#x27;num&#x27;, StandardScaler(),\n",
       "                                                  [&#x27;duration&#x27;, &#x27;days_left&#x27;])])),\n",
       "                (&#x27;lasso_cv&#x27;,\n",
       "                 LassoCV(alphas=[0.0001, 0.0003, 0.001, 0.003, 0.01, 0.03, 0.1,\n",
       "                                 0.3, 1.0, 3.0, 10.0, 30, 100, 300, 1000],\n",
       "                         cv=10, max_iter=10000))])</pre><b>In a Jupyter environment, please rerun this cell to show the HTML representation or trust the notebook. <br />On GitHub, the HTML representation is unable to render, please try loading this page with nbviewer.org.</b></div><div class=\"sk-container\" hidden><div class=\"sk-item sk-dashed-wrapped\"><div class=\"sk-label-container\"><div class=\"sk-label fitted sk-toggleable\"><input class=\"sk-toggleable__control sk-hidden--visually\" id=\"sk-estimator-id-1\" type=\"checkbox\" ><label for=\"sk-estimator-id-1\" class=\"sk-toggleable__label fitted sk-toggleable__label-arrow\"><div><div>Pipeline</div></div><div><a class=\"sk-estimator-doc-link fitted\" rel=\"noreferrer\" target=\"_blank\" href=\"https://scikit-learn.org/1.6/modules/generated/sklearn.pipeline.Pipeline.html\">?<span>Documentation for Pipeline</span></a><span class=\"sk-estimator-doc-link fitted\">i<span>Fitted</span></span></div></label><div class=\"sk-toggleable__content fitted\"><pre>Pipeline(steps=[(&#x27;preprocessor&#x27;,\n",
       "                 ColumnTransformer(remainder=&#x27;passthrough&#x27;,\n",
       "                                   transformers=[(&#x27;num&#x27;, StandardScaler(),\n",
       "                                                  [&#x27;duration&#x27;, &#x27;days_left&#x27;])])),\n",
       "                (&#x27;lasso_cv&#x27;,\n",
       "                 LassoCV(alphas=[0.0001, 0.0003, 0.001, 0.003, 0.01, 0.03, 0.1,\n",
       "                                 0.3, 1.0, 3.0, 10.0, 30, 100, 300, 1000],\n",
       "                         cv=10, max_iter=10000))])</pre></div> </div></div><div class=\"sk-serial\"><div class=\"sk-item sk-dashed-wrapped\"><div class=\"sk-label-container\"><div class=\"sk-label fitted sk-toggleable\"><input class=\"sk-toggleable__control sk-hidden--visually\" id=\"sk-estimator-id-2\" type=\"checkbox\" ><label for=\"sk-estimator-id-2\" class=\"sk-toggleable__label fitted sk-toggleable__label-arrow\"><div><div>preprocessor: ColumnTransformer</div></div><div><a class=\"sk-estimator-doc-link fitted\" rel=\"noreferrer\" target=\"_blank\" href=\"https://scikit-learn.org/1.6/modules/generated/sklearn.compose.ColumnTransformer.html\">?<span>Documentation for preprocessor: ColumnTransformer</span></a></div></label><div class=\"sk-toggleable__content fitted\"><pre>ColumnTransformer(remainder=&#x27;passthrough&#x27;,\n",
       "                  transformers=[(&#x27;num&#x27;, StandardScaler(),\n",
       "                                 [&#x27;duration&#x27;, &#x27;days_left&#x27;])])</pre></div> </div></div><div class=\"sk-parallel\"><div class=\"sk-parallel-item\"><div class=\"sk-item\"><div class=\"sk-label-container\"><div class=\"sk-label fitted sk-toggleable\"><input class=\"sk-toggleable__control sk-hidden--visually\" id=\"sk-estimator-id-3\" type=\"checkbox\" ><label for=\"sk-estimator-id-3\" class=\"sk-toggleable__label fitted sk-toggleable__label-arrow\"><div><div>num</div></div></label><div class=\"sk-toggleable__content fitted\"><pre>[&#x27;duration&#x27;, &#x27;days_left&#x27;]</pre></div> </div></div><div class=\"sk-serial\"><div class=\"sk-item\"><div class=\"sk-estimator fitted sk-toggleable\"><input class=\"sk-toggleable__control sk-hidden--visually\" id=\"sk-estimator-id-4\" type=\"checkbox\" ><label for=\"sk-estimator-id-4\" class=\"sk-toggleable__label fitted sk-toggleable__label-arrow\"><div><div>StandardScaler</div></div><div><a class=\"sk-estimator-doc-link fitted\" rel=\"noreferrer\" target=\"_blank\" href=\"https://scikit-learn.org/1.6/modules/generated/sklearn.preprocessing.StandardScaler.html\">?<span>Documentation for StandardScaler</span></a></div></label><div class=\"sk-toggleable__content fitted\"><pre>StandardScaler()</pre></div> </div></div></div></div></div><div class=\"sk-parallel-item\"><div class=\"sk-item\"><div class=\"sk-label-container\"><div class=\"sk-label fitted sk-toggleable\"><input class=\"sk-toggleable__control sk-hidden--visually\" id=\"sk-estimator-id-5\" type=\"checkbox\" ><label for=\"sk-estimator-id-5\" class=\"sk-toggleable__label fitted sk-toggleable__label-arrow\"><div><div>remainder</div></div></label><div class=\"sk-toggleable__content fitted\"><pre>[&#x27;const&#x27;, &#x27;airline_Air_India&#x27;, &#x27;airline_GO_FIRST&#x27;, &#x27;airline_Indigo&#x27;, &#x27;airline_SpiceJet&#x27;, &#x27;airline_Vistara&#x27;, &#x27;source_city_Chennai&#x27;, &#x27;source_city_Delhi&#x27;, &#x27;source_city_Hyderabad&#x27;, &#x27;source_city_Kolkata&#x27;, &#x27;source_city_Mumbai&#x27;, &#x27;departure_time_Early_Morning&#x27;, &#x27;departure_time_Evening&#x27;, &#x27;departure_time_Late_Night&#x27;, &#x27;departure_time_Morning&#x27;, &#x27;departure_time_Night&#x27;, &#x27;stops_two_or_more&#x27;, &#x27;stops_zero&#x27;, &#x27;arrival_time_Early_Morning&#x27;, &#x27;arrival_time_Evening&#x27;, &#x27;arrival_time_Late_Night&#x27;, &#x27;arrival_time_Morning&#x27;, &#x27;arrival_time_Night&#x27;, &#x27;destination_city_Chennai&#x27;, &#x27;destination_city_Delhi&#x27;, &#x27;destination_city_Hyderabad&#x27;, &#x27;destination_city_Kolkata&#x27;, &#x27;destination_city_Mumbai&#x27;, &#x27;class_Economy&#x27;]</pre></div> </div></div><div class=\"sk-serial\"><div class=\"sk-item\"><div class=\"sk-estimator fitted sk-toggleable\"><input class=\"sk-toggleable__control sk-hidden--visually\" id=\"sk-estimator-id-6\" type=\"checkbox\" ><label for=\"sk-estimator-id-6\" class=\"sk-toggleable__label fitted sk-toggleable__label-arrow\"><div><div>passthrough</div></div></label><div class=\"sk-toggleable__content fitted\"><pre>passthrough</pre></div> </div></div></div></div></div></div></div><div class=\"sk-item\"><div class=\"sk-estimator fitted sk-toggleable\"><input class=\"sk-toggleable__control sk-hidden--visually\" id=\"sk-estimator-id-7\" type=\"checkbox\" ><label for=\"sk-estimator-id-7\" class=\"sk-toggleable__label fitted sk-toggleable__label-arrow\"><div><div>LassoCV</div></div><div><a class=\"sk-estimator-doc-link fitted\" rel=\"noreferrer\" target=\"_blank\" href=\"https://scikit-learn.org/1.6/modules/generated/sklearn.linear_model.LassoCV.html\">?<span>Documentation for LassoCV</span></a></div></label><div class=\"sk-toggleable__content fitted\"><pre>LassoCV(alphas=[0.0001, 0.0003, 0.001, 0.003, 0.01, 0.03, 0.1, 0.3, 1.0, 3.0,\n",
       "                10.0, 30, 100, 300, 1000],\n",
       "        cv=10, max_iter=10000)</pre></div> </div></div></div></div></div></div>"
      ],
      "text/plain": [
       "Pipeline(steps=[('preprocessor',\n",
       "                 ColumnTransformer(remainder='passthrough',\n",
       "                                   transformers=[('num', StandardScaler(),\n",
       "                                                  ['duration', 'days_left'])])),\n",
       "                ('lasso_cv',\n",
       "                 LassoCV(alphas=[0.0001, 0.0003, 0.001, 0.003, 0.01, 0.03, 0.1,\n",
       "                                 0.3, 1.0, 3.0, 10.0, 30, 100, 300, 1000],\n",
       "                         cv=10, max_iter=10000))])"
      ]
     },
     "execution_count": 13,
     "metadata": {},
     "output_type": "execute_result"
    }
   ],
   "source": [
    "# 3. Define alpha (lambda) values to search\n",
    "alphas = [0.0001, 0.0003, 0.001, 0.003, 0.01, 0.03, 0.1, 0.3, 1.0, 3.0, 10.0, 30 ,100, 300, 1000]\n",
    "\n",
    "# 4. Create pipeline with LassoCV\n",
    "lassocv_pipeline = Pipeline([\n",
    "    ('preprocessor', preprocessor),\n",
    "    ('lasso_cv', LassoCV(alphas=alphas, cv=10, max_iter=10000))\n",
    "])\n",
    "\n",
    "# 6. Fit pipeline\n",
    "lassocv_pipeline.fit(X_train, y_train)"
   ]
  },
  {
   "cell_type": "code",
   "execution_count": 14,
   "id": "baa22feb",
   "metadata": {},
   "outputs": [
    {
     "name": "stdout",
     "output_type": "stream",
     "text": [
      "Best lambda (alpha) from CV: 0.001\n",
      "Metrics Train:\n",
      "R²: 0.911\n",
      "MSE: 45591331.05\n",
      "RMSE: 6752.14\n",
      "MAE: 4573.98\n",
      "\n",
      "Metrics Test:\n",
      "R²: 0.911\n",
      "MSE: 45720771.19\n",
      "RMSE: 6761.71\n",
      "MAE: 4553.29\n",
      "\n",
      "Selected Coefficients (non-zero): 30\n"
     ]
    },
    {
     "data": {
      "text/html": [
       "<div>\n",
       "<style scoped>\n",
       "    .dataframe tbody tr th:only-of-type {\n",
       "        vertical-align: middle;\n",
       "    }\n",
       "\n",
       "    .dataframe tbody tr th {\n",
       "        vertical-align: top;\n",
       "    }\n",
       "\n",
       "    .dataframe thead th {\n",
       "        text-align: right;\n",
       "    }\n",
       "</style>\n",
       "<table border=\"1\" class=\"dataframe\">\n",
       "  <thead>\n",
       "    <tr style=\"text-align: right;\">\n",
       "      <th></th>\n",
       "      <th>Selected Feature</th>\n",
       "      <th>Coefficient</th>\n",
       "    </tr>\n",
       "  </thead>\n",
       "  <tbody>\n",
       "    <tr>\n",
       "      <th>0</th>\n",
       "      <td>class_Economy</td>\n",
       "      <td>-44929.059741</td>\n",
       "    </tr>\n",
       "    <tr>\n",
       "      <th>1</th>\n",
       "      <td>stops_zero</td>\n",
       "      <td>-7613.315572</td>\n",
       "    </tr>\n",
       "    <tr>\n",
       "      <th>2</th>\n",
       "      <td>airline_Vistara</td>\n",
       "      <td>4068.801384</td>\n",
       "    </tr>\n",
       "    <tr>\n",
       "      <th>3</th>\n",
       "      <td>airline_SpiceJet</td>\n",
       "      <td>2303.840003</td>\n",
       "    </tr>\n",
       "    <tr>\n",
       "      <th>4</th>\n",
       "      <td>airline_Indigo</td>\n",
       "      <td>2124.210815</td>\n",
       "    </tr>\n",
       "    <tr>\n",
       "      <th>5</th>\n",
       "      <td>stops_two_or_more</td>\n",
       "      <td>2105.203233</td>\n",
       "    </tr>\n",
       "    <tr>\n",
       "      <th>6</th>\n",
       "      <td>duration</td>\n",
       "      <td>-1769.908240</td>\n",
       "    </tr>\n",
       "    <tr>\n",
       "      <th>7</th>\n",
       "      <td>destination_city_Hyderabad</td>\n",
       "      <td>-1712.043004</td>\n",
       "    </tr>\n",
       "    <tr>\n",
       "      <th>8</th>\n",
       "      <td>airline_GO_FIRST</td>\n",
       "      <td>1691.971492</td>\n",
       "    </tr>\n",
       "    <tr>\n",
       "      <th>9</th>\n",
       "      <td>source_city_Hyderabad</td>\n",
       "      <td>-1675.405911</td>\n",
       "    </tr>\n",
       "    <tr>\n",
       "      <th>10</th>\n",
       "      <td>source_city_Kolkata</td>\n",
       "      <td>1596.259485</td>\n",
       "    </tr>\n",
       "    <tr>\n",
       "      <th>11</th>\n",
       "      <td>destination_city_Delhi</td>\n",
       "      <td>-1563.202499</td>\n",
       "    </tr>\n",
       "    <tr>\n",
       "      <th>12</th>\n",
       "      <td>departure_time_Late_Night</td>\n",
       "      <td>1540.393245</td>\n",
       "    </tr>\n",
       "    <tr>\n",
       "      <th>13</th>\n",
       "      <td>source_city_Delhi</td>\n",
       "      <td>-1412.867107</td>\n",
       "    </tr>\n",
       "    <tr>\n",
       "      <th>14</th>\n",
       "      <td>destination_city_Kolkata</td>\n",
       "      <td>1358.147600</td>\n",
       "    </tr>\n",
       "    <tr>\n",
       "      <th>15</th>\n",
       "      <td>arrival_time_Night</td>\n",
       "      <td>1135.462611</td>\n",
       "    </tr>\n",
       "    <tr>\n",
       "      <th>16</th>\n",
       "      <td>arrival_time_Late_Night</td>\n",
       "      <td>967.050164</td>\n",
       "    </tr>\n",
       "    <tr>\n",
       "      <th>17</th>\n",
       "      <td>arrival_time_Evening</td>\n",
       "      <td>923.673455</td>\n",
       "    </tr>\n",
       "    <tr>\n",
       "      <th>18</th>\n",
       "      <td>departure_time_Morning</td>\n",
       "      <td>866.493760</td>\n",
       "    </tr>\n",
       "    <tr>\n",
       "      <th>19</th>\n",
       "      <td>departure_time_Early_Morning</td>\n",
       "      <td>810.124476</td>\n",
       "    </tr>\n",
       "    <tr>\n",
       "      <th>20</th>\n",
       "      <td>arrival_time_Early_Morning</td>\n",
       "      <td>-768.130590</td>\n",
       "    </tr>\n",
       "    <tr>\n",
       "      <th>21</th>\n",
       "      <td>departure_time_Evening</td>\n",
       "      <td>737.252343</td>\n",
       "    </tr>\n",
       "    <tr>\n",
       "      <th>22</th>\n",
       "      <td>departure_time_Night</td>\n",
       "      <td>662.966661</td>\n",
       "    </tr>\n",
       "    <tr>\n",
       "      <th>23</th>\n",
       "      <td>arrival_time_Morning</td>\n",
       "      <td>461.376093</td>\n",
       "    </tr>\n",
       "    <tr>\n",
       "      <th>24</th>\n",
       "      <td>const</td>\n",
       "      <td>308.826666</td>\n",
       "    </tr>\n",
       "    <tr>\n",
       "      <th>25</th>\n",
       "      <td>destination_city_Chennai</td>\n",
       "      <td>-239.480129</td>\n",
       "    </tr>\n",
       "    <tr>\n",
       "      <th>26</th>\n",
       "      <td>source_city_Mumbai</td>\n",
       "      <td>-208.110462</td>\n",
       "    </tr>\n",
       "    <tr>\n",
       "      <th>27</th>\n",
       "      <td>airline_Air_India</td>\n",
       "      <td>114.063758</td>\n",
       "    </tr>\n",
       "    <tr>\n",
       "      <th>28</th>\n",
       "      <td>source_city_Chennai</td>\n",
       "      <td>-75.309627</td>\n",
       "    </tr>\n",
       "    <tr>\n",
       "      <th>29</th>\n",
       "      <td>destination_city_Mumbai</td>\n",
       "      <td>-33.310443</td>\n",
       "    </tr>\n",
       "  </tbody>\n",
       "</table>\n",
       "</div>"
      ],
      "text/plain": [
       "                Selected Feature   Coefficient\n",
       "0                  class_Economy -44929.059741\n",
       "1                     stops_zero  -7613.315572\n",
       "2                airline_Vistara   4068.801384\n",
       "3               airline_SpiceJet   2303.840003\n",
       "4                 airline_Indigo   2124.210815\n",
       "5              stops_two_or_more   2105.203233\n",
       "6                       duration  -1769.908240\n",
       "7     destination_city_Hyderabad  -1712.043004\n",
       "8               airline_GO_FIRST   1691.971492\n",
       "9          source_city_Hyderabad  -1675.405911\n",
       "10           source_city_Kolkata   1596.259485\n",
       "11        destination_city_Delhi  -1563.202499\n",
       "12     departure_time_Late_Night   1540.393245\n",
       "13             source_city_Delhi  -1412.867107\n",
       "14      destination_city_Kolkata   1358.147600\n",
       "15            arrival_time_Night   1135.462611\n",
       "16       arrival_time_Late_Night    967.050164\n",
       "17          arrival_time_Evening    923.673455\n",
       "18        departure_time_Morning    866.493760\n",
       "19  departure_time_Early_Morning    810.124476\n",
       "20    arrival_time_Early_Morning   -768.130590\n",
       "21        departure_time_Evening    737.252343\n",
       "22          departure_time_Night    662.966661\n",
       "23          arrival_time_Morning    461.376093\n",
       "24                         const    308.826666\n",
       "25      destination_city_Chennai   -239.480129\n",
       "26            source_city_Mumbai   -208.110462\n",
       "27             airline_Air_India    114.063758\n",
       "28           source_city_Chennai    -75.309627\n",
       "29       destination_city_Mumbai    -33.310443"
      ]
     },
     "execution_count": 14,
     "metadata": {},
     "output_type": "execute_result"
    }
   ],
   "source": [
    "# 7. Best lambda\n",
    "best_alpha = lassocv_pipeline.named_steps['lasso_cv'].alpha_\n",
    "print(f\"Best lambda (alpha) from CV: {best_alpha}\")\n",
    "\n",
    "print(\"Metrics Train:\")\n",
    "y_pred = lassocv_pipeline.predict(X_train)\n",
    "evaluate_predictions(y_train, y_pred)\n",
    "\n",
    "print(\"\\nMetrics Test:\")\n",
    "y_pred = lassocv_pipeline.predict(X_test)\n",
    "evaluate_predictions(y_test, y_pred)\n",
    "\n",
    "# 6. Extract coefficients\n",
    "lasso = lassocv_pipeline.named_steps['lasso_cv']\n",
    "coef = pd.Series(lasso.coef_, index=X_encoded.columns)\n",
    "show_nonzero_coefficients(coef)"
   ]
  },
  {
   "cell_type": "code",
   "execution_count": 15,
   "id": "4c81f15b",
   "metadata": {},
   "outputs": [
    {
     "name": "stdout",
     "output_type": "stream",
     "text": [
      "Best alpha (min MSE): 0.001\n",
      "MSE_min: 45602697.61\n",
      "1_SE: 45602697.61\n",
      "MSE_min + 1-SE threshold: 46236502.63\n",
      "Alpha from 1-SE rule: 30.0\n"
     ]
    },
    {
     "data": {
      "application/vnd.plotly.v1+json": {
       "config": {
        "plotlyServerURL": "https://plot.ly"
       },
       "data": [
        {
         "error_y": {
          "array": {
           "bdata": "AeV12CLqJkFD7GdyrogjQU4SNEiF7CJBjUkX39zLIkHs9+KnruoiQQzVaQdxMiNBgBi4dhFJI0He7SzjUlMjQb7Cm/4vViNBZCag8C9XI0Fx+kYceVcjQaQ/k7iSVyNBgYsZCppXI0H9PcWZnFcjQbZoIFWdVyNB",
           "dtype": "f8"
          },
          "type": "data",
          "visible": true
         },
         "line": {
          "color": "royalblue"
         },
         "marker": {
          "size": 8
         },
         "mode": "lines+markers",
         "name": "Mean CV MSE",
         "type": "scatter",
         "x": {
          "bdata": "AAAAAABAj0AAAAAAAMByQAAAAAAAAFlAAAAAAAAAPkAAAAAAAAAkQAAAAAAAAAhAAAAAAAAA8D8zMzMzMzPTP5qZmZmZmbk/uB6F61G4nj97FK5H4XqEP/p+arx0k2g//Knx0k1iUD9hMlUwKqkzPy1DHOviNho/",
          "dtype": "f8"
         },
         "y": {
          "bdata": "Y2nUBG4yjUHAVkMx88aHQeARBFk3X4ZBtZmtn5DohUEhBdXYHMiFQU+kWoPSv4VBOeV0a96+hUG6Ix9VwL6FQda/Bb68voVBHok1Vry+hUF9b6pNvL6FQara5Ey8voVB5HbiTLy+hUHsTudMvL6FQX076Uy8voVB",
          "dtype": "f8"
         }
        },
        {
         "line": {
          "color": "red",
          "dash": "dash"
         },
         "mode": "lines",
         "name": "Best alpha = 0.0010",
         "type": "scatter",
         "x": [
          0.001,
          0.001
         ],
         "y": [
          43322562.73004941,
          64292055.03390247
         ]
        },
        {
         "line": {
          "color": "green",
          "dash": "dot"
         },
         "mode": "lines",
         "name": "1-SE alpha = 30.0000",
         "type": "scatter",
         "x": [
          30,
          30
         ],
         "y": [
          43322562.73004941,
          64292055.03390247
         ]
        }
       ],
       "layout": {
        "height": 500,
        "legend": {
         "x": 0.01,
         "y": 0.99
        },
        "template": {
         "data": {
          "bar": [
           {
            "error_x": {
             "color": "#2a3f5f"
            },
            "error_y": {
             "color": "#2a3f5f"
            },
            "marker": {
             "line": {
              "color": "white",
              "width": 0.5
             },
             "pattern": {
              "fillmode": "overlay",
              "size": 10,
              "solidity": 0.2
             }
            },
            "type": "bar"
           }
          ],
          "barpolar": [
           {
            "marker": {
             "line": {
              "color": "white",
              "width": 0.5
             },
             "pattern": {
              "fillmode": "overlay",
              "size": 10,
              "solidity": 0.2
             }
            },
            "type": "barpolar"
           }
          ],
          "carpet": [
           {
            "aaxis": {
             "endlinecolor": "#2a3f5f",
             "gridcolor": "#C8D4E3",
             "linecolor": "#C8D4E3",
             "minorgridcolor": "#C8D4E3",
             "startlinecolor": "#2a3f5f"
            },
            "baxis": {
             "endlinecolor": "#2a3f5f",
             "gridcolor": "#C8D4E3",
             "linecolor": "#C8D4E3",
             "minorgridcolor": "#C8D4E3",
             "startlinecolor": "#2a3f5f"
            },
            "type": "carpet"
           }
          ],
          "choropleth": [
           {
            "colorbar": {
             "outlinewidth": 0,
             "ticks": ""
            },
            "type": "choropleth"
           }
          ],
          "contour": [
           {
            "colorbar": {
             "outlinewidth": 0,
             "ticks": ""
            },
            "colorscale": [
             [
              0,
              "#0d0887"
             ],
             [
              0.1111111111111111,
              "#46039f"
             ],
             [
              0.2222222222222222,
              "#7201a8"
             ],
             [
              0.3333333333333333,
              "#9c179e"
             ],
             [
              0.4444444444444444,
              "#bd3786"
             ],
             [
              0.5555555555555556,
              "#d8576b"
             ],
             [
              0.6666666666666666,
              "#ed7953"
             ],
             [
              0.7777777777777778,
              "#fb9f3a"
             ],
             [
              0.8888888888888888,
              "#fdca26"
             ],
             [
              1,
              "#f0f921"
             ]
            ],
            "type": "contour"
           }
          ],
          "contourcarpet": [
           {
            "colorbar": {
             "outlinewidth": 0,
             "ticks": ""
            },
            "type": "contourcarpet"
           }
          ],
          "heatmap": [
           {
            "colorbar": {
             "outlinewidth": 0,
             "ticks": ""
            },
            "colorscale": [
             [
              0,
              "#0d0887"
             ],
             [
              0.1111111111111111,
              "#46039f"
             ],
             [
              0.2222222222222222,
              "#7201a8"
             ],
             [
              0.3333333333333333,
              "#9c179e"
             ],
             [
              0.4444444444444444,
              "#bd3786"
             ],
             [
              0.5555555555555556,
              "#d8576b"
             ],
             [
              0.6666666666666666,
              "#ed7953"
             ],
             [
              0.7777777777777778,
              "#fb9f3a"
             ],
             [
              0.8888888888888888,
              "#fdca26"
             ],
             [
              1,
              "#f0f921"
             ]
            ],
            "type": "heatmap"
           }
          ],
          "histogram": [
           {
            "marker": {
             "pattern": {
              "fillmode": "overlay",
              "size": 10,
              "solidity": 0.2
             }
            },
            "type": "histogram"
           }
          ],
          "histogram2d": [
           {
            "colorbar": {
             "outlinewidth": 0,
             "ticks": ""
            },
            "colorscale": [
             [
              0,
              "#0d0887"
             ],
             [
              0.1111111111111111,
              "#46039f"
             ],
             [
              0.2222222222222222,
              "#7201a8"
             ],
             [
              0.3333333333333333,
              "#9c179e"
             ],
             [
              0.4444444444444444,
              "#bd3786"
             ],
             [
              0.5555555555555556,
              "#d8576b"
             ],
             [
              0.6666666666666666,
              "#ed7953"
             ],
             [
              0.7777777777777778,
              "#fb9f3a"
             ],
             [
              0.8888888888888888,
              "#fdca26"
             ],
             [
              1,
              "#f0f921"
             ]
            ],
            "type": "histogram2d"
           }
          ],
          "histogram2dcontour": [
           {
            "colorbar": {
             "outlinewidth": 0,
             "ticks": ""
            },
            "colorscale": [
             [
              0,
              "#0d0887"
             ],
             [
              0.1111111111111111,
              "#46039f"
             ],
             [
              0.2222222222222222,
              "#7201a8"
             ],
             [
              0.3333333333333333,
              "#9c179e"
             ],
             [
              0.4444444444444444,
              "#bd3786"
             ],
             [
              0.5555555555555556,
              "#d8576b"
             ],
             [
              0.6666666666666666,
              "#ed7953"
             ],
             [
              0.7777777777777778,
              "#fb9f3a"
             ],
             [
              0.8888888888888888,
              "#fdca26"
             ],
             [
              1,
              "#f0f921"
             ]
            ],
            "type": "histogram2dcontour"
           }
          ],
          "mesh3d": [
           {
            "colorbar": {
             "outlinewidth": 0,
             "ticks": ""
            },
            "type": "mesh3d"
           }
          ],
          "parcoords": [
           {
            "line": {
             "colorbar": {
              "outlinewidth": 0,
              "ticks": ""
             }
            },
            "type": "parcoords"
           }
          ],
          "pie": [
           {
            "automargin": true,
            "type": "pie"
           }
          ],
          "scatter": [
           {
            "fillpattern": {
             "fillmode": "overlay",
             "size": 10,
             "solidity": 0.2
            },
            "type": "scatter"
           }
          ],
          "scatter3d": [
           {
            "line": {
             "colorbar": {
              "outlinewidth": 0,
              "ticks": ""
             }
            },
            "marker": {
             "colorbar": {
              "outlinewidth": 0,
              "ticks": ""
             }
            },
            "type": "scatter3d"
           }
          ],
          "scattercarpet": [
           {
            "marker": {
             "colorbar": {
              "outlinewidth": 0,
              "ticks": ""
             }
            },
            "type": "scattercarpet"
           }
          ],
          "scattergeo": [
           {
            "marker": {
             "colorbar": {
              "outlinewidth": 0,
              "ticks": ""
             }
            },
            "type": "scattergeo"
           }
          ],
          "scattergl": [
           {
            "marker": {
             "colorbar": {
              "outlinewidth": 0,
              "ticks": ""
             }
            },
            "type": "scattergl"
           }
          ],
          "scattermap": [
           {
            "marker": {
             "colorbar": {
              "outlinewidth": 0,
              "ticks": ""
             }
            },
            "type": "scattermap"
           }
          ],
          "scattermapbox": [
           {
            "marker": {
             "colorbar": {
              "outlinewidth": 0,
              "ticks": ""
             }
            },
            "type": "scattermapbox"
           }
          ],
          "scatterpolar": [
           {
            "marker": {
             "colorbar": {
              "outlinewidth": 0,
              "ticks": ""
             }
            },
            "type": "scatterpolar"
           }
          ],
          "scatterpolargl": [
           {
            "marker": {
             "colorbar": {
              "outlinewidth": 0,
              "ticks": ""
             }
            },
            "type": "scatterpolargl"
           }
          ],
          "scatterternary": [
           {
            "marker": {
             "colorbar": {
              "outlinewidth": 0,
              "ticks": ""
             }
            },
            "type": "scatterternary"
           }
          ],
          "surface": [
           {
            "colorbar": {
             "outlinewidth": 0,
             "ticks": ""
            },
            "colorscale": [
             [
              0,
              "#0d0887"
             ],
             [
              0.1111111111111111,
              "#46039f"
             ],
             [
              0.2222222222222222,
              "#7201a8"
             ],
             [
              0.3333333333333333,
              "#9c179e"
             ],
             [
              0.4444444444444444,
              "#bd3786"
             ],
             [
              0.5555555555555556,
              "#d8576b"
             ],
             [
              0.6666666666666666,
              "#ed7953"
             ],
             [
              0.7777777777777778,
              "#fb9f3a"
             ],
             [
              0.8888888888888888,
              "#fdca26"
             ],
             [
              1,
              "#f0f921"
             ]
            ],
            "type": "surface"
           }
          ],
          "table": [
           {
            "cells": {
             "fill": {
              "color": "#EBF0F8"
             },
             "line": {
              "color": "white"
             }
            },
            "header": {
             "fill": {
              "color": "#C8D4E3"
             },
             "line": {
              "color": "white"
             }
            },
            "type": "table"
           }
          ]
         },
         "layout": {
          "annotationdefaults": {
           "arrowcolor": "#2a3f5f",
           "arrowhead": 0,
           "arrowwidth": 1
          },
          "autotypenumbers": "strict",
          "coloraxis": {
           "colorbar": {
            "outlinewidth": 0,
            "ticks": ""
           }
          },
          "colorscale": {
           "diverging": [
            [
             0,
             "#8e0152"
            ],
            [
             0.1,
             "#c51b7d"
            ],
            [
             0.2,
             "#de77ae"
            ],
            [
             0.3,
             "#f1b6da"
            ],
            [
             0.4,
             "#fde0ef"
            ],
            [
             0.5,
             "#f7f7f7"
            ],
            [
             0.6,
             "#e6f5d0"
            ],
            [
             0.7,
             "#b8e186"
            ],
            [
             0.8,
             "#7fbc41"
            ],
            [
             0.9,
             "#4d9221"
            ],
            [
             1,
             "#276419"
            ]
           ],
           "sequential": [
            [
             0,
             "#0d0887"
            ],
            [
             0.1111111111111111,
             "#46039f"
            ],
            [
             0.2222222222222222,
             "#7201a8"
            ],
            [
             0.3333333333333333,
             "#9c179e"
            ],
            [
             0.4444444444444444,
             "#bd3786"
            ],
            [
             0.5555555555555556,
             "#d8576b"
            ],
            [
             0.6666666666666666,
             "#ed7953"
            ],
            [
             0.7777777777777778,
             "#fb9f3a"
            ],
            [
             0.8888888888888888,
             "#fdca26"
            ],
            [
             1,
             "#f0f921"
            ]
           ],
           "sequentialminus": [
            [
             0,
             "#0d0887"
            ],
            [
             0.1111111111111111,
             "#46039f"
            ],
            [
             0.2222222222222222,
             "#7201a8"
            ],
            [
             0.3333333333333333,
             "#9c179e"
            ],
            [
             0.4444444444444444,
             "#bd3786"
            ],
            [
             0.5555555555555556,
             "#d8576b"
            ],
            [
             0.6666666666666666,
             "#ed7953"
            ],
            [
             0.7777777777777778,
             "#fb9f3a"
            ],
            [
             0.8888888888888888,
             "#fdca26"
            ],
            [
             1,
             "#f0f921"
            ]
           ]
          },
          "colorway": [
           "#636efa",
           "#EF553B",
           "#00cc96",
           "#ab63fa",
           "#FFA15A",
           "#19d3f3",
           "#FF6692",
           "#B6E880",
           "#FF97FF",
           "#FECB52"
          ],
          "font": {
           "color": "#2a3f5f"
          },
          "geo": {
           "bgcolor": "white",
           "lakecolor": "white",
           "landcolor": "white",
           "showlakes": true,
           "showland": true,
           "subunitcolor": "#C8D4E3"
          },
          "hoverlabel": {
           "align": "left"
          },
          "hovermode": "closest",
          "mapbox": {
           "style": "light"
          },
          "paper_bgcolor": "white",
          "plot_bgcolor": "white",
          "polar": {
           "angularaxis": {
            "gridcolor": "#EBF0F8",
            "linecolor": "#EBF0F8",
            "ticks": ""
           },
           "bgcolor": "white",
           "radialaxis": {
            "gridcolor": "#EBF0F8",
            "linecolor": "#EBF0F8",
            "ticks": ""
           }
          },
          "scene": {
           "xaxis": {
            "backgroundcolor": "white",
            "gridcolor": "#DFE8F3",
            "gridwidth": 2,
            "linecolor": "#EBF0F8",
            "showbackground": true,
            "ticks": "",
            "zerolinecolor": "#EBF0F8"
           },
           "yaxis": {
            "backgroundcolor": "white",
            "gridcolor": "#DFE8F3",
            "gridwidth": 2,
            "linecolor": "#EBF0F8",
            "showbackground": true,
            "ticks": "",
            "zerolinecolor": "#EBF0F8"
           },
           "zaxis": {
            "backgroundcolor": "white",
            "gridcolor": "#DFE8F3",
            "gridwidth": 2,
            "linecolor": "#EBF0F8",
            "showbackground": true,
            "ticks": "",
            "zerolinecolor": "#EBF0F8"
           }
          },
          "shapedefaults": {
           "line": {
            "color": "#2a3f5f"
           }
          },
          "ternary": {
           "aaxis": {
            "gridcolor": "#DFE8F3",
            "linecolor": "#A2B1C6",
            "ticks": ""
           },
           "baxis": {
            "gridcolor": "#DFE8F3",
            "linecolor": "#A2B1C6",
            "ticks": ""
           },
           "bgcolor": "white",
           "caxis": {
            "gridcolor": "#DFE8F3",
            "linecolor": "#A2B1C6",
            "ticks": ""
           }
          },
          "title": {
           "x": 0.05
          },
          "xaxis": {
           "automargin": true,
           "gridcolor": "#EBF0F8",
           "linecolor": "#EBF0F8",
           "ticks": "",
           "title": {
            "standoff": 15
           },
           "zerolinecolor": "#EBF0F8",
           "zerolinewidth": 2
          },
          "yaxis": {
           "automargin": true,
           "gridcolor": "#EBF0F8",
           "linecolor": "#EBF0F8",
           "ticks": "",
           "title": {
            "standoff": 15
           },
           "zerolinecolor": "#EBF0F8",
           "zerolinewidth": 2
          }
         }
        },
        "title": {
         "text": "LassoCV: Mean Cross-Validation Error vs Alpha"
        },
        "width": 800,
        "xaxis": {
         "title": {
          "text": "Alpha (log scale)"
         },
         "type": "log"
        },
        "yaxis": {
         "title": {
          "text": "Mean CV MSE"
         }
        }
       }
      }
     },
     "metadata": {},
     "output_type": "display_data"
    }
   ],
   "source": [
    "import plotly.graph_objects as go\n",
    "\n",
    "# Extract model and aligned data\n",
    "lasso_cv = lassocv_pipeline.named_steps['lasso_cv']\n",
    "alphas_used = lasso_cv.alphas_  # Correct order (descending)\n",
    "mean_mse = lasso_cv.mse_path_.mean(axis=1)\n",
    "std_mse = lasso_cv.mse_path_.std(axis=1)\n",
    "best_alpha = lasso_cv.alpha_\n",
    "\n",
    "# Step 2: Find minimum mean MSE and threshold\n",
    "min_index = np.argmin(mean_mse)\n",
    "mse_min = mean_mse[min_index]\n",
    "mse_threshold = mse_min + std_mse[min_index]\n",
    "\n",
    "# Find largest alpha within 1-SE threshold (first from the top that satisfies condition)\n",
    "alpha_1se = alphas_used[mean_mse <= mse_threshold][0]\n",
    "\n",
    "print(f\"Best alpha (min MSE): {best_alpha}\")\n",
    "print(f\"MSE_min: {mse_min:.2f}\")\n",
    "print(f\"1_SE: {mse_min:.2f}\")\n",
    "print(f\"MSE_min + 1-SE threshold: {mse_threshold:.2f}\")\n",
    "print(f\"Alpha from 1-SE rule: {alpha_1se}\")\n",
    "\n",
    "# Plot\n",
    "fig = go.Figure()\n",
    "\n",
    "# Mean MSE with error bars\n",
    "fig.add_trace(go.Scatter(\n",
    "    x=alphas_used,\n",
    "    y=mean_mse,\n",
    "    error_y=dict(\n",
    "        type='data',\n",
    "        array=std_mse,\n",
    "        visible=True\n",
    "    ),\n",
    "    mode='lines+markers',\n",
    "    name='Mean CV MSE',\n",
    "    line=dict(color='royalblue'),\n",
    "    marker=dict(size=8)\n",
    "))\n",
    "\n",
    "# Vertical line for best alpha\n",
    "fig.add_trace(go.Scatter(\n",
    "    x=[best_alpha, best_alpha],\n",
    "    y=[min(mean_mse) * 0.95, max(mean_mse) * 1.05],\n",
    "    mode='lines',\n",
    "    name=f'Best alpha = {best_alpha:.4f}',\n",
    "    line=dict(color='red', dash='dash')\n",
    "))\n",
    "\n",
    "# Layout\n",
    "fig.update_layout(\n",
    "    title='LassoCV: Mean Cross-Validation Error vs Alpha',\n",
    "    xaxis=dict(title='Alpha (log scale)', type='log'),\n",
    "    yaxis=dict(title='Mean CV MSE'),\n",
    "    legend=dict(x=0.01, y=0.99),\n",
    "    template='plotly_white',\n",
    "    width=800,\n",
    "    height=500\n",
    ")\n",
    "\n",
    "# Add vertical line for 1-SE rule alpha\n",
    "fig.add_trace(go.Scatter(\n",
    "    x=[alpha_1se, alpha_1se],\n",
    "    y=[min(mean_mse) * 0.95, max(mean_mse) * 1.05],\n",
    "    mode='lines',\n",
    "    name=f'1-SE alpha = {alpha_1se:.4f}',\n",
    "    line=dict(color='green', dash='dot')\n",
    "))\n",
    "\n",
    "fig.show()"
   ]
  },
  {
   "cell_type": "code",
   "execution_count": 16,
   "id": "d9a83883",
   "metadata": {},
   "outputs": [
    {
     "data": {
      "application/vnd.plotly.v1+json": {
       "config": {
        "plotlyServerURL": "https://plot.ly"
       },
       "data": [
        {
         "mode": "lines",
         "name": "const",
         "type": "scatter",
         "x": {
          "bdata": "U2Z8oiRm1EDNDIVrNeTSQAHTEs/LftFA3s4GMMwz0EC+sbqkhQLOQCQaYtHBystA/1gAs/O8yUAR5ipwAdbHQCbUhtoLE8ZAvOvSGGpxxEC4bfmipe7CQFaNGYp2iMFA517rBsA8wECzZ5aSGhO+QLhvNwgd2rtAeH0SYizLuUBZHBoQLeO3QAgju00+H7ZAa4CBybV8tEDHBPKeG/myQPnahZwmkrFA4FYn0LhFsEDMYPSpuCOuQLiuN7uA6atAfa/H7GzZqUCipAH3X/CnQFa0OX53K6ZARRb5tweIpEDpqJ5ilwOjQNZHSwncm6FAPmx2jrZOoEAVnOTvXzSeQNoOE+/s+JtAgnN3V7XnmUBD3uYomv2XQGrUu2+3N5ZA7IWs51+TlEDw8zDxGA6TQE8BX9OWpZFAG9eVRLlXkECv5HlpEEWOQOxefKhhCIxAJ7R7pgX2iUBFYdGp2wqIQFve/CX+Q4ZAvo8QXL6ehEBuQ9xNoBiDQBrXt/1Wr4FADlNE9cBggEBS08kbylV+QGwGKezeF3xAecMw3l0EekDH/8p9JBh4QBY9uqRLUHZAC92bGCOqdECludV7LSNzQD88ToscuXFA+R9Co81pcEDZz+wLjWZuQOMG0b5kJ2xAVFz1Ar4SakAix9+odCVoQIhss++fXGZADAHHII61ZECSPlR+wC1jQPdHHH/nwmFAzwJRUd9yYEAUE/4+WXdeQDv9LiXzNlxAzaMqGSYhWkASAR4vzDJYQNb6qQr7aFZA5HkMeP/AVEDpgJBYWThTQIO2Hdy3zFFAj0Y0AvZ7UEDppxu6LohOQGojACSKRkxAbyo0JZYvSkAgNZYUK0BIQHCJYflcdUZA1bHoIXfMREAN98QN+EJDQDXqT6WN1kFA9bywuBGFQEAkbWaCDZk+QKFRBMApVjxAhO13Kw4+OkCrKVtdkU04QCbOn7/FgTZAIwDaIfXXNED53y2hnE0zQDXssd1o4DFAc7+MdzKOMEAMFwKd9akuQPj//f3RZSxAlFheMI5MKkBc5YEN/1ooQH2ULGE1jiZAUapge3njJEA=",
          "dtype": "f8"
         },
         "y": {
          "bdata": "AAAAAAAAAABcmHVv8x6YQI6aTJvGOqdA013WyWHJsEDNNXxAh5O1QAJlLecOA7pATOfwI6sevkCU5s3UR/bAQH/4cWo9ucJA6eAlLN9axEDtXv+ho93FQE8/37rSQ8dAvm0NPomPyEDLmK37u8LJQMgU3cA638pA1HGI9RkJy0D3DMg3IAnLQHmtQTT1mstAcVZk2+lh0EAcATkrfsfSQKFPRVwWANVAhYIAkUMO10CKeQzyePXYQGyIfu0mudpArcyqg+ta3EBd1S90P97dQIUwjYRYQt9AMlbgEVtG4EBA9vslAN/gQNPzpaKxbOFAUju5K+vv4UA3JxcnGmniQGLm6GCO2eJA1A3ZAZ9B40BDLLeE/qHjQGhRWrc+++NAz57fophN5EALeckHKZrkQCETqxUS4eRAOKGIlb0i5UA2zOunjl/lQLie1DKcl+VAmJlzyMjL5UDaZ7+jG/zlQPABZUbcKOZAtHpBJgxS5kAuPJBjBX/mQIL1UNo1rOZAOtGJsC3W5kC9aPktDP3mQOew7U4LIedAvzCAdCRC50BGK7ylBmHnQIXNbDWifedAD92IlCCY50AvVMpvb7DnQIH3tWRrwudAyjRRmrrQ50COfMApCd7nQJJXs99c6udAi1z8sJD150CBUqTHIgDoQPTBcJ6FCOhAwBrwRdkP6EDFrDVQLBToQDIOec0cGOhAsPszVSUc6EAmFGBFlSPoQL5booB2L+hApe02jThA6EDQQvhJslLoQCYNzv3FY+hA89nCQzdz6ECbeGNaxoHoQKyit2Ujj+hAyrWvd6qb6ECGxAzOH6foQCWEJ7XgsehABnGhrim86EDM7pmLksboQE3qr4ajz+hAmy5fWR/Y6EAXQpz+7N/oQD1spZwH5uhAeLujEi/q6ECDQ5USNu/oQFuzI0Od8uhAtThHRhfs6EBZ3q4lVeboQO+wxGiV3+hA0OzNY2jY6EBLxQbAt83oQEWXgAYswuhAgDb6WLS36EDnv7ql5q3oQNmCVAzNpOhABiLHS4Wc6EBhDbJOwJToQGOSC6w3juhAPhfJfN+N6EA=",
          "dtype": "f8"
         }
        },
        {
         "mode": "lines",
         "name": "duration",
         "type": "scatter",
         "x": {
          "bdata": "U2Z8oiRm1EDNDIVrNeTSQAHTEs/LftFA3s4GMMwz0EC+sbqkhQLOQCQaYtHBystA/1gAs/O8yUAR5ipwAdbHQCbUhtoLE8ZAvOvSGGpxxEC4bfmipe7CQFaNGYp2iMFA517rBsA8wECzZ5aSGhO+QLhvNwgd2rtAeH0SYizLuUBZHBoQLeO3QAgju00+H7ZAa4CBybV8tEDHBPKeG/myQPnahZwmkrFA4FYn0LhFsEDMYPSpuCOuQLiuN7uA6atAfa/H7GzZqUCipAH3X/CnQFa0OX53K6ZARRb5tweIpEDpqJ5ilwOjQNZHSwncm6FAPmx2jrZOoEAVnOTvXzSeQNoOE+/s+JtAgnN3V7XnmUBD3uYomv2XQGrUu2+3N5ZA7IWs51+TlEDw8zDxGA6TQE8BX9OWpZFAG9eVRLlXkECv5HlpEEWOQOxefKhhCIxAJ7R7pgX2iUBFYdGp2wqIQFve/CX+Q4ZAvo8QXL6ehEBuQ9xNoBiDQBrXt/1Wr4FADlNE9cBggEBS08kbylV+QGwGKezeF3xAecMw3l0EekDH/8p9JBh4QBY9uqRLUHZAC92bGCOqdECludV7LSNzQD88ToscuXFA+R9Co81pcEDZz+wLjWZuQOMG0b5kJ2xAVFz1Ar4SakAix9+odCVoQIhss++fXGZADAHHII61ZECSPlR+wC1jQPdHHH/nwmFAzwJRUd9yYEAUE/4+WXdeQDv9LiXzNlxAzaMqGSYhWkASAR4vzDJYQNb6qQr7aFZA5HkMeP/AVEDpgJBYWThTQIO2Hdy3zFFAj0Y0AvZ7UEDppxu6LohOQGojACSKRkxAbyo0JZYvSkAgNZYUK0BIQHCJYflcdUZA1bHoIXfMREAN98QN+EJDQDXqT6WN1kFA9bywuBGFQEAkbWaCDZk+QKFRBMApVjxAhO13Kw4+OkCrKVtdkU04QCbOn7/FgTZAIwDaIfXXNED53y2hnE0zQDXssd1o4DFAc7+MdzKOMEAMFwKd9akuQPj//f3RZSxAlFheMI5MKkBc5YEN/1ooQH2ULGE1jiZAUapge3njJEA=",
          "dtype": "f8"
         },
         "y": {
          "bdata": "AAAAAAAAAAAAAAAAAAAAAAAAAAAAAAAAAAAAAAAAAAAAAAAAAAAAAAAAAAAAAAAAAAAAAAAAAAAAAAAAAAAAAAAAAAAAAAAAAAAAAAAAAAAAAAAAAAAAAAAAAAAAAAAAAAAAAAAAAAAAAAAAAAAAAAAAAAAAAAAAAAAAAAAAAAAAAAAAAAAAAAAAAAAAAAAAAAAAAAAAAAAAAAAAAAAAAAAAAAAAAAAAAAAAAAAAAAAAAAAAAAAAAAAAAAAAAAAAAAAAAAAAAADI5aM+JrQQQOiaEYqd0V1ALVy41uk4bEB1cNedMkh0QB3SPlqS/XlAHkAlFe5Gf0AU8l2A+haCQMM1NVDlQ4RAZfKhB9E2hkDzULE23gSIQEYQw7jFsIlAuuf7l8s9i0DgPV8Kv6yMQGvLbhyRAI5ASD8k+UU7j0AIIghoXC+QQLicJRSltpBASKHqu5szkUAKOKR+VKeRQNF9X9l/EpJAyNFlaRB2kkCLfXpF/9WRQI+FSpPJtZBAbvMOCElVj0Ad7jqseGaNQK7ST8g5nItABaX7Fcr0iUADBNTFumuIQBP3f0ax/4ZAsvca6o6uhUCRkg24PXeEQNhcQSixLYNASFIy9mPqgUD//QTVx76AQEopMI2ZUn9ACcjX4TVSfUB9xbAQQnZ7QCQkyiE31XlACYDjeq1beECcZY2zHRF3QEefHv8b5XVAJuPJtR3JdEB4Gj8EoLdzQEFPyUa0u3JA/kMIB3IyckAEJX4ynI9yQOOAvOkO8nJAd4mQoi9bc0Ba2DOjpqdzQD+RPS2R5nNAVIS4vzshdEBpxNQpKVd0QHvklZSAiXRA0qD8TYy5dEDi+AJIAvN0QIhy8lbjMnVAi1GX4g5udUABtdZTAqV1QJDweK091HVA8Tfl2cPudUAly6ET5xF2QLCSVrgdEHZAh3F9ALEBdkB4EXw3LO91QCH3OJQW1XVAdUhOHSvAdUAdFf7yB6d1QEOhPVHce3VAWngazUtUdUDPlvY+dC91QCHEOmJLDXVA2opeEu3tdEConTN7ddB0QMw0qmqhsnRARkpmd3CgdEA=",
          "dtype": "f8"
         }
        },
        {
         "mode": "lines",
         "name": "days_left",
         "type": "scatter",
         "x": {
          "bdata": "U2Z8oiRm1EDNDIVrNeTSQAHTEs/LftFA3s4GMMwz0EC+sbqkhQLOQCQaYtHBystA/1gAs/O8yUAR5ipwAdbHQCbUhtoLE8ZAvOvSGGpxxEC4bfmipe7CQFaNGYp2iMFA517rBsA8wECzZ5aSGhO+QLhvNwgd2rtAeH0SYizLuUBZHBoQLeO3QAgju00+H7ZAa4CBybV8tEDHBPKeG/myQPnahZwmkrFA4FYn0LhFsEDMYPSpuCOuQLiuN7uA6atAfa/H7GzZqUCipAH3X/CnQFa0OX53K6ZARRb5tweIpEDpqJ5ilwOjQNZHSwncm6FAPmx2jrZOoEAVnOTvXzSeQNoOE+/s+JtAgnN3V7XnmUBD3uYomv2XQGrUu2+3N5ZA7IWs51+TlEDw8zDxGA6TQE8BX9OWpZFAG9eVRLlXkECv5HlpEEWOQOxefKhhCIxAJ7R7pgX2iUBFYdGp2wqIQFve/CX+Q4ZAvo8QXL6ehEBuQ9xNoBiDQBrXt/1Wr4FADlNE9cBggEBS08kbylV+QGwGKezeF3xAecMw3l0EekDH/8p9JBh4QBY9uqRLUHZAC92bGCOqdECludV7LSNzQD88ToscuXFA+R9Co81pcEDZz+wLjWZuQOMG0b5kJ2xAVFz1Ar4SakAix9+odCVoQIhss++fXGZADAHHII61ZECSPlR+wC1jQPdHHH/nwmFAzwJRUd9yYEAUE/4+WXdeQDv9LiXzNlxAzaMqGSYhWkASAR4vzDJYQNb6qQr7aFZA5HkMeP/AVEDpgJBYWThTQIO2Hdy3zFFAj0Y0AvZ7UEDppxu6LohOQGojACSKRkxAbyo0JZYvSkAgNZYUK0BIQHCJYflcdUZA1bHoIXfMREAN98QN+EJDQDXqT6WN1kFA9bywuBGFQEAkbWaCDZk+QKFRBMApVjxAhO13Kw4+OkCrKVtdkU04QCbOn7/FgTZAIwDaIfXXNED53y2hnE0zQDXssd1o4DFAc7+MdzKOMEAMFwKd9akuQPj//f3RZSxAlFheMI5MKkBc5YEN/1ooQH2ULGE1jiZAUapge3njJEA=",
          "dtype": "f8"
         },
         "y": {
          "bdata": "AAAAAAAAAIAAAAAAAAAAgAAAAAAAAACAAAAAAAAAAIAAAAAAAAAAgAAAAAAAAACAAAAAAAAAAIAAAAAAAAAAgAAAAAAAAACAAAAAAAAAAIAAAAAAAAAAgAAAAAAAAACAAAAAAAAAAIAAAAAAAAAAgAAAAAAAAACAAAAAAAAAAIAAAAAAAAAAgAAAAAAAAACAAAAAAAAAAIAAAAAAAAAAgAAAAAAAAACAAAAAAAAAAIAAAAAAAAAAgAAAAAAAAACAAAAAAAAAAIAAAAAAAAAAgAAAAAAAAACAAAAAAAAAAIAAAAAAAAAAgAAAAAAAAACAAAAAAAAAAIAAAAAAAAAAgDDaiJu6wlLAnCLTTh3SaMCWa/4uX49zwCrFr3hrLnrAbTV/LysogMDzo40zDP+CwFuBaOk0oIXAN60k7p0PiMBnfgd59FCKwHK1gAawZ4zADwSGTtdWjsBfnH0psxCQwMBe1d0I5ZDAoPZL8LSpkcB96d7Yf2mSwGCawByEIJPAE1a5Uf/Jk8D7U8AB9GaUwO30lTNP+JTAoekOavF+lcAe/uaKm/uVwEUp8fcOb5bAlit1JPrZlsAQtWVTAz2XwEmfN/zZmJfACfX/HNbtl8Aouq1HiTyYwBWH121rhZjAc+jbCO/ImMBcU9lRcQeZwDK1UizfQJnAcMtUndh1mcAsoV/0Z6WZwMgRojlC0ZnAdw6t8tj5mcD1D3oyMB+awMA8d2lPQZrAvWnFv3tgmsAZlLVlfH2awGt8aog/mJrAkfe0XOawmsComFVNXcaawItj5iC+2ZrAjTsx37PrmsCQcwt6UvyawLN6Ufi5C5vAVP5BAsIZm8B/8JxeDiabwC7A4ENyMZvA5wf+NwA8m8B1T8qExkWbwIrMuJSSTpvAy0zLK25Wm8BRaWre512bwMIxip0/ZJvA73FpYMNnm8Bt6jxVc2ubwGCLPY3GbpvAsMp2cidym8D5XLln0XWbwDzSMGI/eZvAthUgeW98m8A9O3BCYn+bwBq/3A8dgpvAAzNgkqWEm8DZsgY8/oabwMiI380uiZvAZ+rxUpGLm8A=",
          "dtype": "f8"
         }
        },
        {
         "mode": "lines",
         "name": "airline_Air_India",
         "type": "scatter",
         "x": {
          "bdata": "U2Z8oiRm1EDNDIVrNeTSQAHTEs/LftFA3s4GMMwz0EC+sbqkhQLOQCQaYtHBystA/1gAs/O8yUAR5ipwAdbHQCbUhtoLE8ZAvOvSGGpxxEC4bfmipe7CQFaNGYp2iMFA517rBsA8wECzZ5aSGhO+QLhvNwgd2rtAeH0SYizLuUBZHBoQLeO3QAgju00+H7ZAa4CBybV8tEDHBPKeG/myQPnahZwmkrFA4FYn0LhFsEDMYPSpuCOuQLiuN7uA6atAfa/H7GzZqUCipAH3X/CnQFa0OX53K6ZARRb5tweIpEDpqJ5ilwOjQNZHSwncm6FAPmx2jrZOoEAVnOTvXzSeQNoOE+/s+JtAgnN3V7XnmUBD3uYomv2XQGrUu2+3N5ZA7IWs51+TlEDw8zDxGA6TQE8BX9OWpZFAG9eVRLlXkECv5HlpEEWOQOxefKhhCIxAJ7R7pgX2iUBFYdGp2wqIQFve/CX+Q4ZAvo8QXL6ehEBuQ9xNoBiDQBrXt/1Wr4FADlNE9cBggEBS08kbylV+QGwGKezeF3xAecMw3l0EekDH/8p9JBh4QBY9uqRLUHZAC92bGCOqdECludV7LSNzQD88ToscuXFA+R9Co81pcEDZz+wLjWZuQOMG0b5kJ2xAVFz1Ar4SakAix9+odCVoQIhss++fXGZADAHHII61ZECSPlR+wC1jQPdHHH/nwmFAzwJRUd9yYEAUE/4+WXdeQDv9LiXzNlxAzaMqGSYhWkASAR4vzDJYQNb6qQr7aFZA5HkMeP/AVEDpgJBYWThTQIO2Hdy3zFFAj0Y0AvZ7UEDppxu6LohOQGojACSKRkxAbyo0JZYvSkAgNZYUK0BIQHCJYflcdUZA1bHoIXfMREAN98QN+EJDQDXqT6WN1kFA9bywuBGFQEAkbWaCDZk+QKFRBMApVjxAhO13Kw4+OkCrKVtdkU04QCbOn7/FgTZAIwDaIfXXNED53y2hnE0zQDXssd1o4DFAc7+MdzKOMEAMFwKd9akuQPj//f3RZSxAlFheMI5MKkBc5YEN/1ooQH2ULGE1jiZAUapge3njJEA=",
          "dtype": "f8"
         },
         "y": {
          "bdata": "AAAAAAAAAAAAAAAAAAAAAAAAAAAAAAAAAAAAAAAAAAAAAAAAAAAAAAAAAAAAAAAAAAAAAAAAAAAAAAAAAAAAAAAAAAAAAAAAAAAAAAAAAAAAAAAAAAAAAAAAAAAAAAAAAAAAAAAAAAAAAAAAAAAAAAAAAAAAAAAAAAAAAAAAAAAAAAAAAAAAAAAAAAAAAAAAAAAAAAAAAAAAAAAAAAAAAAAAAAAAAAAAAAAAAAAAAAAAAAAAAAAAAAAAAAAAAAAAAAAAAAAAAAAAAAAAAAAAAAAAAAAAAAAAAAAAAAAAAAAAAAAAAAAAAAAAAAAAAAAAAAAAAAAAAAAAAAAAAAAAAAAAAAAAAAAAAAAAAAAAAAAAAAAAAAAAAAAAAAAAAAAAAAAAAAAAAAAAAAAAAAAAAAAAAAAAAAAAAAAAAAAAAAAAAAAAAAAAAAAAAAAAAAAAAAAAAAAAAAAAAAAAAAAAAAAAAAAAAAAAAAAAAAAAAAAAAAAAAAAAAAAAAAAAAAAAAAAAAAAAAAAAAAAAAAAAAAAAAAAAAAAAAAAAAAAAAAAAAAAAAAAAAAAAAAAAAACAAAAAAAAAAIAAAAAAAAAAgAAAAAAAAACAAAAAAAAAAIAAAAAAAAAAgAAAAAAAAACAAAAAAAAAAIAAAAAAAAAAgAAAAAAAAACAAAAAAAAAAIAAAAAAAAAAgAAAAAAAAACAAAAAAAAAAIAAAAAAAAAAgAAAAAAAAACA716+ddldQ8Ac7mtMndxdwHcnhkdvT2jAKyURAtGKcMAHTgWfJ6N0wAZE0hcWZHjAPHPMx1Dne8AqG3ruLB9/wC7XGtx8EYHAqwtpVwl+gsBxZ2zpY++DwEIV2xf0RoXADdnBu2WHhsBMH+dDFrCHwIpjYX2Tx4jAmFUqN++ricB7ywei97WKwEasps1qz4rAlaynHRK1iMBArQfEVQCHwIfodigIW4XA9IvkVizTg8AhPFzMIyaCwJd37EWDn4DAowUIiRt3fsB73zx3ud57wDm9W/9vdnnAYJzHWoFCd8DGWEfCujJ1wCMTqQCzH3PA4j4Io0dJcsA=",
          "dtype": "f8"
         }
        },
        {
         "mode": "lines",
         "name": "airline_GO_FIRST",
         "type": "scatter",
         "x": {
          "bdata": "U2Z8oiRm1EDNDIVrNeTSQAHTEs/LftFA3s4GMMwz0EC+sbqkhQLOQCQaYtHBystA/1gAs/O8yUAR5ipwAdbHQCbUhtoLE8ZAvOvSGGpxxEC4bfmipe7CQFaNGYp2iMFA517rBsA8wECzZ5aSGhO+QLhvNwgd2rtAeH0SYizLuUBZHBoQLeO3QAgju00+H7ZAa4CBybV8tEDHBPKeG/myQPnahZwmkrFA4FYn0LhFsEDMYPSpuCOuQLiuN7uA6atAfa/H7GzZqUCipAH3X/CnQFa0OX53K6ZARRb5tweIpEDpqJ5ilwOjQNZHSwncm6FAPmx2jrZOoEAVnOTvXzSeQNoOE+/s+JtAgnN3V7XnmUBD3uYomv2XQGrUu2+3N5ZA7IWs51+TlEDw8zDxGA6TQE8BX9OWpZFAG9eVRLlXkECv5HlpEEWOQOxefKhhCIxAJ7R7pgX2iUBFYdGp2wqIQFve/CX+Q4ZAvo8QXL6ehEBuQ9xNoBiDQBrXt/1Wr4FADlNE9cBggEBS08kbylV+QGwGKezeF3xAecMw3l0EekDH/8p9JBh4QBY9uqRLUHZAC92bGCOqdECludV7LSNzQD88ToscuXFA+R9Co81pcEDZz+wLjWZuQOMG0b5kJ2xAVFz1Ar4SakAix9+odCVoQIhss++fXGZADAHHII61ZECSPlR+wC1jQPdHHH/nwmFAzwJRUd9yYEAUE/4+WXdeQDv9LiXzNlxAzaMqGSYhWkASAR4vzDJYQNb6qQr7aFZA5HkMeP/AVEDpgJBYWThTQIO2Hdy3zFFAj0Y0AvZ7UEDppxu6LohOQGojACSKRkxAbyo0JZYvSkAgNZYUK0BIQHCJYflcdUZA1bHoIXfMREAN98QN+EJDQDXqT6WN1kFA9bywuBGFQEAkbWaCDZk+QKFRBMApVjxAhO13Kw4+OkCrKVtdkU04QCbOn7/FgTZAIwDaIfXXNED53y2hnE0zQDXssd1o4DFAc7+MdzKOMEAMFwKd9akuQPj//f3RZSxAlFheMI5MKkBc5YEN/1ooQH2ULGE1jiZAUapge3njJEA=",
          "dtype": "f8"
         },
         "y": {
          "bdata": "AAAAAAAAAAAAAAAAAAAAAAAAAAAAAAAAAAAAAAAAAAAAAAAAAAAAAAAAAAAAAACAAAAAAAAAAIAAAAAAAAAAgAAAAAAAAACAAAAAAAAAAIAAAAAAAAAAgAAAAAAAAACAAAAAAAAAAIAAAAAAAAAAgAAAAAAAAACAAAAAAAAAAIAAAAAAAAAAgAAAAAAAAACAAAAAAAAAAIAAAAAAAAAAgAAAAAAAAACAAAAAAAAAAIAAAAAAAAAAgAAAAAAAAACAAAAAAAAAAIAAAAAAAAAAgAAAAAAAAACAAAAAAAAAAIAAAAAAAAAAgAAAAAAAAACAAAAAAAAAAIAAAAAAAAAAgAAAAAAAAACAAAAAAAAAAIAAAAAAAAAAgAAAAAAAAACAAAAAAAAAAIAAAAAAAAAAgAAAAAAAAACAAAAAAAAAAIAAAAAAAAAAgAAAAAAAAACAAAAAAAAAAIAAAAAAAAAAgAAAAAAAAACAAAAAAAAAAIAAAAAAAAAAgAAAAAAAAACAAAAAAAAAAIAAAAAAAAAAAAAAAAAAAAAAAAAAAAAAAAAAAAAAAAAAAAAAAAAAAAAAAAAAAAAAAAAAAAAAAAAAAAAAAAAAAAAAAAAAAAAAAAAAAAAAAAAAAAAAAAAAAAAAAAAAAAAAAAAAAAAAAAAAAAAAAAAAAAAAAAAAAAAAAAAAAAAAAAAAAAAAAAAAAAAAAAAAAAAAAAAAAAAAAAAAAAAAAAAAAAAAAAAAAAAAAAAAAAAAAAAAAAAAAAAAAAAAAAAAAAAAAAAAAAAAAAAAAAAAAAAAAAAAAAAAAAAAAAAAAAAAAAAAAAAAAAAAAAAAAAAAAAAAAAAAAAAAAAAAAAAAAAAAAAAAAAAAAAAAAAAAAAAAAAAAAAAAAAAAAAAAAAAAAAAAAAAAAAAAAAAAAChUrWpc2UZA2IyMXCZgZUDoFA6NzCVxQHQUd4LXT3dAE7cKY7/7fECDDV86J0mBQMpLm3lW3oNAmMVluu09hkD6rfvhd3KIQCQlRFSofYpAoYKEE69fjEA2OJ9UdiCOQDcJsMUn0I9AH2vYIGFvkEA=",
          "dtype": "f8"
         }
        },
        {
         "mode": "lines",
         "name": "airline_Indigo",
         "type": "scatter",
         "x": {
          "bdata": "U2Z8oiRm1EDNDIVrNeTSQAHTEs/LftFA3s4GMMwz0EC+sbqkhQLOQCQaYtHBystA/1gAs/O8yUAR5ipwAdbHQCbUhtoLE8ZAvOvSGGpxxEC4bfmipe7CQFaNGYp2iMFA517rBsA8wECzZ5aSGhO+QLhvNwgd2rtAeH0SYizLuUBZHBoQLeO3QAgju00+H7ZAa4CBybV8tEDHBPKeG/myQPnahZwmkrFA4FYn0LhFsEDMYPSpuCOuQLiuN7uA6atAfa/H7GzZqUCipAH3X/CnQFa0OX53K6ZARRb5tweIpEDpqJ5ilwOjQNZHSwncm6FAPmx2jrZOoEAVnOTvXzSeQNoOE+/s+JtAgnN3V7XnmUBD3uYomv2XQGrUu2+3N5ZA7IWs51+TlEDw8zDxGA6TQE8BX9OWpZFAG9eVRLlXkECv5HlpEEWOQOxefKhhCIxAJ7R7pgX2iUBFYdGp2wqIQFve/CX+Q4ZAvo8QXL6ehEBuQ9xNoBiDQBrXt/1Wr4FADlNE9cBggEBS08kbylV+QGwGKezeF3xAecMw3l0EekDH/8p9JBh4QBY9uqRLUHZAC92bGCOqdECludV7LSNzQD88ToscuXFA+R9Co81pcEDZz+wLjWZuQOMG0b5kJ2xAVFz1Ar4SakAix9+odCVoQIhss++fXGZADAHHII61ZECSPlR+wC1jQPdHHH/nwmFAzwJRUd9yYEAUE/4+WXdeQDv9LiXzNlxAzaMqGSYhWkASAR4vzDJYQNb6qQr7aFZA5HkMeP/AVEDpgJBYWThTQIO2Hdy3zFFAj0Y0AvZ7UEDppxu6LohOQGojACSKRkxAbyo0JZYvSkAgNZYUK0BIQHCJYflcdUZA1bHoIXfMREAN98QN+EJDQDXqT6WN1kFA9bywuBGFQEAkbWaCDZk+QKFRBMApVjxAhO13Kw4+OkCrKVtdkU04QCbOn7/FgTZAIwDaIfXXNED53y2hnE0zQDXssd1o4DFAc7+MdzKOMEAMFwKd9akuQPj//f3RZSxAlFheMI5MKkBc5YEN/1ooQH2ULGE1jiZAUapge3njJEA=",
          "dtype": "f8"
         },
         "y": {
          "bdata": "AAAAAAAAAAAAAAAAAAAAAAAAAAAAAAAAAAAAAAAAAAAAAAAAAAAAgAAAAAAAAACAAAAAAAAAAIAAAAAAAAAAgAAAAAAAAACAAAAAAAAAAIAAAAAAAAAAgAAAAAAAAACAAAAAAAAAAIAAAAAAAAAAgAAAAAAAAACAAAAAAAAAAIAAAAAAAAAAgAAAAAAAAACAAAAAAAAAAIAAAAAAAAAAgAAAAAAAAACAAAAAAAAAAIAAAAAAAAAAgAAAAAAAAACAAAAAAAAAAIAAAAAAAAAAgAAAAAAAAACAAAAAAAAAAIAAAAAAAAAAgAAAAAAAAACAAAAAAAAAAIAAAAAAAAAAgAAAAAAAAACAAAAAAAAAAIAAAAAAAAAAgAAAAAAAAACAAAAAAAAAAIAAAAAAAAAAgAAAAAAAAACAAAAAAAAAAIAAAAAAAAAAgAAAAAAAAACAAAAAAAAAAIAAAAAAAAAAgAAAAAAAAACAAAAAAAAAAIAAAAAAAAAAAAAAAAAAAAAAAAAAAAAAAAAAAAAAAAAAAAAAAAAAAAAAAAAAAAAAAAAAAAAAAAAAAAAAAAAAAAAAAAAAAAAAAAAAAAAAAAAAAAAAAAAAAAAAAAAAAAAAAAAAAAAAAAAAAAAAAAAAAAAAAAAAAAAAAAAAAAAAAAAAAAAAAAAAAAAAAAAAAAAAAAAAAAAAAAAAAAAAAAAAAAAAAAAAAAAAAAAAAAAAAAAAAAAAAAAAAAAAAAAAAAAAAABzDMmoEg5LQE1zaV/n0FpAnQ9Az3R3Y0Ccy6RwmXZpQN3XLUsTM29AsNHteCM9ckCKCAZICLN0QFjt+/gw9nZAQfDvX54GeUAaVG4zy9p6QOx6xnuknXxAzJMmVwI9fkB/E4PQFr1/QBP5xCAFk4BA04k6MBxQgUDCrGDo29WBQN8HU1v4IYNAji6G1+ylhkAH+jWwD4KJQLT6R9BBPoxASFZr/4/IjkCzTe+iYbCQQB6F7ni25ZFA1TTE9qsBk0ANZASZpQmUQEUMmR9Q/pRAs/8S7ovflUDTxImWH7GWQCqqP+mIepdAn1k2qDDyl0A=",
          "dtype": "f8"
         }
        },
        {
         "mode": "lines",
         "name": "airline_SpiceJet",
         "type": "scatter",
         "x": {
          "bdata": "U2Z8oiRm1EDNDIVrNeTSQAHTEs/LftFA3s4GMMwz0EC+sbqkhQLOQCQaYtHBystA/1gAs/O8yUAR5ipwAdbHQCbUhtoLE8ZAvOvSGGpxxEC4bfmipe7CQFaNGYp2iMFA517rBsA8wECzZ5aSGhO+QLhvNwgd2rtAeH0SYizLuUBZHBoQLeO3QAgju00+H7ZAa4CBybV8tEDHBPKeG/myQPnahZwmkrFA4FYn0LhFsEDMYPSpuCOuQLiuN7uA6atAfa/H7GzZqUCipAH3X/CnQFa0OX53K6ZARRb5tweIpEDpqJ5ilwOjQNZHSwncm6FAPmx2jrZOoEAVnOTvXzSeQNoOE+/s+JtAgnN3V7XnmUBD3uYomv2XQGrUu2+3N5ZA7IWs51+TlEDw8zDxGA6TQE8BX9OWpZFAG9eVRLlXkECv5HlpEEWOQOxefKhhCIxAJ7R7pgX2iUBFYdGp2wqIQFve/CX+Q4ZAvo8QXL6ehEBuQ9xNoBiDQBrXt/1Wr4FADlNE9cBggEBS08kbylV+QGwGKezeF3xAecMw3l0EekDH/8p9JBh4QBY9uqRLUHZAC92bGCOqdECludV7LSNzQD88ToscuXFA+R9Co81pcEDZz+wLjWZuQOMG0b5kJ2xAVFz1Ar4SakAix9+odCVoQIhss++fXGZADAHHII61ZECSPlR+wC1jQPdHHH/nwmFAzwJRUd9yYEAUE/4+WXdeQDv9LiXzNlxAzaMqGSYhWkASAR4vzDJYQNb6qQr7aFZA5HkMeP/AVEDpgJBYWThTQIO2Hdy3zFFAj0Y0AvZ7UEDppxu6LohOQGojACSKRkxAbyo0JZYvSkAgNZYUK0BIQHCJYflcdUZA1bHoIXfMREAN98QN+EJDQDXqT6WN1kFA9bywuBGFQEAkbWaCDZk+QKFRBMApVjxAhO13Kw4+OkCrKVtdkU04QCbOn7/FgTZAIwDaIfXXNED53y2hnE0zQDXssd1o4DFAc7+MdzKOMEAMFwKd9akuQPj//f3RZSxAlFheMI5MKkBc5YEN/1ooQH2ULGE1jiZAUapge3njJEA=",
          "dtype": "f8"
         },
         "y": {
          "bdata": "AAAAAAAAAAAAAAAAAAAAAAAAAAAAAAAAAAAAAAAAAAAAAAAAAAAAAAAAAAAAAACAAAAAAAAAAIAAAAAAAAAAgAAAAAAAAACAAAAAAAAAAIAAAAAAAAAAgAAAAAAAAACAAAAAAAAAAIAAAAAAAAAAgAAAAAAAAACAAAAAAAAAAIAAAAAAAAAAgAAAAAAAAACAAAAAAAAAAIAAAAAAAAAAgAAAAAAAAACAAAAAAAAAAIAAAAAAAAAAgAAAAAAAAACAAAAAAAAAAIAAAAAAAAAAgAAAAAAAAACAAAAAAAAAAIAAAAAAAAAAgAAAAAAAAACAAAAAAAAAAIAAAAAAAAAAgAAAAAAAAACAAAAAAAAAAIAAAAAAAAAAgAAAAAAAAACAAAAAAAAAAIAAAAAAAAAAgAAAAAAAAACAAAAAAAAAAIAAAAAAAAAAgAAAAAAAAACAAAAAAAAAAIAAAAAAAAAAgAAAAAAAAACAAAAAAAAAAIAAAAAAAAAAgAAAAAAAAACAAAAAAAAAAIAAAAAAAAAAgAAAAAAAAAAAAAAAAAAAAAAAAAAAAAAAAAAAAAAAAAAAAAAAAAAAAAAAAAAAAAAAAAAAAAAAAAAAAAAAAAAAAAAAAAAAAAAAAAAAAAAAAAAAAAAAAAAAAAAAAAAAAAAAAAAAAAAAAAAAAAAAAAAAAAAAAAAAAAAAAAAAAAAAAAAAAAAAAAAAAAAAAAAAAAAAAAAAAAAAAAAAAAAAAAAAAAAAAAAAAAAAAAAAAAAAAAAAAAAAAAAAAAAAAAAAAAAAAAAAAAAAAAAAAAAAAAAAAAAAAAAAAAAAAAAAAAAAAAAAAAAAAAAAAAAAAAAAAAAAAAAAAAAAAAAAAAAAAAAAAAAAAAAAAAAAAAAAAAAAAAAAAAAAAAAAAAAAAAAAAAAAAHwzpUgDvVJAW+5A4wxUbkBvIeWSHBh4QKFQP4EmOoBA1vYTblcWhEBEowWGhtuHQCAuRCM2UotA4gKVIvaCjkBIqOvqhbyQQK4ULGS5G5JAsR9JCNRfk0AXAIW6+4yUQMXIL42SrJVAQ9TGTbF6lkA=",
          "dtype": "f8"
         }
        },
        {
         "mode": "lines",
         "name": "airline_Vistara",
         "type": "scatter",
         "x": {
          "bdata": "U2Z8oiRm1EDNDIVrNeTSQAHTEs/LftFA3s4GMMwz0EC+sbqkhQLOQCQaYtHBystA/1gAs/O8yUAR5ipwAdbHQCbUhtoLE8ZAvOvSGGpxxEC4bfmipe7CQFaNGYp2iMFA517rBsA8wECzZ5aSGhO+QLhvNwgd2rtAeH0SYizLuUBZHBoQLeO3QAgju00+H7ZAa4CBybV8tEDHBPKeG/myQPnahZwmkrFA4FYn0LhFsEDMYPSpuCOuQLiuN7uA6atAfa/H7GzZqUCipAH3X/CnQFa0OX53K6ZARRb5tweIpEDpqJ5ilwOjQNZHSwncm6FAPmx2jrZOoEAVnOTvXzSeQNoOE+/s+JtAgnN3V7XnmUBD3uYomv2XQGrUu2+3N5ZA7IWs51+TlEDw8zDxGA6TQE8BX9OWpZFAG9eVRLlXkECv5HlpEEWOQOxefKhhCIxAJ7R7pgX2iUBFYdGp2wqIQFve/CX+Q4ZAvo8QXL6ehEBuQ9xNoBiDQBrXt/1Wr4FADlNE9cBggEBS08kbylV+QGwGKezeF3xAecMw3l0EekDH/8p9JBh4QBY9uqRLUHZAC92bGCOqdECludV7LSNzQD88ToscuXFA+R9Co81pcEDZz+wLjWZuQOMG0b5kJ2xAVFz1Ar4SakAix9+odCVoQIhss++fXGZADAHHII61ZECSPlR+wC1jQPdHHH/nwmFAzwJRUd9yYEAUE/4+WXdeQDv9LiXzNlxAzaMqGSYhWkASAR4vzDJYQNb6qQr7aFZA5HkMeP/AVEDpgJBYWThTQIO2Hdy3zFFAj0Y0AvZ7UEDppxu6LohOQGojACSKRkxAbyo0JZYvSkAgNZYUK0BIQHCJYflcdUZA1bHoIXfMREAN98QN+EJDQDXqT6WN1kFA9bywuBGFQEAkbWaCDZk+QKFRBMApVjxAhO13Kw4+OkCrKVtdkU04QCbOn7/FgTZAIwDaIfXXNED53y2hnE0zQDXssd1o4DFAc7+MdzKOMEAMFwKd9akuQPj//f3RZSxAlFheMI5MKkBc5YEN/1ooQH2ULGE1jiZAUapge3njJEA=",
          "dtype": "f8"
         },
         "y": {
          "bdata": "AAAAAAAAAAAAAAAAAAAAAAAAAAAAAAAAAAAAAAAAAAAAAAAAAAAAAAAAAAAAAAAAAAAAAAAAAAAAAAAAAAAAAAAAAAAAAAAAAAAAAAAAAAAAAAAAAAAAAAAAAAAAAAAAAAAAAAAAAAAAAAAAAAAAAAAAAAAAAAAA3MZMCJY9kEAAeG4ZLw6hQHTohZB6iahA1kRhiOgCqUDeuXgTAG2pQKV+44ITzqlAoxoPT0UpqkChsH4A/n2qQF/W4o7lyqpA/BomCtkTq0DqWRLyCFSrQPb8B5SFZKtAxkcu/e5xq0A/zzbnc4CrQGUKv3nOi6tArnhZQk2Wq0BrxUOVM6KrQOK+l04kq6tAQObSwHSzq0BCZU6yKburQG5IqdpMwqtAUzKUjtbKq0BPjoXf2NCrQNUhleZh1qtArfMLFoLbq0DIq2xLQeCrQLdpvWhc5qtAwgKtK1fqq0DgCAzx/e2rQB2qB3Rf8atArgGvpCT2q0CuVtXMEuSrQN5JZOB+yKtA6q/cbzauq0A/mJsc25WrQJ2iLoJMf6tAQiSAI+drq0CKg0j/fFirQOzfubl3RqtAMMflGMc1q0CxQNblvyerQDnpk+LaJKtAv1lAV0Qoq0Cv4SybFiurQA5heOqtLatAyL6m9mQxq0BJPMdooDOrQOMDLbZONKtAPzfk/Gkzq0AfhnSAlC6rQCMdOVjfJKtACWLCc70bq0Anr4DhBwyrQKtbDx0m/6pAVB5fhlPIqkBP1FyvdHWqQOEmPPTqJ6pAWzol/DbeqUAR4VDgHZapQFyhwFOsU6lAWHyZ1usUqUDoXsDq+NuoQHlxPQIUpqhAtbUgEKZyqEB/49BcsjyoQJCfBoKVC6hAgfrlyn/dp0DaZadL77KnQPdiFv4Ai6dARTouJZNtp0BvIxDMtESnQD0P7lKHVKdAUcPr/qbtp0Cug9rMdW2oQFUmP5hx56hAFbTWNtBYqUB1o5ZE0NGpQCtL867BPqpAQ+ZyKDCiqkAwlufl6v6qQDlcx/DrVKtAWYdDJrSjq0CjrzP+V+2rQErix++hNaxA3ADvSWBVrEA=",
          "dtype": "f8"
         }
        },
        {
         "mode": "lines",
         "name": "source_city_Chennai",
         "type": "scatter",
         "x": {
          "bdata": "U2Z8oiRm1EDNDIVrNeTSQAHTEs/LftFA3s4GMMwz0EC+sbqkhQLOQCQaYtHBystA/1gAs/O8yUAR5ipwAdbHQCbUhtoLE8ZAvOvSGGpxxEC4bfmipe7CQFaNGYp2iMFA517rBsA8wECzZ5aSGhO+QLhvNwgd2rtAeH0SYizLuUBZHBoQLeO3QAgju00+H7ZAa4CBybV8tEDHBPKeG/myQPnahZwmkrFA4FYn0LhFsEDMYPSpuCOuQLiuN7uA6atAfa/H7GzZqUCipAH3X/CnQFa0OX53K6ZARRb5tweIpEDpqJ5ilwOjQNZHSwncm6FAPmx2jrZOoEAVnOTvXzSeQNoOE+/s+JtAgnN3V7XnmUBD3uYomv2XQGrUu2+3N5ZA7IWs51+TlEDw8zDxGA6TQE8BX9OWpZFAG9eVRLlXkECv5HlpEEWOQOxefKhhCIxAJ7R7pgX2iUBFYdGp2wqIQFve/CX+Q4ZAvo8QXL6ehEBuQ9xNoBiDQBrXt/1Wr4FADlNE9cBggEBS08kbylV+QGwGKezeF3xAecMw3l0EekDH/8p9JBh4QBY9uqRLUHZAC92bGCOqdECludV7LSNzQD88ToscuXFA+R9Co81pcEDZz+wLjWZuQOMG0b5kJ2xAVFz1Ar4SakAix9+odCVoQIhss++fXGZADAHHII61ZECSPlR+wC1jQPdHHH/nwmFAzwJRUd9yYEAUE/4+WXdeQDv9LiXzNlxAzaMqGSYhWkASAR4vzDJYQNb6qQr7aFZA5HkMeP/AVEDpgJBYWThTQIO2Hdy3zFFAj0Y0AvZ7UEDppxu6LohOQGojACSKRkxAbyo0JZYvSkAgNZYUK0BIQHCJYflcdUZA1bHoIXfMREAN98QN+EJDQDXqT6WN1kFA9bywuBGFQEAkbWaCDZk+QKFRBMApVjxAhO13Kw4+OkCrKVtdkU04QCbOn7/FgTZAIwDaIfXXNED53y2hnE0zQDXssd1o4DFAc7+MdzKOMEAMFwKd9akuQPj//f3RZSxAlFheMI5MKkBc5YEN/1ooQH2ULGE1jiZAUapge3njJEA=",
          "dtype": "f8"
         },
         "y": {
          "bdata": "AAAAAAAAAAAAAAAAAAAAAAAAAAAAAAAAAAAAAAAAAAAAAAAAAAAAAAAAAAAAAAAAAAAAAAAAAAAAAAAAAAAAAAAAAAAAAAAAAAAAAAAAAAAAAAAAAAAAAAAAAAAAAAAAAAAAAAAAAAAAAAAAAAAAAAAAAAAAAAAAAAAAAAAAAAAAAAAAAAAAAAAAAAAAAAAAAAAAAAAAAAAAAAAAAAAAAAAAAAAAAAAAAAAAAAAAAAAAAAAAAAAAAAAAAAAAAAAAAAAAAAAAAAAAAAAAAAAAAAAAAAAAAAAAAAAAAAAAAAAAAAAAAAAAAAAAAAAAAAAAAAAAAAAAAAAAAAAAAAAAAAAAAAAAAAAAAAAAAAAAAAAAAAAAAAAAAAAAAAAAAAAAAAAAAAAAAAAAAAAAAAAAAAAAAAAAAAAAAAAAAAAAAAAAAAAAAAAAAAAAAAAAAAAAAAAAAAAAAAAAAAAAAAAAAAAAAAAAAAAAAAAAAAAAAAAAAAAAAAAAAAAAAAAAAAAAAAAAAAAAAAAAAAAAAAAAAAAAAAAAAAAAAAAAAAAAAAAAAAAAAAAAAAAAAAAAAAAAAAAAAAAAAAAAAAAAAAAAAAAAAAAAAAAAAAAAAAAAAAAAAAAAAAAAAAAAAAAAAAAAAAAAAAAAAAAAAAAAAAAAAAAAAAAAAAAAAAAAAAAAAAAAAAAAAAAAAAAAAAAAAAAAAAAAAAAAAAAAAAAAAAAAAAAAAAAAAAAAAAAAAAAAAAAAAAAAAAAAAAAAAAAAAAAAAAAAAAAAAAAAAAAAAAAAAAAAAAAAAAAAAAAAAAAAAAAAAAAAAAAAAAAAAAAAAAAAAAAAAAAAAAAAAAAAAAAAAAAAAAAAAAAAAAAAAAAAAAAAAAAAAAAAAAAAAAAAAAAAAAAAAAAAAAAAAAAAAAAAAAAAAAAAAAAAAAAAAAAAAAAAAAAAAAAAAAAAAAAAAAAAAAAAAAAAAAAAAAAAAAAAAAAAAAAAAAAAAAAAAAAAAAAAAAAAAAAAAAAAAAAAAAAAAAAAAAAAAAAcQditTQviPwAAAAAAAAAAAAAAAAAAAAA=",
          "dtype": "f8"
         }
        },
        {
         "mode": "lines",
         "name": "source_city_Delhi",
         "type": "scatter",
         "x": {
          "bdata": "U2Z8oiRm1EDNDIVrNeTSQAHTEs/LftFA3s4GMMwz0EC+sbqkhQLOQCQaYtHBystA/1gAs/O8yUAR5ipwAdbHQCbUhtoLE8ZAvOvSGGpxxEC4bfmipe7CQFaNGYp2iMFA517rBsA8wECzZ5aSGhO+QLhvNwgd2rtAeH0SYizLuUBZHBoQLeO3QAgju00+H7ZAa4CBybV8tEDHBPKeG/myQPnahZwmkrFA4FYn0LhFsEDMYPSpuCOuQLiuN7uA6atAfa/H7GzZqUCipAH3X/CnQFa0OX53K6ZARRb5tweIpEDpqJ5ilwOjQNZHSwncm6FAPmx2jrZOoEAVnOTvXzSeQNoOE+/s+JtAgnN3V7XnmUBD3uYomv2XQGrUu2+3N5ZA7IWs51+TlEDw8zDxGA6TQE8BX9OWpZFAG9eVRLlXkECv5HlpEEWOQOxefKhhCIxAJ7R7pgX2iUBFYdGp2wqIQFve/CX+Q4ZAvo8QXL6ehEBuQ9xNoBiDQBrXt/1Wr4FADlNE9cBggEBS08kbylV+QGwGKezeF3xAecMw3l0EekDH/8p9JBh4QBY9uqRLUHZAC92bGCOqdECludV7LSNzQD88ToscuXFA+R9Co81pcEDZz+wLjWZuQOMG0b5kJ2xAVFz1Ar4SakAix9+odCVoQIhss++fXGZADAHHII61ZECSPlR+wC1jQPdHHH/nwmFAzwJRUd9yYEAUE/4+WXdeQDv9LiXzNlxAzaMqGSYhWkASAR4vzDJYQNb6qQr7aFZA5HkMeP/AVEDpgJBYWThTQIO2Hdy3zFFAj0Y0AvZ7UEDppxu6LohOQGojACSKRkxAbyo0JZYvSkAgNZYUK0BIQHCJYflcdUZA1bHoIXfMREAN98QN+EJDQDXqT6WN1kFA9bywuBGFQEAkbWaCDZk+QKFRBMApVjxAhO13Kw4+OkCrKVtdkU04QCbOn7/FgTZAIwDaIfXXNED53y2hnE0zQDXssd1o4DFAc7+MdzKOMEAMFwKd9akuQPj//f3RZSxAlFheMI5MKkBc5YEN/1ooQH2ULGE1jiZAUapge3njJEA=",
          "dtype": "f8"
         },
         "y": {
          "bdata": "AAAAAAAAAAAAAAAAAAAAAAAAAAAAAAAAAAAAAAAAAAAAAAAAAAAAAAAAAAAAAAAAAAAAAAAAAAAAAAAAAAAAAAAAAAAAAAAAAAAAAAAAAAAAAAAAAAAAAAAAAAAAAAAAAAAAAAAAAAAAAAAAAAAAAAAAAAAAAAAAAAAAAAAAAAAAAAAAAAAAAAAAAAAAAAAAAAAAAAAAAAAAAAAAAAAAAAAAAAAAAAAAAAAAAAAAAAAAAAAAAAAAAAAAAAAAAAAAAAAAAAAAAAAAAAAAAAAAAAAAAAAAAAAAAAAAAAAAAAAAAAAAAAAAAAAAAAAAAAAAAAAAAAAAAAAAAAAAAAAAAAAAAAAAAAAAAAAAAAAAAAAAAAAAAAAAAAAAAAAAAAAAAAAAAAAAAAAAAAAAAAAAgAAAAAAAAACAAAAAAAAAAIAAAAAAAAAAgAAAAAAAAACAAAAAAAAAAIAAAAAAAAAAgAAAAAAAAACAAAAAAAAAAIAAAAAAAAAAgAAAAAAAAACAAAAAAAAAAIAAAAAAAAAAgAAAAAAAAACAAAAAAAAAAIAAAAAAAAAAgAAAAAAAAACAAAAAAAAAAIAAAAAAAAAAgAAAAAAAAACAAAAAAAAAAIAAAAAAAAAAgAAAAAAAAACAAAAAAAAAAIAAAAAAAAAAgAAAAAAAAACAAAAAAAAAAIAAAAAAAAAAgAAAAAAAAACAAAAAAAAAAID63zUSLS9AwDiZG8U5FF3A02oNZYBmasCED7wT4ptywOVET6LHpHfADIqQEDBMfMAmny7my1CAwNpXu6VsUYLAZmhEjrkthMBfp0XpW+WFwP8h4FH0fYfAbJFRIiP0iMDK6ZwY2z+KwIUsMg03bIvAv4vnMz+DjMDmDAp6l4WNwGyKS0dZd47Air+vNQ1Tj8BNdW2r7BaQwByXU87Gj5DAofMOMD3ikMBhEel6ezORwJ6wwpQjfJHAncW6jF+/kcABaIFIvvaRwAM979kHJpLAmJ2+LGtSksClLJK6QHuSwCrU1TUEoZLAPHBkZVvEksDdQ2KMW+SSwF6A7ne4EpPAGvyzN0xVk8A=",
          "dtype": "f8"
         }
        },
        {
         "mode": "lines",
         "name": "source_city_Hyderabad",
         "type": "scatter",
         "x": {
          "bdata": "U2Z8oiRm1EDNDIVrNeTSQAHTEs/LftFA3s4GMMwz0EC+sbqkhQLOQCQaYtHBystA/1gAs/O8yUAR5ipwAdbHQCbUhtoLE8ZAvOvSGGpxxEC4bfmipe7CQFaNGYp2iMFA517rBsA8wECzZ5aSGhO+QLhvNwgd2rtAeH0SYizLuUBZHBoQLeO3QAgju00+H7ZAa4CBybV8tEDHBPKeG/myQPnahZwmkrFA4FYn0LhFsEDMYPSpuCOuQLiuN7uA6atAfa/H7GzZqUCipAH3X/CnQFa0OX53K6ZARRb5tweIpEDpqJ5ilwOjQNZHSwncm6FAPmx2jrZOoEAVnOTvXzSeQNoOE+/s+JtAgnN3V7XnmUBD3uYomv2XQGrUu2+3N5ZA7IWs51+TlEDw8zDxGA6TQE8BX9OWpZFAG9eVRLlXkECv5HlpEEWOQOxefKhhCIxAJ7R7pgX2iUBFYdGp2wqIQFve/CX+Q4ZAvo8QXL6ehEBuQ9xNoBiDQBrXt/1Wr4FADlNE9cBggEBS08kbylV+QGwGKezeF3xAecMw3l0EekDH/8p9JBh4QBY9uqRLUHZAC92bGCOqdECludV7LSNzQD88ToscuXFA+R9Co81pcEDZz+wLjWZuQOMG0b5kJ2xAVFz1Ar4SakAix9+odCVoQIhss++fXGZADAHHII61ZECSPlR+wC1jQPdHHH/nwmFAzwJRUd9yYEAUE/4+WXdeQDv9LiXzNlxAzaMqGSYhWkASAR4vzDJYQNb6qQr7aFZA5HkMeP/AVEDpgJBYWThTQIO2Hdy3zFFAj0Y0AvZ7UEDppxu6LohOQGojACSKRkxAbyo0JZYvSkAgNZYUK0BIQHCJYflcdUZA1bHoIXfMREAN98QN+EJDQDXqT6WN1kFA9bywuBGFQEAkbWaCDZk+QKFRBMApVjxAhO13Kw4+OkCrKVtdkU04QCbOn7/FgTZAIwDaIfXXNED53y2hnE0zQDXssd1o4DFAc7+MdzKOMEAMFwKd9akuQPj//f3RZSxAlFheMI5MKkBc5YEN/1ooQH2ULGE1jiZAUapge3njJEA=",
          "dtype": "f8"
         },
         "y": {
          "bdata": "AAAAAAAAAAAAAAAAAAAAAAAAAAAAAAAAAAAAAAAAAAAAAAAAAAAAAAAAAAAAAAAAAAAAAAAAAAAAAAAAAAAAAAAAAAAAAAAAAAAAAAAAAAAAAAAAAAAAAAAAAAAAAAAAAAAAAAAAAAAAAAAAAAAAAAAAAAAAAAAAAAAAAAAAAAAAAAAAAAAAAAAAAAAAAAAAAAAAAAAAAAAAAAAAAAAAAAAAAAAAAAAAAAAAAAAAAAAAAAAAAAAAAAAAAAAAAAAAAAAAAAAAAAAAAAAAAAAAAAAAAAAAAAAAAAAAAAAAAAAAAAAAAAAAAAAAAAAAAAAAAAAAAAAAAAAAAAAAAAAAAAAAAAAAAAAAAAAAAAAAAAAAAAAAAAAAAAAAAAAAAAAAAAAAAAAAAAAAAAAAAAAAAAAAAAAAAAAAAAAAAAAAAAAAAAAAAAAAgAAAAAAAAACAAAAAAAAAAIAAAAAAAAAAgAAAAAAAAACAAAAAAAAAAIAAAAAAAAAAgAAAAAAAAACAAAAAAAAAAIAAAAAAAAAAgAAAAAAAAACAAAAAAAAAAIAAAAAAAAAAgAAAAAAAAACAAAAAAAAAAIAAAAAAAAAAgAAAAAAAAACAAAAAAAAAAIAAAAAAAAAAgAAAAAAAAACAAAAAAAAAAIAAAAAAAAAAgAAAAAAAAACAAAAAAAAAAIAAAAAAAAAAgAAAAAAAAACAAAAAAAAAAIAAAAAAAAAAgIyJTTExSEbAPsx6X29LZMDMw8RneAJxwA/rMeRAZnfAjE/bBbNPfcAeunto6F2BwLvO0qTb3IPA3kcX26IthsBAw2cxn1GIwPs/6IIVTorAQp//7GYkjMDxoz08vdSNwI0jMJVYYI/Avz8Z3KpnkMC4MH2PqxGRwHnx5cD/qpHAuy+2seMvksBeMrKYi7GSwPBh+If7NpPAWEVUEcKVk8Bjoaqu/fKTwGcP+gyfR5TAknCBqFWXlMA7jSrymeKUwO0UJVXtKpXAxFIGJUZulcAnex+ifKyVwALmWkMS5pXAD5qMoZwblsB+z0BrhEyWwJSa5GM7ipbA9qNtfavVlsA=",
          "dtype": "f8"
         }
        },
        {
         "mode": "lines",
         "name": "source_city_Kolkata",
         "type": "scatter",
         "x": {
          "bdata": "U2Z8oiRm1EDNDIVrNeTSQAHTEs/LftFA3s4GMMwz0EC+sbqkhQLOQCQaYtHBystA/1gAs/O8yUAR5ipwAdbHQCbUhtoLE8ZAvOvSGGpxxEC4bfmipe7CQFaNGYp2iMFA517rBsA8wECzZ5aSGhO+QLhvNwgd2rtAeH0SYizLuUBZHBoQLeO3QAgju00+H7ZAa4CBybV8tEDHBPKeG/myQPnahZwmkrFA4FYn0LhFsEDMYPSpuCOuQLiuN7uA6atAfa/H7GzZqUCipAH3X/CnQFa0OX53K6ZARRb5tweIpEDpqJ5ilwOjQNZHSwncm6FAPmx2jrZOoEAVnOTvXzSeQNoOE+/s+JtAgnN3V7XnmUBD3uYomv2XQGrUu2+3N5ZA7IWs51+TlEDw8zDxGA6TQE8BX9OWpZFAG9eVRLlXkECv5HlpEEWOQOxefKhhCIxAJ7R7pgX2iUBFYdGp2wqIQFve/CX+Q4ZAvo8QXL6ehEBuQ9xNoBiDQBrXt/1Wr4FADlNE9cBggEBS08kbylV+QGwGKezeF3xAecMw3l0EekDH/8p9JBh4QBY9uqRLUHZAC92bGCOqdECludV7LSNzQD88ToscuXFA+R9Co81pcEDZz+wLjWZuQOMG0b5kJ2xAVFz1Ar4SakAix9+odCVoQIhss++fXGZADAHHII61ZECSPlR+wC1jQPdHHH/nwmFAzwJRUd9yYEAUE/4+WXdeQDv9LiXzNlxAzaMqGSYhWkASAR4vzDJYQNb6qQr7aFZA5HkMeP/AVEDpgJBYWThTQIO2Hdy3zFFAj0Y0AvZ7UEDppxu6LohOQGojACSKRkxAbyo0JZYvSkAgNZYUK0BIQHCJYflcdUZA1bHoIXfMREAN98QN+EJDQDXqT6WN1kFA9bywuBGFQEAkbWaCDZk+QKFRBMApVjxAhO13Kw4+OkCrKVtdkU04QCbOn7/FgTZAIwDaIfXXNED53y2hnE0zQDXssd1o4DFAc7+MdzKOMEAMFwKd9akuQPj//f3RZSxAlFheMI5MKkBc5YEN/1ooQH2ULGE1jiZAUapge3njJEA=",
          "dtype": "f8"
         },
         "y": {
          "bdata": "AAAAAAAAAAAAAAAAAAAAAAAAAAAAAAAAAAAAAAAAAAAAAAAAAAAAAAAAAAAAAAAAAAAAAAAAAAAAAAAAAAAAAAAAAAAAAAAAAAAAAAAAAAAAAAAAAAAAAAAAAAAAAAAAAAAAAAAAAAAAAAAAAAAAAAAAAAAAAAAAAAAAAAAAAAAAAAAAAAAAAAAAAAAAAAAAAAAAAAAAAAAAAAAAAAAAAAAAAAAAAAAAAAAAAAAAAAAAAAAAAAAAAAAAAAAAAAAAAAAAAAAAAAAAAAAAAAAAAAAAAAAAAAAAAAAAAAAAAAAAAAAAAAAAAAAAAAAAAAAAAAAAAAAAAAAAAAAAAAAAAAAAAAAAAAAAAAAAAAAAAAAAAAAAAAAAAAAAAAAAAAAAAAAAAAAAAAAAAAAAAAAAAAAAAAAAAAAAAAAAAAAAAAAAAAAAAAAAAAAAAAAAAAAAAAAAAAAAAAAAAAAAAAAAAAAAAAAAAAAAAAAAAAAAAAAAAAAAAAAAAAAAAAAAAAAAAAAAAAAAAAAAAAAAAAAAAAAAAAAAAAAAAAAAAAAAAAAAAAAAAAAAAAAAAAAAAAAAAAAAAAAAAAAAAAAAAAAAAPajaw6HK2FA77AekvQWc0ApB2mO9tB8QLf5CS126YJAwfY5cBIWh0CBxqS17/KKQL4+y64ohY5AdOpxiUDpkECrb5aavnGSQEh2gmgQ25NAg3AtFFYplUCjPDsvSz+WQAIkKaQU8JZAzXa1+aFLl0DQ4kFPWo+XQGTbwTHEypdAeNdCAXwAmECR0su/HCqYQI83c9rFTphAWl8L0wRwmECn7/pDeY+YQKHtoM3xq5hAWQuFl2PGmEBRKW1AR+CYQKpWL9TP+5hAyMy02ugUmUDCoDFRDyyZQOdj/NKBQplAPi5rgEBemUBeqH5cSm+ZQPep+STVa5lAAMvhIomDmUAy+8cN0pSZQAWGEHDlpplAh5ngNMy2mUB4aiflF8eZQGdZ7ylN1ZlA8P5mYv/hmUDNyJlB9u2ZQJu7aBEV+ZlAOn6xZxoDmkCodAXlGw2aQD5ezV6vBZpAlo0C0qzpmUA=",
          "dtype": "f8"
         }
        },
        {
         "mode": "lines",
         "name": "source_city_Mumbai",
         "type": "scatter",
         "x": {
          "bdata": "U2Z8oiRm1EDNDIVrNeTSQAHTEs/LftFA3s4GMMwz0EC+sbqkhQLOQCQaYtHBystA/1gAs/O8yUAR5ipwAdbHQCbUhtoLE8ZAvOvSGGpxxEC4bfmipe7CQFaNGYp2iMFA517rBsA8wECzZ5aSGhO+QLhvNwgd2rtAeH0SYizLuUBZHBoQLeO3QAgju00+H7ZAa4CBybV8tEDHBPKeG/myQPnahZwmkrFA4FYn0LhFsEDMYPSpuCOuQLiuN7uA6atAfa/H7GzZqUCipAH3X/CnQFa0OX53K6ZARRb5tweIpEDpqJ5ilwOjQNZHSwncm6FAPmx2jrZOoEAVnOTvXzSeQNoOE+/s+JtAgnN3V7XnmUBD3uYomv2XQGrUu2+3N5ZA7IWs51+TlEDw8zDxGA6TQE8BX9OWpZFAG9eVRLlXkECv5HlpEEWOQOxefKhhCIxAJ7R7pgX2iUBFYdGp2wqIQFve/CX+Q4ZAvo8QXL6ehEBuQ9xNoBiDQBrXt/1Wr4FADlNE9cBggEBS08kbylV+QGwGKezeF3xAecMw3l0EekDH/8p9JBh4QBY9uqRLUHZAC92bGCOqdECludV7LSNzQD88ToscuXFA+R9Co81pcEDZz+wLjWZuQOMG0b5kJ2xAVFz1Ar4SakAix9+odCVoQIhss++fXGZADAHHII61ZECSPlR+wC1jQPdHHH/nwmFAzwJRUd9yYEAUE/4+WXdeQDv9LiXzNlxAzaMqGSYhWkASAR4vzDJYQNb6qQr7aFZA5HkMeP/AVEDpgJBYWThTQIO2Hdy3zFFAj0Y0AvZ7UEDppxu6LohOQGojACSKRkxAbyo0JZYvSkAgNZYUK0BIQHCJYflcdUZA1bHoIXfMREAN98QN+EJDQDXqT6WN1kFA9bywuBGFQEAkbWaCDZk+QKFRBMApVjxAhO13Kw4+OkCrKVtdkU04QCbOn7/FgTZAIwDaIfXXNED53y2hnE0zQDXssd1o4DFAc7+MdzKOMEAMFwKd9akuQPj//f3RZSxAlFheMI5MKkBc5YEN/1ooQH2ULGE1jiZAUapge3njJEA=",
          "dtype": "f8"
         },
         "y": {
          "bdata": "AAAAAAAAAAAAAAAAAAAAAAAAAAAAAAAAAAAAAAAAAAAAAAAAAAAAAAAAAAAAAAAAAAAAAAAAAAAAAAAAAAAAAAAAAAAAAAAAAAAAAAAAAAAAAAAAAAAAAAAAAAAAAAAAAAAAAAAAAAAAAAAAAAAAAAAAAAAAAAAAAAAAAAAAAAAAAAAAAAAAAAAAAAAAAAAAAAAAAAAAAAAAAAAAAAAAAAAAAAAAAAAAAAAAAAAAAAAAAAAAAAAAAAAAAAAAAAAAAAAAAAAAAAAAAAAAAAAAAAAAAAAAAAAAAAAAAAAAAAAAAAAAAAAAAAAAAAAAAAAAAAAAAAAAAAAAAAAAAAAAAAAAAAAAAAAAAAAAAAAAAAAAAAAAAAAAAAAAAAAAAAAAAAAAAAAAAAAAAAAAAAAAAAAAAAAAAAAAAAAAAAAAAAAAAAAAAAAAAAAAAAAAAAAAAAAAAAAAAAAAAAAAAAAAAAAAAAAAAAAAAAAAAAAAAAAAAAAAAAAAAAAAAAAAAAAAAAAAAAAAAAAAAAAAAAAAAAAAAAAAAAAAAAAAAAAAAAAAAAAAAAAAAAAAAAAAAAAAAAAAAAAAAAAAAAAAAAAAAAAAAAAAAAAAAAAAAAAAAAAAAAAAAAAAAAAAAAAAAAAAAAAAAAAAAAAAAAAAAAAAAAAAAAAAAAAAAAAAAAAAAAAAAAAAAAAAAAAAAAAAAAAAAAAAAAAAAAAAAAAAAAAAAAAAAAAAAAAAAAAAAAAAAAAAAAAAAAAAAAAAAAAAAAAAAAAAAAAAAAAAAAAAAAAAAAAAAAAAAAAAAAAAAAAAAAAAAAAAAAAAAAAAAAAAAAAAAAAAAAAAAAAAAAAAAAAAAAAAAAAAAAAAAAAAAAAAAAAAAAAAAAAAAAAAAAAAAAAAAAAAAAAAAAAAAAAAAAAAAAAAAAAAAACAAAAAAAAAAIAAAAAAAAAAgAAAAAAAAACAAAAAAAAAAIAAAAAAAAAAgAAAAAAAAACAAAAAAAAAAIAAAAAAAAAAgAAAAAAAAACAAAAAAAAAAIAAAAAAAAAAgCDro+NbuyPABOp0CC63OcA=",
          "dtype": "f8"
         }
        },
        {
         "mode": "lines",
         "name": "departure_time_Early_Morning",
         "type": "scatter",
         "x": {
          "bdata": "U2Z8oiRm1EDNDIVrNeTSQAHTEs/LftFA3s4GMMwz0EC+sbqkhQLOQCQaYtHBystA/1gAs/O8yUAR5ipwAdbHQCbUhtoLE8ZAvOvSGGpxxEC4bfmipe7CQFaNGYp2iMFA517rBsA8wECzZ5aSGhO+QLhvNwgd2rtAeH0SYizLuUBZHBoQLeO3QAgju00+H7ZAa4CBybV8tEDHBPKeG/myQPnahZwmkrFA4FYn0LhFsEDMYPSpuCOuQLiuN7uA6atAfa/H7GzZqUCipAH3X/CnQFa0OX53K6ZARRb5tweIpEDpqJ5ilwOjQNZHSwncm6FAPmx2jrZOoEAVnOTvXzSeQNoOE+/s+JtAgnN3V7XnmUBD3uYomv2XQGrUu2+3N5ZA7IWs51+TlEDw8zDxGA6TQE8BX9OWpZFAG9eVRLlXkECv5HlpEEWOQOxefKhhCIxAJ7R7pgX2iUBFYdGp2wqIQFve/CX+Q4ZAvo8QXL6ehEBuQ9xNoBiDQBrXt/1Wr4FADlNE9cBggEBS08kbylV+QGwGKezeF3xAecMw3l0EekDH/8p9JBh4QBY9uqRLUHZAC92bGCOqdECludV7LSNzQD88ToscuXFA+R9Co81pcEDZz+wLjWZuQOMG0b5kJ2xAVFz1Ar4SakAix9+odCVoQIhss++fXGZADAHHII61ZECSPlR+wC1jQPdHHH/nwmFAzwJRUd9yYEAUE/4+WXdeQDv9LiXzNlxAzaMqGSYhWkASAR4vzDJYQNb6qQr7aFZA5HkMeP/AVEDpgJBYWThTQIO2Hdy3zFFAj0Y0AvZ7UEDppxu6LohOQGojACSKRkxAbyo0JZYvSkAgNZYUK0BIQHCJYflcdUZA1bHoIXfMREAN98QN+EJDQDXqT6WN1kFA9bywuBGFQEAkbWaCDZk+QKFRBMApVjxAhO13Kw4+OkCrKVtdkU04QCbOn7/FgTZAIwDaIfXXNED53y2hnE0zQDXssd1o4DFAc7+MdzKOMEAMFwKd9akuQPj//f3RZSxAlFheMI5MKkBc5YEN/1ooQH2ULGE1jiZAUapge3njJEA=",
          "dtype": "f8"
         },
         "y": {
          "bdata": "AAAAAAAAAAAAAAAAAAAAAAAAAAAAAAAAAAAAAAAAAAAAAAAAAAAAAAAAAAAAAAAAAAAAAAAAAAAAAAAAAAAAAAAAAAAAAAAAAAAAAAAAAAAAAAAAAAAAAAAAAAAAAAAAAAAAAAAAAAAAAAAAAAAAAAAAAAAAAAAAAAAAAAAAAAAAAAAAAAAAAAAAAAAAAAAAAAAAAAAAAAAAAAAAAAAAAAAAAAAAAAAAAAAAAAAAAAAAAAAAAAAAAAAAAAAAAAAAAAAAAAAAAAAAAAAAAAAAAAAAAAAAAAAAAAAAAAAAAAAAAAAAAAAAAAAAAAAAAAAAAAAAAAAAAAAAAAAAAAAAAAAAAAAAAAAAAAAAAAAAAAAAAAAAAAAAAAAAAAAAAAAAAAAAAAAAAAAAAAAAAAAAAAAAAAAAAAAAAAAAAAAAAAAAAAAAAAAAAAAAAAAAAAAAAAAAAAAAAAAAAAAAAAAAAAAAAAAAAAAAAAAAAAAAAAAAAAAAAAAAAAAAAAAAAAAAAAAAAAAAAAAAAAAAAAAAAAAAAAAAAAAAAAAAAAAAAAAAAAAAAAAAAAAAAAAAAAAAAAAAAAAAAAAAAAAAAAAAAAAAAAAAAAAAAAAAAAAAAAAAAAAAAAAAAAAAAAAAAAAAAAAAAAAAAAAAAAAAAAAAAAAAAAAAAAAAAAAAAAAAAAAAAAAAAAAAAAAAAAAAAAAAAAAAAAAAAAAAAAAAAAAAAAAAAAAAAAAAAAAAAAAAAAAAAAAAAAAAAAAAAAAAAAAAAAAAAAAAAAAAAAAAAAAAAAAAAAAAAAAAAAAAAAAAAAAAAAAAAAAAAAAAAAAAAAAAAAAAAAAAAABggzynRbUgQDLGUdE2szxA2xd6EmW8R0CYjJXQCzNQQNnu+Cw5i1VAwsDnesuFXEB0Op6piyhhQDi2xa108GJAnIFmbYt1ZUC8FzbO0ZRnQEyYpOS1q2lAiMxR99e+a0CMnFn5xy5vQE8SuGD3AnJAEgYofVc7dECGvoa/+kt2QOoFHPT7NXhAPnPRDLL4eUC3QcnCUZt7QMSQYUJ3In1Ab2XQEHIcfkA=",
          "dtype": "f8"
         }
        },
        {
         "mode": "lines",
         "name": "departure_time_Evening",
         "type": "scatter",
         "x": {
          "bdata": "U2Z8oiRm1EDNDIVrNeTSQAHTEs/LftFA3s4GMMwz0EC+sbqkhQLOQCQaYtHBystA/1gAs/O8yUAR5ipwAdbHQCbUhtoLE8ZAvOvSGGpxxEC4bfmipe7CQFaNGYp2iMFA517rBsA8wECzZ5aSGhO+QLhvNwgd2rtAeH0SYizLuUBZHBoQLeO3QAgju00+H7ZAa4CBybV8tEDHBPKeG/myQPnahZwmkrFA4FYn0LhFsEDMYPSpuCOuQLiuN7uA6atAfa/H7GzZqUCipAH3X/CnQFa0OX53K6ZARRb5tweIpEDpqJ5ilwOjQNZHSwncm6FAPmx2jrZOoEAVnOTvXzSeQNoOE+/s+JtAgnN3V7XnmUBD3uYomv2XQGrUu2+3N5ZA7IWs51+TlEDw8zDxGA6TQE8BX9OWpZFAG9eVRLlXkECv5HlpEEWOQOxefKhhCIxAJ7R7pgX2iUBFYdGp2wqIQFve/CX+Q4ZAvo8QXL6ehEBuQ9xNoBiDQBrXt/1Wr4FADlNE9cBggEBS08kbylV+QGwGKezeF3xAecMw3l0EekDH/8p9JBh4QBY9uqRLUHZAC92bGCOqdECludV7LSNzQD88ToscuXFA+R9Co81pcEDZz+wLjWZuQOMG0b5kJ2xAVFz1Ar4SakAix9+odCVoQIhss++fXGZADAHHII61ZECSPlR+wC1jQPdHHH/nwmFAzwJRUd9yYEAUE/4+WXdeQDv9LiXzNlxAzaMqGSYhWkASAR4vzDJYQNb6qQr7aFZA5HkMeP/AVEDpgJBYWThTQIO2Hdy3zFFAj0Y0AvZ7UEDppxu6LohOQGojACSKRkxAbyo0JZYvSkAgNZYUK0BIQHCJYflcdUZA1bHoIXfMREAN98QN+EJDQDXqT6WN1kFA9bywuBGFQEAkbWaCDZk+QKFRBMApVjxAhO13Kw4+OkCrKVtdkU04QCbOn7/FgTZAIwDaIfXXNED53y2hnE0zQDXssd1o4DFAc7+MdzKOMEAMFwKd9akuQPj//f3RZSxAlFheMI5MKkBc5YEN/1ooQH2ULGE1jiZAUapge3njJEA=",
          "dtype": "f8"
         },
         "y": {
          "bdata": "AAAAAAAAAAAAAAAAAAAAAAAAAAAAAAAAAAAAAAAAAAAAAAAAAAAAAAAAAAAAAAAAAAAAAAAAAAAAAAAAAAAAAAAAAAAAAAAAAAAAAAAAAAAAAAAAAAAAAAAAAAAAAAAAAAAAAAAAAAAAAAAAAAAAAAAAAAAAAAAAAAAAAAAAAAAAAAAAAAAAAAAAAAAAAAAAAAAAAAAAAAAAAAAAAAAAAAAAAAAAAAAAAAAAAAAAAAAAAAAAAAAAAAAAAAAAAAAAAAAAAAAAAAAAAAAAAAAAAAAAAAAAAAAAAAAAAAAAAAAAAAAAAAAAAAAAAAAAAAAAAAAAAAAAAAAAAAAAAAAAAAAAAAAAAAAAAAAAAAAAAAAAAAAAAAAAAAAAAAAAAAAAAAAAAAAAAAAAAAAAAAAAAAAAAAAAAAAAAAAAAAAAAAAAAAAAAAAAAAAAAAAAAAAAAAAAAAAAAAAAAAAAAAAAAAAAAAAAAAAAAAAAAAAAAAAAAAAAAAAAAAAAAAAAAAAAAAAAAAAAAAAAAAAAAAAAAAAAAAAAAAAAAAAAAAAAAAAAAAAAAAAAAAAAAAAAAAAAAAAAAAAAAAAAAAAAAAAAAAAAAAAAAAAAAAAAAAAAAAAAAAAAAAAAAAAAAAAAAAAAAAAAAAAAAAAAAAAAAAAAAAAAAAAAAAAAAAAAAAAAAAAAAAAAAAAAAAAAAAAAAAAAAAAAAAAAAAAAAAAAAAAAAAAAAAAAAAAAAAAAAAAAAAAAAAAAAAAAAAAAAAAAAAAAAAAAAAAAAAAAAAAAAAAAAAAAAAAAAAAAAAAAAAAAAAAAAAAAAAAAAAAAAAAAAAAAAAAAAAAAAAAAAAAAAAAAAAAAAAAAAAAAAAAAAAAAAAAAAAAAAAAAAAFpq1WXWCtAThqcr1BtRkBf92R4Jc1RQK2JvwaIi1ZAUTJ3PGrNXEDTURJHUR1hQDeuuTNzsmNA9TcgT6r3ZUBAx7z/SxBpQCEa7GUrqW1AX8FBAAnxcEDFDq/xWudyQOkIVOXmuHRAWFMJOJRldkAFHC2+8fN3QN5yaewAaHlAPBwMq0xoekA=",
          "dtype": "f8"
         }
        },
        {
         "mode": "lines",
         "name": "departure_time_Late_Night",
         "type": "scatter",
         "x": {
          "bdata": "U2Z8oiRm1EDNDIVrNeTSQAHTEs/LftFA3s4GMMwz0EC+sbqkhQLOQCQaYtHBystA/1gAs/O8yUAR5ipwAdbHQCbUhtoLE8ZAvOvSGGpxxEC4bfmipe7CQFaNGYp2iMFA517rBsA8wECzZ5aSGhO+QLhvNwgd2rtAeH0SYizLuUBZHBoQLeO3QAgju00+H7ZAa4CBybV8tEDHBPKeG/myQPnahZwmkrFA4FYn0LhFsEDMYPSpuCOuQLiuN7uA6atAfa/H7GzZqUCipAH3X/CnQFa0OX53K6ZARRb5tweIpEDpqJ5ilwOjQNZHSwncm6FAPmx2jrZOoEAVnOTvXzSeQNoOE+/s+JtAgnN3V7XnmUBD3uYomv2XQGrUu2+3N5ZA7IWs51+TlEDw8zDxGA6TQE8BX9OWpZFAG9eVRLlXkECv5HlpEEWOQOxefKhhCIxAJ7R7pgX2iUBFYdGp2wqIQFve/CX+Q4ZAvo8QXL6ehEBuQ9xNoBiDQBrXt/1Wr4FADlNE9cBggEBS08kbylV+QGwGKezeF3xAecMw3l0EekDH/8p9JBh4QBY9uqRLUHZAC92bGCOqdECludV7LSNzQD88ToscuXFA+R9Co81pcEDZz+wLjWZuQOMG0b5kJ2xAVFz1Ar4SakAix9+odCVoQIhss++fXGZADAHHII61ZECSPlR+wC1jQPdHHH/nwmFAzwJRUd9yYEAUE/4+WXdeQDv9LiXzNlxAzaMqGSYhWkASAR4vzDJYQNb6qQr7aFZA5HkMeP/AVEDpgJBYWThTQIO2Hdy3zFFAj0Y0AvZ7UEDppxu6LohOQGojACSKRkxAbyo0JZYvSkAgNZYUK0BIQHCJYflcdUZA1bHoIXfMREAN98QN+EJDQDXqT6WN1kFA9bywuBGFQEAkbWaCDZk+QKFRBMApVjxAhO13Kw4+OkCrKVtdkU04QCbOn7/FgTZAIwDaIfXXNED53y2hnE0zQDXssd1o4DFAc7+MdzKOMEAMFwKd9akuQPj//f3RZSxAlFheMI5MKkBc5YEN/1ooQH2ULGE1jiZAUapge3njJEA=",
          "dtype": "f8"
         },
         "y": {
          "bdata": "AAAAAAAAAAAAAAAAAAAAAAAAAAAAAAAAAAAAAAAAAAAAAAAAAAAAAAAAAAAAAAAAAAAAAAAAAAAAAAAAAAAAAAAAAAAAAACAAAAAAAAAAIAAAAAAAAAAgAAAAAAAAACAAAAAAAAAAIAAAAAAAAAAgAAAAAAAAACAAAAAAAAAAIAAAAAAAAAAgAAAAAAAAACAAAAAAAAAAIAAAAAAAAAAgAAAAAAAAACAAAAAAAAAAIAAAAAAAAAAgAAAAAAAAACAAAAAAAAAAIAAAAAAAAAAgAAAAAAAAACAAAAAAAAAAIAAAAAAAAAAgAAAAAAAAACAAAAAAAAAAIAAAAAAAAAAgAAAAAAAAACAAAAAAAAAAIAAAAAAAAAAgAAAAAAAAACAAAAAAAAAAIAAAAAAAAAAgAAAAAAAAACAAAAAAAAAAIAAAAAAAAAAgAAAAAAAAACAAAAAAAAAAIAAAAAAAAAAgAAAAAAAAACAAAAAAAAAAIAAAAAAAAAAgAAAAAAAAACAAAAAAAAAAIAAAAAAAAAAgAAAAAAAAACAAAAAAAAAAAAAAAAAAAAAAAAAAAAAAAAAAAAAAAAAAAAAAAAAAAAAAAAAAAAAAAAAAAAAAAAAAAAAAAAAAAAAAAAAAAAAAAAAAAAAAAAAAAAAAAAAAAAAAAAAAAAAAAAAAAAAAAAAAAAAAAAAAAAAAAAAAAAAAAAAAAAAAAAAAAAAAAAAAAAAAAAAAAAAAAAAAAAAAAAAAAAAAAAAAAAAAAAAAAAAAAAAAAAAAAAAAAAAAAAAAAAAAAAAAAAAAAAAAAAAAAAAAAAAAAAAAAAAAAAAAAAAAAAAAAAAAAAAAAAAAAAAAAAAAAAAAAAAAAAAAAAAAAAAAAAAAAAAAAAAAAAAAAAAAAAAAAAAAAAAAAAAAAAAAAAAAAAAAAAAAAAAAAAAAAAAAAAAAAAAAAAAAAAAAAAAAAAAAAAAAAAAAAAAAAAAAAAAAAAAAAAAAAAAAAAAAAAAAAAAAAAAAAAAAAAAAAAAAAAAAAAAAAAAAAAAAAAAAAAAAAAAAAAAAAAAAAAAAAAAAAA=",
          "dtype": "f8"
         }
        },
        {
         "mode": "lines",
         "name": "departure_time_Morning",
         "type": "scatter",
         "x": {
          "bdata": "U2Z8oiRm1EDNDIVrNeTSQAHTEs/LftFA3s4GMMwz0EC+sbqkhQLOQCQaYtHBystA/1gAs/O8yUAR5ipwAdbHQCbUhtoLE8ZAvOvSGGpxxEC4bfmipe7CQFaNGYp2iMFA517rBsA8wECzZ5aSGhO+QLhvNwgd2rtAeH0SYizLuUBZHBoQLeO3QAgju00+H7ZAa4CBybV8tEDHBPKeG/myQPnahZwmkrFA4FYn0LhFsEDMYPSpuCOuQLiuN7uA6atAfa/H7GzZqUCipAH3X/CnQFa0OX53K6ZARRb5tweIpEDpqJ5ilwOjQNZHSwncm6FAPmx2jrZOoEAVnOTvXzSeQNoOE+/s+JtAgnN3V7XnmUBD3uYomv2XQGrUu2+3N5ZA7IWs51+TlEDw8zDxGA6TQE8BX9OWpZFAG9eVRLlXkECv5HlpEEWOQOxefKhhCIxAJ7R7pgX2iUBFYdGp2wqIQFve/CX+Q4ZAvo8QXL6ehEBuQ9xNoBiDQBrXt/1Wr4FADlNE9cBggEBS08kbylV+QGwGKezeF3xAecMw3l0EekDH/8p9JBh4QBY9uqRLUHZAC92bGCOqdECludV7LSNzQD88ToscuXFA+R9Co81pcEDZz+wLjWZuQOMG0b5kJ2xAVFz1Ar4SakAix9+odCVoQIhss++fXGZADAHHII61ZECSPlR+wC1jQPdHHH/nwmFAzwJRUd9yYEAUE/4+WXdeQDv9LiXzNlxAzaMqGSYhWkASAR4vzDJYQNb6qQr7aFZA5HkMeP/AVEDpgJBYWThTQIO2Hdy3zFFAj0Y0AvZ7UEDppxu6LohOQGojACSKRkxAbyo0JZYvSkAgNZYUK0BIQHCJYflcdUZA1bHoIXfMREAN98QN+EJDQDXqT6WN1kFA9bywuBGFQEAkbWaCDZk+QKFRBMApVjxAhO13Kw4+OkCrKVtdkU04QCbOn7/FgTZAIwDaIfXXNED53y2hnE0zQDXssd1o4DFAc7+MdzKOMEAMFwKd9akuQPj//f3RZSxAlFheMI5MKkBc5YEN/1ooQH2ULGE1jiZAUapge3njJEA=",
          "dtype": "f8"
         },
         "y": {
          "bdata": "AAAAAAAAAAAAAAAAAAAAAAAAAAAAAAAAAAAAAAAAAAAAAAAAAAAAAAAAAAAAAAAAAAAAAAAAAAAAAAAAAAAAAAAAAAAAAAAAAAAAAAAAAAAAAAAAAAAAAAAAAAAAAAAAAAAAAAAAAAAAAAAAAAAAAAAAAAAAAAAAAAAAAAAAAAAAAAAAAAAAAAAAAAAAAAAAAAAAAAAAAAAAAAAAAAAAAAAAAAAAAAAAAAAAAAAAAAAAAAAAAAAAAAAAAAAAAAAAAAAAAAAAAAAAAAAAAAAAAAAAAAAAAAAAAAAAAAAAAAAAAAAAAAAAAAAAAAAAAAAAAAAAAAAAAAAAAAAAAAAAAAAAAAAAAAAAAAAAAAAAAAAAAAAAAAAAAAAAAAAAAAAAAAAAAAAAAAAAAAAAAAAAAAAAAAAAAAAAAAAAAAAAAAAAAAAAAAAAAAAAAAAAAAAAAAAAAAAAAAAAAAAAAAAAAAAAAAAAAAAAAAAAAAAAAAAAAAAAAAAAAAAAAAAAAAAAAAAAAAAAAAAAAAAAAAAAAAAAAAAAAAAAAAAAAAAAAAAAAAAAAAAAAAAAAAAAAAAAAAAAAAAAAAAAAAAAAAAAAAAAAAAAAAAAAAAAAAAAAAAAAAAAAAAAAAAAAAAAAAAAAAAAAAAAAAAAAAAAAAAAAAAAAAAAAAAAAAAAAAAAAAAAAAAAAAAAAAAAAAAAAAAAAAAAAAAAAAAAAAAAAAAAAAAAAAAAAAAAAAAAAAAAAAAAAAAAAAAAAI23iVZ2OCFASHR/tJnDP0Ce3qKJEN1JQDIX70wNblFAGt1OQRmXVUDAS5vuvnJZQPzyyD4aBF1Adf7HFQIfYEAup1Zh9tJhQPtohlfl4WNA4gTFb6bIZUBm/c6WQ4pnQOEgBNVx2GlAP9eZQSvvbED7qf4lyYlvQJv07so3n3BAiG0qj1O+cUCryzf80bFyQLHKv2IVpHNAmgI1kA+SdEBBgBazJRx2QDHW/f5SVnhAkdJoZqthekC33WAmRUh8QIt9jKVHC35Aq907H1Sqf0CiY81UupWAQEprEphjR4FALhD2S7q6gUA=",
          "dtype": "f8"
         }
        },
        {
         "mode": "lines",
         "name": "departure_time_Night",
         "type": "scatter",
         "x": {
          "bdata": "U2Z8oiRm1EDNDIVrNeTSQAHTEs/LftFA3s4GMMwz0EC+sbqkhQLOQCQaYtHBystA/1gAs/O8yUAR5ipwAdbHQCbUhtoLE8ZAvOvSGGpxxEC4bfmipe7CQFaNGYp2iMFA517rBsA8wECzZ5aSGhO+QLhvNwgd2rtAeH0SYizLuUBZHBoQLeO3QAgju00+H7ZAa4CBybV8tEDHBPKeG/myQPnahZwmkrFA4FYn0LhFsEDMYPSpuCOuQLiuN7uA6atAfa/H7GzZqUCipAH3X/CnQFa0OX53K6ZARRb5tweIpEDpqJ5ilwOjQNZHSwncm6FAPmx2jrZOoEAVnOTvXzSeQNoOE+/s+JtAgnN3V7XnmUBD3uYomv2XQGrUu2+3N5ZA7IWs51+TlEDw8zDxGA6TQE8BX9OWpZFAG9eVRLlXkECv5HlpEEWOQOxefKhhCIxAJ7R7pgX2iUBFYdGp2wqIQFve/CX+Q4ZAvo8QXL6ehEBuQ9xNoBiDQBrXt/1Wr4FADlNE9cBggEBS08kbylV+QGwGKezeF3xAecMw3l0EekDH/8p9JBh4QBY9uqRLUHZAC92bGCOqdECludV7LSNzQD88ToscuXFA+R9Co81pcEDZz+wLjWZuQOMG0b5kJ2xAVFz1Ar4SakAix9+odCVoQIhss++fXGZADAHHII61ZECSPlR+wC1jQPdHHH/nwmFAzwJRUd9yYEAUE/4+WXdeQDv9LiXzNlxAzaMqGSYhWkASAR4vzDJYQNb6qQr7aFZA5HkMeP/AVEDpgJBYWThTQIO2Hdy3zFFAj0Y0AvZ7UEDppxu6LohOQGojACSKRkxAbyo0JZYvSkAgNZYUK0BIQHCJYflcdUZA1bHoIXfMREAN98QN+EJDQDXqT6WN1kFA9bywuBGFQEAkbWaCDZk+QKFRBMApVjxAhO13Kw4+OkCrKVtdkU04QCbOn7/FgTZAIwDaIfXXNED53y2hnE0zQDXssd1o4DFAc7+MdzKOMEAMFwKd9akuQPj//f3RZSxAlFheMI5MKkBc5YEN/1ooQH2ULGE1jiZAUapge3njJEA=",
          "dtype": "f8"
         },
         "y": {
          "bdata": "AAAAAAAAAAAAAAAAAAAAAAAAAAAAAAAAAAAAAAAAAAAAAAAAAAAAAAAAAAAAAAAAAAAAAAAAAAAAAAAAAAAAAAAAAAAAAAAAAAAAAAAAAAAAAAAAAAAAAAAAAAAAAAAAAAAAAAAAAAAAAAAAAAAAAAAAAAAAAAAAAAAAAAAAAAAAAAAAAAAAAAAAAAAAAAAAAAAAAAAAAAAAAAAAAAAAAAAAAAAAAAAAAAAAAAAAAAAAAAAAAAAAAAAAAAAAAAAAAAAAAAAAAAAAAAAAAAAAAAAAAAAAAAAAAAAAAAAAAAAAAAAAAAAAAAAAAAAAAAAAAAAAAAAAAAAAAAAAAAAAAAAAAAAAAAAAAAAAAAAAAAAAAAAAAAAAAAAAAAAAAAAAAAAAAAAAAAAAAAAAAAAAAAAAAAAAAAAAAAAAAAAAAAAAAAAAAAAAAAAAAAAAAAAAAAAAAAAAAAAAAAAAAAAAAAAAAAAAAAAAAAAAAAAAAAAAAAAAAAAAAAAAAAAAAAAAAAAAAAAAAAAAAAAAAAAAAAAAAAAAAAAAAAAAAAAAAAAAAAAAAAAAAAAAAAAAAAAAAAAAAAAAAAAAAAAAAAAAAAAAAAAAAACAAAAAAAAAAIAAAAAAAAAAgAAAAAAAAACAAAAAAAAAAIAAAAAAAAAAgAAAAAAAAACAAAAAAAAAAIAAAAAAAAAAgAAAAAAAAACAAAAAAAAAAIAAAAAAAAAAgAAAAAAAAACAAAAAAAAAAIAAAAAAAAAAgAAAAAAAAACAAAAAAAAAAIAAAAAAAAAAgAAAAAAAAACAAAAAAAAAAIAAAAAAAAAAgAAAAAAAAACAAAAAAAAAAIAAAAAAAAAAgAAAAAAAAACAAAAAAAAAAIAAAAAAAAAAgAAAAAAAAAAAAAAAAAAAAAAAAAAAAAAAAAAAAAAAAAAAAAAAAAAAAAAAAAAAAAAAAAAAAAAAAAAAAAAAAAAAAABcbZaA8NEyQD4q/IH0qk9Aq3Um9kAPWkB/qh07D8hhQA/1MOFqL2ZAYCkow6Y9akAYziGP5QBuQJp/biL0wXBAiubzgVX3cUA=",
          "dtype": "f8"
         }
        },
        {
         "mode": "lines",
         "name": "stops_two_or_more",
         "type": "scatter",
         "x": {
          "bdata": "U2Z8oiRm1EDNDIVrNeTSQAHTEs/LftFA3s4GMMwz0EC+sbqkhQLOQCQaYtHBystA/1gAs/O8yUAR5ipwAdbHQCbUhtoLE8ZAvOvSGGpxxEC4bfmipe7CQFaNGYp2iMFA517rBsA8wECzZ5aSGhO+QLhvNwgd2rtAeH0SYizLuUBZHBoQLeO3QAgju00+H7ZAa4CBybV8tEDHBPKeG/myQPnahZwmkrFA4FYn0LhFsEDMYPSpuCOuQLiuN7uA6atAfa/H7GzZqUCipAH3X/CnQFa0OX53K6ZARRb5tweIpEDpqJ5ilwOjQNZHSwncm6FAPmx2jrZOoEAVnOTvXzSeQNoOE+/s+JtAgnN3V7XnmUBD3uYomv2XQGrUu2+3N5ZA7IWs51+TlEDw8zDxGA6TQE8BX9OWpZFAG9eVRLlXkECv5HlpEEWOQOxefKhhCIxAJ7R7pgX2iUBFYdGp2wqIQFve/CX+Q4ZAvo8QXL6ehEBuQ9xNoBiDQBrXt/1Wr4FADlNE9cBggEBS08kbylV+QGwGKezeF3xAecMw3l0EekDH/8p9JBh4QBY9uqRLUHZAC92bGCOqdECludV7LSNzQD88ToscuXFA+R9Co81pcEDZz+wLjWZuQOMG0b5kJ2xAVFz1Ar4SakAix9+odCVoQIhss++fXGZADAHHII61ZECSPlR+wC1jQPdHHH/nwmFAzwJRUd9yYEAUE/4+WXdeQDv9LiXzNlxAzaMqGSYhWkASAR4vzDJYQNb6qQr7aFZA5HkMeP/AVEDpgJBYWThTQIO2Hdy3zFFAj0Y0AvZ7UEDppxu6LohOQGojACSKRkxAbyo0JZYvSkAgNZYUK0BIQHCJYflcdUZA1bHoIXfMREAN98QN+EJDQDXqT6WN1kFA9bywuBGFQEAkbWaCDZk+QKFRBMApVjxAhO13Kw4+OkCrKVtdkU04QCbOn7/FgTZAIwDaIfXXNED53y2hnE0zQDXssd1o4DFAc7+MdzKOMEAMFwKd9akuQPj//f3RZSxAlFheMI5MKkBc5YEN/1ooQH2ULGE1jiZAUapge3njJEA=",
          "dtype": "f8"
         },
         "y": {
          "bdata": "AAAAAAAAAAAAAAAAAAAAAAAAAAAAAAAAAAAAAAAAAAAAAAAAAAAAAAAAAAAAAAAAAAAAAAAAAAAAAAAAAAAAAAAAAAAAAAAAAAAAAAAAAAAAAAAAAAAAAAAAAAAAAAAAAAAAAAAAAAAAAAAAAAAAAAAAAAAAAAAAAAAAAAAAAIAAAAAAAAAAgAAAAAAAAACAAAAAAAAAAIAAAAAAAAAAgAAAAAAAAACAAAAAAAAAAIAAAAAAAAAAAAAAAAAAAAAAAAAAAAAAAAAAAAAAAAAAAAAAAAAAAAAAAAAAAAAAAAAAAAAAAAAAAAAAAAAAAAAAAAAAAAAAAAAAAAAAAAAAAAAAAAAAAAAAAAAAAAAAAAAAAAAAAAAAAAAAAAAAAAAAAAAAAAAAAAAAAAAAAAAAAAAAAAAAAAAAAAAAAAAAAAAAAAAAAAAAAAAAAAAAAAAAAAAAAAAAAAAAAAAAAAAAAAAAAAAAAAAAAAAAAAAAAAAAAAAAAAAAAAAAAAAAAAAAAAAAAAAAAAAAAAAAAAAAAAAAAAAAAAAAAAAAAAAAAAAAAAAAAAAAAAAAAAAAAAAAAAAAAAAAAAAAAAAAAAAAAAAAAAAAAAAAAAAAAAAAAAAAAAAAAAAAAAAAAAAAAAAAAAAAAAAAAAAAAAAAAAAAAAAAAAAAAAAAAAAAAAAAAAAAAAAAAAAAAAAAAAAAAAAAAAAAAAAAAAAAAAAAAAAAAAAAAAAAAAAAAAAAAAAAAAAAAAAAAAAAAAAAAAAAAAAAAAAAAAAAAABcxb4L5WBZQFlxKmQC4WxAW4srMO3wdUAqjltwNuJ8QHc8L3CsqIFAmS/rHriihEB5KToYJ16HQBcipYYE3YlA4yRnQQgtjEC21BUeV1GOQH7ZMnp3K5BAeJGvD3EbkUBnQ8PWf/iRQB03rQtC1ZJATupcoGDjk0DytdXFZcqUQJP71YVsopVAw18dwdtnlkButxiMZCKXQNLn7MTc2JdALFt8KoiBmEDJ2824yx2ZQCx5nzOGrplA3h1HcXg0mkACOMcFjLCaQFGC9eF4JJtAyNGJ51mGm0A=",
          "dtype": "f8"
         }
        },
        {
         "mode": "lines",
         "name": "stops_zero",
         "type": "scatter",
         "x": {
          "bdata": "U2Z8oiRm1EDNDIVrNeTSQAHTEs/LftFA3s4GMMwz0EC+sbqkhQLOQCQaYtHBystA/1gAs/O8yUAR5ipwAdbHQCbUhtoLE8ZAvOvSGGpxxEC4bfmipe7CQFaNGYp2iMFA517rBsA8wECzZ5aSGhO+QLhvNwgd2rtAeH0SYizLuUBZHBoQLeO3QAgju00+H7ZAa4CBybV8tEDHBPKeG/myQPnahZwmkrFA4FYn0LhFsEDMYPSpuCOuQLiuN7uA6atAfa/H7GzZqUCipAH3X/CnQFa0OX53K6ZARRb5tweIpEDpqJ5ilwOjQNZHSwncm6FAPmx2jrZOoEAVnOTvXzSeQNoOE+/s+JtAgnN3V7XnmUBD3uYomv2XQGrUu2+3N5ZA7IWs51+TlEDw8zDxGA6TQE8BX9OWpZFAG9eVRLlXkECv5HlpEEWOQOxefKhhCIxAJ7R7pgX2iUBFYdGp2wqIQFve/CX+Q4ZAvo8QXL6ehEBuQ9xNoBiDQBrXt/1Wr4FADlNE9cBggEBS08kbylV+QGwGKezeF3xAecMw3l0EekDH/8p9JBh4QBY9uqRLUHZAC92bGCOqdECludV7LSNzQD88ToscuXFA+R9Co81pcEDZz+wLjWZuQOMG0b5kJ2xAVFz1Ar4SakAix9+odCVoQIhss++fXGZADAHHII61ZECSPlR+wC1jQPdHHH/nwmFAzwJRUd9yYEAUE/4+WXdeQDv9LiXzNlxAzaMqGSYhWkASAR4vzDJYQNb6qQr7aFZA5HkMeP/AVEDpgJBYWThTQIO2Hdy3zFFAj0Y0AvZ7UEDppxu6LohOQGojACSKRkxAbyo0JZYvSkAgNZYUK0BIQHCJYflcdUZA1bHoIXfMREAN98QN+EJDQDXqT6WN1kFA9bywuBGFQEAkbWaCDZk+QKFRBMApVjxAhO13Kw4+OkCrKVtdkU04QCbOn7/FgTZAIwDaIfXXNED53y2hnE0zQDXssd1o4DFAc7+MdzKOMEAMFwKd9akuQPj//f3RZSxAlFheMI5MKkBc5YEN/1ooQH2ULGE1jiZAUapge3njJEA=",
          "dtype": "f8"
         },
         "y": {
          "bdata": "AAAAAAAAAAAAAAAAAAAAAAAAAAAAAAAAAAAAAAAAAAAAAAAAAAAAAAAAAAAAAAAAAAAAAAAAAAAAAAAAAAAAAAAAAAAAAACAAAAAAAAAAIAAAAAAAAAAgAAAAAAAAACAAAAAAAAAAIAAAAAAAAAAgAAAAAAAAACAAAAAAAAAAIAAAAAAAAAAgAAAAAAAAACAAAAAAAAAAIAAAAAAAAAAgAAAAAAAAACAAAAAAAAAAIAAAAAAAAAAgAAAAAAAAACAAAAAAAAAAIAAAAAAAAAAgAAAAAAAAACAAAAAAAAAAIAAAAAAAAAAgAAAAAAAAACAAAAAAAAAAIAAAAAAAAAAgAAAAAAAAACAAAAAAAAAAIAAAAAAAAAAgAAAAAAAAACAAAAAAAAAAIAAAAAAAAAAgAAAAAAAAACAAAAAAAAAAIAAAAAAAAAAgAAAAAAAAACAAAAAAAAAAIAAAAAAAAAAgAAAAAAAAACAAAAAAAAAAICVFkTnjKJ3wEkbTzjyUY3A/A3i4irElsBh4FvZAUaewLYm4oPonKLARkaSxp3UpcA6yRjz3c+owBGiKPi4kqvAFSkw31YhrsBzJGNmlT+wwFnfJVXgU7HA5FKRji1RssCKHmHDzzuzwAeSxLUbFbTA4MkQxCXetMB3oFn1gpi1wPTtBMVSQrbAv//6i4vetsAo2aCY1We3wHxJVEfn5rfAkR8TtChcuMCF2Dk6FsW4wI4e8V/WI7nALFBbAq55ucAKAziCN8S5wCH7oltzCLrA7+yNdIpFusDRGa2JEXy6wAHwzcS9rbrAuMnVlNHbusD/xSfiawa7wLiTFMLxLbvAPtpdcnVSu8DzD3IoY3O7wOkAy8j6kLvAonXQkHKsu8BQZgLn7cW7wCK36xNf3rvAySVQQVL2u8AAIess5Ay8wOxwiCLHKLzAVBCEVVtAvMDHl4eRdFe8wCIJBonZbbzAFVU+pGKCvMB3DYVdPZa8wC7tiSaIq7zAaZ5WI0O/vMDAJFuhiNG8wOxRzWt04rzARdd0iSDyvMC0sxAPpgC9wBWNeAn5Db3AA1IO+3UavcA=",
          "dtype": "f8"
         }
        },
        {
         "mode": "lines",
         "name": "arrival_time_Early_Morning",
         "type": "scatter",
         "x": {
          "bdata": "U2Z8oiRm1EDNDIVrNeTSQAHTEs/LftFA3s4GMMwz0EC+sbqkhQLOQCQaYtHBystA/1gAs/O8yUAR5ipwAdbHQCbUhtoLE8ZAvOvSGGpxxEC4bfmipe7CQFaNGYp2iMFA517rBsA8wECzZ5aSGhO+QLhvNwgd2rtAeH0SYizLuUBZHBoQLeO3QAgju00+H7ZAa4CBybV8tEDHBPKeG/myQPnahZwmkrFA4FYn0LhFsEDMYPSpuCOuQLiuN7uA6atAfa/H7GzZqUCipAH3X/CnQFa0OX53K6ZARRb5tweIpEDpqJ5ilwOjQNZHSwncm6FAPmx2jrZOoEAVnOTvXzSeQNoOE+/s+JtAgnN3V7XnmUBD3uYomv2XQGrUu2+3N5ZA7IWs51+TlEDw8zDxGA6TQE8BX9OWpZFAG9eVRLlXkECv5HlpEEWOQOxefKhhCIxAJ7R7pgX2iUBFYdGp2wqIQFve/CX+Q4ZAvo8QXL6ehEBuQ9xNoBiDQBrXt/1Wr4FADlNE9cBggEBS08kbylV+QGwGKezeF3xAecMw3l0EekDH/8p9JBh4QBY9uqRLUHZAC92bGCOqdECludV7LSNzQD88ToscuXFA+R9Co81pcEDZz+wLjWZuQOMG0b5kJ2xAVFz1Ar4SakAix9+odCVoQIhss++fXGZADAHHII61ZECSPlR+wC1jQPdHHH/nwmFAzwJRUd9yYEAUE/4+WXdeQDv9LiXzNlxAzaMqGSYhWkASAR4vzDJYQNb6qQr7aFZA5HkMeP/AVEDpgJBYWThTQIO2Hdy3zFFAj0Y0AvZ7UEDppxu6LohOQGojACSKRkxAbyo0JZYvSkAgNZYUK0BIQHCJYflcdUZA1bHoIXfMREAN98QN+EJDQDXqT6WN1kFA9bywuBGFQEAkbWaCDZk+QKFRBMApVjxAhO13Kw4+OkCrKVtdkU04QCbOn7/FgTZAIwDaIfXXNED53y2hnE0zQDXssd1o4DFAc7+MdzKOMEAMFwKd9akuQPj//f3RZSxAlFheMI5MKkBc5YEN/1ooQH2ULGE1jiZAUapge3njJEA=",
          "dtype": "f8"
         },
         "y": {
          "bdata": "AAAAAAAAAAAAAAAAAAAAAAAAAAAAAAAAAAAAAAAAAAAAAAAAAAAAAAAAAAAAAAAAAAAAAAAAAAAAAAAAAAAAAAAAAAAAAAAAAAAAAAAAAAAAAAAAAAAAAAAAAAAAAAAAAAAAAAAAAAAAAAAAAAAAAAAAAAAAAAAAAAAAAAAAAAAAAAAAAAAAAAAAAAAAAAAAAAAAAAAAAAAAAAAAAAAAgAAAAAAAAACAAAAAAAAAAIAAAAAAAAAAgAAAAAAAAACAAAAAAAAAAIAAAAAAAAAAgAAAAAAAAACAAAAAAAAAAIAAAAAAAAAAgAAAAAAAAACAAAAAAAAAAIAAAAAAAAAAgAAAAAAAAACAAAAAAAAAAIAAAAAAAAAAgAAAAAAAAACAAAAAAAAAAIAAAAAAAAAAgAAAAAAAAACAAAAAAAAAAIAAAAAAAAAAgAAAAAAAAACAAAAAAAAAAIAAAAAAAAAAgAAAAAAAAACAAAAAAAAAAIAAAAAAAAAAgAAAAAAAAACAAAAAAAAAAIAAAAAAAAAAgAAAAAAAAACAAAAAAAAAAIAAAAAAAAAAgAAAAAAAAACAAAAAAAAAAIAAAAAAAAAAgAAAAAAAAACAAAAAAAAAAIAAAAAAAAAAgAAAAAAAAACAAAAAAAAAAIAAAAAAAAAAgAAAAAAAAACAAAAAAAAAAIAAAAAAAAAAgAAAAAAAAACAAAAAAAAAAIAAAAAAAAAAgAAAAAAAAACAAAAAAAAAAIAAAAAAAAAAgAAAAAAAAACAAAAAAAAAAIAAAAAAAAAAgAAAAAAAAACAAAAAAAAAAIAAAAAAAAAAgAAAAAAAAACAAeex7TFjM8DSfa1vGeNXwEMPs4Ebr2TAhqkt5fXLbMBnkFWIoihywMGv+zSin3XAqQkszVTJeMCkH765RtN7wLBbwCFkJH/ADl+D+GThgMDzki+g8yGCwAU/XImXDIPA2807rAarg8C1v2Ezd9mDwB7zmFSwEYTASRGP16NJhMB+WiZDc3uEwLEGi0o0qYTARP9gd0fWhMCPzSvQyP6EwHxxuzt4GoXAZzsQfsuDhcA=",
          "dtype": "f8"
         }
        },
        {
         "mode": "lines",
         "name": "arrival_time_Evening",
         "type": "scatter",
         "x": {
          "bdata": "U2Z8oiRm1EDNDIVrNeTSQAHTEs/LftFA3s4GMMwz0EC+sbqkhQLOQCQaYtHBystA/1gAs/O8yUAR5ipwAdbHQCbUhtoLE8ZAvOvSGGpxxEC4bfmipe7CQFaNGYp2iMFA517rBsA8wECzZ5aSGhO+QLhvNwgd2rtAeH0SYizLuUBZHBoQLeO3QAgju00+H7ZAa4CBybV8tEDHBPKeG/myQPnahZwmkrFA4FYn0LhFsEDMYPSpuCOuQLiuN7uA6atAfa/H7GzZqUCipAH3X/CnQFa0OX53K6ZARRb5tweIpEDpqJ5ilwOjQNZHSwncm6FAPmx2jrZOoEAVnOTvXzSeQNoOE+/s+JtAgnN3V7XnmUBD3uYomv2XQGrUu2+3N5ZA7IWs51+TlEDw8zDxGA6TQE8BX9OWpZFAG9eVRLlXkECv5HlpEEWOQOxefKhhCIxAJ7R7pgX2iUBFYdGp2wqIQFve/CX+Q4ZAvo8QXL6ehEBuQ9xNoBiDQBrXt/1Wr4FADlNE9cBggEBS08kbylV+QGwGKezeF3xAecMw3l0EekDH/8p9JBh4QBY9uqRLUHZAC92bGCOqdECludV7LSNzQD88ToscuXFA+R9Co81pcEDZz+wLjWZuQOMG0b5kJ2xAVFz1Ar4SakAix9+odCVoQIhss++fXGZADAHHII61ZECSPlR+wC1jQPdHHH/nwmFAzwJRUd9yYEAUE/4+WXdeQDv9LiXzNlxAzaMqGSYhWkASAR4vzDJYQNb6qQr7aFZA5HkMeP/AVEDpgJBYWThTQIO2Hdy3zFFAj0Y0AvZ7UEDppxu6LohOQGojACSKRkxAbyo0JZYvSkAgNZYUK0BIQHCJYflcdUZA1bHoIXfMREAN98QN+EJDQDXqT6WN1kFA9bywuBGFQEAkbWaCDZk+QKFRBMApVjxAhO13Kw4+OkCrKVtdkU04QCbOn7/FgTZAIwDaIfXXNED53y2hnE0zQDXssd1o4DFAc7+MdzKOMEAMFwKd9akuQPj//f3RZSxAlFheMI5MKkBc5YEN/1ooQH2ULGE1jiZAUapge3njJEA=",
          "dtype": "f8"
         },
         "y": {
          "bdata": "AAAAAAAAAAAAAAAAAAAAAAAAAAAAAAAAAAAAAAAAAAAAAAAAAAAAAAAAAAAAAAAAAAAAAAAAAAAAAAAAAAAAAAAAAAAAAAAAAAAAAAAAAAAAAAAAAAAAAAAAAAAAAAAAAAAAAAAAAAAAAAAAAAAAAAAAAAAAAAAAAAAAAAAAAAAAAAAAAAAAAAAAAAAAAAAAAAAAAAAAAAAAAAAAAAAAAAAAAAAAAAAAAAAAAAAAAAAAAAAAAAAAAAAAAAAAAAAAAAAAAAAAAAAAAAAAAAAAAAAAAAAAAAAAAAAAAAAAAAAAAAAAAAAAAAAAAAAAAAAAAAAAAAAAAAAAAAAAAAAAAAAAAAAAAAAAAAAAAAAAAAAAAAAAAAAAAAAAAAAAAAAAAAAAAAAAAAAAAAAAAAAAAAAAAAAAAAAAAAAAAAAAAAAAAAAAAAAAAAAAAAAAAAAAAAAAAAAAAAAAAAAAAAAAAAAAAAAAAAAAAAAAAAAAAAAAAAAAAAAAAAAAAAAAAAAAAAAAAAAAAAAAAAAAAAAAAAAAAAAAAAAAAAAAAAAAAAAAAAAAAAAAAAAAAAAAAAAAAAAAAAAAAAAAAAAAAAAAAAAAAAAAAAAAAAAAAAAAAAAAAAAAAAAAAAAAAAAAAAAAAAAAAAAAAAAAAAAAAAAAAAAAAAAAAAAAuhuAO/2NzD/tz355to5LQDHJAUGx+lpAzWe+CX2YY0CTuxt1B0VpQKPmFTadHW5A95RJrnFYcUAEpceUR2lzQFE5umLsOnVArxco30fQdkDWwYArSDN4QEq4Z6vUd3lAKDgAIFyiekAq8uLCtLh7QEGgFgefuHxAuTJR0o+EfUAzXzsal9J9QH4ppmTCEX5AKSNFNKNKfkCBysU5nX5+QISV0H3Du35ARJZnr0D+fkB7YDrf5TJ/QJNr28/oCn9Aj4+/CXYrf0CikaM5xkB/QKUXATVyzX9A7avvXfNfgEAcu0YV1zyBQLLFz8NvFoJAG5In9DjcgkDC6m7tUpWDQPhh8TQbQYRAUtZwsZbdhECCmFi4qG+FQMFO06Vy/oVAfASIJWcyhkA=",
          "dtype": "f8"
         }
        },
        {
         "mode": "lines",
         "name": "arrival_time_Late_Night",
         "type": "scatter",
         "x": {
          "bdata": "U2Z8oiRm1EDNDIVrNeTSQAHTEs/LftFA3s4GMMwz0EC+sbqkhQLOQCQaYtHBystA/1gAs/O8yUAR5ipwAdbHQCbUhtoLE8ZAvOvSGGpxxEC4bfmipe7CQFaNGYp2iMFA517rBsA8wECzZ5aSGhO+QLhvNwgd2rtAeH0SYizLuUBZHBoQLeO3QAgju00+H7ZAa4CBybV8tEDHBPKeG/myQPnahZwmkrFA4FYn0LhFsEDMYPSpuCOuQLiuN7uA6atAfa/H7GzZqUCipAH3X/CnQFa0OX53K6ZARRb5tweIpEDpqJ5ilwOjQNZHSwncm6FAPmx2jrZOoEAVnOTvXzSeQNoOE+/s+JtAgnN3V7XnmUBD3uYomv2XQGrUu2+3N5ZA7IWs51+TlEDw8zDxGA6TQE8BX9OWpZFAG9eVRLlXkECv5HlpEEWOQOxefKhhCIxAJ7R7pgX2iUBFYdGp2wqIQFve/CX+Q4ZAvo8QXL6ehEBuQ9xNoBiDQBrXt/1Wr4FADlNE9cBggEBS08kbylV+QGwGKezeF3xAecMw3l0EekDH/8p9JBh4QBY9uqRLUHZAC92bGCOqdECludV7LSNzQD88ToscuXFA+R9Co81pcEDZz+wLjWZuQOMG0b5kJ2xAVFz1Ar4SakAix9+odCVoQIhss++fXGZADAHHII61ZECSPlR+wC1jQPdHHH/nwmFAzwJRUd9yYEAUE/4+WXdeQDv9LiXzNlxAzaMqGSYhWkASAR4vzDJYQNb6qQr7aFZA5HkMeP/AVEDpgJBYWThTQIO2Hdy3zFFAj0Y0AvZ7UEDppxu6LohOQGojACSKRkxAbyo0JZYvSkAgNZYUK0BIQHCJYflcdUZA1bHoIXfMREAN98QN+EJDQDXqT6WN1kFA9bywuBGFQEAkbWaCDZk+QKFRBMApVjxAhO13Kw4+OkCrKVtdkU04QCbOn7/FgTZAIwDaIfXXNED53y2hnE0zQDXssd1o4DFAc7+MdzKOMEAMFwKd9akuQPj//f3RZSxAlFheMI5MKkBc5YEN/1ooQH2ULGE1jiZAUapge3njJEA=",
          "dtype": "f8"
         },
         "y": {
          "bdata": "AAAAAAAAAAAAAAAAAAAAAAAAAAAAAAAAAAAAAAAAAAAAAAAAAAAAAAAAAAAAAAAAAAAAAAAAAAAAAAAAAAAAAAAAAAAAAAAAAAAAAAAAAAAAAAAAAAAAAAAAAAAAAACAAAAAAAAAAIAAAAAAAAAAgAAAAAAAAACAAAAAAAAAAIAAAAAAAAAAgAAAAAAAAACAAAAAAAAAAIAAAAAAAAAAgAAAAAAAAACAAAAAAAAAAIAAAAAAAAAAgAAAAAAAAACAAAAAAAAAAIAAAAAAAAAAgAAAAAAAAACAAAAAAAAAAIAAAAAAAAAAgAAAAAAAAACAAAAAAAAAAIAAAAAAAAAAgAAAAAAAAACAAAAAAAAAAIAAAAAAAAAAgAAAAAAAAACAAAAAAAAAAIAAAAAAAAAAgAAAAAAAAACAAAAAAAAAAIAAAAAAAAAAgAAAAAAAAACAAAAAAAAAAIAAAAAAAAAAgAAAAAAAAACAAAAAAAAAAIAAAAAAAAAAgAAAAAAAAACAAAAAAAAAAIAAAAAAAAAAgAAAAAAAAACAAAAAAAAAAIAAAAAAAAAAgAAAAAAAAACAAAAAAAAAAIAAAAAAAAAAgAAAAAAAAAAAAAAAAAAAAAAAAAAAAAAAAAAAAAAAAAAAAAAAAAAAAAAAAAAAAAAAAAAAAAAAAAAAAAAAAAAAAAAAAAAAAAAAAAAAAAAAAAAAAAAAAAAAAAAAAAAAAAAAAAAAAAAAAAAAAAAAAAAAAAAAAAAAAAAAAAAAAAAAAAAAAAAAAAAAAAAAAAAAAAAAAAAAAAAAAAAAAAAAAAAAAAAAAAAAAAAAAAAAAAAAAAAAAAAAAAAAAAAAAAAAAAAAAAAAAAAAAAAAAAAAAAAAAAAAAAAAAAAAAAAAAAAAAAAAAAAAAAAAAAAAAAAAAAAAAAAAAAAAAAAAAAAAAAAAAAAAAAAAAAAAAAAAAAAAAAAAjno5z5yFNkCaEwhVz2ZXQHq05p//5WNAhC1ejmVqa0Db2SJe/DRxQLr7BWN1c3RAB5eQRTlud0AiJZObgzN6QMxZl1M1znxAU3cDUelSfkA=",
          "dtype": "f8"
         }
        },
        {
         "mode": "lines",
         "name": "arrival_time_Morning",
         "type": "scatter",
         "x": {
          "bdata": "U2Z8oiRm1EDNDIVrNeTSQAHTEs/LftFA3s4GMMwz0EC+sbqkhQLOQCQaYtHBystA/1gAs/O8yUAR5ipwAdbHQCbUhtoLE8ZAvOvSGGpxxEC4bfmipe7CQFaNGYp2iMFA517rBsA8wECzZ5aSGhO+QLhvNwgd2rtAeH0SYizLuUBZHBoQLeO3QAgju00+H7ZAa4CBybV8tEDHBPKeG/myQPnahZwmkrFA4FYn0LhFsEDMYPSpuCOuQLiuN7uA6atAfa/H7GzZqUCipAH3X/CnQFa0OX53K6ZARRb5tweIpEDpqJ5ilwOjQNZHSwncm6FAPmx2jrZOoEAVnOTvXzSeQNoOE+/s+JtAgnN3V7XnmUBD3uYomv2XQGrUu2+3N5ZA7IWs51+TlEDw8zDxGA6TQE8BX9OWpZFAG9eVRLlXkECv5HlpEEWOQOxefKhhCIxAJ7R7pgX2iUBFYdGp2wqIQFve/CX+Q4ZAvo8QXL6ehEBuQ9xNoBiDQBrXt/1Wr4FADlNE9cBggEBS08kbylV+QGwGKezeF3xAecMw3l0EekDH/8p9JBh4QBY9uqRLUHZAC92bGCOqdECludV7LSNzQD88ToscuXFA+R9Co81pcEDZz+wLjWZuQOMG0b5kJ2xAVFz1Ar4SakAix9+odCVoQIhss++fXGZADAHHII61ZECSPlR+wC1jQPdHHH/nwmFAzwJRUd9yYEAUE/4+WXdeQDv9LiXzNlxAzaMqGSYhWkASAR4vzDJYQNb6qQr7aFZA5HkMeP/AVEDpgJBYWThTQIO2Hdy3zFFAj0Y0AvZ7UEDppxu6LohOQGojACSKRkxAbyo0JZYvSkAgNZYUK0BIQHCJYflcdUZA1bHoIXfMREAN98QN+EJDQDXqT6WN1kFA9bywuBGFQEAkbWaCDZk+QKFRBMApVjxAhO13Kw4+OkCrKVtdkU04QCbOn7/FgTZAIwDaIfXXNED53y2hnE0zQDXssd1o4DFAc7+MdzKOMEAMFwKd9akuQPj//f3RZSxAlFheMI5MKkBc5YEN/1ooQH2ULGE1jiZAUapge3njJEA=",
          "dtype": "f8"
         },
         "y": {
          "bdata": "AAAAAAAAAAAAAAAAAAAAAAAAAAAAAAAAAAAAAAAAAAAAAAAAAAAAAAAAAAAAAAAAAAAAAAAAAAAAAAAAAAAAAAAAAAAAAAAAAAAAAAAAAAAAAAAAAAAAAAAAAAAAAAAAAAAAAAAAAAAAAAAAAAAAAAAAAAAAAAAAAAAAAAAAAAAAAAAAAAAAAAAAAAAAAAAAAAAAAAAAAAAAAAAAAAAAAAAAAAAAAAAAAAAAAAAAAAAAAAAAAAAAAAAAAAAAAAAAAAAAAAAAAAAAAAAAAAAAAAAAAAAAAAAAAAAAAAAAAAAAAAAAAAAAAAAAAAAAAAAAAAAAAAAAAAAAAAAAAAAAAAAAAAAAAAAAAAAAAAAAAAAAAAAAAAAAAAAAAAAAAAAAAAAAAAAAAAAAAAAAAAAAAAAAAAAAAAAAAAAAAAAAAAAAAAAAAAAAAAAAAAAAAAAAAAAAAAAAAAAAAAAAAAAAAAAAAAAAAAAAAAAAAAAAAAAAAAAAAAAAAAAAAAAAAAAAAAAAAAAAAAAAAAAAAAAAAAAAAAAAAAAAAAAAAAAAAAAAAAAAAAAAAAAAAAAAAAAAAAAAAAAAAIAAAAAAAAAAgAAAAAAAAACAAAAAAAAAAIAAAAAAAAAAgAAAAAAAAACAAAAAAAAAAIAAAAAAAAAAgAAAAAAAAACAAAAAAAAAAIAAAAAAAAAAgAAAAAAAAACAAAAAAAAAAIAAAAAAAAAAgAAAAAAAAAAAAAAAAAAAAAAAAAAAAAAAAAAAAAAAAAAAAAAAAAAAAAAAAAAAAAAAAAAAAAAAAAAAAAAAAAAAAAAAAAAAAAAAAAAAAAAAAAAAAAAAAAAAAAAAAAAAAAAAAAAAAAAAAAAAAAAAAAAAAAAAAAAAAAAAAAAAAAAAAAAAAAAAAAAAAAAAAAAAAAAAAAAAAAAAAAAAAAAAAAAAAAAAAAAAAAAAAMO2PA5aoitAAnMX/0qhQUBL8Q12oN5QQJKm3C4aI1hAkkSeQEXAXkDZibBH83diQAd6YXazVmVA1XDCDqb0Z0A45vFPDGZqQH0MAZkJ02xAmQcay3nebUA=",
          "dtype": "f8"
         }
        },
        {
         "mode": "lines",
         "name": "arrival_time_Night",
         "type": "scatter",
         "x": {
          "bdata": "U2Z8oiRm1EDNDIVrNeTSQAHTEs/LftFA3s4GMMwz0EC+sbqkhQLOQCQaYtHBystA/1gAs/O8yUAR5ipwAdbHQCbUhtoLE8ZAvOvSGGpxxEC4bfmipe7CQFaNGYp2iMFA517rBsA8wECzZ5aSGhO+QLhvNwgd2rtAeH0SYizLuUBZHBoQLeO3QAgju00+H7ZAa4CBybV8tEDHBPKeG/myQPnahZwmkrFA4FYn0LhFsEDMYPSpuCOuQLiuN7uA6atAfa/H7GzZqUCipAH3X/CnQFa0OX53K6ZARRb5tweIpEDpqJ5ilwOjQNZHSwncm6FAPmx2jrZOoEAVnOTvXzSeQNoOE+/s+JtAgnN3V7XnmUBD3uYomv2XQGrUu2+3N5ZA7IWs51+TlEDw8zDxGA6TQE8BX9OWpZFAG9eVRLlXkECv5HlpEEWOQOxefKhhCIxAJ7R7pgX2iUBFYdGp2wqIQFve/CX+Q4ZAvo8QXL6ehEBuQ9xNoBiDQBrXt/1Wr4FADlNE9cBggEBS08kbylV+QGwGKezeF3xAecMw3l0EekDH/8p9JBh4QBY9uqRLUHZAC92bGCOqdECludV7LSNzQD88ToscuXFA+R9Co81pcEDZz+wLjWZuQOMG0b5kJ2xAVFz1Ar4SakAix9+odCVoQIhss++fXGZADAHHII61ZECSPlR+wC1jQPdHHH/nwmFAzwJRUd9yYEAUE/4+WXdeQDv9LiXzNlxAzaMqGSYhWkASAR4vzDJYQNb6qQr7aFZA5HkMeP/AVEDpgJBYWThTQIO2Hdy3zFFAj0Y0AvZ7UEDppxu6LohOQGojACSKRkxAbyo0JZYvSkAgNZYUK0BIQHCJYflcdUZA1bHoIXfMREAN98QN+EJDQDXqT6WN1kFA9bywuBGFQEAkbWaCDZk+QKFRBMApVjxAhO13Kw4+OkCrKVtdkU04QCbOn7/FgTZAIwDaIfXXNED53y2hnE0zQDXssd1o4DFAc7+MdzKOMEAMFwKd9akuQPj//f3RZSxAlFheMI5MKkBc5YEN/1ooQH2ULGE1jiZAUapge3njJEA=",
          "dtype": "f8"
         },
         "y": {
          "bdata": "AAAAAAAAAAAAAAAAAAAAAAAAAAAAAAAAAAAAAAAAAAAAAAAAAAAAAAAAAAAAAAAAAAAAAAAAAAAAAAAAAAAAAAAAAAAAAAAAAAAAAAAAAAAAAAAAAAAAAAAAAAAAAAAAAAAAAAAAAAAAAAAAAAAAAAAAAAAAAAAAAAAAAAAAAAAAAAAAAAAAAAAAAAAAAAAAAAAAAAAAAAAAAAAAAAAAAAAAAAAAAAAAAAAAAAAAAAAAAAAAAAAAAAAAAAAAAAAAAAAAAAAAAAAAAAAAAAAAAAAAAAAAAAAAAAAAAAAAAAAAAAAAAAAAAAAAAAAAAAAAAAAAAAAAAAAAAAAAAAAAAAAAAAAAAAAAAAAAAAAAAAAAAAAAAAAAAAAAAAAAAAAAAAAAAAAAAAAAAAAAAAAAAAAAAAAAAAAAAAAAAAAAAAAAAAAAAAAAAAAAAAAAAAAAAAAAAAAAAAAAAAAAAAAAAAAAAAAAAAAAAAAAAAAAAAAAAAAAAAAAAAAAAAAAAAAAAAAAAAAAAAAAAAAAAAAAAAAAAAAAAAAAAAAAAAAAAAAAAAAAAAAAAAAAAAAAAAAAAAAAAAAAAAAAAAAAAAAAAAAAAAAAAAAAAAAAAAAAAAAAAAAAAAAAAAAAAAAAAAAAAAAAAAAAAAAAAAAAAAAAAL45IkQFd0BAKaTG/WhHU0CEKtY2ayNhQMcY5KHOXmhAhCFp58/8bkCSctCcJn9yQKnJxdCWEnVAX7kCFwCZd0BcezURAw16QNyHYkhXQ3xAYj4ebphDfkDu+wZeXgGAQD25ijJTzYBAjOGk6weJgUCCAuzM8zeCQAcOWrLe2IJAmP/XzsBcg0B/Qmsx5aGDQC3C5lxJ5INA4OjLhM8ghECPZXz1YliEQDOnwDk5j4RAd8GHTIbGhEA2oVkrwvOEQGyTBY3544RAhYf8uY32hEA3XZQFnwKFQFaubHDkSYVACrQF22TFhUAsoUznyqyGQNoi7EXmlodAAl1tX8triEA++DvL9zKJQA95JCfM64lADg9sLkGUikBW/JTobDGLQEj6DYMrzYtAMDvRHhAMjEA=",
          "dtype": "f8"
         }
        },
        {
         "mode": "lines",
         "name": "destination_city_Chennai",
         "type": "scatter",
         "x": {
          "bdata": "U2Z8oiRm1EDNDIVrNeTSQAHTEs/LftFA3s4GMMwz0EC+sbqkhQLOQCQaYtHBystA/1gAs/O8yUAR5ipwAdbHQCbUhtoLE8ZAvOvSGGpxxEC4bfmipe7CQFaNGYp2iMFA517rBsA8wECzZ5aSGhO+QLhvNwgd2rtAeH0SYizLuUBZHBoQLeO3QAgju00+H7ZAa4CBybV8tEDHBPKeG/myQPnahZwmkrFA4FYn0LhFsEDMYPSpuCOuQLiuN7uA6atAfa/H7GzZqUCipAH3X/CnQFa0OX53K6ZARRb5tweIpEDpqJ5ilwOjQNZHSwncm6FAPmx2jrZOoEAVnOTvXzSeQNoOE+/s+JtAgnN3V7XnmUBD3uYomv2XQGrUu2+3N5ZA7IWs51+TlEDw8zDxGA6TQE8BX9OWpZFAG9eVRLlXkECv5HlpEEWOQOxefKhhCIxAJ7R7pgX2iUBFYdGp2wqIQFve/CX+Q4ZAvo8QXL6ehEBuQ9xNoBiDQBrXt/1Wr4FADlNE9cBggEBS08kbylV+QGwGKezeF3xAecMw3l0EekDH/8p9JBh4QBY9uqRLUHZAC92bGCOqdECludV7LSNzQD88ToscuXFA+R9Co81pcEDZz+wLjWZuQOMG0b5kJ2xAVFz1Ar4SakAix9+odCVoQIhss++fXGZADAHHII61ZECSPlR+wC1jQPdHHH/nwmFAzwJRUd9yYEAUE/4+WXdeQDv9LiXzNlxAzaMqGSYhWkASAR4vzDJYQNb6qQr7aFZA5HkMeP/AVEDpgJBYWThTQIO2Hdy3zFFAj0Y0AvZ7UEDppxu6LohOQGojACSKRkxAbyo0JZYvSkAgNZYUK0BIQHCJYflcdUZA1bHoIXfMREAN98QN+EJDQDXqT6WN1kFA9bywuBGFQEAkbWaCDZk+QKFRBMApVjxAhO13Kw4+OkCrKVtdkU04QCbOn7/FgTZAIwDaIfXXNED53y2hnE0zQDXssd1o4DFAc7+MdzKOMEAMFwKd9akuQPj//f3RZSxAlFheMI5MKkBc5YEN/1ooQH2ULGE1jiZAUapge3njJEA=",
          "dtype": "f8"
         },
         "y": {
          "bdata": "AAAAAAAAAAAAAAAAAAAAAAAAAAAAAAAAAAAAAAAAAAAAAAAAAAAAAAAAAAAAAAAAAAAAAAAAAAAAAAAAAAAAAAAAAAAAAAAAAAAAAAAAAAAAAAAAAAAAAAAAAAAAAAAAAAAAAAAAAAAAAAAAAAAAAAAAAAAAAAAAAAAAAAAAAAAAAAAAAAAAAAAAAAAAAAAAAAAAAAAAAAAAAAAAAAAAAAAAAAAAAAAAAAAAAAAAAAAAAAAAAAAAAAAAAAAAAAAAAAAAAAAAAAAAAAAAAAAAAAAAAAAAAAAAAAAAAAAAAAAAAAAAAAAAAAAAAAAAAAAAAAAAAAAAAAAAAAAAAAAAAAAAAAAAAAAAAAAAAAAAAAAAAAAAAAAAAAAAAAAAAAAAAAAAAAAAAAAAAAAAAAAAAAAAAAAAAAAAAAAAAAAAAAAAAAAAAAAAAAAAAAAAAAAAAAAAAAAAAAAAAAAAAAAAAAAAAAAAAAAAAAAAAAAAAAAAAAAAAAAAAAAAAAAAAAAAAAAAAAAAAAAAAAAAAAAAAAAAAAAAAAAAAAAAAAAAAAAAAAAAAAAAAAAAAAAAAAAAAAAAAAAAAAAAAAAAAAAAAAAAAAAAAAAAAAAAAAAAAAAAAAAAAAAAAAAAAAAAAAAAAAAAAAAAAAAAAAAAAAAAAAAAAAAAAAAAAAAAAAAAAAAAAAAAAAAAAAAAAAAAAAAAAAAAAAAAAAAAAAAAAAAAAAAAAAAAAAAAAAAAAAAAAAAAAAAAAAAAAAAAAAAAAAAAAAAAAAAAAAAAAAAAAAAAAAAAAAAAAAAAAAAAAAAAAAAAAAAAAAAAAAAAAAAAAAAAAAAAAAAAAAAAAAAAAAAAAAAAAAAAAAAAAAAAAAAAAAAAAAAAAAAAAAAAAAAAAAAAAAAAAAAAAIAAAAAAAAAAgAAAAAAAAACAAAAAAAAAAIAAAAAAAAAAgAAAAAAAAACAAAAAAAAAAIAAAAAAAAAAgAAAAAAAAACAAAAAAAAAAIAAAAAAAAAAgAAAAAAAAACAAAAAAAAAAIAAAAAAAAAAgKS7yLFEYCHAMUrddBE1PcA=",
          "dtype": "f8"
         }
        },
        {
         "mode": "lines",
         "name": "destination_city_Delhi",
         "type": "scatter",
         "x": {
          "bdata": "U2Z8oiRm1EDNDIVrNeTSQAHTEs/LftFA3s4GMMwz0EC+sbqkhQLOQCQaYtHBystA/1gAs/O8yUAR5ipwAdbHQCbUhtoLE8ZAvOvSGGpxxEC4bfmipe7CQFaNGYp2iMFA517rBsA8wECzZ5aSGhO+QLhvNwgd2rtAeH0SYizLuUBZHBoQLeO3QAgju00+H7ZAa4CBybV8tEDHBPKeG/myQPnahZwmkrFA4FYn0LhFsEDMYPSpuCOuQLiuN7uA6atAfa/H7GzZqUCipAH3X/CnQFa0OX53K6ZARRb5tweIpEDpqJ5ilwOjQNZHSwncm6FAPmx2jrZOoEAVnOTvXzSeQNoOE+/s+JtAgnN3V7XnmUBD3uYomv2XQGrUu2+3N5ZA7IWs51+TlEDw8zDxGA6TQE8BX9OWpZFAG9eVRLlXkECv5HlpEEWOQOxefKhhCIxAJ7R7pgX2iUBFYdGp2wqIQFve/CX+Q4ZAvo8QXL6ehEBuQ9xNoBiDQBrXt/1Wr4FADlNE9cBggEBS08kbylV+QGwGKezeF3xAecMw3l0EekDH/8p9JBh4QBY9uqRLUHZAC92bGCOqdECludV7LSNzQD88ToscuXFA+R9Co81pcEDZz+wLjWZuQOMG0b5kJ2xAVFz1Ar4SakAix9+odCVoQIhss++fXGZADAHHII61ZECSPlR+wC1jQPdHHH/nwmFAzwJRUd9yYEAUE/4+WXdeQDv9LiXzNlxAzaMqGSYhWkASAR4vzDJYQNb6qQr7aFZA5HkMeP/AVEDpgJBYWThTQIO2Hdy3zFFAj0Y0AvZ7UEDppxu6LohOQGojACSKRkxAbyo0JZYvSkAgNZYUK0BIQHCJYflcdUZA1bHoIXfMREAN98QN+EJDQDXqT6WN1kFA9bywuBGFQEAkbWaCDZk+QKFRBMApVjxAhO13Kw4+OkCrKVtdkU04QCbOn7/FgTZAIwDaIfXXNED53y2hnE0zQDXssd1o4DFAc7+MdzKOMEAMFwKd9akuQPj//f3RZSxAlFheMI5MKkBc5YEN/1ooQH2ULGE1jiZAUapge3njJEA=",
          "dtype": "f8"
         },
         "y": {
          "bdata": "AAAAAAAAAAAAAAAAAAAAAAAAAAAAAAAAAAAAAAAAAAAAAAAAAAAAAAAAAAAAAAAAAAAAAAAAAAAAAAAAAAAAAAAAAAAAAAAAAAAAAAAAAAAAAAAAAAAAAAAAAAAAAAAAAAAAAAAAAAAAAAAAAAAAAAAAAAAAAAAAAAAAAAAAAAAAAAAAAAAAAAAAAAAAAAAAAAAAAAAAAAAAAAAAAAAAAAAAAAAAAAAAAAAAAAAAAAAAAAAAAAAAAAAAAAAAAAAAAAAAAAAAAAAAAAAAAAAAAAAAAAAAAAAAAAAAAAAAAAAAAAAAAAAAAAAAAAAAAAAAAAAAAAAAAAAAAAAAAAAAAAAAAAAAAAAAAAAAAAAAAAAAAAAAAAAAAAAAAAAAAACAAAAAAAAAAIAAAAAAAAAAgAAAAAAAAACAAAAAAAAAAIAAAAAAAAAAgAAAAAAAAACAAAAAAAAAAIAAAAAAAAAAgAAAAAAAAACAAAAAAAAAAIAAAAAAAAAAgAAAAAAAAACAAAAAAAAAAIAAAAAAAAAAgAAAAAAAAACAAAAAAAAAAIAAAAAAAAAAgAAAAAAAAACAAAAAAAAAAIAAAAAAAAAAgAAAAAAAAACAAAAAAAAAAIAAAAAAAAAAgAAAAAAAAACAAAAAAAAAAIAAAAAAAAAAgAAAAAAAAACAAAAAAAAAAIAAAAAAAAAAgAAAAAAAAACABhvqoQoFIcBLjbn6IRNVwEMxSLYOAmfAkjfKtQqjccArnOn3iTV3wDcnyEaoZ3zA+argaNOcgMAwUXAnyMGCwP2pX0rSs4TAWCQVic6ChsAq7+GC8y2IwHwSxOoiu4nAyhjc+e4xi8DaDOMaiKOMwBkjQ/KL9o3ADKRYH7Qxj8Dx6n3MiymQwKO1cuR9oJDAEYSCdzwPkcDHAWbfOXaRwIEhpJsF+pHA6KIIcRZSksBK4z9k2aOSwB8AAn946JLAiQuDu3Mpk8CubPTRFGeTwFgKEJUroJPAwUHQtBzWk8BEyUhMfAeUwLI8F/IZNZTA4HphpCBglMA2chUzq4eUwJwU8ZJ/vpTAbSpU3a8blcA=",
          "dtype": "f8"
         }
        },
        {
         "mode": "lines",
         "name": "destination_city_Hyderabad",
         "type": "scatter",
         "x": {
          "bdata": "U2Z8oiRm1EDNDIVrNeTSQAHTEs/LftFA3s4GMMwz0EC+sbqkhQLOQCQaYtHBystA/1gAs/O8yUAR5ipwAdbHQCbUhtoLE8ZAvOvSGGpxxEC4bfmipe7CQFaNGYp2iMFA517rBsA8wECzZ5aSGhO+QLhvNwgd2rtAeH0SYizLuUBZHBoQLeO3QAgju00+H7ZAa4CBybV8tEDHBPKeG/myQPnahZwmkrFA4FYn0LhFsEDMYPSpuCOuQLiuN7uA6atAfa/H7GzZqUCipAH3X/CnQFa0OX53K6ZARRb5tweIpEDpqJ5ilwOjQNZHSwncm6FAPmx2jrZOoEAVnOTvXzSeQNoOE+/s+JtAgnN3V7XnmUBD3uYomv2XQGrUu2+3N5ZA7IWs51+TlEDw8zDxGA6TQE8BX9OWpZFAG9eVRLlXkECv5HlpEEWOQOxefKhhCIxAJ7R7pgX2iUBFYdGp2wqIQFve/CX+Q4ZAvo8QXL6ehEBuQ9xNoBiDQBrXt/1Wr4FADlNE9cBggEBS08kbylV+QGwGKezeF3xAecMw3l0EekDH/8p9JBh4QBY9uqRLUHZAC92bGCOqdECludV7LSNzQD88ToscuXFA+R9Co81pcEDZz+wLjWZuQOMG0b5kJ2xAVFz1Ar4SakAix9+odCVoQIhss++fXGZADAHHII61ZECSPlR+wC1jQPdHHH/nwmFAzwJRUd9yYEAUE/4+WXdeQDv9LiXzNlxAzaMqGSYhWkASAR4vzDJYQNb6qQr7aFZA5HkMeP/AVEDpgJBYWThTQIO2Hdy3zFFAj0Y0AvZ7UEDppxu6LohOQGojACSKRkxAbyo0JZYvSkAgNZYUK0BIQHCJYflcdUZA1bHoIXfMREAN98QN+EJDQDXqT6WN1kFA9bywuBGFQEAkbWaCDZk+QKFRBMApVjxAhO13Kw4+OkCrKVtdkU04QCbOn7/FgTZAIwDaIfXXNED53y2hnE0zQDXssd1o4DFAc7+MdzKOMEAMFwKd9akuQPj//f3RZSxAlFheMI5MKkBc5YEN/1ooQH2ULGE1jiZAUapge3njJEA=",
          "dtype": "f8"
         },
         "y": {
          "bdata": "AAAAAAAAAAAAAAAAAAAAAAAAAAAAAAAAAAAAAAAAAAAAAAAAAAAAAAAAAAAAAAAAAAAAAAAAAAAAAAAAAAAAAAAAAAAAAAAAAAAAAAAAAAAAAAAAAAAAAAAAAAAAAAAAAAAAAAAAAAAAAAAAAAAAAAAAAAAAAAAAAAAAAAAAAAAAAAAAAAAAAAAAAAAAAAAAAAAAAAAAAAAAAAAAAAAAAAAAAAAAAAAAAAAAAAAAAAAAAAAAAAAAAAAAAAAAAAAAAAAAAAAAAAAAAAAAAAAAAAAAAAAAAAAAAAAAAAAAAAAAAAAAAAAAAAAAAAAAAAAAAAAAAAAAAAAAAAAAAAAAAAAAAAAAAAAAAAAAAAAAAAAAAAAAAAAAAAAAAAAAAAAAAAAAAAAAAAAAAAAAAAAAAAAAAAAAAAAAAAAAAAAAAIAAAAAAAAAAgAAAAAAAAACAAAAAAAAAAIAAAAAAAAAAgAAAAAAAAACAAAAAAAAAAIAAAAAAAAAAgAAAAAAAAACAAAAAAAAAAIAAAAAAAAAAgAAAAAAAAACAAAAAAAAAAIAAAAAAAAAAgAAAAAAAAACAAAAAAAAAAIAAAAAAAAAAgAAAAAAAAACAAAAAAAAAAIAAAAAAAAAAgAAAAAAAAACAAAAAAAAAAIAAAAAAAAAAgAAAAAAAAACAAAAAAAAAAIAAAAAAAAAAgAAAAAAAAACAAAAAAAAAAIDnKeQvaqpIwA8kmgwJ4GPAy/3QIgsaccARoz3rstp3wG+5TIO1JH7AIQM/IuX6gcDq4IZ9jqqEwNr9Ni3xJIfAnyq+wbVxicBQeXRTzZGLwMS0RO3Vio3AhMEWwq5Yj8CkYs0h9XmQwM7M9CdAN5HAg12OTfjmkcAGsvCneoiSwJ5ZuNViD5PA/YeTHRCOk8AIOhaEtgCUwDdnGT1eg5TANGtyQq/mlMB1Ne3bX0CVwCX1PHwOkJXAD/gbFbjWlcCygscnQxCWwF8WiHETRpbAahkNfst4lsBhmfZ4RqeWwLNT4ro60pbAVF4Gz6r6lsAPGyaG1h+XwORdZY1jVJfAxX30fFmrl8A=",
          "dtype": "f8"
         }
        },
        {
         "mode": "lines",
         "name": "destination_city_Kolkata",
         "type": "scatter",
         "x": {
          "bdata": "U2Z8oiRm1EDNDIVrNeTSQAHTEs/LftFA3s4GMMwz0EC+sbqkhQLOQCQaYtHBystA/1gAs/O8yUAR5ipwAdbHQCbUhtoLE8ZAvOvSGGpxxEC4bfmipe7CQFaNGYp2iMFA517rBsA8wECzZ5aSGhO+QLhvNwgd2rtAeH0SYizLuUBZHBoQLeO3QAgju00+H7ZAa4CBybV8tEDHBPKeG/myQPnahZwmkrFA4FYn0LhFsEDMYPSpuCOuQLiuN7uA6atAfa/H7GzZqUCipAH3X/CnQFa0OX53K6ZARRb5tweIpEDpqJ5ilwOjQNZHSwncm6FAPmx2jrZOoEAVnOTvXzSeQNoOE+/s+JtAgnN3V7XnmUBD3uYomv2XQGrUu2+3N5ZA7IWs51+TlEDw8zDxGA6TQE8BX9OWpZFAG9eVRLlXkECv5HlpEEWOQOxefKhhCIxAJ7R7pgX2iUBFYdGp2wqIQFve/CX+Q4ZAvo8QXL6ehEBuQ9xNoBiDQBrXt/1Wr4FADlNE9cBggEBS08kbylV+QGwGKezeF3xAecMw3l0EekDH/8p9JBh4QBY9uqRLUHZAC92bGCOqdECludV7LSNzQD88ToscuXFA+R9Co81pcEDZz+wLjWZuQOMG0b5kJ2xAVFz1Ar4SakAix9+odCVoQIhss++fXGZADAHHII61ZECSPlR+wC1jQPdHHH/nwmFAzwJRUd9yYEAUE/4+WXdeQDv9LiXzNlxAzaMqGSYhWkASAR4vzDJYQNb6qQr7aFZA5HkMeP/AVEDpgJBYWThTQIO2Hdy3zFFAj0Y0AvZ7UEDppxu6LohOQGojACSKRkxAbyo0JZYvSkAgNZYUK0BIQHCJYflcdUZA1bHoIXfMREAN98QN+EJDQDXqT6WN1kFA9bywuBGFQEAkbWaCDZk+QKFRBMApVjxAhO13Kw4+OkCrKVtdkU04QCbOn7/FgTZAIwDaIfXXNED53y2hnE0zQDXssd1o4DFAc7+MdzKOMEAMFwKd9akuQPj//f3RZSxAlFheMI5MKkBc5YEN/1ooQH2ULGE1jiZAUapge3njJEA=",
          "dtype": "f8"
         },
         "y": {
          "bdata": "AAAAAAAAAAAAAAAAAAAAAAAAAAAAAAAAAAAAAAAAAAAAAAAAAAAAAAAAAAAAAAAAAAAAAAAAAAAAAAAAAAAAAAAAAAAAAAAAAAAAAAAAAAAAAAAAAAAAAAAAAAAAAAAAAAAAAAAAAAAAAAAAAAAAAAAAAAAAAAAAAAAAAAAAAAAAAAAAAAAAAAAAAAAAAAAAAAAAAAAAAAAAAAAAAAAAAAAAAAAAAAAAAAAAAAAAAAAAAAAAAAAAAAAAAAAAAAAAAAAAAAAAAAAAAAAAAAAAAAAAAAAAAAAAAAAAAAAAAAAAAAAAAAAAAAAAAAAAAAAAAAAAAAAAAAAAAAAAAAAAAAAAAAAAAAAAAAAAAAAAAAAAAAAAAAAAAAAAAAAAAAAAAAAAAAAAAAAAAAAAAAAAAAAAAAAAAAAAAAAAAAAAAAAAAAAAAAAAAAAAAAAAAAAAAAAAAAAAAAAAAAAAAAAAAAAAAAAAAAAAAAAAAAAAAAAAAAAAAAAAAAAAAAAAAAAAAAAAAAAAAAAAAAAAAAAAAAAAAAAAAAAAAAAAAAAAAAAAAAAAAAAAAAAAAAAAAAAAAAAAAAAAAAAAAAAAAAAAAGZdcEO3w1dAdypTfq9tb0Cf0gkEU8N4QPsdXdBJkoBAXheOXqd0hEBinMiJmgyIQO4Gk4i9fYtADdgIH7m4jkDyAdL0z8OQQD3RKOF1FZJA20r4d9BCk0AqiceRIwWUQP8a5OKma5RApwcduky0lEC/ci6eXeOUQDisXnUeDZVA6LPlom81lUBnyjvjvlGVQPzWP7D2aZVAynl7K5B/lUBEy6jZVZSVQPr3GrLPppVASWyPIVm3lUCf318UWcSVQFt9pqkh0pVAXe0R71relUDrOtEK4OqVQCbZD5MYBJZAuVwvei0alkDHc3Rkxy6WQJ2UJ+5nIJZASOExqsYplkDQnocP9DSWQDEuOEBAQJZAepYNcylMlkDqh6nEp12WQPlZ9UxabZZAN5uV0vp6lkAayME/GoiWQFmfznBZlJZACBfRRASflkBxgAFGMqmWQKvxjmbloJZANavMfaRylkA=",
          "dtype": "f8"
         }
        },
        {
         "mode": "lines",
         "name": "destination_city_Mumbai",
         "type": "scatter",
         "x": {
          "bdata": "U2Z8oiRm1EDNDIVrNeTSQAHTEs/LftFA3s4GMMwz0EC+sbqkhQLOQCQaYtHBystA/1gAs/O8yUAR5ipwAdbHQCbUhtoLE8ZAvOvSGGpxxEC4bfmipe7CQFaNGYp2iMFA517rBsA8wECzZ5aSGhO+QLhvNwgd2rtAeH0SYizLuUBZHBoQLeO3QAgju00+H7ZAa4CBybV8tEDHBPKeG/myQPnahZwmkrFA4FYn0LhFsEDMYPSpuCOuQLiuN7uA6atAfa/H7GzZqUCipAH3X/CnQFa0OX53K6ZARRb5tweIpEDpqJ5ilwOjQNZHSwncm6FAPmx2jrZOoEAVnOTvXzSeQNoOE+/s+JtAgnN3V7XnmUBD3uYomv2XQGrUu2+3N5ZA7IWs51+TlEDw8zDxGA6TQE8BX9OWpZFAG9eVRLlXkECv5HlpEEWOQOxefKhhCIxAJ7R7pgX2iUBFYdGp2wqIQFve/CX+Q4ZAvo8QXL6ehEBuQ9xNoBiDQBrXt/1Wr4FADlNE9cBggEBS08kbylV+QGwGKezeF3xAecMw3l0EekDH/8p9JBh4QBY9uqRLUHZAC92bGCOqdECludV7LSNzQD88ToscuXFA+R9Co81pcEDZz+wLjWZuQOMG0b5kJ2xAVFz1Ar4SakAix9+odCVoQIhss++fXGZADAHHII61ZECSPlR+wC1jQPdHHH/nwmFAzwJRUd9yYEAUE/4+WXdeQDv9LiXzNlxAzaMqGSYhWkASAR4vzDJYQNb6qQr7aFZA5HkMeP/AVEDpgJBYWThTQIO2Hdy3zFFAj0Y0AvZ7UEDppxu6LohOQGojACSKRkxAbyo0JZYvSkAgNZYUK0BIQHCJYflcdUZA1bHoIXfMREAN98QN+EJDQDXqT6WN1kFA9bywuBGFQEAkbWaCDZk+QKFRBMApVjxAhO13Kw4+OkCrKVtdkU04QCbOn7/FgTZAIwDaIfXXNED53y2hnE0zQDXssd1o4DFAc7+MdzKOMEAMFwKd9akuQPj//f3RZSxAlFheMI5MKkBc5YEN/1ooQH2ULGE1jiZAUapge3njJEA=",
          "dtype": "f8"
         },
         "y": {
          "bdata": "AAAAAAAAAAAAAAAAAAAAAAAAAAAAAAAAAAAAAAAAAAAAAAAAAAAAAAAAAAAAAAAAAAAAAAAAAAAAAAAAAAAAAAAAAAAAAAAAAAAAAAAAAAAAAAAAAAAAAAAAAAAAAAAAAAAAAAAAAAAAAAAAAAAAAAAAAAAAAAAAAAAAAAAAAAAAAAAAAAAAAAAAAAAAAAAAAAAAAAAAAAAAAAAAAAAAAAAAAAAAAAAAAAAAAAAAAAAAAAAAAAAAAAAAAAAAAAAAAAAAAAAAAAAAAAAAAAAAAAAAAAAAAAAAAAAAAAAAAAAAAAAAAAAAAAAAAAAAAAAAAAAAAAAAAAAAAAAAAAAAAAAAAAAAAAAAAAAAAAAAAAAAAAAAAAAAAAAAAAAAAAAAAAAAAAAAAAAAAAAAAAAAAAAAAAAAAAAAAAAAAAAAAAAAAAAAAAAAAAAAAAAAAAAAAAAAAAAAAAAAAAAAAAAAAAAAAAAAAAAAAAAAAAAAAAAAAAAAAAAAAAAAAAAAAAAAAAAAAAAAAAAAAAAAAAAAAAAAAAAAAAAAAAAAAAAAAAAAAAAAAAAAAAAAAAAAAAAAAAAAAAAAAAAAAAAAAAAAAAAAAAAAAAAAAAAAAAAAAAAAAAAAAAAAAAAAAAAAAAAAAAAAAAAAAAAAAAAAAAAAAAAAAAAAAAAAAAAAAAAAAAAAAAAAAAAAAAAAAAAAAAAAAAAAAAAAAAAAAAAAAAAAAAAAAAAAAAAAAAAAAAAAAAAAAAAAAAAAAAAAAAAAAAAAAAAAAAAAAAAAAAAAAAAAAAAAAAAAAAAAAAAAAAAAAAAAAAAAAAAAAAAAAAAAAAAAAAAAAAAAAAAAAAAAAAAAAAAAAAAAAAAAAAAAAAAAAACSk11DllfdP8ODytrxISRAgFG724o9MkCeeYmV8LA6QIrHyWRrhjtAMjYNI8SdP0DLGC7ThiRCQI4/n8hdpERAE5Hkx4k5R0Ar1EHK3yRKQGopPwy8m0xAOxMjJ4zLTkAb5nhbCXBQQFOsDKPsZ1FAnF6NjAtEUkAXbWk79hBTQLgAwsH1SFJADgZrzWQkTkA=",
          "dtype": "f8"
         }
        },
        {
         "mode": "lines",
         "name": "class_Economy",
         "type": "scatter",
         "x": {
          "bdata": "U2Z8oiRm1EDNDIVrNeTSQAHTEs/LftFA3s4GMMwz0EC+sbqkhQLOQCQaYtHBystA/1gAs/O8yUAR5ipwAdbHQCbUhtoLE8ZAvOvSGGpxxEC4bfmipe7CQFaNGYp2iMFA517rBsA8wECzZ5aSGhO+QLhvNwgd2rtAeH0SYizLuUBZHBoQLeO3QAgju00+H7ZAa4CBybV8tEDHBPKeG/myQPnahZwmkrFA4FYn0LhFsEDMYPSpuCOuQLiuN7uA6atAfa/H7GzZqUCipAH3X/CnQFa0OX53K6ZARRb5tweIpEDpqJ5ilwOjQNZHSwncm6FAPmx2jrZOoEAVnOTvXzSeQNoOE+/s+JtAgnN3V7XnmUBD3uYomv2XQGrUu2+3N5ZA7IWs51+TlEDw8zDxGA6TQE8BX9OWpZFAG9eVRLlXkECv5HlpEEWOQOxefKhhCIxAJ7R7pgX2iUBFYdGp2wqIQFve/CX+Q4ZAvo8QXL6ehEBuQ9xNoBiDQBrXt/1Wr4FADlNE9cBggEBS08kbylV+QGwGKezeF3xAecMw3l0EekDH/8p9JBh4QBY9uqRLUHZAC92bGCOqdECludV7LSNzQD88ToscuXFA+R9Co81pcEDZz+wLjWZuQOMG0b5kJ2xAVFz1Ar4SakAix9+odCVoQIhss++fXGZADAHHII61ZECSPlR+wC1jQPdHHH/nwmFAzwJRUd9yYEAUE/4+WXdeQDv9LiXzNlxAzaMqGSYhWkASAR4vzDJYQNb6qQr7aFZA5HkMeP/AVEDpgJBYWThTQIO2Hdy3zFFAj0Y0AvZ7UEDppxu6LohOQGojACSKRkxAbyo0JZYvSkAgNZYUK0BIQHCJYflcdUZA1bHoIXfMREAN98QN+EJDQDXqT6WN1kFA9bywuBGFQEAkbWaCDZk+QKFRBMApVjxAhO13Kw4+OkCrKVtdkU04QCbOn7/FgTZAIwDaIfXXNED53y2hnE0zQDXssd1o4DFAc7+MdzKOMEAMFwKd9akuQPj//f3RZSxAlFheMI5MKkBc5YEN/1ooQH2ULGE1jiZAUapge3njJEA=",
          "dtype": "f8"
         },
         "y": {
          "bdata": "AAAAAAAAAAAAAAAAAAAAAAAAAAAAAAAAAAAAAAAAAAAAAAAAAAAAAAAAAAAAAACAAAAAAAAAAIAAAAAAAAAAgAAAAAAAAACAAAAAAAAAAIAAAAAAAAAAgAAAAAAAAACAAAAAAAAAAIAAAAAAAAAAgAAAAAAAAACAAAAAAAAAAIAAAAAAAAAAgPuQucOTeXbAKcnsyelZrMBKO+m2eAe6wN9yewB9gcLApSxTqamWx8DJnES3iEvMwDkW7zcYVNDAkIuADrNY0sBRYI5wUzfUwN9TvFWo69XASjhj9ECA18CRwtwMX/bYwMjCE4ZqUdrASZJZh9GS28A05oY83rvcwOOGdxs8z93AjX8xCQbO3sDDi2QM+7nfwPYBNPU/SuDA4LDWWyuv4MBnw9tK5AzhwEMUhByxY+HAmxVawBO04cAdOxiPhf7hwJi067E6Q+LAm97W8RaD4sDGTA8zPL7iwDMTyHwC9eLA9lmIu4In48B6tjN4/FbjwHpz85cgg+PA+nUnwBus48CRjtokENLjwPm8gXk29ePAWSriOo8V5MCgr6oZtzPkwKzOY+GlT+TAzjfIO4Rp5MDFVdLpRoHkwFKuXtzSl+TATDAMTs2s5MBldgmxRsDkwLSVpGdQ0uTAuFRr1dbi5MC2qEjhTvLkwI3rJ2iNAOXAzMtX9dUN5cCsfIBdBxrlwBEPtftOJeXApP/kQdov5cDm/kYCPDnlwNQDeyHzQeXAvttDN0RL5cCYodweHlblwGpfQopLYOXA+uzly6tp5cAB0ufRPXPlwC8AE1BSfOXA1lcSjMyE5cD3Ej7clYzlwLsA1jjck+XAeSvy/Y+a5cAVbbpZyqDlwA5FSAaRpuXArZQqs/Or5cAMCP/t6LDlwOxU6VGLteXArYbIZ7a55cDlz1JMxr3lwDcCuKjdweXA4ACX4HzG5cCEc0vdssnlwPy6+O+czOXAIKctF13P5cC/RPzp1tHlwM4v2a4d1OXAaNijAELW5cDaCEhUONjlwBGpBIAI2uXAzfDbnb3b5cC27jclTt3lwA/DGOq03uXArUVRqGHg5cA=",
          "dtype": "f8"
         }
        },
        {
         "hovertemplate": "Alpha: 19344.8347<br>Non-zero features: 1<extra></extra>",
         "line": {
          "color": "gray",
          "dash": "dot"
         },
         "mode": "lines",
         "showlegend": false,
         "type": "scatter",
         "x": [
          19344.83468748331,
          19344.83468748331
         ],
         "y": [
          -44803.05179656609,
          51092.91444573431
         ]
        },
        {
         "hovertemplate": "Alpha: 6603.1734<br>Non-zero features: 2<extra></extra>",
         "line": {
          "color": "gray",
          "dash": "dot"
         },
         "mode": "lines",
         "showlegend": false,
         "type": "scatter",
         "x": [
          6603.173371463425,
          6603.173371463425
         ],
         "y": [
          -44803.05179656609,
          51092.91444573431
         ]
        },
        {
         "hovertemplate": "Alpha: 5663.2434<br>Non-zero features: 3<extra></extra>",
         "line": {
          "color": "gray",
          "dash": "dot"
         },
         "mode": "lines",
         "showlegend": false,
         "type": "scatter",
         "x": [
          5663.243373580983,
          5663.243373580983
         ],
         "y": [
          -44803.05179656609,
          51092.91444573431
         ]
        },
        {
         "hovertemplate": "Alpha: 3064.1874<br>Non-zero features: 4<extra></extra>",
         "line": {
          "color": "gray",
          "dash": "dot"
         },
         "mode": "lines",
         "showlegend": false,
         "type": "scatter",
         "x": [
          3064.1874313844173,
          3064.1874313844173
         ],
         "y": [
          -44803.05179656609,
          51092.91444573431
         ]
        },
        {
         "hovertemplate": "Alpha: 1790.2314<br>Non-zero features: 5<extra></extra>",
         "line": {
          "color": "gray",
          "dash": "dot"
         },
         "mode": "lines",
         "showlegend": false,
         "type": "scatter",
         "x": [
          1790.231380746633,
          1790.231380746633
         ],
         "y": [
          -44803.05179656609,
          51092.91444573431
         ]
        },
        {
         "hovertemplate": "Alpha: 611.0783<br>Non-zero features: 6<extra></extra>",
         "line": {
          "color": "gray",
          "dash": "dot"
         },
         "mode": "lines",
         "showlegend": false,
         "type": "scatter",
         "x": [
          611.0782735069349,
          611.0782735069349
         ],
         "y": [
          -44803.05179656609,
          51092.91444573431
         ]
        },
        {
         "hovertemplate": "Alpha: 283.5695<br>Non-zero features: 8<extra></extra>",
         "line": {
          "color": "gray",
          "dash": "dot"
         },
         "mode": "lines",
         "showlegend": false,
         "type": "scatter",
         "x": [
          283.5694687896793,
          283.5694687896793
         ],
         "y": [
          -44803.05179656609,
          51092.91444573431
         ]
        },
        {
         "hovertemplate": "Alpha: 178.8945<br>Non-zero features: 9<extra></extra>",
         "line": {
          "color": "gray",
          "dash": "dot"
         },
         "mode": "lines",
         "showlegend": false,
         "type": "scatter",
         "x": [
          178.89452347797146,
          178.89452347797146
         ],
         "y": [
          -44803.05179656609,
          51092.91444573431
         ]
        },
        {
         "hovertemplate": "Alpha: 165.6736<br>Non-zero features: 10<extra></extra>",
         "line": {
          "color": "gray",
          "dash": "dot"
         },
         "mode": "lines",
         "showlegend": false,
         "type": "scatter",
         "x": [
          165.67359961383806,
          165.67359961383806
         ],
         "y": [
          -44803.05179656609,
          51092.91444573431
         ]
        },
        {
         "hovertemplate": "Alpha: 131.5898<br>Non-zero features: 11<extra></extra>",
         "line": {
          "color": "gray",
          "dash": "dot"
         },
         "mode": "lines",
         "showlegend": false,
         "type": "scatter",
         "x": [
          131.589760454392,
          131.589760454392
         ],
         "y": [
          -44803.05179656609,
          51092.91444573431
         ]
        },
        {
         "hovertemplate": "Alpha: 121.8648<br>Non-zero features: 13<extra></extra>",
         "line": {
          "color": "gray",
          "dash": "dot"
         },
         "mode": "lines",
         "showlegend": false,
         "type": "scatter",
         "x": [
          121.8648221474835,
          121.8648221474835
         ],
         "y": [
          -44803.05179656609,
          51092.91444573431
         ]
        },
        {
         "hovertemplate": "Alpha: 112.8586<br>Non-zero features: 14<extra></extra>",
         "line": {
          "color": "gray",
          "dash": "dot"
         },
         "mode": "lines",
         "showlegend": false,
         "type": "scatter",
         "x": [
          112.85859040821826,
          112.85859040821826
         ],
         "y": [
          -44803.05179656609,
          51092.91444573431
         ]
        },
        {
         "hovertemplate": "Alpha: 104.5180<br>Non-zero features: 15<extra></extra>",
         "line": {
          "color": "gray",
          "dash": "dot"
         },
         "mode": "lines",
         "showlegend": false,
         "type": "scatter",
         "x": [
          104.51795033611343,
          104.51795033611343
         ],
         "y": [
          -44803.05179656609,
          51092.91444573431
         ]
        },
        {
         "hovertemplate": "Alpha: 96.7937<br>Non-zero features: 16<extra></extra>",
         "line": {
          "color": "gray",
          "dash": "dot"
         },
         "mode": "lines",
         "showlegend": false,
         "type": "scatter",
         "x": [
          96.79371240549179,
          96.79371240549179
         ],
         "y": [
          -44803.05179656609,
          51092.91444573431
         ]
        },
        {
         "hovertemplate": "Alpha: 89.6403<br>Non-zero features: 17<extra></extra>",
         "line": {
          "color": "gray",
          "dash": "dot"
         },
         "mode": "lines",
         "showlegend": false,
         "type": "scatter",
         "x": [
          89.64032236671059,
          89.64032236671059
         ],
         "y": [
          -44803.05179656609,
          51092.91444573431
         ]
        },
        {
         "hovertemplate": "Alpha: 76.8805<br>Non-zero features: 18<extra></extra>",
         "line": {
          "color": "gray",
          "dash": "dot"
         },
         "mode": "lines",
         "showlegend": false,
         "type": "scatter",
         "x": [
          76.88045324432063,
          76.88045324432063
         ],
         "y": [
          -44803.05179656609,
          51092.91444573431
         ]
        },
        {
         "hovertemplate": "Alpha: 52.3718<br>Non-zero features: 19<extra></extra>",
         "line": {
          "color": "gray",
          "dash": "dot"
         },
         "mode": "lines",
         "showlegend": false,
         "type": "scatter",
         "x": [
          52.37176957175404,
          52.37176957175404
         ],
         "y": [
          -44803.05179656609,
          51092.91444573431
         ]
        },
        {
         "hovertemplate": "Alpha: 48.5013<br>Non-zero features: 20<extra></extra>",
         "line": {
          "color": "gray",
          "dash": "dot"
         },
         "mode": "lines",
         "showlegend": false,
         "type": "scatter",
         "x": [
          48.50131470999099,
          48.50131470999099
         ],
         "y": [
          -44803.05179656609,
          51092.91444573431
         ]
        },
        {
         "hovertemplate": "Alpha: 38.5232<br>Non-zero features: 21<extra></extra>",
         "line": {
          "color": "gray",
          "dash": "dot"
         },
         "mode": "lines",
         "showlegend": false,
         "type": "scatter",
         "x": [
          38.52319500081476,
          38.52319500081476
         ],
         "y": [
          -44803.05179656609,
          51092.91444573431
         ]
        },
        {
         "hovertemplate": "Alpha: 35.6762<br>Non-zero features: 22<extra></extra>",
         "line": {
          "color": "gray",
          "dash": "dot"
         },
         "mode": "lines",
         "showlegend": false,
         "type": "scatter",
         "x": [
          35.67619768526166,
          35.67619768526166
         ],
         "y": [
          -44803.05179656609,
          51092.91444573431
         ]
        },
        {
         "hovertemplate": "Alpha: 28.3366<br>Non-zero features: 24<extra></extra>",
         "line": {
          "color": "gray",
          "dash": "dot"
         },
         "mode": "lines",
         "showlegend": false,
         "type": "scatter",
         "x": [
          28.336574555448923,
          28.336574555448923
         ],
         "y": [
          -44803.05179656609,
          51092.91444573431
         ]
        },
        {
         "hovertemplate": "Alpha: 22.5069<br>Non-zero features: 25<extra></extra>",
         "line": {
          "color": "gray",
          "dash": "dot"
         },
         "mode": "lines",
         "showlegend": false,
         "type": "scatter",
         "x": [
          22.506923653140028,
          22.506923653140028
         ],
         "y": [
          -44803.05179656609,
          51092.91444573431
         ]
        },
        {
         "hovertemplate": "Alpha: 20.8436<br>Non-zero features: 26<extra></extra>",
         "line": {
          "color": "gray",
          "dash": "dot"
         },
         "mode": "lines",
         "showlegend": false,
         "type": "scatter",
         "x": [
          20.843584171030795,
          20.843584171030795
         ],
         "y": [
          -44803.05179656609,
          51092.91444573431
         ]
        },
        {
         "hovertemplate": "Alpha: 19.3032<br>Non-zero features: 27<extra></extra>",
         "line": {
          "color": "gray",
          "dash": "dot"
         },
         "mode": "lines",
         "showlegend": false,
         "type": "scatter",
         "x": [
          19.30317122812264,
          19.30317122812264
         ],
         "y": [
          -44803.05179656609,
          51092.91444573431
         ]
        },
        {
         "hovertemplate": "Alpha: 12.1777<br>Non-zero features: 28<extra></extra>",
         "line": {
          "color": "gray",
          "dash": "dot"
         },
         "mode": "lines",
         "showlegend": false,
         "type": "scatter",
         "x": [
          12.177727148157537,
          12.177727148157537
         ],
         "y": [
          -44803.05179656609,
          51092.91444573431
         ]
        },
        {
         "hovertemplate": "Alpha: 11.2778<br>Non-zero features: 29<extra></extra>",
         "line": {
          "color": "gray",
          "dash": "dot"
         },
         "mode": "lines",
         "showlegend": false,
         "type": "scatter",
         "x": [
          11.277751003925227,
          11.277751003925227
         ],
         "y": [
          -44803.05179656609,
          51092.91444573431
         ]
        }
       ],
       "layout": {
        "height": 600,
        "legend": {
         "title": {
          "text": "Features"
         }
        },
        "template": {
         "data": {
          "bar": [
           {
            "error_x": {
             "color": "#2a3f5f"
            },
            "error_y": {
             "color": "#2a3f5f"
            },
            "marker": {
             "line": {
              "color": "white",
              "width": 0.5
             },
             "pattern": {
              "fillmode": "overlay",
              "size": 10,
              "solidity": 0.2
             }
            },
            "type": "bar"
           }
          ],
          "barpolar": [
           {
            "marker": {
             "line": {
              "color": "white",
              "width": 0.5
             },
             "pattern": {
              "fillmode": "overlay",
              "size": 10,
              "solidity": 0.2
             }
            },
            "type": "barpolar"
           }
          ],
          "carpet": [
           {
            "aaxis": {
             "endlinecolor": "#2a3f5f",
             "gridcolor": "#C8D4E3",
             "linecolor": "#C8D4E3",
             "minorgridcolor": "#C8D4E3",
             "startlinecolor": "#2a3f5f"
            },
            "baxis": {
             "endlinecolor": "#2a3f5f",
             "gridcolor": "#C8D4E3",
             "linecolor": "#C8D4E3",
             "minorgridcolor": "#C8D4E3",
             "startlinecolor": "#2a3f5f"
            },
            "type": "carpet"
           }
          ],
          "choropleth": [
           {
            "colorbar": {
             "outlinewidth": 0,
             "ticks": ""
            },
            "type": "choropleth"
           }
          ],
          "contour": [
           {
            "colorbar": {
             "outlinewidth": 0,
             "ticks": ""
            },
            "colorscale": [
             [
              0,
              "#0d0887"
             ],
             [
              0.1111111111111111,
              "#46039f"
             ],
             [
              0.2222222222222222,
              "#7201a8"
             ],
             [
              0.3333333333333333,
              "#9c179e"
             ],
             [
              0.4444444444444444,
              "#bd3786"
             ],
             [
              0.5555555555555556,
              "#d8576b"
             ],
             [
              0.6666666666666666,
              "#ed7953"
             ],
             [
              0.7777777777777778,
              "#fb9f3a"
             ],
             [
              0.8888888888888888,
              "#fdca26"
             ],
             [
              1,
              "#f0f921"
             ]
            ],
            "type": "contour"
           }
          ],
          "contourcarpet": [
           {
            "colorbar": {
             "outlinewidth": 0,
             "ticks": ""
            },
            "type": "contourcarpet"
           }
          ],
          "heatmap": [
           {
            "colorbar": {
             "outlinewidth": 0,
             "ticks": ""
            },
            "colorscale": [
             [
              0,
              "#0d0887"
             ],
             [
              0.1111111111111111,
              "#46039f"
             ],
             [
              0.2222222222222222,
              "#7201a8"
             ],
             [
              0.3333333333333333,
              "#9c179e"
             ],
             [
              0.4444444444444444,
              "#bd3786"
             ],
             [
              0.5555555555555556,
              "#d8576b"
             ],
             [
              0.6666666666666666,
              "#ed7953"
             ],
             [
              0.7777777777777778,
              "#fb9f3a"
             ],
             [
              0.8888888888888888,
              "#fdca26"
             ],
             [
              1,
              "#f0f921"
             ]
            ],
            "type": "heatmap"
           }
          ],
          "histogram": [
           {
            "marker": {
             "pattern": {
              "fillmode": "overlay",
              "size": 10,
              "solidity": 0.2
             }
            },
            "type": "histogram"
           }
          ],
          "histogram2d": [
           {
            "colorbar": {
             "outlinewidth": 0,
             "ticks": ""
            },
            "colorscale": [
             [
              0,
              "#0d0887"
             ],
             [
              0.1111111111111111,
              "#46039f"
             ],
             [
              0.2222222222222222,
              "#7201a8"
             ],
             [
              0.3333333333333333,
              "#9c179e"
             ],
             [
              0.4444444444444444,
              "#bd3786"
             ],
             [
              0.5555555555555556,
              "#d8576b"
             ],
             [
              0.6666666666666666,
              "#ed7953"
             ],
             [
              0.7777777777777778,
              "#fb9f3a"
             ],
             [
              0.8888888888888888,
              "#fdca26"
             ],
             [
              1,
              "#f0f921"
             ]
            ],
            "type": "histogram2d"
           }
          ],
          "histogram2dcontour": [
           {
            "colorbar": {
             "outlinewidth": 0,
             "ticks": ""
            },
            "colorscale": [
             [
              0,
              "#0d0887"
             ],
             [
              0.1111111111111111,
              "#46039f"
             ],
             [
              0.2222222222222222,
              "#7201a8"
             ],
             [
              0.3333333333333333,
              "#9c179e"
             ],
             [
              0.4444444444444444,
              "#bd3786"
             ],
             [
              0.5555555555555556,
              "#d8576b"
             ],
             [
              0.6666666666666666,
              "#ed7953"
             ],
             [
              0.7777777777777778,
              "#fb9f3a"
             ],
             [
              0.8888888888888888,
              "#fdca26"
             ],
             [
              1,
              "#f0f921"
             ]
            ],
            "type": "histogram2dcontour"
           }
          ],
          "mesh3d": [
           {
            "colorbar": {
             "outlinewidth": 0,
             "ticks": ""
            },
            "type": "mesh3d"
           }
          ],
          "parcoords": [
           {
            "line": {
             "colorbar": {
              "outlinewidth": 0,
              "ticks": ""
             }
            },
            "type": "parcoords"
           }
          ],
          "pie": [
           {
            "automargin": true,
            "type": "pie"
           }
          ],
          "scatter": [
           {
            "fillpattern": {
             "fillmode": "overlay",
             "size": 10,
             "solidity": 0.2
            },
            "type": "scatter"
           }
          ],
          "scatter3d": [
           {
            "line": {
             "colorbar": {
              "outlinewidth": 0,
              "ticks": ""
             }
            },
            "marker": {
             "colorbar": {
              "outlinewidth": 0,
              "ticks": ""
             }
            },
            "type": "scatter3d"
           }
          ],
          "scattercarpet": [
           {
            "marker": {
             "colorbar": {
              "outlinewidth": 0,
              "ticks": ""
             }
            },
            "type": "scattercarpet"
           }
          ],
          "scattergeo": [
           {
            "marker": {
             "colorbar": {
              "outlinewidth": 0,
              "ticks": ""
             }
            },
            "type": "scattergeo"
           }
          ],
          "scattergl": [
           {
            "marker": {
             "colorbar": {
              "outlinewidth": 0,
              "ticks": ""
             }
            },
            "type": "scattergl"
           }
          ],
          "scattermap": [
           {
            "marker": {
             "colorbar": {
              "outlinewidth": 0,
              "ticks": ""
             }
            },
            "type": "scattermap"
           }
          ],
          "scattermapbox": [
           {
            "marker": {
             "colorbar": {
              "outlinewidth": 0,
              "ticks": ""
             }
            },
            "type": "scattermapbox"
           }
          ],
          "scatterpolar": [
           {
            "marker": {
             "colorbar": {
              "outlinewidth": 0,
              "ticks": ""
             }
            },
            "type": "scatterpolar"
           }
          ],
          "scatterpolargl": [
           {
            "marker": {
             "colorbar": {
              "outlinewidth": 0,
              "ticks": ""
             }
            },
            "type": "scatterpolargl"
           }
          ],
          "scatterternary": [
           {
            "marker": {
             "colorbar": {
              "outlinewidth": 0,
              "ticks": ""
             }
            },
            "type": "scatterternary"
           }
          ],
          "surface": [
           {
            "colorbar": {
             "outlinewidth": 0,
             "ticks": ""
            },
            "colorscale": [
             [
              0,
              "#0d0887"
             ],
             [
              0.1111111111111111,
              "#46039f"
             ],
             [
              0.2222222222222222,
              "#7201a8"
             ],
             [
              0.3333333333333333,
              "#9c179e"
             ],
             [
              0.4444444444444444,
              "#bd3786"
             ],
             [
              0.5555555555555556,
              "#d8576b"
             ],
             [
              0.6666666666666666,
              "#ed7953"
             ],
             [
              0.7777777777777778,
              "#fb9f3a"
             ],
             [
              0.8888888888888888,
              "#fdca26"
             ],
             [
              1,
              "#f0f921"
             ]
            ],
            "type": "surface"
           }
          ],
          "table": [
           {
            "cells": {
             "fill": {
              "color": "#EBF0F8"
             },
             "line": {
              "color": "white"
             }
            },
            "header": {
             "fill": {
              "color": "#C8D4E3"
             },
             "line": {
              "color": "white"
             }
            },
            "type": "table"
           }
          ]
         },
         "layout": {
          "annotationdefaults": {
           "arrowcolor": "#2a3f5f",
           "arrowhead": 0,
           "arrowwidth": 1
          },
          "autotypenumbers": "strict",
          "coloraxis": {
           "colorbar": {
            "outlinewidth": 0,
            "ticks": ""
           }
          },
          "colorscale": {
           "diverging": [
            [
             0,
             "#8e0152"
            ],
            [
             0.1,
             "#c51b7d"
            ],
            [
             0.2,
             "#de77ae"
            ],
            [
             0.3,
             "#f1b6da"
            ],
            [
             0.4,
             "#fde0ef"
            ],
            [
             0.5,
             "#f7f7f7"
            ],
            [
             0.6,
             "#e6f5d0"
            ],
            [
             0.7,
             "#b8e186"
            ],
            [
             0.8,
             "#7fbc41"
            ],
            [
             0.9,
             "#4d9221"
            ],
            [
             1,
             "#276419"
            ]
           ],
           "sequential": [
            [
             0,
             "#0d0887"
            ],
            [
             0.1111111111111111,
             "#46039f"
            ],
            [
             0.2222222222222222,
             "#7201a8"
            ],
            [
             0.3333333333333333,
             "#9c179e"
            ],
            [
             0.4444444444444444,
             "#bd3786"
            ],
            [
             0.5555555555555556,
             "#d8576b"
            ],
            [
             0.6666666666666666,
             "#ed7953"
            ],
            [
             0.7777777777777778,
             "#fb9f3a"
            ],
            [
             0.8888888888888888,
             "#fdca26"
            ],
            [
             1,
             "#f0f921"
            ]
           ],
           "sequentialminus": [
            [
             0,
             "#0d0887"
            ],
            [
             0.1111111111111111,
             "#46039f"
            ],
            [
             0.2222222222222222,
             "#7201a8"
            ],
            [
             0.3333333333333333,
             "#9c179e"
            ],
            [
             0.4444444444444444,
             "#bd3786"
            ],
            [
             0.5555555555555556,
             "#d8576b"
            ],
            [
             0.6666666666666666,
             "#ed7953"
            ],
            [
             0.7777777777777778,
             "#fb9f3a"
            ],
            [
             0.8888888888888888,
             "#fdca26"
            ],
            [
             1,
             "#f0f921"
            ]
           ]
          },
          "colorway": [
           "#636efa",
           "#EF553B",
           "#00cc96",
           "#ab63fa",
           "#FFA15A",
           "#19d3f3",
           "#FF6692",
           "#B6E880",
           "#FF97FF",
           "#FECB52"
          ],
          "font": {
           "color": "#2a3f5f"
          },
          "geo": {
           "bgcolor": "white",
           "lakecolor": "white",
           "landcolor": "white",
           "showlakes": true,
           "showland": true,
           "subunitcolor": "#C8D4E3"
          },
          "hoverlabel": {
           "align": "left"
          },
          "hovermode": "closest",
          "mapbox": {
           "style": "light"
          },
          "paper_bgcolor": "white",
          "plot_bgcolor": "white",
          "polar": {
           "angularaxis": {
            "gridcolor": "#EBF0F8",
            "linecolor": "#EBF0F8",
            "ticks": ""
           },
           "bgcolor": "white",
           "radialaxis": {
            "gridcolor": "#EBF0F8",
            "linecolor": "#EBF0F8",
            "ticks": ""
           }
          },
          "scene": {
           "xaxis": {
            "backgroundcolor": "white",
            "gridcolor": "#DFE8F3",
            "gridwidth": 2,
            "linecolor": "#EBF0F8",
            "showbackground": true,
            "ticks": "",
            "zerolinecolor": "#EBF0F8"
           },
           "yaxis": {
            "backgroundcolor": "white",
            "gridcolor": "#DFE8F3",
            "gridwidth": 2,
            "linecolor": "#EBF0F8",
            "showbackground": true,
            "ticks": "",
            "zerolinecolor": "#EBF0F8"
           },
           "zaxis": {
            "backgroundcolor": "white",
            "gridcolor": "#DFE8F3",
            "gridwidth": 2,
            "linecolor": "#EBF0F8",
            "showbackground": true,
            "ticks": "",
            "zerolinecolor": "#EBF0F8"
           }
          },
          "shapedefaults": {
           "line": {
            "color": "#2a3f5f"
           }
          },
          "ternary": {
           "aaxis": {
            "gridcolor": "#DFE8F3",
            "linecolor": "#A2B1C6",
            "ticks": ""
           },
           "baxis": {
            "gridcolor": "#DFE8F3",
            "linecolor": "#A2B1C6",
            "ticks": ""
           },
           "bgcolor": "white",
           "caxis": {
            "gridcolor": "#DFE8F3",
            "linecolor": "#A2B1C6",
            "ticks": ""
           }
          },
          "title": {
           "x": 0.05
          },
          "xaxis": {
           "automargin": true,
           "gridcolor": "#EBF0F8",
           "linecolor": "#EBF0F8",
           "ticks": "",
           "title": {
            "standoff": 15
           },
           "zerolinecolor": "#EBF0F8",
           "zerolinewidth": 2
          },
          "yaxis": {
           "automargin": true,
           "gridcolor": "#EBF0F8",
           "linecolor": "#EBF0F8",
           "ticks": "",
           "title": {
            "standoff": 15
           },
           "zerolinecolor": "#EBF0F8",
           "zerolinewidth": 2
          }
         }
        },
        "title": {
         "text": "Lasso Regularization Path (with Feature Selection Steps)"
        },
        "width": 900,
        "xaxis": {
         "title": {
          "text": "Alpha (log scale)"
         },
         "type": "log"
        },
        "yaxis": {
         "title": {
          "text": "Coefficient Value"
         }
        }
       }
      }
     },
     "metadata": {},
     "output_type": "display_data"
    }
   ],
   "source": [
    "import numpy as np\n",
    "import plotly.graph_objects as go\n",
    "from sklearn.linear_model import lasso_path\n",
    "\n",
    "# Compute Lasso path\n",
    "alphas_lasso, coefs_lasso, _ = lasso_path(X_preprocessed, y_train, eps=5e-4)\n",
    "feature_names = X_preprocessed.columns.to_list()\n",
    "\n",
    "# Count non-zero coefficients per alpha\n",
    "nonzero_counts = (coefs_lasso != 0).sum(axis=0)\n",
    "\n",
    "# Find where non-zero count changes\n",
    "change_indices = np.where(np.diff(nonzero_counts) != 0)[0] + 1\n",
    "change_alphas = alphas_lasso[change_indices]\n",
    "change_counts = nonzero_counts[change_indices]\n",
    "\n",
    "# Create base plot: coefficient paths\n",
    "fig = go.Figure()\n",
    "\n",
    "for coef, name in zip(coefs_lasso, feature_names):\n",
    "    fig.add_trace(go.Scatter(\n",
    "        x=alphas_lasso,\n",
    "        y=coef,\n",
    "        mode='lines',\n",
    "        name=name\n",
    "    ))\n",
    "\n",
    "# Add vertical dotted lines where non-zero feature count changes\n",
    "for alpha, count in zip(change_alphas, change_counts):\n",
    "    fig.add_trace(go.Scatter(\n",
    "        x=[alpha, alpha],\n",
    "        y=[coefs_lasso.min(), coefs_lasso.max()],\n",
    "        mode='lines',\n",
    "        line=dict(dash='dot', color='gray'),\n",
    "        showlegend=False,\n",
    "        hovertemplate=f\"Alpha: {alpha:.4f}<br>Non-zero features: {count}<extra></extra>\"\n",
    "    ))\n",
    "\n",
    "# Final layout\n",
    "fig.update_layout(\n",
    "    title='Lasso Regularization Path (with Feature Selection Steps)',\n",
    "    xaxis=dict(title='Alpha (log scale)', type='log'),\n",
    "    yaxis=dict(title='Coefficient Value'),\n",
    "    template='plotly_white',\n",
    "    legend_title_text='Features',\n",
    "    width=900,\n",
    "    height=600\n",
    ")\n",
    "\n",
    "fig.show()\n"
   ]
  },
  {
   "cell_type": "markdown",
   "id": "e662924f",
   "metadata": {},
   "source": [
    "## Final Selected Model"
   ]
  },
  {
   "cell_type": "code",
   "execution_count": 17,
   "id": "c419aaf2",
   "metadata": {},
   "outputs": [
    {
     "name": "stdout",
     "output_type": "stream",
     "text": [
      "Selected Alpha from 1-SE rule: 30.0\n",
      "\n",
      "Metrics Training:\n",
      "R²: 0.911\n",
      "MSE: 45938135.87\n",
      "RMSE: 6777.77\n",
      "MAE: 4546.78\n",
      "\n",
      "Metrics Test:\n",
      "R²: 0.911\n",
      "MSE: 46065085.54\n",
      "RMSE: 6787.13\n",
      "MAE: 4526.19\n",
      "\n",
      "Selected Coefficients (non-zero): 19\n"
     ]
    },
    {
     "data": {
      "text/html": [
       "<div>\n",
       "<style scoped>\n",
       "    .dataframe tbody tr th:only-of-type {\n",
       "        vertical-align: middle;\n",
       "    }\n",
       "\n",
       "    .dataframe tbody tr th {\n",
       "        vertical-align: top;\n",
       "    }\n",
       "\n",
       "    .dataframe thead th {\n",
       "        text-align: right;\n",
       "    }\n",
       "</style>\n",
       "<table border=\"1\" class=\"dataframe\">\n",
       "  <thead>\n",
       "    <tr style=\"text-align: right;\">\n",
       "      <th></th>\n",
       "      <th>Selected Feature</th>\n",
       "      <th>Coefficient</th>\n",
       "    </tr>\n",
       "  </thead>\n",
       "  <tbody>\n",
       "    <tr>\n",
       "      <th>0</th>\n",
       "      <td>class_Economy</td>\n",
       "      <td>-44712.037512</td>\n",
       "    </tr>\n",
       "    <tr>\n",
       "      <th>1</th>\n",
       "      <td>stops_zero</td>\n",
       "      <td>-7233.533484</td>\n",
       "    </tr>\n",
       "    <tr>\n",
       "      <th>2</th>\n",
       "      <td>airline_Vistara</td>\n",
       "      <td>2688.257792</td>\n",
       "    </tr>\n",
       "    <tr>\n",
       "      <th>3</th>\n",
       "      <td>duration</td>\n",
       "      <td>-1753.843322</td>\n",
       "    </tr>\n",
       "    <tr>\n",
       "      <th>4</th>\n",
       "      <td>source_city_Kolkata</td>\n",
       "      <td>1534.823157</td>\n",
       "    </tr>\n",
       "    <tr>\n",
       "      <th>5</th>\n",
       "      <td>destination_city_Hyderabad</td>\n",
       "      <td>-1364.363190</td>\n",
       "    </tr>\n",
       "    <tr>\n",
       "      <th>6</th>\n",
       "      <td>destination_city_Kolkata</td>\n",
       "      <td>1315.960962</td>\n",
       "    </tr>\n",
       "    <tr>\n",
       "      <th>7</th>\n",
       "      <td>source_city_Hyderabad</td>\n",
       "      <td>-1279.974772</td>\n",
       "    </tr>\n",
       "    <tr>\n",
       "      <th>8</th>\n",
       "      <td>destination_city_Delhi</td>\n",
       "      <td>-1244.439433</td>\n",
       "    </tr>\n",
       "    <tr>\n",
       "      <th>9</th>\n",
       "      <td>stops_two_or_more</td>\n",
       "      <td>1171.393483</td>\n",
       "    </tr>\n",
       "    <tr>\n",
       "      <th>10</th>\n",
       "      <td>airline_Air_India</td>\n",
       "      <td>-1135.031607</td>\n",
       "    </tr>\n",
       "    <tr>\n",
       "      <th>11</th>\n",
       "      <td>source_city_Delhi</td>\n",
       "      <td>-1133.397457</td>\n",
       "    </tr>\n",
       "    <tr>\n",
       "      <th>12</th>\n",
       "      <td>arrival_time_Night</td>\n",
       "      <td>588.816048</td>\n",
       "    </tr>\n",
       "    <tr>\n",
       "      <th>13</th>\n",
       "      <td>arrival_time_Early_Morning</td>\n",
       "      <td>-572.621709</td>\n",
       "    </tr>\n",
       "    <tr>\n",
       "      <th>14</th>\n",
       "      <td>arrival_time_Evening</td>\n",
       "      <td>430.779843</td>\n",
       "    </tr>\n",
       "    <tr>\n",
       "      <th>15</th>\n",
       "      <td>airline_Indigo</td>\n",
       "      <td>392.003467</td>\n",
       "    </tr>\n",
       "    <tr>\n",
       "      <th>16</th>\n",
       "      <td>const</td>\n",
       "      <td>358.930302</td>\n",
       "    </tr>\n",
       "    <tr>\n",
       "      <th>17</th>\n",
       "      <td>departure_time_Morning</td>\n",
       "      <td>189.455936</td>\n",
       "    </tr>\n",
       "    <tr>\n",
       "      <th>18</th>\n",
       "      <td>departure_time_Early_Morning</td>\n",
       "      <td>46.078182</td>\n",
       "    </tr>\n",
       "  </tbody>\n",
       "</table>\n",
       "</div>"
      ],
      "text/plain": [
       "                Selected Feature   Coefficient\n",
       "0                  class_Economy -44712.037512\n",
       "1                     stops_zero  -7233.533484\n",
       "2                airline_Vistara   2688.257792\n",
       "3                       duration  -1753.843322\n",
       "4            source_city_Kolkata   1534.823157\n",
       "5     destination_city_Hyderabad  -1364.363190\n",
       "6       destination_city_Kolkata   1315.960962\n",
       "7          source_city_Hyderabad  -1279.974772\n",
       "8         destination_city_Delhi  -1244.439433\n",
       "9              stops_two_or_more   1171.393483\n",
       "10             airline_Air_India  -1135.031607\n",
       "11             source_city_Delhi  -1133.397457\n",
       "12            arrival_time_Night    588.816048\n",
       "13    arrival_time_Early_Morning   -572.621709\n",
       "14          arrival_time_Evening    430.779843\n",
       "15                airline_Indigo    392.003467\n",
       "16                         const    358.930302\n",
       "17        departure_time_Morning    189.455936\n",
       "18  departure_time_Early_Morning     46.078182"
      ]
     },
     "execution_count": 17,
     "metadata": {},
     "output_type": "execute_result"
    }
   ],
   "source": [
    "lasso_pipeline = Pipeline([\n",
    "    ('preprocessor', preprocessor),\n",
    "    ('model', Lasso(alpha=alpha_1se))\n",
    "])\n",
    "\n",
    "lasso_pipeline.fit(X_train, y_train)\n",
    "\n",
    "print(f\"Selected Alpha from 1-SE rule: {alpha_1se}\")\n",
    "\n",
    "# 5. Predictions and metrics\n",
    "print(\"\\nMetrics Training:\")\n",
    "y_pred = lasso_pipeline.predict(X_train)\n",
    "evaluate_predictions(y_train, y_pred )\n",
    "\n",
    "print(\"\\nMetrics Test:\")\n",
    "y_pred = lasso_pipeline.predict(X_test)\n",
    "evaluate_predictions(y_test, y_pred )\n",
    "\n",
    "# 6. Extract coefficients\n",
    "lasso = lasso_pipeline.named_steps['model']\n",
    "coef = pd.Series(lasso.coef_, index=X_encoded.columns)\n",
    "show_nonzero_coefficients(coef)"
   ]
  },
  {
   "cell_type": "code",
   "execution_count": null,
   "id": "fea6cb43",
   "metadata": {},
   "outputs": [],
   "source": []
  }
 ],
 "metadata": {
  "kernelspec": {
   "display_name": "Python 3 (ipykernel)",
   "language": "python",
   "name": "python3"
  },
  "language_info": {
   "codemirror_mode": {
    "name": "ipython",
    "version": 3
   },
   "file_extension": ".py",
   "mimetype": "text/x-python",
   "name": "python",
   "nbconvert_exporter": "python",
   "pygments_lexer": "ipython3",
   "version": "3.12.9"
  }
 },
 "nbformat": 4,
 "nbformat_minor": 5
}
