{
 "cells": [
  {
   "cell_type": "code",
   "execution_count": 10,
   "id": "d5d26eb9",
   "metadata": {},
   "outputs": [],
   "source": [
    "from pathlib import Path\n",
    "import numpy as np\n",
    "import pandas as pd\n",
    "from ydata_profiling import ProfileReport\n",
    "\n",
    "import seaborn as sns\n",
    "import matplotlib.pyplot as plt\n",
    "import plotly.express as px\n",
    "\n",
    "import statsmodels.api as sm\n",
    "import statsmodels.formula.api as smf\n",
    "from statsmodels.stats.stattools import durbin_watson"
   ]
  },
  {
   "cell_type": "code",
   "execution_count": 11,
   "id": "14239277",
   "metadata": {},
   "outputs": [],
   "source": [
    "SIMPLIFIED_PLOTS = True\n",
    "PLOT_SUMSAMPLE = 2000 # Used for heavy plots like scatter"
   ]
  },
  {
   "cell_type": "code",
   "execution_count": 12,
   "id": "74402378-599c-4bc0-85a4-f99a371b7367",
   "metadata": {},
   "outputs": [
    {
     "data": {
      "text/html": [
       "<div>\n",
       "<style scoped>\n",
       "    .dataframe tbody tr th:only-of-type {\n",
       "        vertical-align: middle;\n",
       "    }\n",
       "\n",
       "    .dataframe tbody tr th {\n",
       "        vertical-align: top;\n",
       "    }\n",
       "\n",
       "    .dataframe thead th {\n",
       "        text-align: right;\n",
       "    }\n",
       "</style>\n",
       "<table border=\"1\" class=\"dataframe\">\n",
       "  <thead>\n",
       "    <tr style=\"text-align: right;\">\n",
       "      <th></th>\n",
       "      <th>airline</th>\n",
       "      <th>flight</th>\n",
       "      <th>source_city</th>\n",
       "      <th>departure_time</th>\n",
       "      <th>stops</th>\n",
       "      <th>arrival_time</th>\n",
       "      <th>destination_city</th>\n",
       "      <th>class</th>\n",
       "      <th>duration</th>\n",
       "      <th>days_left</th>\n",
       "      <th>price</th>\n",
       "    </tr>\n",
       "  </thead>\n",
       "  <tbody>\n",
       "    <tr>\n",
       "      <th>0</th>\n",
       "      <td>SpiceJet</td>\n",
       "      <td>SG-8709</td>\n",
       "      <td>Delhi</td>\n",
       "      <td>Evening</td>\n",
       "      <td>zero</td>\n",
       "      <td>Night</td>\n",
       "      <td>Mumbai</td>\n",
       "      <td>Economy</td>\n",
       "      <td>2.17</td>\n",
       "      <td>1</td>\n",
       "      <td>5953</td>\n",
       "    </tr>\n",
       "    <tr>\n",
       "      <th>1</th>\n",
       "      <td>SpiceJet</td>\n",
       "      <td>SG-8157</td>\n",
       "      <td>Delhi</td>\n",
       "      <td>Early_Morning</td>\n",
       "      <td>zero</td>\n",
       "      <td>Morning</td>\n",
       "      <td>Mumbai</td>\n",
       "      <td>Economy</td>\n",
       "      <td>2.33</td>\n",
       "      <td>1</td>\n",
       "      <td>5953</td>\n",
       "    </tr>\n",
       "    <tr>\n",
       "      <th>2</th>\n",
       "      <td>AirAsia</td>\n",
       "      <td>I5-764</td>\n",
       "      <td>Delhi</td>\n",
       "      <td>Early_Morning</td>\n",
       "      <td>zero</td>\n",
       "      <td>Early_Morning</td>\n",
       "      <td>Mumbai</td>\n",
       "      <td>Economy</td>\n",
       "      <td>2.17</td>\n",
       "      <td>1</td>\n",
       "      <td>5956</td>\n",
       "    </tr>\n",
       "    <tr>\n",
       "      <th>3</th>\n",
       "      <td>Vistara</td>\n",
       "      <td>UK-995</td>\n",
       "      <td>Delhi</td>\n",
       "      <td>Morning</td>\n",
       "      <td>zero</td>\n",
       "      <td>Afternoon</td>\n",
       "      <td>Mumbai</td>\n",
       "      <td>Economy</td>\n",
       "      <td>2.25</td>\n",
       "      <td>1</td>\n",
       "      <td>5955</td>\n",
       "    </tr>\n",
       "    <tr>\n",
       "      <th>4</th>\n",
       "      <td>Vistara</td>\n",
       "      <td>UK-963</td>\n",
       "      <td>Delhi</td>\n",
       "      <td>Morning</td>\n",
       "      <td>zero</td>\n",
       "      <td>Morning</td>\n",
       "      <td>Mumbai</td>\n",
       "      <td>Economy</td>\n",
       "      <td>2.33</td>\n",
       "      <td>1</td>\n",
       "      <td>5955</td>\n",
       "    </tr>\n",
       "    <tr>\n",
       "      <th>...</th>\n",
       "      <td>...</td>\n",
       "      <td>...</td>\n",
       "      <td>...</td>\n",
       "      <td>...</td>\n",
       "      <td>...</td>\n",
       "      <td>...</td>\n",
       "      <td>...</td>\n",
       "      <td>...</td>\n",
       "      <td>...</td>\n",
       "      <td>...</td>\n",
       "      <td>...</td>\n",
       "    </tr>\n",
       "    <tr>\n",
       "      <th>300148</th>\n",
       "      <td>Vistara</td>\n",
       "      <td>UK-822</td>\n",
       "      <td>Chennai</td>\n",
       "      <td>Morning</td>\n",
       "      <td>one</td>\n",
       "      <td>Evening</td>\n",
       "      <td>Hyderabad</td>\n",
       "      <td>Business</td>\n",
       "      <td>10.08</td>\n",
       "      <td>49</td>\n",
       "      <td>69265</td>\n",
       "    </tr>\n",
       "    <tr>\n",
       "      <th>300149</th>\n",
       "      <td>Vistara</td>\n",
       "      <td>UK-826</td>\n",
       "      <td>Chennai</td>\n",
       "      <td>Afternoon</td>\n",
       "      <td>one</td>\n",
       "      <td>Night</td>\n",
       "      <td>Hyderabad</td>\n",
       "      <td>Business</td>\n",
       "      <td>10.42</td>\n",
       "      <td>49</td>\n",
       "      <td>77105</td>\n",
       "    </tr>\n",
       "    <tr>\n",
       "      <th>300150</th>\n",
       "      <td>Vistara</td>\n",
       "      <td>UK-832</td>\n",
       "      <td>Chennai</td>\n",
       "      <td>Early_Morning</td>\n",
       "      <td>one</td>\n",
       "      <td>Night</td>\n",
       "      <td>Hyderabad</td>\n",
       "      <td>Business</td>\n",
       "      <td>13.83</td>\n",
       "      <td>49</td>\n",
       "      <td>79099</td>\n",
       "    </tr>\n",
       "    <tr>\n",
       "      <th>300151</th>\n",
       "      <td>Vistara</td>\n",
       "      <td>UK-828</td>\n",
       "      <td>Chennai</td>\n",
       "      <td>Early_Morning</td>\n",
       "      <td>one</td>\n",
       "      <td>Evening</td>\n",
       "      <td>Hyderabad</td>\n",
       "      <td>Business</td>\n",
       "      <td>10.00</td>\n",
       "      <td>49</td>\n",
       "      <td>81585</td>\n",
       "    </tr>\n",
       "    <tr>\n",
       "      <th>300152</th>\n",
       "      <td>Vistara</td>\n",
       "      <td>UK-822</td>\n",
       "      <td>Chennai</td>\n",
       "      <td>Morning</td>\n",
       "      <td>one</td>\n",
       "      <td>Evening</td>\n",
       "      <td>Hyderabad</td>\n",
       "      <td>Business</td>\n",
       "      <td>10.08</td>\n",
       "      <td>49</td>\n",
       "      <td>81585</td>\n",
       "    </tr>\n",
       "  </tbody>\n",
       "</table>\n",
       "<p>300153 rows × 11 columns</p>\n",
       "</div>"
      ],
      "text/plain": [
       "         airline   flight source_city departure_time stops   arrival_time  \\\n",
       "0       SpiceJet  SG-8709       Delhi        Evening  zero          Night   \n",
       "1       SpiceJet  SG-8157       Delhi  Early_Morning  zero        Morning   \n",
       "2        AirAsia   I5-764       Delhi  Early_Morning  zero  Early_Morning   \n",
       "3        Vistara   UK-995       Delhi        Morning  zero      Afternoon   \n",
       "4        Vistara   UK-963       Delhi        Morning  zero        Morning   \n",
       "...          ...      ...         ...            ...   ...            ...   \n",
       "300148   Vistara   UK-822     Chennai        Morning   one        Evening   \n",
       "300149   Vistara   UK-826     Chennai      Afternoon   one          Night   \n",
       "300150   Vistara   UK-832     Chennai  Early_Morning   one          Night   \n",
       "300151   Vistara   UK-828     Chennai  Early_Morning   one        Evening   \n",
       "300152   Vistara   UK-822     Chennai        Morning   one        Evening   \n",
       "\n",
       "       destination_city     class  duration  days_left  price  \n",
       "0                Mumbai   Economy      2.17          1   5953  \n",
       "1                Mumbai   Economy      2.33          1   5953  \n",
       "2                Mumbai   Economy      2.17          1   5956  \n",
       "3                Mumbai   Economy      2.25          1   5955  \n",
       "4                Mumbai   Economy      2.33          1   5955  \n",
       "...                 ...       ...       ...        ...    ...  \n",
       "300148        Hyderabad  Business     10.08         49  69265  \n",
       "300149        Hyderabad  Business     10.42         49  77105  \n",
       "300150        Hyderabad  Business     13.83         49  79099  \n",
       "300151        Hyderabad  Business     10.00         49  81585  \n",
       "300152        Hyderabad  Business     10.08         49  81585  \n",
       "\n",
       "[300153 rows x 11 columns]"
      ]
     },
     "execution_count": 12,
     "metadata": {},
     "output_type": "execute_result"
    }
   ],
   "source": [
    "df_raw = pd.read_csv(\"./data/Clean_Dataset.csv\", index_col=0)\n",
    "df_raw_sample = df_raw.sample(n=PLOT_SUMSAMPLE)\n",
    "df_raw "
   ]
  },
  {
   "cell_type": "markdown",
   "id": "6cc5d673",
   "metadata": {},
   "source": [
    "## Exploratory Data Analysis\n",
    "- Top 5 Highest correlation predictors: class, duration, days_left, stops, airline\n",
    "- duration class:Business: Log, heteroskedasticity \n",
    "- duration class:Economy: Linear, heteroskedasticity\n",
    "- days_left class:economy: 1/x"
   ]
  },
  {
   "cell_type": "code",
   "execution_count": 13,
   "id": "1ec3f453",
   "metadata": {},
   "outputs": [],
   "source": [
    "# Create EDA report IF it doesn't exist\n",
    "path_eda_report = Path(\"EDA/profiling_report.html\")\n",
    "path_eda_report.parent.mkdir(exist_ok=True)\n",
    "if not path_eda_report.exists():\n",
    "    profile = ProfileReport(df_raw, title=\"Profiling Report\")\n",
    "    profile.to_file(path_eda_report)"
   ]
  },
  {
   "cell_type": "code",
   "execution_count": 14,
   "id": "a584b792",
   "metadata": {},
   "outputs": [
    {
     "data": {
      "text/html": [
       "<div>\n",
       "<style scoped>\n",
       "    .dataframe tbody tr th:only-of-type {\n",
       "        vertical-align: middle;\n",
       "    }\n",
       "\n",
       "    .dataframe tbody tr th {\n",
       "        vertical-align: top;\n",
       "    }\n",
       "\n",
       "    .dataframe thead th {\n",
       "        text-align: right;\n",
       "    }\n",
       "</style>\n",
       "<table border=\"1\" class=\"dataframe\">\n",
       "  <thead>\n",
       "    <tr style=\"text-align: right;\">\n",
       "      <th></th>\n",
       "      <th>duration</th>\n",
       "      <th>days_left</th>\n",
       "      <th>price</th>\n",
       "    </tr>\n",
       "  </thead>\n",
       "  <tbody>\n",
       "    <tr>\n",
       "      <th>count</th>\n",
       "      <td>300153.000000</td>\n",
       "      <td>300153.000000</td>\n",
       "      <td>300153.000000</td>\n",
       "    </tr>\n",
       "    <tr>\n",
       "      <th>mean</th>\n",
       "      <td>12.221021</td>\n",
       "      <td>26.004751</td>\n",
       "      <td>20889.660523</td>\n",
       "    </tr>\n",
       "    <tr>\n",
       "      <th>std</th>\n",
       "      <td>7.191997</td>\n",
       "      <td>13.561004</td>\n",
       "      <td>22697.767366</td>\n",
       "    </tr>\n",
       "    <tr>\n",
       "      <th>min</th>\n",
       "      <td>0.830000</td>\n",
       "      <td>1.000000</td>\n",
       "      <td>1105.000000</td>\n",
       "    </tr>\n",
       "    <tr>\n",
       "      <th>25%</th>\n",
       "      <td>6.830000</td>\n",
       "      <td>15.000000</td>\n",
       "      <td>4783.000000</td>\n",
       "    </tr>\n",
       "    <tr>\n",
       "      <th>50%</th>\n",
       "      <td>11.250000</td>\n",
       "      <td>26.000000</td>\n",
       "      <td>7425.000000</td>\n",
       "    </tr>\n",
       "    <tr>\n",
       "      <th>75%</th>\n",
       "      <td>16.170000</td>\n",
       "      <td>38.000000</td>\n",
       "      <td>42521.000000</td>\n",
       "    </tr>\n",
       "    <tr>\n",
       "      <th>max</th>\n",
       "      <td>49.830000</td>\n",
       "      <td>49.000000</td>\n",
       "      <td>123071.000000</td>\n",
       "    </tr>\n",
       "  </tbody>\n",
       "</table>\n",
       "</div>"
      ],
      "text/plain": [
       "            duration      days_left          price\n",
       "count  300153.000000  300153.000000  300153.000000\n",
       "mean       12.221021      26.004751   20889.660523\n",
       "std         7.191997      13.561004   22697.767366\n",
       "min         0.830000       1.000000    1105.000000\n",
       "25%         6.830000      15.000000    4783.000000\n",
       "50%        11.250000      26.000000    7425.000000\n",
       "75%        16.170000      38.000000   42521.000000\n",
       "max        49.830000      49.000000  123071.000000"
      ]
     },
     "execution_count": 14,
     "metadata": {},
     "output_type": "execute_result"
    }
   ],
   "source": [
    "df_raw.describe()"
   ]
  },
  {
   "cell_type": "code",
   "execution_count": 20,
   "id": "6985d759",
   "metadata": {},
   "outputs": [
    {
     "data": {
      "text/plain": [
       "<Axes: >"
      ]
     },
     "execution_count": 20,
     "metadata": {},
     "output_type": "execute_result"
    },
    {
     "data": {
      "image/png": "[encoded data removed]",
      "text/plain": [
       "<Figure size 640x480 with 1 Axes>"
      ]
     },
     "metadata": {},
     "output_type": "display_data"
    }
   ],
   "source": [
    "# px.histogram(df_raw, x=\"price\")\n",
    "df_raw.price.hist(bins=20)"
   ]
  },
  {
   "cell_type": "code",
   "execution_count": 16,
   "id": "0764bb25",
   "metadata": {},
   "outputs": [
    {
     "data": {
      "application/vnd.plotly.v1+json": {
       "config": {
        "plotlyServerURL": "https://plot.ly"
       },
       "data": [
        {
         "hovertemplate": "class=Economy<br>days_left=%{x}<br>price=%{y}<extra></extra>",
         "legendgroup": "Economy",
         "marker": {
          "color": "#636efa",
          "symbol": "circle"
         },
         "mode": "markers",
         "name": "Economy",
         "showlegend": true,
         "type": "scattergl",
         "x": {
          "bdata": "KAwLAyAmFSIZEgQqDSAqKxMvIhYXKBkFAjEFBS8wFCEjDx8cExAoCRwlBSAuKx8TCSARFSgxBSkgCQoHBwgZHBUeCxUYESQkKB4IJgUNKiMNLQ4HERoOLisODiEQFycMJR0JLi4kEAMiIy8iKA8PMTAVHBIIHQQRGgYMCBUgEhAOGysTEB4sJB4XEh0pCB0VKQUqFA0mESANLxQRIgsaARkPEwgcCw8gHBIaJy0YLSAaDyUbJQUWFTASDC0NBCAECicvEAwXLSkqJiYcCwYTHRcRGxkPAgwrDwssHA4sLikNKAIFBAEWFTAfFQwEMC0RIggeFRwsFw0wFx8mFCIaDQclJysfBxIFFA4iMQgDBwUdLCgFCiYSKRkdKiYpFQ8bFCkHGykREi4ICxcaIBsQKSEHLwYMJhwiMRUxLTEZKCUNLCIsEwIWHBgQKScHDxoTChMJFxonLBkuEwQQDxMuHwciJCUdIyUEChAIIhMuAxkXKBovDysiASYmKAkUGQoZMA0TKQQXMCEHGBEjKxQjBR4KLwUMHyAfJS4JKgMWCiosDi4vFB4EByQgEwwxDiQKLB0xFAEjBiInHxAuFg8QMQ8KCiYlEh4LKxgIJyEMIgkfJwoLLx4eJQodFCguJyouKw4YDRwMFxAfDxoNDh4NJBEsLBMlJAEKJhMJCgMYDyskExAxFwckGxgpBjEQJSQcGR0wFhosKDAkDCgcDRICLAQhEgcVGy8GGxQQBAIhCgsSLCEFIA0WLRIqCRctDxYrCxwjEA0WERgaGSsTMC8kDTELLRILAhYrLBMeGxIVHRotJQYVIRYSMCAdLywRKQUcIBEQMSouHhUSDAYuGwcWFC0hDx4cByMMDiIXMC8UFCUwDhkWJA0WDCQxDQQcLxYRER4lBBQCGComDRAnMQUuDCwiDgYwKhYIFgUxBhgRISACHhciFR4gJhwfGgEMHBUQFy4IHQoMIwYIHwMaIxEDFx4JFCEeGhEYJhsFBiskIQwpBQ0bGCwxIyIkCh8gGisIJhksECUMIBUMBCUZGS0ZGA4xFBknIiEcFiAYGRoZISkNHS8LJi8TFx0FBSsWGikOERMNDiomKxcKKyMkGQwuGgoVCxAYMAgYISIEFB0PHCoxMBcpJSoZKSgSCCEdCSoBICMXHzEYKB4ICi8ZJBEQJR4FDQoJJSMjEggQIhUoFhcYIiUfIxALDA4qChcQCRkqCxkOHgciFgsPEBMEFxYRJjAZGSgNFg0hCCYZIRAIFCYcHBkDHC0VDRcjMRQVCRwkLQsfMDEGLh4QEwYTBRoGFSUoECUXGwssIgsIGRglAxYrLSUbICkQIx8DEzAlBywcJB0wHSETJwspMBEUEi8XEQsmJRIZCy4eFhwQJiYSCyAtKwgEKhgZERgtMS4VEDEIHiACFQYFKCgUKREOLS8bEQ4BDAYNFgUZLBgHJiUeECkjAwINKg4HBCsIJwkNFRAuDQ4TKSUsCgUGBBQkJDEgIQ4iIBwsLw0OEighKxgQDhkuKzAuESEhICwKBxcsFyUgHRIKLQ0rExQCGC0LBCwYLw4FKCInISYXLCgnHh0TFQUtKgcXBAkSLgcYJSYEGxYnLyccEBIBGhocJx4kMQ8vFR0KGR4nGCQeBgYcDx0uKSUgJy4WLQImEgMhChkxDCIkGQgjJAcsIRIYExYSISQbDSgQMR0VDAQZKA4MEiorGQ0aGxQEJRkQExkIFwMqHQQiIy4VBBokICsoLiQIKw0nHhILDw8xHBYCGCsbIiwxFBASLxIcKC8QKDAnBS4kHAMnEA8IHi8jLSwYCiYQDA0jHiwRBAwhJDAWISUNLwQEKgMuLA4WLBsBIw==",
          "dtype": "i1"
         },
         "xaxis": "x",
         "y": {
          "bdata": "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",
          "dtype": "i4"
         },
         "yaxis": "y"
        },
        {
         "hovertemplate": "class=Business<br>days_left=%{x}<br>price=%{y}<extra></extra>",
         "legendgroup": "Business",
         "marker": {
          "color": "#EF553B",
          "symbol": "circle"
         },
         "mode": "markers",
         "name": "Business",
         "showlegend": true,
         "type": "scattergl",
         "x": {
          "bdata": "EygFBSgbDRgPBBsZCC8NHSYcByIDESkgDiAIKS0cIhUICSUSKykLFRAaKi8IMAotDx8tHxATIzETHC0oMSQdDxcrEAknDSAOIBgsHwMdLSoUCxElHBQbIiELGyMtBgccDyANIBARBCQLBxwWJS4gAyYcFhEuAQ4kKSAkKSUVDSwxIy0NKgspGwwOEiQbGAgkDxQMJA8mKRIiJhspIA4hIy4RJBMeCBYXHScxDA8NJBMgIyQsFyEeJRIaDR0KDgcnFiwqMCwZJgsjCAUxIiwgHioxJQgiMRoJJTEVAyUYJCEtHSElGQsOKyEXFx0iDy8mDBAfJxwxIS4IJREwICkHLigwDhwOLhMNCh4ZEyEnCQ4bGSYXGisuFQUWCy4hDDAFCxgdFiYWKQkuGBAuJDESJxwKLg8qKyYWBiIoDDEWGgUUDAggCy4lHiUVJAgLBwoaLSYxBhMsEiYjBigDFxsdHSQLKSMjEhAGGg4fEgwnGh0cGiEVGSQLJwcZDQswIQUkIgcaKhAwHSolDA0cJCQfKAYWEQwHCConCxQjCRogDR0xDBATDzAWCCQtLxAZBw4qJxAnGA4hFCIdESoJEwwjAgQhFhQgFRgwIhocBS4xHyYLIhopFi4QEx4EIxkSIB8JLRQdHxwqHxgvEQMnFCcnHRIaGA8TLwMCIwkWESUgCwksJwQGIAwWLSwCFhQSKhcLLAwlLBgkGgsUFyIoGwgKEAgPDCQKIAIeLQMJBhgcJyEdGgwKESUsDCUjLyASBDANIwktGyYMCgUrGQ4vDiQhDQIULAUCKRYNIgMmJw4rLhEgKiosFw0FKw==",
          "dtype": "i1"
         },
         "xaxis": "x",
         "y": {
          "bdata": "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",
          "dtype": "i4"
         },
         "yaxis": "y"
        }
       ],
       "layout": {
        "legend": {
         "title": {
          "text": "class"
         },
         "tracegroupgap": 0
        },
        "margin": {
         "t": 60
        },
        "template": {
         "data": {
          "bar": [
           {
            "error_x": {
             "color": "#2a3f5f"
            },
            "error_y": {
             "color": "#2a3f5f"
            },
            "marker": {
             "line": {
              "color": "#E5ECF6",
              "width": 0.5
             },
             "pattern": {
              "fillmode": "overlay",
              "size": 10,
              "solidity": 0.2
             }
            },
            "type": "bar"
           }
          ],
          "barpolar": [
           {
            "marker": {
             "line": {
              "color": "#E5ECF6",
              "width": 0.5
             },
             "pattern": {
              "fillmode": "overlay",
              "size": 10,
              "solidity": 0.2
             }
            },
            "type": "barpolar"
           }
          ],
          "carpet": [
           {
            "aaxis": {
             "endlinecolor": "#2a3f5f",
             "gridcolor": "white",
             "linecolor": "white",
             "minorgridcolor": "white",
             "startlinecolor": "#2a3f5f"
            },
            "baxis": {
             "endlinecolor": "#2a3f5f",
             "gridcolor": "white",
             "linecolor": "white",
             "minorgridcolor": "white",
             "startlinecolor": "#2a3f5f"
            },
            "type": "carpet"
           }
          ],
          "choropleth": [
           {
            "colorbar": {
             "outlinewidth": 0,
             "ticks": ""
            },
            "type": "choropleth"
           }
          ],
          "contour": [
           {
            "colorbar": {
             "outlinewidth": 0,
             "ticks": ""
            },
            "colorscale": [
             [
              0,
              "#0d0887"
             ],
             [
              0.1111111111111111,
              "#46039f"
             ],
             [
              0.2222222222222222,
              "#7201a8"
             ],
             [
              0.3333333333333333,
              "#9c179e"
             ],
             [
              0.4444444444444444,
              "#bd3786"
             ],
             [
              0.5555555555555556,
              "#d8576b"
             ],
             [
              0.6666666666666666,
              "#ed7953"
             ],
             [
              0.7777777777777778,
              "#fb9f3a"
             ],
             [
              0.8888888888888888,
              "#fdca26"
             ],
             [
              1,
              "#f0f921"
             ]
            ],
            "type": "contour"
           }
          ],
          "contourcarpet": [
           {
            "colorbar": {
             "outlinewidth": 0,
             "ticks": ""
            },
            "type": "contourcarpet"
           }
          ],
          "heatmap": [
           {
            "colorbar": {
             "outlinewidth": 0,
             "ticks": ""
            },
            "colorscale": [
             [
              0,
              "#0d0887"
             ],
             [
              0.1111111111111111,
              "#46039f"
             ],
             [
              0.2222222222222222,
              "#7201a8"
             ],
             [
              0.3333333333333333,
              "#9c179e"
             ],
             [
              0.4444444444444444,
              "#bd3786"
             ],
             [
              0.5555555555555556,
              "#d8576b"
             ],
             [
              0.6666666666666666,
              "#ed7953"
             ],
             [
              0.7777777777777778,
              "#fb9f3a"
             ],
             [
              0.8888888888888888,
              "#fdca26"
             ],
             [
              1,
              "#f0f921"
             ]
            ],
            "type": "heatmap"
           }
          ],
          "histogram": [
           {
            "marker": {
             "pattern": {
              "fillmode": "overlay",
              "size": 10,
              "solidity": 0.2
             }
            },
            "type": "histogram"
           }
          ],
          "histogram2d": [
           {
            "colorbar": {
             "outlinewidth": 0,
             "ticks": ""
            },
            "colorscale": [
             [
              0,
              "#0d0887"
             ],
             [
              0.1111111111111111,
              "#46039f"
             ],
             [
              0.2222222222222222,
              "#7201a8"
             ],
             [
              0.3333333333333333,
              "#9c179e"
             ],
             [
              0.4444444444444444,
              "#bd3786"
             ],
             [
              0.5555555555555556,
              "#d8576b"
             ],
             [
              0.6666666666666666,
              "#ed7953"
             ],
             [
              0.7777777777777778,
              "#fb9f3a"
             ],
             [
              0.8888888888888888,
              "#fdca26"
             ],
             [
              1,
              "#f0f921"
             ]
            ],
            "type": "histogram2d"
           }
          ],
          "histogram2dcontour": [
           {
            "colorbar": {
             "outlinewidth": 0,
             "ticks": ""
            },
            "colorscale": [
             [
              0,
              "#0d0887"
             ],
             [
              0.1111111111111111,
              "#46039f"
             ],
             [
              0.2222222222222222,
              "#7201a8"
             ],
             [
              0.3333333333333333,
              "#9c179e"
             ],
             [
              0.4444444444444444,
              "#bd3786"
             ],
             [
              0.5555555555555556,
              "#d8576b"
             ],
             [
              0.6666666666666666,
              "#ed7953"
             ],
             [
              0.7777777777777778,
              "#fb9f3a"
             ],
             [
              0.8888888888888888,
              "#fdca26"
             ],
             [
              1,
              "#f0f921"
             ]
            ],
            "type": "histogram2dcontour"
           }
          ],
          "mesh3d": [
           {
            "colorbar": {
             "outlinewidth": 0,
             "ticks": ""
            },
            "type": "mesh3d"
           }
          ],
          "parcoords": [
           {
            "line": {
             "colorbar": {
              "outlinewidth": 0,
              "ticks": ""
             }
            },
            "type": "parcoords"
           }
          ],
          "pie": [
           {
            "automargin": true,
            "type": "pie"
           }
          ],
          "scatter": [
           {
            "fillpattern": {
             "fillmode": "overlay",
             "size": 10,
             "solidity": 0.2
            },
            "type": "scatter"
           }
          ],
          "scatter3d": [
           {
            "line": {
             "colorbar": {
              "outlinewidth": 0,
              "ticks": ""
             }
            },
            "marker": {
             "colorbar": {
              "outlinewidth": 0,
              "ticks": ""
             }
            },
            "type": "scatter3d"
           }
          ],
          "scattercarpet": [
           {
            "marker": {
             "colorbar": {
              "outlinewidth": 0,
              "ticks": ""
             }
            },
            "type": "scattercarpet"
           }
          ],
          "scattergeo": [
           {
            "marker": {
             "colorbar": {
              "outlinewidth": 0,
              "ticks": ""
             }
            },
            "type": "scattergeo"
           }
          ],
          "scattergl": [
           {
            "marker": {
             "colorbar": {
              "outlinewidth": 0,
              "ticks": ""
             }
            },
            "type": "scattergl"
           }
          ],
          "scattermap": [
           {
            "marker": {
             "colorbar": {
              "outlinewidth": 0,
              "ticks": ""
             }
            },
            "type": "scattermap"
           }
          ],
          "scattermapbox": [
           {
            "marker": {
             "colorbar": {
              "outlinewidth": 0,
              "ticks": ""
             }
            },
            "type": "scattermapbox"
           }
          ],
          "scatterpolar": [
           {
            "marker": {
             "colorbar": {
              "outlinewidth": 0,
              "ticks": ""
             }
            },
            "type": "scatterpolar"
           }
          ],
          "scatterpolargl": [
           {
            "marker": {
             "colorbar": {
              "outlinewidth": 0,
              "ticks": ""
             }
            },
            "type": "scatterpolargl"
           }
          ],
          "scatterternary": [
           {
            "marker": {
             "colorbar": {
              "outlinewidth": 0,
              "ticks": ""
             }
            },
            "type": "scatterternary"
           }
          ],
          "surface": [
           {
            "colorbar": {
             "outlinewidth": 0,
             "ticks": ""
            },
            "colorscale": [
             [
              0,
              "#0d0887"
             ],
             [
              0.1111111111111111,
              "#46039f"
             ],
             [
              0.2222222222222222,
              "#7201a8"
             ],
             [
              0.3333333333333333,
              "#9c179e"
             ],
             [
              0.4444444444444444,
              "#bd3786"
             ],
             [
              0.5555555555555556,
              "#d8576b"
             ],
             [
              0.6666666666666666,
              "#ed7953"
             ],
             [
              0.7777777777777778,
              "#fb9f3a"
             ],
             [
              0.8888888888888888,
              "#fdca26"
             ],
             [
              1,
              "#f0f921"
             ]
            ],
            "type": "surface"
           }
          ],
          "table": [
           {
            "cells": {
             "fill": {
              "color": "#EBF0F8"
             },
             "line": {
              "color": "white"
             }
            },
            "header": {
             "fill": {
              "color": "#C8D4E3"
             },
             "line": {
              "color": "white"
             }
            },
            "type": "table"
           }
          ]
         },
         "layout": {
          "annotationdefaults": {
           "arrowcolor": "#2a3f5f",
           "arrowhead": 0,
           "arrowwidth": 1
          },
          "autotypenumbers": "strict",
          "coloraxis": {
           "colorbar": {
            "outlinewidth": 0,
            "ticks": ""
           }
          },
          "colorscale": {
           "diverging": [
            [
             0,
             "#8e0152"
            ],
            [
             0.1,
             "#c51b7d"
            ],
            [
             0.2,
             "#de77ae"
            ],
            [
             0.3,
             "#f1b6da"
            ],
            [
             0.4,
             "#fde0ef"
            ],
            [
             0.5,
             "#f7f7f7"
            ],
            [
             0.6,
             "#e6f5d0"
            ],
            [
             0.7,
             "#b8e186"
            ],
            [
             0.8,
             "#7fbc41"
            ],
            [
             0.9,
             "#4d9221"
            ],
            [
             1,
             "#276419"
            ]
           ],
           "sequential": [
            [
             0,
             "#0d0887"
            ],
            [
             0.1111111111111111,
             "#46039f"
            ],
            [
             0.2222222222222222,
             "#7201a8"
            ],
            [
             0.3333333333333333,
             "#9c179e"
            ],
            [
             0.4444444444444444,
             "#bd3786"
            ],
            [
             0.5555555555555556,
             "#d8576b"
            ],
            [
             0.6666666666666666,
             "#ed7953"
            ],
            [
             0.7777777777777778,
             "#fb9f3a"
            ],
            [
             0.8888888888888888,
             "#fdca26"
            ],
            [
             1,
             "#f0f921"
            ]
           ],
           "sequentialminus": [
            [
             0,
             "#0d0887"
            ],
            [
             0.1111111111111111,
             "#46039f"
            ],
            [
             0.2222222222222222,
             "#7201a8"
            ],
            [
             0.3333333333333333,
             "#9c179e"
            ],
            [
             0.4444444444444444,
             "#bd3786"
            ],
            [
             0.5555555555555556,
             "#d8576b"
            ],
            [
             0.6666666666666666,
             "#ed7953"
            ],
            [
             0.7777777777777778,
             "#fb9f3a"
            ],
            [
             0.8888888888888888,
             "#fdca26"
            ],
            [
             1,
             "#f0f921"
            ]
           ]
          },
          "colorway": [
           "#636efa",
           "#EF553B",
           "#00cc96",
           "#ab63fa",
           "#FFA15A",
           "#19d3f3",
           "#FF6692",
           "#B6E880",
           "#FF97FF",
           "#FECB52"
          ],
          "font": {
           "color": "#2a3f5f"
          },
          "geo": {
           "bgcolor": "white",
           "lakecolor": "white",
           "landcolor": "#E5ECF6",
           "showlakes": true,
           "showland": true,
           "subunitcolor": "white"
          },
          "hoverlabel": {
           "align": "left"
          },
          "hovermode": "closest",
          "mapbox": {
           "style": "light"
          },
          "paper_bgcolor": "white",
          "plot_bgcolor": "#E5ECF6",
          "polar": {
           "angularaxis": {
            "gridcolor": "white",
            "linecolor": "white",
            "ticks": ""
           },
           "bgcolor": "#E5ECF6",
           "radialaxis": {
            "gridcolor": "white",
            "linecolor": "white",
            "ticks": ""
           }
          },
          "scene": {
           "xaxis": {
            "backgroundcolor": "#E5ECF6",
            "gridcolor": "white",
            "gridwidth": 2,
            "linecolor": "white",
            "showbackground": true,
            "ticks": "",
            "zerolinecolor": "white"
           },
           "yaxis": {
            "backgroundcolor": "#E5ECF6",
            "gridcolor": "white",
            "gridwidth": 2,
            "linecolor": "white",
            "showbackground": true,
            "ticks": "",
            "zerolinecolor": "white"
           },
           "zaxis": {
            "backgroundcolor": "#E5ECF6",
            "gridcolor": "white",
            "gridwidth": 2,
            "linecolor": "white",
            "showbackground": true,
            "ticks": "",
            "zerolinecolor": "white"
           }
          },
          "shapedefaults": {
           "line": {
            "color": "#2a3f5f"
           }
          },
          "ternary": {
           "aaxis": {
            "gridcolor": "white",
            "linecolor": "white",
            "ticks": ""
           },
           "baxis": {
            "gridcolor": "white",
            "linecolor": "white",
            "ticks": ""
           },
           "bgcolor": "#E5ECF6",
           "caxis": {
            "gridcolor": "white",
            "linecolor": "white",
            "ticks": ""
           }
          },
          "title": {
           "x": 0.05
          },
          "xaxis": {
           "automargin": true,
           "gridcolor": "white",
           "linecolor": "white",
           "ticks": "",
           "title": {
            "standoff": 15
           },
           "zerolinecolor": "white",
           "zerolinewidth": 2
          },
          "yaxis": {
           "automargin": true,
           "gridcolor": "white",
           "linecolor": "white",
           "ticks": "",
           "title": {
            "standoff": 15
           },
           "zerolinecolor": "white",
           "zerolinewidth": 2
          }
         }
        },
        "xaxis": {
         "anchor": "y",
         "domain": [
          0,
          1
         ],
         "title": {
          "text": "days_left"
         }
        },
        "yaxis": {
         "anchor": "x",
         "domain": [
          0,
          1
         ],
         "title": {
          "text": "price"
         }
        }
       }
      }
     },
     "metadata": {},
     "output_type": "display_data"
    }
   ],
   "source": [
    "if SIMPLIFIED_PLOTS:\n",
    "    fig = px.scatter(df_raw_sample, x=\"days_left\", y=\"price\", color=\"class\")\n",
    "else: \n",
    "    fig = px.scatter(df_raw, x=\"days_left\", y=\"price\", color=\"class\", marginal_y=\"violin\", marginal_x=\"box\", trendline=\"ols\", template=\"simple_white\")\n",
    "fig.show()"
   ]
  },
  {
   "cell_type": "code",
   "execution_count": 17,
   "id": "a22b2472",
   "metadata": {},
   "outputs": [
    {
     "data": {
      "application/vnd.plotly.v1+json": {
       "config": {
        "plotlyServerURL": "https://plot.ly"
       },
       "data": [
        {
         "hovertemplate": "class=Economy<br>duration=%{x}<br>price=%{y}<extra></extra>",
         "legendgroup": "Economy",
         "marker": {
          "color": "#636efa",
          "symbol": "circle"
         },
         "mode": "markers",
         "name": "Economy",
         "showlegend": true,
         "type": "scattergl",
         "x": {
          "bdata": "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",
          "dtype": "f8"
         },
         "xaxis": "x",
         "y": {
          "bdata": "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",
          "dtype": "i4"
         },
         "yaxis": "y"
        },
        {
         "hovertemplate": "class=Business<br>duration=%{x}<br>price=%{y}<extra></extra>",
         "legendgroup": "Business",
         "marker": {
          "color": "#EF553B",
          "symbol": "circle"
         },
         "mode": "markers",
         "name": "Business",
         "showlegend": true,
         "type": "scattergl",
         "x": {
          "bdata": "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",
          "dtype": "f8"
         },
         "xaxis": "x",
         "y": {
          "bdata": "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",
          "dtype": "i4"
         },
         "yaxis": "y"
        }
       ],
       "layout": {
        "legend": {
         "title": {
          "text": "class"
         },
         "tracegroupgap": 0
        },
        "margin": {
         "t": 60
        },
        "template": {
         "data": {
          "bar": [
           {
            "error_x": {
             "color": "#2a3f5f"
            },
            "error_y": {
             "color": "#2a3f5f"
            },
            "marker": {
             "line": {
              "color": "#E5ECF6",
              "width": 0.5
             },
             "pattern": {
              "fillmode": "overlay",
              "size": 10,
              "solidity": 0.2
             }
            },
            "type": "bar"
           }
          ],
          "barpolar": [
           {
            "marker": {
             "line": {
              "color": "#E5ECF6",
              "width": 0.5
             },
             "pattern": {
              "fillmode": "overlay",
              "size": 10,
              "solidity": 0.2
             }
            },
            "type": "barpolar"
           }
          ],
          "carpet": [
           {
            "aaxis": {
             "endlinecolor": "#2a3f5f",
             "gridcolor": "white",
             "linecolor": "white",
             "minorgridcolor": "white",
             "startlinecolor": "#2a3f5f"
            },
            "baxis": {
             "endlinecolor": "#2a3f5f",
             "gridcolor": "white",
             "linecolor": "white",
             "minorgridcolor": "white",
             "startlinecolor": "#2a3f5f"
            },
            "type": "carpet"
           }
          ],
          "choropleth": [
           {
            "colorbar": {
             "outlinewidth": 0,
             "ticks": ""
            },
            "type": "choropleth"
           }
          ],
          "contour": [
           {
            "colorbar": {
             "outlinewidth": 0,
             "ticks": ""
            },
            "colorscale": [
             [
              0,
              "#0d0887"
             ],
             [
              0.1111111111111111,
              "#46039f"
             ],
             [
              0.2222222222222222,
              "#7201a8"
             ],
             [
              0.3333333333333333,
              "#9c179e"
             ],
             [
              0.4444444444444444,
              "#bd3786"
             ],
             [
              0.5555555555555556,
              "#d8576b"
             ],
             [
              0.6666666666666666,
              "#ed7953"
             ],
             [
              0.7777777777777778,
              "#fb9f3a"
             ],
             [
              0.8888888888888888,
              "#fdca26"
             ],
             [
              1,
              "#f0f921"
             ]
            ],
            "type": "contour"
           }
          ],
          "contourcarpet": [
           {
            "colorbar": {
             "outlinewidth": 0,
             "ticks": ""
            },
            "type": "contourcarpet"
           }
          ],
          "heatmap": [
           {
            "colorbar": {
             "outlinewidth": 0,
             "ticks": ""
            },
            "colorscale": [
             [
              0,
              "#0d0887"
             ],
             [
              0.1111111111111111,
              "#46039f"
             ],
             [
              0.2222222222222222,
              "#7201a8"
             ],
             [
              0.3333333333333333,
              "#9c179e"
             ],
             [
              0.4444444444444444,
              "#bd3786"
             ],
             [
              0.5555555555555556,
              "#d8576b"
             ],
             [
              0.6666666666666666,
              "#ed7953"
             ],
             [
              0.7777777777777778,
              "#fb9f3a"
             ],
             [
              0.8888888888888888,
              "#fdca26"
             ],
             [
              1,
              "#f0f921"
             ]
            ],
            "type": "heatmap"
           }
          ],
          "histogram": [
           {
            "marker": {
             "pattern": {
              "fillmode": "overlay",
              "size": 10,
              "solidity": 0.2
             }
            },
            "type": "histogram"
           }
          ],
          "histogram2d": [
           {
            "colorbar": {
             "outlinewidth": 0,
             "ticks": ""
            },
            "colorscale": [
             [
              0,
              "#0d0887"
             ],
             [
              0.1111111111111111,
              "#46039f"
             ],
             [
              0.2222222222222222,
              "#7201a8"
             ],
             [
              0.3333333333333333,
              "#9c179e"
             ],
             [
              0.4444444444444444,
              "#bd3786"
             ],
             [
              0.5555555555555556,
              "#d8576b"
             ],
             [
              0.6666666666666666,
              "#ed7953"
             ],
             [
              0.7777777777777778,
              "#fb9f3a"
             ],
             [
              0.8888888888888888,
              "#fdca26"
             ],
             [
              1,
              "#f0f921"
             ]
            ],
            "type": "histogram2d"
           }
          ],
          "histogram2dcontour": [
           {
            "colorbar": {
             "outlinewidth": 0,
             "ticks": ""
            },
            "colorscale": [
             [
              0,
              "#0d0887"
             ],
             [
              0.1111111111111111,
              "#46039f"
             ],
             [
              0.2222222222222222,
              "#7201a8"
             ],
             [
              0.3333333333333333,
              "#9c179e"
             ],
             [
              0.4444444444444444,
              "#bd3786"
             ],
             [
              0.5555555555555556,
              "#d8576b"
             ],
             [
              0.6666666666666666,
              "#ed7953"
             ],
             [
              0.7777777777777778,
              "#fb9f3a"
             ],
             [
              0.8888888888888888,
              "#fdca26"
             ],
             [
              1,
              "#f0f921"
             ]
            ],
            "type": "histogram2dcontour"
           }
          ],
          "mesh3d": [
           {
            "colorbar": {
             "outlinewidth": 0,
             "ticks": ""
            },
            "type": "mesh3d"
           }
          ],
          "parcoords": [
           {
            "line": {
             "colorbar": {
              "outlinewidth": 0,
              "ticks": ""
             }
            },
            "type": "parcoords"
           }
          ],
          "pie": [
           {
            "automargin": true,
            "type": "pie"
           }
          ],
          "scatter": [
           {
            "fillpattern": {
             "fillmode": "overlay",
             "size": 10,
             "solidity": 0.2
            },
            "type": "scatter"
           }
          ],
          "scatter3d": [
           {
            "line": {
             "colorbar": {
              "outlinewidth": 0,
              "ticks": ""
             }
            },
            "marker": {
             "colorbar": {
              "outlinewidth": 0,
              "ticks": ""
             }
            },
            "type": "scatter3d"
           }
          ],
          "scattercarpet": [
           {
            "marker": {
             "colorbar": {
              "outlinewidth": 0,
              "ticks": ""
             }
            },
            "type": "scattercarpet"
           }
          ],
          "scattergeo": [
           {
            "marker": {
             "colorbar": {
              "outlinewidth": 0,
              "ticks": ""
             }
            },
            "type": "scattergeo"
           }
          ],
          "scattergl": [
           {
            "marker": {
             "colorbar": {
              "outlinewidth": 0,
              "ticks": ""
             }
            },
            "type": "scattergl"
           }
          ],
          "scattermap": [
           {
            "marker": {
             "colorbar": {
              "outlinewidth": 0,
              "ticks": ""
             }
            },
            "type": "scattermap"
           }
          ],
          "scattermapbox": [
           {
            "marker": {
             "colorbar": {
              "outlinewidth": 0,
              "ticks": ""
             }
            },
            "type": "scattermapbox"
           }
          ],
          "scatterpolar": [
           {
            "marker": {
             "colorbar": {
              "outlinewidth": 0,
              "ticks": ""
             }
            },
            "type": "scatterpolar"
           }
          ],
          "scatterpolargl": [
           {
            "marker": {
             "colorbar": {
              "outlinewidth": 0,
              "ticks": ""
             }
            },
            "type": "scatterpolargl"
           }
          ],
          "scatterternary": [
           {
            "marker": {
             "colorbar": {
              "outlinewidth": 0,
              "ticks": ""
             }
            },
            "type": "scatterternary"
           }
          ],
          "surface": [
           {
            "colorbar": {
             "outlinewidth": 0,
             "ticks": ""
            },
            "colorscale": [
             [
              0,
              "#0d0887"
             ],
             [
              0.1111111111111111,
              "#46039f"
             ],
             [
              0.2222222222222222,
              "#7201a8"
             ],
             [
              0.3333333333333333,
              "#9c179e"
             ],
             [
              0.4444444444444444,
              "#bd3786"
             ],
             [
              0.5555555555555556,
              "#d8576b"
             ],
             [
              0.6666666666666666,
              "#ed7953"
             ],
             [
              0.7777777777777778,
              "#fb9f3a"
             ],
             [
              0.8888888888888888,
              "#fdca26"
             ],
             [
              1,
              "#f0f921"
             ]
            ],
            "type": "surface"
           }
          ],
          "table": [
           {
            "cells": {
             "fill": {
              "color": "#EBF0F8"
             },
             "line": {
              "color": "white"
             }
            },
            "header": {
             "fill": {
              "color": "#C8D4E3"
             },
             "line": {
              "color": "white"
             }
            },
            "type": "table"
           }
          ]
         },
         "layout": {
          "annotationdefaults": {
           "arrowcolor": "#2a3f5f",
           "arrowhead": 0,
           "arrowwidth": 1
          },
          "autotypenumbers": "strict",
          "coloraxis": {
           "colorbar": {
            "outlinewidth": 0,
            "ticks": ""
           }
          },
          "colorscale": {
           "diverging": [
            [
             0,
             "#8e0152"
            ],
            [
             0.1,
             "#c51b7d"
            ],
            [
             0.2,
             "#de77ae"
            ],
            [
             0.3,
             "#f1b6da"
            ],
            [
             0.4,
             "#fde0ef"
            ],
            [
             0.5,
             "#f7f7f7"
            ],
            [
             0.6,
             "#e6f5d0"
            ],
            [
             0.7,
             "#b8e186"
            ],
            [
             0.8,
             "#7fbc41"
            ],
            [
             0.9,
             "#4d9221"
            ],
            [
             1,
             "#276419"
            ]
           ],
           "sequential": [
            [
             0,
             "#0d0887"
            ],
            [
             0.1111111111111111,
             "#46039f"
            ],
            [
             0.2222222222222222,
             "#7201a8"
            ],
            [
             0.3333333333333333,
             "#9c179e"
            ],
            [
             0.4444444444444444,
             "#bd3786"
            ],
            [
             0.5555555555555556,
             "#d8576b"
            ],
            [
             0.6666666666666666,
             "#ed7953"
            ],
            [
             0.7777777777777778,
             "#fb9f3a"
            ],
            [
             0.8888888888888888,
             "#fdca26"
            ],
            [
             1,
             "#f0f921"
            ]
           ],
           "sequentialminus": [
            [
             0,
             "#0d0887"
            ],
            [
             0.1111111111111111,
             "#46039f"
            ],
            [
             0.2222222222222222,
             "#7201a8"
            ],
            [
             0.3333333333333333,
             "#9c179e"
            ],
            [
             0.4444444444444444,
             "#bd3786"
            ],
            [
             0.5555555555555556,
             "#d8576b"
            ],
            [
             0.6666666666666666,
             "#ed7953"
            ],
            [
             0.7777777777777778,
             "#fb9f3a"
            ],
            [
             0.8888888888888888,
             "#fdca26"
            ],
            [
             1,
             "#f0f921"
            ]
           ]
          },
          "colorway": [
           "#636efa",
           "#EF553B",
           "#00cc96",
           "#ab63fa",
           "#FFA15A",
           "#19d3f3",
           "#FF6692",
           "#B6E880",
           "#FF97FF",
           "#FECB52"
          ],
          "font": {
           "color": "#2a3f5f"
          },
          "geo": {
           "bgcolor": "white",
           "lakecolor": "white",
           "landcolor": "#E5ECF6",
           "showlakes": true,
           "showland": true,
           "subunitcolor": "white"
          },
          "hoverlabel": {
           "align": "left"
          },
          "hovermode": "closest",
          "mapbox": {
           "style": "light"
          },
          "paper_bgcolor": "white",
          "plot_bgcolor": "#E5ECF6",
          "polar": {
           "angularaxis": {
            "gridcolor": "white",
            "linecolor": "white",
            "ticks": ""
           },
           "bgcolor": "#E5ECF6",
           "radialaxis": {
            "gridcolor": "white",
            "linecolor": "white",
            "ticks": ""
           }
          },
          "scene": {
           "xaxis": {
            "backgroundcolor": "#E5ECF6",
            "gridcolor": "white",
            "gridwidth": 2,
            "linecolor": "white",
            "showbackground": true,
            "ticks": "",
            "zerolinecolor": "white"
           },
           "yaxis": {
            "backgroundcolor": "#E5ECF6",
            "gridcolor": "white",
            "gridwidth": 2,
            "linecolor": "white",
            "showbackground": true,
            "ticks": "",
            "zerolinecolor": "white"
           },
           "zaxis": {
            "backgroundcolor": "#E5ECF6",
            "gridcolor": "white",
            "gridwidth": 2,
            "linecolor": "white",
            "showbackground": true,
            "ticks": "",
            "zerolinecolor": "white"
           }
          },
          "shapedefaults": {
           "line": {
            "color": "#2a3f5f"
           }
          },
          "ternary": {
           "aaxis": {
            "gridcolor": "white",
            "linecolor": "white",
            "ticks": ""
           },
           "baxis": {
            "gridcolor": "white",
            "linecolor": "white",
            "ticks": ""
           },
           "bgcolor": "#E5ECF6",
           "caxis": {
            "gridcolor": "white",
            "linecolor": "white",
            "ticks": ""
           }
          },
          "title": {
           "x": 0.05
          },
          "xaxis": {
           "automargin": true,
           "gridcolor": "white",
           "linecolor": "white",
           "ticks": "",
           "title": {
            "standoff": 15
           },
           "zerolinecolor": "white",
           "zerolinewidth": 2
          },
          "yaxis": {
           "automargin": true,
           "gridcolor": "white",
           "linecolor": "white",
           "ticks": "",
           "title": {
            "standoff": 15
           },
           "zerolinecolor": "white",
           "zerolinewidth": 2
          }
         }
        },
        "xaxis": {
         "anchor": "y",
         "domain": [
          0,
          1
         ],
         "title": {
          "text": "duration"
         }
        },
        "yaxis": {
         "anchor": "x",
         "domain": [
          0,
          1
         ],
         "title": {
          "text": "price"
         }
        }
       }
      }
     },
     "metadata": {},
     "output_type": "display_data"
    }
   ],
   "source": [
    "if SIMPLIFIED_PLOTS:\n",
    "    fig = px.scatter(df_raw_sample, x=\"duration\", y=\"price\", color=\"class\")\n",
    "else:\n",
    "    fig = px.scatter(df_raw, x=\"duration\", y=\"price\", color=\"class\", marginal_y=\"violin\", marginal_x=\"box\", trendline=\"ols\", template=\"simple_white\")\n",
    "fig.show()"
   ]
  },
  {
   "cell_type": "markdown",
   "id": "80bcbbfc",
   "metadata": {},
   "source": [
    "TODO:\n",
    "- X Stats analysis\n",
    "- X Auto Correlation \n",
    "- X Leverage for third dataset \n",
    "- residuals vs x 4th dataset"
   ]
  },
  {
   "cell_type": "code",
   "execution_count": null,
   "id": "95a0861e",
   "metadata": {},
   "outputs": [],
   "source": []
  }
 ],
 "metadata": {
  "kernelspec": {
   "display_name": "tru_linear_models_assignments",
   "language": "python",
   "name": "python3"
  },
  "language_info": {
   "codemirror_mode": {
    "name": "ipython",
    "version": 3
   },
   "file_extension": ".py",
   "mimetype": "text/x-python",
   "name": "python",
   "nbconvert_exporter": "python",
   "pygments_lexer": "ipython3",
   "version": "3.12.9"
  }
 },
 "nbformat": 4,
 "nbformat_minor": 5
}
